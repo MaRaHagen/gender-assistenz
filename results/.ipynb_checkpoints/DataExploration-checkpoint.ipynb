{
 "cells": [
  {
   "cell_type": "markdown",
   "id": "c89eb756-dfa7-47a2-83e1-e9a5b4069123",
   "metadata": {},
   "source": [
    "# Datenanalyse \n",
    "\n",
    "In diesem Notebook sollen einige grundlegende Informationen über die Evaluationsdaten gesammelt werden.\n",
    "Wie viele im Durchschnitt, wie viele Artikel ganz ohne Gendergrund. Die Folgende Werte sollen ermittelt werden: \n",
    "Anzahl der Artikel, Anzahl der Sätze, Anzahl maskuliner Nomen/Pronomen, Anzahl generischer Maskulina (True Positives), Singular vs. Plural-Verteilung, Nomen vs. Pronomen-Verteilung, Kasusverteilung, Morphologische Vielfalt (Lemma-Anzahl), Satzlängenverteilung. "
   ]
  },
  {
   "cell_type": "code",
   "execution_count": 23,
   "id": "4285dc43-f06f-420a-8eaa-23e6b30bb9d4",
   "metadata": {},
   "outputs": [],
   "source": [
    "import pandas as pd\n",
    "import numpy as np\n",
    "import re\n",
    "import spacy\n",
    "from collections import defaultdict\n",
    "from tqdm import tqdm\n",
    "\n",
    "import matplotlib.pyplot as plt\n",
    "\n",
    "\n",
    "# Enable tqdm in pandas\n",
    "tqdm.pandas()\n",
    "nlp = spacy.load(\"de_dep_news_trf\")"
   ]
  },
  {
   "cell_type": "code",
   "execution_count": 24,
   "id": "1f26cceb-c927-43bb-8fca-77a3f51eeebf",
   "metadata": {},
   "outputs": [],
   "source": [
    "df = pd.read_pickle('data_prepared_frame.pkl')\n"
   ]
  },
  {
   "cell_type": "code",
   "execution_count": 25,
   "id": "e1e6639f-9f20-4b65-918b-069bc03897d1",
   "metadata": {},
   "outputs": [
    {
     "name": "stdout",
     "output_type": "stream",
     "text": [
      "es sind: 2265 Artikel enthalten\n",
      "Gesamtanzahl der Sätze: 47540\n",
      "Gesamtanzahl der Maskulinen Nomen und pronomen: 84008\n",
      "Gesamtanzahl der generisch Maskulinen Nomen und pronomen: 9119\n"
     ]
    }
   ],
   "source": [
    "#Anzahl der Artikel\n",
    "print('es sind: ' + str(len(df)) + ' Artikel enthalten')\n",
    "\n",
    "#Anzahl der Sätze\n",
    "total_sentences = df[\"Sentences_marked\"].apply(len).sum()\n",
    "print(f\"Gesamtanzahl der Sätze: {total_sentences}\")\n",
    "\n",
    "#Enthaltene Maskulina\n",
    "def count_masculins(text):\n",
    "    if not isinstance(text, str):\n",
    "        return 0\n",
    "    \n",
    "    matches = re.findall(r'(?:\\!\\-\\-|\\-\\-)[^\\s.,!?;:()\\[\\]{}<>\"]+', text)\n",
    "    return len(matches)\n",
    "num_masculins = df[\"Text\"].apply(count_masculins).sum()\n",
    "print(f\"Gesamtanzahl der Maskulinen Nomen und pronomen: {num_masculins}\")\n",
    "\n",
    "#Generische Maskulina\n",
    "def count_generic_masculins(text):\n",
    "    if not isinstance(text, str):\n",
    "        return 0\n",
    "    \n",
    "    matches = re.findall(r'(?:\\!\\-\\-)[^\\s.,!?;:()\\[\\]{}<>\"]+', text)\n",
    "    return len(matches)\n",
    "num_generic_masculins = df[\"Text\"].apply(count_generic_masculins).sum()\n",
    "print(f\"Gesamtanzahl der generisch Maskulinen Nomen und pronomen: {num_generic_masculins}\")\n"
   ]
  },
  {
   "cell_type": "markdown",
   "id": "78a11305-35c6-4cf0-924a-66342e1e8d6f",
   "metadata": {},
   "source": [
    "Im Folgenden wird spacy für einige detailiertere Analysen verwendet"
   ]
  },
  {
   "cell_type": "code",
   "execution_count": 26,
   "id": "6d189f3f-f409-4dee-b436-acc5e2f02959",
   "metadata": {
    "scrolled": true
   },
   "outputs": [
    {
     "name": "stderr",
     "output_type": "stream",
     "text": [
      "  0%|                                                  | 0/2265 [00:00<?, ?it/s]/opt/anaconda3/envs/spacy310/lib/python3.10/site-packages/thinc/shims/pytorch.py:109: FutureWarning: `torch.cuda.amp.autocast(args...)` is deprecated. Please use `torch.amp.autocast('cuda', args...)` instead.\n",
      "  with torch.cuda.amp.autocast(self._mixed_precision):\n",
      "  0%|                                          | 3/2265 [00:02<36:33,  1.03it/s]"
     ]
    },
    {
     "name": "stdout",
     "output_type": "stream",
     "text": [
      "missing info for: Abgeordneten in Article 3\n"
     ]
    },
    {
     "name": "stderr",
     "output_type": "stream",
     "text": [
      "  0%|                                          | 4/2265 [00:05<54:22,  1.44s/it]"
     ]
    },
    {
     "name": "stdout",
     "output_type": "stream",
     "text": [
      "missing info for: Abgeordneten in Article 3\n",
      "missing info for: Göttinger in Article 4\n"
     ]
    },
    {
     "name": "stderr",
     "output_type": "stream",
     "text": [
      "  1%|▏                                        | 13/2265 [00:16<46:47,  1.25s/it]"
     ]
    },
    {
     "name": "stdout",
     "output_type": "stream",
     "text": [
      "missing info for: Abgeordneten in Article 12\n"
     ]
    },
    {
     "name": "stderr",
     "output_type": "stream",
     "text": [
      "  1%|▍                                        | 22/2265 [00:21<17:51,  2.09it/s]"
     ]
    },
    {
     "name": "stdout",
     "output_type": "stream",
     "text": [
      "missing info for: Abgeordneten in Article 21\n"
     ]
    },
    {
     "name": "stderr",
     "output_type": "stream",
     "text": [
      "  1%|▍                                        | 24/2265 [00:21<12:37,  2.96it/s]"
     ]
    },
    {
     "name": "stdout",
     "output_type": "stream",
     "text": [
      "missing info for: Arbeitnehmers in Article 24\n"
     ]
    },
    {
     "name": "stderr",
     "output_type": "stream",
     "text": [
      "  1%|▍                                        | 27/2265 [00:25<35:08,  1.06it/s]"
     ]
    },
    {
     "name": "stdout",
     "output_type": "stream",
     "text": [
      "missing info for: Moskauer in Article 27\n"
     ]
    },
    {
     "name": "stderr",
     "output_type": "stream",
     "text": [
      "  1%|▌                                        | 30/2265 [00:28<35:58,  1.04it/s]"
     ]
    },
    {
     "name": "stdout",
     "output_type": "stream",
     "text": [
      "missing info for: \" in Article 29\n"
     ]
    },
    {
     "name": "stderr",
     "output_type": "stream",
     "text": [
      "  2%|▋                                        | 36/2265 [00:30<12:35,  2.95it/s]"
     ]
    },
    {
     "name": "stdout",
     "output_type": "stream",
     "text": [
      "missing info for: Arbeitnehmern in Article 36\n"
     ]
    },
    {
     "name": "stderr",
     "output_type": "stream",
     "text": [
      "  2%|▉                                        | 50/2265 [00:34<10:09,  3.63it/s]"
     ]
    },
    {
     "name": "stdout",
     "output_type": "stream",
     "text": [
      "missing info for: Einwohnern in Article 49\n"
     ]
    },
    {
     "name": "stderr",
     "output_type": "stream",
     "text": [
      "  4%|█▌                                       | 89/2265 [00:47<18:52,  1.92it/s]"
     ]
    },
    {
     "name": "stdout",
     "output_type": "stream",
     "text": [
      "missing info for: Brandenburger in Article 89\n",
      "missing info for: Brandenburger in Article 89\n"
     ]
    },
    {
     "name": "stderr",
     "output_type": "stream",
     "text": [
      "  4%|█▋                                       | 91/2265 [00:50<26:36,  1.36it/s]"
     ]
    },
    {
     "name": "stdout",
     "output_type": "stream",
     "text": [
      "missing info for: Jedermann in Article 90\n"
     ]
    },
    {
     "name": "stderr",
     "output_type": "stream",
     "text": [
      "  4%|█▋                                       | 93/2265 [00:51<24:29,  1.48it/s]"
     ]
    },
    {
     "name": "stdout",
     "output_type": "stream",
     "text": [
      "missing info for: Arbeitnehmern in Article 94\n"
     ]
    },
    {
     "name": "stderr",
     "output_type": "stream",
     "text": [
      "  7%|██▊                                     | 156/2265 [01:11<10:34,  3.32it/s]"
     ]
    },
    {
     "name": "stdout",
     "output_type": "stream",
     "text": [
      "missing info for: jeder in Article 157\n"
     ]
    },
    {
     "name": "stderr",
     "output_type": "stream",
     "text": [
      "  7%|██▊                                     | 160/2265 [01:15<24:16,  1.45it/s]"
     ]
    },
    {
     "name": "stdout",
     "output_type": "stream",
     "text": [
      "missing info for: ihm in Article 159\n",
      "missing info for: ihm in Article 159\n"
     ]
    },
    {
     "name": "stderr",
     "output_type": "stream",
     "text": [
      "  7%|██▉                                     | 166/2265 [01:20<31:37,  1.11it/s]"
     ]
    },
    {
     "name": "stdout",
     "output_type": "stream",
     "text": [
      "missing info for: ihn in Article 165\n"
     ]
    },
    {
     "name": "stderr",
     "output_type": "stream",
     "text": [
      "  9%|███▍                                    | 197/2265 [01:34<20:29,  1.68it/s]"
     ]
    },
    {
     "name": "stdout",
     "output_type": "stream",
     "text": [
      "missing info for: Essener in Article 196\n"
     ]
    },
    {
     "name": "stderr",
     "output_type": "stream",
     "text": [
      " 10%|███▉                                    | 226/2265 [01:43<08:16,  4.11it/s]"
     ]
    },
    {
     "name": "stdout",
     "output_type": "stream",
     "text": [
      "missing info for: Heimbewohner in Article 223\n"
     ]
    },
    {
     "name": "stderr",
     "output_type": "stream",
     "text": [
      " 11%|████▏                                   | 238/2265 [01:46<06:53,  4.91it/s]"
     ]
    },
    {
     "name": "stdout",
     "output_type": "stream",
     "text": [
      "missing info for: Vierte in Article 238\n"
     ]
    },
    {
     "name": "stderr",
     "output_type": "stream",
     "text": [
      " 15%|█████▉                                  | 338/2265 [02:42<16:38,  1.93it/s]"
     ]
    },
    {
     "name": "stdout",
     "output_type": "stream",
     "text": [
      "missing info for: Dresdener in Article 337\n",
      "missing info for: Dresdener in Article 337\n"
     ]
    },
    {
     "name": "stderr",
     "output_type": "stream",
     "text": [
      " 17%|██████▊                                 | 387/2265 [02:57<09:41,  3.23it/s]"
     ]
    },
    {
     "name": "stdout",
     "output_type": "stream",
     "text": [
      "missing info for: Arbeitnehmern in Article 387\n"
     ]
    },
    {
     "name": "stderr",
     "output_type": "stream",
     "text": [
      " 18%|███████▍                                | 419/2265 [03:26<20:26,  1.50it/s]"
     ]
    },
    {
     "name": "stdout",
     "output_type": "stream",
     "text": [
      "missing info for: Jeder in Article 418\n"
     ]
    },
    {
     "name": "stderr",
     "output_type": "stream",
     "text": [
      " 19%|███████▋                                | 432/2265 [03:32<15:56,  1.92it/s]"
     ]
    },
    {
     "name": "stdout",
     "output_type": "stream",
     "text": [
      "missing info for: Arbeitnehmern in Article 431\n"
     ]
    },
    {
     "name": "stderr",
     "output_type": "stream",
     "text": [
      " 19%|███████▋                                | 435/2265 [03:34<17:27,  1.75it/s]"
     ]
    },
    {
     "name": "stdout",
     "output_type": "stream",
     "text": [
      "missing info for: Frankfurter in Article 434\n"
     ]
    },
    {
     "name": "stderr",
     "output_type": "stream",
     "text": [
      " 20%|███████▉                                | 447/2265 [03:43<24:44,  1.22it/s]"
     ]
    },
    {
     "name": "stdout",
     "output_type": "stream",
     "text": [
      "missing info for: Arbeitnehmern in Article 447\n"
     ]
    },
    {
     "name": "stderr",
     "output_type": "stream",
     "text": [
      " 20%|████████                                | 453/2265 [03:46<15:17,  1.98it/s]"
     ]
    },
    {
     "name": "stdout",
     "output_type": "stream",
     "text": [
      "missing info for: Einwohnern in Article 452\n"
     ]
    },
    {
     "name": "stderr",
     "output_type": "stream",
     "text": [
      " 21%|████████▏                               | 466/2265 [03:51<09:59,  3.00it/s]"
     ]
    },
    {
     "name": "stdout",
     "output_type": "stream",
     "text": [
      "missing info for: Arbeitnehmern in Article 465\n"
     ]
    },
    {
     "name": "stderr",
     "output_type": "stream",
     "text": [
      " 21%|████████▎                               | 474/2265 [03:54<08:43,  3.42it/s]"
     ]
    },
    {
     "name": "stdout",
     "output_type": "stream",
     "text": [
      "missing info for: Arbeitnehmern in Article 473\n"
     ]
    },
    {
     "name": "stderr",
     "output_type": "stream",
     "text": [
      " 22%|████████▋                               | 492/2265 [04:03<43:25,  1.47s/it]"
     ]
    },
    {
     "name": "stdout",
     "output_type": "stream",
     "text": [
      "missing info for: jeder in Article 492\n"
     ]
    },
    {
     "name": "stderr",
     "output_type": "stream",
     "text": [
      " 22%|████████▊                               | 502/2265 [04:13<22:51,  1.29it/s]"
     ]
    },
    {
     "name": "stdout",
     "output_type": "stream",
     "text": [
      "missing info for: den in Article 501\n"
     ]
    },
    {
     "name": "stderr",
     "output_type": "stream",
     "text": [
      " 23%|█████████                               | 515/2265 [04:21<16:27,  1.77it/s]"
     ]
    },
    {
     "name": "stdout",
     "output_type": "stream",
     "text": [
      "missing info for: Arbeitnehmern in Article 514\n"
     ]
    },
    {
     "name": "stderr",
     "output_type": "stream",
     "text": [
      " 26%|██████████▍                             | 591/2265 [04:54<18:04,  1.54it/s]"
     ]
    },
    {
     "name": "stdout",
     "output_type": "stream",
     "text": [
      "missing info for: Prager in Article 591\n",
      "missing info for: anderen in Article 591\n"
     ]
    },
    {
     "name": "stderr",
     "output_type": "stream",
     "text": [
      " 26%|██████████▌                             | 599/2265 [05:08<34:12,  1.23s/it]"
     ]
    },
    {
     "name": "stdout",
     "output_type": "stream",
     "text": [
      "missing info for: Zuschauern in Article 599\n"
     ]
    },
    {
     "name": "stderr",
     "output_type": "stream",
     "text": [
      " 28%|███████████▏                            | 631/2265 [05:27<23:07,  1.18it/s]"
     ]
    },
    {
     "name": "stdout",
     "output_type": "stream",
     "text": [
      "missing info for: Lotsen in Article 631\n"
     ]
    },
    {
     "name": "stderr",
     "output_type": "stream",
     "text": [
      " 30%|███████████▊                            | 669/2265 [05:46<12:51,  2.07it/s]"
     ]
    },
    {
     "name": "stdout",
     "output_type": "stream",
     "text": [
      "missing info for: jeder in Article 668\n"
     ]
    },
    {
     "name": "stderr",
     "output_type": "stream",
     "text": [
      " 30%|███████████▉                            | 674/2265 [05:49<12:39,  2.09it/s]"
     ]
    },
    {
     "name": "stdout",
     "output_type": "stream",
     "text": [
      "missing info for: Einwohnern in Article 673\n"
     ]
    },
    {
     "name": "stderr",
     "output_type": "stream",
     "text": [
      " 31%|████████████▎                           | 697/2265 [05:57<08:25,  3.10it/s]"
     ]
    },
    {
     "name": "stdout",
     "output_type": "stream",
     "text": [
      "missing info for: jeder in Article 697\n"
     ]
    },
    {
     "name": "stderr",
     "output_type": "stream",
     "text": [
      " 32%|████████████▌                           | 714/2265 [06:12<17:11,  1.50it/s]"
     ]
    },
    {
     "name": "stdout",
     "output_type": "stream",
     "text": [
      "missing info for: einzelne in Article 714\n"
     ]
    },
    {
     "name": "stderr",
     "output_type": "stream",
     "text": [
      " 32%|████████████▋                           | 719/2265 [06:21<32:17,  1.25s/it]"
     ]
    },
    {
     "name": "stdout",
     "output_type": "stream",
     "text": [
      "missing info for: jeder in Article 718\n"
     ]
    },
    {
     "name": "stderr",
     "output_type": "stream",
     "text": [
      " 33%|█████████████▏                          | 746/2265 [06:34<09:00,  2.81it/s]"
     ]
    },
    {
     "name": "stdout",
     "output_type": "stream",
     "text": [
      "missing info for: Arbeitgebers in Article 745\n"
     ]
    },
    {
     "name": "stderr",
     "output_type": "stream",
     "text": [
      " 33%|█████████████▏                          | 747/2265 [06:34<08:14,  3.07it/s]"
     ]
    },
    {
     "name": "stdout",
     "output_type": "stream",
     "text": [
      "missing info for: Arbeitgebers in Article 747\n",
      "missing info for: Arbeitnehmers in Article 747\n",
      "missing info for: Arbeitnehmern in Article 747\n"
     ]
    },
    {
     "name": "stderr",
     "output_type": "stream",
     "text": [
      " 33%|█████████████▏                          | 748/2265 [06:35<12:03,  2.10it/s]"
     ]
    },
    {
     "name": "stdout",
     "output_type": "stream",
     "text": [
      "missing info for: Arbeitnehmern in Article 747\n"
     ]
    },
    {
     "name": "stderr",
     "output_type": "stream",
     "text": [
      " 34%|█████████████▊                          | 779/2265 [06:48<05:23,  4.60it/s]"
     ]
    },
    {
     "name": "stdout",
     "output_type": "stream",
     "text": [
      "missing info for: Münchener in Article 777\n"
     ]
    },
    {
     "name": "stderr",
     "output_type": "stream",
     "text": [
      " 35%|██████████████                          | 799/2265 [06:53<07:28,  3.27it/s]"
     ]
    },
    {
     "name": "stdout",
     "output_type": "stream",
     "text": [
      "missing info for: Asterix-Liebhaber in Article 798\n"
     ]
    },
    {
     "name": "stderr",
     "output_type": "stream",
     "text": [
      " 36%|██████████████▌                         | 823/2265 [07:03<24:50,  1.03s/it]"
     ]
    },
    {
     "name": "stdout",
     "output_type": "stream",
     "text": [
      "missing info for: Essigtrinkern in Article 823\n",
      "missing info for: Kleinstwinzern in Article 823\n"
     ]
    },
    {
     "name": "stderr",
     "output_type": "stream",
     "text": [
      " 37%|██████████████▉                         | 849/2265 [07:33<18:44,  1.26it/s]"
     ]
    },
    {
     "name": "stdout",
     "output_type": "stream",
     "text": [
      "missing info for: Einwohnern in Article 848\n"
     ]
    },
    {
     "name": "stderr",
     "output_type": "stream",
     "text": [
      " 38%|███████████████                         | 851/2265 [07:35<18:20,  1.29it/s]"
     ]
    },
    {
     "name": "stdout",
     "output_type": "stream",
     "text": [
      "missing info for: Arbeitnehmern in Article 851\n"
     ]
    },
    {
     "name": "stderr",
     "output_type": "stream",
     "text": [
      " 38%|███████████████▏                        | 863/2265 [07:49<21:41,  1.08it/s]"
     ]
    },
    {
     "name": "stdout",
     "output_type": "stream",
     "text": [
      "missing info for: anderen in Article 862\n",
      "missing info for: Arbeitnehmern in Article 863\n"
     ]
    },
    {
     "name": "stderr",
     "output_type": "stream",
     "text": [
      " 39%|███████████████▍                        | 876/2265 [08:03<13:24,  1.73it/s]"
     ]
    },
    {
     "name": "stdout",
     "output_type": "stream",
     "text": [
      "missing info for: Andalusier in Article 876\n"
     ]
    },
    {
     "name": "stderr",
     "output_type": "stream",
     "text": [
      " 39%|███████████████▌                        | 881/2265 [08:06<12:31,  1.84it/s]"
     ]
    },
    {
     "name": "stdout",
     "output_type": "stream",
     "text": [
      "missing info for: Frankfurter in Article 880\n"
     ]
    },
    {
     "name": "stderr",
     "output_type": "stream",
     "text": [
      " 40%|███████████████▉                        | 904/2265 [08:17<17:50,  1.27it/s]"
     ]
    },
    {
     "name": "stdout",
     "output_type": "stream",
     "text": [
      "missing info for: Jeder in Article 903\n"
     ]
    },
    {
     "name": "stderr",
     "output_type": "stream",
     "text": [
      " 42%|████████████████▋                       | 943/2265 [08:32<07:29,  2.94it/s]"
     ]
    },
    {
     "name": "stdout",
     "output_type": "stream",
     "text": [
      "missing info for: Arbeitnehmern in Article 943\n",
      "missing info for: Arbeitnehmern in Article 943\n",
      "missing info for: Arbeitgebers in Article 943\n",
      "missing info for: Arbeitnehmern in Article 943\n",
      "missing info for: Arbeitnehmern in Article 943\n"
     ]
    },
    {
     "name": "stderr",
     "output_type": "stream",
     "text": [
      " 42%|████████████████▋                       | 946/2265 [08:38<24:54,  1.13s/it]"
     ]
    },
    {
     "name": "stdout",
     "output_type": "stream",
     "text": [
      "missing info for: jeder in Article 946\n"
     ]
    },
    {
     "name": "stderr",
     "output_type": "stream",
     "text": [
      " 42%|████████████████▉                       | 961/2265 [08:51<17:54,  1.21it/s]"
     ]
    },
    {
     "name": "stdout",
     "output_type": "stream",
     "text": [
      "missing info for: jeder in Article 961\n"
     ]
    },
    {
     "name": "stderr",
     "output_type": "stream",
     "text": [
      " 43%|█████████████████▍                      | 985/2265 [09:06<10:04,  2.12it/s]"
     ]
    },
    {
     "name": "stdout",
     "output_type": "stream",
     "text": [
      "missing info for: Arbeitgebers in Article 984\n"
     ]
    },
    {
     "name": "stderr",
     "output_type": "stream",
     "text": [
      " 46%|█████████████████▉                     | 1040/2265 [09:30<20:25,  1.00s/it]"
     ]
    },
    {
     "name": "stdout",
     "output_type": "stream",
     "text": [
      "missing info for: Zuschauern in Article 1039\n",
      "missing info for: Zuschauern in Article 1039\n"
     ]
    },
    {
     "name": "stderr",
     "output_type": "stream",
     "text": [
      " 46%|█████████████████▉                     | 1041/2265 [09:31<21:36,  1.06s/it]"
     ]
    },
    {
     "name": "stdout",
     "output_type": "stream",
     "text": [
      "missing info for: Einwohnern in Article 1040\n"
     ]
    },
    {
     "name": "stderr",
     "output_type": "stream",
     "text": [
      " 46%|██████████████████                     | 1049/2265 [09:35<16:31,  1.23it/s]"
     ]
    },
    {
     "name": "stdout",
     "output_type": "stream",
     "text": [
      "missing info for: wer in Article 1049\n"
     ]
    },
    {
     "name": "stderr",
     "output_type": "stream",
     "text": [
      " 47%|██████████████████▏                    | 1058/2265 [09:42<11:16,  1.78it/s]"
     ]
    },
    {
     "name": "stdout",
     "output_type": "stream",
     "text": [
      "missing info for: Alteigentümer in Article 1057\n",
      "missing info for: Alteigentümer in Article 1057\n"
     ]
    },
    {
     "name": "stderr",
     "output_type": "stream",
     "text": [
      " 48%|██████████████████▌                    | 1079/2265 [09:54<09:13,  2.14it/s]"
     ]
    },
    {
     "name": "stdout",
     "output_type": "stream",
     "text": [
      "missing info for: Parlamentarier---Delegation in Article 1079\n"
     ]
    },
    {
     "name": "stderr",
     "output_type": "stream",
     "text": [
      " 48%|██████████████████▋                    | 1083/2265 [09:56<10:08,  1.94it/s]"
     ]
    },
    {
     "name": "stdout",
     "output_type": "stream",
     "text": [
      "missing info for: Privatvermittler in Article 1083\n"
     ]
    },
    {
     "name": "stderr",
     "output_type": "stream",
     "text": [
      " 50%|███████████████████▎                   | 1124/2265 [10:13<11:36,  1.64it/s]"
     ]
    },
    {
     "name": "stdout",
     "output_type": "stream",
     "text": [
      "missing info for: Niemand in Article 1123\n"
     ]
    },
    {
     "name": "stderr",
     "output_type": "stream",
     "text": [
      " 51%|███████████████████▊                   | 1149/2265 [10:27<14:02,  1.32it/s]"
     ]
    },
    {
     "name": "stdout",
     "output_type": "stream",
     "text": [
      "missing info for: Arbeitnehmern in Article 1148\n"
     ]
    },
    {
     "name": "stderr",
     "output_type": "stream",
     "text": [
      " 52%|████████████████████▍                  | 1186/2265 [10:51<13:20,  1.35it/s]"
     ]
    },
    {
     "name": "stdout",
     "output_type": "stream",
     "text": [
      "missing info for: Arbeitnehmern in Article 1185\n"
     ]
    },
    {
     "name": "stderr",
     "output_type": "stream",
     "text": [
      " 53%|████████████████████▌                  | 1196/2265 [10:54<06:32,  2.73it/s]"
     ]
    },
    {
     "name": "stdout",
     "output_type": "stream",
     "text": [
      "missing info for: jeder in Article 1195\n"
     ]
    },
    {
     "name": "stderr",
     "output_type": "stream",
     "text": [
      " 55%|█████████████████████▍                 | 1244/2265 [11:17<22:07,  1.30s/it]"
     ]
    },
    {
     "name": "stdout",
     "output_type": "stream",
     "text": [
      "missing info for: Erwachsene in Article 1243\n"
     ]
    },
    {
     "name": "stderr",
     "output_type": "stream",
     "text": [
      " 55%|█████████████████████▍                 | 1247/2265 [11:20<22:39,  1.34s/it]"
     ]
    },
    {
     "name": "stdout",
     "output_type": "stream",
     "text": [
      "missing info for: jeder in Article 1246\n"
     ]
    },
    {
     "name": "stderr",
     "output_type": "stream",
     "text": [
      " 55%|█████████████████████▌                 | 1250/2265 [11:24<19:05,  1.13s/it]"
     ]
    },
    {
     "name": "stdout",
     "output_type": "stream",
     "text": [
      "missing info for: Users in Article 1249\n"
     ]
    },
    {
     "name": "stderr",
     "output_type": "stream",
     "text": [
      " 56%|█████████████████████▋                 | 1263/2265 [11:33<08:49,  1.89it/s]"
     ]
    },
    {
     "name": "stdout",
     "output_type": "stream",
     "text": [
      "missing info for: Steuersparer in Article 1263\n"
     ]
    },
    {
     "name": "stderr",
     "output_type": "stream",
     "text": [
      " 56%|█████████████████████▊                 | 1264/2265 [11:34<10:04,  1.66it/s]"
     ]
    },
    {
     "name": "stdout",
     "output_type": "stream",
     "text": [
      "missing info for: Jeder in Article 1264\n"
     ]
    },
    {
     "name": "stderr",
     "output_type": "stream",
     "text": [
      " 56%|█████████████████████▊                 | 1269/2265 [11:37<09:42,  1.71it/s]"
     ]
    },
    {
     "name": "stdout",
     "output_type": "stream",
     "text": [
      "missing info for: Einwohnern in Article 1268\n"
     ]
    },
    {
     "name": "stderr",
     "output_type": "stream",
     "text": [
      " 57%|██████████████████████                 | 1282/2265 [11:43<07:55,  2.07it/s]"
     ]
    },
    {
     "name": "stdout",
     "output_type": "stream",
     "text": [
      "missing info for: anderen in Article 1281\n"
     ]
    },
    {
     "name": "stderr",
     "output_type": "stream",
     "text": [
      " 57%|██████████████████████▏                | 1289/2265 [11:46<07:00,  2.32it/s]"
     ]
    },
    {
     "name": "stdout",
     "output_type": "stream",
     "text": [
      "missing info for: Arbeitnehmern in Article 1289\n",
      "missing info for: Arbeitnehmern in Article 1289\n"
     ]
    },
    {
     "name": "stderr",
     "output_type": "stream",
     "text": [
      " 59%|███████████████████████▏               | 1347/2265 [12:11<07:12,  2.12it/s]"
     ]
    },
    {
     "name": "stdout",
     "output_type": "stream",
     "text": [
      "missing info for: Arbeitnehmern in Article 1346\n"
     ]
    },
    {
     "name": "stderr",
     "output_type": "stream",
     "text": [
      " 60%|███████████████████████▏               | 1348/2265 [12:12<09:14,  1.65it/s]"
     ]
    },
    {
     "name": "stdout",
     "output_type": "stream",
     "text": [
      "missing info for: Alteigentümer in Article 1348\n"
     ]
    },
    {
     "name": "stderr",
     "output_type": "stream",
     "text": [
      " 60%|███████████████████████▏               | 1349/2265 [12:14<15:21,  1.01s/it]"
     ]
    },
    {
     "name": "stdout",
     "output_type": "stream",
     "text": [
      "missing info for: Alteigentümer in Article 1348\n",
      "missing info for: Alteigentümer in Article 1348\n",
      "missing info for: Alteigentümer in Article 1348\n",
      "missing info for: ihm in Article 1349\n"
     ]
    },
    {
     "name": "stderr",
     "output_type": "stream",
     "text": [
      " 60%|███████████████████████▎               | 1351/2265 [12:16<16:43,  1.10s/it]"
     ]
    },
    {
     "name": "stdout",
     "output_type": "stream",
     "text": [
      "missing info for: Budapester in Article 1350\n"
     ]
    },
    {
     "name": "stderr",
     "output_type": "stream",
     "text": [
      " 60%|███████████████████████▎               | 1355/2265 [12:21<15:56,  1.05s/it]"
     ]
    },
    {
     "name": "stdout",
     "output_type": "stream",
     "text": [
      "missing info for: Einwohnern in Article 1355\n",
      "missing info for: Einwohnern in Article 1355\n"
     ]
    },
    {
     "name": "stderr",
     "output_type": "stream",
     "text": [
      " 60%|███████████████████████▎               | 1356/2265 [12:22<17:04,  1.13s/it]"
     ]
    },
    {
     "name": "stdout",
     "output_type": "stream",
     "text": [
      "missing info for: Arbeitnehmern in Article 1355\n"
     ]
    },
    {
     "name": "stderr",
     "output_type": "stream",
     "text": [
      " 60%|███████████████████████▍               | 1359/2265 [12:28<25:43,  1.70s/it]"
     ]
    },
    {
     "name": "stdout",
     "output_type": "stream",
     "text": [
      "missing info for: ihm in Article 1358\n"
     ]
    },
    {
     "name": "stderr",
     "output_type": "stream",
     "text": [
      " 60%|███████████████████████▌               | 1368/2265 [12:36<11:48,  1.27it/s]"
     ]
    },
    {
     "name": "stdout",
     "output_type": "stream",
     "text": [
      "missing info for: Arbeitnehmern in Article 1367\n"
     ]
    },
    {
     "name": "stderr",
     "output_type": "stream",
     "text": [
      " 61%|███████████████████████▊               | 1384/2265 [12:44<04:48,  3.05it/s]"
     ]
    },
    {
     "name": "stdout",
     "output_type": "stream",
     "text": [
      "missing info for: Jeder in Article 1384\n"
     ]
    },
    {
     "name": "stderr",
     "output_type": "stream",
     "text": [
      " 63%|████████████████████████▋              | 1434/2265 [13:10<04:28,  3.09it/s]"
     ]
    },
    {
     "name": "stdout",
     "output_type": "stream",
     "text": [
      "missing info for: Wolfsburger in Article 1433\n"
     ]
    },
    {
     "name": "stderr",
     "output_type": "stream",
     "text": [
      " 65%|█████████████████████████▎             | 1473/2265 [13:27<10:32,  1.25it/s]"
     ]
    },
    {
     "name": "stdout",
     "output_type": "stream",
     "text": [
      "missing info for: den in Article 1473\n"
     ]
    },
    {
     "name": "stderr",
     "output_type": "stream",
     "text": [
      " 66%|█████████████████████████▊             | 1497/2265 [13:53<14:08,  1.10s/it]"
     ]
    },
    {
     "name": "stdout",
     "output_type": "stream",
     "text": [
      "missing info for: jeder in Article 1497\n"
     ]
    },
    {
     "name": "stderr",
     "output_type": "stream",
     "text": [
      " 67%|██████████████████████████▏            | 1524/2265 [14:10<06:42,  1.84it/s]"
     ]
    },
    {
     "name": "stdout",
     "output_type": "stream",
     "text": [
      "missing info for: Einwohnern in Article 1524\n"
     ]
    },
    {
     "name": "stderr",
     "output_type": "stream",
     "text": [
      " 70%|███████████████████████████▎           | 1588/2265 [14:36<09:19,  1.21it/s]"
     ]
    },
    {
     "name": "stdout",
     "output_type": "stream",
     "text": [
      "missing info for: Arbeitnehmern in Article 1588\n",
      "missing info for: Arbeitnehmern in Article 1588\n"
     ]
    },
    {
     "name": "stderr",
     "output_type": "stream",
     "text": [
      " 70%|███████████████████████████▍           | 1590/2265 [14:39<10:22,  1.08it/s]"
     ]
    },
    {
     "name": "stdout",
     "output_type": "stream",
     "text": [
      "missing info for: Arbeitgebers in Article 1589\n",
      "missing info for: Jeder in Article 1590\n"
     ]
    },
    {
     "name": "stderr",
     "output_type": "stream",
     "text": [
      " 70%|███████████████████████████▍           | 1591/2265 [14:41<14:34,  1.30s/it]"
     ]
    },
    {
     "name": "stdout",
     "output_type": "stream",
     "text": [
      "missing info for: Jeder in Article 1590\n"
     ]
    },
    {
     "name": "stderr",
     "output_type": "stream",
     "text": [
      " 70%|███████████████████████████▍           | 1594/2265 [14:44<12:33,  1.12s/it]"
     ]
    },
    {
     "name": "stdout",
     "output_type": "stream",
     "text": [
      "missing info for: Arbeitnehmern in Article 1594\n",
      "missing info for: Arbeitnehmers in Article 1594\n",
      "missing info for: Arbeitnehmern in Article 1594\n"
     ]
    },
    {
     "name": "stderr",
     "output_type": "stream",
     "text": [
      " 70%|███████████████████████████▍           | 1596/2265 [14:47<15:38,  1.40s/it]"
     ]
    },
    {
     "name": "stdout",
     "output_type": "stream",
     "text": [
      "missing info for: Arbeitnehmern in Article 1596\n",
      "missing info for: Arbeitnehmern in Article 1596\n"
     ]
    },
    {
     "name": "stderr",
     "output_type": "stream",
     "text": [
      " 71%|███████████████████████████▌           | 1600/2265 [14:52<14:23,  1.30s/it]"
     ]
    },
    {
     "name": "stdout",
     "output_type": "stream",
     "text": [
      "missing info for: Risikokapital-Anleger in Article 1600\n"
     ]
    },
    {
     "name": "stderr",
     "output_type": "stream",
     "text": [
      " 71%|███████████████████████████▌           | 1603/2265 [14:55<11:08,  1.01s/it]"
     ]
    },
    {
     "name": "stdout",
     "output_type": "stream",
     "text": [
      "missing info for: Einwohnern in Article 1602\n"
     ]
    },
    {
     "name": "stderr",
     "output_type": "stream",
     "text": [
      " 71%|███████████████████████████▊           | 1613/2265 [15:00<06:49,  1.59it/s]"
     ]
    },
    {
     "name": "stdout",
     "output_type": "stream",
     "text": [
      "missing info for: jeder in Article 1612\n"
     ]
    },
    {
     "name": "stderr",
     "output_type": "stream",
     "text": [
      " 72%|████████████████████████████▏          | 1639/2265 [15:12<04:31,  2.30it/s]"
     ]
    },
    {
     "name": "stdout",
     "output_type": "stream",
     "text": [
      "missing info for: anderen in Article 1639\n"
     ]
    },
    {
     "name": "stderr",
     "output_type": "stream",
     "text": [
      " 72%|████████████████████████████▏          | 1640/2265 [15:14<10:32,  1.01s/it]"
     ]
    },
    {
     "name": "stdout",
     "output_type": "stream",
     "text": [
      "missing info for: Arbeitgebers in Article 1640\n"
     ]
    },
    {
     "name": "stderr",
     "output_type": "stream",
     "text": [
      " 73%|████████████████████████████▌          | 1658/2265 [15:22<04:02,  2.50it/s]"
     ]
    },
    {
     "name": "stdout",
     "output_type": "stream",
     "text": [
      "missing info for: Züricher in Article 1657\n"
     ]
    },
    {
     "name": "stderr",
     "output_type": "stream",
     "text": [
      " 74%|████████████████████████████▊          | 1670/2265 [15:26<04:16,  2.32it/s]"
     ]
    },
    {
     "name": "stdout",
     "output_type": "stream",
     "text": [
      "missing info for: Sparbuchbesitzer in Article 1669\n",
      "missing info for: Einwohnern in Article 1670\n"
     ]
    },
    {
     "name": "stderr",
     "output_type": "stream",
     "text": [
      " 74%|████████████████████████████▊          | 1674/2265 [15:30<06:19,  1.56it/s]"
     ]
    },
    {
     "name": "stdout",
     "output_type": "stream",
     "text": [
      "missing info for: Wiesbadener in Article 1673\n"
     ]
    },
    {
     "name": "stderr",
     "output_type": "stream",
     "text": [
      " 75%|█████████████████████████████▏         | 1695/2265 [15:40<04:03,  2.34it/s]"
     ]
    },
    {
     "name": "stdout",
     "output_type": "stream",
     "text": [
      "missing info for: Arbeitgebers in Article 1695\n"
     ]
    },
    {
     "name": "stderr",
     "output_type": "stream",
     "text": [
      " 75%|█████████████████████████████▎         | 1704/2265 [15:43<02:35,  3.61it/s]"
     ]
    },
    {
     "name": "stdout",
     "output_type": "stream",
     "text": [
      "missing info for: Hacker in Article 1704\n"
     ]
    },
    {
     "name": "stderr",
     "output_type": "stream",
     "text": [
      " 75%|█████████████████████████████▍         | 1708/2265 [15:48<07:18,  1.27it/s]"
     ]
    },
    {
     "name": "stdout",
     "output_type": "stream",
     "text": [
      "missing info for: Stuttgarter in Article 1708\n"
     ]
    },
    {
     "name": "stderr",
     "output_type": "stream",
     "text": [
      " 76%|█████████████████████████████▊         | 1730/2265 [15:56<02:04,  4.29it/s]"
     ]
    },
    {
     "name": "stdout",
     "output_type": "stream",
     "text": [
      "missing info for: jeder in Article 1729\n"
     ]
    },
    {
     "name": "stderr",
     "output_type": "stream",
     "text": [
      " 77%|██████████████████████████████         | 1744/2265 [16:07<07:14,  1.20it/s]"
     ]
    },
    {
     "name": "stdout",
     "output_type": "stream",
     "text": [
      "missing info for: Frankfurter in Article 1743\n"
     ]
    },
    {
     "name": "stderr",
     "output_type": "stream",
     "text": [
      " 77%|██████████████████████████████         | 1745/2265 [16:07<06:26,  1.35it/s]"
     ]
    },
    {
     "name": "stdout",
     "output_type": "stream",
     "text": [
      "missing info for: Kasseler in Article 1744\n",
      "missing info for: Kasseler in Article 1744\n"
     ]
    },
    {
     "name": "stderr",
     "output_type": "stream",
     "text": [
      " 77%|██████████████████████████████▏        | 1754/2265 [16:12<02:49,  3.01it/s]"
     ]
    },
    {
     "name": "stdout",
     "output_type": "stream",
     "text": [
      "missing info for: Frankfurter in Article 1754\n"
     ]
    },
    {
     "name": "stderr",
     "output_type": "stream",
     "text": [
      " 77%|██████████████████████████████▏        | 1755/2265 [16:15<09:29,  1.12s/it]"
     ]
    },
    {
     "name": "stdout",
     "output_type": "stream",
     "text": [
      "missing info for: Brüsseler in Article 1754\n"
     ]
    },
    {
     "name": "stderr",
     "output_type": "stream",
     "text": [
      " 78%|██████████████████████████████▌        | 1775/2265 [16:24<05:27,  1.50it/s]"
     ]
    },
    {
     "name": "stdout",
     "output_type": "stream",
     "text": [
      "missing info for: Jeder in Article 1774\n"
     ]
    },
    {
     "name": "stderr",
     "output_type": "stream",
     "text": [
      " 78%|██████████████████████████████▌        | 1778/2265 [16:27<05:37,  1.45it/s]"
     ]
    },
    {
     "name": "stdout",
     "output_type": "stream",
     "text": [
      "missing info for: Arbeitnehmern in Article 1777\n"
     ]
    },
    {
     "name": "stderr",
     "output_type": "stream",
     "text": [
      " 79%|██████████████████████████████▋        | 1779/2265 [16:27<04:57,  1.63it/s]"
     ]
    },
    {
     "name": "stdout",
     "output_type": "stream",
     "text": [
      "missing info for: Essener in Article 1778\n"
     ]
    },
    {
     "name": "stderr",
     "output_type": "stream",
     "text": [
      " 79%|██████████████████████████████▋        | 1782/2265 [16:29<04:20,  1.85it/s]"
     ]
    },
    {
     "name": "stdout",
     "output_type": "stream",
     "text": [
      "missing info for: Mailändern in Article 1781\n"
     ]
    },
    {
     "name": "stderr",
     "output_type": "stream",
     "text": [
      " 79%|██████████████████████████████▉        | 1794/2265 [16:35<04:55,  1.59it/s]"
     ]
    },
    {
     "name": "stdout",
     "output_type": "stream",
     "text": [
      "missing info for: jeder in Article 1793\n"
     ]
    },
    {
     "name": "stderr",
     "output_type": "stream",
     "text": [
      " 79%|██████████████████████████████▉        | 1796/2265 [16:36<04:07,  1.90it/s]"
     ]
    },
    {
     "name": "stdout",
     "output_type": "stream",
     "text": [
      "missing info for: Frankfurter in Article 1796\n"
     ]
    },
    {
     "name": "stderr",
     "output_type": "stream",
     "text": [
      " 80%|███████████████████████████████▏       | 1811/2265 [16:43<04:13,  1.79it/s]"
     ]
    },
    {
     "name": "stdout",
     "output_type": "stream",
     "text": [
      "missing info for: jeder in Article 1810\n"
     ]
    },
    {
     "name": "stderr",
     "output_type": "stream",
     "text": [
      " 80%|███████████████████████████████▎       | 1816/2265 [16:45<02:36,  2.88it/s]"
     ]
    },
    {
     "name": "stdout",
     "output_type": "stream",
     "text": [
      "missing info for: OS in Article 1814\n"
     ]
    },
    {
     "name": "stderr",
     "output_type": "stream",
     "text": [
      " 80%|███████████████████████████████▎       | 1820/2265 [16:46<01:48,  4.08it/s]"
     ]
    },
    {
     "name": "stdout",
     "output_type": "stream",
     "text": [
      "missing info for: Arbeitnehmern in Article 1818\n"
     ]
    },
    {
     "name": "stderr",
     "output_type": "stream",
     "text": [
      " 80%|███████████████████████████████▎       | 1822/2265 [16:46<02:22,  3.11it/s]"
     ]
    },
    {
     "name": "stdout",
     "output_type": "stream",
     "text": [
      "missing info for: Stuttgarter in Article 1821\n"
     ]
    },
    {
     "name": "stderr",
     "output_type": "stream",
     "text": [
      " 81%|███████████████████████████████▍       | 1827/2265 [16:48<02:21,  3.09it/s]"
     ]
    },
    {
     "name": "stdout",
     "output_type": "stream",
     "text": [
      "missing info for: Pariser in Article 1827\n"
     ]
    },
    {
     "name": "stderr",
     "output_type": "stream",
     "text": [
      " 82%|███████████████████████████████▉       | 1852/2265 [17:00<03:00,  2.29it/s]"
     ]
    },
    {
     "name": "stdout",
     "output_type": "stream",
     "text": [
      "missing info for: Heidelberger in Article 1850\n"
     ]
    },
    {
     "name": "stderr",
     "output_type": "stream",
     "text": [
      " 82%|███████████████████████████████▉       | 1857/2265 [17:02<02:23,  2.84it/s]"
     ]
    },
    {
     "name": "stdout",
     "output_type": "stream",
     "text": [
      "missing info for: Frankfurter in Article 1856\n"
     ]
    },
    {
     "name": "stderr",
     "output_type": "stream",
     "text": [
      " 83%|████████████████████████████████▎      | 1878/2265 [17:08<02:47,  2.31it/s]"
     ]
    },
    {
     "name": "stdout",
     "output_type": "stream",
     "text": [
      "missing info for: Frankfurter in Article 1877\n"
     ]
    },
    {
     "name": "stderr",
     "output_type": "stream",
     "text": [
      " 83%|████████████████████████████████▎      | 1880/2265 [17:10<04:04,  1.57it/s]"
     ]
    },
    {
     "name": "stdout",
     "output_type": "stream",
     "text": [
      "missing info for: Fürther in Article 1880\n",
      "missing info for: Fürther in Article 1880\n"
     ]
    },
    {
     "name": "stderr",
     "output_type": "stream",
     "text": [
      " 83%|████████████████████████████████▍      | 1883/2265 [17:11<02:47,  2.28it/s]"
     ]
    },
    {
     "name": "stdout",
     "output_type": "stream",
     "text": [
      "missing info for: Stuttgarter in Article 1883\n",
      "missing info for: Wuppertaler in Article 1883\n"
     ]
    },
    {
     "name": "stderr",
     "output_type": "stream",
     "text": [
      " 83%|████████████████████████████████▍      | 1887/2265 [17:13<02:27,  2.57it/s]"
     ]
    },
    {
     "name": "stdout",
     "output_type": "stream",
     "text": [
      "missing info for: Stuttgarter in Article 1886\n"
     ]
    },
    {
     "name": "stderr",
     "output_type": "stream",
     "text": [
      " 83%|████████████████████████████████▌      | 1890/2265 [17:14<02:22,  2.62it/s]"
     ]
    },
    {
     "name": "stdout",
     "output_type": "stream",
     "text": [
      "missing info for: Essener in Article 1889\n"
     ]
    },
    {
     "name": "stderr",
     "output_type": "stream",
     "text": [
      " 84%|████████████████████████████████▋      | 1897/2265 [17:18<02:39,  2.31it/s]"
     ]
    },
    {
     "name": "stdout",
     "output_type": "stream",
     "text": [
      "missing info for: Frankfurter in Article 1896\n",
      "missing info for: Frankfurter in Article 1896\n"
     ]
    },
    {
     "name": "stderr",
     "output_type": "stream",
     "text": [
      " 84%|████████████████████████████████▊      | 1903/2265 [17:21<02:50,  2.12it/s]"
     ]
    },
    {
     "name": "stdout",
     "output_type": "stream",
     "text": [
      "missing info for: Frankfurter in Article 1902\n"
     ]
    },
    {
     "name": "stderr",
     "output_type": "stream",
     "text": [
      " 84%|████████████████████████████████▊      | 1904/2265 [17:21<02:38,  2.28it/s]"
     ]
    },
    {
     "name": "stdout",
     "output_type": "stream",
     "text": [
      "missing info for: Stuttgarter in Article 1903\n",
      "missing info for: Frankfurter in Article 1903\n",
      "missing info for: Berliner in Article 1903\n"
     ]
    },
    {
     "name": "stderr",
     "output_type": "stream",
     "text": [
      " 84%|████████████████████████████████▊      | 1909/2265 [17:23<02:54,  2.04it/s]"
     ]
    },
    {
     "name": "stdout",
     "output_type": "stream",
     "text": [
      "missing info for: Alteigentümer in Article 1908\n"
     ]
    },
    {
     "name": "stderr",
     "output_type": "stream",
     "text": [
      " 85%|████████████████████████████████▉      | 1914/2265 [17:25<02:39,  2.21it/s]"
     ]
    },
    {
     "name": "stdout",
     "output_type": "stream",
     "text": [
      "missing info for: ihn in Article 1913\n"
     ]
    },
    {
     "name": "stderr",
     "output_type": "stream",
     "text": [
      " 85%|█████████████████████████████████      | 1919/2265 [17:28<02:42,  2.13it/s]"
     ]
    },
    {
     "name": "stdout",
     "output_type": "stream",
     "text": [
      "missing info for: Einwohnern in Article 1918\n"
     ]
    },
    {
     "name": "stderr",
     "output_type": "stream",
     "text": [
      " 85%|█████████████████████████████████▏     | 1924/2265 [17:29<01:46,  3.19it/s]"
     ]
    },
    {
     "name": "stdout",
     "output_type": "stream",
     "text": [
      "missing info for: Frankfurter in Article 1923\n"
     ]
    },
    {
     "name": "stderr",
     "output_type": "stream",
     "text": [
      " 85%|█████████████████████████████████▏     | 1931/2265 [17:32<02:10,  2.57it/s]"
     ]
    },
    {
     "name": "stdout",
     "output_type": "stream",
     "text": [
      "missing info for: Jenaer in Article 1930\n"
     ]
    },
    {
     "name": "stderr",
     "output_type": "stream",
     "text": [
      " 85%|█████████████████████████████████▎     | 1935/2265 [17:33<02:21,  2.34it/s]"
     ]
    },
    {
     "name": "stdout",
     "output_type": "stream",
     "text": [
      "missing info for: Berliner in Article 1935\n",
      "missing info for: Vielnutzer in Article 1935\n"
     ]
    },
    {
     "name": "stderr",
     "output_type": "stream",
     "text": [
      " 86%|█████████████████████████████████▎     | 1937/2265 [17:34<02:34,  2.13it/s]"
     ]
    },
    {
     "name": "stdout",
     "output_type": "stream",
     "text": [
      "missing info for: Jenaer in Article 1936\n"
     ]
    },
    {
     "name": "stderr",
     "output_type": "stream",
     "text": [
      " 87%|█████████████████████████████████▉     | 1968/2265 [17:47<01:27,  3.41it/s]"
     ]
    },
    {
     "name": "stdout",
     "output_type": "stream",
     "text": [
      "missing info for: Essener in Article 1967\n"
     ]
    },
    {
     "name": "stderr",
     "output_type": "stream",
     "text": [
      " 87%|█████████████████████████████████▉     | 1974/2265 [17:49<02:02,  2.38it/s]"
     ]
    },
    {
     "name": "stdout",
     "output_type": "stream",
     "text": [
      "missing info for: Essener in Article 1973\n",
      "missing info for: Magdeburger in Article 1973\n"
     ]
    },
    {
     "name": "stderr",
     "output_type": "stream",
     "text": [
      " 87%|██████████████████████████████████     | 1976/2265 [17:50<02:05,  2.31it/s]"
     ]
    },
    {
     "name": "stdout",
     "output_type": "stream",
     "text": [
      "missing info for: Arbeitnehmern in Article 1976\n"
     ]
    },
    {
     "name": "stderr",
     "output_type": "stream",
     "text": [
      " 88%|██████████████████████████████████▏    | 1986/2265 [17:57<05:50,  1.26s/it]"
     ]
    },
    {
     "name": "stdout",
     "output_type": "stream",
     "text": [
      "missing info for: Frankfurter in Article 1986\n",
      "missing info for: Frankfurter in Article 1986\n",
      "missing info for: Duisburger in Article 1986\n",
      "missing info for: Duisburger in Article 1986\n"
     ]
    },
    {
     "name": "stderr",
     "output_type": "stream",
     "text": [
      " 88%|██████████████████████████████████▏    | 1988/2265 [17:58<03:40,  1.26it/s]"
     ]
    },
    {
     "name": "stdout",
     "output_type": "stream",
     "text": [
      "missing info for: Duisburger in Article 1986\n"
     ]
    },
    {
     "name": "stderr",
     "output_type": "stream",
     "text": [
      " 88%|██████████████████████████████████▎    | 1993/2265 [18:00<02:36,  1.74it/s]"
     ]
    },
    {
     "name": "stdout",
     "output_type": "stream",
     "text": [
      "missing info for: Nürnberger in Article 1992\n"
     ]
    },
    {
     "name": "stderr",
     "output_type": "stream",
     "text": [
      " 88%|██████████████████████████████████▍    | 1999/2265 [18:02<01:22,  3.22it/s]"
     ]
    },
    {
     "name": "stdout",
     "output_type": "stream",
     "text": [
      "missing info for: Friedrichshafener in Article 1998\n"
     ]
    },
    {
     "name": "stderr",
     "output_type": "stream",
     "text": [
      " 89%|██████████████████████████████████▌    | 2006/2265 [18:07<03:03,  1.41it/s]"
     ]
    },
    {
     "name": "stdout",
     "output_type": "stream",
     "text": [
      "missing info for: Wiesbadener in Article 2005\n"
     ]
    },
    {
     "name": "stderr",
     "output_type": "stream",
     "text": [
      " 89%|██████████████████████████████████▋    | 2015/2265 [18:10<01:14,  3.36it/s]"
     ]
    },
    {
     "name": "stdout",
     "output_type": "stream",
     "text": [
      "missing info for: Einwohnern in Article 2014\n"
     ]
    },
    {
     "name": "stderr",
     "output_type": "stream",
     "text": [
      " 91%|███████████████████████████████████▌   | 2062/2265 [18:25<01:13,  2.78it/s]"
     ]
    },
    {
     "name": "stdout",
     "output_type": "stream",
     "text": [
      "missing info for: jeder in Article 2062\n"
     ]
    },
    {
     "name": "stderr",
     "output_type": "stream",
     "text": [
      " 91%|███████████████████████████████████▋   | 2071/2265 [18:33<03:02,  1.06it/s]"
     ]
    },
    {
     "name": "stdout",
     "output_type": "stream",
     "text": [
      "missing info for: Normalverdiener in Article 2071\n"
     ]
    },
    {
     "name": "stderr",
     "output_type": "stream",
     "text": [
      " 91%|███████████████████████████████████▋   | 2072/2265 [18:34<02:53,  1.11it/s]"
     ]
    },
    {
     "name": "stdout",
     "output_type": "stream",
     "text": [
      "missing info for: Normalverdiener in Article 2071\n"
     ]
    },
    {
     "name": "stderr",
     "output_type": "stream",
     "text": [
      " 92%|███████████████████████████████████▉   | 2086/2265 [18:42<02:39,  1.12it/s]"
     ]
    },
    {
     "name": "stdout",
     "output_type": "stream",
     "text": [
      "missing info for: Indonesier in Article 2086\n"
     ]
    },
    {
     "name": "stderr",
     "output_type": "stream",
     "text": [
      " 92%|███████████████████████████████████▉   | 2088/2265 [18:44<03:16,  1.11s/it]"
     ]
    },
    {
     "name": "stdout",
     "output_type": "stream",
     "text": [
      "missing info for: Einwohnern in Article 2088\n"
     ]
    },
    {
     "name": "stderr",
     "output_type": "stream",
     "text": [
      " 92%|████████████████████████████████████   | 2094/2265 [18:51<02:12,  1.29it/s]"
     ]
    },
    {
     "name": "stdout",
     "output_type": "stream",
     "text": [
      "missing info for: jeder in Article 2094\n"
     ]
    },
    {
     "name": "stderr",
     "output_type": "stream",
     "text": [
      " 93%|████████████████████████████████████▏  | 2100/2265 [19:00<03:35,  1.30s/it]"
     ]
    },
    {
     "name": "stdout",
     "output_type": "stream",
     "text": [
      "missing info for: jeder in Article 2100\n",
      "missing info for: jeder in Article 2100\n",
      "missing info for: anderen in Article 2100\n"
     ]
    },
    {
     "name": "stderr",
     "output_type": "stream",
     "text": [
      " 93%|████████████████████████████████████▏  | 2103/2265 [19:05<03:25,  1.27s/it]"
     ]
    },
    {
     "name": "stdout",
     "output_type": "stream",
     "text": [
      "missing info for: Lenzkirchener in Article 2102\n"
     ]
    },
    {
     "name": "stderr",
     "output_type": "stream",
     "text": [
      " 94%|████████████████████████████████████▌  | 2123/2265 [19:13<00:26,  5.36it/s]"
     ]
    },
    {
     "name": "stdout",
     "output_type": "stream",
     "text": [
      "missing info for: Einwohnern in Article 2123\n"
     ]
    },
    {
     "name": "stderr",
     "output_type": "stream",
     "text": [
      " 94%|████████████████████████████████████▊  | 2140/2265 [19:17<00:33,  3.75it/s]"
     ]
    },
    {
     "name": "stdout",
     "output_type": "stream",
     "text": [
      "missing info for: Arbeitnehmern in Article 2140\n"
     ]
    },
    {
     "name": "stderr",
     "output_type": "stream",
     "text": [
      " 95%|████████████████████████████████████▉  | 2142/2265 [19:19<01:26,  1.42it/s]"
     ]
    },
    {
     "name": "stdout",
     "output_type": "stream",
     "text": [
      "missing info for: Arbeitnehmern in Article 2142\n"
     ]
    },
    {
     "name": "stderr",
     "output_type": "stream",
     "text": [
      " 95%|████████████████████████████████████▉  | 2145/2265 [19:21<01:22,  1.46it/s]"
     ]
    },
    {
     "name": "stdout",
     "output_type": "stream",
     "text": [
      "missing info for: Straßburger in Article 2144\n"
     ]
    },
    {
     "name": "stderr",
     "output_type": "stream",
     "text": [
      " 95%|█████████████████████████████████████▏ | 2163/2265 [19:33<01:47,  1.05s/it]"
     ]
    },
    {
     "name": "stdout",
     "output_type": "stream",
     "text": [
      "missing info for: Leipziger in Article 2163\n",
      "missing info for: Leipziger in Article 2163\n"
     ]
    },
    {
     "name": "stderr",
     "output_type": "stream",
     "text": [
      " 96%|█████████████████████████████████████▎ | 2164/2265 [19:34<01:49,  1.08s/it]"
     ]
    },
    {
     "name": "stdout",
     "output_type": "stream",
     "text": [
      "missing info for: Leipziger in Article 2163\n"
     ]
    },
    {
     "name": "stderr",
     "output_type": "stream",
     "text": [
      " 96%|█████████████████████████████████████▌ | 2178/2265 [19:58<02:57,  2.04s/it]"
     ]
    },
    {
     "name": "stdout",
     "output_type": "stream",
     "text": [
      "missing info for: Jeder in Article 2178\n",
      "missing info for: den in Article 2178\n",
      "missing info for: ihm in Article 2178\n",
      "missing info for: Jenaer in Article 2178\n",
      "missing info for: Zuschauern in Article 2178\n"
     ]
    },
    {
     "name": "stderr",
     "output_type": "stream",
     "text": [
      " 96%|█████████████████████████████████████▌ | 2185/2265 [20:04<01:13,  1.09it/s]"
     ]
    },
    {
     "name": "stdout",
     "output_type": "stream",
     "text": [
      "missing info for: ihm in Article 2184\n"
     ]
    },
    {
     "name": "stderr",
     "output_type": "stream",
     "text": [
      " 98%|██████████████████████████████████████▏| 2218/2265 [20:20<00:22,  2.05it/s]"
     ]
    },
    {
     "name": "stdout",
     "output_type": "stream",
     "text": [
      "missing info for: `` in Article 2217\n"
     ]
    },
    {
     "name": "stderr",
     "output_type": "stream",
     "text": [
      " 99%|██████████████████████████████████████▍| 2233/2265 [20:25<00:14,  2.21it/s]"
     ]
    },
    {
     "name": "stdout",
     "output_type": "stream",
     "text": [
      "missing info for: Grenzlandkenner in Article 2232\n"
     ]
    },
    {
     "name": "stderr",
     "output_type": "stream",
     "text": [
      " 99%|██████████████████████████████████████▋| 2247/2265 [20:29<00:03,  4.80it/s]"
     ]
    },
    {
     "name": "stdout",
     "output_type": "stream",
     "text": [
      "missing info for: Libyer in Article 2246\n"
     ]
    },
    {
     "name": "stderr",
     "output_type": "stream",
     "text": [
      "100%|██████████████████████████████████████▉| 2261/2265 [20:33<00:01,  3.17it/s]"
     ]
    },
    {
     "name": "stdout",
     "output_type": "stream",
     "text": [
      "missing info for: Jeder in Article 2261\n"
     ]
    },
    {
     "name": "stderr",
     "output_type": "stream",
     "text": [
      "100%|███████████████████████████████████████| 2265/2265 [20:39<00:00,  1.07it/s]"
     ]
    },
    {
     "name": "stdout",
     "output_type": "stream",
     "text": [
      "missing info for: Balten in Article 2265\n"
     ]
    },
    {
     "name": "stderr",
     "output_type": "stream",
     "text": [
      "100%|███████████████████████████████████████| 2265/2265 [20:40<00:00,  1.83it/s]\n"
     ]
    },
    {
     "data": {
      "text/plain": [
       "0       None\n",
       "1       None\n",
       "2       None\n",
       "3       None\n",
       "4       None\n",
       "        ... \n",
       "2260    None\n",
       "2261    None\n",
       "2262    None\n",
       "2263    None\n",
       "2264    None\n",
       "Name: Text, Length: 2265, dtype: object"
      ]
     },
     "execution_count": 26,
     "metadata": {},
     "output_type": "execute_result"
    }
   ],
   "source": [
    "# Globale Zählung\n",
    "global_counts = defaultdict(int)\n",
    "global_lemmas = set()\n",
    "line_counter = 0\n",
    "\n",
    "def count_marked(text):\n",
    "    global line_counter\n",
    "    line_counter += 1\n",
    "    doc = nlp(text)\n",
    "    for token in doc:\n",
    "        if token.text.startswith(\"--\"):\n",
    "            clean_text = token.text.strip('--')\n",
    "            subdoc = nlp(clean_text)\n",
    "            if len(subdoc) < 1:\n",
    "                print(\"something weird\", token, \"in Article\", line_counter)\n",
    "                continue\n",
    "            subtoken = subdoc[0]\n",
    "            number = subtoken.morph.get(\"Number\")\n",
    "            case = subtoken.morph.get(\"Case\")\n",
    "            if number and case:\n",
    "                key = f\"{subtoken.pos_}_{number[0]}_{case[0]}\"\n",
    "                global_counts[key] += 1\n",
    "                global_lemmas.add(subtoken.lemma_)\n",
    "            else:\n",
    "                print(\"missing info for:\", subtoken.text, \"in Article\", line_counter)\n",
    "\n",
    "# Anwendung auf alle Texte\n",
    "df[\"Text\"].progress_apply(count_marked)\n",
    "\n"
   ]
  },
  {
   "cell_type": "code",
   "execution_count": 27,
   "id": "59de7f4d-ea33-4744-a0a7-6c423108986d",
   "metadata": {},
   "outputs": [
    {
     "name": "stdout",
     "output_type": "stream",
     "text": [
      "8912\n"
     ]
    }
   ],
   "source": [
    "print(sum(global_counts.values()))"
   ]
  },
  {
   "cell_type": "code",
   "execution_count": 28,
   "id": "fb7ab565-dc13-4da2-8dc7-ee8adda1cc62",
   "metadata": {},
   "outputs": [
    {
     "data": {
      "text/plain": [
       "2034"
      ]
     },
     "execution_count": 28,
     "metadata": {},
     "output_type": "execute_result"
    }
   ],
   "source": [
    "len(global_lemmas)"
   ]
  },
  {
   "cell_type": "markdown",
   "id": "74f18ad3-421e-40ea-a1ba-6a15fc912c0f",
   "metadata": {},
   "source": [
    "An dieser Stelle werden noch ein paar Berechnungen über die Eigenschaften der Texte durchgeführt. \n"
   ]
  },
  {
   "cell_type": "code",
   "execution_count": 30,
   "id": "d1a48d9a-c445-4de8-b87e-fb07b12ef58a",
   "metadata": {},
   "outputs": [
    {
     "data": {
      "text/html": [
       "<div>\n",
       "<style scoped>\n",
       "    .dataframe tbody tr th:only-of-type {\n",
       "        vertical-align: middle;\n",
       "    }\n",
       "\n",
       "    .dataframe tbody tr th {\n",
       "        vertical-align: top;\n",
       "    }\n",
       "\n",
       "    .dataframe thead th {\n",
       "        text-align: right;\n",
       "    }\n",
       "</style>\n",
       "<table border=\"1\" class=\"dataframe\">\n",
       "  <thead>\n",
       "    <tr style=\"text-align: right;\">\n",
       "      <th></th>\n",
       "      <th>ArtikelId</th>\n",
       "      <th>Text</th>\n",
       "      <th>Text_unmarked</th>\n",
       "      <th>Sentences_marked</th>\n",
       "      <th>Sentences_unmarked</th>\n",
       "      <th>dependency_distance</th>\n",
       "    </tr>\n",
       "  </thead>\n",
       "  <tbody>\n",
       "    <tr>\n",
       "      <th>0</th>\n",
       "      <td>ArtikelId: 0001_0001</td>\n",
       "      <td>\"Ross Perot wäre vielleicht ein prächtiger \\--...</td>\n",
       "      <td>\"Ross Perot wäre vielleicht ein prächtiger Dik...</td>\n",
       "      <td>[\"Ross Perot wäre vielleicht ein prächtiger \\-...</td>\n",
       "      <td>[\"Ross Perot wäre vielleicht ein prächtiger Di...</td>\n",
       "      <td>{'dependency_distance_mean': 2.858281125203935...</td>\n",
       "    </tr>\n",
       "    <tr>\n",
       "      <th>1</th>\n",
       "      <td>ArtikelId: 0001_0002</td>\n",
       "      <td>IBM und Siemens gelten nicht mehr als Schimpfw...</td>\n",
       "      <td>IBM und Siemens gelten nicht mehr als Schimpfw...</td>\n",
       "      <td>[IBM und Siemens gelten nicht mehr als Schimpf...</td>\n",
       "      <td>[IBM und Siemens gelten nicht mehr als Schimpf...</td>\n",
       "      <td>{'dependency_distance_mean': 2.861873114849146...</td>\n",
       "    </tr>\n",
       "    <tr>\n",
       "      <th>2</th>\n",
       "      <td>ArtikelId: 0001_0003</td>\n",
       "      <td>Wechselspiel von Dramatisierung und Ignoranz\\n...</td>\n",
       "      <td>Wechselspiel von Dramatisierung und Ignoranz\\n...</td>\n",
       "      <td>[Wechselspiel von Dramatisierung und Ignoranz,...</td>\n",
       "      <td>[Wechselspiel von Dramatisierung und Ignoranz,...</td>\n",
       "      <td>{'dependency_distance_mean': 3.165174122545213...</td>\n",
       "    </tr>\n",
       "    <tr>\n",
       "      <th>3</th>\n",
       "      <td>ArtikelId: 0001_0004</td>\n",
       "      <td>Im \\--Blickpunkt--:\\nErmittlungen gegen \\--Aut...</td>\n",
       "      <td>Im Blickpunkt:\\nErmittlungen gegen Autonome\\nS...</td>\n",
       "      <td>[Im \\--Blickpunkt--:, Ermittlungen gegen \\--Au...</td>\n",
       "      <td>[Im Blickpunkt:, Ermittlungen gegen Autonome, ...</td>\n",
       "      <td>{'dependency_distance_mean': 3.263254197975927...</td>\n",
       "    </tr>\n",
       "    <tr>\n",
       "      <th>4</th>\n",
       "      <td>ArtikelId: 0001_0005</td>\n",
       "      <td>Für ehrliche !--Kunden-- ist es ein \\--Schock-...</td>\n",
       "      <td>Für ehrliche Kunden ist es ein Schock\\nZahl de...</td>\n",
       "      <td>[Für ehrliche !--Kunden-- ist es ein \\--Schock...</td>\n",
       "      <td>[Für ehrliche Kunden ist es ein Schock, Zahl d...</td>\n",
       "      <td>{'dependency_distance_mean': 2.742601663046218...</td>\n",
       "    </tr>\n",
       "  </tbody>\n",
       "</table>\n",
       "</div>"
      ],
      "text/plain": [
       "              ArtikelId                                               Text  \\\n",
       "0  ArtikelId: 0001_0001  \"Ross Perot wäre vielleicht ein prächtiger \\--...   \n",
       "1  ArtikelId: 0001_0002  IBM und Siemens gelten nicht mehr als Schimpfw...   \n",
       "2  ArtikelId: 0001_0003  Wechselspiel von Dramatisierung und Ignoranz\\n...   \n",
       "3  ArtikelId: 0001_0004  Im \\--Blickpunkt--:\\nErmittlungen gegen \\--Aut...   \n",
       "4  ArtikelId: 0001_0005  Für ehrliche !--Kunden-- ist es ein \\--Schock-...   \n",
       "\n",
       "                                       Text_unmarked  \\\n",
       "0  \"Ross Perot wäre vielleicht ein prächtiger Dik...   \n",
       "1  IBM und Siemens gelten nicht mehr als Schimpfw...   \n",
       "2  Wechselspiel von Dramatisierung und Ignoranz\\n...   \n",
       "3  Im Blickpunkt:\\nErmittlungen gegen Autonome\\nS...   \n",
       "4  Für ehrliche Kunden ist es ein Schock\\nZahl de...   \n",
       "\n",
       "                                    Sentences_marked  \\\n",
       "0  [\"Ross Perot wäre vielleicht ein prächtiger \\-...   \n",
       "1  [IBM und Siemens gelten nicht mehr als Schimpf...   \n",
       "2  [Wechselspiel von Dramatisierung und Ignoranz,...   \n",
       "3  [Im \\--Blickpunkt--:, Ermittlungen gegen \\--Au...   \n",
       "4  [Für ehrliche !--Kunden-- ist es ein \\--Schock...   \n",
       "\n",
       "                                  Sentences_unmarked  \\\n",
       "0  [\"Ross Perot wäre vielleicht ein prächtiger Di...   \n",
       "1  [IBM und Siemens gelten nicht mehr als Schimpf...   \n",
       "2  [Wechselspiel von Dramatisierung und Ignoranz,...   \n",
       "3  [Im Blickpunkt:, Ermittlungen gegen Autonome, ...   \n",
       "4  [Für ehrliche Kunden ist es ein Schock, Zahl d...   \n",
       "\n",
       "                                 dependency_distance  \n",
       "0  {'dependency_distance_mean': 2.858281125203935...  \n",
       "1  {'dependency_distance_mean': 2.861873114849146...  \n",
       "2  {'dependency_distance_mean': 3.165174122545213...  \n",
       "3  {'dependency_distance_mean': 3.263254197975927...  \n",
       "4  {'dependency_distance_mean': 2.742601663046218...  "
      ]
     },
     "execution_count": 30,
     "metadata": {},
     "output_type": "execute_result"
    }
   ],
   "source": [
    "df.head()"
   ]
  },
  {
   "cell_type": "code",
   "execution_count": 33,
   "id": "cf7c55fd-92e3-4a4b-b7e5-c16463f836aa",
   "metadata": {},
   "outputs": [
    {
     "name": "stdout",
     "output_type": "stream",
     "text": [
      "gewichteter Mittelwert dependency distance: 2.9155039448831572\n",
      "zusammengelegte Standardabweichung dependency distance: 1.0920506650544215\n",
      "Mittelwert Anteil der benachbarten Dependencies 0.478948524760765\n",
      "zusammengelegte Standardabweichung Anteil benachbarter Dependencies: 0.09026296825187247\n"
     ]
    }
   ],
   "source": [
    "def compute_weighted_mean_and_pooled_std_from_dicts(df):\n",
    "    means = df['dependency_distance'].apply(lambda d: d['dependency_distance_mean'])\n",
    "    stds = df['dependency_distance'].apply(lambda d: d['dependency_distance_std'])\n",
    "    ns = df['Sentences_unmarked'].apply(len)\n",
    "\n",
    "    weighted_mean = np.average(means, weights=ns)\n",
    "\n",
    "    ss_within = ((ns - 1) * stds**2).sum()\n",
    "    ss_between = (ns * (means - weighted_mean)**2).sum()\n",
    "\n",
    "    pooled_std = np.sqrt((ss_within + ss_between) / (ns.sum() - 1))\n",
    "\n",
    "    return weighted_mean, pooled_std\n",
    "\n",
    "def compute_weighted_prop_distance_mean_and_pooled_std_from_dicts(df):\n",
    "    means = df['dependency_distance'].apply(lambda d: d['prop_adjacent_dependency_relation_mean'])\n",
    "    stds = df['dependency_distance'].apply(lambda d: d['prop_adjacent_dependency_relation_std'])\n",
    "    ns = df['Sentences_unmarked'].apply(len)\n",
    "\n",
    "    weighted_mean = np.average(means, weights=ns)\n",
    "\n",
    "    ss_within = ((ns - 1) * stds**2).sum()\n",
    "    ss_between = (ns * (means - weighted_mean)**2).sum()\n",
    "\n",
    "    pooled_std = np.sqrt((ss_within + ss_between) / (ns.sum() - 1))\n",
    "\n",
    "    return weighted_mean, pooled_std\n",
    "    \n",
    "mean, std = compute_weighted_mean_and_pooled_std_from_dicts(df)\n",
    "prop_mean, prop_std =compute_weighted_prop_distance_mean_and_pooled_std_from_dicts(df)\n",
    "print(\"gewichteter Mittelwert dependency distance:\", mean)\n",
    "print(\"zusammengelegte Standardabweichung dependency distance:\", std)\n",
    "print(\"Mittelwert Anteil der benachbarten Dependencies\", prop_mean)\n",
    "print(\"zusammengelegte Standardabweichung Anteil benachbarter Dependencies:\", prop_std)"
   ]
  },
  {
   "cell_type": "markdown",
   "id": "6b728c6a-05da-48ab-9957-c9f7e91d8c1a",
   "metadata": {},
   "source": [
    "Verteilungsplots:\n"
   ]
  },
  {
   "cell_type": "code",
   "execution_count": 34,
   "id": "71da72aa-1882-416b-8be2-543604576324",
   "metadata": {},
   "outputs": [
    {
     "data": {
      "image/png": "[encoded data removed]",
      "text/plain": [
       "<Figure size 800x500 with 1 Axes>"
      ]
     },
     "metadata": {},
     "output_type": "display_data"
    }
   ],
   "source": [
    "\n",
    "dd_means = df['dependency_distance'].apply(lambda d: d['dependency_distance_mean'])\n",
    "\n",
    "\n",
    "bins = np.arange(0, 5.5, 0.5)\n",
    "\n",
    "\n",
    "fig, ax = plt.subplots(figsize=(8, 5))\n",
    "counts, edges, bars = ax.hist(dd_means, bins=bins, edgecolor='black', alpha=0.75)\n",
    "\n",
    "\n",
    "for count, bar in zip(counts, bars):\n",
    "    height = bar.get_height()\n",
    "    if height > 0:\n",
    "        ax.text(\n",
    "            bar.get_x() + bar.get_width() / 2,\n",
    "            height + 0.5,  # Abstand über dem Balken\n",
    "            f'{int(count)}',\n",
    "            ha='center', va='bottom', fontsize=10\n",
    "        )\n",
    "\n",
    "ax.set_xticks(bins)\n",
    "ax.set_xlabel(\"Dependency Distance (Mittelwert)\")\n",
    "ax.set_ylabel(\"Anzahl der Texte\")\n",
    "ax.set_title(\"Verteilung der durchschnittlichen Dependency Distance\")\n",
    "ax.grid(axis='y', linestyle='--', alpha=0.6)\n",
    "plt.tight_layout()\n",
    "plt.savefig(\"dependency_distance_histogram.png\", dpi=300, bbox_inches='tight')\n",
    "plt.show()\n"
   ]
  },
  {
   "cell_type": "code",
   "execution_count": 35,
   "id": "82d604e5-2459-4387-b04d-7ddddf51f381",
   "metadata": {},
   "outputs": [
    {
     "data": {
      "image/png": "[encoded data removed]",
      "text/plain": [
       "<Figure size 800x500 with 1 Axes>"
      ]
     },
     "metadata": {},
     "output_type": "display_data"
    }
   ],
   "source": [
    "\n",
    "padr_means = df['dependency_distance'].apply(lambda d: d['prop_adjacent_dependency_relation_mean'])\n",
    "\n",
    "bins = np.arange(0, 1, 0.1)\n",
    "\n",
    "fig, ax = plt.subplots(figsize=(8, 5))\n",
    "counts, edges, bars = ax.hist(padr_means, bins=bins, edgecolor='black', alpha=0.75)\n",
    "\n",
    "for count, bar in zip(counts, bars):\n",
    "    height = bar.get_height()\n",
    "    if height > 0:\n",
    "        ax.text(\n",
    "            bar.get_x() + bar.get_width() / 2,\n",
    "            height + 0.5,  # Abstand über dem Balken\n",
    "            f'{int(count)}',\n",
    "            ha='center', va='bottom', fontsize=10\n",
    "        )\n",
    "\n",
    "ax.set_xticks(bins)\n",
    "ax.set_xlabel(\"Anteil benachbarter Dependenzen (Mittelwert)\")\n",
    "ax.set_ylabel(\"Anzahl der Texte\")\n",
    "ax.set_title(\"Verteilung des durchschnittlichen Anteils benachbarter Dependenzen\")\n",
    "ax.grid(axis='y', linestyle='--', alpha=0.6)\n",
    "plt.tight_layout()\n",
    "plt.savefig(\"Anteil-Benachbarter-Dependenzen.png\", dpi=300, bbox_inches='tight')\n",
    "plt.show()"
   ]
  },
  {
   "cell_type": "markdown",
   "id": "7a1b49b2-8e3f-439f-89a2-b28d254fa60e",
   "metadata": {},
   "source": [
    "Dieser Einblick in die Daten soll an der Stelle genügen. Im Notebook [Evaluation](./Evaluation.ipynb) wird die bestehende Genderassistenz getestet."
   ]
  }
 ],
 "metadata": {
  "kernelspec": {
   "display_name": "Python 3 (ipykernel)",
   "language": "python",
   "name": "python3"
  },
  "language_info": {
   "codemirror_mode": {
    "name": "ipython",
    "version": 3
   },
   "file_extension": ".py",
   "mimetype": "text/x-python",
   "name": "python",
   "nbconvert_exporter": "python",
   "pygments_lexer": "ipython3",
   "version": "3.10.13"
  }
 },
 "nbformat": 4,
 "nbformat_minor": 5
}
