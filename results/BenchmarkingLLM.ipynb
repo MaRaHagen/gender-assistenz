{
 "cells": [
  {
   "cell_type": "code",
   "execution_count": 143,
   "id": "f63e216d-267d-448f-8646-e1ba751238c4",
   "metadata": {},
   "outputs": [],
   "source": [
    "import pandas as pd\n",
    "import requests\n",
    "from tqdm import tqdm\n",
    "import re\n",
    "import json\n",
    "from collections import defaultdict\n",
    "\n",
    "# Enable tqdm in pandas\n",
    "tqdm.pandas()"
   ]
  },
  {
   "cell_type": "code",
   "execution_count": 144,
   "id": "64c76a30-c500-4460-b112-7d39d5ee51f5",
   "metadata": {},
   "outputs": [],
   "source": [
    "df = pd.read_pickle('final_data_frame_evaluation_one.pkl')"
   ]
  },
  {
   "cell_type": "code",
   "execution_count": 145,
   "id": "44fdef85-131f-4fdf-bd4d-52934e280a17",
   "metadata": {},
   "outputs": [],
   "source": [
    "smaller_df = df.head(100)"
   ]
  },
  {
   "cell_type": "code",
   "execution_count": 146,
   "id": "8e067718-0b37-4a1d-a5cb-a7ef97a59cae",
   "metadata": {
    "scrolled": true
   },
   "outputs": [
    {
     "name": "stdout",
     "output_type": "stream",
     "text": [
      "In linguistics, a generic masculine expression (German: generisch-maskuliner Ausdruck) is a linguistic phenomenon where a pronoun or noun phrase is used to refer to people of any gender, but often has a masculine connotation or bias. This can be problematic because it excludes women and non-binary individuals from the conversation.\n",
      "\n",
      "Examples of generic masculine expressions in German include:\n",
      "\n",
      "1. \"Der Student\" (the student) - although students can be both male and female, the default assumption is usually male.\n",
      "2. \"Ein Mann\" (a man) - implies that all people are men unless specified otherwise.\n",
      "3. \"Der Lehrer\" (the teacher) - often depicted as a male figure, even though women also teach.\n",
      "\n",
      "Using generic masculine expressions can perpetuate stereotypes and inequalities. To be more inclusive, it's recommended to use gender-neutral language or specify the gender when necessary:\n",
      "\n",
      "1. \"Ein Studierender\" (a student) - uses the gender-neutral word \"Studierender\" instead of \"der Student\".\n",
      "2. \"Eine Lehrperson\" (a teacher) - uses the gender-neutral phrase \"Lehrperson\" instead of \"Der Lehrer\".\n",
      "3. \"Die Menschen\" (the people) - uses a gender-neutral plural noun to refer to humanity.\n",
      "\n",
      "By recognizing and challenging generic masculine expressions, we can promote more inclusive language and reduce social biases.\n"
     ]
    }
   ],
   "source": [
    "# testing and experiments\n",
    "\n",
    "prompt = \"Was ist ein generisch-maskuliner Ausdruck?\"\n",
    "response = requests.post(\n",
    "    \"http://localhost:11434/api/generate\",\n",
    "    json={\"model\": \"llama3\", \"prompt\": prompt, \"stream\": False}\n",
    ")\n",
    "print(response.json()['response'])\n",
    "\n",
    "\n"
   ]
  },
  {
   "cell_type": "code",
   "execution_count": 147,
   "id": "16375f57-b323-456c-9915-cb19ad21d021",
   "metadata": {},
   "outputs": [],
   "source": [
    "def query_ollama(prompt, model=\"llama3\"):\n",
    "    response = requests.post(\n",
    "        \"http://localhost:11434/api/generate\",\n",
    "        json={\"model\": model, \"prompt\": prompt, \"stream\": False}\n",
    "    )\n",
    "    return response.json()[\"response\"]"
   ]
  },
  {
   "cell_type": "code",
   "execution_count": 148,
   "id": "0b8b0512-62e1-49b9-9894-50fd66f265e4",
   "metadata": {},
   "outputs": [],
   "source": [
    "text = df['Text_unmarked'].iloc[5]\n",
    "spacy_information =  df['spacified_article'].iloc[5]"
   ]
  },
  {
   "cell_type": "code",
   "execution_count": 149,
   "id": "187d09b1-9191-465d-93c4-5704f5028e2b",
   "metadata": {},
   "outputs": [],
   "source": [
    "def extract_gender_maskulin_from_text(text, spacydoc, prompt_start, model=\"llama3\", window_size=3, step=1,):\n",
    "    \n",
    "    sätze = list(spacydoc.sents)\n",
    "\n",
    "    def find_position_in_window(word, window_text, full_text):\n",
    "        relative_start = window_text.find(word)\n",
    "        if relative_start == -1:\n",
    "            return None\n",
    "        abs_start = full_text.find(window_text)\n",
    "        if abs_start == -1:\n",
    "            return None\n",
    "        start = abs_start + relative_start\n",
    "        return {\"Wort\": word, \"from\": start, \"to\": start + len(word)}\n",
    "\n",
    "    def enrich_llm_results_with_positions(llm_results, window_text, full_text):\n",
    "        enriched = []\n",
    "        for entry in llm_results:\n",
    "            word = entry[\"Wort\"]\n",
    "            pos_info = find_position_in_window(word, window_text, full_text)\n",
    "            if pos_info:\n",
    "                entry[\"from\"] = pos_info[\"from\"]\n",
    "                entry[\"to\"] = pos_info[\"to\"]\n",
    "            else:\n",
    "                entry[\"from\"] = None\n",
    "                entry[\"to\"] = None\n",
    "            enriched.append(entry)\n",
    "        return enriched\n",
    "\n",
    "    all_results = []\n",
    "\n",
    "    for i in range(0, len(sätze) - window_size + 1, step):\n",
    "        fenster = sätze[i : i + window_size]\n",
    "        window_text = \"\".join([s.text for s in fenster])\n",
    "\n",
    "        prompt = f\"\"\"\n",
    "{prompt_start}\n",
    "Text:\n",
    "{window_text}\n",
    "\"\"\"\n",
    "\n",
    "        try:\n",
    "            response = query_ollama(prompt)\n",
    "            match = re.search(r\"\\[.*?\\]\", response, re.DOTALL)\n",
    "            if match:\n",
    "                result = json.loads(match.group(0))\n",
    "                result = enrich_llm_results_with_positions(result, window_text, text)\n",
    "                all_results.extend(result)\n",
    "        except Exception as e:\n",
    "            print(f\"Fehler bei Fenster {i}-{i+window_size}: {e}\")\n",
    "\n",
    "    return all_results\n",
    "\n"
   ]
  },
  {
   "cell_type": "code",
   "execution_count": 151,
   "id": "5935738d-34b0-453d-aa38-af25cf302e52",
   "metadata": {},
   "outputs": [
    {
     "name": "stdout",
     "output_type": "stream",
     "text": [
      "Fehler bei Fenster 9-12: Expecting ',' delimiter: line 12 column 19 (char 108)\n"
     ]
    }
   ],
   "source": [
    "response = extract_gender_maskulin_from_text(text,spacy_information,\"\"\"Identifiziere alle generisch-maskulinen Ausdrücke im folgenden Text, die Textsprache ist Deutsch.\n",
    "Gib eine JSON-Liste von Dictionaries zurück mit folgenden Felder:\n",
    "- Wort\"\"\")"
   ]
  },
  {
   "cell_type": "code",
   "execution_count": 152,
   "id": "22280133-5c9a-4340-be3a-94cfdd8b770b",
   "metadata": {},
   "outputs": [],
   "source": [
    "import json\n",
    "\n",
    "def remove_duplicates_dict_list(data):\n",
    "    seen = set()\n",
    "    unique = []\n",
    "    for item in data:\n",
    "        key = json.dumps(item, sort_keys=True)  # serialize dict als string\n",
    "        if key not in seen:\n",
    "            seen.add(key)\n",
    "            unique.append(item)\n",
    "    return unique\n"
   ]
  },
  {
   "cell_type": "code",
   "execution_count": 156,
   "id": "2342955d-5e4f-49ba-9561-959eea2ea224",
   "metadata": {
    "scrolled": true
   },
   "outputs": [],
   "source": [
    "prompts = [\n",
    "    { 'name': 'basic_prompt',\n",
    "'prompt' : \"\"\"Identifiziere alle generisch-maskulinen Ausdrücke im folgenden Text, die Textsprache ist Deutsch.\n",
    "Gib eine JSON-Liste von Dictionaries zurück mit folgenden Felder:\n",
    "- Wort\"\"\"},\n",
    "           {'name': 'prompt_with_role',\n",
    "            'prompt': \"\"\"Du bist ein sprachwissenschaftliches Analysemodell. \n",
    "Finde alle generisch-maskulinen Personenbezeichnungen im folgenden Text, die Textsprache ist deutsch. \n",
    "Gib eine JSON-Liste von Dictionaries zurück mit folgenden Felder:\n",
    "- Wort\"\"\"},\n",
    "           {'name':'prompt_with_example',\n",
    "            'prompt': \"\"\"Identifiziere alle generisch-maskulinen Ausdrücke im folgenden Text, die Textsprache ist Deutsch.\n",
    "Beispiel: In \"Die Ärzte behandeln ihre Patienten.\" ist \"Ärzte\" und \"Patienten\" generisch.\n",
    "Gib eine JSON-Liste von Dictionaries zurück mit folgenden Felder:\n",
    "- Wort\"\"\"},\n",
    "{'name': 'prompt_with_role_and_example', \n",
    " 'prompt': \"\"\"Du bist ein sprachwissenschaftliches Analysemodell.\n",
    "Identifiziere alle generisch-maskulinen Ausdrücke im folgenden Text, die Textsprache ist Deutsch.\n",
    "Beispiel: In \"Die Ärzte behandeln ihre Patienten.\" ist \"Ärzte\" und \"Patienten\" generisch.\n",
    "Gib eine JSON-Liste von Dictionaries zurück mit folgenden Felder:\n",
    "- Wort\"\"\"},\n",
    "{\n",
    "'name':'prompt_with_hints',\n",
    "    'prompt': \"\"\"Identifiziere alle generisch-maskulinen Ausdrücke im folgenden Text, die Textsprache ist Deutsch. Hinweise: \n",
    "Achte darauf ob das Wort einen Bezug zu einer eindeutig männlichen Person hat. Achte darauf das es überhaupt möglich ist das Wort zu gendern.\n",
    "Ignoriere maskuline begriffe die nicht generisch sind wie bspw. Mut.\n",
    "Gib eine JSON-Liste von Dictionaries zurück mit folgenden Felder:\n",
    "- Wort\"\"\"}]\n",
    "\n",
    "\n"
   ]
  },
  {
   "cell_type": "code",
   "execution_count": 158,
   "id": "c52ca55a-4fd0-4c45-9e60-60ca01eddfdb",
   "metadata": {
    "scrolled": true
   },
   "outputs": [
    {
     "name": "stdout",
     "output_type": "stream",
     "text": [
      "basic_prompt\n"
     ]
    },
    {
     "name": "stderr",
     "output_type": "stream",
     "text": [
      "  0%|                                                   | 0/100 [00:00<?, ?it/s]"
     ]
    },
    {
     "name": "stdout",
     "output_type": "stream",
     "text": [
      "Fehler bei Fenster 14-17: Expecting ',' delimiter: line 12 column 18 (char 116)\n",
      "Fehler bei Fenster 43-46: Expecting ',' delimiter: line 6 column 18 (char 56)\n"
     ]
    },
    {
     "name": "stderr",
     "output_type": "stream",
     "text": [
      "  2%|▊                                        | 2/100 [02:12<1:48:11, 66.24s/it]"
     ]
    },
    {
     "name": "stdout",
     "output_type": "stream",
     "text": [
      "Fehler bei Fenster 10-13: Expecting ',' delimiter: line 6 column 22 (char 57)\n",
      "Fehler bei Fenster 21-24: Expecting ',' delimiter: line 6 column 28 (char 64)\n"
     ]
    },
    {
     "name": "stderr",
     "output_type": "stream",
     "text": [
      "  3%|█▏                                      | 3/100 [04:49<2:48:03, 103.96s/it]"
     ]
    },
    {
     "name": "stdout",
     "output_type": "stream",
     "text": [
      "Fehler bei Fenster 24-27: Expecting ',' delimiter: line 6 column 18 (char 50)\n",
      "Fehler bei Fenster 25-28: Expecting ',' delimiter: line 6 column 18 (char 59)\n",
      "Fehler bei Fenster 39-42: Expecting property name enclosed in double quotes: line 4 column 3 (char 26)\n",
      "Fehler bei Fenster 84-87: Expecting ',' delimiter: line 4 column 18 (char 110)\n"
     ]
    },
    {
     "name": "stderr",
     "output_type": "stream",
     "text": [
      "  4%|█▌                                      | 4/100 [09:00<4:14:05, 158.80s/it]"
     ]
    },
    {
     "name": "stdout",
     "output_type": "stream",
     "text": [
      "Fehler bei Fenster 21-24: Expecting ',' delimiter: line 3 column 17 (char 37)\n",
      "Fehler bei Fenster 24-27: Expecting ',' delimiter: line 6 column 17 (char 55)\n"
     ]
    },
    {
     "name": "stderr",
     "output_type": "stream",
     "text": [
      "  8%|███▎                                     | 8/100 [14:27<2:24:16, 94.09s/it]"
     ]
    },
    {
     "name": "stdout",
     "output_type": "stream",
     "text": [
      "Fehler bei Fenster 10-13: 'Wort'\n",
      "Fehler bei Fenster 12-15: Expecting ',' delimiter: line 4 column 48 (char 87)\n"
     ]
    },
    {
     "name": "stderr",
     "output_type": "stream",
     "text": [
      "  9%|███▌                                    | 9/100 [17:14<2:56:55, 116.66s/it]"
     ]
    },
    {
     "name": "stdout",
     "output_type": "stream",
     "text": [
      "Fehler bei Fenster 4-7: Expecting ',' delimiter: line 6 column 26 (char 63)\n",
      "Fehler bei Fenster 20-23: Expecting ',' delimiter: line 6 column 22 (char 57)\n",
      "Fehler bei Fenster 27-30: Expecting ',' delimiter: line 5 column 22 (char 95)\n",
      "Fehler bei Fenster 41-44: Expecting ',' delimiter: line 6 column 19 (char 55)\n",
      "Fehler bei Fenster 42-45: Expecting ',' delimiter: line 9 column 23 (char 96)\n",
      "Fehler bei Fenster 65-68: Expecting ',' delimiter: line 7 column 70 (char 142)\n",
      "Fehler bei Fenster 71-74: Expecting ':' delimiter: line 7 column 26 (char 93)\n",
      "Fehler bei Fenster 72-75: Expecting ':' delimiter: line 8 column 3 (char 94)\n"
     ]
    },
    {
     "name": "stderr",
     "output_type": "stream",
     "text": [
      " 10%|███▉                                   | 10/100 [21:05<3:47:53, 151.93s/it]"
     ]
    },
    {
     "name": "stdout",
     "output_type": "stream",
     "text": [
      "Fehler bei Fenster 1-4: Expecting ',' delimiter: line 9 column 18 (char 95)\n",
      "Fehler bei Fenster 9-12: Expecting ',' delimiter: line 8 column 30 (char 132)\n",
      "Fehler bei Fenster 30-33: Expecting ',' delimiter: line 6 column 20 (char 52)\n",
      "Fehler bei Fenster 39-42: Expecting ',' delimiter: line 9 column 19 (char 78)\n",
      "Fehler bei Fenster 51-54: Expecting ',' delimiter: line 6 column 24 (char 56)\n"
     ]
    },
    {
     "name": "stderr",
     "output_type": "stream",
     "text": [
      " 11%|████▎                                  | 11/100 [23:59<3:55:08, 158.53s/it]"
     ]
    },
    {
     "name": "stdout",
     "output_type": "stream",
     "text": [
      "Fehler bei Fenster 44-47: 'Wort'\n"
     ]
    },
    {
     "name": "stderr",
     "output_type": "stream",
     "text": [
      " 12%|████▋                                  | 12/100 [26:20<3:45:04, 153.45s/it]"
     ]
    },
    {
     "name": "stdout",
     "output_type": "stream",
     "text": [
      "Fehler bei Fenster 1-4: Expecting ',' delimiter: line 6 column 28 (char 64)\n",
      "Fehler bei Fenster 22-25: Expecting ',' delimiter: line 9 column 21 (char 82)\n",
      "Fehler bei Fenster 23-26: Expecting ',' delimiter: line 9 column 25 (char 101)\n",
      "Fehler bei Fenster 24-27: Expecting ',' delimiter: line 6 column 22 (char 60)\n"
     ]
    },
    {
     "name": "stderr",
     "output_type": "stream",
     "text": [
      " 13%|█████                                  | 13/100 [28:49<3:40:33, 152.10s/it]"
     ]
    },
    {
     "name": "stdout",
     "output_type": "stream",
     "text": [
      "Fehler bei Fenster 3-6: Expecting ',' delimiter: line 6 column 34 (char 80)\n"
     ]
    },
    {
     "name": "stderr",
     "output_type": "stream",
     "text": [
      " 14%|█████▍                                 | 14/100 [30:29<3:15:12, 136.19s/it]"
     ]
    },
    {
     "name": "stdout",
     "output_type": "stream",
     "text": [
      "Fehler bei Fenster 0-3: Expecting ',' delimiter: line 8 column 15 (char 128)\n"
     ]
    },
    {
     "name": "stderr",
     "output_type": "stream",
     "text": [
      " 16%|██████▏                                | 16/100 [35:08<3:16:49, 140.59s/it]"
     ]
    },
    {
     "name": "stdout",
     "output_type": "stream",
     "text": [
      "Fehler bei Fenster 10-13: Expecting ',' delimiter: line 6 column 19 (char 52)\n"
     ]
    },
    {
     "name": "stderr",
     "output_type": "stream",
     "text": [
      " 20%|████████                                | 20/100 [36:46<1:08:56, 51.71s/it]"
     ]
    },
    {
     "name": "stdout",
     "output_type": "stream",
     "text": [
      "Fehler bei Fenster 5-8: Expecting ',' delimiter: line 6 column 31 (char 67)\n"
     ]
    },
    {
     "name": "stderr",
     "output_type": "stream",
     "text": [
      " 21%|████████▍                               | 21/100 [37:29<1:04:25, 48.93s/it]"
     ]
    },
    {
     "name": "stdout",
     "output_type": "stream",
     "text": [
      "Fehler bei Fenster 2-5: 'Wort'\n"
     ]
    },
    {
     "name": "stderr",
     "output_type": "stream",
     "text": [
      " 27%|██████████▊                             | 27/100 [45:46<1:45:06, 86.38s/it]"
     ]
    },
    {
     "name": "stdout",
     "output_type": "stream",
     "text": [
      "Fehler bei Fenster 12-15: Expecting ',' delimiter: line 6 column 18 (char 49)\n"
     ]
    },
    {
     "name": "stderr",
     "output_type": "stream",
     "text": [
      " 29%|███████████▎                           | 29/100 [49:35<1:58:22, 100.03s/it]"
     ]
    },
    {
     "name": "stdout",
     "output_type": "stream",
     "text": [
      "Fehler bei Fenster 10-13: Expecting ',' delimiter: line 6 column 19 (char 57)\n",
      "Fehler bei Fenster 13-16: Expecting ',' delimiter: line 6 column 23 (char 60)\n"
     ]
    },
    {
     "name": "stderr",
     "output_type": "stream",
     "text": [
      " 33%|█████████████▊                            | 33/100 [51:56<46:37, 41.76s/it]"
     ]
    },
    {
     "name": "stdout",
     "output_type": "stream",
     "text": [
      "Fehler bei Fenster 4-7: Expecting ',' delimiter: line 6 column 22 (char 53)\n"
     ]
    },
    {
     "name": "stderr",
     "output_type": "stream",
     "text": [
      " 44%|██████████████████▍                       | 44/100 [56:31<31:12, 33.43s/it]"
     ]
    },
    {
     "name": "stdout",
     "output_type": "stream",
     "text": [
      "Fehler bei Fenster 24-27: Expecting ',' delimiter: line 6 column 26 (char 67)\n"
     ]
    },
    {
     "name": "stderr",
     "output_type": "stream",
     "text": [
      " 46%|███████████████████▎                      | 46/100 [57:06<23:30, 26.12s/it]"
     ]
    },
    {
     "name": "stdout",
     "output_type": "stream",
     "text": [
      "Fehler bei Fenster 1-4: string indices must be integers\n",
      "Fehler bei Fenster 3-6: 'Wort'\n"
     ]
    },
    {
     "name": "stderr",
     "output_type": "stream",
     "text": [
      " 60%|████████████████████████                | 60/100 [1:04:03<16:13, 24.33s/it]"
     ]
    },
    {
     "name": "stdout",
     "output_type": "stream",
     "text": [
      "Fehler bei Fenster 8-11: Expecting ',' delimiter: line 9 column 26 (char 100)\n"
     ]
    },
    {
     "name": "stderr",
     "output_type": "stream",
     "text": [
      " 64%|█████████████████████████▌              | 64/100 [1:06:33<21:59, 36.65s/it]"
     ]
    },
    {
     "name": "stdout",
     "output_type": "stream",
     "text": [
      "Fehler bei Fenster 7-10: Expecting value: line 3 column 1 (char 24)\n"
     ]
    },
    {
     "name": "stderr",
     "output_type": "stream",
     "text": [
      " 68%|███████████████████████████▏            | 68/100 [1:08:59<17:43, 33.23s/it]"
     ]
    },
    {
     "name": "stdout",
     "output_type": "stream",
     "text": [
      "Fehler bei Fenster 0-3: string indices must be integers\n"
     ]
    },
    {
     "name": "stderr",
     "output_type": "stream",
     "text": [
      " 80%|████████████████████████████████        | 80/100 [1:15:34<15:14, 45.73s/it]"
     ]
    },
    {
     "name": "stdout",
     "output_type": "stream",
     "text": [
      "Fehler bei Fenster 0-3: 'Wort'\n",
      "Fehler bei Fenster 4-7: Expecting ',' delimiter: line 7 column 29 (char 106)\n",
      "Fehler bei Fenster 16-19: Expecting ',' delimiter: line 9 column 22 (char 80)\n"
     ]
    },
    {
     "name": "stderr",
     "output_type": "stream",
     "text": [
      " 81%|████████████████████████████████▍       | 81/100 [1:16:38<16:12, 51.17s/it]"
     ]
    },
    {
     "name": "stdout",
     "output_type": "stream",
     "text": [
      "Fehler bei Fenster 30-33: Expecting ',' delimiter: line 6 column 19 (char 58)\n"
     ]
    },
    {
     "name": "stderr",
     "output_type": "stream",
     "text": [
      " 88%|███████████████████████████████████▏    | 88/100 [1:21:40<09:45, 48.79s/it]"
     ]
    },
    {
     "name": "stdout",
     "output_type": "stream",
     "text": [
      "Fehler bei Fenster 8-11: Expecting ',' delimiter: line 6 column 27 (char 64)\n"
     ]
    },
    {
     "name": "stderr",
     "output_type": "stream",
     "text": [
      " 89%|███████████████████████████████████▌    | 89/100 [1:22:34<09:09, 49.99s/it]"
     ]
    },
    {
     "name": "stdout",
     "output_type": "stream",
     "text": [
      "Fehler bei Fenster 35-38: Expecting ',' delimiter: line 6 column 18 (char 66)\n",
      "Fehler bei Fenster 45-48: Expecting ',' delimiter: line 6 column 18 (char 50)\n",
      "Fehler bei Fenster 68-71: Expecting ',' delimiter: line 6 column 21 (char 52)\n"
     ]
    },
    {
     "name": "stderr",
     "output_type": "stream",
     "text": [
      " 92%|████████████████████████████████████▊   | 92/100 [1:27:35<09:06, 68.32s/it]"
     ]
    },
    {
     "name": "stdout",
     "output_type": "stream",
     "text": [
      "Fehler bei Fenster 20-23: Expecting ':' delimiter: line 11 column 3 (char 138)\n"
     ]
    },
    {
     "name": "stderr",
     "output_type": "stream",
     "text": [
      " 94%|█████████████████████████████████████▌  | 94/100 [1:29:03<05:16, 52.75s/it]"
     ]
    },
    {
     "name": "stdout",
     "output_type": "stream",
     "text": [
      "Fehler bei Fenster 20-23: Expecting property name enclosed in double quotes: line 4 column 71 (char 98)\n",
      "Fehler bei Fenster 59-62: Expecting ',' delimiter: line 9 column 24 (char 93)\n"
     ]
    },
    {
     "name": "stderr",
     "output_type": "stream",
     "text": [
      " 95%|██████████████████████████████████████  | 95/100 [1:31:58<07:23, 88.73s/it]"
     ]
    },
    {
     "name": "stdout",
     "output_type": "stream",
     "text": [
      "Fehler bei Fenster 32-35: 'Wort'\n",
      "Fehler bei Fenster 34-37: Expecting ',' delimiter: line 6 column 18 (char 65)\n"
     ]
    },
    {
     "name": "stderr",
     "output_type": "stream",
     "text": [
      " 96%|██████████████████████████████████████▍ | 96/100 [1:34:03<06:38, 99.66s/it]"
     ]
    },
    {
     "name": "stdout",
     "output_type": "stream",
     "text": [
      "Fehler bei Fenster 10-13: Expecting ',' delimiter: line 6 column 32 (char 69)\n",
      "Fehler bei Fenster 12-15: Expecting ',' delimiter: line 3 column 25 (char 50)\n"
     ]
    },
    {
     "name": "stderr",
     "output_type": "stream",
     "text": [
      " 99%|███████████████████████████████████████▌| 99/100 [1:36:29<01:07, 67.58s/it]"
     ]
    },
    {
     "name": "stdout",
     "output_type": "stream",
     "text": [
      "Fehler bei Fenster 10-13: Expecting ',' delimiter: line 6 column 35 (char 69)\n"
     ]
    },
    {
     "name": "stderr",
     "output_type": "stream",
     "text": [
      "100%|███████████████████████████████████████| 100/100 [1:38:20<00:00, 59.00s/it]\n",
      "/var/folders/3k/p86fss0s3cj7str70kyftdlh0000gp/T/ipykernel_1983/158416756.py:4: SettingWithCopyWarning: \n",
      "A value is trying to be set on a copy of a slice from a DataFrame.\n",
      "Try using .loc[row_indexer,col_indexer] = value instead\n",
      "\n",
      "See the caveats in the documentation: https://pandas.pydata.org/pandas-docs/stable/user_guide/indexing.html#returning-a-view-versus-a-copy\n",
      "  smaller_df[f'llm_result_{prompt[name]}']= smaller_df.progress_apply(\n"
     ]
    },
    {
     "name": "stdout",
     "output_type": "stream",
     "text": [
      "prompt_with_role\n"
     ]
    },
    {
     "name": "stderr",
     "output_type": "stream",
     "text": [
      "  0%|                                                   | 0/100 [00:00<?, ?it/s]"
     ]
    },
    {
     "name": "stdout",
     "output_type": "stream",
     "text": [
      "Fehler bei Fenster 42-45: Expecting ',' delimiter: line 6 column 18 (char 51)\n"
     ]
    },
    {
     "name": "stderr",
     "output_type": "stream",
     "text": [
      "  2%|▊                                        | 2/100 [02:45<2:15:01, 82.67s/it]"
     ]
    },
    {
     "name": "stdout",
     "output_type": "stream",
     "text": [
      "Fehler bei Fenster 16-19: Expecting ',' delimiter: line 6 column 21 (char 64)\n",
      "Fehler bei Fenster 39-42: Expecting ',' delimiter: line 6 column 19 (char 62)\n",
      "Fehler bei Fenster 42-45: Expecting ',' delimiter: line 6 column 18 (char 52)\n"
     ]
    },
    {
     "name": "stderr",
     "output_type": "stream",
     "text": [
      "  3%|█▏                                      | 3/100 [05:50<3:22:38, 125.35s/it]"
     ]
    },
    {
     "name": "stdout",
     "output_type": "stream",
     "text": [
      "Fehler bei Fenster 18-21: Expecting ',' delimiter: line 6 column 18 (char 59)\n"
     ]
    },
    {
     "name": "stderr",
     "output_type": "stream",
     "text": [
      "  4%|█▌                                      | 4/100 [10:49<5:04:27, 190.29s/it]"
     ]
    },
    {
     "name": "stdout",
     "output_type": "stream",
     "text": [
      "Fehler bei Fenster 3-6: 'Wort'\n"
     ]
    },
    {
     "name": "stderr",
     "output_type": "stream",
     "text": [
      "  5%|██                                      | 5/100 [12:45<4:20:04, 164.26s/it]"
     ]
    },
    {
     "name": "stdout",
     "output_type": "stream",
     "text": [
      "Fehler bei Fenster 5-8: Expecting ',' delimiter: line 6 column 22 (char 57)\n",
      "Fehler bei Fenster 20-23: Expecting ',' delimiter: line 12 column 19 (char 128)\n"
     ]
    },
    {
     "name": "stderr",
     "output_type": "stream",
     "text": [
      "  7%|██▊                                     | 7/100 [16:09<3:15:56, 126.42s/it]"
     ]
    },
    {
     "name": "stdout",
     "output_type": "stream",
     "text": [
      "Fehler bei Fenster 20-23: Expecting property name enclosed in double quotes: line 16 column 3 (char 173)\n"
     ]
    },
    {
     "name": "stderr",
     "output_type": "stream",
     "text": [
      "  8%|███▏                                    | 8/100 [17:49<3:01:23, 118.30s/it]"
     ]
    },
    {
     "name": "stdout",
     "output_type": "stream",
     "text": [
      "Fehler bei Fenster 34-37: Expecting ',' delimiter: line 3 column 26 (char 31)\n",
      "Fehler bei Fenster 53-56: 'Wort'\n"
     ]
    },
    {
     "name": "stderr",
     "output_type": "stream",
     "text": [
      "  9%|███▌                                    | 9/100 [21:06<3:36:19, 142.63s/it]"
     ]
    },
    {
     "name": "stdout",
     "output_type": "stream",
     "text": [
      "Fehler bei Fenster 15-18: Expecting ',' delimiter: line 6 column 24 (char 58)\n",
      "Fehler bei Fenster 37-40: Expecting ',' delimiter: line 6 column 40 (char 72)\n",
      "Fehler bei Fenster 42-45: Expecting ',' delimiter: line 6 column 19 (char 55)\n"
     ]
    },
    {
     "name": "stderr",
     "output_type": "stream",
     "text": [
      " 10%|███▉                                   | 10/100 [25:42<4:35:11, 183.46s/it]"
     ]
    },
    {
     "name": "stdout",
     "output_type": "stream",
     "text": [
      "Fehler bei Fenster 33-36: 'Wort'\n",
      "Fehler bei Fenster 50-53: 'Wort'\n",
      "Fehler bei Fenster 52-55: Expecting ',' delimiter: line 6 column 27 (char 59)\n",
      "Fehler bei Fenster 53-56: 'Wort'\n"
     ]
    },
    {
     "name": "stderr",
     "output_type": "stream",
     "text": [
      " 11%|████▎                                  | 11/100 [28:59<4:38:08, 187.51s/it]"
     ]
    },
    {
     "name": "stdout",
     "output_type": "stream",
     "text": [
      "Fehler bei Fenster 17-20: Expecting ',' delimiter: line 12 column 31 (char 136)\n"
     ]
    },
    {
     "name": "stderr",
     "output_type": "stream",
     "text": [
      " 12%|████▋                                  | 12/100 [31:39<4:22:59, 179.31s/it]"
     ]
    },
    {
     "name": "stdout",
     "output_type": "stream",
     "text": [
      "Fehler bei Fenster 12-15: Expecting ',' delimiter: line 6 column 32 (char 78)\n",
      "Fehler bei Fenster 23-26: Expecting ',' delimiter: line 6 column 30 (char 68)\n",
      "Fehler bei Fenster 24-27: Expecting ',' delimiter: line 6 column 29 (char 67)\n",
      "Fehler bei Fenster 26-29: must be str, not NoneType\n"
     ]
    },
    {
     "name": "stderr",
     "output_type": "stream",
     "text": [
      " 14%|█████▍                                 | 14/100 [36:43<3:52:24, 162.14s/it]"
     ]
    },
    {
     "name": "stdout",
     "output_type": "stream",
     "text": [
      "Fehler bei Fenster 7-10: Expecting ',' delimiter: line 6 column 19 (char 53)\n"
     ]
    },
    {
     "name": "stderr",
     "output_type": "stream",
     "text": [
      " 15%|█████▊                                 | 15/100 [38:54<3:36:43, 152.98s/it]"
     ]
    },
    {
     "name": "stdout",
     "output_type": "stream",
     "text": [
      "Fehler bei Fenster 22-25: Expecting ':' delimiter: line 7 column 12 (char 72)\n"
     ]
    },
    {
     "name": "stderr",
     "output_type": "stream",
     "text": [
      " 16%|██████▏                                | 16/100 [42:24<3:58:04, 170.05s/it]"
     ]
    },
    {
     "name": "stdout",
     "output_type": "stream",
     "text": [
      "Fehler bei Fenster 5-8: 'Wort'\n"
     ]
    },
    {
     "name": "stderr",
     "output_type": "stream",
     "text": [
      " 20%|████████                                | 20/100 [44:16<1:21:12, 60.90s/it]"
     ]
    },
    {
     "name": "stdout",
     "output_type": "stream",
     "text": [
      "Fehler bei Fenster 5-8: Expecting ',' delimiter: line 6 column 19 (char 51)\n"
     ]
    },
    {
     "name": "stderr",
     "output_type": "stream",
     "text": [
      " 24%|█████████▌                              | 24/100 [48:08<1:05:34, 51.77s/it]"
     ]
    },
    {
     "name": "stdout",
     "output_type": "stream",
     "text": [
      "Fehler bei Fenster 9-12: Expecting ',' delimiter: line 7 column 43 (char 109)\n"
     ]
    },
    {
     "name": "stderr",
     "output_type": "stream",
     "text": [
      " 25%|██████████                              | 25/100 [51:38<2:04:00, 99.20s/it]"
     ]
    },
    {
     "name": "stdout",
     "output_type": "stream",
     "text": [
      "Fehler bei Fenster 2-5: Expecting ',' delimiter: line 6 column 29 (char 65)\n",
      "Fehler bei Fenster 3-6: Expecting ',' delimiter: line 9 column 27 (char 100)\n",
      "Fehler bei Fenster 11-14: Expecting ',' delimiter: line 6 column 29 (char 61)\n"
     ]
    },
    {
     "name": "stderr",
     "output_type": "stream",
     "text": [
      " 26%|██████████▏                            | 26/100 [53:53<2:15:33, 109.91s/it]"
     ]
    },
    {
     "name": "stdout",
     "output_type": "stream",
     "text": [
      "Fehler bei Fenster 15-18: Expecting ',' delimiter: line 6 column 28 (char 67)\n"
     ]
    },
    {
     "name": "stderr",
     "output_type": "stream",
     "text": [
      " 27%|██████████▌                            | 27/100 [55:31<2:09:22, 106.34s/it]"
     ]
    },
    {
     "name": "stdout",
     "output_type": "stream",
     "text": [
      "Fehler bei Fenster 36-39: Expecting ',' delimiter: line 6 column 23 (char 55)\n"
     ]
    },
    {
     "name": "stderr",
     "output_type": "stream",
     "text": [
      " 29%|███████████▎                           | 29/100 [59:49<2:17:00, 115.78s/it]"
     ]
    },
    {
     "name": "stdout",
     "output_type": "stream",
     "text": [
      "Fehler bei Fenster 5-8: Expecting ',' delimiter: line 6 column 18 (char 56)\n",
      "Fehler bei Fenster 7-10: Expecting ':' delimiter: line 7 column 16 (char 80)\n"
     ]
    },
    {
     "name": "stderr",
     "output_type": "stream",
     "text": [
      " 30%|███████████                          | 30/100 [1:01:39<2:12:50, 113.87s/it]"
     ]
    },
    {
     "name": "stdout",
     "output_type": "stream",
     "text": [
      "Fehler bei Fenster 9-12: Expecting ',' delimiter: line 6 column 20 (char 57)\n"
     ]
    },
    {
     "name": "stderr",
     "output_type": "stream",
     "text": [
      " 31%|███████████▊                          | 31/100 [1:02:39<1:52:27, 97.80s/it]"
     ]
    },
    {
     "name": "stdout",
     "output_type": "stream",
     "text": [
      "Fehler bei Fenster 16-19: Expecting ',' delimiter: line 6 column 22 (char 65)\n"
     ]
    },
    {
     "name": "stderr",
     "output_type": "stream",
     "text": [
      " 33%|█████████████▏                          | 33/100 [1:02:52<56:45, 50.83s/it]"
     ]
    },
    {
     "name": "stdout",
     "output_type": "stream",
     "text": [
      "Fehler bei Fenster 0-3: Expecting ',' delimiter: line 9 column 18 (char 83)\n"
     ]
    },
    {
     "name": "stderr",
     "output_type": "stream",
     "text": [
      " 36%|██████████████▍                         | 36/100 [1:03:57<33:45, 31.65s/it]"
     ]
    },
    {
     "name": "stdout",
     "output_type": "stream",
     "text": [
      "Fehler bei Fenster 6-9: Expecting ',' delimiter: line 6 column 27 (char 61)\n"
     ]
    },
    {
     "name": "stderr",
     "output_type": "stream",
     "text": [
      " 40%|████████████████                        | 40/100 [1:05:45<27:25, 27.42s/it]"
     ]
    },
    {
     "name": "stdout",
     "output_type": "stream",
     "text": [
      "Fehler bei Fenster 1-4: 'Wort'\n"
     ]
    },
    {
     "name": "stderr",
     "output_type": "stream",
     "text": [
      " 43%|█████████████████▏                      | 43/100 [1:07:16<26:34, 27.97s/it]"
     ]
    },
    {
     "name": "stdout",
     "output_type": "stream",
     "text": [
      "Fehler bei Fenster 21-24: Expecting ',' delimiter: line 4 column 24 (char 59)\n"
     ]
    },
    {
     "name": "stderr",
     "output_type": "stream",
     "text": [
      " 48%|███████████████████▏                    | 48/100 [1:09:55<21:54, 25.28s/it]"
     ]
    },
    {
     "name": "stdout",
     "output_type": "stream",
     "text": [
      "Fehler bei Fenster 3-6: Expecting ',' delimiter: line 6 column 30 (char 62)\n",
      "Fehler bei Fenster 8-11: Expecting ',' delimiter: line 6 column 22 (char 64)\n"
     ]
    },
    {
     "name": "stderr",
     "output_type": "stream",
     "text": [
      " 49%|███████████████████▌                    | 49/100 [1:10:38<25:58, 30.56s/it]"
     ]
    },
    {
     "name": "stdout",
     "output_type": "stream",
     "text": [
      "Fehler bei Fenster 6-9: Expecting ',' delimiter: line 6 column 18 (char 50)\n"
     ]
    },
    {
     "name": "stderr",
     "output_type": "stream",
     "text": [
      " 50%|████████████████████                    | 50/100 [1:11:18<27:45, 33.30s/it]"
     ]
    },
    {
     "name": "stdout",
     "output_type": "stream",
     "text": [
      "Fehler bei Fenster 24-27: Expecting ',' delimiter: line 6 column 18 (char 51)\n"
     ]
    },
    {
     "name": "stderr",
     "output_type": "stream",
     "text": [
      " 52%|████████████████████▊                   | 52/100 [1:13:24<36:47, 45.99s/it]"
     ]
    },
    {
     "name": "stdout",
     "output_type": "stream",
     "text": [
      "Fehler bei Fenster 4-7: Expecting ',' delimiter: line 6 column 31 (char 71)\n",
      "Fehler bei Fenster 15-18: 'Wort'\n"
     ]
    },
    {
     "name": "stderr",
     "output_type": "stream",
     "text": [
      " 60%|████████████████████████                | 60/100 [1:17:43<19:56, 29.92s/it]"
     ]
    },
    {
     "name": "stdout",
     "output_type": "stream",
     "text": [
      "Fehler bei Fenster 1-4: Expecting ',' delimiter: line 7 column 46 (char 113)\n"
     ]
    },
    {
     "name": "stderr",
     "output_type": "stream",
     "text": [
      " 62%|████████████████████████▊               | 62/100 [1:19:12<24:05, 38.03s/it]"
     ]
    },
    {
     "name": "stdout",
     "output_type": "stream",
     "text": [
      "Fehler bei Fenster 6-9: Expecting ',' delimiter: line 6 column 31 (char 66)\n"
     ]
    },
    {
     "name": "stderr",
     "output_type": "stream",
     "text": [
      " 65%|██████████████████████████              | 65/100 [1:21:35<26:21, 45.20s/it]"
     ]
    },
    {
     "name": "stdout",
     "output_type": "stream",
     "text": [
      "Fehler bei Fenster 1-4: Expecting ':' delimiter: line 7 column 18 (char 79)\n",
      "Fehler bei Fenster 2-5: Expecting ',' delimiter: line 6 column 27 (char 66)\n",
      "Fehler bei Fenster 15-18: Expecting ',' delimiter: line 6 column 41 (char 74)\n"
     ]
    },
    {
     "name": "stderr",
     "output_type": "stream",
     "text": [
      " 70%|████████████████████████████            | 70/100 [1:24:47<16:13, 32.44s/it]"
     ]
    },
    {
     "name": "stdout",
     "output_type": "stream",
     "text": [
      "Fehler bei Fenster 4-7: Expecting ',' delimiter: line 6 column 28 (char 65)\n"
     ]
    },
    {
     "name": "stderr",
     "output_type": "stream",
     "text": [
      " 72%|████████████████████████████▊           | 72/100 [1:25:27<11:57, 25.62s/it]"
     ]
    },
    {
     "name": "stdout",
     "output_type": "stream",
     "text": [
      "Fehler bei Fenster 5-8: 'Wort'\n"
     ]
    },
    {
     "name": "stderr",
     "output_type": "stream",
     "text": [
      " 75%|██████████████████████████████          | 75/100 [1:27:24<15:45, 37.81s/it]"
     ]
    },
    {
     "name": "stdout",
     "output_type": "stream",
     "text": [
      "Fehler bei Fenster 10-13: Expecting ',' delimiter: line 6 column 21 (char 68)\n"
     ]
    },
    {
     "name": "stderr",
     "output_type": "stream",
     "text": [
      " 77%|██████████████████████████████▊         | 77/100 [1:29:15<17:41, 46.15s/it]"
     ]
    },
    {
     "name": "stdout",
     "output_type": "stream",
     "text": [
      "Fehler bei Fenster 9-12: Expecting property name enclosed in double quotes: line 8 column 3 (char 91)\n"
     ]
    },
    {
     "name": "stderr",
     "output_type": "stream",
     "text": [
      " 78%|███████████████████████████████▏        | 78/100 [1:30:22<19:15, 52.53s/it]"
     ]
    },
    {
     "name": "stdout",
     "output_type": "stream",
     "text": [
      "Fehler bei Fenster 2-5: Expecting ',' delimiter: line 6 column 28 (char 65)\n"
     ]
    },
    {
     "name": "stderr",
     "output_type": "stream",
     "text": [
      " 79%|███████████████████████████████▌        | 79/100 [1:30:43<15:00, 42.89s/it]"
     ]
    },
    {
     "name": "stdout",
     "output_type": "stream",
     "text": [
      "Fehler bei Fenster 5-8: Expecting ',' delimiter: line 6 column 35 (char 77)\n"
     ]
    },
    {
     "name": "stderr",
     "output_type": "stream",
     "text": [
      " 80%|████████████████████████████████        | 80/100 [1:32:13<19:00, 57.04s/it]"
     ]
    },
    {
     "name": "stdout",
     "output_type": "stream",
     "text": [
      "Fehler bei Fenster 2-5: Expecting ',' delimiter: line 6 column 37 (char 72)\n"
     ]
    },
    {
     "name": "stderr",
     "output_type": "stream",
     "text": [
      " 81%|████████████████████████████████▍       | 81/100 [1:33:30<20:00, 63.16s/it]"
     ]
    },
    {
     "name": "stdout",
     "output_type": "stream",
     "text": [
      "Fehler bei Fenster 2-5: 'Wort'\n",
      "Fehler bei Fenster 26-29: Expecting ',' delimiter: line 6 column 19 (char 51)\n"
     ]
    },
    {
     "name": "stderr",
     "output_type": "stream",
     "text": [
      " 87%|██████████████████████████████████▊     | 87/100 [1:37:26<08:39, 39.99s/it]"
     ]
    },
    {
     "name": "stdout",
     "output_type": "stream",
     "text": [
      "Fehler bei Fenster 6-9: Expecting ',' delimiter: line 9 column 25 (char 103)\n"
     ]
    },
    {
     "name": "stderr",
     "output_type": "stream",
     "text": [
      " 89%|███████████████████████████████████▌    | 89/100 [1:40:18<10:45, 58.67s/it]"
     ]
    },
    {
     "name": "stdout",
     "output_type": "stream",
     "text": [
      "Fehler bei Fenster 24-27: Expecting ',' delimiter: line 6 column 18 (char 64)\n"
     ]
    },
    {
     "name": "stderr",
     "output_type": "stream",
     "text": [
      " 91%|████████████████████████████████████▍   | 91/100 [1:45:29<14:31, 96.88s/it]"
     ]
    },
    {
     "name": "stdout",
     "output_type": "stream",
     "text": [
      "Fehler bei Fenster 2-5: Expecting ',' delimiter: line 6 column 18 (char 55)\n"
     ]
    },
    {
     "name": "stderr",
     "output_type": "stream",
     "text": [
      " 92%|████████████████████████████████████▊   | 92/100 [1:46:03<10:31, 78.95s/it]"
     ]
    },
    {
     "name": "stdout",
     "output_type": "stream",
     "text": [
      "Fehler bei Fenster 8-11: Expecting ',' delimiter: line 6 column 27 (char 61)\n"
     ]
    },
    {
     "name": "stderr",
     "output_type": "stream",
     "text": [
      " 94%|█████████████████████████████████████▌  | 94/100 [1:47:50<06:14, 62.34s/it]"
     ]
    },
    {
     "name": "stdout",
     "output_type": "stream",
     "text": [
      "Fehler bei Fenster 16-19: Expecting ',' delimiter: line 6 column 19 (char 50)\n",
      "Fehler bei Fenster 41-44: Expecting ',' delimiter: line 6 column 18 (char 52)\n",
      "Fehler bei Fenster 50-53: Expecting ',' delimiter: line 6 column 30 (char 78)\n"
     ]
    },
    {
     "name": "stderr",
     "output_type": "stream",
     "text": [
      " 95%|█████████████████████████████████████  | 95/100 [1:51:23<08:53, 106.74s/it]"
     ]
    },
    {
     "name": "stdout",
     "output_type": "stream",
     "text": [
      "Fehler bei Fenster 6-9: Expecting ',' delimiter: line 6 column 25 (char 63)\n"
     ]
    },
    {
     "name": "stderr",
     "output_type": "stream",
     "text": [
      " 96%|█████████████████████████████████████▍ | 96/100 [1:53:36<07:38, 114.63s/it]"
     ]
    },
    {
     "name": "stdout",
     "output_type": "stream",
     "text": [
      "Fehler bei Fenster 0-3: Expecting ',' delimiter: line 6 column 20 (char 59)\n"
     ]
    },
    {
     "name": "stderr",
     "output_type": "stream",
     "text": [
      " 98%|███████████████████████████████████████▏| 98/100 [1:55:09<02:37, 78.69s/it]"
     ]
    },
    {
     "name": "stdout",
     "output_type": "stream",
     "text": [
      "Fehler bei Fenster 2-5: 'Wort'\n"
     ]
    },
    {
     "name": "stderr",
     "output_type": "stream",
     "text": [
      " 99%|███████████████████████████████████████▌| 99/100 [1:56:27<01:18, 78.60s/it]"
     ]
    },
    {
     "name": "stdout",
     "output_type": "stream",
     "text": [
      "Fehler bei Fenster 13-16: Expecting ',' delimiter: line 6 column 22 (char 60)\n",
      "Fehler bei Fenster 17-20: string indices must be integers\n",
      "Fehler bei Fenster 19-22: 'Wort'\n",
      "Fehler bei Fenster 22-25: Expecting ',' delimiter: line 6 column 18 (char 59)\n"
     ]
    },
    {
     "name": "stderr",
     "output_type": "stream",
     "text": [
      "100%|███████████████████████████████████████| 100/100 [1:58:10<00:00, 85.80s/it]"
     ]
    },
    {
     "name": "stdout",
     "output_type": "stream",
     "text": [
      "Fehler bei Fenster 26-29: Expecting ',' delimiter: line 9 column 22 (char 87)\n"
     ]
    },
    {
     "name": "stderr",
     "output_type": "stream",
     "text": [
      "100%|███████████████████████████████████████| 100/100 [1:58:50<00:00, 71.30s/it]\n",
      "/var/folders/3k/p86fss0s3cj7str70kyftdlh0000gp/T/ipykernel_1983/158416756.py:4: SettingWithCopyWarning: \n",
      "A value is trying to be set on a copy of a slice from a DataFrame.\n",
      "Try using .loc[row_indexer,col_indexer] = value instead\n",
      "\n",
      "See the caveats in the documentation: https://pandas.pydata.org/pandas-docs/stable/user_guide/indexing.html#returning-a-view-versus-a-copy\n",
      "  smaller_df[f'llm_result_{prompt[name]}']= smaller_df.progress_apply(\n"
     ]
    },
    {
     "name": "stdout",
     "output_type": "stream",
     "text": [
      "prompt_with_example\n"
     ]
    },
    {
     "name": "stderr",
     "output_type": "stream",
     "text": [
      "  0%|                                                   | 0/100 [00:00<?, ?it/s]"
     ]
    },
    {
     "name": "stdout",
     "output_type": "stream",
     "text": [
      "Fehler bei Fenster 14-17: Expecting ',' delimiter: line 9 column 19 (char 88)\n",
      "Fehler bei Fenster 25-28: Expecting ',' delimiter: line 3 column 21 (char 26)\n"
     ]
    },
    {
     "name": "stderr",
     "output_type": "stream",
     "text": [
      "  2%|▊                                        | 2/100 [02:05<1:42:41, 62.87s/it]"
     ]
    },
    {
     "name": "stdout",
     "output_type": "stream",
     "text": [
      "Fehler bei Fenster 42-45: Expecting ',' delimiter: line 6 column 21 (char 56)\n",
      "Fehler bei Fenster 52-55: Expecting ',' delimiter: line 6 column 24 (char 61)\n"
     ]
    },
    {
     "name": "stderr",
     "output_type": "stream",
     "text": [
      "  3%|█▏                                      | 3/100 [04:45<2:47:00, 103.31s/it]"
     ]
    },
    {
     "name": "stdout",
     "output_type": "stream",
     "text": [
      "Fehler bei Fenster 25-28: Expecting ',' delimiter: line 6 column 18 (char 59)\n",
      "Fehler bei Fenster 43-46: Expecting ',' delimiter: line 9 column 21 (char 86)\n",
      "Fehler bei Fenster 53-56: Expecting ',' delimiter: line 6 column 21 (char 53)\n",
      "Fehler bei Fenster 62-65: Expecting ',' delimiter: line 9 column 30 (char 102)\n"
     ]
    },
    {
     "name": "stderr",
     "output_type": "stream",
     "text": [
      "  4%|█▌                                      | 4/100 [09:21<4:28:20, 167.71s/it]"
     ]
    },
    {
     "name": "stdout",
     "output_type": "stream",
     "text": [
      "Fehler bei Fenster 10-13: Expecting property name enclosed in double quotes: line 7 column 3 (char 63)\n",
      "Fehler bei Fenster 19-22: Expecting ',' delimiter: line 6 column 17 (char 55)\n"
     ]
    },
    {
     "name": "stderr",
     "output_type": "stream",
     "text": [
      "  5%|██                                      | 5/100 [11:06<3:50:53, 145.82s/it]"
     ]
    },
    {
     "name": "stdout",
     "output_type": "stream",
     "text": [
      "Fehler bei Fenster 30-33: Expecting ',' delimiter: line 6 column 19 (char 59)\n"
     ]
    },
    {
     "name": "stderr",
     "output_type": "stream",
     "text": [
      "  8%|███▎                                     | 8/100 [15:07<2:31:08, 98.58s/it]"
     ]
    },
    {
     "name": "stdout",
     "output_type": "stream",
     "text": [
      "Fehler bei Fenster 4-7: Expecting value: line 2 column 22 (char 23)\n",
      "Fehler bei Fenster 33-36: Expecting ',' delimiter: line 6 column 25 (char 76)\n",
      "Fehler bei Fenster 37-40: Expecting ',' delimiter: line 6 column 21 (char 57)\n",
      "Fehler bei Fenster 51-54: Expecting ',' delimiter: line 3 column 21 (char 26)\n",
      "Fehler bei Fenster 59-62: Expecting ',' delimiter: line 3 column 21 (char 56)\n"
     ]
    },
    {
     "name": "stderr",
     "output_type": "stream",
     "text": [
      "  9%|███▌                                    | 9/100 [18:05<3:06:46, 123.15s/it]"
     ]
    },
    {
     "name": "stdout",
     "output_type": "stream",
     "text": [
      "Fehler bei Fenster 2-5: Expecting ',' delimiter: line 6 column 21 (char 65)\n",
      "Fehler bei Fenster 9-12: Expecting ',' delimiter: line 3 column 21 (char 26)\n",
      "Fehler bei Fenster 15-18: Expecting ':' delimiter: line 7 column 18 (char 86)\n",
      "Fehler bei Fenster 16-19: Expecting ':' delimiter: line 8 column 3 (char 86)\n",
      "Fehler bei Fenster 18-21: Expecting ',' delimiter: line 6 column 26 (char 60)\n",
      "Fehler bei Fenster 27-30: Expecting ',' delimiter: line 12 column 21 (char 125)\n",
      "Fehler bei Fenster 64-67: Expecting ',' delimiter: line 3 column 21 (char 26)\n",
      "Fehler bei Fenster 66-69: Expecting ':' delimiter: line 8 column 3 (char 92)\n"
     ]
    },
    {
     "name": "stderr",
     "output_type": "stream",
     "text": [
      " 10%|███▉                                   | 10/100 [22:00<3:56:20, 157.56s/it]"
     ]
    },
    {
     "name": "stdout",
     "output_type": "stream",
     "text": [
      "Fehler bei Fenster 10-13: Expecting ',' delimiter: line 3 column 21 (char 26)\n",
      "Fehler bei Fenster 33-36: Expecting ',' delimiter: line 6 column 22 (char 62)\n",
      "Fehler bei Fenster 41-44: Expecting ',' delimiter: line 9 column 26 (char 101)\n",
      "Fehler bei Fenster 50-53: Expecting ',' delimiter: line 6 column 28 (char 60)\n"
     ]
    },
    {
     "name": "stderr",
     "output_type": "stream",
     "text": [
      " 11%|████▎                                  | 11/100 [25:04<4:05:22, 165.43s/it]"
     ]
    },
    {
     "name": "stdout",
     "output_type": "stream",
     "text": [
      "Fehler bei Fenster 28-31: Expecting ',' delimiter: line 3 column 21 (char 26)\n"
     ]
    },
    {
     "name": "stderr",
     "output_type": "stream",
     "text": [
      " 12%|████▋                                  | 12/100 [27:26<3:52:27, 158.49s/it]"
     ]
    },
    {
     "name": "stdout",
     "output_type": "stream",
     "text": [
      "Fehler bei Fenster 9-12: string indices must be integers\n",
      "Fehler bei Fenster 17-20: Expecting ',' delimiter: line 6 column 25 (char 57)\n",
      "Fehler bei Fenster 23-26: Expecting ',' delimiter: line 12 column 25 (char 129)\n",
      "Fehler bei Fenster 25-28: Expecting ',' delimiter: line 3 column 21 (char 26)\n",
      "Fehler bei Fenster 26-29: Expecting ',' delimiter: line 9 column 19 (char 83)\n"
     ]
    },
    {
     "name": "stderr",
     "output_type": "stream",
     "text": [
      " 14%|█████▍                                 | 14/100 [31:58<3:27:06, 144.50s/it]"
     ]
    },
    {
     "name": "stdout",
     "output_type": "stream",
     "text": [
      "Fehler bei Fenster 7-10: Expecting ',' delimiter: line 3 column 21 (char 26)\n",
      "Fehler bei Fenster 24-27: Expecting ',' delimiter: line 3 column 21 (char 26)\n",
      "Fehler bei Fenster 30-33: Expecting ',' delimiter: line 3 column 21 (char 44)\n",
      "Fehler bei Fenster 31-34: Expecting ',' delimiter: line 6 column 21 (char 56)\n",
      "Fehler bei Fenster 32-35: Expecting ',' delimiter: line 6 column 21 (char 56)\n"
     ]
    },
    {
     "name": "stderr",
     "output_type": "stream",
     "text": [
      " 15%|█████▊                                 | 15/100 [33:48<3:09:52, 134.03s/it]"
     ]
    },
    {
     "name": "stdout",
     "output_type": "stream",
     "text": [
      "Fehler bei Fenster 31-34: Expecting ',' delimiter: line 3 column 30 (char 35)\n"
     ]
    },
    {
     "name": "stderr",
     "output_type": "stream",
     "text": [
      " 16%|██████▏                                | 16/100 [36:54<3:29:50, 149.89s/it]"
     ]
    },
    {
     "name": "stdout",
     "output_type": "stream",
     "text": [
      "Fehler bei Fenster 56-59: Expecting ',' delimiter: line 6 column 27 (char 61)\n",
      "Fehler bei Fenster 9-12: Expecting ',' delimiter: line 6 column 19 (char 63)\n"
     ]
    },
    {
     "name": "stderr",
     "output_type": "stream",
     "text": [
      " 20%|████████                                | 20/100 [38:26<1:10:07, 52.59s/it]"
     ]
    },
    {
     "name": "stdout",
     "output_type": "stream",
     "text": [
      "Fehler bei Fenster 11-14: Expecting ',' delimiter: line 6 column 38 (char 74)\n"
     ]
    },
    {
     "name": "stderr",
     "output_type": "stream",
     "text": [
      " 21%|████████▍                               | 21/100 [39:11<1:06:08, 50.23s/it]"
     ]
    },
    {
     "name": "stdout",
     "output_type": "stream",
     "text": [
      "Fehler bei Fenster 3-6: 'Wort'\n",
      "Fehler bei Fenster 13-16: Expecting ',' delimiter: line 3 column 21 (char 26)\n",
      "Fehler bei Fenster 15-18: Expecting ',' delimiter: line 3 column 21 (char 26)\n"
     ]
    },
    {
     "name": "stderr",
     "output_type": "stream",
     "text": [
      " 24%|██████████                                | 24/100 [41:22<51:37, 40.75s/it]"
     ]
    },
    {
     "name": "stdout",
     "output_type": "stream",
     "text": [
      "Fehler bei Fenster 3-6: Expecting value: line 2 column 22 (char 23)\n",
      "Fehler bei Fenster 21-24: Expecting ',' delimiter: line 3 column 21 (char 45)\n"
     ]
    },
    {
     "name": "stderr",
     "output_type": "stream",
     "text": [
      " 25%|██████████                              | 25/100 [44:16<1:40:49, 80.66s/it]"
     ]
    },
    {
     "name": "stdout",
     "output_type": "stream",
     "text": [
      "Fehler bei Fenster 17-20: Expecting ',' delimiter: line 7 column 29 (char 92)\n"
     ]
    },
    {
     "name": "stderr",
     "output_type": "stream",
     "text": [
      " 26%|██████████▍                             | 26/100 [46:08<1:51:06, 90.09s/it]"
     ]
    },
    {
     "name": "stdout",
     "output_type": "stream",
     "text": [
      "Fehler bei Fenster 39-42: Expecting ',' delimiter: line 7 column 40 (char 102)\n",
      "Fehler bei Fenster 19-22: Expecting ',' delimiter: line 3 column 20 (char 41)\n"
     ]
    },
    {
     "name": "stderr",
     "output_type": "stream",
     "text": [
      " 27%|██████████▊                             | 27/100 [47:31<1:46:59, 87.94s/it]"
     ]
    },
    {
     "name": "stdout",
     "output_type": "stream",
     "text": [
      "Fehler bei Fenster 25-28: Expecting ',' delimiter: line 3 column 21 (char 26)\n",
      "Fehler bei Fenster 15-18: Expecting ',' delimiter: line 9 column 21 (char 100)\n",
      "Fehler bei Fenster 16-19: Expecting ',' delimiter: line 2 column 20 (char 21)\n",
      "Fehler bei Fenster 20-23: Expecting ',' delimiter: line 6 column 21 (char 57)\n",
      "Fehler bei Fenster 22-25: Expecting ',' delimiter: line 6 column 21 (char 56)\n",
      "Fehler bei Fenster 23-26: Expecting ',' delimiter: line 6 column 21 (char 56)\n",
      "Fehler bei Fenster 24-27: Expecting ',' delimiter: line 6 column 21 (char 56)\n",
      "Fehler bei Fenster 31-34: Expecting ',' delimiter: line 6 column 21 (char 53)\n"
     ]
    },
    {
     "name": "stderr",
     "output_type": "stream",
     "text": [
      " 28%|██████████▉                            | 28/100 [49:48<2:03:08, 102.62s/it]"
     ]
    },
    {
     "name": "stdout",
     "output_type": "stream",
     "text": [
      "Fehler bei Fenster 15-18: Expecting ',' delimiter: line 6 column 21 (char 53)\n",
      "Fehler bei Fenster 26-29: Expecting ',' delimiter: line 6 column 25 (char 59)\n"
     ]
    },
    {
     "name": "stderr",
     "output_type": "stream",
     "text": [
      " 30%|████████████                            | 30/100 [52:56<1:53:37, 97.40s/it]"
     ]
    },
    {
     "name": "stdout",
     "output_type": "stream",
     "text": [
      "Fehler bei Fenster 3-6: Expecting ',' delimiter: line 6 column 21 (char 56)\n"
     ]
    },
    {
     "name": "stderr",
     "output_type": "stream",
     "text": [
      " 36%|███████████████                           | 36/100 [54:48<28:23, 26.61s/it]"
     ]
    },
    {
     "name": "stdout",
     "output_type": "stream",
     "text": [
      "Fehler bei Fenster 5-8: Expecting ',' delimiter: line 6 column 21 (char 63)\n"
     ]
    },
    {
     "name": "stderr",
     "output_type": "stream",
     "text": [
      " 40%|████████████████▊                         | 40/100 [56:19<22:28, 22.47s/it]"
     ]
    },
    {
     "name": "stdout",
     "output_type": "stream",
     "text": [
      "Fehler bei Fenster 10-13: Expecting ',' delimiter: line 3 column 21 (char 26)\n"
     ]
    },
    {
     "name": "stderr",
     "output_type": "stream",
     "text": [
      " 43%|██████████████████                        | 43/100 [57:31<21:48, 22.96s/it]"
     ]
    },
    {
     "name": "stdout",
     "output_type": "stream",
     "text": [
      "Fehler bei Fenster 10-13: Expecting ',' delimiter: line 6 column 21 (char 57)\n",
      "Fehler bei Fenster 14-17: Expecting ',' delimiter: line 6 column 21 (char 52)\n",
      "Fehler bei Fenster 20-23: Expecting ',' delimiter: line 6 column 21 (char 55)\n",
      "Fehler bei Fenster 22-25: Expecting ',' delimiter: line 6 column 21 (char 64)\n"
     ]
    },
    {
     "name": "stderr",
     "output_type": "stream",
     "text": [
      " 45%|██████████████████▉                       | 45/100 [58:59<28:22, 30.95s/it]"
     ]
    },
    {
     "name": "stdout",
     "output_type": "stream",
     "text": [
      "Fehler bei Fenster 3-6: Expecting ',' delimiter: line 6 column 21 (char 63)\n"
     ]
    },
    {
     "name": "stderr",
     "output_type": "stream",
     "text": [
      " 49%|███████████████████▌                    | 49/100 [1:00:15<18:55, 22.27s/it]"
     ]
    },
    {
     "name": "stdout",
     "output_type": "stream",
     "text": [
      "Fehler bei Fenster 5-8: must be str, not NoneType\n",
      "Fehler bei Fenster 10-13: Expecting ',' delimiter: line 3 column 21 (char 26)\n"
     ]
    },
    {
     "name": "stderr",
     "output_type": "stream",
     "text": [
      " 50%|████████████████████                    | 50/100 [1:00:51<21:51, 26.23s/it]"
     ]
    },
    {
     "name": "stdout",
     "output_type": "stream",
     "text": [
      "Fehler bei Fenster 3-6: Expecting ',' delimiter: line 3 column 34 (char 59)\n"
     ]
    },
    {
     "name": "stderr",
     "output_type": "stream",
     "text": [
      " 55%|██████████████████████                  | 55/100 [1:04:12<23:07, 30.84s/it]"
     ]
    },
    {
     "name": "stdout",
     "output_type": "stream",
     "text": [
      "Fehler bei Fenster 5-8: Expecting ',' delimiter: line 6 column 21 (char 68)\n",
      "Fehler bei Fenster 8-11: Expecting ',' delimiter: line 3 column 21 (char 26)\n"
     ]
    },
    {
     "name": "stderr",
     "output_type": "stream",
     "text": [
      " 56%|██████████████████████▍                 | 56/100 [1:04:44<22:50, 31.15s/it]"
     ]
    },
    {
     "name": "stdout",
     "output_type": "stream",
     "text": [
      "Fehler bei Fenster 4-7: Expecting ',' delimiter: line 6 column 22 (char 59)\n"
     ]
    },
    {
     "name": "stderr",
     "output_type": "stream",
     "text": [
      " 60%|████████████████████████                | 60/100 [1:06:20<16:59, 25.50s/it]"
     ]
    },
    {
     "name": "stdout",
     "output_type": "stream",
     "text": [
      "Fehler bei Fenster 1-4: Expecting ':' delimiter: line 4 column 31 (char 91)\n",
      "Fehler bei Fenster 4-7: Expecting ',' delimiter: line 9 column 23 (char 93)\n"
     ]
    },
    {
     "name": "stderr",
     "output_type": "stream",
     "text": [
      " 61%|████████████████████████▍               | 61/100 [1:06:46<16:42, 25.72s/it]"
     ]
    },
    {
     "name": "stdout",
     "output_type": "stream",
     "text": [
      "Fehler bei Fenster 2-5: Expecting value: line 2 column 34 (char 35)\n",
      "Fehler bei Fenster 5-8: Expecting ',' delimiter: line 6 column 24 (char 65)\n"
     ]
    },
    {
     "name": "stderr",
     "output_type": "stream",
     "text": [
      " 63%|█████████████████████████▏              | 63/100 [1:07:56<18:10, 29.46s/it]"
     ]
    },
    {
     "name": "stdout",
     "output_type": "stream",
     "text": [
      "Fehler bei Fenster 1-4: Expecting ',' delimiter: line 6 column 21 (char 59)\n",
      "Fehler bei Fenster 19-22: 'Wort'\n"
     ]
    },
    {
     "name": "stderr",
     "output_type": "stream",
     "text": [
      " 65%|██████████████████████████              | 65/100 [1:09:36<22:35, 38.73s/it]"
     ]
    },
    {
     "name": "stdout",
     "output_type": "stream",
     "text": [
      "Fehler bei Fenster 2-5: Expecting ',' delimiter: line 6 column 24 (char 63)\n",
      "Fehler bei Fenster 16-19: Expecting ',' delimiter: line 3 column 21 (char 26)\n"
     ]
    },
    {
     "name": "stderr",
     "output_type": "stream",
     "text": [
      " 66%|██████████████████████████▍             | 66/100 [1:10:50<27:55, 49.28s/it]"
     ]
    },
    {
     "name": "stdout",
     "output_type": "stream",
     "text": [
      "Fehler bei Fenster 9-12: Expecting ',' delimiter: line 6 column 25 (char 72)\n"
     ]
    },
    {
     "name": "stderr",
     "output_type": "stream",
     "text": [
      " 72%|████████████████████████████▊           | 72/100 [1:12:47<09:18, 19.95s/it]"
     ]
    },
    {
     "name": "stdout",
     "output_type": "stream",
     "text": [
      "Fehler bei Fenster 2-5: Expecting ',' delimiter: line 6 column 26 (char 60)\n"
     ]
    },
    {
     "name": "stderr",
     "output_type": "stream",
     "text": [
      " 74%|█████████████████████████████▌          | 74/100 [1:13:21<07:52, 18.19s/it]"
     ]
    },
    {
     "name": "stdout",
     "output_type": "stream",
     "text": [
      "Fehler bei Fenster 5-8: 'Wort'\n",
      "Fehler bei Fenster 13-16: Expecting ',' delimiter: line 6 column 21 (char 61)\n"
     ]
    },
    {
     "name": "stderr",
     "output_type": "stream",
     "text": [
      " 75%|██████████████████████████████          | 75/100 [1:14:22<12:57, 31.10s/it]"
     ]
    },
    {
     "name": "stdout",
     "output_type": "stream",
     "text": [
      "Fehler bei Fenster 15-18: Expecting ',' delimiter: line 6 column 26 (char 61)\n"
     ]
    },
    {
     "name": "stderr",
     "output_type": "stream",
     "text": [
      " 77%|██████████████████████████████▊         | 77/100 [1:15:56<14:51, 38.75s/it]"
     ]
    },
    {
     "name": "stdout",
     "output_type": "stream",
     "text": [
      "Fehler bei Fenster 14-17: Expecting ',' delimiter: line 3 column 21 (char 26)\n",
      "Fehler bei Fenster 17-20: Expecting ',' delimiter: line 6 column 21 (char 59)\n"
     ]
    },
    {
     "name": "stderr",
     "output_type": "stream",
     "text": [
      " 79%|███████████████████████████████▌        | 79/100 [1:17:19<13:17, 37.96s/it]"
     ]
    },
    {
     "name": "stdout",
     "output_type": "stream",
     "text": [
      "Fehler bei Fenster 12-15: Expecting ',' delimiter: line 3 column 21 (char 26)\n",
      "Fehler bei Fenster 13-16: Expecting ',' delimiter: line 3 column 21 (char 26)\n",
      "Fehler bei Fenster 20-23: Expecting ',' delimiter: line 3 column 25 (char 32)\n"
     ]
    },
    {
     "name": "stderr",
     "output_type": "stream",
     "text": [
      " 80%|████████████████████████████████        | 80/100 [1:18:30<15:56, 47.81s/it]"
     ]
    },
    {
     "name": "stdout",
     "output_type": "stream",
     "text": [
      "Fehler bei Fenster 14-17: Expecting ',' delimiter: line 3 column 21 (char 26)\n"
     ]
    },
    {
     "name": "stderr",
     "output_type": "stream",
     "text": [
      " 81%|████████████████████████████████▍       | 81/100 [1:19:54<18:35, 58.70s/it]"
     ]
    },
    {
     "name": "stdout",
     "output_type": "stream",
     "text": [
      "Fehler bei Fenster 5-8: Expecting ',' delimiter: line 9 column 23 (char 101)\n",
      "Fehler bei Fenster 8-11: Expecting ',' delimiter: line 7 column 21 (char 131)\n",
      "Fehler bei Fenster 32-35: Expecting ',' delimiter: line 6 column 21 (char 53)\n",
      "Fehler bei Fenster 33-36: Expecting ',' delimiter: line 6 column 21 (char 57)\n"
     ]
    },
    {
     "name": "stderr",
     "output_type": "stream",
     "text": [
      " 83%|█████████████████████████████████▏      | 83/100 [1:21:58<15:43, 55.51s/it]"
     ]
    },
    {
     "name": "stdout",
     "output_type": "stream",
     "text": [
      "Fehler bei Fenster 1-4: Expecting ',' delimiter: line 6 column 21 (char 59)\n"
     ]
    },
    {
     "name": "stderr",
     "output_type": "stream",
     "text": [
      " 85%|██████████████████████████████████      | 85/100 [1:22:11<07:33, 30.23s/it]"
     ]
    },
    {
     "name": "stdout",
     "output_type": "stream",
     "text": [
      "Fehler bei Fenster 0-3: Expecting ',' delimiter: line 3 column 33 (char 155)\n"
     ]
    },
    {
     "name": "stderr",
     "output_type": "stream",
     "text": [
      " 87%|██████████████████████████████████▊     | 87/100 [1:23:34<07:39, 35.38s/it]"
     ]
    },
    {
     "name": "stdout",
     "output_type": "stream",
     "text": [
      "Fehler bei Fenster 18-21: Expecting value: line 2 column 36 (char 37)\n",
      "Fehler bei Fenster 27-30: Expecting ',' delimiter: line 3 column 21 (char 26)\n"
     ]
    },
    {
     "name": "stderr",
     "output_type": "stream",
     "text": [
      " 89%|███████████████████████████████████▌    | 89/100 [1:25:57<09:09, 49.93s/it]"
     ]
    },
    {
     "name": "stdout",
     "output_type": "stream",
     "text": [
      "Fehler bei Fenster 74-77: Expecting ',' delimiter: line 6 column 21 (char 69)\n",
      "Fehler bei Fenster 75-78: Expecting ',' delimiter: line 6 column 22 (char 70)\n"
     ]
    },
    {
     "name": "stderr",
     "output_type": "stream",
     "text": [
      " 91%|████████████████████████████████████▍   | 91/100 [1:30:30<12:37, 84.14s/it]"
     ]
    },
    {
     "name": "stdout",
     "output_type": "stream",
     "text": [
      "Fehler bei Fenster 0-3: Expecting value: line 3 column 1 (char 131)\n"
     ]
    },
    {
     "name": "stderr",
     "output_type": "stream",
     "text": [
      " 92%|████████████████████████████████████▊   | 92/100 [1:31:02<09:13, 69.19s/it]"
     ]
    },
    {
     "name": "stdout",
     "output_type": "stream",
     "text": [
      "Fehler bei Fenster 7-10: Expecting ',' delimiter: line 6 column 21 (char 77)\n"
     ]
    },
    {
     "name": "stderr",
     "output_type": "stream",
     "text": [
      " 94%|█████████████████████████████████████▌  | 94/100 [1:32:24<05:10, 51.73s/it]"
     ]
    },
    {
     "name": "stdout",
     "output_type": "stream",
     "text": [
      "Fehler bei Fenster 3-6: Expecting ',' delimiter: line 3 column 21 (char 26)\n",
      "Fehler bei Fenster 8-11: Expecting value: line 2 column 22 (char 23)\n",
      "Fehler bei Fenster 26-29: 'Wort'\n",
      "Fehler bei Fenster 34-37: Expecting ',' delimiter: line 3 column 21 (char 26)\n",
      "Fehler bei Fenster 36-39: Expecting ',' delimiter: line 6 column 22 (char 79)\n",
      "Fehler bei Fenster 50-53: Expecting ',' delimiter: line 6 column 27 (char 71)\n"
     ]
    },
    {
     "name": "stderr",
     "output_type": "stream",
     "text": [
      " 95%|██████████████████████████████████████  | 95/100 [1:35:21<07:24, 88.84s/it]"
     ]
    },
    {
     "name": "stdout",
     "output_type": "stream",
     "text": [
      "Fehler bei Fenster 16-19: Expecting ',' delimiter: line 9 column 19 (char 98)\n",
      "Fehler bei Fenster 17-20: Expecting ',' delimiter: line 6 column 19 (char 69)\n"
     ]
    },
    {
     "name": "stderr",
     "output_type": "stream",
     "text": [
      " 96%|██████████████████████████████████████▍ | 96/100 [1:37:08<06:16, 94.24s/it]"
     ]
    },
    {
     "name": "stdout",
     "output_type": "stream",
     "text": [
      "Fehler bei Fenster 9-12: Expecting ',' delimiter: line 6 column 27 (char 73)\n"
     ]
    },
    {
     "name": "stderr",
     "output_type": "stream",
     "text": [
      " 97%|██████████████████████████████████████▊ | 97/100 [1:37:49<03:54, 78.23s/it]"
     ]
    },
    {
     "name": "stdout",
     "output_type": "stream",
     "text": [
      "Fehler bei Fenster 1-4: Expecting ',' delimiter: line 3 column 21 (char 26)\n"
     ]
    },
    {
     "name": "stderr",
     "output_type": "stream",
     "text": [
      " 98%|███████████████████████████████████████▏| 98/100 [1:38:14<02:05, 62.51s/it]"
     ]
    },
    {
     "name": "stdout",
     "output_type": "stream",
     "text": [
      "Fehler bei Fenster 12-15: Expecting ',' delimiter: line 7 column 56 (char 130)\n"
     ]
    },
    {
     "name": "stderr",
     "output_type": "stream",
     "text": [
      " 99%|███████████████████████████████████████▌| 99/100 [1:39:31<01:06, 66.82s/it]"
     ]
    },
    {
     "name": "stdout",
     "output_type": "stream",
     "text": [
      "Fehler bei Fenster 13-16: Expecting ',' delimiter: line 6 column 21 (char 59)\n",
      "Fehler bei Fenster 15-18: Expecting ',' delimiter: line 6 column 28 (char 68)\n"
     ]
    },
    {
     "name": "stderr",
     "output_type": "stream",
     "text": [
      "100%|███████████████████████████████████████| 100/100 [1:40:52<00:00, 70.96s/it]"
     ]
    },
    {
     "name": "stdout",
     "output_type": "stream",
     "text": [
      "Fehler bei Fenster 0-3: Expecting ',' delimiter: line 6 column 21 (char 53)\n",
      "Fehler bei Fenster 8-11: Expecting ',' delimiter: line 6 column 21 (char 62)\n"
     ]
    },
    {
     "name": "stderr",
     "output_type": "stream",
     "text": [
      "100%|███████████████████████████████████████| 100/100 [1:41:33<00:00, 60.94s/it]\n",
      "/var/folders/3k/p86fss0s3cj7str70kyftdlh0000gp/T/ipykernel_1983/158416756.py:4: SettingWithCopyWarning: \n",
      "A value is trying to be set on a copy of a slice from a DataFrame.\n",
      "Try using .loc[row_indexer,col_indexer] = value instead\n",
      "\n",
      "See the caveats in the documentation: https://pandas.pydata.org/pandas-docs/stable/user_guide/indexing.html#returning-a-view-versus-a-copy\n",
      "  smaller_df[f'llm_result_{prompt[name]}']= smaller_df.progress_apply(\n"
     ]
    },
    {
     "name": "stdout",
     "output_type": "stream",
     "text": [
      "prompt_with_role_and_example\n"
     ]
    },
    {
     "name": "stderr",
     "output_type": "stream",
     "text": [
      "  0%|                                                   | 0/100 [00:00<?, ?it/s]"
     ]
    },
    {
     "name": "stdout",
     "output_type": "stream",
     "text": [
      "Fehler bei Fenster 16-19: Expecting ',' delimiter: line 6 column 27 (char 67)\n",
      "Fehler bei Fenster 26-29: Expecting ',' delimiter: line 6 column 23 (char 57)\n",
      "Fehler bei Fenster 27-30: Expecting ',' delimiter: line 6 column 21 (char 72)\n"
     ]
    },
    {
     "name": "stderr",
     "output_type": "stream",
     "text": [
      "  2%|▊                                        | 2/100 [02:57<2:24:51, 88.69s/it]"
     ]
    },
    {
     "name": "stdout",
     "output_type": "stream",
     "text": [
      "Fehler bei Fenster 9-12: Expecting ',' delimiter: line 6 column 21 (char 56)\n",
      "Fehler bei Fenster 11-14: Expecting ',' delimiter: line 3 column 21 (char 26)\n",
      "Fehler bei Fenster 14-17: Expecting ',' delimiter: line 6 column 19 (char 53)\n",
      "Fehler bei Fenster 42-45: Expecting ',' delimiter: line 6 column 21 (char 56)\n",
      "Fehler bei Fenster 50-53: Expecting ',' delimiter: line 6 column 21 (char 58)\n"
     ]
    },
    {
     "name": "stderr",
     "output_type": "stream",
     "text": [
      "  3%|█▏                                      | 3/100 [06:26<3:44:22, 138.79s/it]"
     ]
    },
    {
     "name": "stdout",
     "output_type": "stream",
     "text": [
      "Fehler bei Fenster 9-12: Expecting ',' delimiter: line 6 column 19 (char 60)\n",
      "Fehler bei Fenster 24-27: Expecting ',' delimiter: line 9 column 18 (char 90)\n",
      "Fehler bei Fenster 52-55: Expecting ',' delimiter: line 6 column 19 (char 60)\n",
      "Fehler bei Fenster 67-70: Expecting ',' delimiter: line 6 column 21 (char 62)\n",
      "Fehler bei Fenster 90-93: Expecting ',' delimiter: line 6 column 32 (char 64)\n"
     ]
    },
    {
     "name": "stderr",
     "output_type": "stream",
     "text": [
      "  4%|█▌                                      | 4/100 [11:44<5:29:12, 205.75s/it]"
     ]
    },
    {
     "name": "stdout",
     "output_type": "stream",
     "text": [
      "Fehler bei Fenster 26-29: Expecting ',' delimiter: line 6 column 25 (char 64)\n",
      "Fehler bei Fenster 30-33: Expecting ',' delimiter: line 9 column 19 (char 87)\n"
     ]
    },
    {
     "name": "stderr",
     "output_type": "stream",
     "text": [
      "  5%|██                                      | 5/100 [13:53<4:43:15, 178.90s/it]"
     ]
    },
    {
     "name": "stdout",
     "output_type": "stream",
     "text": [
      "Fehler bei Fenster 0-3: Expecting ',' delimiter: line 6 column 21 (char 56)\n",
      "Fehler bei Fenster 1-4: Expecting ',' delimiter: line 3 column 31 (char 36)\n",
      "Fehler bei Fenster 19-22: Expecting ',' delimiter: line 6 column 26 (char 64)\n",
      "Fehler bei Fenster 20-23: Expecting ',' delimiter: line 12 column 19 (char 129)\n"
     ]
    },
    {
     "name": "stderr",
     "output_type": "stream",
     "text": [
      "  6%|██▍                                     | 6/100 [16:26<4:27:03, 170.46s/it]"
     ]
    },
    {
     "name": "stdout",
     "output_type": "stream",
     "text": [
      "Fehler bei Fenster 8-11: Expecting ':' delimiter: line 8 column 3 (char 82)\n"
     ]
    },
    {
     "name": "stderr",
     "output_type": "stream",
     "text": [
      "  7%|██▊                                     | 7/100 [17:23<3:27:34, 133.92s/it]"
     ]
    },
    {
     "name": "stdout",
     "output_type": "stream",
     "text": [
      "Fehler bei Fenster 0-3: Expecting ',' delimiter: line 3 column 21 (char 26)\n"
     ]
    },
    {
     "name": "stderr",
     "output_type": "stream",
     "text": [
      "  8%|███▏                                    | 8/100 [19:11<3:12:42, 125.68s/it]"
     ]
    },
    {
     "name": "stdout",
     "output_type": "stream",
     "text": [
      "Fehler bei Fenster 0-3: Expecting ',' delimiter: line 6 column 21 (char 57)\n",
      "Fehler bei Fenster 3-6: Expecting ',' delimiter: line 3 column 21 (char 26)\n",
      "Fehler bei Fenster 4-7: Expecting ',' delimiter: line 3 column 21 (char 26)\n",
      "Fehler bei Fenster 34-37: Expecting ',' delimiter: line 3 column 21 (char 26)\n",
      "Fehler bei Fenster 52-55: Expecting ',' delimiter: line 6 column 25 (char 71)\n",
      "Fehler bei Fenster 54-57: Expecting ',' delimiter: line 6 column 21 (char 60)\n",
      "Fehler bei Fenster 59-62: Expecting ',' delimiter: line 6 column 21 (char 60)\n"
     ]
    },
    {
     "name": "stderr",
     "output_type": "stream",
     "text": [
      "  9%|███▌                                    | 9/100 [22:50<3:54:54, 154.89s/it]"
     ]
    },
    {
     "name": "stdout",
     "output_type": "stream",
     "text": [
      "Fehler bei Fenster 12-15: Expecting ',' delimiter: line 3 column 21 (char 26)\n",
      "Fehler bei Fenster 22-25: Expecting ',' delimiter: line 6 column 21 (char 62)\n",
      "Fehler bei Fenster 58-61: Expecting ',' delimiter: line 6 column 32 (char 70)\n",
      "Fehler bei Fenster 67-70: Expecting property name enclosed in double quotes: line 7 column 3 (char 67)\n"
     ]
    },
    {
     "name": "stderr",
     "output_type": "stream",
     "text": [
      " 10%|███▉                                   | 10/100 [27:41<4:55:02, 196.69s/it]"
     ]
    },
    {
     "name": "stdout",
     "output_type": "stream",
     "text": [
      "Fehler bei Fenster 40-43: Expecting ',' delimiter: line 6 column 26 (char 60)\n"
     ]
    },
    {
     "name": "stderr",
     "output_type": "stream",
     "text": [
      " 11%|████▎                                  | 11/100 [31:04<4:54:23, 198.47s/it]"
     ]
    },
    {
     "name": "stdout",
     "output_type": "stream",
     "text": [
      "Fehler bei Fenster 12-15: Expecting ',' delimiter: line 9 column 31 (char 112)\n",
      "Fehler bei Fenster 16-19: Expecting ',' delimiter: line 9 column 29 (char 104)\n",
      "Fehler bei Fenster 17-20: Expecting ',' delimiter: line 6 column 33 (char 79)\n",
      "Fehler bei Fenster 18-21: Expecting ',' delimiter: line 6 column 18 (char 60)\n",
      "Fehler bei Fenster 22-25: Expecting ',' delimiter: line 6 column 21 (char 56)\n",
      "Fehler bei Fenster 34-37: Expecting ',' delimiter: line 6 column 20 (char 51)\n"
     ]
    },
    {
     "name": "stderr",
     "output_type": "stream",
     "text": [
      " 12%|████▋                                  | 12/100 [34:14<4:47:25, 195.97s/it]"
     ]
    },
    {
     "name": "stdout",
     "output_type": "stream",
     "text": [
      "Fehler bei Fenster 1-4: 'Wort'\n",
      "Fehler bei Fenster 18-21: Expecting ',' delimiter: line 6 column 21 (char 53)\n",
      "Fehler bei Fenster 23-26: Expecting ',' delimiter: line 6 column 25 (char 62)\n",
      "Fehler bei Fenster 24-27: Expecting ',' delimiter: line 6 column 21 (char 59)\n",
      "Fehler bei Fenster 25-28: Expecting ',' delimiter: line 3 column 21 (char 26)\n",
      "Fehler bei Fenster 28-31: Expecting ',' delimiter: line 6 column 19 (char 53)\n"
     ]
    },
    {
     "name": "stderr",
     "output_type": "stream",
     "text": [
      " 14%|█████▍                                 | 14/100 [40:09<4:23:34, 183.89s/it]"
     ]
    },
    {
     "name": "stdout",
     "output_type": "stream",
     "text": [
      "Fehler bei Fenster 21-24: Expecting ',' delimiter: line 3 column 21 (char 26)\n",
      "Fehler bei Fenster 30-33: Expecting ',' delimiter: line 6 column 21 (char 56)\n",
      "Fehler bei Fenster 31-34: Expecting ',' delimiter: line 6 column 21 (char 56)\n",
      "Fehler bei Fenster 32-35: Expecting ',' delimiter: line 6 column 21 (char 56)\n"
     ]
    },
    {
     "name": "stderr",
     "output_type": "stream",
     "text": [
      " 15%|█████▊                                 | 15/100 [42:33<4:03:13, 171.69s/it]"
     ]
    },
    {
     "name": "stdout",
     "output_type": "stream",
     "text": [
      "Fehler bei Fenster 15-18: 'Wort'\n",
      "Fehler bei Fenster 30-33: Expecting ',' delimiter: line 6 column 21 (char 56)\n"
     ]
    },
    {
     "name": "stderr",
     "output_type": "stream",
     "text": [
      " 16%|██████▏                                | 16/100 [46:24<4:25:32, 189.68s/it]"
     ]
    },
    {
     "name": "stdout",
     "output_type": "stream",
     "text": [
      "Fehler bei Fenster 9-12: Expecting ',' delimiter: line 6 column 19 (char 63)\n"
     ]
    },
    {
     "name": "stderr",
     "output_type": "stream",
     "text": [
      " 18%|███████                                | 18/100 [47:38<2:29:45, 109.58s/it]"
     ]
    },
    {
     "name": "stdout",
     "output_type": "stream",
     "text": [
      "Fehler bei Fenster 0-3: Expecting ',' delimiter: line 6 column 21 (char 53)\n"
     ]
    },
    {
     "name": "stderr",
     "output_type": "stream",
     "text": [
      " 20%|████████                                | 20/100 [48:44<1:35:23, 71.54s/it]"
     ]
    },
    {
     "name": "stdout",
     "output_type": "stream",
     "text": [
      "Fehler bei Fenster 9-12: Expecting ':' delimiter: line 1 column 23 (char 22)\n"
     ]
    },
    {
     "name": "stderr",
     "output_type": "stream",
     "text": [
      " 21%|████████▍                               | 21/100 [49:50<1:31:52, 69.77s/it]"
     ]
    },
    {
     "name": "stdout",
     "output_type": "stream",
     "text": [
      "Fehler bei Fenster 8-11: Expecting ',' delimiter: line 6 column 21 (char 65)\n",
      "Fehler bei Fenster 21-24: Expecting ',' delimiter: line 6 column 28 (char 64)\n"
     ]
    },
    {
     "name": "stderr",
     "output_type": "stream",
     "text": [
      " 22%|████████▊                               | 22/100 [51:35<1:44:19, 80.25s/it]"
     ]
    },
    {
     "name": "stdout",
     "output_type": "stream",
     "text": [
      "Fehler bei Fenster 11-14: Expecting ',' delimiter: line 6 column 21 (char 54)\n"
     ]
    },
    {
     "name": "stderr",
     "output_type": "stream",
     "text": [
      " 24%|█████████▌                              | 24/100 [52:44<1:09:56, 55.21s/it]"
     ]
    },
    {
     "name": "stdout",
     "output_type": "stream",
     "text": [
      "Fehler bei Fenster 4-7: Expecting ',' delimiter: line 6 column 24 (char 61)\n",
      "Fehler bei Fenster 7-10: Expecting ',' delimiter: line 6 column 21 (char 63)\n",
      "Fehler bei Fenster 41-44: Expecting ',' delimiter: line 6 column 30 (char 67)\n"
     ]
    },
    {
     "name": "stderr",
     "output_type": "stream",
     "text": [
      " 25%|█████████▊                             | 25/100 [56:25<2:11:14, 104.99s/it]"
     ]
    },
    {
     "name": "stdout",
     "output_type": "stream",
     "text": [
      "Fehler bei Fenster 16-19: Expecting ',' delimiter: line 6 column 21 (char 56)\n"
     ]
    },
    {
     "name": "stderr",
     "output_type": "stream",
     "text": [
      " 26%|██████████▏                            | 26/100 [58:47<2:23:17, 116.18s/it]"
     ]
    },
    {
     "name": "stdout",
     "output_type": "stream",
     "text": [
      "Fehler bei Fenster 9-12: Expecting ',' delimiter: line 6 column 21 (char 61)\n",
      "Fehler bei Fenster 16-19: Expecting ',' delimiter: line 6 column 21 (char 66)\n"
     ]
    },
    {
     "name": "stderr",
     "output_type": "stream",
     "text": [
      " 27%|█████████▉                           | 27/100 [1:00:17<2:11:37, 108.18s/it]"
     ]
    },
    {
     "name": "stdout",
     "output_type": "stream",
     "text": [
      "Fehler bei Fenster 6-9: Expecting ',' delimiter: line 6 column 22 (char 57)\n",
      "Fehler bei Fenster 23-26: Expecting ',' delimiter: line 6 column 21 (char 56)\n",
      "Fehler bei Fenster 34-37: Expecting ',' delimiter: line 6 column 21 (char 66)\n"
     ]
    },
    {
     "name": "stderr",
     "output_type": "stream",
     "text": [
      " 28%|██████████▎                          | 28/100 [1:03:09<2:32:49, 127.36s/it]"
     ]
    },
    {
     "name": "stdout",
     "output_type": "stream",
     "text": [
      "Fehler bei Fenster 2-5: Expecting ',' delimiter: line 6 column 35 (char 72)\n",
      "Fehler bei Fenster 15-18: Expecting ',' delimiter: line 3 column 21 (char 26)\n",
      "Fehler bei Fenster 26-29: Expecting ',' delimiter: line 3 column 21 (char 26)\n",
      "Fehler bei Fenster 27-30: Expecting ',' delimiter: line 6 column 25 (char 60)\n",
      "Fehler bei Fenster 28-31: Expecting ',' delimiter: line 6 column 25 (char 63)\n"
     ]
    },
    {
     "name": "stderr",
     "output_type": "stream",
     "text": [
      " 29%|██████████▋                          | 29/100 [1:05:05<2:26:43, 124.00s/it]"
     ]
    },
    {
     "name": "stdout",
     "output_type": "stream",
     "text": [
      "Fehler bei Fenster 7-10: Expecting ',' delimiter: line 12 column 19 (char 117)\n",
      "Fehler bei Fenster 13-16: Expecting ',' delimiter: line 6 column 20 (char 58)\n",
      "Fehler bei Fenster 14-17: Expecting ',' delimiter: line 6 column 19 (char 57)\n"
     ]
    },
    {
     "name": "stderr",
     "output_type": "stream",
     "text": [
      " 35%|██████████████                          | 35/100 [1:08:45<38:35, 35.62s/it]"
     ]
    },
    {
     "name": "stdout",
     "output_type": "stream",
     "text": [
      "Fehler bei Fenster 3-6: Expecting ',' delimiter: line 6 column 21 (char 64)\n"
     ]
    },
    {
     "name": "stderr",
     "output_type": "stream",
     "text": [
      " 36%|██████████████▍                         | 36/100 [1:09:09<34:11, 32.05s/it]"
     ]
    },
    {
     "name": "stdout",
     "output_type": "stream",
     "text": [
      "Fehler bei Fenster 6-9: Expecting ':' delimiter: line 8 column 3 (char 82)\n",
      "Fehler bei Fenster 3-6: Expecting ',' delimiter: line 3 column 21 (char 26)\n"
     ]
    },
    {
     "name": "stderr",
     "output_type": "stream",
     "text": [
      " 39%|███████████████▌                        | 39/100 [1:10:32<26:01, 25.61s/it]"
     ]
    },
    {
     "name": "stdout",
     "output_type": "stream",
     "text": [
      "Fehler bei Fenster 1-4: Expecting ',' delimiter: line 6 column 21 (char 73)\n"
     ]
    },
    {
     "name": "stderr",
     "output_type": "stream",
     "text": [
      " 40%|████████████████                        | 40/100 [1:11:07<28:14, 28.25s/it]"
     ]
    },
    {
     "name": "stdout",
     "output_type": "stream",
     "text": [
      "Fehler bei Fenster 8-11: Expecting ',' delimiter: line 6 column 27 (char 65)\n"
     ]
    },
    {
     "name": "stderr",
     "output_type": "stream",
     "text": [
      " 43%|█████████████████▏                      | 43/100 [1:12:54<29:47, 31.36s/it]"
     ]
    },
    {
     "name": "stdout",
     "output_type": "stream",
     "text": [
      "Fehler bei Fenster 10-13: Expecting ',' delimiter: line 6 column 21 (char 57)\n",
      "Fehler bei Fenster 14-17: Expecting ',' delimiter: line 6 column 22 (char 53)\n"
     ]
    },
    {
     "name": "stderr",
     "output_type": "stream",
     "text": [
      " 46%|██████████████████▍                     | 46/100 [1:15:23<34:50, 38.71s/it]"
     ]
    },
    {
     "name": "stdout",
     "output_type": "stream",
     "text": [
      "Fehler bei Fenster 1-4: Expecting ',' delimiter: line 4 column 31 (char 70)\n"
     ]
    },
    {
     "name": "stderr",
     "output_type": "stream",
     "text": [
      " 51%|████████████████████▍                   | 51/100 [1:18:56<41:57, 51.38s/it]"
     ]
    },
    {
     "name": "stdout",
     "output_type": "stream",
     "text": [
      "Fehler bei Fenster 5-8: Expecting ',' delimiter: line 6 column 30 (char 67)\n",
      "Fehler bei Fenster 8-11: Expecting ',' delimiter: line 3 column 33 (char 38)\n"
     ]
    },
    {
     "name": "stderr",
     "output_type": "stream",
     "text": [
      " 52%|████████████████████▊                   | 52/100 [1:19:36<38:21, 47.95s/it]"
     ]
    },
    {
     "name": "stdout",
     "output_type": "stream",
     "text": [
      "Fehler bei Fenster 13-16: Expecting ',' delimiter: line 6 column 25 (char 73)\n"
     ]
    },
    {
     "name": "stderr",
     "output_type": "stream",
     "text": [
      " 55%|██████████████████████                  | 55/100 [1:21:47<30:04, 40.10s/it]"
     ]
    },
    {
     "name": "stdout",
     "output_type": "stream",
     "text": [
      "Fehler bei Fenster 7-10: Expecting ',' delimiter: line 3 column 21 (char 26)\n"
     ]
    },
    {
     "name": "stderr",
     "output_type": "stream",
     "text": [
      " 56%|██████████████████████▍                 | 56/100 [1:22:31<30:12, 41.19s/it]"
     ]
    },
    {
     "name": "stdout",
     "output_type": "stream",
     "text": [
      "Fehler bei Fenster 4-7: Expecting ',' delimiter: line 3 column 21 (char 46)\n"
     ]
    },
    {
     "name": "stderr",
     "output_type": "stream",
     "text": [
      " 59%|███████████████████████▌                | 59/100 [1:24:02<22:14, 32.56s/it]"
     ]
    },
    {
     "name": "stdout",
     "output_type": "stream",
     "text": [
      "Fehler bei Fenster 6-9: Expecting ',' delimiter: line 6 column 22 (char 55)\n"
     ]
    },
    {
     "name": "stderr",
     "output_type": "stream",
     "text": [
      " 63%|█████████████████████████▏              | 63/100 [1:26:28<22:21, 36.25s/it]"
     ]
    },
    {
     "name": "stdout",
     "output_type": "stream",
     "text": [
      "Fehler bei Fenster 3-6: Expecting ',' delimiter: line 6 column 21 (char 67)\n"
     ]
    },
    {
     "name": "stderr",
     "output_type": "stream",
     "text": [
      " 64%|█████████████████████████▌              | 64/100 [1:27:51<30:07, 50.21s/it]"
     ]
    },
    {
     "name": "stdout",
     "output_type": "stream",
     "text": [
      "Fehler bei Fenster 7-10: Expecting ',' delimiter: line 6 column 36 (char 71)\n"
     ]
    },
    {
     "name": "stderr",
     "output_type": "stream",
     "text": [
      " 65%|██████████████████████████              | 65/100 [1:28:29<27:06, 46.48s/it]"
     ]
    },
    {
     "name": "stdout",
     "output_type": "stream",
     "text": [
      "Fehler bei Fenster 2-5: Expecting ',' delimiter: line 6 column 26 (char 65)\n",
      "Fehler bei Fenster 4-7: Expecting ',' delimiter: line 9 column 26 (char 94)\n"
     ]
    },
    {
     "name": "stderr",
     "output_type": "stream",
     "text": [
      " 70%|████████████████████████████            | 70/100 [1:31:55<16:54, 33.81s/it]"
     ]
    },
    {
     "name": "stdout",
     "output_type": "stream",
     "text": [
      "Fehler bei Fenster 3-6: 'Wort'\n"
     ]
    },
    {
     "name": "stderr",
     "output_type": "stream",
     "text": [
      " 79%|███████████████████████████████▌        | 79/100 [1:38:07<15:47, 45.11s/it]"
     ]
    },
    {
     "name": "stdout",
     "output_type": "stream",
     "text": [
      "Fehler bei Fenster 13-16: Expecting ',' delimiter: line 3 column 21 (char 26)\n",
      "Fehler bei Fenster 15-18: Expecting ',' delimiter: line 6 column 19 (char 56)\n"
     ]
    },
    {
     "name": "stderr",
     "output_type": "stream",
     "text": [
      " 80%|████████████████████████████████        | 80/100 [1:39:38<19:39, 58.97s/it]"
     ]
    },
    {
     "name": "stdout",
     "output_type": "stream",
     "text": [
      "Fehler bei Fenster 2-5: Expecting ',' delimiter: line 6 column 21 (char 56)\n",
      "Fehler bei Fenster 18-21: Expecting ',' delimiter: line 10 column 25 (char 135)\n"
     ]
    },
    {
     "name": "stderr",
     "output_type": "stream",
     "text": [
      " 81%|████████████████████████████████▍       | 81/100 [1:41:09<21:43, 68.61s/it]"
     ]
    },
    {
     "name": "stdout",
     "output_type": "stream",
     "text": [
      "Fehler bei Fenster 3-6: Expecting ',' delimiter: line 9 column 25 (char 88)\n",
      "Fehler bei Fenster 5-8: Expecting ',' delimiter: line 6 column 23 (char 72)\n",
      "Fehler bei Fenster 28-31: Expecting value: line 4 column 44 (char 169)\n",
      "Fehler bei Fenster 32-35: Expecting ',' delimiter: line 6 column 21 (char 53)\n"
     ]
    },
    {
     "name": "stderr",
     "output_type": "stream",
     "text": [
      " 85%|██████████████████████████████████      | 85/100 [1:44:04<09:28, 37.87s/it]"
     ]
    },
    {
     "name": "stdout",
     "output_type": "stream",
     "text": [
      "Fehler bei Fenster 21-24: Expecting ',' delimiter: line 3 column 21 (char 26)\n",
      "Fehler bei Fenster 22-25: Expecting ',' delimiter: line 3 column 21 (char 26)\n",
      "Fehler bei Fenster 25-28: Expecting ',' delimiter: line 3 column 21 (char 26)\n"
     ]
    },
    {
     "name": "stderr",
     "output_type": "stream",
     "text": [
      " 87%|██████████████████████████████████▊     | 87/100 [1:45:50<09:45, 45.01s/it]"
     ]
    },
    {
     "name": "stdout",
     "output_type": "stream",
     "text": [
      "Fehler bei Fenster 29-32: Expecting ',' delimiter: line 6 column 26 (char 61)\n",
      "Fehler bei Fenster 6-9: Expecting ',' delimiter: line 6 column 25 (char 61)\n",
      "Fehler bei Fenster 20-23: Expecting ',' delimiter: line 6 column 21 (char 59)\n"
     ]
    },
    {
     "name": "stderr",
     "output_type": "stream",
     "text": [
      " 88%|███████████████████████████████████▏    | 88/100 [1:47:44<12:24, 62.07s/it]"
     ]
    },
    {
     "name": "stdout",
     "output_type": "stream",
     "text": [
      "Fehler bei Fenster 5-8: Expecting property name enclosed in double quotes: line 7 column 3 (char 68)\n",
      "Fehler bei Fenster 6-9: Expecting ',' delimiter: line 7 column 27 (char 92)\n"
     ]
    },
    {
     "name": "stderr",
     "output_type": "stream",
     "text": [
      " 89%|███████████████████████████████████▌    | 89/100 [1:48:55<11:48, 64.40s/it]"
     ]
    },
    {
     "name": "stdout",
     "output_type": "stream",
     "text": [
      "Fehler bei Fenster 14-17: Expecting ',' delimiter: line 6 column 35 (char 78)\n",
      "Fehler bei Fenster 15-18: Expecting ',' delimiter: line 9 column 19 (char 102)\n",
      "Fehler bei Fenster 37-40: Expecting ',' delimiter: line 6 column 19 (char 50)\n",
      "Fehler bei Fenster 39-42: Expecting ',' delimiter: line 3 column 27 (char 32)\n",
      "Fehler bei Fenster 75-78: Expecting ',' delimiter: line 6 column 24 (char 72)\n"
     ]
    },
    {
     "name": "stderr",
     "output_type": "stream",
     "text": [
      " 90%|███████████████████████████████████    | 90/100 [1:53:34<20:26, 122.63s/it]"
     ]
    },
    {
     "name": "stdout",
     "output_type": "stream",
     "text": [
      "Fehler bei Fenster 14-17: Expecting ',' delimiter: line 6 column 21 (char 62)\n"
     ]
    },
    {
     "name": "stderr",
     "output_type": "stream",
     "text": [
      " 91%|███████████████████████████████████▍   | 91/100 [1:54:47<16:19, 108.84s/it]"
     ]
    },
    {
     "name": "stdout",
     "output_type": "stream",
     "text": [
      "Fehler bei Fenster 2-5: Expecting ',' delimiter: line 6 column 23 (char 55)\n"
     ]
    },
    {
     "name": "stderr",
     "output_type": "stream",
     "text": [
      " 92%|████████████████████████████████████▊   | 92/100 [1:55:27<11:52, 89.03s/it]"
     ]
    },
    {
     "name": "stdout",
     "output_type": "stream",
     "text": [
      "Fehler bei Fenster 14-17: Expecting ',' delimiter: line 6 column 21 (char 62)\n",
      "Fehler bei Fenster 15-18: Expecting ',' delimiter: line 3 column 21 (char 26)\n",
      "Fehler bei Fenster 17-20: Expecting ',' delimiter: line 6 column 29 (char 66)\n",
      "Fehler bei Fenster 18-21: Expecting ',' delimiter: line 6 column 35 (char 77)\n"
     ]
    },
    {
     "name": "stderr",
     "output_type": "stream",
     "text": [
      " 94%|█████████████████████████████████████▌  | 94/100 [1:57:22<06:53, 68.91s/it]"
     ]
    },
    {
     "name": "stdout",
     "output_type": "stream",
     "text": [
      "Fehler bei Fenster 26-29: Expecting ',' delimiter: line 6 column 26 (char 62)\n",
      "Fehler bei Fenster 28-31: Expecting ',' delimiter: line 6 column 22 (char 61)\n",
      "Fehler bei Fenster 36-39: Expecting ',' delimiter: line 6 column 22 (char 79)\n"
     ]
    },
    {
     "name": "stderr",
     "output_type": "stream",
     "text": [
      " 95%|█████████████████████████████████████  | 95/100 [2:01:09<09:38, 115.63s/it]"
     ]
    },
    {
     "name": "stdout",
     "output_type": "stream",
     "text": [
      "Fehler bei Fenster 62-65: Expecting property name enclosed in double quotes: line 7 column 3 (char 58)\n",
      "Fehler bei Fenster 16-19: Expecting ',' delimiter: line 9 column 19 (char 98)\n"
     ]
    },
    {
     "name": "stderr",
     "output_type": "stream",
     "text": [
      " 96%|█████████████████████████████████████▍ | 96/100 [2:03:37<08:21, 125.32s/it]"
     ]
    },
    {
     "name": "stdout",
     "output_type": "stream",
     "text": [
      "Fehler bei Fenster 3-6: Expecting ',' delimiter: line 4 column 21 (char 47)\n",
      "Fehler bei Fenster 13-16: Expecting ',' delimiter: line 6 column 35 (char 72)\n"
     ]
    },
    {
     "name": "stderr",
     "output_type": "stream",
     "text": [
      " 99%|███████████████████████████████████████▌| 99/100 [2:06:46<01:27, 87.09s/it]"
     ]
    },
    {
     "name": "stdout",
     "output_type": "stream",
     "text": [
      "Fehler bei Fenster 14-17: Expecting property name enclosed in double quotes: line 7 column 3 (char 68)\n",
      "Fehler bei Fenster 19-22: string indices must be integers\n",
      "Fehler bei Fenster 24-27: Expecting ',' delimiter: line 6 column 21 (char 60)\n"
     ]
    },
    {
     "name": "stderr",
     "output_type": "stream",
     "text": [
      "100%|███████████████████████████████████████| 100/100 [2:08:25<00:00, 90.63s/it]"
     ]
    },
    {
     "name": "stdout",
     "output_type": "stream",
     "text": [
      "Fehler bei Fenster 1-4: Expecting ',' delimiter: line 3 column 24 (char 29)\n",
      "Fehler bei Fenster 8-11: Expecting ',' delimiter: line 6 column 21 (char 62)\n"
     ]
    },
    {
     "name": "stderr",
     "output_type": "stream",
     "text": [
      "100%|███████████████████████████████████████| 100/100 [2:09:09<00:00, 77.49s/it]\n",
      "/var/folders/3k/p86fss0s3cj7str70kyftdlh0000gp/T/ipykernel_1983/158416756.py:4: SettingWithCopyWarning: \n",
      "A value is trying to be set on a copy of a slice from a DataFrame.\n",
      "Try using .loc[row_indexer,col_indexer] = value instead\n",
      "\n",
      "See the caveats in the documentation: https://pandas.pydata.org/pandas-docs/stable/user_guide/indexing.html#returning-a-view-versus-a-copy\n",
      "  smaller_df[f'llm_result_{prompt[name]}']= smaller_df.progress_apply(\n"
     ]
    },
    {
     "name": "stdout",
     "output_type": "stream",
     "text": [
      "prompt_with_hints\n"
     ]
    },
    {
     "name": "stderr",
     "output_type": "stream",
     "text": [
      "  0%|                                                   | 0/100 [00:00<?, ?it/s]"
     ]
    },
    {
     "name": "stdout",
     "output_type": "stream",
     "text": [
      "Fehler bei Fenster 0-3: Expecting ',' delimiter: line 6 column 26 (char 67)\n",
      "Fehler bei Fenster 27-30: Expecting ',' delimiter: line 6 column 21 (char 72)\n",
      "Fehler bei Fenster 28-31: Expecting ',' delimiter: line 3 column 17 (char 39)\n"
     ]
    },
    {
     "name": "stderr",
     "output_type": "stream",
     "text": [
      "  2%|▊                                        | 2/100 [02:54<2:22:21, 87.16s/it]"
     ]
    },
    {
     "name": "stdout",
     "output_type": "stream",
     "text": [
      "Fehler bei Fenster 1-4: Expecting ',' delimiter: line 6 column 31 (char 70)\n",
      "Fehler bei Fenster 6-9: Expecting ',' delimiter: line 9 column 19 (char 82)\n",
      "Fehler bei Fenster 27-30: Expecting ',' delimiter: line 6 column 19 (char 50)\n",
      "Fehler bei Fenster 31-34: Expecting ',' delimiter: line 6 column 18 (char 61)\n",
      "Fehler bei Fenster 37-40: Expecting ',' delimiter: line 6 column 19 (char 51)\n",
      "Fehler bei Fenster 41-44: Expecting ',' delimiter: line 6 column 18 (char 50)\n"
     ]
    },
    {
     "name": "stderr",
     "output_type": "stream",
     "text": [
      "  3%|█▏                                      | 3/100 [06:18<3:39:39, 135.87s/it]"
     ]
    },
    {
     "name": "stdout",
     "output_type": "stream",
     "text": [
      "Fehler bei Fenster 24-27: Expecting ',' delimiter: line 6 column 19 (char 51)\n",
      "Fehler bei Fenster 69-72: Expecting ',' delimiter: line 6 column 23 (char 58)\n"
     ]
    },
    {
     "name": "stderr",
     "output_type": "stream",
     "text": [
      "  4%|█▌                                      | 4/100 [11:56<5:37:57, 211.22s/it]"
     ]
    },
    {
     "name": "stdout",
     "output_type": "stream",
     "text": [
      "Fehler bei Fenster 9-12: Expecting ',' delimiter: line 6 column 17 (char 53)\n"
     ]
    },
    {
     "name": "stderr",
     "output_type": "stream",
     "text": [
      "  5%|██                                      | 5/100 [14:12<4:52:57, 185.03s/it]"
     ]
    },
    {
     "name": "stdout",
     "output_type": "stream",
     "text": [
      "Fehler bei Fenster 2-5: Expecting ',' delimiter: line 6 column 24 (char 63)\n",
      "Fehler bei Fenster 3-6: Expecting ',' delimiter: line 6 column 24 (char 63)\n",
      "Fehler bei Fenster 13-16: Expecting ',' delimiter: line 9 column 27 (char 86)\n",
      "Fehler bei Fenster 30-33: Expecting ',' delimiter: line 6 column 32 (char 72)\n"
     ]
    },
    {
     "name": "stderr",
     "output_type": "stream",
     "text": [
      "  6%|██▍                                     | 6/100 [16:54<4:38:05, 177.50s/it]"
     ]
    },
    {
     "name": "stdout",
     "output_type": "stream",
     "text": [
      "Fehler bei Fenster 9-12: Expecting ',' delimiter: line 12 column 22 (char 108)\n"
     ]
    },
    {
     "name": "stderr",
     "output_type": "stream",
     "text": [
      "  7%|██▊                                     | 7/100 [17:49<3:34:06, 138.14s/it]"
     ]
    },
    {
     "name": "stdout",
     "output_type": "stream",
     "text": [
      "Fehler bei Fenster 14-17: Expecting ',' delimiter: line 6 column 19 (char 65)\n",
      "Fehler bei Fenster 20-23: Expecting ',' delimiter: line 15 column 20 (char 158)\n"
     ]
    },
    {
     "name": "stderr",
     "output_type": "stream",
     "text": [
      "  9%|███▌                                    | 9/100 [23:16<3:58:45, 157.43s/it]"
     ]
    },
    {
     "name": "stdout",
     "output_type": "stream",
     "text": [
      "Fehler bei Fenster 12-15: Expecting ',' delimiter: line 6 column 25 (char 59)\n",
      "Fehler bei Fenster 26-29: Expecting ',' delimiter: line 9 column 29 (char 178)\n",
      "Fehler bei Fenster 41-44: Expecting ',' delimiter: line 6 column 19 (char 55)\n",
      "Fehler bei Fenster 43-46: Expecting ',' delimiter: line 6 column 21 (char 53)\n",
      "Fehler bei Fenster 58-61: Expecting ',' delimiter: line 6 column 25 (char 57)\n"
     ]
    },
    {
     "name": "stderr",
     "output_type": "stream",
     "text": [
      " 10%|███▉                                   | 10/100 [28:15<5:01:22, 200.92s/it]"
     ]
    },
    {
     "name": "stdout",
     "output_type": "stream",
     "text": [
      "Fehler bei Fenster 2-5: Expecting ',' delimiter: line 6 column 18 (char 56)\n",
      "Fehler bei Fenster 36-39: Expecting ',' delimiter: line 6 column 18 (char 50)\n",
      "Fehler bei Fenster 37-40: Expecting ',' delimiter: line 6 column 25 (char 56)\n",
      "Fehler bei Fenster 48-51: Expecting ',' delimiter: line 6 column 27 (char 64)\n"
     ]
    },
    {
     "name": "stderr",
     "output_type": "stream",
     "text": [
      " 11%|████▎                                  | 11/100 [32:01<5:09:14, 208.48s/it]"
     ]
    },
    {
     "name": "stdout",
     "output_type": "stream",
     "text": [
      "Fehler bei Fenster 38-41: Expecting ',' delimiter: line 3 column 17 (char 73)\n"
     ]
    },
    {
     "name": "stderr",
     "output_type": "stream",
     "text": [
      " 12%|████▋                                  | 12/100 [34:57<4:51:26, 198.71s/it]"
     ]
    },
    {
     "name": "stdout",
     "output_type": "stream",
     "text": [
      "Fehler bei Fenster 23-26: Expecting ',' delimiter: line 9 column 25 (char 101)\n",
      "Fehler bei Fenster 45-48: Expecting ',' delimiter: line 6 column 29 (char 71)\n"
     ]
    },
    {
     "name": "stderr",
     "output_type": "stream",
     "text": [
      " 14%|█████▍                                 | 14/100 [40:14<4:11:38, 175.56s/it]"
     ]
    },
    {
     "name": "stdout",
     "output_type": "stream",
     "text": [
      "Fehler bei Fenster 4-7: Expecting ',' delimiter: line 6 column 24 (char 59)\n"
     ]
    },
    {
     "name": "stderr",
     "output_type": "stream",
     "text": [
      " 15%|█████▊                                 | 15/100 [42:26<3:50:20, 162.60s/it]"
     ]
    },
    {
     "name": "stdout",
     "output_type": "stream",
     "text": [
      "Fehler bei Fenster 22-25: Expecting ',' delimiter: line 9 column 23 (char 84)\n",
      "Fehler bei Fenster 32-35: Expecting ',' delimiter: line 6 column 26 (char 62)\n"
     ]
    },
    {
     "name": "stderr",
     "output_type": "stream",
     "text": [
      " 16%|██████▏                                | 16/100 [46:00<4:09:16, 178.06s/it]"
     ]
    },
    {
     "name": "stdout",
     "output_type": "stream",
     "text": [
      "Fehler bei Fenster 11-14: Expecting ',' delimiter: line 6 column 23 (char 65)\n"
     ]
    },
    {
     "name": "stderr",
     "output_type": "stream",
     "text": [
      " 20%|████████                                | 20/100 [48:04<1:26:12, 64.66s/it]"
     ]
    },
    {
     "name": "stdout",
     "output_type": "stream",
     "text": [
      "Fehler bei Fenster 6-9: Expecting ',' delimiter: line 6 column 31 (char 66)\n"
     ]
    },
    {
     "name": "stderr",
     "output_type": "stream",
     "text": [
      " 24%|█████████▌                              | 24/100 [51:56<1:05:16, 51.53s/it]"
     ]
    },
    {
     "name": "stdout",
     "output_type": "stream",
     "text": [
      "Fehler bei Fenster 34-37: Expecting ',' delimiter: line 6 column 18 (char 58)\n",
      "Fehler bei Fenster 55-58: Expecting ',' delimiter: line 6 column 22 (char 54)\n"
     ]
    },
    {
     "name": "stderr",
     "output_type": "stream",
     "text": [
      " 26%|██████████▏                            | 26/100 [57:47<2:18:16, 112.12s/it]"
     ]
    },
    {
     "name": "stdout",
     "output_type": "stream",
     "text": [
      "Fehler bei Fenster 17-20: Expecting ',' delimiter: line 15 column 37 (char 186)\n"
     ]
    },
    {
     "name": "stderr",
     "output_type": "stream",
     "text": [
      " 27%|██████████▌                            | 27/100 [59:32<2:13:43, 109.92s/it]"
     ]
    },
    {
     "name": "stdout",
     "output_type": "stream",
     "text": [
      "Fehler bei Fenster 3-6: Expecting ',' delimiter: line 3 column 23 (char 47)\n"
     ]
    },
    {
     "name": "stderr",
     "output_type": "stream",
     "text": [
      " 28%|██████████▎                          | 28/100 [1:02:27<2:35:28, 129.56s/it]"
     ]
    },
    {
     "name": "stdout",
     "output_type": "stream",
     "text": [
      "Fehler bei Fenster 18-21: Expecting ',' delimiter: line 4 column 53 (char 78)\n"
     ]
    },
    {
     "name": "stderr",
     "output_type": "stream",
     "text": [
      " 29%|██████████▋                          | 29/100 [1:04:30<2:31:03, 127.66s/it]"
     ]
    },
    {
     "name": "stdout",
     "output_type": "stream",
     "text": [
      "Fehler bei Fenster 2-5: Expecting ',' delimiter: line 6 column 30 (char 68)\n",
      "Fehler bei Fenster 13-16: Expecting ',' delimiter: line 6 column 19 (char 53)\n"
     ]
    },
    {
     "name": "stderr",
     "output_type": "stream",
     "text": [
      " 30%|███████████                          | 30/100 [1:06:40<2:29:44, 128.35s/it]"
     ]
    },
    {
     "name": "stdout",
     "output_type": "stream",
     "text": [
      "Fehler bei Fenster 1-4: Expecting ',' delimiter: line 6 column 22 (char 59)\n"
     ]
    },
    {
     "name": "stderr",
     "output_type": "stream",
     "text": [
      " 33%|████████████▌                         | 33/100 [1:07:54<1:03:03, 56.47s/it]"
     ]
    },
    {
     "name": "stdout",
     "output_type": "stream",
     "text": [
      "Fehler bei Fenster 0-3: Expecting ',' delimiter: line 6 column 25 (char 64)\n"
     ]
    },
    {
     "name": "stderr",
     "output_type": "stream",
     "text": [
      " 35%|██████████████                          | 35/100 [1:08:37<41:40, 38.46s/it]"
     ]
    },
    {
     "name": "stdout",
     "output_type": "stream",
     "text": [
      "Fehler bei Fenster 2-5: Expecting ',' delimiter: line 6 column 32 (char 72)\n"
     ]
    },
    {
     "name": "stderr",
     "output_type": "stream",
     "text": [
      " 41%|████████████████▍                       | 41/100 [1:11:50<33:30, 34.07s/it]"
     ]
    },
    {
     "name": "stdout",
     "output_type": "stream",
     "text": [
      "Fehler bei Fenster 4-7: Expecting ',' delimiter: line 6 column 42 (char 85)\n"
     ]
    },
    {
     "name": "stderr",
     "output_type": "stream",
     "text": [
      " 42%|████████████████▊                       | 42/100 [1:12:21<32:01, 33.13s/it]"
     ]
    },
    {
     "name": "stdout",
     "output_type": "stream",
     "text": [
      "Fehler bei Fenster 2-5: Expecting ',' delimiter: line 6 column 28 (char 72)\n"
     ]
    },
    {
     "name": "stderr",
     "output_type": "stream",
     "text": [
      " 44%|█████████████████▌                      | 44/100 [1:14:27<47:58, 51.41s/it]"
     ]
    },
    {
     "name": "stdout",
     "output_type": "stream",
     "text": [
      "Fehler bei Fenster 24-27: Expecting ',' delimiter: line 6 column 22 (char 64)\n"
     ]
    },
    {
     "name": "stderr",
     "output_type": "stream",
     "text": [
      " 50%|████████████████████                    | 50/100 [1:17:15<28:26, 34.13s/it]"
     ]
    },
    {
     "name": "stdout",
     "output_type": "stream",
     "text": [
      "Fehler bei Fenster 20-23: Expecting ',' delimiter: line 9 column 24 (char 99)\n",
      "Fehler bei Fenster 26-29: Expecting ',' delimiter: line 6 column 22 (char 66)\n"
     ]
    },
    {
     "name": "stderr",
     "output_type": "stream",
     "text": [
      " 52%|████████████████████▊                   | 52/100 [1:19:21<36:51, 46.08s/it]"
     ]
    },
    {
     "name": "stdout",
     "output_type": "stream",
     "text": [
      "Fehler bei Fenster 4-7: Expecting ',' delimiter: line 6 column 31 (char 71)\n"
     ]
    },
    {
     "name": "stderr",
     "output_type": "stream",
     "text": [
      " 55%|██████████████████████                  | 55/100 [1:21:18<27:40, 36.90s/it]"
     ]
    },
    {
     "name": "stdout",
     "output_type": "stream",
     "text": [
      "Fehler bei Fenster 5-8: Expecting ',' delimiter: line 6 column 20 (char 53)\n"
     ]
    },
    {
     "name": "stderr",
     "output_type": "stream",
     "text": [
      " 56%|██████████████████████▍                 | 56/100 [1:22:02<28:41, 39.11s/it]"
     ]
    },
    {
     "name": "stdout",
     "output_type": "stream",
     "text": [
      "Fehler bei Fenster 10-13: Expecting ',' delimiter: line 6 column 19 (char 56)\n",
      "Fehler bei Fenster 2-5: Expecting ',' delimiter: line 6 column 28 (char 65)\n"
     ]
    },
    {
     "name": "stderr",
     "output_type": "stream",
     "text": [
      " 58%|███████████████████████▏                | 58/100 [1:23:15<26:50, 38.36s/it]"
     ]
    },
    {
     "name": "stdout",
     "output_type": "stream",
     "text": [
      "Fehler bei Fenster 0-3: Expecting ',' delimiter: line 6 column 37 (char 72)\n"
     ]
    },
    {
     "name": "stderr",
     "output_type": "stream",
     "text": [
      " 60%|████████████████████████                | 60/100 [1:24:07<22:06, 33.17s/it]"
     ]
    },
    {
     "name": "stdout",
     "output_type": "stream",
     "text": [
      "Fehler bei Fenster 3-6: Expecting ',' delimiter: line 6 column 40 (char 73)\n"
     ]
    },
    {
     "name": "stderr",
     "output_type": "stream",
     "text": [
      " 65%|██████████████████████████              | 65/100 [1:28:14<28:48, 49.39s/it]"
     ]
    },
    {
     "name": "stdout",
     "output_type": "stream",
     "text": [
      "Fehler bei Fenster 19-22: Expecting ',' delimiter: line 3 column 19 (char 46)\n"
     ]
    },
    {
     "name": "stderr",
     "output_type": "stream",
     "text": [
      " 72%|████████████████████████████▊           | 72/100 [1:32:22<12:26, 26.66s/it]"
     ]
    },
    {
     "name": "stdout",
     "output_type": "stream",
     "text": [
      "Fehler bei Fenster 1-4: Expecting ',' delimiter: line 6 column 26 (char 58)\n",
      "Fehler bei Fenster 7-10: Expecting ',' delimiter: line 6 column 26 (char 59)\n"
     ]
    },
    {
     "name": "stderr",
     "output_type": "stream",
     "text": [
      " 76%|██████████████████████████████▍         | 76/100 [1:35:51<21:06, 52.75s/it]"
     ]
    },
    {
     "name": "stdout",
     "output_type": "stream",
     "text": [
      "Fehler bei Fenster 17-20: Expecting ',' delimiter: line 6 column 34 (char 74)\n"
     ]
    },
    {
     "name": "stderr",
     "output_type": "stream",
     "text": [
      " 78%|███████████████████████████████▏        | 78/100 [1:38:02<22:03, 60.17s/it]"
     ]
    },
    {
     "name": "stdout",
     "output_type": "stream",
     "text": [
      "Fehler bei Fenster 0-3: Expecting ',' delimiter: line 6 column 18 (char 50)\n"
     ]
    },
    {
     "name": "stderr",
     "output_type": "stream",
     "text": [
      " 79%|███████████████████████████████▌        | 79/100 [1:38:23<16:58, 48.52s/it]"
     ]
    },
    {
     "name": "stdout",
     "output_type": "stream",
     "text": [
      "Fehler bei Fenster 15-18: Expecting ',' delimiter: line 6 column 19 (char 56)\n"
     ]
    },
    {
     "name": "stderr",
     "output_type": "stream",
     "text": [
      " 81%|████████████████████████████████▍       | 81/100 [1:41:44<23:51, 75.34s/it]"
     ]
    },
    {
     "name": "stdout",
     "output_type": "stream",
     "text": [
      "Fehler bei Fenster 29-32: Expecting ',' delimiter: line 6 column 24 (char 60)\n"
     ]
    },
    {
     "name": "stderr",
     "output_type": "stream",
     "text": [
      " 85%|██████████████████████████████████      | 85/100 [1:44:26<09:21, 37.40s/it]"
     ]
    },
    {
     "name": "stdout",
     "output_type": "stream",
     "text": [
      "Fehler bei Fenster 3-6: Expecting ',' delimiter: line 9 column 30 (char 92)\n",
      "Fehler bei Fenster 27-30: Expecting ',' delimiter: line 6 column 22 (char 64)\n"
     ]
    },
    {
     "name": "stderr",
     "output_type": "stream",
     "text": [
      " 88%|███████████████████████████████████▏    | 88/100 [1:48:05<12:10, 60.84s/it]"
     ]
    },
    {
     "name": "stdout",
     "output_type": "stream",
     "text": [
      "Fehler bei Fenster 5-8: Expecting ',' delimiter: line 7 column 28 (char 93)\n"
     ]
    },
    {
     "name": "stderr",
     "output_type": "stream",
     "text": [
      " 89%|███████████████████████████████████▌    | 89/100 [1:49:12<11:25, 62.34s/it]"
     ]
    },
    {
     "name": "stdout",
     "output_type": "stream",
     "text": [
      "Fehler bei Fenster 16-19: Expecting ',' delimiter: line 9 column 18 (char 81)\n",
      "Fehler bei Fenster 23-26: Expecting ',' delimiter: line 6 column 18 (char 64)\n",
      "Fehler bei Fenster 24-27: Expecting ',' delimiter: line 3 column 17 (char 51)\n",
      "Fehler bei Fenster 35-38: Expecting ',' delimiter: line 3 column 17 (char 53)\n",
      "Fehler bei Fenster 49-52: Expecting ',' delimiter: line 6 column 18 (char 64)\n",
      "Fehler bei Fenster 73-76: Expecting ',' delimiter: line 6 column 24 (char 70)\n"
     ]
    },
    {
     "name": "stderr",
     "output_type": "stream",
     "text": [
      " 90%|███████████████████████████████████    | 90/100 [1:54:02<20:44, 124.46s/it]"
     ]
    },
    {
     "name": "stdout",
     "output_type": "stream",
     "text": [
      "Fehler bei Fenster 11-14: Expecting ',' delimiter: line 6 column 18 (char 54)\n"
     ]
    },
    {
     "name": "stderr",
     "output_type": "stream",
     "text": [
      " 94%|█████████████████████████████████████▌  | 94/100 [1:57:41<06:49, 68.21s/it]"
     ]
    },
    {
     "name": "stdout",
     "output_type": "stream",
     "text": [
      "Fehler bei Fenster 59-62: Expecting ',' delimiter: line 9 column 24 (char 93)\n"
     ]
    },
    {
     "name": "stderr",
     "output_type": "stream",
     "text": [
      " 95%|█████████████████████████████████████  | 95/100 [2:01:46<10:01, 120.38s/it]"
     ]
    },
    {
     "name": "stdout",
     "output_type": "stream",
     "text": [
      "Fehler bei Fenster 17-20: Expecting ',' delimiter: line 6 column 19 (char 69)\n"
     ]
    },
    {
     "name": "stderr",
     "output_type": "stream",
     "text": [
      " 98%|███████████████████████████████████████▏| 98/100 [2:05:45<02:50, 85.22s/it]"
     ]
    },
    {
     "name": "stdout",
     "output_type": "stream",
     "text": [
      "Fehler bei Fenster 19-22: Expecting ',' delimiter: line 6 column 26 (char 62)\n"
     ]
    },
    {
     "name": "stderr",
     "output_type": "stream",
     "text": [
      " 99%|███████████████████████████████████████▌| 99/100 [2:07:17<01:27, 87.09s/it]"
     ]
    },
    {
     "name": "stdout",
     "output_type": "stream",
     "text": [
      "Fehler bei Fenster 15-18: Expecting ',' delimiter: line 6 column 32 (char 72)\n"
     ]
    },
    {
     "name": "stderr",
     "output_type": "stream",
     "text": [
      "100%|███████████████████████████████████████| 100/100 [2:08:58<00:00, 91.30s/it]"
     ]
    },
    {
     "name": "stdout",
     "output_type": "stream",
     "text": [
      "Fehler bei Fenster 11-14: Expecting ',' delimiter: line 3 column 18 (char 44)\n"
     ]
    },
    {
     "name": "stderr",
     "output_type": "stream",
     "text": [
      "100%|███████████████████████████████████████| 100/100 [2:09:42<00:00, 77.82s/it]\n",
      "/var/folders/3k/p86fss0s3cj7str70kyftdlh0000gp/T/ipykernel_1983/158416756.py:4: SettingWithCopyWarning: \n",
      "A value is trying to be set on a copy of a slice from a DataFrame.\n",
      "Try using .loc[row_indexer,col_indexer] = value instead\n",
      "\n",
      "See the caveats in the documentation: https://pandas.pydata.org/pandas-docs/stable/user_guide/indexing.html#returning-a-view-versus-a-copy\n",
      "  smaller_df[f'llm_result_{prompt[name]}']= smaller_df.progress_apply(\n"
     ]
    }
   ],
   "source": [
    "name = 'name'\n",
    "for prompt in prompts:\n",
    "    print(prompt[name])\n",
    "    smaller_df[f'llm_result_{prompt[name]}']= smaller_df.progress_apply(\n",
    "        lambda row: extract_gender_maskulin_from_text( row['Text_unmarked'], remove_duplica, prompt['prompt']),\n",
    "        axis=1\n",
    "        )"
   ]
  },
  {
   "cell_type": "code",
   "execution_count": 153,
   "id": "70b90511-2351-41c9-a576-607ae249745d",
   "metadata": {},
   "outputs": [],
   "source": [
    "#import helperfunctions:\n",
    "from helperfunctions import  find_in_result, update_counts\n"
   ]
  },
  {
   "cell_type": "code",
   "execution_count": 162,
   "id": "e293426c-bbb9-4dc6-b893-2481cbb78a0e",
   "metadata": {},
   "outputs": [],
   "source": [
    "# Da an dieser Stelle kein Interesse an den Detailresultaten pro Zeile besteht reicht eine vereinfachte Version der Funktion aus Evaluation.py\n",
    "\n",
    "def compare_marked_to_pipeline(marked, llm_result, spacify, counter):\n",
    "    seen_positions = set()\n",
    "\n",
    "    # 1. Verarbeite alle markierten Wörter\n",
    "    for entry in marked: \n",
    "        word_in_pipeline_result = find_in_result(llm_result, entry['from'], entry['to'])\n",
    "        begin_ = [x for x in spacify if x.idx == entry[\"from\"]]\n",
    "        if not begin_:\n",
    "            print(f\"could not find: {entry}\")\n",
    "            continue\n",
    "\n",
    "        _word = begin_[0]\n",
    "        seen_positions.add((entry['from'], entry['to']))\n",
    "        needs_to_be_gendered = entry['ntbg']  # Erwartung laut Markierung\n",
    "\n",
    "        # Systemeinschätzung\n",
    "        if word_in_pipeline_result:\n",
    "            was_correct = True == needs_to_be_gendered\n",
    "        else:\n",
    "            was_correct = not needs_to_be_gendered\n",
    "\n",
    "        is_noun = _word.pos_ == 'NOUN'\n",
    "        number = _word.morph.get(\"Number\")\n",
    "        is_singular = number[0] == \"Sing\" if number else None\n",
    "\n",
    "        update_counts(counter, needs_to_be_gendered, was_correct, is_noun, is_singular, True)\n",
    "\n",
    "    # 2. Verarbeite False Positives aus Pipeline (nicht in Markierung enthalten)\n",
    "    for entry in llm_result:\n",
    "        pos = (entry['from'], entry['to'])\n",
    "        if pos in seen_positions:\n",
    "            continue  # bereits abgeglichen\n",
    "\n",
    "        begin_ = [x for x in spacify if x.idx == entry[\"from\"]]\n",
    "        if not begin_:\n",
    "            print(f\"could not find in spacify: {entry}\")\n",
    "            continue\n",
    "\n",
    "        _word = begin_[0]\n",
    "        is_noun = _word.pos_ == 'NOUN'\n",
    "        number = _word.morph.get(\"Number\")\n",
    "        is_singular = number[0] == \"Sing\" if number else None\n",
    "\n",
    "        # False Positive – systematisch falsch markiert\n",
    "        update_counts(counter, False, False, is_noun, is_singular, False)\n",
    "\n",
    "    return counter\n"
   ]
  },
  {
   "cell_type": "code",
   "execution_count": 163,
   "id": "76381e16-1a55-445f-aab6-69bdd4d63f7d",
   "metadata": {},
   "outputs": [
    {
     "name": "stdout",
     "output_type": "stream",
     "text": [
      "could not find in spacify: {'Wort': 'Kicker', 'from': 6, 'to': 12}\n",
      "could not find in spacify: {'Wort': 'Klinsmanns', 'from': 653, 'to': 663}\n",
      "could not find in spacify: {'Wort': 'ihn', 'from': None, 'to': None}\n"
     ]
    }
   ],
   "source": [
    "markings = df['marked_word_information'].iloc[5]\n",
    "cleanResponse = remove_duplicates_dict_list(response)\n",
    "countsnew = compare_marked_to_pipeline(markings, cleanResponse, spacy_information, defaultdict(int) )"
   ]
  },
  {
   "cell_type": "code",
   "execution_count": null,
   "id": "261ec072-9810-4418-a168-74c72534c0ec",
   "metadata": {
    "scrolled": true
   },
   "outputs": [],
   "source": []
  },
  {
   "cell_type": "code",
   "execution_count": 164,
   "id": "db7b4096-21af-4505-9a18-49c2a6f6f473",
   "metadata": {
    "scrolled": true
   },
   "outputs": [
    {
     "data": {
      "text/plain": [
       "defaultdict(int,\n",
       "            {'marks': 50,\n",
       "             'incorrect': 16,\n",
       "             'ntbg': 13,\n",
       "             'ntbg_incorrect': 2,\n",
       "             'nouns': 49,\n",
       "             'nouns_ntbg': 13,\n",
       "             'nouns_ntbg_incorrect': 2,\n",
       "             'singular': 47,\n",
       "             'ntbg_singular': 8,\n",
       "             'singular_ntbg_incorrect': 1,\n",
       "             'correct': 42,\n",
       "             'not_ntbg': 45,\n",
       "             'not_ntbg_correct': 31,\n",
       "             'nouns_not_ntbg': 36,\n",
       "             'nouns_not_ntbg_correct': 28,\n",
       "             'not_ntbg_singular': 39,\n",
       "             'singular_not_ntbg_correct': 28,\n",
       "             'pronouns': 9,\n",
       "             'pronouns_not_ntbg': 9,\n",
       "             'pronouns_not_ntbg_correct': 3,\n",
       "             'ntbg_correct': 11,\n",
       "             'nouns_ntbg_correct': 11,\n",
       "             'singular_ntbg_correct': 7,\n",
       "             'plural': 10,\n",
       "             'not_ntbg_plural': 5,\n",
       "             'plural_not_ntbg_correct': 2,\n",
       "             'ntbg_plural': 5,\n",
       "             'plural_ntbg_correct': 4,\n",
       "             'not_ntbg_incorrect': 14,\n",
       "             'nouns_not_ntbg_incorrect': 8,\n",
       "             'singular_not_ntbg_incorrect': 11,\n",
       "             'pronouns_not_ntbg_incorrect': 6,\n",
       "             'plural_not_ntbg_incorrect': 3,\n",
       "             'num_undetermined': 1,\n",
       "             'plural_ntbg_incorrect': 1,\n",
       "             'not_marked': 8})"
      ]
     },
     "execution_count": 164,
     "metadata": {},
     "output_type": "execute_result"
    }
   ],
   "source": [
    "countsnew"
   ]
  },
  {
   "cell_type": "code",
   "execution_count": 160,
   "id": "127f38f7-53bd-4928-bcbd-3af1bdcfa8e2",
   "metadata": {},
   "outputs": [],
   "source": [
    "smaller_df.to_pickle('llm_benchmarking_prompts.pkl')"
   ]
  },
  {
   "cell_type": "code",
   "execution_count": 166,
   "id": "42553e03-8b20-4a58-aaed-0e36be038048",
   "metadata": {},
   "outputs": [
    {
     "name": "stderr",
     "output_type": "stream",
     "text": [
      " 16%|██████▋                                   | 16/100 [00:00<00:01, 76.21it/s]"
     ]
    },
    {
     "name": "stdout",
     "output_type": "stream",
     "text": [
      "could not find in spacify: {'Wort': 'ein ehemaliger Geschäftsführer', 'from': None, 'to': None}\n",
      "could not find in spacify: {'Wort': 'er', 'from': 2982, 'to': 2984}\n",
      "could not find in spacify: {'Wort': 'ihn', 'from': None, 'to': None}\n",
      "could not find in spacify: {'Wort': 'er', 'from': 3137, 'to': 3139}\n",
      "could not find in spacify: {'Wort': 'er', 'from': 3605, 'to': 3607}\n",
      "could not find in spacify: {'Wort': 'er', 'from': 3692, 'to': 3694}\n",
      "could not find in spacify: {'Wort': 'er', 'from': 4021, 'to': 4023}\n",
      "could not find in spacify: {'Wort': 'er', 'from': 5047, 'to': 5049}\n",
      "could not find in spacify: {'Wort': 'einzelgänger', 'from': None, 'to': None}\n",
      "could not find in spacify: {'Wort': 'er', 'from': 5154, 'to': 5156}\n",
      "could not find in spacify: {'Wort': 'sie', 'from': 1188, 'to': 1191}\n",
      "could not find in spacify: {'Wort': 'Internationaler', 'from': None, 'to': None}\n",
      "could not find in spacify: {'Wort': 'der', 'from': 3215, 'to': 3218}\n",
      "could not find in spacify: {'Wort': 'das Telefon', 'from': None, 'to': None}\n",
      "could not find in spacify: {'Wort': 'die Eisenbahnen', 'from': None, 'to': None}\n",
      "could not find in spacify: {'Wort': 'der Arbeitgeber', 'from': None, 'to': None}\n",
      "could not find in spacify: {'Wort': 'mehrere Medien', 'from': None, 'to': None}\n",
      "could not find in spacify: {'Wort': 'Ihre Ansicht nach', 'from': None, 'to': None}\n",
      "could not find in spacify: {'Wort': 'Ihren', 'from': None, 'to': None}\n",
      "could not find in spacify: {'Wort': 'sich', 'from': None, 'to': None}\n",
      "could not find in spacify: {'Wort': 'ich', 'from': 1475, 'to': 1478}\n",
      "could not find in spacify: {'Wort': 'es', 'from': 1835, 'to': 1837}\n",
      "could not find in spacify: {'Wort': 'Erfolge', 'from': 2074, 'to': 2081}\n",
      "could not find in spacify: {'Wort': 'er', 'from': 3459, 'to': 3461}\n",
      "could not find in spacify: {'Wort': 'notwendig', 'from': None, 'to': None}\n",
      "could not find in spacify: {'Wort': 'er', 'from': 5182, 'to': 5184}\n",
      "could not find in spacify: {'Wort': 'er', 'from': 5958, 'to': 5960}\n",
      "could not find in spacify: {'Wort': 'ist', 'from': None, 'to': None}\n",
      "could not find in spacify: {'Wort': 'kann', 'from': None, 'to': None}\n",
      "could not find in spacify: {'Wort': 'sein', 'from': None, 'to': None}\n",
      "could not find in spacify: {'Wort': 'er', 'from': 8620, 'to': 8622}\n",
      "could not find in spacify: {'Wort': 'er', 'Vorkommen': 1, 'from': 8741, 'to': 8743}\n",
      "could not find in spacify: {'Wort': 'er', 'Vorkommen': 2, 'from': 8741, 'to': 8743}\n",
      "could not find in spacify: {'Wort': 'er', 'from': 8741, 'to': 8743}\n",
      "could not find in spacify: {'Wort': 'Ich', 'from': None, 'to': None}\n",
      "could not find in spacify: {'Wort': 'der Republikaner', 'from': None, 'to': None}\n",
      "could not find in spacify: {'Wort': 'Autonomen', 'from': None, 'to': None}\n",
      "could not find in spacify: {'Wort': 'Fahnder', 'from': 987, 'to': 994}\n",
      "could not find in spacify: {'Wort': 'die Autonomen', 'from': None, 'to': None}\n",
      "could not find in spacify: {'Wort': 'Beamten', 'from': 3581, 'to': 3588}\n",
      "could not find in spacify: {'Wort': 'er', 'from': 74, 'to': 76}\n",
      "could not find in spacify: {'Wort': 'er', 'from': 150, 'to': 152}\n",
      "could not find in spacify: {'Wort': 'Polizist', 'from': None, 'to': None}\n",
      "could not find in spacify: {'Wort': 'der Tatverdacht', 'from': None, 'to': None}\n",
      "could not find in spacify: {'Wort': 'der Wurstzipfel', 'from': None, 'to': None}\n",
      "could not find in spacify: {'Wort': 'Wer', 'from': None, 'to': None}\n",
      "could not find in spacify: {'Wort': 'andereswo', 'from': None, 'to': None}\n",
      "could not find in spacify: {'Wort': 'der', 'from': 1506, 'to': 1509}\n",
      "could not find in spacify: {'Wort': 'er', 'from': 2214, 'to': 2216}\n",
      "could not find in spacify: {'Wort': 'Kicker', 'from': 6, 'to': 12}\n",
      "could not find in spacify: {'Wort': 'Klinsmanns', 'from': 653, 'to': 663}\n",
      "could not find in spacify: {'Wort': 'ihn', 'from': None, 'to': None}\n",
      "could not find in spacify: {'Wort': 'Ministerium', 'from': None, 'to': None}\n",
      "could not find in spacify: {'Wort': 'Männer', 'Translation': 'people', 'from': None, 'to': None}\n",
      "could not find in spacify: {'Wort': 'für', 'from': None, 'to': None}\n",
      "could not find in spacify: {'Wort': 'Hotel', 'from': 2804, 'to': 2809}\n",
      "could not find in spacify: {'Wort': 'müssen', 'from': None, 'to': None}\n",
      "could not find in spacify: {'Wort': 'deutlich', 'from': None, 'to': None}\n",
      "could not find in spacify: {'Wort': 'Stadtregierung', 'from': 4009, 'to': 4023}\n",
      "could not find in spacify: {'Wort': 'Präsident', 'from': None, 'to': None}\n",
      "could not find in spacify: {'Wort': 'Revolutionär', 'from': None, 'to': None}\n",
      "could not find in spacify: {'Wort': 'Polizist', 'from': None, 'to': None}\n",
      "could not find in spacify: {'Wort': 'die Pasdaran', 'from': None, 'to': None}\n",
      "could not find in spacify: {'Wort': 'die Militäreinheiten', 'from': None, 'to': None}\n",
      "could not find in spacify: {'Wort': 'Bullen', 'from': None, 'to': None}\n",
      "could not find in spacify: {'Wort': 'Revolutionären', 'from': None, 'to': None}\n",
      "could not find in spacify: {'Wort': 'Lumpen', 'from': None, 'to': None}\n",
      "could not find in spacify: {'Wort': 'Asozialen', 'from': None, 'to': None}\n",
      "could not find in spacify: {'Wort': 'Dealer', 'from': None, 'to': None}\n",
      "could not find in spacify: {'Wort': 'Messerstecher', 'from': None, 'to': None}\n",
      "could not find in spacify: {'Wort': 'Schmarotzer', 'from': None, 'to': None}\n",
      "could not find in spacify: {'Wort': 'Geier', 'from': None, 'to': None}\n",
      "could not find in spacify: {'Wort': 'Rädelsführer', 'from': None, 'to': None}\n",
      "could not find in spacify: {'Wort': 'Verderbern', 'from': None, 'to': None}\n",
      "could not find in spacify: {'Wort': 'sie', 'from': None, 'to': None}\n",
      "could not find in spacify: {'Wort': 'er', 'from': 3770, 'to': 3772}\n",
      "could not find in spacify: {'Wort': 'des', 'from': None, 'to': None}\n",
      "could not find in spacify: {'Wort': 'der Staat', 'from': None, 'to': None}\n",
      "could not find in spacify: {'Wort': 'das Volk', 'from': None, 'to': None}\n",
      "could not find in spacify: {'Wort': 'er', 'from': 5281, 'to': 5283}\n",
      "could not find in spacify: {'Wort': 'die Gläubigen', 'from': None, 'to': None}\n",
      "could not find in spacify: {'Wort': 'der klerikale Macht', 'from': None, 'to': None}\n",
      "could not find in spacify: {'Wort': 'Zuallererst', 'from': None, 'to': None}\n",
      "could not find in spacify: {'Wort': 'Revolutiongardist', 'from': None, 'to': None}\n",
      "could not find in spacify: {'Wort': 'sein', 'from': None, 'to': None}\n",
      "could not find in spacify: {'Wort': 'männlichen', 'from': None, 'to': None}\n",
      "could not find in spacify: {'Wort': 'ihn', 'from': None, 'to': None}\n",
      "could not find in spacify: {'Wort': 'Ich', 'from': None, 'to': None}\n",
      "could not find in spacify: {'Wort': 'unsere', 'from': None, 'to': None}\n",
      "could not find in spacify: {'Wort': 'nicht', 'from': None, 'to': None}\n",
      "could not find in spacify: {'Wort': 'Jugendsucher', 'from': None, 'to': None}\n",
      "could not find in spacify: {'Wort': 'er', 'from': 3545, 'to': 3547}\n",
      "could not find in spacify: {'Wort': 'deren', 'from': 3983, 'to': 3988}\n",
      "could not find in spacify: {'Wort': 'derjenigen', 'from': None, 'to': None}\n",
      "could not find in spacify: {'Wort': 'dem', 'from': None, 'to': None}\n",
      "could not find in spacify: {'Wort': 'er', 'from': 4931, 'to': 4933}\n",
      "could not find in spacify: {'Wort': 'Werden', 'from': None, 'to': None}\n",
      "could not find in spacify: {'Wort': 'man', 'from': None, 'to': None}\n",
      "could not find in spacify: {'Wort': 'Durchaus', 'from': None, 'to': None}\n",
      "could not find in spacify: {'Wort': 'Je weniger man', 'from': None, 'to': None}\n",
      "could not find in spacify: {'Wort': 'Desto mehr kann man', 'from': None, 'to': None}\n",
      "could not find in spacify: {'Wort': 'sich', 'from': None, 'to': None}\n",
      "could not find in spacify: {'Wort': 'des eigenen Handelns', 'from': None, 'to': None}\n",
      "could not find in spacify: {'Wort': 'er', 'from': 12, 'to': 14}\n",
      "could not find in spacify: {'Wort': 'Professor', 'from': 555, 'to': 564}\n",
      "could not find in spacify: {'Wort': 'Professoren', 'Text': 'Der Grund: Castellanos hatte zusammen mit 14 anderen Uni-Professoren verschiedener Fakultäten eine Petition für eine Demokratisierung der sozialistischen Inselrepublik unterschrieben.', 'from': 680, 'to': 691}\n",
      "could not find in spacify: {'Wort': 'Professoren', 'Geschlecht': 'maskulin', 'from': 680, 'to': 691}\n",
      "could not find in spacify: {'Wort': 'Führers', 'from': None, 'to': None}\n",
      "could not find in spacify: {'Wort': 'er', 'from': 2585, 'to': 2587}\n",
      "could not find in spacify: {'Wort': 'er', 'from': 2788, 'to': 2790}\n",
      "could not find in spacify: {'Wort': 'er', 'from': 3147, 'to': 3149}\n",
      "could not find in spacify: {'Wort': 'ein Internationalista', 'from': None, 'to': None}\n",
      "could not find in spacify: {'Wort': 'er', 'from': 3725, 'to': 3727}\n",
      "could not find in spacify: {'Wort': 'ihn', 'from': None, 'to': None}\n",
      "could not find in spacify: {'Wort': 'er', 'from': 3990, 'to': 3992}\n",
      "could not find in spacify: {'Wort': 'er', 'from': 4269, 'to': 4271}\n",
      "could not find in spacify: {'Wort': 'er', 'from': 4375, 'to': 4377}\n",
      "could not find in spacify: {'Wort': 'er', 'from': 4603, 'to': 4605}\n",
      "could not find in spacify: {'Wort': 'er', 'from': 4891, 'to': 4893}\n",
      "could not find in spacify: {'Wort': 'die', 'from': None, 'to': None}\n",
      "could not find in spacify: {'Wort': 'Entwurf', 'from': None, 'to': None}\n",
      "could not find in spacify: {'Wort': 'der', 'from': None, 'to': None}\n",
      "could not find in spacify: {'Wort': 'ein', 'from': None, 'to': None}\n",
      "could not find in spacify: {'Wort': 'die Parteien', 'from': None, 'to': None}\n",
      "could not find in spacify: {'Wort': 'er', 'from': 722, 'to': 724}\n",
      "could not find in spacify: {'Wort': 'Der', 'from': None, 'to': None}\n",
      "could not find in spacify: {'Wort': 'es gibt', 'from': None, 'to': None}\n",
      "could not find in spacify: {'Wort': 'der', 'from': 1162, 'to': 1165}\n",
      "could not find in spacify: {'Wort': 'der', 'from': 1319, 'to': 1322}\n",
      "could not find in spacify: {'Wort': 'er', 'from': 2203, 'to': 2205}\n",
      "could not find in spacify: {'Wort': 'Kampfeinsatz', 'from': None, 'to': None}\n",
      "could not find in spacify: {'Wort': 'der', 'from': 4121, 'to': 4124}\n",
      "could not find in spacify: {'Wort': 'der Abgeordnete', 'from': None, 'to': None}\n",
      "could not find in spacify: {'Wort': 'Ministerpräsidenten', 'from': 666, 'to': 685}\n",
      "could not find in spacify: {'Wort': 'Ministerpräsident', 'from': 666, 'to': 683}\n",
      "could not find in spacify: {'Wort': 'die', 'from': None, 'to': None}\n",
      "could not find in spacify: {'Wort': 'Istitutionen', 'from': None, 'to': None}\n",
      "could not find in spacify: {'Wort': 'den', 'from': 3654, 'to': 3657}\n",
      "could not find in spacify: {'Wort': 'die Kommission', 'from': None, 'to': None}\n",
      "could not find in spacify: {'Wort': 'Männer', 'from': None, 'to': None}\n",
      "could not find in spacify: {'Wort': 'Maler', 'from': None, 'to': None}\n",
      "could not find in spacify: {'Wort': 'Wer', 'from': None, 'to': None}\n",
      "could not find in spacify: {'Wort': 'er', 'from': 1160, 'to': 1162}\n",
      "could not find in spacify: {'Wort': 'er', 'from': 1184, 'to': 1186}\n",
      "could not find in spacify: {'Wort': 'ein', 'from': 1502, 'to': 1505}\n",
      "could not find in spacify: {'Wort': 'er', 'from': 1968, 'to': 1970}\n",
      "could not find in spacify: {'Wort': 'er', 'from': 2103, 'to': 2105}\n",
      "could not find in spacify: {'Wort': 'der Berater', 'from': None, 'to': None}\n",
      "could not find in spacify: {'Wort': 'Höfe', 'from': None, 'to': None}\n",
      "could not find in spacify: {'Wort': 'Betriebe', 'from': None, 'to': None}\n",
      "could not find in spacify: {'Wort': 'Minister', 'from': None, 'to': None}\n",
      "could not find in spacify: {'Wort': 'Präsident', 'from': None, 'to': None}\n",
      "could not find in spacify: {'Wort': 'Mann', 'from': 3460, 'to': 3464}\n",
      "could not find in spacify: {'Wort': 'Grundbesitzer', 'from': None, 'to': None}\n",
      "could not find in spacify: {'Wort': 'einste', 'from': None, 'to': None}\n",
      "could not find in spacify: {'Wort': 'Nachfolgebetriebe', 'from': 2387, 'to': 2404}\n",
      "could not find in spacify: {'Wort': 'sie', 'from': None, 'to': None}\n",
      "could not find in spacify: {'Wort': 'Behörde', 'from': 4205, 'to': 4212}\n",
      "could not find in spacify: {'Wort': 'Eigentümer', 'from': None, 'to': None}\n",
      "could not find in spacify: {'Wort': 'Minister', 'from': None, 'to': None}\n",
      "could not find in spacify: {'Wort': 'Leute', 'from': 6197, 'to': 6202}\n",
      "could not find in spacify: {'Wort': 'er', 'from': 6232, 'to': 6234}\n",
      "could not find in spacify: {'Wort': 'den', 'from': 6401, 'to': 6404}\n",
      "could not find in spacify: {'Wort': 'des', 'from': None, 'to': None}\n",
      "could not find in spacify: {'Wort': 'sein', 'from': None, 'to': None}\n",
      "could not find in spacify: {'Wort': 'der', 'Text': 'Die Ukraine will einen internationalen Wettbewerb ausschreiben, bei dem die beste Möglichkeit zur Versiegelung des Katastrophenreaktors von Tschernobyl gefunden werden soll.', 'from': None, 'to': None}\n",
      "could not find in spacify: {'Wort': 'den', 'Text': 'Die Ukraine will einen internationalen Wettbewerb ausschreiben, bei dem die beste Möglichkeit zur Versiegelung des Katastrophenreaktors von Tschernobyl gefunden werden soll.', 'from': 185, 'to': 188}\n",
      "could not find in spacify: {'Wort': 'Britten', 'from': None, 'to': None}\n",
      "could not find in spacify: {'Wort': 'Unternehmen', 'from': 484, 'to': 495}\n",
      "could not find in spacify: {'Wort': 'er', 'from': 480, 'to': 482}\n",
      "could not find in spacify: {'Wort': 'ist', 'from': None, 'to': None}\n",
      "could not find in spacify: {'Wort': 'Es', 'Textsprache': 'Deutsch', 'from': None, 'to': None}\n",
      "could not find in spacify: {'Wort': 'das', 'from': 788, 'to': 791}\n",
      "could not find in spacify: {'Wort': 'Vorstandschef', 'from': 887, 'to': 900}\n",
      "could not find in spacify: {'Wort': 'Komitees', 'from': None, 'to': None}\n",
      "could not find in spacify: {'Wort': 'Männer', 'from': None, 'to': None}\n",
      "could not find: {'word': 'Monate', 'from': 7049, 'to': 7055, 'ntbg': False}\n",
      "could not find in spacify: {'Wort': 'der', 'from': 5649, 'to': 5652}\n",
      "could not find in spacify: {'Wort': 'Minister', 'from': None, 'to': None}\n",
      "could not find in spacify: {'Wort': 'er', 'from': 7179, 'to': 7181}\n",
      "could not find in spacify: {'Wort': 'ihn', 'from': None, 'to': None}\n",
      "could not find in spacify: {'Wort': 'Schiffswerft', 'from': 7368, 'to': 7380}\n",
      "could not find in spacify: {'Wort': 'Bremen', 'from': None, 'to': None}\n",
      "could not find in spacify: {'Wort': 'er', 'from': 545, 'to': 547}\n",
      "could not find in spacify: {'Wort': 'es', 'from': 1894, 'to': 1896}\n",
      "could not find in spacify: {'Wort': 'er', 'from': 1897, 'to': 1899}\n",
      "could not find in spacify: {'Wort': 'es', 'from': 2411, 'to': 2413}\n",
      "could not find in spacify: {'Wort': 'er', 'from': 561, 'to': 563}\n",
      "could not find in spacify: {'Wort': 'neuer', 'from': None, 'to': None}\n",
      "could not find in spacify: {'Wort': 'Im', 'from': None, 'to': None}\n",
      "could not find in spacify: {'Wort': 'Tokio', 'from': None, 'to': None}\n",
      "could not find in spacify: {'Wort': 'Politiker', 'from': 496, 'to': 505}\n",
      "could not find in spacify: {'Wort': 'er', 'from': 802, 'to': 804}\n",
      "could not find in spacify: {'Wort': 'Land', 'from': None, 'to': None}\n",
      "could not find in spacify: {'Wort': 'Zweiter Weltkrieg', 'from': None, 'to': None}\n",
      "could not find in spacify: {'Wort': 'Friedensvertrages', 'from': None, 'to': None}\n",
      "could not find in spacify: {'Wort': 'die Regierung', 'from': None, 'to': None}\n",
      "could not find in spacify: {'Wort': 'den Ländern', 'from': 2666, 'to': 2677}\n",
      "could not find in spacify: {'Wort': 'der', 'from': None, 'to': None}\n",
      "could not find in spacify: {'Wort': 'des', 'from': None, 'to': None}\n",
      "could not find in spacify: {'Wort': 'es', 'from': None, 'to': None}\n",
      "could not find in spacify: {'Wort': 'Ministerium', 'from': None, 'to': None}\n",
      "could not find in spacify: {'Wort': 'er', 'Text': 'schreibt er zugleich', 'from': 642, 'to': 644}\n",
      "could not find in spacify: {'Wort': 'er', 'Text': '', 'from': 642, 'to': 644}\n",
      "could not find in spacify: {'Wort': 'er', 'from': 642, 'to': 644}\n",
      "could not find in spacify: {'Wort': 'Frommer', 'from': None, 'to': None}\n",
      "could not find in spacify: {'Wort': 'Er', 'from': None, 'to': None}\n",
      "could not find in spacify: {'Wort': 'er', 'from': 2553, 'to': 2555}\n"
     ]
    },
    {
     "name": "stderr",
     "output_type": "stream",
     "text": [
      "100%|████████████████████████████████████████| 100/100 [00:00<00:00, 244.57it/s]\n"
     ]
    },
    {
     "name": "stdout",
     "output_type": "stream",
     "text": [
      "could not find in spacify: {'Wort': 'er', 'from': 445, 'to': 447}\n",
      "could not find in spacify: {'Wort': 'er', 'from': 685, 'to': 687}\n",
      "could not find in spacify: {'Wort': 'Inkatha-Kämpfer', 'from': None, 'to': None}\n",
      "could not find in spacify: {'Wort': 'die Partei', 'from': None, 'to': None}\n",
      "could not find in spacify: {'Wort': 'er', 'from': 486, 'to': 488}\n",
      "could not find in spacify: {'Wort': 'Besitzer', 'from': None, 'to': None}\n",
      "could not find in spacify: {'Wort': 'Er', 'from': None, 'to': None}\n",
      "could not find in spacify: {'Wort': 'Hausbesitzer', 'from': None, 'to': None}\n",
      "could not find in spacify: {'Wort': 'er', 'from': None, 'to': None}\n",
      "could not find in spacify: {'Wort': 'der Hausbesitzer', 'from': None, 'to': None}\n",
      "could not find in spacify: {'Wort': 'es', 'from': 1782, 'to': 1784}\n",
      "could not find in spacify: {'Wort': 'der', 'from': 2103, 'to': 2106}\n",
      "could not find in spacify: {'Wort': 'er', 'from': 25, 'to': 27}\n",
      "could not find in spacify: {'Wort': 'er', 'from': 222, 'to': 224}\n",
      "could not find in spacify: {'Wort': 'Keiner', 'from': None, 'to': None}\n",
      "could not find in spacify: {'Wort': 'er', 'from': 681, 'to': 683}\n",
      "could not find in spacify: {'Wort': 'Parlamentarischer Ausschuß', 'from': None, 'to': None}\n",
      "could not find in spacify: {'Wort': 'er', 'from': 224, 'to': 226}\n",
      "could not find in spacify: {'Wort': 'man', 'from': None, 'to': None}\n",
      "could not find in spacify: {'Wort': 'Blaumacher', 'from': 727, 'to': 737}\n",
      "could not find in spacify: {'Wort': 'der', 'from': 1285, 'to': 1288}\n",
      "could not find in spacify: {'Wort': 'er', 'from': 1833, 'to': 1835}\n",
      "could not find in spacify: {'Wort': 'er', 'from': 60, 'to': 62}\n",
      "could not find in spacify: {'Wort': 'Asierbaidschaner', 'from': None, 'to': None}\n",
      "could not find in spacify: {'Wort': 'er', 'from': 2018, 'to': 2020}\n",
      "could not find in spacify: {'Wort': 'er', 'from': 154, 'to': 156}\n",
      "could not find in spacify: {'Wort': 'der', 'from': 626, 'to': 629}\n",
      "could not find in spacify: {'Wort': 'Mitarbeiter', 'from': 4, 'to': 15}\n",
      "could not find in spacify: {'Wort': 'der Anschlag', 'from': None, 'to': None}\n",
      "could not find in spacify: {'Wort': 'Anschlager', 'from': None, 'to': None}\n",
      "could not find in spacify: {'Wort': 'Mörders', 'from': 64, 'to': 71}\n",
      "could not find in spacify: {'Wort': 'Präsident', 'from': None, 'to': None}\n",
      "could not find in spacify: {'Wort': 'sein', 'from': None, 'to': None}\n",
      "could not find in spacify: {'Wort': 'der', 'from': None, 'to': None}\n",
      "could not find in spacify: {'Wort': 'das', 'from': None, 'to': None}\n",
      "could not find in spacify: {'Wort': 'Minister', 'from': None, 'to': None}\n",
      "could not find in spacify: {'Wort': 'Opfer', 'from': 20, 'to': 25}\n",
      "could not find in spacify: {'Wort': 'er', 'from': 523, 'to': 525}\n",
      "could not find in spacify: {'Wort': 'Gastgeber', 'from': None, 'to': None}\n",
      "could not find in spacify: {'Wort': 'Freund', 'from': None, 'to': None}\n",
      "could not find in spacify: {'Wort': 'Freunde', 'from': None, 'to': None}\n",
      "could not find in spacify: {'Wort': 'waren', 'from': None, 'to': None}\n",
      "could not find in spacify: {'Wort': 'gefordert', 'from': None, 'to': None}\n",
      "could not find in spacify: {'Wort': 'Deutschen', 'from': None, 'to': None}\n",
      "could not find in spacify: {'Wort': 'PETER-MICHAEL', 'from': None, 'to': None}\n",
      "could not find in spacify: {'Wort': 'ehemaliger', 'from': None, 'to': None}\n",
      "could not find in spacify: {'Wort': 'Minister', 'from': None, 'to': None}\n",
      "could not find in spacify: {'Wort': 'Politiker', 'from': 87, 'to': 96}\n",
      "could not find in spacify: {'Wort': 'Ministerium', 'from': None, 'to': None}\n",
      "could not find in spacify: {'Wort': 'er', 'from': 859, 'to': 861}\n",
      "could not find in spacify: {'Wort': 'er', 'from': 1060, 'to': 1062}\n",
      "could not find in spacify: {'Wort': 'Polizisten', 'from': None, 'to': None}\n",
      "could not find in spacify: {'Wort': 'das Münchner Ifo-Instituts', 'from': None, 'to': None}\n",
      "could not find in spacify: {'Wort': 'Es', 'from': None, 'to': None}\n",
      "could not find in spacify: {'Wort': 'Sprecher', 'from': None, 'to': None}\n",
      "could not find in spacify: {'Wort': 'Person', 'from': None, 'to': None}\n",
      "could not find in spacify: {'Wort': 'Frauen', 'from': None, 'to': None}\n",
      "could not find in spacify: {'Wort': 'die', 'from': None, 'to': None}\n",
      "could not find in spacify: {'Wort': 'ein Mitglied', 'from': None, 'to': None}\n",
      "could not find in spacify: {'Wort': 'ein', 'from': 342, 'to': 345}\n",
      "could not find in spacify: {'Wort': 'die Maschine', 'from': None, 'to': None}\n",
      "could not find in spacify: {'Wort': 'der Flugplatz', 'from': None, 'to': None}\n",
      "could not find in spacify: {'Wort': 'das Depot', 'from': None, 'to': None}\n",
      "could not find in spacify: {'Wort': 'Er', 'from': None, 'to': None}\n",
      "could not find in spacify: {'Wort': 'Fahrer', 'from': 389, 'to': 395}\n",
      "could not find in spacify: {'Wort': 'der', 'from': 1399, 'to': 1402}\n",
      "could not find in spacify: {'Wort': 'der', 'from': None, 'to': None}\n",
      "could not find in spacify: {'Wort': 'Schnellzug', 'from': None, 'to': None}\n",
      "could not find in spacify: {'Wort': 'Staatschefs', 'from': 383, 'to': 394}\n",
      "could not find in spacify: {'Wort': 'Parlamentarischer', 'from': None, 'to': None}\n",
      "could not find in spacify: {'Wort': 'er', 'from': 355, 'to': 357}\n",
      "could not find in spacify: {'Wort': 'Regierungskreise', 'from': 259, 'to': 275}\n",
      "could not find in spacify: {'Wort': 'Staatssekretär', 'from': 670, 'to': 684}\n",
      "could not find in spacify: {'Wort': 'Regimes', 'from': 99, 'to': 106}\n",
      "could not find in spacify: {'Wort': 'Führende', 'from': None, 'to': None}\n",
      "could not find in spacify: {'Wort': 'er', 'from': None, 'to': None}\n",
      "could not find in spacify: {'Wort': 'Katholiken', 'from': None, 'to': None}\n",
      "could not find in spacify: {'Wort': 'er', 'from': 182, 'to': 184}\n",
      "could not find in spacify: {'Wort': 'den', 'from': 413, 'to': 416}\n",
      "could not find in spacify: {'Wort': 'designierte Ministerpräsident', 'from': None, 'to': None}\n",
      "could not find in spacify: {'Wort': 'Palästiner', 'from': None, 'to': None}\n",
      "could not find in spacify: {'Wort': 'Putschisten', 'from': None, 'to': None}\n",
      "could not find in spacify: {'Wort': 'Propagandaminister', 'from': 274, 'to': 292}\n",
      "could not find in spacify: {'Wort': 'der Historiker Irving', 'from': None, 'to': None}\n",
      "could not find in spacify: {'Wort': 'Propagandachefs', 'from': 1368, 'to': 1383}\n",
      "could not find in spacify: {'Wort': 'sein Sponsoren', 'Anmerkung': \"hier ist 'Sponsor' maskulin\", 'from': None, 'to': None}\n",
      "could not find in spacify: {'Wort': 'das', 'from': None, 'to': None}\n",
      "could not find in spacify: {'Wort': 'Ministerium', 'from': None, 'to': None}\n",
      "could not find in spacify: {'Wort': 'irakisches', 'from': None, 'to': None}\n",
      "could not find in spacify: {'Wort': 'der Ministerpräsident', 'from': None, 'to': None}\n",
      "could not find in spacify: {'Wort': 'Mitteld', 'from': None, 'to': None}\n",
      "could not find in spacify: {'Wort': 'das', 'from': None, 'to': None}\n",
      "could not find in spacify: {'Wort': 'Der', 'from': None, 'to': None}\n",
      "could not find in spacify: {'Wort': 'Finanzminister', 'from': 2366, 'to': 2380}\n",
      "could not find in spacify: {'Wort': 'sein', 'from': None, 'to': None}\n",
      "could not find in spacify: {'Wort': 'Beamten', 'from': None, 'to': None}\n",
      "could not find in spacify: {'Wort': 'der FDA', 'from': None, 'to': None}\n",
      "could not find in spacify: {'Wort': 'der Kampf', 'from': None, 'to': None}\n",
      "could not find in spacify: {'Wort': 'sein', 'from': None, 'to': None}\n",
      "could not find in spacify: {'Wort': 'das', 'from': None, 'to': None}\n",
      "could not find in spacify: {'Wort': 'Tochter', 'from': 2650, 'to': 2657}\n",
      "could not find in spacify: {'Wort': 'Unternehmen', 'from': None, 'to': None}\n",
      "could not find in spacify: {'Wort': 'Übernahm', 'from': None, 'to': None}\n",
      "could not find in spacify: {'Wort': 'Steuerte', 'from': None, 'to': None}\n",
      "could not find in spacify: {'Wort': 'Gründet', 'from': None, 'to': None}\n",
      "could not find in spacify: {'Wort': 'Gesetzgeber', 'from': None, 'to': None}\n",
      "could not find in spacify: {'Wort': 'deren', 'from': None, 'to': None}\n",
      "could not find in spacify: {'Wort': 'Führer', 'from': None, 'to': None}\n",
      "could not find in spacify: {'Wort': 'Mannen', 'from': None, 'to': None}\n",
      "could not find in spacify: {'Wort': 'Männer', 'from': None, 'to': None}\n",
      "could not find in spacify: {'Wort': 'der', 'from': 2551, 'to': 2554}\n",
      "could not find in spacify: {'Wort': 'sie', 'from': None, 'to': None}\n",
      "could not find in spacify: {'Wort': 'dieser', 'from': None, 'to': None}\n",
      "could not find in spacify: {'Wort': 'selbständigen', 'from': None, 'to': None}\n",
      "could not find in spacify: {'Wort': 'Mann', 'from': None, 'to': None}\n",
      "could not find in spacify: {'Wort': 'er', 'from': 182, 'to': 184}\n",
      "could not find in spacify: {'Wort': 'Er', 'from': None, 'to': None}\n",
      "could not find in spacify: {'Wort': 'Generalsekretär', 'from': 379, 'to': 394}\n",
      "could not find in spacify: {'Wort': 'Der', 'from': None, 'to': None}\n",
      "could not find in spacify: {'Wort': 'den', 'from': 647, 'to': 650}\n",
      "could not find in spacify: {'Wort': 'er', 'from': 1011, 'to': 1013}\n",
      "could not find in spacify: {'Wort': 'türkische Volksgruppe', 'from': None, 'to': None}\n",
      "could not find in spacify: {'Wort': 'Unternehmer', 'from': 1298, 'to': 1309}\n",
      "could not find in spacify: {'Wort': 'und', 'from': 1427, 'to': 1430}\n",
      "could not find in spacify: {'Wort': 'Patienten', 'from': 1750, 'to': 1759}\n",
      "could not find in spacify: {'Wort': 'er', 'from': 801, 'to': 803}\n",
      "could not find in spacify: {'Wort': 'er', 'from': 1303, 'to': 1305}\n",
      "could not find in spacify: {'Wort': 'er', 'from': 1470, 'to': 1472}\n",
      "could not find in spacify: {'Wort': 'ihn', 'from': None, 'to': None}\n",
      "could not find in spacify: {'Wort': 'es', 'from': 1674, 'to': 1676}\n",
      "could not find in spacify: {'Wort': 'er', 'from': 1659, 'to': 1661}\n",
      "could not find in spacify: {'Wort': 'jeder', 'from': None, 'to': None}\n",
      "could not find in spacify: {'Wort': 'er', 'from': 1821, 'to': 1823}\n",
      "could not find in spacify: {'Wort': 'die beiden Vertreter', 'from': None, 'to': None}\n",
      "could not find in spacify: {'Wort': 'der Ministerpräsidenten', 'from': None, 'to': None}\n",
      "could not find in spacify: {'Wort': 'er', 'from': 3329, 'to': 3331}\n",
      "could not find in spacify: {'Wort': 'er', 'from': None, 'to': None}\n",
      "could not find in spacify: {'Wort': 'man', 'from': None, 'to': None}\n",
      "could not find in spacify: {'Wort': 'er', 'from': 3631, 'to': 3633}\n",
      "could not find in spacify: {'Wort': 'Männer', 'from': None, 'to': None}\n",
      "could not find in spacify: {'Wort': 'er', 'from': 3927, 'to': 3929}\n",
      "could not find in spacify: {'Wort': 'er', 'from': 4362, 'to': 4364}\n",
      "could not find in spacify: {'Wort': 'Vertrag', 'from': None, 'to': None}\n",
      "could not find in spacify: {'Wort': 'er', 'from': 6195, 'to': 6197}\n",
      "could not find in spacify: {'Wort': 'er', 'from': 6315, 'to': 6317}\n",
      "could not find in spacify: {'Wort': 'Jeden', 'from': None, 'to': None}\n",
      "could not find in spacify: {'Wort': 'Denen', 'from': None, 'to': None}\n",
      "could not find in spacify: {'Wort': 'er', 'from': 6458, 'to': 6460}\n",
      "could not find in spacify: {'Wort': 'er', 'Text': 'Jürgen Kroppelin', 'from': 427, 'to': 429}\n",
      "could not find in spacify: {'Wort': 'er', 'from': 538, 'to': 540}\n",
      "could not find in spacify: {'Wort': 'er', 'from': 621, 'to': 623}\n",
      "could not find in spacify: {'Wort': 'se', 'from': 872, 'to': 874}\n",
      "could not find in spacify: {'Wort': 'ihn', 'from': None, 'to': None}\n",
      "could not find in spacify: {'Wort': 'er', 'from': 747, 'to': 749}\n",
      "could not find in spacify: {'Wort': 'er', 'from': 1109, 'to': 1111}\n",
      "could not find in spacify: {'Wort': 'müssen', 'from': None, 'to': None}\n",
      "could not find in spacify: {'Wort': 'er', 'from': 145, 'to': 147}\n",
      "could not find in spacify: {'Wort': 'werden', 'from': None, 'to': None}\n",
      "could not find in spacify: {'Wort': 'Präsident', 'from': 2504, 'to': 2513}\n",
      "could not find in spacify: {'Wort': 'Kommissionspräsident', 'from': 2629, 'to': 2649}\n",
      "could not find in spacify: {'Wort': 'der', 'Text': 'Der Bundeskanzler', 'from': None, 'to': None}\n",
      "could not find in spacify: {'Wort': 'er', 'from': 2939, 'to': 2941}\n",
      "could not find in spacify: {'Wort': 'jeder', 'from': None, 'to': None}\n",
      "could not find in spacify: {'Wort': 'Betriebsratsvorsitzender', 'from': None, 'to': None}\n",
      "could not find in spacify: {'Wort': 'Management', 'from': 1013, 'to': 1023}\n",
      "could not find in spacify: {'Wort': 'Kloses', 'from': None, 'to': None}\n",
      "could not find in spacify: {'Wort': 'er', 'from': 1437, 'to': 1439}\n",
      "could not find in spacify: {'Wort': 'fordern', 'from': None, 'to': None}\n",
      "could not find in spacify: {'Wort': 'bitten', 'from': None, 'to': None}\n",
      "could not find in spacify: {'Wort': 'resignieren', 'from': None, 'to': None}\n",
      "could not find in spacify: {'Wort': 'Männer', 'from': None, 'to': None}\n",
      "could not find in spacify: {'Wort': 'er', 'from': 2361, 'to': 2363}\n",
      "could not find in spacify: {'Wort': 'der Erwerbslose', 'from': None, 'to': None}\n",
      "could not find in spacify: {'Wort': 'der frühere Hamburger Bürgermeister', 'from': None, 'to': None}\n",
      "could not find in spacify: {'Wort': 'Gelände', 'from': 3433, 'to': 3440}\n",
      "could not find in spacify: {'Wort': 'ein Betriebsrat', 'from': None, 'to': None}\n",
      "could not find in spacify: {'Wort': 'Landesvorsitzende', 'from': 236, 'to': 253}\n",
      "could not find in spacify: {'Wort': 'er', 'from': 1112, 'to': 1114}\n",
      "could not find in spacify: {'Wort': 'Kandidaten', 'from': None, 'to': None}\n",
      "could not find in spacify: {'Wort': 'MdB', 'Text': '...und dem FDP-MdB Wolfgang Weng.', 'from': 2058, 'to': 2061}\n",
      "could not find in spacify: {'Wort': 'er', 'from': 2462, 'to': 2464}\n",
      "could not find in spacify: {'Wort': 'er', 'from': 3335, 'to': 3337}\n",
      "could not find in spacify: {'Wort': 'er', 'from': 3589, 'to': 3591}\n",
      "could not find in spacify: {'Wort': 'wirren', 'from': None, 'to': None}\n",
      "could not find in spacify: {'Wort': 'eine Frau', 'from': None, 'to': None}\n",
      "could not find in spacify: {'Wort': 'Ministerium', 'from': None, 'to': None}\n",
      "could not find in spacify: {'Wort': 'Präsident', 'from': 1328, 'to': 1337}\n",
      "could not find in spacify: {'Wort': 'Gewergschaftsfunktionäre', 'from': None, 'to': None}\n",
      "could not find in spacify: {'Wort': 'er', 'from': 631, 'to': 633}\n",
      "could not find in spacify: {'Wort': 'er', 'from': 1693, 'to': 1695}\n",
      "could not find in spacify: {'Wort': 'er', 'from': 1746, 'to': 1748}\n",
      "could not find in spacify: {'Wort': 'Angeschlagene', 'from': None, 'to': None}\n",
      "could not find in spacify: {'Wort': 'Männer', 'from': None, 'to': None}\n",
      "could not find in spacify: {'Wort': ' Autofahrern', 'from': 2324, 'to': 2336}\n",
      "could not find in spacify: {'Wort': 'Polizisten', 'from': None, 'to': None}\n"
     ]
    },
    {
     "name": "stderr",
     "output_type": "stream",
     "text": [
      "  0%|                                                   | 0/100 [00:00<?, ?it/s]"
     ]
    },
    {
     "name": "stdout",
     "output_type": "stream",
     "text": [
      "could not find in spacify: {'Wort': 'ein ehemaliger Geschäftsführer', 'from': None, 'to': None}\n",
      "could not find in spacify: {'Wort': 'er', 'from': 2982, 'to': 2984}\n",
      "could not find in spacify: {'Wort': 'ihn', 'from': None, 'to': None}\n",
      "could not find in spacify: {'Wort': 'er', 'from': 3729, 'to': 3731}\n",
      "could not find in spacify: {'Wort': 'er', 'from': 3792, 'to': 3794}\n",
      "could not find in spacify: {'Wort': 'er', 'from': 4021, 'to': 4023}\n",
      "could not find in spacify: {'Wort': 'er', 'from': 4197, 'to': 4199}\n",
      "could not find in spacify: {'Wort': 'er', 'from': 5047, 'to': 5049}\n",
      "could not find in spacify: {'Wort': 'den', 'from': None, 'to': None}\n",
      "could not find in spacify: {'Wort': 'sie', 'from': 1188, 'to': 1191}\n",
      "could not find in spacify: {'Wort': 'Kein', 'from': None, 'to': None}\n",
      "could not find in spacify: {'Wort': 'Internationaler Währungsfonds', 'from': None, 'to': None}\n",
      "could not find in spacify: {'Wort': 'er', 'from': 2799, 'to': 2801}\n",
      "could not find in spacify: {'Wort': 'der Arbeitgeber', 'from': None, 'to': None}\n",
      "could not find in spacify: {'Wort': 'Männer', 'from': None, 'to': None}\n",
      "could not find in spacify: {'Wort': 'der', 'from': None, 'to': None}\n",
      "could not find in spacify: {'Wort': 'der Politologe', 'from': None, 'to': None}\n",
      "could not find in spacify: {'Wort': 'Sie', 'from': None, 'to': None}\n",
      "could not find in spacify: {'Wort': 'Ihren', 'from': None, 'to': None}\n",
      "could not find in spacify: {'Wort': 'er', 'from': 3459, 'to': 3461}\n",
      "could not find in spacify: {'Wort': 'Männer', 'from': None, 'to': None}\n",
      "could not find in spacify: {'Wort': 'der', 'from': 4767, 'to': 4770}\n",
      "could not find in spacify: {'Wort': 'er', 'from': 4932, 'to': 4934}\n",
      "could not find in spacify: {'Wort': 'man', 'from': None, 'to': None}\n",
      "could not find in spacify: {'Wort': 'die Republikaner', 'from': None, 'to': None}\n",
      "could not find in spacify: {'Wort': 'die NPD', 'from': None, 'to': None}\n",
      "could not find in spacify: {'Wort': 'die CDU', 'from': None, 'to': None}\n",
      "could not find in spacify: {'Wort': 'er', 'from': 6633, 'to': 6635}\n",
      "could not find in spacify: {'Wort': 'er', 'from': 6870, 'to': 6872}\n",
      "could not find in spacify: {'Wort': 'wer', 'from': None, 'to': None}\n",
      "could not find in spacify: {'Wort': 'er', 'from': 8620, 'to': 8622}\n",
      "could not find in spacify: {'Wort': 'er', 'from': 8741, 'to': 8743}\n",
      "could not find in spacify: {'Wort': 'ich', 'from': 8912, 'to': 8915}\n",
      "could not find in spacify: {'Wort': 'er', 'from': 9405, 'to': 9407}\n",
      "could not find in spacify: {'Wort': 'sein', 'from': None, 'to': None}\n",
      "could not find in spacify: {'Wort': 'er', 'from': 1660, 'to': 1662}\n",
      "could not find in spacify: {'Wort': 'die Autonomen', 'from': None, 'to': None}\n",
      "could not find in spacify: {'Wort': 'die Autonomen (M)', 'from': None, 'to': None}\n",
      "could not find in spacify: {'Wort': 'Der Strafverfolger', 'from': None, 'to': None}\n",
      "could not find in spacify: {'Wort': 'er', 'from': 3501, 'to': 3503}\n",
      "could not find in spacify: {'Wort': 'jungen', 'from': None, 'to': None}\n",
      "could not find in spacify: {'Wort': 'der', 'from': 1506, 'to': 1509}\n",
      "could not find in spacify: {'Wort': 'sein', 'from': None, 'to': None}\n",
      "could not find in spacify: {'Wort': 'der', 'from': None, 'to': None}\n",
      "could not find in spacify: {'Wort': 'der', 'from': 3224, 'to': 3227}\n",
      "could not find in spacify: {'Wort': 'Kicker', 'Type': 'Nominativ', 'from': 6, 'to': 12}\n",
      "could not find in spacify: {'Wort': 'sein', 'Type': '', 'from': None, 'to': None}\n",
      "could not find in spacify: {'Wort': 'Klinsmann', 'Maskulin': True, 'from': 653, 'to': 662}\n",
      "could not find in spacify: {'Wort': 'Klinsmanns', 'from': 653, 'to': 663}\n",
      "could not find in spacify: {'Wort': 'dem Mitspieler', 'from': None, 'to': None}\n",
      "could not find in spacify: {'Wort': 'sein Sportkumpel', 'from': None, 'to': None}\n",
      "could not find in spacify: {'Wort': 'er', 'from': 1, 'to': 3}\n",
      "could not find in spacify: {'Wort': 'Ministerium', 'from': None, 'to': None}\n",
      "could not find in spacify: {'Wort': 'jedenfalls die Eidgenossen', 'from': None, 'to': None}\n",
      "could not find in spacify: {'Wort': 'den österreichischen Außenministerium', 'from': None, 'to': None}\n",
      "could not find in spacify: {'Wort': 'er', 'from': 119, 'to': 121}\n",
      "could not find in spacify: {'Wort': 'der', 'from': 1034, 'to': 1037}\n",
      "could not find in spacify: {'Wort': 'er', 'from': 1043, 'to': 1045}\n",
      "could not find in spacify: {'Wort': 'Er', 'from': None, 'to': None}\n",
      "could not find in spacify: {'Wort': 'er', 'from': 2144, 'to': 2146}\n",
      "could not find in spacify: {'Wort': 'Der Spiegel', 'from': None, 'to': None}\n",
      "could not find in spacify: {'Wort': 'müssen', 'from': None, 'to': None}\n",
      "could not find in spacify: {'Wort': 'er', 'from': 3988, 'to': 3990}\n",
      "could not find in spacify: {'Wort': 'er', 'from': 5126, 'to': 5128}\n",
      "could not find in spacify: {'Wort': 'der', 'from': None, 'to': None}\n",
      "could not find in spacify: {'Wort': 'der Aufruhr', 'from': None, 'to': None}\n"
     ]
    },
    {
     "name": "stderr",
     "output_type": "stream",
     "text": [
      " 10%|████▏                                     | 10/100 [00:00<00:01, 80.98it/s]"
     ]
    },
    {
     "name": "stdout",
     "output_type": "stream",
     "text": [
      "could not find in spacify: {'Wort': 'Revolutionäre', 'from': None, 'to': None}\n",
      "could not find in spacify: {'Wort': 'die lokalen Machthabern', 'from': None, 'to': None}\n",
      "could not find in spacify: {'Wort': 'Männer', 'from': None, 'to': None}\n",
      "could not find in spacify: {'Wort': 'Revolutionsführer', 'from': None, 'to': None}\n",
      "could not find in spacify: {'Wort': 'den', 'from': None, 'to': None}\n",
      "could not find in spacify: {'Wort': 'Messerstecher', 'from': None, 'to': None}\n",
      "could not find in spacify: {'Wort': 'Revolutionsgerichten', 'from': None, 'to': None}\n",
      "could not find in spacify: {'Wort': 'Revolutionswächtern', 'from': None, 'to': None}\n",
      "could not find in spacify: {'Wort': 'Revutionsführer', 'from': None, 'to': None}\n",
      "could not find in spacify: {'Wort': 'Richter', 'from': None, 'to': None}\n",
      "could not find in spacify: {'Wort': 'Ayatollah', 'from': None, 'to': None}\n",
      "could not find in spacify: {'Wort': 'sie', 'from': None, 'to': None}\n",
      "could not find in spacify: {'Wort': 'er', 'from': 4283, 'to': 4285}\n",
      "could not find in spacify: {'Wort': 'Irraner', 'Geschlecht': 'maskulin', 'from': None, 'to': None}\n",
      "could not find in spacify: {'Wort': 'seine', 'from': None, 'to': None}\n",
      "could not find in spacify: {'Wort': 'ihren', 'from': None, 'to': None}\n",
      "could not find in spacify: {'Wort': 'sein', 'from': None, 'to': None}\n",
      "could not find in spacify: {'Wort': 'er', 'from': 5764, 'to': 5766}\n",
      "could not find in spacify: {'Wort': 'die klerikale Macht', 'from': None, 'to': None}\n",
      "could not find in spacify: {'Wort': 'Revolutiongardisten', 'from': None, 'to': None}\n",
      "could not find in spacify: {'Wort': 'Revutionsgardist', 'from': None, 'to': None}\n",
      "could not find in spacify: {'Wort': 'ihn', 'from': None, 'to': None}\n",
      "could not find in spacify: {'Wort': 'Erklärungsansatz für die Entstehung von Gewalt (Heitmeyer)', 'from': None, 'to': None}\n",
      "could not find in spacify: {'Wort': 'Mann', 'from': None, 'to': None}\n",
      "could not find in spacify: {'Wort': 'er', 'from': None, 'to': None}\n",
      "could not find in spacify: {'Wort': ' diese', 'from': 2134, 'to': 2140}\n",
      "could not find in spacify: {'Wort': 'den', 'from': 2510, 'to': 2513}\n",
      "could not find in spacify: {'Wort': 'wer', 'from': None, 'to': None}\n",
      "could not find in spacify: {'Wort': 'Er', 'from': None, 'to': None}\n",
      "could not find in spacify: {'Wort': 'jener', 'from': None, 'to': None}\n",
      "could not find in spacify: {'Wort': 'sie', 'from': None, 'to': None}\n",
      "could not find in spacify: {'Wort': 'Gewalt', 'from': None, 'to': None}\n",
      "could not find in spacify: {'Wort': 'er', 'from': 12, 'to': 14}\n",
      "could not find in spacify: {'Wort': 'Professor', 'from': 555, 'to': 564}\n",
      "could not find in spacify: {'Wort': 'Professoren', 'from': 680, 'to': 691}\n",
      "could not find in spacify: {'Wort': 'er', 'from': 1489, 'to': 1491}\n",
      "could not find in spacify: {'Wort': 'Revutionsführer', 'from': None, 'to': None}\n",
      "could not find in spacify: {'Wort': 'sie', 'from': None, 'to': None}\n",
      "could not find in spacify: {'Wort': 'er', 'from': 2523, 'to': 2525}\n",
      "could not find in spacify: {'Wort': 'er', 'from': 2585, 'to': 2587}\n",
      "could not find in spacify: {'Wort': 'er', 'from': 2788, 'to': 2790}\n",
      "could not find in spacify: {'Wort': 'er', 'from': 2818, 'to': 2820}\n",
      "could not find in spacify: {'Wort': 'er', 'from': 3230, 'to': 3232}\n",
      "could not find in spacify: {'Wort': 'er', 'Part of speech': 'Pronomen', 'Gender': 'maskulin', 'from': 3463, 'to': 3465}\n",
      "could not find in spacify: {'Wort': 'seinen', 'Part of speech': 'Pronomen', 'Gender': 'maskulin', 'from': None, 'to': None}\n",
      "could not find in spacify: {'Wort': 'er', 'from': 3725, 'to': 3727}\n",
      "could not find in spacify: {'Wort': 'er', 'from': 3990, 'to': 3992}\n",
      "could not find in spacify: {'Wort': 'er', 'from': 4209, 'to': 4211}\n",
      "could not find in spacify: {'Wort': 'er', 'from': 4269, 'to': 4271}\n",
      "could not find in spacify: {'Wort': 'er', 'from': 4375, 'to': 4377}\n",
      "could not find in spacify: {'Wort': 'er', 'from': 4603, 'to': 4605}\n",
      "could not find in spacify: {'Wort': 'seine', 'from': None, 'to': None}\n",
      "could not find in spacify: {'Wort': 'er', 'from': 4891, 'to': 4893}\n",
      "could not find in spacify: {'Wort': 'Streitkräfte', 'Personenbezeichnung': 'generic masculine personification', 'from': None, 'to': None}\n",
      "could not find in spacify: {'Wort': 'Er', 'from': None, 'to': None}\n",
      "could not find in spacify: {'Wort': 'Entwurf', 'from': None, 'to': None}\n",
      "could not find in spacify: {'Wort': 'er', 'from': None, 'to': None}\n",
      "could not find in spacify: {'Wort': 'ihn', 'from': None, 'to': None}\n",
      "could not find in spacify: {'Wort': 'sein', 'from': None, 'to': None}\n",
      "could not find in spacify: {'Wort': 'er', 'from': 69, 'to': 71}\n",
      "could not find in spacify: {'Wort': 'sie', 'from': None, 'to': None}\n",
      "could not find in spacify: {'Wort': 'er', 'from': 364, 'to': 366}\n",
      "could not find in spacify: {'Wort': 'er', 'from': 610, 'to': 612}\n",
      "could not find in spacify: {'Wort': 'der', 'from': 1319, 'to': 1322}\n",
      "could not find in spacify: {'Wort': 'ihn', 'Count': 1, 'from': None, 'to': None}\n",
      "could not find in spacify: {'Wort': 'er', 'from': 2641, 'to': 2643}\n",
      "could not find in spacify: {'Wort': 'je einzelner', 'from': None, 'to': None}\n",
      "could not find in spacify: {'Wort': 'Einsatz', 'from': None, 'to': None}\n",
      "could not find in spacify: {'Wort': 'der Bundestag', 'from': None, 'to': None}\n",
      "could not find in spacify: {'Wort': 'jeder', 'from': None, 'to': None}\n",
      "could not find in spacify: {'Wort': 'der', 'from': 4121, 'to': 4124}\n",
      "could not find in spacify: {'Wort': 'der Abgeordnete', 'from': None, 'to': None}\n",
      "could not find in spacify: {'Wort': 'der Politiker', 'from': None, 'to': None}\n",
      "could not find in spacify: {'Wort': 'seine Partnerländer', 'from': None, 'to': None}\n",
      "could not find in spacify: {'Wort': 'der Schild', 'from': None, 'to': None}\n",
      "could not find in spacify: {'Wort': 'Ministerpräsident', 'from': 666, 'to': 683}\n",
      "could not find in spacify: {'Wort': 'der', 'from': 1963, 'to': 1966}\n",
      "could not find in spacify: {'Wort': 'sie', 'from': None, 'to': None}\n",
      "could not find in spacify: {'Wort': 'die Schatzmeister', 'from': None, 'to': None}\n",
      "could not find in spacify: {'Wort': 'Maler', 'from': None, 'to': None}\n",
      "could not find in spacify: {'Wort': 'Männer', 'from': None, 'to': None}\n",
      "could not find in spacify: {'Wort': 'Wer', 'from': None, 'to': None}\n",
      "could not find in spacify: {'Wort': 'er', 'from': 1968, 'to': 1970}\n",
      "could not find in spacify: {'Wort': 'er', 'from': 2103, 'to': 2105}\n",
      "could not find in spacify: {'Wort': 'der westdeutsche Berater', 'from': None, 'to': None}\n",
      "could not find in spacify: {'Wort': 'er', 'from': 3043, 'to': 3045}\n",
      "could not find in spacify: {'Wort': 'seinen', 'from': None, 'to': None}\n",
      "could not find in spacify: {'Wort': 'des Agrarexpertes', 'from': None, 'to': None}\n",
      "could not find in spacify: {'Wort': 'Betriebe', 'from': None, 'to': None}\n",
      "could not find in spacify: {'Wort': 'Politiker', 'from': 3900, 'to': 3909}\n",
      "could not find in spacify: {'Wort': 'der', 'from': 4188, 'to': 4191}\n",
      "could not find in spacify: {'Wort': 'er', 'from': 4214, 'to': 4216}\n",
      "could not find in spacify: {'Wort': 'er', 'from': 4917, 'to': 4919}\n",
      "could not find in spacify: {'Wort': 'jemanden', 'from': None, 'to': None}\n",
      "could not find in spacify: {'Wort': 'er', 'from': 6232, 'to': 6234}\n",
      "could not find in spacify: {'Wort': 'der', 'from': None, 'to': None}\n",
      "could not find in spacify: {'Wort': 'den', 'from': 6684, 'to': 6687}\n",
      "could not find in spacify: {'Wort': 'der', 'from': 6867, 'to': 6870}\n",
      "could not find in spacify: {'Wort': 'des', 'from': 80, 'to': 83}\n",
      "could not find in spacify: {'Wort': 'er', 'from': 1057, 'to': 1059}\n",
      "could not find in spacify: {'Wort': 'der', 'from': None, 'to': None}\n",
      "could not find in spacify: {'Wort': 'er', 'from': 297, 'to': 299}\n",
      "could not find in spacify: {'Wort': 'er', 'from': 998, 'to': 1000}\n",
      "could not find in spacify: {'Wort': 'er', 'from': 704, 'to': 706}\n",
      "could not find in spacify: {'Wort': 'er', 'from': 480, 'to': 482}\n",
      "could not find in spacify: {'Wort': 'der', 'from': 1054, 'to': 1057}\n",
      "could not find in spacify: {'Wort': 'sein', 'from': None, 'to': None}\n",
      "could not find in spacify: {'Wort': 'die Staatsbetriebe', 'from': None, 'to': None}\n",
      "could not find in spacify: {'Wort': 'die OECD', 'from': None, 'to': None}\n",
      "could not find in spacify: {'Wort': 'Unternehmer', 'from': 63, 'to': 74}\n",
      "could not find in spacify: {'Wort': 'der französische Multi-Unternehmer', 'from': None, 'to': None}\n",
      "could not find in spacify: {'Wort': 'er', 'from': 538, 'to': 540}\n",
      "could not find in spacify: {'Wort': 'den', 'from': None, 'to': None}\n",
      "could not find in spacify: {'Wort': 'Tape', 'from': None, 'to': None}\n",
      "could not find in spacify: {'Wort': 'sie', 'from': None, 'to': None}\n",
      "could not find: {'word': 'Monate', 'from': 7049, 'to': 7055, 'ntbg': False}\n",
      "could not find in spacify: {'Wort': 'er', 'from': 291, 'to': 293}\n",
      "could not find in spacify: {'Wort': 'er', 'from': 825, 'to': 827}\n",
      "could not find in spacify: {'Wort': 'er', 'from': 3684, 'to': 3686}\n",
      "could not find in spacify: {'Wort': 'jemand', 'from': None, 'to': None}\n",
      "could not find in spacify: {'Wort': 'deren', 'from': 4445, 'to': 4450}\n",
      "could not find in spacify: {'Wort': 'er', 'from': 4331, 'to': 4333}\n",
      "could not find in spacify: {'Wort': 'der', 'from': None, 'to': None}\n",
      "could not find in spacify: {'Wort': 'sein', 'from': None, 'to': None}\n",
      "could not find in spacify: {'Wort': 'er', 'from': 5376, 'to': 5378}\n",
      "could not find in spacify: {'Wort': 'der', 'from': 5649, 'to': 5652}\n",
      "could not find in spacify: {'Wort': 'keiner', 'from': None, 'to': None}\n",
      "could not find in spacify: {'Wort': 'Eigentümer', 'from': None, 'to': None}\n",
      "could not find in spacify: {'Wort': 'ihn', 'from': None, 'to': None}\n",
      "could not find in spacify: {'Wort': 'einem', 'from': None, 'to': None}\n",
      "could not find in spacify: {'Wort': 'die Wissenschaftlerin', 'from': None, 'to': None}\n",
      "could not find in spacify: {'Wort': 'es', 'from': 2526, 'to': 2528}\n",
      "could not find in spacify: {'Wort': 'man', 'from': None, 'to': None}\n"
     ]
    },
    {
     "name": "stderr",
     "output_type": "stream",
     "text": [
      " 27%|███████████                              | 27/100 [00:00<00:00, 124.99it/s]"
     ]
    },
    {
     "name": "stdout",
     "output_type": "stream",
     "text": [
      "could not find in spacify: {'Wort': 'britischer Politiker', 'from': None, 'to': None}\n",
      "could not find in spacify: {'Wort': 'der britische Politiker', 'from': None, 'to': None}\n",
      "could not find in spacify: {'Wort': 'seinen', 'from': None, 'to': None}\n",
      "could not find in spacify: {'Wort': 'er', 'from': 561, 'to': 563}\n",
      "could not find in spacify: {'Wort': 'er', 'from': 650, 'to': 652}\n",
      "could not find in spacify: {'Wort': 'die Pekinger Kommunisten', 'from': None, 'to': None}\n",
      "could not find in spacify: {'Wort': 'es', 'from': 3248, 'to': 3250}\n",
      "could not find in spacify: {'Wort': 'er', 'from': 3589, 'to': 3591}\n",
      "could not find in spacify: {'Wort': 'sein', 'from': None, 'to': None}\n",
      "could not find in spacify: {'Wort': 'Tokio', 'from': None, 'to': None}\n",
      "could not find in spacify: {'Wort': 'er', 'from': 61, 'to': 63}\n",
      "could not find in spacify: {'Wort': 'er', 'from': 802, 'to': 804}\n",
      "could not find in spacify: {'Wort': 'die USA', 'from': None, 'to': None}\n",
      "could not find in spacify: {'Wort': 'der', 'from': None, 'to': None}\n",
      "could not find in spacify: {'Wort': 'er', 'from': None, 'to': None}\n",
      "could not find in spacify: {'Wort': 'Russen', 'from': None, 'to': None}\n",
      "could not find in spacify: {'Wort': 'er', 'from': 2994, 'to': 2996}\n",
      "could not find in spacify: {'Wort': 'den', 'from': 226, 'to': 229}\n",
      "could not find in spacify: {'Wort': 'ihn', 'from': None, 'to': None}\n",
      "could not find in spacify: {'Wort': 'er', 'from': 642, 'to': 644}\n",
      "could not find in spacify: {'Wort': 'er', 'from': 828, 'to': 830}\n",
      "could not find in spacify: {'Wort': 'es', 'from': 1654, 'to': 1656}\n",
      "could not find in spacify: {'Wort': 'er', 'from': 1621, 'to': 1623}\n",
      "could not find in spacify: {'Wort': 'er', 'from': 1829, 'to': 1831}\n",
      "could not find in spacify: {'Wort': 'er', 'from': 1968, 'to': 1970}\n",
      "could not find in spacify: {'Wort': 'er', 'from': 2553, 'to': 2555}\n",
      "could not find in spacify: {'Wort': 'der Kommunistische Partei', 'from': None, 'to': None}\n",
      "could not find in spacify: {'Wort': 'ihn', 'from': None, 'to': None}\n",
      "could not find in spacify: {'Wort': 'Inkatha-Kämpfer', 'from': None, 'to': None}\n",
      "could not find in spacify: {'Wort': 'jede Partei', 'from': None, 'to': None}\n",
      "could not find in spacify: {'Wort': 'er', 'from': 486, 'to': 488}\n",
      "could not find in spacify: {'Wort': 'Mann', 'from': None, 'to': None}\n",
      "could not find in spacify: {'Wort': 'Besitzer', 'from': None, 'to': None}\n",
      "could not find in spacify: {'Wort': 'Hausbesitzer', 'from': None, 'to': None}\n",
      "could not find in spacify: {'Wort': 'er', 'from': 222, 'to': 224}\n",
      "could not find in spacify: {'Wort': 'er', 'from': 681, 'to': 683}\n",
      "could not find in spacify: {'Wort': 'er', 'from': 764, 'to': 766}\n",
      "could not find in spacify: {'Wort': 'Zwei', 'from': None, 'to': None}\n",
      "could not find in spacify: {'Wort': 'die beiden', 'from': None, 'to': None}\n",
      "could not find in spacify: {'Wort': 'er', 'from': 224, 'to': 226}\n",
      "could not find in spacify: {'Wort': 'Blaumachern', 'Person': 'man', 'from': 727, 'to': 738}\n",
      "could not find in spacify: {'Wort': 'er', 'from': 1280, 'to': 1282}\n",
      "could not find in spacify: {'Wort': 'er', 'from': 1833, 'to': 1835}\n",
      "could not find in spacify: {'Wort': 'Männer', 'from': None, 'to': None}\n",
      "could not find in spacify: {'Wort': 'sein Amtskollege', 'from': None, 'to': None}\n",
      "could not find in spacify: {'Wort': 'aserbaidschaner', 'from': None, 'to': None}\n",
      "could not find in spacify: {'Wort': 'der frühere Generalsekretär', 'from': None, 'to': None}\n",
      "could not find in spacify: {'Wort': 'der japanische Ausfuhrüberschuß', 'from': None, 'to': None}\n",
      "could not find in spacify: {'Wort': 'er', 'from': 1218, 'to': 1220}\n",
      "could not find in spacify: {'Wort': 'Mitarbeiter', 'from': 4, 'to': 15}\n",
      "could not find in spacify: {'Wort': 'der', 'from': None, 'to': None}\n",
      "could not find in spacify: {'Wort': 'Polizist', 'from': None, 'to': None}\n",
      "could not find in spacify: {'Wort': 'moslemischer', 'from': None, 'to': None}\n",
      "could not find in spacify: {'Wort': 'er', 'from': 1360, 'to': 1362}\n",
      "could not find in spacify: {'Wort': 'keines', 'from': None, 'to': None}\n",
      "could not find in spacify: {'Wort': 'er', 'from': 1567, 'to': 1569}\n",
      "could not find in spacify: {'Wort': 'ihn', 'from': None, 'to': None}\n",
      "could not find in spacify: {'Wort': 'Jäger', 'from': None, 'to': None}\n",
      "could not find in spacify: {'Wort': 'Opfer', 'from': 20, 'to': 25}\n",
      "could not find in spacify: {'Wort': 'Männer', 'from': None, 'to': None}\n",
      "could not find in spacify: {'Wort': 'Gastgeber', 'from': None, 'to': None}\n",
      "could not find in spacify: {'Wort': 'Freunde', 'from': None, 'to': None}\n",
      "could not find in spacify: {'Wort': 'er', 'from': None, 'to': None}\n",
      "could not find in spacify: {'Wort': 'Er', 'from': None, 'to': None}\n",
      "could not find in spacify: {'Wort': 'Deutschen', 'from': None, 'to': None}\n",
      "could not find in spacify: {'Wort': 'den', 'from': 1521, 'to': 1524}\n",
      "could not find in spacify: {'Wort': 'PETER-MICHAEL', 'from': None, 'to': None}\n",
      "could not find in spacify: {'Wort': 'er', 'from': 387, 'to': 389}\n",
      "could not find in spacify: {'Wort': 'er', 'from': 505, 'to': 507}\n",
      "could not find in spacify: {'Wort': 'Polizisten', 'from': None, 'to': None}\n",
      "could not find in spacify: {'Wort': 'er', 'from': 522, 'to': 524}\n",
      "could not find in spacify: {'Wort': 'Mann', 'from': None, 'to': None}\n",
      "could not find in spacify: {'Wort': 'Die Frau', 'from': None, 'to': None}\n",
      "could not find in spacify: {'Wort': 'Männer', 'from': None, 'to': None}\n",
      "could not find in spacify: {'Wort': 'der', 'from': None, 'to': None}\n",
      "could not find in spacify: {'Wort': 'Südafrika', 'from': None, 'to': None}\n",
      "could not find in spacify: {'Wort': 'Oberste US-Gerichtshofs', 'from': None, 'to': None}\n",
      "could not find in spacify: {'Wort': 'das mexikanische Gericht', 'from': None, 'to': None}\n",
      "could not find in spacify: {'Wort': 'Drogenfahnder', 'from': 1216, 'to': 1229}\n",
      "could not find in spacify: {'Wort': 'der Kauf', 'from': None, 'to': None}\n",
      "could not find in spacify: {'Wort': 'der Vizedirektor', 'from': None, 'to': None}\n",
      "could not find in spacify: {'Wort': 'Flugzeug', 'from': None, 'to': None}\n",
      "could not find in spacify: {'Wort': 'der', 'from': None, 'to': None}\n",
      "could not find in spacify: {'Wort': 'er', 'from': 1052, 'to': 1054}\n",
      "could not find in spacify: {'Wort': 'ihn', 'from': None, 'to': None}\n",
      "could not find in spacify: {'Wort': 'Der', 'from': None, 'to': None}\n",
      "could not find in spacify: {'Wort': 'des', 'from': 1496, 'to': 1499}\n",
      "could not find in spacify: {'Wort': 'der', 'from': 1620, 'to': 1623}\n",
      "could not find in spacify: {'Wort': 'Schlußberichter', 'from': None, 'to': None}\n",
      "could not find in spacify: {'Wort': 'der', 'from': 1399, 'to': 1402}\n",
      "could not find in spacify: {'Wort': 'der', 'from': None, 'to': None}\n",
      "could not find in spacify: {'Wort': 'sie', 'from': None, 'to': None}\n",
      "could not find in spacify: {'Wort': 'Regierungskreise', 'from': 259, 'to': 275}\n",
      "could not find in spacify: {'Wort': 'ihn', 'from': None, 'to': None}\n",
      "could not find in spacify: {'Wort': 'Er', 'from': None, 'to': None}\n",
      "could not find in spacify: {'Wort': 'der Geistliche', 'from': None, 'to': None}\n",
      "could not find in spacify: {'Wort': 'der Minister', 'from': None, 'to': None}\n",
      "could not find in spacify: {'Wort': 'Palästiner', 'from': None, 'to': None}\n",
      "could not find in spacify: {'Wort': 'Fotoplatten mit dem Wissenschaftler', 'from': None, 'to': None}\n",
      "could not find in spacify: {'Wort': 'Herausgeber', 'from': None, 'to': None}\n",
      "could not find in spacify: {'Wort': 'sein Sponsoren', 'from': None, 'to': None}\n",
      "could not find in spacify: {'Wort': 'Männer', 'from': None, 'to': None}\n",
      "could not find in spacify: {'Wort': 'der Währungshüter', 'from': None, 'to': None}\n",
      "could not find in spacify: {'Wort': 'er', 'from': 1060, 'to': 1062}\n",
      "could not find in spacify: {'Wort': 'er', 'from': 1224, 'to': 1226}\n",
      "could not find in spacify: {'Wort': 'der', 'from': None, 'to': None}\n",
      "could not find in spacify: {'Wort': 'es', 'from': 1849, 'to': 1851}\n",
      "could not find in spacify: {'Wort': 'Minister', 'from': None, 'to': None}\n",
      "could not find in spacify: {'Wort': 'sein', 'from': None, 'to': None}\n",
      "could not find in spacify: {'Wort': 'er', 'from': 935, 'to': 937}\n",
      "could not find in spacify: {'Wort': 'der Präsident', 'from': None, 'to': None}\n",
      "could not find in spacify: {'Wort': 'Bürger', 'from': 186, 'to': 192}\n",
      "could not find in spacify: {'Wort': 'er', 'from': 989, 'to': 991}\n",
      "could not find in spacify: {'Wort': 'ihn', 'from': None, 'to': None}\n",
      "could not find in spacify: {'Wort': 'er', 'from': 1551, 'to': 1553}\n",
      "could not find in spacify: {'Wort': 'er', 'from': 2317, 'to': 2319}\n",
      "could not find in spacify: {'Wort': 'der Führer', 'from': None, 'to': None}\n",
      "could not find in spacify: {'Wort': 'der Tochter', 'from': None, 'to': None}\n",
      "could not find in spacify: {'Wort': 'der Krieg', 'from': None, 'to': None}\n",
      "could not find in spacify: {'Wort': 'er', 'from': 2929, 'to': 2931}\n",
      "could not find in spacify: {'Wort': 'er', 'from': 3152, 'to': 3154}\n",
      "could not find in spacify: {'Wort': 'sein', 'from': None, 'to': None}\n",
      "could not find in spacify: {'Wort': 'Männer', 'from': None, 'to': None}\n",
      "could not find in spacify: {'Wort': 'Der UN-Chef', 'from': None, 'to': None}\n",
      "could not find in spacify: {'Wort': 'Der', 'from': None, 'to': None}\n",
      "could not find in spacify: {'Wort': 'Griechischen', 'from': None, 'to': None}\n",
      "could not find in spacify: {'Wort': 'Chef', 'from': 1978, 'to': 1982}\n",
      "could not find in spacify: {'Wort': 'Man', 'from': None, 'to': None}\n",
      "could not find in spacify: {'Wort': 'der Arbeiter', 'from': None, 'to': None}\n",
      "could not find in spacify: {'Wort': 'Unternehmer', 'from': 1298, 'to': 1309}\n",
      "could not find in spacify: {'Wort': 'die Ärzte', 'from': None, 'to': None}\n",
      "could not find in spacify: {'Wort': 'Patienten', 'from': 1750, 'to': 1759}\n",
      "could not find in spacify: {'Wort': 'er', 'from': 801, 'to': 803}\n",
      "could not find in spacify: {'Wort': 'ihn', 'from': None, 'to': None}\n",
      "could not find in spacify: {'Wort': 'er', 'from': 3329, 'to': 3331}\n",
      "could not find in spacify: {'Wort': 'er', 'from': None, 'to': None}\n"
     ]
    },
    {
     "name": "stderr",
     "output_type": "stream",
     "text": [
      "100%|████████████████████████████████████████| 100/100 [00:00<00:00, 269.13it/s]\n"
     ]
    },
    {
     "name": "stdout",
     "output_type": "stream",
     "text": [
      "could not find in spacify: {'Wort': 'er', 'from': 4362, 'to': 4364}\n",
      "could not find in spacify: {'Wort': 'er', 'from': 5236, 'to': 5238}\n",
      "could not find in spacify: {'Wort': 'der Investor', 'from': None, 'to': None}\n",
      "could not find in spacify: {'Wort': 'der neue Eigentümer', 'from': None, 'to': None}\n",
      "could not find in spacify: {'Wort': 'er', 'from': 6315, 'to': 6317}\n",
      "could not find in spacify: {'Wort': 'sagen', 'from': None, 'to': None}\n",
      "could not find in spacify: {'Wort': 'deren', 'from': None, 'to': None}\n",
      "could not find in spacify: {'Wort': 'er', 'from': 6681, 'to': 6683}\n",
      "could not find in spacify: {'Wort': 'der Bundesminister', 'from': None, 'to': None}\n",
      "could not find in spacify: {'Wort': 'er', 'from': 538, 'to': 540}\n",
      "could not find in spacify: {'Wort': 'er', 'from': 621, 'to': 623}\n",
      "could not find in spacify: {'Wort': 'er', 'from': 747, 'to': 749}\n",
      "could not find in spacify: {'Wort': 'jedermann', 'from': None, 'to': None}\n",
      "could not find in spacify: {'Wort': 'der Plan', 'from': None, 'to': None}\n",
      "could not find in spacify: {'Wort': 'die CDU-Spitze', 'from': None, 'to': None}\n",
      "could not find in spacify: {'Wort': 'der Zeitgenossen', 'from': None, 'to': None}\n",
      "could not find in spacify: {'Wort': 'Kommissionspräsident', 'from': 2629, 'to': 2649}\n",
      "could not find in spacify: {'Wort': 'er', 'from': 2939, 'to': 2941}\n",
      "could not find in spacify: {'Wort': 'er', 'from': 536, 'to': 538}\n",
      "could not find in spacify: {'Wort': 'der oft als zu bedächtig kritisierte Fraktionschef', 'from': None, 'to': None}\n",
      "could not find in spacify: {'Wort': 'Sich', 'from': None, 'to': None}\n",
      "could not find in spacify: {'Wort': 'er', 'from': 1615, 'to': 1617}\n",
      "could not find in spacify: {'Wort': 'der Kanzler', 'from': None, 'to': None}\n",
      "could not find in spacify: {'Wort': 'Männer', 'from': None, 'to': None}\n",
      "could not find in spacify: {'Wort': 'er', 'from': 2361, 'to': 2363}\n",
      "could not find in spacify: {'Wort': 'der frühere Hamburger Bürgermeister', 'from': None, 'to': None}\n",
      "could not find in spacify: {'Wort': 'Mann', 'from': None, 'to': None}\n",
      "could not find in spacify: {'Wort': 'Arbeitnehmer', 'from': 3822, 'to': 3834}\n",
      "could not find in spacify: {'Wort': 'ihn', 'from': None, 'to': None}\n",
      "could not find in spacify: {'Wort': 'er', 'from': 728, 'to': 730}\n",
      "could not find in spacify: {'Wort': 'er', 'from': 1112, 'to': 1114}\n",
      "could not find in spacify: {'Wort': 'er', 'from': 2462, 'to': 2464}\n",
      "could not find in spacify: {'Wort': 'er', 'from': 3335, 'to': 3337}\n",
      "could not find in spacify: {'Wort': 'er', 'from': 3589, 'to': 3591}\n",
      "could not find in spacify: {'Wort': 'ihr', 'from': None, 'to': None}\n",
      "could not find in spacify: {'Wort': 'Er', 'from': None, 'to': None}\n",
      "could not find in spacify: {'Wort': 'er', 'from': 555, 'to': 557}\n",
      "could not find in spacify: {'Wort': 'er', 'from': 631, 'to': 633}\n",
      "could not find in spacify: {'Wort': 'er', 'from': 1746, 'to': 1748}\n"
     ]
    },
    {
     "name": "stderr",
     "output_type": "stream",
     "text": [
      "  0%|                                                   | 0/100 [00:00<?, ?it/s]"
     ]
    },
    {
     "name": "stdout",
     "output_type": "stream",
     "text": [
      "could not find in spacify: {'Wort': 'Ärzte', 'from': None, 'to': None}\n",
      "could not find in spacify: {'Wort': 'Geschäftemacher', 'from': None, 'to': None}\n",
      "could not find in spacify: {'Wort': 'Ärzte', 'from': None, 'to': None}\n",
      "could not find in spacify: {'Wort': 'Herrn', 'from': None, 'to': None}\n",
      "could not find in spacify: {'Wort': 'die Ärzte', 'from': None, 'to': None}\n",
      "could not find in spacify: {'Wort': 'der Mord', 'from': None, 'to': None}\n",
      "could not find in spacify: {'Wort': 'Ärzte', 'from': None, 'to': None}\n",
      "could not find in spacify: {'Wort': 'Nationalsozialisten', 'from': None, 'to': None}\n",
      "could not find in spacify: {'Wort': 'die Republikaner', 'from': None, 'to': None}\n",
      "could not find in spacify: {'Wort': 'Fragen', 'from': None, 'to': None}\n",
      "could not find in spacify: {'Wort': 'er', 'from': 8620, 'to': 8622}\n"
     ]
    },
    {
     "name": "stderr",
     "output_type": "stream",
     "text": [
      " 10%|████▏                                     | 10/100 [00:00<00:00, 92.30it/s]"
     ]
    },
    {
     "name": "stdout",
     "output_type": "stream",
     "text": [
      "could not find in spacify: {'Wort': 'Autonomen', 'from': None, 'to': None}\n",
      "could not find in spacify: {'Wort': 'Fahnder', 'from': 987, 'to': 994}\n",
      "could not find in spacify: {'Wort': 'Ärzte', 'from': None, 'to': None}\n",
      "could not find in spacify: {'Wort': 'Gefangenen', 'from': 1722, 'to': 1732}\n",
      "could not find in spacify: {'Wort': 'Wer', 'from': None, 'to': None}\n",
      "could not find in spacify: {'Wort': 'Ärzte', 'from': None, 'to': None}\n",
      "could not find in spacify: {'Wort': 'Juristin', 'from': 1157, 'to': 1165}\n",
      "could not find in spacify: {'Wort': 'seiner', 'from': None, 'to': None}\n",
      "could not find in spacify: {'Wort': 'Ärzte', 'Text': '', 'from': None, 'to': None}\n",
      "could not find in spacify: {'Wort': 'Kicker', 'from': 6, 'to': 12}\n",
      "could not find in spacify: {'Wort': 'Ärzte', 'from': None, 'to': None}\n",
      "could not find in spacify: {'Wort': 'Klinsmanns', 'from': 653, 'to': 663}\n",
      "could not find in spacify: {'Wort': 'Zitter', 'from': None, 'to': None}\n",
      "could not find in spacify: {'Wort': 'Ärzte', 'Text': '', 'from': None, 'to': None}\n",
      "could not find in spacify: {'Wort': 'Ärzte', 'from': None, 'to': None}\n",
      "could not find in spacify: {'Wort': 'die Schweizer Nachbarschaft', 'from': None, 'to': None}\n",
      "could not find in spacify: {'Wort': 'Tierarzt', 'from': None, 'to': None}\n",
      "could not find in spacify: {'Wort': 'Ärzte', 'from': None, 'to': None}\n",
      "could not find in spacify: {'Wort': 'Bank', 'from': None, 'to': None}\n",
      "could not find in spacify: {'Wort': 'Männer', 'from': None, 'to': None}\n",
      "could not find in spacify: {'Wort': 'Senatoren', 'from': None, 'to': None}\n",
      "could not find in spacify: {'Wort': 'Ärzte', 'from': None, 'to': None}\n",
      "could not find in spacify: {'Wort': 'Ärmsten', 'Text': '... wie die Armen in der Islamischen Republik genannt werden...', 'from': None, 'to': None}\n",
      "could not find in spacify: {'Wort': 'Revolutionäre', 'from': None, 'to': None}\n",
      "could not find in spacify: {'Wort': 'Revolutionären', 'from': None, 'to': None}\n",
      "could not find in spacify: {'Wort': 'Lumpen', 'from': None, 'to': None}\n",
      "could not find in spacify: {'Wort': 'Asozialen', 'from': None, 'to': None}\n",
      "could not find in spacify: {'Wort': 'Dealer', 'from': None, 'to': None}\n",
      "could not find in spacify: {'Wort': 'Messerstecher', 'from': None, 'to': None}\n",
      "could not find in spacify: {'Wort': 'Schmarotzer', 'from': None, 'to': None}\n",
      "could not find in spacify: {'Wort': 'Geier', 'from': None, 'to': None}\n",
      "could not find in spacify: {'Wort': 'Revolutionsgerichten', 'from': None, 'to': None}\n",
      "could not find in spacify: {'Wort': 'Revolutionswächtern', 'from': None, 'to': None}\n",
      "could not find in spacify: {'Wort': 'sie', 'from': None, 'to': None}\n",
      "could not find in spacify: {'Wort': 'Irrner', 'from': None, 'to': None}\n",
      "could not find in spacify: {'Wort': 'Irraner', 'from': None, 'to': None}\n",
      "could not find in spacify: {'Wort': 'Gardisten', 'from': None, 'to': None}\n",
      "could not find in spacify: {'Wort': 'Männer', 'from': None, 'to': None}\n",
      "could not find in spacify: {'Wort': 'Ärzte', 'from': None, 'to': None}\n",
      "could not find in spacify: {'Wort': 'Mann', 'from': None, 'to': None}\n",
      "could not find in spacify: {'Wort': 'die Ärzte', 'from': None, 'to': None}\n",
      "could not find in spacify: {'Wort': 'jene', 'from': None, 'to': None}\n",
      "could not find in spacify: {'Wort': 'Forscher', 'from': None, 'to': None}\n",
      "could not find in spacify: {'Wort': 'die', 'from': None, 'to': None}\n",
      "could not find in spacify: {'Wort': 'Gewalt-', 'from': None, 'to': None}\n",
      "could not find in spacify: {'Wort': 'Professor', 'from': 555, 'to': 564}\n",
      "could not find in spacify: {'Wort': 'Ärzte', 'from': None, 'to': None}\n",
      "could not find in spacify: {'Wort': 'Einschreiten', 'from': None, 'to': None}\n",
      "could not find in spacify: {'Wort': 'er', 'from': 3990, 'to': 3992}\n",
      "could not find in spacify: {'Wort': 'Streitkräfte', 'from': None, 'to': None}\n",
      "could not find in spacify: {'Wort': 'Ärzte', 'from': None, 'to': None}\n",
      "could not find in spacify: {'Wort': 'Lehrer', 'from': None, 'to': None}\n",
      "could not find in spacify: {'Wort': 'Entwurf', 'from': None, 'to': None}\n",
      "could not find in spacify: {'Wort': 'Fassung', 'from': None, 'to': None}\n",
      "could not find in spacify: {'Wort': 'Professoren', 'from': None, 'to': None}\n",
      "could not find in spacify: {'Wort': 'Mitarbeiter', 'from': None, 'to': None}\n",
      "could not find in spacify: {'Wort': 'Fachleute', 'from': None, 'to': None}\n",
      "could not find in spacify: {'Wort': 'die Vereinten Nationen', 'from': None, 'to': None}\n",
      "could not find in spacify: {'Wort': 'Parlament', 'Text': 'Beschlüssen mit einer angemessenen parlamentarischen Mehrheit', 'from': None, 'to': None}\n",
      "could not find in spacify: {'Wort': 'Politiker', 'from': None, 'to': None}\n",
      "could not find in spacify: {'Wort': 'Redakteur', 'from': 414, 'to': 423}\n",
      "could not find in spacify: {'Wort': 'die Institutionen', 'from': None, 'to': None}\n",
      "could not find in spacify: {'Wort': 'Auslandsfirmen', 'from': 2705, 'to': 2719}\n",
      "could not find in spacify: {'Wort': 'Ärzte', 'from': None, 'to': None}\n",
      "could not find in spacify: {'Wort': 'Männer', 'from': None, 'to': None}\n",
      "could not find in spacify: {'Wort': 'Wer', 'from': None, 'to': None}\n",
      "could not find in spacify: {'Wort': 'Wir', 'from': None, 'to': None}\n",
      "could not find in spacify: {'Wort': 'Minister', 'from': None, 'to': None}\n"
     ]
    },
    {
     "name": "stderr",
     "output_type": "stream",
     "text": [
      " 28%|███████████▍                             | 28/100 [00:00<00:00, 140.70it/s]"
     ]
    },
    {
     "name": "stdout",
     "output_type": "stream",
     "text": [
      "could not find in spacify: {'Wort': 'Grundarbeiter', 'from': None, 'to': None}\n",
      "could not find in spacify: {'Wort': 'Ärzte', 'from': None, 'to': None}\n",
      "could not find in spacify: {'Wort': 'Nachfolgebetriebe', 'from': 2387, 'to': 2404}\n",
      "could not find in spacify: {'Wort': 'Politiker', 'from': 3900, 'to': 3909}\n",
      "could not find in spacify: {'Wort': 'Sie', 'from': None, 'to': None}\n",
      "could not find in spacify: {'Wort': 'Anstalt', 'Text': 'Vor allem die Berliner Treuhandanstalt soll daher mit einer klugen Privatisierungspolitik einen Zerfall verhindern.', 'from': None, 'to': None}\n",
      "could not find in spacify: {'Wort': 'Behörde', 'Text': \"Die Breuel-Behörde verwaltet alle einst 'volkseigenen' Agrar- und Waldflächen, darunter auch jene von Kleinbauern, die aufgaben.\", 'from': 4205, 'to': 4212}\n",
      "could not find in spacify: {'Wort': 'Behörde', 'from': 4205, 'to': 4212}\n",
      "could not find in spacify: {'Wort': 'Eigentümer', 'from': None, 'to': None}\n",
      "could not find in spacify: {'Wort': 'Eigentümer', 'Text': 'Eigentumsverhältnisse müssen bis in die dreißiger Jahre zurück aufgedröselt werden.', 'from': None, 'to': None}\n",
      "could not find in spacify: {'Wort': 'Bauern', 'from': None, 'to': None}\n",
      "could not find in spacify: {'Wort': 'Präsident', 'from': None, 'to': None}\n",
      "could not find in spacify: {'Wort': 'Tagebaue', 'from': 415, 'to': 423}\n",
      "could not find in spacify: {'Wort': 'Minister', 'from': None, 'to': None}\n",
      "could not find in spacify: {'Wort': 'Ärzte', 'from': None, 'to': None}\n",
      "could not find in spacify: {'Wort': 'Experte', 'from': None, 'to': None}\n",
      "could not find in spacify: {'Wort': 'Ärzte', 'from': None, 'to': None}\n",
      "could not find in spacify: {'Wort': 'Britten', 'from': None, 'to': None}\n",
      "could not find in spacify: {'Wort': 'Höchststimmrecht', 'from': 759, 'to': 775}\n",
      "could not find in spacify: {'Wort': 'Ärzte', 'Text': '', 'from': None, 'to': None}\n",
      "could not find in spacify: {'Wort': ' Unternehmen', 'from': 1945, 'to': 1957}\n",
      "could not find in spacify: {'Wort': 'Unternehmer', 'from': 63, 'to': 74}\n",
      "could not find in spacify: {'Wort': 'Ärzte', 'from': None, 'to': None}\n",
      "could not find in spacify: {'Wort': 'Fransose', 'from': None, 'to': None}\n",
      "could not find in spacify: {'Wort': 'Management', 'from': 792, 'to': 802}\n",
      "could not find in spacify: {'Wort': 'Vorstandschef', 'from': 887, 'to': 900}\n",
      "could not find in spacify: {'Wort': 'Männerrechte', 'from': None, 'to': None}\n",
      "could not find: {'word': 'Monate', 'from': 7049, 'to': 7055, 'ntbg': False}\n",
      "could not find in spacify: {'Wort': 'Griechen', 'Type': 'generisch-maskulin', 'from': None, 'to': None}\n",
      "could not find in spacify: {'Wort': 'Griechische', 'from': None, 'to': None}\n",
      "could not find in spacify: {'Wort': 'Ärzte', 'from': None, 'to': None}\n",
      "could not find in spacify: {'Wort': 'Reeder', 'from': None, 'to': None}\n",
      "could not find in spacify: {'Wort': 'Minister', 'from': None, 'to': None}\n",
      "could not find in spacify: {'Wort': 'Unternehmen', 'from': None, 'to': None}\n",
      "could not find in spacify: {'Wort': 'Schiff', 'from': 7368, 'to': 7374}\n",
      "could not find in spacify: {'Wort': 'Ärzte', 'from': None, 'to': None}\n",
      "could not find in spacify: {'Wort': 'Patienten', 'from': None, 'to': None}\n",
      "could not find in spacify: {'Wort': 'Politikern', 'from': None, 'to': None}\n",
      "could not find in spacify: {'Wort': 'Arbeiter', 'from': None, 'to': None}\n",
      "could not find in spacify: {'Wort': 'Ärzte', 'from': None, 'to': None}\n",
      "could not find in spacify: {'Wort': 'Vorsitzender', 'from': None, 'to': None}\n",
      "could not find in spacify: {'Wort': 'britische Politiker', 'from': None, 'to': None}\n",
      "could not find in spacify: {'Wort': 'Ärzte', 'Text': '', 'from': None, 'to': None}\n",
      "could not find in spacify: {'Wort': 'Kurilen', 'from': None, 'to': None}\n",
      "could not find in spacify: {'Wort': 'Ärzte', 'from': None, 'to': None}\n",
      "could not find in spacify: {'Wort': 'Kurilden', 'from': None, 'to': None}\n",
      "could not find in spacify: {'Wort': 'er', 'from': 802, 'to': 804}\n",
      "could not find in spacify: {'Wort': 'Länder', 'from': None, 'to': None}\n",
      "could not find in spacify: {'Wort': 'USA', 'from': None, 'to': None}\n",
      "could not find in spacify: {'Wort': 'Ministerium', 'from': None, 'to': None}\n",
      "could not find in spacify: {'Wort': 'Kanzler', 'from': None, 'to': None}\n",
      "could not find in spacify: {'Wort': 'Ärzte', 'Text': '', 'from': None, 'to': None}\n",
      "could not find in spacify: {'Wort': 'Firmen', 'Text': 'Baufirmen', 'from': None, 'to': None}\n",
      "could not find in spacify: {'Wort': 'er', 'from': 642, 'to': 644}\n",
      "could not find in spacify: {'Wort': 'Ärzte', 'from': None, 'to': None}\n",
      "could not find in spacify: {'Wort': 'Autor', 'from': 883, 'to': 888}\n",
      "could not find in spacify: {'Wort': 'Götter', 'from': None, 'to': None}\n",
      "could not find in spacify: {'Wort': 'Er', 'from': None, 'to': None}\n",
      "could not find in spacify: {'Wort': 'Männer', 'from': None, 'to': None}\n",
      "could not find in spacify: {'Wort': 'er', 'from': 2553, 'to': 2555}\n",
      "could not find in spacify: {'Wort': 'Ängstigten', 'from': None, 'to': None}\n",
      "could not find in spacify: {'Wort': 'Ärzte', 'from': None, 'to': None}\n",
      "could not find in spacify: {'Wort': 'Ärzte', 'Text': '', 'from': None, 'to': None}\n",
      "could not find in spacify: {'Wort': 'Männer', 'from': None, 'to': None}\n",
      "could not find in spacify: {'Wort': 'Ärzte', 'Text': 'Die Ärzte', 'from': None, 'to': None}\n",
      "could not find in spacify: {'Wort': 'Inkatha-Kämpfer', 'from': None, 'to': None}\n",
      "could not find in spacify: {'Wort': 'Ärzte', 'from': None, 'to': None}\n",
      "could not find in spacify: {'Wort': 'Besitzer', 'from': None, 'to': None}\n",
      "could not find in spacify: {'Wort': 'Mietwert', 'from': None, 'to': None}\n",
      "could not find in spacify: {'Wort': 'Hausbesitzer', 'from': None, 'to': None}\n",
      "could not find in spacify: {'Wort': 'Er', 'from': None, 'to': None}\n",
      "could not find in spacify: {'Wort': 'Ärzte', 'from': None, 'to': None}\n",
      "could not find in spacify: {'Wort': 'Ärzte', 'from': None, 'to': None}\n",
      "could not find in spacify: {'Wort': 'Keiner', 'from': None, 'to': None}\n",
      "could not find in spacify: {'Wort': 'Ärzte', 'from': None, 'to': None}\n",
      "could not find in spacify: {'Wort': 'Parlamentarischer Ausschuß', 'from': None, 'to': None}\n",
      "could not find in spacify: {'Wort': 'Ärzte', 'from': None, 'to': None}\n",
      "could not find in spacify: {'Wort': 'Blaumachern', 'from': 727, 'to': 738}\n",
      "could not find in spacify: {'Wort': 'Ärzte', 'from': None, 'to': None}\n",
      "could not find in spacify: {'Wort': 'Ärzte', 'from': None, 'to': None}\n",
      "could not find in spacify: {'Wort': 'Ärzte', 'from': None, 'to': None}\n",
      "could not find in spacify: {'Wort': 'Ärzte', 'from': None, 'to': None}\n",
      "could not find in spacify: {'Wort': 'Kraft', 'from': None, 'to': None}\n",
      "could not find in spacify: {'Wort': 'Ärzte', 'from': None, 'to': None}\n",
      "could not find in spacify: {'Wort': 'Äusfuhrüberschuß', 'from': None, 'to': None}\n",
      "could not find in spacify: {'Wort': 'Markt', 'from': None, 'to': None}\n",
      "could not find in spacify: {'Wort': 'Ärzte', 'from': None, 'to': None}\n",
      "could not find in spacify: {'Wort': 'Sekten', 'from': None, 'to': None}\n",
      "could not find in spacify: {'Wort': 'Händler', 'from': None, 'to': None}\n",
      "could not find in spacify: {'Wort': 'er', 'from': 154, 'to': 156}\n",
      "could not find in spacify: {'Wort': 'Ärzte', 'from': None, 'to': None}\n",
      "could not find in spacify: {'Wort': 'Mitarbeiter', 'from': 4, 'to': 15}\n",
      "could not find in spacify: {'Wort': 'Ärzte', 'from': None, 'to': None}\n",
      "could not find in spacify: {'Wort': 'Ärzte', 'from': None, 'to': None}\n",
      "could not find in spacify: {'Wort': 'Ärzte', 'from': None, 'to': None}\n",
      "could not find in spacify: {'Wort': 'Präsidenten', 'from': None, 'to': None}\n",
      "could not find in spacify: {'Wort': 'Ärzte', 'from': None, 'to': None}\n",
      "could not find in spacify: {'Wort': 'Ärzte', 'from': None, 'to': None}\n",
      "could not find in spacify: {'Wort': 'Ministerium', 'from': None, 'to': None}\n",
      "could not find in spacify: {'Wort': 'Minister', 'from': None, 'to': None}\n",
      "could not find in spacify: {'Wort': 'Opfer', 'from': 20, 'to': 25}\n",
      "could not find in spacify: {'Wort': 'Männer', 'from': None, 'to': None}\n",
      "could not find in spacify: {'Wort': 'Mannschaft', 'from': None, 'to': None}\n",
      "could not find in spacify: {'Wort': 'Ärzte', 'from': None, 'to': None}\n",
      "could not find in spacify: {'Wort': 'Freunde', 'from': None, 'to': None}\n",
      "could not find in spacify: {'Wort': 'Führer', 'from': None, 'to': None}\n",
      "could not find in spacify: {'Wort': 'Patienten', 'from': None, 'to': None}\n",
      "could not find in spacify: {'Wort': 'Deutschen', 'from': None, 'to': None}\n",
      "could not find in spacify: {'Wort': 'Minister', 'from': None, 'to': None}\n",
      "could not find in spacify: {'Wort': 'Politiker', 'from': None, 'to': None}\n",
      "could not find in spacify: {'Wort': 'Ministerium', 'from': None, 'to': None}\n",
      "could not find in spacify: {'Wort': 'Gericht', 'from': None, 'to': None}\n",
      "could not find in spacify: {'Wort': 'Ärzte', 'from': None, 'to': None}\n",
      "could not find in spacify: {'Wort': 'Polizisten', 'from': None, 'to': None}\n",
      "could not find in spacify: {'Wort': 'Ärzte', 'from': None, 'to': None}\n",
      "could not find in spacify: {'Wort': 'Mehrheit', 'from': None, 'to': None}\n",
      "could not find in spacify: {'Wort': 'Sprecher', 'from': None, 'to': None}\n",
      "could not find in spacify: {'Wort': 'Gruppe', 'from': 111, 'to': 117}\n",
      "could not find in spacify: {'Wort': 'Konzern', 'from': 1018, 'to': 1025}\n",
      "could not find in spacify: {'Wort': 'Ärzte', 'from': None, 'to': None}\n",
      "could not find in spacify: {'Wort': 'Juristen', 'from': 626, 'to': 634}\n",
      "could not find in spacify: {'Wort': 'Ärzte', 'from': None, 'to': None}\n",
      "could not find in spacify: {'Wort': 'Friedensgespräche', 'from': None, 'to': None}\n",
      "could not find in spacify: {'Wort': 'Polizisten', 'from': None, 'to': None}\n",
      "could not find in spacify: {'Wort': 'Ermittler', 'from': None, 'to': None}\n",
      "could not find in spacify: {'Wort': 'Ärzte', 'from': None, 'to': None}\n",
      "could not find in spacify: {'Wort': 'Ärzte', 'from': None, 'to': None}\n",
      "could not find in spacify: {'Wort': 'Richter', 'from': None, 'to': None}\n",
      "could not find in spacify: {'Wort': 'Flugzeug', 'Text': 'Sollte ein zweites am Sonntag abend eintreffen.', 'from': None, 'to': None}\n",
      "could not find in spacify: {'Wort': 'Ärzte', 'from': None, 'to': None}\n",
      "could not find in spacify: {'Wort': 'Falls', 'from': None, 'to': None}\n",
      "could not find in spacify: {'Wort': 'Ärzte', 'from': None, 'to': None}\n",
      "could not find in spacify: {'Wort': 'Ärzte', 'Text': 'Über die Änderungsanträge des Bündnis 90 zu dem Bericht solle nach der Sommerpause diskutiert werden.', 'from': None, 'to': None}\n",
      "could not find in spacify: {'Wort': 'Ärzte', 'from': None, 'to': None}\n",
      "could not find in spacify: {'Wort': 'Bundesbahn', 'Text': 'Die Bundesbahn', 'from': None, 'to': None}\n",
      "could not find in spacify: {'Wort': 'Schnellzug', 'Text': 'der Schnellzug', 'from': None, 'to': None}\n",
      "could not find in spacify: {'Wort': 'Bundesbahn', 'from': None, 'to': None}\n",
      "could not find in spacify: {'Wort': 'Schnellzug', 'from': None, 'to': None}\n",
      "could not find in spacify: {'Wort': 'Ärzte', 'from': None, 'to': None}\n",
      "could not find in spacify: {'Wort': 'Staatschefs', 'from': 383, 'to': 394}\n",
      "could not find in spacify: {'Wort': 'Sie', 'from': None, 'to': None}\n",
      "could not find in spacify: {'Wort': 'Parlamentariker', 'from': None, 'to': None}\n",
      "could not find in spacify: {'Wort': 'Parlamentarischer', 'Position': 'Staatssekretär', 'from': None, 'to': None}\n",
      "could not find in spacify: {'Wort': 'Ärzte', 'from': None, 'to': None}\n",
      "could not find in spacify: {'Wort': 'Ärzte', 'from': None, 'to': None}\n",
      "could not find in spacify: {'Wort': 'Regierungskreise', 'from': 259, 'to': 275}\n",
      "could not find in spacify: {'Wort': 'Staatssekretär', 'from': 670, 'to': 684}\n",
      "could not find in spacify: {'Wort': 'Polizeichef', 'from': 6, 'to': 17}\n",
      "could not find in spacify: {'Wort': 'Führende', 'from': None, 'to': None}\n",
      "could not find in spacify: {'Wort': 'ihn', 'from': None, 'to': None}\n",
      "could not find in spacify: {'Wort': 'Ärzte', 'from': None, 'to': None}\n",
      "could not find in spacify: {'Wort': 'Ärzte', 'from': None, 'to': None}\n",
      "could not find in spacify: {'Wort': 'Arme Angehörigen', 'from': None, 'to': None}\n",
      "could not find in spacify: {'Wort': 'Ärzte', 'Text': '', 'from': None, 'to': None}\n",
      "could not find in spacify: {'Wort': 'Propagandaminister', 'from': 274, 'to': 292}\n",
      "could not find in spacify: {'Wort': 'Herausgegeber', 'from': None, 'to': None}\n",
      "could not find in spacify: {'Wort': 'Hunderte', 'Reason': 'generisch-maskulin, Tote', 'from': None, 'to': None}\n",
      "could not find in spacify: {'Wort': 'stataliches Verteidigungsministerium', 'from': None, 'to': None}\n",
      "could not find in spacify: {'Wort': 'Ärzte', 'from': None, 'to': None}\n",
      "could not find in spacify: {'Wort': 'Kämpfer', 'from': 1328, 'to': 1335}\n",
      "could not find in spacify: {'Wort': 'Inspektionsdelegation', 'from': 151, 'to': 172}\n",
      "could not find in spacify: {'Wort': 'Ärzte', 'from': None, 'to': None}\n",
      "could not find in spacify: {'Wort': 'Ärzte', 'from': None, 'to': None}\n",
      "could not find in spacify: {'Wort': 'Minister', 'from': None, 'to': None}\n",
      "could not find in spacify: {'Wort': 'Ärzte', 'from': None, 'to': None}\n",
      "could not find in spacify: {'Wort': 'Ärzte', 'Textsprache': 'Deutsch', 'from': None, 'to': None}\n",
      "could not find in spacify: {'Wort': 'Geschäftsführender Direktor', 'from': None, 'to': None}\n"
     ]
    },
    {
     "name": "stderr",
     "output_type": "stream",
     "text": [
      " 93%|██████████████████████████████████████▏  | 93/100 [00:00<00:00, 362.44it/s]"
     ]
    },
    {
     "name": "stdout",
     "output_type": "stream",
     "text": [
      "could not find in spacify: {'Wort': 'Ärzte', 'from': None, 'to': None}\n",
      "could not find in spacify: {'Wort': 'Behörde', 'from': None, 'to': None}\n",
      "could not find in spacify: {'Wort': 'Aufsichtsbehörde', 'from': None, 'to': None}\n",
      "could not find in spacify: {'Wort': 'die Aktionärsklagen', 'from': None, 'to': None}\n",
      "could not find in spacify: {'Wort': 'Aktionäre', 'from': None, 'to': None}\n",
      "could not find in spacify: {'Wort': 'Ärzte', 'from': None, 'to': None}\n",
      "could not find in spacify: {'Wort': 'Ärzte', 'from': None, 'to': None}\n",
      "could not find in spacify: {'Wort': 'Ärzte', 'Text': '', 'from': None, 'to': None}\n",
      "could not find in spacify: {'Wort': 'Frauen', 'from': 3511, 'to': 3517}\n",
      "could not find in spacify: {'Wort': 'Ärzte', 'from': None, 'to': None}\n",
      "could not find in spacify: {'Wort': 'türkische Volksgruppe', 'from': None, 'to': None}\n",
      "could not find in spacify: {'Wort': 'Türken', 'from': None, 'to': None}\n",
      "could not find in spacify: {'Wort': 'Griechen', 'from': None, 'to': None}\n",
      "could not find in spacify: {'Wort': 'Ärzte', 'from': None, 'to': None}\n",
      "could not find in spacify: {'Wort': 'Unternehmer', 'from': 1298, 'to': 1309}\n",
      "could not find in spacify: {'Wort': 'Patienten', 'from': 1750, 'to': 1759}\n",
      "could not find in spacify: {'Wort': 'Ärzte', 'from': None, 'to': None}\n",
      "could not find in spacify: {'Wort': 'ein', 'from': 1264, 'to': 1267}\n",
      "could not find in spacify: {'Wort': 'er', 'from': 1470, 'to': 1472}\n",
      "could not find in spacify: {'Wort': 'es', 'from': 1674, 'to': 1676}\n",
      "could not find in spacify: {'Wort': 'ihn', 'from': None, 'to': None}\n",
      "could not find in spacify: {'Wort': 'Älten', 'from': None, 'to': None}\n",
      "could not find in spacify: {'Wort': 'er', 'from': 3329, 'to': 3331}\n",
      "could not find in spacify: {'Wort': 'Protestlern', 'from': None, 'to': None}\n",
      "could not find in spacify: {'Wort': 'Ossis', 'from': None, 'to': None}\n",
      "could not find in spacify: {'Wort': 'Arbeitnehmer', 'from': None, 'to': None}\n",
      "could not find in spacify: {'Wort': 'Männer', 'from': None, 'to': None}\n",
      "could not find in spacify: {'Wort': 'Wir', 'from': None, 'to': None}\n",
      "could not find in spacify: {'Wort': 'Märkische Faserwerke', 'from': None, 'to': None}\n",
      "could not find in spacify: {'Wort': 'er', 'from': 6681, 'to': 6683}\n",
      "could not find in spacify: {'Wort': 'Teilnehmer', 'from': None, 'to': None}\n",
      "could not find in spacify: {'Wort': 'Ärzte', 'from': None, 'to': None}\n",
      "could not find in spacify: {'Wort': 'Bundestagsabgeordnete', 'from': 478, 'to': 499}\n",
      "could not find in spacify: {'Wort': 'er', 'from': 538, 'to': 540}\n",
      "could not find in spacify: {'Wort': 'er', 'from': 621, 'to': 623}\n",
      "could not find in spacify: {'Wort': 'ihn', 'from': None, 'to': None}\n",
      "could not find in spacify: {'Wort': 'die Unionsparteien', 'from': None, 'to': None}\n",
      "could not find in spacify: {'Wort': 'Experte', 'from': None, 'to': None}\n",
      "could not find in spacify: {'Wort': 'Finanzexperte', 'from': 1116, 'to': 1129}\n",
      "could not find in spacify: {'Wort': 'Ärzte', 'from': None, 'to': None}\n",
      "could not find in spacify: {'Wort': 'Herrn', 'from': None, 'to': None}\n",
      "could not find in spacify: {'Wort': 'Ärzte', 'from': None, 'to': None}\n",
      "could not find in spacify: {'Wort': 'Präsident', 'from': 2504, 'to': 2513}\n",
      "could not find in spacify: {'Wort': 'Kommissionspräsident', 'from': 2629, 'to': 2649}\n",
      "could not find in spacify: {'Wort': 'jeder', 'from': None, 'to': None}\n",
      "could not find in spacify: {'Wort': 'der', 'from': 2938, 'to': 2941}\n"
     ]
    },
    {
     "name": "stderr",
     "output_type": "stream",
     "text": [
      "100%|████████████████████████████████████████| 100/100 [00:00<00:00, 291.63it/s]\n"
     ]
    },
    {
     "name": "stdout",
     "output_type": "stream",
     "text": [
      "could not find in spacify: {'Wort': 'Ärzte', 'from': None, 'to': None}\n",
      "could not find in spacify: {'Wort': 'Ärzte', 'Text': '', 'from': None, 'to': None}\n",
      "could not find in spacify: {'Wort': 'Männer', 'from': None, 'to': None}\n",
      "could not find in spacify: {'Wort': 'Arbeitnehmer', 'from': 3822, 'to': 3834}\n",
      "could not find in spacify: {'Wort': 'Sänger', 'from': None, 'to': None}\n",
      "could not find in spacify: {'Wort': 'Landesvorsitzende', 'Text': 'Vor Jahren, als Helmut Kohl erstmals ganz unten war im Ansehen eines großen Teils des Publikums, machte der damalige JU-Landesvorsitzende Günter Oettinger bundesweit mit einer Rücktrittsforderung von sich reden.', 'from': 236, 'to': 253}\n",
      "could not find in spacify: {'Wort': 'Ärzte', 'from': None, 'to': None}\n",
      "could not find in spacify: {'Wort': 'der Landesvorstand', 'from': None, 'to': None}\n",
      "could not find in spacify: {'Wort': 'Kandidaten', 'from': None, 'to': None}\n",
      "could not find in spacify: {'Wort': 'Grünen', 'from': None, 'to': None}\n",
      "could not find in spacify: {'Wort': 'Präsidenten', 'from': None, 'to': None}\n",
      "could not find in spacify: {'Wort': 'ihr', 'from': None, 'to': None}\n",
      "could not find in spacify: {'Wort': 'Vorständler', 'from': 4112, 'to': 4123}\n",
      "could not find in spacify: {'Wort': 'Kandidaten', 'from': None, 'to': None}\n",
      "could not find in spacify: {'Wort': 'Ärzte', 'from': None, 'to': None}\n",
      "could not find in spacify: {'Wort': 'Ministerium', 'from': None, 'to': None}\n",
      "could not find in spacify: {'Wort': 'Jura-Dozenten', 'from': None, 'to': None}\n",
      "could not find in spacify: {'Wort': 'Präsident', 'from': 1328, 'to': 1337}\n",
      "could not find in spacify: {'Wort': 'Präsidenten', 'from': None, 'to': None}\n",
      "could not find in spacify: {'Wort': 'Präsident', 'from': 183, 'to': 192}\n",
      "could not find in spacify: {'Wort': 'Ärzte', 'from': None, 'to': None}\n",
      "could not find in spacify: {'Wort': 'Ärzte', 'Text': '', 'from': None, 'to': None}\n",
      "could not find in spacify: {'Wort': 'Unterausschuß', 'from': None, 'to': None}\n",
      "could not find in spacify: {'Wort': 'er', 'from': 1746, 'to': 1748}\n",
      "could not find in spacify: {'Wort': 'Ärzte', 'Text': '', 'from': None, 'to': None}\n",
      "could not find in spacify: {'Wort': 'Ärzte', 'from': None, 'to': None}\n",
      "could not find in spacify: {'Wort': 'Schulden', 'from': None, 'to': None}\n",
      "could not find in spacify: {'Wort': 'Regierungen', 'from': 756, 'to': 767}\n",
      "could not find in spacify: {'Wort': 'Reformer', 'from': None, 'to': None}\n",
      "could not find in spacify: {'Wort': 'Ärzte', 'from': None, 'to': None}\n"
     ]
    },
    {
     "name": "stderr",
     "output_type": "stream",
     "text": [
      "  0%|                                                   | 0/100 [00:00<?, ?it/s]"
     ]
    },
    {
     "name": "stdout",
     "output_type": "stream",
     "text": [
      "could not find in spacify: {'Wort': 'Verkäufer', 'from': 2720, 'to': 2729}\n",
      "could not find in spacify: {'Wort': 'Ärzte', 'from': None, 'to': None}\n",
      "could not find in spacify: {'Wort': 'Ärzte', 'from': None, 'to': None}\n",
      "could not find in spacify: {'Wort': 'Männer', 'from': None, 'to': None}\n",
      "could not find in spacify: {'Wort': 'die Ärzte', 'from': None, 'to': None}\n",
      "could not find in spacify: {'Wort': 'die Industrie', 'from': None, 'to': None}\n",
      "could not find in spacify: {'Wort': 'die Gewerkschaften', 'from': None, 'to': None}\n",
      "could not find in spacify: {'Wort': 'Erfolge', 'from': 2074, 'to': 2081}\n",
      "could not find in spacify: {'Wort': 'Figurn', 'from': None, 'to': None}\n",
      "could not find in spacify: {'Wort': 'Ärzte', 'from': None, 'to': None}\n",
      "could not find in spacify: {'Wort': 'Beachtlichen Teils', 'from': None, 'to': None}\n",
      "could not find in spacify: {'Wort': 'Autonomen', 'from': None, 'to': None}\n",
      "could not find in spacify: {'Wort': 'Gefangenen', 'from': 1722, 'to': 1732}\n",
      "could not find in spacify: {'Wort': 'Wer', 'from': None, 'to': None}\n",
      "could not find in spacify: {'Wort': 'der Terrorismus-Verdacht', 'from': None, 'to': None}\n",
      "could not find in spacify: {'Wort': 'Beamten', 'from': 3581, 'to': 3588}\n"
     ]
    },
    {
     "name": "stderr",
     "output_type": "stream",
     "text": [
      " 10%|████▏                                     | 10/100 [00:00<00:00, 92.25it/s]"
     ]
    },
    {
     "name": "stdout",
     "output_type": "stream",
     "text": [
      "could not find in spacify: {'Wort': 'Kund*', 'from': None, 'to': None}\n",
      "could not find in spacify: {'Wort': 'Juristin', 'from': 1157, 'to': 1165}\n",
      "could not find in spacify: {'Wort': 'Wer', 'from': None, 'to': None}\n",
      "could not find in spacify: {'Wort': 'Kicker', 'from': 6, 'to': 12}\n",
      "could not find in spacify: {'Wort': 'Klinsmanns', 'from': 653, 'to': 663}\n",
      "could not find in spacify: {'Wort': 'Kicker', 'from': 405, 'to': 411}\n",
      "could not find in spacify: {'Wort': 'sein Sportkumpel', 'from': None, 'to': None}\n",
      "could not find in spacify: {'Wort': 'Ärzte', 'from': None, 'to': None}\n",
      "could not find in spacify: {'Wort': 'Minister', 'from': None, 'to': None}\n",
      "could not find in spacify: {'Wort': 'Tierarzt', 'from': None, 'to': None}\n",
      "could not find in spacify: {'Wort': 'Ministerium', 'Part of Speech': 'Nomen', 'Gender': 'maskulin', 'from': None, 'to': None}\n",
      "could not find in spacify: {'Wort': 'Ministerium', 'from': None, 'to': None}\n",
      "could not find in spacify: {'Wort': 'Ärzte', 'from': None, 'to': None}\n",
      "could not find in spacify: {'Wort': 'Ärzte', 'from': None, 'to': None}\n",
      "could not find in spacify: {'Wort': 'Revolutionär', 'from': None, 'to': None}\n",
      "could not find in spacify: {'Wort': 'Revolutionäre', 'from': None, 'to': None}\n",
      "could not find in spacify: {'Wort': 'Männer', 'from': None, 'to': None}\n",
      "could not find in spacify: {'Wort': 'Revolutionsführer', 'from': None, 'to': None}\n",
      "could not find in spacify: {'Wort': 'Richter', 'from': None, 'to': None}\n",
      "could not find in spacify: {'Wort': 'Lumpen', 'from': None, 'to': None}\n",
      "could not find in spacify: {'Wort': 'Asozialen', 'from': None, 'to': None}\n",
      "could not find in spacify: {'Wort': 'Dealer', 'from': None, 'to': None}\n",
      "could not find in spacify: {'Wort': 'Messerstecher', 'from': None, 'to': None}\n",
      "could not find in spacify: {'Wort': 'Schmarotzer', 'from': None, 'to': None}\n",
      "could not find in spacify: {'Wort': 'Geier', 'from': None, 'to': None}\n",
      "could not find in spacify: {'Wort': 'sie', 'from': None, 'to': None}\n",
      "could not find in spacify: {'Wort': 'ihren', 'from': None, 'to': None}\n",
      "could not find in spacify: {'Wort': 'Volk', 'from': None, 'to': None}\n",
      "could not find in spacify: {'Wort': 'Sie', 'Text': 'Viele von ihnen, die in Amt und Würde sind, haben...', 'from': None, 'to': None}\n",
      "could not find in spacify: {'Wort': 'die Mullahs', 'Text': '...den die Mostazafin einst zur Macht verholfen hatten...', 'from': None, 'to': None}\n",
      "could not find in spacify: {'Wort': 'Revutionsgardisten', 'from': None, 'to': None}\n",
      "could not find in spacify: {'Wort': 'Revolutiongardisten', 'from': None, 'to': None}\n",
      "could not find in spacify: {'Wort': 'Ängste', 'from': 986, 'to': 992}\n",
      "could not find in spacify: {'Wort': 'Ärzte', 'from': None, 'to': None}\n",
      "could not find in spacify: {'Wort': 'Patienten', 'from': None, 'to': None}\n",
      "could not find in spacify: {'Wort': 'Mann', 'from': None, 'to': None}\n",
      "could not find in spacify: {'Wort': 'Schüler', 'from': None, 'to': None}\n",
      "could not find in spacify: {'Wort': 'Männer', 'from': None, 'to': None}\n",
      "could not find in spacify: {'Wort': 'er', 'from': 4931, 'to': 4933}\n",
      "could not find in spacify: {'Wort': 'er', 'from': 5011, 'to': 5013}\n",
      "could not find in spacify: {'Wort': 'Forscher', 'from': None, 'to': None}\n",
      "could not find in spacify: {'Wort': 'Professor', 'from': 555, 'to': 564}\n",
      "could not find in spacify: {'Wort': 'Ärzte', 'from': None, 'to': None}\n",
      "could not find in spacify: {'Wort': 'er', 'from': 3990, 'to': 3992}\n",
      "could not find in spacify: {'Wort': 'er', 'from': 4375, 'to': 4377}\n",
      "could not find in spacify: {'Wort': 'Fotos', 'from': 4699, 'to': 4704}\n",
      "could not find in spacify: {'Wort': 'er', 'from': 4791, 'to': 4793}\n",
      "could not find in spacify: {'Wort': 'Ärzte', 'from': None, 'to': None}\n",
      "could not find in spacify: {'Wort': 'Studenten', 'from': None, 'to': None}\n",
      "could not find in spacify: {'Wort': 'ENTWURF', 'from': None, 'to': None}\n",
      "could not find in spacify: {'Wort': 'Ärzte', 'Geschlecht': 'generisch-maskulin', 'from': None, 'to': None}\n",
      "could not find in spacify: {'Wort': 'Redakteur', 'from': 414, 'to': 423}\n",
      "could not find in spacify: {'Wort': 'Ministerpräsident', 'from': 666, 'to': 683}\n",
      "could not find in spacify: {'Wort': 'Staatssekretär', 'from': 2743, 'to': 2757}\n",
      "could not find in spacify: {'Wort': 'Unternehmen', 'from': 3161, 'to': 3172}\n",
      "could not find in spacify: {'Wort': 'Parteien', 'Type': 'generic-masculine', 'from': None, 'to': None}\n",
      "could not find in spacify: {'Wort': 'die Kommission', 'from': None, 'to': None}\n",
      "could not find in spacify: {'Wort': 'die Schatzmeister', 'from': None, 'to': None}\n",
      "could not find in spacify: {'Wort': 'Männer', 'from': None, 'to': None}\n",
      "could not find in spacify: {'Wort': 'Ärzte', 'from': None, 'to': None}\n",
      "could not find in spacify: {'Wort': 'Minister', 'from': None, 'to': None}\n",
      "could not find in spacify: {'Wort': 'Grundbesitzer', 'from': None, 'to': None}\n",
      "could not find in spacify: {'Wort': 'Ärzte', 'from': None, 'to': None}\n",
      "could not find in spacify: {'Wort': 'Nachfolgebetriebe', 'from': 2387, 'to': 2404}\n",
      "could not find in spacify: {'Wort': 'Anstalt', 'from': None, 'to': None}\n",
      "could not find in spacify: {'Wort': 'Behörde', 'from': 4205, 'to': 4212}\n",
      "could not find in spacify: {'Wort': 'Bauern', 'from': None, 'to': None}\n",
      "could not find in spacify: {'Wort': 'Präsident', 'from': None, 'to': None}\n",
      "could not find in spacify: {'Wort': 'Tagebaue', 'from': 415, 'to': 423}\n",
      "could not find in spacify: {'Wort': 'Ärzte', 'from': None, 'to': None}\n"
     ]
    },
    {
     "name": "stderr",
     "output_type": "stream",
     "text": [
      " 28%|███████████▍                             | 28/100 [00:00<00:00, 139.53it/s]"
     ]
    },
    {
     "name": "stdout",
     "output_type": "stream",
     "text": [
      "could not find in spacify: {'Wort': 'Britten', 'from': None, 'to': None}\n",
      "could not find in spacify: {'Wort': 'Unternehmen', 'from': 484, 'to': 495}\n",
      "could not find in spacify: {'Wort': 'Höchststimmrecht', 'from': 759, 'to': 775}\n",
      "could not find in spacify: {'Wort': 'Generalsekretär', 'from': 505, 'to': 520}\n",
      "could not find in spacify: {'Wort': 'Sektor', 'from': None, 'to': None}\n",
      "could not find in spacify: {'Wort': 'Unternehmer', 'from': 63, 'to': 74}\n",
      "could not find in spacify: {'Wort': 'Übernehmer', 'from': None, 'to': None}\n",
      "could not find in spacify: {'Wort': 'die Frist', 'from': None, 'to': None}\n",
      "could not find in spacify: {'Wort': 'die von Botts & Company geführte Investorengruppe', 'from': None, 'to': None}\n",
      "could not find in spacify: {'Wort': 'Management', 'from': 792, 'to': 802}\n",
      "could not find in spacify: {'Wort': 'Vorstandschef', 'from': 887, 'to': 900}\n",
      "could not find in spacify: {'Wort': 'Komitees', 'from': None, 'to': None}\n",
      "could not find: {'word': 'Monate', 'from': 7049, 'to': 7055, 'ntbg': False}\n",
      "could not find in spacify: {'Wort': 'Reeder', 'from': None, 'to': None}\n",
      "could not find in spacify: {'Wort': 'Ärzte', 'from': None, 'to': None}\n",
      "could not find in spacify: {'Wort': 'Unmittelungen', 'from': None, 'to': None}\n",
      "could not find in spacify: {'Wort': 'Unternehmen', 'from': None, 'to': None}\n",
      "could not find in spacify: {'Wort': 'Eigentümer', 'from': None, 'to': None}\n",
      "could not find in spacify: {'Wort': 'Schiffswerft', 'from': 7368, 'to': 7380}\n",
      "could not find in spacify: {'Wort': 'Arbeiter', 'from': None, 'to': None}\n",
      "could not find in spacify: {'Wort': 'Bundesverfassgericht', 'from': None, 'to': None}\n",
      "could not find in spacify: {'Wort': 'Ärzte', 'from': None, 'to': None}\n",
      "could not find in spacify: {'Wort': 'Patienten', 'from': None, 'to': None}\n",
      "could not find in spacify: {'Wort': 'neuer', 'Generisch- Maskulin': True, 'from': None, 'to': None}\n",
      "could not find in spacify: {'Wort': 'Ärzte', 'from': None, 'to': None}\n",
      "could not find in spacify: {'Wort': 'Kurilen', 'from': None, 'to': None}\n",
      "could not find in spacify: {'Wort': 'Ärzte', 'from': None, 'to': None}\n",
      "could not find in spacify: {'Wort': 'er', 'from': 802, 'to': 804}\n",
      "could not find in spacify: {'Wort': 'Ländern', 'from': None, 'to': None}\n",
      "could not find in spacify: {'Wort': 'Länder', 'from': None, 'to': None}\n",
      "could not find in spacify: {'Wort': 'Orden', 'from': None, 'to': None}\n",
      "could not find in spacify: {'Wort': 'Lehrer', 'from': None, 'to': None}\n",
      "could not find in spacify: {'Wort': 'Ärzte', 'from': None, 'to': None}\n",
      "could not find in spacify: {'Wort': 'Autor', 'from': 883, 'to': 888}\n",
      "could not find in spacify: {'Wort': 'Theologen', 'from': None, 'to': None}\n",
      "could not find in spacify: {'Wort': 'Schreibt', 'from': None, 'to': None}\n",
      "could not find in spacify: {'Wort': 'er', 'from': 2553, 'to': 2555}\n",
      "could not find in spacify: {'Wort': 'Präsident', 'from': 4, 'to': 13}\n",
      "could not find in spacify: {'Wort': 'Männer', 'from': None, 'to': None}\n",
      "could not find in spacify: {'Wort': 'Mitgliedern', 'from': 2487, 'to': 2498}\n",
      "could not find in spacify: {'Wort': 'Ärzte', 'from': None, 'to': None}\n",
      "could not find in spacify: {'Wort': 'Inkatha-Kämpfer', 'from': None, 'to': None}\n",
      "could not find in spacify: {'Wort': 'Inkatha-Kämpfer', 'Description': 'Fighting members of the Inkatha movement', 'from': None, 'to': None}\n",
      "could not find in spacify: {'Wort': 'Ärzte', 'from': None, 'to': None}\n",
      "could not find in spacify: {'Wort': 'Patienten', 'from': None, 'to': None}\n",
      "could not find in spacify: {'Wort': 'Besitzer', 'from': None, 'to': None}\n",
      "could not find in spacify: {'Wort': 'Hausbesitzer', 'from': None, 'to': None}\n",
      "could not find in spacify: {'Wort': 'Pendel', 'from': None, 'to': None}\n",
      "could not find in spacify: {'Wort': 'Minister', 'from': None, 'to': None}\n",
      "could not find in spacify: {'Wort': 'Arbeiter', 'from': None, 'to': None}\n",
      "could not find in spacify: {'Wort': 'Baufirmen', 'from': 390, 'to': 399}\n",
      "could not find in spacify: {'Wort': 'Parlamentarische Untersuchungsausschussmitglieder', 'from': None, 'to': None}\n",
      "could not find in spacify: {'Wort': 'Ärzte', 'from': None, 'to': None}\n",
      "could not find in spacify: {'Wort': 'stelletrtretende', 'from': None, 'to': None}\n",
      "could not find in spacify: {'Wort': 'Region', 'from': 551, 'to': 557}\n",
      "could not find in spacify: {'Wort': 'Ärzte', 'from': None, 'to': None}\n",
      "could not find in spacify: {'Wort': 'Ärzte', 'from': None, 'to': None}\n",
      "could not find in spacify: {'Wort': 'Arabische', 'Remark': '', 'from': None, 'to': None}\n",
      "could not find in spacify: {'Wort': 'Kabinett', 'from': None, 'to': None}\n",
      "could not find in spacify: {'Wort': 'Jäger', 'from': None, 'to': None}\n",
      "could not find in spacify: {'Wort': 'Minister', 'from': None, 'to': None}\n",
      "could not find in spacify: {'Wort': 'Gastgeber', 'from': None, 'to': None}\n",
      "could not find in spacify: {'Wort': 'Freunde', 'from': None, 'to': None}\n",
      "could not find in spacify: {'Wort': 'Ärzte', 'from': None, 'to': None}\n",
      "could not find in spacify: {'Wort': 'Studenten', 'from': None, 'to': None}\n",
      "could not find in spacify: {'Wort': 'Deutschen', 'from': None, 'to': None}\n",
      "could not find in spacify: {'Wort': 'Person', 'from': None, 'to': None}\n",
      "could not find in spacify: {'Wort': 'Minister', 'from': None, 'to': None}\n",
      "could not find in spacify: {'Wort': 'Politiker', 'from': 87, 'to': 96}\n",
      "could not find in spacify: {'Wort': 'Ministerium', 'from': None, 'to': None}\n",
      "could not find in spacify: {'Wort': 'Bürger', 'from': 1002, 'to': 1008}\n",
      "could not find in spacify: {'Wort': 'Polizisten', 'from': None, 'to': None}\n",
      "could not find in spacify: {'Wort': 'Ärzte', 'from': None, 'to': None}\n",
      "could not find in spacify: {'Wort': 'Sprecher', 'from': None, 'to': None}\n",
      "could not find in spacify: {'Wort': 'Gruppe', 'from': 111, 'to': 117}\n",
      "could not find in spacify: {'Wort': 'Konzern', 'from': 1018, 'to': 1025}\n",
      "could not find in spacify: {'Wort': 'Ärzte', 'from': None, 'to': None}\n",
      "could not find in spacify: {'Wort': 'Ärzte', 'from': None, 'to': None}\n",
      "could not find in spacify: {'Wort': 'Friedensgespräche', 'from': None, 'to': None}\n",
      "could not find in spacify: {'Wort': 'Gerichtshofs', 'from': 451, 'to': 463}\n",
      "could not find in spacify: {'Wort': 'Ärzte', 'from': None, 'to': None}\n",
      "could not find in spacify: {'Wort': 'Ärzte', 'from': None, 'to': None}\n",
      "could not find in spacify: {'Wort': 'Ermittelt', 'from': None, 'to': None}\n",
      "could not find in spacify: {'Wort': 'Richter', 'from': None, 'to': None}\n",
      "could not find in spacify: {'Wort': 'Ärzte', 'from': None, 'to': None}\n",
      "could not find in spacify: {'Wort': 'Ärzte', 'from': None, 'to': None}\n",
      "could not find in spacify: {'Wort': 'Ärzte', 'from': None, 'to': None}\n",
      "could not find in spacify: {'Wort': 'Bundesbahn', 'from': None, 'to': None}\n",
      "could not find in spacify: {'Wort': 'Schnellzug', 'from': None, 'to': None}\n",
      "could not find in spacify: {'Wort': 'Ärzte', 'from': None, 'to': None}\n",
      "could not find in spacify: {'Wort': 'Staatschefs', 'from': 383, 'to': 394}\n",
      "could not find in spacify: {'Wort': 'Parlamentarier', 'from': None, 'to': None}\n",
      "could not find in spacify: {'Wort': 'Truppen', 'Reason': '', 'Type': 'generic-masculine', 'from': 126, 'to': 133}\n",
      "could not find in spacify: {'Wort': 'Streitkräfte', 'Reason': '', 'Type': 'generic-masculine', 'from': 357, 'to': 369}\n",
      "could not find in spacify: {'Wort': 'Regierungskreise', 'from': 259, 'to': 275}\n",
      "could not find in spacify: {'Wort': 'Ärzte', 'from': None, 'to': None}\n",
      "could not find in spacify: {'Wort': 'Streitkräfte', 'from': 357, 'to': 369}\n",
      "could not find in spacify: {'Wort': 'Staatssekretär', 'from': 670, 'to': 684}\n",
      "could not find in spacify: {'Wort': 'him', 'from': None, 'to': None}\n",
      "could not find in spacify: {'Wort': 'Ärzte', 'from': None, 'to': None}\n",
      "could not find in spacify: {'Wort': 'Ärzte', 'from': None, 'to': None}\n",
      "could not find in spacify: {'Wort': 'Ärzte', 'from': None, 'to': None}\n",
      "could not find in spacify: {'Wort': 'Angriffen', 'from': None, 'to': None}\n",
      "could not find in spacify: {'Wort': 'Vertreter', 'from': 1352, 'to': 1361}\n",
      "could not find in spacify: {'Wort': 'Ärzte', 'from': None, 'to': None}\n",
      "could not find in spacify: {'Wort': 'Männer', 'from': None, 'to': None}\n",
      "could not find in spacify: {'Wort': 'Ministerium', 'from': None, 'to': None}\n",
      "could not find in spacify: {'Wort': 'Kämpfer', 'from': 1328, 'to': 1335}\n",
      "could not find in spacify: {'Wort': 'Ärzte', 'from': None, 'to': None}\n",
      "could not find in spacify: {'Wort': 'den Ministerpräsidenten', 'from': None, 'to': None}\n",
      "could not find in spacify: {'Wort': 'die Zentralbank', 'from': None, 'to': None}\n",
      "could not find in spacify: {'Wort': 'die Ärzte', 'from': None, 'to': None}\n",
      "could not find in spacify: {'Wort': 'Ärzte', 'from': None, 'to': None}\n",
      "could not find in spacify: {'Wort': 'Finanzminister', 'from': 2366, 'to': 2380}\n",
      "could not find in spacify: {'Wort': 'Minister', 'from': None, 'to': None}\n",
      "could not find in spacify: {'Wort': 'Man', 'from': None, 'to': None}\n",
      "could not find in spacify: {'Wort': 'Geschäftsführender Direktor', 'from': None, 'to': None}\n",
      "could not find in spacify: {'Wort': 'Bürger', 'from': 186, 'to': 192}\n",
      "could not find in spacify: {'Wort': 'Behörde', 'from': None, 'to': None}\n",
      "could not find in spacify: {'Wort': 'Aufsichtsbehörde', 'from': None, 'to': None}\n",
      "could not find in spacify: {'Wort': 'ICN und ihre beiden Tochtergesellschaften', 'from': None, 'to': None}\n",
      "could not find in spacify: {'Wort': 'Aktionäre', 'from': None, 'to': None}\n",
      "could not find in spacify: {'Wort': 'Forscher', 'from': None, 'to': None}\n",
      "could not find in spacify: {'Wort': 'Ärzte', 'from': None, 'to': None}\n",
      "could not find in spacify: {'Wort': 'Tochter', 'from': 2650, 'to': 2657}\n",
      "could not find in spacify: {'Wort': 'Unternehmen', 'from': None, 'to': None}\n",
      "could not find in spacify: {'Wort': 'Gesetzgeber', 'generisch-maskulin': True, 'from': None, 'to': None}\n",
      "could not find in spacify: {'Wort': 'es', 'from': 972, 'to': 974}\n",
      "could not find in spacify: {'Wort': 'selfhilfeorganisationen', 'from': None, 'to': None}\n",
      "could not find in spacify: {'Wort': 'die politische Auseinandersetzung', 'from': None, 'to': None}\n",
      "could not find in spacify: {'Wort': 'Generalsekretär', 'from': 379, 'to': 394}\n",
      "could not find in spacify: {'Wort': 'Chef', 'from': 565, 'to': 569}\n",
      "could not find in spacify: {'Wort': 'Chef', 'from': 1978, 'to': 1982}\n",
      "could not find in spacify: {'Wort': 'Generalsekretär', 'from': 2631, 'to': 2646}\n",
      "could not find in spacify: {'Wort': 'Ärzte', 'from': None, 'to': None}\n",
      "could not find in spacify: {'Wort': 'Unternehmer', 'from': 1298, 'to': 1309}\n",
      "could not find in spacify: {'Wort': 'Patienten', 'Wiederholung': True, 'from': 1750, 'to': 1759}\n",
      "could not find in spacify: {'Wort': 'Patienten', 'from': 1750, 'to': 1759}\n",
      "could not find in spacify: {'Wort': 'Patienten', 'Position': '9', 'from': 1750, 'to': 1759}\n",
      "could not find in spacify: {'Wort': 'Patient', 'Position': '14', 'from': 1750, 'to': 1757}\n",
      "could not find in spacify: {'Wort': 'ihn', 'from': None, 'to': None}\n",
      "could not find in spacify: {'Wort': 'Menschenfängerische', 'from': None, 'to': None}\n",
      "could not find in spacify: {'Wort': 'er', 'from': 3329, 'to': 3331}\n",
      "could not find in spacify: {'Wort': 'Protestlern', 'from': None, 'to': None}\n",
      "could not find in spacify: {'Wort': 'Ossis', 'from': None, 'to': None}\n",
      "could not find in spacify: {'Wort': 'er', 'from': 4107, 'to': 4109}\n",
      "could not find in spacify: {'Wort': 'Männer', 'from': None, 'to': None}\n",
      "could not find in spacify: {'Wort': 'er', 'from': 6681, 'to': 6683}\n",
      "could not find in spacify: {'Wort': 'Ärzte', 'from': None, 'to': None}\n",
      "could not find in spacify: {'Wort': 'Bundestagsabgeordnete', 'from': 478, 'to': 499}\n",
      "could not find in spacify: {'Wort': 'er', 'Generisch-Maskulin': True, 'from': 538, 'to': 540}\n",
      "could not find in spacify: {'Wort': 'er', 'from': 621, 'to': 623}\n",
      "could not find in spacify: {'Wort': 'sagen', 'from': None, 'to': None}\n",
      "could not find in spacify: {'Wort': 'Finanzexperte', 'from': 1116, 'to': 1129}\n",
      "could not find in spacify: {'Wort': 'Polik', 'from': None, 'to': None}\n",
      "could not find in spacify: {'Wort': 'Regierungen', 'from': 1531, 'to': 1542}\n",
      "could not find in spacify: {'Wort': 'Ärzte', 'from': None, 'to': None}\n",
      "could not find in spacify: {'Wort': 'Gipfels', 'from': 1829, 'to': 1836}\n",
      "could not find in spacify: {'Wort': 'Präsident', 'from': 2504, 'to': 2513}\n",
      "could not find in spacify: {'Wort': 'Kommissionspräsident', 'from': 2629, 'to': 2649}\n",
      "could not find in spacify: {'Wort': 'Präsident', 'Count': 2, 'from': 2504, 'to': 2513}\n",
      "could not find in spacify: {'Wort': 'er', 'from': 2939, 'to': 2941}\n",
      "could not find in spacify: {'Wort': 'jeder', 'from': None, 'to': None}\n",
      "could not find in spacify: {'Wort': 'Ärzte', 'from': None, 'to': None}"
     ]
    },
    {
     "name": "stderr",
     "output_type": "stream",
     "text": [
      "100%|████████████████████████████████████████| 100/100 [00:00<00:00, 299.67it/s]\n"
     ]
    },
    {
     "name": "stdout",
     "output_type": "stream",
     "text": [
      "\n",
      "could not find in spacify: {'Wort': 'Landesvorsitzende', 'from': 236, 'to': 253}\n",
      "could not find in spacify: {'Wort': 'Kandidaten', 'from': None, 'to': None}\n",
      "could not find in spacify: {'Wort': 'er', 'from': 2462, 'to': 2464}\n",
      "could not find in spacify: {'Wort': 'Präsident', 'from': None, 'to': None}\n",
      "could not find in spacify: {'Wort': 'Vorständler', 'from': 4112, 'to': 4123}\n",
      "could not find in spacify: {'Wort': 'ihr', 'from': None, 'to': None}\n",
      "could not find in spacify: {'Wort': 'Ministerium', 'from': None, 'to': None}\n",
      "could not find in spacify: {'Wort': 'Dozent', 'from': 1046, 'to': 1052}\n",
      "could not find in spacify: {'Wort': 'Präsident', 'from': None, 'to': None}\n",
      "could not find in spacify: {'Wort': 'Präsident', 'from': 1328, 'to': 1337}\n",
      "could not find in spacify: {'Wort': 'Präsident', 'from': 183, 'to': 192}\n",
      "could not find in spacify: {'Wort': 'Interessenvertretern', 'from': None, 'to': None}\n",
      "could not find in spacify: {'Wort': 'Unterschuß', 'from': None, 'to': None}\n",
      "could not find in spacify: {'Wort': 'Unterausschuß', 'from': None, 'to': None}\n",
      "could not find in spacify: {'Wort': 'Ärzte', 'from': None, 'to': None}\n",
      "could not find in spacify: {'Wort': 'Schulden', 'from': None, 'to': None}\n",
      "could not find in spacify: {'Wort': 'Regierungen', 'from': 756, 'to': 767}\n",
      "could not find in spacify: {'Wort': 'Netzwerk', 'from': 1068, 'to': 1076}\n"
     ]
    },
    {
     "name": "stderr",
     "output_type": "stream",
     "text": [
      "  0%|                                                   | 0/100 [00:00<?, ?it/s]"
     ]
    },
    {
     "name": "stdout",
     "output_type": "stream",
     "text": [
      "could not find in spacify: {'Wort': 'er', 'from': 1378, 'to': 1380}\n",
      "could not find in spacify: {'Wort': 'ein ehemaliger Geschäftsführer', 'from': None, 'to': None}\n",
      "could not find in spacify: {'Wort': 'ein Diktator', 'from': None, 'to': None}\n",
      "could not find in spacify: {'Wort': 'ein Manager', 'from': None, 'to': None}\n",
      "could not find in spacify: {'Wort': 'er', 'from': 2317, 'to': 2319}\n",
      "could not find in spacify: {'Wort': 'er', 'from': 2483, 'to': 2485}\n",
      "could not find in spacify: {'Wort': 'er', 'from': 2982, 'to': 2984}\n",
      "could not find in spacify: {'Wort': 'ihn', 'from': None, 'to': None}\n",
      "could not find in spacify: {'Wort': 'er', 'from': 3137, 'to': 3139}\n",
      "could not find in spacify: {'Wort': 'er', 'Begründung': 'Generischer Maskulinumsgender, kann auch auf Frauen bezogen werden', 'from': 3381, 'to': 3383}\n",
      "could not find in spacify: {'Wort': 'er', 'from': 4021, 'to': 4023}\n",
      "could not find in spacify: {'Wort': 'er', 'from': 4135, 'to': 4137}\n",
      "could not find in spacify: {'Wort': 'er', 'from': 4824, 'to': 4826}\n",
      "could not find in spacify: {'Wort': 'Sessel', 'from': 237, 'to': 243}\n",
      "could not find in spacify: {'Wort': 'er', 'from': 186, 'to': 188}\n",
      "could not find in spacify: {'Wort': 'ein Mann', 'from': None, 'to': None}\n",
      "could not find in spacify: {'Wort': 'der Investor', 'from': None, 'to': None}\n",
      "could not find in spacify: {'Wort': 'sie', 'from': 1188, 'to': 1191}\n",
      "could not find in spacify: {'Wort': 'ein optimistischer Investor', 'from': None, 'to': None}\n",
      "could not find in spacify: {'Wort': 'Männer', 'from': None, 'to': None}\n",
      "could not find in spacify: {'Wort': 'die Person', 'from': None, 'to': None}\n",
      "could not find in spacify: {'Wort': 'er', 'from': 5547, 'to': 5549}\n",
      "could not find in spacify: {'Wort': 'ihn', 'from': None, 'to': None}\n",
      "could not find in spacify: {'Wort': 'mann', 'from': None, 'to': None}\n",
      "could not find in spacify: {'Wort': 'Man', 'from': None, 'to': None}\n",
      "could not find in spacify: {'Wort': 'deren', 'from': None, 'to': None}\n",
      "could not find in spacify: {'Wort': 'einrechten', 'from': None, 'to': None}\n",
      "could not find in spacify: {'Wort': 'wer', 'from': None, 'to': None}\n",
      "could not find in spacify: {'Wort': 'sie', 'from': None, 'to': None}\n",
      "could not find in spacify: {'Wort': 'die Republikaner', 'from': None, 'to': None}\n",
      "could not find in spacify: {'Wort': 'Parlamentariker', 'from': None, 'to': None}\n",
      "could not find in spacify: {'Wort': 'den', 'from': 6594, 'to': 6597}\n",
      "could not find in spacify: {'Wort': 'er', 'from': 8620, 'to': 8622}\n",
      "could not find in spacify: {'Wort': 'er', 'from': 8741, 'to': 8743}\n",
      "could not find in spacify: {'Wort': 'sein', 'from': None, 'to': None}\n",
      "could not find in spacify: {'Wort': 'Politiker', 'from': None, 'to': None}\n",
      "could not find in spacify: {'Wort': 'der', 'from': 9404, 'to': 9407}\n",
      "could not find in spacify: {'Wort': 'er', 'from': 9405, 'to': 9407}\n",
      "could not find in spacify: {'Wort': 'Männer', 'from': None, 'to': None}\n",
      "could not find in spacify: {'Wort': 'Fahnder', 'from': 987, 'to': 994}\n",
      "could not find in spacify: {'Wort': 'Gefangenen', 'from': 1722, 'to': 1732}\n",
      "could not find in spacify: {'Wort': 'der', 'from': None, 'to': None}\n",
      "could not find in spacify: {'Wort': 'der Situation', 'from': None, 'to': None}\n",
      "could not find in spacify: {'Wort': 'Nächsten', 'from': None, 'to': None}\n",
      "could not find in spacify: {'Wort': 'Polizist', 'from': None, 'to': None}\n",
      "could not find in spacify: {'Wort': 'Wer', 'from': None, 'to': None}\n",
      "could not find in spacify: {'Wort': 'er', 'from': 1421, 'to': 1423}\n",
      "could not find in spacify: {'Wort': 'ihn', 'from': None, 'to': None}\n",
      "could not find in spacify: {'Wort': 'der Zeitgeist', 'from': None, 'to': None}\n",
      "could not find in spacify: {'Wort': 'Männer', 'from': None, 'to': None}\n",
      "could not find in spacify: {'Wort': 'Kicker', 'from': 6, 'to': 12}\n",
      "could not find in spacify: {'Wort': 'Klinsmanns', 'from': 653, 'to': 663}\n",
      "could not find in spacify: {'Wort': 'Kicker', 'from': 405, 'to': 411}\n",
      "could not find in spacify: {'Wort': 'sein Sportkumpel', 'from': None, 'to': None}\n"
     ]
    },
    {
     "name": "stderr",
     "output_type": "stream",
     "text": [
      " 10%|████▏                                     | 10/100 [00:00<00:01, 84.68it/s]"
     ]
    },
    {
     "name": "stdout",
     "output_type": "stream",
     "text": [
      "could not find in spacify: {'Wort': 'Wer', 'from': None, 'to': None}\n",
      "could not find in spacify: {'Wort': 'die eidgenössischen Landwirte', 'from': None, 'to': None}\n",
      "could not find in spacify: {'Wort': 'Ministerium', 'from': None, 'to': None}\n",
      "could not find in spacify: {'Wort': 'Mietforder', 'Bemerkung': 'Die Person, die die Miete zahlt, wird nicht explizit als Frau oder Mann bezeichnet, daher ist das Wort generisch-maskulin', 'from': None, 'to': None}\n",
      "could not find in spacify: {'Wort': 'jährlich', 'from': None, 'to': None}\n",
      "could not find in spacify: {'Wort': 'Kommenden', 'from': None, 'to': None}\n",
      "could not find in spacify: {'Wort': 'Mann', 'from': None, 'to': None}\n",
      "could not find in spacify: {'Wort': 'Binnenmarkt', 'from': 1009, 'to': 1020}\n",
      "could not find in spacify: {'Wort': 'Männer', 'from': None, 'to': None}\n",
      "could not find in spacify: {'Wort': 'britischer', 'from': None, 'to': None}\n",
      "could not find in spacify: {'Wort': 'Hotel', 'from': 2804, 'to': 2809}\n",
      "could not find in spacify: {'Wort': 'er', 'from': 2870, 'to': 2872}\n",
      "could not find in spacify: {'Wort': 'Präsident', 'from': None, 'to': None}\n",
      "could not find in spacify: {'Wort': 'Revolutionäre', 'from': None, 'to': None}\n",
      "could not find in spacify: {'Wort': 'Revolutionsführer', 'from': None, 'to': None}\n",
      "could not find in spacify: {'Wort': 'Richter', 'from': None, 'to': None}\n",
      "could not find in spacify: {'Wort': 'Revutionsführer', 'from': None, 'to': None}\n",
      "could not find in spacify: {'Wort': 'Ayatollah', 'from': None, 'to': None}\n",
      "could not find in spacify: {'Wort': 'sie', 'from': None, 'to': None}\n",
      "could not find in spacify: {'Wort': 'sieben', 'from': None, 'to': None}\n",
      "could not find in spacify: {'Wort': 'ihr', 'from': None, 'to': None}\n",
      "could not find in spacify: {'Wort': 'er', 'from': 3770, 'to': 3772}\n",
      "could not find in spacify: {'Wort': 'ein Staat', 'from': None, 'to': None}\n",
      "could not find in spacify: {'Wort': 'er', 'from': 5281, 'to': 5283}\n",
      "could not find in spacify: {'Wort': 'Klerikale Macht', 'from': None, 'to': None}\n",
      "could not find in spacify: {'Wort': 'Gardisten', 'from': None, 'to': None}\n",
      "could not find in spacify: {'Wort': 'Revutionsgardist', 'from': None, 'to': None}\n",
      "could not find in spacify: {'Wort': 'Er', 'from': None, 'to': None}\n",
      "could not find in spacify: {'Wort': 'er', 'from': 409, 'to': 411}\n",
      "could not find in spacify: {'Wort': 'sein', 'from': None, 'to': None}\n",
      "could not find in spacify: {'Wort': 'männlichen', 'from': None, 'to': None}\n",
      "could not find in spacify: {'Wort': 'Jungen', 'from': None, 'to': None}\n",
      "could not find in spacify: {'Wort': 'Männer', 'from': None, 'to': None}\n",
      "could not find in spacify: {'Wort': 'Mann', 'from': None, 'to': None}\n",
      "could not find in spacify: {'Wort': 'wer', 'from': None, 'to': None}\n",
      "could not find in spacify: {'Wort': 'sich darstellen', 'from': None, 'to': None}\n",
      "could not find in spacify: {'Wort': 'wer', 'from': 4837, 'to': 4840}\n",
      "could not find in spacify: {'Wort': 'er', 'from': 4931, 'to': 4933}\n",
      "could not find in spacify: {'Wort': 'jemanden', 'from': None, 'to': None}\n",
      "could not find in spacify: {'Wort': 'anderen', 'Erklärung': \"Das Wort 'anderen' kann generisch-maskulin verwendet werden, da es sich auf eine Gruppe oder Menge bezieht, ohne dass ein expliziter Bezug zu einer eindeutig männlichen Person besteht.\", 'from': None, 'to': None}\n",
      "could not find in spacify: {'Wort': 'Eigenes', 'from': None, 'to': None}\n",
      "could not find in spacify: {'Wort': 'Andere', 'from': None, 'to': None}\n",
      "could not find in spacify: {'Wort': 'Professor', 'from': 555, 'to': 564}\n",
      "could not find in spacify: {'Wort': 'Professoren', 'from': 680, 'to': 691}\n",
      "could not find in spacify: {'Wort': 'Revutionsführer', 'from': None, 'to': None}\n",
      "could not find in spacify: {'Wort': 'Revolutionäre', 'from': None, 'to': None}\n",
      "could not find in spacify: {'Wort': 'Führer', 'from': None, 'to': None}\n",
      "could not find in spacify: {'Wort': 'er', 'from': 2585, 'to': 2587}\n",
      "could not find in spacify: {'Wort': 'er', 'from': 2788, 'to': 2790}\n",
      "could not find in spacify: {'Wort': 'seinen', 'from': None, 'to': None}\n",
      "could not find in spacify: {'Wort': 'er', 'from': 3990, 'to': 3992}\n",
      "could not find in spacify: {'Wort': 'er', 'from': 4269, 'to': 4271}\n",
      "could not find in spacify: {'Wort': 'er', 'from': 4375, 'to': 4377}\n",
      "could not find in spacify: {'Wort': 'er', 'from': 4603, 'to': 4605}\n",
      "could not find in spacify: {'Wort': 'er', 'from': 4891, 'to': 4893}\n",
      "could not find in spacify: {'Wort': 'ihn', 'from': None, 'to': None}\n",
      "could not find in spacify: {'Wort': 'Streitkräfte', 'from': None, 'to': None}\n",
      "could not find in spacify: {'Wort': 'Er', 'from': None, 'to': None}\n",
      "could not find in spacify: {'Wort': 'Mann', 'from': None, 'to': None}\n",
      "could not find in spacify: {'Wort': 'Entwurf', 'from': None, 'to': None}\n",
      "could not find in spacify: {'Wort': 'ein Student', 'Text': '', 'from': None, 'to': None}\n",
      "could not find in spacify: {'Wort': 'jemanden', 'Text': '', 'from': None, 'to': None}\n",
      "could not find in spacify: {'Wort': 'die Parteien', 'from': None, 'to': None}\n",
      "could not find in spacify: {'Wort': 'der Streit', 'from': None, 'to': None}\n",
      "could not find in spacify: {'Wort': 'der', 'from': 1162, 'to': 1165}\n",
      "could not find in spacify: {'Wort': 'der', 'from': 1319, 'to': 1322}\n",
      "could not find in spacify: {'Wort': 'sein', 'from': None, 'to': None}\n",
      "could not find in spacify: {'Wort': 'dies', 'from': None, 'to': None}\n",
      "could not find in spacify: {'Wort': 'Kampfeinsatz', 'from': None, 'to': None}\n",
      "could not find in spacify: {'Wort': 'der', 'from': 3650, 'to': 3653}\n",
      "could not find in spacify: {'Wort': 'deren', 'from': None, 'to': None}\n",
      "could not find in spacify: {'Wort': 'der', 'from': 4121, 'to': 4124}\n",
      "could not find in spacify: {'Wort': 'der Abgeordnete', 'from': None, 'to': None}\n",
      "could not find in spacify: {'Wort': 'Ministerpräsidenten', 'Reason': 'Bezieht sich auf eine eindeutig männliche Person', 'from': 666, 'to': 685}\n",
      "could not find in spacify: {'Wort': 'Ministerpräsidenten', 'from': 666, 'to': 685}\n",
      "could not find in spacify: {'Wort': 'Staatssekretär', 'from': 2743, 'to': 2757}\n",
      "could not find in spacify: {'Wort': 'Männer', 'from': None, 'to': None}\n",
      "could not find in spacify: {'Wort': 'Maler', 'from': None, 'to': None}\n",
      "could not find in spacify: {'Wort': 'sie', 'from': None, 'to': None}\n",
      "could not find in spacify: {'Wort': 'jemanden', 'from': None, 'to': None}\n",
      "could not find in spacify: {'Wort': 'er', 'from': 1801, 'to': 1803}\n",
      "could not find in spacify: {'Wort': 'er', 'from': 1968, 'to': 1970}\n",
      "could not find in spacify: {'Wort': 'Grundbesitzer', 'from': None, 'to': None}\n",
      "could not find in spacify: {'Wort': 'Helfer', 'from': None, 'to': None}\n",
      "could not find in spacify: {'Wort': 'Erwiedereinrichter', 'from': None, 'to': None}\n",
      "could not find in spacify: {'Wort': 'der', 'from': 4188, 'to': 4191}\n",
      "could not find in spacify: {'Wort': 'Breur', 'from': None, 'to': None}\n",
      "could not find in spacify: {'Wort': 'Bauern', 'from': None, 'to': None}\n",
      "could not find in spacify: {'Wort': 'Eigentümer', 'from': None, 'to': None}\n",
      "could not find in spacify: {'Wort': 'er', 'from': 6232, 'to': 6234}\n",
      "could not find in spacify: {'Wort': 'sie', 'from': None, 'to': None}\n",
      "could not find in spacify: {'Wort': 'er', 'from': 669, 'to': 671}\n",
      "could not find in spacify: {'Wort': 'Mitarbeiter', 'from': None, 'to': None}\n",
      "could not find in spacify: {'Wort': 'der', 'from': None, 'to': None}\n",
      "could not find in spacify: {'Wort': 'die Firmen', 'Geschlecht': 'maskulin', 'from': None, 'to': None}\n",
      "could not find in spacify: {'Wort': 'Britten', 'from': None, 'to': None}\n",
      "could not find in spacify: {'Wort': 'Höchststimmrecht', 'from': 759, 'to': 775}\n",
      "could not find in spacify: {'Wort': 'er', 'from': 704, 'to': 706}\n",
      "could not find in spacify: {'Wort': 'Stellvertreter', 'from': None, 'to': None}\n",
      "could not find in spacify: {'Wort': 'Generalsekretär', 'from': 505, 'to': 520}\n",
      "could not find in spacify: {'Wort': 'stellvertretender', 'from': None, 'to': None}\n",
      "could not find in spacify: {'Wort': 'sein', 'from': None, 'to': None}\n",
      "could not find in spacify: {'Wort': 'der', 'from': 1054, 'to': 1057}\n",
      "could not find in spacify: {'Wort': 'der Land', 'from': None, 'to': None}\n",
      "could not find in spacify: {'Wort': 'die Staatsbetriebe', 'from': None, 'to': None}\n",
      "could not find in spacify: {'Wort': 'Unternehmer', 'from': 63, 'to': 74}\n",
      "could not find in spacify: {'Wort': 'Management', 'from': 792, 'to': 802}\n",
      "could not find in spacify: {'Wort': 'Vorstandschef', 'from': 887, 'to': 900}\n",
      "could not find: {'word': 'Monate', 'from': 7049, 'to': 7055, 'ntbg': False}\n",
      "could not find in spacify: {'Wort': 'er', 'from': 18, 'to': 20}\n",
      "could not find in spacify: {'Wort': 'die Arbeitnehmervertretung', 'from': None, 'to': None}\n",
      "could not find in spacify: {'Wort': 'der', 'from': 5649, 'to': 5652}\n",
      "could not find in spacify: {'Wort': 'Unternehmen', 'from': None, 'to': None}\n",
      "could not find in spacify: {'Wort': 'Minister', 'from': None, 'to': None}\n",
      "could not find in spacify: {'Wort': 'er', 'from': 545, 'to': 547}\n",
      "could not find in spacify: {'Wort': 'er', 'from': 1897, 'to': 1899}\n",
      "could not find in spacify: {'Wort': 'er', 'from': 2497, 'to': 2499}\n",
      "could not find in spacify: {'Wort': 'Menschen', 'from': None, 'to': None}\n",
      "could not find in spacify: {'Wort': 'er', 'from': 831, 'to': 833}\n",
      "could not find in spacify: {'Wort': 'neuer Statthalter', 'from': None, 'to': None}\n",
      "could not find in spacify: {'Wort': 'neuer', 'from': None, 'to': None}\n",
      "could not find in spacify: {'Wort': 'der Mann', 'from': None, 'to': None}\n"
     ]
    },
    {
     "name": "stderr",
     "output_type": "stream",
     "text": [
      " 27%|███████████                              | 27/100 [00:00<00:00, 130.30it/s]"
     ]
    },
    {
     "name": "stdout",
     "output_type": "stream",
     "text": [
      "could not find in spacify: {'Wort': 'Blickpunkt', 'from': None, 'to': None}\n",
      "could not find in spacify: {'Wort': 'Tokio', 'from': None, 'to': None}\n",
      "could not find in spacify: {'Wort': 'er', 'from': 802, 'to': 804}\n",
      "could not find in spacify: {'Wort': 'der Sowjetunion', 'from': None, 'to': None}\n",
      "could not find in spacify: {'Wort': 'der', 'from': None, 'to': None}\n",
      "could not find in spacify: {'Wort': 'den', 'from': None, 'to': None}\n",
      "could not find in spacify: {'Wort': 'die USA', 'from': None, 'to': None}\n",
      "could not find in spacify: {'Wort': 'der kalte Krieg', 'from': None, 'to': None}\n",
      "could not find in spacify: {'Wort': 'der Kalte Krieg', 'from': None, 'to': None}\n",
      "could not find in spacify: {'Wort': 'Ministerium', 'from': None, 'to': None}\n",
      "could not find in spacify: {'Wort': 'er', 'from': 2994, 'to': 2996}\n",
      "could not find in spacify: {'Wort': 'Man', 'from': None, 'to': None}\n",
      "could not find in spacify: {'Wort': 'Russland', 'from': None, 'to': None}\n",
      "could not find in spacify: {'Wort': 'sein', 'from': None, 'to': None}\n",
      "could not find in spacify: {'Wort': 'ihn', 'from': None, 'to': None}\n",
      "could not find in spacify: {'Wort': 'er', 'from': 642, 'to': 644}\n",
      "could not find in spacify: {'Wort': 'Autor', 'from': 883, 'to': 888}\n",
      "could not find in spacify: {'Wort': 'es', 'from': 1654, 'to': 1656}\n",
      "could not find in spacify: {'Wort': 'er', 'from': 1621, 'to': 1623}\n",
      "could not find in spacify: {'Wort': 'er', 'from': 2553, 'to': 2555}\n",
      "could not find in spacify: {'Wort': 'Präsident', 'from': 4, 'to': 13}\n",
      "could not find in spacify: {'Wort': 'der ANC-Mitglieder', 'from': None, 'to': None}\n",
      "could not find in spacify: {'Wort': 'er', 'from': 3089, 'to': 3091}\n",
      "could not find in spacify: {'Wort': 'Inkatha-Kämpfer', 'from': None, 'to': None}\n",
      "could not find in spacify: {'Wort': 'Herr', 'from': None, 'to': None}\n",
      "could not find in spacify: {'Wort': 'Käufer', 'from': None, 'to': None}\n",
      "could not find in spacify: {'Wort': 'Besitzer', 'from': None, 'to': None}\n",
      "could not find in spacify: {'Wort': 'Ist', 'from': None, 'to': None}\n",
      "could not find in spacify: {'Wort': 'Hausbesitzer', 'from': None, 'to': None}\n",
      "could not find in spacify: {'Wort': 'er', 'from': None, 'to': None}\n",
      "could not find in spacify: {'Wort': 'der Hausbesitzer', 'from': None, 'to': None}\n",
      "could not find in spacify: {'Wort': 'Mann', 'from': None, 'to': None}\n",
      "could not find in spacify: {'Wort': 'er', 'from': 222, 'to': 224}\n",
      "could not find in spacify: {'Wort': 'die beiden Dänen', 'from': None, 'to': None}\n",
      "could not find in spacify: {'Wort': 'er', 'from': 596, 'to': 598}\n",
      "could not find in spacify: {'Wort': 'er', 'from': 224, 'to': 226}\n",
      "could not find in spacify: {'Wort': 'er', 'Erklärung': 'direkt genannt als Gesprächspartner', 'from': 224, 'to': 226}\n",
      "could not find in spacify: {'Wort': 'Blaumachern', 'from': 727, 'to': 738}\n",
      "could not find in spacify: {'Wort': 'der Vorsitzende', 'from': None, 'to': None}\n",
      "could not find in spacify: {'Wort': 'der', 'from': 1285, 'to': 1288}\n",
      "could not find in spacify: {'Wort': 'die Beschäftigten', 'from': None, 'to': None}\n",
      "could not find in spacify: {'Wort': 'er', 'from': 1833, 'to': 1835}\n",
      "could not find in spacify: {'Wort': 'Männer', 'from': None, 'to': None}\n",
      "could not find in spacify: {'Wort': 'Männer', 'from': None, 'to': None}\n",
      "could not find in spacify: {'Wort': 'Der', 'from': None, 'to': None}\n",
      "could not find in spacify: {'Wort': 'Ein', 'from': None, 'to': None}\n",
      "could not find in spacify: {'Wort': 'er', 'from': 1218, 'to': 1220}\n",
      "could not find in spacify: {'Wort': 'er', 'from': 154, 'to': 156}\n",
      "could not find in spacify: {'Wort': 'er', 'from': 728, 'to': 730}\n",
      "could not find in spacify: {'Wort': 'Mitarbeiter', 'from': 4, 'to': 15}\n",
      "could not find in spacify: {'Wort': 'Senatoren', 'from': None, 'to': None}\n",
      "could not find in spacify: {'Wort': 'Fans', 'from': 824, 'to': 828}\n",
      "could not find in spacify: {'Wort': 'der Sonntag', 'from': None, 'to': None}\n",
      "could not find in spacify: {'Wort': 'Der', 'from': None, 'to': None}\n",
      "could not find in spacify: {'Wort': 'er', 'from': 1360, 'to': 1362}\n",
      "could not find in spacify: {'Wort': 'er', 'from': 1506, 'to': 1508}\n",
      "could not find in spacify: {'Wort': 'Ministerium', 'from': None, 'to': None}\n",
      "could not find in spacify: {'Wort': 'Minister', 'from': None, 'to': None}\n",
      "could not find in spacify: {'Wort': 'Opfer', 'from': 20, 'to': 25}\n",
      "could not find in spacify: {'Wort': 'Gastgeber', 'from': None, 'to': None}\n",
      "could not find in spacify: {'Wort': 'Freund', 'from': None, 'to': None}\n",
      "could not find in spacify: {'Wort': 'Sohn', 'from': None, 'to': None}\n",
      "could not find in spacify: {'Wort': 'Mann', 'from': None, 'to': None}\n",
      "could not find in spacify: {'Wort': 'Er', 'from': None, 'to': None}\n",
      "could not find in spacify: {'Wort': 'Freunde', 'from': None, 'to': None}\n",
      "could not find in spacify: {'Wort': 'Deutschen', 'from': None, 'to': None}\n",
      "could not find in spacify: {'Wort': 'Person', 'from': None, 'to': None}\n",
      "could not find in spacify: {'Wort': 'Politiker', 'from': None, 'to': None}\n",
      "could not find in spacify: {'Wort': 'Politiker', 'from': 87, 'to': 96}\n",
      "could not find in spacify: {'Wort': 'seiner', 'from': None, 'to': None}\n",
      "could not find in spacify: {'Wort': 'er', 'from': 859, 'to': 861}\n",
      "could not find in spacify: {'Wort': 'sein', 'from': None, 'to': None}\n",
      "could not find in spacify: {'Wort': 'Polizisten', 'from': None, 'to': None}\n",
      "could not find in spacify: {'Wort': 'das', 'from': None, 'to': None}\n",
      "could not find in spacify: {'Wort': 'er', 'from': 522, 'to': 524}\n",
      "could not find in spacify: {'Wort': 'Männer', 'from': None, 'to': None}\n",
      "could not find in spacify: {'Wort': 'Vorstandschef', 'from': 817, 'to': 830}\n",
      "could not find in spacify: {'Wort': 'Bundestagsabgeordnete', 'from': 28, 'to': 49}\n",
      "could not find in spacify: {'Wort': 'Männer', 'from': None, 'to': None}\n",
      "could not find in spacify: {'Wort': 'der', 'from': None, 'to': None}\n",
      "could not find in spacify: {'Wort': 'Regierung', 'from': None, 'to': None}\n",
      "could not find in spacify: {'Wort': 'Oberster', 'from': None, 'to': None}\n",
      "could not find in spacify: {'Wort': 'er', 'from': 988, 'to': 990}\n",
      "could not find in spacify: {'Wort': 'Konzern', 'from': None, 'to': None}\n",
      "could not find in spacify: {'Wort': 'einige', 'from': None, 'to': None}\n",
      "could not find in spacify: {'Wort': 'den', 'from': 501, 'to': 504}\n",
      "could not find in spacify: {'Wort': 'Flugzeug', 'from': None, 'to': None}\n",
      "could not find in spacify: {'Wort': 'Transportgeschwader', 'from': None, 'to': None}\n",
      "could not find in spacify: {'Wort': 'Regierung', 'from': None, 'to': None}\n",
      "could not find in spacify: {'Wort': 'der', 'from': 1399, 'to': 1402}\n",
      "could not find in spacify: {'Wort': 'Schnellzug', 'from': None, 'to': None}\n",
      "could not find in spacify: {'Wort': 'Bundesbahn', 'from': None, 'to': None}\n",
      "could not find in spacify: {'Wort': 'der', 'from': None, 'to': None}\n",
      "could not find in spacify: {'Wort': 'er', 'from': 174, 'to': 176}\n",
      "could not find in spacify: {'Wort': 'Staatschefs', 'from': 383, 'to': 394}\n",
      "could not find in spacify: {'Wort': 'Parlamentarischer Staatssekretär', 'from': None, 'to': None}\n",
      "could not find in spacify: {'Wort': 'er', 'from': 355, 'to': 357}\n",
      "could not find in spacify: {'Wort': 'Regierungskreise', 'from': 259, 'to': 275}\n",
      "could not find in spacify: {'Wort': 'er', 'from': 276, 'to': 278}\n",
      "could not find in spacify: {'Wort': 'ihn', 'from': None, 'to': None}\n",
      "could not find in spacify: {'Wort': 'der Amerikaner', 'from': None, 'to': None}\n",
      "could not find in spacify: {'Wort': 'designierter', 'from': None, 'to': None}\n",
      "could not find in spacify: {'Wort': 'Ministerium', 'from': None, 'to': None}\n",
      "could not find in spacify: {'Wort': 'Angriffen', 'from': None, 'to': None}\n",
      "could not find in spacify: {'Wort': 'sein Sponsoren', 'from': None, 'to': None}\n",
      "could not find in spacify: {'Wort': 'Ministerium', 'from': None, 'to': None}\n",
      "could not find in spacify: {'Wort': 'Kämpfer', 'from': 1328, 'to': 1335}\n",
      "could not find in spacify: {'Wort': 'Männer', 'from': None, 'to': None}\n",
      "could not find in spacify: {'Wort': 'Finanzminister', 'from': 2366, 'to': 2380}\n",
      "could not find in spacify: {'Wort': 'Minister', 'from': None, 'to': None}\n",
      "could not find in spacify: {'Wort': 'Er', 'from': None, 'to': None}\n",
      "could not find in spacify: {'Wort': 'Geschäftsführender Direktor', 'from': None, 'to': None}\n",
      "could not find in spacify: {'Wort': 'Bürger', 'from': 186, 'to': 192}\n",
      "could not find in spacify: {'Wort': 'der', 'from': None, 'to': None}\n",
      "could not find in spacify: {'Wort': 'das Unternehmen', 'from': None, 'to': None}\n",
      "could not find in spacify: {'Wort': 'einige', 'from': None, 'to': None}\n",
      "could not find in spacify: {'Wort': 'Tochter', 'from': 2650, 'to': 2657}\n",
      "could not find in spacify: {'Wort': 'Südkoreaner', 'from': None, 'to': None}\n",
      "could not find in spacify: {'Wort': 'die Männer', 'from': None, 'to': None}\n",
      "could not find in spacify: {'Wort': 'er', 'from': 2121, 'to': 2123}\n",
      "could not find in spacify: {'Wort': 'er', 'from': 2178, 'to': 2180}\n",
      "could not find in spacify: {'Wort': 'mehreren', 'from': None, 'to': None}\n",
      "could not find in spacify: {'Wort': 'der', 'from': 2551, 'to': 2554}\n",
      "could not find in spacify: {'Wort': 'sie', 'from': None, 'to': None}\n",
      "could not find in spacify: {'Wort': 'Männer', 'from': None, 'to': None}\n",
      "could not find in spacify: {'Wort': 'der Frauenrechtlerin', 'from': None, 'to': None}\n",
      "could not find in spacify: {'Wort': 'Generalsekretär', 'from': 379, 'to': 394}\n",
      "could not find in spacify: {'Wort': 'Chef', 'from': 565, 'to': 569}\n",
      "could not find in spacify: {'Wort': 'er', 'from': 1011, 'to': 1013}\n",
      "could not find in spacify: {'Wort': 'türkische Volksgruppe', 'from': None, 'to': None}\n",
      "could not find in spacify: {'Wort': 'Generalsekretär', 'from': 2631, 'to': 2646}\n",
      "could not find in spacify: {'Wort': 'Genesender', 'from': None, 'to': None}\n",
      "could not find in spacify: {'Wort': 'Unternehmer', 'from': 1298, 'to': 1309}\n",
      "could not find in spacify: {'Wort': 'Patienten', 'from': 1750, 'to': 1759}\n",
      "could not find in spacify: {'Wort': 'der Kreis', 'from': None, 'to': None}\n",
      "could not find in spacify: {'Wort': 'er', 'from': 801, 'to': 803}\n",
      "could not find in spacify: {'Wort': 'kein einziger Pfiff', 'from': None, 'to': None}\n",
      "could not find in spacify: {'Wort': 'er', 'from': 1470, 'to': 1472}\n",
      "could not find in spacify: {'Wort': 'ihn', 'from': None, 'to': None}\n",
      "could not find in spacify: {'Wort': 'er', 'from': 1659, 'to': 1661}\n",
      "could not find in spacify: {'Wort': 'es', 'from': 1674, 'to': 1676}\n"
     ]
    },
    {
     "name": "stderr",
     "output_type": "stream",
     "text": [
      "100%|████████████████████████████████████████| 100/100 [00:00<00:00, 270.99it/s]"
     ]
    },
    {
     "name": "stdout",
     "output_type": "stream",
     "text": [
      "could not find in spacify: {'Wort': 'er', 'from': 3329, 'to': 3331}\n",
      "could not find in spacify: {'Wort': 'er', 'from': None, 'to': None}\n",
      "could not find in spacify: {'Wort': 'man', 'from': None, 'to': None}\n",
      "could not find in spacify: {'Wort': 'er', 'from': 4252, 'to': 4254}\n",
      "could not find in spacify: {'Wort': 'er', 'from': 4362, 'to': 4364}\n",
      "could not find in spacify: {'Wort': 'er', 'from': 4877, 'to': 4879}\n",
      "could not find in spacify: {'Wort': 'er', 'from': 6195, 'to': 6197}\n",
      "could not find in spacify: {'Wort': 'jeder', 'from': None, 'to': None}\n",
      "could not find in spacify: {'Wort': 'er', 'from': 6458, 'to': 6460}\n",
      "could not find in spacify: {'Wort': 'sagen', 'from': None, 'to': None}\n",
      "could not find in spacify: {'Wort': 'er', 'from': 6681, 'to': 6683}\n",
      "could not find in spacify: {'Wort': 'Bundestagsabgeordnete', 'from': 478, 'to': 499}\n",
      "could not find in spacify: {'Wort': 'er', 'from': 538, 'to': 540}\n",
      "could not find in spacify: {'Wort': 'er', 'from': 621, 'to': 623}\n",
      "could not find in spacify: {'Wort': 'seine', 'from': None, 'to': None}\n",
      "could not find in spacify: {'Wort': 'er', 'from': 747, 'to': 749}\n",
      "could not find in spacify: {'Wort': 'jedermann', 'from': None, 'to': None}\n",
      "could not find in spacify: {'Wort': 'der', 'from': None, 'to': None}\n",
      "could not find in spacify: {'Wort': 'Der', 'from': None, 'to': None}\n",
      "could not find in spacify: {'Wort': 'Er', 'from': None, 'to': None}\n",
      "could not find in spacify: {'Wort': 'Schnipsen', 'from': None, 'to': None}\n",
      "could not find in spacify: {'Wort': 'der Zeitgenossen', 'from': None, 'to': None}\n",
      "could not find in spacify: {'Wort': 'Präsident', 'from': 2504, 'to': 2513}\n",
      "could not find in spacify: {'Wort': 'Kommissionspräsident', 'from': 2629, 'to': 2649}\n",
      "could not find in spacify: {'Wort': 'er', 'from': 2939, 'to': 2941}\n",
      "could not find in spacify: {'Wort': 'jeder', 'from': None, 'to': None}\n",
      "could not find in spacify: {'Wort': 'der', 'from': None, 'to': None}\n",
      "could not find in spacify: {'Wort': 'er', 'from': 128, 'to': 130}\n",
      "could not find in spacify: {'Wort': 'er', 'from': 1437, 'to': 1439}\n",
      "could not find in spacify: {'Wort': 'er', 'from': 1543, 'to': 1545}\n",
      "could not find in spacify: {'Wort': 'er', 'from': 1615, 'to': 1617}\n",
      "could not find in spacify: {'Wort': 'Männer', 'from': None, 'to': None}\n",
      "could not find in spacify: {'Wort': 'MIFA', 'from': None, 'to': None}\n",
      "could not find in spacify: {'Wort': 'Arbeitnehmer', 'from': 3822, 'to': 3834}\n",
      "could not find in spacify: {'Wort': 'Fordert', 'from': None, 'to': None}\n",
      "could not find in spacify: {'Wort': 'Landesvorsitzende', 'from': 236, 'to': 253}\n",
      "could not find in spacify: {'Wort': 'er', 'from': 728, 'to': 730}\n",
      "could not find in spacify: {'Wort': 'er', 'from': 1112, 'to': 1114}\n",
      "could not find in spacify: {'Wort': 'Kandidaten', 'from': None, 'to': None}\n",
      "could not find in spacify: {'Wort': 'er', 'from': 1798, 'to': 1800}\n",
      "could not find in spacify: {'Wort': 'die Politiker', 'from': None, 'to': None}\n",
      "could not find in spacify: {'Wort': 'Grüner', 'from': None, 'to': None}\n",
      "could not find in spacify: {'Wort': 'er', 'from': 3589, 'to': 3591}\n",
      "could not find in spacify: {'Wort': 'er', 'from': 3775, 'to': 3777}\n",
      "could not find in spacify: {'Wort': 'Vorständler', 'from': 4112, 'to': 4123}\n",
      "could not find in spacify: {'Wort': 'Ihr', 'from': None, 'to': None}\n",
      "could not find in spacify: {'Wort': 'ihr', 'from': None, 'to': None}\n",
      "could not find in spacify: {'Wort': 'Ministerium', 'from': None, 'to': None}\n",
      "could not find in spacify: {'Wort': 'Dozent', 'from': 1046, 'to': 1052}\n",
      "could not find in spacify: {'Wort': 'Präsident', 'from': 1328, 'to': 1337}\n",
      "could not find in spacify: {'Wort': 'er', 'from': 631, 'to': 633}\n",
      "could not find in spacify: {'Wort': 'er', 'from': 1746, 'to': 1748}\n",
      "could not find in spacify: {'Wort': \"der SPÖ nahestehende Grazer 'Neue Zeit'\", 'from': None, 'to': None}\n",
      "could not find in spacify: {'Wort': 'die Auslandsschulden', 'from': None, 'to': None}\n"
     ]
    },
    {
     "name": "stderr",
     "output_type": "stream",
     "text": [
      "\n"
     ]
    }
   ],
   "source": [
    "results = []\n",
    "for prompt in prompts:\n",
    "    counter = defaultdict(int)\n",
    "    result = smaller_df.progress_apply(\n",
    "        lambda row: compare_marked_to_pipeline( row['marked_word_information'], remove_duplicates_dict_list(row[f'llm_result_{prompt[name]}']), row['spacified_article'], counter),\n",
    "        axis=1\n",
    "        )\n",
    "    results.append((prompt[name], result))\n"
   ]
  },
  {
   "cell_type": "code",
   "execution_count": 176,
   "id": "a6a19303-16a9-48fa-86cf-24266dae9613",
   "metadata": {
    "scrolled": true
   },
   "outputs": [
    {
     "data": {
      "text/plain": [
       "defaultdict(int,\n",
       "            {'marks': 3591,\n",
       "             'correct': 2699,\n",
       "             'not_ntbg': 4222,\n",
       "             'not_ntbg_correct': 2459,\n",
       "             'nouns': 3302,\n",
       "             'nouns_not_ntbg': 2840,\n",
       "             'nouns_not_ntbg_correct': 1938,\n",
       "             'singular': 3040,\n",
       "             'not_ntbg_singular': 2986,\n",
       "             'singular_not_ntbg_correct': 1684,\n",
       "             'incorrect': 1999,\n",
       "             'ntbg': 476,\n",
       "             'ntbg_incorrect': 236,\n",
       "             'nouns_ntbg': 462,\n",
       "             'nouns_ntbg_incorrect': 224,\n",
       "             'plural': 1567,\n",
       "             'ntbg_plural': 420,\n",
       "             'plural_ntbg_incorrect': 209,\n",
       "             'not_ntbg_incorrect': 1763,\n",
       "             'nouns_not_ntbg_incorrect': 902,\n",
       "             'singular_not_ntbg_incorrect': 1302,\n",
       "             'ntbg_correct': 240,\n",
       "             'nouns_ntbg_correct': 238,\n",
       "             'plural_ntbg_correct': 211,\n",
       "             'ntbg_singular': 54,\n",
       "             'singular_ntbg_incorrect': 26,\n",
       "             'singular_ntbg_correct': 28,\n",
       "             'pronouns': 1396,\n",
       "             'pronouns_not_ntbg': 1382,\n",
       "             'pronouns_not_ntbg_correct': 521,\n",
       "             'not_ntbg_plural': 1147,\n",
       "             'plural_not_ntbg_correct': 741,\n",
       "             'pronouns_ntbg': 14,\n",
       "             'pronouns_ntbg_incorrect': 12,\n",
       "             'pronouns_not_ntbg_incorrect': 861,\n",
       "             'num_undetermined': 91,\n",
       "             'not_marked': 1107,\n",
       "             'plural_not_ntbg_incorrect': 406,\n",
       "             'pronouns_ntbg_correct': 2})"
      ]
     },
     "execution_count": 176,
     "metadata": {},
     "output_type": "execute_result"
    }
   ],
   "source": [
    "results[4][1][0]\n"
   ]
  },
  {
   "cell_type": "code",
   "execution_count": null,
   "id": "805f516d-56cc-4cc1-b364-72ee74b41305",
   "metadata": {},
   "outputs": [],
   "source": []
  }
 ],
 "metadata": {
  "kernelspec": {
   "display_name": "Python 3.10 (spacy310)",
   "language": "python",
   "name": "spacy310"
  },
  "language_info": {
   "codemirror_mode": {
    "name": "ipython",
    "version": 3
   },
   "file_extension": ".py",
   "mimetype": "text/x-python",
   "name": "python",
   "nbconvert_exporter": "python",
   "pygments_lexer": "ipython3",
   "version": "3.10.13"
  }
 },
 "nbformat": 4,
 "nbformat_minor": 5
}
