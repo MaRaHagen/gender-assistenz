{
 "cells": [
  {
   "cell_type": "markdown",
   "id": "bae7f68e-3f90-4397-9a67-4015eab7c2b0",
   "metadata": {},
   "source": [
    "# Weiterentwicklung\n",
    "In diesem Notebook werden bestehende Funktionen genutzt um die verschiedenen Weiterentwicklungsansätze zu testen, dafür werden diese in der eigentlichen Applikation eingefügt in diesem Notebook werden sie lediglich angewandt und die Zwischenergebnisse als json dateien gespeichert um eine vergleichbarkeit zu ermöglichen."
   ]
  },
  {
   "cell_type": "code",
   "execution_count": 1,
   "id": "cc64a1d1-f88d-476c-b7ea-8af7478b7f61",
   "metadata": {
    "ExecuteTime": {
     "end_time": "2025-05-22T09:25:38.304886Z",
     "start_time": "2025-05-22T09:25:34.377113Z"
    },
    "scrolled": true
   },
   "outputs": [
    {
     "data": {
      "text/plain": [
       "1"
      ]
     },
     "execution_count": 1,
     "metadata": {},
     "output_type": "execute_result"
    }
   ],
   "source": [
    "import pandas as pd\n",
    "import loguru\n",
    "from loguru import logger\n",
    "import spacy\n",
    "from collections import defaultdict\n",
    "from tqdm import tqdm\n",
    "import language_tool_python\n",
    "import os\n",
    "import json\n",
    "import sys\n",
    "\n",
    "os.environ[\"TOKENIZERS_PARALLELISM\"] = \"false\"\n",
    "\n",
    "# Enable tqdm in pandas\n",
    "tqdm.pandas()\n",
    "\n",
    "\n",
    "# Remove the default handler (which logs everything from DEBUG)\n",
    "logger.remove()\n",
    "\n",
    "# Add a new handler with a specific log level, e.g. INFO\n",
    "logger.add(lambda msg: print(msg, end=\"\"), level=\"INFO\")"
   ]
  },
  {
   "cell_type": "code",
   "execution_count": 2,
   "id": "e708c8a6-0036-4e22-964a-0f8866cdbd09",
   "metadata": {},
   "outputs": [
    {
     "name": "stderr",
     "output_type": "stream",
     "text": [
      "/opt/anaconda3/envs/spacy310/lib/python3.10/site-packages/spacy/util.py:877: UserWarning: [W095] Model 'de_dep_news_trf' (3.5.0) was trained with spaCy v3.5 and may not be 100% compatible with the current version (3.4.4). If you see errors or degraded performance, download a newer compatible model or retrain your custom model with the current spaCy version. For more details and available updates, run: python -m spacy validate\n",
      "  warnings.warn(warn_msg)\n",
      "/opt/anaconda3/envs/spacy310/lib/python3.10/site-packages/tqdm/auto.py:21: TqdmWarning: IProgress not found. Please update jupyter and ipywidgets. See https://ipywidgets.readthedocs.io/en/stable/user_install.html\n",
      "  from .autonotebook import tqdm as notebook_tqdm\n",
      "/opt/anaconda3/envs/spacy310/lib/python3.10/site-packages/spacy/util.py:877: UserWarning: [W095] Model 'de_core_news_lg' (3.5.0) was trained with spaCy v3.5 and may not be 100% compatible with the current version (3.4.4). If you see errors or degraded performance, download a newer compatible model or retrain your custom model with the current spaCy version. For more details and available updates, run: python -m spacy validate\n",
      "  warnings.warn(warn_msg)\n"
     ]
    }
   ],
   "source": [
    "sys.path.append(\"../\")\n",
    "#import helperfunctions:\n",
    "from helperfunctions import find_in_result, update_counts, compare_marked_to_pipeline\n",
    "#nach jedem manuell change muss der kernel restarted werden\n",
    "from pipeline.full_pipeline import full_pipeline\n",
    "df = pd.read_pickle('local-store/data_prepared_frame_including_spcacy_information.pkl')"
   ]
  },
  {
   "cell_type": "code",
   "execution_count": null,
   "id": "47676679-8f12-4502-a636-631b44f44a22",
   "metadata": {},
   "outputs": [],
   "source": []
  },
  {
   "cell_type": "code",
   "execution_count": 3,
   "id": "b2e9214f-9beb-4b8e-bfc5-fe78f735bbee",
   "metadata": {
    "scrolled": true
   },
   "outputs": [
    {
     "name": "stderr",
     "output_type": "stream",
     "text": [
      "  0%|                                                                                         | 0/2265 [00:00<?, ?it/s]"
     ]
    },
    {
     "name": "stdout",
     "output_type": "stream",
     "text": [
      "This is the pipeline with appositions going both ways\n"
     ]
    },
    {
     "name": "stderr",
     "output_type": "stream",
     "text": [
      "/opt/anaconda3/envs/spacy310/lib/python3.10/site-packages/thinc/shims/pytorch.py:114: FutureWarning: `torch.cuda.amp.autocast(args...)` is deprecated. Please use `torch.amp.autocast('cuda', args...)` instead.\n",
      "  with torch.cuda.amp.autocast(self._mixed_precision):\n",
      "  0%|                                                                                 | 2/2265 [00:01<36:34,  1.03it/s]"
     ]
    },
    {
     "name": "stdout",
     "output_type": "stream",
     "text": [
      "This is the pipeline with appositions going both ways\n"
     ]
    },
    {
     "name": "stderr",
     "output_type": "stream",
     "text": [
      "  0%|                                                                                 | 3/2265 [00:03<44:16,  1.17s/it]"
     ]
    },
    {
     "name": "stdout",
     "output_type": "stream",
     "text": [
      "This is the pipeline with appositions going both ways\n"
     ]
    },
    {
     "name": "stderr",
     "output_type": "stream",
     "text": [
      "  0%|▏                                                                              | 4/2265 [00:05<1:02:37,  1.66s/it]"
     ]
    },
    {
     "name": "stdout",
     "output_type": "stream",
     "text": [
      "2025-06-05 15:43:12.593 | INFO     | pipeline.correction.correction2:generate_possible_corrections:501 - Konnte Korrekturvorschlag '*' nicht erstellen: list index out of range\n",
      "2025-06-05 15:43:12.607 | INFO     | pipeline.correction.correction2:generate_possible_corrections:519 - Konnte Korrekturvorschlag 'PLURAL_*' nicht erstellen: list index out of range\n",
      "This is the pipeline with appositions going both ways\n"
     ]
    },
    {
     "name": "stderr",
     "output_type": "stream",
     "text": [
      "  0%|▏                                                                                | 5/2265 [00:06<52:20,  1.39s/it]"
     ]
    },
    {
     "name": "stdout",
     "output_type": "stream",
     "text": [
      "This is the pipeline with appositions going both ways\n"
     ]
    },
    {
     "name": "stderr",
     "output_type": "stream",
     "text": [
      "  0%|▏                                                                                | 6/2265 [00:07<48:47,  1.30s/it]"
     ]
    },
    {
     "name": "stdout",
     "output_type": "stream",
     "text": [
      "This is the pipeline with appositions going both ways\n"
     ]
    },
    {
     "name": "stderr",
     "output_type": "stream",
     "text": [
      "  0%|▎                                                                                | 7/2265 [00:08<43:39,  1.16s/it]"
     ]
    },
    {
     "name": "stdout",
     "output_type": "stream",
     "text": [
      "This is the pipeline with appositions going both ways\n"
     ]
    },
    {
     "name": "stderr",
     "output_type": "stream",
     "text": [
      "  0%|▎                                                                                | 8/2265 [00:09<42:48,  1.14s/it]"
     ]
    },
    {
     "name": "stdout",
     "output_type": "stream",
     "text": [
      "This is the pipeline with appositions going both ways\n"
     ]
    },
    {
     "name": "stderr",
     "output_type": "stream",
     "text": [
      "  0%|▎                                                                                | 9/2265 [00:11<45:48,  1.22s/it]"
     ]
    },
    {
     "name": "stdout",
     "output_type": "stream",
     "text": [
      "This is the pipeline with appositions going both ways\n"
     ]
    },
    {
     "name": "stderr",
     "output_type": "stream",
     "text": [
      "  0%|▎                                                                               | 10/2265 [00:13<55:09,  1.47s/it]"
     ]
    },
    {
     "name": "stdout",
     "output_type": "stream",
     "text": [
      "2025-06-05 15:43:19.939 | INFO     | pipeline.correction.correction2:generate_possible_corrections:352 - Konnte Korrekturvorschlag '*' nicht erstellen: list index out of range\n",
      "2025-06-05 15:43:19.946 | INFO     | pipeline.correction.correction2:generate_possible_corrections:459 - Konnte Korrekturvorschlag 'BOTH_FORMS' nicht erstellen: list index out of range\n",
      "2025-06-05 15:43:20.002 | INFO     | pipeline.correction.correction2:generate_possible_corrections:501 - Konnte Korrekturvorschlag '*' nicht erstellen: list index out of range\n",
      "2025-06-05 15:43:20.009 | INFO     | pipeline.correction.correction2:generate_possible_corrections:519 - Konnte Korrekturvorschlag 'PLURAL_*' nicht erstellen: list index out of range\n",
      "This is the pipeline with appositions going both ways\n"
     ]
    },
    {
     "name": "stderr",
     "output_type": "stream",
     "text": [
      "  0%|▍                                                                               | 11/2265 [00:14<52:48,  1.41s/it]"
     ]
    },
    {
     "name": "stdout",
     "output_type": "stream",
     "text": [
      "This is the pipeline with appositions going both ways\n"
     ]
    },
    {
     "name": "stderr",
     "output_type": "stream",
     "text": [
      "  1%|▍                                                                               | 12/2265 [00:16<59:01,  1.57s/it]"
     ]
    },
    {
     "name": "stdout",
     "output_type": "stream",
     "text": [
      "This is the pipeline with appositions going both ways\n"
     ]
    },
    {
     "name": "stderr",
     "output_type": "stream",
     "text": [
      "  1%|▍                                                                               | 13/2265 [00:17<56:33,  1.51s/it]"
     ]
    },
    {
     "name": "stdout",
     "output_type": "stream",
     "text": [
      "This is the pipeline with appositions going both ways\n"
     ]
    },
    {
     "name": "stderr",
     "output_type": "stream",
     "text": [
      "  1%|▍                                                                               | 14/2265 [00:18<48:57,  1.31s/it]"
     ]
    },
    {
     "name": "stdout",
     "output_type": "stream",
     "text": [
      "This is the pipeline with appositions going both ways\n"
     ]
    },
    {
     "name": "stderr",
     "output_type": "stream",
     "text": [
      "  1%|▌                                                                               | 15/2265 [00:19<45:02,  1.20s/it]"
     ]
    },
    {
     "name": "stdout",
     "output_type": "stream",
     "text": [
      "This is the pipeline with appositions going both ways\n"
     ]
    },
    {
     "name": "stderr",
     "output_type": "stream",
     "text": [
      "  1%|▌                                                                               | 16/2265 [00:21<53:43,  1.43s/it]"
     ]
    },
    {
     "name": "stdout",
     "output_type": "stream",
     "text": [
      "This is the pipeline with appositions going both ways\n"
     ]
    },
    {
     "name": "stderr",
     "output_type": "stream",
     "text": [
      "  1%|▌                                                                               | 17/2265 [00:21<41:10,  1.10s/it]"
     ]
    },
    {
     "name": "stdout",
     "output_type": "stream",
     "text": [
      "This is the pipeline with appositions going both ways\n",
      "This is the pipeline with appositions going both ways\n",
      "2025-06-05 15:43:28.885 | INFO     | pipeline.correction.correction2:generate_possible_corrections:501 - Konnte Korrekturvorschlag '*' nicht erstellen: list index out of range\n"
     ]
    },
    {
     "name": "stderr",
     "output_type": "stream",
     "text": [
      "  1%|▋                                                                               | 19/2265 [00:22<24:42,  1.51it/s]"
     ]
    },
    {
     "name": "stdout",
     "output_type": "stream",
     "text": [
      "2025-06-05 15:43:28.898 | INFO     | pipeline.correction.correction2:generate_possible_corrections:519 - Konnte Korrekturvorschlag 'PLURAL_*' nicht erstellen: list index out of range\n",
      "This is the pipeline with appositions going both ways\n"
     ]
    },
    {
     "name": "stderr",
     "output_type": "stream",
     "text": [
      "  1%|▋                                                                               | 20/2265 [00:22<22:45,  1.64it/s]"
     ]
    },
    {
     "name": "stdout",
     "output_type": "stream",
     "text": [
      "This is the pipeline with appositions going both ways\n"
     ]
    },
    {
     "name": "stderr",
     "output_type": "stream",
     "text": [
      "  1%|▋                                                                               | 21/2265 [00:23<20:01,  1.87it/s]"
     ]
    },
    {
     "name": "stdout",
     "output_type": "stream",
     "text": [
      "This is the pipeline with appositions going both ways\n"
     ]
    },
    {
     "name": "stderr",
     "output_type": "stream",
     "text": [
      "  1%|▊                                                                               | 22/2265 [00:23<20:38,  1.81it/s]"
     ]
    },
    {
     "name": "stdout",
     "output_type": "stream",
     "text": [
      "This is the pipeline with appositions going both ways\n"
     ]
    },
    {
     "name": "stderr",
     "output_type": "stream",
     "text": [
      "  1%|▊                                                                               | 24/2265 [00:24<15:27,  2.42it/s]"
     ]
    },
    {
     "name": "stdout",
     "output_type": "stream",
     "text": [
      "2025-06-05 15:43:30.743 | INFO     | pipeline.correction.correction2:generate_possible_corrections:501 - Konnte Korrekturvorschlag '*' nicht erstellen: list index out of range\n",
      "2025-06-05 15:43:30.755 | INFO     | pipeline.correction.correction2:generate_possible_corrections:519 - Konnte Korrekturvorschlag 'PLURAL_*' nicht erstellen: list index out of range\n",
      "This is the pipeline with appositions going both ways\n",
      "This is the pipeline with appositions going both ways\n"
     ]
    },
    {
     "name": "stderr",
     "output_type": "stream",
     "text": [
      "  1%|▉                                                                               | 25/2265 [00:26<33:31,  1.11it/s]"
     ]
    },
    {
     "name": "stdout",
     "output_type": "stream",
     "text": [
      "This is the pipeline with appositions going both ways\n"
     ]
    },
    {
     "name": "stderr",
     "output_type": "stream",
     "text": [
      "  1%|▉                                                                               | 26/2265 [00:27<34:27,  1.08it/s]"
     ]
    },
    {
     "name": "stdout",
     "output_type": "stream",
     "text": [
      "This is the pipeline with appositions going both ways\n"
     ]
    },
    {
     "name": "stderr",
     "output_type": "stream",
     "text": [
      "  1%|▉                                                                               | 27/2265 [00:28<36:31,  1.02it/s]"
     ]
    },
    {
     "name": "stdout",
     "output_type": "stream",
     "text": [
      "This is the pipeline with appositions going both ways\n"
     ]
    },
    {
     "name": "stderr",
     "output_type": "stream",
     "text": [
      "  1%|▉                                                                               | 28/2265 [00:29<37:17,  1.00s/it]"
     ]
    },
    {
     "name": "stdout",
     "output_type": "stream",
     "text": [
      "2025-06-05 15:43:35.978 | ERROR    | pipeline.full_pipeline:full_pipeline:38 - Fehler bei needs_to_be_gendered() für 'Fetisch': Es darf nur ein Element mit dieser Beziehung geben. (sind mit sb, war aber [hat, Kurilen-Inseln])\n",
      "This is the pipeline with appositions going both ways\n"
     ]
    },
    {
     "name": "stderr",
     "output_type": "stream",
     "text": [
      "  1%|█                                                                               | 29/2265 [00:30<41:06,  1.10s/it]"
     ]
    },
    {
     "name": "stdout",
     "output_type": "stream",
     "text": [
      "This is the pipeline with appositions going both ways\n"
     ]
    },
    {
     "name": "stderr",
     "output_type": "stream",
     "text": [
      "  1%|█                                                                               | 30/2265 [00:31<41:55,  1.13s/it]"
     ]
    },
    {
     "name": "stdout",
     "output_type": "stream",
     "text": [
      "This is the pipeline with appositions going both ways\n"
     ]
    },
    {
     "name": "stderr",
     "output_type": "stream",
     "text": [
      "  1%|█▏                                                                              | 32/2265 [00:32<26:21,  1.41it/s]"
     ]
    },
    {
     "name": "stdout",
     "output_type": "stream",
     "text": [
      "This is the pipeline with appositions going both ways\n",
      "This is the pipeline with appositions going both ways\n",
      "This is the pipeline with appositions going both ways\n"
     ]
    },
    {
     "name": "stderr",
     "output_type": "stream",
     "text": [
      "  2%|█▏                                                                              | 35/2265 [00:33<14:54,  2.49it/s]"
     ]
    },
    {
     "name": "stdout",
     "output_type": "stream",
     "text": [
      "This is the pipeline with appositions going both ways\n",
      "This is the pipeline with appositions going both ways\n"
     ]
    },
    {
     "name": "stderr",
     "output_type": "stream",
     "text": [
      "  2%|█▎                                                                              | 36/2265 [00:33<14:02,  2.64it/s]"
     ]
    },
    {
     "name": "stdout",
     "output_type": "stream",
     "text": [
      "This is the pipeline with appositions going both ways\n"
     ]
    },
    {
     "name": "stderr",
     "output_type": "stream",
     "text": [
      "  2%|█▎                                                                              | 38/2265 [00:34<13:12,  2.81it/s]"
     ]
    },
    {
     "name": "stdout",
     "output_type": "stream",
     "text": [
      "2025-06-05 15:43:40.868 | INFO     | pipeline.correction.correction2:generate_possible_corrections:459 - Konnte Korrekturvorschlag 'BOTH_FORMS' nicht erstellen: Es darf nur ein Element mit dieser Beziehung geben. (Arbeitgeber mit cd, war aber [und, sondern])\n",
      "This is the pipeline with appositions going both ways\n",
      "This is the pipeline with appositions going both ways\n"
     ]
    },
    {
     "name": "stderr",
     "output_type": "stream",
     "text": [
      "  2%|█▍                                                                              | 39/2265 [00:34<10:31,  3.52it/s]"
     ]
    },
    {
     "name": "stdout",
     "output_type": "stream",
     "text": [
      "This is the pipeline with appositions going both ways\n"
     ]
    },
    {
     "name": "stderr",
     "output_type": "stream",
     "text": [
      "  2%|█▍                                                                              | 40/2265 [00:34<10:50,  3.42it/s]"
     ]
    },
    {
     "name": "stdout",
     "output_type": "stream",
     "text": [
      "This is the pipeline with appositions going both ways\n"
     ]
    },
    {
     "name": "stderr",
     "output_type": "stream",
     "text": [
      "  2%|█▍                                                                              | 42/2265 [00:35<09:08,  4.05it/s]"
     ]
    },
    {
     "name": "stdout",
     "output_type": "stream",
     "text": [
      "This is the pipeline with appositions going both ways\n",
      "This is the pipeline with appositions going both ways\n"
     ]
    },
    {
     "name": "stderr",
     "output_type": "stream",
     "text": [
      "  2%|█▌                                                                              | 43/2265 [00:35<09:02,  4.09it/s]"
     ]
    },
    {
     "name": "stdout",
     "output_type": "stream",
     "text": [
      "2025-06-05 15:43:42.078 | INFO     | pipeline.correction.correction2:generate_possible_corrections:501 - Konnte Korrekturvorschlag '*' nicht erstellen: list index out of range\n",
      "2025-06-05 15:43:42.090 | INFO     | pipeline.correction.correction2:generate_possible_corrections:519 - Konnte Korrekturvorschlag 'PLURAL_*' nicht erstellen: list index out of range\n",
      "This is the pipeline with appositions going both ways\n"
     ]
    },
    {
     "name": "stderr",
     "output_type": "stream",
     "text": [
      "  2%|█▌                                                                              | 45/2265 [00:36<10:34,  3.50it/s]"
     ]
    },
    {
     "name": "stdout",
     "output_type": "stream",
     "text": [
      "This is the pipeline with appositions going both ways\n",
      "This is the pipeline with appositions going both ways\n"
     ]
    },
    {
     "name": "stderr",
     "output_type": "stream",
     "text": [
      "  2%|█▋                                                                              | 47/2265 [00:36<08:10,  4.52it/s]"
     ]
    },
    {
     "name": "stdout",
     "output_type": "stream",
     "text": [
      "This is the pipeline with appositions going both ways\n",
      "This is the pipeline with appositions going both ways\n"
     ]
    },
    {
     "name": "stderr",
     "output_type": "stream",
     "text": [
      "  2%|█▋                                                                              | 48/2265 [00:36<07:39,  4.83it/s]"
     ]
    },
    {
     "name": "stdout",
     "output_type": "stream",
     "text": [
      "This is the pipeline with appositions going both ways\n"
     ]
    },
    {
     "name": "stderr",
     "output_type": "stream",
     "text": [
      "  2%|█▋                                                                              | 49/2265 [00:36<08:22,  4.41it/s]"
     ]
    },
    {
     "name": "stdout",
     "output_type": "stream",
     "text": [
      "This is the pipeline with appositions going both ways\n"
     ]
    },
    {
     "name": "stderr",
     "output_type": "stream",
     "text": [
      "  2%|█▊                                                                              | 50/2265 [00:37<09:41,  3.81it/s]"
     ]
    },
    {
     "name": "stdout",
     "output_type": "stream",
     "text": [
      "This is the pipeline with appositions going both ways\n"
     ]
    },
    {
     "name": "stderr",
     "output_type": "stream",
     "text": [
      "  2%|█▊                                                                              | 51/2265 [00:37<13:14,  2.79it/s]"
     ]
    },
    {
     "name": "stdout",
     "output_type": "stream",
     "text": [
      "This is the pipeline with appositions going both ways\n"
     ]
    },
    {
     "name": "stderr",
     "output_type": "stream",
     "text": [
      "  2%|█▊                                                                              | 52/2265 [00:38<12:31,  2.95it/s]"
     ]
    },
    {
     "name": "stdout",
     "output_type": "stream",
     "text": [
      "This is the pipeline with appositions going both ways\n"
     ]
    },
    {
     "name": "stderr",
     "output_type": "stream",
     "text": [
      "  2%|█▊                                                                              | 53/2265 [00:38<13:41,  2.69it/s]"
     ]
    },
    {
     "name": "stdout",
     "output_type": "stream",
     "text": [
      "This is the pipeline with appositions going both ways\n"
     ]
    },
    {
     "name": "stderr",
     "output_type": "stream",
     "text": [
      "  2%|█▉                                                                              | 54/2265 [00:39<15:30,  2.38it/s]"
     ]
    },
    {
     "name": "stdout",
     "output_type": "stream",
     "text": [
      "This is the pipeline with appositions going both ways\n",
      "This is the pipeline with appositions going both ways\n"
     ]
    },
    {
     "name": "stderr",
     "output_type": "stream",
     "text": [
      "  2%|█▉                                                                              | 56/2265 [00:39<11:06,  3.31it/s]"
     ]
    },
    {
     "name": "stdout",
     "output_type": "stream",
     "text": [
      "This is the pipeline with appositions going both ways\n"
     ]
    },
    {
     "name": "stderr",
     "output_type": "stream",
     "text": [
      "  3%|██                                                                              | 57/2265 [00:39<10:24,  3.54it/s]"
     ]
    },
    {
     "name": "stdout",
     "output_type": "stream",
     "text": [
      "This is the pipeline with appositions going both ways\n"
     ]
    },
    {
     "name": "stderr",
     "output_type": "stream",
     "text": [
      "  3%|██                                                                              | 58/2265 [00:39<10:42,  3.44it/s]"
     ]
    },
    {
     "name": "stdout",
     "output_type": "stream",
     "text": [
      "This is the pipeline with appositions going both ways\n"
     ]
    },
    {
     "name": "stderr",
     "output_type": "stream",
     "text": [
      "  3%|██                                                                              | 59/2265 [00:40<10:18,  3.56it/s]"
     ]
    },
    {
     "name": "stdout",
     "output_type": "stream",
     "text": [
      "This is the pipeline with appositions going both ways\n"
     ]
    },
    {
     "name": "stderr",
     "output_type": "stream",
     "text": [
      "  3%|██                                                                              | 60/2265 [00:40<09:45,  3.77it/s]"
     ]
    },
    {
     "name": "stdout",
     "output_type": "stream",
     "text": [
      "This is the pipeline with appositions going both ways\n"
     ]
    },
    {
     "name": "stderr",
     "output_type": "stream",
     "text": [
      "  3%|██▏                                                                             | 61/2265 [00:40<11:56,  3.08it/s]"
     ]
    },
    {
     "name": "stdout",
     "output_type": "stream",
     "text": [
      "This is the pipeline with appositions going both ways\n"
     ]
    },
    {
     "name": "stderr",
     "output_type": "stream",
     "text": [
      "  3%|██▏                                                                             | 62/2265 [00:41<11:25,  3.21it/s]"
     ]
    },
    {
     "name": "stdout",
     "output_type": "stream",
     "text": [
      "This is the pipeline with appositions going both ways\n"
     ]
    },
    {
     "name": "stderr",
     "output_type": "stream",
     "text": [
      "  3%|██▏                                                                             | 63/2265 [00:41<10:37,  3.45it/s]"
     ]
    },
    {
     "name": "stdout",
     "output_type": "stream",
     "text": [
      "This is the pipeline with appositions going both ways\n"
     ]
    },
    {
     "name": "stderr",
     "output_type": "stream",
     "text": [
      "  3%|██▎                                                                             | 64/2265 [00:41<12:33,  2.92it/s]"
     ]
    },
    {
     "name": "stdout",
     "output_type": "stream",
     "text": [
      "This is the pipeline with appositions going both ways\n"
     ]
    },
    {
     "name": "stderr",
     "output_type": "stream",
     "text": [
      "  3%|██▎                                                                             | 65/2265 [00:42<12:31,  2.93it/s]"
     ]
    },
    {
     "name": "stdout",
     "output_type": "stream",
     "text": [
      "This is the pipeline with appositions going both ways\n"
     ]
    },
    {
     "name": "stderr",
     "output_type": "stream",
     "text": [
      "  3%|██▎                                                                             | 66/2265 [00:42<16:00,  2.29it/s]"
     ]
    },
    {
     "name": "stdout",
     "output_type": "stream",
     "text": [
      "This is the pipeline with appositions going both ways\n"
     ]
    },
    {
     "name": "stderr",
     "output_type": "stream",
     "text": [
      "  3%|██▎                                                                             | 67/2265 [00:43<15:29,  2.37it/s]"
     ]
    },
    {
     "name": "stdout",
     "output_type": "stream",
     "text": [
      "This is the pipeline with appositions going both ways\n"
     ]
    },
    {
     "name": "stderr",
     "output_type": "stream",
     "text": [
      "  3%|██▍                                                                             | 68/2265 [00:43<13:38,  2.69it/s]"
     ]
    },
    {
     "name": "stdout",
     "output_type": "stream",
     "text": [
      "This is the pipeline with appositions going both ways\n"
     ]
    },
    {
     "name": "stderr",
     "output_type": "stream",
     "text": [
      "  3%|██▍                                                                             | 70/2265 [00:43<10:48,  3.38it/s]"
     ]
    },
    {
     "name": "stdout",
     "output_type": "stream",
     "text": [
      "This is the pipeline with appositions going both ways\n",
      "This is the pipeline with appositions going both ways\n"
     ]
    },
    {
     "name": "stderr",
     "output_type": "stream",
     "text": [
      "  3%|██▌                                                                             | 72/2265 [00:44<09:14,  3.96it/s]"
     ]
    },
    {
     "name": "stdout",
     "output_type": "stream",
     "text": [
      "This is the pipeline with appositions going both ways\n",
      "2025-06-05 15:43:51.100 | INFO     | pipeline.correction.correction2:generate_possible_corrections:352 - Konnte Korrekturvorschlag '*' nicht erstellen: list index out of range\n",
      "2025-06-05 15:43:51.112 | INFO     | pipeline.correction.correction2:generate_possible_corrections:459 - Konnte Korrekturvorschlag 'BOTH_FORMS' nicht erstellen: list index out of range\n",
      "2025-06-05 15:43:51.147 | INFO     | pipeline.correction.correction2:generate_possible_corrections:352 - Konnte Korrekturvorschlag '*' nicht erstellen: list index out of range\n",
      "2025-06-05 15:43:51.159 | INFO     | pipeline.correction.correction2:generate_possible_corrections:459 - Konnte Korrekturvorschlag 'BOTH_FORMS' nicht erstellen: list index out of range\n",
      "This is the pipeline with appositions going both ways\n"
     ]
    },
    {
     "name": "stderr",
     "output_type": "stream",
     "text": [
      "  3%|██▌                                                                             | 74/2265 [00:44<08:39,  4.21it/s]"
     ]
    },
    {
     "name": "stdout",
     "output_type": "stream",
     "text": [
      "This is the pipeline with appositions going both ways\n",
      "2025-06-05 15:43:51.583 | INFO     | pipeline.correction.correction2:generate_possible_corrections:501 - Konnte Korrekturvorschlag '*' nicht erstellen: list index out of range\n",
      "2025-06-05 15:43:51.584 | INFO     | pipeline.correction.correction2:generate_possible_corrections:519 - Konnte Korrekturvorschlag 'PLURAL_*' nicht erstellen: list index out of range\n",
      "This is the pipeline with appositions going both ways\n"
     ]
    },
    {
     "name": "stderr",
     "output_type": "stream",
     "text": [
      "  3%|██▋                                                                             | 75/2265 [00:45<10:13,  3.57it/s]"
     ]
    },
    {
     "name": "stdout",
     "output_type": "stream",
     "text": [
      "This is the pipeline with appositions going both ways\n"
     ]
    },
    {
     "name": "stderr",
     "output_type": "stream",
     "text": [
      "  3%|██▋                                                                             | 76/2265 [00:45<13:05,  2.79it/s]"
     ]
    },
    {
     "name": "stdout",
     "output_type": "stream",
     "text": [
      "This is the pipeline with appositions going both ways\n"
     ]
    },
    {
     "name": "stderr",
     "output_type": "stream",
     "text": [
      "  3%|██▋                                                                             | 77/2265 [00:46<14:26,  2.52it/s]"
     ]
    },
    {
     "name": "stdout",
     "output_type": "stream",
     "text": [
      "This is the pipeline with appositions going both ways\n"
     ]
    },
    {
     "name": "stderr",
     "output_type": "stream",
     "text": [
      "  3%|██▊                                                                             | 79/2265 [00:46<13:13,  2.76it/s]"
     ]
    },
    {
     "name": "stdout",
     "output_type": "stream",
     "text": [
      "This is the pipeline with appositions going both ways\n",
      "This is the pipeline with appositions going both ways\n"
     ]
    },
    {
     "name": "stderr",
     "output_type": "stream",
     "text": [
      "  4%|██▊                                                                             | 80/2265 [00:47<16:43,  2.18it/s]"
     ]
    },
    {
     "name": "stdout",
     "output_type": "stream",
     "text": [
      "This is the pipeline with appositions going both ways\n"
     ]
    },
    {
     "name": "stderr",
     "output_type": "stream",
     "text": [
      "  4%|██▊                                                                             | 81/2265 [00:48<19:28,  1.87it/s]"
     ]
    },
    {
     "name": "stdout",
     "output_type": "stream",
     "text": [
      "This is the pipeline with appositions going both ways\n",
      "2025-06-05 15:43:55.837 | ERROR    | pipeline.full_pipeline:full_pipeline:38 - Fehler bei needs_to_be_gendered() für 'Bekannter': Es darf nur ein Element mit dieser Beziehung geben. (ist mit sb, war aber [Premier, Ministerpräsident])\n"
     ]
    },
    {
     "name": "stderr",
     "output_type": "stream",
     "text": [
      "  4%|██▉                                                                             | 83/2265 [00:49<19:19,  1.88it/s]"
     ]
    },
    {
     "name": "stdout",
     "output_type": "stream",
     "text": [
      "This is the pipeline with appositions going both ways\n",
      "This is the pipeline with appositions going both ways\n"
     ]
    },
    {
     "name": "stderr",
     "output_type": "stream",
     "text": [
      "  4%|███                                                                             | 86/2265 [00:49<09:12,  3.94it/s]"
     ]
    },
    {
     "name": "stdout",
     "output_type": "stream",
     "text": [
      "This is the pipeline with appositions going both ways\n",
      "This is the pipeline with appositions going both ways\n",
      "This is the pipeline with appositions going both ways\n"
     ]
    },
    {
     "name": "stderr",
     "output_type": "stream",
     "text": [
      "  4%|███                                                                             | 87/2265 [00:50<16:26,  2.21it/s]"
     ]
    },
    {
     "name": "stdout",
     "output_type": "stream",
     "text": [
      "This is the pipeline with appositions going both ways\n"
     ]
    },
    {
     "name": "stderr",
     "output_type": "stream",
     "text": [
      "  4%|███                                                                             | 88/2265 [00:52<23:28,  1.55it/s]"
     ]
    },
    {
     "name": "stdout",
     "output_type": "stream",
     "text": [
      "This is the pipeline with appositions going both ways\n"
     ]
    },
    {
     "name": "stderr",
     "output_type": "stream",
     "text": [
      "  4%|███▏                                                                            | 89/2265 [00:52<25:01,  1.45it/s]"
     ]
    },
    {
     "name": "stdout",
     "output_type": "stream",
     "text": [
      "This is the pipeline with appositions going both ways\n"
     ]
    },
    {
     "name": "stderr",
     "output_type": "stream",
     "text": [
      "  4%|███▏                                                                            | 90/2265 [00:55<41:06,  1.13s/it]"
     ]
    },
    {
     "name": "stdout",
     "output_type": "stream",
     "text": [
      "This is the pipeline with appositions going both ways\n"
     ]
    },
    {
     "name": "stderr",
     "output_type": "stream",
     "text": [
      "  4%|███▏                                                                            | 91/2265 [00:55<36:09,  1.00it/s]"
     ]
    },
    {
     "name": "stdout",
     "output_type": "stream",
     "text": [
      "This is the pipeline with appositions going both ways\n"
     ]
    },
    {
     "name": "stderr",
     "output_type": "stream",
     "text": [
      "  4%|███▏                                                                            | 92/2265 [00:56<29:28,  1.23it/s]"
     ]
    },
    {
     "name": "stdout",
     "output_type": "stream",
     "text": [
      "This is the pipeline with appositions going both ways\n",
      "2025-06-05 15:44:03.575 | INFO     | pipeline.correction.correction2:generate_possible_corrections:459 - Konnte Korrekturvorschlag 'BOTH_FORMS' nicht erstellen: Es darf nur ein Element mit dieser Beziehung geben. (Regierungschefs mit cd, war aber [und, und])\n"
     ]
    },
    {
     "name": "stderr",
     "output_type": "stream",
     "text": [
      "  4%|███▎                                                                            | 93/2265 [00:57<30:04,  1.20it/s]"
     ]
    },
    {
     "name": "stdout",
     "output_type": "stream",
     "text": [
      "This is the pipeline with appositions going both ways\n",
      "This is the pipeline with appositions going both ways\n"
     ]
    },
    {
     "name": "stderr",
     "output_type": "stream",
     "text": [
      "  4%|███▎                                                                            | 95/2265 [00:58<28:07,  1.29it/s]"
     ]
    },
    {
     "name": "stdout",
     "output_type": "stream",
     "text": [
      "This is the pipeline with appositions going both ways\n"
     ]
    },
    {
     "name": "stderr",
     "output_type": "stream",
     "text": [
      "  4%|███▍                                                                            | 96/2265 [00:59<32:06,  1.13it/s]"
     ]
    },
    {
     "name": "stdout",
     "output_type": "stream",
     "text": [
      "This is the pipeline with appositions going both ways\n"
     ]
    },
    {
     "name": "stderr",
     "output_type": "stream",
     "text": [
      "  4%|███▍                                                                            | 97/2265 [01:00<27:55,  1.29it/s]"
     ]
    },
    {
     "name": "stdout",
     "output_type": "stream",
     "text": [
      "This is the pipeline with appositions going both ways\n"
     ]
    },
    {
     "name": "stderr",
     "output_type": "stream",
     "text": [
      "  4%|███▍                                                                            | 98/2265 [01:00<23:57,  1.51it/s]"
     ]
    },
    {
     "name": "stdout",
     "output_type": "stream",
     "text": [
      "This is the pipeline with appositions going both ways\n"
     ]
    },
    {
     "name": "stderr",
     "output_type": "stream",
     "text": [
      "  4%|███▍                                                                            | 99/2265 [01:01<22:37,  1.60it/s]"
     ]
    },
    {
     "name": "stdout",
     "output_type": "stream",
     "text": [
      "This is the pipeline with appositions going both ways\n"
     ]
    },
    {
     "name": "stderr",
     "output_type": "stream",
     "text": [
      "  4%|███▍                                                                           | 100/2265 [01:02<27:19,  1.32it/s]"
     ]
    },
    {
     "name": "stdout",
     "output_type": "stream",
     "text": [
      "2025-06-05 15:44:08.869 | INFO     | pipeline.correction.correction2:generate_possible_corrections:501 - Konnte Korrekturvorschlag '*' nicht erstellen: object of type 'NoneType' has no len()\n",
      "2025-06-05 15:44:08.871 | INFO     | pipeline.correction.correction2:generate_possible_corrections:519 - Konnte Korrekturvorschlag 'PLURAL_*' nicht erstellen: object of type 'NoneType' has no len()\n",
      "This is the pipeline with appositions going both ways\n"
     ]
    },
    {
     "name": "stderr",
     "output_type": "stream",
     "text": [
      "  4%|███▌                                                                           | 101/2265 [01:02<23:52,  1.51it/s]"
     ]
    },
    {
     "name": "stdout",
     "output_type": "stream",
     "text": [
      "This is the pipeline with appositions going both ways\n"
     ]
    },
    {
     "name": "stderr",
     "output_type": "stream",
     "text": [
      "  5%|███▌                                                                           | 103/2265 [01:03<16:26,  2.19it/s]"
     ]
    },
    {
     "name": "stdout",
     "output_type": "stream",
     "text": [
      "This is the pipeline with appositions going both ways\n",
      "This is the pipeline with appositions going both ways\n"
     ]
    },
    {
     "name": "stderr",
     "output_type": "stream",
     "text": [
      "  5%|███▋                                                                           | 104/2265 [01:06<43:00,  1.19s/it]"
     ]
    },
    {
     "name": "stdout",
     "output_type": "stream",
     "text": [
      "This is the pipeline with appositions going both ways\n"
     ]
    },
    {
     "name": "stderr",
     "output_type": "stream",
     "text": [
      "  5%|███▋                                                                           | 105/2265 [01:06<33:04,  1.09it/s]"
     ]
    },
    {
     "name": "stdout",
     "output_type": "stream",
     "text": [
      "This is the pipeline with appositions going both ways\n"
     ]
    },
    {
     "name": "stderr",
     "output_type": "stream",
     "text": [
      "  5%|███▋                                                                           | 106/2265 [01:06<25:55,  1.39it/s]"
     ]
    },
    {
     "name": "stdout",
     "output_type": "stream",
     "text": [
      "This is the pipeline with appositions going both ways\n"
     ]
    },
    {
     "name": "stderr",
     "output_type": "stream",
     "text": [
      "  5%|███▋                                                                           | 107/2265 [01:06<21:08,  1.70it/s]"
     ]
    },
    {
     "name": "stdout",
     "output_type": "stream",
     "text": [
      "2025-06-05 15:44:13.666 | INFO     | pipeline.correction.correction2:generate_possible_corrections:501 - Konnte Korrekturvorschlag '*' nicht erstellen: list index out of range\n",
      "2025-06-05 15:44:13.678 | INFO     | pipeline.correction.correction2:generate_possible_corrections:519 - Konnte Korrekturvorschlag 'PLURAL_*' nicht erstellen: list index out of range\n",
      "This is the pipeline with appositions going both ways\n"
     ]
    },
    {
     "name": "stderr",
     "output_type": "stream",
     "text": [
      "  5%|███▊                                                                           | 108/2265 [01:07<19:52,  1.81it/s]"
     ]
    },
    {
     "name": "stdout",
     "output_type": "stream",
     "text": [
      "This is the pipeline with appositions going both ways\n",
      "2025-06-05 15:44:14.352 | INFO     | pipeline.correction.correction2:generate_possible_corrections:501 - Konnte Korrekturvorschlag '*' nicht erstellen: list index out of range\n"
     ]
    },
    {
     "name": "stderr",
     "output_type": "stream",
     "text": [
      "  5%|███▊                                                                           | 109/2265 [01:07<17:53,  2.01it/s]"
     ]
    },
    {
     "name": "stdout",
     "output_type": "stream",
     "text": [
      "2025-06-05 15:44:14.363 | INFO     | pipeline.correction.correction2:generate_possible_corrections:519 - Konnte Korrekturvorschlag 'PLURAL_*' nicht erstellen: list index out of range\n",
      "2025-06-05 15:44:14.394 | INFO     | pipeline.correction.correction2:generate_possible_corrections:501 - Konnte Korrekturvorschlag '*' nicht erstellen: list index out of range\n",
      "2025-06-05 15:44:14.406 | INFO     | pipeline.correction.correction2:generate_possible_corrections:519 - Konnte Korrekturvorschlag 'PLURAL_*' nicht erstellen: list index out of range\n",
      "This is the pipeline with appositions going both ways\n"
     ]
    },
    {
     "name": "stderr",
     "output_type": "stream",
     "text": [
      "  5%|███▊                                                                           | 111/2265 [01:08<15:37,  2.30it/s]"
     ]
    },
    {
     "name": "stdout",
     "output_type": "stream",
     "text": [
      "This is the pipeline with appositions going both ways\n",
      "This is the pipeline with appositions going both ways\n"
     ]
    },
    {
     "name": "stderr",
     "output_type": "stream",
     "text": [
      "  5%|███▉                                                                           | 112/2265 [01:08<13:55,  2.58it/s]"
     ]
    },
    {
     "name": "stdout",
     "output_type": "stream",
     "text": [
      "This is the pipeline with appositions going both ways\n"
     ]
    },
    {
     "name": "stderr",
     "output_type": "stream",
     "text": [
      "  5%|███▉                                                                           | 114/2265 [01:09<12:29,  2.87it/s]"
     ]
    },
    {
     "name": "stdout",
     "output_type": "stream",
     "text": [
      "This is the pipeline with appositions going both ways\n",
      "This is the pipeline with appositions going both ways\n"
     ]
    },
    {
     "name": "stderr",
     "output_type": "stream",
     "text": [
      "  5%|████                                                                           | 115/2265 [01:09<11:13,  3.19it/s]"
     ]
    },
    {
     "name": "stdout",
     "output_type": "stream",
     "text": [
      "This is the pipeline with appositions going both ways\n"
     ]
    },
    {
     "name": "stderr",
     "output_type": "stream",
     "text": [
      "  5%|████                                                                           | 116/2265 [01:10<10:41,  3.35it/s]"
     ]
    },
    {
     "name": "stdout",
     "output_type": "stream",
     "text": [
      "This is the pipeline with appositions going both ways\n"
     ]
    },
    {
     "name": "stderr",
     "output_type": "stream",
     "text": [
      "  5%|████                                                                           | 117/2265 [01:10<11:31,  3.11it/s]"
     ]
    },
    {
     "name": "stdout",
     "output_type": "stream",
     "text": [
      "This is the pipeline with appositions going both ways\n",
      "This is the pipeline with appositions going both ways\n"
     ]
    },
    {
     "name": "stderr",
     "output_type": "stream",
     "text": [
      "  5%|████▏                                                                          | 120/2265 [01:11<09:31,  3.76it/s]"
     ]
    },
    {
     "name": "stdout",
     "output_type": "stream",
     "text": [
      "This is the pipeline with appositions going both ways\n",
      "This is the pipeline with appositions going both ways\n"
     ]
    },
    {
     "name": "stderr",
     "output_type": "stream",
     "text": [
      "  5%|████▏                                                                          | 121/2265 [01:11<11:38,  3.07it/s]"
     ]
    },
    {
     "name": "stdout",
     "output_type": "stream",
     "text": [
      "This is the pipeline with appositions going both ways\n",
      "This is the pipeline with appositions going both ways\n"
     ]
    },
    {
     "name": "stderr",
     "output_type": "stream",
     "text": [
      "  5%|████▎                                                                          | 123/2265 [01:11<08:19,  4.29it/s]"
     ]
    },
    {
     "name": "stdout",
     "output_type": "stream",
     "text": [
      "This is the pipeline with appositions going both ways\n"
     ]
    },
    {
     "name": "stderr",
     "output_type": "stream",
     "text": [
      "  6%|████▎                                                                          | 125/2265 [01:12<08:08,  4.38it/s]"
     ]
    },
    {
     "name": "stdout",
     "output_type": "stream",
     "text": [
      "This is the pipeline with appositions going both ways\n",
      "This is the pipeline with appositions going both ways\n"
     ]
    },
    {
     "name": "stderr",
     "output_type": "stream",
     "text": [
      "  6%|████▍                                                                          | 126/2265 [01:12<08:16,  4.31it/s]"
     ]
    },
    {
     "name": "stdout",
     "output_type": "stream",
     "text": [
      "This is the pipeline with appositions going both ways\n"
     ]
    },
    {
     "name": "stderr",
     "output_type": "stream",
     "text": [
      "  6%|████▍                                                                          | 127/2265 [01:12<08:51,  4.02it/s]"
     ]
    },
    {
     "name": "stdout",
     "output_type": "stream",
     "text": [
      "This is the pipeline with appositions going both ways\n"
     ]
    },
    {
     "name": "stderr",
     "output_type": "stream",
     "text": [
      "  6%|████▍                                                                          | 129/2265 [01:13<07:59,  4.45it/s]"
     ]
    },
    {
     "name": "stdout",
     "output_type": "stream",
     "text": [
      "This is the pipeline with appositions going both ways\n",
      "This is the pipeline with appositions going both ways\n"
     ]
    },
    {
     "name": "stderr",
     "output_type": "stream",
     "text": [
      "  6%|████▌                                                                          | 130/2265 [01:13<08:02,  4.43it/s]"
     ]
    },
    {
     "name": "stdout",
     "output_type": "stream",
     "text": [
      "This is the pipeline with appositions going both ways\n"
     ]
    },
    {
     "name": "stderr",
     "output_type": "stream",
     "text": [
      "  6%|████▌                                                                          | 131/2265 [01:14<13:23,  2.66it/s]"
     ]
    },
    {
     "name": "stdout",
     "output_type": "stream",
     "text": [
      "This is the pipeline with appositions going both ways\n"
     ]
    },
    {
     "name": "stderr",
     "output_type": "stream",
     "text": [
      "  6%|████▌                                                                          | 132/2265 [01:14<13:35,  2.62it/s]"
     ]
    },
    {
     "name": "stdout",
     "output_type": "stream",
     "text": [
      "2025-06-05 15:44:21.307 | INFO     | pipeline.correction.correction2:generate_possible_corrections:501 - Konnte Korrekturvorschlag '*' nicht erstellen: list index out of range\n",
      "2025-06-05 15:44:21.319 | INFO     | pipeline.correction.correction2:generate_possible_corrections:519 - Konnte Korrekturvorschlag 'PLURAL_*' nicht erstellen: list index out of range\n",
      "2025-06-05 15:44:21.337 | INFO     | pipeline.correction.correction2:generate_possible_corrections:501 - Konnte Korrekturvorschlag '*' nicht erstellen: list index out of range\n",
      "2025-06-05 15:44:21.348 | INFO     | pipeline.correction.correction2:generate_possible_corrections:519 - Konnte Korrekturvorschlag 'PLURAL_*' nicht erstellen: list index out of range\n",
      "This is the pipeline with appositions going both ways\n"
     ]
    },
    {
     "name": "stderr",
     "output_type": "stream",
     "text": [
      "  6%|████▋                                                                          | 133/2265 [01:14<12:28,  2.85it/s]"
     ]
    },
    {
     "name": "stdout",
     "output_type": "stream",
     "text": [
      "This is the pipeline with appositions going both ways\n"
     ]
    },
    {
     "name": "stderr",
     "output_type": "stream",
     "text": [
      "  6%|████▋                                                                          | 134/2265 [01:15<10:57,  3.24it/s]"
     ]
    },
    {
     "name": "stdout",
     "output_type": "stream",
     "text": [
      "This is the pipeline with appositions going both ways\n"
     ]
    },
    {
     "name": "stderr",
     "output_type": "stream",
     "text": [
      "  6%|████▋                                                                          | 135/2265 [01:15<09:58,  3.56it/s]"
     ]
    },
    {
     "name": "stdout",
     "output_type": "stream",
     "text": [
      "This is the pipeline with appositions going both ways\n"
     ]
    },
    {
     "name": "stderr",
     "output_type": "stream",
     "text": [
      "  6%|████▊                                                                          | 137/2265 [01:15<08:27,  4.19it/s]"
     ]
    },
    {
     "name": "stdout",
     "output_type": "stream",
     "text": [
      "This is the pipeline with appositions going both ways\n",
      "This is the pipeline with appositions going both ways\n"
     ]
    },
    {
     "name": "stderr",
     "output_type": "stream",
     "text": [
      "  6%|████▊                                                                          | 138/2265 [01:16<10:32,  3.36it/s]"
     ]
    },
    {
     "name": "stdout",
     "output_type": "stream",
     "text": [
      "This is the pipeline with appositions going both ways\n"
     ]
    },
    {
     "name": "stderr",
     "output_type": "stream",
     "text": [
      "  6%|████▉                                                                          | 141/2265 [01:16<06:22,  5.55it/s]"
     ]
    },
    {
     "name": "stdout",
     "output_type": "stream",
     "text": [
      "This is the pipeline with appositions going both ways\n",
      "This is the pipeline with appositions going both ways\n",
      "This is the pipeline with appositions going both ways\n"
     ]
    },
    {
     "name": "stderr",
     "output_type": "stream",
     "text": [
      "  6%|█████                                                                          | 144/2265 [01:17<06:29,  5.45it/s]"
     ]
    },
    {
     "name": "stdout",
     "output_type": "stream",
     "text": [
      "This is the pipeline with appositions going both ways\n",
      "This is the pipeline with appositions going both ways\n",
      "This is the pipeline with appositions going both ways\n"
     ]
    },
    {
     "name": "stderr",
     "output_type": "stream",
     "text": [
      "  6%|█████                                                                          | 146/2265 [01:17<06:16,  5.63it/s]"
     ]
    },
    {
     "name": "stdout",
     "output_type": "stream",
     "text": [
      "This is the pipeline with appositions going both ways\n",
      "This is the pipeline with appositions going both ways\n"
     ]
    },
    {
     "name": "stderr",
     "output_type": "stream",
     "text": [
      "  7%|█████▏                                                                         | 149/2265 [01:17<04:36,  7.64it/s]"
     ]
    },
    {
     "name": "stdout",
     "output_type": "stream",
     "text": [
      "This is the pipeline with appositions going both ways\n",
      "This is the pipeline with appositions going both ways\n",
      "This is the pipeline with appositions going both ways\n"
     ]
    },
    {
     "name": "stderr",
     "output_type": "stream",
     "text": [
      "  7%|█████▏                                                                         | 150/2265 [01:18<09:03,  3.89it/s]"
     ]
    },
    {
     "name": "stdout",
     "output_type": "stream",
     "text": [
      "This is the pipeline with appositions going both ways\n"
     ]
    },
    {
     "name": "stderr",
     "output_type": "stream",
     "text": [
      "  7%|█████▎                                                                         | 151/2265 [01:19<11:18,  3.12it/s]"
     ]
    },
    {
     "name": "stdout",
     "output_type": "stream",
     "text": [
      "This is the pipeline with appositions going both ways\n"
     ]
    },
    {
     "name": "stderr",
     "output_type": "stream",
     "text": [
      "  7%|█████▎                                                                         | 152/2265 [01:19<15:34,  2.26it/s]"
     ]
    },
    {
     "name": "stdout",
     "output_type": "stream",
     "text": [
      "This is the pipeline with appositions going both ways\n"
     ]
    },
    {
     "name": "stderr",
     "output_type": "stream",
     "text": [
      "  7%|█████▎                                                                         | 153/2265 [01:20<15:17,  2.30it/s]"
     ]
    },
    {
     "name": "stdout",
     "output_type": "stream",
     "text": [
      "This is the pipeline with appositions going both ways\n"
     ]
    },
    {
     "name": "stderr",
     "output_type": "stream",
     "text": [
      "  7%|█████▍                                                                         | 155/2265 [01:20<12:44,  2.76it/s]"
     ]
    },
    {
     "name": "stdout",
     "output_type": "stream",
     "text": [
      "This is the pipeline with appositions going both ways\n",
      "This is the pipeline with appositions going both ways\n"
     ]
    },
    {
     "name": "stderr",
     "output_type": "stream",
     "text": [
      "  7%|█████▍                                                                         | 156/2265 [01:21<11:20,  3.10it/s]"
     ]
    },
    {
     "name": "stdout",
     "output_type": "stream",
     "text": [
      "This is the pipeline with appositions going both ways\n",
      "This is the pipeline with appositions going both ways\n"
     ]
    },
    {
     "name": "stderr",
     "output_type": "stream",
     "text": [
      "  7%|█████▌                                                                         | 158/2265 [01:24<34:52,  1.01it/s]"
     ]
    },
    {
     "name": "stdout",
     "output_type": "stream",
     "text": [
      "This is the pipeline with appositions going both ways\n"
     ]
    },
    {
     "name": "stderr",
     "output_type": "stream",
     "text": [
      "  7%|█████▌                                                                         | 159/2265 [01:25<30:38,  1.15it/s]"
     ]
    },
    {
     "name": "stdout",
     "output_type": "stream",
     "text": [
      "This is the pipeline with appositions going both ways\n"
     ]
    },
    {
     "name": "stderr",
     "output_type": "stream",
     "text": [
      "  7%|█████▌                                                                         | 160/2265 [01:25<25:25,  1.38it/s]"
     ]
    },
    {
     "name": "stdout",
     "output_type": "stream",
     "text": [
      "This is the pipeline with appositions going both ways\n",
      "2025-06-05 15:44:32.590 | INFO     | pipeline.correction.correction2:generate_possible_corrections:501 - Konnte Korrekturvorschlag '*' nicht erstellen: list index out of range\n",
      "2025-06-05 15:44:32.602 | INFO     | pipeline.correction.correction2:generate_possible_corrections:519 - Konnte Korrekturvorschlag 'PLURAL_*' nicht erstellen: list index out of range\n",
      "2025-06-05 15:44:32.642 | INFO     | pipeline.correction.correction2:generate_possible_corrections:501 - Konnte Korrekturvorschlag '*' nicht erstellen: list index out of range\n",
      "2025-06-05 15:44:32.653 | INFO     | pipeline.correction.correction2:generate_possible_corrections:519 - Konnte Korrekturvorschlag 'PLURAL_*' nicht erstellen: list index out of range\n",
      "2025-06-05 15:44:32.753 | INFO     | pipeline.correction.correction2:generate_possible_corrections:501 - Konnte Korrekturvorschlag '*' nicht erstellen: list index out of range\n",
      "2025-06-05 15:44:32.765 | INFO     | pipeline.correction.correction2:generate_possible_corrections:519 - Konnte Korrekturvorschlag 'PLURAL_*' nicht erstellen: list index out of range\n"
     ]
    },
    {
     "name": "stderr",
     "output_type": "stream",
     "text": [
      "  7%|█████▌                                                                         | 161/2265 [01:26<23:50,  1.47it/s]"
     ]
    },
    {
     "name": "stdout",
     "output_type": "stream",
     "text": [
      "This is the pipeline with appositions going both ways\n"
     ]
    },
    {
     "name": "stderr",
     "output_type": "stream",
     "text": [
      "  7%|█████▋                                                                         | 162/2265 [01:26<21:03,  1.66it/s]"
     ]
    },
    {
     "name": "stdout",
     "output_type": "stream",
     "text": [
      "This is the pipeline with appositions going both ways\n"
     ]
    },
    {
     "name": "stderr",
     "output_type": "stream",
     "text": [
      "  7%|█████▋                                                                         | 163/2265 [01:27<23:11,  1.51it/s]"
     ]
    },
    {
     "name": "stdout",
     "output_type": "stream",
     "text": [
      "This is the pipeline with appositions going both ways\n"
     ]
    },
    {
     "name": "stderr",
     "output_type": "stream",
     "text": [
      "  7%|█████▋                                                                         | 164/2265 [01:27<23:23,  1.50it/s]"
     ]
    },
    {
     "name": "stdout",
     "output_type": "stream",
     "text": [
      "This is the pipeline with appositions going both ways\n"
     ]
    },
    {
     "name": "stderr",
     "output_type": "stream",
     "text": [
      "  7%|█████▊                                                                         | 165/2265 [01:28<20:17,  1.72it/s]"
     ]
    },
    {
     "name": "stdout",
     "output_type": "stream",
     "text": [
      "This is the pipeline with appositions going both ways\n"
     ]
    },
    {
     "name": "stderr",
     "output_type": "stream",
     "text": [
      "  7%|█████▊                                                                         | 166/2265 [01:29<27:48,  1.26it/s]"
     ]
    },
    {
     "name": "stdout",
     "output_type": "stream",
     "text": [
      "This is the pipeline with appositions going both ways\n"
     ]
    },
    {
     "name": "stderr",
     "output_type": "stream",
     "text": [
      "  7%|█████▊                                                                         | 167/2265 [01:30<29:27,  1.19it/s]"
     ]
    },
    {
     "name": "stdout",
     "output_type": "stream",
     "text": [
      "This is the pipeline with appositions going both ways\n"
     ]
    },
    {
     "name": "stderr",
     "output_type": "stream",
     "text": [
      "  7%|█████▊                                                                         | 168/2265 [01:31<28:36,  1.22it/s]"
     ]
    },
    {
     "name": "stdout",
     "output_type": "stream",
     "text": [
      "This is the pipeline with appositions going both ways\n"
     ]
    },
    {
     "name": "stderr",
     "output_type": "stream",
     "text": [
      "  7%|█████▉                                                                         | 169/2265 [01:31<24:24,  1.43it/s]"
     ]
    },
    {
     "name": "stdout",
     "output_type": "stream",
     "text": [
      "This is the pipeline with appositions going both ways\n"
     ]
    },
    {
     "name": "stderr",
     "output_type": "stream",
     "text": [
      "  8%|█████▉                                                                         | 170/2265 [01:32<29:03,  1.20it/s]"
     ]
    },
    {
     "name": "stdout",
     "output_type": "stream",
     "text": [
      "2025-06-05 15:44:39.618 | INFO     | pipeline.correction.correction2:generate_possible_corrections:352 - Konnte Korrekturvorschlag '*' nicht erstellen: list index out of range\n",
      "2025-06-05 15:44:39.630 | INFO     | pipeline.correction.correction2:generate_possible_corrections:459 - Konnte Korrekturvorschlag 'BOTH_FORMS' nicht erstellen: list index out of range\n",
      "This is the pipeline with appositions going both ways\n"
     ]
    },
    {
     "name": "stderr",
     "output_type": "stream",
     "text": [
      "  8%|█████▉                                                                         | 171/2265 [01:33<30:18,  1.15it/s]"
     ]
    },
    {
     "name": "stdout",
     "output_type": "stream",
     "text": [
      "This is the pipeline with appositions going both ways\n",
      "This is the pipeline with appositions going both ways\n"
     ]
    },
    {
     "name": "stderr",
     "output_type": "stream",
     "text": [
      "  8%|██████                                                                         | 173/2265 [01:34<20:58,  1.66it/s]"
     ]
    },
    {
     "name": "stdout",
     "output_type": "stream",
     "text": [
      "This is the pipeline with appositions going both ways\n"
     ]
    },
    {
     "name": "stderr",
     "output_type": "stream",
     "text": [
      "  8%|██████                                                                         | 174/2265 [01:34<18:16,  1.91it/s]"
     ]
    },
    {
     "name": "stdout",
     "output_type": "stream",
     "text": [
      "This is the pipeline with appositions going both ways\n"
     ]
    },
    {
     "name": "stderr",
     "output_type": "stream",
     "text": [
      "  8%|██████▏                                                                        | 176/2265 [01:35<16:48,  2.07it/s]"
     ]
    },
    {
     "name": "stdout",
     "output_type": "stream",
     "text": [
      "This is the pipeline with appositions going both ways\n",
      "This is the pipeline with appositions going both ways\n"
     ]
    },
    {
     "name": "stderr",
     "output_type": "stream",
     "text": [
      "  8%|██████▏                                                                        | 177/2265 [01:36<14:55,  2.33it/s]"
     ]
    },
    {
     "name": "stdout",
     "output_type": "stream",
     "text": [
      "This is the pipeline with appositions going both ways\n"
     ]
    },
    {
     "name": "stderr",
     "output_type": "stream",
     "text": [
      "  8%|██████▏                                                                        | 178/2265 [01:36<15:17,  2.28it/s]"
     ]
    },
    {
     "name": "stdout",
     "output_type": "stream",
     "text": [
      "This is the pipeline with appositions going both ways\n",
      "This is the pipeline with appositions going both ways\n"
     ]
    },
    {
     "name": "stderr",
     "output_type": "stream",
     "text": [
      "  8%|██████▎                                                                        | 180/2265 [01:37<12:44,  2.73it/s]"
     ]
    },
    {
     "name": "stdout",
     "output_type": "stream",
     "text": [
      "This is the pipeline with appositions going both ways\n"
     ]
    },
    {
     "name": "stderr",
     "output_type": "stream",
     "text": [
      "  8%|██████▎                                                                        | 181/2265 [01:37<15:11,  2.29it/s]"
     ]
    },
    {
     "name": "stdout",
     "output_type": "stream",
     "text": [
      "This is the pipeline with appositions going both ways\n",
      "This is the pipeline with appositions going both ways\n"
     ]
    },
    {
     "name": "stderr",
     "output_type": "stream",
     "text": [
      "  8%|██████▍                                                                        | 183/2265 [01:38<15:54,  2.18it/s]"
     ]
    },
    {
     "name": "stdout",
     "output_type": "stream",
     "text": [
      "This is the pipeline with appositions going both ways\n"
     ]
    },
    {
     "name": "stderr",
     "output_type": "stream",
     "text": [
      "  8%|██████▍                                                                        | 184/2265 [01:39<16:40,  2.08it/s]"
     ]
    },
    {
     "name": "stdout",
     "output_type": "stream",
     "text": [
      "This is the pipeline with appositions going both ways\n"
     ]
    },
    {
     "name": "stderr",
     "output_type": "stream",
     "text": [
      "  8%|██████▍                                                                        | 185/2265 [01:40<19:41,  1.76it/s]"
     ]
    },
    {
     "name": "stdout",
     "output_type": "stream",
     "text": [
      "This is the pipeline with appositions going both ways\n"
     ]
    },
    {
     "name": "stderr",
     "output_type": "stream",
     "text": [
      "  8%|██████▌                                                                        | 187/2265 [01:40<13:51,  2.50it/s]"
     ]
    },
    {
     "name": "stdout",
     "output_type": "stream",
     "text": [
      "This is the pipeline with appositions going both ways\n",
      "This is the pipeline with appositions going both ways\n"
     ]
    },
    {
     "name": "stderr",
     "output_type": "stream",
     "text": [
      "  8%|██████▌                                                                        | 189/2265 [01:40<09:05,  3.80it/s]"
     ]
    },
    {
     "name": "stdout",
     "output_type": "stream",
     "text": [
      "This is the pipeline with appositions going both ways\n",
      "This is the pipeline with appositions going both ways\n"
     ]
    },
    {
     "name": "stderr",
     "output_type": "stream",
     "text": [
      "  8%|██████▋                                                                        | 192/2265 [01:40<05:56,  5.82it/s]"
     ]
    },
    {
     "name": "stdout",
     "output_type": "stream",
     "text": [
      "This is the pipeline with appositions going both ways\n",
      "This is the pipeline with appositions going both ways\n",
      "This is the pipeline with appositions going both ways\n"
     ]
    },
    {
     "name": "stderr",
     "output_type": "stream",
     "text": [
      "  9%|██████▊                                                                        | 194/2265 [01:41<04:59,  6.93it/s]"
     ]
    },
    {
     "name": "stdout",
     "output_type": "stream",
     "text": [
      "This is the pipeline with appositions going both ways\n",
      "This is the pipeline with appositions going both ways\n"
     ]
    },
    {
     "name": "stderr",
     "output_type": "stream",
     "text": [
      "  9%|██████▊                                                                        | 195/2265 [01:43<24:32,  1.41it/s]"
     ]
    },
    {
     "name": "stdout",
     "output_type": "stream",
     "text": [
      "This is the pipeline with appositions going both ways\n"
     ]
    },
    {
     "name": "stderr",
     "output_type": "stream",
     "text": [
      "  9%|██████▊                                                                        | 196/2265 [01:44<24:53,  1.39it/s]"
     ]
    },
    {
     "name": "stdout",
     "output_type": "stream",
     "text": [
      "This is the pipeline with appositions going both ways\n"
     ]
    },
    {
     "name": "stderr",
     "output_type": "stream",
     "text": [
      "  9%|██████▊                                                                        | 197/2265 [01:45<27:01,  1.28it/s]"
     ]
    },
    {
     "name": "stdout",
     "output_type": "stream",
     "text": [
      "This is the pipeline with appositions going both ways\n"
     ]
    },
    {
     "name": "stderr",
     "output_type": "stream",
     "text": [
      "  9%|██████▉                                                                        | 198/2265 [01:45<22:34,  1.53it/s]"
     ]
    },
    {
     "name": "stdout",
     "output_type": "stream",
     "text": [
      "This is the pipeline with appositions going both ways\n"
     ]
    },
    {
     "name": "stderr",
     "output_type": "stream",
     "text": [
      "  9%|██████▉                                                                        | 199/2265 [01:46<21:56,  1.57it/s]"
     ]
    },
    {
     "name": "stdout",
     "output_type": "stream",
     "text": [
      "This is the pipeline with appositions going both ways\n"
     ]
    },
    {
     "name": "stderr",
     "output_type": "stream",
     "text": [
      "  9%|██████▉                                                                        | 200/2265 [01:46<18:56,  1.82it/s]"
     ]
    },
    {
     "name": "stdout",
     "output_type": "stream",
     "text": [
      "This is the pipeline with appositions going both ways\n"
     ]
    },
    {
     "name": "stderr",
     "output_type": "stream",
     "text": [
      "  9%|███████                                                                        | 201/2265 [01:46<15:36,  2.20it/s]"
     ]
    },
    {
     "name": "stdout",
     "output_type": "stream",
     "text": [
      "This is the pipeline with appositions going both ways\n"
     ]
    },
    {
     "name": "stderr",
     "output_type": "stream",
     "text": [
      "  9%|███████                                                                        | 202/2265 [01:47<17:13,  2.00it/s]"
     ]
    },
    {
     "name": "stdout",
     "output_type": "stream",
     "text": [
      "This is the pipeline with appositions going both ways\n"
     ]
    },
    {
     "name": "stderr",
     "output_type": "stream",
     "text": [
      "  9%|███████                                                                        | 203/2265 [01:47<15:31,  2.21it/s]"
     ]
    },
    {
     "name": "stdout",
     "output_type": "stream",
     "text": [
      "This is the pipeline with appositions going both ways\n"
     ]
    },
    {
     "name": "stderr",
     "output_type": "stream",
     "text": [
      "  9%|███████                                                                        | 204/2265 [01:48<16:23,  2.10it/s]"
     ]
    },
    {
     "name": "stdout",
     "output_type": "stream",
     "text": [
      "This is the pipeline with appositions going both ways\n",
      "This is the pipeline with appositions going both ways\n"
     ]
    },
    {
     "name": "stderr",
     "output_type": "stream",
     "text": [
      "  9%|███████▏                                                                       | 206/2265 [01:48<10:49,  3.17it/s]"
     ]
    },
    {
     "name": "stdout",
     "output_type": "stream",
     "text": [
      "This is the pipeline with appositions going both ways\n"
     ]
    },
    {
     "name": "stderr",
     "output_type": "stream",
     "text": [
      "  9%|███████▎                                                                       | 208/2265 [01:48<10:00,  3.42it/s]"
     ]
    },
    {
     "name": "stdout",
     "output_type": "stream",
     "text": [
      "This is the pipeline with appositions going both ways\n",
      "This is the pipeline with appositions going both ways\n"
     ]
    },
    {
     "name": "stderr",
     "output_type": "stream",
     "text": [
      "  9%|███████▎                                                                       | 209/2265 [01:49<10:02,  3.41it/s]"
     ]
    },
    {
     "name": "stdout",
     "output_type": "stream",
     "text": [
      "This is the pipeline with appositions going both ways\n"
     ]
    },
    {
     "name": "stderr",
     "output_type": "stream",
     "text": [
      "  9%|███████▎                                                                       | 210/2265 [01:49<09:36,  3.57it/s]"
     ]
    },
    {
     "name": "stdout",
     "output_type": "stream",
     "text": [
      "This is the pipeline with appositions going both ways\n"
     ]
    },
    {
     "name": "stderr",
     "output_type": "stream",
     "text": [
      "  9%|███████▎                                                                       | 211/2265 [01:49<09:00,  3.80it/s]"
     ]
    },
    {
     "name": "stdout",
     "output_type": "stream",
     "text": [
      "This is the pipeline with appositions going both ways\n"
     ]
    },
    {
     "name": "stderr",
     "output_type": "stream",
     "text": [
      "  9%|███████▍                                                                       | 212/2265 [01:50<09:35,  3.56it/s]"
     ]
    },
    {
     "name": "stdout",
     "output_type": "stream",
     "text": [
      "This is the pipeline with appositions going both ways\n"
     ]
    },
    {
     "name": "stderr",
     "output_type": "stream",
     "text": [
      "  9%|███████▍                                                                       | 213/2265 [01:50<13:35,  2.52it/s]"
     ]
    },
    {
     "name": "stdout",
     "output_type": "stream",
     "text": [
      "This is the pipeline with appositions going both ways\n"
     ]
    },
    {
     "name": "stderr",
     "output_type": "stream",
     "text": [
      "  9%|███████▍                                                                       | 215/2265 [01:51<12:10,  2.80it/s]"
     ]
    },
    {
     "name": "stdout",
     "output_type": "stream",
     "text": [
      "This is the pipeline with appositions going both ways\n",
      "This is the pipeline with appositions going both ways\n"
     ]
    },
    {
     "name": "stderr",
     "output_type": "stream",
     "text": [
      " 10%|███████▌                                                                       | 217/2265 [01:51<08:12,  4.16it/s]"
     ]
    },
    {
     "name": "stdout",
     "output_type": "stream",
     "text": [
      "This is the pipeline with appositions going both ways\n",
      "This is the pipeline with appositions going both ways\n"
     ]
    },
    {
     "name": "stderr",
     "output_type": "stream",
     "text": [
      " 10%|███████▌                                                                       | 218/2265 [01:51<08:55,  3.82it/s]"
     ]
    },
    {
     "name": "stdout",
     "output_type": "stream",
     "text": [
      "2025-06-05 15:44:58.631 | INFO     | pipeline.correction.correction2:generate_possible_corrections:501 - Konnte Korrekturvorschlag '*' nicht erstellen: list index out of range\n",
      "2025-06-05 15:44:58.642 | INFO     | pipeline.correction.correction2:generate_possible_corrections:519 - Konnte Korrekturvorschlag 'PLURAL_*' nicht erstellen: list index out of range\n",
      "2025-06-05 15:44:58.681 | INFO     | pipeline.correction.correction2:generate_possible_corrections:501 - Konnte Korrekturvorschlag '*' nicht erstellen: list index out of range\n",
      "2025-06-05 15:44:58.692 | INFO     | pipeline.correction.correction2:generate_possible_corrections:519 - Konnte Korrekturvorschlag 'PLURAL_*' nicht erstellen: list index out of range\n",
      "2025-06-05 15:44:58.730 | INFO     | pipeline.correction.correction2:generate_possible_corrections:501 - Konnte Korrekturvorschlag '*' nicht erstellen: list index out of range\n",
      "2025-06-05 15:44:58.741 | INFO     | pipeline.correction.correction2:generate_possible_corrections:519 - Konnte Korrekturvorschlag 'PLURAL_*' nicht erstellen: list index out of range\n",
      "This is the pipeline with appositions going both ways\n"
     ]
    },
    {
     "name": "stderr",
     "output_type": "stream",
     "text": [
      " 10%|███████▋                                                                       | 219/2265 [01:52<08:57,  3.81it/s]"
     ]
    },
    {
     "name": "stdout",
     "output_type": "stream",
     "text": [
      "This is the pipeline with appositions going both ways\n"
     ]
    },
    {
     "name": "stderr",
     "output_type": "stream",
     "text": [
      " 10%|███████▋                                                                       | 220/2265 [01:52<08:43,  3.90it/s]"
     ]
    },
    {
     "name": "stdout",
     "output_type": "stream",
     "text": [
      "This is the pipeline with appositions going both ways\n"
     ]
    },
    {
     "name": "stderr",
     "output_type": "stream",
     "text": [
      " 10%|███████▋                                                                       | 221/2265 [01:52<10:32,  3.23it/s]"
     ]
    },
    {
     "name": "stdout",
     "output_type": "stream",
     "text": [
      "This is the pipeline with appositions going both ways\n"
     ]
    },
    {
     "name": "stderr",
     "output_type": "stream",
     "text": [
      " 10%|███████▋                                                                       | 222/2265 [01:53<12:40,  2.69it/s]"
     ]
    },
    {
     "name": "stdout",
     "output_type": "stream",
     "text": [
      "This is the pipeline with appositions going both ways\n"
     ]
    },
    {
     "name": "stderr",
     "output_type": "stream",
     "text": [
      " 10%|███████▊                                                                       | 223/2265 [01:53<13:39,  2.49it/s]"
     ]
    },
    {
     "name": "stdout",
     "output_type": "stream",
     "text": [
      "This is the pipeline with appositions going both ways\n"
     ]
    },
    {
     "name": "stderr",
     "output_type": "stream",
     "text": [
      " 10%|███████▊                                                                       | 224/2265 [01:54<12:44,  2.67it/s]"
     ]
    },
    {
     "name": "stdout",
     "output_type": "stream",
     "text": [
      "This is the pipeline with appositions going both ways\n",
      "This is the pipeline with appositions going both ways\n"
     ]
    },
    {
     "name": "stderr",
     "output_type": "stream",
     "text": [
      " 10%|███████▉                                                                       | 226/2265 [01:54<08:58,  3.79it/s]"
     ]
    },
    {
     "name": "stdout",
     "output_type": "stream",
     "text": [
      "This is the pipeline with appositions going both ways\n"
     ]
    },
    {
     "name": "stderr",
     "output_type": "stream",
     "text": [
      " 10%|███████▉                                                                       | 227/2265 [01:54<09:11,  3.70it/s]"
     ]
    },
    {
     "name": "stdout",
     "output_type": "stream",
     "text": [
      "This is the pipeline with appositions going both ways\n"
     ]
    },
    {
     "name": "stderr",
     "output_type": "stream",
     "text": [
      " 10%|███████▉                                                                       | 228/2265 [01:55<09:07,  3.72it/s]"
     ]
    },
    {
     "name": "stdout",
     "output_type": "stream",
     "text": [
      "This is the pipeline with appositions going both ways\n"
     ]
    },
    {
     "name": "stderr",
     "output_type": "stream",
     "text": [
      " 10%|███████▉                                                                       | 229/2265 [01:55<09:39,  3.52it/s]"
     ]
    },
    {
     "name": "stdout",
     "output_type": "stream",
     "text": [
      "This is the pipeline with appositions going both ways\n"
     ]
    },
    {
     "name": "stderr",
     "output_type": "stream",
     "text": [
      " 10%|████████                                                                       | 231/2265 [01:55<08:20,  4.06it/s]"
     ]
    },
    {
     "name": "stdout",
     "output_type": "stream",
     "text": [
      "This is the pipeline with appositions going both ways\n",
      "This is the pipeline with appositions going both ways\n"
     ]
    },
    {
     "name": "stderr",
     "output_type": "stream",
     "text": [
      " 10%|████████                                                                       | 232/2265 [01:56<07:32,  4.50it/s]"
     ]
    },
    {
     "name": "stdout",
     "output_type": "stream",
     "text": [
      "This is the pipeline with appositions going both ways\n",
      "This is the pipeline with appositions going both ways\n"
     ]
    },
    {
     "name": "stderr",
     "output_type": "stream",
     "text": [
      " 10%|████████▏                                                                      | 234/2265 [01:56<06:30,  5.20it/s]"
     ]
    },
    {
     "name": "stdout",
     "output_type": "stream",
     "text": [
      "This is the pipeline with appositions going both ways\n"
     ]
    },
    {
     "name": "stderr",
     "output_type": "stream",
     "text": [
      " 10%|████████▏                                                                      | 236/2265 [01:56<06:31,  5.18it/s]"
     ]
    },
    {
     "name": "stdout",
     "output_type": "stream",
     "text": [
      "This is the pipeline with appositions going both ways\n",
      "This is the pipeline with appositions going both ways\n"
     ]
    },
    {
     "name": "stderr",
     "output_type": "stream",
     "text": [
      " 10%|████████▎                                                                      | 237/2265 [01:56<06:01,  5.61it/s]"
     ]
    },
    {
     "name": "stdout",
     "output_type": "stream",
     "text": [
      "This is the pipeline with appositions going both ways\n"
     ]
    },
    {
     "name": "stderr",
     "output_type": "stream",
     "text": [
      " 11%|████████▎                                                                      | 238/2265 [01:57<07:17,  4.64it/s]"
     ]
    },
    {
     "name": "stdout",
     "output_type": "stream",
     "text": [
      "This is the pipeline with appositions going both ways\n"
     ]
    },
    {
     "name": "stderr",
     "output_type": "stream",
     "text": [
      " 11%|████████▎                                                                      | 239/2265 [01:57<09:18,  3.63it/s]"
     ]
    },
    {
     "name": "stdout",
     "output_type": "stream",
     "text": [
      "This is the pipeline with appositions going both ways\n"
     ]
    },
    {
     "name": "stderr",
     "output_type": "stream",
     "text": [
      " 11%|████████▎                                                                      | 240/2265 [01:58<11:19,  2.98it/s]"
     ]
    },
    {
     "name": "stdout",
     "output_type": "stream",
     "text": [
      "This is the pipeline with appositions going both ways\n"
     ]
    },
    {
     "name": "stderr",
     "output_type": "stream",
     "text": [
      " 11%|████████▍                                                                      | 241/2265 [01:58<10:35,  3.18it/s]"
     ]
    },
    {
     "name": "stdout",
     "output_type": "stream",
     "text": [
      "This is the pipeline with appositions going both ways\n"
     ]
    },
    {
     "name": "stderr",
     "output_type": "stream",
     "text": [
      " 11%|████████▍                                                                      | 242/2265 [01:58<10:32,  3.20it/s]"
     ]
    },
    {
     "name": "stdout",
     "output_type": "stream",
     "text": [
      "This is the pipeline with appositions going both ways\n"
     ]
    },
    {
     "name": "stderr",
     "output_type": "stream",
     "text": [
      " 11%|████████▍                                                                      | 243/2265 [01:59<13:39,  2.47it/s]"
     ]
    },
    {
     "name": "stdout",
     "output_type": "stream",
     "text": [
      "This is the pipeline with appositions going both ways\n"
     ]
    },
    {
     "name": "stderr",
     "output_type": "stream",
     "text": [
      " 11%|████████▌                                                                      | 245/2265 [01:59<10:30,  3.21it/s]"
     ]
    },
    {
     "name": "stdout",
     "output_type": "stream",
     "text": [
      "This is the pipeline with appositions going both ways\n",
      "This is the pipeline with appositions going both ways\n"
     ]
    },
    {
     "name": "stderr",
     "output_type": "stream",
     "text": [
      " 11%|████████▌                                                                      | 246/2265 [02:00<11:00,  3.06it/s]"
     ]
    },
    {
     "name": "stdout",
     "output_type": "stream",
     "text": [
      "This is the pipeline with appositions going both ways\n"
     ]
    },
    {
     "name": "stderr",
     "output_type": "stream",
     "text": [
      " 11%|████████▌                                                                      | 247/2265 [02:00<10:02,  3.35it/s]"
     ]
    },
    {
     "name": "stdout",
     "output_type": "stream",
     "text": [
      "This is the pipeline with appositions going both ways\n"
     ]
    },
    {
     "name": "stderr",
     "output_type": "stream",
     "text": [
      " 11%|████████▋                                                                      | 248/2265 [02:01<15:33,  2.16it/s]"
     ]
    },
    {
     "name": "stdout",
     "output_type": "stream",
     "text": [
      "2025-06-05 15:45:07.876 | INFO     | pipeline.correction.correction2:generate_possible_corrections:352 - Konnte Korrekturvorschlag '*' nicht erstellen: list index out of range\n",
      "2025-06-05 15:45:07.884 | INFO     | pipeline.correction.correction2:generate_possible_corrections:459 - Konnte Korrekturvorschlag 'BOTH_FORMS' nicht erstellen: list index out of range\n",
      "This is the pipeline with appositions going both ways\n"
     ]
    },
    {
     "name": "stderr",
     "output_type": "stream",
     "text": [
      " 11%|████████▋                                                                      | 249/2265 [02:01<13:08,  2.56it/s]"
     ]
    },
    {
     "name": "stdout",
     "output_type": "stream",
     "text": [
      "This is the pipeline with appositions going both ways\n"
     ]
    },
    {
     "name": "stderr",
     "output_type": "stream",
     "text": [
      " 11%|████████▋                                                                      | 250/2265 [02:02<15:54,  2.11it/s]"
     ]
    },
    {
     "name": "stdout",
     "output_type": "stream",
     "text": [
      "This is the pipeline with appositions going both ways\n"
     ]
    },
    {
     "name": "stderr",
     "output_type": "stream",
     "text": [
      " 11%|████████▊                                                                      | 251/2265 [02:02<16:07,  2.08it/s]"
     ]
    },
    {
     "name": "stdout",
     "output_type": "stream",
     "text": [
      "2025-06-05 15:45:09.302 | INFO     | pipeline.correction.correction2:generate_possible_corrections:501 - Konnte Korrekturvorschlag '*' nicht erstellen: list index out of range\n",
      "2025-06-05 15:45:09.314 | INFO     | pipeline.correction.correction2:generate_possible_corrections:519 - Konnte Korrekturvorschlag 'PLURAL_*' nicht erstellen: list index out of range\n",
      "This is the pipeline with appositions going both ways\n"
     ]
    },
    {
     "name": "stderr",
     "output_type": "stream",
     "text": [
      " 11%|████████▊                                                                      | 252/2265 [02:03<18:20,  1.83it/s]"
     ]
    },
    {
     "name": "stdout",
     "output_type": "stream",
     "text": [
      "This is the pipeline with appositions going both ways\n"
     ]
    },
    {
     "name": "stderr",
     "output_type": "stream",
     "text": [
      " 11%|████████▊                                                                      | 253/2265 [02:03<14:52,  2.26it/s]"
     ]
    },
    {
     "name": "stdout",
     "output_type": "stream",
     "text": [
      "This is the pipeline with appositions going both ways\n"
     ]
    },
    {
     "name": "stderr",
     "output_type": "stream",
     "text": [
      " 11%|████████▊                                                                      | 254/2265 [02:03<13:39,  2.45it/s]"
     ]
    },
    {
     "name": "stdout",
     "output_type": "stream",
     "text": [
      "This is the pipeline with appositions going both ways\n"
     ]
    },
    {
     "name": "stderr",
     "output_type": "stream",
     "text": [
      " 11%|████████▉                                                                      | 255/2265 [02:04<13:20,  2.51it/s]"
     ]
    },
    {
     "name": "stdout",
     "output_type": "stream",
     "text": [
      "This is the pipeline with appositions going both ways\n"
     ]
    },
    {
     "name": "stderr",
     "output_type": "stream",
     "text": [
      " 11%|████████▉                                                                      | 256/2265 [02:04<15:48,  2.12it/s]"
     ]
    },
    {
     "name": "stdout",
     "output_type": "stream",
     "text": [
      "This is the pipeline with appositions going both ways\n"
     ]
    },
    {
     "name": "stderr",
     "output_type": "stream",
     "text": [
      " 11%|████████▉                                                                      | 258/2265 [02:05<10:56,  3.06it/s]"
     ]
    },
    {
     "name": "stdout",
     "output_type": "stream",
     "text": [
      "This is the pipeline with appositions going both ways\n",
      "This is the pipeline with appositions going both ways\n",
      "This is the pipeline with appositions going both ways\n"
     ]
    },
    {
     "name": "stderr",
     "output_type": "stream",
     "text": [
      " 12%|█████████                                                                      | 261/2265 [02:06<09:20,  3.58it/s]"
     ]
    },
    {
     "name": "stdout",
     "output_type": "stream",
     "text": [
      "This is the pipeline with appositions going both ways\n",
      "This is the pipeline with appositions going both ways\n"
     ]
    },
    {
     "name": "stderr",
     "output_type": "stream",
     "text": [
      " 12%|█████████▏                                                                     | 263/2265 [02:06<08:23,  3.98it/s]"
     ]
    },
    {
     "name": "stdout",
     "output_type": "stream",
     "text": [
      "This is the pipeline with appositions going both ways\n",
      "This is the pipeline with appositions going both ways\n"
     ]
    },
    {
     "name": "stderr",
     "output_type": "stream",
     "text": [
      " 12%|█████████▏                                                                     | 264/2265 [02:06<10:11,  3.27it/s]"
     ]
    },
    {
     "name": "stdout",
     "output_type": "stream",
     "text": [
      "This is the pipeline with appositions going both ways\n"
     ]
    },
    {
     "name": "stderr",
     "output_type": "stream",
     "text": [
      " 12%|█████████▏                                                                     | 265/2265 [02:07<09:47,  3.41it/s]"
     ]
    },
    {
     "name": "stdout",
     "output_type": "stream",
     "text": [
      "This is the pipeline with appositions going both ways\n"
     ]
    },
    {
     "name": "stderr",
     "output_type": "stream",
     "text": [
      " 12%|█████████▎                                                                     | 266/2265 [02:07<09:42,  3.43it/s]"
     ]
    },
    {
     "name": "stdout",
     "output_type": "stream",
     "text": [
      "This is the pipeline with appositions going both ways\n"
     ]
    },
    {
     "name": "stderr",
     "output_type": "stream",
     "text": [
      " 12%|█████████▎                                                                     | 267/2265 [02:07<09:08,  3.64it/s]"
     ]
    },
    {
     "name": "stdout",
     "output_type": "stream",
     "text": [
      "This is the pipeline with appositions going both ways\n"
     ]
    },
    {
     "name": "stderr",
     "output_type": "stream",
     "text": [
      " 12%|█████████▎                                                                     | 268/2265 [02:08<09:33,  3.48it/s]"
     ]
    },
    {
     "name": "stdout",
     "output_type": "stream",
     "text": [
      "This is the pipeline with appositions going both ways\n"
     ]
    },
    {
     "name": "stderr",
     "output_type": "stream",
     "text": [
      " 12%|█████████▍                                                                     | 269/2265 [02:08<08:56,  3.72it/s]"
     ]
    },
    {
     "name": "stdout",
     "output_type": "stream",
     "text": [
      "This is the pipeline with appositions going both ways\n"
     ]
    },
    {
     "name": "stderr",
     "output_type": "stream",
     "text": [
      " 12%|█████████▍                                                                     | 270/2265 [02:08<09:08,  3.64it/s]"
     ]
    },
    {
     "name": "stdout",
     "output_type": "stream",
     "text": [
      "2025-06-05 15:45:15.275 | ERROR    | pipeline.full_pipeline:full_pipeline:38 - Fehler bei needs_to_be_gendered() für 'einer': 'NoneType' object is not iterable\n",
      "2025-06-05 15:45:15.284 | ERROR    | pipeline.full_pipeline:full_pipeline:38 - Fehler bei needs_to_be_gendered() für 'Baumeister': 'NoneType' object is not iterable\n",
      "This is the pipeline with appositions going both ways\n"
     ]
    },
    {
     "name": "stderr",
     "output_type": "stream",
     "text": [
      " 12%|█████████▍                                                                     | 271/2265 [02:09<11:55,  2.79it/s]"
     ]
    },
    {
     "name": "stdout",
     "output_type": "stream",
     "text": [
      "This is the pipeline with appositions going both ways\n"
     ]
    },
    {
     "name": "stderr",
     "output_type": "stream",
     "text": [
      " 12%|█████████▍                                                                     | 272/2265 [02:09<15:10,  2.19it/s]"
     ]
    },
    {
     "name": "stdout",
     "output_type": "stream",
     "text": [
      "This is the pipeline with appositions going both ways\n"
     ]
    },
    {
     "name": "stderr",
     "output_type": "stream",
     "text": [
      " 12%|█████████▌                                                                     | 273/2265 [02:10<13:41,  2.42it/s]"
     ]
    },
    {
     "name": "stdout",
     "output_type": "stream",
     "text": [
      "This is the pipeline with appositions going both ways\n"
     ]
    },
    {
     "name": "stderr",
     "output_type": "stream",
     "text": [
      " 12%|█████████▌                                                                     | 275/2265 [02:10<11:00,  3.01it/s]"
     ]
    },
    {
     "name": "stdout",
     "output_type": "stream",
     "text": [
      "This is the pipeline with appositions going both ways\n",
      "This is the pipeline with appositions going both ways\n"
     ]
    },
    {
     "name": "stderr",
     "output_type": "stream",
     "text": [
      " 12%|█████████▋                                                                     | 277/2265 [02:11<09:05,  3.65it/s]"
     ]
    },
    {
     "name": "stdout",
     "output_type": "stream",
     "text": [
      "This is the pipeline with appositions going both ways\n",
      "This is the pipeline with appositions going both ways\n"
     ]
    },
    {
     "name": "stderr",
     "output_type": "stream",
     "text": [
      " 12%|█████████▋                                                                     | 278/2265 [02:11<10:54,  3.04it/s]"
     ]
    },
    {
     "name": "stdout",
     "output_type": "stream",
     "text": [
      "This is the pipeline with appositions going both ways\n"
     ]
    },
    {
     "name": "stderr",
     "output_type": "stream",
     "text": [
      " 12%|█████████▋                                                                     | 279/2265 [02:11<09:39,  3.43it/s]"
     ]
    },
    {
     "name": "stdout",
     "output_type": "stream",
     "text": [
      "This is the pipeline with appositions going both ways\n"
     ]
    },
    {
     "name": "stderr",
     "output_type": "stream",
     "text": [
      " 12%|█████████▊                                                                     | 280/2265 [02:12<09:34,  3.45it/s]"
     ]
    },
    {
     "name": "stdout",
     "output_type": "stream",
     "text": [
      "This is the pipeline with appositions going both ways\n"
     ]
    },
    {
     "name": "stderr",
     "output_type": "stream",
     "text": [
      " 12%|█████████▊                                                                     | 281/2265 [02:12<11:37,  2.84it/s]"
     ]
    },
    {
     "name": "stdout",
     "output_type": "stream",
     "text": [
      "This is the pipeline with appositions going both ways\n"
     ]
    },
    {
     "name": "stderr",
     "output_type": "stream",
     "text": [
      " 12%|█████████▊                                                                     | 282/2265 [02:13<12:46,  2.59it/s]"
     ]
    },
    {
     "name": "stdout",
     "output_type": "stream",
     "text": [
      "This is the pipeline with appositions going both ways\n"
     ]
    },
    {
     "name": "stderr",
     "output_type": "stream",
     "text": [
      " 12%|█████████▊                                                                     | 283/2265 [02:13<12:09,  2.72it/s]"
     ]
    },
    {
     "name": "stdout",
     "output_type": "stream",
     "text": [
      "This is the pipeline with appositions going both ways\n"
     ]
    },
    {
     "name": "stderr",
     "output_type": "stream",
     "text": [
      " 13%|█████████▉                                                                     | 285/2265 [02:13<10:01,  3.29it/s]"
     ]
    },
    {
     "name": "stdout",
     "output_type": "stream",
     "text": [
      "This is the pipeline with appositions going both ways\n",
      "This is the pipeline with appositions going both ways\n"
     ]
    },
    {
     "name": "stderr",
     "output_type": "stream",
     "text": [
      " 13%|█████████▉                                                                     | 286/2265 [02:14<09:33,  3.45it/s]"
     ]
    },
    {
     "name": "stdout",
     "output_type": "stream",
     "text": [
      "This is the pipeline with appositions going both ways\n"
     ]
    },
    {
     "name": "stderr",
     "output_type": "stream",
     "text": [
      " 13%|██████████                                                                     | 287/2265 [02:14<08:49,  3.74it/s]"
     ]
    },
    {
     "name": "stdout",
     "output_type": "stream",
     "text": [
      "This is the pipeline with appositions going both ways\n"
     ]
    },
    {
     "name": "stderr",
     "output_type": "stream",
     "text": [
      " 13%|██████████                                                                     | 289/2265 [02:14<08:19,  3.96it/s]"
     ]
    },
    {
     "name": "stdout",
     "output_type": "stream",
     "text": [
      "This is the pipeline with appositions going both ways\n",
      "This is the pipeline with appositions going both ways\n"
     ]
    },
    {
     "name": "stderr",
     "output_type": "stream",
     "text": [
      " 13%|██████████                                                                     | 290/2265 [02:15<11:47,  2.79it/s]"
     ]
    },
    {
     "name": "stdout",
     "output_type": "stream",
     "text": [
      "This is the pipeline with appositions going both ways\n"
     ]
    },
    {
     "name": "stderr",
     "output_type": "stream",
     "text": [
      " 13%|██████████▏                                                                    | 291/2265 [02:16<16:08,  2.04it/s]"
     ]
    },
    {
     "name": "stdout",
     "output_type": "stream",
     "text": [
      "This is the pipeline with appositions going both ways\n"
     ]
    },
    {
     "name": "stderr",
     "output_type": "stream",
     "text": [
      " 13%|██████████▏                                                                    | 292/2265 [02:17<19:53,  1.65it/s]"
     ]
    },
    {
     "name": "stdout",
     "output_type": "stream",
     "text": [
      "2025-06-05 15:45:23.863 | INFO     | pipeline.correction.verb.change_verb_form:change_verb_form:13 - lex_target_verb not found: erfuhre\n",
      "2025-06-05 15:45:23.863 | INFO     | pipeline.correction.correction2:generate_possible_corrections:352 - Konnte Korrekturvorschlag '*' nicht erstellen: Das Verb konnte im Lexikon nicht gefunden werden: erfuhre\n",
      "2025-06-05 15:45:23.874 | INFO     | pipeline.correction.verb.change_verb_form:change_verb_form:13 - lex_target_verb not found: erfuhre\n",
      "2025-06-05 15:45:23.874 | INFO     | pipeline.correction.correction2:generate_possible_corrections:459 - Konnte Korrekturvorschlag 'BOTH_FORMS' nicht erstellen: Das Verb konnte im Lexikon nicht gefunden werden: erfuhre\n",
      "This is the pipeline with appositions going both ways\n"
     ]
    },
    {
     "name": "stderr",
     "output_type": "stream",
     "text": [
      " 13%|██████████▏                                                                    | 293/2265 [02:17<22:03,  1.49it/s]"
     ]
    },
    {
     "name": "stdout",
     "output_type": "stream",
     "text": [
      "This is the pipeline with appositions going both ways\n"
     ]
    },
    {
     "name": "stderr",
     "output_type": "stream",
     "text": [
      " 13%|██████████▎                                                                    | 294/2265 [02:18<18:00,  1.82it/s]"
     ]
    },
    {
     "name": "stdout",
     "output_type": "stream",
     "text": [
      "2025-06-05 15:45:24.936 | INFO     | pipeline.correction.correction2:generate_possible_corrections:352 - Konnte Korrekturvorschlag '*' nicht erstellen: list index out of range\n",
      "2025-06-05 15:45:24.944 | INFO     | pipeline.correction.correction2:generate_possible_corrections:459 - Konnte Korrekturvorschlag 'BOTH_FORMS' nicht erstellen: list index out of range\n",
      "This is the pipeline with appositions going both ways\n",
      "2025-06-05 15:45:25.946 | ERROR    | pipeline.full_pipeline:full_pipeline:38 - Fehler bei needs_to_be_gendered() für 'Demonstranten': 'NoneType' object is not iterable\n"
     ]
    },
    {
     "name": "stderr",
     "output_type": "stream",
     "text": [
      " 13%|██████████▎                                                                    | 296/2265 [02:19<19:44,  1.66it/s]"
     ]
    },
    {
     "name": "stdout",
     "output_type": "stream",
     "text": [
      "This is the pipeline with appositions going both ways\n",
      "This is the pipeline with appositions going both ways\n"
     ]
    },
    {
     "name": "stderr",
     "output_type": "stream",
     "text": [
      " 13%|██████████▎                                                                    | 297/2265 [02:19<15:16,  2.15it/s]"
     ]
    },
    {
     "name": "stdout",
     "output_type": "stream",
     "text": [
      "This is the pipeline with appositions going both ways\n",
      "2025-06-05 15:45:28.255 | INFO     | pipeline.correction.correction2:generate_possible_corrections:352 - Konnte Korrekturvorschlag '*' nicht erstellen: list index out of range\n",
      "2025-06-05 15:45:28.256 | INFO     | pipeline.correction.correction2:generate_possible_corrections:459 - Konnte Korrekturvorschlag 'BOTH_FORMS' nicht erstellen: list index out of range\n",
      "2025-06-05 15:45:28.273 | INFO     | pipeline.correction.correction2:generate_possible_corrections:352 - Konnte Korrekturvorschlag '*' nicht erstellen: list index out of range\n",
      "2025-06-05 15:45:28.274 | INFO     | pipeline.correction.correction2:generate_possible_corrections:459 - Konnte Korrekturvorschlag 'BOTH_FORMS' nicht erstellen: list index out of range\n"
     ]
    },
    {
     "name": "stderr",
     "output_type": "stream",
     "text": [
      " 13%|██████████▍                                                                    | 298/2265 [02:21<29:23,  1.12it/s]"
     ]
    },
    {
     "name": "stdout",
     "output_type": "stream",
     "text": [
      "This is the pipeline with appositions going both ways\n"
     ]
    },
    {
     "name": "stderr",
     "output_type": "stream",
     "text": [
      " 13%|██████████▍                                                                    | 299/2265 [02:22<28:18,  1.16it/s]"
     ]
    },
    {
     "name": "stdout",
     "output_type": "stream",
     "text": [
      "This is the pipeline with appositions going both ways\n"
     ]
    },
    {
     "name": "stderr",
     "output_type": "stream",
     "text": [
      " 13%|██████████▍                                                                    | 300/2265 [02:23<27:54,  1.17it/s]"
     ]
    },
    {
     "name": "stdout",
     "output_type": "stream",
     "text": [
      "This is the pipeline with appositions going both ways\n",
      "2025-06-05 15:45:33.537 | INFO     | pipeline.correction.correction2:generate_possible_corrections:352 - Konnte Korrekturvorschlag '*' nicht erstellen: list index out of range\n",
      "2025-06-05 15:45:33.538 | INFO     | pipeline.correction.correction2:generate_possible_corrections:459 - Konnte Korrekturvorschlag 'BOTH_FORMS' nicht erstellen: list index out of range\n"
     ]
    },
    {
     "name": "stderr",
     "output_type": "stream",
     "text": [
      " 13%|██████████▏                                                                  | 301/2265 [02:27<1:02:59,  1.92s/it]"
     ]
    },
    {
     "name": "stdout",
     "output_type": "stream",
     "text": [
      "This is the pipeline with appositions going both ways\n",
      "2025-06-05 15:45:35.740 | INFO     | pipeline.correction.correction2:generate_possible_corrections:352 - Konnte Korrekturvorschlag '*' nicht erstellen: list index out of range\n",
      "2025-06-05 15:45:35.774 | INFO     | pipeline.correction.correction2:generate_possible_corrections:459 - Konnte Korrekturvorschlag 'BOTH_FORMS' nicht erstellen: list index out of range\n"
     ]
    },
    {
     "name": "stderr",
     "output_type": "stream",
     "text": [
      " 13%|██████████▌                                                                    | 304/2265 [02:29<31:50,  1.03it/s]"
     ]
    },
    {
     "name": "stdout",
     "output_type": "stream",
     "text": [
      "This is the pipeline with appositions going both ways\n",
      "This is the pipeline with appositions going both ways\n",
      "This is the pipeline with appositions going both ways\n"
     ]
    },
    {
     "name": "stderr",
     "output_type": "stream",
     "text": [
      " 13%|██████████▋                                                                    | 305/2265 [02:30<31:05,  1.05it/s]"
     ]
    },
    {
     "name": "stdout",
     "output_type": "stream",
     "text": [
      "This is the pipeline with appositions going both ways\n",
      "2025-06-05 15:45:40.644 | INFO     | pipeline.correction.correction2:generate_possible_corrections:501 - Konnte Korrekturvorschlag '*' nicht erstellen: list index out of range\n",
      "2025-06-05 15:45:40.656 | INFO     | pipeline.correction.correction2:generate_possible_corrections:519 - Konnte Korrekturvorschlag 'PLURAL_*' nicht erstellen: list index out of range\n"
     ]
    },
    {
     "name": "stderr",
     "output_type": "stream",
     "text": [
      " 14%|██████████▍                                                                  | 306/2265 [02:35<1:06:27,  2.04s/it]"
     ]
    },
    {
     "name": "stdout",
     "output_type": "stream",
     "text": [
      "This is the pipeline with appositions going both ways\n"
     ]
    },
    {
     "name": "stderr",
     "output_type": "stream",
     "text": [
      " 14%|██████████▋                                                                    | 307/2265 [02:35<53:53,  1.65s/it]"
     ]
    },
    {
     "name": "stdout",
     "output_type": "stream",
     "text": [
      "2025-06-05 15:45:42.552 | INFO     | pipeline.correction.correction2:generate_possible_corrections:501 - Konnte Korrekturvorschlag '*' nicht erstellen: list index out of range\n",
      "2025-06-05 15:45:42.564 | INFO     | pipeline.correction.correction2:generate_possible_corrections:519 - Konnte Korrekturvorschlag 'PLURAL_*' nicht erstellen: list index out of range\n",
      "This is the pipeline with appositions going both ways\n"
     ]
    },
    {
     "name": "stderr",
     "output_type": "stream",
     "text": [
      " 14%|██████████▋                                                                    | 308/2265 [02:36<48:35,  1.49s/it]"
     ]
    },
    {
     "name": "stdout",
     "output_type": "stream",
     "text": [
      "This is the pipeline with appositions going both ways\n"
     ]
    },
    {
     "name": "stderr",
     "output_type": "stream",
     "text": [
      " 14%|██████████▊                                                                    | 309/2265 [02:37<36:53,  1.13s/it]"
     ]
    },
    {
     "name": "stdout",
     "output_type": "stream",
     "text": [
      "This is the pipeline with appositions going both ways\n"
     ]
    },
    {
     "name": "stderr",
     "output_type": "stream",
     "text": [
      " 14%|██████████▊                                                                    | 310/2265 [02:37<28:54,  1.13it/s]"
     ]
    },
    {
     "name": "stdout",
     "output_type": "stream",
     "text": [
      "This is the pipeline with appositions going both ways\n",
      "2025-06-05 15:45:46.537 | ERROR    | pipeline.full_pipeline:full_pipeline:38 - Fehler bei needs_to_be_gendered() für 'Sicherheitsfanatiker': Es darf nur ein Element mit dieser Beziehung geben. (blieb mit sb, war aber [verlor, Haudegen])\n"
     ]
    },
    {
     "name": "stderr",
     "output_type": "stream",
     "text": [
      " 14%|██████████▊                                                                    | 311/2265 [02:40<49:30,  1.52s/it]"
     ]
    },
    {
     "name": "stdout",
     "output_type": "stream",
     "text": [
      "This is the pipeline with appositions going both ways\n"
     ]
    },
    {
     "name": "stderr",
     "output_type": "stream",
     "text": [
      " 14%|██████████▉                                                                    | 312/2265 [02:41<41:11,  1.27s/it]"
     ]
    },
    {
     "name": "stdout",
     "output_type": "stream",
     "text": [
      "This is the pipeline with appositions going both ways\n"
     ]
    },
    {
     "name": "stderr",
     "output_type": "stream",
     "text": [
      " 14%|██████████▉                                                                    | 313/2265 [02:42<43:49,  1.35s/it]"
     ]
    },
    {
     "name": "stdout",
     "output_type": "stream",
     "text": [
      "This is the pipeline with appositions going both ways\n"
     ]
    },
    {
     "name": "stderr",
     "output_type": "stream",
     "text": [
      " 14%|██████████▉                                                                    | 314/2265 [02:43<35:03,  1.08s/it]"
     ]
    },
    {
     "name": "stdout",
     "output_type": "stream",
     "text": [
      "2025-06-05 15:45:49.850 | INFO     | pipeline.correction.correction2:generate_possible_corrections:352 - Konnte Korrekturvorschlag '*' nicht erstellen: list index out of range\n",
      "2025-06-05 15:45:49.862 | INFO     | pipeline.correction.correction2:generate_possible_corrections:459 - Konnte Korrekturvorschlag 'BOTH_FORMS' nicht erstellen: list index out of range\n",
      "This is the pipeline with appositions going both ways\n"
     ]
    },
    {
     "name": "stderr",
     "output_type": "stream",
     "text": [
      " 14%|██████████▉                                                                    | 315/2265 [02:43<28:57,  1.12it/s]"
     ]
    },
    {
     "name": "stdout",
     "output_type": "stream",
     "text": [
      "This is the pipeline with appositions going both ways\n"
     ]
    },
    {
     "name": "stderr",
     "output_type": "stream",
     "text": [
      " 14%|███████████                                                                    | 316/2265 [02:44<24:31,  1.32it/s]"
     ]
    },
    {
     "name": "stdout",
     "output_type": "stream",
     "text": [
      "2025-06-05 15:45:50.732 | INFO     | pipeline.correction.correction2:generate_possible_corrections:352 - Konnte Korrekturvorschlag '*' nicht erstellen: list index out of range\n",
      "2025-06-05 15:45:50.744 | INFO     | pipeline.correction.correction2:generate_possible_corrections:459 - Konnte Korrekturvorschlag 'BOTH_FORMS' nicht erstellen: list index out of range\n",
      "This is the pipeline with appositions going both ways\n"
     ]
    },
    {
     "name": "stderr",
     "output_type": "stream",
     "text": [
      " 14%|███████████                                                                    | 317/2265 [02:44<21:07,  1.54it/s]"
     ]
    },
    {
     "name": "stdout",
     "output_type": "stream",
     "text": [
      "This is the pipeline with appositions going both ways\n"
     ]
    },
    {
     "name": "stderr",
     "output_type": "stream",
     "text": [
      " 14%|███████████                                                                    | 318/2265 [02:44<18:50,  1.72it/s]"
     ]
    },
    {
     "name": "stdout",
     "output_type": "stream",
     "text": [
      "This is the pipeline with appositions going both ways\n"
     ]
    },
    {
     "name": "stderr",
     "output_type": "stream",
     "text": [
      " 14%|███████████▏                                                                   | 319/2265 [02:46<26:43,  1.21it/s]"
     ]
    },
    {
     "name": "stdout",
     "output_type": "stream",
     "text": [
      "This is the pipeline with appositions going both ways\n"
     ]
    },
    {
     "name": "stderr",
     "output_type": "stream",
     "text": [
      " 14%|███████████▏                                                                   | 320/2265 [02:47<25:44,  1.26it/s]"
     ]
    },
    {
     "name": "stdout",
     "output_type": "stream",
     "text": [
      "This is the pipeline with appositions going both ways\n"
     ]
    },
    {
     "name": "stderr",
     "output_type": "stream",
     "text": [
      " 14%|███████████▏                                                                   | 321/2265 [02:47<21:10,  1.53it/s]"
     ]
    },
    {
     "name": "stdout",
     "output_type": "stream",
     "text": [
      "This is the pipeline with appositions going both ways\n"
     ]
    },
    {
     "name": "stderr",
     "output_type": "stream",
     "text": [
      " 14%|███████████▏                                                                   | 322/2265 [02:48<23:03,  1.40it/s]"
     ]
    },
    {
     "name": "stdout",
     "output_type": "stream",
     "text": [
      "This is the pipeline with appositions going both ways\n",
      "2025-06-05 15:45:57.044 | INFO     | pipeline.correction.correction2:generate_possible_corrections:501 - Konnte Korrekturvorschlag '*' nicht erstellen: list index out of range\n",
      "2025-06-05 15:45:57.045 | INFO     | pipeline.correction.correction2:generate_possible_corrections:519 - Konnte Korrekturvorschlag 'PLURAL_*' nicht erstellen: list index out of range\n",
      "2025-06-05 15:45:57.162 | ERROR    | pipeline.full_pipeline:full_pipeline:38 - Fehler bei needs_to_be_gendered() für 'einer': 'NoneType' object is not iterable\n",
      "2025-06-05 15:45:57.170 | ERROR    | pipeline.full_pipeline:full_pipeline:38 - Fehler bei needs_to_be_gendered() für 'Wortführer': 'NoneType' object is not iterable\n"
     ]
    },
    {
     "name": "stderr",
     "output_type": "stream",
     "text": [
      " 14%|███████████▎                                                                   | 323/2265 [02:50<40:21,  1.25s/it]"
     ]
    },
    {
     "name": "stdout",
     "output_type": "stream",
     "text": [
      "This is the pipeline with appositions going both ways\n"
     ]
    },
    {
     "name": "stderr",
     "output_type": "stream",
     "text": [
      " 14%|███████████▎                                                                   | 324/2265 [02:52<42:44,  1.32s/it]"
     ]
    },
    {
     "name": "stdout",
     "output_type": "stream",
     "text": [
      "This is the pipeline with appositions going both ways\n"
     ]
    },
    {
     "name": "stderr",
     "output_type": "stream",
     "text": [
      " 14%|███████████▎                                                                   | 325/2265 [02:52<34:27,  1.07s/it]"
     ]
    },
    {
     "name": "stdout",
     "output_type": "stream",
     "text": [
      "This is the pipeline with appositions going both ways\n"
     ]
    },
    {
     "name": "stderr",
     "output_type": "stream",
     "text": [
      " 14%|███████████▎                                                                   | 326/2265 [02:54<45:01,  1.39s/it]"
     ]
    },
    {
     "name": "stdout",
     "output_type": "stream",
     "text": [
      "This is the pipeline with appositions going both ways\n"
     ]
    },
    {
     "name": "stderr",
     "output_type": "stream",
     "text": [
      " 14%|███████████▍                                                                   | 327/2265 [02:55<36:53,  1.14s/it]"
     ]
    },
    {
     "name": "stdout",
     "output_type": "stream",
     "text": [
      "This is the pipeline with appositions going both ways\n"
     ]
    },
    {
     "name": "stderr",
     "output_type": "stream",
     "text": [
      " 14%|███████████▍                                                                   | 328/2265 [02:55<30:05,  1.07it/s]"
     ]
    },
    {
     "name": "stdout",
     "output_type": "stream",
     "text": [
      "This is the pipeline with appositions going both ways\n"
     ]
    },
    {
     "name": "stderr",
     "output_type": "stream",
     "text": [
      " 15%|███████████▍                                                                   | 329/2265 [02:56<26:40,  1.21it/s]"
     ]
    },
    {
     "name": "stdout",
     "output_type": "stream",
     "text": [
      "This is the pipeline with appositions going both ways\n"
     ]
    },
    {
     "name": "stderr",
     "output_type": "stream",
     "text": [
      " 15%|███████████▌                                                                   | 330/2265 [02:56<22:42,  1.42it/s]"
     ]
    },
    {
     "name": "stdout",
     "output_type": "stream",
     "text": [
      "This is the pipeline with appositions going both ways\n"
     ]
    },
    {
     "name": "stderr",
     "output_type": "stream",
     "text": [
      " 15%|███████████▌                                                                   | 331/2265 [02:57<20:53,  1.54it/s]"
     ]
    },
    {
     "name": "stdout",
     "output_type": "stream",
     "text": [
      "This is the pipeline with appositions going both ways\n"
     ]
    },
    {
     "name": "stderr",
     "output_type": "stream",
     "text": [
      " 15%|███████████▌                                                                   | 333/2265 [02:58<16:04,  2.00it/s]"
     ]
    },
    {
     "name": "stdout",
     "output_type": "stream",
     "text": [
      "This is the pipeline with appositions going both ways\n",
      "This is the pipeline with appositions going both ways\n",
      "This is the pipeline with appositions going both ways\n"
     ]
    },
    {
     "name": "stderr",
     "output_type": "stream",
     "text": [
      " 15%|███████████▋                                                                   | 335/2265 [02:59<19:44,  1.63it/s]"
     ]
    },
    {
     "name": "stdout",
     "output_type": "stream",
     "text": [
      "This is the pipeline with appositions going both ways\n"
     ]
    },
    {
     "name": "stderr",
     "output_type": "stream",
     "text": [
      " 15%|███████████▋                                                                   | 336/2265 [02:59<17:13,  1.87it/s]"
     ]
    },
    {
     "name": "stdout",
     "output_type": "stream",
     "text": [
      "This is the pipeline with appositions going both ways\n"
     ]
    },
    {
     "name": "stderr",
     "output_type": "stream",
     "text": [
      " 15%|███████████▊                                                                   | 338/2265 [03:00<15:26,  2.08it/s]"
     ]
    },
    {
     "name": "stdout",
     "output_type": "stream",
     "text": [
      "This is the pipeline with appositions going both ways\n",
      "This is the pipeline with appositions going both ways\n"
     ]
    },
    {
     "name": "stderr",
     "output_type": "stream",
     "text": [
      " 15%|███████████▊                                                                   | 339/2265 [03:01<15:02,  2.14it/s]"
     ]
    },
    {
     "name": "stdout",
     "output_type": "stream",
     "text": [
      "2025-06-05 15:46:08.038 | INFO     | pipeline.correction.correction2:generate_possible_corrections:352 - Konnte Korrekturvorschlag '*' nicht erstellen: list index out of range\n",
      "2025-06-05 15:46:08.051 | INFO     | pipeline.correction.correction2:generate_possible_corrections:459 - Konnte Korrekturvorschlag 'BOTH_FORMS' nicht erstellen: list index out of range\n",
      "This is the pipeline with appositions going both ways\n"
     ]
    },
    {
     "name": "stderr",
     "output_type": "stream",
     "text": [
      " 15%|███████████▊                                                                   | 340/2265 [03:01<12:16,  2.61it/s]"
     ]
    },
    {
     "name": "stdout",
     "output_type": "stream",
     "text": [
      "This is the pipeline with appositions going both ways\n"
     ]
    },
    {
     "name": "stderr",
     "output_type": "stream",
     "text": [
      " 15%|███████████▉                                                                   | 342/2265 [03:01<09:49,  3.26it/s]"
     ]
    },
    {
     "name": "stdout",
     "output_type": "stream",
     "text": [
      "This is the pipeline with appositions going both ways\n",
      "This is the pipeline with appositions going both ways\n"
     ]
    },
    {
     "name": "stderr",
     "output_type": "stream",
     "text": [
      " 15%|███████████▉                                                                   | 343/2265 [03:02<08:42,  3.68it/s]"
     ]
    },
    {
     "name": "stdout",
     "output_type": "stream",
     "text": [
      "This is the pipeline with appositions going both ways\n"
     ]
    },
    {
     "name": "stderr",
     "output_type": "stream",
     "text": [
      " 15%|███████████▉                                                                   | 344/2265 [03:02<08:05,  3.96it/s]"
     ]
    },
    {
     "name": "stdout",
     "output_type": "stream",
     "text": [
      "This is the pipeline with appositions going both ways\n"
     ]
    },
    {
     "name": "stderr",
     "output_type": "stream",
     "text": [
      " 15%|████████████                                                                   | 345/2265 [03:03<13:26,  2.38it/s]"
     ]
    },
    {
     "name": "stdout",
     "output_type": "stream",
     "text": [
      "This is the pipeline with appositions going both ways\n"
     ]
    },
    {
     "name": "stderr",
     "output_type": "stream",
     "text": [
      " 15%|████████████                                                                   | 346/2265 [03:03<16:30,  1.94it/s]"
     ]
    },
    {
     "name": "stdout",
     "output_type": "stream",
     "text": [
      "This is the pipeline with appositions going both ways\n"
     ]
    },
    {
     "name": "stderr",
     "output_type": "stream",
     "text": [
      " 15%|████████████                                                                   | 347/2265 [03:04<17:40,  1.81it/s]"
     ]
    },
    {
     "name": "stdout",
     "output_type": "stream",
     "text": [
      "This is the pipeline with appositions going both ways\n"
     ]
    },
    {
     "name": "stderr",
     "output_type": "stream",
     "text": [
      " 15%|████████████▏                                                                  | 348/2265 [03:04<15:59,  2.00it/s]"
     ]
    },
    {
     "name": "stdout",
     "output_type": "stream",
     "text": [
      "This is the pipeline with appositions going both ways\n"
     ]
    },
    {
     "name": "stderr",
     "output_type": "stream",
     "text": [
      " 15%|████████████▏                                                                  | 349/2265 [03:05<19:15,  1.66it/s]"
     ]
    },
    {
     "name": "stdout",
     "output_type": "stream",
     "text": [
      "This is the pipeline with appositions going both ways\n"
     ]
    },
    {
     "name": "stderr",
     "output_type": "stream",
     "text": [
      " 15%|████████████▏                                                                  | 351/2265 [03:06<12:36,  2.53it/s]"
     ]
    },
    {
     "name": "stdout",
     "output_type": "stream",
     "text": [
      "This is the pipeline with appositions going both ways\n",
      "This is the pipeline with appositions going both ways\n"
     ]
    },
    {
     "name": "stderr",
     "output_type": "stream",
     "text": [
      " 16%|████████████▎                                                                  | 352/2265 [03:06<13:51,  2.30it/s]"
     ]
    },
    {
     "name": "stdout",
     "output_type": "stream",
     "text": [
      "This is the pipeline with appositions going both ways\n"
     ]
    },
    {
     "name": "stderr",
     "output_type": "stream",
     "text": [
      " 16%|████████████▎                                                                  | 353/2265 [03:07<12:18,  2.59it/s]"
     ]
    },
    {
     "name": "stdout",
     "output_type": "stream",
     "text": [
      "This is the pipeline with appositions going both ways\n"
     ]
    },
    {
     "name": "stderr",
     "output_type": "stream",
     "text": [
      " 16%|████████████▎                                                                  | 354/2265 [03:07<11:02,  2.89it/s]"
     ]
    },
    {
     "name": "stdout",
     "output_type": "stream",
     "text": [
      "This is the pipeline with appositions going both ways\n"
     ]
    },
    {
     "name": "stderr",
     "output_type": "stream",
     "text": [
      " 16%|████████████▍                                                                  | 355/2265 [03:07<09:56,  3.20it/s]"
     ]
    },
    {
     "name": "stdout",
     "output_type": "stream",
     "text": [
      "This is the pipeline with appositions going both ways\n"
     ]
    },
    {
     "name": "stderr",
     "output_type": "stream",
     "text": [
      " 16%|████████████▍                                                                  | 356/2265 [03:07<09:00,  3.53it/s]"
     ]
    },
    {
     "name": "stdout",
     "output_type": "stream",
     "text": [
      "This is the pipeline with appositions going both ways\n"
     ]
    },
    {
     "name": "stderr",
     "output_type": "stream",
     "text": [
      " 16%|████████████▍                                                                  | 357/2265 [03:07<08:30,  3.73it/s]"
     ]
    },
    {
     "name": "stdout",
     "output_type": "stream",
     "text": [
      "This is the pipeline with appositions going both ways\n"
     ]
    },
    {
     "name": "stderr",
     "output_type": "stream",
     "text": [
      " 16%|████████████▍                                                                  | 358/2265 [03:08<10:16,  3.09it/s]"
     ]
    },
    {
     "name": "stdout",
     "output_type": "stream",
     "text": [
      "This is the pipeline with appositions going both ways\n"
     ]
    },
    {
     "name": "stderr",
     "output_type": "stream",
     "text": [
      " 16%|████████████▌                                                                  | 359/2265 [03:08<10:44,  2.96it/s]"
     ]
    },
    {
     "name": "stdout",
     "output_type": "stream",
     "text": [
      "2025-06-05 15:46:15.387 | INFO     | pipeline.correction.correction2:generate_possible_corrections:352 - Konnte Korrekturvorschlag '*' nicht erstellen: list index out of range\n",
      "2025-06-05 15:46:15.394 | INFO     | pipeline.correction.correction2:generate_possible_corrections:459 - Konnte Korrekturvorschlag 'BOTH_FORMS' nicht erstellen: list index out of range\n",
      "This is the pipeline with appositions going both ways\n"
     ]
    },
    {
     "name": "stderr",
     "output_type": "stream",
     "text": [
      " 16%|████████████▌                                                                  | 361/2265 [03:09<08:26,  3.76it/s]"
     ]
    },
    {
     "name": "stdout",
     "output_type": "stream",
     "text": [
      "This is the pipeline with appositions going both ways\n",
      "This is the pipeline with appositions going both ways\n"
     ]
    },
    {
     "name": "stderr",
     "output_type": "stream",
     "text": [
      " 16%|████████████▋                                                                  | 362/2265 [03:09<07:16,  4.36it/s]"
     ]
    },
    {
     "name": "stdout",
     "output_type": "stream",
     "text": [
      "This is the pipeline with appositions going both ways\n"
     ]
    },
    {
     "name": "stderr",
     "output_type": "stream",
     "text": [
      " 16%|████████████▋                                                                  | 363/2265 [03:09<08:33,  3.70it/s]"
     ]
    },
    {
     "name": "stdout",
     "output_type": "stream",
     "text": [
      "This is the pipeline with appositions going both ways\n"
     ]
    },
    {
     "name": "stderr",
     "output_type": "stream",
     "text": [
      " 16%|████████████▋                                                                  | 364/2265 [03:09<08:17,  3.82it/s]"
     ]
    },
    {
     "name": "stdout",
     "output_type": "stream",
     "text": [
      "This is the pipeline with appositions going both ways\n"
     ]
    },
    {
     "name": "stderr",
     "output_type": "stream",
     "text": [
      " 16%|████████████▋                                                                  | 365/2265 [03:10<08:50,  3.58it/s]"
     ]
    },
    {
     "name": "stdout",
     "output_type": "stream",
     "text": [
      "This is the pipeline with appositions going both ways\n",
      "This is the pipeline with appositions going both ways\n"
     ]
    },
    {
     "name": "stderr",
     "output_type": "stream",
     "text": [
      " 16%|████████████▊                                                                  | 367/2265 [03:11<11:15,  2.81it/s]"
     ]
    },
    {
     "name": "stdout",
     "output_type": "stream",
     "text": [
      "2025-06-05 15:46:17.821 | INFO     | pipeline.correction.correction2:generate_possible_corrections:352 - Konnte Korrekturvorschlag '*' nicht erstellen: list index out of range\n",
      "2025-06-05 15:46:17.833 | INFO     | pipeline.correction.correction2:generate_possible_corrections:459 - Konnte Korrekturvorschlag 'BOTH_FORMS' nicht erstellen: list index out of range\n",
      "2025-06-05 15:46:17.849 | INFO     | pipeline.correction.correction2:generate_possible_corrections:352 - Konnte Korrekturvorschlag '*' nicht erstellen: list index out of range\n",
      "2025-06-05 15:46:17.861 | INFO     | pipeline.correction.correction2:generate_possible_corrections:459 - Konnte Korrekturvorschlag 'BOTH_FORMS' nicht erstellen: list index out of range\n",
      "This is the pipeline with appositions going both ways\n"
     ]
    },
    {
     "name": "stderr",
     "output_type": "stream",
     "text": [
      " 16%|████████████▊                                                                  | 368/2265 [03:11<10:10,  3.11it/s]"
     ]
    },
    {
     "name": "stdout",
     "output_type": "stream",
     "text": [
      "This is the pipeline with appositions going both ways\n"
     ]
    },
    {
     "name": "stderr",
     "output_type": "stream",
     "text": [
      " 16%|████████████▊                                                                  | 369/2265 [03:11<09:31,  3.32it/s]"
     ]
    },
    {
     "name": "stdout",
     "output_type": "stream",
     "text": [
      "This is the pipeline with appositions going both ways\n"
     ]
    },
    {
     "name": "stderr",
     "output_type": "stream",
     "text": [
      " 16%|████████████▉                                                                  | 370/2265 [03:12<10:33,  2.99it/s]"
     ]
    },
    {
     "name": "stdout",
     "output_type": "stream",
     "text": [
      "This is the pipeline with appositions going both ways\n"
     ]
    },
    {
     "name": "stderr",
     "output_type": "stream",
     "text": [
      " 16%|████████████▉                                                                  | 371/2265 [03:12<14:38,  2.15it/s]"
     ]
    },
    {
     "name": "stdout",
     "output_type": "stream",
     "text": [
      "This is the pipeline with appositions going both ways\n"
     ]
    },
    {
     "name": "stderr",
     "output_type": "stream",
     "text": [
      " 16%|████████████▉                                                                  | 372/2265 [03:13<13:15,  2.38it/s]"
     ]
    },
    {
     "name": "stdout",
     "output_type": "stream",
     "text": [
      "This is the pipeline with appositions going both ways\n"
     ]
    },
    {
     "name": "stderr",
     "output_type": "stream",
     "text": [
      " 16%|█████████████                                                                  | 373/2265 [03:13<11:44,  2.69it/s]"
     ]
    },
    {
     "name": "stdout",
     "output_type": "stream",
     "text": [
      "This is the pipeline with appositions going both ways\n"
     ]
    },
    {
     "name": "stderr",
     "output_type": "stream",
     "text": [
      " 17%|█████████████                                                                  | 374/2265 [03:13<13:09,  2.39it/s]"
     ]
    },
    {
     "name": "stdout",
     "output_type": "stream",
     "text": [
      "2025-06-05 15:46:20.639 | INFO     | pipeline.correction.correction2:generate_possible_corrections:352 - Konnte Korrekturvorschlag '*' nicht erstellen: list index out of range\n",
      "2025-06-05 15:46:20.653 | INFO     | pipeline.correction.correction2:generate_possible_corrections:459 - Konnte Korrekturvorschlag 'BOTH_FORMS' nicht erstellen: list index out of range\n",
      "2025-06-05 15:46:20.669 | INFO     | pipeline.correction.correction2:generate_possible_corrections:352 - Konnte Korrekturvorschlag '*' nicht erstellen: list index out of range\n",
      "2025-06-05 15:46:20.681 | INFO     | pipeline.correction.correction2:generate_possible_corrections:459 - Konnte Korrekturvorschlag 'BOTH_FORMS' nicht erstellen: list index out of range\n",
      "This is the pipeline with appositions going both ways\n"
     ]
    },
    {
     "name": "stderr",
     "output_type": "stream",
     "text": [
      " 17%|█████████████                                                                  | 375/2265 [03:14<11:01,  2.86it/s]"
     ]
    },
    {
     "name": "stdout",
     "output_type": "stream",
     "text": [
      "This is the pipeline with appositions going both ways\n"
     ]
    },
    {
     "name": "stderr",
     "output_type": "stream",
     "text": [
      " 17%|█████████████▏                                                                 | 377/2265 [03:14<07:55,  3.97it/s]"
     ]
    },
    {
     "name": "stdout",
     "output_type": "stream",
     "text": [
      "This is the pipeline with appositions going both ways\n",
      "This is the pipeline with appositions going both ways\n"
     ]
    },
    {
     "name": "stderr",
     "output_type": "stream",
     "text": [
      " 17%|█████████████▏                                                                 | 378/2265 [03:14<10:07,  3.11it/s]"
     ]
    },
    {
     "name": "stdout",
     "output_type": "stream",
     "text": [
      "This is the pipeline with appositions going both ways\n"
     ]
    },
    {
     "name": "stderr",
     "output_type": "stream",
     "text": [
      " 17%|█████████████▏                                                                 | 379/2265 [03:15<09:19,  3.37it/s]"
     ]
    },
    {
     "name": "stdout",
     "output_type": "stream",
     "text": [
      "This is the pipeline with appositions going both ways\n"
     ]
    },
    {
     "name": "stderr",
     "output_type": "stream",
     "text": [
      " 17%|█████████████▎                                                                 | 380/2265 [03:15<08:44,  3.60it/s]"
     ]
    },
    {
     "name": "stdout",
     "output_type": "stream",
     "text": [
      "This is the pipeline with appositions going both ways\n"
     ]
    },
    {
     "name": "stderr",
     "output_type": "stream",
     "text": [
      " 17%|█████████████▎                                                                 | 381/2265 [03:15<08:03,  3.90it/s]"
     ]
    },
    {
     "name": "stdout",
     "output_type": "stream",
     "text": [
      "This is the pipeline with appositions going both ways\n"
     ]
    },
    {
     "name": "stderr",
     "output_type": "stream",
     "text": [
      " 17%|█████████████▎                                                                 | 382/2265 [03:15<08:08,  3.86it/s]"
     ]
    },
    {
     "name": "stdout",
     "output_type": "stream",
     "text": [
      "This is the pipeline with appositions going both ways\n"
     ]
    },
    {
     "name": "stderr",
     "output_type": "stream",
     "text": [
      " 17%|█████████████▎                                                                 | 383/2265 [03:16<07:37,  4.11it/s]"
     ]
    },
    {
     "name": "stdout",
     "output_type": "stream",
     "text": [
      "This is the pipeline with appositions going both ways\n"
     ]
    },
    {
     "name": "stderr",
     "output_type": "stream",
     "text": [
      " 17%|█████████████▍                                                                 | 384/2265 [03:16<08:59,  3.48it/s]"
     ]
    },
    {
     "name": "stdout",
     "output_type": "stream",
     "text": [
      "2025-06-05 15:46:23.196 | INFO     | pipeline.correction.correction2:generate_possible_corrections:352 - Konnte Korrekturvorschlag '*' nicht erstellen: list index out of range\n",
      "2025-06-05 15:46:23.208 | INFO     | pipeline.correction.correction2:generate_possible_corrections:459 - Konnte Korrekturvorschlag 'BOTH_FORMS' nicht erstellen: list index out of range\n",
      "This is the pipeline with appositions going both ways\n"
     ]
    },
    {
     "name": "stderr",
     "output_type": "stream",
     "text": [
      " 17%|█████████████▍                                                                 | 385/2265 [03:16<10:21,  3.02it/s]"
     ]
    },
    {
     "name": "stdout",
     "output_type": "stream",
     "text": [
      "2025-06-05 15:46:23.463 | INFO     | pipeline.correction.correction2:generate_possible_corrections:501 - Konnte Korrekturvorschlag '*' nicht erstellen: list index out of range\n",
      "2025-06-05 15:46:23.474 | INFO     | pipeline.correction.correction2:generate_possible_corrections:519 - Konnte Korrekturvorschlag 'PLURAL_*' nicht erstellen: list index out of range\n",
      "2025-06-05 15:46:23.599 | INFO     | pipeline.correction.correction2:generate_possible_corrections:501 - Konnte Korrekturvorschlag '*' nicht erstellen: list index out of range\n",
      "2025-06-05 15:46:23.611 | INFO     | pipeline.correction.correction2:generate_possible_corrections:519 - Konnte Korrekturvorschlag 'PLURAL_*' nicht erstellen: list index out of range\n",
      "This is the pipeline with appositions going both ways\n"
     ]
    },
    {
     "name": "stderr",
     "output_type": "stream",
     "text": [
      " 17%|█████████████▍                                                                 | 386/2265 [03:17<09:00,  3.48it/s]"
     ]
    },
    {
     "name": "stdout",
     "output_type": "stream",
     "text": [
      "This is the pipeline with appositions going both ways\n"
     ]
    },
    {
     "name": "stderr",
     "output_type": "stream",
     "text": [
      " 17%|█████████████▍                                                                 | 387/2265 [03:17<09:45,  3.21it/s]"
     ]
    },
    {
     "name": "stdout",
     "output_type": "stream",
     "text": [
      "This is the pipeline with appositions going both ways\n"
     ]
    },
    {
     "name": "stderr",
     "output_type": "stream",
     "text": [
      " 17%|█████████████▌                                                                 | 388/2265 [03:18<14:12,  2.20it/s]"
     ]
    },
    {
     "name": "stdout",
     "output_type": "stream",
     "text": [
      "2025-06-05 15:46:24.879 | INFO     | pipeline.correction.correction2:generate_possible_corrections:459 - Konnte Korrekturvorschlag 'BOTH_FORMS' nicht erstellen: Es darf nur ein Element mit dieser Beziehung geben. (Arbeitnehmern mit cd, war aber [sowohl, als])\n",
      "This is the pipeline with appositions going both ways\n"
     ]
    },
    {
     "name": "stderr",
     "output_type": "stream",
     "text": [
      " 17%|█████████████▌                                                                 | 389/2265 [03:19<19:22,  1.61it/s]"
     ]
    },
    {
     "name": "stdout",
     "output_type": "stream",
     "text": [
      "This is the pipeline with appositions going both ways\n"
     ]
    },
    {
     "name": "stderr",
     "output_type": "stream",
     "text": [
      " 17%|█████████████▌                                                                 | 390/2265 [03:21<38:35,  1.23s/it]"
     ]
    },
    {
     "name": "stdout",
     "output_type": "stream",
     "text": [
      "This is the pipeline with appositions going both ways\n"
     ]
    },
    {
     "name": "stderr",
     "output_type": "stream",
     "text": [
      " 17%|█████████████▋                                                                 | 391/2265 [03:24<47:18,  1.51s/it]"
     ]
    },
    {
     "name": "stdout",
     "output_type": "stream",
     "text": [
      "This is the pipeline with appositions going both ways\n"
     ]
    },
    {
     "name": "stderr",
     "output_type": "stream",
     "text": [
      " 17%|█████████████▋                                                                 | 392/2265 [03:24<39:46,  1.27s/it]"
     ]
    },
    {
     "name": "stdout",
     "output_type": "stream",
     "text": [
      "This is the pipeline with appositions going both ways\n",
      "2025-06-05 15:46:34.890 | INFO     | pipeline.correction.correction2:generate_possible_corrections:501 - Konnte Korrekturvorschlag '*' nicht erstellen: list index out of range\n",
      "2025-06-05 15:46:34.902 | INFO     | pipeline.correction.correction2:generate_possible_corrections:519 - Konnte Korrekturvorschlag 'PLURAL_*' nicht erstellen: list index out of range\n"
     ]
    },
    {
     "name": "stderr",
     "output_type": "stream",
     "text": [
      " 17%|█████████████▎                                                               | 393/2265 [03:28<1:02:43,  2.01s/it]"
     ]
    },
    {
     "name": "stdout",
     "output_type": "stream",
     "text": [
      "This is the pipeline with appositions going both ways\n"
     ]
    },
    {
     "name": "stderr",
     "output_type": "stream",
     "text": [
      " 17%|█████████████▋                                                                 | 394/2265 [03:29<49:03,  1.57s/it]"
     ]
    },
    {
     "name": "stdout",
     "output_type": "stream",
     "text": [
      "This is the pipeline with appositions going both ways\n"
     ]
    },
    {
     "name": "stderr",
     "output_type": "stream",
     "text": [
      " 17%|█████████████▊                                                                 | 395/2265 [03:30<45:33,  1.46s/it]"
     ]
    },
    {
     "name": "stdout",
     "output_type": "stream",
     "text": [
      "This is the pipeline with appositions going both ways\n",
      "2025-06-05 15:46:38.262 | INFO     | pipeline.correction.correction2:generate_possible_corrections:352 - Konnte Korrekturvorschlag '*' nicht erstellen: list index out of range\n",
      "2025-06-05 15:46:38.270 | INFO     | pipeline.correction.correction2:generate_possible_corrections:459 - Konnte Korrekturvorschlag 'BOTH_FORMS' nicht erstellen: list index out of range\n",
      "2025-06-05 15:46:38.441 | INFO     | pipeline.correction.correction2:generate_possible_corrections:352 - Konnte Korrekturvorschlag '*' nicht erstellen: list index out of range\n",
      "2025-06-05 15:46:38.448 | INFO     | pipeline.correction.correction2:generate_possible_corrections:459 - Konnte Korrekturvorschlag 'BOTH_FORMS' nicht erstellen: list index out of range\n"
     ]
    },
    {
     "name": "stderr",
     "output_type": "stream",
     "text": [
      " 17%|█████████████▊                                                                 | 396/2265 [03:32<48:53,  1.57s/it]"
     ]
    },
    {
     "name": "stdout",
     "output_type": "stream",
     "text": [
      "This is the pipeline with appositions going both ways\n"
     ]
    },
    {
     "name": "stderr",
     "output_type": "stream",
     "text": [
      " 18%|█████████████▊                                                                 | 397/2265 [03:32<39:14,  1.26s/it]"
     ]
    },
    {
     "name": "stdout",
     "output_type": "stream",
     "text": [
      "This is the pipeline with appositions going both ways\n"
     ]
    },
    {
     "name": "stderr",
     "output_type": "stream",
     "text": [
      " 18%|█████████████▉                                                                 | 399/2265 [03:36<43:26,  1.40s/it]"
     ]
    },
    {
     "name": "stdout",
     "output_type": "stream",
     "text": [
      "This is the pipeline with appositions going both ways\n",
      "This is the pipeline with appositions going both ways\n"
     ]
    },
    {
     "name": "stderr",
     "output_type": "stream",
     "text": [
      " 18%|█████████████▉                                                                 | 400/2265 [03:37<40:55,  1.32s/it]"
     ]
    },
    {
     "name": "stdout",
     "output_type": "stream",
     "text": [
      "This is the pipeline with appositions going both ways\n"
     ]
    },
    {
     "name": "stderr",
     "output_type": "stream",
     "text": [
      " 18%|█████████████▉                                                                 | 401/2265 [03:37<31:47,  1.02s/it]"
     ]
    },
    {
     "name": "stdout",
     "output_type": "stream",
     "text": [
      "This is the pipeline with appositions going both ways\n"
     ]
    },
    {
     "name": "stderr",
     "output_type": "stream",
     "text": [
      " 18%|██████████████                                                                 | 402/2265 [03:39<39:53,  1.28s/it]"
     ]
    },
    {
     "name": "stdout",
     "output_type": "stream",
     "text": [
      "This is the pipeline with appositions going both ways\n",
      "2025-06-05 15:50:10.500 | INFO     | pipeline.correction.correction2:generate_possible_corrections:352 - Konnte Korrekturvorschlag '*' nicht erstellen: list index out of range\n",
      "2025-06-05 15:50:10.509 | INFO     | pipeline.correction.correction2:generate_possible_corrections:459 - Konnte Korrekturvorschlag 'BOTH_FORMS' nicht erstellen: list index out of range\n"
     ]
    },
    {
     "name": "stderr",
     "output_type": "stream",
     "text": [
      " 18%|█████████████▌                                                              | 403/2265 [07:04<32:11:09, 62.23s/it]"
     ]
    },
    {
     "name": "stdout",
     "output_type": "stream",
     "text": [
      "This is the pipeline with appositions going both ways\n"
     ]
    },
    {
     "name": "stderr",
     "output_type": "stream",
     "text": [
      " 18%|█████████████▌                                                              | 404/2265 [07:04<22:38:34, 43.80s/it]"
     ]
    },
    {
     "name": "stdout",
     "output_type": "stream",
     "text": [
      "This is the pipeline with appositions going both ways\n"
     ]
    },
    {
     "name": "stderr",
     "output_type": "stream",
     "text": [
      " 18%|█████████████▌                                                              | 405/2265 [07:05<15:59:11, 30.94s/it]"
     ]
    },
    {
     "name": "stdout",
     "output_type": "stream",
     "text": [
      "This is the pipeline with appositions going both ways\n"
     ]
    },
    {
     "name": "stderr",
     "output_type": "stream",
     "text": [
      " 18%|█████████████▌                                                              | 406/2265 [07:07<11:25:34, 22.13s/it]"
     ]
    },
    {
     "name": "stdout",
     "output_type": "stream",
     "text": [
      "This is the pipeline with appositions going both ways\n"
     ]
    },
    {
     "name": "stderr",
     "output_type": "stream",
     "text": [
      " 18%|█████████████▊                                                               | 407/2265 [07:07<8:01:59, 15.57s/it]"
     ]
    },
    {
     "name": "stdout",
     "output_type": "stream",
     "text": [
      "This is the pipeline with appositions going both ways\n"
     ]
    },
    {
     "name": "stderr",
     "output_type": "stream",
     "text": [
      " 18%|█████████████▊                                                               | 408/2265 [07:08<5:50:02, 11.31s/it]"
     ]
    },
    {
     "name": "stdout",
     "output_type": "stream",
     "text": [
      "2025-06-05 15:50:15.652 | INFO     | pipeline.correction.correction2:generate_possible_corrections:501 - Konnte Korrekturvorschlag '*' nicht erstellen: list index out of range\n",
      "2025-06-05 15:50:15.660 | INFO     | pipeline.correction.correction2:generate_possible_corrections:519 - Konnte Korrekturvorschlag 'PLURAL_*' nicht erstellen: list index out of range\n",
      "This is the pipeline with appositions going both ways\n"
     ]
    },
    {
     "name": "stderr",
     "output_type": "stream",
     "text": [
      " 18%|█████████████▉                                                               | 409/2265 [07:09<4:06:26,  7.97s/it]"
     ]
    },
    {
     "name": "stdout",
     "output_type": "stream",
     "text": [
      "This is the pipeline with appositions going both ways\n"
     ]
    },
    {
     "name": "stderr",
     "output_type": "stream",
     "text": [
      " 18%|█████████████▉                                                               | 410/2265 [07:10<3:01:00,  5.85s/it]"
     ]
    },
    {
     "name": "stdout",
     "output_type": "stream",
     "text": [
      "This is the pipeline with appositions going both ways\n"
     ]
    },
    {
     "name": "stderr",
     "output_type": "stream",
     "text": [
      " 18%|██████████████                                                               | 412/2265 [07:10<1:31:30,  2.96s/it]"
     ]
    },
    {
     "name": "stdout",
     "output_type": "stream",
     "text": [
      "This is the pipeline with appositions going both ways\n",
      "This is the pipeline with appositions going both ways\n"
     ]
    },
    {
     "name": "stderr",
     "output_type": "stream",
     "text": [
      " 18%|██████████████                                                               | 413/2265 [07:11<1:09:11,  2.24s/it]"
     ]
    },
    {
     "name": "stdout",
     "output_type": "stream",
     "text": [
      "This is the pipeline with appositions going both ways\n",
      "2025-06-05 15:50:18.173 | INFO     | pipeline.correction.correction2:generate_possible_corrections:501 - Konnte Korrekturvorschlag '*' nicht erstellen: list index out of range\n",
      "2025-06-05 15:50:18.189 | INFO     | pipeline.correction.correction2:generate_possible_corrections:519 - Konnte Korrekturvorschlag 'PLURAL_*' nicht erstellen: list index out of range\n"
     ]
    },
    {
     "name": "stderr",
     "output_type": "stream",
     "text": [
      " 18%|██████████████▍                                                                | 414/2265 [07:11<54:31,  1.77s/it]"
     ]
    },
    {
     "name": "stdout",
     "output_type": "stream",
     "text": [
      "This is the pipeline with appositions going both ways\n"
     ]
    },
    {
     "name": "stderr",
     "output_type": "stream",
     "text": [
      " 18%|██████████████▍                                                                | 415/2265 [07:12<49:51,  1.62s/it]"
     ]
    },
    {
     "name": "stdout",
     "output_type": "stream",
     "text": [
      "This is the pipeline with appositions going both ways\n"
     ]
    },
    {
     "name": "stderr",
     "output_type": "stream",
     "text": [
      " 18%|██████████████▌                                                                | 416/2265 [07:13<37:53,  1.23s/it]"
     ]
    },
    {
     "name": "stdout",
     "output_type": "stream",
     "text": [
      "This is the pipeline with appositions going both ways\n"
     ]
    },
    {
     "name": "stderr",
     "output_type": "stream",
     "text": [
      " 18%|██████████████▌                                                                | 417/2265 [07:13<30:19,  1.02it/s]"
     ]
    },
    {
     "name": "stdout",
     "output_type": "stream",
     "text": [
      "This is the pipeline with appositions going both ways\n"
     ]
    },
    {
     "name": "stderr",
     "output_type": "stream",
     "text": [
      " 18%|██████████████▌                                                                | 418/2265 [07:14<27:05,  1.14it/s]"
     ]
    },
    {
     "name": "stdout",
     "output_type": "stream",
     "text": [
      "This is the pipeline with appositions going both ways\n",
      "2025-06-05 15:50:21.831 | INFO     | pipeline.correction.correction2:generate_possible_corrections:352 - Konnte Korrekturvorschlag '*' nicht erstellen: list index out of range\n",
      "2025-06-05 15:50:21.843 | INFO     | pipeline.correction.correction2:generate_possible_corrections:459 - Konnte Korrekturvorschlag 'BOTH_FORMS' nicht erstellen: list index out of range\n"
     ]
    },
    {
     "name": "stderr",
     "output_type": "stream",
     "text": [
      " 18%|██████████████▌                                                                | 419/2265 [07:15<28:00,  1.10it/s]"
     ]
    },
    {
     "name": "stdout",
     "output_type": "stream",
     "text": [
      "This is the pipeline with appositions going both ways\n"
     ]
    },
    {
     "name": "stderr",
     "output_type": "stream",
     "text": [
      " 19%|██████████████▋                                                                | 420/2265 [07:16<27:22,  1.12it/s]"
     ]
    },
    {
     "name": "stdout",
     "output_type": "stream",
     "text": [
      "This is the pipeline with appositions going both ways\n"
     ]
    },
    {
     "name": "stderr",
     "output_type": "stream",
     "text": [
      " 19%|██████████████▋                                                                | 421/2265 [07:16<26:45,  1.15it/s]"
     ]
    },
    {
     "name": "stdout",
     "output_type": "stream",
     "text": [
      "This is the pipeline with appositions going both ways\n"
     ]
    },
    {
     "name": "stderr",
     "output_type": "stream",
     "text": [
      " 19%|██████████████▋                                                                | 422/2265 [07:17<22:36,  1.36it/s]"
     ]
    },
    {
     "name": "stdout",
     "output_type": "stream",
     "text": [
      "2025-06-05 15:50:24.151 | INFO     | pipeline.correction.correction2:generate_possible_corrections:501 - Konnte Korrekturvorschlag '*' nicht erstellen: list index out of range\n",
      "2025-06-05 15:50:24.165 | INFO     | pipeline.correction.correction2:generate_possible_corrections:519 - Konnte Korrekturvorschlag 'PLURAL_*' nicht erstellen: list index out of range\n",
      "This is the pipeline with appositions going both ways\n"
     ]
    },
    {
     "name": "stderr",
     "output_type": "stream",
     "text": [
      " 19%|██████████████▊                                                                | 423/2265 [07:18<22:12,  1.38it/s]"
     ]
    },
    {
     "name": "stdout",
     "output_type": "stream",
     "text": [
      "This is the pipeline with appositions going both ways\n"
     ]
    },
    {
     "name": "stderr",
     "output_type": "stream",
     "text": [
      " 19%|██████████████▊                                                                | 424/2265 [07:18<19:46,  1.55it/s]"
     ]
    },
    {
     "name": "stdout",
     "output_type": "stream",
     "text": [
      "This is the pipeline with appositions going both ways\n"
     ]
    },
    {
     "name": "stderr",
     "output_type": "stream",
     "text": [
      " 19%|██████████████▊                                                                | 425/2265 [07:18<15:41,  1.95it/s]"
     ]
    },
    {
     "name": "stdout",
     "output_type": "stream",
     "text": [
      "This is the pipeline with appositions going both ways\n"
     ]
    },
    {
     "name": "stderr",
     "output_type": "stream",
     "text": [
      " 19%|██████████████▊                                                                | 426/2265 [07:21<35:15,  1.15s/it]"
     ]
    },
    {
     "name": "stdout",
     "output_type": "stream",
     "text": [
      "2025-06-05 15:50:28.107 | INFO     | pipeline.correction.correction2:generate_possible_corrections:501 - Konnte Korrekturvorschlag '*' nicht erstellen: list index out of range\n",
      "2025-06-05 15:50:28.114 | INFO     | pipeline.correction.correction2:generate_possible_corrections:519 - Konnte Korrekturvorschlag 'PLURAL_*' nicht erstellen: list index out of range\n",
      "This is the pipeline with appositions going both ways\n"
     ]
    },
    {
     "name": "stderr",
     "output_type": "stream",
     "text": [
      " 19%|██████████████▉                                                                | 427/2265 [07:21<27:34,  1.11it/s]"
     ]
    },
    {
     "name": "stdout",
     "output_type": "stream",
     "text": [
      "This is the pipeline with appositions going both ways\n",
      "This is the pipeline with appositions going both ways\n"
     ]
    },
    {
     "name": "stderr",
     "output_type": "stream",
     "text": [
      " 19%|██████████████▉                                                                | 429/2265 [07:22<19:05,  1.60it/s]"
     ]
    },
    {
     "name": "stdout",
     "output_type": "stream",
     "text": [
      "This is the pipeline with appositions going both ways\n"
     ]
    },
    {
     "name": "stderr",
     "output_type": "stream",
     "text": [
      " 19%|██████████████▉                                                                | 430/2265 [07:22<17:35,  1.74it/s]"
     ]
    },
    {
     "name": "stdout",
     "output_type": "stream",
     "text": [
      "This is the pipeline with appositions going both ways\n"
     ]
    },
    {
     "name": "stderr",
     "output_type": "stream",
     "text": [
      " 19%|███████████████                                                                | 431/2265 [07:23<15:27,  1.98it/s]"
     ]
    },
    {
     "name": "stdout",
     "output_type": "stream",
     "text": [
      "This is the pipeline with appositions going both ways\n"
     ]
    },
    {
     "name": "stderr",
     "output_type": "stream",
     "text": [
      " 19%|███████████████                                                                | 432/2265 [07:23<16:36,  1.84it/s]"
     ]
    },
    {
     "name": "stdout",
     "output_type": "stream",
     "text": [
      "This is the pipeline with appositions going both ways\n"
     ]
    },
    {
     "name": "stderr",
     "output_type": "stream",
     "text": [
      " 19%|███████████████                                                                | 433/2265 [07:24<21:11,  1.44it/s]"
     ]
    },
    {
     "name": "stdout",
     "output_type": "stream",
     "text": [
      "This is the pipeline with appositions going both ways\n"
     ]
    },
    {
     "name": "stderr",
     "output_type": "stream",
     "text": [
      " 19%|███████████████▏                                                               | 434/2265 [07:25<20:55,  1.46it/s]"
     ]
    },
    {
     "name": "stdout",
     "output_type": "stream",
     "text": [
      "This is the pipeline with appositions going both ways\n"
     ]
    },
    {
     "name": "stderr",
     "output_type": "stream",
     "text": [
      " 19%|███████████████▏                                                               | 435/2265 [07:26<22:59,  1.33it/s]"
     ]
    },
    {
     "name": "stdout",
     "output_type": "stream",
     "text": [
      "This is the pipeline with appositions going both ways\n"
     ]
    },
    {
     "name": "stderr",
     "output_type": "stream",
     "text": [
      " 19%|███████████████▏                                                               | 436/2265 [07:26<20:05,  1.52it/s]"
     ]
    },
    {
     "name": "stdout",
     "output_type": "stream",
     "text": [
      "This is the pipeline with appositions going both ways\n"
     ]
    },
    {
     "name": "stderr",
     "output_type": "stream",
     "text": [
      " 19%|███████████████▏                                                               | 437/2265 [07:27<20:23,  1.49it/s]"
     ]
    },
    {
     "name": "stdout",
     "output_type": "stream",
     "text": [
      "This is the pipeline with appositions going both ways\n"
     ]
    },
    {
     "name": "stderr",
     "output_type": "stream",
     "text": [
      " 19%|███████████████▎                                                               | 440/2265 [07:28<10:30,  2.89it/s]"
     ]
    },
    {
     "name": "stdout",
     "output_type": "stream",
     "text": [
      "This is the pipeline with appositions going both ways\n",
      "This is the pipeline with appositions going both ways\n",
      "2025-06-05 15:50:34.759 | INFO     | pipeline.correction.correction2:generate_possible_corrections:352 - Konnte Korrekturvorschlag '*' nicht erstellen: list index out of range\n",
      "2025-06-05 15:50:34.771 | INFO     | pipeline.correction.correction2:generate_possible_corrections:459 - Konnte Korrekturvorschlag 'BOTH_FORMS' nicht erstellen: list index out of range\n",
      "This is the pipeline with appositions going both ways\n"
     ]
    },
    {
     "name": "stderr",
     "output_type": "stream",
     "text": [
      " 19%|███████████████▍                                                               | 441/2265 [07:30<24:44,  1.23it/s]"
     ]
    },
    {
     "name": "stdout",
     "output_type": "stream",
     "text": [
      "This is the pipeline with appositions going both ways\n"
     ]
    },
    {
     "name": "stderr",
     "output_type": "stream",
     "text": [
      " 20%|███████████████▍                                                               | 442/2265 [07:30<21:28,  1.41it/s]"
     ]
    },
    {
     "name": "stdout",
     "output_type": "stream",
     "text": [
      "This is the pipeline with appositions going both ways\n"
     ]
    },
    {
     "name": "stderr",
     "output_type": "stream",
     "text": [
      " 20%|███████████████▍                                                               | 443/2265 [07:30<17:45,  1.71it/s]"
     ]
    },
    {
     "name": "stdout",
     "output_type": "stream",
     "text": [
      "This is the pipeline with appositions going both ways\n"
     ]
    },
    {
     "name": "stderr",
     "output_type": "stream",
     "text": [
      " 20%|███████████████▍                                                               | 444/2265 [07:33<30:41,  1.01s/it]"
     ]
    },
    {
     "name": "stdout",
     "output_type": "stream",
     "text": [
      "This is the pipeline with appositions going both ways\n"
     ]
    },
    {
     "name": "stderr",
     "output_type": "stream",
     "text": [
      " 20%|███████████████▌                                                               | 445/2265 [07:34<33:32,  1.11s/it]"
     ]
    },
    {
     "name": "stdout",
     "output_type": "stream",
     "text": [
      "This is the pipeline with appositions going both ways\n"
     ]
    },
    {
     "name": "stderr",
     "output_type": "stream",
     "text": [
      " 20%|███████████████▌                                                               | 446/2265 [07:34<27:06,  1.12it/s]"
     ]
    },
    {
     "name": "stdout",
     "output_type": "stream",
     "text": [
      "This is the pipeline with appositions going both ways\n"
     ]
    },
    {
     "name": "stderr",
     "output_type": "stream",
     "text": [
      " 20%|███████████████▌                                                               | 447/2265 [07:35<22:48,  1.33it/s]"
     ]
    },
    {
     "name": "stdout",
     "output_type": "stream",
     "text": [
      "This is the pipeline with appositions going both ways\n"
     ]
    },
    {
     "name": "stderr",
     "output_type": "stream",
     "text": [
      " 20%|███████████████▋                                                               | 449/2265 [07:36<19:00,  1.59it/s]"
     ]
    },
    {
     "name": "stdout",
     "output_type": "stream",
     "text": [
      "This is the pipeline with appositions going both ways\n",
      "This is the pipeline with appositions going both ways\n"
     ]
    },
    {
     "name": "stderr",
     "output_type": "stream",
     "text": [
      " 20%|███████████████▋                                                               | 450/2265 [07:36<17:23,  1.74it/s]"
     ]
    },
    {
     "name": "stdout",
     "output_type": "stream",
     "text": [
      "This is the pipeline with appositions going both ways\n"
     ]
    },
    {
     "name": "stderr",
     "output_type": "stream",
     "text": [
      " 20%|███████████████▋                                                               | 451/2265 [07:37<15:53,  1.90it/s]"
     ]
    },
    {
     "name": "stdout",
     "output_type": "stream",
     "text": [
      "This is the pipeline with appositions going both ways\n"
     ]
    },
    {
     "name": "stderr",
     "output_type": "stream",
     "text": [
      " 20%|███████████████▊                                                               | 452/2265 [07:37<13:51,  2.18it/s]"
     ]
    },
    {
     "name": "stdout",
     "output_type": "stream",
     "text": [
      "This is the pipeline with appositions going both ways\n"
     ]
    },
    {
     "name": "stderr",
     "output_type": "stream",
     "text": [
      " 20%|███████████████▊                                                               | 454/2265 [07:38<12:35,  2.40it/s]"
     ]
    },
    {
     "name": "stdout",
     "output_type": "stream",
     "text": [
      "This is the pipeline with appositions going both ways\n",
      "This is the pipeline with appositions going both ways\n"
     ]
    },
    {
     "name": "stderr",
     "output_type": "stream",
     "text": [
      " 20%|███████████████▊                                                               | 455/2265 [07:38<11:47,  2.56it/s]"
     ]
    },
    {
     "name": "stdout",
     "output_type": "stream",
     "text": [
      "This is the pipeline with appositions going both ways\n"
     ]
    },
    {
     "name": "stderr",
     "output_type": "stream",
     "text": [
      " 20%|███████████████▉                                                               | 456/2265 [07:38<10:19,  2.92it/s]"
     ]
    },
    {
     "name": "stdout",
     "output_type": "stream",
     "text": [
      "This is the pipeline with appositions going both ways\n"
     ]
    },
    {
     "name": "stderr",
     "output_type": "stream",
     "text": [
      " 20%|███████████████▉                                                               | 457/2265 [07:39<09:15,  3.26it/s]"
     ]
    },
    {
     "name": "stdout",
     "output_type": "stream",
     "text": [
      "This is the pipeline with appositions going both ways\n"
     ]
    },
    {
     "name": "stderr",
     "output_type": "stream",
     "text": [
      " 20%|███████████████▉                                                               | 458/2265 [07:39<09:11,  3.28it/s]"
     ]
    },
    {
     "name": "stdout",
     "output_type": "stream",
     "text": [
      "This is the pipeline with appositions going both ways\n"
     ]
    },
    {
     "name": "stderr",
     "output_type": "stream",
     "text": [
      " 20%|████████████████                                                               | 459/2265 [07:40<20:43,  1.45it/s]"
     ]
    },
    {
     "name": "stdout",
     "output_type": "stream",
     "text": [
      "2025-06-05 15:50:47.576 | INFO     | pipeline.correction.correction2:generate_possible_corrections:501 - Konnte Korrekturvorschlag '*' nicht erstellen: list index out of range\n",
      "2025-06-05 15:50:47.576 | INFO     | pipeline.correction.correction2:generate_possible_corrections:519 - Konnte Korrekturvorschlag 'PLURAL_*' nicht erstellen: list index out of range\n",
      "This is the pipeline with appositions going both ways\n"
     ]
    },
    {
     "name": "stderr",
     "output_type": "stream",
     "text": [
      " 20%|████████████████                                                               | 460/2265 [07:41<22:34,  1.33it/s]"
     ]
    },
    {
     "name": "stdout",
     "output_type": "stream",
     "text": [
      "This is the pipeline with appositions going both ways\n"
     ]
    },
    {
     "name": "stderr",
     "output_type": "stream",
     "text": [
      " 20%|████████████████                                                               | 461/2265 [07:43<26:28,  1.14it/s]"
     ]
    },
    {
     "name": "stdout",
     "output_type": "stream",
     "text": [
      "2025-06-05 15:50:49.766 | INFO     | pipeline.correction.correction2:generate_possible_corrections:501 - Konnte Korrekturvorschlag '*' nicht erstellen: list index out of range\n",
      "2025-06-05 15:50:49.780 | INFO     | pipeline.correction.correction2:generate_possible_corrections:519 - Konnte Korrekturvorschlag 'PLURAL_*' nicht erstellen: list index out of range\n",
      "This is the pipeline with appositions going both ways\n"
     ]
    },
    {
     "name": "stderr",
     "output_type": "stream",
     "text": [
      " 20%|████████████████                                                               | 462/2265 [07:43<21:49,  1.38it/s]"
     ]
    },
    {
     "name": "stdout",
     "output_type": "stream",
     "text": [
      "This is the pipeline with appositions going both ways\n"
     ]
    },
    {
     "name": "stderr",
     "output_type": "stream",
     "text": [
      " 20%|████████████████▏                                                              | 463/2265 [07:43<19:26,  1.54it/s]"
     ]
    },
    {
     "name": "stdout",
     "output_type": "stream",
     "text": [
      "This is the pipeline with appositions going both ways\n"
     ]
    },
    {
     "name": "stderr",
     "output_type": "stream",
     "text": [
      " 20%|████████████████▏                                                              | 464/2265 [07:44<16:05,  1.87it/s]"
     ]
    },
    {
     "name": "stdout",
     "output_type": "stream",
     "text": [
      "This is the pipeline with appositions going both ways\n"
     ]
    },
    {
     "name": "stderr",
     "output_type": "stream",
     "text": [
      " 21%|████████████████▏                                                              | 465/2265 [07:44<14:33,  2.06it/s]"
     ]
    },
    {
     "name": "stdout",
     "output_type": "stream",
     "text": [
      "This is the pipeline with appositions going both ways\n"
     ]
    },
    {
     "name": "stderr",
     "output_type": "stream",
     "text": [
      " 21%|████████████████▎                                                              | 466/2265 [07:44<13:26,  2.23it/s]"
     ]
    },
    {
     "name": "stdout",
     "output_type": "stream",
     "text": [
      "This is the pipeline with appositions going both ways\n"
     ]
    },
    {
     "name": "stderr",
     "output_type": "stream",
     "text": [
      " 21%|████████████████▎                                                              | 467/2265 [07:45<13:29,  2.22it/s]"
     ]
    },
    {
     "name": "stdout",
     "output_type": "stream",
     "text": [
      "This is the pipeline with appositions going both ways\n"
     ]
    },
    {
     "name": "stderr",
     "output_type": "stream",
     "text": [
      " 21%|████████████████▎                                                              | 468/2265 [07:45<11:56,  2.51it/s]"
     ]
    },
    {
     "name": "stdout",
     "output_type": "stream",
     "text": [
      "This is the pipeline with appositions going both ways\n"
     ]
    },
    {
     "name": "stderr",
     "output_type": "stream",
     "text": [
      " 21%|████████████████▎                                                              | 469/2265 [07:46<11:59,  2.50it/s]"
     ]
    },
    {
     "name": "stdout",
     "output_type": "stream",
     "text": [
      "This is the pipeline with appositions going both ways\n"
     ]
    },
    {
     "name": "stderr",
     "output_type": "stream",
     "text": [
      " 21%|████████████████▍                                                              | 470/2265 [07:46<10:43,  2.79it/s]"
     ]
    },
    {
     "name": "stdout",
     "output_type": "stream",
     "text": [
      "This is the pipeline with appositions going both ways\n"
     ]
    },
    {
     "name": "stderr",
     "output_type": "stream",
     "text": [
      " 21%|████████████████▍                                                              | 471/2265 [07:47<14:47,  2.02it/s]"
     ]
    },
    {
     "name": "stdout",
     "output_type": "stream",
     "text": [
      "This is the pipeline with appositions going both ways\n"
     ]
    },
    {
     "name": "stderr",
     "output_type": "stream",
     "text": [
      " 21%|████████████████▍                                                              | 473/2265 [07:47<10:47,  2.77it/s]"
     ]
    },
    {
     "name": "stdout",
     "output_type": "stream",
     "text": [
      "This is the pipeline with appositions going both ways\n",
      "This is the pipeline with appositions going both ways\n"
     ]
    },
    {
     "name": "stderr",
     "output_type": "stream",
     "text": [
      " 21%|████████████████▌                                                              | 475/2265 [07:48<08:37,  3.46it/s]"
     ]
    },
    {
     "name": "stdout",
     "output_type": "stream",
     "text": [
      "This is the pipeline with appositions going both ways\n",
      "This is the pipeline with appositions going both ways\n"
     ]
    },
    {
     "name": "stderr",
     "output_type": "stream",
     "text": [
      " 21%|████████████████▌                                                              | 476/2265 [07:48<09:40,  3.08it/s]"
     ]
    },
    {
     "name": "stdout",
     "output_type": "stream",
     "text": [
      "This is the pipeline with appositions going both ways\n"
     ]
    },
    {
     "name": "stderr",
     "output_type": "stream",
     "text": [
      " 21%|████████████████▋                                                              | 477/2265 [07:48<08:38,  3.45it/s]"
     ]
    },
    {
     "name": "stdout",
     "output_type": "stream",
     "text": [
      "This is the pipeline with appositions going both ways\n"
     ]
    },
    {
     "name": "stderr",
     "output_type": "stream",
     "text": [
      " 21%|████████████████▋                                                              | 478/2265 [07:49<09:20,  3.19it/s]"
     ]
    },
    {
     "name": "stdout",
     "output_type": "stream",
     "text": [
      "This is the pipeline with appositions going both ways\n"
     ]
    },
    {
     "name": "stderr",
     "output_type": "stream",
     "text": [
      " 21%|████████████████▋                                                              | 479/2265 [07:49<08:55,  3.33it/s]"
     ]
    },
    {
     "name": "stdout",
     "output_type": "stream",
     "text": [
      "This is the pipeline with appositions going both ways\n"
     ]
    },
    {
     "name": "stderr",
     "output_type": "stream",
     "text": [
      " 21%|████████████████▋                                                              | 480/2265 [07:49<09:28,  3.14it/s]"
     ]
    },
    {
     "name": "stdout",
     "output_type": "stream",
     "text": [
      "This is the pipeline with appositions going both ways\n"
     ]
    },
    {
     "name": "stderr",
     "output_type": "stream",
     "text": [
      " 21%|████████████████▊                                                              | 481/2265 [07:50<10:09,  2.93it/s]"
     ]
    },
    {
     "name": "stdout",
     "output_type": "stream",
     "text": [
      "This is the pipeline with appositions going both ways\n"
     ]
    },
    {
     "name": "stderr",
     "output_type": "stream",
     "text": [
      " 21%|████████████████▊                                                              | 483/2265 [07:50<08:47,  3.38it/s]"
     ]
    },
    {
     "name": "stdout",
     "output_type": "stream",
     "text": [
      "This is the pipeline with appositions going both ways\n",
      "This is the pipeline with appositions going both ways\n"
     ]
    },
    {
     "name": "stderr",
     "output_type": "stream",
     "text": [
      " 21%|████████████████▉                                                              | 484/2265 [07:50<09:08,  3.25it/s]"
     ]
    },
    {
     "name": "stdout",
     "output_type": "stream",
     "text": [
      "This is the pipeline with appositions going both ways\n"
     ]
    },
    {
     "name": "stderr",
     "output_type": "stream",
     "text": [
      " 21%|████████████████▉                                                              | 485/2265 [07:51<10:03,  2.95it/s]"
     ]
    },
    {
     "name": "stdout",
     "output_type": "stream",
     "text": [
      "This is the pipeline with appositions going both ways\n"
     ]
    },
    {
     "name": "stderr",
     "output_type": "stream",
     "text": [
      " 21%|████████████████▉                                                              | 486/2265 [07:51<09:08,  3.25it/s]"
     ]
    },
    {
     "name": "stdout",
     "output_type": "stream",
     "text": [
      "This is the pipeline with appositions going both ways\n"
     ]
    },
    {
     "name": "stderr",
     "output_type": "stream",
     "text": [
      " 22%|████████████████▉                                                              | 487/2265 [07:52<10:39,  2.78it/s]"
     ]
    },
    {
     "name": "stdout",
     "output_type": "stream",
     "text": [
      "This is the pipeline with appositions going both ways\n"
     ]
    },
    {
     "name": "stderr",
     "output_type": "stream",
     "text": [
      " 22%|█████████████████                                                              | 488/2265 [07:52<11:10,  2.65it/s]"
     ]
    },
    {
     "name": "stdout",
     "output_type": "stream",
     "text": [
      "This is the pipeline with appositions going both ways\n"
     ]
    },
    {
     "name": "stderr",
     "output_type": "stream",
     "text": [
      " 22%|█████████████████                                                              | 489/2265 [07:52<09:55,  2.98it/s]"
     ]
    },
    {
     "name": "stdout",
     "output_type": "stream",
     "text": [
      "This is the pipeline with appositions going both ways\n"
     ]
    },
    {
     "name": "stderr",
     "output_type": "stream",
     "text": [
      " 22%|█████████████████                                                              | 490/2265 [07:55<29:18,  1.01it/s]"
     ]
    },
    {
     "name": "stdout",
     "output_type": "stream",
     "text": [
      "This is the pipeline with appositions going both ways\n"
     ]
    },
    {
     "name": "stderr",
     "output_type": "stream",
     "text": [
      " 22%|█████████████████▏                                                             | 491/2265 [07:55<22:45,  1.30it/s]"
     ]
    },
    {
     "name": "stdout",
     "output_type": "stream",
     "text": [
      "This is the pipeline with appositions going both ways\n"
     ]
    },
    {
     "name": "stderr",
     "output_type": "stream",
     "text": [
      " 22%|████████████████▋                                                            | 492/2265 [08:01<1:05:10,  2.21s/it]"
     ]
    },
    {
     "name": "stdout",
     "output_type": "stream",
     "text": [
      "This is the pipeline with appositions going both ways\n"
     ]
    },
    {
     "name": "stderr",
     "output_type": "stream",
     "text": [
      " 22%|████████████████▊                                                            | 493/2265 [08:03<1:10:42,  2.39s/it]"
     ]
    },
    {
     "name": "stdout",
     "output_type": "stream",
     "text": [
      "This is the pipeline with appositions going both ways\n"
     ]
    },
    {
     "name": "stderr",
     "output_type": "stream",
     "text": [
      " 22%|█████████████████▏                                                             | 494/2265 [08:05<59:15,  2.01s/it]"
     ]
    },
    {
     "name": "stdout",
     "output_type": "stream",
     "text": [
      "This is the pipeline with appositions going both ways\n"
     ]
    },
    {
     "name": "stderr",
     "output_type": "stream",
     "text": [
      " 22%|████████████████▊                                                            | 495/2265 [08:07<1:04:04,  2.17s/it]"
     ]
    },
    {
     "name": "stdout",
     "output_type": "stream",
     "text": [
      "This is the pipeline with appositions going both ways\n"
     ]
    },
    {
     "name": "stderr",
     "output_type": "stream",
     "text": [
      " 22%|█████████████████▎                                                             | 496/2265 [08:08<50:23,  1.71s/it]"
     ]
    },
    {
     "name": "stdout",
     "output_type": "stream",
     "text": [
      "2025-06-05 15:51:14.824 | INFO     | pipeline.correction.correction2:generate_possible_corrections:352 - Konnte Korrekturvorschlag '*' nicht erstellen: list index out of range\n",
      "2025-06-05 15:51:14.837 | INFO     | pipeline.correction.correction2:generate_possible_corrections:459 - Konnte Korrekturvorschlag 'BOTH_FORMS' nicht erstellen: list index out of range\n",
      "This is the pipeline with appositions going both ways\n"
     ]
    },
    {
     "name": "stderr",
     "output_type": "stream",
     "text": [
      " 22%|█████████████████▎                                                             | 497/2265 [08:08<40:35,  1.38s/it]"
     ]
    },
    {
     "name": "stdout",
     "output_type": "stream",
     "text": [
      "This is the pipeline with appositions going both ways\n"
     ]
    },
    {
     "name": "stderr",
     "output_type": "stream",
     "text": [
      " 22%|█████████████████▎                                                             | 498/2265 [08:09<34:21,  1.17s/it]"
     ]
    },
    {
     "name": "stdout",
     "output_type": "stream",
     "text": [
      "This is the pipeline with appositions going both ways\n"
     ]
    },
    {
     "name": "stderr",
     "output_type": "stream",
     "text": [
      " 22%|█████████████████▍                                                             | 499/2265 [08:12<47:05,  1.60s/it]"
     ]
    },
    {
     "name": "stdout",
     "output_type": "stream",
     "text": [
      "This is the pipeline with appositions going both ways\n"
     ]
    },
    {
     "name": "stderr",
     "output_type": "stream",
     "text": [
      " 22%|█████████████████▍                                                             | 500/2265 [08:12<36:11,  1.23s/it]"
     ]
    },
    {
     "name": "stdout",
     "output_type": "stream",
     "text": [
      "This is the pipeline with appositions going both ways\n"
     ]
    },
    {
     "name": "stderr",
     "output_type": "stream",
     "text": [
      " 22%|█████████████████▍                                                             | 501/2265 [08:12<30:04,  1.02s/it]"
     ]
    },
    {
     "name": "stdout",
     "output_type": "stream",
     "text": [
      "This is the pipeline with appositions going both ways\n"
     ]
    },
    {
     "name": "stderr",
     "output_type": "stream",
     "text": [
      " 22%|█████████████████▌                                                             | 502/2265 [08:13<29:21,  1.00it/s]"
     ]
    },
    {
     "name": "stdout",
     "output_type": "stream",
     "text": [
      "This is the pipeline with appositions going both ways\n"
     ]
    },
    {
     "name": "stderr",
     "output_type": "stream",
     "text": [
      " 22%|█████████████████▌                                                             | 503/2265 [08:14<26:39,  1.10it/s]"
     ]
    },
    {
     "name": "stdout",
     "output_type": "stream",
     "text": [
      "2025-06-05 15:51:21.211 | INFO     | pipeline.correction.correction2:generate_possible_corrections:501 - Konnte Korrekturvorschlag '*' nicht erstellen: list index out of range\n",
      "2025-06-05 15:51:21.224 | INFO     | pipeline.correction.correction2:generate_possible_corrections:519 - Konnte Korrekturvorschlag 'PLURAL_*' nicht erstellen: list index out of range\n",
      "This is the pipeline with appositions going both ways\n"
     ]
    },
    {
     "name": "stderr",
     "output_type": "stream",
     "text": [
      " 22%|█████████████████▌                                                             | 504/2265 [08:16<37:06,  1.26s/it]"
     ]
    },
    {
     "name": "stdout",
     "output_type": "stream",
     "text": [
      "This is the pipeline with appositions going both ways\n",
      "2025-06-05 15:51:24.013 | ERROR    | pipeline.full_pipeline:full_pipeline:38 - Fehler bei needs_to_be_gendered() für 'Soldaten': 'NoneType' object is not iterable\n",
      "2025-06-05 15:51:24.022 | ERROR    | pipeline.full_pipeline:full_pipeline:38 - Fehler bei needs_to_be_gendered() für 'Mörder': 'NoneType' object is not iterable\n"
     ]
    },
    {
     "name": "stderr",
     "output_type": "stream",
     "text": [
      " 22%|█████████████████▌                                                             | 505/2265 [08:17<32:45,  1.12s/it]"
     ]
    },
    {
     "name": "stdout",
     "output_type": "stream",
     "text": [
      "This is the pipeline with appositions going both ways\n"
     ]
    },
    {
     "name": "stderr",
     "output_type": "stream",
     "text": [
      " 22%|█████████████████▋                                                             | 506/2265 [08:17<26:37,  1.10it/s]"
     ]
    },
    {
     "name": "stdout",
     "output_type": "stream",
     "text": [
      "This is the pipeline with appositions going both ways\n"
     ]
    },
    {
     "name": "stderr",
     "output_type": "stream",
     "text": [
      " 22%|█████████████████▋                                                             | 507/2265 [08:18<23:20,  1.26it/s]"
     ]
    },
    {
     "name": "stdout",
     "output_type": "stream",
     "text": [
      "This is the pipeline with appositions going both ways\n"
     ]
    },
    {
     "name": "stderr",
     "output_type": "stream",
     "text": [
      " 22%|█████████████████▋                                                             | 508/2265 [08:18<20:37,  1.42it/s]"
     ]
    },
    {
     "name": "stdout",
     "output_type": "stream",
     "text": [
      "This is the pipeline with appositions going both ways\n"
     ]
    },
    {
     "name": "stderr",
     "output_type": "stream",
     "text": [
      " 22%|█████████████████▊                                                             | 509/2265 [08:19<22:25,  1.30it/s]"
     ]
    },
    {
     "name": "stdout",
     "output_type": "stream",
     "text": [
      "This is the pipeline with appositions going both ways\n"
     ]
    },
    {
     "name": "stderr",
     "output_type": "stream",
     "text": [
      " 23%|█████████████████▊                                                             | 510/2265 [08:20<20:26,  1.43it/s]"
     ]
    },
    {
     "name": "stdout",
     "output_type": "stream",
     "text": [
      "This is the pipeline with appositions going both ways\n"
     ]
    },
    {
     "name": "stderr",
     "output_type": "stream",
     "text": [
      " 23%|█████████████████▊                                                             | 511/2265 [08:21<20:58,  1.39it/s]"
     ]
    },
    {
     "name": "stdout",
     "output_type": "stream",
     "text": [
      "This is the pipeline with appositions going both ways\n"
     ]
    },
    {
     "name": "stderr",
     "output_type": "stream",
     "text": [
      " 23%|█████████████████▊                                                             | 512/2265 [08:21<16:29,  1.77it/s]"
     ]
    },
    {
     "name": "stdout",
     "output_type": "stream",
     "text": [
      "This is the pipeline with appositions going both ways\n"
     ]
    },
    {
     "name": "stderr",
     "output_type": "stream",
     "text": [
      " 23%|█████████████████▉                                                             | 513/2265 [08:22<21:38,  1.35it/s]"
     ]
    },
    {
     "name": "stdout",
     "output_type": "stream",
     "text": [
      "This is the pipeline with appositions going both ways\n"
     ]
    },
    {
     "name": "stderr",
     "output_type": "stream",
     "text": [
      " 23%|█████████████████▉                                                             | 514/2265 [08:22<18:39,  1.56it/s]"
     ]
    },
    {
     "name": "stdout",
     "output_type": "stream",
     "text": [
      "2025-06-05 15:51:29.590 | INFO     | pipeline.correction.correction2:generate_possible_corrections:459 - Konnte Korrekturvorschlag 'BOTH_FORMS' nicht erstellen: Es darf nur ein Element mit dieser Beziehung geben. (Politiker mit cd, war aber [weder, noch])\n",
      "This is the pipeline with appositions going both ways\n"
     ]
    },
    {
     "name": "stderr",
     "output_type": "stream",
     "text": [
      " 23%|█████████████████▉                                                             | 515/2265 [08:23<17:58,  1.62it/s]"
     ]
    },
    {
     "name": "stdout",
     "output_type": "stream",
     "text": [
      "This is the pipeline with appositions going both ways\n"
     ]
    },
    {
     "name": "stderr",
     "output_type": "stream",
     "text": [
      " 23%|█████████████████▉                                                             | 516/2265 [08:23<16:31,  1.76it/s]"
     ]
    },
    {
     "name": "stdout",
     "output_type": "stream",
     "text": [
      "This is the pipeline with appositions going both ways\n"
     ]
    },
    {
     "name": "stderr",
     "output_type": "stream",
     "text": [
      " 23%|██████████████████                                                             | 517/2265 [08:24<20:15,  1.44it/s]"
     ]
    },
    {
     "name": "stdout",
     "output_type": "stream",
     "text": [
      "This is the pipeline with appositions going both ways\n"
     ]
    },
    {
     "name": "stderr",
     "output_type": "stream",
     "text": [
      " 23%|██████████████████                                                             | 518/2265 [08:25<17:38,  1.65it/s]"
     ]
    },
    {
     "name": "stdout",
     "output_type": "stream",
     "text": [
      "This is the pipeline with appositions going both ways\n"
     ]
    },
    {
     "name": "stderr",
     "output_type": "stream",
     "text": [
      " 23%|██████████████████                                                             | 519/2265 [08:25<15:47,  1.84it/s]"
     ]
    },
    {
     "name": "stdout",
     "output_type": "stream",
     "text": [
      "This is the pipeline with appositions going both ways\n"
     ]
    },
    {
     "name": "stderr",
     "output_type": "stream",
     "text": [
      " 23%|██████████████████▏                                                            | 520/2265 [08:26<14:45,  1.97it/s]"
     ]
    },
    {
     "name": "stdout",
     "output_type": "stream",
     "text": [
      "This is the pipeline with appositions going both ways\n"
     ]
    },
    {
     "name": "stderr",
     "output_type": "stream",
     "text": [
      " 23%|██████████████████▏                                                            | 521/2265 [08:26<16:25,  1.77it/s]"
     ]
    },
    {
     "name": "stdout",
     "output_type": "stream",
     "text": [
      "This is the pipeline with appositions going both ways\n"
     ]
    },
    {
     "name": "stderr",
     "output_type": "stream",
     "text": [
      " 23%|██████████████████▏                                                            | 522/2265 [08:27<17:18,  1.68it/s]"
     ]
    },
    {
     "name": "stdout",
     "output_type": "stream",
     "text": [
      "This is the pipeline with appositions going both ways\n"
     ]
    },
    {
     "name": "stderr",
     "output_type": "stream",
     "text": [
      " 23%|██████████████████▏                                                            | 523/2265 [08:28<16:45,  1.73it/s]"
     ]
    },
    {
     "name": "stdout",
     "output_type": "stream",
     "text": [
      "This is the pipeline with appositions going both ways\n"
     ]
    },
    {
     "name": "stderr",
     "output_type": "stream",
     "text": [
      " 23%|██████████████████▎                                                            | 524/2265 [08:28<18:02,  1.61it/s]"
     ]
    },
    {
     "name": "stdout",
     "output_type": "stream",
     "text": [
      "This is the pipeline with appositions going both ways\n"
     ]
    },
    {
     "name": "stderr",
     "output_type": "stream",
     "text": [
      " 23%|██████████████████▎                                                            | 525/2265 [08:29<19:54,  1.46it/s]"
     ]
    },
    {
     "name": "stdout",
     "output_type": "stream",
     "text": [
      "This is the pipeline with appositions going both ways\n"
     ]
    },
    {
     "name": "stderr",
     "output_type": "stream",
     "text": [
      " 23%|██████████████████▎                                                            | 526/2265 [08:30<17:35,  1.65it/s]"
     ]
    },
    {
     "name": "stdout",
     "output_type": "stream",
     "text": [
      "This is the pipeline with appositions going both ways\n"
     ]
    },
    {
     "name": "stderr",
     "output_type": "stream",
     "text": [
      " 23%|██████████████████▍                                                            | 527/2265 [08:30<17:59,  1.61it/s]"
     ]
    },
    {
     "name": "stdout",
     "output_type": "stream",
     "text": [
      "This is the pipeline with appositions going both ways\n"
     ]
    },
    {
     "name": "stderr",
     "output_type": "stream",
     "text": [
      " 23%|██████████████████▍                                                            | 528/2265 [08:31<17:46,  1.63it/s]"
     ]
    },
    {
     "name": "stdout",
     "output_type": "stream",
     "text": [
      "2025-06-05 15:51:37.936 | INFO     | pipeline.correction.correction2:generate_possible_corrections:501 - Konnte Korrekturvorschlag '*' nicht erstellen: list index out of range\n",
      "2025-06-05 15:51:37.948 | INFO     | pipeline.correction.correction2:generate_possible_corrections:519 - Konnte Korrekturvorschlag 'PLURAL_*' nicht erstellen: list index out of range\n",
      "This is the pipeline with appositions going both ways\n"
     ]
    },
    {
     "name": "stderr",
     "output_type": "stream",
     "text": [
      " 23%|██████████████████▍                                                            | 530/2265 [08:32<13:54,  2.08it/s]"
     ]
    },
    {
     "name": "stdout",
     "output_type": "stream",
     "text": [
      "This is the pipeline with appositions going both ways\n",
      "This is the pipeline with appositions going both ways\n"
     ]
    },
    {
     "name": "stderr",
     "output_type": "stream",
     "text": [
      " 23%|██████████████████▌                                                            | 531/2265 [08:32<13:39,  2.12it/s]"
     ]
    },
    {
     "name": "stdout",
     "output_type": "stream",
     "text": [
      "2025-06-05 15:51:39.286 | INFO     | pipeline.correction.verb.change_verb_form:change_verb_form:13 - lex_target_verb not found: herausführe\n",
      "2025-06-05 15:51:39.286 | INFO     | pipeline.correction.correction2:generate_possible_corrections:519 - Konnte Korrekturvorschlag 'PLURAL_*' nicht erstellen: Das Verb konnte im Lexikon nicht gefunden werden: herausführe\n",
      "This is the pipeline with appositions going both ways\n"
     ]
    },
    {
     "name": "stderr",
     "output_type": "stream",
     "text": [
      " 24%|██████████████████▌                                                            | 533/2265 [08:32<09:37,  3.00it/s]"
     ]
    },
    {
     "name": "stdout",
     "output_type": "stream",
     "text": [
      "This is the pipeline with appositions going both ways\n",
      "This is the pipeline with appositions going both ways\n"
     ]
    },
    {
     "name": "stderr",
     "output_type": "stream",
     "text": [
      " 24%|██████████████████▋                                                            | 534/2265 [08:33<11:37,  2.48it/s]"
     ]
    },
    {
     "name": "stdout",
     "output_type": "stream",
     "text": [
      "This is the pipeline with appositions going both ways\n"
     ]
    },
    {
     "name": "stderr",
     "output_type": "stream",
     "text": [
      " 24%|██████████████████▋                                                            | 535/2265 [08:33<11:51,  2.43it/s]"
     ]
    },
    {
     "name": "stdout",
     "output_type": "stream",
     "text": [
      "This is the pipeline with appositions going both ways\n"
     ]
    },
    {
     "name": "stderr",
     "output_type": "stream",
     "text": [
      " 24%|██████████████████▋                                                            | 536/2265 [08:34<11:54,  2.42it/s]"
     ]
    },
    {
     "name": "stdout",
     "output_type": "stream",
     "text": [
      "This is the pipeline with appositions going both ways\n"
     ]
    },
    {
     "name": "stderr",
     "output_type": "stream",
     "text": [
      " 24%|██████████████████▋                                                            | 537/2265 [08:34<10:32,  2.73it/s]"
     ]
    },
    {
     "name": "stdout",
     "output_type": "stream",
     "text": [
      "This is the pipeline with appositions going both ways\n"
     ]
    },
    {
     "name": "stderr",
     "output_type": "stream",
     "text": [
      " 24%|██████████████████▊                                                            | 539/2265 [08:35<09:29,  3.03it/s]"
     ]
    },
    {
     "name": "stdout",
     "output_type": "stream",
     "text": [
      "This is the pipeline with appositions going both ways\n",
      "This is the pipeline with appositions going both ways\n"
     ]
    },
    {
     "name": "stderr",
     "output_type": "stream",
     "text": [
      " 24%|██████████████████▊                                                            | 540/2265 [08:35<10:07,  2.84it/s]"
     ]
    },
    {
     "name": "stdout",
     "output_type": "stream",
     "text": [
      "This is the pipeline with appositions going both ways\n"
     ]
    },
    {
     "name": "stderr",
     "output_type": "stream",
     "text": [
      " 24%|██████████████████▊                                                            | 541/2265 [08:37<25:27,  1.13it/s]"
     ]
    },
    {
     "name": "stdout",
     "output_type": "stream",
     "text": [
      "This is the pipeline with appositions going both ways\n"
     ]
    },
    {
     "name": "stderr",
     "output_type": "stream",
     "text": [
      " 24%|██████████████████▉                                                            | 542/2265 [08:38<23:02,  1.25it/s]"
     ]
    },
    {
     "name": "stdout",
     "output_type": "stream",
     "text": [
      "2025-06-05 15:51:44.992 | INFO     | pipeline.correction.correction2:generate_possible_corrections:501 - Konnte Korrekturvorschlag '*' nicht erstellen: list index out of range\n",
      "2025-06-05 15:51:44.993 | INFO     | pipeline.correction.correction2:generate_possible_corrections:519 - Konnte Korrekturvorschlag 'PLURAL_*' nicht erstellen: list index out of range\n",
      "This is the pipeline with appositions going both ways\n"
     ]
    },
    {
     "name": "stderr",
     "output_type": "stream",
     "text": [
      " 24%|██████████████████▉                                                            | 543/2265 [08:38<20:34,  1.39it/s]"
     ]
    },
    {
     "name": "stdout",
     "output_type": "stream",
     "text": [
      "This is the pipeline with appositions going both ways\n",
      "2025-06-05 15:51:45.954 | INFO     | pipeline.correction.correction2:generate_possible_corrections:501 - Konnte Korrekturvorschlag '*' nicht erstellen: list index out of range\n",
      "2025-06-05 15:51:45.966 | INFO     | pipeline.correction.correction2:generate_possible_corrections:519 - Konnte Korrekturvorschlag 'PLURAL_*' nicht erstellen: list index out of range\n"
     ]
    },
    {
     "name": "stderr",
     "output_type": "stream",
     "text": [
      " 24%|██████████████████▉                                                            | 544/2265 [08:39<18:51,  1.52it/s]"
     ]
    },
    {
     "name": "stdout",
     "output_type": "stream",
     "text": [
      "This is the pipeline with appositions going both ways\n"
     ]
    },
    {
     "name": "stderr",
     "output_type": "stream",
     "text": [
      " 24%|███████████████████                                                            | 545/2265 [08:39<14:57,  1.92it/s]"
     ]
    },
    {
     "name": "stdout",
     "output_type": "stream",
     "text": [
      "This is the pipeline with appositions going both ways\n"
     ]
    },
    {
     "name": "stderr",
     "output_type": "stream",
     "text": [
      " 24%|███████████████████                                                            | 546/2265 [08:40<16:39,  1.72it/s]"
     ]
    },
    {
     "name": "stdout",
     "output_type": "stream",
     "text": [
      "This is the pipeline with appositions going both ways\n"
     ]
    },
    {
     "name": "stderr",
     "output_type": "stream",
     "text": [
      " 24%|███████████████████                                                            | 547/2265 [08:40<15:44,  1.82it/s]"
     ]
    },
    {
     "name": "stdout",
     "output_type": "stream",
     "text": [
      "This is the pipeline with appositions going both ways\n"
     ]
    },
    {
     "name": "stderr",
     "output_type": "stream",
     "text": [
      " 24%|███████████████████                                                            | 548/2265 [08:41<15:49,  1.81it/s]"
     ]
    },
    {
     "name": "stdout",
     "output_type": "stream",
     "text": [
      "This is the pipeline with appositions going both ways\n"
     ]
    },
    {
     "name": "stderr",
     "output_type": "stream",
     "text": [
      " 24%|███████████████████▏                                                           | 549/2265 [08:41<13:30,  2.12it/s]"
     ]
    },
    {
     "name": "stdout",
     "output_type": "stream",
     "text": [
      "This is the pipeline with appositions going both ways\n"
     ]
    },
    {
     "name": "stderr",
     "output_type": "stream",
     "text": [
      " 24%|███████████████████▏                                                           | 550/2265 [08:41<11:13,  2.55it/s]"
     ]
    },
    {
     "name": "stdout",
     "output_type": "stream",
     "text": [
      "This is the pipeline with appositions going both ways\n"
     ]
    },
    {
     "name": "stderr",
     "output_type": "stream",
     "text": [
      " 24%|███████████████████▏                                                           | 551/2265 [08:42<09:51,  2.90it/s]"
     ]
    },
    {
     "name": "stdout",
     "output_type": "stream",
     "text": [
      "This is the pipeline with appositions going both ways\n"
     ]
    },
    {
     "name": "stderr",
     "output_type": "stream",
     "text": [
      " 24%|███████████████████▎                                                           | 553/2265 [08:42<07:19,  3.89it/s]"
     ]
    },
    {
     "name": "stdout",
     "output_type": "stream",
     "text": [
      "This is the pipeline with appositions going both ways\n",
      "This is the pipeline with appositions going both ways\n"
     ]
    },
    {
     "name": "stderr",
     "output_type": "stream",
     "text": [
      " 24%|███████████████████▎                                                           | 554/2265 [08:42<06:27,  4.41it/s]"
     ]
    },
    {
     "name": "stdout",
     "output_type": "stream",
     "text": [
      "This is the pipeline with appositions going both ways\n"
     ]
    },
    {
     "name": "stderr",
     "output_type": "stream",
     "text": [
      " 25%|███████████████████▎                                                           | 555/2265 [08:42<06:22,  4.47it/s]"
     ]
    },
    {
     "name": "stdout",
     "output_type": "stream",
     "text": [
      "This is the pipeline with appositions going both ways\n"
     ]
    },
    {
     "name": "stderr",
     "output_type": "stream",
     "text": [
      " 25%|███████████████████▍                                                           | 556/2265 [08:43<06:58,  4.08it/s]"
     ]
    },
    {
     "name": "stdout",
     "output_type": "stream",
     "text": [
      "This is the pipeline with appositions going both ways\n"
     ]
    },
    {
     "name": "stderr",
     "output_type": "stream",
     "text": [
      " 25%|███████████████████▍                                                           | 557/2265 [08:43<09:06,  3.13it/s]"
     ]
    },
    {
     "name": "stdout",
     "output_type": "stream",
     "text": [
      "This is the pipeline with appositions going both ways\n"
     ]
    },
    {
     "name": "stderr",
     "output_type": "stream",
     "text": [
      " 25%|███████████████████▍                                                           | 558/2265 [08:44<10:07,  2.81it/s]"
     ]
    },
    {
     "name": "stdout",
     "output_type": "stream",
     "text": [
      "This is the pipeline with appositions going both ways\n"
     ]
    },
    {
     "name": "stderr",
     "output_type": "stream",
     "text": [
      " 25%|███████████████████▍                                                           | 559/2265 [08:44<11:33,  2.46it/s]"
     ]
    },
    {
     "name": "stdout",
     "output_type": "stream",
     "text": [
      "This is the pipeline with appositions going both ways\n"
     ]
    },
    {
     "name": "stderr",
     "output_type": "stream",
     "text": [
      " 25%|███████████████████▌                                                           | 560/2265 [08:44<10:24,  2.73it/s]"
     ]
    },
    {
     "name": "stdout",
     "output_type": "stream",
     "text": [
      "This is the pipeline with appositions going both ways\n"
     ]
    },
    {
     "name": "stderr",
     "output_type": "stream",
     "text": [
      " 25%|███████████████████▌                                                           | 561/2265 [08:45<09:20,  3.04it/s]"
     ]
    },
    {
     "name": "stdout",
     "output_type": "stream",
     "text": [
      "This is the pipeline with appositions going both ways\n"
     ]
    },
    {
     "name": "stderr",
     "output_type": "stream",
     "text": [
      " 25%|███████████████████▌                                                           | 562/2265 [08:45<10:17,  2.76it/s]"
     ]
    },
    {
     "name": "stdout",
     "output_type": "stream",
     "text": [
      "This is the pipeline with appositions going both ways\n"
     ]
    },
    {
     "name": "stderr",
     "output_type": "stream",
     "text": [
      " 25%|███████████████████▋                                                           | 563/2265 [08:45<09:29,  2.99it/s]"
     ]
    },
    {
     "name": "stdout",
     "output_type": "stream",
     "text": [
      "This is the pipeline with appositions going both ways\n"
     ]
    },
    {
     "name": "stderr",
     "output_type": "stream",
     "text": [
      " 25%|███████████████████▋                                                           | 565/2265 [08:46<08:10,  3.46it/s]"
     ]
    },
    {
     "name": "stdout",
     "output_type": "stream",
     "text": [
      "This is the pipeline with appositions going both ways\n",
      "This is the pipeline with appositions going both ways\n"
     ]
    },
    {
     "name": "stderr",
     "output_type": "stream",
     "text": [
      " 25%|███████████████████▋                                                           | 566/2265 [08:46<07:29,  3.78it/s]"
     ]
    },
    {
     "name": "stdout",
     "output_type": "stream",
     "text": [
      "This is the pipeline with appositions going both ways\n"
     ]
    },
    {
     "name": "stderr",
     "output_type": "stream",
     "text": [
      " 25%|███████████████████▊                                                           | 567/2265 [08:47<09:46,  2.89it/s]"
     ]
    },
    {
     "name": "stdout",
     "output_type": "stream",
     "text": [
      "This is the pipeline with appositions going both ways\n"
     ]
    },
    {
     "name": "stderr",
     "output_type": "stream",
     "text": [
      " 25%|███████████████████▊                                                           | 568/2265 [08:47<12:08,  2.33it/s]"
     ]
    },
    {
     "name": "stdout",
     "output_type": "stream",
     "text": [
      "This is the pipeline with appositions going both ways\n"
     ]
    },
    {
     "name": "stderr",
     "output_type": "stream",
     "text": [
      " 25%|███████████████████▊                                                           | 569/2265 [08:48<15:42,  1.80it/s]"
     ]
    },
    {
     "name": "stdout",
     "output_type": "stream",
     "text": [
      "This is the pipeline with appositions going both ways\n"
     ]
    },
    {
     "name": "stderr",
     "output_type": "stream",
     "text": [
      " 25%|███████████████████▉                                                           | 570/2265 [08:49<15:06,  1.87it/s]"
     ]
    },
    {
     "name": "stdout",
     "output_type": "stream",
     "text": [
      "This is the pipeline with appositions going both ways\n"
     ]
    },
    {
     "name": "stderr",
     "output_type": "stream",
     "text": [
      " 25%|███████████████████▉                                                           | 572/2265 [08:49<09:58,  2.83it/s]"
     ]
    },
    {
     "name": "stdout",
     "output_type": "stream",
     "text": [
      "This is the pipeline with appositions going both ways\n",
      "This is the pipeline with appositions going both ways\n"
     ]
    },
    {
     "name": "stderr",
     "output_type": "stream",
     "text": [
      " 25%|████████████████████                                                           | 574/2265 [08:49<07:39,  3.68it/s]"
     ]
    },
    {
     "name": "stdout",
     "output_type": "stream",
     "text": [
      "This is the pipeline with appositions going both ways\n",
      "This is the pipeline with appositions going both ways\n"
     ]
    },
    {
     "name": "stderr",
     "output_type": "stream",
     "text": [
      " 25%|████████████████████                                                           | 575/2265 [08:50<07:44,  3.64it/s]"
     ]
    },
    {
     "name": "stdout",
     "output_type": "stream",
     "text": [
      "This is the pipeline with appositions going both ways\n"
     ]
    },
    {
     "name": "stderr",
     "output_type": "stream",
     "text": [
      " 25%|████████████████████                                                           | 576/2265 [08:50<07:17,  3.86it/s]"
     ]
    },
    {
     "name": "stdout",
     "output_type": "stream",
     "text": [
      "This is the pipeline with appositions going both ways\n"
     ]
    },
    {
     "name": "stderr",
     "output_type": "stream",
     "text": [
      " 25%|████████████████████                                                           | 577/2265 [08:50<07:35,  3.71it/s]"
     ]
    },
    {
     "name": "stdout",
     "output_type": "stream",
     "text": [
      "This is the pipeline with appositions going both ways\n"
     ]
    },
    {
     "name": "stderr",
     "output_type": "stream",
     "text": [
      " 26%|████████████████████▏                                                          | 578/2265 [08:51<11:04,  2.54it/s]"
     ]
    },
    {
     "name": "stdout",
     "output_type": "stream",
     "text": [
      "This is the pipeline with appositions going both ways\n"
     ]
    },
    {
     "name": "stderr",
     "output_type": "stream",
     "text": [
      " 26%|████████████████████▏                                                          | 579/2265 [08:51<13:13,  2.12it/s]"
     ]
    },
    {
     "name": "stdout",
     "output_type": "stream",
     "text": [
      "This is the pipeline with appositions going both ways\n"
     ]
    },
    {
     "name": "stderr",
     "output_type": "stream",
     "text": [
      " 26%|████████████████████▎                                                          | 581/2265 [08:52<10:05,  2.78it/s]"
     ]
    },
    {
     "name": "stdout",
     "output_type": "stream",
     "text": [
      "This is the pipeline with appositions going both ways\n",
      "This is the pipeline with appositions going both ways\n"
     ]
    },
    {
     "name": "stderr",
     "output_type": "stream",
     "text": [
      " 26%|████████████████████▎                                                          | 582/2265 [08:53<12:01,  2.33it/s]"
     ]
    },
    {
     "name": "stdout",
     "output_type": "stream",
     "text": [
      "2025-06-05 15:51:59.787 | INFO     | pipeline.correction.correction2:generate_possible_corrections:352 - Konnte Korrekturvorschlag '*' nicht erstellen: list index out of range\n",
      "2025-06-05 15:51:59.799 | INFO     | pipeline.correction.correction2:generate_possible_corrections:459 - Konnte Korrekturvorschlag 'BOTH_FORMS' nicht erstellen: list index out of range\n",
      "This is the pipeline with appositions going both ways\n"
     ]
    },
    {
     "name": "stderr",
     "output_type": "stream",
     "text": [
      " 26%|████████████████████▎                                                          | 583/2265 [08:53<13:48,  2.03it/s]"
     ]
    },
    {
     "name": "stdout",
     "output_type": "stream",
     "text": [
      "This is the pipeline with appositions going both ways\n"
     ]
    },
    {
     "name": "stderr",
     "output_type": "stream",
     "text": [
      " 26%|████████████████████▎                                                          | 584/2265 [08:54<13:43,  2.04it/s]"
     ]
    },
    {
     "name": "stdout",
     "output_type": "stream",
     "text": [
      "2025-06-05 15:52:00.826 | INFO     | pipeline.correction.correction2:generate_possible_corrections:501 - Konnte Korrekturvorschlag '*' nicht erstellen: list index out of range\n",
      "2025-06-05 15:52:00.839 | INFO     | pipeline.correction.correction2:generate_possible_corrections:519 - Konnte Korrekturvorschlag 'PLURAL_*' nicht erstellen: list index out of range\n",
      "This is the pipeline with appositions going both ways\n"
     ]
    },
    {
     "name": "stderr",
     "output_type": "stream",
     "text": [
      " 26%|████████████████████▍                                                          | 585/2265 [08:54<13:00,  2.15it/s]"
     ]
    },
    {
     "name": "stdout",
     "output_type": "stream",
     "text": [
      "This is the pipeline with appositions going both ways\n"
     ]
    },
    {
     "name": "stderr",
     "output_type": "stream",
     "text": [
      " 26%|████████████████████▍                                                          | 586/2265 [08:55<13:07,  2.13it/s]"
     ]
    },
    {
     "name": "stdout",
     "output_type": "stream",
     "text": [
      "This is the pipeline with appositions going both ways\n"
     ]
    },
    {
     "name": "stderr",
     "output_type": "stream",
     "text": [
      " 26%|████████████████████▍                                                          | 587/2265 [08:55<11:22,  2.46it/s]"
     ]
    },
    {
     "name": "stdout",
     "output_type": "stream",
     "text": [
      "This is the pipeline with appositions going both ways\n"
     ]
    },
    {
     "name": "stderr",
     "output_type": "stream",
     "text": [
      " 26%|████████████████████▌                                                          | 588/2265 [08:55<10:27,  2.67it/s]"
     ]
    },
    {
     "name": "stdout",
     "output_type": "stream",
     "text": [
      "2025-06-05 15:52:02.419 | ERROR    | pipeline.full_pipeline:full_pipeline:38 - Fehler bei needs_to_be_gendered() für 'Medikamente-Exporteur': Es darf nur ein Element mit dieser Beziehung geben. (sei mit sb, war aber [war, Deutschland])\n",
      "This is the pipeline with appositions going both ways\n"
     ]
    },
    {
     "name": "stderr",
     "output_type": "stream",
     "text": [
      " 26%|████████████████████▌                                                          | 589/2265 [08:56<11:38,  2.40it/s]"
     ]
    },
    {
     "name": "stdout",
     "output_type": "stream",
     "text": [
      "This is the pipeline with appositions going both ways\n"
     ]
    },
    {
     "name": "stderr",
     "output_type": "stream",
     "text": [
      " 26%|████████████████████▌                                                          | 590/2265 [08:58<27:06,  1.03it/s]"
     ]
    },
    {
     "name": "stdout",
     "output_type": "stream",
     "text": [
      "2025-06-05 15:52:05.114 | ERROR    | pipeline.full_pipeline:full_pipeline:38 - Fehler bei needs_to_be_gendered() für 'Auftraggeber': Es darf nur ein Element mit dieser Beziehung geben. (ist mit sb, war aber [Ruetz, hat])\n",
      "This is the pipeline with appositions going both ways\n"
     ]
    },
    {
     "name": "stderr",
     "output_type": "stream",
     "text": [
      " 26%|████████████████████▌                                                          | 591/2265 [08:59<25:33,  1.09it/s]"
     ]
    },
    {
     "name": "stdout",
     "output_type": "stream",
     "text": [
      "This is the pipeline with appositions going both ways\n",
      "2025-06-05 15:52:10.696 | INFO     | pipeline.correction.correction2:generate_possible_corrections:352 - Konnte Korrekturvorschlag '*' nicht erstellen: list index out of range\n",
      "2025-06-05 15:52:10.704 | INFO     | pipeline.correction.correction2:generate_possible_corrections:459 - Konnte Korrekturvorschlag 'BOTH_FORMS' nicht erstellen: list index out of range\n"
     ]
    },
    {
     "name": "stderr",
     "output_type": "stream",
     "text": [
      " 26%|████████████████████▏                                                        | 592/2265 [09:04<1:05:51,  2.36s/it]"
     ]
    },
    {
     "name": "stdout",
     "output_type": "stream",
     "text": [
      "This is the pipeline with appositions going both ways\n"
     ]
    },
    {
     "name": "stderr",
     "output_type": "stream",
     "text": [
      " 26%|████████████████████▏                                                        | 593/2265 [09:07<1:03:49,  2.29s/it]"
     ]
    },
    {
     "name": "stdout",
     "output_type": "stream",
     "text": [
      "This is the pipeline with appositions going both ways\n",
      "2025-06-05 15:52:15.052 | INFO     | pipeline.correction.correction2:generate_possible_corrections:501 - Konnte Korrekturvorschlag '*' nicht erstellen: list index out of range\n",
      "2025-06-05 15:52:15.064 | INFO     | pipeline.correction.correction2:generate_possible_corrections:519 - Konnte Korrekturvorschlag 'PLURAL_*' nicht erstellen: list index out of range\n"
     ]
    },
    {
     "name": "stderr",
     "output_type": "stream",
     "text": [
      " 26%|████████████████████▋                                                          | 594/2265 [09:08<58:49,  2.11s/it]"
     ]
    },
    {
     "name": "stdout",
     "output_type": "stream",
     "text": [
      "This is the pipeline with appositions going both ways\n"
     ]
    },
    {
     "name": "stderr",
     "output_type": "stream",
     "text": [
      " 26%|████████████████████▊                                                          | 595/2265 [09:10<55:33,  2.00s/it]"
     ]
    },
    {
     "name": "stdout",
     "output_type": "stream",
     "text": [
      "2025-06-05 15:52:17.134 | INFO     | pipeline.correction.correction2:generate_possible_corrections:352 - Konnte Korrekturvorschlag '*' nicht erstellen: list index out of range\n",
      "2025-06-05 15:52:17.142 | INFO     | pipeline.correction.correction2:generate_possible_corrections:459 - Konnte Korrekturvorschlag 'BOTH_FORMS' nicht erstellen: list index out of range\n",
      "2025-06-05 15:52:17.199 | INFO     | pipeline.correction.correction2:generate_possible_corrections:352 - Konnte Korrekturvorschlag '*' nicht erstellen: list index out of range\n",
      "2025-06-05 15:52:17.207 | INFO     | pipeline.correction.correction2:generate_possible_corrections:459 - Konnte Korrekturvorschlag 'BOTH_FORMS' nicht erstellen: list index out of range\n",
      "This is the pipeline with appositions going both ways\n"
     ]
    },
    {
     "name": "stderr",
     "output_type": "stream",
     "text": [
      " 26%|████████████████████▊                                                          | 596/2265 [09:11<43:18,  1.56s/it]"
     ]
    },
    {
     "name": "stdout",
     "output_type": "stream",
     "text": [
      "This is the pipeline with appositions going both ways\n",
      "This is the pipeline with appositions going both ways\n"
     ]
    },
    {
     "name": "stderr",
     "output_type": "stream",
     "text": [
      " 26%|████████████████████▊                                                          | 598/2265 [09:13<38:36,  1.39s/it]"
     ]
    },
    {
     "name": "stdout",
     "output_type": "stream",
     "text": [
      "This is the pipeline with appositions going both ways\n"
     ]
    },
    {
     "name": "stderr",
     "output_type": "stream",
     "text": [
      " 26%|████████████████████▉                                                          | 599/2265 [09:15<41:23,  1.49s/it]"
     ]
    },
    {
     "name": "stdout",
     "output_type": "stream",
     "text": [
      "2025-06-05 15:52:21.936 | INFO     | pipeline.correction.correction2:generate_possible_corrections:501 - Konnte Korrekturvorschlag '*' nicht erstellen: list index out of range\n",
      "2025-06-05 15:52:21.948 | INFO     | pipeline.correction.correction2:generate_possible_corrections:519 - Konnte Korrekturvorschlag 'PLURAL_*' nicht erstellen: list index out of range\n",
      "This is the pipeline with appositions going both ways\n"
     ]
    },
    {
     "name": "stderr",
     "output_type": "stream",
     "text": [
      " 26%|████████████████████▉                                                          | 600/2265 [09:17<43:28,  1.57s/it]"
     ]
    },
    {
     "name": "stdout",
     "output_type": "stream",
     "text": [
      "This is the pipeline with appositions going both ways\n"
     ]
    },
    {
     "name": "stderr",
     "output_type": "stream",
     "text": [
      " 27%|████████████████████▉                                                          | 601/2265 [09:18<39:31,  1.43s/it]"
     ]
    },
    {
     "name": "stdout",
     "output_type": "stream",
     "text": [
      "This is the pipeline with appositions going both ways\n",
      "2025-06-05 15:52:25.442 | ERROR    | pipeline.full_pipeline:full_pipeline:38 - Fehler bei needs_to_be_gendered() für 'Kandidaten': Es darf nur ein Element mit dieser Beziehung geben. (sind mit sb, war aber [hat, Beide])\n"
     ]
    },
    {
     "name": "stderr",
     "output_type": "stream",
     "text": [
      " 27%|████████████████████▉                                                          | 602/2265 [09:18<34:58,  1.26s/it]"
     ]
    },
    {
     "name": "stdout",
     "output_type": "stream",
     "text": [
      "This is the pipeline with appositions going both ways\n"
     ]
    },
    {
     "name": "stderr",
     "output_type": "stream",
     "text": [
      " 27%|█████████████████████                                                          | 603/2265 [09:19<30:32,  1.10s/it]"
     ]
    },
    {
     "name": "stdout",
     "output_type": "stream",
     "text": [
      "2025-06-05 15:52:26.249 | INFO     | pipeline.correction.correction2:generate_possible_corrections:352 - Konnte Korrekturvorschlag '*' nicht erstellen: list index out of range\n",
      "2025-06-05 15:52:26.257 | INFO     | pipeline.correction.correction2:generate_possible_corrections:459 - Konnte Korrekturvorschlag 'BOTH_FORMS' nicht erstellen: list index out of range\n",
      "This is the pipeline with appositions going both ways\n"
     ]
    },
    {
     "name": "stderr",
     "output_type": "stream",
     "text": [
      " 27%|█████████████████████                                                          | 604/2265 [09:20<25:23,  1.09it/s]"
     ]
    },
    {
     "name": "stdout",
     "output_type": "stream",
     "text": [
      "This is the pipeline with appositions going both ways\n"
     ]
    },
    {
     "name": "stderr",
     "output_type": "stream",
     "text": [
      " 27%|█████████████████████                                                          | 605/2265 [09:20<20:25,  1.35it/s]"
     ]
    },
    {
     "name": "stdout",
     "output_type": "stream",
     "text": [
      "This is the pipeline with appositions going both ways\n"
     ]
    },
    {
     "name": "stderr",
     "output_type": "stream",
     "text": [
      " 27%|█████████████████████▏                                                         | 606/2265 [09:20<19:10,  1.44it/s]"
     ]
    },
    {
     "name": "stdout",
     "output_type": "stream",
     "text": [
      "This is the pipeline with appositions going both ways\n"
     ]
    },
    {
     "name": "stderr",
     "output_type": "stream",
     "text": [
      " 27%|█████████████████████▏                                                         | 607/2265 [09:22<28:07,  1.02s/it]"
     ]
    },
    {
     "name": "stdout",
     "output_type": "stream",
     "text": [
      "This is the pipeline with appositions going both ways\n"
     ]
    },
    {
     "name": "stderr",
     "output_type": "stream",
     "text": [
      " 27%|█████████████████████▏                                                         | 608/2265 [09:23<23:38,  1.17it/s]"
     ]
    },
    {
     "name": "stdout",
     "output_type": "stream",
     "text": [
      "This is the pipeline with appositions going both ways\n"
     ]
    },
    {
     "name": "stderr",
     "output_type": "stream",
     "text": [
      " 27%|█████████████████████▏                                                         | 609/2265 [09:24<24:19,  1.13it/s]"
     ]
    },
    {
     "name": "stdout",
     "output_type": "stream",
     "text": [
      "2025-06-05 15:52:30.760 | INFO     | pipeline.correction.verb.change_verb_form:change_verb_form:13 - lex_target_verb not found: Erhielte\n",
      "2025-06-05 15:52:30.760 | INFO     | pipeline.correction.correction2:generate_possible_corrections:519 - Konnte Korrekturvorschlag 'PLURAL_*' nicht erstellen: Das Verb konnte im Lexikon nicht gefunden werden: Erhielte\n",
      "This is the pipeline with appositions going both ways\n"
     ]
    },
    {
     "name": "stderr",
     "output_type": "stream",
     "text": [
      " 27%|█████████████████████▎                                                         | 610/2265 [09:24<19:37,  1.41it/s]"
     ]
    },
    {
     "name": "stdout",
     "output_type": "stream",
     "text": [
      "This is the pipeline with appositions going both ways\n"
     ]
    },
    {
     "name": "stderr",
     "output_type": "stream",
     "text": [
      " 27%|█████████████████████▎                                                         | 611/2265 [09:24<17:11,  1.60it/s]"
     ]
    },
    {
     "name": "stdout",
     "output_type": "stream",
     "text": [
      "This is the pipeline with appositions going both ways\n"
     ]
    },
    {
     "name": "stderr",
     "output_type": "stream",
     "text": [
      " 27%|█████████████████████▎                                                         | 612/2265 [09:25<15:50,  1.74it/s]"
     ]
    },
    {
     "name": "stdout",
     "output_type": "stream",
     "text": [
      "This is the pipeline with appositions going both ways\n"
     ]
    },
    {
     "name": "stderr",
     "output_type": "stream",
     "text": [
      " 27%|█████████████████████▍                                                         | 613/2265 [09:26<17:38,  1.56it/s]"
     ]
    },
    {
     "name": "stdout",
     "output_type": "stream",
     "text": [
      "2025-06-05 15:52:32.796 | INFO     | pipeline.correction.correction2:generate_possible_corrections:352 - Konnte Korrekturvorschlag '*' nicht erstellen: list index out of range\n",
      "2025-06-05 15:52:32.808 | INFO     | pipeline.correction.correction2:generate_possible_corrections:459 - Konnte Korrekturvorschlag 'BOTH_FORMS' nicht erstellen: list index out of range\n",
      "2025-06-05 15:52:32.825 | INFO     | pipeline.correction.correction2:generate_possible_corrections:352 - Konnte Korrekturvorschlag '*' nicht erstellen: list index out of range\n",
      "2025-06-05 15:52:32.837 | INFO     | pipeline.correction.correction2:generate_possible_corrections:459 - Konnte Korrekturvorschlag 'BOTH_FORMS' nicht erstellen: list index out of range\n",
      "This is the pipeline with appositions going both ways\n"
     ]
    },
    {
     "name": "stderr",
     "output_type": "stream",
     "text": [
      " 27%|█████████████████████▍                                                         | 614/2265 [09:26<16:05,  1.71it/s]"
     ]
    },
    {
     "name": "stdout",
     "output_type": "stream",
     "text": [
      "This is the pipeline with appositions going both ways\n"
     ]
    },
    {
     "name": "stderr",
     "output_type": "stream",
     "text": [
      " 27%|█████████████████████▍                                                         | 615/2265 [09:27<19:01,  1.45it/s]"
     ]
    },
    {
     "name": "stdout",
     "output_type": "stream",
     "text": [
      "This is the pipeline with appositions going both ways\n"
     ]
    },
    {
     "name": "stderr",
     "output_type": "stream",
     "text": [
      " 27%|█████████████████████▍                                                         | 616/2265 [09:28<21:19,  1.29it/s]"
     ]
    },
    {
     "name": "stdout",
     "output_type": "stream",
     "text": [
      "This is the pipeline with appositions going both ways\n"
     ]
    },
    {
     "name": "stderr",
     "output_type": "stream",
     "text": [
      " 27%|█████████████████████▌                                                         | 617/2265 [09:28<18:34,  1.48it/s]"
     ]
    },
    {
     "name": "stdout",
     "output_type": "stream",
     "text": [
      "This is the pipeline with appositions going both ways\n"
     ]
    },
    {
     "name": "stderr",
     "output_type": "stream",
     "text": [
      " 27%|█████████████████████▌                                                         | 618/2265 [09:29<17:59,  1.53it/s]"
     ]
    },
    {
     "name": "stdout",
     "output_type": "stream",
     "text": [
      "This is the pipeline with appositions going both ways\n"
     ]
    },
    {
     "name": "stderr",
     "output_type": "stream",
     "text": [
      " 27%|█████████████████████▌                                                         | 619/2265 [09:30<24:16,  1.13it/s]"
     ]
    },
    {
     "name": "stdout",
     "output_type": "stream",
     "text": [
      "This is the pipeline with appositions going both ways\n"
     ]
    },
    {
     "name": "stderr",
     "output_type": "stream",
     "text": [
      " 27%|█████████████████████▋                                                         | 621/2265 [09:31<17:46,  1.54it/s]"
     ]
    },
    {
     "name": "stdout",
     "output_type": "stream",
     "text": [
      "This is the pipeline with appositions going both ways\n",
      "This is the pipeline with appositions going both ways\n"
     ]
    },
    {
     "name": "stderr",
     "output_type": "stream",
     "text": [
      " 27%|█████████████████████▋                                                         | 622/2265 [09:32<14:36,  1.87it/s]"
     ]
    },
    {
     "name": "stdout",
     "output_type": "stream",
     "text": [
      "This is the pipeline with appositions going both ways\n"
     ]
    },
    {
     "name": "stderr",
     "output_type": "stream",
     "text": [
      " 28%|█████████████████████▋                                                         | 623/2265 [09:32<13:15,  2.06it/s]"
     ]
    },
    {
     "name": "stdout",
     "output_type": "stream",
     "text": [
      "This is the pipeline with appositions going both ways\n"
     ]
    },
    {
     "name": "stderr",
     "output_type": "stream",
     "text": [
      " 28%|█████████████████████▊                                                         | 624/2265 [09:33<15:09,  1.80it/s]"
     ]
    },
    {
     "name": "stdout",
     "output_type": "stream",
     "text": [
      "This is the pipeline with appositions going both ways\n"
     ]
    },
    {
     "name": "stderr",
     "output_type": "stream",
     "text": [
      " 28%|█████████████████████▊                                                         | 625/2265 [09:33<15:03,  1.81it/s]"
     ]
    },
    {
     "name": "stdout",
     "output_type": "stream",
     "text": [
      "This is the pipeline with appositions going both ways\n"
     ]
    },
    {
     "name": "stderr",
     "output_type": "stream",
     "text": [
      " 28%|█████████████████████▊                                                         | 626/2265 [09:34<15:39,  1.74it/s]"
     ]
    },
    {
     "name": "stdout",
     "output_type": "stream",
     "text": [
      "This is the pipeline with appositions going both ways\n"
     ]
    },
    {
     "name": "stderr",
     "output_type": "stream",
     "text": [
      " 28%|█████████████████████▊                                                         | 627/2265 [09:34<14:14,  1.92it/s]"
     ]
    },
    {
     "name": "stdout",
     "output_type": "stream",
     "text": [
      "This is the pipeline with appositions going both ways\n"
     ]
    },
    {
     "name": "stderr",
     "output_type": "stream",
     "text": [
      " 28%|█████████████████████▉                                                         | 628/2265 [09:35<15:49,  1.72it/s]"
     ]
    },
    {
     "name": "stdout",
     "output_type": "stream",
     "text": [
      "This is the pipeline with appositions going both ways\n"
     ]
    },
    {
     "name": "stderr",
     "output_type": "stream",
     "text": [
      " 28%|█████████████████████▉                                                         | 629/2265 [09:36<15:58,  1.71it/s]"
     ]
    },
    {
     "name": "stdout",
     "output_type": "stream",
     "text": [
      "This is the pipeline with appositions going both ways\n"
     ]
    },
    {
     "name": "stderr",
     "output_type": "stream",
     "text": [
      " 28%|█████████████████████▉                                                         | 630/2265 [09:36<15:11,  1.79it/s]"
     ]
    },
    {
     "name": "stdout",
     "output_type": "stream",
     "text": [
      "This is the pipeline with appositions going both ways\n",
      "2025-06-05 15:52:44.535 | INFO     | pipeline.correction.correction2:generate_possible_corrections:501 - Konnte Korrekturvorschlag '*' nicht erstellen: list index out of range\n",
      "2025-06-05 15:52:44.550 | INFO     | pipeline.correction.correction2:generate_possible_corrections:519 - Konnte Korrekturvorschlag 'PLURAL_*' nicht erstellen: list index out of range\n"
     ]
    },
    {
     "name": "stderr",
     "output_type": "stream",
     "text": [
      " 28%|██████████████████████                                                         | 631/2265 [09:38<22:05,  1.23it/s]"
     ]
    },
    {
     "name": "stdout",
     "output_type": "stream",
     "text": [
      "This is the pipeline with appositions going both ways\n",
      "2025-06-05 15:52:46.796 | INFO     | pipeline.correction.correction2:generate_possible_corrections:352 - Konnte Korrekturvorschlag '*' nicht erstellen: list index out of range\n",
      "2025-06-05 15:52:46.803 | INFO     | pipeline.correction.correction2:generate_possible_corrections:459 - Konnte Korrekturvorschlag 'BOTH_FORMS' nicht erstellen: list index out of range\n"
     ]
    },
    {
     "name": "stderr",
     "output_type": "stream",
     "text": [
      " 28%|██████████████████████                                                         | 632/2265 [09:40<33:52,  1.24s/it]"
     ]
    },
    {
     "name": "stdout",
     "output_type": "stream",
     "text": [
      "This is the pipeline with appositions going both ways\n",
      "2025-06-05 15:52:48.042 | INFO     | pipeline.correction.correction2:generate_possible_corrections:501 - Konnte Korrekturvorschlag '*' nicht erstellen: list index out of range\n",
      "2025-06-05 15:52:48.055 | INFO     | pipeline.correction.correction2:generate_possible_corrections:519 - Konnte Korrekturvorschlag 'PLURAL_*' nicht erstellen: list index out of range\n"
     ]
    },
    {
     "name": "stderr",
     "output_type": "stream",
     "text": [
      " 28%|██████████████████████                                                         | 633/2265 [09:41<33:18,  1.22s/it]"
     ]
    },
    {
     "name": "stdout",
     "output_type": "stream",
     "text": [
      "This is the pipeline with appositions going both ways\n"
     ]
    },
    {
     "name": "stderr",
     "output_type": "stream",
     "text": [
      " 28%|██████████████████████                                                         | 634/2265 [09:42<31:00,  1.14s/it]"
     ]
    },
    {
     "name": "stdout",
     "output_type": "stream",
     "text": [
      "This is the pipeline with appositions going both ways\n"
     ]
    },
    {
     "name": "stderr",
     "output_type": "stream",
     "text": [
      " 28%|██████████████████████▏                                                        | 635/2265 [09:42<24:27,  1.11it/s]"
     ]
    },
    {
     "name": "stdout",
     "output_type": "stream",
     "text": [
      "This is the pipeline with appositions going both ways\n"
     ]
    },
    {
     "name": "stderr",
     "output_type": "stream",
     "text": [
      " 28%|██████████████████████▏                                                        | 636/2265 [09:43<22:50,  1.19it/s]"
     ]
    },
    {
     "name": "stdout",
     "output_type": "stream",
     "text": [
      "This is the pipeline with appositions going both ways\n",
      "This is the pipeline with appositions going both ways\n"
     ]
    },
    {
     "name": "stderr",
     "output_type": "stream",
     "text": [
      " 28%|██████████████████████▎                                                        | 638/2265 [09:44<15:32,  1.74it/s]"
     ]
    },
    {
     "name": "stdout",
     "output_type": "stream",
     "text": [
      "This is the pipeline with appositions going both ways\n"
     ]
    },
    {
     "name": "stderr",
     "output_type": "stream",
     "text": [
      " 28%|██████████████████████▎                                                        | 639/2265 [09:44<17:06,  1.58it/s]"
     ]
    },
    {
     "name": "stdout",
     "output_type": "stream",
     "text": [
      "This is the pipeline with appositions going both ways\n"
     ]
    },
    {
     "name": "stderr",
     "output_type": "stream",
     "text": [
      " 28%|██████████████████████▎                                                        | 640/2265 [09:45<17:13,  1.57it/s]"
     ]
    },
    {
     "name": "stdout",
     "output_type": "stream",
     "text": [
      "This is the pipeline with appositions going both ways\n"
     ]
    },
    {
     "name": "stderr",
     "output_type": "stream",
     "text": [
      " 28%|██████████████████████▎                                                        | 641/2265 [09:46<17:58,  1.51it/s]"
     ]
    },
    {
     "name": "stdout",
     "output_type": "stream",
     "text": [
      "This is the pipeline with appositions going both ways\n"
     ]
    },
    {
     "name": "stderr",
     "output_type": "stream",
     "text": [
      " 28%|██████████████████████▍                                                        | 642/2265 [09:47<20:44,  1.30it/s]"
     ]
    },
    {
     "name": "stdout",
     "output_type": "stream",
     "text": [
      "This is the pipeline with appositions going both ways\n"
     ]
    },
    {
     "name": "stderr",
     "output_type": "stream",
     "text": [
      " 28%|██████████████████████▍                                                        | 644/2265 [09:48<15:31,  1.74it/s]"
     ]
    },
    {
     "name": "stdout",
     "output_type": "stream",
     "text": [
      "This is the pipeline with appositions going both ways\n",
      "This is the pipeline with appositions going both ways\n"
     ]
    },
    {
     "name": "stderr",
     "output_type": "stream",
     "text": [
      " 28%|██████████████████████▍                                                        | 645/2265 [09:48<16:02,  1.68it/s]"
     ]
    },
    {
     "name": "stdout",
     "output_type": "stream",
     "text": [
      "This is the pipeline with appositions going both ways\n"
     ]
    },
    {
     "name": "stderr",
     "output_type": "stream",
     "text": [
      " 29%|██████████████████████▌                                                        | 646/2265 [09:49<14:04,  1.92it/s]"
     ]
    },
    {
     "name": "stdout",
     "output_type": "stream",
     "text": [
      "This is the pipeline with appositions going both ways\n"
     ]
    },
    {
     "name": "stderr",
     "output_type": "stream",
     "text": [
      " 29%|██████████████████████▌                                                        | 647/2265 [09:49<12:32,  2.15it/s]"
     ]
    },
    {
     "name": "stdout",
     "output_type": "stream",
     "text": [
      "This is the pipeline with appositions going both ways\n"
     ]
    },
    {
     "name": "stderr",
     "output_type": "stream",
     "text": [
      " 29%|██████████████████████▋                                                        | 649/2265 [09:50<12:58,  2.08it/s]"
     ]
    },
    {
     "name": "stdout",
     "output_type": "stream",
     "text": [
      "This is the pipeline with appositions going both ways\n",
      "This is the pipeline with appositions going both ways\n"
     ]
    },
    {
     "name": "stderr",
     "output_type": "stream",
     "text": [
      " 29%|██████████████████████▋                                                        | 650/2265 [09:51<18:51,  1.43it/s]"
     ]
    },
    {
     "name": "stdout",
     "output_type": "stream",
     "text": [
      "2025-06-05 15:52:58.375 | INFO     | pipeline.correction.correction2:generate_possible_corrections:352 - Konnte Korrekturvorschlag '*' nicht erstellen: list index out of range\n",
      "2025-06-05 15:52:58.389 | INFO     | pipeline.correction.correction2:generate_possible_corrections:459 - Konnte Korrekturvorschlag 'BOTH_FORMS' nicht erstellen: list index out of range\n",
      "This is the pipeline with appositions going both ways\n"
     ]
    },
    {
     "name": "stderr",
     "output_type": "stream",
     "text": [
      " 29%|██████████████████████▋                                                        | 651/2265 [09:52<19:07,  1.41it/s]"
     ]
    },
    {
     "name": "stdout",
     "output_type": "stream",
     "text": [
      "This is the pipeline with appositions going both ways\n"
     ]
    },
    {
     "name": "stderr",
     "output_type": "stream",
     "text": [
      " 29%|██████████████████████▋                                                        | 652/2265 [09:52<16:28,  1.63it/s]"
     ]
    },
    {
     "name": "stdout",
     "output_type": "stream",
     "text": [
      "This is the pipeline with appositions going both ways\n"
     ]
    },
    {
     "name": "stderr",
     "output_type": "stream",
     "text": [
      " 29%|██████████████████████▊                                                        | 654/2265 [09:53<13:54,  1.93it/s]"
     ]
    },
    {
     "name": "stdout",
     "output_type": "stream",
     "text": [
      "This is the pipeline with appositions going both ways\n",
      "This is the pipeline with appositions going both ways\n"
     ]
    },
    {
     "name": "stderr",
     "output_type": "stream",
     "text": [
      " 29%|██████████████████████▊                                                        | 655/2265 [09:54<11:18,  2.37it/s]"
     ]
    },
    {
     "name": "stdout",
     "output_type": "stream",
     "text": [
      "This is the pipeline with appositions going both ways\n"
     ]
    },
    {
     "name": "stderr",
     "output_type": "stream",
     "text": [
      " 29%|██████████████████████▉                                                        | 656/2265 [09:55<17:09,  1.56it/s]"
     ]
    },
    {
     "name": "stdout",
     "output_type": "stream",
     "text": [
      "This is the pipeline with appositions going both ways\n"
     ]
    },
    {
     "name": "stderr",
     "output_type": "stream",
     "text": [
      " 29%|██████████████████████▉                                                        | 657/2265 [09:55<16:20,  1.64it/s]"
     ]
    },
    {
     "name": "stdout",
     "output_type": "stream",
     "text": [
      "This is the pipeline with appositions going both ways\n"
     ]
    },
    {
     "name": "stderr",
     "output_type": "stream",
     "text": [
      " 29%|██████████████████████▉                                                        | 658/2265 [09:56<16:19,  1.64it/s]"
     ]
    },
    {
     "name": "stdout",
     "output_type": "stream",
     "text": [
      "This is the pipeline with appositions going both ways\n"
     ]
    },
    {
     "name": "stderr",
     "output_type": "stream",
     "text": [
      " 29%|██████████████████████▉                                                        | 659/2265 [09:56<14:01,  1.91it/s]"
     ]
    },
    {
     "name": "stdout",
     "output_type": "stream",
     "text": [
      "This is the pipeline with appositions going both ways\n"
     ]
    },
    {
     "name": "stderr",
     "output_type": "stream",
     "text": [
      " 29%|███████████████████████                                                        | 660/2265 [09:57<13:07,  2.04it/s]"
     ]
    },
    {
     "name": "stdout",
     "output_type": "stream",
     "text": [
      "This is the pipeline with appositions going both ways\n"
     ]
    },
    {
     "name": "stderr",
     "output_type": "stream",
     "text": [
      " 29%|███████████████████████                                                        | 662/2265 [09:57<09:23,  2.84it/s]"
     ]
    },
    {
     "name": "stdout",
     "output_type": "stream",
     "text": [
      "This is the pipeline with appositions going both ways\n",
      "This is the pipeline with appositions going both ways\n"
     ]
    },
    {
     "name": "stderr",
     "output_type": "stream",
     "text": [
      " 29%|███████████████████████                                                        | 663/2265 [09:57<08:09,  3.27it/s]"
     ]
    },
    {
     "name": "stdout",
     "output_type": "stream",
     "text": [
      "This is the pipeline with appositions going both ways\n"
     ]
    },
    {
     "name": "stderr",
     "output_type": "stream",
     "text": [
      " 29%|███████████████████████▏                                                       | 665/2265 [09:58<06:25,  4.15it/s]"
     ]
    },
    {
     "name": "stdout",
     "output_type": "stream",
     "text": [
      "This is the pipeline with appositions going both ways\n",
      "This is the pipeline with appositions going both ways\n"
     ]
    },
    {
     "name": "stderr",
     "output_type": "stream",
     "text": [
      " 29%|███████████████████████▏                                                       | 666/2265 [09:58<05:57,  4.48it/s]"
     ]
    },
    {
     "name": "stdout",
     "output_type": "stream",
     "text": [
      "This is the pipeline with appositions going both ways\n"
     ]
    },
    {
     "name": "stderr",
     "output_type": "stream",
     "text": [
      " 29%|███████████████████████▎                                                       | 667/2265 [09:58<06:19,  4.21it/s]"
     ]
    },
    {
     "name": "stdout",
     "output_type": "stream",
     "text": [
      "This is the pipeline with appositions going both ways\n"
     ]
    },
    {
     "name": "stderr",
     "output_type": "stream",
     "text": [
      " 29%|███████████████████████▎                                                       | 668/2265 [09:58<06:12,  4.29it/s]"
     ]
    },
    {
     "name": "stdout",
     "output_type": "stream",
     "text": [
      "This is the pipeline with appositions going both ways\n"
     ]
    },
    {
     "name": "stderr",
     "output_type": "stream",
     "text": [
      " 30%|███████████████████████▎                                                       | 669/2265 [09:59<11:30,  2.31it/s]"
     ]
    },
    {
     "name": "stdout",
     "output_type": "stream",
     "text": [
      "This is the pipeline with appositions going both ways\n"
     ]
    },
    {
     "name": "stderr",
     "output_type": "stream",
     "text": [
      " 30%|███████████████████████▎                                                       | 670/2265 [10:00<11:59,  2.22it/s]"
     ]
    },
    {
     "name": "stdout",
     "output_type": "stream",
     "text": [
      "This is the pipeline with appositions going both ways\n"
     ]
    },
    {
     "name": "stderr",
     "output_type": "stream",
     "text": [
      " 30%|███████████████████████▍                                                       | 671/2265 [10:00<10:47,  2.46it/s]"
     ]
    },
    {
     "name": "stdout",
     "output_type": "stream",
     "text": [
      "This is the pipeline with appositions going both ways\n"
     ]
    },
    {
     "name": "stderr",
     "output_type": "stream",
     "text": [
      " 30%|███████████████████████▍                                                       | 672/2265 [10:01<12:10,  2.18it/s]"
     ]
    },
    {
     "name": "stdout",
     "output_type": "stream",
     "text": [
      "This is the pipeline with appositions going both ways\n"
     ]
    },
    {
     "name": "stderr",
     "output_type": "stream",
     "text": [
      " 30%|███████████████████████▍                                                       | 673/2265 [10:01<15:32,  1.71it/s]"
     ]
    },
    {
     "name": "stdout",
     "output_type": "stream",
     "text": [
      "This is the pipeline with appositions going both ways\n"
     ]
    },
    {
     "name": "stderr",
     "output_type": "stream",
     "text": [
      " 30%|███████████████████████▌                                                       | 674/2265 [10:02<13:18,  1.99it/s]"
     ]
    },
    {
     "name": "stdout",
     "output_type": "stream",
     "text": [
      "This is the pipeline with appositions going both ways\n"
     ]
    },
    {
     "name": "stderr",
     "output_type": "stream",
     "text": [
      " 30%|███████████████████████▌                                                       | 675/2265 [10:02<14:39,  1.81it/s]"
     ]
    },
    {
     "name": "stdout",
     "output_type": "stream",
     "text": [
      "This is the pipeline with appositions going both ways\n"
     ]
    },
    {
     "name": "stderr",
     "output_type": "stream",
     "text": [
      " 30%|███████████████████████▌                                                       | 676/2265 [10:03<12:56,  2.05it/s]"
     ]
    },
    {
     "name": "stdout",
     "output_type": "stream",
     "text": [
      "This is the pipeline with appositions going both ways\n"
     ]
    },
    {
     "name": "stderr",
     "output_type": "stream",
     "text": [
      " 30%|███████████████████████▌                                                       | 677/2265 [10:04<17:16,  1.53it/s]"
     ]
    },
    {
     "name": "stdout",
     "output_type": "stream",
     "text": [
      "This is the pipeline with appositions going both ways\n"
     ]
    },
    {
     "name": "stderr",
     "output_type": "stream",
     "text": [
      " 30%|███████████████████████▋                                                       | 678/2265 [10:04<15:19,  1.73it/s]"
     ]
    },
    {
     "name": "stdout",
     "output_type": "stream",
     "text": [
      "This is the pipeline with appositions going both ways\n"
     ]
    },
    {
     "name": "stderr",
     "output_type": "stream",
     "text": [
      " 30%|███████████████████████▋                                                       | 679/2265 [10:05<15:25,  1.71it/s]"
     ]
    },
    {
     "name": "stdout",
     "output_type": "stream",
     "text": [
      "This is the pipeline with appositions going both ways\n"
     ]
    },
    {
     "name": "stderr",
     "output_type": "stream",
     "text": [
      " 30%|███████████████████████▋                                                       | 680/2265 [10:05<13:57,  1.89it/s]"
     ]
    },
    {
     "name": "stdout",
     "output_type": "stream",
     "text": [
      "This is the pipeline with appositions going both ways\n"
     ]
    },
    {
     "name": "stderr",
     "output_type": "stream",
     "text": [
      " 30%|███████████████████████▊                                                       | 681/2265 [10:06<13:00,  2.03it/s]"
     ]
    },
    {
     "name": "stdout",
     "output_type": "stream",
     "text": [
      "This is the pipeline with appositions going both ways\n"
     ]
    },
    {
     "name": "stderr",
     "output_type": "stream",
     "text": [
      " 30%|███████████████████████▊                                                       | 682/2265 [10:06<11:20,  2.33it/s]"
     ]
    },
    {
     "name": "stdout",
     "output_type": "stream",
     "text": [
      "This is the pipeline with appositions going both ways\n"
     ]
    },
    {
     "name": "stderr",
     "output_type": "stream",
     "text": [
      " 30%|███████████████████████▊                                                       | 683/2265 [10:06<11:00,  2.39it/s]"
     ]
    },
    {
     "name": "stdout",
     "output_type": "stream",
     "text": [
      "This is the pipeline with appositions going both ways\n"
     ]
    },
    {
     "name": "stderr",
     "output_type": "stream",
     "text": [
      " 30%|███████████████████████▊                                                       | 684/2265 [10:06<09:27,  2.79it/s]"
     ]
    },
    {
     "name": "stdout",
     "output_type": "stream",
     "text": [
      "This is the pipeline with appositions going both ways\n"
     ]
    },
    {
     "name": "stderr",
     "output_type": "stream",
     "text": [
      " 30%|███████████████████████▉                                                       | 686/2265 [10:07<08:18,  3.17it/s]"
     ]
    },
    {
     "name": "stdout",
     "output_type": "stream",
     "text": [
      "This is the pipeline with appositions going both ways\n",
      "This is the pipeline with appositions going both ways\n"
     ]
    },
    {
     "name": "stderr",
     "output_type": "stream",
     "text": [
      " 30%|███████████████████████▉                                                       | 688/2265 [10:08<06:57,  3.78it/s]"
     ]
    },
    {
     "name": "stdout",
     "output_type": "stream",
     "text": [
      "This is the pipeline with appositions going both ways\n",
      "This is the pipeline with appositions going both ways\n"
     ]
    },
    {
     "name": "stderr",
     "output_type": "stream",
     "text": [
      " 30%|████████████████████████                                                       | 689/2265 [10:08<10:33,  2.49it/s]"
     ]
    },
    {
     "name": "stdout",
     "output_type": "stream",
     "text": [
      "This is the pipeline with appositions going both ways\n"
     ]
    },
    {
     "name": "stderr",
     "output_type": "stream",
     "text": [
      " 30%|████████████████████████                                                       | 690/2265 [10:09<09:51,  2.66it/s]"
     ]
    },
    {
     "name": "stdout",
     "output_type": "stream",
     "text": [
      "This is the pipeline with appositions going both ways\n"
     ]
    },
    {
     "name": "stderr",
     "output_type": "stream",
     "text": [
      " 31%|████████████████████████                                                       | 691/2265 [10:09<09:30,  2.76it/s]"
     ]
    },
    {
     "name": "stdout",
     "output_type": "stream",
     "text": [
      "This is the pipeline with appositions going both ways\n"
     ]
    },
    {
     "name": "stderr",
     "output_type": "stream",
     "text": [
      " 31%|████████████████████████▏                                                      | 692/2265 [10:09<09:16,  2.83it/s]"
     ]
    },
    {
     "name": "stdout",
     "output_type": "stream",
     "text": [
      "This is the pipeline with appositions going both ways\n"
     ]
    },
    {
     "name": "stderr",
     "output_type": "stream",
     "text": [
      " 31%|████████████████████████▏                                                      | 693/2265 [10:10<10:41,  2.45it/s]"
     ]
    },
    {
     "name": "stdout",
     "output_type": "stream",
     "text": [
      "This is the pipeline with appositions going both ways\n"
     ]
    },
    {
     "name": "stderr",
     "output_type": "stream",
     "text": [
      " 31%|████████████████████████▏                                                      | 694/2265 [10:10<11:39,  2.24it/s]"
     ]
    },
    {
     "name": "stdout",
     "output_type": "stream",
     "text": [
      "This is the pipeline with appositions going both ways\n"
     ]
    },
    {
     "name": "stderr",
     "output_type": "stream",
     "text": [
      " 31%|████████████████████████▎                                                      | 696/2265 [10:11<10:04,  2.59it/s]"
     ]
    },
    {
     "name": "stdout",
     "output_type": "stream",
     "text": [
      "This is the pipeline with appositions going both ways\n",
      "This is the pipeline with appositions going both ways\n"
     ]
    },
    {
     "name": "stderr",
     "output_type": "stream",
     "text": [
      " 31%|████████████████████████▎                                                      | 697/2265 [10:11<10:25,  2.51it/s]"
     ]
    },
    {
     "name": "stdout",
     "output_type": "stream",
     "text": [
      "This is the pipeline with appositions going both ways\n",
      "2025-06-05 15:53:20.502 | INFO     | pipeline.correction.correction2:generate_possible_corrections:501 - Konnte Korrekturvorschlag '*' nicht erstellen: list index out of range\n",
      "2025-06-05 15:53:20.515 | INFO     | pipeline.correction.correction2:generate_possible_corrections:519 - Konnte Korrekturvorschlag 'PLURAL_*' nicht erstellen: list index out of range\n"
     ]
    },
    {
     "name": "stderr",
     "output_type": "stream",
     "text": [
      " 31%|████████████████████████▎                                                      | 698/2265 [10:14<25:18,  1.03it/s]"
     ]
    },
    {
     "name": "stdout",
     "output_type": "stream",
     "text": [
      "This is the pipeline with appositions going both ways\n"
     ]
    },
    {
     "name": "stderr",
     "output_type": "stream",
     "text": [
      " 31%|████████████████████████▍                                                      | 699/2265 [10:16<36:00,  1.38s/it]"
     ]
    },
    {
     "name": "stdout",
     "output_type": "stream",
     "text": [
      "This is the pipeline with appositions going both ways\n"
     ]
    },
    {
     "name": "stderr",
     "output_type": "stream",
     "text": [
      " 31%|████████████████████████▍                                                      | 700/2265 [10:17<32:36,  1.25s/it]"
     ]
    },
    {
     "name": "stdout",
     "output_type": "stream",
     "text": [
      "This is the pipeline with appositions going both ways\n"
     ]
    },
    {
     "name": "stderr",
     "output_type": "stream",
     "text": [
      " 31%|████████████████████████▍                                                      | 701/2265 [10:18<28:12,  1.08s/it]"
     ]
    },
    {
     "name": "stdout",
     "output_type": "stream",
     "text": [
      "This is the pipeline with appositions going both ways\n"
     ]
    },
    {
     "name": "stderr",
     "output_type": "stream",
     "text": [
      " 31%|████████████████████████▍                                                      | 702/2265 [10:19<27:58,  1.07s/it]"
     ]
    },
    {
     "name": "stdout",
     "output_type": "stream",
     "text": [
      "This is the pipeline with appositions going both ways\n",
      "2025-06-05 15:53:26.786 | INFO     | pipeline.correction.correction2:generate_possible_corrections:501 - Konnte Korrekturvorschlag '*' nicht erstellen: list index out of range\n",
      "2025-06-05 15:53:26.800 | INFO     | pipeline.correction.correction2:generate_possible_corrections:519 - Konnte Korrekturvorschlag 'PLURAL_*' nicht erstellen: list index out of range\n"
     ]
    },
    {
     "name": "stderr",
     "output_type": "stream",
     "text": [
      " 31%|████████████████████████▌                                                      | 703/2265 [10:20<27:46,  1.07s/it]"
     ]
    },
    {
     "name": "stdout",
     "output_type": "stream",
     "text": [
      "This is the pipeline with appositions going both ways\n"
     ]
    },
    {
     "name": "stderr",
     "output_type": "stream",
     "text": [
      " 31%|████████████████████████▌                                                      | 704/2265 [10:20<22:43,  1.14it/s]"
     ]
    },
    {
     "name": "stdout",
     "output_type": "stream",
     "text": [
      "This is the pipeline with appositions going both ways\n"
     ]
    },
    {
     "name": "stderr",
     "output_type": "stream",
     "text": [
      " 31%|████████████████████████▌                                                      | 705/2265 [10:23<37:29,  1.44s/it]"
     ]
    },
    {
     "name": "stdout",
     "output_type": "stream",
     "text": [
      "This is the pipeline with appositions going both ways\n"
     ]
    },
    {
     "name": "stderr",
     "output_type": "stream",
     "text": [
      " 31%|████████████████████████▌                                                      | 706/2265 [10:24<36:11,  1.39s/it]"
     ]
    },
    {
     "name": "stdout",
     "output_type": "stream",
     "text": [
      "This is the pipeline with appositions going both ways\n"
     ]
    },
    {
     "name": "stderr",
     "output_type": "stream",
     "text": [
      " 31%|████████████████████████▋                                                      | 707/2265 [10:25<32:49,  1.26s/it]"
     ]
    },
    {
     "name": "stdout",
     "output_type": "stream",
     "text": [
      "This is the pipeline with appositions going both ways\n"
     ]
    },
    {
     "name": "stderr",
     "output_type": "stream",
     "text": [
      " 31%|████████████████████████▋                                                      | 708/2265 [10:26<32:09,  1.24s/it]"
     ]
    },
    {
     "name": "stdout",
     "output_type": "stream",
     "text": [
      "2025-06-05 15:53:33.667 | INFO     | pipeline.correction.correction2:generate_possible_corrections:501 - Konnte Korrekturvorschlag '*' nicht erstellen: list index out of range\n",
      "2025-06-05 15:53:33.683 | INFO     | pipeline.correction.correction2:generate_possible_corrections:519 - Konnte Korrekturvorschlag 'PLURAL_*' nicht erstellen: list index out of range\n",
      "This is the pipeline with appositions going both ways\n"
     ]
    },
    {
     "name": "stderr",
     "output_type": "stream",
     "text": [
      " 31%|████████████████████████▋                                                      | 709/2265 [10:27<29:04,  1.12s/it]"
     ]
    },
    {
     "name": "stdout",
     "output_type": "stream",
     "text": [
      "This is the pipeline with appositions going both ways\n"
     ]
    },
    {
     "name": "stderr",
     "output_type": "stream",
     "text": [
      " 31%|████████████████████████▊                                                      | 710/2265 [10:30<41:24,  1.60s/it]"
     ]
    },
    {
     "name": "stdout",
     "output_type": "stream",
     "text": [
      "This is the pipeline with appositions going both ways\n"
     ]
    },
    {
     "name": "stderr",
     "output_type": "stream",
     "text": [
      " 31%|████████████████████████▊                                                      | 711/2265 [10:32<46:21,  1.79s/it]"
     ]
    },
    {
     "name": "stdout",
     "output_type": "stream",
     "text": [
      "This is the pipeline with appositions going both ways\n"
     ]
    },
    {
     "name": "stderr",
     "output_type": "stream",
     "text": [
      " 31%|████████████████████████▊                                                      | 712/2265 [10:33<40:34,  1.57s/it]"
     ]
    },
    {
     "name": "stdout",
     "output_type": "stream",
     "text": [
      "2025-06-05 15:53:40.523 | INFO     | pipeline.correction.correction2:generate_possible_corrections:352 - Konnte Korrekturvorschlag '*' nicht erstellen: list index out of range\n",
      "2025-06-05 15:53:40.535 | INFO     | pipeline.correction.correction2:generate_possible_corrections:459 - Konnte Korrekturvorschlag 'BOTH_FORMS' nicht erstellen: list index out of range\n",
      "This is the pipeline with appositions going both ways\n"
     ]
    },
    {
     "name": "stderr",
     "output_type": "stream",
     "text": [
      " 31%|████████████████████████▊                                                      | 713/2265 [10:34<33:18,  1.29s/it]"
     ]
    },
    {
     "name": "stdout",
     "output_type": "stream",
     "text": [
      "This is the pipeline with appositions going both ways\n"
     ]
    },
    {
     "name": "stderr",
     "output_type": "stream",
     "text": [
      " 32%|████████████████████████▉                                                      | 714/2265 [10:34<25:04,  1.03it/s]"
     ]
    },
    {
     "name": "stdout",
     "output_type": "stream",
     "text": [
      "This is the pipeline with appositions going both ways\n"
     ]
    },
    {
     "name": "stderr",
     "output_type": "stream",
     "text": [
      " 32%|████████████████████████▉                                                      | 715/2265 [10:39<53:48,  2.08s/it]"
     ]
    },
    {
     "name": "stdout",
     "output_type": "stream",
     "text": [
      "This is the pipeline with appositions going both ways\n"
     ]
    },
    {
     "name": "stderr",
     "output_type": "stream",
     "text": [
      " 32%|████████████████████████▉                                                      | 716/2265 [10:40<44:12,  1.71s/it]"
     ]
    },
    {
     "name": "stdout",
     "output_type": "stream",
     "text": [
      "This is the pipeline with appositions going both ways\n"
     ]
    },
    {
     "name": "stderr",
     "output_type": "stream",
     "text": [
      " 32%|█████████████████████████                                                      | 717/2265 [10:40<36:17,  1.41s/it]"
     ]
    },
    {
     "name": "stdout",
     "output_type": "stream",
     "text": [
      "2025-06-05 15:53:47.455 | ERROR    | pipeline.full_pipeline:full_pipeline:38 - Fehler bei needs_to_be_gendered() für 'Rentner': Es darf nur ein Element mit dieser Beziehung geben. (sind mit sb, war aber [FR-Leserin, Wir])\n",
      "This is the pipeline with appositions going both ways\n"
     ]
    },
    {
     "name": "stderr",
     "output_type": "stream",
     "text": [
      " 32%|█████████████████████████                                                      | 718/2265 [10:41<31:39,  1.23s/it]"
     ]
    },
    {
     "name": "stdout",
     "output_type": "stream",
     "text": [
      "This is the pipeline with appositions going both ways\n"
     ]
    },
    {
     "name": "stderr",
     "output_type": "stream",
     "text": [
      " 32%|█████████████████████████                                                      | 719/2265 [10:43<34:23,  1.33s/it]"
     ]
    },
    {
     "name": "stdout",
     "output_type": "stream",
     "text": [
      "2025-06-05 15:53:49.979 | INFO     | pipeline.correction.correction2:generate_possible_corrections:501 - Konnte Korrekturvorschlag '*' nicht erstellen: list index out of range\n",
      "2025-06-05 15:53:49.990 | INFO     | pipeline.correction.correction2:generate_possible_corrections:519 - Konnte Korrekturvorschlag 'PLURAL_*' nicht erstellen: list index out of range\n",
      "This is the pipeline with appositions going both ways\n"
     ]
    },
    {
     "name": "stderr",
     "output_type": "stream",
     "text": [
      " 32%|█████████████████████████                                                      | 720/2265 [10:44<30:07,  1.17s/it]"
     ]
    },
    {
     "name": "stdout",
     "output_type": "stream",
     "text": [
      "This is the pipeline with appositions going both ways\n"
     ]
    },
    {
     "name": "stderr",
     "output_type": "stream",
     "text": [
      " 32%|█████████████████████████▏                                                     | 721/2265 [10:44<25:03,  1.03it/s]"
     ]
    },
    {
     "name": "stdout",
     "output_type": "stream",
     "text": [
      "This is the pipeline with appositions going both ways\n"
     ]
    },
    {
     "name": "stderr",
     "output_type": "stream",
     "text": [
      " 32%|█████████████████████████▏                                                     | 722/2265 [10:45<21:10,  1.21it/s]"
     ]
    },
    {
     "name": "stdout",
     "output_type": "stream",
     "text": [
      "This is the pipeline with appositions going both ways\n"
     ]
    },
    {
     "name": "stderr",
     "output_type": "stream",
     "text": [
      " 32%|█████████████████████████▏                                                     | 723/2265 [10:45<18:52,  1.36it/s]"
     ]
    },
    {
     "name": "stdout",
     "output_type": "stream",
     "text": [
      "This is the pipeline with appositions going both ways\n"
     ]
    },
    {
     "name": "stderr",
     "output_type": "stream",
     "text": [
      " 32%|█████████████████████████▎                                                     | 724/2265 [10:45<15:28,  1.66it/s]"
     ]
    },
    {
     "name": "stdout",
     "output_type": "stream",
     "text": [
      "This is the pipeline with appositions going both ways\n"
     ]
    },
    {
     "name": "stderr",
     "output_type": "stream",
     "text": [
      " 32%|█████████████████████████▎                                                     | 725/2265 [10:47<25:51,  1.01s/it]"
     ]
    },
    {
     "name": "stdout",
     "output_type": "stream",
     "text": [
      "This is the pipeline with appositions going both ways\n"
     ]
    },
    {
     "name": "stderr",
     "output_type": "stream",
     "text": [
      " 32%|█████████████████████████▎                                                     | 726/2265 [10:48<25:37,  1.00it/s]"
     ]
    },
    {
     "name": "stdout",
     "output_type": "stream",
     "text": [
      "This is the pipeline with appositions going both ways\n"
     ]
    },
    {
     "name": "stderr",
     "output_type": "stream",
     "text": [
      " 32%|█████████████████████████▍                                                     | 728/2265 [10:49<14:36,  1.75it/s]"
     ]
    },
    {
     "name": "stdout",
     "output_type": "stream",
     "text": [
      "This is the pipeline with appositions going both ways\n",
      "This is the pipeline with appositions going both ways\n",
      "This is the pipeline with appositions going both ways\n"
     ]
    },
    {
     "name": "stderr",
     "output_type": "stream",
     "text": [
      " 32%|█████████████████████████▍                                                     | 730/2265 [10:49<09:20,  2.74it/s]"
     ]
    },
    {
     "name": "stdout",
     "output_type": "stream",
     "text": [
      "This is the pipeline with appositions going both ways\n"
     ]
    },
    {
     "name": "stderr",
     "output_type": "stream",
     "text": [
      " 32%|█████████████████████████▍                                                     | 731/2265 [10:51<22:36,  1.13it/s]"
     ]
    },
    {
     "name": "stdout",
     "output_type": "stream",
     "text": [
      "This is the pipeline with appositions going both ways\n"
     ]
    },
    {
     "name": "stderr",
     "output_type": "stream",
     "text": [
      " 32%|█████████████████████████▌                                                     | 732/2265 [10:52<21:27,  1.19it/s]"
     ]
    },
    {
     "name": "stdout",
     "output_type": "stream",
     "text": [
      "This is the pipeline with appositions going both ways\n"
     ]
    },
    {
     "name": "stderr",
     "output_type": "stream",
     "text": [
      " 32%|█████████████████████████▌                                                     | 733/2265 [10:53<20:00,  1.28it/s]"
     ]
    },
    {
     "name": "stdout",
     "output_type": "stream",
     "text": [
      "This is the pipeline with appositions going both ways\n"
     ]
    },
    {
     "name": "stderr",
     "output_type": "stream",
     "text": [
      " 32%|█████████████████████████▌                                                     | 734/2265 [10:53<19:15,  1.33it/s]"
     ]
    },
    {
     "name": "stdout",
     "output_type": "stream",
     "text": [
      "This is the pipeline with appositions going both ways\n"
     ]
    },
    {
     "name": "stderr",
     "output_type": "stream",
     "text": [
      " 32%|█████████████████████████▋                                                     | 735/2265 [10:54<16:20,  1.56it/s]"
     ]
    },
    {
     "name": "stdout",
     "output_type": "stream",
     "text": [
      "This is the pipeline with appositions going both ways\n"
     ]
    },
    {
     "name": "stderr",
     "output_type": "stream",
     "text": [
      " 32%|█████████████████████████▋                                                     | 736/2265 [10:55<19:09,  1.33it/s]"
     ]
    },
    {
     "name": "stdout",
     "output_type": "stream",
     "text": [
      "This is the pipeline with appositions going both ways\n"
     ]
    },
    {
     "name": "stderr",
     "output_type": "stream",
     "text": [
      " 33%|█████████████████████████▋                                                     | 737/2265 [10:55<16:29,  1.54it/s]"
     ]
    },
    {
     "name": "stdout",
     "output_type": "stream",
     "text": [
      "This is the pipeline with appositions going both ways\n"
     ]
    },
    {
     "name": "stderr",
     "output_type": "stream",
     "text": [
      " 33%|█████████████████████████▋                                                     | 738/2265 [10:56<19:07,  1.33it/s]"
     ]
    },
    {
     "name": "stdout",
     "output_type": "stream",
     "text": [
      "This is the pipeline with appositions going both ways\n"
     ]
    },
    {
     "name": "stderr",
     "output_type": "stream",
     "text": [
      " 33%|█████████████████████████▊                                                     | 739/2265 [10:56<15:55,  1.60it/s]"
     ]
    },
    {
     "name": "stdout",
     "output_type": "stream",
     "text": [
      "This is the pipeline with appositions going both ways\n"
     ]
    },
    {
     "name": "stderr",
     "output_type": "stream",
     "text": [
      " 33%|█████████████████████████▊                                                     | 740/2265 [10:57<15:39,  1.62it/s]"
     ]
    },
    {
     "name": "stdout",
     "output_type": "stream",
     "text": [
      "2025-06-05 15:54:04.185 | INFO     | pipeline.correction.correction2:generate_possible_corrections:459 - Konnte Korrekturvorschlag 'BOTH_FORMS' nicht erstellen: Es darf nur ein Element mit dieser Beziehung geben. (Demokraten mit cd, war aber [sowohl, als])\n",
      "2025-06-05 15:54:04.302 | INFO     | pipeline.correction.correction2:generate_possible_corrections:501 - Konnte Korrekturvorschlag '*' nicht erstellen: list index out of range\n",
      "2025-06-05 15:54:04.314 | INFO     | pipeline.correction.correction2:generate_possible_corrections:519 - Konnte Korrekturvorschlag 'PLURAL_*' nicht erstellen: list index out of range\n",
      "This is the pipeline with appositions going both ways\n"
     ]
    },
    {
     "name": "stderr",
     "output_type": "stream",
     "text": [
      " 33%|█████████████████████████▊                                                     | 741/2265 [10:57<13:11,  1.93it/s]"
     ]
    },
    {
     "name": "stdout",
     "output_type": "stream",
     "text": [
      "2025-06-05 15:54:04.603 | INFO     | pipeline.correction.correction2:generate_possible_corrections:352 - Konnte Korrekturvorschlag '*' nicht erstellen: list index out of range\n",
      "2025-06-05 15:54:04.611 | INFO     | pipeline.correction.correction2:generate_possible_corrections:459 - Konnte Korrekturvorschlag 'BOTH_FORMS' nicht erstellen: list index out of range\n",
      "This is the pipeline with appositions going both ways\n"
     ]
    },
    {
     "name": "stderr",
     "output_type": "stream",
     "text": [
      " 33%|█████████████████████████▉                                                     | 742/2265 [10:58<11:07,  2.28it/s]"
     ]
    },
    {
     "name": "stdout",
     "output_type": "stream",
     "text": [
      "This is the pipeline with appositions going both ways\n"
     ]
    },
    {
     "name": "stderr",
     "output_type": "stream",
     "text": [
      " 33%|█████████████████████████▉                                                     | 743/2265 [10:58<11:00,  2.30it/s]"
     ]
    },
    {
     "name": "stdout",
     "output_type": "stream",
     "text": [
      "This is the pipeline with appositions going both ways\n"
     ]
    },
    {
     "name": "stderr",
     "output_type": "stream",
     "text": [
      " 33%|█████████████████████████▉                                                     | 744/2265 [10:59<12:44,  1.99it/s]"
     ]
    },
    {
     "name": "stdout",
     "output_type": "stream",
     "text": [
      "This is the pipeline with appositions going both ways\n"
     ]
    },
    {
     "name": "stderr",
     "output_type": "stream",
     "text": [
      " 33%|██████████████████████████                                                     | 746/2265 [11:00<11:37,  2.18it/s]"
     ]
    },
    {
     "name": "stdout",
     "output_type": "stream",
     "text": [
      "This is the pipeline with appositions going both ways\n",
      "This is the pipeline with appositions going both ways\n"
     ]
    },
    {
     "name": "stderr",
     "output_type": "stream",
     "text": [
      " 33%|██████████████████████████                                                     | 747/2265 [11:00<11:34,  2.19it/s]"
     ]
    },
    {
     "name": "stdout",
     "output_type": "stream",
     "text": [
      "This is the pipeline with appositions going both ways\n"
     ]
    },
    {
     "name": "stderr",
     "output_type": "stream",
     "text": [
      " 33%|██████████████████████████                                                     | 748/2265 [11:01<14:01,  1.80it/s]"
     ]
    },
    {
     "name": "stdout",
     "output_type": "stream",
     "text": [
      "This is the pipeline with appositions going both ways\n"
     ]
    },
    {
     "name": "stderr",
     "output_type": "stream",
     "text": [
      " 33%|██████████████████████████                                                     | 749/2265 [11:02<15:54,  1.59it/s]"
     ]
    },
    {
     "name": "stdout",
     "output_type": "stream",
     "text": [
      "This is the pipeline with appositions going both ways\n"
     ]
    },
    {
     "name": "stderr",
     "output_type": "stream",
     "text": [
      " 33%|██████████████████████████▏                                                    | 750/2265 [11:03<18:27,  1.37it/s]"
     ]
    },
    {
     "name": "stdout",
     "output_type": "stream",
     "text": [
      "This is the pipeline with appositions going both ways\n"
     ]
    },
    {
     "name": "stderr",
     "output_type": "stream",
     "text": [
      " 33%|██████████████████████████▏                                                    | 751/2265 [11:03<17:45,  1.42it/s]"
     ]
    },
    {
     "name": "stdout",
     "output_type": "stream",
     "text": [
      "This is the pipeline with appositions going both ways\n"
     ]
    },
    {
     "name": "stderr",
     "output_type": "stream",
     "text": [
      " 33%|██████████████████████████▏                                                    | 752/2265 [11:04<14:38,  1.72it/s]"
     ]
    },
    {
     "name": "stdout",
     "output_type": "stream",
     "text": [
      "This is the pipeline with appositions going both ways\n"
     ]
    },
    {
     "name": "stderr",
     "output_type": "stream",
     "text": [
      " 33%|██████████████████████████▎                                                    | 753/2265 [11:04<14:32,  1.73it/s]"
     ]
    },
    {
     "name": "stdout",
     "output_type": "stream",
     "text": [
      "This is the pipeline with appositions going both ways\n",
      "2025-06-05 15:54:12.585 | INFO     | pipeline.correction.correction2:generate_possible_corrections:501 - Konnte Korrekturvorschlag '*' nicht erstellen: list index out of range\n",
      "2025-06-05 15:54:12.597 | INFO     | pipeline.correction.correction2:generate_possible_corrections:519 - Konnte Korrekturvorschlag 'PLURAL_*' nicht erstellen: list index out of range\n",
      "2025-06-05 15:54:12.684 | INFO     | pipeline.correction.correction2:generate_possible_corrections:501 - Konnte Korrekturvorschlag '*' nicht erstellen: list index out of range\n",
      "2025-06-05 15:54:12.695 | INFO     | pipeline.correction.correction2:generate_possible_corrections:519 - Konnte Korrekturvorschlag 'PLURAL_*' nicht erstellen: list index out of range\n"
     ]
    },
    {
     "name": "stderr",
     "output_type": "stream",
     "text": [
      " 33%|██████████████████████████▎                                                    | 754/2265 [11:06<22:29,  1.12it/s]"
     ]
    },
    {
     "name": "stdout",
     "output_type": "stream",
     "text": [
      "This is the pipeline with appositions going both ways\n"
     ]
    },
    {
     "name": "stderr",
     "output_type": "stream",
     "text": [
      " 33%|██████████████████████████▎                                                    | 756/2265 [11:07<20:14,  1.24it/s]"
     ]
    },
    {
     "name": "stdout",
     "output_type": "stream",
     "text": [
      "2025-06-05 15:54:14.540 | INFO     | pipeline.correction.correction2:generate_possible_corrections:501 - Konnte Korrekturvorschlag '*' nicht erstellen: list index out of range\n",
      "2025-06-05 15:54:14.555 | INFO     | pipeline.correction.correction2:generate_possible_corrections:519 - Konnte Korrekturvorschlag 'PLURAL_*' nicht erstellen: list index out of range\n",
      "This is the pipeline with appositions going both ways\n",
      "This is the pipeline with appositions going both ways\n"
     ]
    },
    {
     "name": "stderr",
     "output_type": "stream",
     "text": [
      " 33%|██████████████████████████▍                                                    | 757/2265 [11:08<16:03,  1.56it/s]"
     ]
    },
    {
     "name": "stdout",
     "output_type": "stream",
     "text": [
      "This is the pipeline with appositions going both ways\n"
     ]
    },
    {
     "name": "stderr",
     "output_type": "stream",
     "text": [
      " 33%|██████████████████████████▍                                                    | 758/2265 [11:09<19:35,  1.28it/s]"
     ]
    },
    {
     "name": "stdout",
     "output_type": "stream",
     "text": [
      "This is the pipeline with appositions going both ways\n"
     ]
    },
    {
     "name": "stderr",
     "output_type": "stream",
     "text": [
      " 34%|██████████████████████████▍                                                    | 759/2265 [11:09<15:48,  1.59it/s]"
     ]
    },
    {
     "name": "stdout",
     "output_type": "stream",
     "text": [
      "This is the pipeline with appositions going both ways\n"
     ]
    },
    {
     "name": "stderr",
     "output_type": "stream",
     "text": [
      " 34%|██████████████████████████▌                                                    | 760/2265 [11:10<14:34,  1.72it/s]"
     ]
    },
    {
     "name": "stdout",
     "output_type": "stream",
     "text": [
      "This is the pipeline with appositions going both ways\n"
     ]
    },
    {
     "name": "stderr",
     "output_type": "stream",
     "text": [
      " 34%|██████████████████████████▌                                                    | 761/2265 [11:10<12:35,  1.99it/s]"
     ]
    },
    {
     "name": "stdout",
     "output_type": "stream",
     "text": [
      "This is the pipeline with appositions going both ways\n"
     ]
    },
    {
     "name": "stderr",
     "output_type": "stream",
     "text": [
      " 34%|██████████████████████████▌                                                    | 762/2265 [11:11<14:36,  1.72it/s]"
     ]
    },
    {
     "name": "stdout",
     "output_type": "stream",
     "text": [
      "This is the pipeline with appositions going both ways\n"
     ]
    },
    {
     "name": "stderr",
     "output_type": "stream",
     "text": [
      " 34%|██████████████████████████▌                                                    | 763/2265 [11:11<14:41,  1.70it/s]"
     ]
    },
    {
     "name": "stdout",
     "output_type": "stream",
     "text": [
      "2025-06-05 15:54:18.457 | INFO     | pipeline.correction.correction2:generate_possible_corrections:352 - Konnte Korrekturvorschlag '*' nicht erstellen: list index out of range\n",
      "2025-06-05 15:54:18.469 | INFO     | pipeline.correction.correction2:generate_possible_corrections:459 - Konnte Korrekturvorschlag 'BOTH_FORMS' nicht erstellen: list index out of range\n",
      "This is the pipeline with appositions going both ways\n"
     ]
    },
    {
     "name": "stderr",
     "output_type": "stream",
     "text": [
      " 34%|██████████████████████████▋                                                    | 764/2265 [11:12<17:05,  1.46it/s]"
     ]
    },
    {
     "name": "stdout",
     "output_type": "stream",
     "text": [
      "This is the pipeline with appositions going both ways\n"
     ]
    },
    {
     "name": "stderr",
     "output_type": "stream",
     "text": [
      " 34%|██████████████████████████▋                                                    | 765/2265 [11:13<18:27,  1.35it/s]"
     ]
    },
    {
     "name": "stdout",
     "output_type": "stream",
     "text": [
      "This is the pipeline with appositions going both ways\n"
     ]
    },
    {
     "name": "stderr",
     "output_type": "stream",
     "text": [
      " 34%|██████████████████████████▋                                                    | 766/2265 [11:13<15:17,  1.63it/s]"
     ]
    },
    {
     "name": "stdout",
     "output_type": "stream",
     "text": [
      "This is the pipeline with appositions going both ways\n"
     ]
    },
    {
     "name": "stderr",
     "output_type": "stream",
     "text": [
      " 34%|██████████████████████████▊                                                    | 767/2265 [11:14<17:48,  1.40it/s]"
     ]
    },
    {
     "name": "stdout",
     "output_type": "stream",
     "text": [
      "This is the pipeline with appositions going both ways\n"
     ]
    },
    {
     "name": "stderr",
     "output_type": "stream",
     "text": [
      " 34%|██████████████████████████▊                                                    | 769/2265 [11:15<13:47,  1.81it/s]"
     ]
    },
    {
     "name": "stdout",
     "output_type": "stream",
     "text": [
      "This is the pipeline with appositions going both ways\n",
      "This is the pipeline with appositions going both ways\n"
     ]
    },
    {
     "name": "stderr",
     "output_type": "stream",
     "text": [
      " 34%|██████████████████████████▊                                                    | 770/2265 [11:15<10:37,  2.35it/s]"
     ]
    },
    {
     "name": "stdout",
     "output_type": "stream",
     "text": [
      "This is the pipeline with appositions going both ways\n"
     ]
    },
    {
     "name": "stderr",
     "output_type": "stream",
     "text": [
      " 34%|██████████████████████████▉                                                    | 771/2265 [11:16<09:35,  2.60it/s]"
     ]
    },
    {
     "name": "stdout",
     "output_type": "stream",
     "text": [
      "This is the pipeline with appositions going both ways\n"
     ]
    },
    {
     "name": "stderr",
     "output_type": "stream",
     "text": [
      " 34%|██████████████████████████▉                                                    | 773/2265 [11:16<08:00,  3.10it/s]"
     ]
    },
    {
     "name": "stdout",
     "output_type": "stream",
     "text": [
      "This is the pipeline with appositions going both ways\n",
      "This is the pipeline with appositions going both ways\n"
     ]
    },
    {
     "name": "stderr",
     "output_type": "stream",
     "text": [
      " 34%|██████████████████████████▉                                                    | 774/2265 [11:16<06:39,  3.74it/s]"
     ]
    },
    {
     "name": "stdout",
     "output_type": "stream",
     "text": [
      "This is the pipeline with appositions going both ways\n"
     ]
    },
    {
     "name": "stderr",
     "output_type": "stream",
     "text": [
      " 34%|███████████████████████████                                                    | 775/2265 [11:17<08:59,  2.76it/s]"
     ]
    },
    {
     "name": "stdout",
     "output_type": "stream",
     "text": [
      "This is the pipeline with appositions going both ways\n",
      "2025-06-05 15:54:24.353 | INFO     | pipeline.correction.correction2:generate_possible_corrections:459 - Konnte Korrekturvorschlag 'BOTH_FORMS' nicht erstellen: Es darf nur ein Element mit dieser Beziehung geben. (Emigranten mit cd, war aber [und, sowie])\n"
     ]
    },
    {
     "name": "stderr",
     "output_type": "stream",
     "text": [
      " 34%|███████████████████████████                                                    | 776/2265 [11:17<07:48,  3.18it/s]"
     ]
    },
    {
     "name": "stdout",
     "output_type": "stream",
     "text": [
      "This is the pipeline with appositions going both ways\n"
     ]
    },
    {
     "name": "stderr",
     "output_type": "stream",
     "text": [
      " 34%|███████████████████████████                                                    | 777/2265 [11:17<07:12,  3.44it/s]"
     ]
    },
    {
     "name": "stdout",
     "output_type": "stream",
     "text": [
      "This is the pipeline with appositions going both ways\n"
     ]
    },
    {
     "name": "stderr",
     "output_type": "stream",
     "text": [
      " 34%|███████████████████████████▏                                                   | 779/2265 [11:18<06:22,  3.88it/s]"
     ]
    },
    {
     "name": "stdout",
     "output_type": "stream",
     "text": [
      "This is the pipeline with appositions going both ways\n",
      "This is the pipeline with appositions going both ways\n"
     ]
    },
    {
     "name": "stderr",
     "output_type": "stream",
     "text": [
      " 34%|███████████████████████████▏                                                   | 781/2265 [11:18<06:14,  3.97it/s]"
     ]
    },
    {
     "name": "stdout",
     "output_type": "stream",
     "text": [
      "This is the pipeline with appositions going both ways\n",
      "This is the pipeline with appositions going both ways\n"
     ]
    },
    {
     "name": "stderr",
     "output_type": "stream",
     "text": [
      " 35%|███████████████████████████▎                                                   | 782/2265 [11:18<05:07,  4.82it/s]"
     ]
    },
    {
     "name": "stdout",
     "output_type": "stream",
     "text": [
      "This is the pipeline with appositions going both ways\n",
      "2025-06-05 15:54:26.571 | INFO     | pipeline.correction.correction2:generate_possible_corrections:519 - Konnte Korrekturvorschlag 'PLURAL_*' nicht erstellen: list index out of range\n",
      "2025-06-05 15:54:26.573 | INFO     | pipeline.correction.correction2:generate_possible_corrections:519 - Konnte Korrekturvorschlag 'PLURAL_*' nicht erstellen: list index out of range\n",
      "2025-06-05 15:54:26.750 | INFO     | pipeline.correction.correction2:generate_possible_corrections:501 - Konnte Korrekturvorschlag '*' nicht erstellen: list index out of range\n",
      "2025-06-05 15:54:26.757 | INFO     | pipeline.correction.correction2:generate_possible_corrections:519 - Konnte Korrekturvorschlag 'PLURAL_*' nicht erstellen: list index out of range\n",
      "2025-06-05 15:54:26.770 | INFO     | pipeline.correction.correction2:generate_possible_corrections:501 - Konnte Korrekturvorschlag '*' nicht erstellen: list index out of range\n"
     ]
    },
    {
     "name": "stderr",
     "output_type": "stream",
     "text": [
      " 35%|███████████████████████████▎                                                   | 783/2265 [11:20<11:40,  2.12it/s]"
     ]
    },
    {
     "name": "stdout",
     "output_type": "stream",
     "text": [
      "2025-06-05 15:54:26.778 | INFO     | pipeline.correction.correction2:generate_possible_corrections:519 - Konnte Korrekturvorschlag 'PLURAL_*' nicht erstellen: list index out of range\n",
      "2025-06-05 15:54:26.819 | INFO     | pipeline.correction.verb.change_verb_form:change_verb_form:13 - lex_target_verb not found: lie\n",
      "2025-06-05 15:54:26.820 | INFO     | pipeline.correction.correction2:generate_possible_corrections:519 - Konnte Korrekturvorschlag 'PLURAL_*' nicht erstellen: Das Verb konnte im Lexikon nicht gefunden werden: lie\n",
      "This is the pipeline with appositions going both ways\n"
     ]
    },
    {
     "name": "stderr",
     "output_type": "stream",
     "text": [
      " 35%|███████████████████████████▎                                                   | 784/2265 [11:20<10:51,  2.27it/s]"
     ]
    },
    {
     "name": "stdout",
     "output_type": "stream",
     "text": [
      "This is the pipeline with appositions going both ways\n",
      "This is the pipeline with appositions going both ways\n"
     ]
    },
    {
     "name": "stderr",
     "output_type": "stream",
     "text": [
      " 35%|███████████████████████████▍                                                   | 786/2265 [11:20<08:08,  3.03it/s]"
     ]
    },
    {
     "name": "stdout",
     "output_type": "stream",
     "text": [
      "This is the pipeline with appositions going both ways\n"
     ]
    },
    {
     "name": "stderr",
     "output_type": "stream",
     "text": [
      " 35%|███████████████████████████▍                                                   | 788/2265 [11:21<07:02,  3.50it/s]"
     ]
    },
    {
     "name": "stdout",
     "output_type": "stream",
     "text": [
      "This is the pipeline with appositions going both ways\n",
      "This is the pipeline with appositions going both ways\n"
     ]
    },
    {
     "name": "stderr",
     "output_type": "stream",
     "text": [
      " 35%|███████████████████████████▌                                                   | 789/2265 [11:21<06:40,  3.69it/s]"
     ]
    },
    {
     "name": "stdout",
     "output_type": "stream",
     "text": [
      "This is the pipeline with appositions going both ways\n"
     ]
    },
    {
     "name": "stderr",
     "output_type": "stream",
     "text": [
      " 35%|███████████████████████████▌                                                   | 790/2265 [11:21<06:18,  3.90it/s]"
     ]
    },
    {
     "name": "stdout",
     "output_type": "stream",
     "text": [
      "This is the pipeline with appositions going both ways\n",
      "This is the pipeline with appositions going both ways\n"
     ]
    },
    {
     "name": "stderr",
     "output_type": "stream",
     "text": [
      " 35%|███████████████████████████▌                                                   | 792/2265 [11:22<06:58,  3.52it/s]"
     ]
    },
    {
     "name": "stdout",
     "output_type": "stream",
     "text": [
      "This is the pipeline with appositions going both ways\n"
     ]
    },
    {
     "name": "stderr",
     "output_type": "stream",
     "text": [
      " 35%|███████████████████████████▋                                                   | 793/2265 [11:22<07:54,  3.10it/s]"
     ]
    },
    {
     "name": "stdout",
     "output_type": "stream",
     "text": [
      "This is the pipeline with appositions going both ways\n"
     ]
    },
    {
     "name": "stderr",
     "output_type": "stream",
     "text": [
      " 35%|███████████████████████████▋                                                   | 794/2265 [11:23<07:12,  3.40it/s]"
     ]
    },
    {
     "name": "stdout",
     "output_type": "stream",
     "text": [
      "This is the pipeline with appositions going both ways\n"
     ]
    },
    {
     "name": "stderr",
     "output_type": "stream",
     "text": [
      " 35%|███████████████████████████▋                                                   | 795/2265 [11:23<07:10,  3.41it/s]"
     ]
    },
    {
     "name": "stdout",
     "output_type": "stream",
     "text": [
      "This is the pipeline with appositions going both ways\n"
     ]
    },
    {
     "name": "stderr",
     "output_type": "stream",
     "text": [
      " 35%|███████████████████████████▊                                                   | 796/2265 [11:23<07:20,  3.34it/s]"
     ]
    },
    {
     "name": "stdout",
     "output_type": "stream",
     "text": [
      "This is the pipeline with appositions going both ways\n"
     ]
    },
    {
     "name": "stderr",
     "output_type": "stream",
     "text": [
      " 35%|███████████████████████████▊                                                   | 797/2265 [11:24<10:51,  2.25it/s]"
     ]
    },
    {
     "name": "stdout",
     "output_type": "stream",
     "text": [
      "This is the pipeline with appositions going both ways\n"
     ]
    },
    {
     "name": "stderr",
     "output_type": "stream",
     "text": [
      " 35%|███████████████████████████▊                                                   | 798/2265 [11:24<09:53,  2.47it/s]"
     ]
    },
    {
     "name": "stdout",
     "output_type": "stream",
     "text": [
      "This is the pipeline with appositions going both ways\n"
     ]
    },
    {
     "name": "stderr",
     "output_type": "stream",
     "text": [
      " 35%|███████████████████████████▊                                                   | 799/2265 [11:25<09:53,  2.47it/s]"
     ]
    },
    {
     "name": "stdout",
     "output_type": "stream",
     "text": [
      "This is the pipeline with appositions going both ways\n"
     ]
    },
    {
     "name": "stderr",
     "output_type": "stream",
     "text": [
      " 35%|███████████████████████████▉                                                   | 801/2265 [11:25<07:23,  3.30it/s]"
     ]
    },
    {
     "name": "stdout",
     "output_type": "stream",
     "text": [
      "This is the pipeline with appositions going both ways\n",
      "This is the pipeline with appositions going both ways\n"
     ]
    },
    {
     "name": "stderr",
     "output_type": "stream",
     "text": [
      " 35%|███████████████████████████▉                                                   | 802/2265 [11:26<10:36,  2.30it/s]"
     ]
    },
    {
     "name": "stdout",
     "output_type": "stream",
     "text": [
      "2025-06-05 15:54:32.930 | INFO     | pipeline.correction.correction2:generate_possible_corrections:352 - Konnte Korrekturvorschlag '*' nicht erstellen: list index out of range\n",
      "2025-06-05 15:54:32.942 | INFO     | pipeline.correction.correction2:generate_possible_corrections:459 - Konnte Korrekturvorschlag 'BOTH_FORMS' nicht erstellen: list index out of range\n",
      "This is the pipeline with appositions going both ways\n"
     ]
    },
    {
     "name": "stderr",
     "output_type": "stream",
     "text": [
      " 35%|████████████████████████████                                                   | 804/2265 [11:26<07:30,  3.24it/s]"
     ]
    },
    {
     "name": "stdout",
     "output_type": "stream",
     "text": [
      "This is the pipeline with appositions going both ways\n",
      "This is the pipeline with appositions going both ways\n"
     ]
    },
    {
     "name": "stderr",
     "output_type": "stream",
     "text": [
      " 36%|████████████████████████████                                                   | 805/2265 [11:27<10:38,  2.29it/s]"
     ]
    },
    {
     "name": "stdout",
     "output_type": "stream",
     "text": [
      "This is the pipeline with appositions going both ways\n"
     ]
    },
    {
     "name": "stderr",
     "output_type": "stream",
     "text": [
      " 36%|████████████████████████████                                                   | 806/2265 [11:27<09:15,  2.63it/s]"
     ]
    },
    {
     "name": "stdout",
     "output_type": "stream",
     "text": [
      "2025-06-05 15:54:34.424 | INFO     | pipeline.correction.verb.change_verb_form:change_verb_form:13 - lex_target_verb not found: besitz\n",
      "2025-06-05 15:54:34.424 | INFO     | pipeline.correction.correction2:generate_possible_corrections:519 - Konnte Korrekturvorschlag 'PLURAL_*' nicht erstellen: Das Verb konnte im Lexikon nicht gefunden werden: besitz\n",
      "2025-06-05 15:54:34.445 | INFO     | pipeline.correction.verb.change_verb_form:change_verb_form:13 - lex_target_verb not found: besitz\n",
      "2025-06-05 15:54:34.445 | INFO     | pipeline.correction.correction2:generate_possible_corrections:519 - Konnte Korrekturvorschlag 'PLURAL_*' nicht erstellen: Das Verb konnte im Lexikon nicht gefunden werden: besitz\n",
      "This is the pipeline with appositions going both ways\n"
     ]
    },
    {
     "name": "stderr",
     "output_type": "stream",
     "text": [
      " 36%|████████████████████████████▏                                                  | 808/2265 [11:28<07:42,  3.15it/s]"
     ]
    },
    {
     "name": "stdout",
     "output_type": "stream",
     "text": [
      "This is the pipeline with appositions going both ways\n",
      "This is the pipeline with appositions going both ways\n"
     ]
    },
    {
     "name": "stderr",
     "output_type": "stream",
     "text": [
      " 36%|████████████████████████████▏                                                  | 809/2265 [11:28<06:15,  3.88it/s]"
     ]
    },
    {
     "name": "stdout",
     "output_type": "stream",
     "text": [
      "This is the pipeline with appositions going both ways\n"
     ]
    },
    {
     "name": "stderr",
     "output_type": "stream",
     "text": [
      " 36%|████████████████████████████▎                                                  | 811/2265 [11:29<07:05,  3.42it/s]"
     ]
    },
    {
     "name": "stdout",
     "output_type": "stream",
     "text": [
      "This is the pipeline with appositions going both ways\n",
      "This is the pipeline with appositions going both ways\n"
     ]
    },
    {
     "name": "stderr",
     "output_type": "stream",
     "text": [
      " 36%|████████████████████████████▎                                                  | 812/2265 [11:29<06:52,  3.52it/s]"
     ]
    },
    {
     "name": "stdout",
     "output_type": "stream",
     "text": [
      "This is the pipeline with appositions going both ways\n"
     ]
    },
    {
     "name": "stderr",
     "output_type": "stream",
     "text": [
      " 36%|████████████████████████████▎                                                  | 813/2265 [11:29<08:18,  2.91it/s]"
     ]
    },
    {
     "name": "stdout",
     "output_type": "stream",
     "text": [
      "This is the pipeline with appositions going both ways\n"
     ]
    },
    {
     "name": "stderr",
     "output_type": "stream",
     "text": [
      " 36%|████████████████████████████▍                                                  | 814/2265 [11:30<10:45,  2.25it/s]"
     ]
    },
    {
     "name": "stdout",
     "output_type": "stream",
     "text": [
      "This is the pipeline with appositions going both ways\n"
     ]
    },
    {
     "name": "stderr",
     "output_type": "stream",
     "text": [
      " 36%|████████████████████████████▍                                                  | 816/2265 [11:30<07:19,  3.30it/s]"
     ]
    },
    {
     "name": "stdout",
     "output_type": "stream",
     "text": [
      "This is the pipeline with appositions going both ways\n",
      "This is the pipeline with appositions going both ways\n"
     ]
    },
    {
     "name": "stderr",
     "output_type": "stream",
     "text": [
      " 36%|████████████████████████████▍                                                  | 817/2265 [11:31<06:22,  3.79it/s]"
     ]
    },
    {
     "name": "stdout",
     "output_type": "stream",
     "text": [
      "This is the pipeline with appositions going both ways\n"
     ]
    },
    {
     "name": "stderr",
     "output_type": "stream",
     "text": [
      " 36%|████████████████████████████▌                                                  | 818/2265 [11:31<08:48,  2.74it/s]"
     ]
    },
    {
     "name": "stdout",
     "output_type": "stream",
     "text": [
      "This is the pipeline with appositions going both ways\n"
     ]
    },
    {
     "name": "stderr",
     "output_type": "stream",
     "text": [
      " 36%|████████████████████████████▌                                                  | 820/2265 [11:32<06:41,  3.60it/s]"
     ]
    },
    {
     "name": "stdout",
     "output_type": "stream",
     "text": [
      "This is the pipeline with appositions going both ways\n",
      "This is the pipeline with appositions going both ways\n"
     ]
    },
    {
     "name": "stderr",
     "output_type": "stream",
     "text": [
      " 36%|████████████████████████████▋                                                  | 821/2265 [11:32<06:50,  3.52it/s]"
     ]
    },
    {
     "name": "stdout",
     "output_type": "stream",
     "text": [
      "This is the pipeline with appositions going both ways\n"
     ]
    },
    {
     "name": "stderr",
     "output_type": "stream",
     "text": [
      " 36%|████████████████████████████▋                                                  | 822/2265 [11:33<12:01,  2.00it/s]"
     ]
    },
    {
     "name": "stdout",
     "output_type": "stream",
     "text": [
      "This is the pipeline with appositions going both ways\n"
     ]
    },
    {
     "name": "stderr",
     "output_type": "stream",
     "text": [
      " 36%|████████████████████████████▋                                                  | 823/2265 [11:36<27:54,  1.16s/it]"
     ]
    },
    {
     "name": "stdout",
     "output_type": "stream",
     "text": [
      "This is the pipeline with appositions going both ways\n"
     ]
    },
    {
     "name": "stderr",
     "output_type": "stream",
     "text": [
      " 36%|████████████████████████████▋                                                  | 824/2265 [11:38<39:43,  1.65s/it]"
     ]
    },
    {
     "name": "stdout",
     "output_type": "stream",
     "text": [
      "This is the pipeline with appositions going both ways\n"
     ]
    },
    {
     "name": "stderr",
     "output_type": "stream",
     "text": [
      " 36%|████████████████████████████▊                                                  | 825/2265 [11:39<35:22,  1.47s/it]"
     ]
    },
    {
     "name": "stdout",
     "output_type": "stream",
     "text": [
      "This is the pipeline with appositions going both ways\n",
      "2025-06-05 15:54:48.408 | INFO     | pipeline.correction.correction2:generate_possible_corrections:501 - Konnte Korrekturvorschlag '*' nicht erstellen: list index out of range\n",
      "2025-06-05 15:54:48.416 | INFO     | pipeline.correction.correction2:generate_possible_corrections:519 - Konnte Korrekturvorschlag 'PLURAL_*' nicht erstellen: list index out of range\n",
      "2025-06-05 15:54:48.771 | INFO     | pipeline.correction.correction2:generate_possible_corrections:501 - Konnte Korrekturvorschlag '*' nicht erstellen: list index out of range\n",
      "2025-06-05 15:54:48.785 | INFO     | pipeline.correction.correction2:generate_possible_corrections:519 - Konnte Korrekturvorschlag 'PLURAL_*' nicht erstellen: list index out of range\n"
     ]
    },
    {
     "name": "stderr",
     "output_type": "stream",
     "text": [
      " 36%|████████████████████████████▊                                                  | 826/2265 [11:42<42:20,  1.77s/it]"
     ]
    },
    {
     "name": "stdout",
     "output_type": "stream",
     "text": [
      "This is the pipeline with appositions going both ways\n",
      "2025-06-05 15:54:51.708 | INFO     | pipeline.correction.correction2:generate_possible_corrections:352 - Konnte Korrekturvorschlag '*' nicht erstellen: list index out of range\n",
      "2025-06-05 15:54:51.724 | INFO     | pipeline.correction.correction2:generate_possible_corrections:459 - Konnte Korrekturvorschlag 'BOTH_FORMS' nicht erstellen: list index out of range\n"
     ]
    },
    {
     "name": "stderr",
     "output_type": "stream",
     "text": [
      " 37%|████████████████████████████▊                                                  | 827/2265 [11:45<52:06,  2.17s/it]"
     ]
    },
    {
     "name": "stdout",
     "output_type": "stream",
     "text": [
      "2025-06-05 15:54:52.042 | INFO     | pipeline.correction.correction2:generate_possible_corrections:352 - Konnte Korrekturvorschlag '*' nicht erstellen: list index out of range\n",
      "2025-06-05 15:54:52.057 | INFO     | pipeline.correction.correction2:generate_possible_corrections:459 - Konnte Korrekturvorschlag 'BOTH_FORMS' nicht erstellen: list index out of range\n",
      "This is the pipeline with appositions going both ways\n"
     ]
    },
    {
     "name": "stderr",
     "output_type": "stream",
     "text": [
      " 37%|████████████████████████████▉                                                  | 828/2265 [11:47<48:38,  2.03s/it]"
     ]
    },
    {
     "name": "stdout",
     "output_type": "stream",
     "text": [
      "2025-06-05 15:54:53.741 | INFO     | pipeline.correction.correction2:generate_possible_corrections:352 - Konnte Korrekturvorschlag '*' nicht erstellen: list index out of range\n",
      "2025-06-05 15:54:53.749 | INFO     | pipeline.correction.correction2:generate_possible_corrections:459 - Konnte Korrekturvorschlag 'BOTH_FORMS' nicht erstellen: list index out of range\n",
      "2025-06-05 15:54:53.821 | INFO     | pipeline.correction.correction2:generate_possible_corrections:501 - Konnte Korrekturvorschlag '*' nicht erstellen: list index out of range\n",
      "2025-06-05 15:54:53.834 | INFO     | pipeline.correction.correction2:generate_possible_corrections:519 - Konnte Korrekturvorschlag 'PLURAL_*' nicht erstellen: list index out of range\n",
      "This is the pipeline with appositions going both ways\n"
     ]
    },
    {
     "name": "stderr",
     "output_type": "stream",
     "text": [
      " 37%|████████████████████████████▉                                                  | 829/2265 [11:47<37:47,  1.58s/it]"
     ]
    },
    {
     "name": "stdout",
     "output_type": "stream",
     "text": [
      "This is the pipeline with appositions going both ways\n"
     ]
    },
    {
     "name": "stderr",
     "output_type": "stream",
     "text": [
      " 37%|████████████████████████████▉                                                  | 830/2265 [11:48<30:58,  1.30s/it]"
     ]
    },
    {
     "name": "stdout",
     "output_type": "stream",
     "text": [
      "This is the pipeline with appositions going both ways\n",
      "2025-06-05 15:54:58.442 | INFO     | pipeline.correction.correction2:generate_possible_corrections:459 - Konnte Korrekturvorschlag 'BOTH_FORMS' nicht erstellen: Es darf nur ein Element mit dieser Beziehung geben. (Hunde mit cd, war aber [weder, noch])\n"
     ]
    },
    {
     "name": "stderr",
     "output_type": "stream",
     "text": [
      " 37%|████████████████████████████▉                                                  | 831/2265 [11:52<50:23,  2.11s/it]"
     ]
    },
    {
     "name": "stdout",
     "output_type": "stream",
     "text": [
      "This is the pipeline with appositions going both ways\n"
     ]
    },
    {
     "name": "stderr",
     "output_type": "stream",
     "text": [
      " 37%|█████████████████████████████                                                  | 832/2265 [11:52<39:24,  1.65s/it]"
     ]
    },
    {
     "name": "stdout",
     "output_type": "stream",
     "text": [
      "This is the pipeline with appositions going both ways\n",
      "2025-06-05 15:55:01.194 | INFO     | pipeline.correction.correction2:generate_possible_corrections:352 - Konnte Korrekturvorschlag '*' nicht erstellen: list index out of range\n",
      "2025-06-05 15:55:01.208 | INFO     | pipeline.correction.correction2:generate_possible_corrections:459 - Konnte Korrekturvorschlag 'BOTH_FORMS' nicht erstellen: list index out of range\n",
      "2025-06-05 15:55:01.571 | INFO     | pipeline.correction.correction2:generate_possible_corrections:352 - Konnte Korrekturvorschlag '*' nicht erstellen: list index out of range\n",
      "2025-06-05 15:55:01.584 | INFO     | pipeline.correction.correction2:generate_possible_corrections:459 - Konnte Korrekturvorschlag 'BOTH_FORMS' nicht erstellen: list index out of range\n"
     ]
    },
    {
     "name": "stderr",
     "output_type": "stream",
     "text": [
      " 37%|█████████████████████████████                                                  | 833/2265 [11:55<44:56,  1.88s/it]"
     ]
    },
    {
     "name": "stdout",
     "output_type": "stream",
     "text": [
      "This is the pipeline with appositions going both ways\n"
     ]
    },
    {
     "name": "stderr",
     "output_type": "stream",
     "text": [
      " 37%|█████████████████████████████                                                  | 834/2265 [11:56<38:11,  1.60s/it]"
     ]
    },
    {
     "name": "stdout",
     "output_type": "stream",
     "text": [
      "This is the pipeline with appositions going both ways\n"
     ]
    },
    {
     "name": "stderr",
     "output_type": "stream",
     "text": [
      " 37%|█████████████████████████████                                                  | 835/2265 [11:57<36:42,  1.54s/it]"
     ]
    },
    {
     "name": "stdout",
     "output_type": "stream",
     "text": [
      "This is the pipeline with appositions going both ways\n"
     ]
    },
    {
     "name": "stderr",
     "output_type": "stream",
     "text": [
      " 37%|█████████████████████████████▏                                                 | 836/2265 [11:58<28:10,  1.18s/it]"
     ]
    },
    {
     "name": "stdout",
     "output_type": "stream",
     "text": [
      "This is the pipeline with appositions going both ways\n",
      "2025-06-05 15:55:06.234 | INFO     | pipeline.correction.correction2:generate_possible_corrections:501 - Konnte Korrekturvorschlag '*' nicht erstellen: list index out of range\n",
      "2025-06-05 15:55:06.249 | INFO     | pipeline.correction.correction2:generate_possible_corrections:519 - Konnte Korrekturvorschlag 'PLURAL_*' nicht erstellen: list index out of range\n"
     ]
    },
    {
     "name": "stderr",
     "output_type": "stream",
     "text": [
      " 37%|█████████████████████████████▏                                                 | 837/2265 [11:59<33:16,  1.40s/it]"
     ]
    },
    {
     "name": "stdout",
     "output_type": "stream",
     "text": [
      "This is the pipeline with appositions going both ways\n"
     ]
    },
    {
     "name": "stderr",
     "output_type": "stream",
     "text": [
      " 37%|█████████████████████████████▏                                                 | 838/2265 [12:00<29:58,  1.26s/it]"
     ]
    },
    {
     "name": "stdout",
     "output_type": "stream",
     "text": [
      "This is the pipeline with appositions going both ways\n"
     ]
    },
    {
     "name": "stderr",
     "output_type": "stream",
     "text": [
      " 37%|█████████████████████████████▎                                                 | 840/2265 [12:01<20:18,  1.17it/s]"
     ]
    },
    {
     "name": "stdout",
     "output_type": "stream",
     "text": [
      "This is the pipeline with appositions going both ways\n",
      "This is the pipeline with appositions going both ways\n"
     ]
    },
    {
     "name": "stderr",
     "output_type": "stream",
     "text": [
      " 37%|█████████████████████████████▎                                                 | 841/2265 [12:04<31:59,  1.35s/it]"
     ]
    },
    {
     "name": "stdout",
     "output_type": "stream",
     "text": [
      "This is the pipeline with appositions going both ways\n"
     ]
    },
    {
     "name": "stderr",
     "output_type": "stream",
     "text": [
      " 37%|█████████████████████████████▎                                                 | 842/2265 [12:06<39:32,  1.67s/it]"
     ]
    },
    {
     "name": "stdout",
     "output_type": "stream",
     "text": [
      "2025-06-05 15:55:13.503 | INFO     | pipeline.correction.correction2:generate_possible_corrections:352 - Konnte Korrekturvorschlag '*' nicht erstellen: list index out of range\n",
      "2025-06-05 15:55:13.512 | INFO     | pipeline.correction.correction2:generate_possible_corrections:459 - Konnte Korrekturvorschlag 'BOTH_FORMS' nicht erstellen: list index out of range\n",
      "This is the pipeline with appositions going both ways\n"
     ]
    },
    {
     "name": "stderr",
     "output_type": "stream",
     "text": [
      " 37%|█████████████████████████████▍                                                 | 843/2265 [12:08<37:54,  1.60s/it]"
     ]
    },
    {
     "name": "stdout",
     "output_type": "stream",
     "text": [
      "2025-06-05 15:55:14.869 | INFO     | pipeline.correction.correction2:generate_possible_corrections:352 - Konnte Korrekturvorschlag '*' nicht erstellen: list index out of range\n",
      "2025-06-05 15:55:14.883 | INFO     | pipeline.correction.correction2:generate_possible_corrections:459 - Konnte Korrekturvorschlag 'BOTH_FORMS' nicht erstellen: list index out of range\n",
      "This is the pipeline with appositions going both ways\n"
     ]
    },
    {
     "name": "stderr",
     "output_type": "stream",
     "text": [
      " 37%|█████████████████████████████▍                                                 | 844/2265 [12:08<28:23,  1.20s/it]"
     ]
    },
    {
     "name": "stdout",
     "output_type": "stream",
     "text": [
      "This is the pipeline with appositions going both ways\n"
     ]
    },
    {
     "name": "stderr",
     "output_type": "stream",
     "text": [
      " 37%|█████████████████████████████▍                                                 | 845/2265 [12:09<29:28,  1.25s/it]"
     ]
    },
    {
     "name": "stdout",
     "output_type": "stream",
     "text": [
      "This is the pipeline with appositions going both ways\n",
      "This is the pipeline with appositions going both ways\n"
     ]
    },
    {
     "name": "stderr",
     "output_type": "stream",
     "text": [
      " 37%|█████████████████████████████▌                                                 | 847/2265 [12:10<20:54,  1.13it/s]"
     ]
    },
    {
     "name": "stdout",
     "output_type": "stream",
     "text": [
      "2025-06-05 15:55:17.556 | INFO     | pipeline.correction.correction2:generate_possible_corrections:352 - Konnte Korrekturvorschlag '*' nicht erstellen: list index out of range\n",
      "2025-06-05 15:55:17.571 | INFO     | pipeline.correction.correction2:generate_possible_corrections:459 - Konnte Korrekturvorschlag 'BOTH_FORMS' nicht erstellen: list index out of range\n",
      "This is the pipeline with appositions going both ways\n"
     ]
    },
    {
     "name": "stderr",
     "output_type": "stream",
     "text": [
      " 37%|█████████████████████████████▌                                                 | 848/2265 [12:11<18:41,  1.26it/s]"
     ]
    },
    {
     "name": "stdout",
     "output_type": "stream",
     "text": [
      "2025-06-05 15:55:17.961 | INFO     | pipeline.correction.correction2:generate_possible_corrections:501 - Konnte Korrekturvorschlag '*' nicht erstellen: object of type 'NoneType' has no len()\n",
      "2025-06-05 15:55:17.962 | INFO     | pipeline.correction.correction2:generate_possible_corrections:519 - Konnte Korrekturvorschlag 'PLURAL_*' nicht erstellen: object of type 'NoneType' has no len()\n",
      "2025-06-05 15:55:17.965 | INFO     | pipeline.correction.correction2:generate_possible_corrections:501 - Konnte Korrekturvorschlag '*' nicht erstellen: object of type 'NoneType' has no len()\n",
      "2025-06-05 15:55:17.965 | INFO     | pipeline.correction.correction2:generate_possible_corrections:519 - Konnte Korrekturvorschlag 'PLURAL_*' nicht erstellen: object of type 'NoneType' has no len()\n",
      "This is the pipeline with appositions going both ways\n"
     ]
    },
    {
     "name": "stderr",
     "output_type": "stream",
     "text": [
      " 37%|█████████████████████████████▌                                                 | 849/2265 [12:12<19:33,  1.21it/s]"
     ]
    },
    {
     "name": "stdout",
     "output_type": "stream",
     "text": [
      "This is the pipeline with appositions going both ways\n"
     ]
    },
    {
     "name": "stderr",
     "output_type": "stream",
     "text": [
      " 38%|█████████████████████████████▋                                                 | 850/2265 [12:13<20:41,  1.14it/s]"
     ]
    },
    {
     "name": "stdout",
     "output_type": "stream",
     "text": [
      "This is the pipeline with appositions going both ways\n"
     ]
    },
    {
     "name": "stderr",
     "output_type": "stream",
     "text": [
      " 38%|█████████████████████████████▋                                                 | 851/2265 [12:14<22:12,  1.06it/s]"
     ]
    },
    {
     "name": "stdout",
     "output_type": "stream",
     "text": [
      "This is the pipeline with appositions going both ways\n"
     ]
    },
    {
     "name": "stderr",
     "output_type": "stream",
     "text": [
      " 38%|█████████████████████████████▋                                                 | 852/2265 [12:19<53:23,  2.27s/it]"
     ]
    },
    {
     "name": "stdout",
     "output_type": "stream",
     "text": [
      "This is the pipeline with appositions going both ways\n"
     ]
    },
    {
     "name": "stderr",
     "output_type": "stream",
     "text": [
      " 38%|█████████████████████████████▊                                                 | 853/2265 [12:20<40:03,  1.70s/it]"
     ]
    },
    {
     "name": "stdout",
     "output_type": "stream",
     "text": [
      "This is the pipeline with appositions going both ways\n",
      "2025-06-05 15:55:32.568 | INFO     | pipeline.correction.correction2:generate_possible_corrections:459 - Konnte Korrekturvorschlag 'BOTH_FORMS' nicht erstellen: Es darf nur ein Element mit dieser Beziehung geben. (Facharbeiter mit cd, war aber [oder, sondern])\n"
     ]
    },
    {
     "name": "stderr",
     "output_type": "stream",
     "text": [
      " 38%|█████████████████████████████                                                | 854/2265 [12:26<1:11:54,  3.06s/it]"
     ]
    },
    {
     "name": "stdout",
     "output_type": "stream",
     "text": [
      "This is the pipeline with appositions going both ways\n"
     ]
    },
    {
     "name": "stderr",
     "output_type": "stream",
     "text": [
      " 38%|█████████████████████████████▊                                                 | 855/2265 [12:27<56:56,  2.42s/it]"
     ]
    },
    {
     "name": "stdout",
     "output_type": "stream",
     "text": [
      "This is the pipeline with appositions going both ways\n"
     ]
    },
    {
     "name": "stderr",
     "output_type": "stream",
     "text": [
      " 38%|█████████████████████████████▊                                                 | 856/2265 [12:29<53:43,  2.29s/it]"
     ]
    },
    {
     "name": "stdout",
     "output_type": "stream",
     "text": [
      "2025-06-05 15:55:36.166 | INFO     | pipeline.correction.correction2:generate_possible_corrections:352 - Konnte Korrekturvorschlag '*' nicht erstellen: list index out of range\n",
      "2025-06-05 15:55:36.181 | INFO     | pipeline.correction.correction2:generate_possible_corrections:459 - Konnte Korrekturvorschlag 'BOTH_FORMS' nicht erstellen: list index out of range\n",
      "This is the pipeline with appositions going both ways\n"
     ]
    },
    {
     "name": "stderr",
     "output_type": "stream",
     "text": [
      " 38%|█████████████████████████████▉                                                 | 857/2265 [12:30<44:19,  1.89s/it]"
     ]
    },
    {
     "name": "stdout",
     "output_type": "stream",
     "text": [
      "2025-06-05 15:55:37.149 | INFO     | pipeline.correction.correction2:generate_possible_corrections:501 - Konnte Korrekturvorschlag '*' nicht erstellen: list index out of range\n",
      "2025-06-05 15:55:37.166 | INFO     | pipeline.correction.correction2:generate_possible_corrections:519 - Konnte Korrekturvorschlag 'PLURAL_*' nicht erstellen: list index out of range\n",
      "This is the pipeline with appositions going both ways\n"
     ]
    },
    {
     "name": "stderr",
     "output_type": "stream",
     "text": [
      " 38%|█████████████████████████████▉                                                 | 858/2265 [12:31<39:21,  1.68s/it]"
     ]
    },
    {
     "name": "stdout",
     "output_type": "stream",
     "text": [
      "This is the pipeline with appositions going both ways\n"
     ]
    },
    {
     "name": "stderr",
     "output_type": "stream",
     "text": [
      " 38%|██████████████████████████████                                                 | 861/2265 [12:32<18:56,  1.24it/s]"
     ]
    },
    {
     "name": "stdout",
     "output_type": "stream",
     "text": [
      "This is the pipeline with appositions going both ways\n",
      "This is the pipeline with appositions going both ways\n",
      "This is the pipeline with appositions going both ways\n"
     ]
    },
    {
     "name": "stderr",
     "output_type": "stream",
     "text": [
      " 38%|██████████████████████████████                                                 | 862/2265 [12:35<30:03,  1.29s/it]"
     ]
    },
    {
     "name": "stdout",
     "output_type": "stream",
     "text": [
      "This is the pipeline with appositions going both ways\n"
     ]
    },
    {
     "name": "stderr",
     "output_type": "stream",
     "text": [
      " 38%|██████████████████████████████                                                 | 863/2265 [12:37<34:34,  1.48s/it]"
     ]
    },
    {
     "name": "stdout",
     "output_type": "stream",
     "text": [
      "This is the pipeline with appositions going both ways\n",
      "2025-06-05 15:55:45.959 | INFO     | pipeline.correction.correction2:generate_possible_corrections:501 - Konnte Korrekturvorschlag '*' nicht erstellen: list index out of range\n",
      "2025-06-05 15:55:45.974 | INFO     | pipeline.correction.correction2:generate_possible_corrections:519 - Konnte Korrekturvorschlag 'PLURAL_*' nicht erstellen: list index out of range\n"
     ]
    },
    {
     "name": "stderr",
     "output_type": "stream",
     "text": [
      " 38%|██████████████████████████████▏                                                | 864/2265 [12:39<41:15,  1.77s/it]"
     ]
    },
    {
     "name": "stdout",
     "output_type": "stream",
     "text": [
      "This is the pipeline with appositions going both ways\n",
      "2025-06-05 15:55:47.840 | ERROR    | pipeline.full_pipeline:full_pipeline:38 - Fehler bei needs_to_be_gendered() für 'Ministerpräsident': Es darf nur ein Element mit dieser Beziehung geben. (wird mit sb, war aber [Nachfolger, Peres])\n"
     ]
    },
    {
     "name": "stderr",
     "output_type": "stream",
     "text": [
      " 38%|██████████████████████████████▏                                                | 865/2265 [12:41<40:21,  1.73s/it]"
     ]
    },
    {
     "name": "stdout",
     "output_type": "stream",
     "text": [
      "This is the pipeline with appositions going both ways\n"
     ]
    },
    {
     "name": "stderr",
     "output_type": "stream",
     "text": [
      " 38%|██████████████████████████████▏                                                | 866/2265 [12:44<46:47,  2.01s/it]"
     ]
    },
    {
     "name": "stdout",
     "output_type": "stream",
     "text": [
      "This is the pipeline with appositions going both ways\n"
     ]
    },
    {
     "name": "stderr",
     "output_type": "stream",
     "text": [
      " 38%|██████████████████████████████▏                                                | 867/2265 [12:45<41:23,  1.78s/it]"
     ]
    },
    {
     "name": "stdout",
     "output_type": "stream",
     "text": [
      "This is the pipeline with appositions going both ways\n"
     ]
    },
    {
     "name": "stderr",
     "output_type": "stream",
     "text": [
      " 38%|██████████████████████████████▎                                                | 868/2265 [12:45<32:06,  1.38s/it]"
     ]
    },
    {
     "name": "stdout",
     "output_type": "stream",
     "text": [
      "This is the pipeline with appositions going both ways\n"
     ]
    },
    {
     "name": "stderr",
     "output_type": "stream",
     "text": [
      " 38%|██████████████████████████████▎                                                | 869/2265 [12:48<38:33,  1.66s/it]"
     ]
    },
    {
     "name": "stdout",
     "output_type": "stream",
     "text": [
      "This is the pipeline with appositions going both ways\n"
     ]
    },
    {
     "name": "stderr",
     "output_type": "stream",
     "text": [
      " 38%|██████████████████████████████▎                                                | 870/2265 [12:50<42:36,  1.83s/it]"
     ]
    },
    {
     "name": "stdout",
     "output_type": "stream",
     "text": [
      "This is the pipeline with appositions going both ways\n"
     ]
    },
    {
     "name": "stderr",
     "output_type": "stream",
     "text": [
      " 38%|██████████████████████████████▍                                                | 871/2265 [12:51<36:12,  1.56s/it]"
     ]
    },
    {
     "name": "stdout",
     "output_type": "stream",
     "text": [
      "This is the pipeline with appositions going both ways\n"
     ]
    },
    {
     "name": "stderr",
     "output_type": "stream",
     "text": [
      " 38%|██████████████████████████████▍                                                | 872/2265 [12:51<29:42,  1.28s/it]"
     ]
    },
    {
     "name": "stdout",
     "output_type": "stream",
     "text": [
      "This is the pipeline with appositions going both ways\n"
     ]
    },
    {
     "name": "stderr",
     "output_type": "stream",
     "text": [
      " 39%|██████████████████████████████▍                                                | 873/2265 [12:52<22:21,  1.04it/s]"
     ]
    },
    {
     "name": "stdout",
     "output_type": "stream",
     "text": [
      "This is the pipeline with appositions going both ways\n"
     ]
    },
    {
     "name": "stderr",
     "output_type": "stream",
     "text": [
      " 39%|██████████████████████████████▍                                                | 874/2265 [12:53<24:46,  1.07s/it]"
     ]
    },
    {
     "name": "stdout",
     "output_type": "stream",
     "text": [
      "This is the pipeline with appositions going both ways\n"
     ]
    },
    {
     "name": "stderr",
     "output_type": "stream",
     "text": [
      " 39%|██████████████████████████████▌                                                | 875/2265 [12:53<20:41,  1.12it/s]"
     ]
    },
    {
     "name": "stdout",
     "output_type": "stream",
     "text": [
      "This is the pipeline with appositions going both ways\n"
     ]
    },
    {
     "name": "stderr",
     "output_type": "stream",
     "text": [
      " 39%|██████████████████████████████▌                                                | 876/2265 [12:54<16:36,  1.39it/s]"
     ]
    },
    {
     "name": "stdout",
     "output_type": "stream",
     "text": [
      "This is the pipeline with appositions going both ways\n",
      "2025-06-05 15:56:01.448 | INFO     | pipeline.correction.correction2:generate_possible_corrections:501 - Konnte Korrekturvorschlag '*' nicht erstellen: list index out of range\n",
      "2025-06-05 15:56:01.448 | INFO     | pipeline.correction.correction2:generate_possible_corrections:519 - Konnte Korrekturvorschlag 'PLURAL_*' nicht erstellen: list index out of range\n"
     ]
    },
    {
     "name": "stderr",
     "output_type": "stream",
     "text": [
      " 39%|██████████████████████████████▌                                                | 877/2265 [12:54<15:47,  1.47it/s]"
     ]
    },
    {
     "name": "stdout",
     "output_type": "stream",
     "text": [
      "This is the pipeline with appositions going both ways\n"
     ]
    },
    {
     "name": "stderr",
     "output_type": "stream",
     "text": [
      " 39%|██████████████████████████████▌                                                | 878/2265 [12:55<14:34,  1.59it/s]"
     ]
    },
    {
     "name": "stdout",
     "output_type": "stream",
     "text": [
      "This is the pipeline with appositions going both ways\n"
     ]
    },
    {
     "name": "stderr",
     "output_type": "stream",
     "text": [
      " 39%|██████████████████████████████▋                                                | 879/2265 [12:55<13:55,  1.66it/s]"
     ]
    },
    {
     "name": "stdout",
     "output_type": "stream",
     "text": [
      "This is the pipeline with appositions going both ways\n"
     ]
    },
    {
     "name": "stderr",
     "output_type": "stream",
     "text": [
      " 39%|██████████████████████████████▋                                                | 880/2265 [12:56<13:08,  1.76it/s]"
     ]
    },
    {
     "name": "stdout",
     "output_type": "stream",
     "text": [
      "This is the pipeline with appositions going both ways\n"
     ]
    },
    {
     "name": "stderr",
     "output_type": "stream",
     "text": [
      " 39%|██████████████████████████████▋                                                | 881/2265 [12:57<14:53,  1.55it/s]"
     ]
    },
    {
     "name": "stdout",
     "output_type": "stream",
     "text": [
      "This is the pipeline with appositions going both ways\n"
     ]
    },
    {
     "name": "stderr",
     "output_type": "stream",
     "text": [
      " 39%|██████████████████████████████▊                                                | 882/2265 [12:58<17:35,  1.31it/s]"
     ]
    },
    {
     "name": "stdout",
     "output_type": "stream",
     "text": [
      "2025-06-05 15:56:05.016 | INFO     | pipeline.correction.correction2:generate_possible_corrections:501 - Konnte Korrekturvorschlag '*' nicht erstellen: list index out of range\n",
      "2025-06-05 15:56:05.029 | INFO     | pipeline.correction.correction2:generate_possible_corrections:519 - Konnte Korrekturvorschlag 'PLURAL_*' nicht erstellen: list index out of range\n",
      "This is the pipeline with appositions going both ways\n"
     ]
    },
    {
     "name": "stderr",
     "output_type": "stream",
     "text": [
      " 39%|██████████████████████████████▊                                                | 883/2265 [12:58<14:31,  1.59it/s]"
     ]
    },
    {
     "name": "stdout",
     "output_type": "stream",
     "text": [
      "2025-06-05 15:56:05.331 | INFO     | pipeline.correction.correction2:generate_possible_corrections:352 - Konnte Korrekturvorschlag '*' nicht erstellen: list index out of range\n",
      "2025-06-05 15:56:05.339 | INFO     | pipeline.correction.correction2:generate_possible_corrections:459 - Konnte Korrekturvorschlag 'BOTH_FORMS' nicht erstellen: list index out of range\n",
      "This is the pipeline with appositions going both ways\n"
     ]
    },
    {
     "name": "stderr",
     "output_type": "stream",
     "text": [
      " 39%|██████████████████████████████▊                                                | 884/2265 [12:59<15:40,  1.47it/s]"
     ]
    },
    {
     "name": "stdout",
     "output_type": "stream",
     "text": [
      "This is the pipeline with appositions going both ways\n"
     ]
    },
    {
     "name": "stderr",
     "output_type": "stream",
     "text": [
      " 39%|██████████████████████████████▊                                                | 885/2265 [12:59<12:31,  1.84it/s]"
     ]
    },
    {
     "name": "stdout",
     "output_type": "stream",
     "text": [
      "This is the pipeline with appositions going both ways\n"
     ]
    },
    {
     "name": "stderr",
     "output_type": "stream",
     "text": [
      " 39%|██████████████████████████████▉                                                | 886/2265 [13:00<12:56,  1.78it/s]"
     ]
    },
    {
     "name": "stdout",
     "output_type": "stream",
     "text": [
      "This is the pipeline with appositions going both ways\n"
     ]
    },
    {
     "name": "stderr",
     "output_type": "stream",
     "text": [
      " 39%|██████████████████████████████▉                                                | 887/2265 [13:00<11:48,  1.95it/s]"
     ]
    },
    {
     "name": "stdout",
     "output_type": "stream",
     "text": [
      "This is the pipeline with appositions going both ways\n"
     ]
    },
    {
     "name": "stderr",
     "output_type": "stream",
     "text": [
      " 39%|██████████████████████████████▉                                                | 888/2265 [13:01<12:50,  1.79it/s]"
     ]
    },
    {
     "name": "stdout",
     "output_type": "stream",
     "text": [
      "2025-06-05 15:56:07.982 | INFO     | pipeline.correction.correction2:generate_possible_corrections:501 - Konnte Korrekturvorschlag '*' nicht erstellen: list index out of range\n",
      "2025-06-05 15:56:07.991 | INFO     | pipeline.correction.correction2:generate_possible_corrections:519 - Konnte Korrekturvorschlag 'PLURAL_*' nicht erstellen: list index out of range\n",
      "This is the pipeline with appositions going both ways\n"
     ]
    },
    {
     "name": "stderr",
     "output_type": "stream",
     "text": [
      " 39%|███████████████████████████████                                                | 889/2265 [13:01<13:05,  1.75it/s]"
     ]
    },
    {
     "name": "stdout",
     "output_type": "stream",
     "text": [
      "This is the pipeline with appositions going both ways\n"
     ]
    },
    {
     "name": "stderr",
     "output_type": "stream",
     "text": [
      " 39%|███████████████████████████████                                                | 890/2265 [13:02<12:10,  1.88it/s]"
     ]
    },
    {
     "name": "stdout",
     "output_type": "stream",
     "text": [
      "This is the pipeline with appositions going both ways\n"
     ]
    },
    {
     "name": "stderr",
     "output_type": "stream",
     "text": [
      " 39%|███████████████████████████████                                                | 891/2265 [13:02<11:26,  2.00it/s]"
     ]
    },
    {
     "name": "stdout",
     "output_type": "stream",
     "text": [
      "2025-06-05 15:56:09.431 | INFO     | pipeline.correction.verb.change_verb_form:change_verb_form:13 - lex_target_verb not found: hinsegelt\n",
      "2025-06-05 15:56:09.432 | INFO     | pipeline.correction.correction2:generate_possible_corrections:519 - Konnte Korrekturvorschlag 'PLURAL_*' nicht erstellen: Das Verb konnte im Lexikon nicht gefunden werden: hinsegelt\n",
      "2025-06-05 15:56:09.452 | INFO     | pipeline.correction.verb.change_verb_form:change_verb_form:13 - lex_target_verb not found: hinsegelt\n",
      "2025-06-05 15:56:09.452 | INFO     | pipeline.correction.correction2:generate_possible_corrections:519 - Konnte Korrekturvorschlag 'PLURAL_*' nicht erstellen: Das Verb konnte im Lexikon nicht gefunden werden: hinsegelt\n",
      "2025-06-05 15:56:09.512 | INFO     | pipeline.correction.verb.change_verb_form:change_verb_form:13 - lex_target_verb not found: Weigert\n",
      "2025-06-05 15:56:09.512 | INFO     | pipeline.correction.correction2:generate_possible_corrections:519 - Konnte Korrekturvorschlag 'PLURAL_*' nicht erstellen: Das Verb konnte im Lexikon nicht gefunden werden: Weigert\n",
      "This is the pipeline with appositions going both ways\n"
     ]
    },
    {
     "name": "stderr",
     "output_type": "stream",
     "text": [
      " 39%|███████████████████████████████                                                | 892/2265 [13:03<10:17,  2.22it/s]"
     ]
    },
    {
     "name": "stdout",
     "output_type": "stream",
     "text": [
      "This is the pipeline with appositions going both ways\n"
     ]
    },
    {
     "name": "stderr",
     "output_type": "stream",
     "text": [
      " 39%|███████████████████████████████▏                                               | 894/2265 [13:03<07:34,  3.01it/s]"
     ]
    },
    {
     "name": "stdout",
     "output_type": "stream",
     "text": [
      "This is the pipeline with appositions going both ways\n",
      "This is the pipeline with appositions going both ways\n"
     ]
    },
    {
     "name": "stderr",
     "output_type": "stream",
     "text": [
      " 40%|███████████████████████████████▏                                               | 895/2265 [13:03<07:15,  3.15it/s]"
     ]
    },
    {
     "name": "stdout",
     "output_type": "stream",
     "text": [
      "This is the pipeline with appositions going both ways\n"
     ]
    },
    {
     "name": "stderr",
     "output_type": "stream",
     "text": [
      " 40%|███████████████████████████████▎                                               | 896/2265 [13:04<06:36,  3.45it/s]"
     ]
    },
    {
     "name": "stdout",
     "output_type": "stream",
     "text": [
      "This is the pipeline with appositions going both ways\n"
     ]
    },
    {
     "name": "stderr",
     "output_type": "stream",
     "text": [
      " 40%|███████████████████████████████▎                                               | 897/2265 [13:04<07:42,  2.96it/s]"
     ]
    },
    {
     "name": "stdout",
     "output_type": "stream",
     "text": [
      "This is the pipeline with appositions going both ways\n"
     ]
    },
    {
     "name": "stderr",
     "output_type": "stream",
     "text": [
      " 40%|███████████████████████████████▎                                               | 898/2265 [13:04<07:02,  3.23it/s]"
     ]
    },
    {
     "name": "stdout",
     "output_type": "stream",
     "text": [
      "This is the pipeline with appositions going both ways\n"
     ]
    },
    {
     "name": "stderr",
     "output_type": "stream",
     "text": [
      " 40%|███████████████████████████████▎                                               | 899/2265 [13:05<08:32,  2.67it/s]"
     ]
    },
    {
     "name": "stdout",
     "output_type": "stream",
     "text": [
      "This is the pipeline with appositions going both ways\n"
     ]
    },
    {
     "name": "stderr",
     "output_type": "stream",
     "text": [
      " 40%|███████████████████████████████▍                                               | 900/2265 [13:06<12:21,  1.84it/s]"
     ]
    },
    {
     "name": "stdout",
     "output_type": "stream",
     "text": [
      "This is the pipeline with appositions going both ways\n"
     ]
    },
    {
     "name": "stderr",
     "output_type": "stream",
     "text": [
      " 40%|███████████████████████████████▍                                               | 901/2265 [13:06<12:21,  1.84it/s]"
     ]
    },
    {
     "name": "stdout",
     "output_type": "stream",
     "text": [
      "This is the pipeline with appositions going both ways\n"
     ]
    },
    {
     "name": "stderr",
     "output_type": "stream",
     "text": [
      " 40%|███████████████████████████████▍                                               | 902/2265 [13:07<10:23,  2.19it/s]"
     ]
    },
    {
     "name": "stdout",
     "output_type": "stream",
     "text": [
      "This is the pipeline with appositions going both ways\n"
     ]
    },
    {
     "name": "stderr",
     "output_type": "stream",
     "text": [
      " 40%|███████████████████████████████▍                                               | 903/2265 [13:07<10:12,  2.22it/s]"
     ]
    },
    {
     "name": "stdout",
     "output_type": "stream",
     "text": [
      "This is the pipeline with appositions going both ways\n"
     ]
    },
    {
     "name": "stderr",
     "output_type": "stream",
     "text": [
      " 40%|███████████████████████████████▌                                               | 904/2265 [13:09<22:04,  1.03it/s]"
     ]
    },
    {
     "name": "stdout",
     "output_type": "stream",
     "text": [
      "This is the pipeline with appositions going both ways\n"
     ]
    },
    {
     "name": "stderr",
     "output_type": "stream",
     "text": [
      " 40%|███████████████████████████████▌                                               | 905/2265 [13:10<19:37,  1.15it/s]"
     ]
    },
    {
     "name": "stdout",
     "output_type": "stream",
     "text": [
      "This is the pipeline with appositions going both ways\n"
     ]
    },
    {
     "name": "stderr",
     "output_type": "stream",
     "text": [
      " 40%|███████████████████████████████▌                                               | 906/2265 [13:10<15:44,  1.44it/s]"
     ]
    },
    {
     "name": "stdout",
     "output_type": "stream",
     "text": [
      "This is the pipeline with appositions going both ways\n"
     ]
    },
    {
     "name": "stderr",
     "output_type": "stream",
     "text": [
      " 40%|███████████████████████████████▋                                               | 907/2265 [13:10<12:51,  1.76it/s]"
     ]
    },
    {
     "name": "stdout",
     "output_type": "stream",
     "text": [
      "This is the pipeline with appositions going both ways\n"
     ]
    },
    {
     "name": "stderr",
     "output_type": "stream",
     "text": [
      " 40%|███████████████████████████████▋                                               | 909/2265 [13:12<14:24,  1.57it/s]"
     ]
    },
    {
     "name": "stdout",
     "output_type": "stream",
     "text": [
      "This is the pipeline with appositions going both ways\n",
      "This is the pipeline with appositions going both ways\n"
     ]
    },
    {
     "name": "stderr",
     "output_type": "stream",
     "text": [
      " 40%|███████████████████████████████▋                                               | 910/2265 [13:13<15:07,  1.49it/s]"
     ]
    },
    {
     "name": "stdout",
     "output_type": "stream",
     "text": [
      "This is the pipeline with appositions going both ways\n"
     ]
    },
    {
     "name": "stderr",
     "output_type": "stream",
     "text": [
      " 40%|███████████████████████████████▊                                               | 911/2265 [13:13<13:16,  1.70it/s]"
     ]
    },
    {
     "name": "stdout",
     "output_type": "stream",
     "text": [
      "2025-06-05 15:56:20.334 | INFO     | pipeline.correction.correction2:generate_possible_corrections:519 - Konnte Korrekturvorschlag 'PLURAL_*' nicht erstellen: list index out of range\n",
      "This is the pipeline with appositions going both ways\n"
     ]
    },
    {
     "name": "stderr",
     "output_type": "stream",
     "text": [
      " 40%|███████████████████████████████▊                                               | 912/2265 [13:14<13:12,  1.71it/s]"
     ]
    },
    {
     "name": "stdout",
     "output_type": "stream",
     "text": [
      "This is the pipeline with appositions going both ways\n"
     ]
    },
    {
     "name": "stderr",
     "output_type": "stream",
     "text": [
      " 40%|███████████████████████████████▊                                               | 913/2265 [13:14<11:26,  1.97it/s]"
     ]
    },
    {
     "name": "stdout",
     "output_type": "stream",
     "text": [
      "This is the pipeline with appositions going both ways\n"
     ]
    },
    {
     "name": "stderr",
     "output_type": "stream",
     "text": [
      " 40%|███████████████████████████████▉                                               | 914/2265 [13:15<12:46,  1.76it/s]"
     ]
    },
    {
     "name": "stdout",
     "output_type": "stream",
     "text": [
      "This is the pipeline with appositions going both ways\n"
     ]
    },
    {
     "name": "stderr",
     "output_type": "stream",
     "text": [
      " 40%|███████████████████████████████▉                                               | 915/2265 [13:15<14:04,  1.60it/s]"
     ]
    },
    {
     "name": "stdout",
     "output_type": "stream",
     "text": [
      "This is the pipeline with appositions going both ways\n"
     ]
    },
    {
     "name": "stderr",
     "output_type": "stream",
     "text": [
      " 40%|███████████████████████████████▉                                               | 917/2265 [13:16<09:34,  2.34it/s]"
     ]
    },
    {
     "name": "stdout",
     "output_type": "stream",
     "text": [
      "This is the pipeline with appositions going both ways\n",
      "This is the pipeline with appositions going both ways\n"
     ]
    },
    {
     "name": "stderr",
     "output_type": "stream",
     "text": [
      " 41%|████████████████████████████████                                               | 918/2265 [13:16<08:08,  2.76it/s]"
     ]
    },
    {
     "name": "stdout",
     "output_type": "stream",
     "text": [
      "This is the pipeline with appositions going both ways\n"
     ]
    },
    {
     "name": "stderr",
     "output_type": "stream",
     "text": [
      " 41%|████████████████████████████████                                               | 919/2265 [13:17<12:06,  1.85it/s]"
     ]
    },
    {
     "name": "stdout",
     "output_type": "stream",
     "text": [
      "This is the pipeline with appositions going both ways\n"
     ]
    },
    {
     "name": "stderr",
     "output_type": "stream",
     "text": [
      " 41%|████████████████████████████████                                               | 920/2265 [13:18<11:33,  1.94it/s]"
     ]
    },
    {
     "name": "stdout",
     "output_type": "stream",
     "text": [
      "This is the pipeline with appositions going both ways\n"
     ]
    },
    {
     "name": "stderr",
     "output_type": "stream",
     "text": [
      " 41%|████████████████████████████████                                               | 921/2265 [13:18<09:30,  2.36it/s]"
     ]
    },
    {
     "name": "stdout",
     "output_type": "stream",
     "text": [
      "This is the pipeline with appositions going both ways\n"
     ]
    },
    {
     "name": "stderr",
     "output_type": "stream",
     "text": [
      " 41%|████████████████████████████████▏                                              | 922/2265 [13:18<08:06,  2.76it/s]"
     ]
    },
    {
     "name": "stdout",
     "output_type": "stream",
     "text": [
      "This is the pipeline with appositions going both ways\n"
     ]
    },
    {
     "name": "stderr",
     "output_type": "stream",
     "text": [
      " 41%|████████████████████████████████▏                                              | 923/2265 [13:18<08:12,  2.73it/s]"
     ]
    },
    {
     "name": "stdout",
     "output_type": "stream",
     "text": [
      "This is the pipeline with appositions going both ways\n"
     ]
    },
    {
     "name": "stderr",
     "output_type": "stream",
     "text": [
      " 41%|████████████████████████████████▏                                              | 924/2265 [13:19<07:40,  2.91it/s]"
     ]
    },
    {
     "name": "stdout",
     "output_type": "stream",
     "text": [
      "This is the pipeline with appositions going both ways\n"
     ]
    },
    {
     "name": "stderr",
     "output_type": "stream",
     "text": [
      " 41%|████████████████████████████████▎                                              | 926/2265 [13:20<08:10,  2.73it/s]"
     ]
    },
    {
     "name": "stdout",
     "output_type": "stream",
     "text": [
      "This is the pipeline with appositions going both ways\n",
      "This is the pipeline with appositions going both ways\n"
     ]
    },
    {
     "name": "stderr",
     "output_type": "stream",
     "text": [
      " 41%|████████████████████████████████▎                                              | 927/2265 [13:20<08:22,  2.66it/s]"
     ]
    },
    {
     "name": "stdout",
     "output_type": "stream",
     "text": [
      "This is the pipeline with appositions going both ways\n"
     ]
    },
    {
     "name": "stderr",
     "output_type": "stream",
     "text": [
      " 41%|████████████████████████████████▍                                              | 929/2265 [13:20<06:50,  3.26it/s]"
     ]
    },
    {
     "name": "stdout",
     "output_type": "stream",
     "text": [
      "This is the pipeline with appositions going both ways\n",
      "This is the pipeline with appositions going both ways\n"
     ]
    },
    {
     "name": "stderr",
     "output_type": "stream",
     "text": [
      " 41%|████████████████████████████████▍                                              | 930/2265 [13:21<05:46,  3.86it/s]"
     ]
    },
    {
     "name": "stdout",
     "output_type": "stream",
     "text": [
      "This is the pipeline with appositions going both ways\n"
     ]
    },
    {
     "name": "stderr",
     "output_type": "stream",
     "text": [
      " 41%|████████████████████████████████▍                                              | 931/2265 [13:21<06:19,  3.51it/s]"
     ]
    },
    {
     "name": "stdout",
     "output_type": "stream",
     "text": [
      "2025-06-05 15:56:28.162 | INFO     | pipeline.correction.verb.change_verb_form:change_verb_form:13 - lex_target_verb not found: akzepiert\n",
      "2025-06-05 15:56:28.162 | INFO     | pipeline.correction.correction2:generate_possible_corrections:519 - Konnte Korrekturvorschlag 'PLURAL_*' nicht erstellen: Das Verb konnte im Lexikon nicht gefunden werden: akzepiert\n",
      "This is the pipeline with appositions going both ways\n",
      "2025-06-05 15:56:28.785 | INFO     | pipeline.correction.correction2:generate_possible_corrections:501 - Konnte Korrekturvorschlag '*' nicht erstellen: list index out of range\n",
      "2025-06-05 15:56:28.793 | INFO     | pipeline.correction.correction2:generate_possible_corrections:519 - Konnte Korrekturvorschlag 'PLURAL_*' nicht erstellen: list index out of range\n"
     ]
    },
    {
     "name": "stderr",
     "output_type": "stream",
     "text": [
      " 41%|████████████████████████████████▌                                              | 933/2265 [13:22<07:57,  2.79it/s]"
     ]
    },
    {
     "name": "stdout",
     "output_type": "stream",
     "text": [
      "This is the pipeline with appositions going both ways\n",
      "This is the pipeline with appositions going both ways\n"
     ]
    },
    {
     "name": "stderr",
     "output_type": "stream",
     "text": [
      " 41%|████████████████████████████████▌                                              | 934/2265 [13:22<07:39,  2.89it/s]"
     ]
    },
    {
     "name": "stdout",
     "output_type": "stream",
     "text": [
      "This is the pipeline with appositions going both ways\n"
     ]
    },
    {
     "name": "stderr",
     "output_type": "stream",
     "text": [
      " 41%|████████████████████████████████▌                                              | 935/2265 [13:23<07:12,  3.08it/s]"
     ]
    },
    {
     "name": "stdout",
     "output_type": "stream",
     "text": [
      "This is the pipeline with appositions going both ways\n"
     ]
    },
    {
     "name": "stderr",
     "output_type": "stream",
     "text": [
      " 41%|████████████████████████████████▋                                              | 936/2265 [13:23<09:31,  2.33it/s]"
     ]
    },
    {
     "name": "stdout",
     "output_type": "stream",
     "text": [
      "This is the pipeline with appositions going both ways\n"
     ]
    },
    {
     "name": "stderr",
     "output_type": "stream",
     "text": [
      " 41%|████████████████████████████████▋                                              | 937/2265 [13:24<08:43,  2.54it/s]"
     ]
    },
    {
     "name": "stdout",
     "output_type": "stream",
     "text": [
      "This is the pipeline with appositions going both ways\n"
     ]
    },
    {
     "name": "stderr",
     "output_type": "stream",
     "text": [
      " 41%|████████████████████████████████▊                                              | 939/2265 [13:24<06:41,  3.30it/s]"
     ]
    },
    {
     "name": "stdout",
     "output_type": "stream",
     "text": [
      "This is the pipeline with appositions going both ways\n",
      "This is the pipeline with appositions going both ways\n"
     ]
    },
    {
     "name": "stderr",
     "output_type": "stream",
     "text": [
      " 42%|████████████████████████████████▊                                              | 940/2265 [13:24<06:11,  3.56it/s]"
     ]
    },
    {
     "name": "stdout",
     "output_type": "stream",
     "text": [
      "This is the pipeline with appositions going both ways\n"
     ]
    },
    {
     "name": "stderr",
     "output_type": "stream",
     "text": [
      " 42%|████████████████████████████████▊                                              | 941/2265 [13:24<06:08,  3.59it/s]"
     ]
    },
    {
     "name": "stdout",
     "output_type": "stream",
     "text": [
      "This is the pipeline with appositions going both ways\n"
     ]
    },
    {
     "name": "stderr",
     "output_type": "stream",
     "text": [
      " 42%|████████████████████████████████▊                                              | 942/2265 [13:25<07:38,  2.88it/s]"
     ]
    },
    {
     "name": "stdout",
     "output_type": "stream",
     "text": [
      "This is the pipeline with appositions going both ways\n"
     ]
    },
    {
     "name": "stderr",
     "output_type": "stream",
     "text": [
      " 42%|████████████████████████████████▉                                              | 943/2265 [13:25<06:59,  3.15it/s]"
     ]
    },
    {
     "name": "stdout",
     "output_type": "stream",
     "text": [
      "This is the pipeline with appositions going both ways\n",
      "2025-06-05 15:56:35.624 | INFO     | pipeline.correction.correction2:generate_possible_corrections:501 - Konnte Korrekturvorschlag '*' nicht erstellen: list index out of range\n",
      "2025-06-05 15:56:35.637 | INFO     | pipeline.correction.correction2:generate_possible_corrections:519 - Konnte Korrekturvorschlag 'PLURAL_*' nicht erstellen: list index out of range\n",
      "2025-06-05 15:56:36.030 | INFO     | pipeline.correction.correction2:generate_possible_corrections:501 - Konnte Korrekturvorschlag '*' nicht erstellen: list index out of range\n",
      "2025-06-05 15:56:36.042 | INFO     | pipeline.correction.correction2:generate_possible_corrections:519 - Konnte Korrekturvorschlag 'PLURAL_*' nicht erstellen: list index out of range\n",
      "2025-06-05 15:56:36.059 | INFO     | pipeline.correction.correction2:generate_possible_corrections:501 - Konnte Korrekturvorschlag '*' nicht erstellen: list index out of range\n",
      "2025-06-05 15:56:36.071 | INFO     | pipeline.correction.correction2:generate_possible_corrections:519 - Konnte Korrekturvorschlag 'PLURAL_*' nicht erstellen: list index out of range\n"
     ]
    },
    {
     "name": "stderr",
     "output_type": "stream",
     "text": [
      " 42%|████████████████████████████████▉                                              | 944/2265 [13:29<29:43,  1.35s/it]"
     ]
    },
    {
     "name": "stdout",
     "output_type": "stream",
     "text": [
      "This is the pipeline with appositions going both ways\n"
     ]
    },
    {
     "name": "stderr",
     "output_type": "stream",
     "text": [
      " 42%|████████████████████████████████▉                                              | 945/2265 [13:31<36:58,  1.68s/it]"
     ]
    },
    {
     "name": "stdout",
     "output_type": "stream",
     "text": [
      "2025-06-05 15:56:38.697 | INFO     | pipeline.correction.correction2:generate_possible_corrections:352 - Konnte Korrekturvorschlag '*' nicht erstellen: list index out of range\n",
      "2025-06-05 15:56:38.706 | INFO     | pipeline.correction.correction2:generate_possible_corrections:459 - Konnte Korrekturvorschlag 'BOTH_FORMS' nicht erstellen: list index out of range\n",
      "This is the pipeline with appositions going both ways\n"
     ]
    },
    {
     "name": "stderr",
     "output_type": "stream",
     "text": [
      " 42%|████████████████████████████████▉                                              | 946/2265 [13:32<30:52,  1.40s/it]"
     ]
    },
    {
     "name": "stdout",
     "output_type": "stream",
     "text": [
      "2025-06-05 15:56:39.348 | INFO     | pipeline.correction.correction2:generate_possible_corrections:501 - Konnte Korrekturvorschlag '*' nicht erstellen: list index out of range\n",
      "2025-06-05 15:56:39.349 | INFO     | pipeline.correction.correction2:generate_possible_corrections:519 - Konnte Korrekturvorschlag 'PLURAL_*' nicht erstellen: list index out of range\n",
      "This is the pipeline with appositions going both ways\n"
     ]
    },
    {
     "name": "stderr",
     "output_type": "stream",
     "text": [
      " 42%|█████████████████████████████████                                              | 947/2265 [13:34<31:03,  1.41s/it]"
     ]
    },
    {
     "name": "stdout",
     "output_type": "stream",
     "text": [
      "This is the pipeline with appositions going both ways\n"
     ]
    },
    {
     "name": "stderr",
     "output_type": "stream",
     "text": [
      " 42%|█████████████████████████████████                                              | 948/2265 [13:35<27:42,  1.26s/it]"
     ]
    },
    {
     "name": "stdout",
     "output_type": "stream",
     "text": [
      "This is the pipeline with appositions going both ways\n"
     ]
    },
    {
     "name": "stderr",
     "output_type": "stream",
     "text": [
      " 42%|█████████████████████████████████                                              | 949/2265 [13:35<24:27,  1.11s/it]"
     ]
    },
    {
     "name": "stdout",
     "output_type": "stream",
     "text": [
      "2025-06-05 15:56:42.444 | INFO     | pipeline.correction.correction2:generate_possible_corrections:501 - Konnte Korrekturvorschlag '*' nicht erstellen: list index out of range\n",
      "2025-06-05 15:56:42.457 | INFO     | pipeline.correction.correction2:generate_possible_corrections:519 - Konnte Korrekturvorschlag 'PLURAL_*' nicht erstellen: list index out of range\n",
      "This is the pipeline with appositions going both ways\n"
     ]
    },
    {
     "name": "stderr",
     "output_type": "stream",
     "text": [
      " 42%|█████████████████████████████████▏                                             | 950/2265 [13:36<22:54,  1.05s/it]"
     ]
    },
    {
     "name": "stdout",
     "output_type": "stream",
     "text": [
      "This is the pipeline with appositions going both ways\n"
     ]
    },
    {
     "name": "stderr",
     "output_type": "stream",
     "text": [
      " 42%|█████████████████████████████████▏                                             | 951/2265 [13:37<23:12,  1.06s/it]"
     ]
    },
    {
     "name": "stdout",
     "output_type": "stream",
     "text": [
      "This is the pipeline with appositions going both ways\n"
     ]
    },
    {
     "name": "stderr",
     "output_type": "stream",
     "text": [
      " 42%|█████████████████████████████████▏                                             | 952/2265 [13:39<26:19,  1.20s/it]"
     ]
    },
    {
     "name": "stdout",
     "output_type": "stream",
     "text": [
      "This is the pipeline with appositions going both ways\n",
      "This is the pipeline with appositions going both ways\n"
     ]
    },
    {
     "name": "stderr",
     "output_type": "stream",
     "text": [
      " 42%|█████████████████████████████████▎                                             | 954/2265 [13:40<21:28,  1.02it/s]"
     ]
    },
    {
     "name": "stdout",
     "output_type": "stream",
     "text": [
      "This is the pipeline with appositions going both ways\n",
      "This is the pipeline with appositions going both ways\n"
     ]
    },
    {
     "name": "stderr",
     "output_type": "stream",
     "text": [
      " 42%|█████████████████████████████████▎                                             | 956/2265 [13:41<16:59,  1.28it/s]"
     ]
    },
    {
     "name": "stdout",
     "output_type": "stream",
     "text": [
      "2025-06-05 15:56:48.487 | INFO     | pipeline.correction.correction2:generate_possible_corrections:501 - Konnte Korrekturvorschlag '*' nicht erstellen: list index out of range\n",
      "2025-06-05 15:56:48.496 | INFO     | pipeline.correction.correction2:generate_possible_corrections:519 - Konnte Korrekturvorschlag 'PLURAL_*' nicht erstellen: list index out of range\n",
      "This is the pipeline with appositions going both ways\n"
     ]
    },
    {
     "name": "stderr",
     "output_type": "stream",
     "text": [
      " 42%|█████████████████████████████████▍                                             | 957/2265 [13:42<16:23,  1.33it/s]"
     ]
    },
    {
     "name": "stdout",
     "output_type": "stream",
     "text": [
      "This is the pipeline with appositions going both ways\n"
     ]
    },
    {
     "name": "stderr",
     "output_type": "stream",
     "text": [
      " 42%|█████████████████████████████████▍                                             | 958/2265 [13:43<16:32,  1.32it/s]"
     ]
    },
    {
     "name": "stdout",
     "output_type": "stream",
     "text": [
      "This is the pipeline with appositions going both ways\n",
      "2025-06-05 15:56:50.889 | INFO     | pipeline.correction.correction2:generate_possible_corrections:501 - Konnte Korrekturvorschlag '*' nicht erstellen: list index out of range\n",
      "2025-06-05 15:56:50.890 | INFO     | pipeline.correction.correction2:generate_possible_corrections:519 - Konnte Korrekturvorschlag 'PLURAL_*' nicht erstellen: list index out of range\n"
     ]
    },
    {
     "name": "stderr",
     "output_type": "stream",
     "text": [
      " 42%|█████████████████████████████████▍                                             | 960/2265 [13:44<14:56,  1.46it/s]"
     ]
    },
    {
     "name": "stdout",
     "output_type": "stream",
     "text": [
      "This is the pipeline with appositions going both ways\n",
      "This is the pipeline with appositions going both ways\n"
     ]
    },
    {
     "name": "stderr",
     "output_type": "stream",
     "text": [
      " 42%|█████████████████████████████████▌                                             | 961/2265 [13:45<13:28,  1.61it/s]"
     ]
    },
    {
     "name": "stdout",
     "output_type": "stream",
     "text": [
      "This is the pipeline with appositions going both ways\n"
     ]
    },
    {
     "name": "stderr",
     "output_type": "stream",
     "text": [
      " 42%|█████████████████████████████████▌                                             | 962/2265 [13:46<16:37,  1.31it/s]"
     ]
    },
    {
     "name": "stdout",
     "output_type": "stream",
     "text": [
      "This is the pipeline with appositions going both ways\n"
     ]
    },
    {
     "name": "stderr",
     "output_type": "stream",
     "text": [
      " 43%|█████████████████████████████████▌                                             | 963/2265 [13:48<26:34,  1.22s/it]"
     ]
    },
    {
     "name": "stdout",
     "output_type": "stream",
     "text": [
      "This is the pipeline with appositions going both ways\n"
     ]
    },
    {
     "name": "stderr",
     "output_type": "stream",
     "text": [
      " 43%|█████████████████████████████████▌                                             | 964/2265 [13:49<27:17,  1.26s/it]"
     ]
    },
    {
     "name": "stdout",
     "output_type": "stream",
     "text": [
      "This is the pipeline with appositions going both ways\n"
     ]
    },
    {
     "name": "stderr",
     "output_type": "stream",
     "text": [
      " 43%|█████████████████████████████████▋                                             | 965/2265 [13:50<21:03,  1.03it/s]"
     ]
    },
    {
     "name": "stdout",
     "output_type": "stream",
     "text": [
      "This is the pipeline with appositions going both ways\n"
     ]
    },
    {
     "name": "stderr",
     "output_type": "stream",
     "text": [
      " 43%|█████████████████████████████████▋                                             | 966/2265 [13:52<28:28,  1.32s/it]"
     ]
    },
    {
     "name": "stdout",
     "output_type": "stream",
     "text": [
      "This is the pipeline with appositions going both ways\n"
     ]
    },
    {
     "name": "stderr",
     "output_type": "stream",
     "text": [
      " 43%|█████████████████████████████████▋                                             | 967/2265 [13:52<22:16,  1.03s/it]"
     ]
    },
    {
     "name": "stdout",
     "output_type": "stream",
     "text": [
      "This is the pipeline with appositions going both ways\n"
     ]
    },
    {
     "name": "stderr",
     "output_type": "stream",
     "text": [
      " 43%|█████████████████████████████████▊                                             | 968/2265 [13:53<21:54,  1.01s/it]"
     ]
    },
    {
     "name": "stdout",
     "output_type": "stream",
     "text": [
      "2025-06-05 15:57:00.299 | ERROR    | pipeline.full_pipeline:full_pipeline:38 - Fehler bei needs_to_be_gendered() für 'Richter': Es darf nur ein Element mit dieser Beziehung geben. (ist mit sb, war aber [war, Bräutigam])\n",
      "This is the pipeline with appositions going both ways\n"
     ]
    },
    {
     "name": "stderr",
     "output_type": "stream",
     "text": [
      " 43%|█████████████████████████████████▊                                             | 969/2265 [13:54<18:36,  1.16it/s]"
     ]
    },
    {
     "name": "stdout",
     "output_type": "stream",
     "text": [
      "This is the pipeline with appositions going both ways\n"
     ]
    },
    {
     "name": "stderr",
     "output_type": "stream",
     "text": [
      " 43%|█████████████████████████████████▊                                             | 970/2265 [13:54<18:34,  1.16it/s]"
     ]
    },
    {
     "name": "stdout",
     "output_type": "stream",
     "text": [
      "This is the pipeline with appositions going both ways\n"
     ]
    },
    {
     "name": "stderr",
     "output_type": "stream",
     "text": [
      " 43%|█████████████████████████████████▊                                             | 971/2265 [13:55<15:50,  1.36it/s]"
     ]
    },
    {
     "name": "stdout",
     "output_type": "stream",
     "text": [
      "This is the pipeline with appositions going both ways\n"
     ]
    },
    {
     "name": "stderr",
     "output_type": "stream",
     "text": [
      " 43%|█████████████████████████████████▉                                             | 972/2265 [13:56<16:26,  1.31it/s]"
     ]
    },
    {
     "name": "stdout",
     "output_type": "stream",
     "text": [
      "2025-06-05 15:57:02.823 | INFO     | pipeline.correction.correction2:generate_possible_corrections:352 - Konnte Korrekturvorschlag '*' nicht erstellen: list index out of range\n",
      "2025-06-05 15:57:02.835 | INFO     | pipeline.correction.correction2:generate_possible_corrections:459 - Konnte Korrekturvorschlag 'BOTH_FORMS' nicht erstellen: list index out of range\n",
      "This is the pipeline with appositions going both ways\n"
     ]
    },
    {
     "name": "stderr",
     "output_type": "stream",
     "text": [
      " 43%|█████████████████████████████████▉                                             | 973/2265 [13:56<13:41,  1.57it/s]"
     ]
    },
    {
     "name": "stdout",
     "output_type": "stream",
     "text": [
      "This is the pipeline with appositions going both ways\n"
     ]
    },
    {
     "name": "stderr",
     "output_type": "stream",
     "text": [
      " 43%|█████████████████████████████████▉                                             | 974/2265 [13:56<11:15,  1.91it/s]"
     ]
    },
    {
     "name": "stdout",
     "output_type": "stream",
     "text": [
      "This is the pipeline with appositions going both ways\n"
     ]
    },
    {
     "name": "stderr",
     "output_type": "stream",
     "text": [
      " 43%|██████████████████████████████████                                             | 975/2265 [13:57<09:32,  2.25it/s]"
     ]
    },
    {
     "name": "stdout",
     "output_type": "stream",
     "text": [
      "This is the pipeline with appositions going both ways\n"
     ]
    },
    {
     "name": "stderr",
     "output_type": "stream",
     "text": [
      " 43%|██████████████████████████████████                                             | 976/2265 [13:57<10:40,  2.01it/s]"
     ]
    },
    {
     "name": "stdout",
     "output_type": "stream",
     "text": [
      "This is the pipeline with appositions going both ways\n"
     ]
    },
    {
     "name": "stderr",
     "output_type": "stream",
     "text": [
      " 43%|██████████████████████████████████                                             | 977/2265 [13:58<10:43,  2.00it/s]"
     ]
    },
    {
     "name": "stdout",
     "output_type": "stream",
     "text": [
      "This is the pipeline with appositions going both ways\n"
     ]
    },
    {
     "name": "stderr",
     "output_type": "stream",
     "text": [
      " 43%|██████████████████████████████████                                             | 978/2265 [13:58<10:39,  2.01it/s]"
     ]
    },
    {
     "name": "stdout",
     "output_type": "stream",
     "text": [
      "This is the pipeline with appositions going both ways\n"
     ]
    },
    {
     "name": "stderr",
     "output_type": "stream",
     "text": [
      " 43%|██████████████████████████████████▏                                            | 979/2265 [13:59<12:43,  1.69it/s]"
     ]
    },
    {
     "name": "stdout",
     "output_type": "stream",
     "text": [
      "This is the pipeline with appositions going both ways\n"
     ]
    },
    {
     "name": "stderr",
     "output_type": "stream",
     "text": [
      " 43%|██████████████████████████████████▏                                            | 980/2265 [14:00<14:19,  1.49it/s]"
     ]
    },
    {
     "name": "stdout",
     "output_type": "stream",
     "text": [
      "This is the pipeline with appositions going both ways\n"
     ]
    },
    {
     "name": "stderr",
     "output_type": "stream",
     "text": [
      " 43%|██████████████████████████████████▏                                            | 981/2265 [14:01<15:32,  1.38it/s]"
     ]
    },
    {
     "name": "stdout",
     "output_type": "stream",
     "text": [
      "2025-06-05 15:57:07.960 | INFO     | pipeline.correction.correction2:generate_possible_corrections:501 - Konnte Korrekturvorschlag '*' nicht erstellen: list index out of range\n",
      "2025-06-05 15:57:07.974 | INFO     | pipeline.correction.correction2:generate_possible_corrections:519 - Konnte Korrekturvorschlag 'PLURAL_*' nicht erstellen: list index out of range\n",
      "This is the pipeline with appositions going both ways\n"
     ]
    },
    {
     "name": "stderr",
     "output_type": "stream",
     "text": [
      " 43%|██████████████████████████████████▎                                            | 983/2265 [14:01<09:55,  2.15it/s]"
     ]
    },
    {
     "name": "stdout",
     "output_type": "stream",
     "text": [
      "This is the pipeline with appositions going both ways\n",
      "This is the pipeline with appositions going both ways\n"
     ]
    },
    {
     "name": "stderr",
     "output_type": "stream",
     "text": [
      " 43%|██████████████████████████████████▎                                            | 984/2265 [14:02<09:09,  2.33it/s]"
     ]
    },
    {
     "name": "stdout",
     "output_type": "stream",
     "text": [
      "This is the pipeline with appositions going both ways\n"
     ]
    },
    {
     "name": "stderr",
     "output_type": "stream",
     "text": [
      " 43%|██████████████████████████████████▎                                            | 985/2265 [14:02<09:34,  2.23it/s]"
     ]
    },
    {
     "name": "stdout",
     "output_type": "stream",
     "text": [
      "This is the pipeline with appositions going both ways\n"
     ]
    },
    {
     "name": "stderr",
     "output_type": "stream",
     "text": [
      " 44%|██████████████████████████████████▍                                            | 987/2265 [14:03<07:12,  2.96it/s]"
     ]
    },
    {
     "name": "stdout",
     "output_type": "stream",
     "text": [
      "This is the pipeline with appositions going both ways\n",
      "This is the pipeline with appositions going both ways\n"
     ]
    },
    {
     "name": "stderr",
     "output_type": "stream",
     "text": [
      " 44%|██████████████████████████████████▍                                            | 988/2265 [14:03<06:11,  3.44it/s]"
     ]
    },
    {
     "name": "stdout",
     "output_type": "stream",
     "text": [
      "This is the pipeline with appositions going both ways\n"
     ]
    },
    {
     "name": "stderr",
     "output_type": "stream",
     "text": [
      " 44%|██████████████████████████████████▍                                            | 989/2265 [14:03<09:29,  2.24it/s]"
     ]
    },
    {
     "name": "stdout",
     "output_type": "stream",
     "text": [
      "2025-06-05 15:57:10.695 | INFO     | pipeline.correction.correction2:generate_possible_corrections:501 - Konnte Korrekturvorschlag '*' nicht erstellen: list index out of range\n",
      "2025-06-05 15:57:10.708 | INFO     | pipeline.correction.correction2:generate_possible_corrections:519 - Konnte Korrekturvorschlag 'PLURAL_*' nicht erstellen: list index out of range\n",
      "This is the pipeline with appositions going both ways\n"
     ]
    },
    {
     "name": "stderr",
     "output_type": "stream",
     "text": [
      " 44%|██████████████████████████████████▌                                            | 990/2265 [14:05<13:12,  1.61it/s]"
     ]
    },
    {
     "name": "stdout",
     "output_type": "stream",
     "text": [
      "This is the pipeline with appositions going both ways\n"
     ]
    },
    {
     "name": "stderr",
     "output_type": "stream",
     "text": [
      " 44%|██████████████████████████████████▌                                            | 991/2265 [14:05<14:18,  1.48it/s]"
     ]
    },
    {
     "name": "stdout",
     "output_type": "stream",
     "text": [
      "This is the pipeline with appositions going both ways\n"
     ]
    },
    {
     "name": "stderr",
     "output_type": "stream",
     "text": [
      " 44%|██████████████████████████████████▌                                            | 992/2265 [14:06<11:56,  1.78it/s]"
     ]
    },
    {
     "name": "stdout",
     "output_type": "stream",
     "text": [
      "This is the pipeline with appositions going both ways\n"
     ]
    },
    {
     "name": "stderr",
     "output_type": "stream",
     "text": [
      " 44%|██████████████████████████████████▋                                            | 993/2265 [14:06<11:18,  1.88it/s]"
     ]
    },
    {
     "name": "stdout",
     "output_type": "stream",
     "text": [
      "This is the pipeline with appositions going both ways\n"
     ]
    },
    {
     "name": "stderr",
     "output_type": "stream",
     "text": [
      " 44%|██████████████████████████████████▋                                            | 994/2265 [14:07<13:43,  1.54it/s]"
     ]
    },
    {
     "name": "stdout",
     "output_type": "stream",
     "text": [
      "This is the pipeline with appositions going both ways\n"
     ]
    },
    {
     "name": "stderr",
     "output_type": "stream",
     "text": [
      " 44%|██████████████████████████████████▋                                            | 995/2265 [14:07<12:41,  1.67it/s]"
     ]
    },
    {
     "name": "stdout",
     "output_type": "stream",
     "text": [
      "2025-06-05 15:57:14.688 | INFO     | pipeline.correction.correction2:generate_possible_corrections:352 - Konnte Korrekturvorschlag '*' nicht erstellen: list index out of range\n",
      "2025-06-05 15:57:14.697 | INFO     | pipeline.correction.correction2:generate_possible_corrections:459 - Konnte Korrekturvorschlag 'BOTH_FORMS' nicht erstellen: list index out of range\n",
      "This is the pipeline with appositions going both ways\n"
     ]
    },
    {
     "name": "stderr",
     "output_type": "stream",
     "text": [
      " 44%|██████████████████████████████████▊                                            | 997/2265 [14:08<09:11,  2.30it/s]"
     ]
    },
    {
     "name": "stdout",
     "output_type": "stream",
     "text": [
      "This is the pipeline with appositions going both ways\n",
      "This is the pipeline with appositions going both ways\n"
     ]
    },
    {
     "name": "stderr",
     "output_type": "stream",
     "text": [
      " 44%|██████████████████████████████████▊                                            | 998/2265 [14:08<07:51,  2.69it/s]"
     ]
    },
    {
     "name": "stdout",
     "output_type": "stream",
     "text": [
      "This is the pipeline with appositions going both ways\n"
     ]
    },
    {
     "name": "stderr",
     "output_type": "stream",
     "text": [
      " 44%|██████████████████████████████████▊                                            | 999/2265 [14:09<06:56,  3.04it/s]"
     ]
    },
    {
     "name": "stdout",
     "output_type": "stream",
     "text": [
      "This is the pipeline with appositions going both ways\n"
     ]
    },
    {
     "name": "stderr",
     "output_type": "stream",
     "text": [
      " 44%|██████████████████████████████████▍                                           | 1000/2265 [14:09<07:53,  2.67it/s]"
     ]
    },
    {
     "name": "stdout",
     "output_type": "stream",
     "text": [
      "This is the pipeline with appositions going both ways\n"
     ]
    },
    {
     "name": "stderr",
     "output_type": "stream",
     "text": [
      " 44%|██████████████████████████████████▍                                           | 1001/2265 [14:09<08:14,  2.56it/s]"
     ]
    },
    {
     "name": "stdout",
     "output_type": "stream",
     "text": [
      "This is the pipeline with appositions going both ways\n"
     ]
    },
    {
     "name": "stderr",
     "output_type": "stream",
     "text": [
      " 44%|██████████████████████████████████▌                                           | 1002/2265 [14:10<08:08,  2.58it/s]"
     ]
    },
    {
     "name": "stdout",
     "output_type": "stream",
     "text": [
      "This is the pipeline with appositions going both ways\n"
     ]
    },
    {
     "name": "stderr",
     "output_type": "stream",
     "text": [
      " 44%|██████████████████████████████████▌                                           | 1004/2265 [14:11<07:15,  2.90it/s]"
     ]
    },
    {
     "name": "stdout",
     "output_type": "stream",
     "text": [
      "This is the pipeline with appositions going both ways\n",
      "This is the pipeline with appositions going both ways\n"
     ]
    },
    {
     "name": "stderr",
     "output_type": "stream",
     "text": [
      " 44%|██████████████████████████████████▌                                           | 1005/2265 [14:11<06:35,  3.19it/s]"
     ]
    },
    {
     "name": "stdout",
     "output_type": "stream",
     "text": [
      "This is the pipeline with appositions going both ways\n"
     ]
    },
    {
     "name": "stderr",
     "output_type": "stream",
     "text": [
      " 44%|██████████████████████████████████▋                                           | 1006/2265 [14:11<06:43,  3.12it/s]"
     ]
    },
    {
     "name": "stdout",
     "output_type": "stream",
     "text": [
      "This is the pipeline with appositions going both ways\n"
     ]
    },
    {
     "name": "stderr",
     "output_type": "stream",
     "text": [
      " 44%|██████████████████████████████████▋                                           | 1007/2265 [14:11<06:47,  3.09it/s]"
     ]
    },
    {
     "name": "stdout",
     "output_type": "stream",
     "text": [
      "This is the pipeline with appositions going both ways\n"
     ]
    },
    {
     "name": "stderr",
     "output_type": "stream",
     "text": [
      " 45%|██████████████████████████████████▋                                           | 1008/2265 [14:12<06:36,  3.17it/s]"
     ]
    },
    {
     "name": "stdout",
     "output_type": "stream",
     "text": [
      "This is the pipeline with appositions going both ways\n"
     ]
    },
    {
     "name": "stderr",
     "output_type": "stream",
     "text": [
      " 45%|██████████████████████████████████▊                                           | 1010/2265 [14:13<07:43,  2.71it/s]"
     ]
    },
    {
     "name": "stdout",
     "output_type": "stream",
     "text": [
      "This is the pipeline with appositions going both ways\n",
      "This is the pipeline with appositions going both ways\n"
     ]
    },
    {
     "name": "stderr",
     "output_type": "stream",
     "text": [
      " 45%|██████████████████████████████████▊                                           | 1011/2265 [14:13<07:24,  2.82it/s]"
     ]
    },
    {
     "name": "stdout",
     "output_type": "stream",
     "text": [
      "This is the pipeline with appositions going both ways\n"
     ]
    },
    {
     "name": "stderr",
     "output_type": "stream",
     "text": [
      " 45%|██████████████████████████████████▊                                           | 1012/2265 [14:13<07:38,  2.73it/s]"
     ]
    },
    {
     "name": "stdout",
     "output_type": "stream",
     "text": [
      "This is the pipeline with appositions going both ways\n"
     ]
    },
    {
     "name": "stderr",
     "output_type": "stream",
     "text": [
      " 45%|██████████████████████████████████▉                                           | 1013/2265 [14:14<07:19,  2.85it/s]"
     ]
    },
    {
     "name": "stdout",
     "output_type": "stream",
     "text": [
      "This is the pipeline with appositions going both ways\n",
      "This is the pipeline with appositions going both ways\n"
     ]
    },
    {
     "name": "stderr",
     "output_type": "stream",
     "text": [
      " 45%|██████████████████████████████████▉                                           | 1016/2265 [14:14<04:46,  4.37it/s]"
     ]
    },
    {
     "name": "stdout",
     "output_type": "stream",
     "text": [
      "This is the pipeline with appositions going both ways\n",
      "This is the pipeline with appositions going both ways\n"
     ]
    },
    {
     "name": "stderr",
     "output_type": "stream",
     "text": [
      " 45%|███████████████████████████████████                                           | 1017/2265 [14:14<04:16,  4.87it/s]"
     ]
    },
    {
     "name": "stdout",
     "output_type": "stream",
     "text": [
      "This is the pipeline with appositions going both ways\n"
     ]
    },
    {
     "name": "stderr",
     "output_type": "stream",
     "text": [
      " 45%|███████████████████████████████████                                           | 1018/2265 [14:15<04:48,  4.32it/s]"
     ]
    },
    {
     "name": "stdout",
     "output_type": "stream",
     "text": [
      "This is the pipeline with appositions going both ways\n"
     ]
    },
    {
     "name": "stderr",
     "output_type": "stream",
     "text": [
      " 45%|███████████████████████████████████                                           | 1019/2265 [14:15<06:34,  3.16it/s]"
     ]
    },
    {
     "name": "stdout",
     "output_type": "stream",
     "text": [
      "2025-06-05 15:57:22.176 | INFO     | pipeline.correction.correction2:generate_possible_corrections:501 - Konnte Korrekturvorschlag '*' nicht erstellen: list index out of range\n",
      "2025-06-05 15:57:22.190 | INFO     | pipeline.correction.correction2:generate_possible_corrections:519 - Konnte Korrekturvorschlag 'PLURAL_*' nicht erstellen: list index out of range\n",
      "2025-06-05 15:57:22.217 | INFO     | pipeline.correction.correction2:generate_possible_corrections:501 - Konnte Korrekturvorschlag '*' nicht erstellen: list index out of range\n",
      "2025-06-05 15:57:22.231 | INFO     | pipeline.correction.correction2:generate_possible_corrections:519 - Konnte Korrekturvorschlag 'PLURAL_*' nicht erstellen: list index out of range\n",
      "2025-06-05 15:57:22.288 | INFO     | pipeline.correction.correction2:generate_possible_corrections:501 - Konnte Korrekturvorschlag '*' nicht erstellen: list index out of range\n",
      "2025-06-05 15:57:22.302 | INFO     | pipeline.correction.correction2:generate_possible_corrections:519 - Konnte Korrekturvorschlag 'PLURAL_*' nicht erstellen: list index out of range\n",
      "This is the pipeline with appositions going both ways\n"
     ]
    },
    {
     "name": "stderr",
     "output_type": "stream",
     "text": [
      " 45%|███████████████████████████████████▏                                          | 1020/2265 [14:15<06:40,  3.11it/s]"
     ]
    },
    {
     "name": "stdout",
     "output_type": "stream",
     "text": [
      "2025-06-05 15:57:22.593 | INFO     | pipeline.correction.correction2:generate_possible_corrections:501 - Konnte Korrekturvorschlag '*' nicht erstellen: list index out of range\n",
      "2025-06-05 15:57:22.609 | INFO     | pipeline.correction.correction2:generate_possible_corrections:519 - Konnte Korrekturvorschlag 'PLURAL_*' nicht erstellen: list index out of range\n",
      "This is the pipeline with appositions going both ways\n",
      "2025-06-05 15:57:22.791 | INFO     | pipeline.correction.correction2:generate_possible_corrections:501 - Konnte Korrekturvorschlag '*' nicht erstellen: list index out of range\n"
     ]
    },
    {
     "name": "stderr",
     "output_type": "stream",
     "text": [
      " 45%|███████████████████████████████████▏                                          | 1021/2265 [14:16<05:47,  3.58it/s]"
     ]
    },
    {
     "name": "stdout",
     "output_type": "stream",
     "text": [
      "2025-06-05 15:57:22.805 | INFO     | pipeline.correction.correction2:generate_possible_corrections:519 - Konnte Korrekturvorschlag 'PLURAL_*' nicht erstellen: list index out of range\n",
      "This is the pipeline with appositions going both ways\n"
     ]
    },
    {
     "name": "stderr",
     "output_type": "stream",
     "text": [
      " 45%|███████████████████████████████████▏                                          | 1022/2265 [14:16<05:05,  4.07it/s]"
     ]
    },
    {
     "name": "stdout",
     "output_type": "stream",
     "text": [
      "This is the pipeline with appositions going both ways\n"
     ]
    },
    {
     "name": "stderr",
     "output_type": "stream",
     "text": [
      " 45%|███████████████████████████████████▎                                          | 1024/2265 [14:16<05:21,  3.87it/s]"
     ]
    },
    {
     "name": "stdout",
     "output_type": "stream",
     "text": [
      "This is the pipeline with appositions going both ways\n",
      "This is the pipeline with appositions going both ways\n"
     ]
    },
    {
     "name": "stderr",
     "output_type": "stream",
     "text": [
      " 45%|███████████████████████████████████▎                                          | 1026/2265 [14:17<06:46,  3.05it/s]"
     ]
    },
    {
     "name": "stdout",
     "output_type": "stream",
     "text": [
      "This is the pipeline with appositions going both ways\n",
      "This is the pipeline with appositions going both ways\n"
     ]
    },
    {
     "name": "stderr",
     "output_type": "stream",
     "text": [
      " 45%|███████████████████████████████████▎                                          | 1027/2265 [14:18<07:18,  2.82it/s]"
     ]
    },
    {
     "name": "stdout",
     "output_type": "stream",
     "text": [
      "This is the pipeline with appositions going both ways\n"
     ]
    },
    {
     "name": "stderr",
     "output_type": "stream",
     "text": [
      " 45%|███████████████████████████████████▍                                          | 1028/2265 [14:18<09:29,  2.17it/s]"
     ]
    },
    {
     "name": "stdout",
     "output_type": "stream",
     "text": [
      "This is the pipeline with appositions going both ways\n"
     ]
    },
    {
     "name": "stderr",
     "output_type": "stream",
     "text": [
      " 45%|███████████████████████████████████▍                                          | 1029/2265 [14:19<09:03,  2.27it/s]"
     ]
    },
    {
     "name": "stdout",
     "output_type": "stream",
     "text": [
      "This is the pipeline with appositions going both ways\n"
     ]
    },
    {
     "name": "stderr",
     "output_type": "stream",
     "text": [
      " 45%|███████████████████████████████████▍                                          | 1030/2265 [14:19<08:39,  2.38it/s]"
     ]
    },
    {
     "name": "stdout",
     "output_type": "stream",
     "text": [
      "2025-06-05 15:57:26.252 | INFO     | pipeline.correction.correction2:generate_possible_corrections:501 - Konnte Korrekturvorschlag '*' nicht erstellen: list index out of range\n",
      "2025-06-05 15:57:26.264 | INFO     | pipeline.correction.correction2:generate_possible_corrections:519 - Konnte Korrekturvorschlag 'PLURAL_*' nicht erstellen: list index out of range\n",
      "2025-06-05 15:57:26.303 | INFO     | pipeline.correction.correction2:generate_possible_corrections:501 - Konnte Korrekturvorschlag '*' nicht erstellen: list index out of range\n",
      "2025-06-05 15:57:26.315 | INFO     | pipeline.correction.correction2:generate_possible_corrections:519 - Konnte Korrekturvorschlag 'PLURAL_*' nicht erstellen: list index out of range\n",
      "2025-06-05 15:57:26.368 | INFO     | pipeline.correction.correction2:generate_possible_corrections:501 - Konnte Korrekturvorschlag '*' nicht erstellen: list index out of range\n",
      "2025-06-05 15:57:26.382 | INFO     | pipeline.correction.correction2:generate_possible_corrections:519 - Konnte Korrekturvorschlag 'PLURAL_*' nicht erstellen: list index out of range\n",
      "This is the pipeline with appositions going both ways\n"
     ]
    },
    {
     "name": "stderr",
     "output_type": "stream",
     "text": [
      " 46%|███████████████████████████████████▌                                          | 1031/2265 [14:19<07:59,  2.57it/s]"
     ]
    },
    {
     "name": "stdout",
     "output_type": "stream",
     "text": [
      "This is the pipeline with appositions going both ways\n"
     ]
    },
    {
     "name": "stderr",
     "output_type": "stream",
     "text": [
      " 46%|███████████████████████████████████▌                                          | 1032/2265 [14:22<18:47,  1.09it/s]"
     ]
    },
    {
     "name": "stdout",
     "output_type": "stream",
     "text": [
      "This is the pipeline with appositions going both ways\n",
      "This is the pipeline with appositions going both ways\n"
     ]
    },
    {
     "name": "stderr",
     "output_type": "stream",
     "text": [
      " 46%|███████████████████████████████████▌                                          | 1034/2265 [14:22<12:24,  1.65it/s]"
     ]
    },
    {
     "name": "stdout",
     "output_type": "stream",
     "text": [
      "This is the pipeline with appositions going both ways\n",
      "2025-06-05 15:57:30.024 | INFO     | pipeline.correction.correction2:generate_possible_corrections:352 - Konnte Korrekturvorschlag '*' nicht erstellen: list index out of range\n",
      "2025-06-05 15:57:30.036 | INFO     | pipeline.correction.correction2:generate_possible_corrections:459 - Konnte Korrekturvorschlag 'BOTH_FORMS' nicht erstellen: list index out of range\n"
     ]
    },
    {
     "name": "stderr",
     "output_type": "stream",
     "text": [
      " 46%|███████████████████████████████████▋                                          | 1035/2265 [14:23<14:15,  1.44it/s]"
     ]
    },
    {
     "name": "stdout",
     "output_type": "stream",
     "text": [
      "This is the pipeline with appositions going both ways\n",
      "2025-06-05 15:57:30.757 | INFO     | pipeline.correction.correction2:generate_possible_corrections:352 - Konnte Korrekturvorschlag '*' nicht erstellen: list index out of range\n",
      "2025-06-05 15:57:30.769 | INFO     | pipeline.correction.correction2:generate_possible_corrections:459 - Konnte Korrekturvorschlag 'BOTH_FORMS' nicht erstellen: list index out of range\n",
      "2025-06-05 15:57:30.817 | INFO     | pipeline.correction.correction2:generate_possible_corrections:501 - Konnte Korrekturvorschlag '*' nicht erstellen: list index out of range\n",
      "2025-06-05 15:57:30.829 | INFO     | pipeline.correction.correction2:generate_possible_corrections:519 - Konnte Korrekturvorschlag 'PLURAL_*' nicht erstellen: list index out of range\n",
      "2025-06-05 15:57:30.849 | INFO     | pipeline.correction.correction2:generate_possible_corrections:501 - Konnte Korrekturvorschlag '*' nicht erstellen: list index out of range\n",
      "2025-06-05 15:57:30.862 | INFO     | pipeline.correction.correction2:generate_possible_corrections:519 - Konnte Korrekturvorschlag 'PLURAL_*' nicht erstellen: list index out of range\n",
      "2025-06-05 15:57:30.924 | INFO     | pipeline.correction.correction2:generate_possible_corrections:501 - Konnte Korrekturvorschlag '*' nicht erstellen: list index out of range\n",
      "2025-06-05 15:57:30.937 | INFO     | pipeline.correction.correction2:generate_possible_corrections:519 - Konnte Korrekturvorschlag 'PLURAL_*' nicht erstellen: list index out of range\n"
     ]
    },
    {
     "name": "stderr",
     "output_type": "stream",
     "text": [
      " 46%|███████████████████████████████████▋                                          | 1036/2265 [14:24<14:23,  1.42it/s]"
     ]
    },
    {
     "name": "stdout",
     "output_type": "stream",
     "text": [
      "2025-06-05 15:57:31.013 | INFO     | pipeline.correction.correction2:generate_possible_corrections:501 - Konnte Korrekturvorschlag '*' nicht erstellen: list index out of range\n",
      "2025-06-05 15:57:31.025 | INFO     | pipeline.correction.correction2:generate_possible_corrections:519 - Konnte Korrekturvorschlag 'PLURAL_*' nicht erstellen: list index out of range\n",
      "This is the pipeline with appositions going both ways\n"
     ]
    },
    {
     "name": "stderr",
     "output_type": "stream",
     "text": [
      " 46%|███████████████████████████████████▋                                          | 1037/2265 [14:25<15:51,  1.29it/s]"
     ]
    },
    {
     "name": "stdout",
     "output_type": "stream",
     "text": [
      "This is the pipeline with appositions going both ways\n"
     ]
    },
    {
     "name": "stderr",
     "output_type": "stream",
     "text": [
      " 46%|███████████████████████████████████▋                                          | 1038/2265 [14:26<19:24,  1.05it/s]"
     ]
    },
    {
     "name": "stdout",
     "output_type": "stream",
     "text": [
      "This is the pipeline with appositions going both ways\n",
      "2025-06-05 15:57:34.231 | INFO     | pipeline.correction.verb.change_verb_form:change_verb_form:13 - lex_target_verb not found: präsidiert\n",
      "2025-06-05 15:57:34.231 | INFO     | pipeline.correction.correction2:generate_possible_corrections:519 - Konnte Korrekturvorschlag 'PLURAL_*' nicht erstellen: Das Verb konnte im Lexikon nicht gefunden werden: präsidiert\n"
     ]
    },
    {
     "name": "stderr",
     "output_type": "stream",
     "text": [
      " 46%|███████████████████████████████████▊                                          | 1039/2265 [14:27<21:08,  1.03s/it]"
     ]
    },
    {
     "name": "stdout",
     "output_type": "stream",
     "text": [
      "2025-06-05 15:57:34.607 | INFO     | pipeline.correction.correction2:generate_possible_corrections:501 - Konnte Korrekturvorschlag '*' nicht erstellen: list index out of range\n",
      "2025-06-05 15:57:34.609 | INFO     | pipeline.correction.correction2:generate_possible_corrections:519 - Konnte Korrekturvorschlag 'PLURAL_*' nicht erstellen: list index out of range\n",
      "This is the pipeline with appositions going both ways\n"
     ]
    },
    {
     "name": "stderr",
     "output_type": "stream",
     "text": [
      " 46%|███████████████████████████████████▊                                          | 1040/2265 [14:28<21:28,  1.05s/it]"
     ]
    },
    {
     "name": "stdout",
     "output_type": "stream",
     "text": [
      "2025-06-05 15:57:35.659 | INFO     | pipeline.correction.correction2:generate_possible_corrections:352 - Konnte Korrekturvorschlag '*' nicht erstellen: list index out of range\n",
      "2025-06-05 15:57:35.667 | INFO     | pipeline.correction.correction2:generate_possible_corrections:459 - Konnte Korrekturvorschlag 'BOTH_FORMS' nicht erstellen: list index out of range\n",
      "This is the pipeline with appositions going both ways\n"
     ]
    },
    {
     "name": "stderr",
     "output_type": "stream",
     "text": [
      " 46%|███████████████████████████████████▊                                          | 1041/2265 [14:30<25:03,  1.23s/it]"
     ]
    },
    {
     "name": "stdout",
     "output_type": "stream",
     "text": [
      "This is the pipeline with appositions going both ways\n"
     ]
    },
    {
     "name": "stderr",
     "output_type": "stream",
     "text": [
      " 46%|███████████████████████████████████▉                                          | 1043/2265 [14:31<16:01,  1.27it/s]"
     ]
    },
    {
     "name": "stdout",
     "output_type": "stream",
     "text": [
      "This is the pipeline with appositions going both ways\n",
      "This is the pipeline with appositions going both ways\n"
     ]
    },
    {
     "name": "stderr",
     "output_type": "stream",
     "text": [
      " 46%|███████████████████████████████████▉                                          | 1045/2265 [14:31<09:33,  2.13it/s]"
     ]
    },
    {
     "name": "stdout",
     "output_type": "stream",
     "text": [
      "This is the pipeline with appositions going both ways\n",
      "This is the pipeline with appositions going both ways\n"
     ]
    },
    {
     "name": "stderr",
     "output_type": "stream",
     "text": [
      " 46%|████████████████████████████████████                                          | 1046/2265 [14:32<09:08,  2.22it/s]"
     ]
    },
    {
     "name": "stdout",
     "output_type": "stream",
     "text": [
      "This is the pipeline with appositions going both ways\n"
     ]
    },
    {
     "name": "stderr",
     "output_type": "stream",
     "text": [
      " 46%|████████████████████████████████████                                          | 1047/2265 [14:32<08:15,  2.46it/s]"
     ]
    },
    {
     "name": "stdout",
     "output_type": "stream",
     "text": [
      "This is the pipeline with appositions going both ways\n"
     ]
    },
    {
     "name": "stderr",
     "output_type": "stream",
     "text": [
      " 46%|████████████████████████████████████                                          | 1048/2265 [14:34<16:58,  1.20it/s]"
     ]
    },
    {
     "name": "stdout",
     "output_type": "stream",
     "text": [
      "This is the pipeline with appositions going both ways\n"
     ]
    },
    {
     "name": "stderr",
     "output_type": "stream",
     "text": [
      " 46%|████████████████████████████████████                                          | 1049/2265 [14:36<23:51,  1.18s/it]"
     ]
    },
    {
     "name": "stdout",
     "output_type": "stream",
     "text": [
      "This is the pipeline with appositions going both ways\n"
     ]
    },
    {
     "name": "stderr",
     "output_type": "stream",
     "text": [
      " 46%|████████████████████████████████████▏                                         | 1050/2265 [14:38<31:24,  1.55s/it]"
     ]
    },
    {
     "name": "stdout",
     "output_type": "stream",
     "text": [
      "2025-06-05 15:57:45.372 | INFO     | pipeline.correction.correction2:generate_possible_corrections:352 - Konnte Korrekturvorschlag '*' nicht erstellen: list index out of range\n",
      "2025-06-05 15:57:45.384 | INFO     | pipeline.correction.correction2:generate_possible_corrections:459 - Konnte Korrekturvorschlag 'BOTH_FORMS' nicht erstellen: list index out of range\n",
      "This is the pipeline with appositions going both ways\n"
     ]
    },
    {
     "name": "stderr",
     "output_type": "stream",
     "text": [
      " 46%|████████████████████████████████████▏                                         | 1051/2265 [14:39<24:31,  1.21s/it]"
     ]
    },
    {
     "name": "stdout",
     "output_type": "stream",
     "text": [
      "This is the pipeline with appositions going both ways\n"
     ]
    },
    {
     "name": "stderr",
     "output_type": "stream",
     "text": [
      " 46%|████████████████████████████████████▏                                         | 1052/2265 [14:39<21:35,  1.07s/it]"
     ]
    },
    {
     "name": "stdout",
     "output_type": "stream",
     "text": [
      "This is the pipeline with appositions going both ways\n"
     ]
    },
    {
     "name": "stderr",
     "output_type": "stream",
     "text": [
      " 46%|████████████████████████████████████▎                                         | 1053/2265 [14:41<21:55,  1.09s/it]"
     ]
    },
    {
     "name": "stdout",
     "output_type": "stream",
     "text": [
      "This is the pipeline with appositions going both ways\n"
     ]
    },
    {
     "name": "stderr",
     "output_type": "stream",
     "text": [
      " 47%|████████████████████████████████████▎                                         | 1054/2265 [14:41<18:48,  1.07it/s]"
     ]
    },
    {
     "name": "stdout",
     "output_type": "stream",
     "text": [
      "This is the pipeline with appositions going both ways\n"
     ]
    },
    {
     "name": "stderr",
     "output_type": "stream",
     "text": [
      " 47%|████████████████████████████████████▎                                         | 1055/2265 [14:42<17:01,  1.18it/s]"
     ]
    },
    {
     "name": "stdout",
     "output_type": "stream",
     "text": [
      "This is the pipeline with appositions going both ways\n"
     ]
    },
    {
     "name": "stderr",
     "output_type": "stream",
     "text": [
      " 47%|████████████████████████████████████▎                                         | 1056/2265 [14:42<14:07,  1.43it/s]"
     ]
    },
    {
     "name": "stdout",
     "output_type": "stream",
     "text": [
      "This is the pipeline with appositions going both ways\n"
     ]
    },
    {
     "name": "stderr",
     "output_type": "stream",
     "text": [
      " 47%|████████████████████████████████████▍                                         | 1057/2265 [14:43<13:17,  1.51it/s]"
     ]
    },
    {
     "name": "stdout",
     "output_type": "stream",
     "text": [
      "This is the pipeline with appositions going both ways\n"
     ]
    },
    {
     "name": "stderr",
     "output_type": "stream",
     "text": [
      " 47%|████████████████████████████████████▍                                         | 1058/2265 [14:43<10:57,  1.84it/s]"
     ]
    },
    {
     "name": "stdout",
     "output_type": "stream",
     "text": [
      "This is the pipeline with appositions going both ways\n",
      "2025-06-05 15:57:51.751 | INFO     | pipeline.correction.correction2:generate_possible_corrections:501 - Konnte Korrekturvorschlag '*' nicht erstellen: list index out of range\n",
      "2025-06-05 15:57:51.751 | INFO     | pipeline.correction.correction2:generate_possible_corrections:519 - Konnte Korrekturvorschlag 'PLURAL_*' nicht erstellen: list index out of range\n",
      "2025-06-05 15:57:51.791 | ERROR    | pipeline.full_pipeline:full_pipeline:38 - Fehler bei needs_to_be_gendered() für 'Bürgermeister': Es darf nur ein Element mit dieser Beziehung geben. (ist mit sb, war aber [hat, Bruder])\n"
     ]
    },
    {
     "name": "stderr",
     "output_type": "stream",
     "text": [
      " 47%|████████████████████████████████████▍                                         | 1059/2265 [14:45<18:41,  1.08it/s]"
     ]
    },
    {
     "name": "stdout",
     "output_type": "stream",
     "text": [
      "This is the pipeline with appositions going both ways\n"
     ]
    },
    {
     "name": "stderr",
     "output_type": "stream",
     "text": [
      " 47%|████████████████████████████████████▌                                         | 1060/2265 [14:46<17:46,  1.13it/s]"
     ]
    },
    {
     "name": "stdout",
     "output_type": "stream",
     "text": [
      "This is the pipeline with appositions going both ways\n"
     ]
    },
    {
     "name": "stderr",
     "output_type": "stream",
     "text": [
      " 47%|████████████████████████████████████▌                                         | 1061/2265 [14:46<14:45,  1.36it/s]"
     ]
    },
    {
     "name": "stdout",
     "output_type": "stream",
     "text": [
      "This is the pipeline with appositions going both ways\n"
     ]
    },
    {
     "name": "stderr",
     "output_type": "stream",
     "text": [
      " 47%|████████████████████████████████████▌                                         | 1062/2265 [14:47<13:55,  1.44it/s]"
     ]
    },
    {
     "name": "stdout",
     "output_type": "stream",
     "text": [
      "This is the pipeline with appositions going both ways\n"
     ]
    },
    {
     "name": "stderr",
     "output_type": "stream",
     "text": [
      " 47%|████████████████████████████████████▌                                         | 1063/2265 [14:47<13:07,  1.53it/s]"
     ]
    },
    {
     "name": "stdout",
     "output_type": "stream",
     "text": [
      "2025-06-05 15:57:54.255 | INFO     | pipeline.correction.correction2:generate_possible_corrections:352 - Konnte Korrekturvorschlag '*' nicht erstellen: list index out of range\n",
      "2025-06-05 15:57:54.268 | INFO     | pipeline.correction.correction2:generate_possible_corrections:459 - Konnte Korrekturvorschlag 'BOTH_FORMS' nicht erstellen: list index out of range\n",
      "This is the pipeline with appositions going both ways\n",
      "2025-06-05 15:57:55.438 | INFO     | pipeline.correction.correction2:generate_possible_corrections:501 - Konnte Korrekturvorschlag '*' nicht erstellen: list index out of range\n",
      "2025-06-05 15:57:55.450 | INFO     | pipeline.correction.correction2:generate_possible_corrections:519 - Konnte Korrekturvorschlag 'PLURAL_*' nicht erstellen: list index out of range\n"
     ]
    },
    {
     "name": "stderr",
     "output_type": "stream",
     "text": [
      " 47%|████████████████████████████████████▋                                         | 1064/2265 [14:49<17:39,  1.13it/s]"
     ]
    },
    {
     "name": "stdout",
     "output_type": "stream",
     "text": [
      "This is the pipeline with appositions going both ways\n",
      "This is the pipeline with appositions going both ways\n"
     ]
    },
    {
     "name": "stderr",
     "output_type": "stream",
     "text": [
      " 47%|████████████████████████████████████▋                                         | 1066/2265 [14:49<12:00,  1.66it/s]"
     ]
    },
    {
     "name": "stdout",
     "output_type": "stream",
     "text": [
      "This is the pipeline with appositions going both ways\n"
     ]
    },
    {
     "name": "stderr",
     "output_type": "stream",
     "text": [
      " 47%|████████████████████████████████████▋                                         | 1067/2265 [14:50<13:48,  1.45it/s]"
     ]
    },
    {
     "name": "stdout",
     "output_type": "stream",
     "text": [
      "This is the pipeline with appositions going both ways\n"
     ]
    },
    {
     "name": "stderr",
     "output_type": "stream",
     "text": [
      " 47%|████████████████████████████████████▊                                         | 1068/2265 [14:51<14:39,  1.36it/s]"
     ]
    },
    {
     "name": "stdout",
     "output_type": "stream",
     "text": [
      "This is the pipeline with appositions going both ways\n"
     ]
    },
    {
     "name": "stderr",
     "output_type": "stream",
     "text": [
      " 47%|████████████████████████████████████▊                                         | 1069/2265 [14:52<14:22,  1.39it/s]"
     ]
    },
    {
     "name": "stdout",
     "output_type": "stream",
     "text": [
      "This is the pipeline with appositions going both ways\n"
     ]
    },
    {
     "name": "stderr",
     "output_type": "stream",
     "text": [
      " 47%|████████████████████████████████████▊                                         | 1070/2265 [14:52<14:47,  1.35it/s]"
     ]
    },
    {
     "name": "stdout",
     "output_type": "stream",
     "text": [
      "2025-06-05 15:57:59.478 | INFO     | pipeline.correction.correction2:generate_possible_corrections:352 - Konnte Korrekturvorschlag '*' nicht erstellen: list index out of range\n",
      "2025-06-05 15:57:59.489 | INFO     | pipeline.correction.correction2:generate_possible_corrections:459 - Konnte Korrekturvorschlag 'BOTH_FORMS' nicht erstellen: list index out of range\n",
      "This is the pipeline with appositions going both ways\n"
     ]
    },
    {
     "name": "stderr",
     "output_type": "stream",
     "text": [
      " 47%|████████████████████████████████████▉                                         | 1071/2265 [14:53<13:58,  1.42it/s]"
     ]
    },
    {
     "name": "stdout",
     "output_type": "stream",
     "text": [
      "This is the pipeline with appositions going both ways\n"
     ]
    },
    {
     "name": "stderr",
     "output_type": "stream",
     "text": [
      " 47%|████████████████████████████████████▉                                         | 1072/2265 [14:53<12:17,  1.62it/s]"
     ]
    },
    {
     "name": "stdout",
     "output_type": "stream",
     "text": [
      "This is the pipeline with appositions going both ways\n"
     ]
    },
    {
     "name": "stderr",
     "output_type": "stream",
     "text": [
      " 47%|████████████████████████████████████▉                                         | 1073/2265 [14:54<13:14,  1.50it/s]"
     ]
    },
    {
     "name": "stdout",
     "output_type": "stream",
     "text": [
      "This is the pipeline with appositions going both ways\n"
     ]
    },
    {
     "name": "stderr",
     "output_type": "stream",
     "text": [
      " 47%|████████████████████████████████████▉                                         | 1074/2265 [14:55<12:08,  1.64it/s]"
     ]
    },
    {
     "name": "stdout",
     "output_type": "stream",
     "text": [
      "This is the pipeline with appositions going both ways\n"
     ]
    },
    {
     "name": "stderr",
     "output_type": "stream",
     "text": [
      " 47%|█████████████████████████████████████                                         | 1075/2265 [14:55<10:40,  1.86it/s]"
     ]
    },
    {
     "name": "stdout",
     "output_type": "stream",
     "text": [
      "This is the pipeline with appositions going both ways\n"
     ]
    },
    {
     "name": "stderr",
     "output_type": "stream",
     "text": [
      " 48%|█████████████████████████████████████                                         | 1076/2265 [14:55<10:14,  1.93it/s]"
     ]
    },
    {
     "name": "stdout",
     "output_type": "stream",
     "text": [
      "This is the pipeline with appositions going both ways\n"
     ]
    },
    {
     "name": "stderr",
     "output_type": "stream",
     "text": [
      " 48%|█████████████████████████████████████                                         | 1077/2265 [14:56<11:26,  1.73it/s]"
     ]
    },
    {
     "name": "stdout",
     "output_type": "stream",
     "text": [
      "This is the pipeline with appositions going both ways\n"
     ]
    },
    {
     "name": "stderr",
     "output_type": "stream",
     "text": [
      " 48%|█████████████████████████████████████                                         | 1078/2265 [14:57<10:54,  1.81it/s]"
     ]
    },
    {
     "name": "stdout",
     "output_type": "stream",
     "text": [
      "This is the pipeline with appositions going both ways\n"
     ]
    },
    {
     "name": "stderr",
     "output_type": "stream",
     "text": [
      " 48%|█████████████████████████████████████▏                                        | 1079/2265 [14:57<10:19,  1.91it/s]"
     ]
    },
    {
     "name": "stdout",
     "output_type": "stream",
     "text": [
      "2025-06-05 15:58:04.293 | INFO     | pipeline.correction.correction2:generate_possible_corrections:501 - Konnte Korrekturvorschlag '*' nicht erstellen: list index out of range\n",
      "2025-06-05 15:58:04.300 | INFO     | pipeline.correction.correction2:generate_possible_corrections:519 - Konnte Korrekturvorschlag 'PLURAL_*' nicht erstellen: list index out of range\n",
      "This is the pipeline with appositions going both ways\n"
     ]
    },
    {
     "name": "stderr",
     "output_type": "stream",
     "text": [
      " 48%|█████████████████████████████████████▏                                        | 1080/2265 [14:58<09:32,  2.07it/s]"
     ]
    },
    {
     "name": "stdout",
     "output_type": "stream",
     "text": [
      "This is the pipeline with appositions going both ways\n"
     ]
    },
    {
     "name": "stderr",
     "output_type": "stream",
     "text": [
      " 48%|█████████████████████████████████████▏                                        | 1081/2265 [14:58<10:35,  1.86it/s]"
     ]
    },
    {
     "name": "stdout",
     "output_type": "stream",
     "text": [
      "This is the pipeline with appositions going both ways\n"
     ]
    },
    {
     "name": "stderr",
     "output_type": "stream",
     "text": [
      " 48%|█████████████████████████████████████▎                                        | 1082/2265 [14:58<08:42,  2.26it/s]"
     ]
    },
    {
     "name": "stdout",
     "output_type": "stream",
     "text": [
      "This is the pipeline with appositions going both ways\n"
     ]
    },
    {
     "name": "stderr",
     "output_type": "stream",
     "text": [
      " 48%|█████████████████████████████████████▎                                        | 1083/2265 [14:59<09:27,  2.08it/s]"
     ]
    },
    {
     "name": "stdout",
     "output_type": "stream",
     "text": [
      "2025-06-05 15:58:06.135 | INFO     | pipeline.correction.correction2:generate_possible_corrections:352 - Konnte Korrekturvorschlag '*' nicht erstellen: list index out of range\n",
      "2025-06-05 15:58:06.136 | INFO     | pipeline.correction.correction2:generate_possible_corrections:459 - Konnte Korrekturvorschlag 'BOTH_FORMS' nicht erstellen: list index out of range\n",
      "This is the pipeline with appositions going both ways\n"
     ]
    },
    {
     "name": "stderr",
     "output_type": "stream",
     "text": [
      " 48%|█████████████████████████████████████▎                                        | 1084/2265 [14:59<08:24,  2.34it/s]"
     ]
    },
    {
     "name": "stdout",
     "output_type": "stream",
     "text": [
      "This is the pipeline with appositions going both ways\n"
     ]
    },
    {
     "name": "stderr",
     "output_type": "stream",
     "text": [
      " 48%|█████████████████████████████████████▎                                        | 1085/2265 [15:00<10:03,  1.96it/s]"
     ]
    },
    {
     "name": "stdout",
     "output_type": "stream",
     "text": [
      "2025-06-05 15:58:07.190 | INFO     | pipeline.correction.correction2:generate_possible_corrections:501 - Konnte Korrekturvorschlag '*' nicht erstellen: list index out of range\n",
      "2025-06-05 15:58:07.202 | INFO     | pipeline.correction.correction2:generate_possible_corrections:519 - Konnte Korrekturvorschlag 'PLURAL_*' nicht erstellen: list index out of range\n",
      "This is the pipeline with appositions going both ways\n"
     ]
    },
    {
     "name": "stderr",
     "output_type": "stream",
     "text": [
      " 48%|█████████████████████████████████████▍                                        | 1086/2265 [15:02<17:37,  1.12it/s]"
     ]
    },
    {
     "name": "stdout",
     "output_type": "stream",
     "text": [
      "This is the pipeline with appositions going both ways\n"
     ]
    },
    {
     "name": "stderr",
     "output_type": "stream",
     "text": [
      " 48%|█████████████████████████████████████▍                                        | 1087/2265 [15:04<22:49,  1.16s/it]"
     ]
    },
    {
     "name": "stdout",
     "output_type": "stream",
     "text": [
      "This is the pipeline with appositions going both ways\n"
     ]
    },
    {
     "name": "stderr",
     "output_type": "stream",
     "text": [
      " 48%|█████████████████████████████████████▍                                        | 1088/2265 [15:04<19:30,  1.01it/s]"
     ]
    },
    {
     "name": "stdout",
     "output_type": "stream",
     "text": [
      "This is the pipeline with appositions going both ways\n"
     ]
    },
    {
     "name": "stderr",
     "output_type": "stream",
     "text": [
      " 48%|█████████████████████████████████████▌                                        | 1089/2265 [15:05<17:35,  1.11it/s]"
     ]
    },
    {
     "name": "stdout",
     "output_type": "stream",
     "text": [
      "This is the pipeline with appositions going both ways\n"
     ]
    },
    {
     "name": "stderr",
     "output_type": "stream",
     "text": [
      " 48%|█████████████████████████████████████▌                                        | 1091/2265 [15:05<11:21,  1.72it/s]"
     ]
    },
    {
     "name": "stdout",
     "output_type": "stream",
     "text": [
      "This is the pipeline with appositions going both ways\n",
      "This is the pipeline with appositions going both ways\n"
     ]
    },
    {
     "name": "stderr",
     "output_type": "stream",
     "text": [
      " 48%|█████████████████████████████████████▌                                        | 1092/2265 [15:06<12:43,  1.54it/s]"
     ]
    },
    {
     "name": "stdout",
     "output_type": "stream",
     "text": [
      "This is the pipeline with appositions going both ways\n"
     ]
    },
    {
     "name": "stderr",
     "output_type": "stream",
     "text": [
      " 48%|█████████████████████████████████████▋                                        | 1093/2265 [15:07<12:39,  1.54it/s]"
     ]
    },
    {
     "name": "stdout",
     "output_type": "stream",
     "text": [
      "This is the pipeline with appositions going both ways\n"
     ]
    },
    {
     "name": "stderr",
     "output_type": "stream",
     "text": [
      " 48%|█████████████████████████████████████▋                                        | 1094/2265 [15:08<13:49,  1.41it/s]"
     ]
    },
    {
     "name": "stdout",
     "output_type": "stream",
     "text": [
      "This is the pipeline with appositions going both ways\n"
     ]
    },
    {
     "name": "stderr",
     "output_type": "stream",
     "text": [
      " 48%|█████████████████████████████████████▋                                        | 1096/2265 [15:08<09:39,  2.02it/s]"
     ]
    },
    {
     "name": "stdout",
     "output_type": "stream",
     "text": [
      "This is the pipeline with appositions going both ways\n",
      "This is the pipeline with appositions going both ways\n"
     ]
    },
    {
     "name": "stderr",
     "output_type": "stream",
     "text": [
      " 48%|█████████████████████████████████████▊                                        | 1098/2265 [15:09<06:53,  2.82it/s]"
     ]
    },
    {
     "name": "stdout",
     "output_type": "stream",
     "text": [
      "This is the pipeline with appositions going both ways\n",
      "This is the pipeline with appositions going both ways\n"
     ]
    },
    {
     "name": "stderr",
     "output_type": "stream",
     "text": [
      " 49%|█████████████████████████████████████▊                                        | 1099/2265 [15:09<06:09,  3.15it/s]"
     ]
    },
    {
     "name": "stdout",
     "output_type": "stream",
     "text": [
      "This is the pipeline with appositions going both ways\n"
     ]
    },
    {
     "name": "stderr",
     "output_type": "stream",
     "text": [
      " 49%|█████████████████████████████████████▉                                        | 1100/2265 [15:09<06:34,  2.96it/s]"
     ]
    },
    {
     "name": "stdout",
     "output_type": "stream",
     "text": [
      "This is the pipeline with appositions going both ways\n"
     ]
    },
    {
     "name": "stderr",
     "output_type": "stream",
     "text": [
      " 49%|█████████████████████████████████████▉                                        | 1102/2265 [15:10<05:20,  3.63it/s]"
     ]
    },
    {
     "name": "stdout",
     "output_type": "stream",
     "text": [
      "This is the pipeline with appositions going both ways\n",
      "This is the pipeline with appositions going both ways\n"
     ]
    },
    {
     "name": "stderr",
     "output_type": "stream",
     "text": [
      " 49%|█████████████████████████████████████▉                                        | 1103/2265 [15:10<05:07,  3.78it/s]"
     ]
    },
    {
     "name": "stdout",
     "output_type": "stream",
     "text": [
      "This is the pipeline with appositions going both ways\n"
     ]
    },
    {
     "name": "stderr",
     "output_type": "stream",
     "text": [
      " 49%|██████████████████████████████████████                                        | 1104/2265 [15:10<05:14,  3.69it/s]"
     ]
    },
    {
     "name": "stdout",
     "output_type": "stream",
     "text": [
      "This is the pipeline with appositions going both ways\n"
     ]
    },
    {
     "name": "stderr",
     "output_type": "stream",
     "text": [
      " 49%|██████████████████████████████████████                                        | 1105/2265 [15:11<05:20,  3.62it/s]"
     ]
    },
    {
     "name": "stdout",
     "output_type": "stream",
     "text": [
      "This is the pipeline with appositions going both ways\n"
     ]
    },
    {
     "name": "stderr",
     "output_type": "stream",
     "text": [
      " 49%|██████████████████████████████████████                                        | 1106/2265 [15:11<06:16,  3.08it/s]"
     ]
    },
    {
     "name": "stdout",
     "output_type": "stream",
     "text": [
      "This is the pipeline with appositions going both ways\n"
     ]
    },
    {
     "name": "stderr",
     "output_type": "stream",
     "text": [
      " 49%|██████████████████████████████████████                                        | 1107/2265 [15:12<06:29,  2.97it/s]"
     ]
    },
    {
     "name": "stdout",
     "output_type": "stream",
     "text": [
      "This is the pipeline with appositions going both ways\n"
     ]
    },
    {
     "name": "stderr",
     "output_type": "stream",
     "text": [
      " 49%|██████████████████████████████████████▏                                       | 1108/2265 [15:12<08:59,  2.14it/s]"
     ]
    },
    {
     "name": "stdout",
     "output_type": "stream",
     "text": [
      "This is the pipeline with appositions going both ways\n"
     ]
    },
    {
     "name": "stderr",
     "output_type": "stream",
     "text": [
      " 49%|██████████████████████████████████████▏                                       | 1109/2265 [15:13<08:32,  2.26it/s]"
     ]
    },
    {
     "name": "stdout",
     "output_type": "stream",
     "text": [
      "This is the pipeline with appositions going both ways\n"
     ]
    },
    {
     "name": "stderr",
     "output_type": "stream",
     "text": [
      " 49%|██████████████████████████████████████▏                                       | 1110/2265 [15:13<08:10,  2.36it/s]"
     ]
    },
    {
     "name": "stdout",
     "output_type": "stream",
     "text": [
      "This is the pipeline with appositions going both ways\n"
     ]
    },
    {
     "name": "stderr",
     "output_type": "stream",
     "text": [
      " 49%|██████████████████████████████████████▎                                       | 1111/2265 [15:14<09:13,  2.09it/s]"
     ]
    },
    {
     "name": "stdout",
     "output_type": "stream",
     "text": [
      "This is the pipeline with appositions going both ways\n"
     ]
    },
    {
     "name": "stderr",
     "output_type": "stream",
     "text": [
      " 49%|██████████████████████████████████████▎                                       | 1112/2265 [15:14<09:05,  2.11it/s]"
     ]
    },
    {
     "name": "stdout",
     "output_type": "stream",
     "text": [
      "This is the pipeline with appositions going both ways\n"
     ]
    },
    {
     "name": "stderr",
     "output_type": "stream",
     "text": [
      " 49%|██████████████████████████████████████▎                                       | 1113/2265 [15:15<10:15,  1.87it/s]"
     ]
    },
    {
     "name": "stdout",
     "output_type": "stream",
     "text": [
      "This is the pipeline with appositions going both ways\n",
      "2025-06-05 15:58:22.289 | INFO     | pipeline.correction.correction2:generate_possible_corrections:352 - Konnte Korrekturvorschlag '*' nicht erstellen: list index out of range\n",
      "2025-06-05 15:58:22.304 | INFO     | pipeline.correction.correction2:generate_possible_corrections:459 - Konnte Korrekturvorschlag 'BOTH_FORMS' nicht erstellen: list index out of range\n"
     ]
    },
    {
     "name": "stderr",
     "output_type": "stream",
     "text": [
      " 49%|██████████████████████████████████████▍                                       | 1115/2265 [15:15<07:32,  2.54it/s]"
     ]
    },
    {
     "name": "stdout",
     "output_type": "stream",
     "text": [
      "This is the pipeline with appositions going both ways\n",
      "This is the pipeline with appositions going both ways\n"
     ]
    },
    {
     "name": "stderr",
     "output_type": "stream",
     "text": [
      " 49%|██████████████████████████████████████▍                                       | 1116/2265 [15:16<06:37,  2.89it/s]"
     ]
    },
    {
     "name": "stdout",
     "output_type": "stream",
     "text": [
      "This is the pipeline with appositions going both ways\n"
     ]
    },
    {
     "name": "stderr",
     "output_type": "stream",
     "text": [
      " 49%|██████████████████████████████████████▍                                       | 1117/2265 [15:16<06:46,  2.83it/s]"
     ]
    },
    {
     "name": "stdout",
     "output_type": "stream",
     "text": [
      "This is the pipeline with appositions going both ways\n"
     ]
    },
    {
     "name": "stderr",
     "output_type": "stream",
     "text": [
      " 49%|██████████████████████████████████████▌                                       | 1118/2265 [15:16<07:31,  2.54it/s]"
     ]
    },
    {
     "name": "stdout",
     "output_type": "stream",
     "text": [
      "This is the pipeline with appositions going both ways\n"
     ]
    },
    {
     "name": "stderr",
     "output_type": "stream",
     "text": [
      " 49%|██████████████████████████████████████▌                                       | 1119/2265 [15:17<06:31,  2.93it/s]"
     ]
    },
    {
     "name": "stdout",
     "output_type": "stream",
     "text": [
      "This is the pipeline with appositions going both ways\n"
     ]
    },
    {
     "name": "stderr",
     "output_type": "stream",
     "text": [
      " 49%|██████████████████████████████████████▌                                       | 1120/2265 [15:17<06:01,  3.17it/s]"
     ]
    },
    {
     "name": "stdout",
     "output_type": "stream",
     "text": [
      "This is the pipeline with appositions going both ways\n"
     ]
    },
    {
     "name": "stderr",
     "output_type": "stream",
     "text": [
      " 49%|██████████████████████████████████████▌                                       | 1121/2265 [15:17<06:31,  2.92it/s]"
     ]
    },
    {
     "name": "stdout",
     "output_type": "stream",
     "text": [
      "This is the pipeline with appositions going both ways\n"
     ]
    },
    {
     "name": "stderr",
     "output_type": "stream",
     "text": [
      " 50%|██████████████████████████████████████▋                                       | 1122/2265 [15:18<07:36,  2.50it/s]"
     ]
    },
    {
     "name": "stdout",
     "output_type": "stream",
     "text": [
      "This is the pipeline with appositions going both ways\n"
     ]
    },
    {
     "name": "stderr",
     "output_type": "stream",
     "text": [
      " 50%|██████████████████████████████████████▋                                       | 1123/2265 [15:18<07:32,  2.52it/s]"
     ]
    },
    {
     "name": "stdout",
     "output_type": "stream",
     "text": [
      "This is the pipeline with appositions going both ways\n",
      "2025-06-05 15:58:26.440 | INFO     | pipeline.correction.correction2:generate_possible_corrections:352 - Konnte Korrekturvorschlag '*' nicht erstellen: list index out of range\n",
      "2025-06-05 15:58:26.453 | INFO     | pipeline.correction.correction2:generate_possible_corrections:459 - Konnte Korrekturvorschlag 'BOTH_FORMS' nicht erstellen: list index out of range\n",
      "2025-06-05 15:58:26.515 | INFO     | pipeline.correction.correction2:generate_possible_corrections:352 - Konnte Korrekturvorschlag '*' nicht erstellen: list index out of range\n",
      "2025-06-05 15:58:26.528 | INFO     | pipeline.correction.correction2:generate_possible_corrections:459 - Konnte Korrekturvorschlag 'BOTH_FORMS' nicht erstellen: list index out of range\n"
     ]
    },
    {
     "name": "stderr",
     "output_type": "stream",
     "text": [
      " 50%|██████████████████████████████████████▋                                       | 1124/2265 [15:19<11:46,  1.62it/s]"
     ]
    },
    {
     "name": "stdout",
     "output_type": "stream",
     "text": [
      "This is the pipeline with appositions going both ways\n"
     ]
    },
    {
     "name": "stderr",
     "output_type": "stream",
     "text": [
      " 50%|██████████████████████████████████████▋                                       | 1125/2265 [15:20<11:40,  1.63it/s]"
     ]
    },
    {
     "name": "stdout",
     "output_type": "stream",
     "text": [
      "This is the pipeline with appositions going both ways\n"
     ]
    },
    {
     "name": "stderr",
     "output_type": "stream",
     "text": [
      " 50%|██████████████████████████████████████▊                                       | 1126/2265 [15:21<12:21,  1.54it/s]"
     ]
    },
    {
     "name": "stdout",
     "output_type": "stream",
     "text": [
      "This is the pipeline with appositions going both ways\n"
     ]
    },
    {
     "name": "stderr",
     "output_type": "stream",
     "text": [
      " 50%|██████████████████████████████████████▊                                       | 1127/2265 [15:21<11:25,  1.66it/s]"
     ]
    },
    {
     "name": "stdout",
     "output_type": "stream",
     "text": [
      "This is the pipeline with appositions going both ways\n"
     ]
    },
    {
     "name": "stderr",
     "output_type": "stream",
     "text": [
      " 50%|██████████████████████████████████████▊                                       | 1128/2265 [15:22<10:58,  1.73it/s]"
     ]
    },
    {
     "name": "stdout",
     "output_type": "stream",
     "text": [
      "2025-06-05 15:58:28.910 | INFO     | pipeline.correction.correction2:generate_possible_corrections:501 - Konnte Korrekturvorschlag '*' nicht erstellen: list index out of range\n",
      "2025-06-05 15:58:28.923 | INFO     | pipeline.correction.correction2:generate_possible_corrections:519 - Konnte Korrekturvorschlag 'PLURAL_*' nicht erstellen: list index out of range\n",
      "This is the pipeline with appositions going both ways\n"
     ]
    },
    {
     "name": "stderr",
     "output_type": "stream",
     "text": [
      " 50%|██████████████████████████████████████▉                                       | 1129/2265 [15:22<09:08,  2.07it/s]"
     ]
    },
    {
     "name": "stdout",
     "output_type": "stream",
     "text": [
      "This is the pipeline with appositions going both ways\n"
     ]
    },
    {
     "name": "stderr",
     "output_type": "stream",
     "text": [
      " 50%|██████████████████████████████████████▉                                       | 1130/2265 [15:22<07:40,  2.46it/s]"
     ]
    },
    {
     "name": "stdout",
     "output_type": "stream",
     "text": [
      "This is the pipeline with appositions going both ways\n"
     ]
    },
    {
     "name": "stderr",
     "output_type": "stream",
     "text": [
      " 50%|██████████████████████████████████████▉                                       | 1131/2265 [15:23<07:46,  2.43it/s]"
     ]
    },
    {
     "name": "stdout",
     "output_type": "stream",
     "text": [
      "This is the pipeline with appositions going both ways\n"
     ]
    },
    {
     "name": "stderr",
     "output_type": "stream",
     "text": [
      " 50%|███████████████████████████████████████                                       | 1133/2265 [15:23<06:11,  3.05it/s]"
     ]
    },
    {
     "name": "stdout",
     "output_type": "stream",
     "text": [
      "This is the pipeline with appositions going both ways\n",
      "This is the pipeline with appositions going both ways\n"
     ]
    },
    {
     "name": "stderr",
     "output_type": "stream",
     "text": [
      " 50%|███████████████████████████████████████                                       | 1134/2265 [15:23<05:06,  3.70it/s]"
     ]
    },
    {
     "name": "stdout",
     "output_type": "stream",
     "text": [
      "This is the pipeline with appositions going both ways\n"
     ]
    },
    {
     "name": "stderr",
     "output_type": "stream",
     "text": [
      " 50%|███████████████████████████████████████                                       | 1135/2265 [15:24<05:55,  3.18it/s]"
     ]
    },
    {
     "name": "stdout",
     "output_type": "stream",
     "text": [
      "This is the pipeline with appositions going both ways\n"
     ]
    },
    {
     "name": "stderr",
     "output_type": "stream",
     "text": [
      " 50%|███████████████████████████████████████                                       | 1136/2265 [15:25<08:17,  2.27it/s]"
     ]
    },
    {
     "name": "stdout",
     "output_type": "stream",
     "text": [
      "2025-06-05 15:58:31.664 | INFO     | pipeline.correction.correction2:generate_possible_corrections:501 - Konnte Korrekturvorschlag '*' nicht erstellen: list index out of range\n",
      "2025-06-05 15:58:31.678 | INFO     | pipeline.correction.correction2:generate_possible_corrections:519 - Konnte Korrekturvorschlag 'PLURAL_*' nicht erstellen: list index out of range\n",
      "This is the pipeline with appositions going both ways\n"
     ]
    },
    {
     "name": "stderr",
     "output_type": "stream",
     "text": [
      " 50%|███████████████████████████████████████▏                                      | 1137/2265 [15:25<07:21,  2.56it/s]"
     ]
    },
    {
     "name": "stdout",
     "output_type": "stream",
     "text": [
      "This is the pipeline with appositions going both ways\n"
     ]
    },
    {
     "name": "stderr",
     "output_type": "stream",
     "text": [
      " 50%|███████████████████████████████████████▏                                      | 1138/2265 [15:25<06:30,  2.88it/s]"
     ]
    },
    {
     "name": "stdout",
     "output_type": "stream",
     "text": [
      "This is the pipeline with appositions going both ways\n"
     ]
    },
    {
     "name": "stderr",
     "output_type": "stream",
     "text": [
      " 50%|███████████████████████████████████████▏                                      | 1139/2265 [15:25<05:43,  3.28it/s]"
     ]
    },
    {
     "name": "stdout",
     "output_type": "stream",
     "text": [
      "This is the pipeline with appositions going both ways\n",
      "This is the pipeline with appositions going both ways\n"
     ]
    },
    {
     "name": "stderr",
     "output_type": "stream",
     "text": [
      " 50%|███████████████████████████████████████▎                                      | 1141/2265 [15:26<06:05,  3.07it/s]"
     ]
    },
    {
     "name": "stdout",
     "output_type": "stream",
     "text": [
      "This is the pipeline with appositions going both ways\n"
     ]
    },
    {
     "name": "stderr",
     "output_type": "stream",
     "text": [
      " 50%|███████████████████████████████████████▎                                      | 1142/2265 [15:27<11:23,  1.64it/s]"
     ]
    },
    {
     "name": "stdout",
     "output_type": "stream",
     "text": [
      "This is the pipeline with appositions going both ways\n"
     ]
    },
    {
     "name": "stderr",
     "output_type": "stream",
     "text": [
      " 50%|███████████████████████████████████████▎                                      | 1143/2265 [15:28<09:50,  1.90it/s]"
     ]
    },
    {
     "name": "stdout",
     "output_type": "stream",
     "text": [
      "This is the pipeline with appositions going both ways\n",
      "2025-06-05 15:58:39.387 | INFO     | pipeline.correction.correction2:generate_possible_corrections:501 - Konnte Korrekturvorschlag '*' nicht erstellen: list index out of range\n",
      "2025-06-05 15:58:39.402 | INFO     | pipeline.correction.correction2:generate_possible_corrections:519 - Konnte Korrekturvorschlag 'PLURAL_*' nicht erstellen: list index out of range\n",
      "2025-06-05 15:58:39.571 | INFO     | pipeline.correction.correction2:generate_possible_corrections:501 - Konnte Korrekturvorschlag '*' nicht erstellen: list index out of range\n",
      "2025-06-05 15:58:39.586 | INFO     | pipeline.correction.correction2:generate_possible_corrections:519 - Konnte Korrekturvorschlag 'PLURAL_*' nicht erstellen: list index out of range\n",
      "2025-06-05 15:58:39.785 | INFO     | pipeline.correction.correction2:generate_possible_corrections:501 - Konnte Korrekturvorschlag '*' nicht erstellen: list index out of range\n",
      "2025-06-05 15:58:39.801 | INFO     | pipeline.correction.correction2:generate_possible_corrections:519 - Konnte Korrekturvorschlag 'PLURAL_*' nicht erstellen: list index out of range\n",
      "2025-06-05 15:58:40.233 | INFO     | pipeline.correction.correction2:generate_possible_corrections:501 - Konnte Korrekturvorschlag '*' nicht erstellen: list index out of range\n",
      "2025-06-05 15:58:40.247 | INFO     | pipeline.correction.correction2:generate_possible_corrections:519 - Konnte Korrekturvorschlag 'PLURAL_*' nicht erstellen: list index out of range\n",
      "2025-06-05 15:58:40.444 | INFO     | pipeline.correction.correction2:generate_possible_corrections:501 - Konnte Korrekturvorschlag '*' nicht erstellen: list index out of range\n",
      "2025-06-05 15:58:40.456 | INFO     | pipeline.correction.correction2:generate_possible_corrections:519 - Konnte Korrekturvorschlag 'PLURAL_*' nicht erstellen: list index out of range\n"
     ]
    },
    {
     "name": "stderr",
     "output_type": "stream",
     "text": [
      " 51%|███████████████████████████████████████▍                                      | 1144/2265 [15:33<36:13,  1.94s/it]"
     ]
    },
    {
     "name": "stdout",
     "output_type": "stream",
     "text": [
      "This is the pipeline with appositions going both ways\n"
     ]
    },
    {
     "name": "stderr",
     "output_type": "stream",
     "text": [
      " 51%|███████████████████████████████████████▍                                      | 1145/2265 [15:35<32:20,  1.73s/it]"
     ]
    },
    {
     "name": "stdout",
     "output_type": "stream",
     "text": [
      "This is the pipeline with appositions going both ways\n"
     ]
    },
    {
     "name": "stderr",
     "output_type": "stream",
     "text": [
      " 51%|███████████████████████████████████████▍                                      | 1146/2265 [15:35<25:31,  1.37s/it]"
     ]
    },
    {
     "name": "stdout",
     "output_type": "stream",
     "text": [
      "This is the pipeline with appositions going both ways\n",
      "2025-06-05 15:58:43.371 | INFO     | pipeline.correction.correction2:generate_possible_corrections:501 - Konnte Korrekturvorschlag '*' nicht erstellen: list index out of range\n",
      "2025-06-05 15:58:43.384 | INFO     | pipeline.correction.correction2:generate_possible_corrections:519 - Konnte Korrekturvorschlag 'PLURAL_*' nicht erstellen: list index out of range\n"
     ]
    },
    {
     "name": "stderr",
     "output_type": "stream",
     "text": [
      " 51%|███████████████████████████████████████▍                                      | 1147/2265 [15:36<25:24,  1.36s/it]"
     ]
    },
    {
     "name": "stdout",
     "output_type": "stream",
     "text": [
      "This is the pipeline with appositions going both ways\n",
      "This is the pipeline with appositions going both ways\n"
     ]
    },
    {
     "name": "stderr",
     "output_type": "stream",
     "text": [
      " 51%|███████████████████████████████████████▌                                      | 1149/2265 [15:37<16:40,  1.12it/s]"
     ]
    },
    {
     "name": "stdout",
     "output_type": "stream",
     "text": [
      "This is the pipeline with appositions going both ways\n"
     ]
    },
    {
     "name": "stderr",
     "output_type": "stream",
     "text": [
      " 51%|███████████████████████████████████████▌                                      | 1150/2265 [15:38<17:02,  1.09it/s]"
     ]
    },
    {
     "name": "stdout",
     "output_type": "stream",
     "text": [
      "2025-06-05 15:58:45.279 | INFO     | pipeline.correction.correction2:generate_possible_corrections:352 - Konnte Korrekturvorschlag '*' nicht erstellen: list index out of range\n",
      "2025-06-05 15:58:45.295 | INFO     | pipeline.correction.correction2:generate_possible_corrections:459 - Konnte Korrekturvorschlag 'BOTH_FORMS' nicht erstellen: list index out of range\n",
      "This is the pipeline with appositions going both ways\n"
     ]
    },
    {
     "name": "stderr",
     "output_type": "stream",
     "text": [
      " 51%|███████████████████████████████████████▋                                      | 1151/2265 [15:39<17:16,  1.08it/s]"
     ]
    },
    {
     "name": "stdout",
     "output_type": "stream",
     "text": [
      "This is the pipeline with appositions going both ways\n"
     ]
    },
    {
     "name": "stderr",
     "output_type": "stream",
     "text": [
      " 51%|███████████████████████████████████████▋                                      | 1152/2265 [15:40<17:50,  1.04it/s]"
     ]
    },
    {
     "name": "stdout",
     "output_type": "stream",
     "text": [
      "This is the pipeline with appositions going both ways\n"
     ]
    },
    {
     "name": "stderr",
     "output_type": "stream",
     "text": [
      " 51%|███████████████████████████████████████▋                                      | 1153/2265 [15:41<18:59,  1.02s/it]"
     ]
    },
    {
     "name": "stdout",
     "output_type": "stream",
     "text": [
      "This is the pipeline with appositions going both ways\n"
     ]
    },
    {
     "name": "stderr",
     "output_type": "stream",
     "text": [
      " 51%|███████████████████████████████████████▋                                      | 1154/2265 [15:42<15:38,  1.18it/s]"
     ]
    },
    {
     "name": "stdout",
     "output_type": "stream",
     "text": [
      "This is the pipeline with appositions going both ways\n"
     ]
    },
    {
     "name": "stderr",
     "output_type": "stream",
     "text": [
      " 51%|███████████████████████████████████████▊                                      | 1155/2265 [15:42<13:38,  1.36it/s]"
     ]
    },
    {
     "name": "stdout",
     "output_type": "stream",
     "text": [
      "This is the pipeline with appositions going both ways\n"
     ]
    },
    {
     "name": "stderr",
     "output_type": "stream",
     "text": [
      " 51%|███████████████████████████████████████▊                                      | 1156/2265 [15:43<13:16,  1.39it/s]"
     ]
    },
    {
     "name": "stdout",
     "output_type": "stream",
     "text": [
      "2025-06-05 15:58:49.881 | INFO     | pipeline.correction.correction2:generate_possible_corrections:501 - Konnte Korrekturvorschlag '*' nicht erstellen: list index out of range\n",
      "2025-06-05 15:58:49.893 | INFO     | pipeline.correction.correction2:generate_possible_corrections:519 - Konnte Korrekturvorschlag 'PLURAL_*' nicht erstellen: list index out of range\n",
      "This is the pipeline with appositions going both ways\n"
     ]
    },
    {
     "name": "stderr",
     "output_type": "stream",
     "text": [
      " 51%|███████████████████████████████████████▊                                      | 1157/2265 [15:43<12:02,  1.53it/s]"
     ]
    },
    {
     "name": "stdout",
     "output_type": "stream",
     "text": [
      "This is the pipeline with appositions going both ways\n"
     ]
    },
    {
     "name": "stderr",
     "output_type": "stream",
     "text": [
      " 51%|███████████████████████████████████████▉                                      | 1159/2265 [15:44<08:34,  2.15it/s]"
     ]
    },
    {
     "name": "stdout",
     "output_type": "stream",
     "text": [
      "This is the pipeline with appositions going both ways\n",
      "This is the pipeline with appositions going both ways\n",
      "2025-06-05 15:58:52.242 | INFO     | pipeline.correction.correction2:generate_possible_corrections:459 - Konnte Korrekturvorschlag 'BOTH_FORMS' nicht erstellen: Es darf nur ein Element mit dieser Beziehung geben. (Wirtschaftsminister mit cd, war aber [und, sowie])\n",
      "2025-06-05 15:58:52.391 | INFO     | pipeline.correction.correction2:generate_possible_corrections:501 - Konnte Korrekturvorschlag '*' nicht erstellen: list index out of range\n",
      "2025-06-05 15:58:52.405 | INFO     | pipeline.correction.correction2:generate_possible_corrections:519 - Konnte Korrekturvorschlag 'PLURAL_*' nicht erstellen: list index out of range\n"
     ]
    },
    {
     "name": "stderr",
     "output_type": "stream",
     "text": [
      " 51%|███████████████████████████████████████▉                                      | 1160/2265 [15:45<12:56,  1.42it/s]"
     ]
    },
    {
     "name": "stdout",
     "output_type": "stream",
     "text": [
      "This is the pipeline with appositions going both ways\n"
     ]
    },
    {
     "name": "stderr",
     "output_type": "stream",
     "text": [
      " 51%|███████████████████████████████████████▉                                      | 1161/2265 [15:46<11:45,  1.57it/s]"
     ]
    },
    {
     "name": "stdout",
     "output_type": "stream",
     "text": [
      "This is the pipeline with appositions going both ways\n"
     ]
    },
    {
     "name": "stderr",
     "output_type": "stream",
     "text": [
      " 51%|████████████████████████████████████████                                      | 1162/2265 [15:46<10:29,  1.75it/s]"
     ]
    },
    {
     "name": "stdout",
     "output_type": "stream",
     "text": [
      "This is the pipeline with appositions going both ways\n",
      "2025-06-05 15:58:54.040 | INFO     | pipeline.correction.correction2:generate_possible_corrections:501 - Konnte Korrekturvorschlag '*' nicht erstellen: list index out of range\n",
      "2025-06-05 15:58:54.052 | INFO     | pipeline.correction.correction2:generate_possible_corrections:519 - Konnte Korrekturvorschlag 'PLURAL_*' nicht erstellen: list index out of range\n"
     ]
    },
    {
     "name": "stderr",
     "output_type": "stream",
     "text": [
      " 51%|████████████████████████████████████████                                      | 1163/2265 [15:47<12:55,  1.42it/s]"
     ]
    },
    {
     "name": "stdout",
     "output_type": "stream",
     "text": [
      "This is the pipeline with appositions going both ways\n"
     ]
    },
    {
     "name": "stderr",
     "output_type": "stream",
     "text": [
      " 51%|████████████████████████████████████████                                      | 1164/2265 [15:48<11:59,  1.53it/s]"
     ]
    },
    {
     "name": "stdout",
     "output_type": "stream",
     "text": [
      "This is the pipeline with appositions going both ways\n"
     ]
    },
    {
     "name": "stderr",
     "output_type": "stream",
     "text": [
      " 51%|████████████████████████████████████████                                      | 1165/2265 [15:48<11:24,  1.61it/s]"
     ]
    },
    {
     "name": "stdout",
     "output_type": "stream",
     "text": [
      "2025-06-05 15:58:55.283 | INFO     | pipeline.correction.correction2:generate_possible_corrections:501 - Konnte Korrekturvorschlag '*' nicht erstellen: list index out of range\n",
      "2025-06-05 15:58:55.295 | INFO     | pipeline.correction.correction2:generate_possible_corrections:519 - Konnte Korrekturvorschlag 'PLURAL_*' nicht erstellen: list index out of range\n",
      "2025-06-05 15:58:55.403 | INFO     | pipeline.correction.correction2:generate_possible_corrections:501 - Konnte Korrekturvorschlag '*' nicht erstellen: list index out of range\n",
      "2025-06-05 15:58:55.416 | INFO     | pipeline.correction.correction2:generate_possible_corrections:519 - Konnte Korrekturvorschlag 'PLURAL_*' nicht erstellen: list index out of range\n",
      "This is the pipeline with appositions going both ways\n"
     ]
    },
    {
     "name": "stderr",
     "output_type": "stream",
     "text": [
      " 51%|████████████████████████████████████████▏                                     | 1166/2265 [15:50<15:18,  1.20it/s]"
     ]
    },
    {
     "name": "stdout",
     "output_type": "stream",
     "text": [
      "2025-06-05 15:58:56.648 | INFO     | pipeline.correction.correction2:generate_possible_corrections:501 - Konnte Korrekturvorschlag '*' nicht erstellen: object of type 'NoneType' has no len()\n",
      "2025-06-05 15:58:56.649 | INFO     | pipeline.correction.correction2:generate_possible_corrections:519 - Konnte Korrekturvorschlag 'PLURAL_*' nicht erstellen: object of type 'NoneType' has no len()\n",
      "This is the pipeline with appositions going both ways\n"
     ]
    },
    {
     "name": "stderr",
     "output_type": "stream",
     "text": [
      " 52%|████████████████████████████████████████▏                                     | 1167/2265 [15:52<24:42,  1.35s/it]"
     ]
    },
    {
     "name": "stdout",
     "output_type": "stream",
     "text": [
      "This is the pipeline with appositions going both ways\n"
     ]
    },
    {
     "name": "stderr",
     "output_type": "stream",
     "text": [
      " 52%|████████████████████████████████████████▏                                     | 1168/2265 [15:53<20:03,  1.10s/it]"
     ]
    },
    {
     "name": "stdout",
     "output_type": "stream",
     "text": [
      "2025-06-05 15:58:59.674 | INFO     | pipeline.correction.correction2:generate_possible_corrections:352 - Konnte Korrekturvorschlag '*' nicht erstellen: list index out of range\n",
      "2025-06-05 15:58:59.686 | INFO     | pipeline.correction.correction2:generate_possible_corrections:459 - Konnte Korrekturvorschlag 'BOTH_FORMS' nicht erstellen: list index out of range\n",
      "This is the pipeline with appositions going both ways\n"
     ]
    },
    {
     "name": "stderr",
     "output_type": "stream",
     "text": [
      " 52%|████████████████████████████████████████▎                                     | 1169/2265 [15:53<16:30,  1.11it/s]"
     ]
    },
    {
     "name": "stdout",
     "output_type": "stream",
     "text": [
      "This is the pipeline with appositions going both ways\n"
     ]
    },
    {
     "name": "stderr",
     "output_type": "stream",
     "text": [
      " 52%|████████████████████████████████████████▎                                     | 1170/2265 [15:54<14:08,  1.29it/s]"
     ]
    },
    {
     "name": "stdout",
     "output_type": "stream",
     "text": [
      "This is the pipeline with appositions going both ways\n"
     ]
    },
    {
     "name": "stderr",
     "output_type": "stream",
     "text": [
      " 52%|████████████████████████████████████████▎                                     | 1171/2265 [15:54<12:22,  1.47it/s]"
     ]
    },
    {
     "name": "stdout",
     "output_type": "stream",
     "text": [
      "This is the pipeline with appositions going both ways\n"
     ]
    },
    {
     "name": "stderr",
     "output_type": "stream",
     "text": [
      " 52%|████████████████████████████████████████▎                                     | 1172/2265 [15:55<12:44,  1.43it/s]"
     ]
    },
    {
     "name": "stdout",
     "output_type": "stream",
     "text": [
      "This is the pipeline with appositions going both ways\n"
     ]
    },
    {
     "name": "stderr",
     "output_type": "stream",
     "text": [
      " 52%|████████████████████████████████████████▍                                     | 1173/2265 [15:55<10:02,  1.81it/s]"
     ]
    },
    {
     "name": "stdout",
     "output_type": "stream",
     "text": [
      "This is the pipeline with appositions going both ways\n"
     ]
    },
    {
     "name": "stderr",
     "output_type": "stream",
     "text": [
      " 52%|████████████████████████████████████████▍                                     | 1175/2265 [15:56<07:28,  2.43it/s]"
     ]
    },
    {
     "name": "stdout",
     "output_type": "stream",
     "text": [
      "This is the pipeline with appositions going both ways\n",
      "This is the pipeline with appositions going both ways\n",
      "This is the pipeline with appositions going both ways\n"
     ]
    },
    {
     "name": "stderr",
     "output_type": "stream",
     "text": [
      " 52%|████████████████████████████████████████▌                                     | 1177/2265 [15:56<06:08,  2.95it/s]"
     ]
    },
    {
     "name": "stdout",
     "output_type": "stream",
     "text": [
      "This is the pipeline with appositions going both ways\n"
     ]
    },
    {
     "name": "stderr",
     "output_type": "stream",
     "text": [
      " 52%|████████████████████████████████████████▌                                     | 1178/2265 [15:57<08:32,  2.12it/s]"
     ]
    },
    {
     "name": "stdout",
     "output_type": "stream",
     "text": [
      "This is the pipeline with appositions going both ways\n"
     ]
    },
    {
     "name": "stderr",
     "output_type": "stream",
     "text": [
      " 52%|████████████████████████████████████████▌                                     | 1179/2265 [15:58<09:52,  1.83it/s]"
     ]
    },
    {
     "name": "stdout",
     "output_type": "stream",
     "text": [
      "2025-06-05 15:59:04.867 | INFO     | pipeline.correction.correction2:generate_possible_corrections:501 - Konnte Korrekturvorschlag '*' nicht erstellen: list index out of range\n",
      "2025-06-05 15:59:04.881 | INFO     | pipeline.correction.correction2:generate_possible_corrections:519 - Konnte Korrekturvorschlag 'PLURAL_*' nicht erstellen: list index out of range\n",
      "This is the pipeline with appositions going both ways\n"
     ]
    },
    {
     "name": "stderr",
     "output_type": "stream",
     "text": [
      " 52%|████████████████████████████████████████▋                                     | 1180/2265 [15:58<09:36,  1.88it/s]"
     ]
    },
    {
     "name": "stdout",
     "output_type": "stream",
     "text": [
      "This is the pipeline with appositions going both ways\n"
     ]
    },
    {
     "name": "stderr",
     "output_type": "stream",
     "text": [
      " 52%|████████████████████████████████████████▋                                     | 1181/2265 [15:59<09:46,  1.85it/s]"
     ]
    },
    {
     "name": "stdout",
     "output_type": "stream",
     "text": [
      "This is the pipeline with appositions going both ways\n"
     ]
    },
    {
     "name": "stderr",
     "output_type": "stream",
     "text": [
      " 52%|████████████████████████████████████████▋                                     | 1182/2265 [15:59<10:15,  1.76it/s]"
     ]
    },
    {
     "name": "stdout",
     "output_type": "stream",
     "text": [
      "This is the pipeline with appositions going both ways\n"
     ]
    },
    {
     "name": "stderr",
     "output_type": "stream",
     "text": [
      " 52%|████████████████████████████████████████▋                                     | 1183/2265 [16:01<18:02,  1.00s/it]"
     ]
    },
    {
     "name": "stdout",
     "output_type": "stream",
     "text": [
      "2025-06-05 15:59:08.533 | INFO     | pipeline.correction.correction2:generate_possible_corrections:352 - Konnte Korrekturvorschlag '*' nicht erstellen: list index out of range\n",
      "2025-06-05 15:59:08.548 | INFO     | pipeline.correction.correction2:generate_possible_corrections:459 - Konnte Korrekturvorschlag 'BOTH_FORMS' nicht erstellen: list index out of range\n",
      "This is the pipeline with appositions going both ways\n",
      "2025-06-05 15:59:09.200 | ERROR    | pipeline.full_pipeline:full_pipeline:38 - Fehler bei needs_to_be_gendered() für 'Gewinner': Es darf nur ein Element mit dieser Beziehung geben. (sind mit sb, war aber [WTO, Ostblockstaaten])\n"
     ]
    },
    {
     "name": "stderr",
     "output_type": "stream",
     "text": [
      " 52%|████████████████████████████████████████▊                                     | 1184/2265 [16:02<17:27,  1.03it/s]"
     ]
    },
    {
     "name": "stdout",
     "output_type": "stream",
     "text": [
      "This is the pipeline with appositions going both ways\n"
     ]
    },
    {
     "name": "stderr",
     "output_type": "stream",
     "text": [
      " 52%|████████████████████████████████████████▊                                     | 1185/2265 [16:03<16:17,  1.10it/s]"
     ]
    },
    {
     "name": "stdout",
     "output_type": "stream",
     "text": [
      "This is the pipeline with appositions going both ways\n"
     ]
    },
    {
     "name": "stderr",
     "output_type": "stream",
     "text": [
      " 52%|████████████████████████████████████████▊                                     | 1186/2265 [16:03<13:40,  1.31it/s]"
     ]
    },
    {
     "name": "stdout",
     "output_type": "stream",
     "text": [
      "This is the pipeline with appositions going both ways\n"
     ]
    },
    {
     "name": "stderr",
     "output_type": "stream",
     "text": [
      " 52%|████████████████████████████████████████▉                                     | 1187/2265 [16:04<13:24,  1.34it/s]"
     ]
    },
    {
     "name": "stdout",
     "output_type": "stream",
     "text": [
      "This is the pipeline with appositions going both ways\n"
     ]
    },
    {
     "name": "stderr",
     "output_type": "stream",
     "text": [
      " 52%|████████████████████████████████████████▉                                     | 1188/2265 [16:05<11:45,  1.53it/s]"
     ]
    },
    {
     "name": "stdout",
     "output_type": "stream",
     "text": [
      "This is the pipeline with appositions going both ways\n"
     ]
    },
    {
     "name": "stderr",
     "output_type": "stream",
     "text": [
      " 52%|████████████████████████████████████████▉                                     | 1189/2265 [16:05<10:33,  1.70it/s]"
     ]
    },
    {
     "name": "stdout",
     "output_type": "stream",
     "text": [
      "This is the pipeline with appositions going both ways\n"
     ]
    },
    {
     "name": "stderr",
     "output_type": "stream",
     "text": [
      " 53%|████████████████████████████████████████▉                                     | 1190/2265 [16:06<10:15,  1.75it/s]"
     ]
    },
    {
     "name": "stdout",
     "output_type": "stream",
     "text": [
      "This is the pipeline with appositions going both ways\n"
     ]
    },
    {
     "name": "stderr",
     "output_type": "stream",
     "text": [
      " 53%|█████████████████████████████████████████                                     | 1191/2265 [16:06<09:47,  1.83it/s]"
     ]
    },
    {
     "name": "stdout",
     "output_type": "stream",
     "text": [
      "This is the pipeline with appositions going both ways\n"
     ]
    },
    {
     "name": "stderr",
     "output_type": "stream",
     "text": [
      " 53%|█████████████████████████████████████████                                     | 1193/2265 [16:07<09:06,  1.96it/s]"
     ]
    },
    {
     "name": "stdout",
     "output_type": "stream",
     "text": [
      "This is the pipeline with appositions going both ways\n",
      "This is the pipeline with appositions going both ways\n"
     ]
    },
    {
     "name": "stderr",
     "output_type": "stream",
     "text": [
      " 53%|█████████████████████████████████████████                                     | 1194/2265 [16:07<07:31,  2.37it/s]"
     ]
    },
    {
     "name": "stdout",
     "output_type": "stream",
     "text": [
      "This is the pipeline with appositions going both ways\n"
     ]
    },
    {
     "name": "stderr",
     "output_type": "stream",
     "text": [
      " 53%|█████████████████████████████████████████▏                                    | 1195/2265 [16:08<06:45,  2.64it/s]"
     ]
    },
    {
     "name": "stdout",
     "output_type": "stream",
     "text": [
      "This is the pipeline with appositions going both ways\n"
     ]
    },
    {
     "name": "stderr",
     "output_type": "stream",
     "text": [
      " 53%|█████████████████████████████████████████▏                                    | 1196/2265 [16:08<06:54,  2.58it/s]"
     ]
    },
    {
     "name": "stdout",
     "output_type": "stream",
     "text": [
      "This is the pipeline with appositions going both ways\n",
      "2025-06-05 15:59:17.609 | INFO     | pipeline.correction.correction2:generate_possible_corrections:352 - Konnte Korrekturvorschlag '*' nicht erstellen: list index out of range\n",
      "2025-06-05 15:59:17.621 | INFO     | pipeline.correction.correction2:generate_possible_corrections:459 - Konnte Korrekturvorschlag 'BOTH_FORMS' nicht erstellen: list index out of range\n"
     ]
    },
    {
     "name": "stderr",
     "output_type": "stream",
     "text": [
      " 53%|█████████████████████████████████████████▏                                    | 1197/2265 [16:11<19:22,  1.09s/it]"
     ]
    },
    {
     "name": "stdout",
     "output_type": "stream",
     "text": [
      "This is the pipeline with appositions going both ways\n"
     ]
    },
    {
     "name": "stderr",
     "output_type": "stream",
     "text": [
      " 53%|█████████████████████████████████████████▎                                    | 1198/2265 [16:12<18:44,  1.05s/it]"
     ]
    },
    {
     "name": "stdout",
     "output_type": "stream",
     "text": [
      "This is the pipeline with appositions going both ways\n"
     ]
    },
    {
     "name": "stderr",
     "output_type": "stream",
     "text": [
      " 53%|█████████████████████████████████████████▎                                    | 1199/2265 [16:12<16:41,  1.06it/s]"
     ]
    },
    {
     "name": "stdout",
     "output_type": "stream",
     "text": [
      "This is the pipeline with appositions going both ways\n"
     ]
    },
    {
     "name": "stderr",
     "output_type": "stream",
     "text": [
      " 53%|█████████████████████████████████████████▎                                    | 1201/2265 [16:13<11:32,  1.54it/s]"
     ]
    },
    {
     "name": "stdout",
     "output_type": "stream",
     "text": [
      "This is the pipeline with appositions going both ways\n",
      "This is the pipeline with appositions going both ways\n"
     ]
    },
    {
     "name": "stderr",
     "output_type": "stream",
     "text": [
      " 53%|█████████████████████████████████████████▍                                    | 1202/2265 [16:13<09:11,  1.93it/s]"
     ]
    },
    {
     "name": "stdout",
     "output_type": "stream",
     "text": [
      "This is the pipeline with appositions going both ways\n"
     ]
    },
    {
     "name": "stderr",
     "output_type": "stream",
     "text": [
      " 53%|█████████████████████████████████████████▍                                    | 1204/2265 [16:14<06:24,  2.76it/s]"
     ]
    },
    {
     "name": "stdout",
     "output_type": "stream",
     "text": [
      "This is the pipeline with appositions going both ways\n",
      "This is the pipeline with appositions going both ways\n"
     ]
    },
    {
     "name": "stderr",
     "output_type": "stream",
     "text": [
      " 53%|█████████████████████████████████████████▍                                    | 1205/2265 [16:15<08:14,  2.14it/s]"
     ]
    },
    {
     "name": "stdout",
     "output_type": "stream",
     "text": [
      "2025-06-05 15:59:21.709 | INFO     | pipeline.correction.correction2:generate_possible_corrections:352 - Konnte Korrekturvorschlag '*' nicht erstellen: list index out of range\n",
      "2025-06-05 15:59:21.725 | INFO     | pipeline.correction.correction2:generate_possible_corrections:459 - Konnte Korrekturvorschlag 'BOTH_FORMS' nicht erstellen: list index out of range\n",
      "This is the pipeline with appositions going both ways\n"
     ]
    },
    {
     "name": "stderr",
     "output_type": "stream",
     "text": [
      " 53%|█████████████████████████████████████████▌                                    | 1206/2265 [16:15<07:14,  2.44it/s]"
     ]
    },
    {
     "name": "stdout",
     "output_type": "stream",
     "text": [
      "This is the pipeline with appositions going both ways\n"
     ]
    },
    {
     "name": "stderr",
     "output_type": "stream",
     "text": [
      " 53%|█████████████████████████████████████████▌                                    | 1207/2265 [16:15<06:10,  2.85it/s]"
     ]
    },
    {
     "name": "stdout",
     "output_type": "stream",
     "text": [
      "This is the pipeline with appositions going both ways\n"
     ]
    },
    {
     "name": "stderr",
     "output_type": "stream",
     "text": [
      " 53%|█████████████████████████████████████████▌                                    | 1208/2265 [16:16<06:52,  2.56it/s]"
     ]
    },
    {
     "name": "stdout",
     "output_type": "stream",
     "text": [
      "This is the pipeline with appositions going both ways\n"
     ]
    },
    {
     "name": "stderr",
     "output_type": "stream",
     "text": [
      " 53%|█████████████████████████████████████████▋                                    | 1209/2265 [16:16<07:25,  2.37it/s]"
     ]
    },
    {
     "name": "stdout",
     "output_type": "stream",
     "text": [
      "This is the pipeline with appositions going both ways\n"
     ]
    },
    {
     "name": "stderr",
     "output_type": "stream",
     "text": [
      " 53%|█████████████████████████████████████████▋                                    | 1210/2265 [16:17<08:56,  1.97it/s]"
     ]
    },
    {
     "name": "stdout",
     "output_type": "stream",
     "text": [
      "2025-06-05 15:59:23.899 | INFO     | pipeline.correction.correction2:generate_possible_corrections:501 - Konnte Korrekturvorschlag '*' nicht erstellen: list index out of range\n",
      "2025-06-05 15:59:23.900 | INFO     | pipeline.correction.correction2:generate_possible_corrections:519 - Konnte Korrekturvorschlag 'PLURAL_*' nicht erstellen: list index out of range\n",
      "This is the pipeline with appositions going both ways\n"
     ]
    },
    {
     "name": "stderr",
     "output_type": "stream",
     "text": [
      " 53%|█████████████████████████████████████████▋                                    | 1211/2265 [16:17<08:09,  2.15it/s]"
     ]
    },
    {
     "name": "stdout",
     "output_type": "stream",
     "text": [
      "This is the pipeline with appositions going both ways\n"
     ]
    },
    {
     "name": "stderr",
     "output_type": "stream",
     "text": [
      " 54%|█████████████████████████████████████████▊                                    | 1213/2265 [16:18<07:01,  2.50it/s]"
     ]
    },
    {
     "name": "stdout",
     "output_type": "stream",
     "text": [
      "This is the pipeline with appositions going both ways\n",
      "This is the pipeline with appositions going both ways\n"
     ]
    },
    {
     "name": "stderr",
     "output_type": "stream",
     "text": [
      " 54%|█████████████████████████████████████████▊                                    | 1214/2265 [16:18<06:22,  2.75it/s]"
     ]
    },
    {
     "name": "stdout",
     "output_type": "stream",
     "text": [
      "This is the pipeline with appositions going both ways\n"
     ]
    },
    {
     "name": "stderr",
     "output_type": "stream",
     "text": [
      " 54%|█████████████████████████████████████████▊                                    | 1215/2265 [16:18<05:39,  3.09it/s]"
     ]
    },
    {
     "name": "stdout",
     "output_type": "stream",
     "text": [
      "This is the pipeline with appositions going both ways\n"
     ]
    },
    {
     "name": "stderr",
     "output_type": "stream",
     "text": [
      " 54%|█████████████████████████████████████████▉                                    | 1217/2265 [16:19<05:05,  3.43it/s]"
     ]
    },
    {
     "name": "stdout",
     "output_type": "stream",
     "text": [
      "This is the pipeline with appositions going both ways\n",
      "This is the pipeline with appositions going both ways\n"
     ]
    },
    {
     "name": "stderr",
     "output_type": "stream",
     "text": [
      " 54%|█████████████████████████████████████████▉                                    | 1218/2265 [16:19<04:51,  3.59it/s]"
     ]
    },
    {
     "name": "stdout",
     "output_type": "stream",
     "text": [
      "This is the pipeline with appositions going both ways\n"
     ]
    },
    {
     "name": "stderr",
     "output_type": "stream",
     "text": [
      " 54%|█████████████████████████████████████████▉                                    | 1219/2265 [16:20<04:50,  3.60it/s]"
     ]
    },
    {
     "name": "stdout",
     "output_type": "stream",
     "text": [
      "This is the pipeline with appositions going both ways\n"
     ]
    },
    {
     "name": "stderr",
     "output_type": "stream",
     "text": [
      " 54%|██████████████████████████████████████████                                    | 1220/2265 [16:20<04:30,  3.87it/s]"
     ]
    },
    {
     "name": "stdout",
     "output_type": "stream",
     "text": [
      "This is the pipeline with appositions going both ways\n"
     ]
    },
    {
     "name": "stderr",
     "output_type": "stream",
     "text": [
      " 54%|██████████████████████████████████████████                                    | 1222/2265 [16:20<04:10,  4.17it/s]"
     ]
    },
    {
     "name": "stdout",
     "output_type": "stream",
     "text": [
      "This is the pipeline with appositions going both ways\n",
      "This is the pipeline with appositions going both ways\n"
     ]
    },
    {
     "name": "stderr",
     "output_type": "stream",
     "text": [
      " 54%|██████████████████████████████████████████                                    | 1223/2265 [16:21<04:54,  3.53it/s]"
     ]
    },
    {
     "name": "stdout",
     "output_type": "stream",
     "text": [
      "This is the pipeline with appositions going both ways\n"
     ]
    },
    {
     "name": "stderr",
     "output_type": "stream",
     "text": [
      " 54%|██████████████████████████████████████████▏                                   | 1224/2265 [16:21<04:53,  3.55it/s]"
     ]
    },
    {
     "name": "stdout",
     "output_type": "stream",
     "text": [
      "This is the pipeline with appositions going both ways\n"
     ]
    },
    {
     "name": "stderr",
     "output_type": "stream",
     "text": [
      " 54%|██████████████████████████████████████████▏                                   | 1225/2265 [16:21<05:20,  3.24it/s]"
     ]
    },
    {
     "name": "stdout",
     "output_type": "stream",
     "text": [
      "This is the pipeline with appositions going both ways\n"
     ]
    },
    {
     "name": "stderr",
     "output_type": "stream",
     "text": [
      " 54%|██████████████████████████████████████████▏                                   | 1226/2265 [16:22<06:16,  2.76it/s]"
     ]
    },
    {
     "name": "stdout",
     "output_type": "stream",
     "text": [
      "This is the pipeline with appositions going both ways\n"
     ]
    },
    {
     "name": "stderr",
     "output_type": "stream",
     "text": [
      " 54%|██████████████████████████████████████████▎                                   | 1227/2265 [16:22<06:50,  2.53it/s]"
     ]
    },
    {
     "name": "stdout",
     "output_type": "stream",
     "text": [
      "This is the pipeline with appositions going both ways\n"
     ]
    },
    {
     "name": "stderr",
     "output_type": "stream",
     "text": [
      " 54%|██████████████████████████████████████████▎                                   | 1228/2265 [16:22<06:05,  2.84it/s]"
     ]
    },
    {
     "name": "stdout",
     "output_type": "stream",
     "text": [
      "This is the pipeline with appositions going both ways\n"
     ]
    },
    {
     "name": "stderr",
     "output_type": "stream",
     "text": [
      " 54%|██████████████████████████████████████████▎                                   | 1229/2265 [16:23<05:33,  3.10it/s]"
     ]
    },
    {
     "name": "stdout",
     "output_type": "stream",
     "text": [
      "This is the pipeline with appositions going both ways\n"
     ]
    },
    {
     "name": "stderr",
     "output_type": "stream",
     "text": [
      " 54%|██████████████████████████████████████████▎                                   | 1230/2265 [16:23<07:07,  2.42it/s]"
     ]
    },
    {
     "name": "stdout",
     "output_type": "stream",
     "text": [
      "This is the pipeline with appositions going both ways\n"
     ]
    },
    {
     "name": "stderr",
     "output_type": "stream",
     "text": [
      " 54%|██████████████████████████████████████████▍                                   | 1231/2265 [16:24<07:31,  2.29it/s]"
     ]
    },
    {
     "name": "stdout",
     "output_type": "stream",
     "text": [
      "This is the pipeline with appositions going both ways\n"
     ]
    },
    {
     "name": "stderr",
     "output_type": "stream",
     "text": [
      " 54%|██████████████████████████████████████████▍                                   | 1232/2265 [16:24<06:30,  2.64it/s]"
     ]
    },
    {
     "name": "stdout",
     "output_type": "stream",
     "text": [
      "This is the pipeline with appositions going both ways\n"
     ]
    },
    {
     "name": "stderr",
     "output_type": "stream",
     "text": [
      " 54%|██████████████████████████████████████████▍                                   | 1234/2265 [16:25<05:39,  3.03it/s]"
     ]
    },
    {
     "name": "stdout",
     "output_type": "stream",
     "text": [
      "This is the pipeline with appositions going both ways\n",
      "This is the pipeline with appositions going both ways\n"
     ]
    },
    {
     "name": "stderr",
     "output_type": "stream",
     "text": [
      " 55%|██████████████████████████████████████████▌                                   | 1235/2265 [16:25<05:06,  3.36it/s]"
     ]
    },
    {
     "name": "stdout",
     "output_type": "stream",
     "text": [
      "This is the pipeline with appositions going both ways\n"
     ]
    },
    {
     "name": "stderr",
     "output_type": "stream",
     "text": [
      " 55%|██████████████████████████████████████████▌                                   | 1236/2265 [16:25<06:48,  2.52it/s]"
     ]
    },
    {
     "name": "stdout",
     "output_type": "stream",
     "text": [
      "This is the pipeline with appositions going both ways\n"
     ]
    },
    {
     "name": "stderr",
     "output_type": "stream",
     "text": [
      " 55%|██████████████████████████████████████████▌                                   | 1237/2265 [16:26<07:53,  2.17it/s]"
     ]
    },
    {
     "name": "stdout",
     "output_type": "stream",
     "text": [
      "This is the pipeline with appositions going both ways\n"
     ]
    },
    {
     "name": "stderr",
     "output_type": "stream",
     "text": [
      " 55%|██████████████████████████████████████████▋                                   | 1238/2265 [16:27<08:14,  2.08it/s]"
     ]
    },
    {
     "name": "stdout",
     "output_type": "stream",
     "text": [
      "This is the pipeline with appositions going both ways\n"
     ]
    },
    {
     "name": "stderr",
     "output_type": "stream",
     "text": [
      " 55%|██████████████████████████████████████████▋                                   | 1239/2265 [16:27<07:29,  2.28it/s]"
     ]
    },
    {
     "name": "stdout",
     "output_type": "stream",
     "text": [
      "This is the pipeline with appositions going both ways\n"
     ]
    },
    {
     "name": "stderr",
     "output_type": "stream",
     "text": [
      " 55%|██████████████████████████████████████████▋                                   | 1240/2265 [16:27<07:40,  2.22it/s]"
     ]
    },
    {
     "name": "stdout",
     "output_type": "stream",
     "text": [
      "This is the pipeline with appositions going both ways\n",
      "2025-06-05 15:59:39.410 | INFO     | pipeline.correction.correction2:generate_possible_corrections:501 - Konnte Korrekturvorschlag '*' nicht erstellen: list index out of range\n",
      "2025-06-05 15:59:39.424 | INFO     | pipeline.correction.correction2:generate_possible_corrections:519 - Konnte Korrekturvorschlag 'PLURAL_*' nicht erstellen: list index out of range\n"
     ]
    },
    {
     "name": "stderr",
     "output_type": "stream",
     "text": [
      " 55%|██████████████████████████████████████████▋                                   | 1241/2265 [16:33<35:11,  2.06s/it]"
     ]
    },
    {
     "name": "stdout",
     "output_type": "stream",
     "text": [
      "This is the pipeline with appositions going both ways\n",
      "2025-06-05 15:59:42.423 | INFO     | pipeline.correction.correction2:generate_possible_corrections:501 - Konnte Korrekturvorschlag '*' nicht erstellen: list index out of range\n",
      "2025-06-05 15:59:42.435 | INFO     | pipeline.correction.correction2:generate_possible_corrections:519 - Konnte Korrekturvorschlag 'PLURAL_*' nicht erstellen: list index out of range\n",
      "2025-06-05 15:59:42.775 | INFO     | pipeline.correction.correction2:generate_possible_corrections:352 - Konnte Korrekturvorschlag '*' nicht erstellen: list index out of range\n",
      "2025-06-05 15:59:42.788 | INFO     | pipeline.correction.correction2:generate_possible_corrections:459 - Konnte Korrekturvorschlag 'BOTH_FORMS' nicht erstellen: list index out of range\n"
     ]
    },
    {
     "name": "stderr",
     "output_type": "stream",
     "text": [
      " 55%|██████████████████████████████████████████▊                                   | 1242/2265 [16:36<38:12,  2.24s/it]"
     ]
    },
    {
     "name": "stdout",
     "output_type": "stream",
     "text": [
      "This is the pipeline with appositions going both ways\n"
     ]
    },
    {
     "name": "stderr",
     "output_type": "stream",
     "text": [
      " 55%|██████████████████████████████████████████▊                                   | 1243/2265 [16:38<36:26,  2.14s/it]"
     ]
    },
    {
     "name": "stdout",
     "output_type": "stream",
     "text": [
      "This is the pipeline with appositions going both ways\n",
      "2025-06-05 15:59:47.205 | INFO     | pipeline.correction.correction2:generate_possible_corrections:352 - Konnte Korrekturvorschlag '*' nicht erstellen: list index out of range\n",
      "2025-06-05 15:59:47.212 | INFO     | pipeline.correction.correction2:generate_possible_corrections:459 - Konnte Korrekturvorschlag 'BOTH_FORMS' nicht erstellen: list index out of range\n"
     ]
    },
    {
     "name": "stderr",
     "output_type": "stream",
     "text": [
      " 55%|██████████████████████████████████████████▊                                   | 1244/2265 [16:40<37:22,  2.20s/it]"
     ]
    },
    {
     "name": "stdout",
     "output_type": "stream",
     "text": [
      "This is the pipeline with appositions going both ways\n"
     ]
    },
    {
     "name": "stderr",
     "output_type": "stream",
     "text": [
      " 55%|██████████████████████████████████████████▊                                   | 1245/2265 [16:41<29:43,  1.75s/it]"
     ]
    },
    {
     "name": "stdout",
     "output_type": "stream",
     "text": [
      "2025-06-05 15:59:48.004 | INFO     | pipeline.correction.correction2:generate_possible_corrections:501 - Konnte Korrekturvorschlag '*' nicht erstellen: list index out of range\n",
      "2025-06-05 15:59:48.017 | INFO     | pipeline.correction.correction2:generate_possible_corrections:519 - Konnte Korrekturvorschlag 'PLURAL_*' nicht erstellen: list index out of range\n",
      "This is the pipeline with appositions going both ways\n"
     ]
    },
    {
     "name": "stderr",
     "output_type": "stream",
     "text": [
      " 55%|██████████████████████████████████████████▉                                   | 1246/2265 [16:42<28:46,  1.69s/it]"
     ]
    },
    {
     "name": "stdout",
     "output_type": "stream",
     "text": [
      "This is the pipeline with appositions going both ways\n"
     ]
    },
    {
     "name": "stderr",
     "output_type": "stream",
     "text": [
      " 55%|██████████████████████████████████████████▉                                   | 1247/2265 [16:44<29:14,  1.72s/it]"
     ]
    },
    {
     "name": "stdout",
     "output_type": "stream",
     "text": [
      "This is the pipeline with appositions going both ways\n"
     ]
    },
    {
     "name": "stderr",
     "output_type": "stream",
     "text": [
      " 55%|██████████████████████████████████████████▉                                   | 1248/2265 [16:46<28:48,  1.70s/it]"
     ]
    },
    {
     "name": "stdout",
     "output_type": "stream",
     "text": [
      "2025-06-05 15:59:53.006 | INFO     | pipeline.correction.correction2:generate_possible_corrections:352 - Konnte Korrekturvorschlag '*' nicht erstellen: list index out of range\n",
      "2025-06-05 15:59:53.013 | INFO     | pipeline.correction.correction2:generate_possible_corrections:459 - Konnte Korrekturvorschlag 'BOTH_FORMS' nicht erstellen: list index out of range\n",
      "This is the pipeline with appositions going both ways\n"
     ]
    },
    {
     "name": "stderr",
     "output_type": "stream",
     "text": [
      " 55%|███████████████████████████████████████████                                   | 1249/2265 [16:47<25:00,  1.48s/it]"
     ]
    },
    {
     "name": "stdout",
     "output_type": "stream",
     "text": [
      "This is the pipeline with appositions going both ways\n"
     ]
    },
    {
     "name": "stderr",
     "output_type": "stream",
     "text": [
      " 55%|███████████████████████████████████████████                                   | 1250/2265 [16:48<21:31,  1.27s/it]"
     ]
    },
    {
     "name": "stdout",
     "output_type": "stream",
     "text": [
      "This is the pipeline with appositions going both ways\n",
      "2025-06-05 15:59:57.100 | INFO     | pipeline.correction.correction2:generate_possible_corrections:501 - Konnte Korrekturvorschlag '*' nicht erstellen: list index out of range\n",
      "2025-06-05 15:59:57.113 | INFO     | pipeline.correction.correction2:generate_possible_corrections:519 - Konnte Korrekturvorschlag 'PLURAL_*' nicht erstellen: list index out of range\n",
      "2025-06-05 15:59:57.565 | INFO     | pipeline.correction.correction2:generate_possible_corrections:352 - Konnte Korrekturvorschlag '*' nicht erstellen: list index out of range\n",
      "2025-06-05 15:59:57.574 | INFO     | pipeline.correction.correction2:generate_possible_corrections:459 - Konnte Korrekturvorschlag 'BOTH_FORMS' nicht erstellen: list index out of range\n",
      "2025-06-05 15:59:57.637 | ERROR    | pipeline.full_pipeline:full_pipeline:38 - Fehler bei needs_to_be_gendered() für 'Feind': Es darf nur ein Element mit dieser Beziehung geben. (war mit sb, war aber [s, Furtwängler])\n",
      "2025-06-05 15:59:57.638 | ERROR    | pipeline.full_pipeline:full_pipeline:38 - Fehler bei needs_to_be_gendered() für 'ihm': Es darf nur ein Element mit dieser Beziehung geben. (war mit sb, war aber [s, Furtwängler])\n",
      "2025-06-05 15:59:57.639 | ERROR    | pipeline.full_pipeline:full_pipeline:38 - Fehler bei needs_to_be_gendered() für 'er': Es darf nur ein Element mit dieser Beziehung geben. (war mit sb, war aber [s, Furtwängler])\n"
     ]
    },
    {
     "name": "stderr",
     "output_type": "stream",
     "text": [
      " 55%|███████████████████████████████████████████                                   | 1251/2265 [16:51<29:56,  1.77s/it]"
     ]
    },
    {
     "name": "stdout",
     "output_type": "stream",
     "text": [
      "This is the pipeline with appositions going both ways\n"
     ]
    },
    {
     "name": "stderr",
     "output_type": "stream",
     "text": [
      " 55%|███████████████████████████████████████████                                   | 1252/2265 [16:51<24:16,  1.44s/it]"
     ]
    },
    {
     "name": "stdout",
     "output_type": "stream",
     "text": [
      "This is the pipeline with appositions going both ways\n"
     ]
    },
    {
     "name": "stderr",
     "output_type": "stream",
     "text": [
      " 55%|███████████████████████████████████████████▏                                  | 1253/2265 [16:53<28:03,  1.66s/it]"
     ]
    },
    {
     "name": "stdout",
     "output_type": "stream",
     "text": [
      "2025-06-05 16:00:00.515 | INFO     | pipeline.correction.correction2:generate_possible_corrections:501 - Konnte Korrekturvorschlag '*' nicht erstellen: list index out of range\n",
      "2025-06-05 16:00:00.529 | INFO     | pipeline.correction.correction2:generate_possible_corrections:519 - Konnte Korrekturvorschlag 'PLURAL_*' nicht erstellen: list index out of range\n",
      "This is the pipeline with appositions going both ways\n"
     ]
    },
    {
     "name": "stderr",
     "output_type": "stream",
     "text": [
      " 55%|███████████████████████████████████████████▏                                  | 1254/2265 [16:54<23:27,  1.39s/it]"
     ]
    },
    {
     "name": "stdout",
     "output_type": "stream",
     "text": [
      "This is the pipeline with appositions going both ways\n"
     ]
    },
    {
     "name": "stderr",
     "output_type": "stream",
     "text": [
      " 55%|███████████████████████████████████████████▏                                  | 1255/2265 [16:54<17:57,  1.07s/it]"
     ]
    },
    {
     "name": "stdout",
     "output_type": "stream",
     "text": [
      "This is the pipeline with appositions going both ways\n"
     ]
    },
    {
     "name": "stderr",
     "output_type": "stream",
     "text": [
      " 55%|███████████████████████████████████████████▎                                  | 1256/2265 [16:55<16:42,  1.01it/s]"
     ]
    },
    {
     "name": "stdout",
     "output_type": "stream",
     "text": [
      "This is the pipeline with appositions going both ways\n"
     ]
    },
    {
     "name": "stderr",
     "output_type": "stream",
     "text": [
      " 55%|███████████████████████████████████████████▎                                  | 1257/2265 [16:56<16:43,  1.00it/s]"
     ]
    },
    {
     "name": "stdout",
     "output_type": "stream",
     "text": [
      "2025-06-05 16:00:03.362 | INFO     | pipeline.correction.correction2:generate_possible_corrections:459 - Konnte Korrekturvorschlag 'BOTH_FORMS' nicht erstellen: Es darf nur ein Element mit dieser Beziehung geben. (Vertretern mit cd, war aber [sowohl, als])\n",
      "This is the pipeline with appositions going both ways\n"
     ]
    },
    {
     "name": "stderr",
     "output_type": "stream",
     "text": [
      " 56%|███████████████████████████████████████████▎                                  | 1258/2265 [16:57<15:15,  1.10it/s]"
     ]
    },
    {
     "name": "stdout",
     "output_type": "stream",
     "text": [
      "This is the pipeline with appositions going both ways\n",
      "2025-06-05 16:00:04.761 | INFO     | pipeline.correction.correction2:generate_possible_corrections:501 - Konnte Korrekturvorschlag '*' nicht erstellen: list index out of range\n",
      "2025-06-05 16:00:04.773 | INFO     | pipeline.correction.correction2:generate_possible_corrections:519 - Konnte Korrekturvorschlag 'PLURAL_*' nicht erstellen: list index out of range\n",
      "2025-06-05 16:00:04.951 | INFO     | pipeline.correction.correction2:generate_possible_corrections:501 - Konnte Korrekturvorschlag '*' nicht erstellen: list index out of range\n"
     ]
    },
    {
     "name": "stderr",
     "output_type": "stream",
     "text": [
      " 56%|███████████████████████████████████████████▎                                  | 1259/2265 [16:58<14:30,  1.16it/s]"
     ]
    },
    {
     "name": "stdout",
     "output_type": "stream",
     "text": [
      "2025-06-05 16:00:04.964 | INFO     | pipeline.correction.correction2:generate_possible_corrections:519 - Konnte Korrekturvorschlag 'PLURAL_*' nicht erstellen: list index out of range\n",
      "2025-06-05 16:00:05.012 | INFO     | pipeline.correction.correction2:generate_possible_corrections:501 - Konnte Korrekturvorschlag '*' nicht erstellen: list index out of range\n",
      "2025-06-05 16:00:05.024 | INFO     | pipeline.correction.correction2:generate_possible_corrections:519 - Konnte Korrekturvorschlag 'PLURAL_*' nicht erstellen: list index out of range\n",
      "This is the pipeline with appositions going both ways\n"
     ]
    },
    {
     "name": "stderr",
     "output_type": "stream",
     "text": [
      " 56%|███████████████████████████████████████████▍                                  | 1260/2265 [16:59<13:50,  1.21it/s]"
     ]
    },
    {
     "name": "stdout",
     "output_type": "stream",
     "text": [
      "2025-06-05 16:00:05.722 | ERROR    | pipeline.full_pipeline:full_pipeline:38 - Fehler bei needs_to_be_gendered() für 'Sieger': Es darf nur ein Element mit dieser Beziehung geben. (wurde mit sb, war aber [müssen, GmbH])\n",
      "This is the pipeline with appositions going both ways\n"
     ]
    },
    {
     "name": "stderr",
     "output_type": "stream",
     "text": [
      " 56%|███████████████████████████████████████████▍                                  | 1261/2265 [16:59<14:10,  1.18it/s]"
     ]
    },
    {
     "name": "stdout",
     "output_type": "stream",
     "text": [
      "This is the pipeline with appositions going both ways\n"
     ]
    },
    {
     "name": "stderr",
     "output_type": "stream",
     "text": [
      " 56%|███████████████████████████████████████████▍                                  | 1262/2265 [17:00<12:15,  1.36it/s]"
     ]
    },
    {
     "name": "stdout",
     "output_type": "stream",
     "text": [
      "This is the pipeline with appositions going both ways\n"
     ]
    },
    {
     "name": "stderr",
     "output_type": "stream",
     "text": [
      " 56%|███████████████████████████████████████████▍                                  | 1263/2265 [17:01<13:17,  1.26it/s]"
     ]
    },
    {
     "name": "stdout",
     "output_type": "stream",
     "text": [
      "This is the pipeline with appositions going both ways\n"
     ]
    },
    {
     "name": "stderr",
     "output_type": "stream",
     "text": [
      " 56%|███████████████████████████████████████████▌                                  | 1264/2265 [17:02<13:01,  1.28it/s]"
     ]
    },
    {
     "name": "stdout",
     "output_type": "stream",
     "text": [
      "This is the pipeline with appositions going both ways\n"
     ]
    },
    {
     "name": "stderr",
     "output_type": "stream",
     "text": [
      " 56%|███████████████████████████████████████████▌                                  | 1265/2265 [17:04<19:19,  1.16s/it]"
     ]
    },
    {
     "name": "stdout",
     "output_type": "stream",
     "text": [
      "This is the pipeline with appositions going both ways\n"
     ]
    },
    {
     "name": "stderr",
     "output_type": "stream",
     "text": [
      " 56%|███████████████████████████████████████████▌                                  | 1266/2265 [17:04<17:14,  1.04s/it]"
     ]
    },
    {
     "name": "stdout",
     "output_type": "stream",
     "text": [
      "This is the pipeline with appositions going both ways\n"
     ]
    },
    {
     "name": "stderr",
     "output_type": "stream",
     "text": [
      " 56%|███████████████████████████████████████████▋                                  | 1267/2265 [17:05<14:52,  1.12it/s]"
     ]
    },
    {
     "name": "stdout",
     "output_type": "stream",
     "text": [
      "This is the pipeline with appositions going both ways\n"
     ]
    },
    {
     "name": "stderr",
     "output_type": "stream",
     "text": [
      " 56%|███████████████████████████████████████████▋                                  | 1268/2265 [17:05<12:45,  1.30it/s]"
     ]
    },
    {
     "name": "stdout",
     "output_type": "stream",
     "text": [
      "This is the pipeline with appositions going both ways\n"
     ]
    },
    {
     "name": "stderr",
     "output_type": "stream",
     "text": [
      " 56%|███████████████████████████████████████████▋                                  | 1269/2265 [17:06<14:25,  1.15it/s]"
     ]
    },
    {
     "name": "stdout",
     "output_type": "stream",
     "text": [
      "This is the pipeline with appositions going both ways\n"
     ]
    },
    {
     "name": "stderr",
     "output_type": "stream",
     "text": [
      " 56%|███████████████████████████████████████████▋                                  | 1270/2265 [17:08<16:44,  1.01s/it]"
     ]
    },
    {
     "name": "stdout",
     "output_type": "stream",
     "text": [
      "This is the pipeline with appositions going both ways\n"
     ]
    },
    {
     "name": "stderr",
     "output_type": "stream",
     "text": [
      " 56%|███████████████████████████████████████████▊                                  | 1271/2265 [17:08<13:51,  1.20it/s]"
     ]
    },
    {
     "name": "stdout",
     "output_type": "stream",
     "text": [
      "This is the pipeline with appositions going both ways\n"
     ]
    },
    {
     "name": "stderr",
     "output_type": "stream",
     "text": [
      " 56%|███████████████████████████████████████████▊                                  | 1272/2265 [17:09<11:59,  1.38it/s]"
     ]
    },
    {
     "name": "stdout",
     "output_type": "stream",
     "text": [
      "This is the pipeline with appositions going both ways\n"
     ]
    },
    {
     "name": "stderr",
     "output_type": "stream",
     "text": [
      " 56%|███████████████████████████████████████████▊                                  | 1273/2265 [17:09<10:38,  1.55it/s]"
     ]
    },
    {
     "name": "stdout",
     "output_type": "stream",
     "text": [
      "This is the pipeline with appositions going both ways\n"
     ]
    },
    {
     "name": "stderr",
     "output_type": "stream",
     "text": [
      " 56%|███████████████████████████████████████████▊                                  | 1274/2265 [17:10<10:23,  1.59it/s]"
     ]
    },
    {
     "name": "stdout",
     "output_type": "stream",
     "text": [
      "This is the pipeline with appositions going both ways\n"
     ]
    },
    {
     "name": "stderr",
     "output_type": "stream",
     "text": [
      " 56%|███████████████████████████████████████████▉                                  | 1275/2265 [17:10<09:51,  1.67it/s]"
     ]
    },
    {
     "name": "stdout",
     "output_type": "stream",
     "text": [
      "This is the pipeline with appositions going both ways\n"
     ]
    },
    {
     "name": "stderr",
     "output_type": "stream",
     "text": [
      " 56%|███████████████████████████████████████████▉                                  | 1276/2265 [17:11<08:09,  2.02it/s]"
     ]
    },
    {
     "name": "stdout",
     "output_type": "stream",
     "text": [
      "This is the pipeline with appositions going both ways\n"
     ]
    },
    {
     "name": "stderr",
     "output_type": "stream",
     "text": [
      " 56%|███████████████████████████████████████████▉                                  | 1277/2265 [17:11<07:04,  2.33it/s]"
     ]
    },
    {
     "name": "stdout",
     "output_type": "stream",
     "text": [
      "This is the pipeline with appositions going both ways\n"
     ]
    },
    {
     "name": "stderr",
     "output_type": "stream",
     "text": [
      " 56%|████████████████████████████████████████████                                  | 1278/2265 [17:12<08:19,  1.98it/s]"
     ]
    },
    {
     "name": "stdout",
     "output_type": "stream",
     "text": [
      "This is the pipeline with appositions going both ways\n"
     ]
    },
    {
     "name": "stderr",
     "output_type": "stream",
     "text": [
      " 56%|████████████████████████████████████████████                                  | 1279/2265 [17:12<07:51,  2.09it/s]"
     ]
    },
    {
     "name": "stdout",
     "output_type": "stream",
     "text": [
      "This is the pipeline with appositions going both ways\n"
     ]
    },
    {
     "name": "stderr",
     "output_type": "stream",
     "text": [
      " 57%|████████████████████████████████████████████                                  | 1280/2265 [17:13<08:21,  1.97it/s]"
     ]
    },
    {
     "name": "stdout",
     "output_type": "stream",
     "text": [
      "This is the pipeline with appositions going both ways\n"
     ]
    },
    {
     "name": "stderr",
     "output_type": "stream",
     "text": [
      " 57%|████████████████████████████████████████████                                  | 1281/2265 [17:13<09:12,  1.78it/s]"
     ]
    },
    {
     "name": "stdout",
     "output_type": "stream",
     "text": [
      "This is the pipeline with appositions going both ways\n"
     ]
    },
    {
     "name": "stderr",
     "output_type": "stream",
     "text": [
      " 57%|████████████████████████████████████████████▏                                 | 1282/2265 [17:14<08:13,  1.99it/s]"
     ]
    },
    {
     "name": "stdout",
     "output_type": "stream",
     "text": [
      "This is the pipeline with appositions going both ways\n"
     ]
    },
    {
     "name": "stderr",
     "output_type": "stream",
     "text": [
      " 57%|████████████████████████████████████████████▏                                 | 1283/2265 [17:14<07:43,  2.12it/s]"
     ]
    },
    {
     "name": "stdout",
     "output_type": "stream",
     "text": [
      "This is the pipeline with appositions going both ways\n"
     ]
    },
    {
     "name": "stderr",
     "output_type": "stream",
     "text": [
      " 57%|████████████████████████████████████████████▏                                 | 1284/2265 [17:15<10:00,  1.63it/s]"
     ]
    },
    {
     "name": "stdout",
     "output_type": "stream",
     "text": [
      "This is the pipeline with appositions going both ways\n"
     ]
    },
    {
     "name": "stderr",
     "output_type": "stream",
     "text": [
      " 57%|████████████████████████████████████████████▎                                 | 1285/2265 [17:15<08:02,  2.03it/s]"
     ]
    },
    {
     "name": "stdout",
     "output_type": "stream",
     "text": [
      "This is the pipeline with appositions going both ways\n"
     ]
    },
    {
     "name": "stderr",
     "output_type": "stream",
     "text": [
      " 57%|████████████████████████████████████████████▎                                 | 1286/2265 [17:16<08:26,  1.93it/s]"
     ]
    },
    {
     "name": "stdout",
     "output_type": "stream",
     "text": [
      "This is the pipeline with appositions going both ways\n"
     ]
    },
    {
     "name": "stderr",
     "output_type": "stream",
     "text": [
      " 57%|████████████████████████████████████████████▎                                 | 1288/2265 [17:16<05:48,  2.81it/s]"
     ]
    },
    {
     "name": "stdout",
     "output_type": "stream",
     "text": [
      "This is the pipeline with appositions going both ways\n",
      "This is the pipeline with appositions going both ways\n"
     ]
    },
    {
     "name": "stderr",
     "output_type": "stream",
     "text": [
      " 57%|████████████████████████████████████████████▍                                 | 1289/2265 [17:17<09:07,  1.78it/s]"
     ]
    },
    {
     "name": "stdout",
     "output_type": "stream",
     "text": [
      "This is the pipeline with appositions going both ways\n"
     ]
    },
    {
     "name": "stderr",
     "output_type": "stream",
     "text": [
      " 57%|████████████████████████████████████████████▍                                 | 1290/2265 [17:18<10:30,  1.55it/s]"
     ]
    },
    {
     "name": "stdout",
     "output_type": "stream",
     "text": [
      "This is the pipeline with appositions going both ways\n"
     ]
    },
    {
     "name": "stderr",
     "output_type": "stream",
     "text": [
      " 57%|████████████████████████████████████████████▍                                 | 1291/2265 [17:18<08:55,  1.82it/s]"
     ]
    },
    {
     "name": "stdout",
     "output_type": "stream",
     "text": [
      "This is the pipeline with appositions going both ways\n"
     ]
    },
    {
     "name": "stderr",
     "output_type": "stream",
     "text": [
      " 57%|████████████████████████████████████████████▍                                 | 1292/2265 [17:19<09:43,  1.67it/s]"
     ]
    },
    {
     "name": "stdout",
     "output_type": "stream",
     "text": [
      "This is the pipeline with appositions going both ways\n"
     ]
    },
    {
     "name": "stderr",
     "output_type": "stream",
     "text": [
      " 57%|████████████████████████████████████████████▌                                 | 1293/2265 [17:20<11:24,  1.42it/s]"
     ]
    },
    {
     "name": "stdout",
     "output_type": "stream",
     "text": [
      "2025-06-05 16:00:27.067 | INFO     | pipeline.correction.correction2:generate_possible_corrections:501 - Konnte Korrekturvorschlag '*' nicht erstellen: list index out of range\n",
      "2025-06-05 16:00:27.079 | INFO     | pipeline.correction.correction2:generate_possible_corrections:519 - Konnte Korrekturvorschlag 'PLURAL_*' nicht erstellen: list index out of range\n",
      "2025-06-05 16:00:27.140 | INFO     | pipeline.correction.correction2:generate_possible_corrections:352 - Konnte Korrekturvorschlag '*' nicht erstellen: list index out of range\n",
      "2025-06-05 16:00:27.148 | INFO     | pipeline.correction.correction2:generate_possible_corrections:459 - Konnte Korrekturvorschlag 'BOTH_FORMS' nicht erstellen: list index out of range\n",
      "This is the pipeline with appositions going both ways\n"
     ]
    },
    {
     "name": "stderr",
     "output_type": "stream",
     "text": [
      " 57%|████████████████████████████████████████████▌                                 | 1294/2265 [17:21<12:43,  1.27it/s]"
     ]
    },
    {
     "name": "stdout",
     "output_type": "stream",
     "text": [
      "2025-06-05 16:00:28.034 | INFO     | pipeline.correction.correction2:generate_possible_corrections:352 - Konnte Korrekturvorschlag '*' nicht erstellen: list index out of range\n",
      "2025-06-05 16:00:28.035 | INFO     | pipeline.correction.correction2:generate_possible_corrections:459 - Konnte Korrekturvorschlag 'BOTH_FORMS' nicht erstellen: list index out of range\n",
      "This is the pipeline with appositions going both ways\n"
     ]
    },
    {
     "name": "stderr",
     "output_type": "stream",
     "text": [
      " 57%|████████████████████████████████████████████▌                                 | 1295/2265 [17:21<11:31,  1.40it/s]"
     ]
    },
    {
     "name": "stdout",
     "output_type": "stream",
     "text": [
      "This is the pipeline with appositions going both ways\n"
     ]
    },
    {
     "name": "stderr",
     "output_type": "stream",
     "text": [
      " 57%|████████████████████████████████████████████▋                                 | 1296/2265 [17:22<10:21,  1.56it/s]"
     ]
    },
    {
     "name": "stdout",
     "output_type": "stream",
     "text": [
      "2025-06-05 16:00:29.171 | INFO     | pipeline.correction.correction2:generate_possible_corrections:501 - Konnte Korrekturvorschlag '*' nicht erstellen: list index out of range\n",
      "2025-06-05 16:00:29.184 | INFO     | pipeline.correction.correction2:generate_possible_corrections:519 - Konnte Korrekturvorschlag 'PLURAL_*' nicht erstellen: list index out of range\n",
      "This is the pipeline with appositions going both ways\n"
     ]
    },
    {
     "name": "stderr",
     "output_type": "stream",
     "text": [
      " 57%|████████████████████████████████████████████▋                                 | 1297/2265 [17:23<10:12,  1.58it/s]"
     ]
    },
    {
     "name": "stdout",
     "output_type": "stream",
     "text": [
      "This is the pipeline with appositions going both ways\n"
     ]
    },
    {
     "name": "stderr",
     "output_type": "stream",
     "text": [
      " 57%|████████████████████████████████████████████▋                                 | 1298/2265 [17:25<17:23,  1.08s/it]"
     ]
    },
    {
     "name": "stdout",
     "output_type": "stream",
     "text": [
      "This is the pipeline with appositions going both ways\n"
     ]
    },
    {
     "name": "stderr",
     "output_type": "stream",
     "text": [
      " 57%|████████████████████████████████████████████▋                                 | 1299/2265 [17:25<14:24,  1.12it/s]"
     ]
    },
    {
     "name": "stdout",
     "output_type": "stream",
     "text": [
      "This is the pipeline with appositions going both ways\n"
     ]
    },
    {
     "name": "stderr",
     "output_type": "stream",
     "text": [
      " 57%|████████████████████████████████████████████▊                                 | 1300/2265 [17:26<13:11,  1.22it/s]"
     ]
    },
    {
     "name": "stdout",
     "output_type": "stream",
     "text": [
      "This is the pipeline with appositions going both ways\n"
     ]
    },
    {
     "name": "stderr",
     "output_type": "stream",
     "text": [
      " 57%|████████████████████████████████████████████▊                                 | 1302/2265 [17:27<09:42,  1.65it/s]"
     ]
    },
    {
     "name": "stdout",
     "output_type": "stream",
     "text": [
      "This is the pipeline with appositions going both ways\n",
      "This is the pipeline with appositions going both ways\n"
     ]
    },
    {
     "name": "stderr",
     "output_type": "stream",
     "text": [
      " 58%|████████████████████████████████████████████▊                                 | 1303/2265 [17:27<09:58,  1.61it/s]"
     ]
    },
    {
     "name": "stdout",
     "output_type": "stream",
     "text": [
      "This is the pipeline with appositions going both ways\n"
     ]
    },
    {
     "name": "stderr",
     "output_type": "stream",
     "text": [
      " 58%|████████████████████████████████████████████▉                                 | 1304/2265 [17:28<08:02,  1.99it/s]"
     ]
    },
    {
     "name": "stdout",
     "output_type": "stream",
     "text": [
      "This is the pipeline with appositions going both ways\n"
     ]
    },
    {
     "name": "stderr",
     "output_type": "stream",
     "text": [
      " 58%|████████████████████████████████████████████▉                                 | 1305/2265 [17:28<07:02,  2.27it/s]"
     ]
    },
    {
     "name": "stdout",
     "output_type": "stream",
     "text": [
      "This is the pipeline with appositions going both ways\n"
     ]
    },
    {
     "name": "stderr",
     "output_type": "stream",
     "text": [
      " 58%|████████████████████████████████████████████▉                                 | 1306/2265 [17:29<08:46,  1.82it/s]"
     ]
    },
    {
     "name": "stdout",
     "output_type": "stream",
     "text": [
      "This is the pipeline with appositions going both ways\n"
     ]
    },
    {
     "name": "stderr",
     "output_type": "stream",
     "text": [
      " 58%|█████████████████████████████████████████████                                 | 1307/2265 [17:29<07:20,  2.18it/s]"
     ]
    },
    {
     "name": "stdout",
     "output_type": "stream",
     "text": [
      "This is the pipeline with appositions going both ways\n"
     ]
    },
    {
     "name": "stderr",
     "output_type": "stream",
     "text": [
      " 58%|█████████████████████████████████████████████                                 | 1308/2265 [17:29<06:18,  2.53it/s]"
     ]
    },
    {
     "name": "stdout",
     "output_type": "stream",
     "text": [
      "This is the pipeline with appositions going both ways\n"
     ]
    },
    {
     "name": "stderr",
     "output_type": "stream",
     "text": [
      " 58%|█████████████████████████████████████████████                                 | 1309/2265 [17:29<05:23,  2.96it/s]"
     ]
    },
    {
     "name": "stdout",
     "output_type": "stream",
     "text": [
      "This is the pipeline with appositions going both ways\n"
     ]
    },
    {
     "name": "stderr",
     "output_type": "stream",
     "text": [
      " 58%|█████████████████████████████████████████████▏                                | 1311/2265 [17:30<05:51,  2.71it/s]"
     ]
    },
    {
     "name": "stdout",
     "output_type": "stream",
     "text": [
      "This is the pipeline with appositions going both ways\n",
      "This is the pipeline with appositions going both ways\n"
     ]
    },
    {
     "name": "stderr",
     "output_type": "stream",
     "text": [
      " 58%|█████████████████████████████████████████████▏                                | 1313/2265 [17:31<04:19,  3.67it/s]"
     ]
    },
    {
     "name": "stdout",
     "output_type": "stream",
     "text": [
      "This is the pipeline with appositions going both ways\n",
      "This is the pipeline with appositions going both ways\n"
     ]
    },
    {
     "name": "stderr",
     "output_type": "stream",
     "text": [
      " 58%|█████████████████████████████████████████████▎                                | 1314/2265 [17:31<03:47,  4.19it/s]"
     ]
    },
    {
     "name": "stdout",
     "output_type": "stream",
     "text": [
      "This is the pipeline with appositions going both ways\n"
     ]
    },
    {
     "name": "stderr",
     "output_type": "stream",
     "text": [
      " 58%|█████████████████████████████████████████████▎                                | 1315/2265 [17:31<03:44,  4.24it/s]"
     ]
    },
    {
     "name": "stdout",
     "output_type": "stream",
     "text": [
      "This is the pipeline with appositions going both ways\n"
     ]
    },
    {
     "name": "stderr",
     "output_type": "stream",
     "text": [
      " 58%|█████████████████████████████████████████████▎                                | 1316/2265 [17:32<06:11,  2.55it/s]"
     ]
    },
    {
     "name": "stdout",
     "output_type": "stream",
     "text": [
      "This is the pipeline with appositions going both ways\n"
     ]
    },
    {
     "name": "stderr",
     "output_type": "stream",
     "text": [
      " 58%|█████████████████████████████████████████████▎                                | 1317/2265 [17:33<08:29,  1.86it/s]"
     ]
    },
    {
     "name": "stdout",
     "output_type": "stream",
     "text": [
      "This is the pipeline with appositions going both ways\n"
     ]
    },
    {
     "name": "stderr",
     "output_type": "stream",
     "text": [
      " 58%|█████████████████████████████████████████████▍                                | 1318/2265 [17:33<08:16,  1.91it/s]"
     ]
    },
    {
     "name": "stdout",
     "output_type": "stream",
     "text": [
      "This is the pipeline with appositions going both ways\n"
     ]
    },
    {
     "name": "stderr",
     "output_type": "stream",
     "text": [
      " 58%|█████████████████████████████████████████████▍                                | 1319/2265 [17:34<10:28,  1.50it/s]"
     ]
    },
    {
     "name": "stdout",
     "output_type": "stream",
     "text": [
      "This is the pipeline with appositions going both ways\n"
     ]
    },
    {
     "name": "stderr",
     "output_type": "stream",
     "text": [
      " 58%|█████████████████████████████████████████████▍                                | 1320/2265 [17:34<08:37,  1.83it/s]"
     ]
    },
    {
     "name": "stdout",
     "output_type": "stream",
     "text": [
      "This is the pipeline with appositions going both ways\n"
     ]
    },
    {
     "name": "stderr",
     "output_type": "stream",
     "text": [
      " 58%|█████████████████████████████████████████████▍                                | 1321/2265 [17:35<08:39,  1.82it/s]"
     ]
    },
    {
     "name": "stdout",
     "output_type": "stream",
     "text": [
      "This is the pipeline with appositions going both ways\n"
     ]
    },
    {
     "name": "stderr",
     "output_type": "stream",
     "text": [
      " 58%|█████████████████████████████████████████████▌                                | 1322/2265 [17:35<07:54,  1.99it/s]"
     ]
    },
    {
     "name": "stdout",
     "output_type": "stream",
     "text": [
      "This is the pipeline with appositions going both ways\n"
     ]
    },
    {
     "name": "stderr",
     "output_type": "stream",
     "text": [
      " 58%|█████████████████████████████████████████████▌                                | 1323/2265 [17:36<07:12,  2.18it/s]"
     ]
    },
    {
     "name": "stdout",
     "output_type": "stream",
     "text": [
      "This is the pipeline with appositions going both ways\n"
     ]
    },
    {
     "name": "stderr",
     "output_type": "stream",
     "text": [
      " 58%|█████████████████████████████████████████████▌                                | 1324/2265 [17:36<06:34,  2.38it/s]"
     ]
    },
    {
     "name": "stdout",
     "output_type": "stream",
     "text": [
      "This is the pipeline with appositions going both ways\n"
     ]
    },
    {
     "name": "stderr",
     "output_type": "stream",
     "text": [
      " 58%|█████████████████████████████████████████████▋                                | 1325/2265 [17:37<09:56,  1.58it/s]"
     ]
    },
    {
     "name": "stdout",
     "output_type": "stream",
     "text": [
      "This is the pipeline with appositions going both ways\n"
     ]
    },
    {
     "name": "stderr",
     "output_type": "stream",
     "text": [
      " 59%|█████████████████████████████████████████████▋                                | 1326/2265 [17:37<08:16,  1.89it/s]"
     ]
    },
    {
     "name": "stdout",
     "output_type": "stream",
     "text": [
      "This is the pipeline with appositions going both ways\n"
     ]
    },
    {
     "name": "stderr",
     "output_type": "stream",
     "text": [
      " 59%|█████████████████████████████████████████████▋                                | 1327/2265 [17:38<06:52,  2.27it/s]"
     ]
    },
    {
     "name": "stdout",
     "output_type": "stream",
     "text": [
      "This is the pipeline with appositions going both ways\n"
     ]
    },
    {
     "name": "stderr",
     "output_type": "stream",
     "text": [
      " 59%|█████████████████████████████████████████████▋                                | 1328/2265 [17:38<08:28,  1.84it/s]"
     ]
    },
    {
     "name": "stdout",
     "output_type": "stream",
     "text": [
      "This is the pipeline with appositions going both ways\n"
     ]
    },
    {
     "name": "stderr",
     "output_type": "stream",
     "text": [
      " 59%|█████████████████████████████████████████████▊                                | 1330/2265 [17:39<06:36,  2.36it/s]"
     ]
    },
    {
     "name": "stdout",
     "output_type": "stream",
     "text": [
      "This is the pipeline with appositions going both ways\n",
      "This is the pipeline with appositions going both ways\n"
     ]
    },
    {
     "name": "stderr",
     "output_type": "stream",
     "text": [
      " 59%|█████████████████████████████████████████████▊                                | 1332/2265 [17:40<04:57,  3.13it/s]"
     ]
    },
    {
     "name": "stdout",
     "output_type": "stream",
     "text": [
      "This is the pipeline with appositions going both ways\n",
      "This is the pipeline with appositions going both ways\n"
     ]
    },
    {
     "name": "stderr",
     "output_type": "stream",
     "text": [
      " 59%|█████████████████████████████████████████████▉                                | 1333/2265 [17:40<04:07,  3.77it/s]"
     ]
    },
    {
     "name": "stdout",
     "output_type": "stream",
     "text": [
      "This is the pipeline with appositions going both ways\n"
     ]
    },
    {
     "name": "stderr",
     "output_type": "stream",
     "text": [
      " 59%|█████████████████████████████████████████████▉                                | 1334/2265 [17:40<04:40,  3.32it/s]"
     ]
    },
    {
     "name": "stdout",
     "output_type": "stream",
     "text": [
      "This is the pipeline with appositions going both ways\n"
     ]
    },
    {
     "name": "stderr",
     "output_type": "stream",
     "text": [
      " 59%|██████████████████████████████████████████████                                | 1336/2265 [17:41<03:45,  4.13it/s]"
     ]
    },
    {
     "name": "stdout",
     "output_type": "stream",
     "text": [
      "This is the pipeline with appositions going both ways\n",
      "This is the pipeline with appositions going both ways\n"
     ]
    },
    {
     "name": "stderr",
     "output_type": "stream",
     "text": [
      " 59%|██████████████████████████████████████████████                                | 1337/2265 [17:41<03:58,  3.88it/s]"
     ]
    },
    {
     "name": "stdout",
     "output_type": "stream",
     "text": [
      "This is the pipeline with appositions going both ways\n"
     ]
    },
    {
     "name": "stderr",
     "output_type": "stream",
     "text": [
      " 59%|██████████████████████████████████████████████                                | 1339/2265 [17:41<03:50,  4.01it/s]"
     ]
    },
    {
     "name": "stdout",
     "output_type": "stream",
     "text": [
      "This is the pipeline with appositions going both ways\n",
      "This is the pipeline with appositions going both ways\n"
     ]
    },
    {
     "name": "stderr",
     "output_type": "stream",
     "text": [
      " 59%|██████████████████████████████████████████████▏                               | 1340/2265 [17:42<03:58,  3.88it/s]"
     ]
    },
    {
     "name": "stdout",
     "output_type": "stream",
     "text": [
      "This is the pipeline with appositions going both ways\n"
     ]
    },
    {
     "name": "stderr",
     "output_type": "stream",
     "text": [
      " 59%|██████████████████████████████████████████████▏                               | 1341/2265 [17:42<03:53,  3.96it/s]"
     ]
    },
    {
     "name": "stdout",
     "output_type": "stream",
     "text": [
      "This is the pipeline with appositions going both ways\n"
     ]
    },
    {
     "name": "stderr",
     "output_type": "stream",
     "text": [
      " 59%|██████████████████████████████████████████████▏                               | 1343/2265 [17:42<03:32,  4.34it/s]"
     ]
    },
    {
     "name": "stdout",
     "output_type": "stream",
     "text": [
      "This is the pipeline with appositions going both ways\n",
      "This is the pipeline with appositions going both ways\n"
     ]
    },
    {
     "name": "stderr",
     "output_type": "stream",
     "text": [
      " 59%|██████████████████████████████████████████████▎                               | 1344/2265 [17:43<03:47,  4.04it/s]"
     ]
    },
    {
     "name": "stdout",
     "output_type": "stream",
     "text": [
      "This is the pipeline with appositions going both ways\n"
     ]
    },
    {
     "name": "stderr",
     "output_type": "stream",
     "text": [
      " 59%|██████████████████████████████████████████████▎                               | 1345/2265 [17:43<04:49,  3.18it/s]"
     ]
    },
    {
     "name": "stdout",
     "output_type": "stream",
     "text": [
      "This is the pipeline with appositions going both ways\n"
     ]
    },
    {
     "name": "stderr",
     "output_type": "stream",
     "text": [
      " 59%|██████████████████████████████████████████████▎                               | 1346/2265 [17:43<04:22,  3.49it/s]"
     ]
    },
    {
     "name": "stdout",
     "output_type": "stream",
     "text": [
      "This is the pipeline with appositions going both ways\n"
     ]
    },
    {
     "name": "stderr",
     "output_type": "stream",
     "text": [
      " 59%|██████████████████████████████████████████████▍                               | 1347/2265 [17:44<08:27,  1.81it/s]"
     ]
    },
    {
     "name": "stdout",
     "output_type": "stream",
     "text": [
      "This is the pipeline with appositions going both ways\n"
     ]
    },
    {
     "name": "stderr",
     "output_type": "stream",
     "text": [
      " 60%|██████████████████████████████████████████████▍                               | 1348/2265 [17:47<15:25,  1.01s/it]"
     ]
    },
    {
     "name": "stdout",
     "output_type": "stream",
     "text": [
      "This is the pipeline with appositions going both ways\n",
      "2025-06-05 16:00:56.571 | INFO     | pipeline.correction.correction2:generate_possible_corrections:501 - Konnte Korrekturvorschlag '*' nicht erstellen: list index out of range\n",
      "2025-06-05 16:00:56.583 | INFO     | pipeline.correction.correction2:generate_possible_corrections:519 - Konnte Korrekturvorschlag 'PLURAL_*' nicht erstellen: list index out of range\n",
      "2025-06-05 16:00:56.605 | INFO     | pipeline.correction.verb.change_verb_form:change_verb_form:13 - lex_target_verb not found: resumiert\n",
      "2025-06-05 16:00:56.605 | INFO     | pipeline.correction.correction2:generate_possible_corrections:519 - Konnte Korrekturvorschlag 'PLURAL_*' nicht erstellen: Das Verb konnte im Lexikon nicht gefunden werden: resumiert\n",
      "2025-06-05 16:00:56.756 | INFO     | pipeline.correction.correction2:generate_possible_corrections:501 - Konnte Korrekturvorschlag '*' nicht erstellen: list index out of range\n",
      "2025-06-05 16:00:56.768 | INFO     | pipeline.correction.correction2:generate_possible_corrections:519 - Konnte Korrekturvorschlag 'PLURAL_*' nicht erstellen: list index out of range\n"
     ]
    },
    {
     "name": "stderr",
     "output_type": "stream",
     "text": [
      " 60%|██████████████████████████████████████████████▍                               | 1349/2265 [17:50<25:45,  1.69s/it]"
     ]
    },
    {
     "name": "stdout",
     "output_type": "stream",
     "text": [
      "This is the pipeline with appositions going both ways\n"
     ]
    },
    {
     "name": "stderr",
     "output_type": "stream",
     "text": [
      " 60%|██████████████████████████████████████████████▍                               | 1350/2265 [17:51<25:11,  1.65s/it]"
     ]
    },
    {
     "name": "stdout",
     "output_type": "stream",
     "text": [
      "This is the pipeline with appositions going both ways\n"
     ]
    },
    {
     "name": "stderr",
     "output_type": "stream",
     "text": [
      " 60%|██████████████████████████████████████████████▌                               | 1351/2265 [17:53<23:31,  1.54s/it]"
     ]
    },
    {
     "name": "stdout",
     "output_type": "stream",
     "text": [
      "This is the pipeline with appositions going both ways\n",
      "2025-06-05 16:01:02.123 | INFO     | pipeline.correction.correction2:generate_possible_corrections:501 - Konnte Korrekturvorschlag '*' nicht erstellen: list index out of range\n",
      "2025-06-05 16:01:02.131 | INFO     | pipeline.correction.correction2:generate_possible_corrections:519 - Konnte Korrekturvorschlag 'PLURAL_*' nicht erstellen: list index out of range\n"
     ]
    },
    {
     "name": "stderr",
     "output_type": "stream",
     "text": [
      " 60%|██████████████████████████████████████████████▌                               | 1352/2265 [17:55<28:12,  1.85s/it]"
     ]
    },
    {
     "name": "stdout",
     "output_type": "stream",
     "text": [
      "This is the pipeline with appositions going both ways\n"
     ]
    },
    {
     "name": "stderr",
     "output_type": "stream",
     "text": [
      " 60%|██████████████████████████████████████████████▌                               | 1353/2265 [17:56<24:09,  1.59s/it]"
     ]
    },
    {
     "name": "stdout",
     "output_type": "stream",
     "text": [
      "This is the pipeline with appositions going both ways\n"
     ]
    },
    {
     "name": "stderr",
     "output_type": "stream",
     "text": [
      " 60%|██████████████████████████████████████████████▋                               | 1354/2265 [17:57<20:57,  1.38s/it]"
     ]
    },
    {
     "name": "stdout",
     "output_type": "stream",
     "text": [
      "This is the pipeline with appositions going both ways\n"
     ]
    },
    {
     "name": "stderr",
     "output_type": "stream",
     "text": [
      " 60%|██████████████████████████████████████████████▋                               | 1355/2265 [17:58<18:26,  1.22s/it]"
     ]
    },
    {
     "name": "stdout",
     "output_type": "stream",
     "text": [
      "2025-06-05 16:01:04.985 | INFO     | pipeline.correction.correction2:generate_possible_corrections:501 - Konnte Korrekturvorschlag '*' nicht erstellen: list index out of range\n",
      "2025-06-05 16:01:04.997 | INFO     | pipeline.correction.correction2:generate_possible_corrections:519 - Konnte Korrekturvorschlag 'PLURAL_*' nicht erstellen: list index out of range\n",
      "2025-06-05 16:01:05.014 | INFO     | pipeline.correction.correction2:generate_possible_corrections:501 - Konnte Korrekturvorschlag '*' nicht erstellen: list index out of range\n",
      "2025-06-05 16:01:05.025 | INFO     | pipeline.correction.correction2:generate_possible_corrections:519 - Konnte Korrekturvorschlag 'PLURAL_*' nicht erstellen: list index out of range\n",
      "2025-06-05 16:01:05.049 | INFO     | pipeline.correction.correction2:generate_possible_corrections:501 - Konnte Korrekturvorschlag '*' nicht erstellen: list index out of range\n",
      "2025-06-05 16:01:05.061 | INFO     | pipeline.correction.correction2:generate_possible_corrections:519 - Konnte Korrekturvorschlag 'PLURAL_*' nicht erstellen: list index out of range\n",
      "This is the pipeline with appositions going both ways\n"
     ]
    },
    {
     "name": "stderr",
     "output_type": "stream",
     "text": [
      " 60%|██████████████████████████████████████████████▋                               | 1356/2265 [17:59<19:39,  1.30s/it]"
     ]
    },
    {
     "name": "stdout",
     "output_type": "stream",
     "text": [
      "This is the pipeline with appositions going both ways\n"
     ]
    },
    {
     "name": "stderr",
     "output_type": "stream",
     "text": [
      " 60%|██████████████████████████████████████████████▋                               | 1357/2265 [18:02<23:46,  1.57s/it]"
     ]
    },
    {
     "name": "stdout",
     "output_type": "stream",
     "text": [
      "This is the pipeline with appositions going both ways\n"
     ]
    },
    {
     "name": "stderr",
     "output_type": "stream",
     "text": [
      " 60%|██████████████████████████████████████████████▊                               | 1358/2265 [18:03<21:27,  1.42s/it]"
     ]
    },
    {
     "name": "stdout",
     "output_type": "stream",
     "text": [
      "2025-06-05 16:01:09.829 | INFO     | pipeline.correction.correction2:generate_possible_corrections:352 - Konnte Korrekturvorschlag '*' nicht erstellen: list index out of range\n",
      "2025-06-05 16:01:09.837 | INFO     | pipeline.correction.correction2:generate_possible_corrections:459 - Konnte Korrekturvorschlag 'BOTH_FORMS' nicht erstellen: list index out of range\n",
      "This is the pipeline with appositions going both ways\n",
      "2025-06-05 16:01:12.613 | INFO     | pipeline.correction.correction2:generate_possible_corrections:501 - Konnte Korrekturvorschlag '*' nicht erstellen: list index out of range\n",
      "2025-06-05 16:01:12.621 | INFO     | pipeline.correction.correction2:generate_possible_corrections:519 - Konnte Korrekturvorschlag 'PLURAL_*' nicht erstellen: list index out of range\n"
     ]
    },
    {
     "name": "stderr",
     "output_type": "stream",
     "text": [
      " 60%|██████████████████████████████████████████████▊                               | 1359/2265 [18:06<28:35,  1.89s/it]"
     ]
    },
    {
     "name": "stdout",
     "output_type": "stream",
     "text": [
      "This is the pipeline with appositions going both ways\n"
     ]
    },
    {
     "name": "stderr",
     "output_type": "stream",
     "text": [
      " 60%|██████████████████████████████████████████████▊                               | 1360/2265 [18:06<23:09,  1.54s/it]"
     ]
    },
    {
     "name": "stdout",
     "output_type": "stream",
     "text": [
      "2025-06-05 16:01:13.523 | INFO     | pipeline.correction.correction2:generate_possible_corrections:501 - Konnte Korrekturvorschlag '*' nicht erstellen: list index out of range\n",
      "2025-06-05 16:01:13.535 | INFO     | pipeline.correction.correction2:generate_possible_corrections:519 - Konnte Korrekturvorschlag 'PLURAL_*' nicht erstellen: list index out of range\n",
      "This is the pipeline with appositions going both ways\n"
     ]
    },
    {
     "name": "stderr",
     "output_type": "stream",
     "text": [
      " 60%|██████████████████████████████████████████████▊                               | 1361/2265 [18:07<20:05,  1.33s/it]"
     ]
    },
    {
     "name": "stdout",
     "output_type": "stream",
     "text": [
      "2025-06-05 16:01:14.370 | INFO     | pipeline.correction.correction2:generate_possible_corrections:352 - Konnte Korrekturvorschlag '*' nicht erstellen: list index out of range\n",
      "2025-06-05 16:01:14.378 | INFO     | pipeline.correction.correction2:generate_possible_corrections:459 - Konnte Korrekturvorschlag 'BOTH_FORMS' nicht erstellen: list index out of range\n",
      "This is the pipeline with appositions going both ways\n"
     ]
    },
    {
     "name": "stderr",
     "output_type": "stream",
     "text": [
      " 60%|██████████████████████████████████████████████▉                               | 1363/2265 [18:08<11:31,  1.30it/s]"
     ]
    },
    {
     "name": "stdout",
     "output_type": "stream",
     "text": [
      "This is the pipeline with appositions going both ways\n",
      "This is the pipeline with appositions going both ways\n",
      "2025-06-05 16:01:20.652 | INFO     | pipeline.correction.correction2:generate_possible_corrections:352 - Konnte Korrekturvorschlag '*' nicht erstellen: list index out of range\n",
      "2025-06-05 16:01:20.660 | INFO     | pipeline.correction.correction2:generate_possible_corrections:459 - Konnte Korrekturvorschlag 'BOTH_FORMS' nicht erstellen: list index out of range\n"
     ]
    },
    {
     "name": "stderr",
     "output_type": "stream",
     "text": [
      " 60%|██████████████████████████████████████████████▉                               | 1364/2265 [18:15<38:45,  2.58s/it]"
     ]
    },
    {
     "name": "stdout",
     "output_type": "stream",
     "text": [
      "This is the pipeline with appositions going both ways\n"
     ]
    },
    {
     "name": "stderr",
     "output_type": "stream",
     "text": [
      " 60%|███████████████████████████████████████████████                               | 1365/2265 [18:17<37:07,  2.47s/it]"
     ]
    },
    {
     "name": "stdout",
     "output_type": "stream",
     "text": [
      "This is the pipeline with appositions going both ways\n"
     ]
    },
    {
     "name": "stderr",
     "output_type": "stream",
     "text": [
      " 60%|███████████████████████████████████████████████                               | 1366/2265 [18:17<29:18,  1.96s/it]"
     ]
    },
    {
     "name": "stdout",
     "output_type": "stream",
     "text": [
      "This is the pipeline with appositions going both ways\n"
     ]
    },
    {
     "name": "stderr",
     "output_type": "stream",
     "text": [
      " 60%|███████████████████████████████████████████████                               | 1367/2265 [18:18<21:30,  1.44s/it]"
     ]
    },
    {
     "name": "stdout",
     "output_type": "stream",
     "text": [
      "This is the pipeline with appositions going both ways\n"
     ]
    },
    {
     "name": "stderr",
     "output_type": "stream",
     "text": [
      " 60%|███████████████████████████████████████████████                               | 1368/2265 [18:18<16:36,  1.11s/it]"
     ]
    },
    {
     "name": "stdout",
     "output_type": "stream",
     "text": [
      "This is the pipeline with appositions going both ways\n"
     ]
    },
    {
     "name": "stderr",
     "output_type": "stream",
     "text": [
      " 60%|███████████████████████████████████████████████▏                              | 1369/2265 [18:20<21:37,  1.45s/it]"
     ]
    },
    {
     "name": "stdout",
     "output_type": "stream",
     "text": [
      "This is the pipeline with appositions going both ways\n"
     ]
    },
    {
     "name": "stderr",
     "output_type": "stream",
     "text": [
      " 60%|███████████████████████████████████████████████▏                              | 1370/2265 [18:21<17:28,  1.17s/it]"
     ]
    },
    {
     "name": "stdout",
     "output_type": "stream",
     "text": [
      "This is the pipeline with appositions going both ways\n"
     ]
    },
    {
     "name": "stderr",
     "output_type": "stream",
     "text": [
      " 61%|███████████████████████████████████████████████▏                              | 1371/2265 [18:22<15:38,  1.05s/it]"
     ]
    },
    {
     "name": "stdout",
     "output_type": "stream",
     "text": [
      "This is the pipeline with appositions going both ways\n"
     ]
    },
    {
     "name": "stderr",
     "output_type": "stream",
     "text": [
      " 61%|███████████████████████████████████████████████▏                              | 1372/2265 [18:22<13:35,  1.09it/s]"
     ]
    },
    {
     "name": "stdout",
     "output_type": "stream",
     "text": [
      "2025-06-05 16:01:29.421 | INFO     | pipeline.correction.correction2:generate_possible_corrections:352 - Konnte Korrekturvorschlag '*' nicht erstellen: list index out of range\n",
      "2025-06-05 16:01:29.434 | INFO     | pipeline.correction.correction2:generate_possible_corrections:459 - Konnte Korrekturvorschlag 'BOTH_FORMS' nicht erstellen: list index out of range\n",
      "This is the pipeline with appositions going both ways\n"
     ]
    },
    {
     "name": "stderr",
     "output_type": "stream",
     "text": [
      " 61%|███████████████████████████████████████████████▎                              | 1373/2265 [18:23<13:24,  1.11it/s]"
     ]
    },
    {
     "name": "stdout",
     "output_type": "stream",
     "text": [
      "This is the pipeline with appositions going both ways\n",
      "2025-06-05 16:01:31.213 | INFO     | pipeline.correction.correction2:generate_possible_corrections:352 - Konnte Korrekturvorschlag '*' nicht erstellen: list index out of range\n",
      "2025-06-05 16:01:31.223 | INFO     | pipeline.correction.correction2:generate_possible_corrections:459 - Konnte Korrekturvorschlag 'BOTH_FORMS' nicht erstellen: list index out of range\n"
     ]
    },
    {
     "name": "stderr",
     "output_type": "stream",
     "text": [
      " 61%|███████████████████████████████████████████████▎                              | 1374/2265 [18:24<14:48,  1.00it/s]"
     ]
    },
    {
     "name": "stdout",
     "output_type": "stream",
     "text": [
      "2025-06-05 16:01:31.536 | INFO     | pipeline.correction.correction2:generate_possible_corrections:352 - Konnte Korrekturvorschlag '*' nicht erstellen: list index out of range\n",
      "2025-06-05 16:01:31.544 | INFO     | pipeline.correction.correction2:generate_possible_corrections:459 - Konnte Korrekturvorschlag 'BOTH_FORMS' nicht erstellen: list index out of range\n",
      "This is the pipeline with appositions going both ways\n"
     ]
    },
    {
     "name": "stderr",
     "output_type": "stream",
     "text": [
      " 61%|███████████████████████████████████████████████▎                              | 1375/2265 [18:25<12:45,  1.16it/s]"
     ]
    },
    {
     "name": "stdout",
     "output_type": "stream",
     "text": [
      "This is the pipeline with appositions going both ways\n"
     ]
    },
    {
     "name": "stderr",
     "output_type": "stream",
     "text": [
      " 61%|███████████████████████████████████████████████▍                              | 1376/2265 [18:25<10:24,  1.42it/s]"
     ]
    },
    {
     "name": "stdout",
     "output_type": "stream",
     "text": [
      "This is the pipeline with appositions going both ways\n"
     ]
    },
    {
     "name": "stderr",
     "output_type": "stream",
     "text": [
      " 61%|███████████████████████████████████████████████▍                              | 1377/2265 [18:25<08:36,  1.72it/s]"
     ]
    },
    {
     "name": "stdout",
     "output_type": "stream",
     "text": [
      "This is the pipeline with appositions going both ways\n"
     ]
    },
    {
     "name": "stderr",
     "output_type": "stream",
     "text": [
      " 61%|███████████████████████████████████████████████▍                              | 1378/2265 [18:26<09:44,  1.52it/s]"
     ]
    },
    {
     "name": "stdout",
     "output_type": "stream",
     "text": [
      "This is the pipeline with appositions going both ways\n"
     ]
    },
    {
     "name": "stderr",
     "output_type": "stream",
     "text": [
      " 61%|███████████████████████████████████████████████▍                              | 1379/2265 [18:27<08:21,  1.76it/s]"
     ]
    },
    {
     "name": "stdout",
     "output_type": "stream",
     "text": [
      "This is the pipeline with appositions going both ways\n"
     ]
    },
    {
     "name": "stderr",
     "output_type": "stream",
     "text": [
      " 61%|███████████████████████████████████████████████▌                              | 1380/2265 [18:27<07:29,  1.97it/s]"
     ]
    },
    {
     "name": "stdout",
     "output_type": "stream",
     "text": [
      "This is the pipeline with appositions going both ways\n"
     ]
    },
    {
     "name": "stderr",
     "output_type": "stream",
     "text": [
      " 61%|███████████████████████████████████████████████▌                              | 1381/2265 [18:27<07:00,  2.10it/s]"
     ]
    },
    {
     "name": "stdout",
     "output_type": "stream",
     "text": [
      "This is the pipeline with appositions going both ways\n"
     ]
    },
    {
     "name": "stderr",
     "output_type": "stream",
     "text": [
      " 61%|███████████████████████████████████████████████▌                              | 1382/2265 [18:28<07:26,  1.98it/s]"
     ]
    },
    {
     "name": "stdout",
     "output_type": "stream",
     "text": [
      "This is the pipeline with appositions going both ways\n"
     ]
    },
    {
     "name": "stderr",
     "output_type": "stream",
     "text": [
      " 61%|███████████████████████████████████████████████▋                              | 1383/2265 [18:28<06:33,  2.24it/s]"
     ]
    },
    {
     "name": "stdout",
     "output_type": "stream",
     "text": [
      "This is the pipeline with appositions going both ways\n"
     ]
    },
    {
     "name": "stderr",
     "output_type": "stream",
     "text": [
      " 61%|███████████████████████████████████████████████▋                              | 1384/2265 [18:29<06:54,  2.13it/s]"
     ]
    },
    {
     "name": "stdout",
     "output_type": "stream",
     "text": [
      "This is the pipeline with appositions going both ways\n"
     ]
    },
    {
     "name": "stderr",
     "output_type": "stream",
     "text": [
      " 61%|███████████████████████████████████████████████▋                              | 1385/2265 [18:31<14:13,  1.03it/s]"
     ]
    },
    {
     "name": "stdout",
     "output_type": "stream",
     "text": [
      "This is the pipeline with appositions going both ways\n"
     ]
    },
    {
     "name": "stderr",
     "output_type": "stream",
     "text": [
      " 61%|███████████████████████████████████████████████▋                              | 1386/2265 [18:31<11:23,  1.29it/s]"
     ]
    },
    {
     "name": "stdout",
     "output_type": "stream",
     "text": [
      "This is the pipeline with appositions going both ways\n"
     ]
    },
    {
     "name": "stderr",
     "output_type": "stream",
     "text": [
      " 61%|███████████████████████████████████████████████▊                              | 1387/2265 [18:32<11:21,  1.29it/s]"
     ]
    },
    {
     "name": "stdout",
     "output_type": "stream",
     "text": [
      "This is the pipeline with appositions going both ways\n"
     ]
    },
    {
     "name": "stderr",
     "output_type": "stream",
     "text": [
      " 61%|███████████████████████████████████████████████▊                              | 1388/2265 [18:32<09:11,  1.59it/s]"
     ]
    },
    {
     "name": "stdout",
     "output_type": "stream",
     "text": [
      "This is the pipeline with appositions going both ways\n"
     ]
    },
    {
     "name": "stderr",
     "output_type": "stream",
     "text": [
      " 61%|███████████████████████████████████████████████▊                              | 1389/2265 [18:34<12:50,  1.14it/s]"
     ]
    },
    {
     "name": "stdout",
     "output_type": "stream",
     "text": [
      "This is the pipeline with appositions going both ways\n"
     ]
    },
    {
     "name": "stderr",
     "output_type": "stream",
     "text": [
      " 61%|███████████████████████████████████████████████▊                              | 1390/2265 [18:34<10:33,  1.38it/s]"
     ]
    },
    {
     "name": "stdout",
     "output_type": "stream",
     "text": [
      "2025-06-05 16:01:41.302 | INFO     | pipeline.correction.correction2:generate_possible_corrections:501 - Konnte Korrekturvorschlag '*' nicht erstellen: list index out of range\n",
      "2025-06-05 16:01:41.315 | INFO     | pipeline.correction.correction2:generate_possible_corrections:519 - Konnte Korrekturvorschlag 'PLURAL_*' nicht erstellen: list index out of range\n",
      "This is the pipeline with appositions going both ways\n"
     ]
    },
    {
     "name": "stderr",
     "output_type": "stream",
     "text": [
      " 61%|███████████████████████████████████████████████▉                              | 1391/2265 [18:35<08:52,  1.64it/s]"
     ]
    },
    {
     "name": "stdout",
     "output_type": "stream",
     "text": [
      "This is the pipeline with appositions going both ways\n"
     ]
    },
    {
     "name": "stderr",
     "output_type": "stream",
     "text": [
      " 61%|███████████████████████████████████████████████▉                              | 1392/2265 [18:35<07:20,  1.98it/s]"
     ]
    },
    {
     "name": "stdout",
     "output_type": "stream",
     "text": [
      "This is the pipeline with appositions going both ways\n"
     ]
    },
    {
     "name": "stderr",
     "output_type": "stream",
     "text": [
      " 62%|███████████████████████████████████████████████▉                              | 1393/2265 [18:35<08:14,  1.76it/s]"
     ]
    },
    {
     "name": "stdout",
     "output_type": "stream",
     "text": [
      "This is the pipeline with appositions going both ways\n"
     ]
    },
    {
     "name": "stderr",
     "output_type": "stream",
     "text": [
      " 62%|████████████████████████████████████████████████                              | 1394/2265 [18:36<07:01,  2.06it/s]"
     ]
    },
    {
     "name": "stdout",
     "output_type": "stream",
     "text": [
      "This is the pipeline with appositions going both ways\n"
     ]
    },
    {
     "name": "stderr",
     "output_type": "stream",
     "text": [
      " 62%|████████████████████████████████████████████████                              | 1395/2265 [18:36<07:19,  1.98it/s]"
     ]
    },
    {
     "name": "stdout",
     "output_type": "stream",
     "text": [
      "This is the pipeline with appositions going both ways\n"
     ]
    },
    {
     "name": "stderr",
     "output_type": "stream",
     "text": [
      " 62%|████████████████████████████████████████████████                              | 1396/2265 [18:37<07:39,  1.89it/s]"
     ]
    },
    {
     "name": "stdout",
     "output_type": "stream",
     "text": [
      "This is the pipeline with appositions going both ways\n"
     ]
    },
    {
     "name": "stderr",
     "output_type": "stream",
     "text": [
      " 62%|████████████████████████████████████████████████                              | 1397/2265 [18:40<20:11,  1.40s/it]"
     ]
    },
    {
     "name": "stdout",
     "output_type": "stream",
     "text": [
      "2025-06-05 16:01:47.505 | INFO     | pipeline.correction.correction2:generate_possible_corrections:352 - Konnte Korrekturvorschlag '*' nicht erstellen: list index out of range\n",
      "2025-06-05 16:01:47.513 | INFO     | pipeline.correction.correction2:generate_possible_corrections:459 - Konnte Korrekturvorschlag 'BOTH_FORMS' nicht erstellen: list index out of range\n",
      "This is the pipeline with appositions going both ways\n"
     ]
    },
    {
     "name": "stderr",
     "output_type": "stream",
     "text": [
      " 62%|████████████████████████████████████████████████▏                             | 1398/2265 [18:41<15:29,  1.07s/it]"
     ]
    },
    {
     "name": "stdout",
     "output_type": "stream",
     "text": [
      "This is the pipeline with appositions going both ways\n"
     ]
    },
    {
     "name": "stderr",
     "output_type": "stream",
     "text": [
      " 62%|████████████████████████████████████████████████▏                             | 1399/2265 [18:41<13:20,  1.08it/s]"
     ]
    },
    {
     "name": "stdout",
     "output_type": "stream",
     "text": [
      "This is the pipeline with appositions going both ways\n"
     ]
    },
    {
     "name": "stderr",
     "output_type": "stream",
     "text": [
      " 62%|████████████████████████████████████████████████▏                             | 1400/2265 [18:42<12:47,  1.13it/s]"
     ]
    },
    {
     "name": "stdout",
     "output_type": "stream",
     "text": [
      "This is the pipeline with appositions going both ways\n"
     ]
    },
    {
     "name": "stderr",
     "output_type": "stream",
     "text": [
      " 62%|████████████████████████████████████████████████▏                             | 1401/2265 [18:43<11:37,  1.24it/s]"
     ]
    },
    {
     "name": "stdout",
     "output_type": "stream",
     "text": [
      "This is the pipeline with appositions going both ways\n"
     ]
    },
    {
     "name": "stderr",
     "output_type": "stream",
     "text": [
      " 62%|████████████████████████████████████████████████▎                             | 1402/2265 [18:44<12:55,  1.11it/s]"
     ]
    },
    {
     "name": "stdout",
     "output_type": "stream",
     "text": [
      "This is the pipeline with appositions going both ways\n"
     ]
    },
    {
     "name": "stderr",
     "output_type": "stream",
     "text": [
      " 62%|████████████████████████████████████████████████▎                             | 1403/2265 [18:44<11:47,  1.22it/s]"
     ]
    },
    {
     "name": "stdout",
     "output_type": "stream",
     "text": [
      "This is the pipeline with appositions going both ways\n"
     ]
    },
    {
     "name": "stderr",
     "output_type": "stream",
     "text": [
      " 62%|████████████████████████████████████████████████▎                             | 1404/2265 [18:45<11:01,  1.30it/s]"
     ]
    },
    {
     "name": "stdout",
     "output_type": "stream",
     "text": [
      "2025-06-05 16:01:52.209 | INFO     | pipeline.correction.correction2:generate_possible_corrections:352 - Konnte Korrekturvorschlag '*' nicht erstellen: list index out of range\n",
      "2025-06-05 16:01:52.223 | INFO     | pipeline.correction.correction2:generate_possible_corrections:459 - Konnte Korrekturvorschlag 'BOTH_FORMS' nicht erstellen: list index out of range\n",
      "This is the pipeline with appositions going both ways\n"
     ]
    },
    {
     "name": "stderr",
     "output_type": "stream",
     "text": [
      " 62%|████████████████████████████████████████████████▍                             | 1405/2265 [18:45<09:33,  1.50it/s]"
     ]
    },
    {
     "name": "stdout",
     "output_type": "stream",
     "text": [
      "This is the pipeline with appositions going both ways\n"
     ]
    },
    {
     "name": "stderr",
     "output_type": "stream",
     "text": [
      " 62%|████████████████████████████████████████████████▍                             | 1406/2265 [18:46<08:01,  1.78it/s]"
     ]
    },
    {
     "name": "stdout",
     "output_type": "stream",
     "text": [
      "This is the pipeline with appositions going both ways\n"
     ]
    },
    {
     "name": "stderr",
     "output_type": "stream",
     "text": [
      " 62%|████████████████████████████████████████████████▍                             | 1407/2265 [18:46<07:03,  2.03it/s]"
     ]
    },
    {
     "name": "stdout",
     "output_type": "stream",
     "text": [
      "This is the pipeline with appositions going both ways\n"
     ]
    },
    {
     "name": "stderr",
     "output_type": "stream",
     "text": [
      " 62%|████████████████████████████████████████████████▍                             | 1408/2265 [18:47<08:36,  1.66it/s]"
     ]
    },
    {
     "name": "stdout",
     "output_type": "stream",
     "text": [
      "This is the pipeline with appositions going both ways\n"
     ]
    },
    {
     "name": "stderr",
     "output_type": "stream",
     "text": [
      " 62%|████████████████████████████████████████████████▌                             | 1409/2265 [18:48<10:37,  1.34it/s]"
     ]
    },
    {
     "name": "stdout",
     "output_type": "stream",
     "text": [
      "This is the pipeline with appositions going both ways\n"
     ]
    },
    {
     "name": "stderr",
     "output_type": "stream",
     "text": [
      " 62%|████████████████████████████████████████████████▌                             | 1410/2265 [18:49<10:19,  1.38it/s]"
     ]
    },
    {
     "name": "stdout",
     "output_type": "stream",
     "text": [
      "This is the pipeline with appositions going both ways\n"
     ]
    },
    {
     "name": "stderr",
     "output_type": "stream",
     "text": [
      " 62%|████████████████████████████████████████████████▌                             | 1411/2265 [18:49<09:09,  1.55it/s]"
     ]
    },
    {
     "name": "stdout",
     "output_type": "stream",
     "text": [
      "This is the pipeline with appositions going both ways\n",
      "2025-06-05 16:01:57.541 | ERROR    | pipeline.full_pipeline:full_pipeline:38 - Fehler bei needs_to_be_gendered() für 'Bundesvorsitzender': Es darf nur ein Element mit dieser Beziehung geben. (war mit sb, war aber [er, Position])\n"
     ]
    },
    {
     "name": "stderr",
     "output_type": "stream",
     "text": [
      " 62%|████████████████████████████████████████████████▋                             | 1412/2265 [18:51<12:16,  1.16it/s]"
     ]
    },
    {
     "name": "stdout",
     "output_type": "stream",
     "text": [
      "2025-06-05 16:01:57.827 | INFO     | pipeline.correction.correction2:generate_possible_corrections:501 - Konnte Korrekturvorschlag '*' nicht erstellen: list index out of range\n",
      "2025-06-05 16:01:57.839 | INFO     | pipeline.correction.correction2:generate_possible_corrections:519 - Konnte Korrekturvorschlag 'PLURAL_*' nicht erstellen: list index out of range\n",
      "This is the pipeline with appositions going both ways\n"
     ]
    },
    {
     "name": "stderr",
     "output_type": "stream",
     "text": [
      " 62%|████████████████████████████████████████████████▋                             | 1413/2265 [18:51<10:33,  1.34it/s]"
     ]
    },
    {
     "name": "stdout",
     "output_type": "stream",
     "text": [
      "This is the pipeline with appositions going both ways\n"
     ]
    },
    {
     "name": "stderr",
     "output_type": "stream",
     "text": [
      " 62%|████████████████████████████████████████████████▋                             | 1414/2265 [18:52<10:11,  1.39it/s]"
     ]
    },
    {
     "name": "stdout",
     "output_type": "stream",
     "text": [
      "This is the pipeline with appositions going both ways\n"
     ]
    },
    {
     "name": "stderr",
     "output_type": "stream",
     "text": [
      " 62%|████████████████████████████████████████████████▋                             | 1415/2265 [18:53<11:07,  1.27it/s]"
     ]
    },
    {
     "name": "stdout",
     "output_type": "stream",
     "text": [
      "This is the pipeline with appositions going both ways\n"
     ]
    },
    {
     "name": "stderr",
     "output_type": "stream",
     "text": [
      " 63%|████████████████████████████████████████████████▊                             | 1416/2265 [18:53<09:26,  1.50it/s]"
     ]
    },
    {
     "name": "stdout",
     "output_type": "stream",
     "text": [
      "This is the pipeline with appositions going both ways\n"
     ]
    },
    {
     "name": "stderr",
     "output_type": "stream",
     "text": [
      " 63%|████████████████████████████████████████████████▊                             | 1417/2265 [18:54<08:50,  1.60it/s]"
     ]
    },
    {
     "name": "stdout",
     "output_type": "stream",
     "text": [
      "This is the pipeline with appositions going both ways\n"
     ]
    },
    {
     "name": "stderr",
     "output_type": "stream",
     "text": [
      " 63%|████████████████████████████████████████████████▊                             | 1418/2265 [18:54<07:55,  1.78it/s]"
     ]
    },
    {
     "name": "stdout",
     "output_type": "stream",
     "text": [
      "This is the pipeline with appositions going both ways\n"
     ]
    },
    {
     "name": "stderr",
     "output_type": "stream",
     "text": [
      " 63%|████████████████████████████████████████████████▊                             | 1419/2265 [18:54<07:02,  2.00it/s]"
     ]
    },
    {
     "name": "stdout",
     "output_type": "stream",
     "text": [
      "This is the pipeline with appositions going both ways\n"
     ]
    },
    {
     "name": "stderr",
     "output_type": "stream",
     "text": [
      " 63%|████████████████████████████████████████████████▉                             | 1420/2265 [18:55<07:08,  1.97it/s]"
     ]
    },
    {
     "name": "stdout",
     "output_type": "stream",
     "text": [
      "This is the pipeline with appositions going both ways\n"
     ]
    },
    {
     "name": "stderr",
     "output_type": "stream",
     "text": [
      " 63%|████████████████████████████████████████████████▉                             | 1421/2265 [18:55<06:41,  2.10it/s]"
     ]
    },
    {
     "name": "stdout",
     "output_type": "stream",
     "text": [
      "This is the pipeline with appositions going both ways\n"
     ]
    },
    {
     "name": "stderr",
     "output_type": "stream",
     "text": [
      " 63%|████████████████████████████████████████████████▉                             | 1422/2265 [18:56<07:07,  1.97it/s]"
     ]
    },
    {
     "name": "stdout",
     "output_type": "stream",
     "text": [
      "This is the pipeline with appositions going both ways\n"
     ]
    },
    {
     "name": "stderr",
     "output_type": "stream",
     "text": [
      " 63%|█████████████████████████████████████████████████                             | 1423/2265 [18:56<06:37,  2.12it/s]"
     ]
    },
    {
     "name": "stdout",
     "output_type": "stream",
     "text": [
      "This is the pipeline with appositions going both ways\n"
     ]
    },
    {
     "name": "stderr",
     "output_type": "stream",
     "text": [
      " 63%|█████████████████████████████████████████████████                             | 1424/2265 [18:57<08:53,  1.58it/s]"
     ]
    },
    {
     "name": "stdout",
     "output_type": "stream",
     "text": [
      "2025-06-05 16:02:04.373 | INFO     | pipeline.correction.correction2:generate_possible_corrections:459 - Konnte Korrekturvorschlag 'BOTH_FORMS' nicht erstellen: Es darf nur ein Element mit dieser Beziehung geben. (Dichter mit cd, war aber [und, oder])\n",
      "This is the pipeline with appositions going both ways\n"
     ]
    },
    {
     "name": "stderr",
     "output_type": "stream",
     "text": [
      " 63%|█████████████████████████████████████████████████                             | 1425/2265 [18:58<08:01,  1.74it/s]"
     ]
    },
    {
     "name": "stdout",
     "output_type": "stream",
     "text": [
      "This is the pipeline with appositions going both ways\n"
     ]
    },
    {
     "name": "stderr",
     "output_type": "stream",
     "text": [
      " 63%|█████████████████████████████████████████████████▏                            | 1427/2265 [18:59<07:13,  1.93it/s]"
     ]
    },
    {
     "name": "stdout",
     "output_type": "stream",
     "text": [
      "This is the pipeline with appositions going both ways\n",
      "This is the pipeline with appositions going both ways\n"
     ]
    },
    {
     "name": "stderr",
     "output_type": "stream",
     "text": [
      " 63%|█████████████████████████████████████████████████▏                            | 1428/2265 [18:59<06:26,  2.16it/s]"
     ]
    },
    {
     "name": "stdout",
     "output_type": "stream",
     "text": [
      "This is the pipeline with appositions going both ways\n"
     ]
    },
    {
     "name": "stderr",
     "output_type": "stream",
     "text": [
      " 63%|█████████████████████████████████████████████████▏                            | 1429/2265 [18:59<05:43,  2.43it/s]"
     ]
    },
    {
     "name": "stdout",
     "output_type": "stream",
     "text": [
      "This is the pipeline with appositions going both ways\n"
     ]
    },
    {
     "name": "stderr",
     "output_type": "stream",
     "text": [
      " 63%|█████████████████████████████████████████████████▎                            | 1431/2265 [19:00<05:29,  2.53it/s]"
     ]
    },
    {
     "name": "stdout",
     "output_type": "stream",
     "text": [
      "This is the pipeline with appositions going both ways\n",
      "This is the pipeline with appositions going both ways\n"
     ]
    },
    {
     "name": "stderr",
     "output_type": "stream",
     "text": [
      " 63%|█████████████████████████████████████████████████▎                            | 1432/2265 [19:00<04:58,  2.79it/s]"
     ]
    },
    {
     "name": "stdout",
     "output_type": "stream",
     "text": [
      "This is the pipeline with appositions going both ways\n"
     ]
    },
    {
     "name": "stderr",
     "output_type": "stream",
     "text": [
      " 63%|█████████████████████████████████████████████████▎                            | 1433/2265 [19:01<04:30,  3.07it/s]"
     ]
    },
    {
     "name": "stdout",
     "output_type": "stream",
     "text": [
      "This is the pipeline with appositions going both ways\n"
     ]
    },
    {
     "name": "stderr",
     "output_type": "stream",
     "text": [
      " 63%|█████████████████████████████████████████████████▍                            | 1434/2265 [19:01<06:01,  2.30it/s]"
     ]
    },
    {
     "name": "stdout",
     "output_type": "stream",
     "text": [
      "This is the pipeline with appositions going both ways\n"
     ]
    },
    {
     "name": "stderr",
     "output_type": "stream",
     "text": [
      " 63%|█████████████████████████████████████████████████▍                            | 1435/2265 [19:02<05:25,  2.55it/s]"
     ]
    },
    {
     "name": "stdout",
     "output_type": "stream",
     "text": [
      "This is the pipeline with appositions going both ways\n"
     ]
    },
    {
     "name": "stderr",
     "output_type": "stream",
     "text": [
      " 63%|█████████████████████████████████████████████████▍                            | 1437/2265 [19:02<04:16,  3.23it/s]"
     ]
    },
    {
     "name": "stdout",
     "output_type": "stream",
     "text": [
      "This is the pipeline with appositions going both ways\n",
      "This is the pipeline with appositions going both ways\n"
     ]
    },
    {
     "name": "stderr",
     "output_type": "stream",
     "text": [
      " 63%|█████████████████████████████████████████████████▌                            | 1438/2265 [19:03<04:35,  3.00it/s]"
     ]
    },
    {
     "name": "stdout",
     "output_type": "stream",
     "text": [
      "This is the pipeline with appositions going both ways\n"
     ]
    },
    {
     "name": "stderr",
     "output_type": "stream",
     "text": [
      " 64%|█████████████████████████████████████████████████▌                            | 1439/2265 [19:03<05:23,  2.55it/s]"
     ]
    },
    {
     "name": "stdout",
     "output_type": "stream",
     "text": [
      "This is the pipeline with appositions going both ways\n"
     ]
    },
    {
     "name": "stderr",
     "output_type": "stream",
     "text": [
      " 64%|█████████████████████████████████████████████████▌                            | 1440/2265 [19:03<05:18,  2.59it/s]"
     ]
    },
    {
     "name": "stdout",
     "output_type": "stream",
     "text": [
      "This is the pipeline with appositions going both ways\n"
     ]
    },
    {
     "name": "stderr",
     "output_type": "stream",
     "text": [
      " 64%|█████████████████████████████████████████████████▌                            | 1441/2265 [19:04<04:57,  2.77it/s]"
     ]
    },
    {
     "name": "stdout",
     "output_type": "stream",
     "text": [
      "This is the pipeline with appositions going both ways\n"
     ]
    },
    {
     "name": "stderr",
     "output_type": "stream",
     "text": [
      " 64%|█████████████████████████████████████████████████▋                            | 1442/2265 [19:04<06:00,  2.28it/s]"
     ]
    },
    {
     "name": "stdout",
     "output_type": "stream",
     "text": [
      "This is the pipeline with appositions going both ways\n"
     ]
    },
    {
     "name": "stderr",
     "output_type": "stream",
     "text": [
      " 64%|█████████████████████████████████████████████████▋                            | 1443/2265 [19:05<06:14,  2.19it/s]"
     ]
    },
    {
     "name": "stdout",
     "output_type": "stream",
     "text": [
      "This is the pipeline with appositions going both ways\n"
     ]
    },
    {
     "name": "stderr",
     "output_type": "stream",
     "text": [
      " 64%|█████████████████████████████████████████████████▋                            | 1444/2265 [19:05<05:25,  2.52it/s]"
     ]
    },
    {
     "name": "stdout",
     "output_type": "stream",
     "text": [
      "This is the pipeline with appositions going both ways\n"
     ]
    },
    {
     "name": "stderr",
     "output_type": "stream",
     "text": [
      " 64%|█████████████████████████████████████████████████▊                            | 1445/2265 [19:05<04:49,  2.83it/s]"
     ]
    },
    {
     "name": "stdout",
     "output_type": "stream",
     "text": [
      "This is the pipeline with appositions going both ways\n"
     ]
    },
    {
     "name": "stderr",
     "output_type": "stream",
     "text": [
      " 64%|█████████████████████████████████████████████████▊                            | 1447/2265 [19:06<04:03,  3.36it/s]"
     ]
    },
    {
     "name": "stdout",
     "output_type": "stream",
     "text": [
      "This is the pipeline with appositions going both ways\n",
      "This is the pipeline with appositions going both ways\n"
     ]
    },
    {
     "name": "stderr",
     "output_type": "stream",
     "text": [
      " 64%|█████████████████████████████████████████████████▊                            | 1448/2265 [19:06<03:28,  3.91it/s]"
     ]
    },
    {
     "name": "stdout",
     "output_type": "stream",
     "text": [
      "This is the pipeline with appositions going both ways\n"
     ]
    },
    {
     "name": "stderr",
     "output_type": "stream",
     "text": [
      " 64%|█████████████████████████████████████████████████▉                            | 1449/2265 [19:06<03:35,  3.79it/s]"
     ]
    },
    {
     "name": "stdout",
     "output_type": "stream",
     "text": [
      "This is the pipeline with appositions going both ways\n"
     ]
    },
    {
     "name": "stderr",
     "output_type": "stream",
     "text": [
      " 64%|█████████████████████████████████████████████████▉                            | 1451/2265 [19:07<02:52,  4.71it/s]"
     ]
    },
    {
     "name": "stdout",
     "output_type": "stream",
     "text": [
      "This is the pipeline with appositions going both ways\n",
      "This is the pipeline with appositions going both ways\n"
     ]
    },
    {
     "name": "stderr",
     "output_type": "stream",
     "text": [
      " 64%|██████████████████████████████████████████████████                            | 1452/2265 [19:07<03:27,  3.93it/s]"
     ]
    },
    {
     "name": "stdout",
     "output_type": "stream",
     "text": [
      "This is the pipeline with appositions going both ways\n"
     ]
    },
    {
     "name": "stderr",
     "output_type": "stream",
     "text": [
      " 64%|██████████████████████████████████████████████████                            | 1453/2265 [19:07<03:42,  3.65it/s]"
     ]
    },
    {
     "name": "stdout",
     "output_type": "stream",
     "text": [
      "This is the pipeline with appositions going both ways\n"
     ]
    },
    {
     "name": "stderr",
     "output_type": "stream",
     "text": [
      " 64%|██████████████████████████████████████████████████                            | 1455/2265 [19:08<04:02,  3.34it/s]"
     ]
    },
    {
     "name": "stdout",
     "output_type": "stream",
     "text": [
      "This is the pipeline with appositions going both ways\n",
      "This is the pipeline with appositions going both ways\n"
     ]
    },
    {
     "name": "stderr",
     "output_type": "stream",
     "text": [
      " 64%|██████████████████████████████████████████████████▏                           | 1456/2265 [19:08<03:37,  3.71it/s]"
     ]
    },
    {
     "name": "stdout",
     "output_type": "stream",
     "text": [
      "This is the pipeline with appositions going both ways\n"
     ]
    },
    {
     "name": "stderr",
     "output_type": "stream",
     "text": [
      " 64%|██████████████████████████████████████████████████▏                           | 1457/2265 [19:09<04:40,  2.88it/s]"
     ]
    },
    {
     "name": "stdout",
     "output_type": "stream",
     "text": [
      "This is the pipeline with appositions going both ways\n"
     ]
    },
    {
     "name": "stderr",
     "output_type": "stream",
     "text": [
      " 64%|██████████████████████████████████████████████████▏                           | 1458/2265 [19:09<04:19,  3.11it/s]"
     ]
    },
    {
     "name": "stdout",
     "output_type": "stream",
     "text": [
      "This is the pipeline with appositions going both ways\n"
     ]
    },
    {
     "name": "stderr",
     "output_type": "stream",
     "text": [
      " 64%|██████████████████████████████████████████████████▏                           | 1459/2265 [19:09<03:52,  3.46it/s]"
     ]
    },
    {
     "name": "stdout",
     "output_type": "stream",
     "text": [
      "This is the pipeline with appositions going both ways\n"
     ]
    },
    {
     "name": "stderr",
     "output_type": "stream",
     "text": [
      " 64%|██████████████████████████████████████████████████▎                           | 1460/2265 [19:10<03:58,  3.37it/s]"
     ]
    },
    {
     "name": "stdout",
     "output_type": "stream",
     "text": [
      "This is the pipeline with appositions going both ways\n"
     ]
    },
    {
     "name": "stderr",
     "output_type": "stream",
     "text": [
      " 65%|██████████████████████████████████████████████████▎                           | 1461/2265 [19:11<06:31,  2.06it/s]"
     ]
    },
    {
     "name": "stdout",
     "output_type": "stream",
     "text": [
      "This is the pipeline with appositions going both ways\n"
     ]
    },
    {
     "name": "stderr",
     "output_type": "stream",
     "text": [
      " 65%|██████████████████████████████████████████████████▎                           | 1462/2265 [19:11<06:04,  2.21it/s]"
     ]
    },
    {
     "name": "stdout",
     "output_type": "stream",
     "text": [
      "This is the pipeline with appositions going both ways\n"
     ]
    },
    {
     "name": "stderr",
     "output_type": "stream",
     "text": [
      " 65%|██████████████████████████████████████████████████▍                           | 1463/2265 [19:11<05:45,  2.32it/s]"
     ]
    },
    {
     "name": "stdout",
     "output_type": "stream",
     "text": [
      "This is the pipeline with appositions going both ways\n"
     ]
    },
    {
     "name": "stderr",
     "output_type": "stream",
     "text": [
      " 65%|██████████████████████████████████████████████████▍                           | 1464/2265 [19:12<06:20,  2.10it/s]"
     ]
    },
    {
     "name": "stdout",
     "output_type": "stream",
     "text": [
      "This is the pipeline with appositions going both ways\n"
     ]
    },
    {
     "name": "stderr",
     "output_type": "stream",
     "text": [
      " 65%|██████████████████████████████████████████████████▍                           | 1465/2265 [19:12<06:10,  2.16it/s]"
     ]
    },
    {
     "name": "stdout",
     "output_type": "stream",
     "text": [
      "This is the pipeline with appositions going both ways\n"
     ]
    },
    {
     "name": "stderr",
     "output_type": "stream",
     "text": [
      " 65%|██████████████████████████████████████████████████▍                           | 1466/2265 [19:13<05:18,  2.51it/s]"
     ]
    },
    {
     "name": "stdout",
     "output_type": "stream",
     "text": [
      "This is the pipeline with appositions going both ways\n"
     ]
    },
    {
     "name": "stderr",
     "output_type": "stream",
     "text": [
      " 65%|██████████████████████████████████████████████████▌                           | 1467/2265 [19:13<04:47,  2.78it/s]"
     ]
    },
    {
     "name": "stdout",
     "output_type": "stream",
     "text": [
      "This is the pipeline with appositions going both ways\n"
     ]
    },
    {
     "name": "stderr",
     "output_type": "stream",
     "text": [
      " 65%|██████████████████████████████████████████████████▌                           | 1468/2265 [19:13<04:23,  3.03it/s]"
     ]
    },
    {
     "name": "stdout",
     "output_type": "stream",
     "text": [
      "This is the pipeline with appositions going both ways\n",
      "2025-06-05 16:02:21.169 | INFO     | pipeline.correction.correction2:generate_possible_corrections:501 - Konnte Korrekturvorschlag '*' nicht erstellen: list index out of range\n",
      "2025-06-05 16:02:21.182 | INFO     | pipeline.correction.correction2:generate_possible_corrections:519 - Konnte Korrekturvorschlag 'PLURAL_*' nicht erstellen: list index out of range\n"
     ]
    },
    {
     "name": "stderr",
     "output_type": "stream",
     "text": [
      " 65%|██████████████████████████████████████████████████▌                           | 1469/2265 [19:14<08:02,  1.65it/s]"
     ]
    },
    {
     "name": "stdout",
     "output_type": "stream",
     "text": [
      "2025-06-05 16:02:21.425 | INFO     | pipeline.correction.correction2:generate_possible_corrections:352 - Konnte Korrekturvorschlag '*' nicht erstellen: list index out of range\n",
      "2025-06-05 16:02:21.433 | INFO     | pipeline.correction.correction2:generate_possible_corrections:459 - Konnte Korrekturvorschlag 'BOTH_FORMS' nicht erstellen: list index out of range\n",
      "2025-06-05 16:02:21.458 | INFO     | pipeline.correction.correction2:generate_possible_corrections:352 - Konnte Korrekturvorschlag '*' nicht erstellen: list index out of range\n",
      "2025-06-05 16:02:21.466 | INFO     | pipeline.correction.correction2:generate_possible_corrections:459 - Konnte Korrekturvorschlag 'BOTH_FORMS' nicht erstellen: list index out of range\n",
      "2025-06-05 16:02:21.489 | INFO     | pipeline.correction.correction2:generate_possible_corrections:501 - Konnte Korrekturvorschlag '*' nicht erstellen: list index out of range\n",
      "2025-06-05 16:02:21.496 | INFO     | pipeline.correction.correction2:generate_possible_corrections:519 - Konnte Korrekturvorschlag 'PLURAL_*' nicht erstellen: list index out of range\n",
      "2025-06-05 16:02:21.519 | INFO     | pipeline.correction.correction2:generate_possible_corrections:501 - Konnte Korrekturvorschlag '*' nicht erstellen: list index out of range\n",
      "2025-06-05 16:02:21.527 | INFO     | pipeline.correction.correction2:generate_possible_corrections:519 - Konnte Korrekturvorschlag 'PLURAL_*' nicht erstellen: list index out of range\n",
      "2025-06-05 16:02:21.568 | INFO     | pipeline.correction.correction2:generate_possible_corrections:501 - Konnte Korrekturvorschlag '*' nicht erstellen: list index out of range\n",
      "2025-06-05 16:02:21.576 | INFO     | pipeline.correction.correction2:generate_possible_corrections:519 - Konnte Korrekturvorschlag 'PLURAL_*' nicht erstellen: list index out of range\n",
      "This is the pipeline with appositions going both ways\n"
     ]
    },
    {
     "name": "stderr",
     "output_type": "stream",
     "text": [
      " 65%|██████████████████████████████████████████████████▌                           | 1470/2265 [19:17<15:07,  1.14s/it]"
     ]
    },
    {
     "name": "stdout",
     "output_type": "stream",
     "text": [
      "This is the pipeline with appositions going both ways\n"
     ]
    },
    {
     "name": "stderr",
     "output_type": "stream",
     "text": [
      " 65%|██████████████████████████████████████████████████▋                           | 1471/2265 [19:19<20:22,  1.54s/it]"
     ]
    },
    {
     "name": "stdout",
     "output_type": "stream",
     "text": [
      "This is the pipeline with appositions going both ways\n"
     ]
    },
    {
     "name": "stderr",
     "output_type": "stream",
     "text": [
      " 65%|██████████████████████████████████████████████████▋                           | 1472/2265 [19:20<16:38,  1.26s/it]"
     ]
    },
    {
     "name": "stdout",
     "output_type": "stream",
     "text": [
      "This is the pipeline with appositions going both ways\n"
     ]
    },
    {
     "name": "stderr",
     "output_type": "stream",
     "text": [
      " 65%|██████████████████████████████████████████████████▋                           | 1473/2265 [19:20<13:26,  1.02s/it]"
     ]
    },
    {
     "name": "stdout",
     "output_type": "stream",
     "text": [
      "This is the pipeline with appositions going both ways\n"
     ]
    },
    {
     "name": "stderr",
     "output_type": "stream",
     "text": [
      " 65%|██████████████████████████████████████████████████▊                           | 1474/2265 [19:23<19:56,  1.51s/it]"
     ]
    },
    {
     "name": "stdout",
     "output_type": "stream",
     "text": [
      "This is the pipeline with appositions going both ways\n"
     ]
    },
    {
     "name": "stderr",
     "output_type": "stream",
     "text": [
      " 65%|██████████████████████████████████████████████████▊                           | 1475/2265 [19:24<17:59,  1.37s/it]"
     ]
    },
    {
     "name": "stdout",
     "output_type": "stream",
     "text": [
      "This is the pipeline with appositions going both ways\n"
     ]
    },
    {
     "name": "stderr",
     "output_type": "stream",
     "text": [
      " 65%|██████████████████████████████████████████████████▊                           | 1476/2265 [19:25<17:28,  1.33s/it]"
     ]
    },
    {
     "name": "stdout",
     "output_type": "stream",
     "text": [
      "This is the pipeline with appositions going both ways\n"
     ]
    },
    {
     "name": "stderr",
     "output_type": "stream",
     "text": [
      " 65%|██████████████████████████████████████████████████▊                           | 1477/2265 [19:28<22:24,  1.71s/it]"
     ]
    },
    {
     "name": "stdout",
     "output_type": "stream",
     "text": [
      "This is the pipeline with appositions going both ways\n"
     ]
    },
    {
     "name": "stderr",
     "output_type": "stream",
     "text": [
      " 65%|██████████████████████████████████████████████████▉                           | 1478/2265 [19:30<26:07,  1.99s/it]"
     ]
    },
    {
     "name": "stdout",
     "output_type": "stream",
     "text": [
      "2025-06-05 16:02:37.650 | INFO     | pipeline.correction.correction2:generate_possible_corrections:501 - Konnte Korrekturvorschlag '*' nicht erstellen: list index out of range\n",
      "2025-06-05 16:02:37.663 | INFO     | pipeline.correction.correction2:generate_possible_corrections:519 - Konnte Korrekturvorschlag 'PLURAL_*' nicht erstellen: list index out of range\n",
      "This is the pipeline with appositions going both ways\n"
     ]
    },
    {
     "name": "stderr",
     "output_type": "stream",
     "text": [
      " 65%|██████████████████████████████████████████████████▉                           | 1479/2265 [19:31<21:52,  1.67s/it]"
     ]
    },
    {
     "name": "stdout",
     "output_type": "stream",
     "text": [
      "This is the pipeline with appositions going both ways\n"
     ]
    },
    {
     "name": "stderr",
     "output_type": "stream",
     "text": [
      " 65%|██████████████████████████████████████████████████▉                           | 1480/2265 [19:34<24:18,  1.86s/it]"
     ]
    },
    {
     "name": "stdout",
     "output_type": "stream",
     "text": [
      "This is the pipeline with appositions going both ways\n"
     ]
    },
    {
     "name": "stderr",
     "output_type": "stream",
     "text": [
      " 65%|███████████████████████████████████████████████████                           | 1481/2265 [19:34<18:43,  1.43s/it]"
     ]
    },
    {
     "name": "stdout",
     "output_type": "stream",
     "text": [
      "This is the pipeline with appositions going both ways\n"
     ]
    },
    {
     "name": "stderr",
     "output_type": "stream",
     "text": [
      " 65%|███████████████████████████████████████████████████                           | 1483/2265 [19:35<12:57,  1.01it/s]"
     ]
    },
    {
     "name": "stdout",
     "output_type": "stream",
     "text": [
      "This is the pipeline with appositions going both ways\n",
      "This is the pipeline with appositions going both ways\n"
     ]
    },
    {
     "name": "stderr",
     "output_type": "stream",
     "text": [
      " 66%|███████████████████████████████████████████████████                           | 1484/2265 [19:38<19:43,  1.51s/it]"
     ]
    },
    {
     "name": "stdout",
     "output_type": "stream",
     "text": [
      "This is the pipeline with appositions going both ways\n",
      "2025-06-05 16:02:50.833 | INFO     | pipeline.correction.correction2:generate_possible_corrections:352 - Konnte Korrekturvorschlag '*' nicht erstellen: list index out of range\n",
      "2025-06-05 16:02:50.841 | INFO     | pipeline.correction.correction2:generate_possible_corrections:459 - Konnte Korrekturvorschlag 'BOTH_FORMS' nicht erstellen: list index out of range\n"
     ]
    },
    {
     "name": "stderr",
     "output_type": "stream",
     "text": [
      " 66%|███████████████████████████████████████████████████▏                          | 1485/2265 [19:44<38:12,  2.94s/it]"
     ]
    },
    {
     "name": "stdout",
     "output_type": "stream",
     "text": [
      "This is the pipeline with appositions going both ways\n"
     ]
    },
    {
     "name": "stderr",
     "output_type": "stream",
     "text": [
      " 66%|███████████████████████████████████████████████████▏                          | 1486/2265 [19:45<28:52,  2.22s/it]"
     ]
    },
    {
     "name": "stdout",
     "output_type": "stream",
     "text": [
      "This is the pipeline with appositions going both ways\n"
     ]
    },
    {
     "name": "stderr",
     "output_type": "stream",
     "text": [
      " 66%|███████████████████████████████████████████████████▏                          | 1487/2265 [19:50<38:58,  3.01s/it]"
     ]
    },
    {
     "name": "stdout",
     "output_type": "stream",
     "text": [
      "This is the pipeline with appositions going both ways\n"
     ]
    },
    {
     "name": "stderr",
     "output_type": "stream",
     "text": [
      " 66%|███████████████████████████████████████████████████▏                          | 1488/2265 [19:50<28:47,  2.22s/it]"
     ]
    },
    {
     "name": "stdout",
     "output_type": "stream",
     "text": [
      "2025-06-05 16:02:57.395 | INFO     | pipeline.correction.correction2:generate_possible_corrections:501 - Konnte Korrekturvorschlag '*' nicht erstellen: list index out of range\n",
      "2025-06-05 16:02:57.408 | INFO     | pipeline.correction.correction2:generate_possible_corrections:519 - Konnte Korrekturvorschlag 'PLURAL_*' nicht erstellen: list index out of range\n",
      "This is the pipeline with appositions going both ways\n"
     ]
    },
    {
     "name": "stderr",
     "output_type": "stream",
     "text": [
      " 66%|███████████████████████████████████████████████████▎                          | 1489/2265 [19:50<21:07,  1.63s/it]"
     ]
    },
    {
     "name": "stdout",
     "output_type": "stream",
     "text": [
      "This is the pipeline with appositions going both ways\n",
      "2025-06-05 16:02:58.902 | INFO     | pipeline.correction.correction2:generate_possible_corrections:352 - Konnte Korrekturvorschlag '*' nicht erstellen: list index out of range\n",
      "2025-06-05 16:02:58.911 | INFO     | pipeline.correction.correction2:generate_possible_corrections:459 - Konnte Korrekturvorschlag 'BOTH_FORMS' nicht erstellen: list index out of range\n"
     ]
    },
    {
     "name": "stderr",
     "output_type": "stream",
     "text": [
      " 66%|███████████████████████████████████████████████████▎                          | 1490/2265 [19:52<20:23,  1.58s/it]"
     ]
    },
    {
     "name": "stdout",
     "output_type": "stream",
     "text": [
      "This is the pipeline with appositions going both ways\n",
      "2025-06-05 16:02:59.902 | INFO     | pipeline.correction.correction2:generate_possible_corrections:501 - Konnte Korrekturvorschlag '*' nicht erstellen: list index out of range\n",
      "2025-06-05 16:02:59.915 | INFO     | pipeline.correction.correction2:generate_possible_corrections:519 - Konnte Korrekturvorschlag 'PLURAL_*' nicht erstellen: list index out of range\n",
      "2025-06-05 16:02:59.959 | INFO     | pipeline.correction.correction2:generate_possible_corrections:501 - Konnte Korrekturvorschlag '*' nicht erstellen: list index out of range\n",
      "2025-06-05 16:02:59.971 | INFO     | pipeline.correction.correction2:generate_possible_corrections:519 - Konnte Korrekturvorschlag 'PLURAL_*' nicht erstellen: list index out of range\n"
     ]
    },
    {
     "name": "stderr",
     "output_type": "stream",
     "text": [
      " 66%|███████████████████████████████████████████████████▎                          | 1491/2265 [19:53<18:12,  1.41s/it]"
     ]
    },
    {
     "name": "stdout",
     "output_type": "stream",
     "text": [
      "This is the pipeline with appositions going both ways\n"
     ]
    },
    {
     "name": "stderr",
     "output_type": "stream",
     "text": [
      " 66%|███████████████████████████████████████████████████▍                          | 1492/2265 [19:53<14:10,  1.10s/it]"
     ]
    },
    {
     "name": "stdout",
     "output_type": "stream",
     "text": [
      "This is the pipeline with appositions going both ways\n"
     ]
    },
    {
     "name": "stderr",
     "output_type": "stream",
     "text": [
      " 66%|███████████████████████████████████████████████████▍                          | 1493/2265 [19:55<17:44,  1.38s/it]"
     ]
    },
    {
     "name": "stdout",
     "output_type": "stream",
     "text": [
      "This is the pipeline with appositions going both ways\n"
     ]
    },
    {
     "name": "stderr",
     "output_type": "stream",
     "text": [
      " 66%|███████████████████████████████████████████████████▍                          | 1494/2265 [19:56<15:17,  1.19s/it]"
     ]
    },
    {
     "name": "stdout",
     "output_type": "stream",
     "text": [
      "This is the pipeline with appositions going both ways\n"
     ]
    },
    {
     "name": "stderr",
     "output_type": "stream",
     "text": [
      " 66%|███████████████████████████████████████████████████▍                          | 1495/2265 [19:57<15:22,  1.20s/it]"
     ]
    },
    {
     "name": "stdout",
     "output_type": "stream",
     "text": [
      "This is the pipeline with appositions going both ways\n"
     ]
    },
    {
     "name": "stderr",
     "output_type": "stream",
     "text": [
      " 66%|███████████████████████████████████████████████████▌                          | 1496/2265 [19:59<19:07,  1.49s/it]"
     ]
    },
    {
     "name": "stdout",
     "output_type": "stream",
     "text": [
      "This is the pipeline with appositions going both ways\n"
     ]
    },
    {
     "name": "stderr",
     "output_type": "stream",
     "text": [
      " 66%|███████████████████████████████████████████████████▌                          | 1497/2265 [20:01<20:01,  1.56s/it]"
     ]
    },
    {
     "name": "stdout",
     "output_type": "stream",
     "text": [
      "This is the pipeline with appositions going both ways\n"
     ]
    },
    {
     "name": "stderr",
     "output_type": "stream",
     "text": [
      " 66%|███████████████████████████████████████████████████▌                          | 1498/2265 [20:04<24:43,  1.93s/it]"
     ]
    },
    {
     "name": "stdout",
     "output_type": "stream",
     "text": [
      "2025-06-05 16:03:11.135 | ERROR    | pipeline.full_pipeline:full_pipeline:38 - Fehler bei needs_to_be_gendered() für 'Rentner': 'NoneType' object is not iterable\n",
      "This is the pipeline with appositions going both ways\n"
     ]
    },
    {
     "name": "stderr",
     "output_type": "stream",
     "text": [
      " 66%|███████████████████████████████████████████████████▌                          | 1499/2265 [20:05<22:03,  1.73s/it]"
     ]
    },
    {
     "name": "stdout",
     "output_type": "stream",
     "text": [
      "This is the pipeline with appositions going both ways\n"
     ]
    },
    {
     "name": "stderr",
     "output_type": "stream",
     "text": [
      " 66%|███████████████████████████████████████████████████▋                          | 1500/2265 [20:06<16:39,  1.31s/it]"
     ]
    },
    {
     "name": "stdout",
     "output_type": "stream",
     "text": [
      "This is the pipeline with appositions going both ways\n"
     ]
    },
    {
     "name": "stderr",
     "output_type": "stream",
     "text": [
      " 66%|███████████████████████████████████████████████████▋                          | 1502/2265 [20:07<10:59,  1.16it/s]"
     ]
    },
    {
     "name": "stdout",
     "output_type": "stream",
     "text": [
      "This is the pipeline with appositions going both ways\n",
      "This is the pipeline with appositions going both ways\n"
     ]
    },
    {
     "name": "stderr",
     "output_type": "stream",
     "text": [
      " 66%|███████████████████████████████████████████████████▊                          | 1503/2265 [20:08<14:15,  1.12s/it]"
     ]
    },
    {
     "name": "stdout",
     "output_type": "stream",
     "text": [
      "This is the pipeline with appositions going both ways\n"
     ]
    },
    {
     "name": "stderr",
     "output_type": "stream",
     "text": [
      " 66%|███████████████████████████████████████████████████▊                          | 1504/2265 [20:09<11:58,  1.06it/s]"
     ]
    },
    {
     "name": "stdout",
     "output_type": "stream",
     "text": [
      "This is the pipeline with appositions going both ways\n"
     ]
    },
    {
     "name": "stderr",
     "output_type": "stream",
     "text": [
      " 66%|███████████████████████████████████████████████████▊                          | 1505/2265 [20:11<15:31,  1.23s/it]"
     ]
    },
    {
     "name": "stdout",
     "output_type": "stream",
     "text": [
      "2025-06-05 16:03:17.957 | INFO     | pipeline.correction.correction2:generate_possible_corrections:352 - Konnte Korrekturvorschlag '*' nicht erstellen: list index out of range\n",
      "2025-06-05 16:03:17.970 | INFO     | pipeline.correction.correction2:generate_possible_corrections:459 - Konnte Korrekturvorschlag 'BOTH_FORMS' nicht erstellen: list index out of range\n",
      "This is the pipeline with appositions going both ways\n"
     ]
    },
    {
     "name": "stderr",
     "output_type": "stream",
     "text": [
      " 66%|███████████████████████████████████████████████████▊                          | 1506/2265 [20:11<13:07,  1.04s/it]"
     ]
    },
    {
     "name": "stdout",
     "output_type": "stream",
     "text": [
      "This is the pipeline with appositions going both ways\n",
      "2025-06-05 16:03:19.605 | INFO     | pipeline.correction.correction2:generate_possible_corrections:352 - Konnte Korrekturvorschlag '*' nicht erstellen: list index out of range\n",
      "2025-06-05 16:03:19.617 | INFO     | pipeline.correction.correction2:generate_possible_corrections:459 - Konnte Korrekturvorschlag 'BOTH_FORMS' nicht erstellen: list index out of range\n",
      "2025-06-05 16:03:19.691 | INFO     | pipeline.correction.correction2:generate_possible_corrections:501 - Konnte Korrekturvorschlag '*' nicht erstellen: object of type 'NoneType' has no len()\n",
      "2025-06-05 16:03:19.692 | INFO     | pipeline.correction.correction2:generate_possible_corrections:519 - Konnte Korrekturvorschlag 'PLURAL_*' nicht erstellen: object of type 'NoneType' has no len()\n"
     ]
    },
    {
     "name": "stderr",
     "output_type": "stream",
     "text": [
      " 67%|███████████████████████████████████████████████████▉                          | 1507/2265 [20:13<14:36,  1.16s/it]"
     ]
    },
    {
     "name": "stdout",
     "output_type": "stream",
     "text": [
      "This is the pipeline with appositions going both ways\n"
     ]
    },
    {
     "name": "stderr",
     "output_type": "stream",
     "text": [
      " 67%|███████████████████████████████████████████████████▉                          | 1508/2265 [20:13<11:43,  1.08it/s]"
     ]
    },
    {
     "name": "stdout",
     "output_type": "stream",
     "text": [
      "This is the pipeline with appositions going both ways\n"
     ]
    },
    {
     "name": "stderr",
     "output_type": "stream",
     "text": [
      " 67%|███████████████████████████████████████████████████▉                          | 1509/2265 [20:14<09:55,  1.27it/s]"
     ]
    },
    {
     "name": "stdout",
     "output_type": "stream",
     "text": [
      "This is the pipeline with appositions going both ways\n"
     ]
    },
    {
     "name": "stderr",
     "output_type": "stream",
     "text": [
      " 67%|████████████████████████████████████████████████████                          | 1510/2265 [20:14<09:06,  1.38it/s]"
     ]
    },
    {
     "name": "stdout",
     "output_type": "stream",
     "text": [
      "2025-06-05 16:03:21.302 | INFO     | pipeline.correction.correction2:generate_possible_corrections:501 - Konnte Korrekturvorschlag '*' nicht erstellen: list index out of range\n",
      "2025-06-05 16:03:21.316 | INFO     | pipeline.correction.correction2:generate_possible_corrections:519 - Konnte Korrekturvorschlag 'PLURAL_*' nicht erstellen: list index out of range\n",
      "This is the pipeline with appositions going both ways\n"
     ]
    },
    {
     "name": "stderr",
     "output_type": "stream",
     "text": [
      " 67%|████████████████████████████████████████████████████                          | 1511/2265 [20:15<07:38,  1.64it/s]"
     ]
    },
    {
     "name": "stdout",
     "output_type": "stream",
     "text": [
      "2025-06-05 16:03:21.686 | INFO     | pipeline.correction.correction2:generate_possible_corrections:501 - Konnte Korrekturvorschlag '*' nicht erstellen: list index out of range\n",
      "2025-06-05 16:03:21.700 | INFO     | pipeline.correction.correction2:generate_possible_corrections:519 - Konnte Korrekturvorschlag 'PLURAL_*' nicht erstellen: list index out of range\n",
      "This is the pipeline with appositions going both ways\n"
     ]
    },
    {
     "name": "stderr",
     "output_type": "stream",
     "text": [
      " 67%|████████████████████████████████████████████████████                          | 1512/2265 [20:15<08:50,  1.42it/s]"
     ]
    },
    {
     "name": "stdout",
     "output_type": "stream",
     "text": [
      "This is the pipeline with appositions going both ways\n"
     ]
    },
    {
     "name": "stderr",
     "output_type": "stream",
     "text": [
      " 67%|████████████████████████████████████████████████████                          | 1513/2265 [20:16<07:27,  1.68it/s]"
     ]
    },
    {
     "name": "stdout",
     "output_type": "stream",
     "text": [
      "This is the pipeline with appositions going both ways\n"
     ]
    },
    {
     "name": "stderr",
     "output_type": "stream",
     "text": [
      " 67%|████████████████████████████████████████████████████▏                         | 1514/2265 [20:17<08:28,  1.48it/s]"
     ]
    },
    {
     "name": "stdout",
     "output_type": "stream",
     "text": [
      "This is the pipeline with appositions going both ways\n"
     ]
    },
    {
     "name": "stderr",
     "output_type": "stream",
     "text": [
      " 67%|████████████████████████████████████████████████████▏                         | 1515/2265 [20:17<07:23,  1.69it/s]"
     ]
    },
    {
     "name": "stdout",
     "output_type": "stream",
     "text": [
      "This is the pipeline with appositions going both ways\n"
     ]
    },
    {
     "name": "stderr",
     "output_type": "stream",
     "text": [
      " 67%|████████████████████████████████████████████████████▏                         | 1516/2265 [20:18<07:48,  1.60it/s]"
     ]
    },
    {
     "name": "stdout",
     "output_type": "stream",
     "text": [
      "This is the pipeline with appositions going both ways\n"
     ]
    },
    {
     "name": "stderr",
     "output_type": "stream",
     "text": [
      " 67%|████████████████████████████████████████████████████▏                         | 1517/2265 [20:19<08:19,  1.50it/s]"
     ]
    },
    {
     "name": "stdout",
     "output_type": "stream",
     "text": [
      "This is the pipeline with appositions going both ways\n"
     ]
    },
    {
     "name": "stderr",
     "output_type": "stream",
     "text": [
      " 67%|████████████████████████████████████████████████████▎                         | 1518/2265 [20:19<09:06,  1.37it/s]"
     ]
    },
    {
     "name": "stdout",
     "output_type": "stream",
     "text": [
      "This is the pipeline with appositions going both ways\n"
     ]
    },
    {
     "name": "stderr",
     "output_type": "stream",
     "text": [
      " 67%|████████████████████████████████████████████████████▎                         | 1519/2265 [20:20<08:15,  1.51it/s]"
     ]
    },
    {
     "name": "stdout",
     "output_type": "stream",
     "text": [
      "This is the pipeline with appositions going both ways\n"
     ]
    },
    {
     "name": "stderr",
     "output_type": "stream",
     "text": [
      " 67%|████████████████████████████████████████████████████▎                         | 1520/2265 [20:21<08:56,  1.39it/s]"
     ]
    },
    {
     "name": "stdout",
     "output_type": "stream",
     "text": [
      "This is the pipeline with appositions going both ways\n"
     ]
    },
    {
     "name": "stderr",
     "output_type": "stream",
     "text": [
      " 67%|████████████████████████████████████████████████████▍                         | 1521/2265 [20:21<08:28,  1.46it/s]"
     ]
    },
    {
     "name": "stdout",
     "output_type": "stream",
     "text": [
      "This is the pipeline with appositions going both ways\n"
     ]
    },
    {
     "name": "stderr",
     "output_type": "stream",
     "text": [
      " 67%|████████████████████████████████████████████████████▍                         | 1522/2265 [20:22<06:44,  1.84it/s]"
     ]
    },
    {
     "name": "stdout",
     "output_type": "stream",
     "text": [
      "This is the pipeline with appositions going both ways\n"
     ]
    },
    {
     "name": "stderr",
     "output_type": "stream",
     "text": [
      " 67%|████████████████████████████████████████████████████▍                         | 1523/2265 [20:22<06:07,  2.02it/s]"
     ]
    },
    {
     "name": "stdout",
     "output_type": "stream",
     "text": [
      "This is the pipeline with appositions going both ways\n"
     ]
    },
    {
     "name": "stderr",
     "output_type": "stream",
     "text": [
      " 67%|████████████████████████████████████████████████████▍                         | 1524/2265 [20:23<07:53,  1.57it/s]"
     ]
    },
    {
     "name": "stdout",
     "output_type": "stream",
     "text": [
      "This is the pipeline with appositions going both ways\n"
     ]
    },
    {
     "name": "stderr",
     "output_type": "stream",
     "text": [
      " 67%|████████████████████████████████████████████████████▌                         | 1525/2265 [20:24<09:49,  1.26it/s]"
     ]
    },
    {
     "name": "stdout",
     "output_type": "stream",
     "text": [
      "This is the pipeline with appositions going both ways\n"
     ]
    },
    {
     "name": "stderr",
     "output_type": "stream",
     "text": [
      " 67%|████████████████████████████████████████████████████▌                         | 1526/2265 [20:25<11:00,  1.12it/s]"
     ]
    },
    {
     "name": "stdout",
     "output_type": "stream",
     "text": [
      "This is the pipeline with appositions going both ways\n"
     ]
    },
    {
     "name": "stderr",
     "output_type": "stream",
     "text": [
      " 67%|████████████████████████████████████████████████████▌                         | 1527/2265 [20:26<09:02,  1.36it/s]"
     ]
    },
    {
     "name": "stdout",
     "output_type": "stream",
     "text": [
      "This is the pipeline with appositions going both ways\n"
     ]
    },
    {
     "name": "stderr",
     "output_type": "stream",
     "text": [
      " 67%|████████████████████████████████████████████████████▌                         | 1528/2265 [20:26<07:44,  1.59it/s]"
     ]
    },
    {
     "name": "stdout",
     "output_type": "stream",
     "text": [
      "This is the pipeline with appositions going both ways\n"
     ]
    },
    {
     "name": "stderr",
     "output_type": "stream",
     "text": [
      " 68%|████████████████████████████████████████████████████▋                         | 1529/2265 [20:27<07:56,  1.54it/s]"
     ]
    },
    {
     "name": "stdout",
     "output_type": "stream",
     "text": [
      "This is the pipeline with appositions going both ways\n",
      "2025-06-05 16:03:35.532 | INFO     | pipeline.correction.verb.change_verb_form:change_verb_form:13 - lex_target_verb not found: Wagt\n",
      "2025-06-05 16:03:35.533 | INFO     | pipeline.correction.correction2:generate_possible_corrections:519 - Konnte Korrekturvorschlag 'PLURAL_*' nicht erstellen: Das Verb konnte im Lexikon nicht gefunden werden: Wagt\n"
     ]
    },
    {
     "name": "stderr",
     "output_type": "stream",
     "text": [
      " 68%|████████████████████████████████████████████████████▋                         | 1530/2265 [20:29<13:45,  1.12s/it]"
     ]
    },
    {
     "name": "stdout",
     "output_type": "stream",
     "text": [
      "2025-06-05 16:03:36.000 | INFO     | pipeline.correction.correction2:generate_possible_corrections:501 - Konnte Korrekturvorschlag '*' nicht erstellen: list index out of range\n",
      "2025-06-05 16:03:36.017 | INFO     | pipeline.correction.correction2:generate_possible_corrections:519 - Konnte Korrekturvorschlag 'PLURAL_*' nicht erstellen: list index out of range\n",
      "This is the pipeline with appositions going both ways\n"
     ]
    },
    {
     "name": "stderr",
     "output_type": "stream",
     "text": [
      " 68%|████████████████████████████████████████████████████▋                         | 1531/2265 [20:30<14:27,  1.18s/it]"
     ]
    },
    {
     "name": "stdout",
     "output_type": "stream",
     "text": [
      "This is the pipeline with appositions going both ways\n",
      "This is the pipeline with appositions going both ways\n"
     ]
    },
    {
     "name": "stderr",
     "output_type": "stream",
     "text": [
      " 68%|████████████████████████████████████████████████████▊                         | 1533/2265 [20:31<10:15,  1.19it/s]"
     ]
    },
    {
     "name": "stdout",
     "output_type": "stream",
     "text": [
      "This is the pipeline with appositions going both ways\n"
     ]
    },
    {
     "name": "stderr",
     "output_type": "stream",
     "text": [
      " 68%|████████████████████████████████████████████████████▊                         | 1534/2265 [20:32<09:50,  1.24it/s]"
     ]
    },
    {
     "name": "stdout",
     "output_type": "stream",
     "text": [
      "This is the pipeline with appositions going both ways\n"
     ]
    },
    {
     "name": "stderr",
     "output_type": "stream",
     "text": [
      " 68%|████████████████████████████████████████████████████▊                         | 1535/2265 [20:33<09:34,  1.27it/s]"
     ]
    },
    {
     "name": "stdout",
     "output_type": "stream",
     "text": [
      "This is the pipeline with appositions going both ways\n"
     ]
    },
    {
     "name": "stderr",
     "output_type": "stream",
     "text": [
      " 68%|████████████████████████████████████████████████████▉                         | 1536/2265 [20:33<09:23,  1.29it/s]"
     ]
    },
    {
     "name": "stdout",
     "output_type": "stream",
     "text": [
      "This is the pipeline with appositions going both ways\n"
     ]
    },
    {
     "name": "stderr",
     "output_type": "stream",
     "text": [
      " 68%|████████████████████████████████████████████████████▉                         | 1537/2265 [20:34<09:04,  1.34it/s]"
     ]
    },
    {
     "name": "stdout",
     "output_type": "stream",
     "text": [
      "This is the pipeline with appositions going both ways\n"
     ]
    },
    {
     "name": "stderr",
     "output_type": "stream",
     "text": [
      " 68%|█████████████████████████████████████████████████████                         | 1540/2265 [20:34<04:36,  2.62it/s]"
     ]
    },
    {
     "name": "stdout",
     "output_type": "stream",
     "text": [
      "This is the pipeline with appositions going both ways\n",
      "This is the pipeline with appositions going both ways\n",
      "This is the pipeline with appositions going both ways\n"
     ]
    },
    {
     "name": "stderr",
     "output_type": "stream",
     "text": [
      " 68%|█████████████████████████████████████████████████████                         | 1541/2265 [20:35<04:36,  2.62it/s]"
     ]
    },
    {
     "name": "stdout",
     "output_type": "stream",
     "text": [
      "This is the pipeline with appositions going both ways\n"
     ]
    },
    {
     "name": "stderr",
     "output_type": "stream",
     "text": [
      " 68%|█████████████████████████████████████████████████████                         | 1542/2265 [20:35<05:16,  2.28it/s]"
     ]
    },
    {
     "name": "stdout",
     "output_type": "stream",
     "text": [
      "This is the pipeline with appositions going both ways\n"
     ]
    },
    {
     "name": "stderr",
     "output_type": "stream",
     "text": [
      " 68%|█████████████████████████████████████████████████████▏                        | 1543/2265 [20:36<04:43,  2.55it/s]"
     ]
    },
    {
     "name": "stdout",
     "output_type": "stream",
     "text": [
      "This is the pipeline with appositions going both ways\n"
     ]
    },
    {
     "name": "stderr",
     "output_type": "stream",
     "text": [
      " 68%|█████████████████████████████████████████████████████▏                        | 1544/2265 [20:37<07:26,  1.61it/s]"
     ]
    },
    {
     "name": "stdout",
     "output_type": "stream",
     "text": [
      "This is the pipeline with appositions going both ways\n"
     ]
    },
    {
     "name": "stderr",
     "output_type": "stream",
     "text": [
      " 68%|█████████████████████████████████████████████████████▏                        | 1545/2265 [20:38<08:06,  1.48it/s]"
     ]
    },
    {
     "name": "stdout",
     "output_type": "stream",
     "text": [
      "This is the pipeline with appositions going both ways\n"
     ]
    },
    {
     "name": "stderr",
     "output_type": "stream",
     "text": [
      " 68%|█████████████████████████████████████████████████████▏                        | 1546/2265 [20:38<08:11,  1.46it/s]"
     ]
    },
    {
     "name": "stdout",
     "output_type": "stream",
     "text": [
      "2025-06-05 16:03:45.638 | INFO     | pipeline.correction.correction2:generate_possible_corrections:501 - Konnte Korrekturvorschlag '*' nicht erstellen: list index out of range\n",
      "2025-06-05 16:03:45.656 | INFO     | pipeline.correction.correction2:generate_possible_corrections:519 - Konnte Korrekturvorschlag 'PLURAL_*' nicht erstellen: list index out of range\n",
      "This is the pipeline with appositions going both ways\n"
     ]
    },
    {
     "name": "stderr",
     "output_type": "stream",
     "text": [
      " 68%|█████████████████████████████████████████████████████▎                        | 1548/2265 [20:39<06:42,  1.78it/s]"
     ]
    },
    {
     "name": "stdout",
     "output_type": "stream",
     "text": [
      "This is the pipeline with appositions going both ways\n",
      "This is the pipeline with appositions going both ways\n"
     ]
    },
    {
     "name": "stderr",
     "output_type": "stream",
     "text": [
      " 68%|█████████████████████████████████████████████████████▍                        | 1550/2265 [20:41<06:37,  1.80it/s]"
     ]
    },
    {
     "name": "stdout",
     "output_type": "stream",
     "text": [
      "This is the pipeline with appositions going both ways\n",
      "This is the pipeline with appositions going both ways\n"
     ]
    },
    {
     "name": "stderr",
     "output_type": "stream",
     "text": [
      " 68%|█████████████████████████████████████████████████████▍                        | 1551/2265 [20:41<05:15,  2.26it/s]"
     ]
    },
    {
     "name": "stdout",
     "output_type": "stream",
     "text": [
      "This is the pipeline with appositions going both ways\n"
     ]
    },
    {
     "name": "stderr",
     "output_type": "stream",
     "text": [
      " 69%|█████████████████████████████████████████████████████▍                        | 1552/2265 [20:41<04:28,  2.66it/s]"
     ]
    },
    {
     "name": "stdout",
     "output_type": "stream",
     "text": [
      "This is the pipeline with appositions going both ways\n"
     ]
    },
    {
     "name": "stderr",
     "output_type": "stream",
     "text": [
      " 69%|█████████████████████████████████████████████████████▌                        | 1554/2265 [20:41<03:19,  3.56it/s]"
     ]
    },
    {
     "name": "stdout",
     "output_type": "stream",
     "text": [
      "This is the pipeline with appositions going both ways\n",
      "This is the pipeline with appositions going both ways\n"
     ]
    },
    {
     "name": "stderr",
     "output_type": "stream",
     "text": [
      " 69%|█████████████████████████████████████████████████████▌                        | 1555/2265 [20:42<03:03,  3.87it/s]"
     ]
    },
    {
     "name": "stdout",
     "output_type": "stream",
     "text": [
      "This is the pipeline with appositions going both ways\n"
     ]
    },
    {
     "name": "stderr",
     "output_type": "stream",
     "text": [
      " 69%|█████████████████████████████████████████████████████▌                        | 1557/2265 [20:42<02:32,  4.65it/s]"
     ]
    },
    {
     "name": "stdout",
     "output_type": "stream",
     "text": [
      "This is the pipeline with appositions going both ways\n",
      "This is the pipeline with appositions going both ways\n"
     ]
    },
    {
     "name": "stderr",
     "output_type": "stream",
     "text": [
      " 69%|█████████████████████████████████████████████████████▋                        | 1558/2265 [20:42<02:15,  5.23it/s]"
     ]
    },
    {
     "name": "stdout",
     "output_type": "stream",
     "text": [
      "This is the pipeline with appositions going both ways\n"
     ]
    },
    {
     "name": "stderr",
     "output_type": "stream",
     "text": [
      " 69%|█████████████████████████████████████████████████████▋                        | 1559/2265 [20:43<03:53,  3.03it/s]"
     ]
    },
    {
     "name": "stdout",
     "output_type": "stream",
     "text": [
      "This is the pipeline with appositions going both ways\n"
     ]
    },
    {
     "name": "stderr",
     "output_type": "stream",
     "text": [
      " 69%|█████████████████████████████████████████████████████▋                        | 1560/2265 [20:43<03:43,  3.16it/s]"
     ]
    },
    {
     "name": "stdout",
     "output_type": "stream",
     "text": [
      "This is the pipeline with appositions going both ways\n"
     ]
    },
    {
     "name": "stderr",
     "output_type": "stream",
     "text": [
      " 69%|█████████████████████████████████████████████████████▊                        | 1561/2265 [20:44<04:27,  2.63it/s]"
     ]
    },
    {
     "name": "stdout",
     "output_type": "stream",
     "text": [
      "This is the pipeline with appositions going both ways\n"
     ]
    },
    {
     "name": "stderr",
     "output_type": "stream",
     "text": [
      " 69%|█████████████████████████████████████████████████████▊                        | 1563/2265 [20:44<04:25,  2.64it/s]"
     ]
    },
    {
     "name": "stdout",
     "output_type": "stream",
     "text": [
      "This is the pipeline with appositions going both ways\n",
      "This is the pipeline with appositions going both ways\n"
     ]
    },
    {
     "name": "stderr",
     "output_type": "stream",
     "text": [
      " 69%|█████████████████████████████████████████████████████▊                        | 1564/2265 [20:45<03:46,  3.09it/s]"
     ]
    },
    {
     "name": "stdout",
     "output_type": "stream",
     "text": [
      "This is the pipeline with appositions going both ways\n"
     ]
    },
    {
     "name": "stderr",
     "output_type": "stream",
     "text": [
      " 69%|█████████████████████████████████████████████████████▉                        | 1566/2265 [20:45<03:10,  3.67it/s]"
     ]
    },
    {
     "name": "stdout",
     "output_type": "stream",
     "text": [
      "This is the pipeline with appositions going both ways\n",
      "This is the pipeline with appositions going both ways\n"
     ]
    },
    {
     "name": "stderr",
     "output_type": "stream",
     "text": [
      " 69%|█████████████████████████████████████████████████████▉                        | 1567/2265 [20:45<03:13,  3.61it/s]"
     ]
    },
    {
     "name": "stdout",
     "output_type": "stream",
     "text": [
      "This is the pipeline with appositions going both ways\n"
     ]
    },
    {
     "name": "stderr",
     "output_type": "stream",
     "text": [
      " 69%|█████████████████████████████████████████████████████▉                        | 1568/2265 [20:46<03:01,  3.84it/s]"
     ]
    },
    {
     "name": "stdout",
     "output_type": "stream",
     "text": [
      "This is the pipeline with appositions going both ways\n",
      "This is the pipeline with appositions going both ways\n"
     ]
    },
    {
     "name": "stderr",
     "output_type": "stream",
     "text": [
      " 69%|██████████████████████████████████████████████████████                        | 1571/2265 [20:46<02:44,  4.21it/s]"
     ]
    },
    {
     "name": "stdout",
     "output_type": "stream",
     "text": [
      "This is the pipeline with appositions going both ways\n",
      "This is the pipeline with appositions going both ways\n"
     ]
    },
    {
     "name": "stderr",
     "output_type": "stream",
     "text": [
      " 69%|██████████████████████████████████████████████████████▏                       | 1572/2265 [20:47<02:48,  4.12it/s]"
     ]
    },
    {
     "name": "stdout",
     "output_type": "stream",
     "text": [
      "This is the pipeline with appositions going both ways\n"
     ]
    },
    {
     "name": "stderr",
     "output_type": "stream",
     "text": [
      " 69%|██████████████████████████████████████████████████████▏                       | 1573/2265 [20:47<04:37,  2.49it/s]"
     ]
    },
    {
     "name": "stdout",
     "output_type": "stream",
     "text": [
      "This is the pipeline with appositions going both ways\n"
     ]
    },
    {
     "name": "stderr",
     "output_type": "stream",
     "text": [
      " 70%|██████████████████████████████████████████████████████▏                       | 1575/2265 [20:48<03:55,  2.93it/s]"
     ]
    },
    {
     "name": "stdout",
     "output_type": "stream",
     "text": [
      "This is the pipeline with appositions going both ways\n",
      "This is the pipeline with appositions going both ways\n"
     ]
    },
    {
     "name": "stderr",
     "output_type": "stream",
     "text": [
      " 70%|██████████████████████████████████████████████████████▎                       | 1576/2265 [20:48<03:15,  3.52it/s]"
     ]
    },
    {
     "name": "stdout",
     "output_type": "stream",
     "text": [
      "This is the pipeline with appositions going both ways\n"
     ]
    },
    {
     "name": "stderr",
     "output_type": "stream",
     "text": [
      " 70%|██████████████████████████████████████████████████████▎                       | 1577/2265 [20:48<03:16,  3.50it/s]"
     ]
    },
    {
     "name": "stdout",
     "output_type": "stream",
     "text": [
      "This is the pipeline with appositions going both ways\n"
     ]
    },
    {
     "name": "stderr",
     "output_type": "stream",
     "text": [
      " 70%|██████████████████████████████████████████████████████▎                       | 1578/2265 [20:49<04:05,  2.80it/s]"
     ]
    },
    {
     "name": "stdout",
     "output_type": "stream",
     "text": [
      "This is the pipeline with appositions going both ways\n"
     ]
    },
    {
     "name": "stderr",
     "output_type": "stream",
     "text": [
      " 70%|██████████████████████████████████████████████████████▍                       | 1579/2265 [20:50<04:46,  2.39it/s]"
     ]
    },
    {
     "name": "stdout",
     "output_type": "stream",
     "text": [
      "This is the pipeline with appositions going both ways\n"
     ]
    },
    {
     "name": "stderr",
     "output_type": "stream",
     "text": [
      " 70%|██████████████████████████████████████████████████████▍                       | 1580/2265 [20:50<04:40,  2.44it/s]"
     ]
    },
    {
     "name": "stdout",
     "output_type": "stream",
     "text": [
      "This is the pipeline with appositions going both ways\n"
     ]
    },
    {
     "name": "stderr",
     "output_type": "stream",
     "text": [
      " 70%|██████████████████████████████████████████████████████▍                       | 1581/2265 [20:50<04:14,  2.69it/s]"
     ]
    },
    {
     "name": "stdout",
     "output_type": "stream",
     "text": [
      "This is the pipeline with appositions going both ways\n"
     ]
    },
    {
     "name": "stderr",
     "output_type": "stream",
     "text": [
      " 70%|██████████████████████████████████████████████████████▍                       | 1582/2265 [20:50<03:40,  3.09it/s]"
     ]
    },
    {
     "name": "stdout",
     "output_type": "stream",
     "text": [
      "This is the pipeline with appositions going both ways\n"
     ]
    },
    {
     "name": "stderr",
     "output_type": "stream",
     "text": [
      " 70%|██████████████████████████████████████████████████████▌                       | 1583/2265 [20:51<04:40,  2.44it/s]"
     ]
    },
    {
     "name": "stdout",
     "output_type": "stream",
     "text": [
      "This is the pipeline with appositions going both ways\n"
     ]
    },
    {
     "name": "stderr",
     "output_type": "stream",
     "text": [
      " 70%|██████████████████████████████████████████████████████▌                       | 1585/2265 [20:52<03:57,  2.86it/s]"
     ]
    },
    {
     "name": "stdout",
     "output_type": "stream",
     "text": [
      "This is the pipeline with appositions going both ways\n",
      "This is the pipeline with appositions going both ways\n"
     ]
    },
    {
     "name": "stderr",
     "output_type": "stream",
     "text": [
      " 70%|██████████████████████████████████████████████████████▌                       | 1586/2265 [20:52<03:41,  3.06it/s]"
     ]
    },
    {
     "name": "stdout",
     "output_type": "stream",
     "text": [
      "This is the pipeline with appositions going both ways\n"
     ]
    },
    {
     "name": "stderr",
     "output_type": "stream",
     "text": [
      " 70%|██████████████████████████████████████████████████████▋                       | 1587/2265 [20:53<06:29,  1.74it/s]"
     ]
    },
    {
     "name": "stdout",
     "output_type": "stream",
     "text": [
      "This is the pipeline with appositions going both ways\n"
     ]
    },
    {
     "name": "stderr",
     "output_type": "stream",
     "text": [
      " 70%|██████████████████████████████████████████████████████▋                       | 1588/2265 [20:57<17:05,  1.51s/it]"
     ]
    },
    {
     "name": "stdout",
     "output_type": "stream",
     "text": [
      "This is the pipeline with appositions going both ways\n",
      "2025-06-05 16:04:06.225 | INFO     | pipeline.correction.correction2:generate_possible_corrections:501 - Konnte Korrekturvorschlag '*' nicht erstellen: list index out of range\n",
      "2025-06-05 16:04:06.237 | INFO     | pipeline.correction.correction2:generate_possible_corrections:519 - Konnte Korrekturvorschlag 'PLURAL_*' nicht erstellen: list index out of range\n",
      "2025-06-05 16:04:06.421 | INFO     | pipeline.correction.correction2:generate_possible_corrections:501 - Konnte Korrekturvorschlag '*' nicht erstellen: list index out of range\n",
      "2025-06-05 16:04:06.433 | INFO     | pipeline.correction.correction2:generate_possible_corrections:519 - Konnte Korrekturvorschlag 'PLURAL_*' nicht erstellen: list index out of range\n"
     ]
    },
    {
     "name": "stderr",
     "output_type": "stream",
     "text": [
      " 70%|██████████████████████████████████████████████████████▋                       | 1589/2265 [20:59<20:55,  1.86s/it]"
     ]
    },
    {
     "name": "stdout",
     "output_type": "stream",
     "text": [
      "This is the pipeline with appositions going both ways\n"
     ]
    },
    {
     "name": "stderr",
     "output_type": "stream",
     "text": [
      " 70%|██████████████████████████████████████████████████████▊                       | 1590/2265 [21:00<15:50,  1.41s/it]"
     ]
    },
    {
     "name": "stdout",
     "output_type": "stream",
     "text": [
      "This is the pipeline with appositions going both ways\n"
     ]
    },
    {
     "name": "stderr",
     "output_type": "stream",
     "text": [
      " 70%|██████████████████████████████████████████████████████▊                       | 1591/2265 [21:03<20:50,  1.86s/it]"
     ]
    },
    {
     "name": "stdout",
     "output_type": "stream",
     "text": [
      "This is the pipeline with appositions going both ways\n"
     ]
    },
    {
     "name": "stderr",
     "output_type": "stream",
     "text": [
      " 70%|██████████████████████████████████████████████████████▊                       | 1592/2265 [21:04<18:54,  1.69s/it]"
     ]
    },
    {
     "name": "stdout",
     "output_type": "stream",
     "text": [
      "This is the pipeline with appositions going both ways\n"
     ]
    },
    {
     "name": "stderr",
     "output_type": "stream",
     "text": [
      " 70%|██████████████████████████████████████████████████████▊                       | 1593/2265 [21:04<14:18,  1.28s/it]"
     ]
    },
    {
     "name": "stdout",
     "output_type": "stream",
     "text": [
      "This is the pipeline with appositions going both ways\n"
     ]
    },
    {
     "name": "stderr",
     "output_type": "stream",
     "text": [
      " 70%|██████████████████████████████████████████████████████▉                       | 1594/2265 [21:07<20:20,  1.82s/it]"
     ]
    },
    {
     "name": "stdout",
     "output_type": "stream",
     "text": [
      "This is the pipeline with appositions going both ways\n"
     ]
    },
    {
     "name": "stderr",
     "output_type": "stream",
     "text": [
      " 70%|██████████████████████████████████████████████████████▉                       | 1595/2265 [21:11<26:03,  2.33s/it]"
     ]
    },
    {
     "name": "stdout",
     "output_type": "stream",
     "text": [
      "This is the pipeline with appositions going both ways\n"
     ]
    },
    {
     "name": "stderr",
     "output_type": "stream",
     "text": [
      " 70%|██████████████████████████████████████████████████████▉                       | 1596/2265 [21:12<23:12,  2.08s/it]"
     ]
    },
    {
     "name": "stdout",
     "output_type": "stream",
     "text": [
      "This is the pipeline with appositions going both ways\n",
      "2025-06-05 16:04:21.147 | INFO     | pipeline.correction.correction2:generate_possible_corrections:352 - Konnte Korrekturvorschlag '*' nicht erstellen: list index out of range\n",
      "2025-06-05 16:04:21.160 | INFO     | pipeline.correction.correction2:generate_possible_corrections:459 - Konnte Korrekturvorschlag 'BOTH_FORMS' nicht erstellen: list index out of range\n"
     ]
    },
    {
     "name": "stderr",
     "output_type": "stream",
     "text": [
      " 71%|███████████████████████████████████████████████████████                       | 1598/2265 [21:14<15:39,  1.41s/it]"
     ]
    },
    {
     "name": "stdout",
     "output_type": "stream",
     "text": [
      "This is the pipeline with appositions going both ways\n",
      "This is the pipeline with appositions going both ways\n"
     ]
    },
    {
     "name": "stderr",
     "output_type": "stream",
     "text": [
      " 71%|███████████████████████████████████████████████████████                       | 1599/2265 [21:16<15:14,  1.37s/it]"
     ]
    },
    {
     "name": "stdout",
     "output_type": "stream",
     "text": [
      "This is the pipeline with appositions going both ways\n",
      "2025-06-05 16:04:24.350 | INFO     | pipeline.correction.correction2:generate_possible_corrections:501 - Konnte Korrekturvorschlag '*' nicht erstellen: list index out of range\n",
      "2025-06-05 16:04:24.364 | INFO     | pipeline.correction.correction2:generate_possible_corrections:519 - Konnte Korrekturvorschlag 'PLURAL_*' nicht erstellen: list index out of range\n"
     ]
    },
    {
     "name": "stderr",
     "output_type": "stream",
     "text": [
      " 71%|███████████████████████████████████████████████████████                       | 1600/2265 [21:18<18:04,  1.63s/it]"
     ]
    },
    {
     "name": "stdout",
     "output_type": "stream",
     "text": [
      "This is the pipeline with appositions going both ways\n"
     ]
    },
    {
     "name": "stderr",
     "output_type": "stream",
     "text": [
      " 71%|███████████████████████████████████████████████████████▏                      | 1601/2265 [21:19<16:55,  1.53s/it]"
     ]
    },
    {
     "name": "stdout",
     "output_type": "stream",
     "text": [
      "This is the pipeline with appositions going both ways\n"
     ]
    },
    {
     "name": "stderr",
     "output_type": "stream",
     "text": [
      " 71%|███████████████████████████████████████████████████████▏                      | 1602/2265 [21:20<13:56,  1.26s/it]"
     ]
    },
    {
     "name": "stdout",
     "output_type": "stream",
     "text": [
      "This is the pipeline with appositions going both ways\n"
     ]
    },
    {
     "name": "stderr",
     "output_type": "stream",
     "text": [
      " 71%|███████████████████████████████████████████████████████▏                      | 1603/2265 [21:21<13:35,  1.23s/it]"
     ]
    },
    {
     "name": "stdout",
     "output_type": "stream",
     "text": [
      "2025-06-05 16:04:27.940 | INFO     | pipeline.correction.correction2:generate_possible_corrections:352 - Konnte Korrekturvorschlag '*' nicht erstellen: list index out of range\n",
      "2025-06-05 16:04:27.948 | INFO     | pipeline.correction.correction2:generate_possible_corrections:459 - Konnte Korrekturvorschlag 'BOTH_FORMS' nicht erstellen: list index out of range\n",
      "This is the pipeline with appositions going both ways\n"
     ]
    },
    {
     "name": "stderr",
     "output_type": "stream",
     "text": [
      " 71%|███████████████████████████████████████████████████████▏                      | 1604/2265 [21:22<14:24,  1.31s/it]"
     ]
    },
    {
     "name": "stdout",
     "output_type": "stream",
     "text": [
      "This is the pipeline with appositions going both ways\n"
     ]
    },
    {
     "name": "stderr",
     "output_type": "stream",
     "text": [
      " 71%|███████████████████████████████████████████████████████▎                      | 1606/2265 [21:23<08:13,  1.33it/s]"
     ]
    },
    {
     "name": "stdout",
     "output_type": "stream",
     "text": [
      "This is the pipeline with appositions going both ways\n",
      "This is the pipeline with appositions going both ways\n"
     ]
    },
    {
     "name": "stderr",
     "output_type": "stream",
     "text": [
      " 71%|███████████████████████████████████████████████████████▎                      | 1607/2265 [21:23<06:23,  1.72it/s]"
     ]
    },
    {
     "name": "stdout",
     "output_type": "stream",
     "text": [
      "This is the pipeline with appositions going both ways\n"
     ]
    },
    {
     "name": "stderr",
     "output_type": "stream",
     "text": [
      " 71%|███████████████████████████████████████████████████████▎                      | 1608/2265 [21:23<05:25,  2.02it/s]"
     ]
    },
    {
     "name": "stdout",
     "output_type": "stream",
     "text": [
      "This is the pipeline with appositions going both ways\n"
     ]
    },
    {
     "name": "stderr",
     "output_type": "stream",
     "text": [
      " 71%|███████████████████████████████████████████████████████▍                      | 1609/2265 [21:25<10:14,  1.07it/s]"
     ]
    },
    {
     "name": "stdout",
     "output_type": "stream",
     "text": [
      "This is the pipeline with appositions going both ways\n"
     ]
    },
    {
     "name": "stderr",
     "output_type": "stream",
     "text": [
      " 71%|███████████████████████████████████████████████████████▍                      | 1610/2265 [21:26<09:18,  1.17it/s]"
     ]
    },
    {
     "name": "stdout",
     "output_type": "stream",
     "text": [
      "2025-06-05 16:04:33.025 | INFO     | pipeline.correction.correction2:generate_possible_corrections:352 - Konnte Korrekturvorschlag '*' nicht erstellen: list index out of range\n",
      "2025-06-05 16:04:33.038 | INFO     | pipeline.correction.correction2:generate_possible_corrections:459 - Konnte Korrekturvorschlag 'BOTH_FORMS' nicht erstellen: list index out of range\n",
      "This is the pipeline with appositions going both ways\n"
     ]
    },
    {
     "name": "stderr",
     "output_type": "stream",
     "text": [
      " 71%|███████████████████████████████████████████████████████▍                      | 1611/2265 [21:26<07:15,  1.50it/s]"
     ]
    },
    {
     "name": "stdout",
     "output_type": "stream",
     "text": [
      "This is the pipeline with appositions going both ways\n"
     ]
    },
    {
     "name": "stderr",
     "output_type": "stream",
     "text": [
      " 71%|███████████████████████████████████████████████████████▌                      | 1612/2265 [21:27<08:44,  1.24it/s]"
     ]
    },
    {
     "name": "stdout",
     "output_type": "stream",
     "text": [
      "This is the pipeline with appositions going both ways\n"
     ]
    },
    {
     "name": "stderr",
     "output_type": "stream",
     "text": [
      " 71%|███████████████████████████████████████████████████████▌                      | 1613/2265 [21:28<09:30,  1.14it/s]"
     ]
    },
    {
     "name": "stdout",
     "output_type": "stream",
     "text": [
      "This is the pipeline with appositions going both ways\n"
     ]
    },
    {
     "name": "stderr",
     "output_type": "stream",
     "text": [
      " 71%|███████████████████████████████████████████████████████▌                      | 1614/2265 [21:29<07:46,  1.40it/s]"
     ]
    },
    {
     "name": "stdout",
     "output_type": "stream",
     "text": [
      "This is the pipeline with appositions going both ways\n"
     ]
    },
    {
     "name": "stderr",
     "output_type": "stream",
     "text": [
      " 71%|███████████████████████████████████████████████████████▌                      | 1615/2265 [21:30<08:21,  1.30it/s]"
     ]
    },
    {
     "name": "stdout",
     "output_type": "stream",
     "text": [
      "This is the pipeline with appositions going both ways\n"
     ]
    },
    {
     "name": "stderr",
     "output_type": "stream",
     "text": [
      " 71%|███████████████████████████████████████████████████████▋                      | 1616/2265 [21:30<06:44,  1.60it/s]"
     ]
    },
    {
     "name": "stdout",
     "output_type": "stream",
     "text": [
      "This is the pipeline with appositions going both ways\n"
     ]
    },
    {
     "name": "stderr",
     "output_type": "stream",
     "text": [
      " 71%|███████████████████████████████████████████████████████▋                      | 1617/2265 [21:30<06:02,  1.79it/s]"
     ]
    },
    {
     "name": "stdout",
     "output_type": "stream",
     "text": [
      "This is the pipeline with appositions going both ways\n"
     ]
    },
    {
     "name": "stderr",
     "output_type": "stream",
     "text": [
      " 71%|███████████████████████████████████████████████████████▋                      | 1618/2265 [21:31<05:32,  1.95it/s]"
     ]
    },
    {
     "name": "stdout",
     "output_type": "stream",
     "text": [
      "This is the pipeline with appositions going both ways\n"
     ]
    },
    {
     "name": "stderr",
     "output_type": "stream",
     "text": [
      " 71%|███████████████████████████████████████████████████████▊                      | 1619/2265 [21:31<05:22,  2.00it/s]"
     ]
    },
    {
     "name": "stdout",
     "output_type": "stream",
     "text": [
      "This is the pipeline with appositions going both ways\n"
     ]
    },
    {
     "name": "stderr",
     "output_type": "stream",
     "text": [
      " 72%|███████████████████████████████████████████████████████▊                      | 1620/2265 [21:31<04:29,  2.39it/s]"
     ]
    },
    {
     "name": "stdout",
     "output_type": "stream",
     "text": [
      "This is the pipeline with appositions going both ways\n"
     ]
    },
    {
     "name": "stderr",
     "output_type": "stream",
     "text": [
      " 72%|███████████████████████████████████████████████████████▊                      | 1622/2265 [21:32<04:23,  2.44it/s]"
     ]
    },
    {
     "name": "stdout",
     "output_type": "stream",
     "text": [
      "This is the pipeline with appositions going both ways\n",
      "This is the pipeline with appositions going both ways\n",
      "This is the pipeline with appositions going both ways\n"
     ]
    },
    {
     "name": "stderr",
     "output_type": "stream",
     "text": [
      " 72%|███████████████████████████████████████████████████████▉                      | 1624/2265 [21:33<03:40,  2.91it/s]"
     ]
    },
    {
     "name": "stdout",
     "output_type": "stream",
     "text": [
      "This is the pipeline with appositions going both ways\n"
     ]
    },
    {
     "name": "stderr",
     "output_type": "stream",
     "text": [
      " 72%|███████████████████████████████████████████████████████▉                      | 1625/2265 [21:34<05:18,  2.01it/s]"
     ]
    },
    {
     "name": "stdout",
     "output_type": "stream",
     "text": [
      "This is the pipeline with appositions going both ways\n"
     ]
    },
    {
     "name": "stderr",
     "output_type": "stream",
     "text": [
      " 72%|███████████████████████████████████████████████████████▉                      | 1626/2265 [21:35<07:03,  1.51it/s]"
     ]
    },
    {
     "name": "stdout",
     "output_type": "stream",
     "text": [
      "This is the pipeline with appositions going both ways\n"
     ]
    },
    {
     "name": "stderr",
     "output_type": "stream",
     "text": [
      " 72%|████████████████████████████████████████████████████████                      | 1627/2265 [21:36<07:25,  1.43it/s]"
     ]
    },
    {
     "name": "stdout",
     "output_type": "stream",
     "text": [
      "This is the pipeline with appositions going both ways\n"
     ]
    },
    {
     "name": "stderr",
     "output_type": "stream",
     "text": [
      " 72%|████████████████████████████████████████████████████████                      | 1628/2265 [21:36<06:13,  1.70it/s]"
     ]
    },
    {
     "name": "stdout",
     "output_type": "stream",
     "text": [
      "This is the pipeline with appositions going both ways\n"
     ]
    },
    {
     "name": "stderr",
     "output_type": "stream",
     "text": [
      " 72%|████████████████████████████████████████████████████████                      | 1629/2265 [21:37<06:51,  1.55it/s]"
     ]
    },
    {
     "name": "stdout",
     "output_type": "stream",
     "text": [
      "This is the pipeline with appositions going both ways\n"
     ]
    },
    {
     "name": "stderr",
     "output_type": "stream",
     "text": [
      " 72%|████████████████████████████████████████████████████████▏                     | 1630/2265 [21:37<06:05,  1.74it/s]"
     ]
    },
    {
     "name": "stdout",
     "output_type": "stream",
     "text": [
      "This is the pipeline with appositions going both ways\n"
     ]
    },
    {
     "name": "stderr",
     "output_type": "stream",
     "text": [
      " 72%|████████████████████████████████████████████████████████▏                     | 1631/2265 [21:38<07:10,  1.47it/s]"
     ]
    },
    {
     "name": "stdout",
     "output_type": "stream",
     "text": [
      "This is the pipeline with appositions going both ways\n"
     ]
    },
    {
     "name": "stderr",
     "output_type": "stream",
     "text": [
      " 72%|████████████████████████████████████████████████████████▏                     | 1632/2265 [21:39<07:53,  1.34it/s]"
     ]
    },
    {
     "name": "stdout",
     "output_type": "stream",
     "text": [
      "This is the pipeline with appositions going both ways\n"
     ]
    },
    {
     "name": "stderr",
     "output_type": "stream",
     "text": [
      " 72%|████████████████████████████████████████████████████████▏                     | 1633/2265 [21:39<06:22,  1.65it/s]"
     ]
    },
    {
     "name": "stdout",
     "output_type": "stream",
     "text": [
      "This is the pipeline with appositions going both ways\n"
     ]
    },
    {
     "name": "stderr",
     "output_type": "stream",
     "text": [
      " 72%|████████████████████████████████████████████████████████▎                     | 1634/2265 [21:40<07:26,  1.41it/s]"
     ]
    },
    {
     "name": "stdout",
     "output_type": "stream",
     "text": [
      "2025-06-05 16:04:47.376 | INFO     | pipeline.correction.correction2:generate_possible_corrections:501 - Konnte Korrekturvorschlag '*' nicht erstellen: list index out of range\n",
      "2025-06-05 16:04:47.388 | INFO     | pipeline.correction.correction2:generate_possible_corrections:519 - Konnte Korrekturvorschlag 'PLURAL_*' nicht erstellen: list index out of range\n",
      "This is the pipeline with appositions going both ways\n"
     ]
    },
    {
     "name": "stderr",
     "output_type": "stream",
     "text": [
      " 72%|████████████████████████████████████████████████████████▎                     | 1635/2265 [21:41<09:02,  1.16it/s]"
     ]
    },
    {
     "name": "stdout",
     "output_type": "stream",
     "text": [
      "This is the pipeline with appositions going both ways\n"
     ]
    },
    {
     "name": "stderr",
     "output_type": "stream",
     "text": [
      " 72%|████████████████████████████████████████████████████████▎                     | 1636/2265 [21:42<07:20,  1.43it/s]"
     ]
    },
    {
     "name": "stdout",
     "output_type": "stream",
     "text": [
      "2025-06-05 16:04:48.959 | INFO     | pipeline.correction.correction2:generate_possible_corrections:501 - Konnte Korrekturvorschlag '*' nicht erstellen: list index out of range\n",
      "2025-06-05 16:04:48.970 | INFO     | pipeline.correction.correction2:generate_possible_corrections:519 - Konnte Korrekturvorschlag 'PLURAL_*' nicht erstellen: list index out of range\n",
      "This is the pipeline with appositions going both ways\n"
     ]
    },
    {
     "name": "stderr",
     "output_type": "stream",
     "text": [
      " 72%|████████████████████████████████████████████████████████▎                     | 1637/2265 [21:42<05:59,  1.75it/s]"
     ]
    },
    {
     "name": "stdout",
     "output_type": "stream",
     "text": [
      "This is the pipeline with appositions going both ways\n"
     ]
    },
    {
     "name": "stderr",
     "output_type": "stream",
     "text": [
      " 72%|████████████████████████████████████████████████████████▍                     | 1638/2265 [21:42<05:29,  1.90it/s]"
     ]
    },
    {
     "name": "stdout",
     "output_type": "stream",
     "text": [
      "This is the pipeline with appositions going both ways\n"
     ]
    },
    {
     "name": "stderr",
     "output_type": "stream",
     "text": [
      " 72%|████████████████████████████████████████████████████████▍                     | 1639/2265 [21:43<05:33,  1.88it/s]"
     ]
    },
    {
     "name": "stdout",
     "output_type": "stream",
     "text": [
      "This is the pipeline with appositions going both ways\n"
     ]
    },
    {
     "name": "stderr",
     "output_type": "stream",
     "text": [
      " 72%|████████████████████████████████████████████████████████▍                     | 1640/2265 [21:45<11:18,  1.09s/it]"
     ]
    },
    {
     "name": "stdout",
     "output_type": "stream",
     "text": [
      "This is the pipeline with appositions going both ways\n"
     ]
    },
    {
     "name": "stderr",
     "output_type": "stream",
     "text": [
      " 72%|████████████████████████████████████████████████████████▌                     | 1641/2265 [21:46<09:47,  1.06it/s]"
     ]
    },
    {
     "name": "stdout",
     "output_type": "stream",
     "text": [
      "This is the pipeline with appositions going both ways\n"
     ]
    },
    {
     "name": "stderr",
     "output_type": "stream",
     "text": [
      " 73%|████████████████████████████████████████████████████████▌                     | 1643/2265 [21:46<05:57,  1.74it/s]"
     ]
    },
    {
     "name": "stdout",
     "output_type": "stream",
     "text": [
      "This is the pipeline with appositions going both ways\n",
      "This is the pipeline with appositions going both ways\n"
     ]
    },
    {
     "name": "stderr",
     "output_type": "stream",
     "text": [
      " 73%|████████████████████████████████████████████████████████▌                     | 1644/2265 [21:47<05:55,  1.75it/s]"
     ]
    },
    {
     "name": "stdout",
     "output_type": "stream",
     "text": [
      "This is the pipeline with appositions going both ways\n"
     ]
    },
    {
     "name": "stderr",
     "output_type": "stream",
     "text": [
      " 73%|████████████████████████████████████████████████████████▋                     | 1645/2265 [21:48<06:23,  1.61it/s]"
     ]
    },
    {
     "name": "stdout",
     "output_type": "stream",
     "text": [
      "This is the pipeline with appositions going both ways\n"
     ]
    },
    {
     "name": "stderr",
     "output_type": "stream",
     "text": [
      " 73%|████████████████████████████████████████████████████████▋                     | 1646/2265 [21:48<05:07,  2.01it/s]"
     ]
    },
    {
     "name": "stdout",
     "output_type": "stream",
     "text": [
      "This is the pipeline with appositions going both ways\n"
     ]
    },
    {
     "name": "stderr",
     "output_type": "stream",
     "text": [
      " 73%|████████████████████████████████████████████████████████▋                     | 1647/2265 [21:49<07:51,  1.31it/s]"
     ]
    },
    {
     "name": "stdout",
     "output_type": "stream",
     "text": [
      "This is the pipeline with appositions going both ways\n"
     ]
    },
    {
     "name": "stderr",
     "output_type": "stream",
     "text": [
      " 73%|████████████████████████████████████████████████████████▊                     | 1648/2265 [21:50<06:36,  1.56it/s]"
     ]
    },
    {
     "name": "stdout",
     "output_type": "stream",
     "text": [
      "This is the pipeline with appositions going both ways\n"
     ]
    },
    {
     "name": "stderr",
     "output_type": "stream",
     "text": [
      " 73%|████████████████████████████████████████████████████████▊                     | 1650/2265 [21:50<04:13,  2.42it/s]"
     ]
    },
    {
     "name": "stdout",
     "output_type": "stream",
     "text": [
      "This is the pipeline with appositions going both ways\n",
      "This is the pipeline with appositions going both ways\n"
     ]
    },
    {
     "name": "stderr",
     "output_type": "stream",
     "text": [
      " 73%|████████████████████████████████████████████████████████▊                     | 1651/2265 [21:51<04:20,  2.36it/s]"
     ]
    },
    {
     "name": "stdout",
     "output_type": "stream",
     "text": [
      "This is the pipeline with appositions going both ways\n"
     ]
    },
    {
     "name": "stderr",
     "output_type": "stream",
     "text": [
      " 73%|████████████████████████████████████████████████████████▉                     | 1652/2265 [21:51<04:14,  2.40it/s]"
     ]
    },
    {
     "name": "stdout",
     "output_type": "stream",
     "text": [
      "This is the pipeline with appositions going both ways\n"
     ]
    },
    {
     "name": "stderr",
     "output_type": "stream",
     "text": [
      " 73%|████████████████████████████████████████████████████████▉                     | 1653/2265 [21:51<04:27,  2.29it/s]"
     ]
    },
    {
     "name": "stdout",
     "output_type": "stream",
     "text": [
      "This is the pipeline with appositions going both ways\n"
     ]
    },
    {
     "name": "stderr",
     "output_type": "stream",
     "text": [
      " 73%|████████████████████████████████████████████████████████▉                     | 1654/2265 [21:52<04:45,  2.14it/s]"
     ]
    },
    {
     "name": "stdout",
     "output_type": "stream",
     "text": [
      "This is the pipeline with appositions going both ways\n"
     ]
    },
    {
     "name": "stderr",
     "output_type": "stream",
     "text": [
      " 73%|████████████████████████████████████████████████████████▉                     | 1655/2265 [21:53<06:12,  1.64it/s]"
     ]
    },
    {
     "name": "stdout",
     "output_type": "stream",
     "text": [
      "This is the pipeline with appositions going both ways\n"
     ]
    },
    {
     "name": "stderr",
     "output_type": "stream",
     "text": [
      " 73%|█████████████████████████████████████████████████████████                     | 1656/2265 [21:54<06:03,  1.67it/s]"
     ]
    },
    {
     "name": "stdout",
     "output_type": "stream",
     "text": [
      "This is the pipeline with appositions going both ways\n"
     ]
    },
    {
     "name": "stderr",
     "output_type": "stream",
     "text": [
      " 73%|█████████████████████████████████████████████████████████                     | 1657/2265 [21:54<05:08,  1.97it/s]"
     ]
    },
    {
     "name": "stdout",
     "output_type": "stream",
     "text": [
      "2025-06-05 16:05:01.058 | INFO     | pipeline.correction.correction2:generate_possible_corrections:501 - Konnte Korrekturvorschlag '*' nicht erstellen: list index out of range\n",
      "2025-06-05 16:05:01.070 | INFO     | pipeline.correction.correction2:generate_possible_corrections:519 - Konnte Korrekturvorschlag 'PLURAL_*' nicht erstellen: list index out of range\n",
      "This is the pipeline with appositions going both ways\n"
     ]
    },
    {
     "name": "stderr",
     "output_type": "stream",
     "text": [
      " 73%|█████████████████████████████████████████████████████████                     | 1658/2265 [21:54<04:30,  2.25it/s]"
     ]
    },
    {
     "name": "stdout",
     "output_type": "stream",
     "text": [
      "2025-06-05 16:05:01.321 | INFO     | pipeline.correction.correction2:generate_possible_corrections:501 - Konnte Korrekturvorschlag '*' nicht erstellen: list index out of range\n",
      "2025-06-05 16:05:01.336 | INFO     | pipeline.correction.correction2:generate_possible_corrections:519 - Konnte Korrekturvorschlag 'PLURAL_*' nicht erstellen: list index out of range\n",
      "This is the pipeline with appositions going both ways\n",
      "2025-06-05 16:05:01.815 | INFO     | pipeline.correction.correction2:generate_possible_corrections:352 - Konnte Korrekturvorschlag '*' nicht erstellen: list index out of range\n",
      "2025-06-05 16:05:01.822 | INFO     | pipeline.correction.correction2:generate_possible_corrections:459 - Konnte Korrekturvorschlag 'BOTH_FORMS' nicht erstellen: list index out of range\n"
     ]
    },
    {
     "name": "stderr",
     "output_type": "stream",
     "text": [
      " 73%|█████████████████████████████████████████████████████████▏                    | 1659/2265 [21:55<05:05,  1.98it/s]"
     ]
    },
    {
     "name": "stdout",
     "output_type": "stream",
     "text": [
      "This is the pipeline with appositions going both ways\n"
     ]
    },
    {
     "name": "stderr",
     "output_type": "stream",
     "text": [
      " 73%|█████████████████████████████████████████████████████████▏                    | 1660/2265 [21:55<04:35,  2.20it/s]"
     ]
    },
    {
     "name": "stdout",
     "output_type": "stream",
     "text": [
      "This is the pipeline with appositions going both ways\n"
     ]
    },
    {
     "name": "stderr",
     "output_type": "stream",
     "text": [
      " 73%|█████████████████████████████████████████████████████████▏                    | 1661/2265 [21:55<04:04,  2.47it/s]"
     ]
    },
    {
     "name": "stdout",
     "output_type": "stream",
     "text": [
      "This is the pipeline with appositions going both ways\n"
     ]
    },
    {
     "name": "stderr",
     "output_type": "stream",
     "text": [
      " 73%|█████████████████████████████████████████████████████████▏                    | 1662/2265 [21:56<03:32,  2.84it/s]"
     ]
    },
    {
     "name": "stdout",
     "output_type": "stream",
     "text": [
      "This is the pipeline with appositions going both ways\n"
     ]
    },
    {
     "name": "stderr",
     "output_type": "stream",
     "text": [
      " 73%|█████████████████████████████████████████████████████████▎                    | 1663/2265 [21:56<03:51,  2.60it/s]"
     ]
    },
    {
     "name": "stdout",
     "output_type": "stream",
     "text": [
      "2025-06-05 16:05:03.305 | INFO     | pipeline.correction.correction2:generate_possible_corrections:352 - Konnte Korrekturvorschlag '*' nicht erstellen: list index out of range\n",
      "2025-06-05 16:05:03.313 | INFO     | pipeline.correction.correction2:generate_possible_corrections:459 - Konnte Korrekturvorschlag 'BOTH_FORMS' nicht erstellen: list index out of range\n",
      "This is the pipeline with appositions going both ways\n"
     ]
    },
    {
     "name": "stderr",
     "output_type": "stream",
     "text": [
      " 73%|█████████████████████████████████████████████████████████▎                    | 1664/2265 [21:56<03:42,  2.71it/s]"
     ]
    },
    {
     "name": "stdout",
     "output_type": "stream",
     "text": [
      "2025-06-05 16:05:03.669 | INFO     | pipeline.correction.correction2:generate_possible_corrections:501 - Konnte Korrekturvorschlag '*' nicht erstellen: list index out of range\n",
      "2025-06-05 16:05:03.681 | INFO     | pipeline.correction.correction2:generate_possible_corrections:519 - Konnte Korrekturvorschlag 'PLURAL_*' nicht erstellen: list index out of range\n",
      "This is the pipeline with appositions going both ways\n"
     ]
    },
    {
     "name": "stderr",
     "output_type": "stream",
     "text": [
      " 74%|█████████████████████████████████████████████████████████▎                    | 1665/2265 [21:57<03:13,  3.09it/s]"
     ]
    },
    {
     "name": "stdout",
     "output_type": "stream",
     "text": [
      "This is the pipeline with appositions going both ways\n"
     ]
    },
    {
     "name": "stderr",
     "output_type": "stream",
     "text": [
      " 74%|█████████████████████████████████████████████████████████▎                    | 1666/2265 [21:57<02:52,  3.47it/s]"
     ]
    },
    {
     "name": "stdout",
     "output_type": "stream",
     "text": [
      "This is the pipeline with appositions going both ways\n"
     ]
    },
    {
     "name": "stderr",
     "output_type": "stream",
     "text": [
      " 74%|█████████████████████████████████████████████████████████▍                    | 1667/2265 [21:57<03:10,  3.14it/s]"
     ]
    },
    {
     "name": "stdout",
     "output_type": "stream",
     "text": [
      "This is the pipeline with appositions going both ways\n"
     ]
    },
    {
     "name": "stderr",
     "output_type": "stream",
     "text": [
      " 74%|█████████████████████████████████████████████████████████▍                    | 1668/2265 [21:57<02:56,  3.38it/s]"
     ]
    },
    {
     "name": "stdout",
     "output_type": "stream",
     "text": [
      "This is the pipeline with appositions going both ways\n"
     ]
    },
    {
     "name": "stderr",
     "output_type": "stream",
     "text": [
      " 74%|█████████████████████████████████████████████████████████▍                    | 1669/2265 [21:58<03:07,  3.17it/s]"
     ]
    },
    {
     "name": "stdout",
     "output_type": "stream",
     "text": [
      "This is the pipeline with appositions going both ways\n"
     ]
    },
    {
     "name": "stderr",
     "output_type": "stream",
     "text": [
      " 74%|█████████████████████████████████████████████████████████▌                    | 1670/2265 [21:59<04:14,  2.33it/s]"
     ]
    },
    {
     "name": "stdout",
     "output_type": "stream",
     "text": [
      "This is the pipeline with appositions going both ways\n"
     ]
    },
    {
     "name": "stderr",
     "output_type": "stream",
     "text": [
      " 74%|█████████████████████████████████████████████████████████▌                    | 1671/2265 [22:00<08:43,  1.13it/s]"
     ]
    },
    {
     "name": "stdout",
     "output_type": "stream",
     "text": [
      "2025-06-05 16:05:07.576 | INFO     | pipeline.correction.correction2:generate_possible_corrections:352 - Konnte Korrekturvorschlag '*' nicht erstellen: list index out of range\n",
      "2025-06-05 16:05:07.585 | INFO     | pipeline.correction.correction2:generate_possible_corrections:459 - Konnte Korrekturvorschlag 'BOTH_FORMS' nicht erstellen: list index out of range\n",
      "This is the pipeline with appositions going both ways\n"
     ]
    },
    {
     "name": "stderr",
     "output_type": "stream",
     "text": [
      " 74%|█████████████████████████████████████████████████████████▌                    | 1672/2265 [22:01<07:32,  1.31it/s]"
     ]
    },
    {
     "name": "stdout",
     "output_type": "stream",
     "text": [
      "This is the pipeline with appositions going both ways\n"
     ]
    },
    {
     "name": "stderr",
     "output_type": "stream",
     "text": [
      " 74%|█████████████████████████████████████████████████████████▌                    | 1673/2265 [22:02<08:18,  1.19it/s]"
     ]
    },
    {
     "name": "stdout",
     "output_type": "stream",
     "text": [
      "2025-06-05 16:05:09.149 | INFO     | pipeline.correction.correction2:generate_possible_corrections:501 - Konnte Korrekturvorschlag '*' nicht erstellen: list index out of range\n",
      "2025-06-05 16:05:09.162 | INFO     | pipeline.correction.correction2:generate_possible_corrections:519 - Konnte Korrekturvorschlag 'PLURAL_*' nicht erstellen: list index out of range\n",
      "This is the pipeline with appositions going both ways\n"
     ]
    },
    {
     "name": "stderr",
     "output_type": "stream",
     "text": [
      " 74%|█████████████████████████████████████████████████████████▋                    | 1674/2265 [22:02<06:45,  1.46it/s]"
     ]
    },
    {
     "name": "stdout",
     "output_type": "stream",
     "text": [
      "This is the pipeline with appositions going both ways\n"
     ]
    },
    {
     "name": "stderr",
     "output_type": "stream",
     "text": [
      " 74%|█████████████████████████████████████████████████████████▋                    | 1675/2265 [22:03<06:17,  1.56it/s]"
     ]
    },
    {
     "name": "stdout",
     "output_type": "stream",
     "text": [
      "This is the pipeline with appositions going both ways\n"
     ]
    },
    {
     "name": "stderr",
     "output_type": "stream",
     "text": [
      " 74%|█████████████████████████████████████████████████████████▋                    | 1676/2265 [22:04<06:22,  1.54it/s]"
     ]
    },
    {
     "name": "stdout",
     "output_type": "stream",
     "text": [
      "2025-06-05 16:05:10.757 | INFO     | pipeline.correction.correction2:generate_possible_corrections:352 - Konnte Korrekturvorschlag '*' nicht erstellen: list index out of range\n",
      "2025-06-05 16:05:10.765 | INFO     | pipeline.correction.correction2:generate_possible_corrections:459 - Konnte Korrekturvorschlag 'BOTH_FORMS' nicht erstellen: list index out of range\n",
      "This is the pipeline with appositions going both ways\n"
     ]
    },
    {
     "name": "stderr",
     "output_type": "stream",
     "text": [
      " 74%|█████████████████████████████████████████████████████████▊                    | 1677/2265 [22:04<05:36,  1.75it/s]"
     ]
    },
    {
     "name": "stdout",
     "output_type": "stream",
     "text": [
      "This is the pipeline with appositions going both ways\n"
     ]
    },
    {
     "name": "stderr",
     "output_type": "stream",
     "text": [
      " 74%|█████████████████████████████████████████████████████████▊                    | 1678/2265 [22:04<05:06,  1.92it/s]"
     ]
    },
    {
     "name": "stdout",
     "output_type": "stream",
     "text": [
      "This is the pipeline with appositions going both ways\n"
     ]
    },
    {
     "name": "stderr",
     "output_type": "stream",
     "text": [
      " 74%|█████████████████████████████████████████████████████████▊                    | 1679/2265 [22:05<06:39,  1.47it/s]"
     ]
    },
    {
     "name": "stdout",
     "output_type": "stream",
     "text": [
      "This is the pipeline with appositions going both ways\n"
     ]
    },
    {
     "name": "stderr",
     "output_type": "stream",
     "text": [
      " 74%|█████████████████████████████████████████████████████████▊                    | 1680/2265 [22:06<05:34,  1.75it/s]"
     ]
    },
    {
     "name": "stdout",
     "output_type": "stream",
     "text": [
      "This is the pipeline with appositions going both ways\n"
     ]
    },
    {
     "name": "stderr",
     "output_type": "stream",
     "text": [
      " 74%|█████████████████████████████████████████████████████████▉                    | 1681/2265 [22:06<05:21,  1.82it/s]"
     ]
    },
    {
     "name": "stdout",
     "output_type": "stream",
     "text": [
      "This is the pipeline with appositions going both ways\n"
     ]
    },
    {
     "name": "stderr",
     "output_type": "stream",
     "text": [
      " 74%|█████████████████████████████████████████████████████████▉                    | 1682/2265 [22:06<04:22,  2.22it/s]"
     ]
    },
    {
     "name": "stdout",
     "output_type": "stream",
     "text": [
      "2025-06-05 16:05:13.650 | INFO     | pipeline.correction.correction2:generate_possible_corrections:352 - Konnte Korrekturvorschlag '*' nicht erstellen: list index out of range\n",
      "2025-06-05 16:05:13.659 | INFO     | pipeline.correction.correction2:generate_possible_corrections:459 - Konnte Korrekturvorschlag 'BOTH_FORMS' nicht erstellen: list index out of range\n",
      "This is the pipeline with appositions going both ways\n"
     ]
    },
    {
     "name": "stderr",
     "output_type": "stream",
     "text": [
      " 74%|█████████████████████████████████████████████████████████▉                    | 1683/2265 [22:07<03:57,  2.45it/s]"
     ]
    },
    {
     "name": "stdout",
     "output_type": "stream",
     "text": [
      "2025-06-05 16:05:13.938 | INFO     | pipeline.correction.correction2:generate_possible_corrections:352 - Konnte Korrekturvorschlag '*' nicht erstellen: list index out of range\n",
      "2025-06-05 16:05:13.950 | INFO     | pipeline.correction.correction2:generate_possible_corrections:459 - Konnte Korrekturvorschlag 'BOTH_FORMS' nicht erstellen: list index out of range\n",
      "This is the pipeline with appositions going both ways\n"
     ]
    },
    {
     "name": "stderr",
     "output_type": "stream",
     "text": [
      " 74%|█████████████████████████████████████████████████████████▉                    | 1684/2265 [22:07<03:34,  2.70it/s]"
     ]
    },
    {
     "name": "stdout",
     "output_type": "stream",
     "text": [
      "This is the pipeline with appositions going both ways\n"
     ]
    },
    {
     "name": "stderr",
     "output_type": "stream",
     "text": [
      " 74%|██████████████████████████████████████████████████████████                    | 1685/2265 [22:07<03:29,  2.77it/s]"
     ]
    },
    {
     "name": "stdout",
     "output_type": "stream",
     "text": [
      "2025-06-05 16:05:14.467 | INFO     | pipeline.correction.correction2:generate_possible_corrections:501 - Konnte Korrekturvorschlag '*' nicht erstellen: list index out of range\n",
      "2025-06-05 16:05:14.479 | INFO     | pipeline.correction.correction2:generate_possible_corrections:519 - Konnte Korrekturvorschlag 'PLURAL_*' nicht erstellen: list index out of range\n",
      "2025-06-05 16:05:14.539 | INFO     | pipeline.correction.correction2:generate_possible_corrections:501 - Konnte Korrekturvorschlag '*' nicht erstellen: list index out of range\n",
      "2025-06-05 16:05:14.550 | INFO     | pipeline.correction.correction2:generate_possible_corrections:519 - Konnte Korrekturvorschlag 'PLURAL_*' nicht erstellen: list index out of range\n",
      "This is the pipeline with appositions going both ways\n"
     ]
    },
    {
     "name": "stderr",
     "output_type": "stream",
     "text": [
      " 74%|██████████████████████████████████████████████████████████                    | 1686/2265 [22:08<03:37,  2.66it/s]"
     ]
    },
    {
     "name": "stdout",
     "output_type": "stream",
     "text": [
      "This is the pipeline with appositions going both ways\n",
      "2025-06-05 16:05:17.570 | INFO     | pipeline.correction.correction2:generate_possible_corrections:501 - Konnte Korrekturvorschlag '*' nicht erstellen: list index out of range\n",
      "2025-06-05 16:05:17.582 | INFO     | pipeline.correction.correction2:generate_possible_corrections:519 - Konnte Korrekturvorschlag 'PLURAL_*' nicht erstellen: list index out of range\n",
      "2025-06-05 16:05:17.919 | INFO     | pipeline.correction.correction2:generate_possible_corrections:501 - Konnte Korrekturvorschlag '*' nicht erstellen: list index out of range\n",
      "2025-06-05 16:05:17.931 | INFO     | pipeline.correction.correction2:generate_possible_corrections:519 - Konnte Korrekturvorschlag 'PLURAL_*' nicht erstellen: list index out of range\n"
     ]
    },
    {
     "name": "stderr",
     "output_type": "stream",
     "text": [
      " 74%|██████████████████████████████████████████████████████████                    | 1687/2265 [22:11<12:50,  1.33s/it]"
     ]
    },
    {
     "name": "stdout",
     "output_type": "stream",
     "text": [
      "This is the pipeline with appositions going both ways\n"
     ]
    },
    {
     "name": "stderr",
     "output_type": "stream",
     "text": [
      " 75%|██████████████████████████████████████████████████████████▏                   | 1688/2265 [22:12<10:27,  1.09s/it]"
     ]
    },
    {
     "name": "stdout",
     "output_type": "stream",
     "text": [
      "This is the pipeline with appositions going both ways\n"
     ]
    },
    {
     "name": "stderr",
     "output_type": "stream",
     "text": [
      " 75%|██████████████████████████████████████████████████████████▏                   | 1689/2265 [22:13<09:27,  1.01it/s]"
     ]
    },
    {
     "name": "stdout",
     "output_type": "stream",
     "text": [
      "This is the pipeline with appositions going both ways\n"
     ]
    },
    {
     "name": "stderr",
     "output_type": "stream",
     "text": [
      " 75%|██████████████████████████████████████████████████████████▏                   | 1690/2265 [22:13<09:00,  1.06it/s]"
     ]
    },
    {
     "name": "stdout",
     "output_type": "stream",
     "text": [
      "This is the pipeline with appositions going both ways\n"
     ]
    },
    {
     "name": "stderr",
     "output_type": "stream",
     "text": [
      " 75%|██████████████████████████████████████████████████████████▏                   | 1691/2265 [22:14<07:50,  1.22it/s]"
     ]
    },
    {
     "name": "stdout",
     "output_type": "stream",
     "text": [
      "2025-06-05 16:05:21.152 | INFO     | pipeline.correction.correction2:generate_possible_corrections:352 - Konnte Korrekturvorschlag '*' nicht erstellen: list index out of range\n",
      "2025-06-05 16:05:21.161 | INFO     | pipeline.correction.correction2:generate_possible_corrections:459 - Konnte Korrekturvorschlag 'BOTH_FORMS' nicht erstellen: list index out of range\n",
      "This is the pipeline with appositions going both ways\n"
     ]
    },
    {
     "name": "stderr",
     "output_type": "stream",
     "text": [
      " 75%|██████████████████████████████████████████████████████████▎                   | 1692/2265 [22:14<06:21,  1.50it/s]"
     ]
    },
    {
     "name": "stdout",
     "output_type": "stream",
     "text": [
      "This is the pipeline with appositions going both ways\n"
     ]
    },
    {
     "name": "stderr",
     "output_type": "stream",
     "text": [
      " 75%|██████████████████████████████████████████████████████████▎                   | 1693/2265 [22:15<06:15,  1.53it/s]"
     ]
    },
    {
     "name": "stdout",
     "output_type": "stream",
     "text": [
      "This is the pipeline with appositions going both ways\n"
     ]
    },
    {
     "name": "stderr",
     "output_type": "stream",
     "text": [
      " 75%|██████████████████████████████████████████████████████████▎                   | 1694/2265 [22:16<06:09,  1.54it/s]"
     ]
    },
    {
     "name": "stdout",
     "output_type": "stream",
     "text": [
      "This is the pipeline with appositions going both ways\n"
     ]
    },
    {
     "name": "stderr",
     "output_type": "stream",
     "text": [
      " 75%|██████████████████████████████████████████████████████████▎                   | 1695/2265 [22:16<06:03,  1.57it/s]"
     ]
    },
    {
     "name": "stdout",
     "output_type": "stream",
     "text": [
      "This is the pipeline with appositions going both ways\n"
     ]
    },
    {
     "name": "stderr",
     "output_type": "stream",
     "text": [
      " 75%|██████████████████████████████████████████████████████████▍                   | 1696/2265 [22:17<06:40,  1.42it/s]"
     ]
    },
    {
     "name": "stdout",
     "output_type": "stream",
     "text": [
      "This is the pipeline with appositions going both ways\n"
     ]
    },
    {
     "name": "stderr",
     "output_type": "stream",
     "text": [
      " 75%|██████████████████████████████████████████████████████████▍                   | 1697/2265 [22:17<05:27,  1.74it/s]"
     ]
    },
    {
     "name": "stdout",
     "output_type": "stream",
     "text": [
      "2025-06-05 16:05:24.490 | INFO     | pipeline.correction.correction2:generate_possible_corrections:501 - Konnte Korrekturvorschlag '*' nicht erstellen: list index out of range\n",
      "2025-06-05 16:05:24.499 | INFO     | pipeline.correction.correction2:generate_possible_corrections:519 - Konnte Korrekturvorschlag 'PLURAL_*' nicht erstellen: list index out of range\n",
      "This is the pipeline with appositions going both ways\n"
     ]
    },
    {
     "name": "stderr",
     "output_type": "stream",
     "text": [
      " 75%|██████████████████████████████████████████████████████████▍                   | 1698/2265 [22:18<05:20,  1.77it/s]"
     ]
    },
    {
     "name": "stdout",
     "output_type": "stream",
     "text": [
      "This is the pipeline with appositions going both ways\n"
     ]
    },
    {
     "name": "stderr",
     "output_type": "stream",
     "text": [
      " 75%|██████████████████████████████████████████████████████████▌                   | 1699/2265 [22:18<04:26,  2.12it/s]"
     ]
    },
    {
     "name": "stdout",
     "output_type": "stream",
     "text": [
      "This is the pipeline with appositions going both ways\n"
     ]
    },
    {
     "name": "stderr",
     "output_type": "stream",
     "text": [
      " 75%|██████████████████████████████████████████████████████████▌                   | 1700/2265 [22:18<04:06,  2.29it/s]"
     ]
    },
    {
     "name": "stdout",
     "output_type": "stream",
     "text": [
      "2025-06-05 16:05:25.542 | INFO     | pipeline.correction.correction2:generate_possible_corrections:501 - Konnte Korrekturvorschlag '*' nicht erstellen: list index out of range\n",
      "2025-06-05 16:05:25.556 | INFO     | pipeline.correction.correction2:generate_possible_corrections:519 - Konnte Korrekturvorschlag 'PLURAL_*' nicht erstellen: list index out of range\n",
      "This is the pipeline with appositions going both ways\n"
     ]
    },
    {
     "name": "stderr",
     "output_type": "stream",
     "text": [
      " 75%|██████████████████████████████████████████████████████████▌                   | 1701/2265 [22:19<03:36,  2.61it/s]"
     ]
    },
    {
     "name": "stdout",
     "output_type": "stream",
     "text": [
      "This is the pipeline with appositions going both ways\n"
     ]
    },
    {
     "name": "stderr",
     "output_type": "stream",
     "text": [
      " 75%|██████████████████████████████████████████████████████████▌                   | 1702/2265 [22:19<03:19,  2.83it/s]"
     ]
    },
    {
     "name": "stdout",
     "output_type": "stream",
     "text": [
      "This is the pipeline with appositions going both ways\n"
     ]
    },
    {
     "name": "stderr",
     "output_type": "stream",
     "text": [
      " 75%|██████████████████████████████████████████████████████████▋                   | 1703/2265 [22:20<03:57,  2.36it/s]"
     ]
    },
    {
     "name": "stdout",
     "output_type": "stream",
     "text": [
      "2025-06-05 16:05:26.619 | INFO     | pipeline.correction.correction2:generate_possible_corrections:501 - Konnte Korrekturvorschlag '*' nicht erstellen: list index out of range\n",
      "2025-06-05 16:05:26.633 | INFO     | pipeline.correction.correction2:generate_possible_corrections:519 - Konnte Korrekturvorschlag 'PLURAL_*' nicht erstellen: list index out of range\n",
      "This is the pipeline with appositions going both ways\n"
     ]
    },
    {
     "name": "stderr",
     "output_type": "stream",
     "text": [
      " 75%|██████████████████████████████████████████████████████████▋                   | 1704/2265 [22:20<03:37,  2.58it/s]"
     ]
    },
    {
     "name": "stdout",
     "output_type": "stream",
     "text": [
      "This is the pipeline with appositions going both ways\n",
      "2025-06-05 16:05:30.339 | INFO     | pipeline.correction.correction2:generate_possible_corrections:501 - Konnte Korrekturvorschlag '*' nicht erstellen: list index out of range\n",
      "2025-06-05 16:05:30.353 | INFO     | pipeline.correction.correction2:generate_possible_corrections:519 - Konnte Korrekturvorschlag 'PLURAL_*' nicht erstellen: list index out of range\n"
     ]
    },
    {
     "name": "stderr",
     "output_type": "stream",
     "text": [
      " 75%|██████████████████████████████████████████████████████████▋                   | 1705/2265 [22:24<14:44,  1.58s/it]"
     ]
    },
    {
     "name": "stdout",
     "output_type": "stream",
     "text": [
      "This is the pipeline with appositions going both ways\n"
     ]
    },
    {
     "name": "stderr",
     "output_type": "stream",
     "text": [
      " 75%|██████████████████████████████████████████████████████████▋                   | 1706/2265 [22:24<10:59,  1.18s/it]"
     ]
    },
    {
     "name": "stdout",
     "output_type": "stream",
     "text": [
      "This is the pipeline with appositions going both ways\n"
     ]
    },
    {
     "name": "stderr",
     "output_type": "stream",
     "text": [
      " 75%|██████████████████████████████████████████████████████████▊                   | 1707/2265 [22:25<09:20,  1.01s/it]"
     ]
    },
    {
     "name": "stdout",
     "output_type": "stream",
     "text": [
      "2025-06-05 16:05:32.137 | INFO     | pipeline.correction.correction2:generate_possible_corrections:352 - Konnte Korrekturvorschlag '*' nicht erstellen: list index out of range\n",
      "2025-06-05 16:05:32.151 | INFO     | pipeline.correction.correction2:generate_possible_corrections:459 - Konnte Korrekturvorschlag 'BOTH_FORMS' nicht erstellen: list index out of range\n",
      "This is the pipeline with appositions going both ways\n"
     ]
    },
    {
     "name": "stderr",
     "output_type": "stream",
     "text": [
      " 75%|██████████████████████████████████████████████████████████▊                   | 1708/2265 [22:26<08:26,  1.10it/s]"
     ]
    },
    {
     "name": "stdout",
     "output_type": "stream",
     "text": [
      "This is the pipeline with appositions going both ways\n",
      "2025-06-05 16:05:33.610 | INFO     | pipeline.correction.correction2:generate_possible_corrections:501 - Konnte Korrekturvorschlag '*' nicht erstellen: list index out of range\n",
      "2025-06-05 16:05:33.624 | INFO     | pipeline.correction.correction2:generate_possible_corrections:519 - Konnte Korrekturvorschlag 'PLURAL_*' nicht erstellen: list index out of range\n"
     ]
    },
    {
     "name": "stderr",
     "output_type": "stream",
     "text": [
      " 75%|██████████████████████████████████████████████████████████▊                   | 1709/2265 [22:27<08:20,  1.11it/s]"
     ]
    },
    {
     "name": "stdout",
     "output_type": "stream",
     "text": [
      "This is the pipeline with appositions going both ways\n"
     ]
    },
    {
     "name": "stderr",
     "output_type": "stream",
     "text": [
      " 75%|██████████████████████████████████████████████████████████▉                   | 1710/2265 [22:27<07:00,  1.32it/s]"
     ]
    },
    {
     "name": "stdout",
     "output_type": "stream",
     "text": [
      "This is the pipeline with appositions going both ways\n"
     ]
    },
    {
     "name": "stderr",
     "output_type": "stream",
     "text": [
      " 76%|██████████████████████████████████████████████████████████▉                   | 1711/2265 [22:28<06:44,  1.37it/s]"
     ]
    },
    {
     "name": "stdout",
     "output_type": "stream",
     "text": [
      "This is the pipeline with appositions going both ways\n"
     ]
    },
    {
     "name": "stderr",
     "output_type": "stream",
     "text": [
      " 76%|██████████████████████████████████████████████████████████▉                   | 1712/2265 [22:28<05:58,  1.54it/s]"
     ]
    },
    {
     "name": "stdout",
     "output_type": "stream",
     "text": [
      "This is the pipeline with appositions going both ways\n"
     ]
    },
    {
     "name": "stderr",
     "output_type": "stream",
     "text": [
      " 76%|██████████████████████████████████████████████████████████▉                   | 1713/2265 [22:29<05:10,  1.78it/s]"
     ]
    },
    {
     "name": "stdout",
     "output_type": "stream",
     "text": [
      "This is the pipeline with appositions going both ways\n"
     ]
    },
    {
     "name": "stderr",
     "output_type": "stream",
     "text": [
      " 76%|███████████████████████████████████████████████████████████                   | 1714/2265 [22:29<04:30,  2.04it/s]"
     ]
    },
    {
     "name": "stdout",
     "output_type": "stream",
     "text": [
      "This is the pipeline with appositions going both ways\n"
     ]
    },
    {
     "name": "stderr",
     "output_type": "stream",
     "text": [
      " 76%|███████████████████████████████████████████████████████████                   | 1715/2265 [22:30<05:25,  1.69it/s]"
     ]
    },
    {
     "name": "stdout",
     "output_type": "stream",
     "text": [
      "2025-06-05 16:05:36.811 | INFO     | pipeline.correction.correction2:generate_possible_corrections:501 - Konnte Korrekturvorschlag '*' nicht erstellen: list index out of range\n",
      "2025-06-05 16:05:36.824 | INFO     | pipeline.correction.correction2:generate_possible_corrections:519 - Konnte Korrekturvorschlag 'PLURAL_*' nicht erstellen: list index out of range\n",
      "2025-06-05 16:05:36.848 | INFO     | pipeline.correction.correction2:generate_possible_corrections:501 - Konnte Korrekturvorschlag '*' nicht erstellen: list index out of range\n",
      "2025-06-05 16:05:36.861 | INFO     | pipeline.correction.correction2:generate_possible_corrections:519 - Konnte Korrekturvorschlag 'PLURAL_*' nicht erstellen: list index out of range\n",
      "This is the pipeline with appositions going both ways\n"
     ]
    },
    {
     "name": "stderr",
     "output_type": "stream",
     "text": [
      " 76%|███████████████████████████████████████████████████████████                   | 1716/2265 [22:30<04:33,  2.01it/s]"
     ]
    },
    {
     "name": "stdout",
     "output_type": "stream",
     "text": [
      "This is the pipeline with appositions going both ways\n"
     ]
    },
    {
     "name": "stderr",
     "output_type": "stream",
     "text": [
      " 76%|███████████████████████████████████████████████████████████▏                  | 1717/2265 [22:30<04:36,  1.98it/s]"
     ]
    },
    {
     "name": "stdout",
     "output_type": "stream",
     "text": [
      "This is the pipeline with appositions going both ways\n"
     ]
    },
    {
     "name": "stderr",
     "output_type": "stream",
     "text": [
      " 76%|███████████████████████████████████████████████████████████▏                  | 1718/2265 [22:31<04:19,  2.10it/s]"
     ]
    },
    {
     "name": "stdout",
     "output_type": "stream",
     "text": [
      "This is the pipeline with appositions going both ways\n"
     ]
    },
    {
     "name": "stderr",
     "output_type": "stream",
     "text": [
      " 76%|███████████████████████████████████████████████████████████▏                  | 1719/2265 [22:32<04:56,  1.84it/s]"
     ]
    },
    {
     "name": "stdout",
     "output_type": "stream",
     "text": [
      "This is the pipeline with appositions going both ways\n"
     ]
    },
    {
     "name": "stderr",
     "output_type": "stream",
     "text": [
      " 76%|███████████████████████████████████████████████████████████▏                  | 1720/2265 [22:32<04:54,  1.85it/s]"
     ]
    },
    {
     "name": "stdout",
     "output_type": "stream",
     "text": [
      "This is the pipeline with appositions going both ways\n"
     ]
    },
    {
     "name": "stderr",
     "output_type": "stream",
     "text": [
      " 76%|███████████████████████████████████████████████████████████▎                  | 1721/2265 [22:32<04:15,  2.13it/s]"
     ]
    },
    {
     "name": "stdout",
     "output_type": "stream",
     "text": [
      "This is the pipeline with appositions going both ways\n"
     ]
    },
    {
     "name": "stderr",
     "output_type": "stream",
     "text": [
      " 76%|███████████████████████████████████████████████████████████▎                  | 1722/2265 [22:33<04:40,  1.94it/s]"
     ]
    },
    {
     "name": "stdout",
     "output_type": "stream",
     "text": [
      "This is the pipeline with appositions going both ways\n"
     ]
    },
    {
     "name": "stderr",
     "output_type": "stream",
     "text": [
      " 76%|███████████████████████████████████████████████████████████▎                  | 1723/2265 [22:33<04:16,  2.12it/s]"
     ]
    },
    {
     "name": "stdout",
     "output_type": "stream",
     "text": [
      "2025-06-05 16:05:40.607 | INFO     | pipeline.correction.correction2:generate_possible_corrections:501 - Konnte Korrekturvorschlag '*' nicht erstellen: list index out of range\n",
      "2025-06-05 16:05:40.621 | INFO     | pipeline.correction.correction2:generate_possible_corrections:519 - Konnte Korrekturvorschlag 'PLURAL_*' nicht erstellen: list index out of range\n",
      "2025-06-05 16:05:40.652 | INFO     | pipeline.correction.correction2:generate_possible_corrections:501 - Konnte Korrekturvorschlag '*' nicht erstellen: list index out of range\n",
      "2025-06-05 16:05:40.665 | INFO     | pipeline.correction.correction2:generate_possible_corrections:519 - Konnte Korrekturvorschlag 'PLURAL_*' nicht erstellen: list index out of range\n",
      "This is the pipeline with appositions going both ways\n"
     ]
    },
    {
     "name": "stderr",
     "output_type": "stream",
     "text": [
      " 76%|███████████████████████████████████████████████████████████▎                  | 1724/2265 [22:34<05:20,  1.69it/s]"
     ]
    },
    {
     "name": "stdout",
     "output_type": "stream",
     "text": [
      "This is the pipeline with appositions going both ways\n"
     ]
    },
    {
     "name": "stderr",
     "output_type": "stream",
     "text": [
      " 76%|███████████████████████████████████████████████████████████▍                  | 1725/2265 [22:35<04:35,  1.96it/s]"
     ]
    },
    {
     "name": "stdout",
     "output_type": "stream",
     "text": [
      "This is the pipeline with appositions going both ways\n"
     ]
    },
    {
     "name": "stderr",
     "output_type": "stream",
     "text": [
      " 76%|███████████████████████████████████████████████████████████▍                  | 1726/2265 [22:35<03:53,  2.31it/s]"
     ]
    },
    {
     "name": "stdout",
     "output_type": "stream",
     "text": [
      "This is the pipeline with appositions going both ways\n"
     ]
    },
    {
     "name": "stderr",
     "output_type": "stream",
     "text": [
      " 76%|███████████████████████████████████████████████████████████▍                  | 1727/2265 [22:35<03:31,  2.54it/s]"
     ]
    },
    {
     "name": "stdout",
     "output_type": "stream",
     "text": [
      "This is the pipeline with appositions going both ways\n"
     ]
    },
    {
     "name": "stderr",
     "output_type": "stream",
     "text": [
      " 76%|███████████████████████████████████████████████████████████▌                  | 1728/2265 [22:35<03:09,  2.83it/s]"
     ]
    },
    {
     "name": "stdout",
     "output_type": "stream",
     "text": [
      "2025-06-05 16:05:42.656 | INFO     | pipeline.correction.correction2:generate_possible_corrections:352 - Konnte Korrekturvorschlag '*' nicht erstellen: list index out of range\n",
      "2025-06-05 16:05:42.669 | INFO     | pipeline.correction.correction2:generate_possible_corrections:459 - Konnte Korrekturvorschlag 'BOTH_FORMS' nicht erstellen: list index out of range\n",
      "This is the pipeline with appositions going both ways\n"
     ]
    },
    {
     "name": "stderr",
     "output_type": "stream",
     "text": [
      " 76%|███████████████████████████████████████████████████████████▌                  | 1729/2265 [22:36<02:47,  3.20it/s]"
     ]
    },
    {
     "name": "stdout",
     "output_type": "stream",
     "text": [
      "This is the pipeline with appositions going both ways\n"
     ]
    },
    {
     "name": "stderr",
     "output_type": "stream",
     "text": [
      " 76%|███████████████████████████████████████████████████████████▌                  | 1730/2265 [22:36<02:33,  3.49it/s]"
     ]
    },
    {
     "name": "stdout",
     "output_type": "stream",
     "text": [
      "This is the pipeline with appositions going both ways\n"
     ]
    },
    {
     "name": "stderr",
     "output_type": "stream",
     "text": [
      " 76%|███████████████████████████████████████████████████████████▌                  | 1731/2265 [22:39<09:18,  1.05s/it]"
     ]
    },
    {
     "name": "stdout",
     "output_type": "stream",
     "text": [
      "This is the pipeline with appositions going both ways\n"
     ]
    },
    {
     "name": "stderr",
     "output_type": "stream",
     "text": [
      " 76%|███████████████████████████████████████████████████████████▋                  | 1732/2265 [22:39<07:54,  1.12it/s]"
     ]
    },
    {
     "name": "stdout",
     "output_type": "stream",
     "text": [
      "This is the pipeline with appositions going both ways\n"
     ]
    },
    {
     "name": "stderr",
     "output_type": "stream",
     "text": [
      " 77%|███████████████████████████████████████████████████████████▋                  | 1733/2265 [22:39<06:06,  1.45it/s]"
     ]
    },
    {
     "name": "stdout",
     "output_type": "stream",
     "text": [
      "This is the pipeline with appositions going both ways\n"
     ]
    },
    {
     "name": "stderr",
     "output_type": "stream",
     "text": [
      " 77%|███████████████████████████████████████████████████████████▋                  | 1734/2265 [22:40<05:23,  1.64it/s]"
     ]
    },
    {
     "name": "stdout",
     "output_type": "stream",
     "text": [
      "This is the pipeline with appositions going both ways\n"
     ]
    },
    {
     "name": "stderr",
     "output_type": "stream",
     "text": [
      " 77%|███████████████████████████████████████████████████████████▋                  | 1735/2265 [22:41<06:19,  1.40it/s]"
     ]
    },
    {
     "name": "stdout",
     "output_type": "stream",
     "text": [
      "This is the pipeline with appositions going both ways\n"
     ]
    },
    {
     "name": "stderr",
     "output_type": "stream",
     "text": [
      " 77%|███████████████████████████████████████████████████████████▊                  | 1736/2265 [22:41<05:11,  1.70it/s]"
     ]
    },
    {
     "name": "stdout",
     "output_type": "stream",
     "text": [
      "This is the pipeline with appositions going both ways\n"
     ]
    },
    {
     "name": "stderr",
     "output_type": "stream",
     "text": [
      " 77%|███████████████████████████████████████████████████████████▊                  | 1737/2265 [22:41<04:38,  1.90it/s]"
     ]
    },
    {
     "name": "stdout",
     "output_type": "stream",
     "text": [
      "This is the pipeline with appositions going both ways\n"
     ]
    },
    {
     "name": "stderr",
     "output_type": "stream",
     "text": [
      " 77%|███████████████████████████████████████████████████████████▊                  | 1738/2265 [22:42<04:16,  2.05it/s]"
     ]
    },
    {
     "name": "stdout",
     "output_type": "stream",
     "text": [
      "2025-06-05 16:05:49.011 | INFO     | pipeline.correction.correction2:generate_possible_corrections:352 - Konnte Korrekturvorschlag '*' nicht erstellen: list index out of range\n",
      "2025-06-05 16:05:49.025 | INFO     | pipeline.correction.correction2:generate_possible_corrections:459 - Konnte Korrekturvorschlag 'BOTH_FORMS' nicht erstellen: list index out of range\n",
      "This is the pipeline with appositions going both ways\n"
     ]
    },
    {
     "name": "stderr",
     "output_type": "stream",
     "text": [
      " 77%|███████████████████████████████████████████████████████████▉                  | 1739/2265 [22:42<03:44,  2.35it/s]"
     ]
    },
    {
     "name": "stdout",
     "output_type": "stream",
     "text": [
      "This is the pipeline with appositions going both ways\n"
     ]
    },
    {
     "name": "stderr",
     "output_type": "stream",
     "text": [
      " 77%|███████████████████████████████████████████████████████████▉                  | 1740/2265 [22:44<07:12,  1.21it/s]"
     ]
    },
    {
     "name": "stdout",
     "output_type": "stream",
     "text": [
      "This is the pipeline with appositions going both ways\n",
      "2025-06-05 16:05:51.744 | INFO     | pipeline.correction.correction2:generate_possible_corrections:352 - Konnte Korrekturvorschlag '*' nicht erstellen: list index out of range\n",
      "2025-06-05 16:05:51.755 | INFO     | pipeline.correction.correction2:generate_possible_corrections:459 - Konnte Korrekturvorschlag 'BOTH_FORMS' nicht erstellen: list index out of range\n",
      "2025-06-05 16:05:51.817 | INFO     | pipeline.correction.correction2:generate_possible_corrections:352 - Konnte Korrekturvorschlag '*' nicht erstellen: list index out of range\n",
      "2025-06-05 16:05:51.830 | INFO     | pipeline.correction.correction2:generate_possible_corrections:459 - Konnte Korrekturvorschlag 'BOTH_FORMS' nicht erstellen: list index out of range\n",
      "2025-06-05 16:05:51.904 | INFO     | pipeline.correction.correction2:generate_possible_corrections:352 - Konnte Korrekturvorschlag '*' nicht erstellen: list index out of range\n",
      "2025-06-05 16:05:51.919 | INFO     | pipeline.correction.correction2:generate_possible_corrections:459 - Konnte Korrekturvorschlag 'BOTH_FORMS' nicht erstellen: list index out of range\n"
     ]
    },
    {
     "name": "stderr",
     "output_type": "stream",
     "text": [
      " 77%|███████████████████████████████████████████████████████████▉                  | 1741/2265 [22:45<07:20,  1.19it/s]"
     ]
    },
    {
     "name": "stdout",
     "output_type": "stream",
     "text": [
      "This is the pipeline with appositions going both ways\n"
     ]
    },
    {
     "name": "stderr",
     "output_type": "stream",
     "text": [
      " 77%|███████████████████████████████████████████████████████████▉                  | 1742/2265 [22:46<08:27,  1.03it/s]"
     ]
    },
    {
     "name": "stdout",
     "output_type": "stream",
     "text": [
      "This is the pipeline with appositions going both ways\n",
      "2025-06-05 16:05:54.797 | INFO     | pipeline.correction.correction2:generate_possible_corrections:501 - Konnte Korrekturvorschlag '*' nicht erstellen: list index out of range\n",
      "2025-06-05 16:05:54.798 | INFO     | pipeline.correction.correction2:generate_possible_corrections:519 - Konnte Korrekturvorschlag 'PLURAL_*' nicht erstellen: list index out of range\n"
     ]
    },
    {
     "name": "stderr",
     "output_type": "stream",
     "text": [
      " 77%|████████████████████████████████████████████████████████████                  | 1743/2265 [22:48<11:06,  1.28s/it]"
     ]
    },
    {
     "name": "stdout",
     "output_type": "stream",
     "text": [
      "2025-06-05 16:05:55.268 | INFO     | pipeline.correction.correction2:generate_possible_corrections:501 - Konnte Korrekturvorschlag '*' nicht erstellen: list index out of range\n",
      "2025-06-05 16:05:55.280 | INFO     | pipeline.correction.correction2:generate_possible_corrections:519 - Konnte Korrekturvorschlag 'PLURAL_*' nicht erstellen: list index out of range\n",
      "This is the pipeline with appositions going both ways\n"
     ]
    },
    {
     "name": "stderr",
     "output_type": "stream",
     "text": [
      " 77%|████████████████████████████████████████████████████████████                  | 1744/2265 [22:49<09:03,  1.04s/it]"
     ]
    },
    {
     "name": "stdout",
     "output_type": "stream",
     "text": [
      "2025-06-05 16:05:55.704 | ERROR    | pipeline.full_pipeline:full_pipeline:38 - Fehler bei needs_to_be_gendered() für 'Chef': Es darf nur ein Element mit dieser Beziehung geben. (ist mit sb, war aber [Gewinn, Driese])\n",
      "This is the pipeline with appositions going both ways\n"
     ]
    },
    {
     "name": "stderr",
     "output_type": "stream",
     "text": [
      " 77%|████████████████████████████████████████████████████████████                  | 1745/2265 [22:49<07:59,  1.08it/s]"
     ]
    },
    {
     "name": "stdout",
     "output_type": "stream",
     "text": [
      "This is the pipeline with appositions going both ways\n"
     ]
    },
    {
     "name": "stderr",
     "output_type": "stream",
     "text": [
      " 77%|████████████████████████████████████████████████████████████▏                 | 1746/2265 [22:50<08:11,  1.06it/s]"
     ]
    },
    {
     "name": "stdout",
     "output_type": "stream",
     "text": [
      "This is the pipeline with appositions going both ways\n"
     ]
    },
    {
     "name": "stderr",
     "output_type": "stream",
     "text": [
      " 77%|████████████████████████████████████████████████████████████▏                 | 1747/2265 [22:51<07:48,  1.11it/s]"
     ]
    },
    {
     "name": "stdout",
     "output_type": "stream",
     "text": [
      "This is the pipeline with appositions going both ways\n"
     ]
    },
    {
     "name": "stderr",
     "output_type": "stream",
     "text": [
      " 77%|████████████████████████████████████████████████████████████▏                 | 1748/2265 [22:52<08:14,  1.05it/s]"
     ]
    },
    {
     "name": "stdout",
     "output_type": "stream",
     "text": [
      "This is the pipeline with appositions going both ways\n"
     ]
    },
    {
     "name": "stderr",
     "output_type": "stream",
     "text": [
      " 77%|████████████████████████████████████████████████████████████▏                 | 1749/2265 [22:53<07:04,  1.22it/s]"
     ]
    },
    {
     "name": "stdout",
     "output_type": "stream",
     "text": [
      "This is the pipeline with appositions going both ways\n"
     ]
    },
    {
     "name": "stderr",
     "output_type": "stream",
     "text": [
      " 77%|████████████████████████████████████████████████████████████▎                 | 1750/2265 [22:53<05:38,  1.52it/s]"
     ]
    },
    {
     "name": "stdout",
     "output_type": "stream",
     "text": [
      "This is the pipeline with appositions going both ways\n"
     ]
    },
    {
     "name": "stderr",
     "output_type": "stream",
     "text": [
      " 77%|████████████████████████████████████████████████████████████▎                 | 1751/2265 [22:53<05:11,  1.65it/s]"
     ]
    },
    {
     "name": "stdout",
     "output_type": "stream",
     "text": [
      "2025-06-05 16:06:00.489 | INFO     | pipeline.correction.correction2:generate_possible_corrections:352 - Konnte Korrekturvorschlag '*' nicht erstellen: list index out of range\n",
      "2025-06-05 16:06:00.498 | INFO     | pipeline.correction.correction2:generate_possible_corrections:459 - Konnte Korrekturvorschlag 'BOTH_FORMS' nicht erstellen: list index out of range\n",
      "2025-06-05 16:06:00.568 | INFO     | pipeline.correction.correction2:generate_possible_corrections:501 - Konnte Korrekturvorschlag '*' nicht erstellen: list index out of range\n",
      "2025-06-05 16:06:00.581 | INFO     | pipeline.correction.correction2:generate_possible_corrections:519 - Konnte Korrekturvorschlag 'PLURAL_*' nicht erstellen: list index out of range\n",
      "This is the pipeline with appositions going both ways\n"
     ]
    },
    {
     "name": "stderr",
     "output_type": "stream",
     "text": [
      " 77%|████████████████████████████████████████████████████████████▎                 | 1752/2265 [22:54<04:44,  1.80it/s]"
     ]
    },
    {
     "name": "stdout",
     "output_type": "stream",
     "text": [
      "This is the pipeline with appositions going both ways\n",
      "2025-06-05 16:06:01.241 | INFO     | pipeline.correction.correction2:generate_possible_corrections:501 - Konnte Korrekturvorschlag '*' nicht erstellen: list index out of range\n",
      "2025-06-05 16:06:01.253 | INFO     | pipeline.correction.correction2:generate_possible_corrections:519 - Konnte Korrekturvorschlag 'PLURAL_*' nicht erstellen: list index out of range\n"
     ]
    },
    {
     "name": "stderr",
     "output_type": "stream",
     "text": [
      " 77%|████████████████████████████████████████████████████████████▎                 | 1753/2265 [22:54<04:07,  2.07it/s]"
     ]
    },
    {
     "name": "stdout",
     "output_type": "stream",
     "text": [
      "2025-06-05 16:06:01.270 | INFO     | pipeline.correction.correction2:generate_possible_corrections:501 - Konnte Korrekturvorschlag '*' nicht erstellen: list index out of range\n",
      "2025-06-05 16:06:01.282 | INFO     | pipeline.correction.correction2:generate_possible_corrections:519 - Konnte Korrekturvorschlag 'PLURAL_*' nicht erstellen: list index out of range\n",
      "2025-06-05 16:06:01.355 | INFO     | pipeline.correction.correction2:generate_possible_corrections:501 - Konnte Korrekturvorschlag '*' nicht erstellen: list index out of range\n",
      "2025-06-05 16:06:01.367 | INFO     | pipeline.correction.correction2:generate_possible_corrections:519 - Konnte Korrekturvorschlag 'PLURAL_*' nicht erstellen: list index out of range\n",
      "This is the pipeline with appositions going both ways\n"
     ]
    },
    {
     "name": "stderr",
     "output_type": "stream",
     "text": [
      " 77%|████████████████████████████████████████████████████████████▍                 | 1754/2265 [22:54<03:43,  2.29it/s]"
     ]
    },
    {
     "name": "stdout",
     "output_type": "stream",
     "text": [
      "2025-06-05 16:06:01.627 | INFO     | pipeline.correction.correction2:generate_possible_corrections:501 - Konnte Korrekturvorschlag '*' nicht erstellen: list index out of range\n",
      "2025-06-05 16:06:01.639 | INFO     | pipeline.correction.correction2:generate_possible_corrections:519 - Konnte Korrekturvorschlag 'PLURAL_*' nicht erstellen: list index out of range\n",
      "This is the pipeline with appositions going both ways\n"
     ]
    },
    {
     "name": "stderr",
     "output_type": "stream",
     "text": [
      " 77%|████████████████████████████████████████████████████████████▍                 | 1755/2265 [22:58<11:34,  1.36s/it]"
     ]
    },
    {
     "name": "stdout",
     "output_type": "stream",
     "text": [
      "This is the pipeline with appositions going both ways\n",
      "2025-06-05 16:06:06.504 | ERROR    | pipeline.full_pipeline:full_pipeline:38 - Fehler bei needs_to_be_gendered() für 'Chef': 'NoneType' object is not iterable\n",
      "2025-06-05 16:06:06.513 | ERROR    | pipeline.full_pipeline:full_pipeline:38 - Fehler bei needs_to_be_gendered() für 'Kollegen': 'NoneType' object is not iterable\n"
     ]
    },
    {
     "name": "stderr",
     "output_type": "stream",
     "text": [
      " 78%|████████████████████████████████████████████████████████████▍                 | 1756/2265 [23:00<12:39,  1.49s/it]"
     ]
    },
    {
     "name": "stdout",
     "output_type": "stream",
     "text": [
      "This is the pipeline with appositions going both ways\n"
     ]
    },
    {
     "name": "stderr",
     "output_type": "stream",
     "text": [
      " 78%|████████████████████████████████████████████████████████████▌                 | 1757/2265 [23:00<10:34,  1.25s/it]"
     ]
    },
    {
     "name": "stdout",
     "output_type": "stream",
     "text": [
      "This is the pipeline with appositions going both ways\n"
     ]
    },
    {
     "name": "stderr",
     "output_type": "stream",
     "text": [
      " 78%|████████████████████████████████████████████████████████████▌                 | 1758/2265 [23:01<08:26,  1.00it/s]"
     ]
    },
    {
     "name": "stdout",
     "output_type": "stream",
     "text": [
      "This is the pipeline with appositions going both ways\n"
     ]
    },
    {
     "name": "stderr",
     "output_type": "stream",
     "text": [
      " 78%|████████████████████████████████████████████████████████████▌                 | 1759/2265 [23:01<07:11,  1.17it/s]"
     ]
    },
    {
     "name": "stdout",
     "output_type": "stream",
     "text": [
      "This is the pipeline with appositions going both ways\n"
     ]
    },
    {
     "name": "stderr",
     "output_type": "stream",
     "text": [
      " 78%|████████████████████████████████████████████████████████████▌                 | 1760/2265 [23:02<06:35,  1.28it/s]"
     ]
    },
    {
     "name": "stdout",
     "output_type": "stream",
     "text": [
      "This is the pipeline with appositions going both ways\n",
      "2025-06-05 16:06:10.176 | INFO     | pipeline.correction.correction2:generate_possible_corrections:501 - Konnte Korrekturvorschlag '*' nicht erstellen: list index out of range\n",
      "2025-06-05 16:06:10.191 | INFO     | pipeline.correction.correction2:generate_possible_corrections:519 - Konnte Korrekturvorschlag 'PLURAL_*' nicht erstellen: list index out of range\n"
     ]
    },
    {
     "name": "stderr",
     "output_type": "stream",
     "text": [
      " 78%|████████████████████████████████████████████████████████████▋                 | 1761/2265 [23:03<07:45,  1.08it/s]"
     ]
    },
    {
     "name": "stdout",
     "output_type": "stream",
     "text": [
      "This is the pipeline with appositions going both ways\n"
     ]
    },
    {
     "name": "stderr",
     "output_type": "stream",
     "text": [
      " 78%|████████████████████████████████████████████████████████████▋                 | 1762/2265 [23:04<06:22,  1.32it/s]"
     ]
    },
    {
     "name": "stdout",
     "output_type": "stream",
     "text": [
      "This is the pipeline with appositions going both ways\n"
     ]
    },
    {
     "name": "stderr",
     "output_type": "stream",
     "text": [
      " 78%|████████████████████████████████████████████████████████████▋                 | 1763/2265 [23:04<06:07,  1.37it/s]"
     ]
    },
    {
     "name": "stdout",
     "output_type": "stream",
     "text": [
      "This is the pipeline with appositions going both ways\n"
     ]
    },
    {
     "name": "stderr",
     "output_type": "stream",
     "text": [
      " 78%|████████████████████████████████████████████████████████████▋                 | 1764/2265 [23:05<05:28,  1.53it/s]"
     ]
    },
    {
     "name": "stdout",
     "output_type": "stream",
     "text": [
      "This is the pipeline with appositions going both ways\n"
     ]
    },
    {
     "name": "stderr",
     "output_type": "stream",
     "text": [
      " 78%|████████████████████████████████████████████████████████████▊                 | 1765/2265 [23:05<05:10,  1.61it/s]"
     ]
    },
    {
     "name": "stdout",
     "output_type": "stream",
     "text": [
      "This is the pipeline with appositions going both ways\n"
     ]
    },
    {
     "name": "stderr",
     "output_type": "stream",
     "text": [
      " 78%|████████████████████████████████████████████████████████████▊                 | 1766/2265 [23:06<04:15,  1.95it/s]"
     ]
    },
    {
     "name": "stdout",
     "output_type": "stream",
     "text": [
      "This is the pipeline with appositions going both ways\n"
     ]
    },
    {
     "name": "stderr",
     "output_type": "stream",
     "text": [
      " 78%|████████████████████████████████████████████████████████████▊                 | 1767/2265 [23:06<04:16,  1.94it/s]"
     ]
    },
    {
     "name": "stdout",
     "output_type": "stream",
     "text": [
      "This is the pipeline with appositions going both ways\n"
     ]
    },
    {
     "name": "stderr",
     "output_type": "stream",
     "text": [
      " 78%|████████████████████████████████████████████████████████████▉                 | 1768/2265 [23:07<04:40,  1.77it/s]"
     ]
    },
    {
     "name": "stdout",
     "output_type": "stream",
     "text": [
      "This is the pipeline with appositions going both ways\n"
     ]
    },
    {
     "name": "stderr",
     "output_type": "stream",
     "text": [
      " 78%|████████████████████████████████████████████████████████████▉                 | 1769/2265 [23:07<04:34,  1.80it/s]"
     ]
    },
    {
     "name": "stdout",
     "output_type": "stream",
     "text": [
      "2025-06-05 16:06:14.355 | INFO     | pipeline.correction.correction2:generate_possible_corrections:501 - Konnte Korrekturvorschlag '*' nicht erstellen: list index out of range\n",
      "2025-06-05 16:06:14.356 | INFO     | pipeline.correction.correction2:generate_possible_corrections:519 - Konnte Korrekturvorschlag 'PLURAL_*' nicht erstellen: list index out of range\n",
      "This is the pipeline with appositions going both ways\n"
     ]
    },
    {
     "name": "stderr",
     "output_type": "stream",
     "text": [
      " 78%|████████████████████████████████████████████████████████████▉                 | 1770/2265 [23:08<04:04,  2.03it/s]"
     ]
    },
    {
     "name": "stdout",
     "output_type": "stream",
     "text": [
      "This is the pipeline with appositions going both ways\n"
     ]
    },
    {
     "name": "stderr",
     "output_type": "stream",
     "text": [
      " 78%|████████████████████████████████████████████████████████████▉                 | 1771/2265 [23:08<03:29,  2.36it/s]"
     ]
    },
    {
     "name": "stdout",
     "output_type": "stream",
     "text": [
      "This is the pipeline with appositions going both ways\n"
     ]
    },
    {
     "name": "stderr",
     "output_type": "stream",
     "text": [
      " 78%|█████████████████████████████████████████████████████████████                 | 1772/2265 [23:08<02:58,  2.77it/s]"
     ]
    },
    {
     "name": "stdout",
     "output_type": "stream",
     "text": [
      "This is the pipeline with appositions going both ways\n"
     ]
    },
    {
     "name": "stderr",
     "output_type": "stream",
     "text": [
      " 78%|█████████████████████████████████████████████████████████████                 | 1773/2265 [23:08<02:55,  2.80it/s]"
     ]
    },
    {
     "name": "stdout",
     "output_type": "stream",
     "text": [
      "This is the pipeline with appositions going both ways\n"
     ]
    },
    {
     "name": "stderr",
     "output_type": "stream",
     "text": [
      " 78%|█████████████████████████████████████████████████████████████                 | 1774/2265 [23:09<03:20,  2.45it/s]"
     ]
    },
    {
     "name": "stdout",
     "output_type": "stream",
     "text": [
      "This is the pipeline with appositions going both ways\n"
     ]
    },
    {
     "name": "stderr",
     "output_type": "stream",
     "text": [
      " 78%|█████████████████████████████████████████████████████████████▏                | 1775/2265 [23:11<06:26,  1.27it/s]"
     ]
    },
    {
     "name": "stdout",
     "output_type": "stream",
     "text": [
      "This is the pipeline with appositions going both ways\n"
     ]
    },
    {
     "name": "stderr",
     "output_type": "stream",
     "text": [
      " 78%|█████████████████████████████████████████████████████████████▏                | 1776/2265 [23:13<10:43,  1.32s/it]"
     ]
    },
    {
     "name": "stdout",
     "output_type": "stream",
     "text": [
      "This is the pipeline with appositions going both ways\n"
     ]
    },
    {
     "name": "stderr",
     "output_type": "stream",
     "text": [
      " 78%|█████████████████████████████████████████████████████████████▏                | 1777/2265 [23:13<08:04,  1.01it/s]"
     ]
    },
    {
     "name": "stdout",
     "output_type": "stream",
     "text": [
      "This is the pipeline with appositions going both ways\n"
     ]
    },
    {
     "name": "stderr",
     "output_type": "stream",
     "text": [
      " 78%|█████████████████████████████████████████████████████████████▏                | 1778/2265 [23:14<06:27,  1.26it/s]"
     ]
    },
    {
     "name": "stdout",
     "output_type": "stream",
     "text": [
      "This is the pipeline with appositions going both ways\n"
     ]
    },
    {
     "name": "stderr",
     "output_type": "stream",
     "text": [
      " 79%|█████████████████████████████████████████████████████████████▎                | 1779/2265 [23:14<05:29,  1.48it/s]"
     ]
    },
    {
     "name": "stdout",
     "output_type": "stream",
     "text": [
      "This is the pipeline with appositions going both ways\n"
     ]
    },
    {
     "name": "stderr",
     "output_type": "stream",
     "text": [
      " 79%|█████████████████████████████████████████████████████████████▎                | 1780/2265 [23:15<05:14,  1.54it/s]"
     ]
    },
    {
     "name": "stdout",
     "output_type": "stream",
     "text": [
      "This is the pipeline with appositions going both ways\n"
     ]
    },
    {
     "name": "stderr",
     "output_type": "stream",
     "text": [
      " 79%|█████████████████████████████████████████████████████████████▎                | 1781/2265 [23:15<04:49,  1.67it/s]"
     ]
    },
    {
     "name": "stdout",
     "output_type": "stream",
     "text": [
      "2025-06-05 16:06:22.375 | INFO     | pipeline.correction.correction2:generate_possible_corrections:501 - Konnte Korrekturvorschlag '*' nicht erstellen: list index out of range\n",
      "2025-06-05 16:06:22.385 | INFO     | pipeline.correction.correction2:generate_possible_corrections:519 - Konnte Korrekturvorschlag 'PLURAL_*' nicht erstellen: list index out of range\n",
      "2025-06-05 16:06:22.445 | INFO     | pipeline.correction.correction2:generate_possible_corrections:352 - Konnte Korrekturvorschlag '*' nicht erstellen: list index out of range\n",
      "2025-06-05 16:06:22.453 | INFO     | pipeline.correction.correction2:generate_possible_corrections:459 - Konnte Korrekturvorschlag 'BOTH_FORMS' nicht erstellen: list index out of range\n",
      "This is the pipeline with appositions going both ways\n"
     ]
    },
    {
     "name": "stderr",
     "output_type": "stream",
     "text": [
      " 79%|█████████████████████████████████████████████████████████████▎                | 1782/2265 [23:16<04:04,  1.98it/s]"
     ]
    },
    {
     "name": "stdout",
     "output_type": "stream",
     "text": [
      "This is the pipeline with appositions going both ways\n"
     ]
    },
    {
     "name": "stderr",
     "output_type": "stream",
     "text": [
      " 79%|█████████████████████████████████████████████████████████████▍                | 1783/2265 [23:17<07:03,  1.14it/s]"
     ]
    },
    {
     "name": "stdout",
     "output_type": "stream",
     "text": [
      "This is the pipeline with appositions going both ways\n"
     ]
    },
    {
     "name": "stderr",
     "output_type": "stream",
     "text": [
      " 79%|█████████████████████████████████████████████████████████████▍                | 1784/2265 [23:18<05:41,  1.41it/s]"
     ]
    },
    {
     "name": "stdout",
     "output_type": "stream",
     "text": [
      "This is the pipeline with appositions going both ways\n"
     ]
    },
    {
     "name": "stderr",
     "output_type": "stream",
     "text": [
      " 79%|█████████████████████████████████████████████████████████████▍                | 1785/2265 [23:18<04:46,  1.68it/s]"
     ]
    },
    {
     "name": "stdout",
     "output_type": "stream",
     "text": [
      "This is the pipeline with appositions going both ways\n"
     ]
    },
    {
     "name": "stderr",
     "output_type": "stream",
     "text": [
      " 79%|█████████████████████████████████████████████████████████████▌                | 1786/2265 [23:19<04:40,  1.71it/s]"
     ]
    },
    {
     "name": "stdout",
     "output_type": "stream",
     "text": [
      "This is the pipeline with appositions going both ways\n"
     ]
    },
    {
     "name": "stderr",
     "output_type": "stream",
     "text": [
      " 79%|█████████████████████████████████████████████████████████████▌                | 1787/2265 [23:19<03:52,  2.05it/s]"
     ]
    },
    {
     "name": "stdout",
     "output_type": "stream",
     "text": [
      "This is the pipeline with appositions going both ways\n"
     ]
    },
    {
     "name": "stderr",
     "output_type": "stream",
     "text": [
      " 79%|█████████████████████████████████████████████████████████████▌                | 1788/2265 [23:19<03:56,  2.02it/s]"
     ]
    },
    {
     "name": "stdout",
     "output_type": "stream",
     "text": [
      "This is the pipeline with appositions going both ways\n"
     ]
    },
    {
     "name": "stderr",
     "output_type": "stream",
     "text": [
      " 79%|█████████████████████████████████████████████████████████████▌                | 1789/2265 [23:20<03:19,  2.39it/s]"
     ]
    },
    {
     "name": "stdout",
     "output_type": "stream",
     "text": [
      "This is the pipeline with appositions going both ways\n"
     ]
    },
    {
     "name": "stderr",
     "output_type": "stream",
     "text": [
      " 79%|█████████████████████████████████████████████████████████████▋                | 1790/2265 [23:20<02:58,  2.67it/s]"
     ]
    },
    {
     "name": "stdout",
     "output_type": "stream",
     "text": [
      "This is the pipeline with appositions going both ways\n"
     ]
    },
    {
     "name": "stderr",
     "output_type": "stream",
     "text": [
      " 79%|█████████████████████████████████████████████████████████████▋                | 1791/2265 [23:20<02:49,  2.80it/s]"
     ]
    },
    {
     "name": "stdout",
     "output_type": "stream",
     "text": [
      "This is the pipeline with appositions going both ways\n",
      "2025-06-05 16:06:29.447 | INFO     | pipeline.correction.correction2:generate_possible_corrections:501 - Konnte Korrekturvorschlag '*' nicht erstellen: list index out of range\n",
      "2025-06-05 16:06:29.459 | INFO     | pipeline.correction.correction2:generate_possible_corrections:519 - Konnte Korrekturvorschlag 'PLURAL_*' nicht erstellen: list index out of range\n"
     ]
    },
    {
     "name": "stderr",
     "output_type": "stream",
     "text": [
      " 79%|█████████████████████████████████████████████████████████████▋                | 1792/2265 [23:23<08:12,  1.04s/it]"
     ]
    },
    {
     "name": "stdout",
     "output_type": "stream",
     "text": [
      "This is the pipeline with appositions going both ways\n"
     ]
    },
    {
     "name": "stderr",
     "output_type": "stream",
     "text": [
      " 79%|█████████████████████████████████████████████████████████████▋                | 1793/2265 [23:24<08:02,  1.02s/it]"
     ]
    },
    {
     "name": "stdout",
     "output_type": "stream",
     "text": [
      "This is the pipeline with appositions going both ways\n"
     ]
    },
    {
     "name": "stderr",
     "output_type": "stream",
     "text": [
      " 79%|█████████████████████████████████████████████████████████████▊                | 1794/2265 [23:24<06:11,  1.27it/s]"
     ]
    },
    {
     "name": "stdout",
     "output_type": "stream",
     "text": [
      "This is the pipeline with appositions going both ways\n"
     ]
    },
    {
     "name": "stderr",
     "output_type": "stream",
     "text": [
      " 79%|█████████████████████████████████████████████████████████████▊                | 1795/2265 [23:24<05:01,  1.56it/s]"
     ]
    },
    {
     "name": "stdout",
     "output_type": "stream",
     "text": [
      "This is the pipeline with appositions going both ways\n"
     ]
    },
    {
     "name": "stderr",
     "output_type": "stream",
     "text": [
      " 79%|█████████████████████████████████████████████████████████████▊                | 1796/2265 [23:25<04:30,  1.73it/s]"
     ]
    },
    {
     "name": "stdout",
     "output_type": "stream",
     "text": [
      "This is the pipeline with appositions going both ways\n"
     ]
    },
    {
     "name": "stderr",
     "output_type": "stream",
     "text": [
      " 79%|█████████████████████████████████████████████████████████████▉                | 1797/2265 [23:26<05:30,  1.42it/s]"
     ]
    },
    {
     "name": "stdout",
     "output_type": "stream",
     "text": [
      "2025-06-05 16:06:32.797 | INFO     | pipeline.correction.correction2:generate_possible_corrections:352 - Konnte Korrekturvorschlag '*' nicht erstellen: list index out of range\n",
      "2025-06-05 16:06:32.812 | INFO     | pipeline.correction.correction2:generate_possible_corrections:459 - Konnte Korrekturvorschlag 'BOTH_FORMS' nicht erstellen: list index out of range\n",
      "This is the pipeline with appositions going both ways\n"
     ]
    },
    {
     "name": "stderr",
     "output_type": "stream",
     "text": [
      " 79%|█████████████████████████████████████████████████████████████▉                | 1798/2265 [23:26<05:25,  1.43it/s]"
     ]
    },
    {
     "name": "stdout",
     "output_type": "stream",
     "text": [
      "2025-06-05 16:06:33.518 | INFO     | pipeline.correction.correction2:generate_possible_corrections:501 - Konnte Korrekturvorschlag '*' nicht erstellen: list index out of range\n",
      "2025-06-05 16:06:33.531 | INFO     | pipeline.correction.correction2:generate_possible_corrections:519 - Konnte Korrekturvorschlag 'PLURAL_*' nicht erstellen: list index out of range\n",
      "This is the pipeline with appositions going both ways\n"
     ]
    },
    {
     "name": "stderr",
     "output_type": "stream",
     "text": [
      " 79%|█████████████████████████████████████████████████████████████▉                | 1799/2265 [23:27<05:10,  1.50it/s]"
     ]
    },
    {
     "name": "stdout",
     "output_type": "stream",
     "text": [
      "2025-06-05 16:06:34.169 | INFO     | pipeline.correction.correction2:generate_possible_corrections:352 - Konnte Korrekturvorschlag '*' nicht erstellen: list index out of range\n",
      "2025-06-05 16:06:34.181 | INFO     | pipeline.correction.correction2:generate_possible_corrections:459 - Konnte Korrekturvorschlag 'BOTH_FORMS' nicht erstellen: list index out of range\n",
      "This is the pipeline with appositions going both ways\n"
     ]
    },
    {
     "name": "stderr",
     "output_type": "stream",
     "text": [
      " 79%|█████████████████████████████████████████████████████████████▉                | 1800/2265 [23:28<04:54,  1.58it/s]"
     ]
    },
    {
     "name": "stdout",
     "output_type": "stream",
     "text": [
      "This is the pipeline with appositions going both ways\n"
     ]
    },
    {
     "name": "stderr",
     "output_type": "stream",
     "text": [
      " 80%|██████████████████████████████████████████████████████████████                | 1801/2265 [23:28<03:59,  1.94it/s]"
     ]
    },
    {
     "name": "stdout",
     "output_type": "stream",
     "text": [
      "This is the pipeline with appositions going both ways\n"
     ]
    },
    {
     "name": "stderr",
     "output_type": "stream",
     "text": [
      " 80%|██████████████████████████████████████████████████████████████                | 1802/2265 [23:28<03:31,  2.18it/s]"
     ]
    },
    {
     "name": "stdout",
     "output_type": "stream",
     "text": [
      "This is the pipeline with appositions going both ways\n"
     ]
    },
    {
     "name": "stderr",
     "output_type": "stream",
     "text": [
      " 80%|██████████████████████████████████████████████████████████████                | 1803/2265 [23:28<03:05,  2.48it/s]"
     ]
    },
    {
     "name": "stdout",
     "output_type": "stream",
     "text": [
      "This is the pipeline with appositions going both ways\n"
     ]
    },
    {
     "name": "stderr",
     "output_type": "stream",
     "text": [
      " 80%|██████████████████████████████████████████████████████████████                | 1804/2265 [23:29<02:39,  2.89it/s]"
     ]
    },
    {
     "name": "stdout",
     "output_type": "stream",
     "text": [
      "This is the pipeline with appositions going both ways\n"
     ]
    },
    {
     "name": "stderr",
     "output_type": "stream",
     "text": [
      " 80%|██████████████████████████████████████████████████████████████▏               | 1805/2265 [23:29<02:27,  3.12it/s]"
     ]
    },
    {
     "name": "stdout",
     "output_type": "stream",
     "text": [
      "This is the pipeline with appositions going both ways\n"
     ]
    },
    {
     "name": "stderr",
     "output_type": "stream",
     "text": [
      " 80%|██████████████████████████████████████████████████████████████▏               | 1806/2265 [23:30<03:18,  2.32it/s]"
     ]
    },
    {
     "name": "stdout",
     "output_type": "stream",
     "text": [
      "This is the pipeline with appositions going both ways\n"
     ]
    },
    {
     "name": "stderr",
     "output_type": "stream",
     "text": [
      " 80%|██████████████████████████████████████████████████████████████▏               | 1807/2265 [23:30<03:34,  2.14it/s]"
     ]
    },
    {
     "name": "stdout",
     "output_type": "stream",
     "text": [
      "This is the pipeline with appositions going both ways\n"
     ]
    },
    {
     "name": "stderr",
     "output_type": "stream",
     "text": [
      " 80%|██████████████████████████████████████████████████████████████▎               | 1808/2265 [23:30<03:15,  2.33it/s]"
     ]
    },
    {
     "name": "stdout",
     "output_type": "stream",
     "text": [
      "This is the pipeline with appositions going both ways\n"
     ]
    },
    {
     "name": "stderr",
     "output_type": "stream",
     "text": [
      " 80%|██████████████████████████████████████████████████████████████▎               | 1809/2265 [23:31<04:11,  1.81it/s]"
     ]
    },
    {
     "name": "stdout",
     "output_type": "stream",
     "text": [
      "This is the pipeline with appositions going both ways\n"
     ]
    },
    {
     "name": "stderr",
     "output_type": "stream",
     "text": [
      " 80%|██████████████████████████████████████████████████████████████▎               | 1810/2265 [23:33<05:55,  1.28it/s]"
     ]
    },
    {
     "name": "stdout",
     "output_type": "stream",
     "text": [
      "This is the pipeline with appositions going both ways\n"
     ]
    },
    {
     "name": "stderr",
     "output_type": "stream",
     "text": [
      " 80%|██████████████████████████████████████████████████████████████▎               | 1811/2265 [23:33<04:44,  1.60it/s]"
     ]
    },
    {
     "name": "stdout",
     "output_type": "stream",
     "text": [
      "This is the pipeline with appositions going both ways\n"
     ]
    },
    {
     "name": "stderr",
     "output_type": "stream",
     "text": [
      " 80%|██████████████████████████████████████████████████████████████▍               | 1812/2265 [23:34<05:34,  1.36it/s]"
     ]
    },
    {
     "name": "stdout",
     "output_type": "stream",
     "text": [
      "This is the pipeline with appositions going both ways\n"
     ]
    },
    {
     "name": "stderr",
     "output_type": "stream",
     "text": [
      " 80%|██████████████████████████████████████████████████████████████▍               | 1813/2265 [23:34<04:39,  1.62it/s]"
     ]
    },
    {
     "name": "stdout",
     "output_type": "stream",
     "text": [
      "This is the pipeline with appositions going both ways\n"
     ]
    },
    {
     "name": "stderr",
     "output_type": "stream",
     "text": [
      " 80%|██████████████████████████████████████████████████████████████▍               | 1814/2265 [23:35<04:41,  1.60it/s]"
     ]
    },
    {
     "name": "stdout",
     "output_type": "stream",
     "text": [
      "2025-06-05 16:06:41.942 | INFO     | pipeline.correction.correction2:generate_possible_corrections:352 - Konnte Korrekturvorschlag '*' nicht erstellen: list index out of range\n",
      "2025-06-05 16:06:41.957 | INFO     | pipeline.correction.correction2:generate_possible_corrections:459 - Konnte Korrekturvorschlag 'BOTH_FORMS' nicht erstellen: list index out of range\n",
      "This is the pipeline with appositions going both ways\n"
     ]
    },
    {
     "name": "stderr",
     "output_type": "stream",
     "text": [
      " 80%|██████████████████████████████████████████████████████████████▌               | 1815/2265 [23:35<04:01,  1.86it/s]"
     ]
    },
    {
     "name": "stdout",
     "output_type": "stream",
     "text": [
      "This is the pipeline with appositions going both ways\n"
     ]
    },
    {
     "name": "stderr",
     "output_type": "stream",
     "text": [
      " 80%|██████████████████████████████████████████████████████████████▌               | 1816/2265 [23:35<03:19,  2.25it/s]"
     ]
    },
    {
     "name": "stdout",
     "output_type": "stream",
     "text": [
      "This is the pipeline with appositions going both ways\n"
     ]
    },
    {
     "name": "stderr",
     "output_type": "stream",
     "text": [
      " 80%|██████████████████████████████████████████████████████████████▌               | 1817/2265 [23:36<02:56,  2.54it/s]"
     ]
    },
    {
     "name": "stdout",
     "output_type": "stream",
     "text": [
      "This is the pipeline with appositions going both ways\n"
     ]
    },
    {
     "name": "stderr",
     "output_type": "stream",
     "text": [
      " 80%|██████████████████████████████████████████████████████████████▌               | 1818/2265 [23:36<03:15,  2.28it/s]"
     ]
    },
    {
     "name": "stdout",
     "output_type": "stream",
     "text": [
      "This is the pipeline with appositions going both ways\n"
     ]
    },
    {
     "name": "stderr",
     "output_type": "stream",
     "text": [
      " 80%|██████████████████████████████████████████████████████████████▋               | 1819/2265 [23:36<02:58,  2.50it/s]"
     ]
    },
    {
     "name": "stdout",
     "output_type": "stream",
     "text": [
      "This is the pipeline with appositions going both ways\n"
     ]
    },
    {
     "name": "stderr",
     "output_type": "stream",
     "text": [
      " 80%|██████████████████████████████████████████████████████████████▋               | 1820/2265 [23:37<02:48,  2.63it/s]"
     ]
    },
    {
     "name": "stdout",
     "output_type": "stream",
     "text": [
      "This is the pipeline with appositions going both ways\n"
     ]
    },
    {
     "name": "stderr",
     "output_type": "stream",
     "text": [
      " 80%|██████████████████████████████████████████████████████████████▋               | 1821/2265 [23:38<03:34,  2.07it/s]"
     ]
    },
    {
     "name": "stdout",
     "output_type": "stream",
     "text": [
      "This is the pipeline with appositions going both ways\n"
     ]
    },
    {
     "name": "stderr",
     "output_type": "stream",
     "text": [
      " 80%|██████████████████████████████████████████████████████████████▋               | 1822/2265 [23:38<03:02,  2.43it/s]"
     ]
    },
    {
     "name": "stdout",
     "output_type": "stream",
     "text": [
      "This is the pipeline with appositions going both ways\n"
     ]
    },
    {
     "name": "stderr",
     "output_type": "stream",
     "text": [
      " 80%|██████████████████████████████████████████████████████████████▊               | 1823/2265 [23:38<02:51,  2.58it/s]"
     ]
    },
    {
     "name": "stdout",
     "output_type": "stream",
     "text": [
      "This is the pipeline with appositions going both ways\n"
     ]
    },
    {
     "name": "stderr",
     "output_type": "stream",
     "text": [
      " 81%|██████████████████████████████████████████████████████████████▊               | 1824/2265 [23:39<02:53,  2.54it/s]"
     ]
    },
    {
     "name": "stdout",
     "output_type": "stream",
     "text": [
      "This is the pipeline with appositions going both ways\n"
     ]
    },
    {
     "name": "stderr",
     "output_type": "stream",
     "text": [
      " 81%|██████████████████████████████████████████████████████████████▊               | 1825/2265 [23:39<03:32,  2.07it/s]"
     ]
    },
    {
     "name": "stdout",
     "output_type": "stream",
     "text": [
      "This is the pipeline with appositions going both ways\n"
     ]
    },
    {
     "name": "stderr",
     "output_type": "stream",
     "text": [
      " 81%|██████████████████████████████████████████████████████████████▉               | 1826/2265 [23:40<03:28,  2.11it/s]"
     ]
    },
    {
     "name": "stdout",
     "output_type": "stream",
     "text": [
      "This is the pipeline with appositions going both ways\n"
     ]
    },
    {
     "name": "stderr",
     "output_type": "stream",
     "text": [
      " 81%|██████████████████████████████████████████████████████████████▉               | 1827/2265 [23:40<02:58,  2.46it/s]"
     ]
    },
    {
     "name": "stdout",
     "output_type": "stream",
     "text": [
      "This is the pipeline with appositions going both ways\n"
     ]
    },
    {
     "name": "stderr",
     "output_type": "stream",
     "text": [
      " 81%|██████████████████████████████████████████████████████████████▉               | 1828/2265 [23:41<03:51,  1.89it/s]"
     ]
    },
    {
     "name": "stdout",
     "output_type": "stream",
     "text": [
      "This is the pipeline with appositions going both ways\n"
     ]
    },
    {
     "name": "stderr",
     "output_type": "stream",
     "text": [
      " 81%|██████████████████████████████████████████████████████████████▉               | 1829/2265 [23:41<03:26,  2.12it/s]"
     ]
    },
    {
     "name": "stdout",
     "output_type": "stream",
     "text": [
      "This is the pipeline with appositions going both ways\n"
     ]
    },
    {
     "name": "stderr",
     "output_type": "stream",
     "text": [
      " 81%|███████████████████████████████████████████████████████████████               | 1830/2265 [23:42<03:24,  2.12it/s]"
     ]
    },
    {
     "name": "stdout",
     "output_type": "stream",
     "text": [
      "This is the pipeline with appositions going both ways\n"
     ]
    },
    {
     "name": "stderr",
     "output_type": "stream",
     "text": [
      " 81%|███████████████████████████████████████████████████████████████               | 1831/2265 [23:43<04:30,  1.61it/s]"
     ]
    },
    {
     "name": "stdout",
     "output_type": "stream",
     "text": [
      "2025-06-05 16:06:49.597 | INFO     | pipeline.correction.correction2:generate_possible_corrections:352 - Konnte Korrekturvorschlag '*' nicht erstellen: list index out of range\n",
      "2025-06-05 16:06:49.610 | INFO     | pipeline.correction.correction2:generate_possible_corrections:459 - Konnte Korrekturvorschlag 'BOTH_FORMS' nicht erstellen: list index out of range\n",
      "This is the pipeline with appositions going both ways\n"
     ]
    },
    {
     "name": "stderr",
     "output_type": "stream",
     "text": [
      " 81%|███████████████████████████████████████████████████████████████               | 1832/2265 [23:43<03:48,  1.89it/s]"
     ]
    },
    {
     "name": "stdout",
     "output_type": "stream",
     "text": [
      "This is the pipeline with appositions going both ways\n"
     ]
    },
    {
     "name": "stderr",
     "output_type": "stream",
     "text": [
      " 81%|███████████████████████████████████████████████████████████████               | 1833/2265 [23:43<03:38,  1.98it/s]"
     ]
    },
    {
     "name": "stdout",
     "output_type": "stream",
     "text": [
      "This is the pipeline with appositions going both ways\n"
     ]
    },
    {
     "name": "stderr",
     "output_type": "stream",
     "text": [
      " 81%|███████████████████████████████████████████████████████████████▏              | 1834/2265 [23:44<03:30,  2.05it/s]"
     ]
    },
    {
     "name": "stdout",
     "output_type": "stream",
     "text": [
      "This is the pipeline with appositions going both ways\n"
     ]
    },
    {
     "name": "stderr",
     "output_type": "stream",
     "text": [
      " 81%|███████████████████████████████████████████████████████████████▏              | 1835/2265 [23:44<03:42,  1.93it/s]"
     ]
    },
    {
     "name": "stdout",
     "output_type": "stream",
     "text": [
      "This is the pipeline with appositions going both ways\n"
     ]
    },
    {
     "name": "stderr",
     "output_type": "stream",
     "text": [
      " 81%|███████████████████████████████████████████████████████████████▏              | 1836/2265 [23:45<03:37,  1.97it/s]"
     ]
    },
    {
     "name": "stdout",
     "output_type": "stream",
     "text": [
      "This is the pipeline with appositions going both ways\n"
     ]
    },
    {
     "name": "stderr",
     "output_type": "stream",
     "text": [
      " 81%|███████████████████████████████████████████████████████████████▎              | 1837/2265 [23:45<03:10,  2.25it/s]"
     ]
    },
    {
     "name": "stdout",
     "output_type": "stream",
     "text": [
      "This is the pipeline with appositions going both ways\n"
     ]
    },
    {
     "name": "stderr",
     "output_type": "stream",
     "text": [
      " 81%|███████████████████████████████████████████████████████████████▎              | 1838/2265 [23:46<04:00,  1.77it/s]"
     ]
    },
    {
     "name": "stdout",
     "output_type": "stream",
     "text": [
      "This is the pipeline with appositions going both ways\n"
     ]
    },
    {
     "name": "stderr",
     "output_type": "stream",
     "text": [
      " 81%|███████████████████████████████████████████████████████████████▎              | 1839/2265 [23:46<03:32,  2.01it/s]"
     ]
    },
    {
     "name": "stdout",
     "output_type": "stream",
     "text": [
      "This is the pipeline with appositions going both ways\n"
     ]
    },
    {
     "name": "stderr",
     "output_type": "stream",
     "text": [
      " 81%|███████████████████████████████████████████████████████████████▎              | 1840/2265 [23:47<03:16,  2.17it/s]"
     ]
    },
    {
     "name": "stdout",
     "output_type": "stream",
     "text": [
      "This is the pipeline with appositions going both ways\n"
     ]
    },
    {
     "name": "stderr",
     "output_type": "stream",
     "text": [
      " 81%|███████████████████████████████████████████████████████████████▍              | 1841/2265 [23:47<02:48,  2.51it/s]"
     ]
    },
    {
     "name": "stdout",
     "output_type": "stream",
     "text": [
      "This is the pipeline with appositions going both ways\n"
     ]
    },
    {
     "name": "stderr",
     "output_type": "stream",
     "text": [
      " 81%|███████████████████████████████████████████████████████████████▍              | 1842/2265 [23:47<02:29,  2.84it/s]"
     ]
    },
    {
     "name": "stdout",
     "output_type": "stream",
     "text": [
      "2025-06-05 16:06:54.391 | INFO     | pipeline.correction.correction2:generate_possible_corrections:352 - Konnte Korrekturvorschlag '*' nicht erstellen: list index out of range\n",
      "2025-06-05 16:06:54.401 | INFO     | pipeline.correction.correction2:generate_possible_corrections:459 - Konnte Korrekturvorschlag 'BOTH_FORMS' nicht erstellen: list index out of range\n",
      "This is the pipeline with appositions going both ways\n"
     ]
    },
    {
     "name": "stderr",
     "output_type": "stream",
     "text": [
      " 81%|███████████████████████████████████████████████████████████████▍              | 1843/2265 [23:47<02:21,  2.98it/s]"
     ]
    },
    {
     "name": "stdout",
     "output_type": "stream",
     "text": [
      "This is the pipeline with appositions going both ways\n"
     ]
    },
    {
     "name": "stderr",
     "output_type": "stream",
     "text": [
      " 81%|███████████████████████████████████████████████████████████████▌              | 1844/2265 [23:48<02:13,  3.15it/s]"
     ]
    },
    {
     "name": "stdout",
     "output_type": "stream",
     "text": [
      "This is the pipeline with appositions going both ways\n"
     ]
    },
    {
     "name": "stderr",
     "output_type": "stream",
     "text": [
      " 81%|███████████████████████████████████████████████████████████████▌              | 1845/2265 [23:48<02:14,  3.13it/s]"
     ]
    },
    {
     "name": "stdout",
     "output_type": "stream",
     "text": [
      "This is the pipeline with appositions going both ways\n",
      "2025-06-05 16:06:55.907 | INFO     | pipeline.correction.correction2:generate_possible_corrections:501 - Konnte Korrekturvorschlag '*' nicht erstellen: list index out of range\n",
      "2025-06-05 16:06:55.919 | INFO     | pipeline.correction.correction2:generate_possible_corrections:519 - Konnte Korrekturvorschlag 'PLURAL_*' nicht erstellen: list index out of range\n"
     ]
    },
    {
     "name": "stderr",
     "output_type": "stream",
     "text": [
      " 82%|███████████████████████████████████████████████████████████████▌              | 1846/2265 [23:49<03:37,  1.93it/s]"
     ]
    },
    {
     "name": "stdout",
     "output_type": "stream",
     "text": [
      "2025-06-05 16:06:56.217 | INFO     | pipeline.correction.correction2:generate_possible_corrections:352 - Konnte Korrekturvorschlag '*' nicht erstellen: list index out of range\n",
      "2025-06-05 16:06:56.231 | INFO     | pipeline.correction.correction2:generate_possible_corrections:459 - Konnte Korrekturvorschlag 'BOTH_FORMS' nicht erstellen: list index out of range\n",
      "2025-06-05 16:06:56.255 | INFO     | pipeline.correction.correction2:generate_possible_corrections:352 - Konnte Korrekturvorschlag '*' nicht erstellen: list index out of range\n",
      "2025-06-05 16:06:56.268 | INFO     | pipeline.correction.correction2:generate_possible_corrections:459 - Konnte Korrekturvorschlag 'BOTH_FORMS' nicht erstellen: list index out of range\n",
      "2025-06-05 16:06:56.296 | INFO     | pipeline.correction.correction2:generate_possible_corrections:352 - Konnte Korrekturvorschlag '*' nicht erstellen: list index out of range\n",
      "2025-06-05 16:06:56.310 | INFO     | pipeline.correction.correction2:generate_possible_corrections:459 - Konnte Korrekturvorschlag 'BOTH_FORMS' nicht erstellen: list index out of range\n",
      "This is the pipeline with appositions going both ways\n"
     ]
    },
    {
     "name": "stderr",
     "output_type": "stream",
     "text": [
      " 82%|███████████████████████████████████████████████████████████████▌              | 1847/2265 [23:50<03:39,  1.90it/s]"
     ]
    },
    {
     "name": "stdout",
     "output_type": "stream",
     "text": [
      "This is the pipeline with appositions going both ways\n"
     ]
    },
    {
     "name": "stderr",
     "output_type": "stream",
     "text": [
      " 82%|███████████████████████████████████████████████████████████████▋              | 1848/2265 [23:50<03:39,  1.90it/s]"
     ]
    },
    {
     "name": "stdout",
     "output_type": "stream",
     "text": [
      "This is the pipeline with appositions going both ways\n"
     ]
    },
    {
     "name": "stderr",
     "output_type": "stream",
     "text": [
      " 82%|███████████████████████████████████████████████████████████████▋              | 1849/2265 [23:51<03:59,  1.73it/s]"
     ]
    },
    {
     "name": "stdout",
     "output_type": "stream",
     "text": [
      "This is the pipeline with appositions going both ways\n"
     ]
    },
    {
     "name": "stderr",
     "output_type": "stream",
     "text": [
      " 82%|███████████████████████████████████████████████████████████████▋              | 1850/2265 [23:52<04:12,  1.64it/s]"
     ]
    },
    {
     "name": "stdout",
     "output_type": "stream",
     "text": [
      "This is the pipeline with appositions going both ways\n"
     ]
    },
    {
     "name": "stderr",
     "output_type": "stream",
     "text": [
      " 82%|███████████████████████████████████████████████████████████████▋              | 1851/2265 [23:53<05:06,  1.35it/s]"
     ]
    },
    {
     "name": "stdout",
     "output_type": "stream",
     "text": [
      "2025-06-05 16:06:59.655 | INFO     | pipeline.correction.correction2:generate_possible_corrections:352 - Konnte Korrekturvorschlag '*' nicht erstellen: list index out of range\n",
      "2025-06-05 16:06:59.672 | INFO     | pipeline.correction.correction2:generate_possible_corrections:459 - Konnte Korrekturvorschlag 'BOTH_FORMS' nicht erstellen: list index out of range\n",
      "This is the pipeline with appositions going both ways\n"
     ]
    },
    {
     "name": "stderr",
     "output_type": "stream",
     "text": [
      " 82%|███████████████████████████████████████████████████████████████▊              | 1852/2265 [23:53<04:11,  1.64it/s]"
     ]
    },
    {
     "name": "stdout",
     "output_type": "stream",
     "text": [
      "2025-06-05 16:06:59.993 | INFO     | pipeline.correction.correction2:generate_possible_corrections:501 - Konnte Korrekturvorschlag '*' nicht erstellen: list index out of range\n",
      "2025-06-05 16:07:00.002 | INFO     | pipeline.correction.correction2:generate_possible_corrections:519 - Konnte Korrekturvorschlag 'PLURAL_*' nicht erstellen: list index out of range\n",
      "2025-06-05 16:07:00.084 | INFO     | pipeline.correction.correction2:generate_possible_corrections:501 - Konnte Korrekturvorschlag '*' nicht erstellen: list index out of range\n",
      "2025-06-05 16:07:00.096 | INFO     | pipeline.correction.correction2:generate_possible_corrections:519 - Konnte Korrekturvorschlag 'PLURAL_*' nicht erstellen: list index out of range\n",
      "This is the pipeline with appositions going both ways\n"
     ]
    },
    {
     "name": "stderr",
     "output_type": "stream",
     "text": [
      " 82%|███████████████████████████████████████████████████████████████▊              | 1853/2265 [23:54<04:23,  1.57it/s]"
     ]
    },
    {
     "name": "stdout",
     "output_type": "stream",
     "text": [
      "2025-06-05 16:07:00.664 | INFO     | pipeline.correction.correction2:generate_possible_corrections:501 - Konnte Korrekturvorschlag '*' nicht erstellen: list index out of range\n",
      "2025-06-05 16:07:00.676 | INFO     | pipeline.correction.correction2:generate_possible_corrections:519 - Konnte Korrekturvorschlag 'PLURAL_*' nicht erstellen: list index out of range\n",
      "This is the pipeline with appositions going both ways\n"
     ]
    },
    {
     "name": "stderr",
     "output_type": "stream",
     "text": [
      " 82%|███████████████████████████████████████████████████████████████▊              | 1854/2265 [23:54<03:40,  1.87it/s]"
     ]
    },
    {
     "name": "stdout",
     "output_type": "stream",
     "text": [
      "This is the pipeline with appositions going both ways\n"
     ]
    },
    {
     "name": "stderr",
     "output_type": "stream",
     "text": [
      " 82%|███████████████████████████████████████████████████████████████▉              | 1855/2265 [23:54<03:19,  2.05it/s]"
     ]
    },
    {
     "name": "stdout",
     "output_type": "stream",
     "text": [
      "This is the pipeline with appositions going both ways\n"
     ]
    },
    {
     "name": "stderr",
     "output_type": "stream",
     "text": [
      " 82%|███████████████████████████████████████████████████████████████▉              | 1856/2265 [23:55<03:58,  1.72it/s]"
     ]
    },
    {
     "name": "stdout",
     "output_type": "stream",
     "text": [
      "This is the pipeline with appositions going both ways\n"
     ]
    },
    {
     "name": "stderr",
     "output_type": "stream",
     "text": [
      " 82%|███████████████████████████████████████████████████████████████▉              | 1857/2265 [23:55<03:19,  2.04it/s]"
     ]
    },
    {
     "name": "stdout",
     "output_type": "stream",
     "text": [
      "This is the pipeline with appositions going both ways\n"
     ]
    },
    {
     "name": "stderr",
     "output_type": "stream",
     "text": [
      " 82%|███████████████████████████████████████████████████████████████▉              | 1858/2265 [23:56<03:23,  2.00it/s]"
     ]
    },
    {
     "name": "stdout",
     "output_type": "stream",
     "text": [
      "2025-06-05 16:07:02.999 | INFO     | pipeline.correction.correction2:generate_possible_corrections:352 - Konnte Korrekturvorschlag '*' nicht erstellen: list index out of range\n",
      "2025-06-05 16:07:03.011 | INFO     | pipeline.correction.correction2:generate_possible_corrections:459 - Konnte Korrekturvorschlag 'BOTH_FORMS' nicht erstellen: list index out of range\n",
      "This is the pipeline with appositions going both ways\n"
     ]
    },
    {
     "name": "stderr",
     "output_type": "stream",
     "text": [
      " 82%|████████████████████████████████████████████████████████████████              | 1859/2265 [23:56<02:56,  2.30it/s]"
     ]
    },
    {
     "name": "stdout",
     "output_type": "stream",
     "text": [
      "This is the pipeline with appositions going both ways\n"
     ]
    },
    {
     "name": "stderr",
     "output_type": "stream",
     "text": [
      " 82%|████████████████████████████████████████████████████████████████              | 1860/2265 [23:56<02:44,  2.47it/s]"
     ]
    },
    {
     "name": "stdout",
     "output_type": "stream",
     "text": [
      "This is the pipeline with appositions going both ways\n"
     ]
    },
    {
     "name": "stderr",
     "output_type": "stream",
     "text": [
      " 82%|████████████████████████████████████████████████████████████████              | 1861/2265 [23:57<03:07,  2.16it/s]"
     ]
    },
    {
     "name": "stdout",
     "output_type": "stream",
     "text": [
      "This is the pipeline with appositions going both ways\n"
     ]
    },
    {
     "name": "stderr",
     "output_type": "stream",
     "text": [
      " 82%|████████████████████████████████████████████████████████████████              | 1862/2265 [23:57<02:47,  2.41it/s]"
     ]
    },
    {
     "name": "stdout",
     "output_type": "stream",
     "text": [
      "This is the pipeline with appositions going both ways\n"
     ]
    },
    {
     "name": "stderr",
     "output_type": "stream",
     "text": [
      " 82%|████████████████████████████████████████████████████████████████▏             | 1863/2265 [23:58<02:32,  2.64it/s]"
     ]
    },
    {
     "name": "stdout",
     "output_type": "stream",
     "text": [
      "This is the pipeline with appositions going both ways\n"
     ]
    },
    {
     "name": "stderr",
     "output_type": "stream",
     "text": [
      " 82%|████████████████████████████████████████████████████████████████▏             | 1864/2265 [23:58<02:23,  2.80it/s]"
     ]
    },
    {
     "name": "stdout",
     "output_type": "stream",
     "text": [
      "This is the pipeline with appositions going both ways\n"
     ]
    },
    {
     "name": "stderr",
     "output_type": "stream",
     "text": [
      " 82%|████████████████████████████████████████████████████████████████▏             | 1865/2265 [23:58<02:11,  3.03it/s]"
     ]
    },
    {
     "name": "stdout",
     "output_type": "stream",
     "text": [
      "This is the pipeline with appositions going both ways\n"
     ]
    },
    {
     "name": "stderr",
     "output_type": "stream",
     "text": [
      " 82%|████████████████████████████████████████████████████████████████▎             | 1866/2265 [23:58<01:58,  3.37it/s]"
     ]
    },
    {
     "name": "stdout",
     "output_type": "stream",
     "text": [
      "This is the pipeline with appositions going both ways\n"
     ]
    },
    {
     "name": "stderr",
     "output_type": "stream",
     "text": [
      " 82%|████████████████████████████████████████████████████████████████▎             | 1867/2265 [23:59<01:59,  3.34it/s]"
     ]
    },
    {
     "name": "stdout",
     "output_type": "stream",
     "text": [
      "This is the pipeline with appositions going both ways\n"
     ]
    },
    {
     "name": "stderr",
     "output_type": "stream",
     "text": [
      " 82%|████████████████████████████████████████████████████████████████▎             | 1868/2265 [23:59<01:54,  3.47it/s]"
     ]
    },
    {
     "name": "stdout",
     "output_type": "stream",
     "text": [
      "This is the pipeline with appositions going both ways\n"
     ]
    },
    {
     "name": "stderr",
     "output_type": "stream",
     "text": [
      " 83%|████████████████████████████████████████████████████████████████▎             | 1869/2265 [23:59<02:02,  3.23it/s]"
     ]
    },
    {
     "name": "stdout",
     "output_type": "stream",
     "text": [
      "This is the pipeline with appositions going both ways\n"
     ]
    },
    {
     "name": "stderr",
     "output_type": "stream",
     "text": [
      " 83%|████████████████████████████████████████████████████████████████▍             | 1870/2265 [24:00<01:52,  3.51it/s]"
     ]
    },
    {
     "name": "stdout",
     "output_type": "stream",
     "text": [
      "This is the pipeline with appositions going both ways\n"
     ]
    },
    {
     "name": "stderr",
     "output_type": "stream",
     "text": [
      " 83%|████████████████████████████████████████████████████████████████▍             | 1871/2265 [24:00<02:28,  2.66it/s]"
     ]
    },
    {
     "name": "stdout",
     "output_type": "stream",
     "text": [
      "This is the pipeline with appositions going both ways\n"
     ]
    },
    {
     "name": "stderr",
     "output_type": "stream",
     "text": [
      " 83%|████████████████████████████████████████████████████████████████▍             | 1872/2265 [24:00<02:12,  2.96it/s]"
     ]
    },
    {
     "name": "stdout",
     "output_type": "stream",
     "text": [
      "This is the pipeline with appositions going both ways\n"
     ]
    },
    {
     "name": "stderr",
     "output_type": "stream",
     "text": [
      " 83%|████████████████████████████████████████████████████████████████▌             | 1873/2265 [24:01<02:06,  3.10it/s]"
     ]
    },
    {
     "name": "stdout",
     "output_type": "stream",
     "text": [
      "This is the pipeline with appositions going both ways\n"
     ]
    },
    {
     "name": "stderr",
     "output_type": "stream",
     "text": [
      " 83%|████████████████████████████████████████████████████████████████▌             | 1874/2265 [24:01<02:04,  3.15it/s]"
     ]
    },
    {
     "name": "stdout",
     "output_type": "stream",
     "text": [
      "This is the pipeline with appositions going both ways\n"
     ]
    },
    {
     "name": "stderr",
     "output_type": "stream",
     "text": [
      " 83%|████████████████████████████████████████████████████████████████▌             | 1875/2265 [24:01<01:57,  3.31it/s]"
     ]
    },
    {
     "name": "stdout",
     "output_type": "stream",
     "text": [
      "This is the pipeline with appositions going both ways\n"
     ]
    },
    {
     "name": "stderr",
     "output_type": "stream",
     "text": [
      " 83%|████████████████████████████████████████████████████████████████▌             | 1876/2265 [24:02<02:24,  2.68it/s]"
     ]
    },
    {
     "name": "stdout",
     "output_type": "stream",
     "text": [
      "This is the pipeline with appositions going both ways\n"
     ]
    },
    {
     "name": "stderr",
     "output_type": "stream",
     "text": [
      " 83%|████████████████████████████████████████████████████████████████▋             | 1877/2265 [24:02<02:45,  2.35it/s]"
     ]
    },
    {
     "name": "stdout",
     "output_type": "stream",
     "text": [
      "2025-06-05 16:07:09.460 | INFO     | pipeline.correction.correction2:generate_possible_corrections:352 - Konnte Korrekturvorschlag '*' nicht erstellen: list index out of range\n",
      "2025-06-05 16:07:09.467 | INFO     | pipeline.correction.correction2:generate_possible_corrections:459 - Konnte Korrekturvorschlag 'BOTH_FORMS' nicht erstellen: list index out of range\n",
      "This is the pipeline with appositions going both ways\n"
     ]
    },
    {
     "name": "stderr",
     "output_type": "stream",
     "text": [
      " 83%|████████████████████████████████████████████████████████████████▋             | 1878/2265 [24:03<03:07,  2.06it/s]"
     ]
    },
    {
     "name": "stdout",
     "output_type": "stream",
     "text": [
      "This is the pipeline with appositions going both ways\n"
     ]
    },
    {
     "name": "stderr",
     "output_type": "stream",
     "text": [
      " 83%|████████████████████████████████████████████████████████████████▋             | 1879/2265 [24:04<04:17,  1.50it/s]"
     ]
    },
    {
     "name": "stdout",
     "output_type": "stream",
     "text": [
      "This is the pipeline with appositions going both ways\n"
     ]
    },
    {
     "name": "stderr",
     "output_type": "stream",
     "text": [
      " 83%|████████████████████████████████████████████████████████████████▋             | 1880/2265 [24:05<04:29,  1.43it/s]"
     ]
    },
    {
     "name": "stdout",
     "output_type": "stream",
     "text": [
      "This is the pipeline with appositions going both ways\n"
     ]
    },
    {
     "name": "stderr",
     "output_type": "stream",
     "text": [
      " 83%|████████████████████████████████████████████████████████████████▊             | 1881/2265 [24:05<04:16,  1.50it/s]"
     ]
    },
    {
     "name": "stdout",
     "output_type": "stream",
     "text": [
      "2025-06-05 16:07:12.662 | INFO     | pipeline.correction.correction2:generate_possible_corrections:501 - Konnte Korrekturvorschlag '*' nicht erstellen: list index out of range\n",
      "2025-06-05 16:07:12.674 | INFO     | pipeline.correction.correction2:generate_possible_corrections:519 - Konnte Korrekturvorschlag 'PLURAL_*' nicht erstellen: list index out of range\n",
      "This is the pipeline with appositions going both ways\n"
     ]
    },
    {
     "name": "stderr",
     "output_type": "stream",
     "text": [
      " 83%|████████████████████████████████████████████████████████████████▊             | 1882/2265 [24:06<03:24,  1.87it/s]"
     ]
    },
    {
     "name": "stdout",
     "output_type": "stream",
     "text": [
      "This is the pipeline with appositions going both ways\n"
     ]
    },
    {
     "name": "stderr",
     "output_type": "stream",
     "text": [
      " 83%|████████████████████████████████████████████████████████████████▊             | 1883/2265 [24:06<02:55,  2.18it/s]"
     ]
    },
    {
     "name": "stdout",
     "output_type": "stream",
     "text": [
      "This is the pipeline with appositions going both ways\n"
     ]
    },
    {
     "name": "stderr",
     "output_type": "stream",
     "text": [
      " 83%|████████████████████████████████████████████████████████████████▉             | 1884/2265 [24:07<03:05,  2.06it/s]"
     ]
    },
    {
     "name": "stdout",
     "output_type": "stream",
     "text": [
      "This is the pipeline with appositions going both ways\n"
     ]
    },
    {
     "name": "stderr",
     "output_type": "stream",
     "text": [
      " 83%|████████████████████████████████████████████████████████████████▉             | 1885/2265 [24:07<02:43,  2.33it/s]"
     ]
    },
    {
     "name": "stdout",
     "output_type": "stream",
     "text": [
      "This is the pipeline with appositions going both ways\n"
     ]
    },
    {
     "name": "stderr",
     "output_type": "stream",
     "text": [
      " 83%|████████████████████████████████████████████████████████████████▉             | 1886/2265 [24:07<03:02,  2.08it/s]"
     ]
    },
    {
     "name": "stdout",
     "output_type": "stream",
     "text": [
      "2025-06-05 16:07:14.510 | INFO     | pipeline.correction.correction2:generate_possible_corrections:501 - Konnte Korrekturvorschlag '*' nicht erstellen: list index out of range\n",
      "2025-06-05 16:07:14.522 | INFO     | pipeline.correction.correction2:generate_possible_corrections:519 - Konnte Korrekturvorschlag 'PLURAL_*' nicht erstellen: list index out of range\n",
      "This is the pipeline with appositions going both ways\n"
     ]
    },
    {
     "name": "stderr",
     "output_type": "stream",
     "text": [
      " 83%|████████████████████████████████████████████████████████████████▉             | 1887/2265 [24:08<02:32,  2.48it/s]"
     ]
    },
    {
     "name": "stdout",
     "output_type": "stream",
     "text": [
      "This is the pipeline with appositions going both ways\n"
     ]
    },
    {
     "name": "stderr",
     "output_type": "stream",
     "text": [
      " 83%|█████████████████████████████████████████████████████████████████             | 1888/2265 [24:08<02:15,  2.77it/s]"
     ]
    },
    {
     "name": "stdout",
     "output_type": "stream",
     "text": [
      "This is the pipeline with appositions going both ways\n"
     ]
    },
    {
     "name": "stderr",
     "output_type": "stream",
     "text": [
      " 83%|█████████████████████████████████████████████████████████████████             | 1889/2265 [24:08<02:03,  3.05it/s]"
     ]
    },
    {
     "name": "stdout",
     "output_type": "stream",
     "text": [
      "This is the pipeline with appositions going both ways\n"
     ]
    },
    {
     "name": "stderr",
     "output_type": "stream",
     "text": [
      " 83%|█████████████████████████████████████████████████████████████████             | 1890/2265 [24:09<02:34,  2.43it/s]"
     ]
    },
    {
     "name": "stdout",
     "output_type": "stream",
     "text": [
      "This is the pipeline with appositions going both ways\n"
     ]
    },
    {
     "name": "stderr",
     "output_type": "stream",
     "text": [
      " 83%|█████████████████████████████████████████████████████████████████             | 1891/2265 [24:11<05:24,  1.15it/s]"
     ]
    },
    {
     "name": "stdout",
     "output_type": "stream",
     "text": [
      "This is the pipeline with appositions going both ways\n"
     ]
    },
    {
     "name": "stderr",
     "output_type": "stream",
     "text": [
      " 84%|█████████████████████████████████████████████████████████████████▏            | 1892/2265 [24:11<04:18,  1.44it/s]"
     ]
    },
    {
     "name": "stdout",
     "output_type": "stream",
     "text": [
      "This is the pipeline with appositions going both ways\n"
     ]
    },
    {
     "name": "stderr",
     "output_type": "stream",
     "text": [
      " 84%|█████████████████████████████████████████████████████████████████▏            | 1893/2265 [24:11<03:35,  1.72it/s]"
     ]
    },
    {
     "name": "stdout",
     "output_type": "stream",
     "text": [
      "This is the pipeline with appositions going both ways\n"
     ]
    },
    {
     "name": "stderr",
     "output_type": "stream",
     "text": [
      " 84%|█████████████████████████████████████████████████████████████████▏            | 1894/2265 [24:12<03:28,  1.78it/s]"
     ]
    },
    {
     "name": "stdout",
     "output_type": "stream",
     "text": [
      "This is the pipeline with appositions going both ways\n"
     ]
    },
    {
     "name": "stderr",
     "output_type": "stream",
     "text": [
      " 84%|█████████████████████████████████████████████████████████████████▎            | 1895/2265 [24:12<03:27,  1.79it/s]"
     ]
    },
    {
     "name": "stdout",
     "output_type": "stream",
     "text": [
      "2025-06-05 16:07:19.580 | INFO     | pipeline.correction.correction2:generate_possible_corrections:519 - Konnte Korrekturvorschlag 'PLURAL_*' nicht erstellen: list index out of range\n",
      "2025-06-05 16:07:19.611 | INFO     | pipeline.correction.correction2:generate_possible_corrections:352 - Konnte Korrekturvorschlag '*' nicht erstellen: list index out of range\n",
      "2025-06-05 16:07:19.619 | INFO     | pipeline.correction.correction2:generate_possible_corrections:459 - Konnte Korrekturvorschlag 'BOTH_FORMS' nicht erstellen: list index out of range\n",
      "This is the pipeline with appositions going both ways\n"
     ]
    },
    {
     "name": "stderr",
     "output_type": "stream",
     "text": [
      " 84%|█████████████████████████████████████████████████████████████████▎            | 1896/2265 [24:13<03:01,  2.03it/s]"
     ]
    },
    {
     "name": "stdout",
     "output_type": "stream",
     "text": [
      "This is the pipeline with appositions going both ways\n"
     ]
    },
    {
     "name": "stderr",
     "output_type": "stream",
     "text": [
      " 84%|█████████████████████████████████████████████████████████████████▎            | 1897/2265 [24:13<02:37,  2.34it/s]"
     ]
    },
    {
     "name": "stdout",
     "output_type": "stream",
     "text": [
      "This is the pipeline with appositions going both ways\n"
     ]
    },
    {
     "name": "stderr",
     "output_type": "stream",
     "text": [
      " 84%|█████████████████████████████████████████████████████████████████▎            | 1898/2265 [24:13<02:43,  2.24it/s]"
     ]
    },
    {
     "name": "stdout",
     "output_type": "stream",
     "text": [
      "This is the pipeline with appositions going both ways\n"
     ]
    },
    {
     "name": "stderr",
     "output_type": "stream",
     "text": [
      " 84%|█████████████████████████████████████████████████████████████████▍            | 1899/2265 [24:14<02:55,  2.09it/s]"
     ]
    },
    {
     "name": "stdout",
     "output_type": "stream",
     "text": [
      "2025-06-05 16:07:21.111 | INFO     | pipeline.correction.correction2:generate_possible_corrections:501 - Konnte Korrekturvorschlag '*' nicht erstellen: list index out of range\n",
      "2025-06-05 16:07:21.124 | INFO     | pipeline.correction.correction2:generate_possible_corrections:519 - Konnte Korrekturvorschlag 'PLURAL_*' nicht erstellen: list index out of range\n",
      "This is the pipeline with appositions going both ways\n"
     ]
    },
    {
     "name": "stderr",
     "output_type": "stream",
     "text": [
      " 84%|█████████████████████████████████████████████████████████████████▍            | 1900/2265 [24:15<03:13,  1.88it/s]"
     ]
    },
    {
     "name": "stdout",
     "output_type": "stream",
     "text": [
      "2025-06-05 16:07:21.893 | INFO     | pipeline.correction.correction2:generate_possible_corrections:501 - Konnte Korrekturvorschlag '*' nicht erstellen: list index out of range\n",
      "2025-06-05 16:07:21.905 | INFO     | pipeline.correction.correction2:generate_possible_corrections:519 - Konnte Korrekturvorschlag 'PLURAL_*' nicht erstellen: list index out of range\n",
      "This is the pipeline with appositions going both ways\n"
     ]
    },
    {
     "name": "stderr",
     "output_type": "stream",
     "text": [
      " 84%|█████████████████████████████████████████████████████████████████▍            | 1901/2265 [24:15<02:45,  2.19it/s]"
     ]
    },
    {
     "name": "stdout",
     "output_type": "stream",
     "text": [
      "This is the pipeline with appositions going both ways\n"
     ]
    },
    {
     "name": "stderr",
     "output_type": "stream",
     "text": [
      " 84%|█████████████████████████████████████████████████████████████████▍            | 1902/2265 [24:15<02:54,  2.07it/s]"
     ]
    },
    {
     "name": "stdout",
     "output_type": "stream",
     "text": [
      "This is the pipeline with appositions going both ways\n"
     ]
    },
    {
     "name": "stderr",
     "output_type": "stream",
     "text": [
      " 84%|█████████████████████████████████████████████████████████████████▌            | 1903/2265 [24:16<03:17,  1.83it/s]"
     ]
    },
    {
     "name": "stdout",
     "output_type": "stream",
     "text": [
      "This is the pipeline with appositions going both ways\n"
     ]
    },
    {
     "name": "stderr",
     "output_type": "stream",
     "text": [
      " 84%|█████████████████████████████████████████████████████████████████▌            | 1904/2265 [24:16<02:50,  2.12it/s]"
     ]
    },
    {
     "name": "stdout",
     "output_type": "stream",
     "text": [
      "This is the pipeline with appositions going both ways\n"
     ]
    },
    {
     "name": "stderr",
     "output_type": "stream",
     "text": [
      " 84%|█████████████████████████████████████████████████████████████████▌            | 1905/2265 [24:17<02:26,  2.45it/s]"
     ]
    },
    {
     "name": "stdout",
     "output_type": "stream",
     "text": [
      "This is the pipeline with appositions going both ways\n"
     ]
    },
    {
     "name": "stderr",
     "output_type": "stream",
     "text": [
      " 84%|█████████████████████████████████████████████████████████████████▋            | 1906/2265 [24:17<02:37,  2.28it/s]"
     ]
    },
    {
     "name": "stdout",
     "output_type": "stream",
     "text": [
      "This is the pipeline with appositions going both ways\n"
     ]
    },
    {
     "name": "stderr",
     "output_type": "stream",
     "text": [
      " 84%|█████████████████████████████████████████████████████████████████▋            | 1907/2265 [24:18<02:37,  2.27it/s]"
     ]
    },
    {
     "name": "stdout",
     "output_type": "stream",
     "text": [
      "2025-06-05 16:07:24.863 | INFO     | pipeline.correction.correction2:generate_possible_corrections:352 - Konnte Korrekturvorschlag '*' nicht erstellen: list index out of range\n",
      "2025-06-05 16:07:24.871 | INFO     | pipeline.correction.correction2:generate_possible_corrections:459 - Konnte Korrekturvorschlag 'BOTH_FORMS' nicht erstellen: list index out of range\n",
      "This is the pipeline with appositions going both ways\n"
     ]
    },
    {
     "name": "stderr",
     "output_type": "stream",
     "text": [
      " 84%|█████████████████████████████████████████████████████████████████▋            | 1908/2265 [24:18<02:23,  2.49it/s]"
     ]
    },
    {
     "name": "stdout",
     "output_type": "stream",
     "text": [
      "This is the pipeline with appositions going both ways\n"
     ]
    },
    {
     "name": "stderr",
     "output_type": "stream",
     "text": [
      " 84%|█████████████████████████████████████████████████████████████████▋            | 1909/2265 [24:19<03:18,  1.79it/s]"
     ]
    },
    {
     "name": "stdout",
     "output_type": "stream",
     "text": [
      "This is the pipeline with appositions going both ways\n"
     ]
    },
    {
     "name": "stderr",
     "output_type": "stream",
     "text": [
      " 84%|█████████████████████████████████████████████████████████████████▊            | 1910/2265 [24:19<02:54,  2.04it/s]"
     ]
    },
    {
     "name": "stdout",
     "output_type": "stream",
     "text": [
      "This is the pipeline with appositions going both ways\n"
     ]
    },
    {
     "name": "stderr",
     "output_type": "stream",
     "text": [
      " 84%|█████████████████████████████████████████████████████████████████▊            | 1911/2265 [24:20<02:32,  2.31it/s]"
     ]
    },
    {
     "name": "stdout",
     "output_type": "stream",
     "text": [
      "This is the pipeline with appositions going both ways\n"
     ]
    },
    {
     "name": "stderr",
     "output_type": "stream",
     "text": [
      " 84%|█████████████████████████████████████████████████████████████████▊            | 1912/2265 [24:20<03:08,  1.87it/s]"
     ]
    },
    {
     "name": "stdout",
     "output_type": "stream",
     "text": [
      "This is the pipeline with appositions going both ways\n"
     ]
    },
    {
     "name": "stderr",
     "output_type": "stream",
     "text": [
      " 84%|█████████████████████████████████████████████████████████████████▉            | 1913/2265 [24:21<02:43,  2.16it/s]"
     ]
    },
    {
     "name": "stdout",
     "output_type": "stream",
     "text": [
      "This is the pipeline with appositions going both ways\n"
     ]
    },
    {
     "name": "stderr",
     "output_type": "stream",
     "text": [
      " 85%|█████████████████████████████████████████████████████████████████▉            | 1914/2265 [24:21<03:24,  1.72it/s]"
     ]
    },
    {
     "name": "stdout",
     "output_type": "stream",
     "text": [
      "This is the pipeline with appositions going both ways\n"
     ]
    },
    {
     "name": "stderr",
     "output_type": "stream",
     "text": [
      " 85%|█████████████████████████████████████████████████████████████████▉            | 1915/2265 [24:23<04:22,  1.33it/s]"
     ]
    },
    {
     "name": "stdout",
     "output_type": "stream",
     "text": [
      "2025-06-05 16:07:29.793 | INFO     | pipeline.correction.correction2:generate_possible_corrections:501 - Konnte Korrekturvorschlag '*' nicht erstellen: list index out of range\n",
      "2025-06-05 16:07:29.805 | INFO     | pipeline.correction.correction2:generate_possible_corrections:519 - Konnte Korrekturvorschlag 'PLURAL_*' nicht erstellen: list index out of range\n",
      "2025-06-05 16:07:29.876 | INFO     | pipeline.correction.correction2:generate_possible_corrections:501 - Konnte Korrekturvorschlag '*' nicht erstellen: list index out of range\n",
      "2025-06-05 16:07:29.888 | INFO     | pipeline.correction.correction2:generate_possible_corrections:519 - Konnte Korrekturvorschlag 'PLURAL_*' nicht erstellen: list index out of range\n",
      "This is the pipeline with appositions going both ways\n"
     ]
    },
    {
     "name": "stderr",
     "output_type": "stream",
     "text": [
      " 85%|█████████████████████████████████████████████████████████████████▉            | 1916/2265 [24:23<04:17,  1.35it/s]"
     ]
    },
    {
     "name": "stdout",
     "output_type": "stream",
     "text": [
      "This is the pipeline with appositions going both ways\n"
     ]
    },
    {
     "name": "stderr",
     "output_type": "stream",
     "text": [
      " 85%|██████████████████████████████████████████████████████████████████            | 1917/2265 [24:24<03:31,  1.65it/s]"
     ]
    },
    {
     "name": "stdout",
     "output_type": "stream",
     "text": [
      "This is the pipeline with appositions going both ways\n"
     ]
    },
    {
     "name": "stderr",
     "output_type": "stream",
     "text": [
      " 85%|██████████████████████████████████████████████████████████████████            | 1918/2265 [24:24<02:58,  1.94it/s]"
     ]
    },
    {
     "name": "stdout",
     "output_type": "stream",
     "text": [
      "This is the pipeline with appositions going both ways\n"
     ]
    },
    {
     "name": "stderr",
     "output_type": "stream",
     "text": [
      " 85%|██████████████████████████████████████████████████████████████████            | 1919/2265 [24:25<03:45,  1.53it/s]"
     ]
    },
    {
     "name": "stdout",
     "output_type": "stream",
     "text": [
      "This is the pipeline with appositions going both ways\n"
     ]
    },
    {
     "name": "stderr",
     "output_type": "stream",
     "text": [
      " 85%|██████████████████████████████████████████████████████████████████            | 1920/2265 [24:25<03:07,  1.84it/s]"
     ]
    },
    {
     "name": "stdout",
     "output_type": "stream",
     "text": [
      "This is the pipeline with appositions going both ways\n"
     ]
    },
    {
     "name": "stderr",
     "output_type": "stream",
     "text": [
      " 85%|██████████████████████████████████████████████████████████████████▏           | 1921/2265 [24:25<02:34,  2.23it/s]"
     ]
    },
    {
     "name": "stdout",
     "output_type": "stream",
     "text": [
      "This is the pipeline with appositions going both ways\n"
     ]
    },
    {
     "name": "stderr",
     "output_type": "stream",
     "text": [
      " 85%|██████████████████████████████████████████████████████████████████▏           | 1922/2265 [24:26<02:29,  2.30it/s]"
     ]
    },
    {
     "name": "stdout",
     "output_type": "stream",
     "text": [
      "This is the pipeline with appositions going both ways\n"
     ]
    },
    {
     "name": "stderr",
     "output_type": "stream",
     "text": [
      " 85%|██████████████████████████████████████████████████████████████████▏           | 1923/2265 [24:26<02:11,  2.60it/s]"
     ]
    },
    {
     "name": "stdout",
     "output_type": "stream",
     "text": [
      "This is the pipeline with appositions going both ways\n"
     ]
    },
    {
     "name": "stderr",
     "output_type": "stream",
     "text": [
      " 85%|██████████████████████████████████████████████████████████████████▎           | 1924/2265 [24:26<01:56,  2.92it/s]"
     ]
    },
    {
     "name": "stdout",
     "output_type": "stream",
     "text": [
      "This is the pipeline with appositions going both ways\n"
     ]
    },
    {
     "name": "stderr",
     "output_type": "stream",
     "text": [
      " 85%|██████████████████████████████████████████████████████████████████▎           | 1925/2265 [24:27<01:55,  2.95it/s]"
     ]
    },
    {
     "name": "stdout",
     "output_type": "stream",
     "text": [
      "This is the pipeline with appositions going both ways\n"
     ]
    },
    {
     "name": "stderr",
     "output_type": "stream",
     "text": [
      " 85%|██████████████████████████████████████████████████████████████████▎           | 1926/2265 [24:27<01:49,  3.09it/s]"
     ]
    },
    {
     "name": "stdout",
     "output_type": "stream",
     "text": [
      "This is the pipeline with appositions going both ways\n"
     ]
    },
    {
     "name": "stderr",
     "output_type": "stream",
     "text": [
      " 85%|██████████████████████████████████████████████████████████████████▎           | 1927/2265 [24:27<02:09,  2.61it/s]"
     ]
    },
    {
     "name": "stdout",
     "output_type": "stream",
     "text": [
      "This is the pipeline with appositions going both ways\n"
     ]
    },
    {
     "name": "stderr",
     "output_type": "stream",
     "text": [
      " 85%|██████████████████████████████████████████████████████████████████▍           | 1928/2265 [24:28<02:14,  2.51it/s]"
     ]
    },
    {
     "name": "stdout",
     "output_type": "stream",
     "text": [
      "This is the pipeline with appositions going both ways\n"
     ]
    },
    {
     "name": "stderr",
     "output_type": "stream",
     "text": [
      " 85%|██████████████████████████████████████████████████████████████████▍           | 1929/2265 [24:28<01:58,  2.84it/s]"
     ]
    },
    {
     "name": "stdout",
     "output_type": "stream",
     "text": [
      "This is the pipeline with appositions going both ways\n"
     ]
    },
    {
     "name": "stderr",
     "output_type": "stream",
     "text": [
      " 85%|██████████████████████████████████████████████████████████████████▍           | 1930/2265 [24:29<02:24,  2.31it/s]"
     ]
    },
    {
     "name": "stdout",
     "output_type": "stream",
     "text": [
      "This is the pipeline with appositions going both ways\n"
     ]
    },
    {
     "name": "stderr",
     "output_type": "stream",
     "text": [
      " 85%|██████████████████████████████████████████████████████████████████▍           | 1931/2265 [24:29<02:26,  2.29it/s]"
     ]
    },
    {
     "name": "stdout",
     "output_type": "stream",
     "text": [
      "This is the pipeline with appositions going both ways\n"
     ]
    },
    {
     "name": "stderr",
     "output_type": "stream",
     "text": [
      " 85%|██████████████████████████████████████████████████████████████████▌           | 1932/2265 [24:29<02:03,  2.70it/s]"
     ]
    },
    {
     "name": "stdout",
     "output_type": "stream",
     "text": [
      "This is the pipeline with appositions going both ways\n"
     ]
    },
    {
     "name": "stderr",
     "output_type": "stream",
     "text": [
      " 85%|██████████████████████████████████████████████████████████████████▌           | 1933/2265 [24:30<02:29,  2.23it/s]"
     ]
    },
    {
     "name": "stdout",
     "output_type": "stream",
     "text": [
      "This is the pipeline with appositions going both ways\n"
     ]
    },
    {
     "name": "stderr",
     "output_type": "stream",
     "text": [
      " 85%|██████████████████████████████████████████████████████████████████▌           | 1934/2265 [24:31<02:41,  2.05it/s]"
     ]
    },
    {
     "name": "stdout",
     "output_type": "stream",
     "text": [
      "This is the pipeline with appositions going both ways\n"
     ]
    },
    {
     "name": "stderr",
     "output_type": "stream",
     "text": [
      " 85%|██████████████████████████████████████████████████████████████████▋           | 1935/2265 [24:31<02:48,  1.96it/s]"
     ]
    },
    {
     "name": "stdout",
     "output_type": "stream",
     "text": [
      "This is the pipeline with appositions going both ways\n"
     ]
    },
    {
     "name": "stderr",
     "output_type": "stream",
     "text": [
      " 85%|██████████████████████████████████████████████████████████████████▋           | 1936/2265 [24:32<02:37,  2.09it/s]"
     ]
    },
    {
     "name": "stdout",
     "output_type": "stream",
     "text": [
      "This is the pipeline with appositions going both ways\n"
     ]
    },
    {
     "name": "stderr",
     "output_type": "stream",
     "text": [
      " 86%|██████████████████████████████████████████████████████████████████▋           | 1937/2265 [24:32<03:02,  1.79it/s]"
     ]
    },
    {
     "name": "stdout",
     "output_type": "stream",
     "text": [
      "This is the pipeline with appositions going both ways\n"
     ]
    },
    {
     "name": "stderr",
     "output_type": "stream",
     "text": [
      " 86%|██████████████████████████████████████████████████████████████████▋           | 1938/2265 [24:33<02:30,  2.17it/s]"
     ]
    },
    {
     "name": "stdout",
     "output_type": "stream",
     "text": [
      "This is the pipeline with appositions going both ways\n"
     ]
    },
    {
     "name": "stderr",
     "output_type": "stream",
     "text": [
      " 86%|██████████████████████████████████████████████████████████████████▊           | 1939/2265 [24:33<02:32,  2.14it/s]"
     ]
    },
    {
     "name": "stdout",
     "output_type": "stream",
     "text": [
      "This is the pipeline with appositions going both ways\n"
     ]
    },
    {
     "name": "stderr",
     "output_type": "stream",
     "text": [
      " 86%|██████████████████████████████████████████████████████████████████▊           | 1940/2265 [24:34<03:08,  1.72it/s]"
     ]
    },
    {
     "name": "stdout",
     "output_type": "stream",
     "text": [
      "This is the pipeline with appositions going both ways\n"
     ]
    },
    {
     "name": "stderr",
     "output_type": "stream",
     "text": [
      " 86%|██████████████████████████████████████████████████████████████████▊           | 1941/2265 [24:36<04:48,  1.12it/s]"
     ]
    },
    {
     "name": "stdout",
     "output_type": "stream",
     "text": [
      "This is the pipeline with appositions going both ways\n"
     ]
    },
    {
     "name": "stderr",
     "output_type": "stream",
     "text": [
      " 86%|██████████████████████████████████████████████████████████████████▉           | 1942/2265 [24:36<04:22,  1.23it/s]"
     ]
    },
    {
     "name": "stdout",
     "output_type": "stream",
     "text": [
      "This is the pipeline with appositions going both ways\n"
     ]
    },
    {
     "name": "stderr",
     "output_type": "stream",
     "text": [
      " 86%|██████████████████████████████████████████████████████████████████▉           | 1943/2265 [24:37<04:09,  1.29it/s]"
     ]
    },
    {
     "name": "stdout",
     "output_type": "stream",
     "text": [
      "2025-06-05 16:07:44.081 | INFO     | pipeline.correction.correction2:generate_possible_corrections:352 - Konnte Korrekturvorschlag '*' nicht erstellen: list index out of range\n",
      "2025-06-05 16:07:44.092 | INFO     | pipeline.correction.correction2:generate_possible_corrections:459 - Konnte Korrekturvorschlag 'BOTH_FORMS' nicht erstellen: list index out of range\n",
      "This is the pipeline with appositions going both ways\n"
     ]
    },
    {
     "name": "stderr",
     "output_type": "stream",
     "text": [
      " 86%|██████████████████████████████████████████████████████████████████▉           | 1944/2265 [24:38<04:40,  1.14it/s]"
     ]
    },
    {
     "name": "stdout",
     "output_type": "stream",
     "text": [
      "This is the pipeline with appositions going both ways\n"
     ]
    },
    {
     "name": "stderr",
     "output_type": "stream",
     "text": [
      " 86%|██████████████████████████████████████████████████████████████████▉           | 1945/2265 [24:38<03:53,  1.37it/s]"
     ]
    },
    {
     "name": "stdout",
     "output_type": "stream",
     "text": [
      "This is the pipeline with appositions going both ways\n"
     ]
    },
    {
     "name": "stderr",
     "output_type": "stream",
     "text": [
      " 86%|███████████████████████████████████████████████████████████████████           | 1946/2265 [24:39<03:10,  1.67it/s]"
     ]
    },
    {
     "name": "stdout",
     "output_type": "stream",
     "text": [
      "This is the pipeline with appositions going both ways\n"
     ]
    },
    {
     "name": "stderr",
     "output_type": "stream",
     "text": [
      " 86%|███████████████████████████████████████████████████████████████████           | 1947/2265 [24:39<03:03,  1.73it/s]"
     ]
    },
    {
     "name": "stdout",
     "output_type": "stream",
     "text": [
      "2025-06-05 16:07:46.288 | INFO     | pipeline.correction.correction2:generate_possible_corrections:501 - Konnte Korrekturvorschlag '*' nicht erstellen: list index out of range\n",
      "2025-06-05 16:07:46.288 | INFO     | pipeline.correction.correction2:generate_possible_corrections:519 - Konnte Korrekturvorschlag 'PLURAL_*' nicht erstellen: list index out of range\n",
      "2025-06-05 16:07:46.321 | INFO     | pipeline.correction.correction2:generate_possible_corrections:501 - Konnte Korrekturvorschlag '*' nicht erstellen: list index out of range\n",
      "2025-06-05 16:07:46.330 | INFO     | pipeline.correction.correction2:generate_possible_corrections:519 - Konnte Korrekturvorschlag 'PLURAL_*' nicht erstellen: list index out of range\n",
      "This is the pipeline with appositions going both ways\n"
     ]
    },
    {
     "name": "stderr",
     "output_type": "stream",
     "text": [
      " 86%|███████████████████████████████████████████████████████████████████           | 1948/2265 [24:39<02:37,  2.01it/s]"
     ]
    },
    {
     "name": "stdout",
     "output_type": "stream",
     "text": [
      "This is the pipeline with appositions going both ways\n"
     ]
    },
    {
     "name": "stderr",
     "output_type": "stream",
     "text": [
      " 86%|███████████████████████████████████████████████████████████████████           | 1949/2265 [24:40<02:18,  2.29it/s]"
     ]
    },
    {
     "name": "stdout",
     "output_type": "stream",
     "text": [
      "This is the pipeline with appositions going both ways\n"
     ]
    },
    {
     "name": "stderr",
     "output_type": "stream",
     "text": [
      " 86%|███████████████████████████████████████████████████████████████████▏          | 1950/2265 [24:40<02:08,  2.45it/s]"
     ]
    },
    {
     "name": "stdout",
     "output_type": "stream",
     "text": [
      "2025-06-05 16:07:47.317 | INFO     | pipeline.correction.correction2:generate_possible_corrections:352 - Konnte Korrekturvorschlag '*' nicht erstellen: list index out of range\n",
      "2025-06-05 16:07:47.325 | INFO     | pipeline.correction.correction2:generate_possible_corrections:459 - Konnte Korrekturvorschlag 'BOTH_FORMS' nicht erstellen: list index out of range\n",
      "This is the pipeline with appositions going both ways\n"
     ]
    },
    {
     "name": "stderr",
     "output_type": "stream",
     "text": [
      " 86%|███████████████████████████████████████████████████████████████████▏          | 1951/2265 [24:41<02:40,  1.95it/s]"
     ]
    },
    {
     "name": "stdout",
     "output_type": "stream",
     "text": [
      "This is the pipeline with appositions going both ways\n"
     ]
    },
    {
     "name": "stderr",
     "output_type": "stream",
     "text": [
      " 86%|███████████████████████████████████████████████████████████████████▏          | 1952/2265 [24:41<02:25,  2.15it/s]"
     ]
    },
    {
     "name": "stdout",
     "output_type": "stream",
     "text": [
      "This is the pipeline with appositions going both ways\n"
     ]
    },
    {
     "name": "stderr",
     "output_type": "stream",
     "text": [
      " 86%|███████████████████████████████████████████████████████████████████▎          | 1953/2265 [24:42<02:25,  2.14it/s]"
     ]
    },
    {
     "name": "stdout",
     "output_type": "stream",
     "text": [
      "This is the pipeline with appositions going both ways\n"
     ]
    },
    {
     "name": "stderr",
     "output_type": "stream",
     "text": [
      " 86%|███████████████████████████████████████████████████████████████████▎          | 1954/2265 [24:42<02:08,  2.43it/s]"
     ]
    },
    {
     "name": "stdout",
     "output_type": "stream",
     "text": [
      "This is the pipeline with appositions going both ways\n"
     ]
    },
    {
     "name": "stderr",
     "output_type": "stream",
     "text": [
      " 86%|███████████████████████████████████████████████████████████████████▎          | 1955/2265 [24:42<01:56,  2.66it/s]"
     ]
    },
    {
     "name": "stdout",
     "output_type": "stream",
     "text": [
      "This is the pipeline with appositions going both ways\n"
     ]
    },
    {
     "name": "stderr",
     "output_type": "stream",
     "text": [
      " 86%|███████████████████████████████████████████████████████████████████▎          | 1956/2265 [24:43<01:56,  2.65it/s]"
     ]
    },
    {
     "name": "stdout",
     "output_type": "stream",
     "text": [
      "This is the pipeline with appositions going both ways\n",
      "2025-06-05 16:07:50.558 | INFO     | pipeline.correction.correction2:generate_possible_corrections:501 - Konnte Korrekturvorschlag '*' nicht erstellen: list index out of range\n",
      "2025-06-05 16:07:50.569 | INFO     | pipeline.correction.correction2:generate_possible_corrections:519 - Konnte Korrekturvorschlag 'PLURAL_*' nicht erstellen: list index out of range\n",
      "2025-06-05 16:07:50.647 | INFO     | pipeline.correction.correction2:generate_possible_corrections:501 - Konnte Korrekturvorschlag '*' nicht erstellen: list index out of range\n",
      "2025-06-05 16:07:50.658 | INFO     | pipeline.correction.correction2:generate_possible_corrections:519 - Konnte Korrekturvorschlag 'PLURAL_*' nicht erstellen: list index out of range\n"
     ]
    },
    {
     "name": "stderr",
     "output_type": "stream",
     "text": [
      " 86%|███████████████████████████████████████████████████████████████████▍          | 1957/2265 [24:44<02:56,  1.75it/s]"
     ]
    },
    {
     "name": "stdout",
     "output_type": "stream",
     "text": [
      "2025-06-05 16:07:50.918 | INFO     | pipeline.correction.correction2:generate_possible_corrections:352 - Konnte Korrekturvorschlag '*' nicht erstellen: list index out of range\n",
      "2025-06-05 16:07:50.929 | INFO     | pipeline.correction.correction2:generate_possible_corrections:459 - Konnte Korrekturvorschlag 'BOTH_FORMS' nicht erstellen: list index out of range\n",
      "This is the pipeline with appositions going both ways\n"
     ]
    },
    {
     "name": "stderr",
     "output_type": "stream",
     "text": [
      " 86%|███████████████████████████████████████████████████████████████████▍          | 1958/2265 [24:44<02:28,  2.07it/s]"
     ]
    },
    {
     "name": "stdout",
     "output_type": "stream",
     "text": [
      "2025-06-05 16:07:51.211 | INFO     | pipeline.correction.correction2:generate_possible_corrections:352 - Konnte Korrekturvorschlag '*' nicht erstellen: list index out of range\n",
      "2025-06-05 16:07:51.219 | INFO     | pipeline.correction.correction2:generate_possible_corrections:459 - Konnte Korrekturvorschlag 'BOTH_FORMS' nicht erstellen: list index out of range\n",
      "This is the pipeline with appositions going both ways\n",
      "2025-06-05 16:07:51.399 | INFO     | pipeline.correction.correction2:generate_possible_corrections:459 - Konnte Korrekturvorschlag 'BOTH_FORMS' nicht erstellen: Es darf nur ein Element mit dieser Beziehung geben. (Finanzminister mit cd, war aber [und, sowie])\n"
     ]
    },
    {
     "name": "stderr",
     "output_type": "stream",
     "text": [
      " 86%|███████████████████████████████████████████████████████████████████▍          | 1959/2265 [24:44<02:02,  2.51it/s]"
     ]
    },
    {
     "name": "stdout",
     "output_type": "stream",
     "text": [
      "This is the pipeline with appositions going both ways\n"
     ]
    },
    {
     "name": "stderr",
     "output_type": "stream",
     "text": [
      " 87%|███████████████████████████████████████████████████████████████████▍          | 1960/2265 [24:44<01:50,  2.75it/s]"
     ]
    },
    {
     "name": "stdout",
     "output_type": "stream",
     "text": [
      "This is the pipeline with appositions going both ways\n"
     ]
    },
    {
     "name": "stderr",
     "output_type": "stream",
     "text": [
      " 87%|███████████████████████████████████████████████████████████████████▌          | 1961/2265 [24:45<01:40,  3.03it/s]"
     ]
    },
    {
     "name": "stdout",
     "output_type": "stream",
     "text": [
      "This is the pipeline with appositions going both ways\n"
     ]
    },
    {
     "name": "stderr",
     "output_type": "stream",
     "text": [
      " 87%|███████████████████████████████████████████████████████████████████▌          | 1962/2265 [24:45<01:28,  3.41it/s]"
     ]
    },
    {
     "name": "stdout",
     "output_type": "stream",
     "text": [
      "This is the pipeline with appositions going both ways\n"
     ]
    },
    {
     "name": "stderr",
     "output_type": "stream",
     "text": [
      " 87%|███████████████████████████████████████████████████████████████████▌          | 1963/2265 [24:45<01:28,  3.41it/s]"
     ]
    },
    {
     "name": "stdout",
     "output_type": "stream",
     "text": [
      "This is the pipeline with appositions going both ways\n"
     ]
    },
    {
     "name": "stderr",
     "output_type": "stream",
     "text": [
      " 87%|███████████████████████████████████████████████████████████████████▋          | 1964/2265 [24:45<01:26,  3.50it/s]"
     ]
    },
    {
     "name": "stdout",
     "output_type": "stream",
     "text": [
      "This is the pipeline with appositions going both ways\n"
     ]
    },
    {
     "name": "stderr",
     "output_type": "stream",
     "text": [
      " 87%|███████████████████████████████████████████████████████████████████▋          | 1965/2265 [24:46<01:31,  3.26it/s]"
     ]
    },
    {
     "name": "stdout",
     "output_type": "stream",
     "text": [
      "This is the pipeline with appositions going both ways\n"
     ]
    },
    {
     "name": "stderr",
     "output_type": "stream",
     "text": [
      " 87%|███████████████████████████████████████████████████████████████████▋          | 1966/2265 [24:46<01:28,  3.40it/s]"
     ]
    },
    {
     "name": "stdout",
     "output_type": "stream",
     "text": [
      "This is the pipeline with appositions going both ways\n"
     ]
    },
    {
     "name": "stderr",
     "output_type": "stream",
     "text": [
      " 87%|███████████████████████████████████████████████████████████████████▋          | 1967/2265 [24:46<01:26,  3.45it/s]"
     ]
    },
    {
     "name": "stdout",
     "output_type": "stream",
     "text": [
      "This is the pipeline with appositions going both ways\n"
     ]
    },
    {
     "name": "stderr",
     "output_type": "stream",
     "text": [
      " 87%|███████████████████████████████████████████████████████████████████▊          | 1968/2265 [24:47<01:59,  2.48it/s]"
     ]
    },
    {
     "name": "stdout",
     "output_type": "stream",
     "text": [
      "This is the pipeline with appositions going both ways\n"
     ]
    },
    {
     "name": "stderr",
     "output_type": "stream",
     "text": [
      " 87%|███████████████████████████████████████████████████████████████████▊          | 1969/2265 [24:47<01:49,  2.69it/s]"
     ]
    },
    {
     "name": "stdout",
     "output_type": "stream",
     "text": [
      "This is the pipeline with appositions going both ways\n"
     ]
    },
    {
     "name": "stderr",
     "output_type": "stream",
     "text": [
      " 87%|███████████████████████████████████████████████████████████████████▊          | 1970/2265 [24:48<01:40,  2.94it/s]"
     ]
    },
    {
     "name": "stdout",
     "output_type": "stream",
     "text": [
      "This is the pipeline with appositions going both ways\n"
     ]
    },
    {
     "name": "stderr",
     "output_type": "stream",
     "text": [
      " 87%|███████████████████████████████████████████████████████████████████▉          | 1971/2265 [24:48<01:34,  3.10it/s]"
     ]
    },
    {
     "name": "stdout",
     "output_type": "stream",
     "text": [
      "This is the pipeline with appositions going both ways\n"
     ]
    },
    {
     "name": "stderr",
     "output_type": "stream",
     "text": [
      " 87%|███████████████████████████████████████████████████████████████████▉          | 1972/2265 [24:49<02:06,  2.32it/s]"
     ]
    },
    {
     "name": "stdout",
     "output_type": "stream",
     "text": [
      "This is the pipeline with appositions going both ways\n"
     ]
    },
    {
     "name": "stderr",
     "output_type": "stream",
     "text": [
      " 87%|███████████████████████████████████████████████████████████████████▉          | 1973/2265 [24:49<02:47,  1.74it/s]"
     ]
    },
    {
     "name": "stdout",
     "output_type": "stream",
     "text": [
      "This is the pipeline with appositions going both ways\n"
     ]
    },
    {
     "name": "stderr",
     "output_type": "stream",
     "text": [
      " 87%|███████████████████████████████████████████████████████████████████▉          | 1974/2265 [24:50<02:40,  1.81it/s]"
     ]
    },
    {
     "name": "stdout",
     "output_type": "stream",
     "text": [
      "This is the pipeline with appositions going both ways\n"
     ]
    },
    {
     "name": "stderr",
     "output_type": "stream",
     "text": [
      " 87%|████████████████████████████████████████████████████████████████████          | 1975/2265 [24:50<02:18,  2.09it/s]"
     ]
    },
    {
     "name": "stdout",
     "output_type": "stream",
     "text": [
      "This is the pipeline with appositions going both ways\n"
     ]
    },
    {
     "name": "stderr",
     "output_type": "stream",
     "text": [
      " 87%|████████████████████████████████████████████████████████████████████          | 1976/2265 [24:51<02:50,  1.70it/s]"
     ]
    },
    {
     "name": "stdout",
     "output_type": "stream",
     "text": [
      "This is the pipeline with appositions going both ways\n"
     ]
    },
    {
     "name": "stderr",
     "output_type": "stream",
     "text": [
      " 87%|████████████████████████████████████████████████████████████████████          | 1977/2265 [24:52<02:47,  1.72it/s]"
     ]
    },
    {
     "name": "stdout",
     "output_type": "stream",
     "text": [
      "This is the pipeline with appositions going both ways\n"
     ]
    },
    {
     "name": "stderr",
     "output_type": "stream",
     "text": [
      " 87%|████████████████████████████████████████████████████████████████████          | 1978/2265 [24:52<02:54,  1.64it/s]"
     ]
    },
    {
     "name": "stdout",
     "output_type": "stream",
     "text": [
      "This is the pipeline with appositions going both ways\n"
     ]
    },
    {
     "name": "stderr",
     "output_type": "stream",
     "text": [
      " 87%|████████████████████████████████████████████████████████████████████▏         | 1979/2265 [24:53<02:42,  1.76it/s]"
     ]
    },
    {
     "name": "stdout",
     "output_type": "stream",
     "text": [
      "This is the pipeline with appositions going both ways\n"
     ]
    },
    {
     "name": "stderr",
     "output_type": "stream",
     "text": [
      " 87%|████████████████████████████████████████████████████████████████████▏         | 1980/2265 [24:54<02:49,  1.68it/s]"
     ]
    },
    {
     "name": "stdout",
     "output_type": "stream",
     "text": [
      "This is the pipeline with appositions going both ways\n"
     ]
    },
    {
     "name": "stderr",
     "output_type": "stream",
     "text": [
      " 87%|████████████████████████████████████████████████████████████████████▏         | 1981/2265 [24:54<02:42,  1.75it/s]"
     ]
    },
    {
     "name": "stdout",
     "output_type": "stream",
     "text": [
      "2025-06-05 16:08:01.102 | INFO     | pipeline.correction.correction2:generate_possible_corrections:501 - Konnte Korrekturvorschlag '*' nicht erstellen: list index out of range\n",
      "2025-06-05 16:08:01.114 | INFO     | pipeline.correction.correction2:generate_possible_corrections:519 - Konnte Korrekturvorschlag 'PLURAL_*' nicht erstellen: list index out of range\n",
      "This is the pipeline with appositions going both ways\n"
     ]
    },
    {
     "name": "stderr",
     "output_type": "stream",
     "text": [
      " 88%|████████████████████████████████████████████████████████████████████▎         | 1982/2265 [24:54<02:17,  2.06it/s]"
     ]
    },
    {
     "name": "stdout",
     "output_type": "stream",
     "text": [
      "This is the pipeline with appositions going both ways\n"
     ]
    },
    {
     "name": "stderr",
     "output_type": "stream",
     "text": [
      " 88%|████████████████████████████████████████████████████████████████████▎         | 1983/2265 [24:55<01:53,  2.48it/s]"
     ]
    },
    {
     "name": "stdout",
     "output_type": "stream",
     "text": [
      "This is the pipeline with appositions going both ways\n"
     ]
    },
    {
     "name": "stderr",
     "output_type": "stream",
     "text": [
      " 88%|████████████████████████████████████████████████████████████████████▎         | 1984/2265 [24:55<01:44,  2.68it/s]"
     ]
    },
    {
     "name": "stdout",
     "output_type": "stream",
     "text": [
      "This is the pipeline with appositions going both ways\n"
     ]
    },
    {
     "name": "stderr",
     "output_type": "stream",
     "text": [
      " 88%|████████████████████████████████████████████████████████████████████▎         | 1985/2265 [24:55<02:06,  2.21it/s]"
     ]
    },
    {
     "name": "stdout",
     "output_type": "stream",
     "text": [
      "This is the pipeline with appositions going both ways\n",
      "2025-06-05 16:08:05.427 | INFO     | pipeline.correction.correction2:generate_possible_corrections:352 - Konnte Korrekturvorschlag '*' nicht erstellen: list index out of range\n",
      "2025-06-05 16:08:05.435 | INFO     | pipeline.correction.correction2:generate_possible_corrections:459 - Konnte Korrekturvorschlag 'BOTH_FORMS' nicht erstellen: list index out of range\n"
     ]
    },
    {
     "name": "stderr",
     "output_type": "stream",
     "text": [
      " 88%|████████████████████████████████████████████████████████████████████▍         | 1986/2265 [24:59<06:17,  1.35s/it]"
     ]
    },
    {
     "name": "stdout",
     "output_type": "stream",
     "text": [
      "This is the pipeline with appositions going both ways\n"
     ]
    },
    {
     "name": "stderr",
     "output_type": "stream",
     "text": [
      " 88%|████████████████████████████████████████████████████████████████████▍         | 1987/2265 [24:59<05:08,  1.11s/it]"
     ]
    },
    {
     "name": "stdout",
     "output_type": "stream",
     "text": [
      "This is the pipeline with appositions going both ways\n"
     ]
    },
    {
     "name": "stderr",
     "output_type": "stream",
     "text": [
      " 88%|████████████████████████████████████████████████████████████████████▍         | 1988/2265 [25:00<03:58,  1.16it/s]"
     ]
    },
    {
     "name": "stdout",
     "output_type": "stream",
     "text": [
      "This is the pipeline with appositions going both ways\n"
     ]
    },
    {
     "name": "stderr",
     "output_type": "stream",
     "text": [
      " 88%|████████████████████████████████████████████████████████████████████▍         | 1989/2265 [25:00<03:29,  1.32it/s]"
     ]
    },
    {
     "name": "stdout",
     "output_type": "stream",
     "text": [
      "This is the pipeline with appositions going both ways\n"
     ]
    },
    {
     "name": "stderr",
     "output_type": "stream",
     "text": [
      " 88%|████████████████████████████████████████████████████████████████████▌         | 1990/2265 [25:01<02:47,  1.64it/s]"
     ]
    },
    {
     "name": "stdout",
     "output_type": "stream",
     "text": [
      "This is the pipeline with appositions going both ways\n",
      "2025-06-05 16:08:08.434 | INFO     | pipeline.correction.correction2:generate_possible_corrections:352 - Konnte Korrekturvorschlag '*' nicht erstellen: list index out of range\n",
      "2025-06-05 16:08:08.446 | INFO     | pipeline.correction.correction2:generate_possible_corrections:459 - Konnte Korrekturvorschlag 'BOTH_FORMS' nicht erstellen: list index out of range\n",
      "2025-06-05 16:08:08.547 | INFO     | pipeline.correction.verb.change_verb_form:change_verb_form:13 - lex_target_verb not found: umkurvte\n",
      "2025-06-05 16:08:08.547 | INFO     | pipeline.correction.correction2:generate_possible_corrections:519 - Konnte Korrekturvorschlag 'PLURAL_*' nicht erstellen: Das Verb konnte im Lexikon nicht gefunden werden: umkurvte\n"
     ]
    },
    {
     "name": "stderr",
     "output_type": "stream",
     "text": [
      " 88%|████████████████████████████████████████████████████████████████████▌         | 1991/2265 [25:02<03:17,  1.39it/s]"
     ]
    },
    {
     "name": "stdout",
     "output_type": "stream",
     "text": [
      "This is the pipeline with appositions going both ways\n"
     ]
    },
    {
     "name": "stderr",
     "output_type": "stream",
     "text": [
      " 88%|████████████████████████████████████████████████████████████████████▌         | 1992/2265 [25:02<02:54,  1.56it/s]"
     ]
    },
    {
     "name": "stdout",
     "output_type": "stream",
     "text": [
      "This is the pipeline with appositions going both ways\n"
     ]
    },
    {
     "name": "stderr",
     "output_type": "stream",
     "text": [
      " 88%|████████████████████████████████████████████████████████████████████▋         | 1993/2265 [25:03<02:48,  1.62it/s]"
     ]
    },
    {
     "name": "stdout",
     "output_type": "stream",
     "text": [
      "This is the pipeline with appositions going both ways\n"
     ]
    },
    {
     "name": "stderr",
     "output_type": "stream",
     "text": [
      " 88%|████████████████████████████████████████████████████████████████████▋         | 1994/2265 [25:03<02:43,  1.66it/s]"
     ]
    },
    {
     "name": "stdout",
     "output_type": "stream",
     "text": [
      "This is the pipeline with appositions going both ways\n"
     ]
    },
    {
     "name": "stderr",
     "output_type": "stream",
     "text": [
      " 88%|████████████████████████████████████████████████████████████████████▋         | 1995/2265 [25:03<02:13,  2.02it/s]"
     ]
    },
    {
     "name": "stdout",
     "output_type": "stream",
     "text": [
      "This is the pipeline with appositions going both ways\n"
     ]
    },
    {
     "name": "stderr",
     "output_type": "stream",
     "text": [
      " 88%|████████████████████████████████████████████████████████████████████▋         | 1996/2265 [25:04<02:24,  1.86it/s]"
     ]
    },
    {
     "name": "stdout",
     "output_type": "stream",
     "text": [
      "2025-06-05 16:08:11.115 | INFO     | pipeline.correction.correction2:generate_possible_corrections:501 - Konnte Korrekturvorschlag '*' nicht erstellen: list index out of range\n",
      "2025-06-05 16:08:11.129 | INFO     | pipeline.correction.correction2:generate_possible_corrections:519 - Konnte Korrekturvorschlag 'PLURAL_*' nicht erstellen: list index out of range\n",
      "This is the pipeline with appositions going both ways\n"
     ]
    },
    {
     "name": "stderr",
     "output_type": "stream",
     "text": [
      " 88%|████████████████████████████████████████████████████████████████████▊         | 1997/2265 [25:04<02:01,  2.20it/s]"
     ]
    },
    {
     "name": "stdout",
     "output_type": "stream",
     "text": [
      "This is the pipeline with appositions going both ways\n"
     ]
    },
    {
     "name": "stderr",
     "output_type": "stream",
     "text": [
      " 88%|████████████████████████████████████████████████████████████████████▊         | 1998/2265 [25:04<01:43,  2.57it/s]"
     ]
    },
    {
     "name": "stdout",
     "output_type": "stream",
     "text": [
      "This is the pipeline with appositions going both ways\n"
     ]
    },
    {
     "name": "stderr",
     "output_type": "stream",
     "text": [
      " 88%|████████████████████████████████████████████████████████████████████▊         | 1999/2265 [25:05<01:31,  2.91it/s]"
     ]
    },
    {
     "name": "stdout",
     "output_type": "stream",
     "text": [
      "This is the pipeline with appositions going both ways\n"
     ]
    },
    {
     "name": "stderr",
     "output_type": "stream",
     "text": [
      " 88%|████████████████████████████████████████████████████████████████████▊         | 2000/2265 [25:05<01:55,  2.30it/s]"
     ]
    },
    {
     "name": "stdout",
     "output_type": "stream",
     "text": [
      "This is the pipeline with appositions going both ways\n"
     ]
    },
    {
     "name": "stderr",
     "output_type": "stream",
     "text": [
      " 88%|████████████████████████████████████████████████████████████████████▉         | 2001/2265 [25:06<01:58,  2.24it/s]"
     ]
    },
    {
     "name": "stdout",
     "output_type": "stream",
     "text": [
      "This is the pipeline with appositions going both ways\n"
     ]
    },
    {
     "name": "stderr",
     "output_type": "stream",
     "text": [
      " 88%|████████████████████████████████████████████████████████████████████▉         | 2002/2265 [25:06<02:03,  2.13it/s]"
     ]
    },
    {
     "name": "stdout",
     "output_type": "stream",
     "text": [
      "This is the pipeline with appositions going both ways\n"
     ]
    },
    {
     "name": "stderr",
     "output_type": "stream",
     "text": [
      " 88%|████████████████████████████████████████████████████████████████████▉         | 2003/2265 [25:07<01:46,  2.47it/s]"
     ]
    },
    {
     "name": "stdout",
     "output_type": "stream",
     "text": [
      "This is the pipeline with appositions going both ways\n",
      "2025-06-05 16:08:16.074 | INFO     | pipeline.correction.correction2:generate_possible_corrections:501 - Konnte Korrekturvorschlag '*' nicht erstellen: list index out of range\n",
      "2025-06-05 16:08:16.086 | INFO     | pipeline.correction.correction2:generate_possible_corrections:519 - Konnte Korrekturvorschlag 'PLURAL_*' nicht erstellen: list index out of range\n"
     ]
    },
    {
     "name": "stderr",
     "output_type": "stream",
     "text": [
      " 88%|█████████████████████████████████████████████████████████████████████         | 2004/2265 [25:10<05:07,  1.18s/it]"
     ]
    },
    {
     "name": "stdout",
     "output_type": "stream",
     "text": [
      "This is the pipeline with appositions going both ways\n"
     ]
    },
    {
     "name": "stderr",
     "output_type": "stream",
     "text": [
      " 89%|█████████████████████████████████████████████████████████████████████         | 2005/2265 [25:10<03:54,  1.11it/s]"
     ]
    },
    {
     "name": "stdout",
     "output_type": "stream",
     "text": [
      "This is the pipeline with appositions going both ways\n"
     ]
    },
    {
     "name": "stderr",
     "output_type": "stream",
     "text": [
      " 89%|█████████████████████████████████████████████████████████████████████         | 2006/2265 [25:10<03:24,  1.27it/s]"
     ]
    },
    {
     "name": "stdout",
     "output_type": "stream",
     "text": [
      "This is the pipeline with appositions going both ways\n"
     ]
    },
    {
     "name": "stderr",
     "output_type": "stream",
     "text": [
      " 89%|█████████████████████████████████████████████████████████████████████         | 2007/2265 [25:11<02:58,  1.44it/s]"
     ]
    },
    {
     "name": "stdout",
     "output_type": "stream",
     "text": [
      "2025-06-05 16:08:18.036 | INFO     | pipeline.correction.correction2:generate_possible_corrections:352 - Konnte Korrekturvorschlag '*' nicht erstellen: list index out of range\n",
      "2025-06-05 16:08:18.044 | INFO     | pipeline.correction.correction2:generate_possible_corrections:459 - Konnte Korrekturvorschlag 'BOTH_FORMS' nicht erstellen: list index out of range\n",
      "This is the pipeline with appositions going both ways\n"
     ]
    },
    {
     "name": "stderr",
     "output_type": "stream",
     "text": [
      " 89%|█████████████████████████████████████████████████████████████████████▏        | 2008/2265 [25:12<03:19,  1.29it/s]"
     ]
    },
    {
     "name": "stdout",
     "output_type": "stream",
     "text": [
      "This is the pipeline with appositions going both ways\n"
     ]
    },
    {
     "name": "stderr",
     "output_type": "stream",
     "text": [
      " 89%|█████████████████████████████████████████████████████████████████████▏        | 2009/2265 [25:12<03:05,  1.38it/s]"
     ]
    },
    {
     "name": "stdout",
     "output_type": "stream",
     "text": [
      "This is the pipeline with appositions going both ways\n"
     ]
    },
    {
     "name": "stderr",
     "output_type": "stream",
     "text": [
      " 89%|█████████████████████████████████████████████████████████████████████▏        | 2010/2265 [25:13<02:30,  1.70it/s]"
     ]
    },
    {
     "name": "stdout",
     "output_type": "stream",
     "text": [
      "This is the pipeline with appositions going both ways\n"
     ]
    },
    {
     "name": "stderr",
     "output_type": "stream",
     "text": [
      " 89%|█████████████████████████████████████████████████████████████████████▎        | 2011/2265 [25:13<02:39,  1.60it/s]"
     ]
    },
    {
     "name": "stdout",
     "output_type": "stream",
     "text": [
      "2025-06-05 16:08:20.489 | INFO     | pipeline.correction.correction2:generate_possible_corrections:501 - Konnte Korrekturvorschlag '*' nicht erstellen: list index out of range\n",
      "2025-06-05 16:08:20.504 | INFO     | pipeline.correction.correction2:generate_possible_corrections:519 - Konnte Korrekturvorschlag 'PLURAL_*' nicht erstellen: list index out of range\n",
      "This is the pipeline with appositions going both ways\n"
     ]
    },
    {
     "name": "stderr",
     "output_type": "stream",
     "text": [
      " 89%|█████████████████████████████████████████████████████████████████████▎        | 2012/2265 [25:14<02:07,  1.99it/s]"
     ]
    },
    {
     "name": "stdout",
     "output_type": "stream",
     "text": [
      "This is the pipeline with appositions going both ways\n"
     ]
    },
    {
     "name": "stderr",
     "output_type": "stream",
     "text": [
      " 89%|█████████████████████████████████████████████████████████████████████▎        | 2013/2265 [25:14<01:46,  2.37it/s]"
     ]
    },
    {
     "name": "stdout",
     "output_type": "stream",
     "text": [
      "This is the pipeline with appositions going both ways\n"
     ]
    },
    {
     "name": "stderr",
     "output_type": "stream",
     "text": [
      " 89%|█████████████████████████████████████████████████████████████████████▍        | 2015/2265 [25:14<01:20,  3.12it/s]"
     ]
    },
    {
     "name": "stdout",
     "output_type": "stream",
     "text": [
      "This is the pipeline with appositions going both ways\n",
      "This is the pipeline with appositions going both ways\n"
     ]
    },
    {
     "name": "stderr",
     "output_type": "stream",
     "text": [
      " 89%|█████████████████████████████████████████████████████████████████████▍        | 2017/2265 [25:15<01:01,  4.02it/s]"
     ]
    },
    {
     "name": "stdout",
     "output_type": "stream",
     "text": [
      "This is the pipeline with appositions going both ways\n",
      "This is the pipeline with appositions going both ways\n"
     ]
    },
    {
     "name": "stderr",
     "output_type": "stream",
     "text": [
      " 89%|█████████████████████████████████████████████████████████████████████▍        | 2018/2265 [25:15<00:56,  4.40it/s]"
     ]
    },
    {
     "name": "stdout",
     "output_type": "stream",
     "text": [
      "2025-06-05 16:08:22.059 | INFO     | pipeline.correction.correction2:generate_possible_corrections:352 - Konnte Korrekturvorschlag '*' nicht erstellen: list index out of range\n",
      "2025-06-05 16:08:22.067 | INFO     | pipeline.correction.correction2:generate_possible_corrections:459 - Konnte Korrekturvorschlag 'BOTH_FORMS' nicht erstellen: list index out of range\n",
      "2025-06-05 16:08:22.100 | INFO     | pipeline.correction.correction2:generate_possible_corrections:352 - Konnte Korrekturvorschlag '*' nicht erstellen: list index out of range\n",
      "2025-06-05 16:08:22.108 | INFO     | pipeline.correction.correction2:generate_possible_corrections:459 - Konnte Korrekturvorschlag 'BOTH_FORMS' nicht erstellen: list index out of range\n",
      "This is the pipeline with appositions going both ways\n"
     ]
    },
    {
     "name": "stderr",
     "output_type": "stream",
     "text": [
      " 89%|█████████████████████████████████████████████████████████████████████▌        | 2019/2265 [25:15<00:52,  4.72it/s]"
     ]
    },
    {
     "name": "stdout",
     "output_type": "stream",
     "text": [
      "This is the pipeline with appositions going both ways\n"
     ]
    },
    {
     "name": "stderr",
     "output_type": "stream",
     "text": [
      " 89%|█████████████████████████████████████████████████████████████████████▌        | 2020/2265 [25:16<01:19,  3.09it/s]"
     ]
    },
    {
     "name": "stdout",
     "output_type": "stream",
     "text": [
      "This is the pipeline with appositions going both ways\n"
     ]
    },
    {
     "name": "stderr",
     "output_type": "stream",
     "text": [
      " 89%|█████████████████████████████████████████████████████████████████████▋        | 2022/2265 [25:16<01:06,  3.68it/s]"
     ]
    },
    {
     "name": "stdout",
     "output_type": "stream",
     "text": [
      "This is the pipeline with appositions going both ways\n",
      "This is the pipeline with appositions going both ways\n"
     ]
    },
    {
     "name": "stderr",
     "output_type": "stream",
     "text": [
      " 89%|█████████████████████████████████████████████████████████████████████▋        | 2023/2265 [25:16<00:55,  4.37it/s]"
     ]
    },
    {
     "name": "stdout",
     "output_type": "stream",
     "text": [
      "This is the pipeline with appositions going both ways\n"
     ]
    },
    {
     "name": "stderr",
     "output_type": "stream",
     "text": [
      " 89%|█████████████████████████████████████████████████████████████████████▋        | 2024/2265 [25:17<01:10,  3.42it/s]"
     ]
    },
    {
     "name": "stdout",
     "output_type": "stream",
     "text": [
      "2025-06-05 16:08:23.905 | INFO     | pipeline.correction.correction2:generate_possible_corrections:352 - Konnte Korrekturvorschlag '*' nicht erstellen: list index out of range\n",
      "2025-06-05 16:08:23.912 | INFO     | pipeline.correction.correction2:generate_possible_corrections:459 - Konnte Korrekturvorschlag 'BOTH_FORMS' nicht erstellen: list index out of range\n",
      "This is the pipeline with appositions going both ways\n"
     ]
    },
    {
     "name": "stderr",
     "output_type": "stream",
     "text": [
      " 89%|█████████████████████████████████████████████████████████████████████▋        | 2025/2265 [25:17<01:10,  3.41it/s]"
     ]
    },
    {
     "name": "stdout",
     "output_type": "stream",
     "text": [
      "This is the pipeline with appositions going both ways\n",
      "2025-06-05 16:08:25.262 | INFO     | pipeline.correction.correction2:generate_possible_corrections:501 - Konnte Korrekturvorschlag '*' nicht erstellen: list index out of range\n",
      "2025-06-05 16:08:25.274 | INFO     | pipeline.correction.correction2:generate_possible_corrections:519 - Konnte Korrekturvorschlag 'PLURAL_*' nicht erstellen: list index out of range\n"
     ]
    },
    {
     "name": "stderr",
     "output_type": "stream",
     "text": [
      " 89%|█████████████████████████████████████████████████████████████████████▊        | 2026/2265 [25:18<02:25,  1.65it/s]"
     ]
    },
    {
     "name": "stdout",
     "output_type": "stream",
     "text": [
      "This is the pipeline with appositions going both ways\n"
     ]
    },
    {
     "name": "stderr",
     "output_type": "stream",
     "text": [
      " 89%|█████████████████████████████████████████████████████████████████████▊        | 2027/2265 [25:19<02:15,  1.76it/s]"
     ]
    },
    {
     "name": "stdout",
     "output_type": "stream",
     "text": [
      "This is the pipeline with appositions going both ways\n"
     ]
    },
    {
     "name": "stderr",
     "output_type": "stream",
     "text": [
      " 90%|█████████████████████████████████████████████████████████████████████▊        | 2028/2265 [25:19<02:22,  1.66it/s]"
     ]
    },
    {
     "name": "stdout",
     "output_type": "stream",
     "text": [
      "This is the pipeline with appositions going both ways\n"
     ]
    },
    {
     "name": "stderr",
     "output_type": "stream",
     "text": [
      " 90%|█████████████████████████████████████████████████████████████████████▊        | 2029/2265 [25:20<02:13,  1.77it/s]"
     ]
    },
    {
     "name": "stdout",
     "output_type": "stream",
     "text": [
      "This is the pipeline with appositions going both ways\n"
     ]
    },
    {
     "name": "stderr",
     "output_type": "stream",
     "text": [
      " 90%|█████████████████████████████████████████████████████████████████████▉        | 2030/2265 [25:20<02:04,  1.89it/s]"
     ]
    },
    {
     "name": "stdout",
     "output_type": "stream",
     "text": [
      "This is the pipeline with appositions going both ways\n"
     ]
    },
    {
     "name": "stderr",
     "output_type": "stream",
     "text": [
      " 90%|█████████████████████████████████████████████████████████████████████▉        | 2032/2265 [25:21<01:26,  2.69it/s]"
     ]
    },
    {
     "name": "stdout",
     "output_type": "stream",
     "text": [
      "This is the pipeline with appositions going both ways\n",
      "This is the pipeline with appositions going both ways\n"
     ]
    },
    {
     "name": "stderr",
     "output_type": "stream",
     "text": [
      " 90%|██████████████████████████████████████████████████████████████████████        | 2034/2265 [25:21<01:02,  3.71it/s]"
     ]
    },
    {
     "name": "stdout",
     "output_type": "stream",
     "text": [
      "This is the pipeline with appositions going both ways\n",
      "This is the pipeline with appositions going both ways\n"
     ]
    },
    {
     "name": "stderr",
     "output_type": "stream",
     "text": [
      " 90%|██████████████████████████████████████████████████████████████████████        | 2035/2265 [25:21<01:00,  3.82it/s]"
     ]
    },
    {
     "name": "stdout",
     "output_type": "stream",
     "text": [
      "This is the pipeline with appositions going both ways\n"
     ]
    },
    {
     "name": "stderr",
     "output_type": "stream",
     "text": [
      " 90%|██████████████████████████████████████████████████████████████████████        | 2036/2265 [25:22<01:01,  3.70it/s]"
     ]
    },
    {
     "name": "stdout",
     "output_type": "stream",
     "text": [
      "This is the pipeline with appositions going both ways\n"
     ]
    },
    {
     "name": "stderr",
     "output_type": "stream",
     "text": [
      " 90%|██████████████████████████████████████████████████████████████████████▏       | 2037/2265 [25:22<01:01,  3.71it/s]"
     ]
    },
    {
     "name": "stdout",
     "output_type": "stream",
     "text": [
      "This is the pipeline with appositions going both ways\n"
     ]
    },
    {
     "name": "stderr",
     "output_type": "stream",
     "text": [
      " 90%|██████████████████████████████████████████████████████████████████████▏       | 2038/2265 [25:22<01:10,  3.22it/s]"
     ]
    },
    {
     "name": "stdout",
     "output_type": "stream",
     "text": [
      "This is the pipeline with appositions going both ways\n"
     ]
    },
    {
     "name": "stderr",
     "output_type": "stream",
     "text": [
      " 90%|██████████████████████████████████████████████████████████████████████▏       | 2039/2265 [25:23<01:43,  2.19it/s]"
     ]
    },
    {
     "name": "stdout",
     "output_type": "stream",
     "text": [
      "This is the pipeline with appositions going both ways\n"
     ]
    },
    {
     "name": "stderr",
     "output_type": "stream",
     "text": [
      " 90%|██████████████████████████████████████████████████████████████████████▎       | 2040/2265 [25:24<01:48,  2.08it/s]"
     ]
    },
    {
     "name": "stdout",
     "output_type": "stream",
     "text": [
      "This is the pipeline with appositions going both ways\n"
     ]
    },
    {
     "name": "stderr",
     "output_type": "stream",
     "text": [
      " 90%|██████████████████████████████████████████████████████████████████████▎       | 2041/2265 [25:24<01:30,  2.47it/s]"
     ]
    },
    {
     "name": "stdout",
     "output_type": "stream",
     "text": [
      "This is the pipeline with appositions going both ways\n"
     ]
    },
    {
     "name": "stderr",
     "output_type": "stream",
     "text": [
      " 90%|██████████████████████████████████████████████████████████████████████▎       | 2042/2265 [25:24<01:34,  2.36it/s]"
     ]
    },
    {
     "name": "stdout",
     "output_type": "stream",
     "text": [
      "This is the pipeline with appositions going both ways\n"
     ]
    },
    {
     "name": "stderr",
     "output_type": "stream",
     "text": [
      " 90%|██████████████████████████████████████████████████████████████████████▎       | 2043/2265 [25:25<01:29,  2.48it/s]"
     ]
    },
    {
     "name": "stdout",
     "output_type": "stream",
     "text": [
      "This is the pipeline with appositions going both ways\n"
     ]
    },
    {
     "name": "stderr",
     "output_type": "stream",
     "text": [
      " 90%|██████████████████████████████████████████████████████████████████████▍       | 2045/2265 [25:25<01:06,  3.30it/s]"
     ]
    },
    {
     "name": "stdout",
     "output_type": "stream",
     "text": [
      "This is the pipeline with appositions going both ways\n",
      "This is the pipeline with appositions going both ways\n"
     ]
    },
    {
     "name": "stderr",
     "output_type": "stream",
     "text": [
      " 90%|██████████████████████████████████████████████████████████████████████▍       | 2046/2265 [25:26<01:12,  3.04it/s]"
     ]
    },
    {
     "name": "stdout",
     "output_type": "stream",
     "text": [
      "This is the pipeline with appositions going both ways\n"
     ]
    },
    {
     "name": "stderr",
     "output_type": "stream",
     "text": [
      " 90%|██████████████████████████████████████████████████████████████████████▍       | 2047/2265 [25:26<01:15,  2.88it/s]"
     ]
    },
    {
     "name": "stdout",
     "output_type": "stream",
     "text": [
      "This is the pipeline with appositions going both ways\n"
     ]
    },
    {
     "name": "stderr",
     "output_type": "stream",
     "text": [
      " 90%|██████████████████████████████████████████████████████████████████████▌       | 2048/2265 [25:27<01:50,  1.97it/s]"
     ]
    },
    {
     "name": "stdout",
     "output_type": "stream",
     "text": [
      "2025-06-05 16:08:33.953 | INFO     | pipeline.correction.correction2:generate_possible_corrections:501 - Konnte Korrekturvorschlag '*' nicht erstellen: list index out of range\n",
      "2025-06-05 16:08:33.964 | INFO     | pipeline.correction.correction2:generate_possible_corrections:519 - Konnte Korrekturvorschlag 'PLURAL_*' nicht erstellen: list index out of range\n",
      "This is the pipeline with appositions going both ways\n"
     ]
    },
    {
     "name": "stderr",
     "output_type": "stream",
     "text": [
      " 90%|██████████████████████████████████████████████████████████████████████▌       | 2049/2265 [25:28<02:00,  1.80it/s]"
     ]
    },
    {
     "name": "stdout",
     "output_type": "stream",
     "text": [
      "This is the pipeline with appositions going both ways\n"
     ]
    },
    {
     "name": "stderr",
     "output_type": "stream",
     "text": [
      " 91%|██████████████████████████████████████████████████████████████████████▌       | 2050/2265 [25:28<01:43,  2.07it/s]"
     ]
    },
    {
     "name": "stdout",
     "output_type": "stream",
     "text": [
      "This is the pipeline with appositions going both ways\n"
     ]
    },
    {
     "name": "stderr",
     "output_type": "stream",
     "text": [
      " 91%|██████████████████████████████████████████████████████████████████████▋       | 2051/2265 [25:28<01:33,  2.28it/s]"
     ]
    },
    {
     "name": "stdout",
     "output_type": "stream",
     "text": [
      "This is the pipeline with appositions going both ways\n"
     ]
    },
    {
     "name": "stderr",
     "output_type": "stream",
     "text": [
      " 91%|██████████████████████████████████████████████████████████████████████▋       | 2052/2265 [25:29<01:28,  2.41it/s]"
     ]
    },
    {
     "name": "stdout",
     "output_type": "stream",
     "text": [
      "This is the pipeline with appositions going both ways\n"
     ]
    },
    {
     "name": "stderr",
     "output_type": "stream",
     "text": [
      " 91%|██████████████████████████████████████████████████████████████████████▋       | 2053/2265 [25:29<01:16,  2.77it/s]"
     ]
    },
    {
     "name": "stdout",
     "output_type": "stream",
     "text": [
      "This is the pipeline with appositions going both ways\n"
     ]
    },
    {
     "name": "stderr",
     "output_type": "stream",
     "text": [
      " 91%|██████████████████████████████████████████████████████████████████████▊       | 2055/2265 [25:29<01:01,  3.43it/s]"
     ]
    },
    {
     "name": "stdout",
     "output_type": "stream",
     "text": [
      "This is the pipeline with appositions going both ways\n",
      "This is the pipeline with appositions going both ways\n"
     ]
    },
    {
     "name": "stderr",
     "output_type": "stream",
     "text": [
      " 91%|██████████████████████████████████████████████████████████████████████▊       | 2057/2265 [25:30<00:55,  3.76it/s]"
     ]
    },
    {
     "name": "stdout",
     "output_type": "stream",
     "text": [
      "This is the pipeline with appositions going both ways\n",
      "This is the pipeline with appositions going both ways\n"
     ]
    },
    {
     "name": "stderr",
     "output_type": "stream",
     "text": [
      " 91%|██████████████████████████████████████████████████████████████████████▊       | 2058/2265 [25:30<00:51,  4.01it/s]"
     ]
    },
    {
     "name": "stdout",
     "output_type": "stream",
     "text": [
      "This is the pipeline with appositions going both ways\n"
     ]
    },
    {
     "name": "stderr",
     "output_type": "stream",
     "text": [
      " 91%|██████████████████████████████████████████████████████████████████████▉       | 2059/2265 [25:31<01:21,  2.53it/s]"
     ]
    },
    {
     "name": "stdout",
     "output_type": "stream",
     "text": [
      "This is the pipeline with appositions going both ways\n"
     ]
    },
    {
     "name": "stderr",
     "output_type": "stream",
     "text": [
      " 91%|██████████████████████████████████████████████████████████████████████▉       | 2061/2265 [25:31<01:02,  3.26it/s]"
     ]
    },
    {
     "name": "stdout",
     "output_type": "stream",
     "text": [
      "This is the pipeline with appositions going both ways\n",
      "This is the pipeline with appositions going both ways\n"
     ]
    },
    {
     "name": "stderr",
     "output_type": "stream",
     "text": [
      " 91%|███████████████████████████████████████████████████████████████████████       | 2062/2265 [25:32<01:26,  2.36it/s]"
     ]
    },
    {
     "name": "stdout",
     "output_type": "stream",
     "text": [
      "2025-06-05 16:08:39.010 | INFO     | pipeline.correction.correction2:generate_possible_corrections:501 - Konnte Korrekturvorschlag '*' nicht erstellen: list index out of range\n",
      "2025-06-05 16:08:39.022 | INFO     | pipeline.correction.correction2:generate_possible_corrections:519 - Konnte Korrekturvorschlag 'PLURAL_*' nicht erstellen: list index out of range\n",
      "This is the pipeline with appositions going both ways\n"
     ]
    },
    {
     "name": "stderr",
     "output_type": "stream",
     "text": [
      " 91%|███████████████████████████████████████████████████████████████████████       | 2063/2265 [25:33<02:02,  1.65it/s]"
     ]
    },
    {
     "name": "stdout",
     "output_type": "stream",
     "text": [
      "This is the pipeline with appositions going both ways\n"
     ]
    },
    {
     "name": "stderr",
     "output_type": "stream",
     "text": [
      " 91%|███████████████████████████████████████████████████████████████████████       | 2064/2265 [25:33<01:39,  2.03it/s]"
     ]
    },
    {
     "name": "stdout",
     "output_type": "stream",
     "text": [
      "This is the pipeline with appositions going both ways\n"
     ]
    },
    {
     "name": "stderr",
     "output_type": "stream",
     "text": [
      " 91%|███████████████████████████████████████████████████████████████████████       | 2065/2265 [25:34<01:58,  1.68it/s]"
     ]
    },
    {
     "name": "stdout",
     "output_type": "stream",
     "text": [
      "2025-06-05 16:08:41.174 | INFO     | pipeline.correction.correction2:generate_possible_corrections:501 - Konnte Korrekturvorschlag '*' nicht erstellen: list index out of range\n",
      "2025-06-05 16:08:41.186 | INFO     | pipeline.correction.correction2:generate_possible_corrections:519 - Konnte Korrekturvorschlag 'PLURAL_*' nicht erstellen: list index out of range\n",
      "This is the pipeline with appositions going both ways\n"
     ]
    },
    {
     "name": "stderr",
     "output_type": "stream",
     "text": [
      " 91%|███████████████████████████████████████████████████████████████████████▏      | 2066/2265 [25:34<01:41,  1.97it/s]"
     ]
    },
    {
     "name": "stdout",
     "output_type": "stream",
     "text": [
      "This is the pipeline with appositions going both ways\n"
     ]
    },
    {
     "name": "stderr",
     "output_type": "stream",
     "text": [
      " 91%|███████████████████████████████████████████████████████████████████████▏      | 2067/2265 [25:35<01:29,  2.21it/s]"
     ]
    },
    {
     "name": "stdout",
     "output_type": "stream",
     "text": [
      "This is the pipeline with appositions going both ways\n"
     ]
    },
    {
     "name": "stderr",
     "output_type": "stream",
     "text": [
      " 91%|███████████████████████████████████████████████████████████████████████▏      | 2068/2265 [25:36<02:28,  1.32it/s]"
     ]
    },
    {
     "name": "stdout",
     "output_type": "stream",
     "text": [
      "This is the pipeline with appositions going both ways\n",
      "2025-06-05 16:08:44.009 | INFO     | pipeline.correction.correction2:generate_possible_corrections:501 - Konnte Korrekturvorschlag '*' nicht erstellen: list index out of range\n",
      "2025-06-05 16:08:44.010 | INFO     | pipeline.correction.correction2:generate_possible_corrections:519 - Konnte Korrekturvorschlag 'PLURAL_*' nicht erstellen: list index out of range\n"
     ]
    },
    {
     "name": "stderr",
     "output_type": "stream",
     "text": [
      " 91%|███████████████████████████████████████████████████████████████████████▎      | 2069/2265 [25:37<02:42,  1.21it/s]"
     ]
    },
    {
     "name": "stdout",
     "output_type": "stream",
     "text": [
      "This is the pipeline with appositions going both ways\n"
     ]
    },
    {
     "name": "stderr",
     "output_type": "stream",
     "text": [
      " 91%|███████████████████████████████████████████████████████████████████████▎      | 2070/2265 [25:38<02:38,  1.23it/s]"
     ]
    },
    {
     "name": "stdout",
     "output_type": "stream",
     "text": [
      "This is the pipeline with appositions going both ways\n"
     ]
    },
    {
     "name": "stderr",
     "output_type": "stream",
     "text": [
      " 91%|███████████████████████████████████████████████████████████████████████▎      | 2071/2265 [25:39<02:39,  1.22it/s]"
     ]
    },
    {
     "name": "stdout",
     "output_type": "stream",
     "text": [
      "This is the pipeline with appositions going both ways\n"
     ]
    },
    {
     "name": "stderr",
     "output_type": "stream",
     "text": [
      " 91%|███████████████████████████████████████████████████████████████████████▎      | 2072/2265 [25:40<02:44,  1.18it/s]"
     ]
    },
    {
     "name": "stdout",
     "output_type": "stream",
     "text": [
      "This is the pipeline with appositions going both ways\n"
     ]
    },
    {
     "name": "stderr",
     "output_type": "stream",
     "text": [
      " 92%|███████████████████████████████████████████████████████████████████████▍      | 2073/2265 [25:40<02:18,  1.39it/s]"
     ]
    },
    {
     "name": "stdout",
     "output_type": "stream",
     "text": [
      "2025-06-05 16:08:47.183 | INFO     | pipeline.correction.correction2:generate_possible_corrections:352 - Konnte Korrekturvorschlag '*' nicht erstellen: list index out of range\n",
      "2025-06-05 16:08:47.191 | INFO     | pipeline.correction.correction2:generate_possible_corrections:459 - Konnte Korrekturvorschlag 'BOTH_FORMS' nicht erstellen: list index out of range\n",
      "This is the pipeline with appositions going both ways\n"
     ]
    },
    {
     "name": "stderr",
     "output_type": "stream",
     "text": [
      " 92%|███████████████████████████████████████████████████████████████████████▍      | 2074/2265 [25:41<02:33,  1.24it/s]"
     ]
    },
    {
     "name": "stdout",
     "output_type": "stream",
     "text": [
      "This is the pipeline with appositions going both ways\n"
     ]
    },
    {
     "name": "stderr",
     "output_type": "stream",
     "text": [
      " 92%|███████████████████████████████████████████████████████████████████████▍      | 2075/2265 [25:42<02:22,  1.34it/s]"
     ]
    },
    {
     "name": "stdout",
     "output_type": "stream",
     "text": [
      "This is the pipeline with appositions going both ways\n"
     ]
    },
    {
     "name": "stderr",
     "output_type": "stream",
     "text": [
      " 92%|███████████████████████████████████████████████████████████████████████▍      | 2076/2265 [25:42<01:53,  1.66it/s]"
     ]
    },
    {
     "name": "stdout",
     "output_type": "stream",
     "text": [
      "This is the pipeline with appositions going both ways\n"
     ]
    },
    {
     "name": "stderr",
     "output_type": "stream",
     "text": [
      " 92%|███████████████████████████████████████████████████████████████████████▌      | 2077/2265 [25:43<02:07,  1.48it/s]"
     ]
    },
    {
     "name": "stdout",
     "output_type": "stream",
     "text": [
      "This is the pipeline with appositions going both ways\n"
     ]
    },
    {
     "name": "stderr",
     "output_type": "stream",
     "text": [
      " 92%|███████████████████████████████████████████████████████████████████████▌      | 2078/2265 [25:43<01:50,  1.69it/s]"
     ]
    },
    {
     "name": "stdout",
     "output_type": "stream",
     "text": [
      "2025-06-05 16:08:50.384 | INFO     | pipeline.correction.correction2:generate_possible_corrections:501 - Konnte Korrekturvorschlag '*' nicht erstellen: list index out of range\n",
      "2025-06-05 16:08:50.397 | INFO     | pipeline.correction.correction2:generate_possible_corrections:519 - Konnte Korrekturvorschlag 'PLURAL_*' nicht erstellen: list index out of range\n",
      "This is the pipeline with appositions going both ways\n"
     ]
    },
    {
     "name": "stderr",
     "output_type": "stream",
     "text": [
      " 92%|███████████████████████████████████████████████████████████████████████▌      | 2079/2265 [25:44<02:04,  1.49it/s]"
     ]
    },
    {
     "name": "stdout",
     "output_type": "stream",
     "text": [
      "This is the pipeline with appositions going both ways\n"
     ]
    },
    {
     "name": "stderr",
     "output_type": "stream",
     "text": [
      " 92%|███████████████████████████████████████████████████████████████████████▋      | 2081/2265 [25:45<01:26,  2.12it/s]"
     ]
    },
    {
     "name": "stdout",
     "output_type": "stream",
     "text": [
      "This is the pipeline with appositions going both ways\n",
      "This is the pipeline with appositions going both ways\n"
     ]
    },
    {
     "name": "stderr",
     "output_type": "stream",
     "text": [
      " 92%|███████████████████████████████████████████████████████████████████████▋      | 2082/2265 [25:45<01:25,  2.15it/s]"
     ]
    },
    {
     "name": "stdout",
     "output_type": "stream",
     "text": [
      "This is the pipeline with appositions going both ways\n"
     ]
    },
    {
     "name": "stderr",
     "output_type": "stream",
     "text": [
      " 92%|███████████████████████████████████████████████████████████████████████▋      | 2083/2265 [25:45<01:18,  2.31it/s]"
     ]
    },
    {
     "name": "stdout",
     "output_type": "stream",
     "text": [
      "This is the pipeline with appositions going both ways\n"
     ]
    },
    {
     "name": "stderr",
     "output_type": "stream",
     "text": [
      " 92%|███████████████████████████████████████████████████████████████████████▊      | 2084/2265 [25:46<01:32,  1.95it/s]"
     ]
    },
    {
     "name": "stdout",
     "output_type": "stream",
     "text": [
      "This is the pipeline with appositions going both ways\n"
     ]
    },
    {
     "name": "stderr",
     "output_type": "stream",
     "text": [
      " 92%|███████████████████████████████████████████████████████████████████████▊      | 2085/2265 [25:47<01:48,  1.65it/s]"
     ]
    },
    {
     "name": "stdout",
     "output_type": "stream",
     "text": [
      "This is the pipeline with appositions going both ways\n",
      "2025-06-05 16:08:56.236 | INFO     | pipeline.correction.correction2:generate_possible_corrections:501 - Konnte Korrekturvorschlag '*' nicht erstellen: list index out of range\n",
      "2025-06-05 16:08:56.248 | INFO     | pipeline.correction.correction2:generate_possible_corrections:519 - Konnte Korrekturvorschlag 'PLURAL_*' nicht erstellen: list index out of range\n"
     ]
    },
    {
     "name": "stderr",
     "output_type": "stream",
     "text": [
      " 92%|███████████████████████████████████████████████████████████████████████▊      | 2086/2265 [25:49<03:33,  1.19s/it]"
     ]
    },
    {
     "name": "stdout",
     "output_type": "stream",
     "text": [
      "This is the pipeline with appositions going both ways\n"
     ]
    },
    {
     "name": "stderr",
     "output_type": "stream",
     "text": [
      " 92%|███████████████████████████████████████████████████████████████████████▊      | 2087/2265 [25:51<03:57,  1.33s/it]"
     ]
    },
    {
     "name": "stdout",
     "output_type": "stream",
     "text": [
      "2025-06-05 16:08:58.279 | INFO     | pipeline.correction.correction2:generate_possible_corrections:352 - Konnte Korrekturvorschlag '*' nicht erstellen: list index out of range\n",
      "2025-06-05 16:08:58.291 | INFO     | pipeline.correction.correction2:generate_possible_corrections:459 - Konnte Korrekturvorschlag 'BOTH_FORMS' nicht erstellen: list index out of range\n",
      "This is the pipeline with appositions going both ways\n"
     ]
    },
    {
     "name": "stderr",
     "output_type": "stream",
     "text": [
      " 92%|███████████████████████████████████████████████████████████████████████▉      | 2088/2265 [25:53<04:19,  1.47s/it]"
     ]
    },
    {
     "name": "stdout",
     "output_type": "stream",
     "text": [
      "This is the pipeline with appositions going both ways\n",
      "2025-06-05 16:09:04.023 | INFO     | pipeline.correction.correction2:generate_possible_corrections:352 - Konnte Korrekturvorschlag '*' nicht erstellen: list index out of range\n",
      "2025-06-05 16:09:04.030 | INFO     | pipeline.correction.correction2:generate_possible_corrections:459 - Konnte Korrekturvorschlag 'BOTH_FORMS' nicht erstellen: list index out of range\n"
     ]
    },
    {
     "name": "stderr",
     "output_type": "stream",
     "text": [
      " 92%|███████████████████████████████████████████████████████████████████████▉      | 2089/2265 [25:58<07:22,  2.51s/it]"
     ]
    },
    {
     "name": "stdout",
     "output_type": "stream",
     "text": [
      "This is the pipeline with appositions going both ways\n"
     ]
    },
    {
     "name": "stderr",
     "output_type": "stream",
     "text": [
      " 92%|███████████████████████████████████████████████████████████████████████▉      | 2090/2265 [25:58<05:23,  1.85s/it]"
     ]
    },
    {
     "name": "stdout",
     "output_type": "stream",
     "text": [
      "This is the pipeline with appositions going both ways\n"
     ]
    },
    {
     "name": "stderr",
     "output_type": "stream",
     "text": [
      " 92%|████████████████████████████████████████████████████████████████████████      | 2091/2265 [26:00<05:07,  1.77s/it]"
     ]
    },
    {
     "name": "stdout",
     "output_type": "stream",
     "text": [
      "This is the pipeline with appositions going both ways\n"
     ]
    },
    {
     "name": "stderr",
     "output_type": "stream",
     "text": [
      " 92%|████████████████████████████████████████████████████████████████████████      | 2092/2265 [26:00<03:50,  1.33s/it]"
     ]
    },
    {
     "name": "stdout",
     "output_type": "stream",
     "text": [
      "This is the pipeline with appositions going both ways\n"
     ]
    },
    {
     "name": "stderr",
     "output_type": "stream",
     "text": [
      " 92%|████████████████████████████████████████████████████████████████████████      | 2093/2265 [26:01<03:12,  1.12s/it]"
     ]
    },
    {
     "name": "stdout",
     "output_type": "stream",
     "text": [
      "This is the pipeline with appositions going both ways\n"
     ]
    },
    {
     "name": "stderr",
     "output_type": "stream",
     "text": [
      " 92%|████████████████████████████████████████████████████████████████████████      | 2094/2265 [26:01<02:26,  1.17it/s]"
     ]
    },
    {
     "name": "stdout",
     "output_type": "stream",
     "text": [
      "This is the pipeline with appositions going both ways\n",
      "2025-06-05 16:09:11.507 | INFO     | pipeline.correction.verb.change_verb_form:change_verb_form:13 - lex_target_verb not found: heraufholt\n",
      "2025-06-05 16:09:11.507 | INFO     | pipeline.correction.correction2:generate_possible_corrections:519 - Konnte Korrekturvorschlag 'PLURAL_*' nicht erstellen: Das Verb konnte im Lexikon nicht gefunden werden: heraufholt\n"
     ]
    },
    {
     "name": "stderr",
     "output_type": "stream",
     "text": [
      " 92%|████████████████████████████████████████████████████████████████████████▏     | 2095/2265 [26:05<04:49,  1.70s/it]"
     ]
    },
    {
     "name": "stdout",
     "output_type": "stream",
     "text": [
      "This is the pipeline with appositions going both ways\n"
     ]
    },
    {
     "name": "stderr",
     "output_type": "stream",
     "text": [
      " 93%|████████████████████████████████████████████████████████████████████████▏     | 2096/2265 [26:05<03:57,  1.41s/it]"
     ]
    },
    {
     "name": "stdout",
     "output_type": "stream",
     "text": [
      "This is the pipeline with appositions going both ways\n",
      "2025-06-05 16:09:14.591 | INFO     | pipeline.correction.correction2:generate_possible_corrections:501 - Konnte Korrekturvorschlag '*' nicht erstellen: list index out of range\n",
      "2025-06-05 16:09:14.603 | INFO     | pipeline.correction.correction2:generate_possible_corrections:519 - Konnte Korrekturvorschlag 'PLURAL_*' nicht erstellen: list index out of range\n"
     ]
    },
    {
     "name": "stderr",
     "output_type": "stream",
     "text": [
      " 93%|████████████████████████████████████████████████████████████████████████▏     | 2097/2265 [26:08<04:44,  1.69s/it]"
     ]
    },
    {
     "name": "stdout",
     "output_type": "stream",
     "text": [
      "This is the pipeline with appositions going both ways\n"
     ]
    },
    {
     "name": "stderr",
     "output_type": "stream",
     "text": [
      " 93%|████████████████████████████████████████████████████████████████████████▏     | 2098/2265 [26:10<05:24,  1.94s/it]"
     ]
    },
    {
     "name": "stdout",
     "output_type": "stream",
     "text": [
      "This is the pipeline with appositions going both ways\n"
     ]
    },
    {
     "name": "stderr",
     "output_type": "stream",
     "text": [
      " 93%|████████████████████████████████████████████████████████████████████████▎     | 2099/2265 [26:11<04:47,  1.73s/it]"
     ]
    },
    {
     "name": "stdout",
     "output_type": "stream",
     "text": [
      "This is the pipeline with appositions going both ways\n"
     ]
    },
    {
     "name": "stderr",
     "output_type": "stream",
     "text": [
      " 93%|████████████████████████████████████████████████████████████████████████▎     | 2100/2265 [26:12<04:04,  1.48s/it]"
     ]
    },
    {
     "name": "stdout",
     "output_type": "stream",
     "text": [
      "This is the pipeline with appositions going both ways\n"
     ]
    },
    {
     "name": "stderr",
     "output_type": "stream",
     "text": [
      " 93%|████████████████████████████████████████████████████████████████████████▎     | 2101/2265 [26:15<04:49,  1.76s/it]"
     ]
    },
    {
     "name": "stdout",
     "output_type": "stream",
     "text": [
      "This is the pipeline with appositions going both ways\n"
     ]
    },
    {
     "name": "stderr",
     "output_type": "stream",
     "text": [
      " 93%|████████████████████████████████████████████████████████████████████████▍     | 2102/2265 [26:16<04:10,  1.54s/it]"
     ]
    },
    {
     "name": "stdout",
     "output_type": "stream",
     "text": [
      "This is the pipeline with appositions going both ways\n"
     ]
    },
    {
     "name": "stderr",
     "output_type": "stream",
     "text": [
      " 93%|████████████████████████████████████████████████████████████████████████▍     | 2103/2265 [26:17<03:32,  1.31s/it]"
     ]
    },
    {
     "name": "stdout",
     "output_type": "stream",
     "text": [
      "This is the pipeline with appositions going both ways\n"
     ]
    },
    {
     "name": "stderr",
     "output_type": "stream",
     "text": [
      " 93%|████████████████████████████████████████████████████████████████████████▍     | 2104/2265 [26:17<03:05,  1.15s/it]"
     ]
    },
    {
     "name": "stdout",
     "output_type": "stream",
     "text": [
      "This is the pipeline with appositions going both ways\n"
     ]
    },
    {
     "name": "stderr",
     "output_type": "stream",
     "text": [
      " 93%|████████████████████████████████████████████████████████████████████████▍     | 2105/2265 [26:19<03:45,  1.41s/it]"
     ]
    },
    {
     "name": "stdout",
     "output_type": "stream",
     "text": [
      "This is the pipeline with appositions going both ways\n"
     ]
    },
    {
     "name": "stderr",
     "output_type": "stream",
     "text": [
      " 93%|████████████████████████████████████████████████████████████████████████▌     | 2106/2265 [26:22<04:27,  1.68s/it]"
     ]
    },
    {
     "name": "stdout",
     "output_type": "stream",
     "text": [
      "This is the pipeline with appositions going both ways\n"
     ]
    },
    {
     "name": "stderr",
     "output_type": "stream",
     "text": [
      " 93%|████████████████████████████████████████████████████████████████████████▌     | 2107/2265 [26:22<03:19,  1.26s/it]"
     ]
    },
    {
     "name": "stdout",
     "output_type": "stream",
     "text": [
      "This is the pipeline with appositions going both ways\n"
     ]
    },
    {
     "name": "stderr",
     "output_type": "stream",
     "text": [
      " 93%|████████████████████████████████████████████████████████████████████████▋     | 2109/2265 [26:22<01:54,  1.36it/s]"
     ]
    },
    {
     "name": "stdout",
     "output_type": "stream",
     "text": [
      "This is the pipeline with appositions going both ways\n",
      "This is the pipeline with appositions going both ways\n"
     ]
    },
    {
     "name": "stderr",
     "output_type": "stream",
     "text": [
      " 93%|████████████████████████████████████████████████████████████████████████▋     | 2110/2265 [26:23<01:35,  1.62it/s]"
     ]
    },
    {
     "name": "stdout",
     "output_type": "stream",
     "text": [
      "This is the pipeline with appositions going both ways\n",
      "This is the pipeline with appositions going both ways\n"
     ]
    },
    {
     "name": "stderr",
     "output_type": "stream",
     "text": [
      " 93%|████████████████████████████████████████████████████████████████████████▋     | 2112/2265 [26:23<01:02,  2.43it/s]"
     ]
    },
    {
     "name": "stdout",
     "output_type": "stream",
     "text": [
      "This is the pipeline with appositions going both ways\n"
     ]
    },
    {
     "name": "stderr",
     "output_type": "stream",
     "text": [
      " 93%|████████████████████████████████████████████████████████████████████████▊     | 2114/2265 [26:24<00:50,  3.01it/s]"
     ]
    },
    {
     "name": "stdout",
     "output_type": "stream",
     "text": [
      "This is the pipeline with appositions going both ways\n",
      "This is the pipeline with appositions going both ways\n"
     ]
    },
    {
     "name": "stderr",
     "output_type": "stream",
     "text": [
      " 93%|████████████████████████████████████████████████████████████████████████▊     | 2115/2265 [26:24<00:52,  2.85it/s]"
     ]
    },
    {
     "name": "stdout",
     "output_type": "stream",
     "text": [
      "This is the pipeline with appositions going both ways\n"
     ]
    },
    {
     "name": "stderr",
     "output_type": "stream",
     "text": [
      " 93%|████████████████████████████████████████████████████████████████████████▊     | 2116/2265 [26:24<00:52,  2.86it/s]"
     ]
    },
    {
     "name": "stdout",
     "output_type": "stream",
     "text": [
      "This is the pipeline with appositions going both ways\n",
      "2025-06-05 16:09:31.818 | INFO     | pipeline.correction.correction2:generate_possible_corrections:352 - Konnte Korrekturvorschlag '*' nicht erstellen: list index out of range\n",
      "2025-06-05 16:09:31.826 | INFO     | pipeline.correction.correction2:generate_possible_corrections:459 - Konnte Korrekturvorschlag 'BOTH_FORMS' nicht erstellen: list index out of range\n"
     ]
    },
    {
     "name": "stderr",
     "output_type": "stream",
     "text": [
      " 93%|████████████████████████████████████████████████████████████████████████▉     | 2117/2265 [26:25<00:46,  3.19it/s]"
     ]
    },
    {
     "name": "stdout",
     "output_type": "stream",
     "text": [
      "This is the pipeline with appositions going both ways\n"
     ]
    },
    {
     "name": "stderr",
     "output_type": "stream",
     "text": [
      " 94%|████████████████████████████████████████████████████████████████████████▉     | 2118/2265 [26:25<00:44,  3.33it/s]"
     ]
    },
    {
     "name": "stdout",
     "output_type": "stream",
     "text": [
      "This is the pipeline with appositions going both ways\n"
     ]
    },
    {
     "name": "stderr",
     "output_type": "stream",
     "text": [
      " 94%|████████████████████████████████████████████████████████████████████████▉     | 2119/2265 [26:25<00:54,  2.70it/s]"
     ]
    },
    {
     "name": "stdout",
     "output_type": "stream",
     "text": [
      "2025-06-05 16:09:32.489 | INFO     | pipeline.correction.correction2:generate_possible_corrections:501 - Konnte Korrekturvorschlag '*' nicht erstellen: list index out of range\n",
      "2025-06-05 16:09:32.497 | INFO     | pipeline.correction.correction2:generate_possible_corrections:519 - Konnte Korrekturvorschlag 'PLURAL_*' nicht erstellen: list index out of range\n",
      "This is the pipeline with appositions going both ways\n"
     ]
    },
    {
     "name": "stderr",
     "output_type": "stream",
     "text": [
      " 94%|█████████████████████████████████████████████████████████████████████████     | 2120/2265 [26:26<00:55,  2.60it/s]"
     ]
    },
    {
     "name": "stdout",
     "output_type": "stream",
     "text": [
      "This is the pipeline with appositions going both ways\n"
     ]
    },
    {
     "name": "stderr",
     "output_type": "stream",
     "text": [
      " 94%|█████████████████████████████████████████████████████████████████████████     | 2122/2265 [26:27<00:54,  2.60it/s]"
     ]
    },
    {
     "name": "stdout",
     "output_type": "stream",
     "text": [
      "This is the pipeline with appositions going both ways\n",
      "This is the pipeline with appositions going both ways\n"
     ]
    },
    {
     "name": "stderr",
     "output_type": "stream",
     "text": [
      " 94%|█████████████████████████████████████████████████████████████████████████     | 2123/2265 [26:27<00:43,  3.23it/s]"
     ]
    },
    {
     "name": "stdout",
     "output_type": "stream",
     "text": [
      "This is the pipeline with appositions going both ways\n"
     ]
    },
    {
     "name": "stderr",
     "output_type": "stream",
     "text": [
      " 94%|█████████████████████████████████████████████████████████████████████████▏    | 2125/2265 [26:27<00:40,  3.43it/s]"
     ]
    },
    {
     "name": "stdout",
     "output_type": "stream",
     "text": [
      "This is the pipeline with appositions going both ways\n",
      "This is the pipeline with appositions going both ways\n"
     ]
    },
    {
     "name": "stderr",
     "output_type": "stream",
     "text": [
      " 94%|█████████████████████████████████████████████████████████████████████████▏    | 2127/2265 [26:28<00:37,  3.70it/s]"
     ]
    },
    {
     "name": "stdout",
     "output_type": "stream",
     "text": [
      "This is the pipeline with appositions going both ways\n",
      "This is the pipeline with appositions going both ways\n"
     ]
    },
    {
     "name": "stderr",
     "output_type": "stream",
     "text": [
      " 94%|█████████████████████████████████████████████████████████████████████████▎    | 2128/2265 [26:28<00:36,  3.79it/s]"
     ]
    },
    {
     "name": "stdout",
     "output_type": "stream",
     "text": [
      "This is the pipeline with appositions going both ways\n"
     ]
    },
    {
     "name": "stderr",
     "output_type": "stream",
     "text": [
      " 94%|█████████████████████████████████████████████████████████████████████████▎    | 2129/2265 [26:29<01:01,  2.21it/s]"
     ]
    },
    {
     "name": "stdout",
     "output_type": "stream",
     "text": [
      "This is the pipeline with appositions going both ways\n"
     ]
    },
    {
     "name": "stderr",
     "output_type": "stream",
     "text": [
      " 94%|█████████████████████████████████████████████████████████████████████████▍    | 2131/2265 [26:30<00:45,  2.93it/s]"
     ]
    },
    {
     "name": "stdout",
     "output_type": "stream",
     "text": [
      "This is the pipeline with appositions going both ways\n",
      "This is the pipeline with appositions going both ways\n"
     ]
    },
    {
     "name": "stderr",
     "output_type": "stream",
     "text": [
      " 94%|█████████████████████████████████████████████████████████████████████████▍    | 2132/2265 [26:30<00:37,  3.50it/s]"
     ]
    },
    {
     "name": "stdout",
     "output_type": "stream",
     "text": [
      "This is the pipeline with appositions going both ways\n"
     ]
    },
    {
     "name": "stderr",
     "output_type": "stream",
     "text": [
      " 94%|█████████████████████████████████████████████████████████████████████████▍    | 2133/2265 [26:30<00:34,  3.78it/s]"
     ]
    },
    {
     "name": "stdout",
     "output_type": "stream",
     "text": [
      "This is the pipeline with appositions going both ways\n"
     ]
    },
    {
     "name": "stderr",
     "output_type": "stream",
     "text": [
      " 94%|█████████████████████████████████████████████████████████████████████████▍    | 2134/2265 [26:30<00:33,  3.91it/s]"
     ]
    },
    {
     "name": "stdout",
     "output_type": "stream",
     "text": [
      "This is the pipeline with appositions going both ways\n"
     ]
    },
    {
     "name": "stderr",
     "output_type": "stream",
     "text": [
      " 94%|█████████████████████████████████████████████████████████████████████████▌    | 2135/2265 [26:31<00:36,  3.55it/s]"
     ]
    },
    {
     "name": "stdout",
     "output_type": "stream",
     "text": [
      "2025-06-05 16:09:37.720 | INFO     | pipeline.correction.verb.change_verb_form:change_verb_form:13 - lex_target_verb not found: freikam\n",
      "2025-06-05 16:09:37.720 | INFO     | pipeline.correction.correction2:generate_possible_corrections:519 - Konnte Korrekturvorschlag 'PLURAL_*' nicht erstellen: Das Verb konnte im Lexikon nicht gefunden werden: freikam\n",
      "2025-06-05 16:09:37.738 | INFO     | pipeline.correction.verb.change_verb_form:change_verb_form:13 - lex_target_verb not found: freikam\n",
      "2025-06-05 16:09:37.738 | INFO     | pipeline.correction.correction2:generate_possible_corrections:519 - Konnte Korrekturvorschlag 'PLURAL_*' nicht erstellen: Das Verb konnte im Lexikon nicht gefunden werden: freikam\n",
      "This is the pipeline with appositions going both ways\n"
     ]
    },
    {
     "name": "stderr",
     "output_type": "stream",
     "text": [
      " 94%|█████████████████████████████████████████████████████████████████████████▌    | 2136/2265 [26:31<00:37,  3.48it/s]"
     ]
    },
    {
     "name": "stdout",
     "output_type": "stream",
     "text": [
      "This is the pipeline with appositions going both ways\n"
     ]
    },
    {
     "name": "stderr",
     "output_type": "stream",
     "text": [
      " 94%|█████████████████████████████████████████████████████████████████████████▌    | 2137/2265 [26:31<00:36,  3.51it/s]"
     ]
    },
    {
     "name": "stdout",
     "output_type": "stream",
     "text": [
      "This is the pipeline with appositions going both ways\n"
     ]
    },
    {
     "name": "stderr",
     "output_type": "stream",
     "text": [
      " 94%|█████████████████████████████████████████████████████████████████████████▋    | 2138/2265 [26:31<00:34,  3.68it/s]"
     ]
    },
    {
     "name": "stdout",
     "output_type": "stream",
     "text": [
      "This is the pipeline with appositions going both ways\n"
     ]
    },
    {
     "name": "stderr",
     "output_type": "stream",
     "text": [
      " 94%|█████████████████████████████████████████████████████████████████████████▋    | 2139/2265 [26:32<00:32,  3.93it/s]"
     ]
    },
    {
     "name": "stdout",
     "output_type": "stream",
     "text": [
      "This is the pipeline with appositions going both ways\n"
     ]
    },
    {
     "name": "stderr",
     "output_type": "stream",
     "text": [
      " 94%|█████████████████████████████████████████████████████████████████████████▋    | 2140/2265 [26:32<00:37,  3.32it/s]"
     ]
    },
    {
     "name": "stdout",
     "output_type": "stream",
     "text": [
      "This is the pipeline with appositions going both ways\n"
     ]
    },
    {
     "name": "stderr",
     "output_type": "stream",
     "text": [
      " 95%|█████████████████████████████████████████████████████████████████████████▋    | 2141/2265 [26:33<01:02,  1.99it/s]"
     ]
    },
    {
     "name": "stdout",
     "output_type": "stream",
     "text": [
      "This is the pipeline with appositions going both ways\n"
     ]
    },
    {
     "name": "stderr",
     "output_type": "stream",
     "text": [
      " 95%|█████████████████████████████████████████████████████████████████████████▊    | 2142/2265 [26:34<01:29,  1.37it/s]"
     ]
    },
    {
     "name": "stdout",
     "output_type": "stream",
     "text": [
      "This is the pipeline with appositions going both ways\n"
     ]
    },
    {
     "name": "stderr",
     "output_type": "stream",
     "text": [
      " 95%|█████████████████████████████████████████████████████████████████████████▊    | 2144/2265 [26:35<01:13,  1.65it/s]"
     ]
    },
    {
     "name": "stdout",
     "output_type": "stream",
     "text": [
      "This is the pipeline with appositions going both ways\n",
      "This is the pipeline with appositions going both ways\n"
     ]
    },
    {
     "name": "stderr",
     "output_type": "stream",
     "text": [
      " 95%|█████████████████████████████████████████████████████████████████████████▊    | 2145/2265 [26:36<01:10,  1.69it/s]"
     ]
    },
    {
     "name": "stdout",
     "output_type": "stream",
     "text": [
      "This is the pipeline with appositions going both ways\n"
     ]
    },
    {
     "name": "stderr",
     "output_type": "stream",
     "text": [
      " 95%|█████████████████████████████████████████████████████████████████████████▉    | 2146/2265 [26:36<01:02,  1.89it/s]"
     ]
    },
    {
     "name": "stdout",
     "output_type": "stream",
     "text": [
      "This is the pipeline with appositions going both ways\n"
     ]
    },
    {
     "name": "stderr",
     "output_type": "stream",
     "text": [
      " 95%|█████████████████████████████████████████████████████████████████████████▉    | 2147/2265 [26:37<00:55,  2.14it/s]"
     ]
    },
    {
     "name": "stdout",
     "output_type": "stream",
     "text": [
      "This is the pipeline with appositions going both ways\n"
     ]
    },
    {
     "name": "stderr",
     "output_type": "stream",
     "text": [
      " 95%|█████████████████████████████████████████████████████████████████████████▉    | 2148/2265 [26:37<00:50,  2.34it/s]"
     ]
    },
    {
     "name": "stdout",
     "output_type": "stream",
     "text": [
      "This is the pipeline with appositions going both ways\n"
     ]
    },
    {
     "name": "stderr",
     "output_type": "stream",
     "text": [
      " 95%|██████████████████████████████████████████████████████████████████████████    | 2149/2265 [26:37<00:47,  2.43it/s]"
     ]
    },
    {
     "name": "stdout",
     "output_type": "stream",
     "text": [
      "This is the pipeline with appositions going both ways\n"
     ]
    },
    {
     "name": "stderr",
     "output_type": "stream",
     "text": [
      " 95%|██████████████████████████████████████████████████████████████████████████    | 2150/2265 [26:38<00:43,  2.67it/s]"
     ]
    },
    {
     "name": "stdout",
     "output_type": "stream",
     "text": [
      "This is the pipeline with appositions going both ways\n"
     ]
    },
    {
     "name": "stderr",
     "output_type": "stream",
     "text": [
      " 95%|██████████████████████████████████████████████████████████████████████████    | 2152/2265 [26:38<00:33,  3.41it/s]"
     ]
    },
    {
     "name": "stdout",
     "output_type": "stream",
     "text": [
      "This is the pipeline with appositions going both ways\n",
      "This is the pipeline with appositions going both ways\n"
     ]
    },
    {
     "name": "stderr",
     "output_type": "stream",
     "text": [
      " 95%|██████████████████████████████████████████████████████████████████████████▏   | 2153/2265 [26:39<00:44,  2.51it/s]"
     ]
    },
    {
     "name": "stdout",
     "output_type": "stream",
     "text": [
      "This is the pipeline with appositions going both ways\n"
     ]
    },
    {
     "name": "stderr",
     "output_type": "stream",
     "text": [
      " 95%|██████████████████████████████████████████████████████████████████████████▏   | 2154/2265 [26:39<00:42,  2.60it/s]"
     ]
    },
    {
     "name": "stdout",
     "output_type": "stream",
     "text": [
      "This is the pipeline with appositions going both ways\n"
     ]
    },
    {
     "name": "stderr",
     "output_type": "stream",
     "text": [
      " 95%|██████████████████████████████████████████████████████████████████████████▏   | 2155/2265 [26:39<00:45,  2.42it/s]"
     ]
    },
    {
     "name": "stdout",
     "output_type": "stream",
     "text": [
      "This is the pipeline with appositions going both ways\n"
     ]
    },
    {
     "name": "stderr",
     "output_type": "stream",
     "text": [
      " 95%|██████████████████████████████████████████████████████████████████████████▏   | 2156/2265 [26:40<00:39,  2.73it/s]"
     ]
    },
    {
     "name": "stdout",
     "output_type": "stream",
     "text": [
      "This is the pipeline with appositions going both ways\n"
     ]
    },
    {
     "name": "stderr",
     "output_type": "stream",
     "text": [
      " 95%|███████████████████████████████████████████████████████████████████████▍   | 2157/2265 [34:16<4:06:55, 137.18s/it]"
     ]
    },
    {
     "name": "stdout",
     "output_type": "stream",
     "text": [
      "This is the pipeline with appositions going both ways\n"
     ]
    },
    {
     "name": "stderr",
     "output_type": "stream",
     "text": [
      " 95%|████████████████████████████████████████████████████████████████████████▍   | 2158/2265 [34:17<2:51:42, 96.29s/it]"
     ]
    },
    {
     "name": "stdout",
     "output_type": "stream",
     "text": [
      "This is the pipeline with appositions going both ways\n",
      "2025-06-05 16:17:26.180 | INFO     | pipeline.correction.correction2:generate_possible_corrections:352 - Konnte Korrekturvorschlag '*' nicht erstellen: list index out of range\n",
      "2025-06-05 16:17:26.188 | INFO     | pipeline.correction.correction2:generate_possible_corrections:459 - Konnte Korrekturvorschlag 'BOTH_FORMS' nicht erstellen: list index out of range\n"
     ]
    },
    {
     "name": "stderr",
     "output_type": "stream",
     "text": [
      " 95%|████████████████████████████████████████████████████████████████████████▍   | 2159/2265 [34:19<2:00:17, 68.09s/it]"
     ]
    },
    {
     "name": "stdout",
     "output_type": "stream",
     "text": [
      "2025-06-05 16:17:26.476 | INFO     | pipeline.correction.correction2:generate_possible_corrections:352 - Konnte Korrekturvorschlag '*' nicht erstellen: list index out of range\n",
      "2025-06-05 16:17:26.483 | INFO     | pipeline.correction.correction2:generate_possible_corrections:459 - Konnte Korrekturvorschlag 'BOTH_FORMS' nicht erstellen: list index out of range\n",
      "This is the pipeline with appositions going both ways\n"
     ]
    },
    {
     "name": "stderr",
     "output_type": "stream",
     "text": [
      " 95%|████████████████████████████████████████████████████████████████████████▍   | 2160/2265 [34:21<1:24:05, 48.05s/it]"
     ]
    },
    {
     "name": "stdout",
     "output_type": "stream",
     "text": [
      "This is the pipeline with appositions going both ways\n"
     ]
    },
    {
     "name": "stderr",
     "output_type": "stream",
     "text": [
      " 95%|██████████████████████████████████████████████████████████████████████████▍   | 2161/2265 [34:22<58:52, 33.97s/it]"
     ]
    },
    {
     "name": "stdout",
     "output_type": "stream",
     "text": [
      "This is the pipeline with appositions going both ways\n"
     ]
    },
    {
     "name": "stderr",
     "output_type": "stream",
     "text": [
      " 95%|██████████████████████████████████████████████████████████████████████████▍   | 2162/2265 [34:24<41:56, 24.43s/it]"
     ]
    },
    {
     "name": "stdout",
     "output_type": "stream",
     "text": [
      "This is the pipeline with appositions going both ways\n"
     ]
    },
    {
     "name": "stderr",
     "output_type": "stream",
     "text": [
      " 95%|██████████████████████████████████████████████████████████████████████████▍   | 2163/2265 [34:25<29:37, 17.43s/it]"
     ]
    },
    {
     "name": "stdout",
     "output_type": "stream",
     "text": [
      "This is the pipeline with appositions going both ways\n"
     ]
    },
    {
     "name": "stderr",
     "output_type": "stream",
     "text": [
      " 96%|██████████████████████████████████████████████████████████████████████████▌   | 2164/2265 [34:26<21:12, 12.60s/it]"
     ]
    },
    {
     "name": "stdout",
     "output_type": "stream",
     "text": [
      "This is the pipeline with appositions going both ways\n"
     ]
    },
    {
     "name": "stderr",
     "output_type": "stream",
     "text": [
      " 96%|██████████████████████████████████████████████████████████████████████████▌   | 2165/2265 [34:28<15:27,  9.28s/it]"
     ]
    },
    {
     "name": "stdout",
     "output_type": "stream",
     "text": [
      "This is the pipeline with appositions going both ways\n"
     ]
    },
    {
     "name": "stderr",
     "output_type": "stream",
     "text": [
      " 96%|██████████████████████████████████████████████████████████████████████████▌   | 2166/2265 [34:29<11:19,  6.87s/it]"
     ]
    },
    {
     "name": "stdout",
     "output_type": "stream",
     "text": [
      "This is the pipeline with appositions going both ways\n"
     ]
    },
    {
     "name": "stderr",
     "output_type": "stream",
     "text": [
      " 96%|██████████████████████████████████████████████████████████████████████████▋   | 2167/2265 [34:32<09:19,  5.71s/it]"
     ]
    },
    {
     "name": "stdout",
     "output_type": "stream",
     "text": [
      "This is the pipeline with appositions going both ways\n"
     ]
    },
    {
     "name": "stderr",
     "output_type": "stream",
     "text": [
      " 96%|██████████████████████████████████████████████████████████████████████████▋   | 2168/2265 [34:33<06:41,  4.14s/it]"
     ]
    },
    {
     "name": "stdout",
     "output_type": "stream",
     "text": [
      "This is the pipeline with appositions going both ways\n",
      "2025-06-05 16:17:41.284 | INFO     | pipeline.correction.correction2:generate_possible_corrections:352 - Konnte Korrekturvorschlag '*' nicht erstellen: list index out of range\n",
      "2025-06-05 16:17:41.301 | INFO     | pipeline.correction.correction2:generate_possible_corrections:459 - Konnte Korrekturvorschlag 'BOTH_FORMS' nicht erstellen: list index out of range\n",
      "2025-06-05 16:17:41.338 | INFO     | pipeline.correction.correction2:generate_possible_corrections:501 - Konnte Korrekturvorschlag '*' nicht erstellen: list index out of range\n",
      "2025-06-05 16:17:41.353 | INFO     | pipeline.correction.correction2:generate_possible_corrections:519 - Konnte Korrekturvorschlag 'PLURAL_*' nicht erstellen: list index out of range\n",
      "2025-06-05 16:17:41.435 | INFO     | pipeline.correction.correction2:generate_possible_corrections:352 - Konnte Korrekturvorschlag '*' nicht erstellen: list index out of range\n",
      "2025-06-05 16:17:41.449 | INFO     | pipeline.correction.correction2:generate_possible_corrections:459 - Konnte Korrekturvorschlag 'BOTH_FORMS' nicht erstellen: list index out of range\n"
     ]
    },
    {
     "name": "stderr",
     "output_type": "stream",
     "text": [
      " 96%|██████████████████████████████████████████████████████████████████████████▋   | 2169/2265 [34:35<05:33,  3.47s/it]"
     ]
    },
    {
     "name": "stdout",
     "output_type": "stream",
     "text": [
      "This is the pipeline with appositions going both ways\n"
     ]
    },
    {
     "name": "stderr",
     "output_type": "stream",
     "text": [
      " 96%|██████████████████████████████████████████████████████████████████████████▋   | 2170/2265 [34:35<04:04,  2.58s/it]"
     ]
    },
    {
     "name": "stdout",
     "output_type": "stream",
     "text": [
      "2025-06-05 16:17:42.113 | INFO     | pipeline.correction.correction2:generate_possible_corrections:352 - Konnte Korrekturvorschlag '*' nicht erstellen: list index out of range\n",
      "2025-06-05 16:17:42.126 | INFO     | pipeline.correction.correction2:generate_possible_corrections:459 - Konnte Korrekturvorschlag 'BOTH_FORMS' nicht erstellen: list index out of range\n",
      "This is the pipeline with appositions going both ways\n",
      "2025-06-05 16:17:45.227 | INFO     | pipeline.correction.correction2:generate_possible_corrections:501 - Konnte Korrekturvorschlag '*' nicht erstellen: object of type 'NoneType' has no len()\n",
      "2025-06-05 16:17:45.237 | INFO     | pipeline.correction.correction2:generate_possible_corrections:519 - Konnte Korrekturvorschlag 'PLURAL_*' nicht erstellen: object of type 'NoneType' has no len()\n",
      "2025-06-05 16:17:45.436 | INFO     | pipeline.correction.correction2:generate_possible_corrections:352 - Konnte Korrekturvorschlag '*' nicht erstellen: list index out of range\n",
      "2025-06-05 16:17:45.445 | INFO     | pipeline.correction.correction2:generate_possible_corrections:459 - Konnte Korrekturvorschlag 'BOTH_FORMS' nicht erstellen: list index out of range\n"
     ]
    },
    {
     "name": "stderr",
     "output_type": "stream",
     "text": [
      " 96%|██████████████████████████████████████████████████████████████████████████▊   | 2171/2265 [34:39<04:51,  3.10s/it]"
     ]
    },
    {
     "name": "stdout",
     "output_type": "stream",
     "text": [
      "This is the pipeline with appositions going both ways\n"
     ]
    },
    {
     "name": "stderr",
     "output_type": "stream",
     "text": [
      " 96%|██████████████████████████████████████████████████████████████████████████▊   | 2172/2265 [34:42<04:31,  2.92s/it]"
     ]
    },
    {
     "name": "stdout",
     "output_type": "stream",
     "text": [
      "This is the pipeline with appositions going both ways\n"
     ]
    },
    {
     "name": "stderr",
     "output_type": "stream",
     "text": [
      " 96%|██████████████████████████████████████████████████████████████████████████▊   | 2173/2265 [34:45<04:41,  3.06s/it]"
     ]
    },
    {
     "name": "stdout",
     "output_type": "stream",
     "text": [
      "This is the pipeline with appositions going both ways\n"
     ]
    },
    {
     "name": "stderr",
     "output_type": "stream",
     "text": [
      " 96%|██████████████████████████████████████████████████████████████████████████▊   | 2174/2265 [34:46<03:44,  2.47s/it]"
     ]
    },
    {
     "name": "stdout",
     "output_type": "stream",
     "text": [
      "This is the pipeline with appositions going both ways\n",
      "2025-06-05 16:17:54.633 | INFO     | pipeline.correction.correction2:generate_possible_corrections:352 - Konnte Korrekturvorschlag '*' nicht erstellen: list index out of range\n",
      "2025-06-05 16:17:54.646 | INFO     | pipeline.correction.correction2:generate_possible_corrections:459 - Konnte Korrekturvorschlag 'BOTH_FORMS' nicht erstellen: list index out of range\n",
      "2025-06-05 16:17:54.757 | INFO     | pipeline.correction.correction2:generate_possible_corrections:352 - Konnte Korrekturvorschlag '*' nicht erstellen: list index out of range\n",
      "2025-06-05 16:17:54.769 | INFO     | pipeline.correction.correction2:generate_possible_corrections:459 - Konnte Korrekturvorschlag 'BOTH_FORMS' nicht erstellen: list index out of range\n"
     ]
    },
    {
     "name": "stderr",
     "output_type": "stream",
     "text": [
      " 96%|██████████████████████████████████████████████████████████████████████████▉   | 2175/2265 [34:48<03:18,  2.21s/it]"
     ]
    },
    {
     "name": "stdout",
     "output_type": "stream",
     "text": [
      "2025-06-05 16:17:55.034 | INFO     | pipeline.correction.correction2:generate_possible_corrections:352 - Konnte Korrekturvorschlag '*' nicht erstellen: list index out of range\n",
      "2025-06-05 16:17:55.047 | INFO     | pipeline.correction.correction2:generate_possible_corrections:459 - Konnte Korrekturvorschlag 'BOTH_FORMS' nicht erstellen: list index out of range\n",
      "This is the pipeline with appositions going both ways\n"
     ]
    },
    {
     "name": "stderr",
     "output_type": "stream",
     "text": [
      " 96%|██████████████████████████████████████████████████████████████████████████▉   | 2176/2265 [34:48<02:29,  1.68s/it]"
     ]
    },
    {
     "name": "stdout",
     "output_type": "stream",
     "text": [
      "This is the pipeline with appositions going both ways\n"
     ]
    },
    {
     "name": "stderr",
     "output_type": "stream",
     "text": [
      " 96%|██████████████████████████████████████████████████████████████████████████▉   | 2177/2265 [34:49<02:04,  1.41s/it]"
     ]
    },
    {
     "name": "stdout",
     "output_type": "stream",
     "text": [
      "This is the pipeline with appositions going both ways\n"
     ]
    },
    {
     "name": "stderr",
     "output_type": "stream",
     "text": [
      " 96%|███████████████████████████████████████████████████████████████████████████   | 2178/2265 [34:57<04:39,  3.21s/it]"
     ]
    },
    {
     "name": "stdout",
     "output_type": "stream",
     "text": [
      "2025-06-05 16:18:03.733 | INFO     | pipeline.correction.correction2:generate_possible_corrections:501 - Konnte Korrekturvorschlag '*' nicht erstellen: list index out of range\n",
      "2025-06-05 16:18:03.733 | INFO     | pipeline.correction.correction2:generate_possible_corrections:519 - Konnte Korrekturvorschlag 'PLURAL_*' nicht erstellen: list index out of range\n",
      "This is the pipeline with appositions going both ways\n"
     ]
    },
    {
     "name": "stderr",
     "output_type": "stream",
     "text": [
      " 96%|███████████████████████████████████████████████████████████████████████████   | 2179/2265 [34:59<04:08,  2.89s/it]"
     ]
    },
    {
     "name": "stdout",
     "output_type": "stream",
     "text": [
      "This is the pipeline with appositions going both ways\n"
     ]
    },
    {
     "name": "stderr",
     "output_type": "stream",
     "text": [
      " 96%|███████████████████████████████████████████████████████████████████████████   | 2180/2265 [34:59<03:05,  2.18s/it]"
     ]
    },
    {
     "name": "stdout",
     "output_type": "stream",
     "text": [
      "This is the pipeline with appositions going both ways\n"
     ]
    },
    {
     "name": "stderr",
     "output_type": "stream",
     "text": [
      " 96%|███████████████████████████████████████████████████████████████████████████   | 2181/2265 [35:00<02:34,  1.84s/it]"
     ]
    },
    {
     "name": "stdout",
     "output_type": "stream",
     "text": [
      "This is the pipeline with appositions going both ways\n"
     ]
    },
    {
     "name": "stderr",
     "output_type": "stream",
     "text": [
      " 96%|███████████████████████████████████████████████████████████████████████████▏  | 2182/2265 [35:01<02:10,  1.57s/it]"
     ]
    },
    {
     "name": "stdout",
     "output_type": "stream",
     "text": [
      "This is the pipeline with appositions going both ways\n"
     ]
    },
    {
     "name": "stderr",
     "output_type": "stream",
     "text": [
      " 96%|███████████████████████████████████████████████████████████████████████████▏  | 2183/2265 [35:02<01:57,  1.43s/it]"
     ]
    },
    {
     "name": "stdout",
     "output_type": "stream",
     "text": [
      "This is the pipeline with appositions going both ways\n"
     ]
    },
    {
     "name": "stderr",
     "output_type": "stream",
     "text": [
      " 96%|███████████████████████████████████████████████████████████████████████████▏  | 2184/2265 [35:04<02:09,  1.60s/it]"
     ]
    },
    {
     "name": "stdout",
     "output_type": "stream",
     "text": [
      "This is the pipeline with appositions going both ways\n",
      "2025-06-05 16:18:12.297 | INFO     | pipeline.correction.correction2:generate_possible_corrections:501 - Konnte Korrekturvorschlag '*' nicht erstellen: list index out of range\n",
      "2025-06-05 16:18:12.311 | INFO     | pipeline.correction.correction2:generate_possible_corrections:519 - Konnte Korrekturvorschlag 'PLURAL_*' nicht erstellen: list index out of range\n"
     ]
    },
    {
     "name": "stderr",
     "output_type": "stream",
     "text": [
      " 96%|███████████████████████████████████████████████████████████████████████████▏  | 2185/2265 [35:05<01:54,  1.43s/it]"
     ]
    },
    {
     "name": "stdout",
     "output_type": "stream",
     "text": [
      "This is the pipeline with appositions going both ways\n"
     ]
    },
    {
     "name": "stderr",
     "output_type": "stream",
     "text": [
      " 97%|███████████████████████████████████████████████████████████████████████████▎  | 2186/2265 [35:07<02:01,  1.53s/it]"
     ]
    },
    {
     "name": "stdout",
     "output_type": "stream",
     "text": [
      "This is the pipeline with appositions going both ways\n"
     ]
    },
    {
     "name": "stderr",
     "output_type": "stream",
     "text": [
      " 97%|███████████████████████████████████████████████████████████████████████████▎  | 2188/2265 [35:07<01:04,  1.20it/s]"
     ]
    },
    {
     "name": "stdout",
     "output_type": "stream",
     "text": [
      "This is the pipeline with appositions going both ways\n",
      "This is the pipeline with appositions going both ways\n"
     ]
    },
    {
     "name": "stderr",
     "output_type": "stream",
     "text": [
      " 97%|███████████████████████████████████████████████████████████████████████████▍  | 2189/2265 [35:08<00:59,  1.29it/s]"
     ]
    },
    {
     "name": "stdout",
     "output_type": "stream",
     "text": [
      "This is the pipeline with appositions going both ways\n"
     ]
    },
    {
     "name": "stderr",
     "output_type": "stream",
     "text": [
      " 97%|███████████████████████████████████████████████████████████████████████████▍  | 2190/2265 [35:10<01:20,  1.07s/it]"
     ]
    },
    {
     "name": "stdout",
     "output_type": "stream",
     "text": [
      "2025-06-05 16:18:17.060 | INFO     | pipeline.correction.correction2:generate_possible_corrections:501 - Konnte Korrekturvorschlag '*' nicht erstellen: list index out of range\n",
      "2025-06-05 16:18:17.068 | INFO     | pipeline.correction.correction2:generate_possible_corrections:519 - Konnte Korrekturvorschlag 'PLURAL_*' nicht erstellen: list index out of range\n",
      "This is the pipeline with appositions going both ways\n"
     ]
    },
    {
     "name": "stderr",
     "output_type": "stream",
     "text": [
      " 97%|███████████████████████████████████████████████████████████████████████████▍  | 2191/2265 [35:10<01:04,  1.15it/s]"
     ]
    },
    {
     "name": "stdout",
     "output_type": "stream",
     "text": [
      "This is the pipeline with appositions going both ways\n"
     ]
    },
    {
     "name": "stderr",
     "output_type": "stream",
     "text": [
      " 97%|███████████████████████████████████████████████████████████████████████████▍  | 2192/2265 [35:11<01:02,  1.16it/s]"
     ]
    },
    {
     "name": "stdout",
     "output_type": "stream",
     "text": [
      "2025-06-05 16:18:18.280 | INFO     | pipeline.correction.correction2:generate_possible_corrections:352 - Konnte Korrekturvorschlag '*' nicht erstellen: list index out of range\n",
      "2025-06-05 16:18:18.293 | INFO     | pipeline.correction.correction2:generate_possible_corrections:459 - Konnte Korrekturvorschlag 'BOTH_FORMS' nicht erstellen: list index out of range\n",
      "This is the pipeline with appositions going both ways\n"
     ]
    },
    {
     "name": "stderr",
     "output_type": "stream",
     "text": [
      " 97%|███████████████████████████████████████████████████████████████████████████▌  | 2193/2265 [35:11<00:52,  1.37it/s]"
     ]
    },
    {
     "name": "stdout",
     "output_type": "stream",
     "text": [
      "This is the pipeline with appositions going both ways\n"
     ]
    },
    {
     "name": "stderr",
     "output_type": "stream",
     "text": [
      " 97%|███████████████████████████████████████████████████████████████████████████▌  | 2194/2265 [35:12<00:42,  1.66it/s]"
     ]
    },
    {
     "name": "stdout",
     "output_type": "stream",
     "text": [
      "This is the pipeline with appositions going both ways\n",
      "2025-06-05 16:18:19.756 | INFO     | pipeline.correction.correction2:generate_possible_corrections:501 - Konnte Korrekturvorschlag '*' nicht erstellen: list index out of range\n",
      "2025-06-05 16:18:19.763 | INFO     | pipeline.correction.correction2:generate_possible_corrections:519 - Konnte Korrekturvorschlag 'PLURAL_*' nicht erstellen: list index out of range\n",
      "2025-06-05 16:18:19.863 | INFO     | pipeline.correction.correction2:generate_possible_corrections:501 - Konnte Korrekturvorschlag '*' nicht erstellen: list index out of range\n",
      "2025-06-05 16:18:19.871 | INFO     | pipeline.correction.correction2:generate_possible_corrections:519 - Konnte Korrekturvorschlag 'PLURAL_*' nicht erstellen: list index out of range\n"
     ]
    },
    {
     "name": "stderr",
     "output_type": "stream",
     "text": [
      " 97%|███████████████████████████████████████████████████████████████████████████▌  | 2195/2265 [35:13<00:48,  1.44it/s]"
     ]
    },
    {
     "name": "stdout",
     "output_type": "stream",
     "text": [
      "This is the pipeline with appositions going both ways\n"
     ]
    },
    {
     "name": "stderr",
     "output_type": "stream",
     "text": [
      " 97%|███████████████████████████████████████████████████████████████████████████▌  | 2196/2265 [35:14<00:55,  1.24it/s]"
     ]
    },
    {
     "name": "stdout",
     "output_type": "stream",
     "text": [
      "This is the pipeline with appositions going both ways\n"
     ]
    },
    {
     "name": "stderr",
     "output_type": "stream",
     "text": [
      " 97%|███████████████████████████████████████████████████████████████████████████▋  | 2197/2265 [35:14<00:49,  1.39it/s]"
     ]
    },
    {
     "name": "stdout",
     "output_type": "stream",
     "text": [
      "This is the pipeline with appositions going both ways\n"
     ]
    },
    {
     "name": "stderr",
     "output_type": "stream",
     "text": [
      " 97%|███████████████████████████████████████████████████████████████████████████▋  | 2198/2265 [35:15<00:46,  1.45it/s]"
     ]
    },
    {
     "name": "stdout",
     "output_type": "stream",
     "text": [
      "This is the pipeline with appositions going both ways\n"
     ]
    },
    {
     "name": "stderr",
     "output_type": "stream",
     "text": [
      " 97%|███████████████████████████████████████████████████████████████████████████▋  | 2199/2265 [35:16<00:58,  1.13it/s]"
     ]
    },
    {
     "name": "stdout",
     "output_type": "stream",
     "text": [
      "2025-06-05 16:18:23.438 | INFO     | pipeline.correction.correction2:generate_possible_corrections:501 - Konnte Korrekturvorschlag '*' nicht erstellen: list index out of range\n",
      "2025-06-05 16:18:23.450 | INFO     | pipeline.correction.correction2:generate_possible_corrections:519 - Konnte Korrekturvorschlag 'PLURAL_*' nicht erstellen: list index out of range\n",
      "This is the pipeline with appositions going both ways\n"
     ]
    },
    {
     "name": "stderr",
     "output_type": "stream",
     "text": [
      " 97%|███████████████████████████████████████████████████████████████████████████▊  | 2200/2265 [35:17<00:45,  1.43it/s]"
     ]
    },
    {
     "name": "stdout",
     "output_type": "stream",
     "text": [
      "This is the pipeline with appositions going both ways\n"
     ]
    },
    {
     "name": "stderr",
     "output_type": "stream",
     "text": [
      " 97%|███████████████████████████████████████████████████████████████████████████▊  | 2201/2265 [35:17<00:49,  1.30it/s]"
     ]
    },
    {
     "name": "stdout",
     "output_type": "stream",
     "text": [
      "This is the pipeline with appositions going both ways\n"
     ]
    },
    {
     "name": "stderr",
     "output_type": "stream",
     "text": [
      " 97%|███████████████████████████████████████████████████████████████████████████▊  | 2202/2265 [35:18<00:47,  1.34it/s]"
     ]
    },
    {
     "name": "stdout",
     "output_type": "stream",
     "text": [
      "This is the pipeline with appositions going both ways\n"
     ]
    },
    {
     "name": "stderr",
     "output_type": "stream",
     "text": [
      " 97%|███████████████████████████████████████████████████████████████████████████▊  | 2203/2265 [35:19<00:43,  1.44it/s]"
     ]
    },
    {
     "name": "stdout",
     "output_type": "stream",
     "text": [
      "This is the pipeline with appositions going both ways\n"
     ]
    },
    {
     "name": "stderr",
     "output_type": "stream",
     "text": [
      " 97%|███████████████████████████████████████████████████████████████████████████▉  | 2204/2265 [35:19<00:36,  1.65it/s]"
     ]
    },
    {
     "name": "stdout",
     "output_type": "stream",
     "text": [
      "This is the pipeline with appositions going both ways\n"
     ]
    },
    {
     "name": "stderr",
     "output_type": "stream",
     "text": [
      " 97%|███████████████████████████████████████████████████████████████████████████▉  | 2205/2265 [35:20<00:32,  1.84it/s]"
     ]
    },
    {
     "name": "stdout",
     "output_type": "stream",
     "text": [
      "This is the pipeline with appositions going both ways\n"
     ]
    },
    {
     "name": "stderr",
     "output_type": "stream",
     "text": [
      " 97%|███████████████████████████████████████████████████████████████████████████▉  | 2206/2265 [35:20<00:28,  2.09it/s]"
     ]
    },
    {
     "name": "stdout",
     "output_type": "stream",
     "text": [
      "This is the pipeline with appositions going both ways\n"
     ]
    },
    {
     "name": "stderr",
     "output_type": "stream",
     "text": [
      " 97%|████████████████████████████████████████████████████████████████████████████  | 2207/2265 [35:20<00:23,  2.43it/s]"
     ]
    },
    {
     "name": "stdout",
     "output_type": "stream",
     "text": [
      "This is the pipeline with appositions going both ways\n"
     ]
    },
    {
     "name": "stderr",
     "output_type": "stream",
     "text": [
      " 98%|████████████████████████████████████████████████████████████████████████████  | 2209/2265 [35:22<00:30,  1.83it/s]"
     ]
    },
    {
     "name": "stdout",
     "output_type": "stream",
     "text": [
      "This is the pipeline with appositions going both ways\n",
      "This is the pipeline with appositions going both ways\n"
     ]
    },
    {
     "name": "stderr",
     "output_type": "stream",
     "text": [
      " 98%|████████████████████████████████████████████████████████████████████████████  | 2210/2265 [35:24<00:54,  1.00it/s]"
     ]
    },
    {
     "name": "stdout",
     "output_type": "stream",
     "text": [
      "This is the pipeline with appositions going both ways\n"
     ]
    },
    {
     "name": "stderr",
     "output_type": "stream",
     "text": [
      " 98%|████████████████████████████████████████████████████████████████████████████▏ | 2211/2265 [35:24<00:44,  1.22it/s]"
     ]
    },
    {
     "name": "stdout",
     "output_type": "stream",
     "text": [
      "This is the pipeline with appositions going both ways\n"
     ]
    },
    {
     "name": "stderr",
     "output_type": "stream",
     "text": [
      " 98%|████████████████████████████████████████████████████████████████████████████▏ | 2212/2265 [35:24<00:35,  1.51it/s]"
     ]
    },
    {
     "name": "stdout",
     "output_type": "stream",
     "text": [
      "This is the pipeline with appositions going both ways\n"
     ]
    },
    {
     "name": "stderr",
     "output_type": "stream",
     "text": [
      " 98%|████████████████████████████████████████████████████████████████████████████▏ | 2213/2265 [35:25<00:37,  1.37it/s]"
     ]
    },
    {
     "name": "stdout",
     "output_type": "stream",
     "text": [
      "This is the pipeline with appositions going both ways\n"
     ]
    },
    {
     "name": "stderr",
     "output_type": "stream",
     "text": [
      " 98%|████████████████████████████████████████████████████████████████████████████▏ | 2214/2265 [35:26<00:36,  1.40it/s]"
     ]
    },
    {
     "name": "stdout",
     "output_type": "stream",
     "text": [
      "This is the pipeline with appositions going both ways\n"
     ]
    },
    {
     "name": "stderr",
     "output_type": "stream",
     "text": [
      " 98%|████████████████████████████████████████████████████████████████████████████▎ | 2215/2265 [35:26<00:30,  1.65it/s]"
     ]
    },
    {
     "name": "stdout",
     "output_type": "stream",
     "text": [
      "This is the pipeline with appositions going both ways\n"
     ]
    },
    {
     "name": "stderr",
     "output_type": "stream",
     "text": [
      " 98%|████████████████████████████████████████████████████████████████████████████▎ | 2216/2265 [35:27<00:29,  1.68it/s]"
     ]
    },
    {
     "name": "stdout",
     "output_type": "stream",
     "text": [
      "This is the pipeline with appositions going both ways\n"
     ]
    },
    {
     "name": "stderr",
     "output_type": "stream",
     "text": [
      " 98%|████████████████████████████████████████████████████████████████████████████▎ | 2217/2265 [35:27<00:24,  1.95it/s]"
     ]
    },
    {
     "name": "stdout",
     "output_type": "stream",
     "text": [
      "This is the pipeline with appositions going both ways\n"
     ]
    },
    {
     "name": "stderr",
     "output_type": "stream",
     "text": [
      " 98%|████████████████████████████████████████████████████████████████████████████▍ | 2218/2265 [35:28<00:25,  1.85it/s]"
     ]
    },
    {
     "name": "stdout",
     "output_type": "stream",
     "text": [
      "This is the pipeline with appositions going both ways\n"
     ]
    },
    {
     "name": "stderr",
     "output_type": "stream",
     "text": [
      " 98%|████████████████████████████████████████████████████████████████████████████▍ | 2219/2265 [35:28<00:21,  2.16it/s]"
     ]
    },
    {
     "name": "stdout",
     "output_type": "stream",
     "text": [
      "This is the pipeline with appositions going both ways\n"
     ]
    },
    {
     "name": "stderr",
     "output_type": "stream",
     "text": [
      " 98%|████████████████████████████████████████████████████████████████████████████▍ | 2220/2265 [35:28<00:19,  2.33it/s]"
     ]
    },
    {
     "name": "stdout",
     "output_type": "stream",
     "text": [
      "This is the pipeline with appositions going both ways\n"
     ]
    },
    {
     "name": "stderr",
     "output_type": "stream",
     "text": [
      " 98%|████████████████████████████████████████████████████████████████████████████▍ | 2221/2265 [35:29<00:18,  2.38it/s]"
     ]
    },
    {
     "name": "stdout",
     "output_type": "stream",
     "text": [
      "This is the pipeline with appositions going both ways\n"
     ]
    },
    {
     "name": "stderr",
     "output_type": "stream",
     "text": [
      " 98%|████████████████████████████████████████████████████████████████████████████▌ | 2222/2265 [35:29<00:17,  2.51it/s]"
     ]
    },
    {
     "name": "stdout",
     "output_type": "stream",
     "text": [
      "This is the pipeline with appositions going both ways\n"
     ]
    },
    {
     "name": "stderr",
     "output_type": "stream",
     "text": [
      " 98%|████████████████████████████████████████████████████████████████████████████▌ | 2224/2265 [35:30<00:13,  2.99it/s]"
     ]
    },
    {
     "name": "stdout",
     "output_type": "stream",
     "text": [
      "This is the pipeline with appositions going both ways\n",
      "This is the pipeline with appositions going both ways\n"
     ]
    },
    {
     "name": "stderr",
     "output_type": "stream",
     "text": [
      " 98%|████████████████████████████████████████████████████████████████████████████▌ | 2225/2265 [35:30<00:12,  3.18it/s]"
     ]
    },
    {
     "name": "stdout",
     "output_type": "stream",
     "text": [
      "This is the pipeline with appositions going both ways\n"
     ]
    },
    {
     "name": "stderr",
     "output_type": "stream",
     "text": [
      " 98%|████████████████████████████████████████████████████████████████████████████▋ | 2227/2265 [35:31<00:16,  2.35it/s]"
     ]
    },
    {
     "name": "stdout",
     "output_type": "stream",
     "text": [
      "This is the pipeline with appositions going both ways\n",
      "This is the pipeline with appositions going both ways\n"
     ]
    },
    {
     "name": "stderr",
     "output_type": "stream",
     "text": [
      " 98%|████████████████████████████████████████████████████████████████████████████▊ | 2229/2265 [35:32<00:10,  3.38it/s]"
     ]
    },
    {
     "name": "stdout",
     "output_type": "stream",
     "text": [
      "This is the pipeline with appositions going both ways\n",
      "This is the pipeline with appositions going both ways\n"
     ]
    },
    {
     "name": "stderr",
     "output_type": "stream",
     "text": [
      " 98%|████████████████████████████████████████████████████████████████████████████▊ | 2230/2265 [35:32<00:11,  3.03it/s]"
     ]
    },
    {
     "name": "stdout",
     "output_type": "stream",
     "text": [
      "This is the pipeline with appositions going both ways\n"
     ]
    },
    {
     "name": "stderr",
     "output_type": "stream",
     "text": [
      " 98%|████████████████████████████████████████████████████████████████████████████▊ | 2231/2265 [35:32<00:10,  3.10it/s]"
     ]
    },
    {
     "name": "stdout",
     "output_type": "stream",
     "text": [
      "This is the pipeline with appositions going both ways\n"
     ]
    },
    {
     "name": "stderr",
     "output_type": "stream",
     "text": [
      " 99%|████████████████████████████████████████████████████████████████████████████▊ | 2232/2265 [35:33<00:15,  2.20it/s]"
     ]
    },
    {
     "name": "stdout",
     "output_type": "stream",
     "text": [
      "This is the pipeline with appositions going both ways\n"
     ]
    },
    {
     "name": "stderr",
     "output_type": "stream",
     "text": [
      " 99%|████████████████████████████████████████████████████████████████████████████▉ | 2233/2265 [35:34<00:16,  1.96it/s]"
     ]
    },
    {
     "name": "stdout",
     "output_type": "stream",
     "text": [
      "This is the pipeline with appositions going both ways\n"
     ]
    },
    {
     "name": "stderr",
     "output_type": "stream",
     "text": [
      " 99%|████████████████████████████████████████████████████████████████████████████▉ | 2234/2265 [35:34<00:13,  2.30it/s]"
     ]
    },
    {
     "name": "stdout",
     "output_type": "stream",
     "text": [
      "This is the pipeline with appositions going both ways\n"
     ]
    },
    {
     "name": "stderr",
     "output_type": "stream",
     "text": [
      " 99%|████████████████████████████████████████████████████████████████████████████▉ | 2235/2265 [35:34<00:12,  2.43it/s]"
     ]
    },
    {
     "name": "stdout",
     "output_type": "stream",
     "text": [
      "This is the pipeline with appositions going both ways\n"
     ]
    },
    {
     "name": "stderr",
     "output_type": "stream",
     "text": [
      " 99%|█████████████████████████████████████████████████████████████████████████████ | 2237/2265 [35:35<00:08,  3.16it/s]"
     ]
    },
    {
     "name": "stdout",
     "output_type": "stream",
     "text": [
      "This is the pipeline with appositions going both ways\n",
      "This is the pipeline with appositions going both ways\n"
     ]
    },
    {
     "name": "stderr",
     "output_type": "stream",
     "text": [
      " 99%|█████████████████████████████████████████████████████████████████████████████ | 2238/2265 [35:35<00:07,  3.67it/s]"
     ]
    },
    {
     "name": "stdout",
     "output_type": "stream",
     "text": [
      "This is the pipeline with appositions going both ways\n"
     ]
    },
    {
     "name": "stderr",
     "output_type": "stream",
     "text": [
      " 99%|█████████████████████████████████████████████████████████████████████████████▏| 2240/2265 [35:35<00:06,  4.10it/s]"
     ]
    },
    {
     "name": "stdout",
     "output_type": "stream",
     "text": [
      "This is the pipeline with appositions going both ways\n",
      "This is the pipeline with appositions going both ways\n"
     ]
    },
    {
     "name": "stderr",
     "output_type": "stream",
     "text": [
      " 99%|█████████████████████████████████████████████████████████████████████████████▏| 2241/2265 [35:36<00:07,  3.06it/s]"
     ]
    },
    {
     "name": "stdout",
     "output_type": "stream",
     "text": [
      "This is the pipeline with appositions going both ways\n"
     ]
    },
    {
     "name": "stderr",
     "output_type": "stream",
     "text": [
      " 99%|█████████████████████████████████████████████████████████████████████████████▏| 2242/2265 [35:36<00:07,  2.98it/s]"
     ]
    },
    {
     "name": "stdout",
     "output_type": "stream",
     "text": [
      "This is the pipeline with appositions going both ways\n"
     ]
    },
    {
     "name": "stderr",
     "output_type": "stream",
     "text": [
      " 99%|█████████████████████████████████████████████████████████████████████████████▏| 2243/2265 [35:37<00:07,  2.98it/s]"
     ]
    },
    {
     "name": "stdout",
     "output_type": "stream",
     "text": [
      "This is the pipeline with appositions going both ways\n"
     ]
    },
    {
     "name": "stderr",
     "output_type": "stream",
     "text": [
      " 99%|█████████████████████████████████████████████████████████████████████████████▎| 2244/2265 [35:37<00:06,  3.25it/s]"
     ]
    },
    {
     "name": "stdout",
     "output_type": "stream",
     "text": [
      "This is the pipeline with appositions going both ways\n"
     ]
    },
    {
     "name": "stderr",
     "output_type": "stream",
     "text": [
      " 99%|█████████████████████████████████████████████████████████████████████████████▎| 2246/2265 [35:38<00:05,  3.43it/s]"
     ]
    },
    {
     "name": "stdout",
     "output_type": "stream",
     "text": [
      "This is the pipeline with appositions going both ways\n",
      "This is the pipeline with appositions going both ways\n"
     ]
    },
    {
     "name": "stderr",
     "output_type": "stream",
     "text": [
      " 99%|█████████████████████████████████████████████████████████████████████████████▍| 2248/2265 [35:38<00:04,  4.11it/s]"
     ]
    },
    {
     "name": "stdout",
     "output_type": "stream",
     "text": [
      "This is the pipeline with appositions going both ways\n",
      "This is the pipeline with appositions going both ways\n"
     ]
    },
    {
     "name": "stderr",
     "output_type": "stream",
     "text": [
      " 99%|█████████████████████████████████████████████████████████████████████████████▍| 2249/2265 [35:38<00:03,  4.09it/s]"
     ]
    },
    {
     "name": "stdout",
     "output_type": "stream",
     "text": [
      "This is the pipeline with appositions going both ways\n"
     ]
    },
    {
     "name": "stderr",
     "output_type": "stream",
     "text": [
      " 99%|█████████████████████████████████████████████████████████████████████████████▌| 2251/2265 [35:39<00:04,  3.00it/s]"
     ]
    },
    {
     "name": "stdout",
     "output_type": "stream",
     "text": [
      "This is the pipeline with appositions going both ways\n",
      "This is the pipeline with appositions going both ways\n"
     ]
    },
    {
     "name": "stderr",
     "output_type": "stream",
     "text": [
      " 99%|█████████████████████████████████████████████████████████████████████████████▌| 2253/2265 [35:40<00:03,  3.08it/s]"
     ]
    },
    {
     "name": "stdout",
     "output_type": "stream",
     "text": [
      "This is the pipeline with appositions going both ways\n",
      "This is the pipeline with appositions going both ways\n"
     ]
    },
    {
     "name": "stderr",
     "output_type": "stream",
     "text": [
      "100%|█████████████████████████████████████████████████████████████████████████████▌| 2254/2265 [35:40<00:03,  3.20it/s]"
     ]
    },
    {
     "name": "stdout",
     "output_type": "stream",
     "text": [
      "This is the pipeline with appositions going both ways\n"
     ]
    },
    {
     "name": "stderr",
     "output_type": "stream",
     "text": [
      "100%|█████████████████████████████████████████████████████████████████████████████▋| 2256/2265 [35:41<00:02,  3.78it/s]"
     ]
    },
    {
     "name": "stdout",
     "output_type": "stream",
     "text": [
      "This is the pipeline with appositions going both ways\n",
      "This is the pipeline with appositions going both ways\n"
     ]
    },
    {
     "name": "stderr",
     "output_type": "stream",
     "text": [
      "100%|█████████████████████████████████████████████████████████████████████████████▊| 2258/2265 [35:41<00:01,  3.76it/s]"
     ]
    },
    {
     "name": "stdout",
     "output_type": "stream",
     "text": [
      "This is the pipeline with appositions going both ways\n",
      "This is the pipeline with appositions going both ways\n"
     ]
    },
    {
     "name": "stderr",
     "output_type": "stream",
     "text": [
      "100%|█████████████████████████████████████████████████████████████████████████████▊| 2259/2265 [35:41<00:01,  4.46it/s]"
     ]
    },
    {
     "name": "stdout",
     "output_type": "stream",
     "text": [
      "This is the pipeline with appositions going both ways\n"
     ]
    },
    {
     "name": "stderr",
     "output_type": "stream",
     "text": [
      "100%|█████████████████████████████████████████████████████████████████████████████▊| 2260/2265 [35:42<00:01,  3.95it/s]"
     ]
    },
    {
     "name": "stdout",
     "output_type": "stream",
     "text": [
      "This is the pipeline with appositions going both ways\n"
     ]
    },
    {
     "name": "stderr",
     "output_type": "stream",
     "text": [
      "100%|█████████████████████████████████████████████████████████████████████████████▊| 2261/2265 [35:42<00:01,  3.55it/s]"
     ]
    },
    {
     "name": "stdout",
     "output_type": "stream",
     "text": [
      "This is the pipeline with appositions going both ways\n"
     ]
    },
    {
     "name": "stderr",
     "output_type": "stream",
     "text": [
      "100%|█████████████████████████████████████████████████████████████████████████████▉| 2262/2265 [35:48<00:05,  1.93s/it]"
     ]
    },
    {
     "name": "stdout",
     "output_type": "stream",
     "text": [
      "This is the pipeline with appositions going both ways\n"
     ]
    },
    {
     "name": "stderr",
     "output_type": "stream",
     "text": [
      "100%|█████████████████████████████████████████████████████████████████████████████▉| 2263/2265 [35:48<00:03,  1.51s/it]"
     ]
    },
    {
     "name": "stdout",
     "output_type": "stream",
     "text": [
      "This is the pipeline with appositions going both ways\n"
     ]
    },
    {
     "name": "stderr",
     "output_type": "stream",
     "text": [
      "100%|█████████████████████████████████████████████████████████████████████████████▉| 2264/2265 [35:49<00:01,  1.34s/it]"
     ]
    },
    {
     "name": "stdout",
     "output_type": "stream",
     "text": [
      "This is the pipeline with appositions going both ways\n"
     ]
    },
    {
     "name": "stderr",
     "output_type": "stream",
     "text": [
      "100%|██████████████████████████████████████████████████████████████████████████████| 2265/2265 [35:50<00:00,  1.11s/it]"
     ]
    },
    {
     "name": "stdout",
     "output_type": "stream",
     "text": [
      "This is the pipeline with appositions going both ways\n"
     ]
    },
    {
     "name": "stderr",
     "output_type": "stream",
     "text": [
      "100%|██████████████████████████████████████████████████████████████████████████████| 2265/2265 [35:51<00:00,  1.05it/s]\n",
      "  4%|██▊                                                                            | 82/2265 [00:00<00:04, 450.43it/s]"
     ]
    },
    {
     "name": "stdout",
     "output_type": "stream",
     "text": [
      "could not find: {'word': 'Monate', 'from': 7049, 'to': 7055, 'ntbg': False}\n"
     ]
    },
    {
     "name": "stderr",
     "output_type": "stream",
     "text": [
      " 13%|██████████▎                                                                   | 301/2265 [00:00<00:04, 445.05it/s]"
     ]
    },
    {
     "name": "stdout",
     "output_type": "stream",
     "text": [
      "could not find: {'word': 'Monate', 'from': 347, 'to': 353, 'ntbg': False}\n",
      "could not find: {'word': 'Monate', 'from': 726, 'to': 732, 'ntbg': False}\n",
      "could not find: {'word': 'Monate', 'from': 552, 'to': 558, 'ntbg': False}\n",
      "could not find: {'word': 'Monate', 'from': 319, 'to': 325, 'ntbg': False}\n"
     ]
    },
    {
     "name": "stderr",
     "output_type": "stream",
     "text": [
      " 19%|██████████████▉                                                               | 434/2265 [00:01<00:06, 278.66it/s]"
     ]
    },
    {
     "name": "stdout",
     "output_type": "stream",
     "text": [
      "could not find: {'word': 'Begriff', 'from': 227, 'to': 234, 'ntbg': False}\n",
      "could not find: {'word': 'Dollar', 'from': 1671, 'to': 1677, 'ntbg': False}\n"
     ]
    },
    {
     "name": "stderr",
     "output_type": "stream",
     "text": [
      "100%|█████████████████████████████████████████████████████████████████████████████| 2265/2265 [00:07<00:00, 305.26it/s]"
     ]
    },
    {
     "name": "stdout",
     "output_type": "stream",
     "text": [
      "could not find: {'word': 'Rennstreckenbetreiber', 'from': 1091, 'to': 1112, 'ntbg': False}\n"
     ]
    },
    {
     "name": "stderr",
     "output_type": "stream",
     "text": [
      "\n"
     ]
    },
    {
     "data": {
      "text/plain": [
       "[('correct', 76141),\n",
       " ('incorrect', 7892),\n",
       " ('marks', 84002),\n",
       " ('not_marked', 31),\n",
       " ('not_ntbg', 74913),\n",
       " ('not_ntbg_correct', 68281),\n",
       " ('not_ntbg_incorrect', 6632),\n",
       " ('not_ntbg_plural', 21777),\n",
       " ('not_ntbg_singular', 51911),\n",
       " ('nouns', 69141),\n",
       " ('nouns_not_ntbg', 60232),\n",
       " ('nouns_not_ntbg_correct', 54495),\n",
       " ('nouns_not_ntbg_incorrect', 5737),\n",
       " ('nouns_ntbg', 8909),\n",
       " ('nouns_ntbg_correct', 7748),\n",
       " ('nouns_ntbg_incorrect', 1161),\n",
       " ('ntbg', 9120),\n",
       " ('ntbg_correct', 7860),\n",
       " ('ntbg_incorrect', 1260),\n",
       " ('ntbg_plural', 7995),\n",
       " ('ntbg_singular', 1071),\n",
       " ('num_undetermined', 1279),\n",
       " ('plural', 29772),\n",
       " ('plural_not_ntbg_correct', 20244),\n",
       " ('plural_not_ntbg_incorrect', 1533),\n",
       " ('plural_ntbg_correct', 7026),\n",
       " ('plural_ntbg_incorrect', 969),\n",
       " ('pronouns', 14892),\n",
       " ('pronouns_not_ntbg', 14681),\n",
       " ('pronouns_not_ntbg_correct', 13786),\n",
       " ('pronouns_not_ntbg_incorrect', 895),\n",
       " ('pronouns_ntbg', 211),\n",
       " ('pronouns_ntbg_correct', 112),\n",
       " ('pronouns_ntbg_incorrect', 99),\n",
       " ('singular', 52982),\n",
       " ('singular_not_ntbg_correct', 46834),\n",
       " ('singular_not_ntbg_incorrect', 5077),\n",
       " ('singular_ntbg_correct', 795),\n",
       " ('singular_ntbg_incorrect', 276)]"
      ]
     },
     "execution_count": 3,
     "metadata": {},
     "output_type": "execute_result"
    }
   ],
   "source": [
    "df['pipeline_result'] = df['Text_unmarked'].progress_apply(full_pipeline)\n",
    "global_counts = defaultdict(int)\n",
    "df['result_counts'] = df.progress_apply(\n",
    "    lambda row: compare_marked_to_pipeline(global_counts,row['marked_word_information'], row['pipeline_result'], row['spacified_article']),\n",
    "    axis=1\n",
    ")\n",
    "\n",
    "sorted(global_counts.items())"
   ]
  },
  {
   "cell_type": "code",
   "execution_count": 4,
   "id": "57d20752-3393-45e2-ba37-a8fd3bed1632",
   "metadata": {},
   "outputs": [],
   "source": [
    "with open('resultWithfollowparentNKWhenArticleJustToBeSure.json', 'w', encoding='utf-8') as f:\n",
    "   json.dump({k: v for k, v in sorted(global_counts.items())}, f, ensure_ascii=False, indent=2)"
   ]
  },
  {
   "cell_type": "code",
   "execution_count": 4,
   "id": "0e473214-2ed7-45fb-a77b-c0196b760ba9",
   "metadata": {
    "scrolled": true
   },
   "outputs": [],
   "source": [
    "# Extrahiere \"not_ntbg_incorrect\" aus dem Dictionary in der Spalte \"result_counts\"\n",
    "df[\"not_ntbg_incorrect\"] = df[\"result_counts\"].apply(\n",
    "    lambda d: d.get(\"not_ntbg_incorrect\", 0) if isinstance(d, dict) else 0\n",
    ")\n",
    "df[\"ntbg_incorrect\"] = df[\"result_counts\"].apply(\n",
    "    lambda d: d.get(\"ntbg_incorrect\", 0) if isinstance(d, dict) else 0\n",
    ")\n",
    "\n",
    "\n",
    "\n",
    "# Sortiere den DataFrame nach dieser neuen Spalte und wähle die Top 10\n",
    "top_fp_df = df.sort_values(by=\"not_ntbg_incorrect\", ascending=False).head(10)\n"
   ]
  },
  {
   "cell_type": "code",
   "execution_count": 7,
   "id": "d917f5cf-9704-421b-bbc9-d1383ceba50c",
   "metadata": {},
   "outputs": [],
   "source": [
    "with open('resultWithImprovedNounKernels3.json', 'w', encoding='utf-8') as f:\n",
    "   json.dump(sorted(global_counts.items()), f, ensure_ascii=False, indent=2)"
   ]
  },
  {
   "cell_type": "code",
   "execution_count": 8,
   "id": "f8dc7e53-aaa1-45b8-b590-c4ed9cd14cab",
   "metadata": {},
   "outputs": [
    {
     "data": {
      "text/html": [
       "<div>\n",
       "<style scoped>\n",
       "    .dataframe tbody tr th:only-of-type {\n",
       "        vertical-align: middle;\n",
       "    }\n",
       "\n",
       "    .dataframe tbody tr th {\n",
       "        vertical-align: top;\n",
       "    }\n",
       "\n",
       "    .dataframe thead th {\n",
       "        text-align: right;\n",
       "    }\n",
       "</style>\n",
       "<table border=\"1\" class=\"dataframe\">\n",
       "  <thead>\n",
       "    <tr style=\"text-align: right;\">\n",
       "      <th></th>\n",
       "      <th>ArtikelId</th>\n",
       "      <th>Text</th>\n",
       "      <th>Text_unmarked</th>\n",
       "      <th>Sentences_marked</th>\n",
       "      <th>Sentences_unmarked</th>\n",
       "      <th>dependency_distance</th>\n",
       "      <th>marked_word_information</th>\n",
       "      <th>spacified_article</th>\n",
       "      <th>pipeline_result</th>\n",
       "      <th>result_counts</th>\n",
       "      <th>not_ntbg_incorrect</th>\n",
       "      <th>ntbg_incorrect</th>\n",
       "    </tr>\n",
       "  </thead>\n",
       "  <tbody>\n",
       "    <tr>\n",
       "      <th>2208</th>\n",
       "      <td>ArtikelId: 2197_0001</td>\n",
       "      <td>\\--Er-- tut es, \\--er-- tut es nicht, \\--er-- ...</td>\n",
       "      <td>Er tut es, er tut es nicht, er tut es...\\nVor ...</td>\n",
       "      <td>[\\--Er-- tut es, \\--er-- tut es nicht, \\--er--...</td>\n",
       "      <td>[Er tut es, er tut es nicht, er tut es..., Vor...</td>\n",
       "      <td>{'dependency_distance_mean': 2.954420260667289...</td>\n",
       "      <td>[{'word': 'Er', 'from': 0, 'to': 2, 'ntbg': Fa...</td>\n",
       "      <td>(Er, tut, es, ,, er, tut, es, nicht, ,, er, tu...</td>\n",
       "      <td>[{'word': 'Er', 'from': 0, 'to': 2, 'possibleC...</td>\n",
       "      <td>{'marks': 103, 'incorrect': 39, 'not_ntbg': 94...</td>\n",
       "      <td>39</td>\n",
       "      <td>0</td>\n",
       "    </tr>\n",
       "    <tr>\n",
       "      <th>1057</th>\n",
       "      <td>ArtikelId: 0810_0001</td>\n",
       "      <td>Kein Blunt wie der \\--andere--\\nEin Ungetüm, d...</td>\n",
       "      <td>Kein Blunt wie der andere\\nEin Ungetüm, das ma...</td>\n",
       "      <td>[Kein Blunt wie der \\--andere--, Ein Ungetüm, ...</td>\n",
       "      <td>[Kein Blunt wie der andere, Ein Ungetüm, das m...</td>\n",
       "      <td>{'dependency_distance_mean': 2.166301278052863...</td>\n",
       "      <td>[{'word': 'andere', 'from': 19, 'to': 25, 'ntb...</td>\n",
       "      <td>(Kein, Blunt, wie, der, andere, \\n, Ein, Unget...</td>\n",
       "      <td>[{'word': 'andere', 'from': 19, 'to': 25, 'pos...</td>\n",
       "      <td>{'marks': 115, 'incorrect': 38, 'not_ntbg': 11...</td>\n",
       "      <td>38</td>\n",
       "      <td>0</td>\n",
       "    </tr>\n",
       "    <tr>\n",
       "      <th>1395</th>\n",
       "      <td>ArtikelId: 1148_0001</td>\n",
       "      <td>Der \\--Saarländer-- aber gewann die Herzen der...</td>\n",
       "      <td>Der Saarländer aber gewann die Herzen der Geno...</td>\n",
       "      <td>[Der \\--Saarländer-- aber gewann die Herzen de...</td>\n",
       "      <td>[Der Saarländer aber gewann die Herzen der Gen...</td>\n",
       "      <td>{'dependency_distance_mean': 2.825654833619491...</td>\n",
       "      <td>[{'word': 'Saarländer', 'from': 4, 'to': 14, '...</td>\n",
       "      <td>(Der, Saarländer, aber, gewann, die, Herzen, d...</td>\n",
       "      <td>[{'word': 'Saarländer', 'from': 4, 'to': 14, '...</td>\n",
       "      <td>{'marks': 186, 'incorrect': 38, 'not_ntbg': 17...</td>\n",
       "      <td>37</td>\n",
       "      <td>1</td>\n",
       "    </tr>\n",
       "    <tr>\n",
       "      <th>2176</th>\n",
       "      <td>ArtikelId: 2166_0001</td>\n",
       "      <td>\\--Wen-- könnte die Not unseres Jahrhunderts n...</td>\n",
       "      <td>Wen könnte die Not unseres Jahrhunderts nicht ...</td>\n",
       "      <td>[\\--Wen-- könnte die Not unseres Jahrhunderts ...</td>\n",
       "      <td>[Wen könnte die Not unseres Jahrhunderts nicht...</td>\n",
       "      <td>{'dependency_distance_mean': 3.876454614089494...</td>\n",
       "      <td>[{'word': 'Wen', 'from': 0, 'to': 3, 'ntbg': F...</td>\n",
       "      <td>(Wen, könnte, die, Not, unseres, Jahrhunderts,...</td>\n",
       "      <td>[{'word': 'Freund', 'from': 195, 'to': 201, 'p...</td>\n",
       "      <td>{'marks': 454, 'correct': 415, 'not_ntbg': 430...</td>\n",
       "      <td>34</td>\n",
       "      <td>5</td>\n",
       "    </tr>\n",
       "    <tr>\n",
       "      <th>1586</th>\n",
       "      <td>ArtikelId: 1337_0001</td>\n",
       "      <td>Fritz.\\nPorträt eines \\--Serienkillers--\\nÜber...</td>\n",
       "      <td>Fritz.\\nPorträt eines Serienkillers\\nÜber Romu...</td>\n",
       "      <td>[Fritz., Porträt eines \\--Serienkillers--, Übe...</td>\n",
       "      <td>[Fritz., Porträt eines Serienkillers, Über Rom...</td>\n",
       "      <td>{'dependency_distance_mean': 3.097587157384421...</td>\n",
       "      <td>[{'word': 'Serienkillers', 'from': 21, 'to': 3...</td>\n",
       "      <td>(Fritz, ., \\n, Porträt, eines, Serienkillers, ...</td>\n",
       "      <td>[{'word': 'Serienkillers', 'from': 21, 'to': 3...</td>\n",
       "      <td>{'marks': 199, 'incorrect': 33, 'not_ntbg': 19...</td>\n",
       "      <td>33</td>\n",
       "      <td>0</td>\n",
       "    </tr>\n",
       "    <tr>\n",
       "      <th>321</th>\n",
       "      <td>ArtikelId: 0075_0001</td>\n",
       "      <td>Das \"Lied vom \\--Frieden-- \"war gerade ausgekl...</td>\n",
       "      <td>Das \"Lied vom Frieden \"war gerade ausgeklungen...</td>\n",
       "      <td>[Das \"Lied vom \\--Frieden-- \"war gerade ausgek...</td>\n",
       "      <td>[Das \"Lied vom Frieden \"war gerade ausgeklunge...</td>\n",
       "      <td>{'dependency_distance_mean': 2.851604969975557...</td>\n",
       "      <td>[{'word': 'Frieden', 'from': 14, 'to': 21, 'nt...</td>\n",
       "      <td>(Das, \", Lied, vom, Frieden, \", war, gerade, a...</td>\n",
       "      <td>[{'word': 'Frieden', 'from': 14, 'to': 21, 'po...</td>\n",
       "      <td>{'marks': 199, 'correct': 167, 'not_ntbg': 175...</td>\n",
       "      <td>31</td>\n",
       "      <td>1</td>\n",
       "    </tr>\n",
       "    <tr>\n",
       "      <th>88</th>\n",
       "      <td>ArtikelId: 0001_0089</td>\n",
       "      <td>Seelenbad für den \\--Landesvater-- und Seelenm...</td>\n",
       "      <td>Seelenbad für den Landesvater und Seelenmassag...</td>\n",
       "      <td>[Seelenbad für den \\--Landesvater-- und Seelen...</td>\n",
       "      <td>[Seelenbad für den Landesvater und Seelenmassa...</td>\n",
       "      <td>{'dependency_distance_mean': 2.644244491117175...</td>\n",
       "      <td>[{'word': 'Landesvater', 'from': 18, 'to': 29,...</td>\n",
       "      <td>(Seelenbad, für, den, Landesvater, und, Seelen...</td>\n",
       "      <td>[{'word': 'Landesvater', 'from': 18, 'to': 29,...</td>\n",
       "      <td>{'marks': 152, 'incorrect': 31, 'not_ntbg': 13...</td>\n",
       "      <td>31</td>\n",
       "      <td>0</td>\n",
       "    </tr>\n",
       "    <tr>\n",
       "      <th>0</th>\n",
       "      <td>ArtikelId: 0001_0001</td>\n",
       "      <td>\"Ross Perot wäre vielleicht ein prächtiger \\--...</td>\n",
       "      <td>\"Ross Perot wäre vielleicht ein prächtiger Dik...</td>\n",
       "      <td>[\"Ross Perot wäre vielleicht ein prächtiger \\-...</td>\n",
       "      <td>[\"Ross Perot wäre vielleicht ein prächtiger Di...</td>\n",
       "      <td>{'dependency_distance_mean': 2.965713889246949...</td>\n",
       "      <td>[{'word': 'Diktator', 'from': 43, 'to': 51, 'n...</td>\n",
       "      <td>(\", Ross, Perot, wäre, vielleicht, ein, prächt...</td>\n",
       "      <td>[{'word': 'Diktator', 'from': 43, 'to': 51, 'p...</td>\n",
       "      <td>{'marks': 108, 'correct': 78, 'not_ntbg': 95, ...</td>\n",
       "      <td>29</td>\n",
       "      <td>1</td>\n",
       "    </tr>\n",
       "    <tr>\n",
       "      <th>829</th>\n",
       "      <td>ArtikelId: 0583_0001</td>\n",
       "      <td>\"Es ist ganz die Farbe vom Meer, ganz wie das ...</td>\n",
       "      <td>\"Es ist ganz die Farbe vom Meer, ganz wie das ...</td>\n",
       "      <td>[\"Es ist ganz die Farbe vom Meer, ganz wie das...</td>\n",
       "      <td>[\"Es ist ganz die Farbe vom Meer, ganz wie das...</td>\n",
       "      <td>{'dependency_distance_mean': 2.694558343163159...</td>\n",
       "      <td>[{'word': 'Er', 'from': 90, 'to': 92, 'ntbg': ...</td>\n",
       "      <td>(\", Es, ist, ganz, die, Farbe, vom, Meer, ,, g...</td>\n",
       "      <td>[{'word': 'Er', 'from': 90, 'to': 92, 'possibl...</td>\n",
       "      <td>{'marks': 201, 'correct': 168, 'not_ntbg': 184...</td>\n",
       "      <td>29</td>\n",
       "      <td>4</td>\n",
       "    </tr>\n",
       "    <tr>\n",
       "      <th>309</th>\n",
       "      <td>ArtikelId: 0063_0001</td>\n",
       "      <td>\\--Er-- tat, woran \\--er-- glaubte\\nYitzhak Ra...</td>\n",
       "      <td>Er tat, woran er glaubte\\nYitzhak Rabin konnte...</td>\n",
       "      <td>[\\--Er-- tat, woran \\--er-- glaubte, Yitzhak R...</td>\n",
       "      <td>[Er tat, woran er glaubte, Yitzhak Rabin konnt...</td>\n",
       "      <td>{'dependency_distance_mean': 3.517288040694711...</td>\n",
       "      <td>[{'word': 'Er', 'from': 0, 'to': 2, 'ntbg': Fa...</td>\n",
       "      <td>(Er, tat, ,, woran, er, glaubte, \\n, Yitzhak, ...</td>\n",
       "      <td>[{'word': 'Er', 'from': 0, 'to': 2, 'possibleC...</td>\n",
       "      <td>{'marks': 164, 'incorrect': 28, 'not_ntbg': 15...</td>\n",
       "      <td>28</td>\n",
       "      <td>0</td>\n",
       "    </tr>\n",
       "  </tbody>\n",
       "</table>\n",
       "</div>"
      ],
      "text/plain": [
       "                 ArtikelId                                               Text  \\\n",
       "2208  ArtikelId: 2197_0001  \\--Er-- tut es, \\--er-- tut es nicht, \\--er-- ...   \n",
       "1057  ArtikelId: 0810_0001  Kein Blunt wie der \\--andere--\\nEin Ungetüm, d...   \n",
       "1395  ArtikelId: 1148_0001  Der \\--Saarländer-- aber gewann die Herzen der...   \n",
       "2176  ArtikelId: 2166_0001  \\--Wen-- könnte die Not unseres Jahrhunderts n...   \n",
       "1586  ArtikelId: 1337_0001  Fritz.\\nPorträt eines \\--Serienkillers--\\nÜber...   \n",
       "321   ArtikelId: 0075_0001  Das \"Lied vom \\--Frieden-- \"war gerade ausgekl...   \n",
       "88    ArtikelId: 0001_0089  Seelenbad für den \\--Landesvater-- und Seelenm...   \n",
       "0     ArtikelId: 0001_0001  \"Ross Perot wäre vielleicht ein prächtiger \\--...   \n",
       "829   ArtikelId: 0583_0001  \"Es ist ganz die Farbe vom Meer, ganz wie das ...   \n",
       "309   ArtikelId: 0063_0001  \\--Er-- tat, woran \\--er-- glaubte\\nYitzhak Ra...   \n",
       "\n",
       "                                          Text_unmarked  \\\n",
       "2208  Er tut es, er tut es nicht, er tut es...\\nVor ...   \n",
       "1057  Kein Blunt wie der andere\\nEin Ungetüm, das ma...   \n",
       "1395  Der Saarländer aber gewann die Herzen der Geno...   \n",
       "2176  Wen könnte die Not unseres Jahrhunderts nicht ...   \n",
       "1586  Fritz.\\nPorträt eines Serienkillers\\nÜber Romu...   \n",
       "321   Das \"Lied vom Frieden \"war gerade ausgeklungen...   \n",
       "88    Seelenbad für den Landesvater und Seelenmassag...   \n",
       "0     \"Ross Perot wäre vielleicht ein prächtiger Dik...   \n",
       "829   \"Es ist ganz die Farbe vom Meer, ganz wie das ...   \n",
       "309   Er tat, woran er glaubte\\nYitzhak Rabin konnte...   \n",
       "\n",
       "                                       Sentences_marked  \\\n",
       "2208  [\\--Er-- tut es, \\--er-- tut es nicht, \\--er--...   \n",
       "1057  [Kein Blunt wie der \\--andere--, Ein Ungetüm, ...   \n",
       "1395  [Der \\--Saarländer-- aber gewann die Herzen de...   \n",
       "2176  [\\--Wen-- könnte die Not unseres Jahrhunderts ...   \n",
       "1586  [Fritz., Porträt eines \\--Serienkillers--, Übe...   \n",
       "321   [Das \"Lied vom \\--Frieden-- \"war gerade ausgek...   \n",
       "88    [Seelenbad für den \\--Landesvater-- und Seelen...   \n",
       "0     [\"Ross Perot wäre vielleicht ein prächtiger \\-...   \n",
       "829   [\"Es ist ganz die Farbe vom Meer, ganz wie das...   \n",
       "309   [\\--Er-- tat, woran \\--er-- glaubte, Yitzhak R...   \n",
       "\n",
       "                                     Sentences_unmarked  \\\n",
       "2208  [Er tut es, er tut es nicht, er tut es..., Vor...   \n",
       "1057  [Kein Blunt wie der andere, Ein Ungetüm, das m...   \n",
       "1395  [Der Saarländer aber gewann die Herzen der Gen...   \n",
       "2176  [Wen könnte die Not unseres Jahrhunderts nicht...   \n",
       "1586  [Fritz., Porträt eines Serienkillers, Über Rom...   \n",
       "321   [Das \"Lied vom Frieden \"war gerade ausgeklunge...   \n",
       "88    [Seelenbad für den Landesvater und Seelenmassa...   \n",
       "0     [\"Ross Perot wäre vielleicht ein prächtiger Di...   \n",
       "829   [\"Es ist ganz die Farbe vom Meer, ganz wie das...   \n",
       "309   [Er tat, woran er glaubte, Yitzhak Rabin konnt...   \n",
       "\n",
       "                                    dependency_distance  \\\n",
       "2208  {'dependency_distance_mean': 2.954420260667289...   \n",
       "1057  {'dependency_distance_mean': 2.166301278052863...   \n",
       "1395  {'dependency_distance_mean': 2.825654833619491...   \n",
       "2176  {'dependency_distance_mean': 3.876454614089494...   \n",
       "1586  {'dependency_distance_mean': 3.097587157384421...   \n",
       "321   {'dependency_distance_mean': 2.851604969975557...   \n",
       "88    {'dependency_distance_mean': 2.644244491117175...   \n",
       "0     {'dependency_distance_mean': 2.965713889246949...   \n",
       "829   {'dependency_distance_mean': 2.694558343163159...   \n",
       "309   {'dependency_distance_mean': 3.517288040694711...   \n",
       "\n",
       "                                marked_word_information  \\\n",
       "2208  [{'word': 'Er', 'from': 0, 'to': 2, 'ntbg': Fa...   \n",
       "1057  [{'word': 'andere', 'from': 19, 'to': 25, 'ntb...   \n",
       "1395  [{'word': 'Saarländer', 'from': 4, 'to': 14, '...   \n",
       "2176  [{'word': 'Wen', 'from': 0, 'to': 3, 'ntbg': F...   \n",
       "1586  [{'word': 'Serienkillers', 'from': 21, 'to': 3...   \n",
       "321   [{'word': 'Frieden', 'from': 14, 'to': 21, 'nt...   \n",
       "88    [{'word': 'Landesvater', 'from': 18, 'to': 29,...   \n",
       "0     [{'word': 'Diktator', 'from': 43, 'to': 51, 'n...   \n",
       "829   [{'word': 'Er', 'from': 90, 'to': 92, 'ntbg': ...   \n",
       "309   [{'word': 'Er', 'from': 0, 'to': 2, 'ntbg': Fa...   \n",
       "\n",
       "                                      spacified_article  \\\n",
       "2208  (Er, tut, es, ,, er, tut, es, nicht, ,, er, tu...   \n",
       "1057  (Kein, Blunt, wie, der, andere, \\n, Ein, Unget...   \n",
       "1395  (Der, Saarländer, aber, gewann, die, Herzen, d...   \n",
       "2176  (Wen, könnte, die, Not, unseres, Jahrhunderts,...   \n",
       "1586  (Fritz, ., \\n, Porträt, eines, Serienkillers, ...   \n",
       "321   (Das, \", Lied, vom, Frieden, \", war, gerade, a...   \n",
       "88    (Seelenbad, für, den, Landesvater, und, Seelen...   \n",
       "0     (\", Ross, Perot, wäre, vielleicht, ein, prächt...   \n",
       "829   (\", Es, ist, ganz, die, Farbe, vom, Meer, ,, g...   \n",
       "309   (Er, tat, ,, woran, er, glaubte, \\n, Yitzhak, ...   \n",
       "\n",
       "                                        pipeline_result  \\\n",
       "2208  [{'word': 'Er', 'from': 0, 'to': 2, 'possibleC...   \n",
       "1057  [{'word': 'andere', 'from': 19, 'to': 25, 'pos...   \n",
       "1395  [{'word': 'Saarländer', 'from': 4, 'to': 14, '...   \n",
       "2176  [{'word': 'Freund', 'from': 195, 'to': 201, 'p...   \n",
       "1586  [{'word': 'Serienkillers', 'from': 21, 'to': 3...   \n",
       "321   [{'word': 'Frieden', 'from': 14, 'to': 21, 'po...   \n",
       "88    [{'word': 'Landesvater', 'from': 18, 'to': 29,...   \n",
       "0     [{'word': 'Diktator', 'from': 43, 'to': 51, 'p...   \n",
       "829   [{'word': 'Er', 'from': 90, 'to': 92, 'possibl...   \n",
       "309   [{'word': 'Er', 'from': 0, 'to': 2, 'possibleC...   \n",
       "\n",
       "                                          result_counts  not_ntbg_incorrect  \\\n",
       "2208  {'marks': 103, 'incorrect': 39, 'not_ntbg': 94...                  39   \n",
       "1057  {'marks': 115, 'incorrect': 38, 'not_ntbg': 11...                  38   \n",
       "1395  {'marks': 186, 'incorrect': 38, 'not_ntbg': 17...                  37   \n",
       "2176  {'marks': 454, 'correct': 415, 'not_ntbg': 430...                  34   \n",
       "1586  {'marks': 199, 'incorrect': 33, 'not_ntbg': 19...                  33   \n",
       "321   {'marks': 199, 'correct': 167, 'not_ntbg': 175...                  31   \n",
       "88    {'marks': 152, 'incorrect': 31, 'not_ntbg': 13...                  31   \n",
       "0     {'marks': 108, 'correct': 78, 'not_ntbg': 95, ...                  29   \n",
       "829   {'marks': 201, 'correct': 168, 'not_ntbg': 184...                  29   \n",
       "309   {'marks': 164, 'incorrect': 28, 'not_ntbg': 15...                  28   \n",
       "\n",
       "      ntbg_incorrect  \n",
       "2208               0  \n",
       "1057               0  \n",
       "1395               1  \n",
       "2176               5  \n",
       "1586               0  \n",
       "321                1  \n",
       "88                 0  \n",
       "0                  1  \n",
       "829                4  \n",
       "309                0  "
      ]
     },
     "execution_count": 8,
     "metadata": {},
     "output_type": "execute_result"
    }
   ],
   "source": [
    "top_fp_df.head(10)"
   ]
  },
  {
   "cell_type": "code",
   "execution_count": 11,
   "id": "afefcd4c-5bfa-45ba-bfa5-6eefe5a06122",
   "metadata": {
    "scrolled": true
   },
   "outputs": [],
   "source": [
    "# False Positives sind alle die im Pipeline resultat auf True gesetzt sind - alle die als True markiert wurden\n",
    "def finde_false_positives(row):\n",
    "    pipeline_wörter = {\n",
    "        (eintrag[\"word\"], eintrag['from'])\n",
    "        for eintrag in row[\"pipeline_result\"]\n",
    "        if eintrag.get(\"shouldBeGendered\") == True\n",
    "    }\n",
    "\n",
    "    marked_wörter = {\n",
    "        (eintrag[\"word\"],eintrag['from']) for eintrag in row.get(\"marked_word_information\") if eintrag.get(\"ntbg\") == True\n",
    "    }\n",
    "    \n",
    "    return list(pipeline_wörter - marked_wörter)\n",
    "\n",
    "# Neue Spalte mit False Positives anlegen\n",
    "top_fp_df[\"false_positives\"] = top_fp_df.apply(finde_false_positives, axis=1)\n"
   ]
  },
  {
   "cell_type": "code",
   "execution_count": 12,
   "id": "6dc526be-55f4-4476-ac31-cf9a7ab9bac8",
   "metadata": {},
   "outputs": [],
   "source": [
    "output_lines = []\n",
    "\n",
    "for _, row in top_fp_df.iterrows():\n",
    "    text = row.get(\"Text_unmarked\", \"\")\n",
    "    articleid = row.get(\"ArtikelId\")\n",
    "    false_positives = sorted(row.get(\"false_positives\", []), key=lambda x: x[1])  # x[1] = from\n",
    "\n",
    "    offset = 0\n",
    "    for word, start in false_positives:\n",
    "        start_adj = start + offset\n",
    "        end_adj = start_adj + len(word)\n",
    "        # Einfügen von --...--\n",
    "        text = text[:start_adj] + \"--\" + word + \"--\" + text[end_adj:]\n",
    "        offset += 4  # zwei Zeichen vorn, zwei hinten\n",
    "\n",
    "    line = f\"{articleid}:\\n{text}\\n\\nFALSE POSITIVES:\\n{[w for w, _ in false_positives]}\\n\"\n",
    "    output_lines.append(line)\n",
    "    output_lines.append(\"\\n\" + \"=\"*80 + \"\\n\")  # Trenner\n",
    "\n",
    "# Speichern als Textdatei\n",
    "output_path = \"false_positive_analysen.txt\"\n",
    "with open(output_path, \"w\", encoding=\"utf-8\") as f:\n",
    "    f.writelines(output_lines)"
   ]
  },
  {
   "cell_type": "code",
   "execution_count": null,
   "id": "45d3cf43-56ce-45ce-9421-9215fb6d1931",
   "metadata": {},
   "outputs": [],
   "source": []
  }
 ],
 "metadata": {
  "kernelspec": {
   "display_name": "Python (spacy310)",
   "language": "python",
   "name": "spacy310"
  },
  "language_info": {
   "codemirror_mode": {
    "name": "ipython",
    "version": 3
   },
   "file_extension": ".py",
   "mimetype": "text/x-python",
   "name": "python",
   "nbconvert_exporter": "python",
   "pygments_lexer": "ipython3",
   "version": "3.10.16"
  }
 },
 "nbformat": 4,
 "nbformat_minor": 5
}
