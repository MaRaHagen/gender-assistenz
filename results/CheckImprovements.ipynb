{
 "cells": [
  {
   "cell_type": "markdown",
   "id": "bae7f68e-3f90-4397-9a67-4015eab7c2b0",
   "metadata": {},
   "source": [
    "# Weiterentwicklung\n",
    "In diesem Notebook werden die Weiterentwicklungsansätze der Genderassistenz evaluiert, indem deren jeweilige erweiterte Funktion gezielt auf den Evaluationskorpus angewendet werden. Die Implementierung der Modifikationen erfolgt dabei direkt in der zentralen Applikationslogik; das Notebook dient ausschließlich der systematischen Anwendung, Dokumentation und Speicherung der Zwischenergebnisse. Diese werden in strukturierter Form als JSON-Dateien gesichert, um eine konsistente Vergleichbarkeit zwischen den einzelnen Ausbaustufen des Systems zu gewährleisten."
   ]
  },
  {
   "cell_type": "code",
   "execution_count": 5,
   "id": "cc64a1d1-f88d-476c-b7ea-8af7478b7f61",
   "metadata": {
    "ExecuteTime": {
     "end_time": "2025-05-22T09:25:38.304886Z",
     "start_time": "2025-05-22T09:25:34.377113Z"
    },
    "scrolled": true
   },
   "outputs": [
    {
     "data": {
      "text/plain": [
       "2"
      ]
     },
     "execution_count": 5,
     "metadata": {},
     "output_type": "execute_result"
    }
   ],
   "source": [
    "import pandas as pd\n",
    "import loguru\n",
    "from loguru import logger\n",
    "import spacy\n",
    "from collections import defaultdict\n",
    "from tqdm import tqdm\n",
    "import language_tool_python\n",
    "import os\n",
    "import json\n",
    "import sys\n",
    "\n",
    "os.environ[\"TOKENIZERS_PARALLELISM\"] = \"false\"\n",
    "\n",
    "# Enable tqdm in pandas\n",
    "tqdm.pandas()\n",
    "\n",
    "\n",
    "# Remove the default handler (which logs everything from DEBUG)\n",
    "logger.remove()\n",
    "\n",
    "# Add a new handler with a specific log level, e.g. INFO\n",
    "logger.add(lambda msg: print(msg, end=\"\"), level=\"INFO\")"
   ]
  },
  {
   "cell_type": "code",
   "execution_count": 6,
   "id": "e708c8a6-0036-4e22-964a-0f8866cdbd09",
   "metadata": {},
   "outputs": [],
   "source": [
    "sys.path.append(\"../\")\n",
    "#import helperfunctions:\n",
    "from helperfunctions import find_in_result, update_counts, compare_marked_to_pipeline\n",
    "#nach jedem manuell change muss der kernel restarted werden\n",
    "from pipeline.full_pipeline import full_pipeline\n",
    "df = pd.read_pickle('local-store/data_prepared_frame_including_spcacy_information.pkl')"
   ]
  },
  {
   "cell_type": "code",
   "execution_count": null,
   "id": "47676679-8f12-4502-a636-631b44f44a22",
   "metadata": {},
   "outputs": [],
   "source": []
  },
  {
   "cell_type": "code",
   "execution_count": null,
   "id": "b2e9214f-9beb-4b8e-bfc5-fe78f735bbee",
   "metadata": {
    "scrolled": true
   },
   "outputs": [
    {
     "name": "stderr",
     "output_type": "stream",
     "text": [
      "  0%|                                                                                         | 0/2265 [00:00<?, ?it/s]"
     ]
    },
    {
     "name": "stdout",
     "output_type": "stream",
     "text": [
      "This is the pipeline with appositions going both ways\n"
     ]
    },
    {
     "name": "stderr",
     "output_type": "stream",
     "text": [
      "/opt/anaconda3/envs/spacy310/lib/python3.10/site-packages/thinc/shims/pytorch.py:114: FutureWarning: `torch.cuda.amp.autocast(args...)` is deprecated. Please use `torch.amp.autocast('cuda', args...)` instead.\n",
      "  with torch.cuda.amp.autocast(self._mixed_precision):\n",
      "  0%|                                                                               | 2/2265 [00:04<1:27:45,  2.33s/it]"
     ]
    },
    {
     "name": "stdout",
     "output_type": "stream",
     "text": [
      "This is the pipeline with appositions going both ways\n"
     ]
    },
    {
     "name": "stderr",
     "output_type": "stream",
     "text": [
      "  0%|                                                                               | 3/2265 [00:06<1:18:45,  2.09s/it]"
     ]
    },
    {
     "name": "stdout",
     "output_type": "stream",
     "text": [
      "This is the pipeline with appositions going both ways\n"
     ]
    },
    {
     "name": "stderr",
     "output_type": "stream",
     "text": [
      "  0%|▏                                                                              | 4/2265 [00:09<1:32:40,  2.46s/it]"
     ]
    },
    {
     "name": "stdout",
     "output_type": "stream",
     "text": [
      "2025-06-13 16:38:59.515 | INFO     | pipeline.correction.correction2:generate_possible_corrections:501 - Konnte Korrekturvorschlag '*' nicht erstellen: list index out of range\n",
      "2025-06-13 16:38:59.530 | INFO     | pipeline.correction.correction2:generate_possible_corrections:519 - Konnte Korrekturvorschlag 'PLURAL_*' nicht erstellen: list index out of range\n",
      "This is the pipeline with appositions going both ways\n"
     ]
    },
    {
     "name": "stderr",
     "output_type": "stream",
     "text": [
      "  0%|▏                                                                              | 5/2265 [00:10<1:15:44,  2.01s/it]"
     ]
    },
    {
     "name": "stdout",
     "output_type": "stream",
     "text": [
      "This is the pipeline with appositions going both ways\n"
     ]
    },
    {
     "name": "stderr",
     "output_type": "stream",
     "text": [
      "  0%|▏                                                                              | 6/2265 [00:11<1:06:12,  1.76s/it]"
     ]
    },
    {
     "name": "stdout",
     "output_type": "stream",
     "text": [
      "This is the pipeline with appositions going both ways\n"
     ]
    },
    {
     "name": "stderr",
     "output_type": "stream",
     "text": [
      "  0%|▎                                                                                | 7/2265 [00:12<55:35,  1.48s/it]"
     ]
    },
    {
     "name": "stdout",
     "output_type": "stream",
     "text": [
      "This is the pipeline with appositions going both ways\n"
     ]
    },
    {
     "name": "stderr",
     "output_type": "stream",
     "text": [
      "  0%|▎                                                                                | 8/2265 [00:13<51:22,  1.37s/it]"
     ]
    },
    {
     "name": "stdout",
     "output_type": "stream",
     "text": [
      "This is the pipeline with appositions going both ways\n"
     ]
    },
    {
     "name": "stderr",
     "output_type": "stream",
     "text": [
      "  0%|▎                                                                                | 9/2265 [00:15<51:28,  1.37s/it]"
     ]
    },
    {
     "name": "stdout",
     "output_type": "stream",
     "text": [
      "This is the pipeline with appositions going both ways\n"
     ]
    },
    {
     "name": "stderr",
     "output_type": "stream",
     "text": [
      "  0%|▎                                                                             | 10/2265 [00:17<1:04:03,  1.70s/it]"
     ]
    },
    {
     "name": "stdout",
     "output_type": "stream",
     "text": [
      "2025-06-13 16:39:07.744 | INFO     | pipeline.correction.correction2:generate_possible_corrections:352 - Konnte Korrekturvorschlag '*' nicht erstellen: list index out of range\n",
      "2025-06-13 16:39:07.754 | INFO     | pipeline.correction.correction2:generate_possible_corrections:459 - Konnte Korrekturvorschlag 'BOTH_FORMS' nicht erstellen: list index out of range\n",
      "2025-06-13 16:39:07.813 | INFO     | pipeline.correction.correction2:generate_possible_corrections:501 - Konnte Korrekturvorschlag '*' nicht erstellen: list index out of range\n",
      "2025-06-13 16:39:07.821 | INFO     | pipeline.correction.correction2:generate_possible_corrections:519 - Konnte Korrekturvorschlag 'PLURAL_*' nicht erstellen: list index out of range\n",
      "This is the pipeline with appositions going both ways\n"
     ]
    },
    {
     "name": "stderr",
     "output_type": "stream",
     "text": [
      "  0%|▍                                                                             | 11/2265 [00:19<1:00:22,  1.61s/it]"
     ]
    },
    {
     "name": "stdout",
     "output_type": "stream",
     "text": [
      "This is the pipeline with appositions going both ways\n"
     ]
    },
    {
     "name": "stderr",
     "output_type": "stream",
     "text": [
      "  1%|▍                                                                             | 12/2265 [00:21<1:06:33,  1.77s/it]"
     ]
    },
    {
     "name": "stdout",
     "output_type": "stream",
     "text": [
      "This is the pipeline with appositions going both ways\n"
     ]
    },
    {
     "name": "stderr",
     "output_type": "stream",
     "text": [
      "  1%|▍                                                                             | 13/2265 [00:22<1:01:59,  1.65s/it]"
     ]
    },
    {
     "name": "stdout",
     "output_type": "stream",
     "text": [
      "This is the pipeline with appositions going both ways\n"
     ]
    },
    {
     "name": "stderr",
     "output_type": "stream",
     "text": [
      "  1%|▍                                                                               | 14/2265 [00:23<54:02,  1.44s/it]"
     ]
    },
    {
     "name": "stdout",
     "output_type": "stream",
     "text": [
      "This is the pipeline with appositions going both ways\n"
     ]
    },
    {
     "name": "stderr",
     "output_type": "stream",
     "text": [
      "  1%|▌                                                                               | 15/2265 [00:24<50:41,  1.35s/it]"
     ]
    },
    {
     "name": "stdout",
     "output_type": "stream",
     "text": [
      "This is the pipeline with appositions going both ways\n"
     ]
    },
    {
     "name": "stderr",
     "output_type": "stream",
     "text": [
      "  1%|▌                                                                               | 16/2265 [00:26<57:55,  1.55s/it]"
     ]
    },
    {
     "name": "stdout",
     "output_type": "stream",
     "text": [
      "This is the pipeline with appositions going both ways\n"
     ]
    },
    {
     "name": "stderr",
     "output_type": "stream",
     "text": [
      "  1%|▌                                                                               | 17/2265 [00:27<44:13,  1.18s/it]"
     ]
    },
    {
     "name": "stdout",
     "output_type": "stream",
     "text": [
      "This is the pipeline with appositions going both ways\n",
      "This is the pipeline with appositions going both ways\n"
     ]
    },
    {
     "name": "stderr",
     "output_type": "stream",
     "text": [
      "  1%|▋                                                                               | 19/2265 [00:27<26:31,  1.41it/s]"
     ]
    },
    {
     "name": "stdout",
     "output_type": "stream",
     "text": [
      "2025-06-13 16:39:17.377 | INFO     | pipeline.correction.correction2:generate_possible_corrections:501 - Konnte Korrekturvorschlag '*' nicht erstellen: list index out of range\n",
      "2025-06-13 16:39:17.391 | INFO     | pipeline.correction.correction2:generate_possible_corrections:519 - Konnte Korrekturvorschlag 'PLURAL_*' nicht erstellen: list index out of range\n",
      "This is the pipeline with appositions going both ways\n"
     ]
    },
    {
     "name": "stderr",
     "output_type": "stream",
     "text": [
      "  1%|▋                                                                               | 20/2265 [00:27<24:01,  1.56it/s]"
     ]
    },
    {
     "name": "stdout",
     "output_type": "stream",
     "text": [
      "This is the pipeline with appositions going both ways\n"
     ]
    },
    {
     "name": "stderr",
     "output_type": "stream",
     "text": [
      "  1%|▋                                                                               | 21/2265 [00:28<21:05,  1.77it/s]"
     ]
    },
    {
     "name": "stdout",
     "output_type": "stream",
     "text": [
      "This is the pipeline with appositions going both ways\n"
     ]
    },
    {
     "name": "stderr",
     "output_type": "stream",
     "text": [
      "  1%|▊                                                                               | 22/2265 [00:28<21:31,  1.74it/s]"
     ]
    },
    {
     "name": "stdout",
     "output_type": "stream",
     "text": [
      "This is the pipeline with appositions going both ways\n"
     ]
    },
    {
     "name": "stderr",
     "output_type": "stream",
     "text": [
      "  1%|▊                                                                               | 23/2265 [00:29<19:38,  1.90it/s]"
     ]
    },
    {
     "name": "stdout",
     "output_type": "stream",
     "text": [
      "2025-06-13 16:39:19.244 | INFO     | pipeline.correction.correction2:generate_possible_corrections:501 - Konnte Korrekturvorschlag '*' nicht erstellen: list index out of range\n",
      "2025-06-13 16:39:19.257 | INFO     | pipeline.correction.correction2:generate_possible_corrections:519 - Konnte Korrekturvorschlag 'PLURAL_*' nicht erstellen: list index out of range\n",
      "This is the pipeline with appositions going both ways\n"
     ]
    },
    {
     "name": "stderr",
     "output_type": "stream",
     "text": [
      "  1%|▊                                                                               | 24/2265 [00:29<15:54,  2.35it/s]"
     ]
    },
    {
     "name": "stdout",
     "output_type": "stream",
     "text": [
      "This is the pipeline with appositions going both ways\n"
     ]
    },
    {
     "name": "stderr",
     "output_type": "stream",
     "text": [
      "  1%|▉                                                                               | 25/2265 [00:31<35:02,  1.07it/s]"
     ]
    },
    {
     "name": "stdout",
     "output_type": "stream",
     "text": [
      "This is the pipeline with appositions going both ways\n"
     ]
    },
    {
     "name": "stderr",
     "output_type": "stream",
     "text": [
      "  1%|▉                                                                               | 26/2265 [00:32<36:21,  1.03it/s]"
     ]
    },
    {
     "name": "stdout",
     "output_type": "stream",
     "text": [
      "This is the pipeline with appositions going both ways\n"
     ]
    },
    {
     "name": "stderr",
     "output_type": "stream",
     "text": [
      "  1%|▉                                                                               | 27/2265 [00:33<37:34,  1.01s/it]"
     ]
    },
    {
     "name": "stdout",
     "output_type": "stream",
     "text": [
      "This is the pipeline with appositions going both ways\n",
      "2025-06-13 16:39:24.682 | ERROR    | pipeline.full_pipeline:full_pipeline:38 - Fehler bei needs_to_be_gendered() für 'Fetisch': Es darf nur ein Element mit dieser Beziehung geben. (sind mit sb, war aber [hat, Kurilen-Inseln])\n"
     ]
    },
    {
     "name": "stderr",
     "output_type": "stream",
     "text": [
      "  1%|▉                                                                               | 28/2265 [00:34<38:34,  1.03s/it]"
     ]
    },
    {
     "name": "stdout",
     "output_type": "stream",
     "text": [
      "This is the pipeline with appositions going both ways\n"
     ]
    },
    {
     "name": "stderr",
     "output_type": "stream",
     "text": [
      "  1%|█                                                                               | 29/2265 [00:36<41:57,  1.13s/it]"
     ]
    },
    {
     "name": "stdout",
     "output_type": "stream",
     "text": [
      "This is the pipeline with appositions going both ways\n"
     ]
    },
    {
     "name": "stderr",
     "output_type": "stream",
     "text": [
      "  1%|█                                                                               | 30/2265 [00:37<43:38,  1.17s/it]"
     ]
    },
    {
     "name": "stdout",
     "output_type": "stream",
     "text": [
      "This is the pipeline with appositions going both ways\n"
     ]
    },
    {
     "name": "stderr",
     "output_type": "stream",
     "text": [
      "  1%|█                                                                               | 31/2265 [00:37<36:38,  1.02it/s]"
     ]
    }
   ],
   "source": [
    "df['pipeline_result'] = df['Text_unmarked'].progress_apply(full_pipeline)\n",
    "global_counts = defaultdict(int)\n",
    "df['result_counts'] = df.progress_apply(\n",
    "    lambda row: compare_marked_to_pipeline(global_counts,row['marked_word_information'], row['pipeline_result'], row['spacified_article']),\n",
    "    axis=1\n",
    ")\n",
    "\n",
    "sorted(global_counts.items())"
   ]
  },
  {
   "cell_type": "code",
   "execution_count": 4,
   "id": "57d20752-3393-45e2-ba37-a8fd3bed1632",
   "metadata": {},
   "outputs": [],
   "source": [
    "with open('resultWithfollowparentNKWhenArticleJustToBeSure.json', 'w', encoding='utf-8') as f:\n",
    "   json.dump({k: v for k, v in sorted(global_counts.items())}, f, ensure_ascii=False, indent=2)"
   ]
  },
  {
   "cell_type": "code",
   "execution_count": 4,
   "id": "0e473214-2ed7-45fb-a77b-c0196b760ba9",
   "metadata": {
    "scrolled": true
   },
   "outputs": [],
   "source": [
    "# Extrahiere \"not_ntbg_incorrect\" aus dem Dictionary in der Spalte \"result_counts\"\n",
    "df[\"not_ntbg_incorrect\"] = df[\"result_counts\"].apply(\n",
    "    lambda d: d.get(\"not_ntbg_incorrect\", 0) if isinstance(d, dict) else 0\n",
    ")\n",
    "df[\"ntbg_incorrect\"] = df[\"result_counts\"].apply(\n",
    "    lambda d: d.get(\"ntbg_incorrect\", 0) if isinstance(d, dict) else 0\n",
    ")\n",
    "\n",
    "\n",
    "\n",
    "# Sortiere den DataFrame nach dieser neuen Spalte und wähle die Top 10\n",
    "top_fp_df = df.sort_values(by=\"not_ntbg_incorrect\", ascending=False).head(10)\n"
   ]
  },
  {
   "cell_type": "code",
   "execution_count": 7,
   "id": "d917f5cf-9704-421b-bbc9-d1383ceba50c",
   "metadata": {},
   "outputs": [],
   "source": [
    "with open('resultWithImprovedNounKernels3.json', 'w', encoding='utf-8') as f:\n",
    "   json.dump(sorted(global_counts.items()), f, ensure_ascii=False, indent=2)"
   ]
  },
  {
   "cell_type": "code",
   "execution_count": 8,
   "id": "f8dc7e53-aaa1-45b8-b590-c4ed9cd14cab",
   "metadata": {},
   "outputs": [
    {
     "data": {
      "text/html": [
       "<div>\n",
       "<style scoped>\n",
       "    .dataframe tbody tr th:only-of-type {\n",
       "        vertical-align: middle;\n",
       "    }\n",
       "\n",
       "    .dataframe tbody tr th {\n",
       "        vertical-align: top;\n",
       "    }\n",
       "\n",
       "    .dataframe thead th {\n",
       "        text-align: right;\n",
       "    }\n",
       "</style>\n",
       "<table border=\"1\" class=\"dataframe\">\n",
       "  <thead>\n",
       "    <tr style=\"text-align: right;\">\n",
       "      <th></th>\n",
       "      <th>ArtikelId</th>\n",
       "      <th>Text</th>\n",
       "      <th>Text_unmarked</th>\n",
       "      <th>Sentences_marked</th>\n",
       "      <th>Sentences_unmarked</th>\n",
       "      <th>dependency_distance</th>\n",
       "      <th>marked_word_information</th>\n",
       "      <th>spacified_article</th>\n",
       "      <th>pipeline_result</th>\n",
       "      <th>result_counts</th>\n",
       "      <th>not_ntbg_incorrect</th>\n",
       "      <th>ntbg_incorrect</th>\n",
       "    </tr>\n",
       "  </thead>\n",
       "  <tbody>\n",
       "    <tr>\n",
       "      <th>2208</th>\n",
       "      <td>ArtikelId: 2197_0001</td>\n",
       "      <td>\\--Er-- tut es, \\--er-- tut es nicht, \\--er-- ...</td>\n",
       "      <td>Er tut es, er tut es nicht, er tut es...\\nVor ...</td>\n",
       "      <td>[\\--Er-- tut es, \\--er-- tut es nicht, \\--er--...</td>\n",
       "      <td>[Er tut es, er tut es nicht, er tut es..., Vor...</td>\n",
       "      <td>{'dependency_distance_mean': 2.954420260667289...</td>\n",
       "      <td>[{'word': 'Er', 'from': 0, 'to': 2, 'ntbg': Fa...</td>\n",
       "      <td>(Er, tut, es, ,, er, tut, es, nicht, ,, er, tu...</td>\n",
       "      <td>[{'word': 'Er', 'from': 0, 'to': 2, 'possibleC...</td>\n",
       "      <td>{'marks': 103, 'incorrect': 39, 'not_ntbg': 94...</td>\n",
       "      <td>39</td>\n",
       "      <td>0</td>\n",
       "    </tr>\n",
       "    <tr>\n",
       "      <th>1057</th>\n",
       "      <td>ArtikelId: 0810_0001</td>\n",
       "      <td>Kein Blunt wie der \\--andere--\\nEin Ungetüm, d...</td>\n",
       "      <td>Kein Blunt wie der andere\\nEin Ungetüm, das ma...</td>\n",
       "      <td>[Kein Blunt wie der \\--andere--, Ein Ungetüm, ...</td>\n",
       "      <td>[Kein Blunt wie der andere, Ein Ungetüm, das m...</td>\n",
       "      <td>{'dependency_distance_mean': 2.166301278052863...</td>\n",
       "      <td>[{'word': 'andere', 'from': 19, 'to': 25, 'ntb...</td>\n",
       "      <td>(Kein, Blunt, wie, der, andere, \\n, Ein, Unget...</td>\n",
       "      <td>[{'word': 'andere', 'from': 19, 'to': 25, 'pos...</td>\n",
       "      <td>{'marks': 115, 'incorrect': 38, 'not_ntbg': 11...</td>\n",
       "      <td>38</td>\n",
       "      <td>0</td>\n",
       "    </tr>\n",
       "    <tr>\n",
       "      <th>1395</th>\n",
       "      <td>ArtikelId: 1148_0001</td>\n",
       "      <td>Der \\--Saarländer-- aber gewann die Herzen der...</td>\n",
       "      <td>Der Saarländer aber gewann die Herzen der Geno...</td>\n",
       "      <td>[Der \\--Saarländer-- aber gewann die Herzen de...</td>\n",
       "      <td>[Der Saarländer aber gewann die Herzen der Gen...</td>\n",
       "      <td>{'dependency_distance_mean': 2.825654833619491...</td>\n",
       "      <td>[{'word': 'Saarländer', 'from': 4, 'to': 14, '...</td>\n",
       "      <td>(Der, Saarländer, aber, gewann, die, Herzen, d...</td>\n",
       "      <td>[{'word': 'Saarländer', 'from': 4, 'to': 14, '...</td>\n",
       "      <td>{'marks': 186, 'incorrect': 38, 'not_ntbg': 17...</td>\n",
       "      <td>37</td>\n",
       "      <td>1</td>\n",
       "    </tr>\n",
       "    <tr>\n",
       "      <th>2176</th>\n",
       "      <td>ArtikelId: 2166_0001</td>\n",
       "      <td>\\--Wen-- könnte die Not unseres Jahrhunderts n...</td>\n",
       "      <td>Wen könnte die Not unseres Jahrhunderts nicht ...</td>\n",
       "      <td>[\\--Wen-- könnte die Not unseres Jahrhunderts ...</td>\n",
       "      <td>[Wen könnte die Not unseres Jahrhunderts nicht...</td>\n",
       "      <td>{'dependency_distance_mean': 3.876454614089494...</td>\n",
       "      <td>[{'word': 'Wen', 'from': 0, 'to': 3, 'ntbg': F...</td>\n",
       "      <td>(Wen, könnte, die, Not, unseres, Jahrhunderts,...</td>\n",
       "      <td>[{'word': 'Freund', 'from': 195, 'to': 201, 'p...</td>\n",
       "      <td>{'marks': 454, 'correct': 415, 'not_ntbg': 430...</td>\n",
       "      <td>34</td>\n",
       "      <td>5</td>\n",
       "    </tr>\n",
       "    <tr>\n",
       "      <th>1586</th>\n",
       "      <td>ArtikelId: 1337_0001</td>\n",
       "      <td>Fritz.\\nPorträt eines \\--Serienkillers--\\nÜber...</td>\n",
       "      <td>Fritz.\\nPorträt eines Serienkillers\\nÜber Romu...</td>\n",
       "      <td>[Fritz., Porträt eines \\--Serienkillers--, Übe...</td>\n",
       "      <td>[Fritz., Porträt eines Serienkillers, Über Rom...</td>\n",
       "      <td>{'dependency_distance_mean': 3.097587157384421...</td>\n",
       "      <td>[{'word': 'Serienkillers', 'from': 21, 'to': 3...</td>\n",
       "      <td>(Fritz, ., \\n, Porträt, eines, Serienkillers, ...</td>\n",
       "      <td>[{'word': 'Serienkillers', 'from': 21, 'to': 3...</td>\n",
       "      <td>{'marks': 199, 'incorrect': 33, 'not_ntbg': 19...</td>\n",
       "      <td>33</td>\n",
       "      <td>0</td>\n",
       "    </tr>\n",
       "    <tr>\n",
       "      <th>321</th>\n",
       "      <td>ArtikelId: 0075_0001</td>\n",
       "      <td>Das \"Lied vom \\--Frieden-- \"war gerade ausgekl...</td>\n",
       "      <td>Das \"Lied vom Frieden \"war gerade ausgeklungen...</td>\n",
       "      <td>[Das \"Lied vom \\--Frieden-- \"war gerade ausgek...</td>\n",
       "      <td>[Das \"Lied vom Frieden \"war gerade ausgeklunge...</td>\n",
       "      <td>{'dependency_distance_mean': 2.851604969975557...</td>\n",
       "      <td>[{'word': 'Frieden', 'from': 14, 'to': 21, 'nt...</td>\n",
       "      <td>(Das, \", Lied, vom, Frieden, \", war, gerade, a...</td>\n",
       "      <td>[{'word': 'Frieden', 'from': 14, 'to': 21, 'po...</td>\n",
       "      <td>{'marks': 199, 'correct': 167, 'not_ntbg': 175...</td>\n",
       "      <td>31</td>\n",
       "      <td>1</td>\n",
       "    </tr>\n",
       "    <tr>\n",
       "      <th>88</th>\n",
       "      <td>ArtikelId: 0001_0089</td>\n",
       "      <td>Seelenbad für den \\--Landesvater-- und Seelenm...</td>\n",
       "      <td>Seelenbad für den Landesvater und Seelenmassag...</td>\n",
       "      <td>[Seelenbad für den \\--Landesvater-- und Seelen...</td>\n",
       "      <td>[Seelenbad für den Landesvater und Seelenmassa...</td>\n",
       "      <td>{'dependency_distance_mean': 2.644244491117175...</td>\n",
       "      <td>[{'word': 'Landesvater', 'from': 18, 'to': 29,...</td>\n",
       "      <td>(Seelenbad, für, den, Landesvater, und, Seelen...</td>\n",
       "      <td>[{'word': 'Landesvater', 'from': 18, 'to': 29,...</td>\n",
       "      <td>{'marks': 152, 'incorrect': 31, 'not_ntbg': 13...</td>\n",
       "      <td>31</td>\n",
       "      <td>0</td>\n",
       "    </tr>\n",
       "    <tr>\n",
       "      <th>0</th>\n",
       "      <td>ArtikelId: 0001_0001</td>\n",
       "      <td>\"Ross Perot wäre vielleicht ein prächtiger \\--...</td>\n",
       "      <td>\"Ross Perot wäre vielleicht ein prächtiger Dik...</td>\n",
       "      <td>[\"Ross Perot wäre vielleicht ein prächtiger \\-...</td>\n",
       "      <td>[\"Ross Perot wäre vielleicht ein prächtiger Di...</td>\n",
       "      <td>{'dependency_distance_mean': 2.965713889246949...</td>\n",
       "      <td>[{'word': 'Diktator', 'from': 43, 'to': 51, 'n...</td>\n",
       "      <td>(\", Ross, Perot, wäre, vielleicht, ein, prächt...</td>\n",
       "      <td>[{'word': 'Diktator', 'from': 43, 'to': 51, 'p...</td>\n",
       "      <td>{'marks': 108, 'correct': 78, 'not_ntbg': 95, ...</td>\n",
       "      <td>29</td>\n",
       "      <td>1</td>\n",
       "    </tr>\n",
       "    <tr>\n",
       "      <th>829</th>\n",
       "      <td>ArtikelId: 0583_0001</td>\n",
       "      <td>\"Es ist ganz die Farbe vom Meer, ganz wie das ...</td>\n",
       "      <td>\"Es ist ganz die Farbe vom Meer, ganz wie das ...</td>\n",
       "      <td>[\"Es ist ganz die Farbe vom Meer, ganz wie das...</td>\n",
       "      <td>[\"Es ist ganz die Farbe vom Meer, ganz wie das...</td>\n",
       "      <td>{'dependency_distance_mean': 2.694558343163159...</td>\n",
       "      <td>[{'word': 'Er', 'from': 90, 'to': 92, 'ntbg': ...</td>\n",
       "      <td>(\", Es, ist, ganz, die, Farbe, vom, Meer, ,, g...</td>\n",
       "      <td>[{'word': 'Er', 'from': 90, 'to': 92, 'possibl...</td>\n",
       "      <td>{'marks': 201, 'correct': 168, 'not_ntbg': 184...</td>\n",
       "      <td>29</td>\n",
       "      <td>4</td>\n",
       "    </tr>\n",
       "    <tr>\n",
       "      <th>309</th>\n",
       "      <td>ArtikelId: 0063_0001</td>\n",
       "      <td>\\--Er-- tat, woran \\--er-- glaubte\\nYitzhak Ra...</td>\n",
       "      <td>Er tat, woran er glaubte\\nYitzhak Rabin konnte...</td>\n",
       "      <td>[\\--Er-- tat, woran \\--er-- glaubte, Yitzhak R...</td>\n",
       "      <td>[Er tat, woran er glaubte, Yitzhak Rabin konnt...</td>\n",
       "      <td>{'dependency_distance_mean': 3.517288040694711...</td>\n",
       "      <td>[{'word': 'Er', 'from': 0, 'to': 2, 'ntbg': Fa...</td>\n",
       "      <td>(Er, tat, ,, woran, er, glaubte, \\n, Yitzhak, ...</td>\n",
       "      <td>[{'word': 'Er', 'from': 0, 'to': 2, 'possibleC...</td>\n",
       "      <td>{'marks': 164, 'incorrect': 28, 'not_ntbg': 15...</td>\n",
       "      <td>28</td>\n",
       "      <td>0</td>\n",
       "    </tr>\n",
       "  </tbody>\n",
       "</table>\n",
       "</div>"
      ],
      "text/plain": [
       "                 ArtikelId                                               Text  \\\n",
       "2208  ArtikelId: 2197_0001  \\--Er-- tut es, \\--er-- tut es nicht, \\--er-- ...   \n",
       "1057  ArtikelId: 0810_0001  Kein Blunt wie der \\--andere--\\nEin Ungetüm, d...   \n",
       "1395  ArtikelId: 1148_0001  Der \\--Saarländer-- aber gewann die Herzen der...   \n",
       "2176  ArtikelId: 2166_0001  \\--Wen-- könnte die Not unseres Jahrhunderts n...   \n",
       "1586  ArtikelId: 1337_0001  Fritz.\\nPorträt eines \\--Serienkillers--\\nÜber...   \n",
       "321   ArtikelId: 0075_0001  Das \"Lied vom \\--Frieden-- \"war gerade ausgekl...   \n",
       "88    ArtikelId: 0001_0089  Seelenbad für den \\--Landesvater-- und Seelenm...   \n",
       "0     ArtikelId: 0001_0001  \"Ross Perot wäre vielleicht ein prächtiger \\--...   \n",
       "829   ArtikelId: 0583_0001  \"Es ist ganz die Farbe vom Meer, ganz wie das ...   \n",
       "309   ArtikelId: 0063_0001  \\--Er-- tat, woran \\--er-- glaubte\\nYitzhak Ra...   \n",
       "\n",
       "                                          Text_unmarked  \\\n",
       "2208  Er tut es, er tut es nicht, er tut es...\\nVor ...   \n",
       "1057  Kein Blunt wie der andere\\nEin Ungetüm, das ma...   \n",
       "1395  Der Saarländer aber gewann die Herzen der Geno...   \n",
       "2176  Wen könnte die Not unseres Jahrhunderts nicht ...   \n",
       "1586  Fritz.\\nPorträt eines Serienkillers\\nÜber Romu...   \n",
       "321   Das \"Lied vom Frieden \"war gerade ausgeklungen...   \n",
       "88    Seelenbad für den Landesvater und Seelenmassag...   \n",
       "0     \"Ross Perot wäre vielleicht ein prächtiger Dik...   \n",
       "829   \"Es ist ganz die Farbe vom Meer, ganz wie das ...   \n",
       "309   Er tat, woran er glaubte\\nYitzhak Rabin konnte...   \n",
       "\n",
       "                                       Sentences_marked  \\\n",
       "2208  [\\--Er-- tut es, \\--er-- tut es nicht, \\--er--...   \n",
       "1057  [Kein Blunt wie der \\--andere--, Ein Ungetüm, ...   \n",
       "1395  [Der \\--Saarländer-- aber gewann die Herzen de...   \n",
       "2176  [\\--Wen-- könnte die Not unseres Jahrhunderts ...   \n",
       "1586  [Fritz., Porträt eines \\--Serienkillers--, Übe...   \n",
       "321   [Das \"Lied vom \\--Frieden-- \"war gerade ausgek...   \n",
       "88    [Seelenbad für den \\--Landesvater-- und Seelen...   \n",
       "0     [\"Ross Perot wäre vielleicht ein prächtiger \\-...   \n",
       "829   [\"Es ist ganz die Farbe vom Meer, ganz wie das...   \n",
       "309   [\\--Er-- tat, woran \\--er-- glaubte, Yitzhak R...   \n",
       "\n",
       "                                     Sentences_unmarked  \\\n",
       "2208  [Er tut es, er tut es nicht, er tut es..., Vor...   \n",
       "1057  [Kein Blunt wie der andere, Ein Ungetüm, das m...   \n",
       "1395  [Der Saarländer aber gewann die Herzen der Gen...   \n",
       "2176  [Wen könnte die Not unseres Jahrhunderts nicht...   \n",
       "1586  [Fritz., Porträt eines Serienkillers, Über Rom...   \n",
       "321   [Das \"Lied vom Frieden \"war gerade ausgeklunge...   \n",
       "88    [Seelenbad für den Landesvater und Seelenmassa...   \n",
       "0     [\"Ross Perot wäre vielleicht ein prächtiger Di...   \n",
       "829   [\"Es ist ganz die Farbe vom Meer, ganz wie das...   \n",
       "309   [Er tat, woran er glaubte, Yitzhak Rabin konnt...   \n",
       "\n",
       "                                    dependency_distance  \\\n",
       "2208  {'dependency_distance_mean': 2.954420260667289...   \n",
       "1057  {'dependency_distance_mean': 2.166301278052863...   \n",
       "1395  {'dependency_distance_mean': 2.825654833619491...   \n",
       "2176  {'dependency_distance_mean': 3.876454614089494...   \n",
       "1586  {'dependency_distance_mean': 3.097587157384421...   \n",
       "321   {'dependency_distance_mean': 2.851604969975557...   \n",
       "88    {'dependency_distance_mean': 2.644244491117175...   \n",
       "0     {'dependency_distance_mean': 2.965713889246949...   \n",
       "829   {'dependency_distance_mean': 2.694558343163159...   \n",
       "309   {'dependency_distance_mean': 3.517288040694711...   \n",
       "\n",
       "                                marked_word_information  \\\n",
       "2208  [{'word': 'Er', 'from': 0, 'to': 2, 'ntbg': Fa...   \n",
       "1057  [{'word': 'andere', 'from': 19, 'to': 25, 'ntb...   \n",
       "1395  [{'word': 'Saarländer', 'from': 4, 'to': 14, '...   \n",
       "2176  [{'word': 'Wen', 'from': 0, 'to': 3, 'ntbg': F...   \n",
       "1586  [{'word': 'Serienkillers', 'from': 21, 'to': 3...   \n",
       "321   [{'word': 'Frieden', 'from': 14, 'to': 21, 'nt...   \n",
       "88    [{'word': 'Landesvater', 'from': 18, 'to': 29,...   \n",
       "0     [{'word': 'Diktator', 'from': 43, 'to': 51, 'n...   \n",
       "829   [{'word': 'Er', 'from': 90, 'to': 92, 'ntbg': ...   \n",
       "309   [{'word': 'Er', 'from': 0, 'to': 2, 'ntbg': Fa...   \n",
       "\n",
       "                                      spacified_article  \\\n",
       "2208  (Er, tut, es, ,, er, tut, es, nicht, ,, er, tu...   \n",
       "1057  (Kein, Blunt, wie, der, andere, \\n, Ein, Unget...   \n",
       "1395  (Der, Saarländer, aber, gewann, die, Herzen, d...   \n",
       "2176  (Wen, könnte, die, Not, unseres, Jahrhunderts,...   \n",
       "1586  (Fritz, ., \\n, Porträt, eines, Serienkillers, ...   \n",
       "321   (Das, \", Lied, vom, Frieden, \", war, gerade, a...   \n",
       "88    (Seelenbad, für, den, Landesvater, und, Seelen...   \n",
       "0     (\", Ross, Perot, wäre, vielleicht, ein, prächt...   \n",
       "829   (\", Es, ist, ganz, die, Farbe, vom, Meer, ,, g...   \n",
       "309   (Er, tat, ,, woran, er, glaubte, \\n, Yitzhak, ...   \n",
       "\n",
       "                                        pipeline_result  \\\n",
       "2208  [{'word': 'Er', 'from': 0, 'to': 2, 'possibleC...   \n",
       "1057  [{'word': 'andere', 'from': 19, 'to': 25, 'pos...   \n",
       "1395  [{'word': 'Saarländer', 'from': 4, 'to': 14, '...   \n",
       "2176  [{'word': 'Freund', 'from': 195, 'to': 201, 'p...   \n",
       "1586  [{'word': 'Serienkillers', 'from': 21, 'to': 3...   \n",
       "321   [{'word': 'Frieden', 'from': 14, 'to': 21, 'po...   \n",
       "88    [{'word': 'Landesvater', 'from': 18, 'to': 29,...   \n",
       "0     [{'word': 'Diktator', 'from': 43, 'to': 51, 'p...   \n",
       "829   [{'word': 'Er', 'from': 90, 'to': 92, 'possibl...   \n",
       "309   [{'word': 'Er', 'from': 0, 'to': 2, 'possibleC...   \n",
       "\n",
       "                                          result_counts  not_ntbg_incorrect  \\\n",
       "2208  {'marks': 103, 'incorrect': 39, 'not_ntbg': 94...                  39   \n",
       "1057  {'marks': 115, 'incorrect': 38, 'not_ntbg': 11...                  38   \n",
       "1395  {'marks': 186, 'incorrect': 38, 'not_ntbg': 17...                  37   \n",
       "2176  {'marks': 454, 'correct': 415, 'not_ntbg': 430...                  34   \n",
       "1586  {'marks': 199, 'incorrect': 33, 'not_ntbg': 19...                  33   \n",
       "321   {'marks': 199, 'correct': 167, 'not_ntbg': 175...                  31   \n",
       "88    {'marks': 152, 'incorrect': 31, 'not_ntbg': 13...                  31   \n",
       "0     {'marks': 108, 'correct': 78, 'not_ntbg': 95, ...                  29   \n",
       "829   {'marks': 201, 'correct': 168, 'not_ntbg': 184...                  29   \n",
       "309   {'marks': 164, 'incorrect': 28, 'not_ntbg': 15...                  28   \n",
       "\n",
       "      ntbg_incorrect  \n",
       "2208               0  \n",
       "1057               0  \n",
       "1395               1  \n",
       "2176               5  \n",
       "1586               0  \n",
       "321                1  \n",
       "88                 0  \n",
       "0                  1  \n",
       "829                4  \n",
       "309                0  "
      ]
     },
     "execution_count": 8,
     "metadata": {},
     "output_type": "execute_result"
    }
   ],
   "source": [
    "top_fp_df.head(10)"
   ]
  },
  {
   "cell_type": "code",
   "execution_count": 11,
   "id": "afefcd4c-5bfa-45ba-bfa5-6eefe5a06122",
   "metadata": {
    "scrolled": true
   },
   "outputs": [],
   "source": [
    "# False Positives sind alle die im Pipeline resultat auf True gesetzt sind - alle die als True markiert wurden\n",
    "def finde_false_positives(row):\n",
    "    pipeline_wörter = {\n",
    "        (eintrag[\"word\"], eintrag['from'])\n",
    "        for eintrag in row[\"pipeline_result\"]\n",
    "        if eintrag.get(\"shouldBeGendered\") == True\n",
    "    }\n",
    "\n",
    "    marked_wörter = {\n",
    "        (eintrag[\"word\"],eintrag['from']) for eintrag in row.get(\"marked_word_information\") if eintrag.get(\"ntbg\") == True\n",
    "    }\n",
    "    \n",
    "    return list(pipeline_wörter - marked_wörter)\n",
    "\n",
    "# Neue Spalte mit False Positives anlegen\n",
    "top_fp_df[\"false_positives\"] = top_fp_df.apply(finde_false_positives, axis=1)\n"
   ]
  },
  {
   "cell_type": "code",
   "execution_count": 12,
   "id": "6dc526be-55f4-4476-ac31-cf9a7ab9bac8",
   "metadata": {},
   "outputs": [],
   "source": [
    "output_lines = []\n",
    "\n",
    "for _, row in top_fp_df.iterrows():\n",
    "    text = row.get(\"Text_unmarked\", \"\")\n",
    "    articleid = row.get(\"ArtikelId\")\n",
    "    false_positives = sorted(row.get(\"false_positives\", []), key=lambda x: x[1])  # x[1] = from\n",
    "\n",
    "    offset = 0\n",
    "    for word, start in false_positives:\n",
    "        start_adj = start + offset\n",
    "        end_adj = start_adj + len(word)\n",
    "        # Einfügen von --...--\n",
    "        text = text[:start_adj] + \"--\" + word + \"--\" + text[end_adj:]\n",
    "        offset += 4  # zwei Zeichen vorn, zwei hinten\n",
    "\n",
    "    line = f\"{articleid}:\\n{text}\\n\\nFALSE POSITIVES:\\n{[w for w, _ in false_positives]}\\n\"\n",
    "    output_lines.append(line)\n",
    "    output_lines.append(\"\\n\" + \"=\"*80 + \"\\n\")  # Trenner\n",
    "\n",
    "# Speichern als Textdatei\n",
    "output_path = \"false_positive_analysen.txt\"\n",
    "with open(output_path, \"w\", encoding=\"utf-8\") as f:\n",
    "    f.writelines(output_lines)"
   ]
  },
  {
   "cell_type": "code",
   "execution_count": null,
   "id": "45d3cf43-56ce-45ce-9421-9215fb6d1931",
   "metadata": {},
   "outputs": [],
   "source": []
  }
 ],
 "metadata": {
  "kernelspec": {
   "display_name": "Python (spacy310)",
   "language": "python",
   "name": "spacy310"
  },
  "language_info": {
   "codemirror_mode": {
    "name": "ipython",
    "version": 3
   },
   "file_extension": ".py",
   "mimetype": "text/x-python",
   "name": "python",
   "nbconvert_exporter": "python",
   "pygments_lexer": "ipython3",
   "version": "3.10.16"
  }
 },
 "nbformat": 4,
 "nbformat_minor": 5
}
