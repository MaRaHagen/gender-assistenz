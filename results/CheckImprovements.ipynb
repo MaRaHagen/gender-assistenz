{
 "cells": [
  {
   "cell_type": "markdown",
   "id": "bae7f68e-3f90-4397-9a67-4015eab7c2b0",
   "metadata": {},
   "source": [
    "# Weiterentwicklung\n",
    "In diesem Notebook werden bestehende Funktionen genutzt um die verschiedenen Weiterentwicklungsansätze zu testen, dafür werden diese in der eigentlichen Applikation eingefügt in diesem Notebook werden sie lediglich angewandt und die Zwischenergebnisse als json dateien gespeichert um eine vergleichbarkeit zu ermöglichen."
   ]
  },
  {
   "cell_type": "code",
   "execution_count": null,
   "id": "cc64a1d1-f88d-476c-b7ea-8af7478b7f61",
   "metadata": {},
   "outputs": [],
   "source": [
    "import pandas as pd\n",
    "import loguru\n",
    "from loguru import logger\n",
    "import spacy\n",
    "from collections import defaultdict\n",
    "from tqdm import tqdm\n",
    "import language_tool_python\n",
    "import os\n",
    "import json\n",
    "\n",
    "os.environ[\"TOKENIZERS_PARALLELISM\"] = \"false\"\n",
    "tool = language_tool_python.LanguageTool('de')\n",
    "\n",
    "# Enable tqdm in pandas\n",
    "tqdm.pandas()\n",
    "\n",
    "\n",
    "# Remove the default handler (which logs everything from DEBUG)\n",
    "logger.remove()\n",
    "\n",
    "# Add a new handler with a specific log level, e.g. INFO\n",
    "logger.add(lambda msg: print(msg, end=\"\"), level=\"INFO\")"
   ]
  },
  {
   "cell_type": "code",
   "execution_count": 1,
   "id": "e708c8a6-0036-4e22-964a-0f8866cdbd09",
   "metadata": {},
   "outputs": [],
   "source": [
    "#import helperfunctions:\n",
    "from helperfunctions import find_in_result, update_counts, compare_marked_to_pipeline\n",
    "#nach jedem manuell change muss der kernel restarted werden\n",
    "from pipeline.full_pipeline import full_pipeline\n",
    "df = pd.read_pickle('local-store/data_prepared_frame_including_spcacy_information.pkl')"
   ]
  },
  {
   "cell_type": "code",
   "execution_count": null,
   "id": "b2e9214f-9beb-4b8e-bfc5-fe78f735bbee",
   "metadata": {},
   "outputs": [],
   "source": [
    "df['pipeline_result'] = df['Text_unmarked'].progress_apply(full_pipeline)\n",
    "global_counts = defaultdict(int)\n",
    "df['result_counts'] = df.progress_apply(\n",
    "    lambda row: compare_marked_to_pipeline(global_counts,row['marked_word_information'], row['pipeline_result'], row['spacified_article']),\n",
    "    axis=1\n",
    ")\n",
    "\n",
    "sorted(global_counts.items())"
   ]
  },
  {
   "cell_type": "code",
   "execution_count": null,
   "id": "57d20752-3393-45e2-ba37-a8fd3bed1632",
   "metadata": {},
   "outputs": [],
   "source": [
    "with open('resultWithImprovedBLABLA.json', 'a', encoding='utf-8') as f:\n",
    "   json.dump(sorted(global_counts.items()), f, ensure_ascii=False, indent=2)"
   ]
  }
 ],
 "metadata": {
  "kernelspec": {
   "display_name": "Python 3.10 (spacy310)",
   "language": "python",
   "name": "spacy310"
  },
  "language_info": {
   "codemirror_mode": {
    "name": "ipython",
    "version": 3
   },
   "file_extension": ".py",
   "mimetype": "text/x-python",
   "name": "python",
   "nbconvert_exporter": "python",
   "pygments_lexer": "ipython3",
   "version": "3.10.13"
  }
 },
 "nbformat": 4,
 "nbformat_minor": 5
}
