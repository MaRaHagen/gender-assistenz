{
 "cells": [
  {
   "cell_type": "markdown",
   "id": "4a3c23ab-4f83-42c1-9e62-c16fe6359bb4",
   "metadata": {},
   "source": [
    "# Evaluation\n",
    "In diesem Notebook soll die bestehende Genderassistenz mit den Testdaten evaluiert werden. Zunächst wird dafür für den Artikel die Position seiner markierten Wörter und die Information ob diese Gegendert werden müssen gespeichert."
   ]
  },
  {
   "cell_type": "code",
   "execution_count": 1,
   "id": "4401ea68-3efd-4dc3-8009-635c9767fb1a",
   "metadata": {},
   "outputs": [
    {
     "name": "stderr",
     "output_type": "stream",
     "text": [
      "/opt/anaconda3/envs/spacy310/lib/python3.10/site-packages/spacy/util.py:910: UserWarning: [W095] Model 'de_dep_news_trf' (3.5.0) was trained with spaCy v3.5.0 and may not be 100% compatible with the current version (3.8.5). If you see errors or degraded performance, download a newer compatible model or retrain your custom model with the current spaCy version. For more details and available updates, run: python -m spacy validate\n",
      "  warnings.warn(warn_msg)\n"
     ]
    },
    {
     "data": {
      "text/plain": [
       "1"
      ]
     },
     "execution_count": 1,
     "metadata": {},
     "output_type": "execute_result"
    }
   ],
   "source": [
    "import pandas as pd\n",
    "import loguru\n",
    "from loguru import logger\n",
    "import spacy\n",
    "from collections import defaultdict\n",
    "from tqdm import tqdm\n",
    "import language_tool_python\n",
    "import seaborn as sns\n",
    "import matplotlib.pyplot as plt\n",
    "from scipy.stats import pearsonr\n",
    "import os\n",
    "import json\n",
    "\n",
    "\n",
    "os.environ[\"TOKENIZERS_PARALLELISM\"] = \"false\"\n",
    "tool = language_tool_python.LanguageTool('de')\n",
    "\n",
    "# Enable tqdm in pandas\n",
    "tqdm.pandas()\n",
    "\n",
    "nlp = spacy.load(\"de_dep_news_trf\")\n",
    "\n",
    "# Remove the default handler (which logs everything from DEBUG)\n",
    "logger.remove()\n",
    "\n",
    "# Add a new handler with a specific log level, e.g. INFO\n",
    "logger.add(lambda msg: print(msg, end=\"\"), level=\"INFO\")"
   ]
  },
  {
   "cell_type": "code",
   "execution_count": 274,
   "id": "51e8013b-78fe-4eb0-ab72-35373253508a",
   "metadata": {},
   "outputs": [],
   "source": [
    "df = pd.read_pickle('data_prepared_frame.pkl')\n"
   ]
  },
  {
   "cell_type": "code",
   "execution_count": 275,
   "id": "6869a2b2-6905-41fe-bb36-406fa1e6357a",
   "metadata": {},
   "outputs": [],
   "source": [
    "def add_marked_word_information(article: str) -> list[dict]:\n",
    "    \"\"\"\n",
    "    Extrahiert alle markierten Wörter im Format !--wort-- oder \\\\--wort-- aus einem Artikel\n",
    "    und gibt ihre Positionen im bereinigten Text sowie das ntbg-Flag zurück.\n",
    "\n",
    "    Rückgabe: Liste von Dicts mit:\n",
    "        - word: das markierte Wort\n",
    "        - word_begin: Startindex im bereinigten Text\n",
    "        - word_end: Endindex im bereinigten Text\n",
    "        - ntbg: True bei !--..., False bei \\\\--...\n",
    "    \"\"\"\n",
    "    result = []\n",
    "    ci = 0\n",
    "    output_index = 0  # Position im bereinigten Text\n",
    "\n",
    "    while ci < len(article) - 2:\n",
    "        if article[ci] in (\"!\", \"\\\\\") and article[ci+1:ci+3] == \"--\":\n",
    "            ntbg = article[ci] == \"!\"\n",
    "            ci += 3  # springe über !-- oder \\--\n",
    "\n",
    "            word = \"\"\n",
    "            start_index = output_index\n",
    "\n",
    "            while ci < len(article) - 1:\n",
    "                if article[ci:ci+2] == \"--\":\n",
    "                    end_index = output_index\n",
    "                    result.append({\n",
    "                        \"word\": word,\n",
    "                        \"from\": start_index,\n",
    "                        \"to\": end_index,\n",
    "                        \"ntbg\": ntbg\n",
    "                    })\n",
    "                    ci += 2\n",
    "                    break\n",
    "\n",
    "                word += article[ci]\n",
    "                ci += 1\n",
    "                output_index += 1\n",
    "\n",
    "            continue\n",
    "\n",
    "        # Nicht markierter Text → einfach weiterzählen\n",
    "        ci += 1\n",
    "        output_index += 1\n",
    "\n",
    "    return result"
   ]
  },
  {
   "cell_type": "code",
   "execution_count": 276,
   "id": "22b141d7-258f-4eb3-a91f-1741ce1096e8",
   "metadata": {
    "scrolled": true
   },
   "outputs": [
    {
     "name": "stderr",
     "output_type": "stream",
     "text": [
      "  0%|                                                  | 0/2265 [00:00<?, ?it/s]/opt/anaconda3/envs/spacy310/lib/python3.10/site-packages/thinc/shims/pytorch.py:109: FutureWarning: `torch.cuda.amp.autocast(args...)` is deprecated. Please use `torch.amp.autocast('cuda', args...)` instead.\n",
      "  with torch.cuda.amp.autocast(self._mixed_precision):\n",
      "100%|███████████████████████████████████████| 2265/2265 [07:51<00:00,  4.80it/s]\n"
     ]
    }
   ],
   "source": [
    "df['marked_word_information'] = df['Text'].apply(add_marked_word_information)\n",
    "df['spacified_article'] = df['Text_unmarked'].progress_apply(nlp)"
   ]
  },
  {
   "cell_type": "code",
   "execution_count": 277,
   "id": "7d6516a3-8102-453e-bb1c-6988321f2115",
   "metadata": {},
   "outputs": [],
   "source": [
    "df.to_pickle('local-store/data_prepared_frame_including_spcacy_information.pkl') # nur lokale zwischenspeicherung nicht commiten"
   ]
  },
  {
   "cell_type": "markdown",
   "id": "5e65efa9-37a3-4000-a31b-ea98303ecb32",
   "metadata": {},
   "source": [
    "Zunächst wollen wir die Pipeline auf alle Artikel anwenden. "
   ]
  },
  {
   "cell_type": "code",
   "execution_count": 3,
   "id": "ebcc3a5a-dfd8-47f9-aa13-9ce7d67ec1fe",
   "metadata": {},
   "outputs": [],
   "source": [
    "from pipeline.full_pipeline import full_pipeline"
   ]
  },
  {
   "cell_type": "code",
   "execution_count": 278,
   "id": "196fb6aa-1bb2-4082-98f2-63df49a0d407",
   "metadata": {},
   "outputs": [
    {
     "name": "stderr",
     "output_type": "stream",
     "text": [
      "/opt/anaconda3/envs/spacy310/lib/python3.10/site-packages/thinc/shims/pytorch.py:109: FutureWarning: `torch.cuda.amp.autocast(args...)` is deprecated. Please use `torch.amp.autocast('cuda', args...)` instead.\n",
      "  with torch.cuda.amp.autocast(self._mixed_precision):\n"
     ]
    }
   ],
   "source": [
    "response = full_pipeline(df['Text_unmarked'].iloc[5])\n"
   ]
  },
  {
   "cell_type": "code",
   "execution_count": 279,
   "id": "6efdc752-2389-46d7-9613-c5c64a23639f",
   "metadata": {
    "scrolled": true
   },
   "outputs": [
    {
     "name": "stderr",
     "output_type": "stream",
     "text": [
      "  0%|                                          | 4/2265 [00:04<53:30,  1.42s/it]"
     ]
    },
    {
     "name": "stdout",
     "output_type": "stream",
     "text": [
      "[Faktor]\n",
      "2025-05-10 10:03:22.146 | INFO     | pipeline.correction.correction2:generate_possible_corrections:505 - Konnte Korrekturvorschlag '*' nicht erstellen: list index out of range\n",
      "[Faktor]\n",
      "2025-05-10 10:03:22.154 | INFO     | pipeline.correction.correction2:generate_possible_corrections:524 - Konnte Korrekturvorschlag 'PLURAL_*' nicht erstellen: list index out of range\n"
     ]
    },
    {
     "name": "stderr",
     "output_type": "stream",
     "text": [
      "  0%|                                          | 5/2265 [00:06<49:39,  1.32s/it]"
     ]
    },
    {
     "name": "stdout",
     "output_type": "stream",
     "text": [
      "[LKA-Fahnder]\n",
      "2025-05-10 10:03:23.137 | INFO     | pipeline.correction.correction2:generate_possible_corrections:354 - Konnte Korrekturvorschlag '*' nicht erstellen: list index out of range\n",
      "[LKA-Fahnder]\n",
      "2025-05-10 10:03:23.146 | INFO     | pipeline.correction.correction2:generate_possible_corrections:462 - Konnte Korrekturvorschlag 'BOTH_FORMS' nicht erstellen: list index out of range\n"
     ]
    },
    {
     "name": "stderr",
     "output_type": "stream",
     "text": [
      "  0%|▏                                         | 8/2265 [00:08<36:31,  1.03it/s]"
     ]
    },
    {
     "name": "stdout",
     "output_type": "stream",
     "text": [
      "[Kantonstierarzt]\n",
      "2025-05-10 10:03:25.542 | INFO     | pipeline.correction.correction2:generate_possible_corrections:505 - Konnte Korrekturvorschlag '*' nicht erstellen: list index out of range\n",
      "[Kantonstierarzt]\n",
      "2025-05-10 10:03:25.551 | INFO     | pipeline.correction.correction2:generate_possible_corrections:524 - Konnte Korrekturvorschlag 'PLURAL_*' nicht erstellen: list index out of range\n"
     ]
    },
    {
     "name": "stderr",
     "output_type": "stream",
     "text": [
      "  0%|▏                                        | 10/2265 [00:11<47:00,  1.25s/it]"
     ]
    },
    {
     "name": "stdout",
     "output_type": "stream",
     "text": [
      "[sich, Revolutionsgardisten]\n",
      "2025-05-10 10:03:28.569 | INFO     | pipeline.correction.correction2:generate_possible_corrections:354 - Konnte Korrekturvorschlag '*' nicht erstellen: list index out of range\n",
      "[sich, Revolutionsgardisten]\n",
      "2025-05-10 10:03:28.575 | INFO     | pipeline.correction.correction2:generate_possible_corrections:462 - Konnte Korrekturvorschlag 'BOTH_FORMS' nicht erstellen: list index out of range\n",
      "[Revolutionsgardisten]\n",
      "2025-05-10 10:03:28.617 | INFO     | pipeline.correction.correction2:generate_possible_corrections:505 - Konnte Korrekturvorschlag '*' nicht erstellen: list index out of range\n",
      "[Revolutionsgardisten]\n",
      "2025-05-10 10:03:28.622 | INFO     | pipeline.correction.correction2:generate_possible_corrections:524 - Konnte Korrekturvorschlag 'PLURAL_*' nicht erstellen: list index out of range\n"
     ]
    },
    {
     "name": "stderr",
     "output_type": "stream",
     "text": [
      "  0%|▏                                        | 11/2265 [00:12<46:07,  1.23s/it]"
     ]
    },
    {
     "name": "stdout",
     "output_type": "stream",
     "text": [
      "[Ex-Kollege]\n",
      "2025-05-10 10:03:31.312 | INFO     | pipeline.correction.correction2:generate_possible_corrections:505 - Konnte Korrekturvorschlag '*' nicht erstellen: list index out of range\n",
      "[Ex-Kollege]\n",
      "2025-05-10 10:03:31.321 | INFO     | pipeline.correction.correction2:generate_possible_corrections:524 - Konnte Korrekturvorschlag 'PLURAL_*' nicht erstellen: list index out of range\n"
     ]
    },
    {
     "name": "stderr",
     "output_type": "stream",
     "text": [
      "  1%|▎                                        | 19/2265 [00:19<22:34,  1.66it/s]"
     ]
    },
    {
     "name": "stdout",
     "output_type": "stream",
     "text": [
      "[Reaktor]\n",
      "2025-05-10 10:03:36.834 | INFO     | pipeline.correction.correction2:generate_possible_corrections:505 - Konnte Korrekturvorschlag '*' nicht erstellen: list index out of range\n",
      "[Reaktor]\n",
      "2025-05-10 10:03:36.843 | INFO     | pipeline.correction.correction2:generate_possible_corrections:524 - Konnte Korrekturvorschlag 'PLURAL_*' nicht erstellen: list index out of range\n"
     ]
    },
    {
     "name": "stderr",
     "output_type": "stream",
     "text": [
      "  1%|▍                                        | 24/2265 [00:21<13:26,  2.78it/s]"
     ]
    },
    {
     "name": "stdout",
     "output_type": "stream",
     "text": [
      "[Aufsichtsrates]\n",
      "2025-05-10 10:03:38.382 | INFO     | pipeline.correction.correction2:generate_possible_corrections:505 - Konnte Korrekturvorschlag '*' nicht erstellen: list index out of range\n",
      "[Aufsichtsrates]\n",
      "2025-05-10 10:03:38.390 | INFO     | pipeline.correction.correction2:generate_possible_corrections:524 - Konnte Korrekturvorschlag 'PLURAL_*' nicht erstellen: list index out of range\n"
     ]
    },
    {
     "name": "stderr",
     "output_type": "stream",
     "text": [
      "  1%|▍                                        | 27/2265 [00:25<32:16,  1.16it/s]"
     ]
    },
    {
     "name": "stdout",
     "output_type": "stream",
     "text": [
      "[Hongkong-Chinesen, den]\n",
      "2025-05-10 10:03:42.172 | INFO     | pipeline.correction.correction2:generate_possible_corrections:354 - Konnte Korrekturvorschlag '*' nicht erstellen: list index out of range\n",
      "[Hongkong-Chinesen, den]\n",
      "2025-05-10 10:03:42.181 | INFO     | pipeline.correction.correction2:generate_possible_corrections:462 - Konnte Korrekturvorschlag 'BOTH_FORMS' nicht erstellen: list index out of range\n"
     ]
    },
    {
     "name": "stderr",
     "output_type": "stream",
     "text": [
      "  1%|▌                                        | 28/2265 [00:26<32:42,  1.14it/s]"
     ]
    },
    {
     "name": "stdout",
     "output_type": "stream",
     "text": [
      "2025-05-10 10:03:43.061 | ERROR    | pipeline.full_pipeline:full_pipeline:38 - Fehler bei needs_to_be_gendered() für 'Fetisch': Es darf nur ein Element mit dieser Beziehung geben. (sind mit sb, war aber [hat, Kurilen-Inseln])\n"
     ]
    },
    {
     "name": "stderr",
     "output_type": "stream",
     "text": [
      "  2%|▋                                        | 38/2265 [00:30<11:08,  3.33it/s]"
     ]
    },
    {
     "name": "stdout",
     "output_type": "stream",
     "text": [
      "[Arbeitgeber]\n",
      "2025-05-10 10:03:47.236 | INFO     | pipeline.correction.correction2:generate_possible_corrections:462 - Konnte Korrekturvorschlag 'BOTH_FORMS' nicht erstellen: Es darf nur ein Element mit dieser Beziehung geben. (Arbeitgeber mit cd, war aber [und, sondern])\n"
     ]
    },
    {
     "name": "stderr",
     "output_type": "stream",
     "text": [
      "  2%|▊                                        | 43/2265 [00:31<08:06,  4.57it/s]"
     ]
    },
    {
     "name": "stdout",
     "output_type": "stream",
     "text": [
      "[Hauptrivalen]\n",
      "2025-05-10 10:03:48.322 | INFO     | pipeline.correction.correction2:generate_possible_corrections:505 - Konnte Korrekturvorschlag '*' nicht erstellen: list index out of range\n",
      "[Hauptrivalen]\n",
      "2025-05-10 10:03:48.331 | INFO     | pipeline.correction.correction2:generate_possible_corrections:524 - Konnte Korrekturvorschlag 'PLURAL_*' nicht erstellen: list index out of range\n"
     ]
    },
    {
     "name": "stderr",
     "output_type": "stream",
     "text": [
      "  2%|▉                                        | 49/2265 [00:32<07:23,  5.00it/s]"
     ]
    },
    {
     "name": "stdout",
     "output_type": "stream",
     "text": [
      "[Mendez-Fans]\n",
      "2025-05-10 10:03:49.654 | INFO     | pipeline.correction.correction2:generate_possible_corrections:354 - Konnte Korrekturvorschlag '*' nicht erstellen: list index out of range\n",
      "[Mendez-Fans]\n",
      "2025-05-10 10:03:49.662 | INFO     | pipeline.correction.correction2:generate_possible_corrections:462 - Konnte Korrekturvorschlag 'BOTH_FORMS' nicht erstellen: list index out of range\n"
     ]
    },
    {
     "name": "stderr",
     "output_type": "stream",
     "text": [
      "  3%|█                                        | 61/2265 [00:35<09:20,  3.93it/s]"
     ]
    },
    {
     "name": "stdout",
     "output_type": "stream",
     "text": [
      "[US-Drogenfahnder]\n",
      "2025-05-10 10:03:52.849 | INFO     | pipeline.correction.correction2:generate_possible_corrections:505 - Konnte Korrekturvorschlag '*' nicht erstellen: list index out of range\n",
      "[US-Drogenfahnder]\n",
      "2025-05-10 10:03:52.859 | INFO     | pipeline.correction.correction2:generate_possible_corrections:524 - Konnte Korrekturvorschlag 'PLURAL_*' nicht erstellen: list index out of range\n",
      "[US-Drogenfahnder]\n",
      "2025-05-10 10:03:52.925 | INFO     | pipeline.correction.correction2:generate_possible_corrections:505 - Konnte Korrekturvorschlag '*' nicht erstellen: list index out of range\n",
      "[US-Drogenfahnder]\n",
      "2025-05-10 10:03:52.936 | INFO     | pipeline.correction.correction2:generate_possible_corrections:524 - Konnte Korrekturvorschlag 'PLURAL_*' nicht erstellen: list index out of range\n"
     ]
    },
    {
     "name": "stderr",
     "output_type": "stream",
     "text": [
      "  3%|█▎                                       | 72/2265 [00:38<07:38,  4.78it/s]"
     ]
    },
    {
     "name": "stdout",
     "output_type": "stream",
     "text": [
      "[Hochzeitsgäste]\n",
      "2025-05-10 10:03:55.660 | INFO     | pipeline.correction.correction2:generate_possible_corrections:354 - Konnte Korrekturvorschlag '*' nicht erstellen: list index out of range\n",
      "[Hochzeitsgäste]\n",
      "2025-05-10 10:03:55.669 | INFO     | pipeline.correction.correction2:generate_possible_corrections:462 - Konnte Korrekturvorschlag 'BOTH_FORMS' nicht erstellen: list index out of range\n",
      "[Hochzeitsgäste]\n",
      "2025-05-10 10:03:55.695 | INFO     | pipeline.correction.correction2:generate_possible_corrections:354 - Konnte Korrekturvorschlag '*' nicht erstellen: list index out of range\n",
      "[Hochzeitsgäste]\n",
      "2025-05-10 10:03:55.704 | INFO     | pipeline.correction.correction2:generate_possible_corrections:462 - Konnte Korrekturvorschlag 'BOTH_FORMS' nicht erstellen: list index out of range\n"
     ]
    },
    {
     "name": "stderr",
     "output_type": "stream",
     "text": [
      "  4%|█▍                                       | 81/2265 [00:41<16:33,  2.20it/s]"
     ]
    },
    {
     "name": "stdout",
     "output_type": "stream",
     "text": [
      "2025-05-10 10:03:59.749 | ERROR    | pipeline.full_pipeline:full_pipeline:38 - Fehler bei needs_to_be_gendered() für 'Bekannter': Es darf nur ein Element mit dieser Beziehung geben. (ist mit sb, war aber [Premier, Ministerpräsident])\n"
     ]
    },
    {
     "name": "stderr",
     "output_type": "stream",
     "text": [
      "  4%|█▌                                       | 87/2265 [00:44<12:39,  2.87it/s]"
     ]
    },
    {
     "name": "stdout",
     "output_type": "stream",
     "text": [
      "[UN-Chef]\n",
      "2025-05-10 10:04:01.891 | INFO     | pipeline.correction.correction2:generate_possible_corrections:505 - Konnte Korrekturvorschlag '*' nicht erstellen: list index out of range\n",
      "[UN-Chef]\n",
      "2025-05-10 10:04:01.900 | INFO     | pipeline.correction.correction2:generate_possible_corrections:524 - Konnte Korrekturvorschlag 'PLURAL_*' nicht erstellen: list index out of range\n",
      "[UN-Generalsekretär]\n",
      "2025-05-10 10:04:01.952 | INFO     | pipeline.correction.correction2:generate_possible_corrections:505 - Konnte Korrekturvorschlag '*' nicht erstellen: list index out of range\n",
      "[UN-Generalsekretär]\n",
      "2025-05-10 10:04:01.961 | INFO     | pipeline.correction.correction2:generate_possible_corrections:524 - Konnte Korrekturvorschlag 'PLURAL_*' nicht erstellen: list index out of range\n",
      "[UN-Chef]\n",
      "2025-05-10 10:04:02.033 | INFO     | pipeline.correction.correction2:generate_possible_corrections:505 - Konnte Korrekturvorschlag '*' nicht erstellen: list index out of range\n",
      "[UN-Chef]\n",
      "2025-05-10 10:04:02.042 | INFO     | pipeline.correction.correction2:generate_possible_corrections:524 - Konnte Korrekturvorschlag 'PLURAL_*' nicht erstellen: list index out of range\n",
      "[UN-Generalsekretär]\n",
      "2025-05-10 10:04:02.082 | INFO     | pipeline.correction.correction2:generate_possible_corrections:505 - Konnte Korrekturvorschlag '*' nicht erstellen: list index out of range\n",
      "[UN-Generalsekretär]\n",
      "2025-05-10 10:04:02.091 | INFO     | pipeline.correction.correction2:generate_possible_corrections:524 - Konnte Korrekturvorschlag 'PLURAL_*' nicht erstellen: list index out of range\n"
     ]
    },
    {
     "name": "stderr",
     "output_type": "stream",
     "text": [
      "  4%|█▌                                       | 88/2265 [00:45<17:48,  2.04it/s]"
     ]
    },
    {
     "name": "stdout",
     "output_type": "stream",
     "text": [
      "[UN-Chefs]\n",
      "2025-05-10 10:04:02.139 | INFO     | pipeline.correction.correction2:generate_possible_corrections:505 - Konnte Korrekturvorschlag '*' nicht erstellen: list index out of range\n",
      "[UN-Chefs]\n",
      "2025-05-10 10:04:02.147 | INFO     | pipeline.correction.correction2:generate_possible_corrections:524 - Konnte Korrekturvorschlag 'PLURAL_*' nicht erstellen: list index out of range\n"
     ]
    },
    {
     "name": "stderr",
     "output_type": "stream",
     "text": [
      "  4%|█▋                                       | 91/2265 [00:48<28:07,  1.29it/s]"
     ]
    },
    {
     "name": "stdout",
     "output_type": "stream",
     "text": [
      "[Bundesrat]\n",
      "2025-05-10 10:04:05.049 | INFO     | pipeline.correction.correction2:generate_possible_corrections:505 - Konnte Korrekturvorschlag '*' nicht erstellen: list index out of range\n",
      "[Bundesrat]\n",
      "2025-05-10 10:04:05.055 | INFO     | pipeline.correction.correction2:generate_possible_corrections:524 - Konnte Korrekturvorschlag 'PLURAL_*' nicht erstellen: list index out of range\n",
      "[CDU-Finanzexperte]\n",
      "2025-05-10 10:04:05.084 | INFO     | pipeline.correction.correction2:generate_possible_corrections:505 - Konnte Korrekturvorschlag '*' nicht erstellen: list index out of range\n",
      "[CDU-Finanzexperte]\n",
      "2025-05-10 10:04:05.093 | INFO     | pipeline.correction.correction2:generate_possible_corrections:524 - Konnte Korrekturvorschlag 'PLURAL_*' nicht erstellen: list index out of range\n"
     ]
    },
    {
     "name": "stderr",
     "output_type": "stream",
     "text": [
      "  4%|█▋                                       | 93/2265 [00:48<23:41,  1.53it/s]"
     ]
    },
    {
     "name": "stdout",
     "output_type": "stream",
     "text": [
      "[Regierungschefs]\n",
      "2025-05-10 10:04:05.994 | INFO     | pipeline.correction.correction2:generate_possible_corrections:462 - Konnte Korrekturvorschlag 'BOTH_FORMS' nicht erstellen: Es darf nur ein Element mit dieser Beziehung geben. (Regierungschefs mit cd, war aber [und, und])\n"
     ]
    },
    {
     "name": "stderr",
     "output_type": "stream",
     "text": [
      "  4%|█▋                                       | 95/2265 [00:50<22:43,  1.59it/s]"
     ]
    },
    {
     "name": "stdout",
     "output_type": "stream",
     "text": [
      "[Mifa-Arbeitnehmer]\n",
      "2025-05-10 10:04:07.265 | INFO     | pipeline.correction.correction2:generate_possible_corrections:354 - Konnte Korrekturvorschlag '*' nicht erstellen: list index out of range\n",
      "[Mifa-Arbeitnehmer]\n",
      "2025-05-10 10:04:07.275 | INFO     | pipeline.correction.correction2:generate_possible_corrections:462 - Konnte Korrekturvorschlag 'BOTH_FORMS' nicht erstellen: list index out of range\n"
     ]
    },
    {
     "name": "stderr",
     "output_type": "stream",
     "text": [
      "  4%|█▊                                      | 100/2265 [00:53<22:29,  1.60it/s]"
     ]
    },
    {
     "name": "stdout",
     "output_type": "stream",
     "text": [
      "[Grenzbeamter]\n",
      "2025-05-10 10:04:10.412 | INFO     | pipeline.correction.correction2:generate_possible_corrections:505 - Konnte Korrekturvorschlag '*' nicht erstellen: object of type 'NoneType' has no len()\n",
      "[Grenzbeamter]\n",
      "2025-05-10 10:04:10.416 | INFO     | pipeline.correction.correction2:generate_possible_corrections:524 - Konnte Korrekturvorschlag 'PLURAL_*' nicht erstellen: object of type 'NoneType' has no len()\n"
     ]
    },
    {
     "name": "stderr",
     "output_type": "stream",
     "text": [
      "  5%|█▉                                      | 107/2265 [00:57<17:21,  2.07it/s]"
     ]
    },
    {
     "name": "stdout",
     "output_type": "stream",
     "text": [
      "[Reaktor]\n",
      "2025-05-10 10:04:14.423 | INFO     | pipeline.correction.correction2:generate_possible_corrections:505 - Konnte Korrekturvorschlag '*' nicht erstellen: list index out of range\n",
      "[Reaktor]\n",
      "2025-05-10 10:04:14.431 | INFO     | pipeline.correction.correction2:generate_possible_corrections:524 - Konnte Korrekturvorschlag 'PLURAL_*' nicht erstellen: list index out of range\n"
     ]
    },
    {
     "name": "stderr",
     "output_type": "stream",
     "text": [
      "  5%|█▉                                      | 108/2265 [00:57<16:17,  2.21it/s]"
     ]
    },
    {
     "name": "stdout",
     "output_type": "stream",
     "text": [
      "[UN-Vertretern]\n",
      "2025-05-10 10:04:14.718 | INFO     | pipeline.correction.correction2:generate_possible_corrections:354 - Konnte Korrekturvorschlag '*' nicht erstellen: list index out of range\n",
      "[UN-Vertretern]\n",
      "2025-05-10 10:04:14.726 | INFO     | pipeline.correction.correction2:generate_possible_corrections:462 - Konnte Korrekturvorschlag 'BOTH_FORMS' nicht erstellen: list index out of range\n"
     ]
    },
    {
     "name": "stderr",
     "output_type": "stream",
     "text": [
      "  5%|█▉                                      | 109/2265 [00:57<14:41,  2.45it/s]"
     ]
    },
    {
     "name": "stdout",
     "output_type": "stream",
     "text": [
      "[Zentralrat]\n",
      "2025-05-10 10:04:14.989 | INFO     | pipeline.correction.correction2:generate_possible_corrections:505 - Konnte Korrekturvorschlag '*' nicht erstellen: list index out of range\n",
      "[Zentralrat]\n",
      "2025-05-10 10:04:14.998 | INFO     | pipeline.correction.correction2:generate_possible_corrections:524 - Konnte Korrekturvorschlag 'PLURAL_*' nicht erstellen: list index out of range\n",
      "[Zentralrat]\n",
      "2025-05-10 10:04:15.018 | INFO     | pipeline.correction.correction2:generate_possible_corrections:505 - Konnte Korrekturvorschlag '*' nicht erstellen: list index out of range\n",
      "[Zentralrat]\n",
      "2025-05-10 10:04:15.027 | INFO     | pipeline.correction.correction2:generate_possible_corrections:524 - Konnte Korrekturvorschlag 'PLURAL_*' nicht erstellen: list index out of range\n"
     ]
    },
    {
     "name": "stderr",
     "output_type": "stream",
     "text": [
      "  5%|█▉                                      | 113/2265 [00:59<13:13,  2.71it/s]"
     ]
    },
    {
     "name": "stdout",
     "output_type": "stream",
     "text": [
      "[Bundesrat]\n",
      "2025-05-10 10:04:16.358 | INFO     | pipeline.correction.correction2:generate_possible_corrections:505 - Konnte Korrekturvorschlag '*' nicht erstellen: list index out of range\n",
      "[Bundesrat]\n",
      "2025-05-10 10:04:16.364 | INFO     | pipeline.correction.correction2:generate_possible_corrections:524 - Konnte Korrekturvorschlag 'PLURAL_*' nicht erstellen: list index out of range\n"
     ]
    },
    {
     "name": "stderr",
     "output_type": "stream",
     "text": [
      "  5%|██                                      | 119/2265 [01:00<08:39,  4.13it/s]"
     ]
    },
    {
     "name": "stdout",
     "output_type": "stream",
     "text": [
      "[KP-Chef]\n",
      "2025-05-10 10:04:17.577 | INFO     | pipeline.correction.correction2:generate_possible_corrections:505 - Konnte Korrekturvorschlag '*' nicht erstellen: list index out of range\n",
      "[KP-Chef]\n",
      "2025-05-10 10:04:17.586 | INFO     | pipeline.correction.correction2:generate_possible_corrections:524 - Konnte Korrekturvorschlag 'PLURAL_*' nicht erstellen: list index out of range\n",
      "[seinen, KP-Führer]\n",
      "2025-05-10 10:04:17.697 | INFO     | pipeline.correction.correction2:generate_possible_corrections:505 - Konnte Korrekturvorschlag '*' nicht erstellen: list index out of range\n",
      "[seinen, KP-Führer]\n",
      "2025-05-10 10:04:17.705 | INFO     | pipeline.correction.correction2:generate_possible_corrections:524 - Konnte Korrekturvorschlag 'PLURAL_*' nicht erstellen: list index out of range\n"
     ]
    },
    {
     "name": "stderr",
     "output_type": "stream",
     "text": [
      "  6%|██▎                                     | 132/2265 [01:03<11:38,  3.05it/s]"
     ]
    },
    {
     "name": "stdout",
     "output_type": "stream",
     "text": [
      "[Wissenschaftsrat]\n",
      "2025-05-10 10:04:20.771 | INFO     | pipeline.correction.correction2:generate_possible_corrections:505 - Konnte Korrekturvorschlag '*' nicht erstellen: list index out of range\n",
      "[Wissenschaftsrat]\n",
      "2025-05-10 10:04:20.780 | INFO     | pipeline.correction.correction2:generate_possible_corrections:524 - Konnte Korrekturvorschlag 'PLURAL_*' nicht erstellen: list index out of range\n",
      "[Wissenschaftsrat]\n",
      "2025-05-10 10:04:20.794 | INFO     | pipeline.correction.correction2:generate_possible_corrections:505 - Konnte Korrekturvorschlag '*' nicht erstellen: list index out of range\n",
      "[Wissenschaftsrat]\n",
      "2025-05-10 10:04:20.802 | INFO     | pipeline.correction.correction2:generate_possible_corrections:524 - Konnte Korrekturvorschlag 'PLURAL_*' nicht erstellen: list index out of range\n"
     ]
    },
    {
     "name": "stderr",
     "output_type": "stream",
     "text": [
      "  7%|██▊                                     | 161/2265 [01:13<20:44,  1.69it/s]"
     ]
    },
    {
     "name": "stdout",
     "output_type": "stream",
     "text": [
      "[Wissenschaftsrat]\n",
      "2025-05-10 10:04:30.502 | INFO     | pipeline.correction.correction2:generate_possible_corrections:505 - Konnte Korrekturvorschlag '*' nicht erstellen: list index out of range\n",
      "[Wissenschaftsrat]\n",
      "2025-05-10 10:04:30.511 | INFO     | pipeline.correction.correction2:generate_possible_corrections:524 - Konnte Korrekturvorschlag 'PLURAL_*' nicht erstellen: list index out of range\n",
      "[Wissenschaftsrates]\n",
      "2025-05-10 10:04:30.542 | INFO     | pipeline.correction.correction2:generate_possible_corrections:505 - Konnte Korrekturvorschlag '*' nicht erstellen: list index out of range\n",
      "[Wissenschaftsrates]\n",
      "2025-05-10 10:04:30.550 | INFO     | pipeline.correction.correction2:generate_possible_corrections:524 - Konnte Korrekturvorschlag 'PLURAL_*' nicht erstellen: list index out of range\n",
      "[Wissenschaftsrat]\n",
      "2025-05-10 10:04:30.627 | INFO     | pipeline.correction.correction2:generate_possible_corrections:505 - Konnte Korrekturvorschlag '*' nicht erstellen: list index out of range\n",
      "[Wissenschaftsrat]\n",
      "2025-05-10 10:04:30.636 | INFO     | pipeline.correction.correction2:generate_possible_corrections:524 - Konnte Korrekturvorschlag 'PLURAL_*' nicht erstellen: list index out of range\n"
     ]
    },
    {
     "name": "stderr",
     "output_type": "stream",
     "text": [
      "  7%|██▉                                     | 165/2265 [01:15<17:30,  2.00it/s]"
     ]
    },
    {
     "name": "stdout",
     "output_type": "stream",
     "text": [
      "[Kasko-Kunden]\n",
      "2025-05-10 10:04:32.525 | INFO     | pipeline.correction.correction2:generate_possible_corrections:354 - Konnte Korrekturvorschlag '*' nicht erstellen: list index out of range\n",
      "[Kasko-Kunden]\n",
      "2025-05-10 10:04:32.533 | INFO     | pipeline.correction.correction2:generate_possible_corrections:462 - Konnte Korrekturvorschlag 'BOTH_FORMS' nicht erstellen: list index out of range\n"
     ]
    },
    {
     "name": "stderr",
     "output_type": "stream",
     "text": [
      "  7%|██▉                                     | 166/2265 [01:16<24:48,  1.41it/s]"
     ]
    },
    {
     "name": "stdout",
     "output_type": "stream",
     "text": [
      "[Ex-Terroristen]\n",
      "2025-05-10 10:04:33.680 | INFO     | pipeline.correction.correction2:generate_possible_corrections:354 - Konnte Korrekturvorschlag '*' nicht erstellen: list index out of range\n",
      "[Ex-Terroristen]\n",
      "2025-05-10 10:04:33.689 | INFO     | pipeline.correction.correction2:generate_possible_corrections:462 - Konnte Korrekturvorschlag 'BOTH_FORMS' nicht erstellen: list index out of range\n"
     ]
    },
    {
     "name": "stderr",
     "output_type": "stream",
     "text": [
      "  7%|██▉                                     | 169/2265 [01:18<21:37,  1.62it/s]"
     ]
    },
    {
     "name": "stdout",
     "output_type": "stream",
     "text": [
      "[Siemens-Chef]\n",
      "2025-05-10 10:04:36.390 | INFO     | pipeline.correction.correction2:generate_possible_corrections:505 - Konnte Korrekturvorschlag '*' nicht erstellen: list index out of range\n",
      "[Siemens-Chef]\n",
      "2025-05-10 10:04:36.399 | INFO     | pipeline.correction.correction2:generate_possible_corrections:524 - Konnte Korrekturvorschlag 'PLURAL_*' nicht erstellen: list index out of range\n"
     ]
    },
    {
     "name": "stderr",
     "output_type": "stream",
     "text": [
      "  8%|███                                     | 170/2265 [01:19<25:18,  1.38it/s]"
     ]
    },
    {
     "name": "stdout",
     "output_type": "stream",
     "text": [
      "[Reaktoren]\n",
      "2025-05-10 10:04:36.668 | INFO     | pipeline.correction.correction2:generate_possible_corrections:354 - Konnte Korrekturvorschlag '*' nicht erstellen: list index out of range\n",
      "[Reaktoren]\n",
      "2025-05-10 10:04:36.677 | INFO     | pipeline.correction.correction2:generate_possible_corrections:462 - Konnte Korrekturvorschlag 'BOTH_FORMS' nicht erstellen: list index out of range\n"
     ]
    },
    {
     "name": "stderr",
     "output_type": "stream",
     "text": [
      "  8%|███▏                                    | 184/2265 [01:25<14:53,  2.33it/s]"
     ]
    },
    {
     "name": "stdout",
     "output_type": "stream",
     "text": [
      "[G-7-Chefs]\n",
      "2025-05-10 10:04:42.228 | INFO     | pipeline.correction.correction2:generate_possible_corrections:354 - Konnte Korrekturvorschlag '*' nicht erstellen: list index out of range\n",
      "[G-7-Chefs]\n",
      "2025-05-10 10:04:42.236 | INFO     | pipeline.correction.correction2:generate_possible_corrections:462 - Konnte Korrekturvorschlag 'BOTH_FORMS' nicht erstellen: list index out of range\n"
     ]
    },
    {
     "name": "stderr",
     "output_type": "stream",
     "text": [
      "  9%|███▍                                    | 194/2265 [01:26<04:28,  7.70it/s]"
     ]
    },
    {
     "name": "stdout",
     "output_type": "stream",
     "text": [
      "[Brummi-Fahrer]\n",
      "2025-05-10 10:04:45.571 | INFO     | pipeline.correction.correction2:generate_possible_corrections:354 - Konnte Korrekturvorschlag '*' nicht erstellen: list index out of range\n",
      "[Brummi-Fahrer]\n",
      "2025-05-10 10:04:45.580 | INFO     | pipeline.correction.correction2:generate_possible_corrections:462 - Konnte Korrekturvorschlag 'BOTH_FORMS' nicht erstellen: list index out of range\n"
     ]
    },
    {
     "name": "stderr",
     "output_type": "stream",
     "text": [
      "  9%|███▌                                    | 204/2265 [01:32<15:03,  2.28it/s]"
     ]
    },
    {
     "name": "stdout",
     "output_type": "stream",
     "text": [
      "[Bundesrat]\n",
      "2025-05-10 10:04:50.014 | INFO     | pipeline.correction.correction2:generate_possible_corrections:505 - Konnte Korrekturvorschlag '*' nicht erstellen: list index out of range\n",
      "[Bundesrat]\n",
      "2025-05-10 10:04:50.020 | INFO     | pipeline.correction.correction2:generate_possible_corrections:524 - Konnte Korrekturvorschlag 'PLURAL_*' nicht erstellen: list index out of range\n"
     ]
    },
    {
     "name": "stderr",
     "output_type": "stream",
     "text": [
      "  9%|███▊                                    | 214/2265 [01:35<13:59,  2.44it/s]"
     ]
    },
    {
     "name": "stdout",
     "output_type": "stream",
     "text": [
      "[UN-Inspektoren]\n",
      "2025-05-10 10:04:52.801 | INFO     | pipeline.correction.correction2:generate_possible_corrections:354 - Konnte Korrekturvorschlag '*' nicht erstellen: list index out of range\n",
      "[UN-Inspektoren]\n",
      "2025-05-10 10:04:52.810 | INFO     | pipeline.correction.correction2:generate_possible_corrections:462 - Konnte Korrekturvorschlag 'BOTH_FORMS' nicht erstellen: list index out of range\n"
     ]
    },
    {
     "name": "stderr",
     "output_type": "stream",
     "text": [
      " 10%|███▊                                    | 218/2265 [01:36<07:59,  4.27it/s]"
     ]
    },
    {
     "name": "stdout",
     "output_type": "stream",
     "text": [
      "[Ältestenrat]\n",
      "2025-05-10 10:04:53.479 | INFO     | pipeline.correction.correction2:generate_possible_corrections:505 - Konnte Korrekturvorschlag '*' nicht erstellen: list index out of range\n",
      "[Ältestenrat]\n",
      "2025-05-10 10:04:53.487 | INFO     | pipeline.correction.correction2:generate_possible_corrections:524 - Konnte Korrekturvorschlag 'PLURAL_*' nicht erstellen: list index out of range\n",
      "[Ältestenrat]\n",
      "2025-05-10 10:04:53.516 | INFO     | pipeline.correction.correction2:generate_possible_corrections:505 - Konnte Korrekturvorschlag '*' nicht erstellen: list index out of range\n",
      "[Ältestenrat]\n",
      "2025-05-10 10:04:53.525 | INFO     | pipeline.correction.correction2:generate_possible_corrections:524 - Konnte Korrekturvorschlag 'PLURAL_*' nicht erstellen: list index out of range\n",
      "[Ältestenrat]\n",
      "2025-05-10 10:04:53.553 | INFO     | pipeline.correction.correction2:generate_possible_corrections:505 - Konnte Korrekturvorschlag '*' nicht erstellen: list index out of range\n",
      "[Ältestenrat]\n",
      "2025-05-10 10:04:53.561 | INFO     | pipeline.correction.correction2:generate_possible_corrections:524 - Konnte Korrekturvorschlag 'PLURAL_*' nicht erstellen: list index out of range\n"
     ]
    },
    {
     "name": "stderr",
     "output_type": "stream",
     "text": [
      " 10%|███▉                                    | 222/2265 [01:37<10:32,  3.23it/s]"
     ]
    },
    {
     "name": "stdout",
     "output_type": "stream",
     "text": [
      "[Boge-Aktionäre]\n",
      "2025-05-10 10:04:54.663 | INFO     | pipeline.correction.correction2:generate_possible_corrections:354 - Konnte Korrekturvorschlag '*' nicht erstellen: list index out of range\n",
      "[Boge-Aktionäre]\n",
      "2025-05-10 10:04:54.671 | INFO     | pipeline.correction.correction2:generate_possible_corrections:462 - Konnte Korrekturvorschlag 'BOTH_FORMS' nicht erstellen: list index out of range\n"
     ]
    },
    {
     "name": "stderr",
     "output_type": "stream",
     "text": [
      " 10%|████▏                                   | 237/2265 [01:40<05:35,  6.04it/s]"
     ]
    },
    {
     "name": "stdout",
     "output_type": "stream",
     "text": [
      "2025-05-10 10:04:57.699 | INFO     | pipeline.correction.verb.change_verb_form:change_verb_form:13 - lex_target_verb not found: hatt\n",
      "[Vorgänger, er]\n",
      "2025-05-10 10:04:57.699 | INFO     | pipeline.correction.correction2:generate_possible_corrections:524 - Konnte Korrekturvorschlag 'PLURAL_*' nicht erstellen: Das Verb konnte im Lexikon nicht gefunden werden: hatt\n",
      "2025-05-10 10:04:57.713 | INFO     | pipeline.correction.verb.change_verb_form:change_verb_form:13 - lex_target_verb not found: hatt\n",
      "[Vorgänger, er]\n",
      "2025-05-10 10:04:57.713 | INFO     | pipeline.correction.correction2:generate_possible_corrections:524 - Konnte Korrekturvorschlag 'PLURAL_*' nicht erstellen: Das Verb konnte im Lexikon nicht gefunden werden: hatt\n"
     ]
    },
    {
     "name": "stderr",
     "output_type": "stream",
     "text": [
      " 11%|████▏                                   | 239/2265 [01:41<07:54,  4.27it/s]"
     ]
    },
    {
     "name": "stdout",
     "output_type": "stream",
     "text": [
      "[Fachhochschulprofessors]\n",
      "2025-05-10 10:04:58.301 | INFO     | pipeline.correction.correction2:generate_possible_corrections:505 - Konnte Korrekturvorschlag '*' nicht erstellen: list index out of range\n",
      "[Fachhochschulprofessors]\n",
      "2025-05-10 10:04:58.307 | INFO     | pipeline.correction.correction2:generate_possible_corrections:524 - Konnte Korrekturvorschlag 'PLURAL_*' nicht erstellen: list index out of range\n"
     ]
    },
    {
     "name": "stderr",
     "output_type": "stream",
     "text": [
      " 11%|████▍                                   | 248/2265 [01:44<12:33,  2.68it/s]"
     ]
    },
    {
     "name": "stdout",
     "output_type": "stream",
     "text": [
      "[Taxifahrer]\n",
      "2025-05-10 10:05:01.184 | INFO     | pipeline.correction.correction2:generate_possible_corrections:354 - Konnte Korrekturvorschlag '*' nicht erstellen: list index out of range\n",
      "[Taxifahrer]\n",
      "2025-05-10 10:05:01.190 | INFO     | pipeline.correction.correction2:generate_possible_corrections:462 - Konnte Korrekturvorschlag 'BOTH_FORMS' nicht erstellen: list index out of range\n"
     ]
    },
    {
     "name": "stderr",
     "output_type": "stream",
     "text": [
      " 11%|████▍                                   | 251/2265 [01:45<13:30,  2.48it/s]"
     ]
    },
    {
     "name": "stdout",
     "output_type": "stream",
     "text": [
      "[Faktor]\n",
      "2025-05-10 10:05:02.397 | INFO     | pipeline.correction.correction2:generate_possible_corrections:505 - Konnte Korrekturvorschlag '*' nicht erstellen: list index out of range\n",
      "[Faktor]\n",
      "2025-05-10 10:05:02.406 | INFO     | pipeline.correction.correction2:generate_possible_corrections:524 - Konnte Korrekturvorschlag 'PLURAL_*' nicht erstellen: list index out of range\n"
     ]
    },
    {
     "name": "stderr",
     "output_type": "stream",
     "text": [
      " 11%|████▌                                   | 256/2265 [01:47<13:55,  2.40it/s]"
     ]
    },
    {
     "name": "stdout",
     "output_type": "stream",
     "text": [
      "[US-Minister, seine]\n",
      "2025-05-10 10:05:04.392 | INFO     | pipeline.correction.correction2:generate_possible_corrections:505 - Konnte Korrekturvorschlag '*' nicht erstellen: list index out of range\n",
      "[US-Minister, seine]\n",
      "2025-05-10 10:05:04.401 | INFO     | pipeline.correction.correction2:generate_possible_corrections:524 - Konnte Korrekturvorschlag 'PLURAL_*' nicht erstellen: list index out of range\n"
     ]
    },
    {
     "name": "stderr",
     "output_type": "stream",
     "text": [
      " 12%|████▊                                   | 270/2265 [01:50<08:12,  4.05it/s]"
     ]
    },
    {
     "name": "stdout",
     "output_type": "stream",
     "text": [
      "2025-05-10 10:05:07.702 | ERROR    | pipeline.full_pipeline:full_pipeline:38 - Fehler bei needs_to_be_gendered() für 'Kriegsherr': 'NN'\n",
      "2025-05-10 10:05:07.708 | ERROR    | pipeline.full_pipeline:full_pipeline:38 - Fehler bei needs_to_be_gendered() für 'einer': 'NoneType' object is not iterable\n",
      "2025-05-10 10:05:07.715 | ERROR    | pipeline.full_pipeline:full_pipeline:38 - Fehler bei needs_to_be_gendered() für 'Baumeister': 'NoneType' object is not iterable\n"
     ]
    },
    {
     "name": "stderr",
     "output_type": "stream",
     "text": [
      " 13%|█████                                   | 285/2265 [01:55<08:32,  3.87it/s]"
     ]
    },
    {
     "name": "stdout",
     "output_type": "stream",
     "text": [
      "[Scotland-Yard-Sprecher]\n",
      "2025-05-10 10:05:12.168 | INFO     | pipeline.correction.correction2:generate_possible_corrections:505 - Konnte Korrekturvorschlag '*' nicht erstellen: list index out of range\n",
      "[Scotland-Yard-Sprecher]\n",
      "2025-05-10 10:05:12.177 | INFO     | pipeline.correction.correction2:generate_possible_corrections:524 - Konnte Korrekturvorschlag 'PLURAL_*' nicht erstellen: list index out of range\n"
     ]
    },
    {
     "name": "stderr",
     "output_type": "stream",
     "text": [
      " 13%|█████                                   | 290/2265 [01:56<09:58,  3.30it/s]"
     ]
    },
    {
     "name": "stdout",
     "output_type": "stream",
     "text": [
      "2025-05-10 10:05:13.652 | ERROR    | pipeline.full_pipeline:full_pipeline:38 - Fehler bei needs_to_be_gendered() für 'Juden': 'NN'\n"
     ]
    },
    {
     "name": "stderr",
     "output_type": "stream",
     "text": [
      " 13%|█████▏                                  | 291/2265 [01:57<13:57,  2.36it/s]"
     ]
    },
    {
     "name": "stdout",
     "output_type": "stream",
     "text": [
      "[Student, seiner]\n",
      "2025-05-10 10:05:14.241 | INFO     | pipeline.correction.correction2:generate_possible_corrections:505 - Konnte Korrekturvorschlag '*' nicht erstellen: list index out of range\n",
      "[Student, seiner]\n",
      "2025-05-10 10:05:14.243 | INFO     | pipeline.correction.correction2:generate_possible_corrections:524 - Konnte Korrekturvorschlag 'PLURAL_*' nicht erstellen: list index out of range\n"
     ]
    },
    {
     "name": "stderr",
     "output_type": "stream",
     "text": [
      " 13%|█████▏                                  | 292/2265 [01:58<19:22,  1.70it/s]"
     ]
    },
    {
     "name": "stdout",
     "output_type": "stream",
     "text": [
      "2025-05-10 10:05:15.332 | INFO     | pipeline.correction.verb.change_verb_form:change_verb_form:13 - lex_target_verb not found: erfuhre\n",
      "[Freischärler, sie]\n",
      "2025-05-10 10:05:15.332 | INFO     | pipeline.correction.correction2:generate_possible_corrections:354 - Konnte Korrekturvorschlag '*' nicht erstellen: Das Verb konnte im Lexikon nicht gefunden werden: erfuhre\n",
      "2025-05-10 10:05:15.342 | INFO     | pipeline.correction.verb.change_verb_form:change_verb_form:13 - lex_target_verb not found: erfuhre\n",
      "[Freischärler, sie]\n",
      "2025-05-10 10:05:15.342 | INFO     | pipeline.correction.correction2:generate_possible_corrections:462 - Konnte Korrekturvorschlag 'BOTH_FORMS' nicht erstellen: Das Verb konnte im Lexikon nicht gefunden werden: erfuhre\n"
     ]
    },
    {
     "name": "stderr",
     "output_type": "stream",
     "text": [
      " 13%|█████▏                                  | 294/2265 [01:59<16:46,  1.96it/s]"
     ]
    },
    {
     "name": "stdout",
     "output_type": "stream",
     "text": [
      "[Vorbehalten]\n",
      "2025-05-10 10:05:16.286 | INFO     | pipeline.correction.correction2:generate_possible_corrections:354 - Konnte Korrekturvorschlag '*' nicht erstellen: list index out of range\n",
      "[Vorbehalten]\n",
      "2025-05-10 10:05:16.291 | INFO     | pipeline.correction.correction2:generate_possible_corrections:462 - Konnte Korrekturvorschlag 'BOTH_FORMS' nicht erstellen: list index out of range\n",
      "2025-05-10 10:05:17.179 | ERROR    | pipeline.full_pipeline:full_pipeline:38 - Fehler bei needs_to_be_gendered() für 'Demonstranten': 'NN'\n",
      "2025-05-10 10:05:17.374 | ERROR    | pipeline.full_pipeline:full_pipeline:38 - Fehler bei needs_to_be_gendered() für 'einen': 'NoneType' object is not iterable\n"
     ]
    },
    {
     "name": "stderr",
     "output_type": "stream",
     "text": [
      " 13%|█████▏                                  | 296/2265 [02:00<17:17,  1.90it/s]"
     ]
    },
    {
     "name": "stdout",
     "output_type": "stream",
     "text": [
      "2025-05-10 10:05:17.384 | ERROR    | pipeline.full_pipeline:full_pipeline:38 - Fehler bei needs_to_be_gendered() für 'Friedensstifter': 'NN'\n"
     ]
    },
    {
     "name": "stderr",
     "output_type": "stream",
     "text": [
      " 13%|█████▎                                  | 298/2265 [02:02<24:58,  1.31it/s]"
     ]
    },
    {
     "name": "stdout",
     "output_type": "stream",
     "text": [
      "[Heiligen]\n",
      "2025-05-10 10:05:19.087 | INFO     | pipeline.correction.correction2:generate_possible_corrections:354 - Konnte Korrekturvorschlag '*' nicht erstellen: list index out of range\n",
      "[Heiligen]\n",
      "2025-05-10 10:05:19.087 | INFO     | pipeline.correction.correction2:generate_possible_corrections:462 - Konnte Korrekturvorschlag 'BOTH_FORMS' nicht erstellen: list index out of range\n",
      "[Fremde]\n",
      "2025-05-10 10:05:19.100 | INFO     | pipeline.correction.correction2:generate_possible_corrections:354 - Konnte Korrekturvorschlag '*' nicht erstellen: list index out of range\n",
      "[Fremde]\n",
      "2025-05-10 10:05:19.100 | INFO     | pipeline.correction.correction2:generate_possible_corrections:462 - Konnte Korrekturvorschlag 'BOTH_FORMS' nicht erstellen: list index out of range\n"
     ]
    },
    {
     "name": "stderr",
     "output_type": "stream",
     "text": [
      " 13%|█████▎                                  | 300/2265 [02:03<23:34,  1.39it/s]"
     ]
    },
    {
     "name": "stdout",
     "output_type": "stream",
     "text": [
      "[Verwaltungsangestellten]\n",
      "2025-05-10 10:05:23.538 | INFO     | pipeline.correction.correction2:generate_possible_corrections:354 - Konnte Korrekturvorschlag '*' nicht erstellen: list index out of range\n",
      "[Verwaltungsangestellten]\n",
      "2025-05-10 10:05:23.538 | INFO     | pipeline.correction.correction2:generate_possible_corrections:462 - Konnte Korrekturvorschlag 'BOTH_FORMS' nicht erstellen: list index out of range\n"
     ]
    },
    {
     "name": "stderr",
     "output_type": "stream",
     "text": [
      " 13%|█████▎                                  | 302/2265 [02:08<48:31,  1.48s/it]"
     ]
    },
    {
     "name": "stdout",
     "output_type": "stream",
     "text": [
      "[Generatoren]\n",
      "2025-05-10 10:05:25.392 | INFO     | pipeline.correction.correction2:generate_possible_corrections:354 - Konnte Korrekturvorschlag '*' nicht erstellen: list index out of range\n",
      "[Generatoren]\n",
      "2025-05-10 10:05:25.401 | INFO     | pipeline.correction.correction2:generate_possible_corrections:462 - Konnte Korrekturvorschlag 'BOTH_FORMS' nicht erstellen: list index out of range\n"
     ]
    },
    {
     "name": "stderr",
     "output_type": "stream",
     "text": [
      " 13%|█████▍                                  | 305/2265 [02:09<25:53,  1.26it/s]"
     ]
    },
    {
     "name": "stdout",
     "output_type": "stream",
     "text": [
      "[Faktor]\n",
      "2025-05-10 10:05:29.754 | INFO     | pipeline.correction.correction2:generate_possible_corrections:505 - Konnte Korrekturvorschlag '*' nicht erstellen: list index out of range\n",
      "[Faktor]\n",
      "2025-05-10 10:05:29.763 | INFO     | pipeline.correction.correction2:generate_possible_corrections:524 - Konnte Korrekturvorschlag 'PLURAL_*' nicht erstellen: list index out of range\n",
      "2025-05-10 10:05:30.197 | ERROR    | pipeline.full_pipeline:full_pipeline:38 - Fehler bei needs_to_be_gendered() für 'Arbeitgeber': 'NN'\n"
     ]
    },
    {
     "name": "stderr",
     "output_type": "stream",
     "text": [
      " 14%|█████▍                                  | 307/2265 [02:14<47:34,  1.46s/it]"
     ]
    },
    {
     "name": "stdout",
     "output_type": "stream",
     "text": [
      "[Schulräte]\n",
      "2025-05-10 10:05:31.326 | INFO     | pipeline.correction.correction2:generate_possible_corrections:354 - Konnte Korrekturvorschlag '*' nicht erstellen: list index out of range\n",
      "[Schulräte]\n",
      "2025-05-10 10:05:31.332 | INFO     | pipeline.correction.correction2:generate_possible_corrections:462 - Konnte Korrekturvorschlag 'BOTH_FORMS' nicht erstellen: list index out of range\n",
      "[Schulräte]\n",
      "2025-05-10 10:05:31.364 | INFO     | pipeline.correction.correction2:generate_possible_corrections:354 - Konnte Korrekturvorschlag '*' nicht erstellen: list index out of range\n",
      "[Schulräte]\n",
      "2025-05-10 10:05:31.370 | INFO     | pipeline.correction.correction2:generate_possible_corrections:462 - Konnte Korrekturvorschlag 'BOTH_FORMS' nicht erstellen: list index out of range\n",
      "[Sektor]\n",
      "2025-05-10 10:05:31.393 | INFO     | pipeline.correction.correction2:generate_possible_corrections:505 - Konnte Korrekturvorschlag '*' nicht erstellen: list index out of range\n",
      "[Sektor]\n",
      "2025-05-10 10:05:31.402 | INFO     | pipeline.correction.correction2:generate_possible_corrections:524 - Konnte Korrekturvorschlag 'PLURAL_*' nicht erstellen: list index out of range\n"
     ]
    },
    {
     "name": "stderr",
     "output_type": "stream",
     "text": [
      " 14%|█████▍                                  | 310/2265 [02:15<26:07,  1.25it/s]"
     ]
    },
    {
     "name": "stdout",
     "output_type": "stream",
     "text": [
      "2025-05-10 10:05:35.348 | ERROR    | pipeline.full_pipeline:full_pipeline:38 - Fehler bei needs_to_be_gendered() für 'Sicherheitsfanatiker': Es darf nur ein Element mit dieser Beziehung geben. (blieb mit sb, war aber [verlor, Haudegen])\n"
     ]
    },
    {
     "name": "stderr",
     "output_type": "stream",
     "text": [
      " 14%|█████▌                                  | 312/2265 [02:19<38:29,  1.18s/it]"
     ]
    },
    {
     "name": "stdout",
     "output_type": "stream",
     "text": [
      "2025-05-10 10:05:37.721 | ERROR    | pipeline.full_pipeline:full_pipeline:38 - Fehler bei needs_to_be_gendered() für 'er': 'NoneType' object is not iterable\n",
      "2025-05-10 10:05:37.721 | ERROR    | pipeline.full_pipeline:full_pipeline:38 - Fehler bei needs_to_be_gendered() für 'Schauspieler': 'NN'\n",
      "2025-05-10 10:05:37.822 | ERROR    | pipeline.full_pipeline:full_pipeline:38 - Fehler bei needs_to_be_gendered() für 'Regisseur': 'NN'\n",
      "[Gerichtsreporters, seiner]\n",
      "2025-05-10 10:05:37.843 | INFO     | pipeline.correction.correction2:generate_possible_corrections:505 - Konnte Korrekturvorschlag '*' nicht erstellen: list index out of range\n",
      "[Gerichtsreporters, seiner]\n",
      "2025-05-10 10:05:37.844 | INFO     | pipeline.correction.correction2:generate_possible_corrections:524 - Konnte Korrekturvorschlag 'PLURAL_*' nicht erstellen: list index out of range\n"
     ]
    },
    {
     "name": "stderr",
     "output_type": "stream",
     "text": [
      " 14%|█████▌                                  | 314/2265 [02:21<32:11,  1.01it/s]"
     ]
    },
    {
     "name": "stdout",
     "output_type": "stream",
     "text": [
      "[Einlagenfabrikanten]\n",
      "2025-05-10 10:05:38.239 | INFO     | pipeline.correction.correction2:generate_possible_corrections:354 - Konnte Korrekturvorschlag '*' nicht erstellen: list index out of range\n",
      "[Einlagenfabrikanten]\n",
      "2025-05-10 10:05:38.249 | INFO     | pipeline.correction.correction2:generate_possible_corrections:462 - Konnte Korrekturvorschlag 'BOTH_FORMS' nicht erstellen: list index out of range\n"
     ]
    },
    {
     "name": "stderr",
     "output_type": "stream",
     "text": [
      " 14%|█████▌                                  | 316/2265 [02:21<22:20,  1.45it/s]"
     ]
    },
    {
     "name": "stdout",
     "output_type": "stream",
     "text": [
      "[Einlagenfabrikanten]\n",
      "2025-05-10 10:05:39.032 | INFO     | pipeline.correction.correction2:generate_possible_corrections:354 - Konnte Korrekturvorschlag '*' nicht erstellen: list index out of range\n",
      "[Einlagenfabrikanten]\n",
      "2025-05-10 10:05:39.041 | INFO     | pipeline.correction.correction2:generate_possible_corrections:462 - Konnte Korrekturvorschlag 'BOTH_FORMS' nicht erstellen: list index out of range\n"
     ]
    },
    {
     "name": "stderr",
     "output_type": "stream",
     "text": [
      " 14%|█████▋                                  | 320/2265 [02:24<23:19,  1.39it/s]"
     ]
    },
    {
     "name": "stdout",
     "output_type": "stream",
     "text": [
      "[CDU-Vorsitzende, sein]\n",
      "2025-05-10 10:05:41.648 | INFO     | pipeline.correction.correction2:generate_possible_corrections:505 - Konnte Korrekturvorschlag '*' nicht erstellen: list index out of range\n",
      "[CDU-Vorsitzende, sein]\n",
      "2025-05-10 10:05:41.648 | INFO     | pipeline.correction.correction2:generate_possible_corrections:524 - Konnte Korrekturvorschlag 'PLURAL_*' nicht erstellen: list index out of range\n"
     ]
    },
    {
     "name": "stderr",
     "output_type": "stream",
     "text": [
      " 14%|█████▋                                  | 322/2265 [02:25<20:53,  1.55it/s]"
     ]
    },
    {
     "name": "stdout",
     "output_type": "stream",
     "text": [
      "2025-05-10 10:05:44.527 | ERROR    | pipeline.full_pipeline:full_pipeline:38 - Fehler bei needs_to_be_gendered() für 'er': 'NoneType' object is not iterable\n",
      "2025-05-10 10:05:44.527 | ERROR    | pipeline.full_pipeline:full_pipeline:38 - Fehler bei needs_to_be_gendered() für 'Ministerpräsident': 'NN'\n",
      "2025-05-10 10:05:44.713 | ERROR    | pipeline.full_pipeline:full_pipeline:38 - Fehler bei needs_to_be_gendered() für 'Mörder': 'NN'\n",
      "[Verräter]\n",
      "2025-05-10 10:05:44.738 | INFO     | pipeline.correction.correction2:generate_possible_corrections:505 - Konnte Korrekturvorschlag '*' nicht erstellen: list index out of range\n",
      "[Verräter]\n",
      "2025-05-10 10:05:44.739 | INFO     | pipeline.correction.correction2:generate_possible_corrections:524 - Konnte Korrekturvorschlag 'PLURAL_*' nicht erstellen: list index out of range\n",
      "2025-05-10 10:05:44.832 | ERROR    | pipeline.full_pipeline:full_pipeline:38 - Fehler bei needs_to_be_gendered() für 'Chef': 'NN'\n",
      "2025-05-10 10:05:44.838 | ERROR    | pipeline.full_pipeline:full_pipeline:38 - Fehler bei needs_to_be_gendered() für 'einer': 'NoneType' object is not iterable\n",
      "2025-05-10 10:05:44.844 | ERROR    | pipeline.full_pipeline:full_pipeline:38 - Fehler bei needs_to_be_gendered() für 'Wortführer': 'NoneType' object is not iterable\n"
     ]
    },
    {
     "name": "stderr",
     "output_type": "stream",
     "text": [
      " 14%|█████▊                                  | 326/2265 [02:31<40:38,  1.26s/it]"
     ]
    },
    {
     "name": "stdout",
     "output_type": "stream",
     "text": [
      "[Bundesgenossen]\n",
      "2025-05-10 10:05:48.748 | INFO     | pipeline.correction.correction2:generate_possible_corrections:505 - Konnte Korrekturvorschlag '*' nicht erstellen: list index out of range\n",
      "[Bundesgenossen]\n",
      "2025-05-10 10:05:48.754 | INFO     | pipeline.correction.correction2:generate_possible_corrections:524 - Konnte Korrekturvorschlag 'PLURAL_*' nicht erstellen: list index out of range\n"
     ]
    },
    {
     "name": "stderr",
     "output_type": "stream",
     "text": [
      " 14%|█████▊                                  | 328/2265 [02:32<27:06,  1.19it/s]"
     ]
    },
    {
     "name": "stdout",
     "output_type": "stream",
     "text": [
      "[Ex-Minister]\n",
      "2025-05-10 10:05:49.622 | INFO     | pipeline.correction.correction2:generate_possible_corrections:505 - Konnte Korrekturvorschlag '*' nicht erstellen: list index out of range\n",
      "[Ex-Minister]\n",
      "2025-05-10 10:05:49.631 | INFO     | pipeline.correction.correction2:generate_possible_corrections:524 - Konnte Korrekturvorschlag 'PLURAL_*' nicht erstellen: list index out of range\n"
     ]
    },
    {
     "name": "stderr",
     "output_type": "stream",
     "text": [
      " 15%|██████                                  | 340/2265 [02:37<11:13,  2.86it/s]"
     ]
    },
    {
     "name": "stdout",
     "output_type": "stream",
     "text": [
      "[Berufskraftfahrer]\n",
      "2025-05-10 10:05:54.590 | INFO     | pipeline.correction.correction2:generate_possible_corrections:354 - Konnte Korrekturvorschlag '*' nicht erstellen: list index out of range\n",
      "[Berufskraftfahrer]\n",
      "2025-05-10 10:05:54.601 | INFO     | pipeline.correction.correction2:generate_possible_corrections:462 - Konnte Korrekturvorschlag 'BOTH_FORMS' nicht erstellen: list index out of range\n"
     ]
    },
    {
     "name": "stderr",
     "output_type": "stream",
     "text": [
      " 15%|██████▏                                 | 348/2265 [02:40<14:53,  2.15it/s]"
     ]
    },
    {
     "name": "stdout",
     "output_type": "stream",
     "text": [
      "2025-05-10 10:05:57.937 | ERROR    | pipeline.full_pipeline:full_pipeline:38 - Fehler bei needs_to_be_gendered() für 'Gott': 'NN'\n"
     ]
    },
    {
     "name": "stderr",
     "output_type": "stream",
     "text": [
      " 15%|██████▏                                 | 349/2265 [02:41<18:01,  1.77it/s]"
     ]
    },
    {
     "name": "stdout",
     "output_type": "stream",
     "text": [
      "[apo-E-4-Träger]\n",
      "2025-05-10 10:05:58.700 | INFO     | pipeline.correction.correction2:generate_possible_corrections:354 - Konnte Korrekturvorschlag '*' nicht erstellen: list index out of range\n",
      "[apo-E-4-Träger]\n",
      "2025-05-10 10:05:58.709 | INFO     | pipeline.correction.correction2:generate_possible_corrections:462 - Konnte Korrekturvorschlag 'BOTH_FORMS' nicht erstellen: list index out of range\n"
     ]
    },
    {
     "name": "stderr",
     "output_type": "stream",
     "text": [
      " 16%|██████▍                                 | 365/2265 [02:45<08:05,  3.91it/s]"
     ]
    },
    {
     "name": "stdout",
     "output_type": "stream",
     "text": [
      "[UN-Soldaten]\n",
      "2025-05-10 10:06:03.340 | INFO     | pipeline.correction.correction2:generate_possible_corrections:354 - Konnte Korrekturvorschlag '*' nicht erstellen: list index out of range\n",
      "[UN-Soldaten]\n",
      "2025-05-10 10:06:03.349 | INFO     | pipeline.correction.correction2:generate_possible_corrections:462 - Konnte Korrekturvorschlag 'BOTH_FORMS' nicht erstellen: list index out of range\n",
      "[UN-Sprecher]\n",
      "2025-05-10 10:06:03.414 | INFO     | pipeline.correction.correction2:generate_possible_corrections:505 - Konnte Korrekturvorschlag '*' nicht erstellen: list index out of range\n",
      "[UN-Sprecher]\n",
      "2025-05-10 10:06:03.423 | INFO     | pipeline.correction.correction2:generate_possible_corrections:524 - Konnte Korrekturvorschlag 'PLURAL_*' nicht erstellen: list index out of range\n",
      "[Sektoren]\n",
      "2025-05-10 10:06:03.519 | INFO     | pipeline.correction.correction2:generate_possible_corrections:354 - Konnte Korrekturvorschlag '*' nicht erstellen: list index out of range\n",
      "[Sektoren]\n",
      "2025-05-10 10:06:03.528 | INFO     | pipeline.correction.correction2:generate_possible_corrections:462 - Konnte Korrekturvorschlag 'BOTH_FORMS' nicht erstellen: list index out of range\n",
      "[Sektoren]\n",
      "2025-05-10 10:06:03.541 | INFO     | pipeline.correction.correction2:generate_possible_corrections:354 - Konnte Korrekturvorschlag '*' nicht erstellen: list index out of range\n"
     ]
    },
    {
     "name": "stderr",
     "output_type": "stream",
     "text": [
      " 16%|██████▍                                 | 367/2265 [02:46<10:21,  3.05it/s]"
     ]
    },
    {
     "name": "stdout",
     "output_type": "stream",
     "text": [
      "[Sektoren]\n",
      "2025-05-10 10:06:03.550 | INFO     | pipeline.correction.correction2:generate_possible_corrections:462 - Konnte Korrekturvorschlag 'BOTH_FORMS' nicht erstellen: list index out of range\n"
     ]
    },
    {
     "name": "stderr",
     "output_type": "stream",
     "text": [
      " 16%|██████▌                                 | 373/2265 [02:48<10:32,  2.99it/s]"
     ]
    },
    {
     "name": "stdout",
     "output_type": "stream",
     "text": [
      "2025-05-10 10:06:05.576 | ERROR    | pipeline.full_pipeline:full_pipeline:38 - Fehler bei needs_to_be_gendered() für 'einen': 'NoneType' object is not iterable\n",
      "2025-05-10 10:06:05.587 | ERROR    | pipeline.full_pipeline:full_pipeline:38 - Fehler bei needs_to_be_gendered() für 'Algerier': 'NN'\n"
     ]
    },
    {
     "name": "stderr",
     "output_type": "stream",
     "text": [
      " 17%|██████▌                                 | 374/2265 [02:48<11:33,  2.73it/s]"
     ]
    },
    {
     "name": "stdout",
     "output_type": "stream",
     "text": [
      "[UN-Soldaten]\n",
      "2025-05-10 10:06:05.887 | INFO     | pipeline.correction.correction2:generate_possible_corrections:354 - Konnte Korrekturvorschlag '*' nicht erstellen: list index out of range\n",
      "[UN-Soldaten]\n",
      "2025-05-10 10:06:05.895 | INFO     | pipeline.correction.correction2:generate_possible_corrections:462 - Konnte Korrekturvorschlag 'BOTH_FORMS' nicht erstellen: list index out of range\n",
      "[UN-Soldaten]\n",
      "2025-05-10 10:06:05.935 | INFO     | pipeline.correction.correction2:generate_possible_corrections:354 - Konnte Korrekturvorschlag '*' nicht erstellen: list index out of range\n",
      "[UN-Soldaten]\n",
      "2025-05-10 10:06:05.943 | INFO     | pipeline.correction.correction2:generate_possible_corrections:462 - Konnte Korrekturvorschlag 'BOTH_FORMS' nicht erstellen: list index out of range\n",
      "[Sektoren]\n",
      "2025-05-10 10:06:06.030 | INFO     | pipeline.correction.correction2:generate_possible_corrections:354 - Konnte Korrekturvorschlag '*' nicht erstellen: list index out of range\n",
      "[Sektoren]\n",
      "2025-05-10 10:06:06.039 | INFO     | pipeline.correction.correction2:generate_possible_corrections:462 - Konnte Korrekturvorschlag 'BOTH_FORMS' nicht erstellen: list index out of range\n",
      "[Sektoren]\n",
      "2025-05-10 10:06:06.052 | INFO     | pipeline.correction.correction2:generate_possible_corrections:354 - Konnte Korrekturvorschlag '*' nicht erstellen: list index out of range\n",
      "[Sektoren]\n",
      "2025-05-10 10:06:06.061 | INFO     | pipeline.correction.correction2:generate_possible_corrections:462 - Konnte Korrekturvorschlag 'BOTH_FORMS' nicht erstellen: list index out of range\n"
     ]
    },
    {
     "name": "stderr",
     "output_type": "stream",
     "text": [
      " 17%|██████▋                                 | 378/2265 [02:49<09:05,  3.46it/s]"
     ]
    },
    {
     "name": "stdout",
     "output_type": "stream",
     "text": [
      "[US-Bürger]\n",
      "2025-05-10 10:06:06.922 | INFO     | pipeline.correction.correction2:generate_possible_corrections:354 - Konnte Korrekturvorschlag '*' nicht erstellen: list index out of range\n",
      "[US-Bürger]\n",
      "2025-05-10 10:06:06.931 | INFO     | pipeline.correction.correction2:generate_possible_corrections:462 - Konnte Korrekturvorschlag 'BOTH_FORMS' nicht erstellen: list index out of range\n",
      "[US-Bürger]\n",
      "2025-05-10 10:06:06.943 | INFO     | pipeline.correction.correction2:generate_possible_corrections:354 - Konnte Korrekturvorschlag '*' nicht erstellen: list index out of range\n",
      "[US-Bürger]\n",
      "2025-05-10 10:06:06.952 | INFO     | pipeline.correction.correction2:generate_possible_corrections:462 - Konnte Korrekturvorschlag 'BOTH_FORMS' nicht erstellen: list index out of range\n"
     ]
    },
    {
     "name": "stderr",
     "output_type": "stream",
     "text": [
      " 17%|██████▊                                 | 384/2265 [02:51<07:53,  3.97it/s]"
     ]
    },
    {
     "name": "stdout",
     "output_type": "stream",
     "text": [
      "[Getränkedosenhersteller]\n",
      "2025-05-10 10:06:08.306 | INFO     | pipeline.correction.correction2:generate_possible_corrections:354 - Konnte Korrekturvorschlag '*' nicht erstellen: list index out of range\n",
      "[Getränkedosenhersteller]\n",
      "2025-05-10 10:06:08.316 | INFO     | pipeline.correction.correction2:generate_possible_corrections:462 - Konnte Korrekturvorschlag 'BOTH_FORMS' nicht erstellen: list index out of range\n"
     ]
    },
    {
     "name": "stderr",
     "output_type": "stream",
     "text": [
      " 17%|██████▊                                 | 385/2265 [02:51<09:00,  3.48it/s]"
     ]
    },
    {
     "name": "stdout",
     "output_type": "stream",
     "text": [
      "[Aufsichtsrat]\n",
      "2025-05-10 10:06:08.555 | INFO     | pipeline.correction.correction2:generate_possible_corrections:505 - Konnte Korrekturvorschlag '*' nicht erstellen: list index out of range\n",
      "[Aufsichtsrat]\n",
      "2025-05-10 10:06:08.563 | INFO     | pipeline.correction.correction2:generate_possible_corrections:524 - Konnte Korrekturvorschlag 'PLURAL_*' nicht erstellen: list index out of range\n",
      "[Oberfranke]\n",
      "2025-05-10 10:06:08.659 | INFO     | pipeline.correction.correction2:generate_possible_corrections:505 - Konnte Korrekturvorschlag '*' nicht erstellen: list index out of range\n",
      "[Oberfranke]\n",
      "2025-05-10 10:06:08.669 | INFO     | pipeline.correction.correction2:generate_possible_corrections:524 - Konnte Korrekturvorschlag 'PLURAL_*' nicht erstellen: list index out of range\n"
     ]
    },
    {
     "name": "stderr",
     "output_type": "stream",
     "text": [
      " 17%|██████▊                                 | 388/2265 [02:52<12:43,  2.46it/s]"
     ]
    },
    {
     "name": "stdout",
     "output_type": "stream",
     "text": [
      "[Arbeitnehmern]\n",
      "2025-05-10 10:06:09.806 | INFO     | pipeline.correction.correction2:generate_possible_corrections:462 - Konnte Korrekturvorschlag 'BOTH_FORMS' nicht erstellen: Es darf nur ein Element mit dieser Beziehung geben. (Arbeitnehmern mit cd, war aber [sowohl, als])\n"
     ]
    },
    {
     "name": "stderr",
     "output_type": "stream",
     "text": [
      " 17%|██████▉                                 | 392/2265 [02:58<35:31,  1.14s/it]"
     ]
    },
    {
     "name": "stdout",
     "output_type": "stream",
     "text": [
      "[Verrat]\n",
      "2025-05-10 10:06:19.071 | INFO     | pipeline.correction.correction2:generate_possible_corrections:505 - Konnte Korrekturvorschlag '*' nicht erstellen: list index out of range\n",
      "[Verrat]\n",
      "2025-05-10 10:06:19.080 | INFO     | pipeline.correction.correction2:generate_possible_corrections:524 - Konnte Korrekturvorschlag 'PLURAL_*' nicht erstellen: list index out of range\n"
     ]
    },
    {
     "name": "stderr",
     "output_type": "stream",
     "text": [
      " 17%|██████▉                                 | 395/2265 [03:03<41:13,  1.32s/it]"
     ]
    },
    {
     "name": "stdout",
     "output_type": "stream",
     "text": [
      "[Anlagenbauer]\n",
      "2025-05-10 10:06:21.987 | INFO     | pipeline.correction.correction2:generate_possible_corrections:354 - Konnte Korrekturvorschlag '*' nicht erstellen: list index out of range\n",
      "[Anlagenbauer]\n",
      "2025-05-10 10:06:21.994 | INFO     | pipeline.correction.correction2:generate_possible_corrections:462 - Konnte Korrekturvorschlag 'BOTH_FORMS' nicht erstellen: list index out of range\n",
      "[Anlagenbauer, sie]\n",
      "2025-05-10 10:06:22.122 | INFO     | pipeline.correction.correction2:generate_possible_corrections:354 - Konnte Korrekturvorschlag '*' nicht erstellen: list index out of range\n",
      "[Anlagenbauer, sie]\n",
      "2025-05-10 10:06:22.127 | INFO     | pipeline.correction.correction2:generate_possible_corrections:462 - Konnte Korrekturvorschlag 'BOTH_FORMS' nicht erstellen: list index out of range\n"
     ]
    },
    {
     "name": "stderr",
     "output_type": "stream",
     "text": [
      " 18%|███████                                 | 402/2265 [03:11<34:29,  1.11s/it]"
     ]
    },
    {
     "name": "stdout",
     "output_type": "stream",
     "text": [
      "[CDU-Wähler]\n",
      "2025-05-10 10:06:28.650 | INFO     | pipeline.correction.correction2:generate_possible_corrections:354 - Konnte Korrekturvorschlag '*' nicht erstellen: list index out of range\n",
      "[CDU-Wähler]\n",
      "2025-05-10 10:06:28.659 | INFO     | pipeline.correction.correction2:generate_possible_corrections:462 - Konnte Korrekturvorschlag 'BOTH_FORMS' nicht erstellen: list index out of range\n",
      "[Inhalte]\n",
      "2025-05-10 10:06:32.413 | INFO     | pipeline.correction.correction2:generate_possible_corrections:354 - Konnte Korrekturvorschlag '*' nicht erstellen: list index out of range\n",
      "[Inhalte]\n",
      "2025-05-10 10:06:32.419 | INFO     | pipeline.correction.correction2:generate_possible_corrections:462 - Konnte Korrekturvorschlag 'BOTH_FORMS' nicht erstellen: list index out of range\n"
     ]
    },
    {
     "name": "stderr",
     "output_type": "stream",
     "text": [
      " 18%|███████▏                                | 404/2265 [03:16<49:17,  1.59s/it]"
     ]
    },
    {
     "name": "stdout",
     "output_type": "stream",
     "text": [
      "[CDU-Wähler]\n",
      "2025-05-10 10:06:33.278 | INFO     | pipeline.correction.correction2:generate_possible_corrections:354 - Konnte Korrekturvorschlag '*' nicht erstellen: list index out of range\n",
      "[CDU-Wähler]\n",
      "2025-05-10 10:06:33.287 | INFO     | pipeline.correction.correction2:generate_possible_corrections:462 - Konnte Korrekturvorschlag 'BOTH_FORMS' nicht erstellen: list index out of range\n"
     ]
    },
    {
     "name": "stderr",
     "output_type": "stream",
     "text": [
      " 18%|███████▏                                | 408/2265 [03:19<33:05,  1.07s/it]"
     ]
    },
    {
     "name": "stdout",
     "output_type": "stream",
     "text": [
      "[Festspielintendant]\n",
      "2025-05-10 10:06:36.829 | INFO     | pipeline.correction.correction2:generate_possible_corrections:505 - Konnte Korrekturvorschlag '*' nicht erstellen: list index out of range\n",
      "[Festspielintendant]\n",
      "2025-05-10 10:06:36.835 | INFO     | pipeline.correction.correction2:generate_possible_corrections:524 - Konnte Korrekturvorschlag 'PLURAL_*' nicht erstellen: list index out of range\n"
     ]
    },
    {
     "name": "stderr",
     "output_type": "stream",
     "text": [
      " 18%|███████▎                                | 413/2265 [03:21<14:37,  2.11it/s]"
     ]
    },
    {
     "name": "stdout",
     "output_type": "stream",
     "text": [
      "[Consors-Kunde]\n",
      "2025-05-10 10:06:38.649 | INFO     | pipeline.correction.correction2:generate_possible_corrections:505 - Konnte Korrekturvorschlag '*' nicht erstellen: list index out of range\n",
      "[Consors-Kunde]\n",
      "2025-05-10 10:06:38.657 | INFO     | pipeline.correction.correction2:generate_possible_corrections:524 - Konnte Korrekturvorschlag 'PLURAL_*' nicht erstellen: list index out of range\n",
      "[Aufsichtsrat]\n",
      "2025-05-10 10:06:38.953 | INFO     | pipeline.correction.correction2:generate_possible_corrections:505 - Konnte Korrekturvorschlag '*' nicht erstellen: list index out of range\n",
      "[Aufsichtsrat]\n",
      "2025-05-10 10:06:38.961 | INFO     | pipeline.correction.correction2:generate_possible_corrections:524 - Konnte Korrekturvorschlag 'PLURAL_*' nicht erstellen: list index out of range\n",
      "[Oberfranke, seinen]\n",
      "2025-05-10 10:06:38.993 | INFO     | pipeline.correction.correction2:generate_possible_corrections:505 - Konnte Korrekturvorschlag '*' nicht erstellen: list index out of range\n",
      "[Oberfranke, seinen]\n",
      "2025-05-10 10:06:39.002 | INFO     | pipeline.correction.correction2:generate_possible_corrections:524 - Konnte Korrekturvorschlag 'PLURAL_*' nicht erstellen: list index out of range\n"
     ]
    },
    {
     "name": "stderr",
     "output_type": "stream",
     "text": [
      " 18%|███████▎                                | 414/2265 [03:21<14:45,  2.09it/s]"
     ]
    },
    {
     "name": "stdout",
     "output_type": "stream",
     "text": [
      "[SLD-Führer]\n",
      "2025-05-10 10:06:40.068 | INFO     | pipeline.correction.correction2:generate_possible_corrections:505 - Konnte Korrekturvorschlag '*' nicht erstellen: list index out of range\n",
      "[SLD-Führer]\n",
      "2025-05-10 10:06:40.076 | INFO     | pipeline.correction.correction2:generate_possible_corrections:524 - Konnte Korrekturvorschlag 'PLURAL_*' nicht erstellen: list index out of range\n"
     ]
    },
    {
     "name": "stderr",
     "output_type": "stream",
     "text": [
      " 18%|███████▍                                | 419/2265 [03:25<18:39,  1.65it/s]"
     ]
    },
    {
     "name": "stdout",
     "output_type": "stream",
     "text": [
      "[Lebensmittelwächter]\n",
      "2025-05-10 10:06:42.134 | INFO     | pipeline.correction.correction2:generate_possible_corrections:354 - Konnte Korrekturvorschlag '*' nicht erstellen: list index out of range\n",
      "[Lebensmittelwächter]\n",
      "2025-05-10 10:06:42.143 | INFO     | pipeline.correction.correction2:generate_possible_corrections:462 - Konnte Korrekturvorschlag 'BOTH_FORMS' nicht erstellen: list index out of range\n"
     ]
    },
    {
     "name": "stderr",
     "output_type": "stream",
     "text": [
      " 19%|███████▍                                | 422/2265 [03:26<17:43,  1.73it/s]"
     ]
    },
    {
     "name": "stdout",
     "output_type": "stream",
     "text": [
      "[Aufsichtsrat]\n",
      "2025-05-10 10:06:44.100 | INFO     | pipeline.correction.correction2:generate_possible_corrections:505 - Konnte Korrekturvorschlag '*' nicht erstellen: list index out of range\n",
      "[Aufsichtsrat]\n",
      "2025-05-10 10:06:44.109 | INFO     | pipeline.correction.correction2:generate_possible_corrections:524 - Konnte Korrekturvorschlag 'PLURAL_*' nicht erstellen: list index out of range\n"
     ]
    },
    {
     "name": "stderr",
     "output_type": "stream",
     "text": [
      " 19%|███████▌                                | 425/2265 [03:28<12:19,  2.49it/s]"
     ]
    },
    {
     "name": "stdout",
     "output_type": "stream",
     "text": [
      "2025-05-10 10:06:45.191 | ERROR    | pipeline.full_pipeline:full_pipeline:38 - Fehler bei needs_to_be_gendered() für 'Begleiter': 'NN'\n"
     ]
    },
    {
     "name": "stderr",
     "output_type": "stream",
     "text": [
      " 19%|███████▌                                | 426/2265 [03:30<30:46,  1.00s/it]"
     ]
    },
    {
     "name": "stdout",
     "output_type": "stream",
     "text": [
      "[Beste]\n",
      "2025-05-10 10:06:47.581 | INFO     | pipeline.correction.correction2:generate_possible_corrections:505 - Konnte Korrekturvorschlag '*' nicht erstellen: list index out of range\n",
      "[Beste]\n",
      "2025-05-10 10:06:47.586 | INFO     | pipeline.correction.correction2:generate_possible_corrections:524 - Konnte Korrekturvorschlag 'PLURAL_*' nicht erstellen: list index out of range\n"
     ]
    },
    {
     "name": "stderr",
     "output_type": "stream",
     "text": [
      " 19%|███████▌                                | 429/2265 [03:31<16:39,  1.84it/s]"
     ]
    },
    {
     "name": "stdout",
     "output_type": "stream",
     "text": [
      "[Ex-Jugoslawen]\n",
      "2025-05-10 10:06:48.330 | INFO     | pipeline.correction.correction2:generate_possible_corrections:354 - Konnte Korrekturvorschlag '*' nicht erstellen: list index out of range\n",
      "[Ex-Jugoslawen]\n",
      "2025-05-10 10:06:48.340 | INFO     | pipeline.correction.correction2:generate_possible_corrections:462 - Konnte Korrekturvorschlag 'BOTH_FORMS' nicht erstellen: list index out of range\n"
     ]
    },
    {
     "name": "stderr",
     "output_type": "stream",
     "text": [
      " 19%|███████▌                                | 430/2265 [03:31<15:29,  1.97it/s]"
     ]
    },
    {
     "name": "stdout",
     "output_type": "stream",
     "text": [
      "[Ex-Kommunisten]\n",
      "2025-05-10 10:06:48.788 | INFO     | pipeline.correction.correction2:generate_possible_corrections:354 - Konnte Korrekturvorschlag '*' nicht erstellen: list index out of range\n",
      "[Ex-Kommunisten]\n",
      "2025-05-10 10:06:48.797 | INFO     | pipeline.correction.correction2:generate_possible_corrections:462 - Konnte Korrekturvorschlag 'BOTH_FORMS' nicht erstellen: list index out of range\n"
     ]
    },
    {
     "name": "stderr",
     "output_type": "stream",
     "text": [
      " 19%|███████▌                                | 431/2265 [03:31<13:40,  2.24it/s]"
     ]
    },
    {
     "name": "stdout",
     "output_type": "stream",
     "text": [
      "[Ex-Kommunisten]\n",
      "2025-05-10 10:06:49.056 | INFO     | pipeline.correction.correction2:generate_possible_corrections:354 - Konnte Korrekturvorschlag '*' nicht erstellen: list index out of range\n",
      "[Ex-Kommunisten]\n",
      "2025-05-10 10:06:49.065 | INFO     | pipeline.correction.correction2:generate_possible_corrections:462 - Konnte Korrekturvorschlag 'BOTH_FORMS' nicht erstellen: list index out of range\n"
     ]
    },
    {
     "name": "stderr",
     "output_type": "stream",
     "text": [
      " 19%|███████▊                                | 440/2265 [03:36<09:16,  3.28it/s]"
     ]
    },
    {
     "name": "stdout",
     "output_type": "stream",
     "text": [
      "[Lebensmittelwächter]\n",
      "2025-05-10 10:06:53.510 | INFO     | pipeline.correction.correction2:generate_possible_corrections:354 - Konnte Korrekturvorschlag '*' nicht erstellen: list index out of range\n",
      "[Lebensmittelwächter]\n",
      "2025-05-10 10:06:53.519 | INFO     | pipeline.correction.correction2:generate_possible_corrections:462 - Konnte Korrekturvorschlag 'BOTH_FORMS' nicht erstellen: list index out of range\n",
      "[Ex-Präsidenten]\n",
      "2025-05-10 10:06:54.871 | INFO     | pipeline.correction.correction2:generate_possible_corrections:354 - Konnte Korrekturvorschlag '*' nicht erstellen: list index out of range\n",
      "[Ex-Präsidenten]\n",
      "2025-05-10 10:06:54.880 | INFO     | pipeline.correction.correction2:generate_possible_corrections:462 - Konnte Korrekturvorschlag 'BOTH_FORMS' nicht erstellen: list index out of range\n",
      "[AA-Chef]\n",
      "2025-05-10 10:06:54.936 | INFO     | pipeline.correction.correction2:generate_possible_corrections:505 - Konnte Korrekturvorschlag '*' nicht erstellen: list index out of range\n",
      "[AA-Chef]\n",
      "2025-05-10 10:06:54.945 | INFO     | pipeline.correction.correction2:generate_possible_corrections:524 - Konnte Korrekturvorschlag 'PLURAL_*' nicht erstellen: list index out of range\n"
     ]
    },
    {
     "name": "stderr",
     "output_type": "stream",
     "text": [
      " 20%|███████▉                                | 448/2265 [03:43<20:52,  1.45it/s]"
     ]
    },
    {
     "name": "stdout",
     "output_type": "stream",
     "text": [
      "[Bundesrat]\n",
      "2025-05-10 10:07:00.239 | INFO     | pipeline.correction.correction2:generate_possible_corrections:505 - Konnte Korrekturvorschlag '*' nicht erstellen: list index out of range\n",
      "[Bundesrat]\n",
      "2025-05-10 10:07:00.245 | INFO     | pipeline.correction.correction2:generate_possible_corrections:524 - Konnte Korrekturvorschlag 'PLURAL_*' nicht erstellen: list index out of range\n"
     ]
    },
    {
     "name": "stderr",
     "output_type": "stream",
     "text": [
      " 20%|███████▉                                | 451/2265 [03:44<13:26,  2.25it/s]"
     ]
    },
    {
     "name": "stdout",
     "output_type": "stream",
     "text": [
      "[UN-Beobachtern]\n",
      "2025-05-10 10:07:01.159 | INFO     | pipeline.correction.correction2:generate_possible_corrections:354 - Konnte Korrekturvorschlag '*' nicht erstellen: list index out of range\n",
      "[UN-Beobachtern]\n",
      "2025-05-10 10:07:01.168 | INFO     | pipeline.correction.correction2:generate_possible_corrections:462 - Konnte Korrekturvorschlag 'BOTH_FORMS' nicht erstellen: list index out of range\n"
     ]
    },
    {
     "name": "stderr",
     "output_type": "stream",
     "text": [
      " 20%|███████▉                                | 452/2265 [03:44<11:56,  2.53it/s]"
     ]
    },
    {
     "name": "stdout",
     "output_type": "stream",
     "text": [
      "[Ex-Professoren]\n",
      "2025-05-10 10:07:01.414 | INFO     | pipeline.correction.correction2:generate_possible_corrections:354 - Konnte Korrekturvorschlag '*' nicht erstellen: list index out of range\n",
      "[Ex-Professoren]\n",
      "2025-05-10 10:07:01.423 | INFO     | pipeline.correction.correction2:generate_possible_corrections:462 - Konnte Korrekturvorschlag 'BOTH_FORMS' nicht erstellen: list index out of range\n"
     ]
    },
    {
     "name": "stderr",
     "output_type": "stream",
     "text": [
      " 20%|████████                                | 459/2265 [03:47<17:11,  1.75it/s]"
     ]
    },
    {
     "name": "stdout",
     "output_type": "stream",
     "text": [
      "[Gefreiten]\n",
      "2025-05-10 10:07:04.355 | INFO     | pipeline.correction.correction2:generate_possible_corrections:505 - Konnte Korrekturvorschlag '*' nicht erstellen: list index out of range\n",
      "[Gefreiten]\n",
      "2025-05-10 10:07:04.356 | INFO     | pipeline.correction.correction2:generate_possible_corrections:524 - Konnte Korrekturvorschlag 'PLURAL_*' nicht erstellen: list index out of range\n"
     ]
    },
    {
     "name": "stderr",
     "output_type": "stream",
     "text": [
      " 20%|████████▏                               | 461/2265 [03:48<21:45,  1.38it/s]"
     ]
    },
    {
     "name": "stdout",
     "output_type": "stream",
     "text": [
      "[Verrat]\n",
      "2025-05-10 10:07:06.062 | INFO     | pipeline.correction.correction2:generate_possible_corrections:505 - Konnte Korrekturvorschlag '*' nicht erstellen: list index out of range\n",
      "[Verrat]\n",
      "2025-05-10 10:07:06.071 | INFO     | pipeline.correction.correction2:generate_possible_corrections:524 - Konnte Korrekturvorschlag 'PLURAL_*' nicht erstellen: list index out of range\n",
      "[Ex-Chef, sich]\n",
      "2025-05-10 10:07:06.110 | INFO     | pipeline.correction.correction2:generate_possible_corrections:505 - Konnte Korrekturvorschlag '*' nicht erstellen: list index out of range\n",
      "[Ex-Chef, sich]\n",
      "2025-05-10 10:07:06.119 | INFO     | pipeline.correction.correction2:generate_possible_corrections:524 - Konnte Korrekturvorschlag 'PLURAL_*' nicht erstellen: list index out of range\n"
     ]
    },
    {
     "name": "stderr",
     "output_type": "stream",
     "text": [
      " 22%|████████▊                               | 496/2265 [04:10<42:32,  1.44s/it]"
     ]
    },
    {
     "name": "stdout",
     "output_type": "stream",
     "text": [
      "[Gesangsmime, seinen]\n",
      "2025-05-10 10:07:27.330 | INFO     | pipeline.correction.correction2:generate_possible_corrections:354 - Konnte Korrekturvorschlag '*' nicht erstellen: list index out of range\n",
      "[Gesangsmime, seinen]\n",
      "2025-05-10 10:07:27.338 | INFO     | pipeline.correction.correction2:generate_possible_corrections:462 - Konnte Korrekturvorschlag 'BOTH_FORMS' nicht erstellen: list index out of range\n"
     ]
    },
    {
     "name": "stderr",
     "output_type": "stream",
     "text": [
      " 22%|████████▊                               | 498/2265 [04:11<29:10,  1.01it/s]"
     ]
    },
    {
     "name": "stdout",
     "output_type": "stream",
     "text": [
      "2025-05-10 10:07:30.413 | ERROR    | pipeline.full_pipeline:full_pipeline:38 - Fehler bei needs_to_be_gendered() für 'ihm': 'NoneType' object is not iterable\n",
      "2025-05-10 10:07:30.414 | ERROR    | pipeline.full_pipeline:full_pipeline:38 - Fehler bei needs_to_be_gendered() für 'Geschäftsführer': 'NN'\n"
     ]
    },
    {
     "name": "stderr",
     "output_type": "stream",
     "text": [
      " 22%|████████▊                               | 501/2265 [04:14<25:24,  1.16it/s]"
     ]
    },
    {
     "name": "stdout",
     "output_type": "stream",
     "text": [
      "[Flugzeugbauer]\n",
      "2025-05-10 10:07:31.418 | INFO     | pipeline.correction.correction2:generate_possible_corrections:505 - Konnte Korrekturvorschlag '*' nicht erstellen: list index out of range\n",
      "[Flugzeugbauer]\n",
      "2025-05-10 10:07:31.427 | INFO     | pipeline.correction.correction2:generate_possible_corrections:524 - Konnte Korrekturvorschlag 'PLURAL_*' nicht erstellen: list index out of range\n"
     ]
    },
    {
     "name": "stderr",
     "output_type": "stream",
     "text": [
      " 22%|████████▉                               | 503/2265 [04:15<22:21,  1.31it/s]"
     ]
    },
    {
     "name": "stdout",
     "output_type": "stream",
     "text": [
      "[Aufsichtsrat]\n",
      "2025-05-10 10:07:32.767 | INFO     | pipeline.correction.correction2:generate_possible_corrections:505 - Konnte Korrekturvorschlag '*' nicht erstellen: list index out of range\n",
      "[Aufsichtsrat]\n",
      "2025-05-10 10:07:32.776 | INFO     | pipeline.correction.correction2:generate_possible_corrections:524 - Konnte Korrekturvorschlag 'PLURAL_*' nicht erstellen: list index out of range\n"
     ]
    },
    {
     "name": "stderr",
     "output_type": "stream",
     "text": [
      " 22%|████████▉                               | 505/2265 [04:18<28:51,  1.02it/s]"
     ]
    },
    {
     "name": "stdout",
     "output_type": "stream",
     "text": [
      "2025-05-10 10:07:35.333 | ERROR    | pipeline.full_pipeline:full_pipeline:38 - Fehler bei needs_to_be_gendered() für 'Soldaten': 'NoneType' object is not iterable\n",
      "2025-05-10 10:07:35.340 | ERROR    | pipeline.full_pipeline:full_pipeline:38 - Fehler bei needs_to_be_gendered() für 'Mörder': 'NoneType' object is not iterable\n",
      "2025-05-10 10:07:35.340 | ERROR    | pipeline.full_pipeline:full_pipeline:38 - Fehler bei needs_to_be_gendered() für 'Soldaten': 'NN'\n"
     ]
    },
    {
     "name": "stderr",
     "output_type": "stream",
     "text": [
      " 23%|█████████                               | 514/2265 [04:22<16:29,  1.77it/s]"
     ]
    },
    {
     "name": "stdout",
     "output_type": "stream",
     "text": [
      "[sich, Politiker]\n",
      "2025-05-10 10:07:40.106 | INFO     | pipeline.correction.correction2:generate_possible_corrections:462 - Konnte Korrekturvorschlag 'BOTH_FORMS' nicht erstellen: Es darf nur ein Element mit dieser Beziehung geben. (Politiker mit cd, war aber [weder, noch])\n"
     ]
    },
    {
     "name": "stderr",
     "output_type": "stream",
     "text": [
      " 23%|█████████▏                              | 523/2265 [04:27<13:44,  2.11it/s]"
     ]
    },
    {
     "name": "stdout",
     "output_type": "stream",
     "text": [
      "[Anlagenbauer, ihr]\n",
      "2025-05-10 10:07:44.281 | INFO     | pipeline.correction.correction2:generate_possible_corrections:354 - Konnte Korrekturvorschlag '*' nicht erstellen: list index out of range\n",
      "[Anlagenbauer, ihr]\n",
      "2025-05-10 10:07:44.286 | INFO     | pipeline.correction.correction2:generate_possible_corrections:462 - Konnte Korrekturvorschlag 'BOTH_FORMS' nicht erstellen: list index out of range\n"
     ]
    },
    {
     "name": "stderr",
     "output_type": "stream",
     "text": [
      " 23%|█████████▎                              | 528/2265 [04:30<15:34,  1.86it/s]"
     ]
    },
    {
     "name": "stdout",
     "output_type": "stream",
     "text": [
      "[Stabilitätsrat]\n",
      "2025-05-10 10:07:47.159 | INFO     | pipeline.correction.correction2:generate_possible_corrections:505 - Konnte Korrekturvorschlag '*' nicht erstellen: list index out of range\n",
      "[Stabilitätsrat]\n",
      "2025-05-10 10:07:47.168 | INFO     | pipeline.correction.correction2:generate_possible_corrections:524 - Konnte Korrekturvorschlag 'PLURAL_*' nicht erstellen: list index out of range\n"
     ]
    },
    {
     "name": "stderr",
     "output_type": "stream",
     "text": [
      " 23%|█████████▍                              | 531/2265 [04:31<11:58,  2.41it/s]"
     ]
    },
    {
     "name": "stdout",
     "output_type": "stream",
     "text": [
      "2025-05-10 10:07:48.328 | INFO     | pipeline.correction.verb.change_verb_form:change_verb_form:13 - lex_target_verb not found: herausführe\n",
      "[Taktiker]\n",
      "2025-05-10 10:07:48.328 | INFO     | pipeline.correction.correction2:generate_possible_corrections:524 - Konnte Korrekturvorschlag 'PLURAL_*' nicht erstellen: Das Verb konnte im Lexikon nicht gefunden werden: herausführe\n"
     ]
    },
    {
     "name": "stderr",
     "output_type": "stream",
     "text": [
      " 24%|█████████▍                              | 534/2265 [04:32<10:08,  2.85it/s]"
     ]
    },
    {
     "name": "stdout",
     "output_type": "stream",
     "text": [
      "2025-05-10 10:07:49.105 | ERROR    | pipeline.full_pipeline:full_pipeline:38 - Fehler bei needs_to_be_gendered() für 'ihn': 'NoneType' object is not iterable\n",
      "2025-05-10 10:07:49.108 | ERROR    | pipeline.full_pipeline:full_pipeline:38 - Fehler bei needs_to_be_gendered() für 'Serbenführer': 'NN'\n",
      "[UN-Beauftragte, seine]\n",
      "2025-05-10 10:07:49.144 | INFO     | pipeline.correction.correction2:generate_possible_corrections:505 - Konnte Korrekturvorschlag '*' nicht erstellen: list index out of range\n",
      "[UN-Beauftragte, seine]\n",
      "2025-05-10 10:07:49.152 | INFO     | pipeline.correction.correction2:generate_possible_corrections:524 - Konnte Korrekturvorschlag 'PLURAL_*' nicht erstellen: list index out of range\n"
     ]
    },
    {
     "name": "stderr",
     "output_type": "stream",
     "text": [
      " 24%|█████████▌                              | 542/2265 [04:36<19:19,  1.49it/s]"
     ]
    },
    {
     "name": "stdout",
     "output_type": "stream",
     "text": [
      "[Veranstalters]\n",
      "2025-05-10 10:07:53.187 | INFO     | pipeline.correction.correction2:generate_possible_corrections:505 - Konnte Korrekturvorschlag '*' nicht erstellen: list index out of range\n",
      "[Veranstalters]\n",
      "2025-05-10 10:07:53.187 | INFO     | pipeline.correction.correction2:generate_possible_corrections:524 - Konnte Korrekturvorschlag 'PLURAL_*' nicht erstellen: list index out of range\n"
     ]
    },
    {
     "name": "stderr",
     "output_type": "stream",
     "text": [
      " 24%|█████████▌                              | 544/2265 [04:37<15:59,  1.79it/s]"
     ]
    },
    {
     "name": "stdout",
     "output_type": "stream",
     "text": [
      "[Reaktor]\n",
      "2025-05-10 10:07:54.017 | INFO     | pipeline.correction.correction2:generate_possible_corrections:505 - Konnte Korrekturvorschlag '*' nicht erstellen: list index out of range\n",
      "[Reaktor]\n",
      "2025-05-10 10:07:54.026 | INFO     | pipeline.correction.correction2:generate_possible_corrections:524 - Konnte Korrekturvorschlag 'PLURAL_*' nicht erstellen: list index out of range\n",
      "[Forza-Italia-Politiker]\n",
      "2025-05-10 10:07:54.127 | INFO     | pipeline.correction.correction2:generate_possible_corrections:505 - Konnte Korrekturvorschlag '*' nicht erstellen: list index out of range\n",
      "[Forza-Italia-Politiker]\n",
      "2025-05-10 10:07:54.135 | INFO     | pipeline.correction.correction2:generate_possible_corrections:524 - Konnte Korrekturvorschlag 'PLURAL_*' nicht erstellen: list index out of range\n"
     ]
    },
    {
     "name": "stderr",
     "output_type": "stream",
     "text": [
      " 24%|█████████▌                              | 545/2265 [04:37<12:36,  2.27it/s]"
     ]
    },
    {
     "name": "stdout",
     "output_type": "stream",
     "text": [
      "[KP-Funktionären]\n",
      "2025-05-10 10:07:54.309 | INFO     | pipeline.correction.correction2:generate_possible_corrections:354 - Konnte Korrekturvorschlag '*' nicht erstellen: list index out of range\n",
      "[KP-Funktionären]\n",
      "2025-05-10 10:07:54.319 | INFO     | pipeline.correction.correction2:generate_possible_corrections:462 - Konnte Korrekturvorschlag 'BOTH_FORMS' nicht erstellen: list index out of range\n",
      "[KP-Funktionären]\n",
      "2025-05-10 10:07:54.344 | INFO     | pipeline.correction.correction2:generate_possible_corrections:354 - Konnte Korrekturvorschlag '*' nicht erstellen: list index out of range\n",
      "[KP-Funktionären]\n",
      "2025-05-10 10:07:54.354 | INFO     | pipeline.correction.correction2:generate_possible_corrections:462 - Konnte Korrekturvorschlag 'BOTH_FORMS' nicht erstellen: list index out of range\n"
     ]
    },
    {
     "name": "stderr",
     "output_type": "stream",
     "text": [
      " 24%|█████████▋                              | 546/2265 [04:37<13:54,  2.06it/s]"
     ]
    },
    {
     "name": "stdout",
     "output_type": "stream",
     "text": [
      "[Bundesrat]\n",
      "2025-05-10 10:07:54.842 | INFO     | pipeline.correction.correction2:generate_possible_corrections:505 - Konnte Korrekturvorschlag '*' nicht erstellen: list index out of range\n",
      "[Bundesrat]\n",
      "2025-05-10 10:07:54.847 | INFO     | pipeline.correction.correction2:generate_possible_corrections:524 - Konnte Korrekturvorschlag 'PLURAL_*' nicht erstellen: list index out of range\n"
     ]
    },
    {
     "name": "stderr",
     "output_type": "stream",
     "text": [
      " 24%|█████████▊                              | 553/2265 [04:39<06:07,  4.66it/s]"
     ]
    },
    {
     "name": "stdout",
     "output_type": "stream",
     "text": [
      "[UN-Flüchtlingskommissars]\n",
      "2025-05-10 10:07:56.478 | INFO     | pipeline.correction.correction2:generate_possible_corrections:505 - Konnte Korrekturvorschlag '*' nicht erstellen: list index out of range\n",
      "[UN-Flüchtlingskommissars]\n",
      "2025-05-10 10:07:56.488 | INFO     | pipeline.correction.correction2:generate_possible_corrections:524 - Konnte Korrekturvorschlag 'PLURAL_*' nicht erstellen: list index out of range\n"
     ]
    },
    {
     "name": "stderr",
     "output_type": "stream",
     "text": [
      " 25%|█████████▊                              | 557/2265 [04:40<07:51,  3.62it/s]"
     ]
    },
    {
     "name": "stdout",
     "output_type": "stream",
     "text": [
      "[Neu-Verleger, seiner, dieser]\n",
      "2025-05-10 10:07:57.597 | INFO     | pipeline.correction.correction2:generate_possible_corrections:505 - Konnte Korrekturvorschlag '*' nicht erstellen: list index out of range\n",
      "[Neu-Verleger, seiner, dieser]\n",
      "2025-05-10 10:07:57.606 | INFO     | pipeline.correction.correction2:generate_possible_corrections:524 - Konnte Korrekturvorschlag 'PLURAL_*' nicht erstellen: list index out of range\n",
      "[Neu-Verleger, seiner, dieser]\n",
      "2025-05-10 10:07:57.625 | INFO     | pipeline.correction.correction2:generate_possible_corrections:505 - Konnte Korrekturvorschlag '*' nicht erstellen: list index out of range\n",
      "[Neu-Verleger, seiner, dieser]\n",
      "2025-05-10 10:07:57.634 | INFO     | pipeline.correction.correction2:generate_possible_corrections:524 - Konnte Korrekturvorschlag 'PLURAL_*' nicht erstellen: list index out of range\n"
     ]
    },
    {
     "name": "stderr",
     "output_type": "stream",
     "text": [
      " 25%|██████████▏                             | 577/2265 [04:46<06:30,  4.33it/s]"
     ]
    },
    {
     "name": "stdout",
     "output_type": "stream",
     "text": [
      "[Regierungsrates]\n",
      "2025-05-10 10:08:03.515 | INFO     | pipeline.correction.correction2:generate_possible_corrections:505 - Konnte Korrekturvorschlag '*' nicht erstellen: list index out of range\n",
      "[Regierungsrates]\n",
      "2025-05-10 10:08:03.524 | INFO     | pipeline.correction.correction2:generate_possible_corrections:524 - Konnte Korrekturvorschlag 'PLURAL_*' nicht erstellen: list index out of range\n",
      "[Ogoni-Führer]\n",
      "2025-05-10 10:08:03.554 | INFO     | pipeline.correction.correction2:generate_possible_corrections:354 - Konnte Korrekturvorschlag '*' nicht erstellen: list index out of range\n",
      "[Ogoni-Führer]\n",
      "2025-05-10 10:08:03.562 | INFO     | pipeline.correction.correction2:generate_possible_corrections:462 - Konnte Korrekturvorschlag 'BOTH_FORMS' nicht erstellen: list index out of range\n"
     ]
    },
    {
     "name": "stderr",
     "output_type": "stream",
     "text": [
      " 26%|██████████▏                             | 579/2265 [04:47<11:56,  2.35it/s]"
     ]
    },
    {
     "name": "stdout",
     "output_type": "stream",
     "text": [
      "[BKA-Ermittler]\n",
      "2025-05-10 10:08:04.634 | INFO     | pipeline.correction.correction2:generate_possible_corrections:354 - Konnte Korrekturvorschlag '*' nicht erstellen: list index out of range\n",
      "[BKA-Ermittler]\n",
      "2025-05-10 10:08:04.645 | INFO     | pipeline.correction.correction2:generate_possible_corrections:462 - Konnte Korrekturvorschlag 'BOTH_FORMS' nicht erstellen: list index out of range\n",
      "[BKA-Ermittlern]\n",
      "2025-05-10 10:08:04.730 | INFO     | pipeline.correction.correction2:generate_possible_corrections:354 - Konnte Korrekturvorschlag '*' nicht erstellen: list index out of range\n",
      "[BKA-Ermittlern]\n",
      "2025-05-10 10:08:04.740 | INFO     | pipeline.correction.correction2:generate_possible_corrections:462 - Konnte Korrekturvorschlag 'BOTH_FORMS' nicht erstellen: list index out of range\n"
     ]
    },
    {
     "name": "stderr",
     "output_type": "stream",
     "text": [
      " 26%|██████████▎                             | 582/2265 [04:48<10:25,  2.69it/s]"
     ]
    },
    {
     "name": "stdout",
     "output_type": "stream",
     "text": [
      "[Fernsehräten]\n",
      "2025-05-10 10:08:05.705 | INFO     | pipeline.correction.correction2:generate_possible_corrections:354 - Konnte Korrekturvorschlag '*' nicht erstellen: list index out of range\n",
      "[Fernsehräten]\n",
      "2025-05-10 10:08:05.713 | INFO     | pipeline.correction.correction2:generate_possible_corrections:462 - Konnte Korrekturvorschlag 'BOTH_FORMS' nicht erstellen: list index out of range\n"
     ]
    },
    {
     "name": "stderr",
     "output_type": "stream",
     "text": [
      " 26%|██████████▎                             | 584/2265 [04:49<11:40,  2.40it/s]"
     ]
    },
    {
     "name": "stdout",
     "output_type": "stream",
     "text": [
      "[Notenbanker]\n",
      "2025-05-10 10:08:06.591 | INFO     | pipeline.correction.correction2:generate_possible_corrections:505 - Konnte Korrekturvorschlag '*' nicht erstellen: list index out of range\n",
      "[Notenbanker]\n",
      "2025-05-10 10:08:06.600 | INFO     | pipeline.correction.correction2:generate_possible_corrections:524 - Konnte Korrekturvorschlag 'PLURAL_*' nicht erstellen: list index out of range\n"
     ]
    },
    {
     "name": "stderr",
     "output_type": "stream",
     "text": [
      " 26%|██████████▍                             | 588/2265 [04:50<08:58,  3.12it/s]"
     ]
    },
    {
     "name": "stdout",
     "output_type": "stream",
     "text": [
      "2025-05-10 10:08:07.949 | ERROR    | pipeline.full_pipeline:full_pipeline:38 - Fehler bei needs_to_be_gendered() für 'Medikamente-Exporteur': Es darf nur ein Element mit dieser Beziehung geben. (sei mit sb, war aber [war, Deutschland])\n"
     ]
    },
    {
     "name": "stderr",
     "output_type": "stream",
     "text": [
      " 26%|██████████▍                             | 589/2265 [04:51<09:50,  2.84it/s]"
     ]
    },
    {
     "name": "stdout",
     "output_type": "stream",
     "text": [
      "2025-05-10 10:08:10.047 | ERROR    | pipeline.full_pipeline:full_pipeline:38 - Fehler bei needs_to_be_gendered() für 'ihn': 'NoneType' object is not iterable\n",
      "2025-05-10 10:08:10.050 | ERROR    | pipeline.full_pipeline:full_pipeline:38 - Fehler bei needs_to_be_gendered() für 'Sinologen': 'NN'\n",
      "2025-05-10 10:08:10.053 | ERROR    | pipeline.full_pipeline:full_pipeline:38 - Fehler bei needs_to_be_gendered() für 'Dauerstudenten': 'NN'\n",
      "2025-05-10 10:08:10.059 | ERROR    | pipeline.full_pipeline:full_pipeline:38 - Fehler bei needs_to_be_gendered() für 'der': 'NoneType' object is not iterable\n"
     ]
    },
    {
     "name": "stderr",
     "output_type": "stream",
     "text": [
      " 26%|██████████▍                             | 590/2265 [04:53<23:39,  1.18it/s]"
     ]
    },
    {
     "name": "stdout",
     "output_type": "stream",
     "text": [
      "2025-05-10 10:08:10.316 | ERROR    | pipeline.full_pipeline:full_pipeline:38 - Fehler bei needs_to_be_gendered() für 'Auftraggeber': Es darf nur ein Element mit dieser Beziehung geben. (ist mit sb, war aber [Ruetz, hat])\n"
     ]
    },
    {
     "name": "stderr",
     "output_type": "stream",
     "text": [
      " 26%|██████████▍                             | 591/2265 [04:53<22:16,  1.25it/s]"
     ]
    },
    {
     "name": "stdout",
     "output_type": "stream",
     "text": [
      "[Inhalte]\n",
      "2025-05-10 10:08:15.598 | INFO     | pipeline.correction.correction2:generate_possible_corrections:354 - Konnte Korrekturvorschlag '*' nicht erstellen: list index out of range\n",
      "[Inhalte]\n",
      "2025-05-10 10:08:15.603 | INFO     | pipeline.correction.correction2:generate_possible_corrections:462 - Konnte Korrekturvorschlag 'BOTH_FORMS' nicht erstellen: list index out of range\n"
     ]
    },
    {
     "name": "stderr",
     "output_type": "stream",
     "text": [
      " 26%|██████████▍                             | 593/2265 [05:01<57:29,  2.06s/it]"
     ]
    },
    {
     "name": "stdout",
     "output_type": "stream",
     "text": [
      "[Wirtschaftsfachmann]\n",
      "2025-05-10 10:08:19.306 | INFO     | pipeline.correction.correction2:generate_possible_corrections:505 - Konnte Korrekturvorschlag '*' nicht erstellen: list index out of range\n",
      "[Wirtschaftsfachmann]\n",
      "2025-05-10 10:08:19.315 | INFO     | pipeline.correction.correction2:generate_possible_corrections:524 - Konnte Korrekturvorschlag 'PLURAL_*' nicht erstellen: list index out of range\n"
     ]
    },
    {
     "name": "stderr",
     "output_type": "stream",
     "text": [
      " 26%|██████████▌                             | 595/2265 [05:04<49:35,  1.78s/it]"
     ]
    },
    {
     "name": "stdout",
     "output_type": "stream",
     "text": [
      "[Inhalten]\n",
      "2025-05-10 10:08:21.126 | INFO     | pipeline.correction.correction2:generate_possible_corrections:354 - Konnte Korrekturvorschlag '*' nicht erstellen: list index out of range\n",
      "[Inhalten]\n",
      "2025-05-10 10:08:21.132 | INFO     | pipeline.correction.correction2:generate_possible_corrections:462 - Konnte Korrekturvorschlag 'BOTH_FORMS' nicht erstellen: list index out of range\n",
      "[Inhalte, die]\n",
      "2025-05-10 10:08:21.174 | INFO     | pipeline.correction.correction2:generate_possible_corrections:354 - Konnte Korrekturvorschlag '*' nicht erstellen: list index out of range\n",
      "[Inhalte, die]\n",
      "2025-05-10 10:08:21.180 | INFO     | pipeline.correction.correction2:generate_possible_corrections:462 - Konnte Korrekturvorschlag 'BOTH_FORMS' nicht erstellen: list index out of range\n"
     ]
    },
    {
     "name": "stderr",
     "output_type": "stream",
     "text": [
      " 26%|██████████▌                             | 596/2265 [05:04<38:34,  1.39s/it]"
     ]
    },
    {
     "name": "stdout",
     "output_type": "stream",
     "text": [
      "[Bafög-Empfängern]\n",
      "2025-05-10 10:08:23.459 | INFO     | pipeline.correction.correction2:generate_possible_corrections:354 - Konnte Korrekturvorschlag '*' nicht erstellen: list index out of range\n",
      "[Bafög-Empfängern]\n",
      "2025-05-10 10:08:23.468 | INFO     | pipeline.correction.correction2:generate_possible_corrections:462 - Konnte Korrekturvorschlag 'BOTH_FORMS' nicht erstellen: list index out of range\n",
      "[Bundesrat]\n",
      "2025-05-10 10:08:23.580 | INFO     | pipeline.correction.correction2:generate_possible_corrections:505 - Konnte Korrekturvorschlag '*' nicht erstellen: list index out of range\n",
      "[Bundesrat]\n",
      "2025-05-10 10:08:23.586 | INFO     | pipeline.correction.correction2:generate_possible_corrections:524 - Konnte Korrekturvorschlag 'PLURAL_*' nicht erstellen: list index out of range\n"
     ]
    },
    {
     "name": "stderr",
     "output_type": "stream",
     "text": [
      " 26%|██████████▌                             | 599/2265 [05:08<36:02,  1.30s/it]"
     ]
    },
    {
     "name": "stdout",
     "output_type": "stream",
     "text": [
      "[Studentenrat]\n",
      "2025-05-10 10:08:25.239 | INFO     | pipeline.correction.correction2:generate_possible_corrections:505 - Konnte Korrekturvorschlag '*' nicht erstellen: list index out of range\n",
      "[Studentenrat]\n",
      "2025-05-10 10:08:25.247 | INFO     | pipeline.correction.correction2:generate_possible_corrections:524 - Konnte Korrekturvorschlag 'PLURAL_*' nicht erstellen: list index out of range\n"
     ]
    },
    {
     "name": "stderr",
     "output_type": "stream",
     "text": [
      " 27%|██████████▋                             | 602/2265 [05:11<29:18,  1.06s/it]"
     ]
    },
    {
     "name": "stdout",
     "output_type": "stream",
     "text": [
      "2025-05-10 10:08:28.151 | ERROR    | pipeline.full_pipeline:full_pipeline:38 - Fehler bei needs_to_be_gendered() für 'Kandidaten': Es darf nur ein Element mit dieser Beziehung geben. (sind mit sb, war aber [hat, Beide])\n"
     ]
    },
    {
     "name": "stderr",
     "output_type": "stream",
     "text": [
      " 27%|██████████▋                             | 603/2265 [05:11<25:36,  1.08it/s]"
     ]
    },
    {
     "name": "stdout",
     "output_type": "stream",
     "text": [
      "[Inhalte]\n",
      "2025-05-10 10:08:28.782 | INFO     | pipeline.correction.correction2:generate_possible_corrections:354 - Konnte Korrekturvorschlag '*' nicht erstellen: list index out of range\n",
      "[Inhalte]\n",
      "2025-05-10 10:08:28.788 | INFO     | pipeline.correction.correction2:generate_possible_corrections:462 - Konnte Korrekturvorschlag 'BOTH_FORMS' nicht erstellen: list index out of range\n"
     ]
    },
    {
     "name": "stderr",
     "output_type": "stream",
     "text": [
      " 27%|██████████▊                             | 609/2265 [05:15<20:18,  1.36it/s]"
     ]
    },
    {
     "name": "stdout",
     "output_type": "stream",
     "text": [
      "[Ex-Kommunisten]\n",
      "2025-05-10 10:08:32.508 | INFO     | pipeline.correction.correction2:generate_possible_corrections:354 - Konnte Korrekturvorschlag '*' nicht erstellen: list index out of range\n",
      "[Ex-Kommunisten]\n",
      "2025-05-10 10:08:32.517 | INFO     | pipeline.correction.correction2:generate_possible_corrections:462 - Konnte Korrekturvorschlag 'BOTH_FORMS' nicht erstellen: list index out of range\n",
      "2025-05-10 10:08:32.536 | INFO     | pipeline.correction.verb.change_verb_form:change_verb_form:13 - lex_target_verb not found: Erhielte\n",
      "[keiner]\n",
      "2025-05-10 10:08:32.536 | INFO     | pipeline.correction.correction2:generate_possible_corrections:524 - Konnte Korrekturvorschlag 'PLURAL_*' nicht erstellen: Das Verb konnte im Lexikon nicht gefunden werden: Erhielte\n"
     ]
    },
    {
     "name": "stderr",
     "output_type": "stream",
     "text": [
      " 27%|██████████▊                             | 613/2265 [05:17<15:02,  1.83it/s]"
     ]
    },
    {
     "name": "stdout",
     "output_type": "stream",
     "text": [
      "[Privatanleger]\n",
      "2025-05-10 10:08:34.263 | INFO     | pipeline.correction.correction2:generate_possible_corrections:354 - Konnte Korrekturvorschlag '*' nicht erstellen: list index out of range\n",
      "[Privatanleger]\n",
      "2025-05-10 10:08:34.272 | INFO     | pipeline.correction.correction2:generate_possible_corrections:462 - Konnte Korrekturvorschlag 'BOTH_FORMS' nicht erstellen: list index out of range\n",
      "[Kreditgenossen]\n",
      "2025-05-10 10:08:34.284 | INFO     | pipeline.correction.correction2:generate_possible_corrections:354 - Konnte Korrekturvorschlag '*' nicht erstellen: list index out of range\n",
      "[Kreditgenossen]\n",
      "2025-05-10 10:08:34.293 | INFO     | pipeline.correction.correction2:generate_possible_corrections:462 - Konnte Korrekturvorschlag 'BOTH_FORMS' nicht erstellen: list index out of range\n"
     ]
    },
    {
     "name": "stderr",
     "output_type": "stream",
     "text": [
      " 28%|███████████▏                            | 630/2265 [05:26<12:53,  2.11it/s]"
     ]
    },
    {
     "name": "stdout",
     "output_type": "stream",
     "text": [
      "[Zustrom]\n",
      "2025-05-10 10:08:44.341 | INFO     | pipeline.correction.correction2:generate_possible_corrections:505 - Konnte Korrekturvorschlag '*' nicht erstellen: list index out of range\n",
      "[Zustrom]\n",
      "2025-05-10 10:08:44.350 | INFO     | pipeline.correction.correction2:generate_possible_corrections:524 - Konnte Korrekturvorschlag 'PLURAL_*' nicht erstellen: list index out of range\n"
     ]
    },
    {
     "name": "stderr",
     "output_type": "stream",
     "text": [
      " 28%|███████████▏                            | 631/2265 [05:27<18:54,  1.44it/s]"
     ]
    },
    {
     "name": "stdout",
     "output_type": "stream",
     "text": [
      "[Inhalte]\n",
      "2025-05-10 10:08:46.335 | INFO     | pipeline.correction.correction2:generate_possible_corrections:354 - Konnte Korrekturvorschlag '*' nicht erstellen: list index out of range\n",
      "[Inhalte]\n",
      "2025-05-10 10:08:46.340 | INFO     | pipeline.correction.correction2:generate_possible_corrections:462 - Konnte Korrekturvorschlag 'BOTH_FORMS' nicht erstellen: list index out of range\n"
     ]
    },
    {
     "name": "stderr",
     "output_type": "stream",
     "text": [
      " 28%|███████████▏                            | 633/2265 [05:30<29:06,  1.07s/it]"
     ]
    },
    {
     "name": "stdout",
     "output_type": "stream",
     "text": [
      "[Verrat]\n",
      "2025-05-10 10:08:47.425 | INFO     | pipeline.correction.correction2:generate_possible_corrections:505 - Konnte Korrekturvorschlag '*' nicht erstellen: list index out of range\n",
      "[Verrat]\n",
      "2025-05-10 10:08:47.434 | INFO     | pipeline.correction.correction2:generate_possible_corrections:524 - Konnte Korrekturvorschlag 'PLURAL_*' nicht erstellen: list index out of range\n",
      "[US-Regisseure]\n",
      "2025-05-10 10:08:47.557 | INFO     | pipeline.correction.correction2:generate_possible_corrections:354 - Konnte Korrekturvorschlag '*' nicht erstellen: list index out of range\n",
      "[US-Regisseure]\n",
      "2025-05-10 10:08:47.566 | INFO     | pipeline.correction.correction2:generate_possible_corrections:462 - Konnte Korrekturvorschlag 'BOTH_FORMS' nicht erstellen: list index out of range\n"
     ]
    },
    {
     "name": "stderr",
     "output_type": "stream",
     "text": [
      " 29%|███████████▍                            | 649/2265 [05:37<10:18,  2.61it/s]"
     ]
    },
    {
     "name": "stdout",
     "output_type": "stream",
     "text": [
      "[TV-Redakteure]\n",
      "2025-05-10 10:08:55.851 | INFO     | pipeline.correction.correction2:generate_possible_corrections:354 - Konnte Korrekturvorschlag '*' nicht erstellen: list index out of range\n",
      "[TV-Redakteure]\n",
      "2025-05-10 10:08:55.860 | INFO     | pipeline.correction.correction2:generate_possible_corrections:462 - Konnte Korrekturvorschlag 'BOTH_FORMS' nicht erstellen: list index out of range\n",
      "[Fernsehredakteuren]\n",
      "2025-05-10 10:08:55.988 | INFO     | pipeline.correction.correction2:generate_possible_corrections:354 - Konnte Korrekturvorschlag '*' nicht erstellen: list index out of range\n",
      "[Fernsehredakteuren]\n",
      "2025-05-10 10:08:55.998 | INFO     | pipeline.correction.correction2:generate_possible_corrections:462 - Konnte Korrekturvorschlag 'BOTH_FORMS' nicht erstellen: list index out of range\n"
     ]
    },
    {
     "name": "stderr",
     "output_type": "stream",
     "text": [
      " 29%|███████████▍                            | 651/2265 [05:39<15:26,  1.74it/s]"
     ]
    },
    {
     "name": "stdout",
     "output_type": "stream",
     "text": [
      "[Kompromiß-Gegner]\n",
      "2025-05-10 10:08:56.640 | INFO     | pipeline.correction.correction2:generate_possible_corrections:354 - Konnte Korrekturvorschlag '*' nicht erstellen: list index out of range\n",
      "[Kompromiß-Gegner]\n",
      "2025-05-10 10:08:56.649 | INFO     | pipeline.correction.correction2:generate_possible_corrections:462 - Konnte Korrekturvorschlag 'BOTH_FORMS' nicht erstellen: list index out of range\n"
     ]
    },
    {
     "name": "stderr",
     "output_type": "stream",
     "text": [
      " 29%|███████████▌                            | 655/2265 [05:40<08:42,  3.08it/s]"
     ]
    },
    {
     "name": "stdout",
     "output_type": "stream",
     "text": [
      "[US-Richter]\n",
      "2025-05-10 10:08:57.791 | INFO     | pipeline.correction.correction2:generate_possible_corrections:505 - Konnte Korrekturvorschlag '*' nicht erstellen: list index out of range\n",
      "[US-Richter]\n",
      "2025-05-10 10:08:57.800 | INFO     | pipeline.correction.correction2:generate_possible_corrections:524 - Konnte Korrekturvorschlag 'PLURAL_*' nicht erstellen: list index out of range\n"
     ]
    },
    {
     "name": "stderr",
     "output_type": "stream",
     "text": [
      " 29%|███████████▌                            | 657/2265 [05:41<12:16,  2.18it/s]"
     ]
    },
    {
     "name": "stdout",
     "output_type": "stream",
     "text": [
      "[UN-Soldaten]\n",
      "2025-05-10 10:08:58.936 | INFO     | pipeline.correction.correction2:generate_possible_corrections:505 - Konnte Korrekturvorschlag '*' nicht erstellen: list index out of range\n",
      "[UN-Soldaten]\n",
      "2025-05-10 10:08:58.944 | INFO     | pipeline.correction.correction2:generate_possible_corrections:524 - Konnte Korrekturvorschlag 'PLURAL_*' nicht erstellen: list index out of range\n"
     ]
    },
    {
     "name": "stderr",
     "output_type": "stream",
     "text": [
      " 29%|███████████▋                            | 664/2265 [05:43<06:23,  4.17it/s]"
     ]
    },
    {
     "name": "stdout",
     "output_type": "stream",
     "text": [
      "[GSG-9-Beamten]\n",
      "2025-05-10 10:09:00.811 | INFO     | pipeline.correction.correction2:generate_possible_corrections:505 - Konnte Korrekturvorschlag '*' nicht erstellen: list index out of range\n",
      "[GSG-9-Beamten]\n",
      "2025-05-10 10:09:00.820 | INFO     | pipeline.correction.correction2:generate_possible_corrections:524 - Konnte Korrekturvorschlag 'PLURAL_*' nicht erstellen: list index out of range\n",
      "[GSG-9-Beamten]\n",
      "2025-05-10 10:09:00.832 | INFO     | pipeline.correction.correction2:generate_possible_corrections:505 - Konnte Korrekturvorschlag '*' nicht erstellen: list index out of range\n",
      "[GSG-9-Beamten]\n",
      "2025-05-10 10:09:00.841 | INFO     | pipeline.correction.correction2:generate_possible_corrections:524 - Konnte Korrekturvorschlag 'PLURAL_*' nicht erstellen: list index out of range\n"
     ]
    },
    {
     "name": "stderr",
     "output_type": "stream",
     "text": [
      " 30%|███████████▊                            | 670/2265 [05:45<10:05,  2.64it/s]"
     ]
    },
    {
     "name": "stdout",
     "output_type": "stream",
     "text": [
      "[Ex-Diktator]\n",
      "2025-05-10 10:09:02.729 | INFO     | pipeline.correction.correction2:generate_possible_corrections:505 - Konnte Korrekturvorschlag '*' nicht erstellen: list index out of range\n",
      "[Ex-Diktator]\n",
      "2025-05-10 10:09:02.737 | INFO     | pipeline.correction.correction2:generate_possible_corrections:524 - Konnte Korrekturvorschlag 'PLURAL_*' nicht erstellen: list index out of range\n",
      "[Ex-Präsident, sich]\n",
      "2025-05-10 10:09:02.819 | INFO     | pipeline.correction.correction2:generate_possible_corrections:505 - Konnte Korrekturvorschlag '*' nicht erstellen: list index out of range\n",
      "[Ex-Präsident, sich]\n",
      "2025-05-10 10:09:02.827 | INFO     | pipeline.correction.correction2:generate_possible_corrections:524 - Konnte Korrekturvorschlag 'PLURAL_*' nicht erstellen: list index out of range\n"
     ]
    },
    {
     "name": "stderr",
     "output_type": "stream",
     "text": [
      " 30%|███████████▉                            | 674/2265 [05:47<11:30,  2.31it/s]"
     ]
    },
    {
     "name": "stdout",
     "output_type": "stream",
     "text": [
      "2025-05-10 10:09:04.656 | ERROR    | pipeline.full_pipeline:full_pipeline:38 - Fehler bei needs_to_be_gendered() für 'ihm': 'NoneType' object is not iterable\n"
     ]
    },
    {
     "name": "stderr",
     "output_type": "stream",
     "text": [
      " 30%|███████████▉                            | 679/2265 [05:49<11:43,  2.26it/s]"
     ]
    },
    {
     "name": "stdout",
     "output_type": "stream",
     "text": [
      "[Bundesrat]\n",
      "2025-05-10 10:09:06.928 | INFO     | pipeline.correction.correction2:generate_possible_corrections:505 - Konnte Korrekturvorschlag '*' nicht erstellen: list index out of range\n",
      "[Bundesrat]\n",
      "2025-05-10 10:09:06.934 | INFO     | pipeline.correction.correction2:generate_possible_corrections:524 - Konnte Korrekturvorschlag 'PLURAL_*' nicht erstellen: list index out of range\n",
      "[Bundesrat]\n",
      "2025-05-10 10:09:07.008 | INFO     | pipeline.correction.correction2:generate_possible_corrections:505 - Konnte Korrekturvorschlag '*' nicht erstellen: list index out of range\n",
      "[Bundesrat]\n",
      "2025-05-10 10:09:07.013 | INFO     | pipeline.correction.correction2:generate_possible_corrections:524 - Konnte Korrekturvorschlag 'PLURAL_*' nicht erstellen: list index out of range\n"
     ]
    },
    {
     "name": "stderr",
     "output_type": "stream",
     "text": [
      " 31%|████████████▎                           | 697/2265 [05:55<08:34,  3.05it/s]"
     ]
    },
    {
     "name": "stdout",
     "output_type": "stream",
     "text": [
      "[Sektor]\n",
      "2025-05-10 10:09:14.179 | INFO     | pipeline.correction.correction2:generate_possible_corrections:505 - Konnte Korrekturvorschlag '*' nicht erstellen: list index out of range\n",
      "[Sektor]\n",
      "2025-05-10 10:09:14.188 | INFO     | pipeline.correction.correction2:generate_possible_corrections:524 - Konnte Korrekturvorschlag 'PLURAL_*' nicht erstellen: list index out of range\n"
     ]
    },
    {
     "name": "stderr",
     "output_type": "stream",
     "text": [
      " 31%|████████████▎                           | 698/2265 [05:57<19:50,  1.32it/s]"
     ]
    },
    {
     "name": "stdout",
     "output_type": "stream",
     "text": [
      "2025-05-10 10:09:16.056 | ERROR    | pipeline.full_pipeline:full_pipeline:38 - Fehler bei needs_to_be_gendered() für 'er': 'NoneType' object is not iterable\n"
     ]
    },
    {
     "name": "stderr",
     "output_type": "stream",
     "text": [
      " 31%|████████████▍                           | 702/2265 [06:01<22:07,  1.18it/s]"
     ]
    },
    {
     "name": "stdout",
     "output_type": "stream",
     "text": [
      "[Schiffbauer]\n",
      "2025-05-10 10:09:18.961 | INFO     | pipeline.correction.correction2:generate_possible_corrections:505 - Konnte Korrekturvorschlag '*' nicht erstellen: list index out of range\n",
      "[Schiffbauer]\n",
      "2025-05-10 10:09:18.969 | INFO     | pipeline.correction.correction2:generate_possible_corrections:524 - Konnte Korrekturvorschlag 'PLURAL_*' nicht erstellen: list index out of range\n",
      "[Aufsichtsrat]\n",
      "2025-05-10 10:09:19.005 | INFO     | pipeline.correction.correction2:generate_possible_corrections:505 - Konnte Korrekturvorschlag '*' nicht erstellen: list index out of range\n",
      "[Aufsichtsrat]\n",
      "2025-05-10 10:09:19.015 | INFO     | pipeline.correction.correction2:generate_possible_corrections:524 - Konnte Korrekturvorschlag 'PLURAL_*' nicht erstellen: list index out of range\n"
     ]
    },
    {
     "name": "stderr",
     "output_type": "stream",
     "text": [
      " 31%|████████████▍                           | 703/2265 [06:02<21:31,  1.21it/s]"
     ]
    },
    {
     "name": "stdout",
     "output_type": "stream",
     "text": [
      "[Schiffbauer]\n",
      "2025-05-10 10:09:19.172 | INFO     | pipeline.correction.correction2:generate_possible_corrections:354 - Konnte Korrekturvorschlag '*' nicht erstellen: list index out of range\n",
      "[Schiffbauer]\n",
      "2025-05-10 10:09:19.180 | INFO     | pipeline.correction.correction2:generate_possible_corrections:462 - Konnte Korrekturvorschlag 'BOTH_FORMS' nicht erstellen: list index out of range\n"
     ]
    },
    {
     "name": "stderr",
     "output_type": "stream",
     "text": [
      " 31%|████████████▌                           | 708/2265 [06:07<25:28,  1.02it/s]"
     ]
    },
    {
     "name": "stdout",
     "output_type": "stream",
     "text": [
      "[Muntermacher]\n",
      "2025-05-10 10:09:24.431 | INFO     | pipeline.correction.correction2:generate_possible_corrections:505 - Konnte Korrekturvorschlag '*' nicht erstellen: list index out of range\n",
      "[Muntermacher]\n",
      "2025-05-10 10:09:24.441 | INFO     | pipeline.correction.correction2:generate_possible_corrections:524 - Konnte Korrekturvorschlag 'PLURAL_*' nicht erstellen: list index out of range\n"
     ]
    },
    {
     "name": "stderr",
     "output_type": "stream",
     "text": [
      " 31%|████████████▌                           | 712/2265 [06:12<33:50,  1.31s/it]"
     ]
    },
    {
     "name": "stdout",
     "output_type": "stream",
     "text": [
      "[Atomtestgegnern]\n",
      "2025-05-10 10:09:30.118 | INFO     | pipeline.correction.correction2:generate_possible_corrections:354 - Konnte Korrekturvorschlag '*' nicht erstellen: list index out of range\n",
      "[Atomtestgegnern]\n",
      "2025-05-10 10:09:30.126 | INFO     | pipeline.correction.correction2:generate_possible_corrections:462 - Konnte Korrekturvorschlag 'BOTH_FORMS' nicht erstellen: list index out of range\n"
     ]
    },
    {
     "name": "stderr",
     "output_type": "stream",
     "text": [
      " 32%|████████████▋                           | 717/2265 [06:19<31:04,  1.20s/it]"
     ]
    },
    {
     "name": "stdout",
     "output_type": "stream",
     "text": [
      "2025-05-10 10:09:36.109 | ERROR    | pipeline.full_pipeline:full_pipeline:38 - Fehler bei needs_to_be_gendered() für 'Rentner': Es darf nur ein Element mit dieser Beziehung geben. (sind mit sb, war aber [FR-Leserin, Wir])\n",
      "[EU-Experte]\n",
      "2025-05-10 10:09:36.228 | INFO     | pipeline.correction.correction2:generate_possible_corrections:505 - Konnte Korrekturvorschlag '*' nicht erstellen: list index out of range\n",
      "[EU-Experte]\n",
      "2025-05-10 10:09:36.237 | INFO     | pipeline.correction.correction2:generate_possible_corrections:524 - Konnte Korrekturvorschlag 'PLURAL_*' nicht erstellen: list index out of range\n"
     ]
    },
    {
     "name": "stderr",
     "output_type": "stream",
     "text": [
      " 32%|████████████▋                           | 719/2265 [06:21<29:22,  1.14s/it]"
     ]
    },
    {
     "name": "stdout",
     "output_type": "stream",
     "text": [
      "[Faktor]\n",
      "2025-05-10 10:09:38.236 | INFO     | pipeline.correction.correction2:generate_possible_corrections:505 - Konnte Korrekturvorschlag '*' nicht erstellen: list index out of range\n",
      "[Faktor]\n",
      "2025-05-10 10:09:38.245 | INFO     | pipeline.correction.correction2:generate_possible_corrections:524 - Konnte Korrekturvorschlag 'PLURAL_*' nicht erstellen: list index out of range\n"
     ]
    },
    {
     "name": "stderr",
     "output_type": "stream",
     "text": [
      " 32%|████████████▊                           | 724/2265 [06:23<13:08,  1.95it/s]"
     ]
    },
    {
     "name": "stdout",
     "output_type": "stream",
     "text": [
      "[VW-Sprecher]\n",
      "2025-05-10 10:09:40.385 | INFO     | pipeline.correction.correction2:generate_possible_corrections:505 - Konnte Korrekturvorschlag '*' nicht erstellen: list index out of range\n",
      "[VW-Sprecher]\n",
      "2025-05-10 10:09:40.394 | INFO     | pipeline.correction.correction2:generate_possible_corrections:524 - Konnte Korrekturvorschlag 'PLURAL_*' nicht erstellen: list index out of range\n"
     ]
    },
    {
     "name": "stderr",
     "output_type": "stream",
     "text": [
      " 32%|████████████▊                           | 725/2265 [06:24<22:29,  1.14it/s]"
     ]
    },
    {
     "name": "stdout",
     "output_type": "stream",
     "text": [
      "2025-05-10 10:09:42.015 | ERROR    | pipeline.full_pipeline:full_pipeline:38 - Fehler bei needs_to_be_gendered() für 'Christen': 'NN'\n",
      "[sich, EKD-Rat]\n",
      "2025-05-10 10:09:42.122 | INFO     | pipeline.correction.correction2:generate_possible_corrections:354 - Konnte Korrekturvorschlag '*' nicht erstellen: list index out of range\n",
      "[sich, EKD-Rat]\n",
      "2025-05-10 10:09:42.131 | INFO     | pipeline.correction.correction2:generate_possible_corrections:462 - Konnte Korrekturvorschlag 'BOTH_FORMS' nicht erstellen: list index out of range\n"
     ]
    },
    {
     "name": "stderr",
     "output_type": "stream",
     "text": [
      " 32%|████████████▉                           | 735/2265 [06:30<14:21,  1.78it/s]"
     ]
    },
    {
     "name": "stdout",
     "output_type": "stream",
     "text": [
      "[Bundesrat]\n",
      "2025-05-10 10:09:47.603 | INFO     | pipeline.correction.correction2:generate_possible_corrections:505 - Konnte Korrekturvorschlag '*' nicht erstellen: list index out of range\n",
      "[Bundesrat]\n",
      "2025-05-10 10:09:47.609 | INFO     | pipeline.correction.correction2:generate_possible_corrections:524 - Konnte Korrekturvorschlag 'PLURAL_*' nicht erstellen: list index out of range\n"
     ]
    },
    {
     "name": "stderr",
     "output_type": "stream",
     "text": [
      " 33%|█████████████                           | 740/2265 [06:33<13:35,  1.87it/s]"
     ]
    },
    {
     "name": "stdout",
     "output_type": "stream",
     "text": [
      "[US-Politiker]\n",
      "2025-05-10 10:09:50.335 | INFO     | pipeline.correction.correction2:generate_possible_corrections:354 - Konnte Korrekturvorschlag '*' nicht erstellen: list index out of range\n",
      "[US-Politiker]\n",
      "2025-05-10 10:09:50.344 | INFO     | pipeline.correction.correction2:generate_possible_corrections:462 - Konnte Korrekturvorschlag 'BOTH_FORMS' nicht erstellen: list index out of range\n",
      "[Demokraten]\n",
      "2025-05-10 10:09:50.362 | INFO     | pipeline.correction.correction2:generate_possible_corrections:462 - Konnte Korrekturvorschlag 'BOTH_FORMS' nicht erstellen: Es darf nur ein Element mit dieser Beziehung geben. (Demokraten mit cd, war aber [sowohl, als])\n",
      "[Faktor]\n",
      "2025-05-10 10:09:50.448 | INFO     | pipeline.correction.correction2:generate_possible_corrections:505 - Konnte Korrekturvorschlag '*' nicht erstellen: list index out of range\n",
      "[Faktor]\n",
      "2025-05-10 10:09:50.457 | INFO     | pipeline.correction.correction2:generate_possible_corrections:524 - Konnte Korrekturvorschlag 'PLURAL_*' nicht erstellen: list index out of range\n"
     ]
    },
    {
     "name": "stderr",
     "output_type": "stream",
     "text": [
      " 33%|█████████████                           | 741/2265 [06:33<11:19,  2.24it/s]"
     ]
    },
    {
     "name": "stdout",
     "output_type": "stream",
     "text": [
      "[Taxifahrer]\n",
      "2025-05-10 10:09:50.694 | INFO     | pipeline.correction.correction2:generate_possible_corrections:354 - Konnte Korrekturvorschlag '*' nicht erstellen: list index out of range\n",
      "[Taxifahrer]\n",
      "2025-05-10 10:09:50.700 | INFO     | pipeline.correction.correction2:generate_possible_corrections:462 - Konnte Korrekturvorschlag 'BOTH_FORMS' nicht erstellen: list index out of range\n"
     ]
    },
    {
     "name": "stderr",
     "output_type": "stream",
     "text": [
      " 33%|█████████████▏                          | 745/2265 [06:35<13:19,  1.90it/s]"
     ]
    },
    {
     "name": "stdout",
     "output_type": "stream",
     "text": [
      "[Bundesrat]\n",
      "2025-05-10 10:09:52.572 | INFO     | pipeline.correction.correction2:generate_possible_corrections:505 - Konnte Korrekturvorschlag '*' nicht erstellen: list index out of range\n",
      "[Bundesrat]\n",
      "2025-05-10 10:09:52.578 | INFO     | pipeline.correction.correction2:generate_possible_corrections:524 - Konnte Korrekturvorschlag 'PLURAL_*' nicht erstellen: list index out of range\n"
     ]
    },
    {
     "name": "stderr",
     "output_type": "stream",
     "text": [
      " 33%|█████████████▏                          | 748/2265 [06:36<11:35,  2.18it/s]"
     ]
    },
    {
     "name": "stdout",
     "output_type": "stream",
     "text": [
      "[BA-Vertreter]\n",
      "2025-05-10 10:09:53.665 | INFO     | pipeline.correction.correction2:generate_possible_corrections:505 - Konnte Korrekturvorschlag '*' nicht erstellen: list index out of range\n",
      "[BA-Vertreter]\n",
      "2025-05-10 10:09:53.674 | INFO     | pipeline.correction.correction2:generate_possible_corrections:524 - Konnte Korrekturvorschlag 'PLURAL_*' nicht erstellen: list index out of range\n"
     ]
    },
    {
     "name": "stderr",
     "output_type": "stream",
     "text": [
      " 33%|█████████████▎                          | 753/2265 [06:39<12:06,  2.08it/s]"
     ]
    },
    {
     "name": "stdout",
     "output_type": "stream",
     "text": [
      "[Regierungsrat]\n",
      "2025-05-10 10:09:57.547 | INFO     | pipeline.correction.correction2:generate_possible_corrections:505 - Konnte Korrekturvorschlag '*' nicht erstellen: list index out of range\n",
      "[Regierungsrat]\n",
      "2025-05-10 10:09:57.556 | INFO     | pipeline.correction.correction2:generate_possible_corrections:524 - Konnte Korrekturvorschlag 'PLURAL_*' nicht erstellen: list index out of range\n",
      "[Konsortialführer]\n",
      "2025-05-10 10:09:57.614 | INFO     | pipeline.correction.correction2:generate_possible_corrections:505 - Konnte Korrekturvorschlag '*' nicht erstellen: list index out of range\n",
      "[Konsortialführer]\n",
      "2025-05-10 10:09:57.623 | INFO     | pipeline.correction.correction2:generate_possible_corrections:524 - Konnte Korrekturvorschlag 'PLURAL_*' nicht erstellen: list index out of range\n",
      "[TV-Autor]\n",
      "2025-05-10 10:09:57.655 | INFO     | pipeline.correction.correction2:generate_possible_corrections:505 - Konnte Korrekturvorschlag '*' nicht erstellen: list index out of range\n",
      "[TV-Autor]\n",
      "2025-05-10 10:09:57.663 | INFO     | pipeline.correction.correction2:generate_possible_corrections:524 - Konnte Korrekturvorschlag 'PLURAL_*' nicht erstellen: list index out of range\n",
      "[Ogoni-Führern]\n",
      "2025-05-10 10:09:57.691 | INFO     | pipeline.correction.correction2:generate_possible_corrections:354 - Konnte Korrekturvorschlag '*' nicht erstellen: list index out of range\n",
      "[Ogoni-Führern]\n",
      "2025-05-10 10:09:57.700 | INFO     | pipeline.correction.correction2:generate_possible_corrections:462 - Konnte Korrekturvorschlag 'BOTH_FORMS' nicht erstellen: list index out of range\n"
     ]
    },
    {
     "name": "stderr",
     "output_type": "stream",
     "text": [
      " 33%|█████████████▎                          | 754/2265 [06:40<19:12,  1.31it/s]"
     ]
    },
    {
     "name": "stdout",
     "output_type": "stream",
     "text": [
      "[US-Bürger]\n",
      "2025-05-10 10:09:58.983 | INFO     | pipeline.correction.correction2:generate_possible_corrections:354 - Konnte Korrekturvorschlag '*' nicht erstellen: list index out of range\n",
      "[US-Bürger]\n",
      "2025-05-10 10:09:58.992 | INFO     | pipeline.correction.correction2:generate_possible_corrections:462 - Konnte Korrekturvorschlag 'BOTH_FORMS' nicht erstellen: list index out of range\n",
      "[Präzeptor]\n",
      "2025-05-10 10:09:59.174 | INFO     | pipeline.correction.correction2:generate_possible_corrections:505 - Konnte Korrekturvorschlag '*' nicht erstellen: list index out of range\n",
      "[Präzeptor]\n",
      "2025-05-10 10:09:59.183 | INFO     | pipeline.correction.correction2:generate_possible_corrections:524 - Konnte Korrekturvorschlag 'PLURAL_*' nicht erstellen: list index out of range\n"
     ]
    },
    {
     "name": "stderr",
     "output_type": "stream",
     "text": [
      " 33%|█████████████▎                          | 756/2265 [06:42<17:27,  1.44it/s]"
     ]
    },
    {
     "name": "stdout",
     "output_type": "stream",
     "text": [
      "[Katalysator]\n",
      "2025-05-10 10:09:59.236 | INFO     | pipeline.correction.correction2:generate_possible_corrections:505 - Konnte Korrekturvorschlag '*' nicht erstellen: list index out of range\n",
      "[Katalysator]\n",
      "2025-05-10 10:09:59.245 | INFO     | pipeline.correction.correction2:generate_possible_corrections:524 - Konnte Korrekturvorschlag 'PLURAL_*' nicht erstellen: list index out of range\n"
     ]
    },
    {
     "name": "stderr",
     "output_type": "stream",
     "text": [
      " 34%|█████████████▍                          | 760/2265 [06:43<12:09,  2.06it/s]"
     ]
    },
    {
     "name": "stdout",
     "output_type": "stream",
     "text": [
      "[Beamtenbund-Chef]\n",
      "2025-05-10 10:10:01.051 | INFO     | pipeline.correction.correction2:generate_possible_corrections:505 - Konnte Korrekturvorschlag '*' nicht erstellen: list index out of range\n",
      "[Beamtenbund-Chef]\n",
      "2025-05-10 10:10:01.060 | INFO     | pipeline.correction.correction2:generate_possible_corrections:524 - Konnte Korrekturvorschlag 'PLURAL_*' nicht erstellen: list index out of range\n"
     ]
    },
    {
     "name": "stderr",
     "output_type": "stream",
     "text": [
      " 34%|█████████████▍                          | 763/2265 [06:45<12:12,  2.05it/s]"
     ]
    },
    {
     "name": "stdout",
     "output_type": "stream",
     "text": [
      "[Geschäftskunden]\n",
      "2025-05-10 10:10:02.477 | INFO     | pipeline.correction.correction2:generate_possible_corrections:354 - Konnte Korrekturvorschlag '*' nicht erstellen: list index out of range\n",
      "[Geschäftskunden]\n",
      "2025-05-10 10:10:02.486 | INFO     | pipeline.correction.correction2:generate_possible_corrections:462 - Konnte Korrekturvorschlag 'BOTH_FORMS' nicht erstellen: list index out of range\n"
     ]
    },
    {
     "name": "stderr",
     "output_type": "stream",
     "text": [
      " 34%|█████████████▋                          | 776/2265 [06:50<06:47,  3.65it/s]"
     ]
    },
    {
     "name": "stdout",
     "output_type": "stream",
     "text": [
      "2025-05-10 10:10:07.449 | ERROR    | pipeline.full_pipeline:full_pipeline:38 - Fehler bei needs_to_be_gendered() für 'Emigranten': 'NN'\n"
     ]
    },
    {
     "name": "stderr",
     "output_type": "stream",
     "text": [
      " 35%|█████████████▊                          | 783/2265 [06:52<08:25,  2.93it/s]"
     ]
    },
    {
     "name": "stdout",
     "output_type": "stream",
     "text": [
      "[keiner]\n",
      "2025-05-10 10:10:09.362 | INFO     | pipeline.correction.correction2:generate_possible_corrections:524 - Konnte Korrekturvorschlag 'PLURAL_*' nicht erstellen: list index out of range\n",
      "[der]\n",
      "2025-05-10 10:10:09.363 | INFO     | pipeline.correction.correction2:generate_possible_corrections:524 - Konnte Korrekturvorschlag 'PLURAL_*' nicht erstellen: list index out of range\n",
      "2025-05-10 10:10:09.510 | INFO     | pipeline.correction.verb.change_verb_form:change_verb_form:13 - lex_target_verb not found: lie\n",
      "[sich, Prinz]\n",
      "2025-05-10 10:10:09.510 | INFO     | pipeline.correction.correction2:generate_possible_corrections:524 - Konnte Korrekturvorschlag 'PLURAL_*' nicht erstellen: Das Verb konnte im Lexikon nicht gefunden werden: lie\n"
     ]
    },
    {
     "name": "stderr",
     "output_type": "stream",
     "text": [
      " 35%|█████████████▉                          | 788/2265 [06:53<05:58,  4.12it/s]"
     ]
    },
    {
     "name": "stdout",
     "output_type": "stream",
     "text": [
      "2025-05-10 10:10:10.412 | ERROR    | pipeline.full_pipeline:full_pipeline:38 - Fehler bei needs_to_be_gendered() für 'einer': 'NoneType' object is not iterable\n",
      "2025-05-10 10:10:10.422 | ERROR    | pipeline.full_pipeline:full_pipeline:38 - Fehler bei needs_to_be_gendered() für 'Ballettdirektoren': 'NoneType' object is not iterable\n",
      "2025-05-10 10:10:10.423 | ERROR    | pipeline.full_pipeline:full_pipeline:38 - Fehler bei needs_to_be_gendered() für 'Kenner': 'NN'\n"
     ]
    },
    {
     "name": "stderr",
     "output_type": "stream",
     "text": [
      " 35%|█████████████▉                          | 790/2265 [06:53<05:14,  4.68it/s]"
     ]
    },
    {
     "name": "stdout",
     "output_type": "stream",
     "text": [
      "2025-05-10 10:10:11.214 | ERROR    | pipeline.full_pipeline:full_pipeline:38 - Fehler bei needs_to_be_gendered() für 'Grünen-Politiker': 'NN'\n"
     ]
    },
    {
     "name": "stderr",
     "output_type": "stream",
     "text": [
      " 35%|██████████████                          | 796/2265 [06:55<06:17,  3.89it/s]"
     ]
    },
    {
     "name": "stdout",
     "output_type": "stream",
     "text": [
      "[UN-Vertreter]\n",
      "2025-05-10 10:10:12.446 | INFO     | pipeline.correction.correction2:generate_possible_corrections:505 - Konnte Korrekturvorschlag '*' nicht erstellen: list index out of range\n",
      "[UN-Vertreter]\n",
      "2025-05-10 10:10:12.455 | INFO     | pipeline.correction.correction2:generate_possible_corrections:524 - Konnte Korrekturvorschlag 'PLURAL_*' nicht erstellen: list index out of range\n",
      "[UN-Vertreter]\n",
      "2025-05-10 10:10:12.493 | INFO     | pipeline.correction.correction2:generate_possible_corrections:505 - Konnte Korrekturvorschlag '*' nicht erstellen: list index out of range\n",
      "[UN-Vertreter]\n",
      "2025-05-10 10:10:12.502 | INFO     | pipeline.correction.correction2:generate_possible_corrections:524 - Konnte Korrekturvorschlag 'PLURAL_*' nicht erstellen: list index out of range\n"
     ]
    },
    {
     "name": "stderr",
     "output_type": "stream",
     "text": [
      " 35%|██████████████▏                         | 802/2265 [06:57<08:50,  2.76it/s]"
     ]
    },
    {
     "name": "stdout",
     "output_type": "stream",
     "text": [
      "[Atomtestgegnern]\n",
      "2025-05-10 10:10:14.707 | INFO     | pipeline.correction.correction2:generate_possible_corrections:354 - Konnte Korrekturvorschlag '*' nicht erstellen: list index out of range\n",
      "[Atomtestgegnern]\n",
      "2025-05-10 10:10:14.715 | INFO     | pipeline.correction.correction2:generate_possible_corrections:462 - Konnte Korrekturvorschlag 'BOTH_FORMS' nicht erstellen: list index out of range\n"
     ]
    },
    {
     "name": "stderr",
     "output_type": "stream",
     "text": [
      " 36%|██████████████▏                         | 806/2265 [06:58<07:39,  3.17it/s]"
     ]
    },
    {
     "name": "stdout",
     "output_type": "stream",
     "text": [
      "2025-05-10 10:10:15.931 | INFO     | pipeline.correction.verb.change_verb_form:change_verb_form:13 - lex_target_verb not found: besitz\n",
      "[Ausländer, er]\n",
      "2025-05-10 10:10:15.931 | INFO     | pipeline.correction.correction2:generate_possible_corrections:524 - Konnte Korrekturvorschlag 'PLURAL_*' nicht erstellen: Das Verb konnte im Lexikon nicht gefunden werden: besitz\n",
      "2025-05-10 10:10:15.947 | INFO     | pipeline.correction.verb.change_verb_form:change_verb_form:13 - lex_target_verb not found: besitz\n",
      "[Ausländer, er]\n",
      "2025-05-10 10:10:15.947 | INFO     | pipeline.correction.correction2:generate_possible_corrections:524 - Konnte Korrekturvorschlag 'PLURAL_*' nicht erstellen: Das Verb konnte im Lexikon nicht gefunden werden: besitz\n"
     ]
    },
    {
     "name": "stderr",
     "output_type": "stream",
     "text": [
      " 36%|██████████████▎                         | 808/2265 [06:59<06:22,  3.81it/s]"
     ]
    },
    {
     "name": "stdout",
     "output_type": "stream",
     "text": [
      "[US-Wissenschaftler]\n",
      "2025-05-10 10:10:16.360 | INFO     | pipeline.correction.correction2:generate_possible_corrections:505 - Konnte Korrekturvorschlag '*' nicht erstellen: list index out of range\n",
      "[US-Wissenschaftler]\n",
      "2025-05-10 10:10:16.368 | INFO     | pipeline.correction.correction2:generate_possible_corrections:524 - Konnte Korrekturvorschlag 'PLURAL_*' nicht erstellen: list index out of range\n"
     ]
    },
    {
     "name": "stderr",
     "output_type": "stream",
     "text": [
      " 36%|██████████████▍                         | 814/2265 [07:01<08:45,  2.76it/s]"
     ]
    },
    {
     "name": "stdout",
     "output_type": "stream",
     "text": [
      "2025-05-10 10:10:18.189 | ERROR    | pipeline.full_pipeline:full_pipeline:38 - Fehler bei needs_to_be_gendered() für 'Befürworter': 'NN'\n"
     ]
    },
    {
     "name": "stderr",
     "output_type": "stream",
     "text": [
      " 36%|██████████████▌                         | 825/2265 [07:09<30:48,  1.28s/it]"
     ]
    },
    {
     "name": "stdout",
     "output_type": "stream",
     "text": [
      "[Niedersachse]\n",
      "2025-05-10 10:10:27.940 | INFO     | pipeline.correction.correction2:generate_possible_corrections:505 - Konnte Korrekturvorschlag '*' nicht erstellen: list index out of range\n",
      "[Niedersachse]\n",
      "2025-05-10 10:10:27.946 | INFO     | pipeline.correction.correction2:generate_possible_corrections:524 - Konnte Korrekturvorschlag 'PLURAL_*' nicht erstellen: list index out of range\n",
      "[Sektor]\n",
      "2025-05-10 10:10:28.213 | INFO     | pipeline.correction.correction2:generate_possible_corrections:505 - Konnte Korrekturvorschlag '*' nicht erstellen: list index out of range\n",
      "[Sektor]\n",
      "2025-05-10 10:10:28.222 | INFO     | pipeline.correction.correction2:generate_possible_corrections:524 - Konnte Korrekturvorschlag 'PLURAL_*' nicht erstellen: list index out of range\n"
     ]
    },
    {
     "name": "stderr",
     "output_type": "stream",
     "text": [
      " 37%|██████████████▌                         | 827/2265 [07:13<43:48,  1.83s/it]"
     ]
    },
    {
     "name": "stdout",
     "output_type": "stream",
     "text": [
      "[1600-Tonnen-Segler]\n",
      "2025-05-10 10:10:30.744 | INFO     | pipeline.correction.correction2:generate_possible_corrections:505 - Konnte Korrekturvorschlag '*' nicht erstellen: list index out of range\n",
      "[1600-Tonnen-Segler]\n",
      "2025-05-10 10:10:30.753 | INFO     | pipeline.correction.correction2:generate_possible_corrections:524 - Konnte Korrekturvorschlag 'PLURAL_*' nicht erstellen: list index out of range\n"
     ]
    },
    {
     "name": "stderr",
     "output_type": "stream",
     "text": [
      " 37%|██████████████▌                         | 828/2265 [07:15<40:58,  1.71s/it]"
     ]
    },
    {
     "name": "stdout",
     "output_type": "stream",
     "text": [
      "[Inhalte]\n",
      "2025-05-10 10:10:32.255 | INFO     | pipeline.correction.correction2:generate_possible_corrections:354 - Konnte Korrekturvorschlag '*' nicht erstellen: list index out of range\n",
      "[Inhalte]\n",
      "2025-05-10 10:10:32.261 | INFO     | pipeline.correction.correction2:generate_possible_corrections:462 - Konnte Korrekturvorschlag 'BOTH_FORMS' nicht erstellen: list index out of range\n",
      "[Sachverständigenrat, seinem]\n",
      "2025-05-10 10:10:32.290 | INFO     | pipeline.correction.correction2:generate_possible_corrections:505 - Konnte Korrekturvorschlag '*' nicht erstellen: list index out of range\n",
      "[Sachverständigenrat, seinem]\n",
      "2025-05-10 10:10:32.299 | INFO     | pipeline.correction.correction2:generate_possible_corrections:524 - Konnte Korrekturvorschlag 'PLURAL_*' nicht erstellen: list index out of range\n",
      "[Faktor]\n",
      "2025-05-10 10:10:32.322 | INFO     | pipeline.correction.correction2:generate_possible_corrections:505 - Konnte Korrekturvorschlag '*' nicht erstellen: list index out of range\n",
      "[Faktor]\n",
      "2025-05-10 10:10:32.331 | INFO     | pipeline.correction.correction2:generate_possible_corrections:524 - Konnte Korrekturvorschlag 'PLURAL_*' nicht erstellen: list index out of range\n"
     ]
    },
    {
     "name": "stderr",
     "output_type": "stream",
     "text": [
      " 37%|██████████████▋                         | 830/2265 [07:16<26:00,  1.09s/it]"
     ]
    },
    {
     "name": "stdout",
     "output_type": "stream",
     "text": [
      "[Hunde]\n",
      "2025-05-10 10:10:36.360 | INFO     | pipeline.correction.correction2:generate_possible_corrections:462 - Konnte Korrekturvorschlag 'BOTH_FORMS' nicht erstellen: Es darf nur ein Element mit dieser Beziehung geben. (Hunde mit cd, war aber [weder, noch])\n",
      "[Bonivard-Pilger]\n",
      "2025-05-10 10:10:36.555 | INFO     | pipeline.correction.correction2:generate_possible_corrections:354 - Konnte Korrekturvorschlag '*' nicht erstellen: list index out of range\n",
      "[Bonivard-Pilger]\n",
      "2025-05-10 10:10:36.563 | INFO     | pipeline.correction.correction2:generate_possible_corrections:462 - Konnte Korrekturvorschlag 'BOTH_FORMS' nicht erstellen: list index out of range\n",
      "[Muntermacher, seine]\n",
      "2025-05-10 10:10:36.741 | INFO     | pipeline.correction.correction2:generate_possible_corrections:354 - Konnte Korrekturvorschlag '*' nicht erstellen: list index out of range\n",
      "[Muntermacher, seine]\n",
      "2025-05-10 10:10:36.751 | INFO     | pipeline.correction.correction2:generate_possible_corrections:462 - Konnte Korrekturvorschlag 'BOTH_FORMS' nicht erstellen: list index out of range\n"
     ]
    },
    {
     "name": "stderr",
     "output_type": "stream",
     "text": [
      " 37%|██████████████▋                         | 832/2265 [07:20<33:07,  1.39s/it]"
     ]
    },
    {
     "name": "stdout",
     "output_type": "stream",
     "text": [
      "[Wintersportmacher]\n",
      "2025-05-10 10:10:38.510 | INFO     | pipeline.correction.correction2:generate_possible_corrections:354 - Konnte Korrekturvorschlag '*' nicht erstellen: list index out of range\n",
      "[Wintersportmacher]\n",
      "2025-05-10 10:10:38.520 | INFO     | pipeline.correction.correction2:generate_possible_corrections:462 - Konnte Korrekturvorschlag 'BOTH_FORMS' nicht erstellen: list index out of range\n",
      "[Tourismuswerber]\n",
      "2025-05-10 10:10:38.782 | INFO     | pipeline.correction.correction2:generate_possible_corrections:354 - Konnte Korrekturvorschlag '*' nicht erstellen: list index out of range\n",
      "[Tourismuswerber]\n",
      "2025-05-10 10:10:38.792 | INFO     | pipeline.correction.correction2:generate_possible_corrections:462 - Konnte Korrekturvorschlag 'BOTH_FORMS' nicht erstellen: list index out of range\n",
      "[TUI-Kunden]\n",
      "2025-05-10 10:10:38.907 | INFO     | pipeline.correction.correction2:generate_possible_corrections:354 - Konnte Korrekturvorschlag '*' nicht erstellen: list index out of range\n",
      "[TUI-Kunden]\n",
      "2025-05-10 10:10:38.917 | INFO     | pipeline.correction.correction2:generate_possible_corrections:462 - Konnte Korrekturvorschlag 'BOTH_FORMS' nicht erstellen: list index out of range\n"
     ]
    },
    {
     "name": "stderr",
     "output_type": "stream",
     "text": [
      " 37%|██████████████▊                         | 836/2265 [07:24<23:40,  1.01it/s]"
     ]
    },
    {
     "name": "stdout",
     "output_type": "stream",
     "text": [
      "[Niedersachsen]\n",
      "2025-05-10 10:10:42.708 | INFO     | pipeline.correction.correction2:generate_possible_corrections:505 - Konnte Korrekturvorschlag '*' nicht erstellen: list index out of range\n",
      "[Niedersachsen]\n",
      "2025-05-10 10:10:42.717 | INFO     | pipeline.correction.correction2:generate_possible_corrections:524 - Konnte Korrekturvorschlag 'PLURAL_*' nicht erstellen: list index out of range\n",
      "2025-05-10 10:10:42.826 | INFO     | pipeline.correction.verb.change_verb_form:change_verb_form:13 - lex_target_verb not found: Fällt\n",
      "[er]\n",
      "2025-05-10 10:10:42.826 | INFO     | pipeline.correction.correction2:generate_possible_corrections:524 - Konnte Korrekturvorschlag 'PLURAL_*' nicht erstellen: Das Verb konnte im Lexikon nicht gefunden werden: Fällt\n"
     ]
    },
    {
     "name": "stderr",
     "output_type": "stream",
     "text": [
      " 37%|██████████████▊                         | 838/2265 [07:26<24:53,  1.05s/it]"
     ]
    },
    {
     "name": "stdout",
     "output_type": "stream",
     "text": [
      "[Robinson-Kunden, davon]\n",
      "2025-05-10 10:10:43.665 | INFO     | pipeline.correction.correction2:generate_possible_corrections:354 - Konnte Korrekturvorschlag '*' nicht erstellen: list index out of range\n",
      "[Robinson-Kunden, davon]\n",
      "2025-05-10 10:10:43.673 | INFO     | pipeline.correction.correction2:generate_possible_corrections:462 - Konnte Korrekturvorschlag 'BOTH_FORMS' nicht erstellen: list index out of range\n"
     ]
    },
    {
     "name": "stderr",
     "output_type": "stream",
     "text": [
      " 37%|██████████████▊                         | 842/2265 [07:31<32:36,  1.37s/it]"
     ]
    },
    {
     "name": "stdout",
     "output_type": "stream",
     "text": [
      "[Taxifahrer]\n",
      "2025-05-10 10:10:48.724 | INFO     | pipeline.correction.correction2:generate_possible_corrections:354 - Konnte Korrekturvorschlag '*' nicht erstellen: list index out of range\n",
      "[Taxifahrer]\n",
      "2025-05-10 10:10:48.730 | INFO     | pipeline.correction.correction2:generate_possible_corrections:462 - Konnte Korrekturvorschlag 'BOTH_FORMS' nicht erstellen: list index out of range\n"
     ]
    },
    {
     "name": "stderr",
     "output_type": "stream",
     "text": [
      " 37%|██████████████▉                         | 843/2265 [07:32<31:05,  1.31s/it]"
     ]
    },
    {
     "name": "stdout",
     "output_type": "stream",
     "text": [
      "[Sektoren]\n",
      "2025-05-10 10:10:49.845 | INFO     | pipeline.correction.correction2:generate_possible_corrections:354 - Konnte Korrekturvorschlag '*' nicht erstellen: list index out of range\n",
      "[Sektoren]\n",
      "2025-05-10 10:10:49.854 | INFO     | pipeline.correction.correction2:generate_possible_corrections:462 - Konnte Korrekturvorschlag 'BOTH_FORMS' nicht erstellen: list index out of range\n"
     ]
    },
    {
     "name": "stderr",
     "output_type": "stream",
     "text": [
      " 37%|██████████████▉                         | 847/2265 [07:34<16:49,  1.40it/s]"
     ]
    },
    {
     "name": "stdout",
     "output_type": "stream",
     "text": [
      "[Reisepaketanbieter, sich]\n",
      "2025-05-10 10:10:51.967 | INFO     | pipeline.correction.correction2:generate_possible_corrections:354 - Konnte Korrekturvorschlag '*' nicht erstellen: list index out of range\n",
      "[Reisepaketanbieter, sich]\n",
      "2025-05-10 10:10:51.976 | INFO     | pipeline.correction.correction2:generate_possible_corrections:462 - Konnte Korrekturvorschlag 'BOTH_FORMS' nicht erstellen: list index out of range\n"
     ]
    },
    {
     "name": "stderr",
     "output_type": "stream",
     "text": [
      " 37%|██████████████▉                         | 848/2265 [07:35<14:58,  1.58it/s]"
     ]
    },
    {
     "name": "stdout",
     "output_type": "stream",
     "text": [
      "[Veranstalter, er]\n",
      "2025-05-10 10:10:52.298 | INFO     | pipeline.correction.correction2:generate_possible_corrections:505 - Konnte Korrekturvorschlag '*' nicht erstellen: object of type 'NoneType' has no len()\n",
      "[Veranstalter, er]\n",
      "2025-05-10 10:10:52.298 | INFO     | pipeline.correction.correction2:generate_possible_corrections:524 - Konnte Korrekturvorschlag 'PLURAL_*' nicht erstellen: object of type 'NoneType' has no len()\n",
      "[Veranstalter, er]\n",
      "2025-05-10 10:10:52.300 | INFO     | pipeline.correction.correction2:generate_possible_corrections:505 - Konnte Korrekturvorschlag '*' nicht erstellen: object of type 'NoneType' has no len()\n",
      "[Veranstalter, er]\n",
      "2025-05-10 10:10:52.300 | INFO     | pipeline.correction.correction2:generate_possible_corrections:524 - Konnte Korrekturvorschlag 'PLURAL_*' nicht erstellen: object of type 'NoneType' has no len()\n"
     ]
    },
    {
     "name": "stderr",
     "output_type": "stream",
     "text": [
      " 38%|███████████████                         | 851/2265 [07:37<17:43,  1.33it/s]"
     ]
    },
    {
     "name": "stdout",
     "output_type": "stream",
     "text": [
      "2025-05-10 10:10:58.527 | ERROR    | pipeline.full_pipeline:full_pipeline:38 - Fehler bei needs_to_be_gendered() für 'Politiker': 'NN'\n",
      "2025-05-10 10:10:59.056 | ERROR    | pipeline.full_pipeline:full_pipeline:38 - Fehler bei needs_to_be_gendered() für 'Mitarbeiter': 'NN'\n",
      "[McKinsey-Forscher]\n",
      "2025-05-10 10:10:59.113 | INFO     | pipeline.correction.correction2:generate_possible_corrections:354 - Konnte Korrekturvorschlag '*' nicht erstellen: list index out of range\n",
      "[McKinsey-Forscher]\n",
      "2025-05-10 10:10:59.121 | INFO     | pipeline.correction.correction2:generate_possible_corrections:462 - Konnte Korrekturvorschlag 'BOTH_FORMS' nicht erstellen: list index out of range\n"
     ]
    },
    {
     "name": "stderr",
     "output_type": "stream",
     "text": [
      " 38%|███████████████                         | 853/2265 [07:42<31:57,  1.36s/it]"
     ]
    },
    {
     "name": "stdout",
     "output_type": "stream",
     "text": [
      "[Facharbeiter]\n",
      "2025-05-10 10:11:03.994 | INFO     | pipeline.correction.correction2:generate_possible_corrections:462 - Konnte Korrekturvorschlag 'BOTH_FORMS' nicht erstellen: Es darf nur ein Element mit dieser Beziehung geben. (Facharbeiter mit cd, war aber [oder, sondern])\n"
     ]
    },
    {
     "name": "stderr",
     "output_type": "stream",
     "text": [
      " 38%|███████████████                         | 856/2265 [07:49<42:17,  1.80s/it]"
     ]
    },
    {
     "name": "stdout",
     "output_type": "stream",
     "text": [
      "[sich, Judenhasser]\n",
      "2025-05-10 10:11:06.673 | INFO     | pipeline.correction.correction2:generate_possible_corrections:354 - Konnte Korrekturvorschlag '*' nicht erstellen: list index out of range\n",
      "[sich, Judenhasser]\n",
      "2025-05-10 10:11:06.683 | INFO     | pipeline.correction.correction2:generate_possible_corrections:462 - Konnte Korrekturvorschlag 'BOTH_FORMS' nicht erstellen: list index out of range\n"
     ]
    },
    {
     "name": "stderr",
     "output_type": "stream",
     "text": [
      " 38%|███████████████▏                        | 857/2265 [07:50<34:19,  1.46s/it]"
     ]
    },
    {
     "name": "stdout",
     "output_type": "stream",
     "text": [
      "[NS-Täter]\n",
      "2025-05-10 10:11:07.316 | INFO     | pipeline.correction.correction2:generate_possible_corrections:354 - Konnte Korrekturvorschlag '*' nicht erstellen: list index out of range\n",
      "[NS-Täter]\n",
      "2025-05-10 10:11:07.326 | INFO     | pipeline.correction.correction2:generate_possible_corrections:462 - Konnte Korrekturvorschlag 'BOTH_FORMS' nicht erstellen: list index out of range\n",
      "[Zustrom]\n",
      "2025-05-10 10:11:07.367 | INFO     | pipeline.correction.correction2:generate_possible_corrections:505 - Konnte Korrekturvorschlag '*' nicht erstellen: list index out of range\n",
      "[Zustrom]\n",
      "2025-05-10 10:11:07.376 | INFO     | pipeline.correction.correction2:generate_possible_corrections:524 - Konnte Korrekturvorschlag 'PLURAL_*' nicht erstellen: list index out of range\n"
     ]
    },
    {
     "name": "stderr",
     "output_type": "stream",
     "text": [
      " 38%|███████████████▏                        | 863/2265 [07:55<26:10,  1.12s/it]"
     ]
    },
    {
     "name": "stdout",
     "output_type": "stream",
     "text": [
      "[Weltökonom]\n",
      "2025-05-10 10:11:14.495 | INFO     | pipeline.correction.correction2:generate_possible_corrections:505 - Konnte Korrekturvorschlag '*' nicht erstellen: list index out of range\n",
      "[Weltökonom]\n",
      "2025-05-10 10:11:14.505 | INFO     | pipeline.correction.correction2:generate_possible_corrections:524 - Konnte Korrekturvorschlag 'PLURAL_*' nicht erstellen: list index out of range\n",
      "[Niedersachsen, seiner]\n",
      "2025-05-10 10:11:14.677 | INFO     | pipeline.correction.correction2:generate_possible_corrections:505 - Konnte Korrekturvorschlag '*' nicht erstellen: list index out of range\n",
      "[Niedersachsen, seiner]\n",
      "2025-05-10 10:11:14.683 | INFO     | pipeline.correction.correction2:generate_possible_corrections:524 - Konnte Korrekturvorschlag 'PLURAL_*' nicht erstellen: list index out of range\n",
      "[Oberstratege]\n",
      "2025-05-10 10:11:14.708 | INFO     | pipeline.correction.correction2:generate_possible_corrections:505 - Konnte Korrekturvorschlag '*' nicht erstellen: list index out of range\n",
      "[Oberstratege]\n",
      "2025-05-10 10:11:14.718 | INFO     | pipeline.correction.correction2:generate_possible_corrections:524 - Konnte Korrekturvorschlag 'PLURAL_*' nicht erstellen: list index out of range\n",
      "[Niedersachsen, seiner]\n",
      "2025-05-10 10:11:14.872 | INFO     | pipeline.correction.correction2:generate_possible_corrections:505 - Konnte Korrekturvorschlag '*' nicht erstellen: list index out of range\n",
      "[Niedersachsen, seiner]\n",
      "2025-05-10 10:11:14.879 | INFO     | pipeline.correction.correction2:generate_possible_corrections:524 - Konnte Korrekturvorschlag 'PLURAL_*' nicht erstellen: list index out of range\n"
     ]
    },
    {
     "name": "stderr",
     "output_type": "stream",
     "text": [
      " 38%|███████████████▎                        | 864/2265 [07:57<34:46,  1.49s/it]"
     ]
    },
    {
     "name": "stdout",
     "output_type": "stream",
     "text": [
      "2025-05-10 10:11:15.953 | ERROR    | pipeline.full_pipeline:full_pipeline:38 - Fehler bei needs_to_be_gendered() für 'Ministerpräsident': Es darf nur ein Element mit dieser Beziehung geben. (wird mit sb, war aber [Nachfolger, Peres])\n"
     ]
    },
    {
     "name": "stderr",
     "output_type": "stream",
     "text": [
      " 38%|███████████████▎                        | 868/2265 [08:02<26:37,  1.14s/it]"
     ]
    },
    {
     "name": "stdout",
     "output_type": "stream",
     "text": [
      "[Bergbauern]\n",
      "2025-05-10 10:11:21.243 | INFO     | pipeline.correction.correction2:generate_possible_corrections:354 - Konnte Korrekturvorschlag '*' nicht erstellen: list index out of range\n",
      "[Bergbauern]\n",
      "2025-05-10 10:11:21.251 | INFO     | pipeline.correction.correction2:generate_possible_corrections:462 - Konnte Korrekturvorschlag 'BOTH_FORMS' nicht erstellen: list index out of range\n",
      "[Nebenerwerbsbauern]\n",
      "2025-05-10 10:11:21.334 | INFO     | pipeline.correction.correction2:generate_possible_corrections:354 - Konnte Korrekturvorschlag '*' nicht erstellen: list index out of range\n",
      "[Nebenerwerbsbauern]\n",
      "2025-05-10 10:11:21.343 | INFO     | pipeline.correction.correction2:generate_possible_corrections:462 - Konnte Korrekturvorschlag 'BOTH_FORMS' nicht erstellen: list index out of range\n"
     ]
    },
    {
     "name": "stderr",
     "output_type": "stream",
     "text": [
      " 39%|███████████████▍                        | 874/2265 [08:08<20:16,  1.14it/s]"
     ]
    },
    {
     "name": "stdout",
     "output_type": "stream",
     "text": [
      "[Ex-Präsident, dessen]\n",
      "2025-05-10 10:11:26.072 | INFO     | pipeline.correction.correction2:generate_possible_corrections:505 - Konnte Korrekturvorschlag '*' nicht erstellen: list index out of range\n",
      "[Ex-Präsident, dessen]\n",
      "2025-05-10 10:11:26.081 | INFO     | pipeline.correction.correction2:generate_possible_corrections:524 - Konnte Korrekturvorschlag 'PLURAL_*' nicht erstellen: list index out of range\n",
      "[Ex-Präsident, dessen]\n",
      "2025-05-10 10:11:26.093 | INFO     | pipeline.correction.correction2:generate_possible_corrections:505 - Konnte Korrekturvorschlag '*' nicht erstellen: list index out of range\n",
      "[Ex-Präsident, dessen]\n",
      "2025-05-10 10:11:26.102 | INFO     | pipeline.correction.correction2:generate_possible_corrections:524 - Konnte Korrekturvorschlag 'PLURAL_*' nicht erstellen: list index out of range\n",
      "[Ex-Präsidenten]\n",
      "2025-05-10 10:11:26.138 | INFO     | pipeline.correction.correction2:generate_possible_corrections:505 - Konnte Korrekturvorschlag '*' nicht erstellen: list index out of range\n",
      "[Ex-Präsidenten]\n",
      "2025-05-10 10:11:26.147 | INFO     | pipeline.correction.correction2:generate_possible_corrections:524 - Konnte Korrekturvorschlag 'PLURAL_*' nicht erstellen: list index out of range\n"
     ]
    },
    {
     "name": "stderr",
     "output_type": "stream",
     "text": [
      " 39%|███████████████▍                        | 877/2265 [08:10<13:01,  1.78it/s]"
     ]
    },
    {
     "name": "stdout",
     "output_type": "stream",
     "text": [
      "[Hotelangestellter]\n",
      "2025-05-10 10:11:27.158 | INFO     | pipeline.correction.correction2:generate_possible_corrections:505 - Konnte Korrekturvorschlag '*' nicht erstellen: list index out of range\n",
      "[Hotelangestellter]\n",
      "2025-05-10 10:11:27.159 | INFO     | pipeline.correction.correction2:generate_possible_corrections:524 - Konnte Korrekturvorschlag 'PLURAL_*' nicht erstellen: list index out of range\n"
     ]
    },
    {
     "name": "stderr",
     "output_type": "stream",
     "text": [
      " 39%|███████████████▌                        | 882/2265 [08:12<13:04,  1.76it/s]"
     ]
    },
    {
     "name": "stdout",
     "output_type": "stream",
     "text": [
      "[Stabilitätsrat]\n",
      "2025-05-10 10:11:29.847 | INFO     | pipeline.correction.correction2:generate_possible_corrections:505 - Konnte Korrekturvorschlag '*' nicht erstellen: list index out of range\n",
      "[Stabilitätsrat]\n",
      "2025-05-10 10:11:29.856 | INFO     | pipeline.correction.correction2:generate_possible_corrections:524 - Konnte Korrekturvorschlag 'PLURAL_*' nicht erstellen: list index out of range\n"
     ]
    },
    {
     "name": "stderr",
     "output_type": "stream",
     "text": [
      " 39%|███████████████▌                        | 883/2265 [08:12<11:00,  2.09it/s]"
     ]
    },
    {
     "name": "stdout",
     "output_type": "stream",
     "text": [
      "[Kaufinteressenten]\n",
      "2025-05-10 10:11:30.101 | INFO     | pipeline.correction.correction2:generate_possible_corrections:354 - Konnte Korrekturvorschlag '*' nicht erstellen: list index out of range\n",
      "[Kaufinteressenten]\n",
      "2025-05-10 10:11:30.110 | INFO     | pipeline.correction.correction2:generate_possible_corrections:462 - Konnte Korrekturvorschlag 'BOTH_FORMS' nicht erstellen: list index out of range\n"
     ]
    },
    {
     "name": "stderr",
     "output_type": "stream",
     "text": [
      " 39%|███████████████▋                        | 888/2265 [08:15<10:32,  2.18it/s]"
     ]
    },
    {
     "name": "stdout",
     "output_type": "stream",
     "text": [
      "[Parteivorsitzenden]\n",
      "2025-05-10 10:11:32.308 | INFO     | pipeline.correction.correction2:generate_possible_corrections:505 - Konnte Korrekturvorschlag '*' nicht erstellen: list index out of range\n",
      "[Parteivorsitzenden]\n",
      "2025-05-10 10:11:32.314 | INFO     | pipeline.correction.correction2:generate_possible_corrections:524 - Konnte Korrekturvorschlag 'PLURAL_*' nicht erstellen: list index out of range\n"
     ]
    },
    {
     "name": "stderr",
     "output_type": "stream",
     "text": [
      " 39%|███████████████▋                        | 891/2265 [08:16<09:29,  2.41it/s]"
     ]
    },
    {
     "name": "stdout",
     "output_type": "stream",
     "text": [
      "2025-05-10 10:11:33.532 | INFO     | pipeline.correction.verb.change_verb_form:change_verb_form:13 - lex_target_verb not found: hinsegelt\n",
      "[Passant, sich, er]\n",
      "2025-05-10 10:11:33.532 | INFO     | pipeline.correction.correction2:generate_possible_corrections:524 - Konnte Korrekturvorschlag 'PLURAL_*' nicht erstellen: Das Verb konnte im Lexikon nicht gefunden werden: hinsegelt\n",
      "2025-05-10 10:11:33.549 | INFO     | pipeline.correction.verb.change_verb_form:change_verb_form:13 - lex_target_verb not found: hinsegelt\n",
      "[Passant, sich, er]\n",
      "2025-05-10 10:11:33.549 | INFO     | pipeline.correction.correction2:generate_possible_corrections:524 - Konnte Korrekturvorschlag 'PLURAL_*' nicht erstellen: Das Verb konnte im Lexikon nicht gefunden werden: hinsegelt\n",
      "2025-05-10 10:11:33.588 | INFO     | pipeline.correction.verb.change_verb_form:change_verb_form:13 - lex_target_verb not found: Weigert\n",
      "[sich, Hauseigentümer]\n",
      "2025-05-10 10:11:33.588 | INFO     | pipeline.correction.correction2:generate_possible_corrections:524 - Konnte Korrekturvorschlag 'PLURAL_*' nicht erstellen: Das Verb konnte im Lexikon nicht gefunden werden: Weigert\n"
     ]
    },
    {
     "name": "stderr",
     "output_type": "stream",
     "text": [
      " 40%|███████████████▉                        | 899/2265 [08:18<06:48,  3.34it/s]"
     ]
    },
    {
     "name": "stdout",
     "output_type": "stream",
     "text": [
      "2025-05-10 10:11:36.150 | ERROR    | pipeline.full_pipeline:full_pipeline:38 - Fehler bei needs_to_be_gendered() für 'Kirchenparlamentarier': 'NN'\n"
     ]
    },
    {
     "name": "stderr",
     "output_type": "stream",
     "text": [
      " 40%|███████████████▉                        | 904/2265 [08:21<17:47,  1.28it/s]"
     ]
    },
    {
     "name": "stdout",
     "output_type": "stream",
     "text": [
      "[FDP-Strategen]\n",
      "2025-05-10 10:11:39.081 | INFO     | pipeline.correction.correction2:generate_possible_corrections:354 - Konnte Korrekturvorschlag '*' nicht erstellen: list index out of range\n",
      "[FDP-Strategen]\n",
      "2025-05-10 10:11:39.091 | INFO     | pipeline.correction.correction2:generate_possible_corrections:462 - Konnte Korrekturvorschlag 'BOTH_FORMS' nicht erstellen: list index out of range\n"
     ]
    },
    {
     "name": "stderr",
     "output_type": "stream",
     "text": [
      " 40%|████████████████                        | 910/2265 [08:24<12:08,  1.86it/s]"
     ]
    },
    {
     "name": "stdout",
     "output_type": "stream",
     "text": [
      "[CDU-Parlamentarier]\n",
      "2025-05-10 10:11:42.023 | INFO     | pipeline.correction.correction2:generate_possible_corrections:354 - Konnte Korrekturvorschlag '*' nicht erstellen: list index out of range\n",
      "[CDU-Parlamentarier]\n",
      "2025-05-10 10:11:42.032 | INFO     | pipeline.correction.correction2:generate_possible_corrections:462 - Konnte Korrekturvorschlag 'BOTH_FORMS' nicht erstellen: list index out of range\n"
     ]
    },
    {
     "name": "stderr",
     "output_type": "stream",
     "text": [
      " 40%|████████████████                        | 913/2265 [08:25<09:28,  2.38it/s]"
     ]
    },
    {
     "name": "stdout",
     "output_type": "stream",
     "text": [
      "2025-05-10 10:11:43.100 | INFO     | pipeline.correction.verb.change_verb_form:change_verb_form:13 - lex_target_verb not found: gleichsetzt\n",
      "[Minister]\n",
      "2025-05-10 10:11:43.100 | INFO     | pipeline.correction.correction2:generate_possible_corrections:524 - Konnte Korrekturvorschlag 'PLURAL_*' nicht erstellen: Das Verb konnte im Lexikon nicht gefunden werden: gleichsetzt\n"
     ]
    },
    {
     "name": "stderr",
     "output_type": "stream",
     "text": [
      " 41%|████████████████▏                       | 919/2265 [08:28<09:52,  2.27it/s]"
     ]
    },
    {
     "name": "stdout",
     "output_type": "stream",
     "text": [
      "[US-Extremisten]\n",
      "2025-05-10 10:11:45.702 | INFO     | pipeline.correction.correction2:generate_possible_corrections:354 - Konnte Korrekturvorschlag '*' nicht erstellen: list index out of range\n",
      "[US-Extremisten]\n",
      "2025-05-10 10:11:45.711 | INFO     | pipeline.correction.correction2:generate_possible_corrections:462 - Konnte Korrekturvorschlag 'BOTH_FORMS' nicht erstellen: list index out of range\n"
     ]
    },
    {
     "name": "stderr",
     "output_type": "stream",
     "text": [
      " 41%|████████████████▎                       | 924/2265 [08:29<06:16,  3.56it/s]"
     ]
    },
    {
     "name": "stdout",
     "output_type": "stream",
     "text": [
      "[VW-Sprecher]\n",
      "2025-05-10 10:11:46.896 | INFO     | pipeline.correction.correction2:generate_possible_corrections:505 - Konnte Korrekturvorschlag '*' nicht erstellen: list index out of range\n",
      "[VW-Sprecher]\n",
      "2025-05-10 10:11:46.905 | INFO     | pipeline.correction.correction2:generate_possible_corrections:524 - Konnte Korrekturvorschlag 'PLURAL_*' nicht erstellen: list index out of range\n"
     ]
    },
    {
     "name": "stderr",
     "output_type": "stream",
     "text": [
      " 41%|████████████████▍                       | 931/2265 [08:31<05:37,  3.95it/s]"
     ]
    },
    {
     "name": "stdout",
     "output_type": "stream",
     "text": [
      "[US-Zulieferer]\n",
      "2025-05-10 10:11:48.837 | INFO     | pipeline.correction.correction2:generate_possible_corrections:354 - Konnte Korrekturvorschlag '*' nicht erstellen: list index out of range\n",
      "[US-Zulieferer]\n",
      "2025-05-10 10:11:48.847 | INFO     | pipeline.correction.correction2:generate_possible_corrections:462 - Konnte Korrekturvorschlag 'BOTH_FORMS' nicht erstellen: list index out of range\n",
      "[BMW-Kunde]\n",
      "2025-05-10 10:11:48.860 | INFO     | pipeline.correction.correction2:generate_possible_corrections:505 - Konnte Korrekturvorschlag '*' nicht erstellen: list index out of range\n",
      "[BMW-Kunde]\n",
      "2025-05-10 10:11:48.870 | INFO     | pipeline.correction.correction2:generate_possible_corrections:524 - Konnte Korrekturvorschlag 'PLURAL_*' nicht erstellen: list index out of range\n",
      "2025-05-10 10:11:48.883 | INFO     | pipeline.correction.verb.change_verb_form:change_verb_form:13 - lex_target_verb not found: akzepiert\n",
      "[Käufer]\n",
      "2025-05-10 10:11:48.883 | INFO     | pipeline.correction.correction2:generate_possible_corrections:524 - Konnte Korrekturvorschlag 'PLURAL_*' nicht erstellen: Das Verb konnte im Lexikon nicht gefunden werden: akzepiert\n",
      "[Konferenzvorsitzender]\n",
      "2025-05-10 10:11:49.437 | INFO     | pipeline.correction.correction2:generate_possible_corrections:505 - Konnte Korrekturvorschlag '*' nicht erstellen: list index out of range\n",
      "[Konferenzvorsitzender]\n",
      "2025-05-10 10:11:49.442 | INFO     | pipeline.correction.correction2:generate_possible_corrections:524 - Konnte Korrekturvorschlag 'PLURAL_*' nicht erstellen: list index out of range\n",
      "[EU-Vertreter]\n",
      "2025-05-10 10:11:49.460 | INFO     | pipeline.correction.correction2:generate_possible_corrections:505 - Konnte Korrekturvorschlag '*' nicht erstellen: list index out of range\n",
      "[EU-Vertreter]\n",
      "2025-05-10 10:11:49.469 | INFO     | pipeline.correction.correction2:generate_possible_corrections:524 - Konnte Korrekturvorschlag 'PLURAL_*' nicht erstellen: list index out of range\n",
      "[EU-Partner]\n",
      "2025-05-10 10:11:49.500 | INFO     | pipeline.correction.correction2:generate_possible_corrections:354 - Konnte Korrekturvorschlag '*' nicht erstellen: list index out of range\n",
      "[EU-Partner]\n",
      "2025-05-10 10:11:49.509 | INFO     | pipeline.correction.correction2:generate_possible_corrections:462 - Konnte Korrekturvorschlag 'BOTH_FORMS' nicht erstellen: list index out of range\n"
     ]
    },
    {
     "name": "stderr",
     "output_type": "stream",
     "text": [
      " 42%|████████████████▋                       | 943/2265 [08:35<05:44,  3.84it/s]"
     ]
    },
    {
     "name": "stdout",
     "output_type": "stream",
     "text": [
      "[Kleinstunternehmer]\n",
      "2025-05-10 10:11:54.915 | INFO     | pipeline.correction.correction2:generate_possible_corrections:505 - Konnte Korrekturvorschlag '*' nicht erstellen: list index out of range\n",
      "[Kleinstunternehmer]\n",
      "2025-05-10 10:11:54.924 | INFO     | pipeline.correction.correction2:generate_possible_corrections:524 - Konnte Korrekturvorschlag 'PLURAL_*' nicht erstellen: list index out of range\n"
     ]
    },
    {
     "name": "stderr",
     "output_type": "stream",
     "text": [
      " 42%|████████████████▋                       | 944/2265 [08:38<23:21,  1.06s/it]"
     ]
    },
    {
     "name": "stdout",
     "output_type": "stream",
     "text": [
      "[Sektor]\n",
      "2025-05-10 10:11:55.215 | INFO     | pipeline.correction.correction2:generate_possible_corrections:505 - Konnte Korrekturvorschlag '*' nicht erstellen: list index out of range\n",
      "[Sektor]\n",
      "2025-05-10 10:11:55.223 | INFO     | pipeline.correction.correction2:generate_possible_corrections:524 - Konnte Korrekturvorschlag 'PLURAL_*' nicht erstellen: list index out of range\n",
      "[Sektor]\n",
      "2025-05-10 10:11:55.236 | INFO     | pipeline.correction.correction2:generate_possible_corrections:505 - Konnte Korrekturvorschlag '*' nicht erstellen: list index out of range\n",
      "[Sektor]\n",
      "2025-05-10 10:11:55.245 | INFO     | pipeline.correction.correction2:generate_possible_corrections:524 - Konnte Korrekturvorschlag 'PLURAL_*' nicht erstellen: list index out of range\n",
      "[Präzeptor]\n",
      "2025-05-10 10:11:57.136 | INFO     | pipeline.correction.correction2:generate_possible_corrections:505 - Konnte Korrekturvorschlag '*' nicht erstellen: list index out of range\n",
      "[Präzeptor]\n",
      "2025-05-10 10:11:57.145 | INFO     | pipeline.correction.correction2:generate_possible_corrections:524 - Konnte Korrekturvorschlag 'PLURAL_*' nicht erstellen: list index out of range\n"
     ]
    },
    {
     "name": "stderr",
     "output_type": "stream",
     "text": [
      " 42%|████████████████▋                       | 945/2265 [08:40<30:16,  1.38s/it]"
     ]
    },
    {
     "name": "stdout",
     "output_type": "stream",
     "text": [
      "[Polen]\n",
      "2025-05-10 10:11:57.481 | INFO     | pipeline.correction.correction2:generate_possible_corrections:354 - Konnte Korrekturvorschlag '*' nicht erstellen: list index out of range\n",
      "[Polen]\n",
      "2025-05-10 10:11:57.487 | INFO     | pipeline.correction.correction2:generate_possible_corrections:462 - Konnte Korrekturvorschlag 'BOTH_FORMS' nicht erstellen: list index out of range\n"
     ]
    },
    {
     "name": "stderr",
     "output_type": "stream",
     "text": [
      " 42%|████████████████▋                       | 946/2265 [08:40<25:03,  1.14s/it]"
     ]
    },
    {
     "name": "stdout",
     "output_type": "stream",
     "text": [
      "[Moderator]\n",
      "2025-05-10 10:11:58.001 | INFO     | pipeline.correction.correction2:generate_possible_corrections:505 - Konnte Korrekturvorschlag '*' nicht erstellen: list index out of range\n",
      "[Moderator]\n",
      "2025-05-10 10:11:58.002 | INFO     | pipeline.correction.correction2:generate_possible_corrections:524 - Konnte Korrekturvorschlag 'PLURAL_*' nicht erstellen: list index out of range\n"
     ]
    },
    {
     "name": "stderr",
     "output_type": "stream",
     "text": [
      " 42%|████████████████▋                       | 948/2265 [08:42<22:57,  1.05s/it]"
     ]
    },
    {
     "name": "stdout",
     "output_type": "stream",
     "text": [
      "2025-05-10 10:11:59.957 | ERROR    | pipeline.full_pipeline:full_pipeline:38 - Fehler bei needs_to_be_gendered() für 'Premierminister': 'NN'\n"
     ]
    },
    {
     "name": "stderr",
     "output_type": "stream",
     "text": [
      " 42%|████████████████▊                       | 949/2265 [08:43<19:56,  1.10it/s]"
     ]
    },
    {
     "name": "stdout",
     "output_type": "stream",
     "text": [
      "[Chopperfahrer]\n",
      "2025-05-10 10:12:00.593 | INFO     | pipeline.correction.correction2:generate_possible_corrections:505 - Konnte Korrekturvorschlag '*' nicht erstellen: list index out of range\n",
      "[Chopperfahrer]\n",
      "2025-05-10 10:12:00.602 | INFO     | pipeline.correction.correction2:generate_possible_corrections:524 - Konnte Korrekturvorschlag 'PLURAL_*' nicht erstellen: list index out of range\n"
     ]
    },
    {
     "name": "stderr",
     "output_type": "stream",
     "text": [
      " 42%|████████████████▊                       | 954/2265 [08:47<17:36,  1.24it/s]"
     ]
    },
    {
     "name": "stdout",
     "output_type": "stream",
     "text": [
      "[Manager, ihrer]\n",
      "2025-05-10 10:12:04.602 | INFO     | pipeline.correction.correction2:generate_possible_corrections:354 - Konnte Korrekturvorschlag '*' nicht erstellen: list index out of range\n",
      "[Manager, ihrer]\n",
      "2025-05-10 10:12:04.602 | INFO     | pipeline.correction.correction2:generate_possible_corrections:462 - Konnte Korrekturvorschlag 'BOTH_FORMS' nicht erstellen: list index out of range\n"
     ]
    },
    {
     "name": "stderr",
     "output_type": "stream",
     "text": [
      " 42%|████████████████▉                       | 956/2265 [08:48<14:09,  1.54it/s]"
     ]
    },
    {
     "name": "stdout",
     "output_type": "stream",
     "text": [
      "[Streitschlichter]\n",
      "2025-05-10 10:12:05.510 | INFO     | pipeline.correction.correction2:generate_possible_corrections:505 - Konnte Korrekturvorschlag '*' nicht erstellen: list index out of range\n",
      "[Streitschlichter]\n",
      "2025-05-10 10:12:05.516 | INFO     | pipeline.correction.correction2:generate_possible_corrections:524 - Konnte Korrekturvorschlag 'PLURAL_*' nicht erstellen: list index out of range\n"
     ]
    },
    {
     "name": "stderr",
     "output_type": "stream",
     "text": [
      " 42%|████████████████▉                       | 958/2265 [08:49<13:53,  1.57it/s]"
     ]
    },
    {
     "name": "stdout",
     "output_type": "stream",
     "text": [
      "[US-Bürger]\n",
      "2025-05-10 10:12:07.296 | INFO     | pipeline.correction.correction2:generate_possible_corrections:354 - Konnte Korrekturvorschlag '*' nicht erstellen: list index out of range\n",
      "[US-Bürger]\n",
      "2025-05-10 10:12:07.305 | INFO     | pipeline.correction.correction2:generate_possible_corrections:462 - Konnte Korrekturvorschlag 'BOTH_FORMS' nicht erstellen: list index out of range\n",
      "[Präsident]\n",
      "2025-05-10 10:12:07.484 | INFO     | pipeline.correction.correction2:generate_possible_corrections:505 - Konnte Korrekturvorschlag '*' nicht erstellen: list index out of range\n",
      "[Präsident]\n",
      "2025-05-10 10:12:07.484 | INFO     | pipeline.correction.correction2:generate_possible_corrections:524 - Konnte Korrekturvorschlag 'PLURAL_*' nicht erstellen: list index out of range\n"
     ]
    },
    {
     "name": "stderr",
     "output_type": "stream",
     "text": [
      " 42%|████████████████▉                       | 960/2265 [08:50<12:02,  1.81it/s]"
     ]
    },
    {
     "name": "stdout",
     "output_type": "stream",
     "text": [
      "2025-05-10 10:12:07.602 | ERROR    | pipeline.full_pipeline:full_pipeline:38 - Fehler bei needs_to_be_gendered() für 'Präsidenten': 'NN'\n"
     ]
    },
    {
     "name": "stderr",
     "output_type": "stream",
     "text": [
      " 42%|████████████████▉                       | 961/2265 [08:50<10:16,  2.12it/s]"
     ]
    },
    {
     "name": "stdout",
     "output_type": "stream",
     "text": [
      "[Siemens-Chef]\n",
      "2025-05-10 10:12:07.966 | INFO     | pipeline.correction.correction2:generate_possible_corrections:505 - Konnte Korrekturvorschlag '*' nicht erstellen: list index out of range\n",
      "[Siemens-Chef]\n",
      "2025-05-10 10:12:07.975 | INFO     | pipeline.correction.correction2:generate_possible_corrections:524 - Konnte Korrekturvorschlag 'PLURAL_*' nicht erstellen: list index out of range\n"
     ]
    },
    {
     "name": "stderr",
     "output_type": "stream",
     "text": [
      " 43%|█████████████████                       | 963/2265 [08:53<21:20,  1.02it/s]"
     ]
    },
    {
     "name": "stdout",
     "output_type": "stream",
     "text": [
      "[U-Bahn-Arbeiter]\n",
      "2025-05-10 10:12:11.770 | INFO     | pipeline.correction.correction2:generate_possible_corrections:354 - Konnte Korrekturvorschlag '*' nicht erstellen: list index out of range\n",
      "[U-Bahn-Arbeiter]\n",
      "2025-05-10 10:12:11.779 | INFO     | pipeline.correction.correction2:generate_possible_corrections:462 - Konnte Korrekturvorschlag 'BOTH_FORMS' nicht erstellen: list index out of range\n"
     ]
    },
    {
     "name": "stderr",
     "output_type": "stream",
     "text": [
      " 43%|█████████████████                       | 966/2265 [08:56<23:25,  1.08s/it]"
     ]
    },
    {
     "name": "stdout",
     "output_type": "stream",
     "text": [
      "[Pasdaran-Sittenwächter]\n",
      "2025-05-10 10:12:13.857 | INFO     | pipeline.correction.correction2:generate_possible_corrections:354 - Konnte Korrekturvorschlag '*' nicht erstellen: list index out of range\n",
      "[Pasdaran-Sittenwächter]\n",
      "2025-05-10 10:12:13.868 | INFO     | pipeline.correction.correction2:generate_possible_corrections:462 - Konnte Korrekturvorschlag 'BOTH_FORMS' nicht erstellen: list index out of range\n"
     ]
    },
    {
     "name": "stderr",
     "output_type": "stream",
     "text": [
      " 43%|█████████████████                       | 968/2265 [08:57<17:53,  1.21it/s]"
     ]
    },
    {
     "name": "stdout",
     "output_type": "stream",
     "text": [
      "2025-05-10 10:12:15.040 | ERROR    | pipeline.full_pipeline:full_pipeline:38 - Fehler bei needs_to_be_gendered() für 'Richter': Es darf nur ein Element mit dieser Beziehung geben. (ist mit sb, war aber [war, Bräutigam])\n"
     ]
    },
    {
     "name": "stderr",
     "output_type": "stream",
     "text": [
      " 43%|█████████████████                       | 969/2265 [08:58<15:18,  1.41it/s]"
     ]
    },
    {
     "name": "stdout",
     "output_type": "stream",
     "text": [
      "[EU-Partner]\n",
      "2025-05-10 10:12:15.419 | INFO     | pipeline.correction.correction2:generate_possible_corrections:505 - Konnte Korrekturvorschlag '*' nicht erstellen: list index out of range\n",
      "[EU-Partner]\n",
      "2025-05-10 10:12:15.428 | INFO     | pipeline.correction.correction2:generate_possible_corrections:524 - Konnte Korrekturvorschlag 'PLURAL_*' nicht erstellen: list index out of range\n"
     ]
    },
    {
     "name": "stderr",
     "output_type": "stream",
     "text": [
      " 43%|█████████████████▏                      | 972/2265 [09:00<13:50,  1.56it/s]"
     ]
    },
    {
     "name": "stdout",
     "output_type": "stream",
     "text": [
      "[Multiplikatoren]\n",
      "2025-05-10 10:12:17.185 | INFO     | pipeline.correction.correction2:generate_possible_corrections:354 - Konnte Korrekturvorschlag '*' nicht erstellen: list index out of range\n",
      "[Multiplikatoren]\n",
      "2025-05-10 10:12:17.194 | INFO     | pipeline.correction.correction2:generate_possible_corrections:462 - Konnte Korrekturvorschlag 'BOTH_FORMS' nicht erstellen: list index out of range\n"
     ]
    },
    {
     "name": "stderr",
     "output_type": "stream",
     "text": [
      " 43%|█████████████████▏                      | 975/2265 [09:00<07:59,  2.69it/s]"
     ]
    },
    {
     "name": "stdout",
     "output_type": "stream",
     "text": [
      "[US-Botschafter]\n",
      "2025-05-10 10:12:18.395 | INFO     | pipeline.correction.correction2:generate_possible_corrections:505 - Konnte Korrekturvorschlag '*' nicht erstellen: list index out of range\n",
      "[US-Botschafter]\n",
      "2025-05-10 10:12:18.404 | INFO     | pipeline.correction.correction2:generate_possible_corrections:524 - Konnte Korrekturvorschlag 'PLURAL_*' nicht erstellen: list index out of range\n",
      "[UN-Soldaten]\n",
      "2025-05-10 10:12:18.546 | INFO     | pipeline.correction.correction2:generate_possible_corrections:354 - Konnte Korrekturvorschlag '*' nicht erstellen: list index out of range\n",
      "[UN-Soldaten]\n",
      "2025-05-10 10:12:18.555 | INFO     | pipeline.correction.correction2:generate_possible_corrections:462 - Konnte Korrekturvorschlag 'BOTH_FORMS' nicht erstellen: list index out of range\n"
     ]
    },
    {
     "name": "stderr",
     "output_type": "stream",
     "text": [
      " 43%|█████████████████▎                      | 981/2265 [09:04<12:34,  1.70it/s]"
     ]
    },
    {
     "name": "stdout",
     "output_type": "stream",
     "text": [
      "[Regierungsrat]\n",
      "2025-05-10 10:12:21.443 | INFO     | pipeline.correction.correction2:generate_possible_corrections:505 - Konnte Korrekturvorschlag '*' nicht erstellen: list index out of range\n",
      "[Regierungsrat]\n",
      "2025-05-10 10:12:21.451 | INFO     | pipeline.correction.correction2:generate_possible_corrections:524 - Konnte Korrekturvorschlag 'PLURAL_*' nicht erstellen: list index out of range\n"
     ]
    },
    {
     "name": "stderr",
     "output_type": "stream",
     "text": [
      " 43%|█████████████████▍                      | 984/2265 [09:04<07:34,  2.82it/s]"
     ]
    },
    {
     "name": "stdout",
     "output_type": "stream",
     "text": [
      "[OSZE-Beobachtern]\n",
      "2025-05-10 10:12:22.074 | INFO     | pipeline.correction.correction2:generate_possible_corrections:354 - Konnte Korrekturvorschlag '*' nicht erstellen: list index out of range\n",
      "[OSZE-Beobachtern]\n",
      "2025-05-10 10:12:22.083 | INFO     | pipeline.correction.correction2:generate_possible_corrections:462 - Konnte Korrekturvorschlag 'BOTH_FORMS' nicht erstellen: list index out of range\n"
     ]
    },
    {
     "name": "stderr",
     "output_type": "stream",
     "text": [
      " 44%|█████████████████▍                      | 989/2265 [09:06<07:18,  2.91it/s]"
     ]
    },
    {
     "name": "stdout",
     "output_type": "stream",
     "text": [
      "[Kommunalrates]\n",
      "2025-05-10 10:12:23.649 | INFO     | pipeline.correction.correction2:generate_possible_corrections:505 - Konnte Korrekturvorschlag '*' nicht erstellen: list index out of range\n",
      "[Kommunalrates]\n",
      "2025-05-10 10:12:23.657 | INFO     | pipeline.correction.correction2:generate_possible_corrections:524 - Konnte Korrekturvorschlag 'PLURAL_*' nicht erstellen: list index out of range\n"
     ]
    },
    {
     "name": "stderr",
     "output_type": "stream",
     "text": [
      " 44%|█████████████████▌                      | 995/2265 [09:09<10:15,  2.06it/s]"
     ]
    },
    {
     "name": "stdout",
     "output_type": "stream",
     "text": [
      "[Inhalte]\n",
      "2025-05-10 10:12:26.871 | INFO     | pipeline.correction.correction2:generate_possible_corrections:354 - Konnte Korrekturvorschlag '*' nicht erstellen: list index out of range\n",
      "[Inhalte]\n",
      "2025-05-10 10:12:26.876 | INFO     | pipeline.correction.correction2:generate_possible_corrections:462 - Konnte Korrekturvorschlag 'BOTH_FORMS' nicht erstellen: list index out of range\n"
     ]
    },
    {
     "name": "stderr",
     "output_type": "stream",
     "text": [
      " 45%|█████████████████▍                     | 1011/2265 [09:14<06:20,  3.29it/s]"
     ]
    },
    {
     "name": "stdout",
     "output_type": "stream",
     "text": [
      "[US-Botschafter]\n",
      "2025-05-10 10:12:31.428 | INFO     | pipeline.correction.correction2:generate_possible_corrections:505 - Konnte Korrekturvorschlag '*' nicht erstellen: list index out of range\n",
      "[US-Botschafter]\n",
      "2025-05-10 10:12:31.437 | INFO     | pipeline.correction.correction2:generate_possible_corrections:524 - Konnte Korrekturvorschlag 'PLURAL_*' nicht erstellen: list index out of range\n",
      "[UN-Vertreters]\n",
      "2025-05-10 10:12:31.476 | INFO     | pipeline.correction.correction2:generate_possible_corrections:505 - Konnte Korrekturvorschlag '*' nicht erstellen: list index out of range\n",
      "[UN-Vertreters]\n",
      "2025-05-10 10:12:31.485 | INFO     | pipeline.correction.correction2:generate_possible_corrections:524 - Konnte Korrekturvorschlag 'PLURAL_*' nicht erstellen: list index out of range\n"
     ]
    },
    {
     "name": "stderr",
     "output_type": "stream",
     "text": [
      " 45%|█████████████████▌                     | 1019/2265 [09:15<05:05,  4.08it/s]"
     ]
    },
    {
     "name": "stdout",
     "output_type": "stream",
     "text": [
      "[Reaktor]\n",
      "2025-05-10 10:12:33.057 | INFO     | pipeline.correction.correction2:generate_possible_corrections:505 - Konnte Korrekturvorschlag '*' nicht erstellen: list index out of range\n",
      "[Reaktor]\n",
      "2025-05-10 10:12:33.065 | INFO     | pipeline.correction.correction2:generate_possible_corrections:524 - Konnte Korrekturvorschlag 'PLURAL_*' nicht erstellen: list index out of range\n",
      "[Reaktor]\n",
      "2025-05-10 10:12:33.083 | INFO     | pipeline.correction.correction2:generate_possible_corrections:505 - Konnte Korrekturvorschlag '*' nicht erstellen: list index out of range\n",
      "[Reaktor]\n",
      "2025-05-10 10:12:33.092 | INFO     | pipeline.correction.correction2:generate_possible_corrections:524 - Konnte Korrekturvorschlag 'PLURAL_*' nicht erstellen: list index out of range\n",
      "[Generator]\n",
      "2025-05-10 10:12:33.128 | INFO     | pipeline.correction.correction2:generate_possible_corrections:505 - Konnte Korrekturvorschlag '*' nicht erstellen: list index out of range\n",
      "[Generator]\n",
      "2025-05-10 10:12:33.137 | INFO     | pipeline.correction.correction2:generate_possible_corrections:524 - Konnte Korrekturvorschlag 'PLURAL_*' nicht erstellen: list index out of range\n"
     ]
    },
    {
     "name": "stderr",
     "output_type": "stream",
     "text": [
      " 45%|█████████████████▌                     | 1021/2265 [09:16<04:24,  4.71it/s]"
     ]
    },
    {
     "name": "stdout",
     "output_type": "stream",
     "text": [
      "[Klerus]\n",
      "2025-05-10 10:12:33.351 | INFO     | pipeline.correction.correction2:generate_possible_corrections:505 - Konnte Korrekturvorschlag '*' nicht erstellen: list index out of range\n",
      "[Klerus]\n",
      "2025-05-10 10:12:33.361 | INFO     | pipeline.correction.correction2:generate_possible_corrections:524 - Konnte Korrekturvorschlag 'PLURAL_*' nicht erstellen: list index out of range\n",
      "[Amtskirchen-Kritiker]\n",
      "2025-05-10 10:12:33.393 | INFO     | pipeline.correction.correction2:generate_possible_corrections:505 - Konnte Korrekturvorschlag '*' nicht erstellen: list index out of range\n",
      "[Amtskirchen-Kritiker]\n",
      "2025-05-10 10:12:33.402 | INFO     | pipeline.correction.correction2:generate_possible_corrections:524 - Konnte Korrekturvorschlag 'PLURAL_*' nicht erstellen: list index out of range\n",
      "[Reaktor]\n",
      "2025-05-10 10:12:33.500 | INFO     | pipeline.correction.correction2:generate_possible_corrections:505 - Konnte Korrekturvorschlag '*' nicht erstellen: list index out of range\n",
      "[Reaktor]\n",
      "2025-05-10 10:12:33.509 | INFO     | pipeline.correction.correction2:generate_possible_corrections:524 - Konnte Korrekturvorschlag 'PLURAL_*' nicht erstellen: list index out of range\n"
     ]
    },
    {
     "name": "stderr",
     "output_type": "stream",
     "text": [
      " 45%|█████████████████▋                     | 1030/2265 [09:19<07:17,  2.82it/s]"
     ]
    },
    {
     "name": "stdout",
     "output_type": "stream",
     "text": [
      "[Sachverständigenrat]\n",
      "2025-05-10 10:12:36.384 | INFO     | pipeline.correction.correction2:generate_possible_corrections:505 - Konnte Korrekturvorschlag '*' nicht erstellen: list index out of range\n",
      "[Sachverständigenrat]\n",
      "2025-05-10 10:12:36.394 | INFO     | pipeline.correction.correction2:generate_possible_corrections:524 - Konnte Korrekturvorschlag 'PLURAL_*' nicht erstellen: list index out of range\n",
      "[Sachverständigenrat]\n",
      "2025-05-10 10:12:36.424 | INFO     | pipeline.correction.correction2:generate_possible_corrections:505 - Konnte Korrekturvorschlag '*' nicht erstellen: list index out of range\n",
      "[Sachverständigenrat]\n",
      "2025-05-10 10:12:36.433 | INFO     | pipeline.correction.correction2:generate_possible_corrections:524 - Konnte Korrekturvorschlag 'PLURAL_*' nicht erstellen: list index out of range\n",
      "[Sachverständigenrat, damit]\n",
      "2025-05-10 10:12:36.472 | INFO     | pipeline.correction.correction2:generate_possible_corrections:505 - Konnte Korrekturvorschlag '*' nicht erstellen: list index out of range\n",
      "[Sachverständigenrat, damit]\n",
      "2025-05-10 10:12:36.482 | INFO     | pipeline.correction.correction2:generate_possible_corrections:524 - Konnte Korrekturvorschlag 'PLURAL_*' nicht erstellen: list index out of range\n"
     ]
    },
    {
     "name": "stderr",
     "output_type": "stream",
     "text": [
      " 46%|█████████████████▊                     | 1031/2265 [09:19<06:47,  3.03it/s]"
     ]
    },
    {
     "name": "stdout",
     "output_type": "stream",
     "text": [
      "[Gladiatoren]\n",
      "2025-05-10 10:12:38.130 | INFO     | pipeline.correction.correction2:generate_possible_corrections:354 - Konnte Korrekturvorschlag '*' nicht erstellen: list index out of range\n",
      "[Gladiatoren]\n",
      "2025-05-10 10:12:38.136 | INFO     | pipeline.correction.correction2:generate_possible_corrections:462 - Konnte Korrekturvorschlag 'BOTH_FORMS' nicht erstellen: list index out of range\n"
     ]
    },
    {
     "name": "stderr",
     "output_type": "stream",
     "text": [
      " 46%|█████████████████▊                     | 1035/2265 [09:22<11:56,  1.72it/s]"
     ]
    },
    {
     "name": "stdout",
     "output_type": "stream",
     "text": [
      "[Karossenbauer]\n",
      "2025-05-10 10:12:39.544 | INFO     | pipeline.correction.correction2:generate_possible_corrections:354 - Konnte Korrekturvorschlag '*' nicht erstellen: list index out of range\n",
      "[Karossenbauer]\n",
      "2025-05-10 10:12:39.553 | INFO     | pipeline.correction.correction2:generate_possible_corrections:462 - Konnte Korrekturvorschlag 'BOTH_FORMS' nicht erstellen: list index out of range\n"
     ]
    },
    {
     "name": "stderr",
     "output_type": "stream",
     "text": [
      " 46%|█████████████████▊                     | 1036/2265 [09:23<11:55,  1.72it/s]"
     ]
    },
    {
     "name": "stdout",
     "output_type": "stream",
     "text": [
      "[Bisamjäger]\n",
      "2025-05-10 10:12:40.142 | INFO     | pipeline.correction.correction2:generate_possible_corrections:354 - Konnte Korrekturvorschlag '*' nicht erstellen: list index out of range\n",
      "[Bisamjäger]\n",
      "2025-05-10 10:12:40.151 | INFO     | pipeline.correction.correction2:generate_possible_corrections:462 - Konnte Korrekturvorschlag 'BOTH_FORMS' nicht erstellen: list index out of range\n",
      "[Bisamjäger]\n",
      "2025-05-10 10:12:40.198 | INFO     | pipeline.correction.correction2:generate_possible_corrections:505 - Konnte Korrekturvorschlag '*' nicht erstellen: list index out of range\n",
      "[Bisamjäger]\n",
      "2025-05-10 10:12:40.208 | INFO     | pipeline.correction.correction2:generate_possible_corrections:524 - Konnte Korrekturvorschlag 'PLURAL_*' nicht erstellen: list index out of range\n",
      "[Bisamjäger]\n",
      "2025-05-10 10:12:40.310 | INFO     | pipeline.correction.correction2:generate_possible_corrections:505 - Konnte Korrekturvorschlag '*' nicht erstellen: list index out of range\n",
      "[Bisamjäger]\n",
      "2025-05-10 10:12:40.320 | INFO     | pipeline.correction.correction2:generate_possible_corrections:524 - Konnte Korrekturvorschlag 'PLURAL_*' nicht erstellen: list index out of range\n"
     ]
    },
    {
     "name": "stderr",
     "output_type": "stream",
     "text": [
      " 46%|█████████████████▊                     | 1038/2265 [09:25<16:39,  1.23it/s]"
     ]
    },
    {
     "name": "stdout",
     "output_type": "stream",
     "text": [
      "2025-05-10 10:12:43.186 | INFO     | pipeline.correction.verb.change_verb_form:change_verb_form:13 - lex_target_verb not found: präsidiert\n",
      "[Präsident]\n",
      "2025-05-10 10:12:43.186 | INFO     | pipeline.correction.correction2:generate_possible_corrections:524 - Konnte Korrekturvorschlag 'PLURAL_*' nicht erstellen: Das Verb konnte im Lexikon nicht gefunden werden: präsidiert\n"
     ]
    },
    {
     "name": "stderr",
     "output_type": "stream",
     "text": [
      " 46%|█████████████████▉                     | 1040/2265 [09:27<18:13,  1.12it/s]"
     ]
    },
    {
     "name": "stdout",
     "output_type": "stream",
     "text": [
      "[US-Bürger]\n",
      "2025-05-10 10:12:44.245 | INFO     | pipeline.correction.correction2:generate_possible_corrections:354 - Konnte Korrekturvorschlag '*' nicht erstellen: list index out of range\n",
      "[US-Bürger]\n",
      "2025-05-10 10:12:44.254 | INFO     | pipeline.correction.correction2:generate_possible_corrections:462 - Konnte Korrekturvorschlag 'BOTH_FORMS' nicht erstellen: list index out of range\n",
      "[TV-Produzenten]\n",
      "2025-05-10 10:12:44.294 | INFO     | pipeline.correction.correction2:generate_possible_corrections:354 - Konnte Korrekturvorschlag '*' nicht erstellen: list index out of range\n",
      "[TV-Produzenten]\n",
      "2025-05-10 10:12:44.305 | INFO     | pipeline.correction.correction2:generate_possible_corrections:462 - Konnte Korrekturvorschlag 'BOTH_FORMS' nicht erstellen: list index out of range\n",
      "[Inhalte]\n",
      "2025-05-10 10:12:44.350 | INFO     | pipeline.correction.correction2:generate_possible_corrections:354 - Konnte Korrekturvorschlag '*' nicht erstellen: list index out of range\n",
      "[Inhalte]\n",
      "2025-05-10 10:12:44.355 | INFO     | pipeline.correction.correction2:generate_possible_corrections:462 - Konnte Korrekturvorschlag 'BOTH_FORMS' nicht erstellen: list index out of range\n"
     ]
    },
    {
     "name": "stderr",
     "output_type": "stream",
     "text": [
      " 46%|██████████████████                     | 1050/2265 [09:35<25:50,  1.28s/it]"
     ]
    },
    {
     "name": "stdout",
     "output_type": "stream",
     "text": [
      "[Monitoren]\n",
      "2025-05-10 10:12:52.854 | INFO     | pipeline.correction.correction2:generate_possible_corrections:354 - Konnte Korrekturvorschlag '*' nicht erstellen: list index out of range\n",
      "[Monitoren]\n",
      "2025-05-10 10:12:52.863 | INFO     | pipeline.correction.correction2:generate_possible_corrections:462 - Konnte Korrekturvorschlag 'BOTH_FORMS' nicht erstellen: list index out of range\n"
     ]
    },
    {
     "name": "stderr",
     "output_type": "stream",
     "text": [
      " 46%|██████████████████▏                    | 1053/2265 [09:37<18:24,  1.10it/s]"
     ]
    },
    {
     "name": "stdout",
     "output_type": "stream",
     "text": [
      "2025-05-10 10:12:54.722 | ERROR    | pipeline.full_pipeline:full_pipeline:38 - Fehler bei needs_to_be_gendered() für 'Wähler': 'NN'\n"
     ]
    },
    {
     "name": "stderr",
     "output_type": "stream",
     "text": [
      " 47%|██████████████████▏                    | 1059/2265 [09:41<15:05,  1.33it/s]"
     ]
    },
    {
     "name": "stdout",
     "output_type": "stream",
     "text": [
      "[Fremde]\n",
      "2025-05-10 10:12:58.150 | INFO     | pipeline.correction.correction2:generate_possible_corrections:505 - Konnte Korrekturvorschlag '*' nicht erstellen: list index out of range\n",
      "[Fremde]\n",
      "2025-05-10 10:12:58.151 | INFO     | pipeline.correction.correction2:generate_possible_corrections:524 - Konnte Korrekturvorschlag 'PLURAL_*' nicht erstellen: list index out of range\n",
      "2025-05-10 10:12:58.181 | ERROR    | pipeline.full_pipeline:full_pipeline:38 - Fehler bei needs_to_be_gendered() für 'Bürgermeister': Es darf nur ein Element mit dieser Beziehung geben. (ist mit sb, war aber [hat, Bruder])\n"
     ]
    },
    {
     "name": "stderr",
     "output_type": "stream",
     "text": [
      " 47%|██████████████████▎                    | 1063/2265 [09:43<12:07,  1.65it/s]"
     ]
    },
    {
     "name": "stdout",
     "output_type": "stream",
     "text": [
      "[Personalräte]\n",
      "2025-05-10 10:13:00.333 | INFO     | pipeline.correction.correction2:generate_possible_corrections:354 - Konnte Korrekturvorschlag '*' nicht erstellen: list index out of range\n",
      "[Personalräte]\n",
      "2025-05-10 10:13:00.341 | INFO     | pipeline.correction.correction2:generate_possible_corrections:462 - Konnte Korrekturvorschlag 'BOTH_FORMS' nicht erstellen: list index out of range\n",
      "[Sektor]\n",
      "2025-05-10 10:13:01.347 | INFO     | pipeline.correction.correction2:generate_possible_corrections:505 - Konnte Korrekturvorschlag '*' nicht erstellen: list index out of range\n",
      "[Sektor]\n",
      "2025-05-10 10:13:01.355 | INFO     | pipeline.correction.correction2:generate_possible_corrections:524 - Konnte Korrekturvorschlag 'PLURAL_*' nicht erstellen: list index out of range\n"
     ]
    },
    {
     "name": "stderr",
     "output_type": "stream",
     "text": [
      " 47%|██████████████████▍                    | 1070/2265 [09:47<12:41,  1.57it/s]"
     ]
    },
    {
     "name": "stdout",
     "output_type": "stream",
     "text": [
      "[Großkunden]\n",
      "2025-05-10 10:13:04.820 | INFO     | pipeline.correction.correction2:generate_possible_corrections:354 - Konnte Korrekturvorschlag '*' nicht erstellen: list index out of range\n",
      "[Großkunden]\n",
      "2025-05-10 10:13:04.826 | INFO     | pipeline.correction.correction2:generate_possible_corrections:462 - Konnte Korrekturvorschlag 'BOTH_FORMS' nicht erstellen: list index out of range\n"
     ]
    },
    {
     "name": "stderr",
     "output_type": "stream",
     "text": [
      " 48%|██████████████████▌                    | 1077/2265 [09:50<09:29,  2.09it/s]"
     ]
    },
    {
     "name": "stdout",
     "output_type": "stream",
     "text": [
      "[US-Bürger]\n",
      "2025-05-10 10:13:07.867 | INFO     | pipeline.correction.correction2:generate_possible_corrections:354 - Konnte Korrekturvorschlag '*' nicht erstellen: list index out of range\n",
      "[US-Bürger]\n",
      "2025-05-10 10:13:07.876 | INFO     | pipeline.correction.correction2:generate_possible_corrections:462 - Konnte Korrekturvorschlag 'BOTH_FORMS' nicht erstellen: list index out of range\n"
     ]
    },
    {
     "name": "stderr",
     "output_type": "stream",
     "text": [
      " 48%|██████████████████▌                    | 1079/2265 [09:51<08:50,  2.24it/s]"
     ]
    },
    {
     "name": "stdout",
     "output_type": "stream",
     "text": [
      "[Klimaschutzbeauftragter]\n",
      "2025-05-10 10:13:08.825 | INFO     | pipeline.correction.correction2:generate_possible_corrections:505 - Konnte Korrekturvorschlag '*' nicht erstellen: list index out of range\n",
      "[Klimaschutzbeauftragter]\n",
      "2025-05-10 10:13:08.831 | INFO     | pipeline.correction.correction2:generate_possible_corrections:524 - Konnte Korrekturvorschlag 'PLURAL_*' nicht erstellen: list index out of range\n"
     ]
    },
    {
     "name": "stderr",
     "output_type": "stream",
     "text": [
      " 48%|██████████████████▌                    | 1080/2265 [09:52<08:13,  2.40it/s]"
     ]
    },
    {
     "name": "stdout",
     "output_type": "stream",
     "text": [
      "[NRW-Parlamentarier]\n",
      "2025-05-10 10:13:09.204 | INFO     | pipeline.correction.correction2:generate_possible_corrections:354 - Konnte Korrekturvorschlag '*' nicht erstellen: list index out of range\n",
      "[NRW-Parlamentarier]\n",
      "2025-05-10 10:13:09.213 | INFO     | pipeline.correction.correction2:generate_possible_corrections:462 - Konnte Korrekturvorschlag 'BOTH_FORMS' nicht erstellen: list index out of range\n"
     ]
    },
    {
     "name": "stderr",
     "output_type": "stream",
     "text": [
      " 48%|██████████████████▋                    | 1085/2265 [09:54<08:36,  2.28it/s]"
     ]
    },
    {
     "name": "stdout",
     "output_type": "stream",
     "text": [
      "[Wirtschaftsfachmann]\n",
      "2025-05-10 10:13:11.298 | INFO     | pipeline.correction.correction2:generate_possible_corrections:505 - Konnte Korrekturvorschlag '*' nicht erstellen: list index out of range\n",
      "[Wirtschaftsfachmann]\n",
      "2025-05-10 10:13:11.307 | INFO     | pipeline.correction.correction2:generate_possible_corrections:524 - Konnte Korrekturvorschlag 'PLURAL_*' nicht erstellen: list index out of range\n",
      "[Öl-Magnaten]\n",
      "2025-05-10 10:13:12.484 | INFO     | pipeline.correction.correction2:generate_possible_corrections:354 - Konnte Korrekturvorschlag '*' nicht erstellen: list index out of range\n",
      "[Öl-Magnaten]\n",
      "2025-05-10 10:13:12.493 | INFO     | pipeline.correction.correction2:generate_possible_corrections:462 - Konnte Korrekturvorschlag 'BOTH_FORMS' nicht erstellen: list index out of range\n",
      "2025-05-10 10:13:12.631 | ERROR    | pipeline.full_pipeline:full_pipeline:38 - Fehler bei needs_to_be_gendered() für 'Generaldirektor': 'NoneType' object is not iterable\n",
      "2025-05-10 10:13:12.642 | ERROR    | pipeline.full_pipeline:full_pipeline:38 - Fehler bei needs_to_be_gendered() für 'er': 'NoneType' object is not iterable\n",
      "2025-05-10 10:13:12.642 | ERROR    | pipeline.full_pipeline:full_pipeline:38 - Fehler bei needs_to_be_gendered() für 'Sohn': 'NN'\n"
     ]
    },
    {
     "name": "stderr",
     "output_type": "stream",
     "text": [
      " 48%|██████████████████▊                    | 1092/2265 [09:59<11:18,  1.73it/s]"
     ]
    },
    {
     "name": "stdout",
     "output_type": "stream",
     "text": [
      "[PDS-Wähler]\n",
      "2025-05-10 10:13:16.766 | INFO     | pipeline.correction.correction2:generate_possible_corrections:354 - Konnte Korrekturvorschlag '*' nicht erstellen: list index out of range\n",
      "[PDS-Wähler]\n",
      "2025-05-10 10:13:16.775 | INFO     | pipeline.correction.correction2:generate_possible_corrections:462 - Konnte Korrekturvorschlag 'BOTH_FORMS' nicht erstellen: list index out of range\n"
     ]
    },
    {
     "name": "stderr",
     "output_type": "stream",
     "text": [
      " 49%|███████████████████▏                   | 1113/2265 [10:07<08:52,  2.16it/s]"
     ]
    },
    {
     "name": "stdout",
     "output_type": "stream",
     "text": [
      "[500-Dollar-Rechner]\n",
      "2025-05-10 10:13:24.251 | INFO     | pipeline.correction.correction2:generate_possible_corrections:505 - Konnte Korrekturvorschlag '*' nicht erstellen: list index out of range\n",
      "[500-Dollar-Rechner]\n",
      "2025-05-10 10:13:24.260 | INFO     | pipeline.correction.correction2:generate_possible_corrections:524 - Konnte Korrekturvorschlag 'PLURAL_*' nicht erstellen: list index out of range\n"
     ]
    },
    {
     "name": "stderr",
     "output_type": "stream",
     "text": [
      " 49%|███████████████████▏                   | 1114/2265 [10:07<08:07,  2.36it/s]"
     ]
    },
    {
     "name": "stdout",
     "output_type": "stream",
     "text": [
      "[Schleuser]\n",
      "2025-05-10 10:13:24.528 | INFO     | pipeline.correction.correction2:generate_possible_corrections:354 - Konnte Korrekturvorschlag '*' nicht erstellen: list index out of range\n",
      "[Schleuser]\n",
      "2025-05-10 10:13:24.538 | INFO     | pipeline.correction.correction2:generate_possible_corrections:462 - Konnte Korrekturvorschlag 'BOTH_FORMS' nicht erstellen: list index out of range\n",
      "[Flüchtlingsschleuser]\n",
      "2025-05-10 10:13:24.558 | INFO     | pipeline.correction.correction2:generate_possible_corrections:354 - Konnte Korrekturvorschlag '*' nicht erstellen: list index out of range\n",
      "[Flüchtlingsschleuser]\n",
      "2025-05-10 10:13:24.568 | INFO     | pipeline.correction.correction2:generate_possible_corrections:462 - Konnte Korrekturvorschlag 'BOTH_FORMS' nicht erstellen: list index out of range\n"
     ]
    },
    {
     "name": "stderr",
     "output_type": "stream",
     "text": [
      " 50%|███████████████████▎                   | 1123/2265 [10:10<06:17,  3.02it/s]"
     ]
    },
    {
     "name": "stdout",
     "output_type": "stream",
     "text": [
      "[Beaujolais-Winzer]\n",
      "2025-05-10 10:13:27.813 | INFO     | pipeline.correction.correction2:generate_possible_corrections:354 - Konnte Korrekturvorschlag '*' nicht erstellen: list index out of range\n",
      "[Beaujolais-Winzer]\n",
      "2025-05-10 10:13:27.822 | INFO     | pipeline.correction.correction2:generate_possible_corrections:462 - Konnte Korrekturvorschlag 'BOTH_FORMS' nicht erstellen: list index out of range\n",
      "[Beaujolais-Winzern, ihren]\n",
      "2025-05-10 10:13:27.926 | INFO     | pipeline.correction.correction2:generate_possible_corrections:354 - Konnte Korrekturvorschlag '*' nicht erstellen: list index out of range\n",
      "[Beaujolais-Winzern, ihren]\n",
      "2025-05-10 10:13:27.936 | INFO     | pipeline.correction.correction2:generate_possible_corrections:462 - Konnte Korrekturvorschlag 'BOTH_FORMS' nicht erstellen: list index out of range\n",
      "[Beaujolais-Winzer]\n",
      "2025-05-10 10:13:27.993 | INFO     | pipeline.correction.correction2:generate_possible_corrections:354 - Konnte Korrekturvorschlag '*' nicht erstellen: list index out of range\n",
      "[Beaujolais-Winzer]\n",
      "2025-05-10 10:13:28.002 | INFO     | pipeline.correction.correction2:generate_possible_corrections:462 - Konnte Korrekturvorschlag 'BOTH_FORMS' nicht erstellen: list index out of range\n"
     ]
    },
    {
     "name": "stderr",
     "output_type": "stream",
     "text": [
      " 50%|███████████████████▎                   | 1124/2265 [10:10<09:49,  1.94it/s]"
     ]
    },
    {
     "name": "stdout",
     "output_type": "stream",
     "text": [
      "[Atomtestgegner]\n",
      "2025-05-10 10:13:28.032 | INFO     | pipeline.correction.correction2:generate_possible_corrections:354 - Konnte Korrekturvorschlag '*' nicht erstellen: list index out of range\n",
      "[Atomtestgegner]\n",
      "2025-05-10 10:13:28.041 | INFO     | pipeline.correction.correction2:generate_possible_corrections:462 - Konnte Korrekturvorschlag 'BOTH_FORMS' nicht erstellen: list index out of range\n",
      "[Beaujolais-Winzer, ihren]\n",
      "2025-05-10 10:13:28.065 | INFO     | pipeline.correction.correction2:generate_possible_corrections:354 - Konnte Korrekturvorschlag '*' nicht erstellen: list index out of range\n",
      "[Beaujolais-Winzer, ihren]\n",
      "2025-05-10 10:13:28.073 | INFO     | pipeline.correction.correction2:generate_possible_corrections:462 - Konnte Korrekturvorschlag 'BOTH_FORMS' nicht erstellen: list index out of range\n",
      "[Einkäufer]\n",
      "2025-05-10 10:13:28.095 | INFO     | pipeline.correction.correction2:generate_possible_corrections:354 - Konnte Korrekturvorschlag '*' nicht erstellen: list index out of range\n",
      "[Einkäufer]\n",
      "2025-05-10 10:13:28.104 | INFO     | pipeline.correction.correction2:generate_possible_corrections:462 - Konnte Korrekturvorschlag 'BOTH_FORMS' nicht erstellen: list index out of range\n"
     ]
    },
    {
     "name": "stderr",
     "output_type": "stream",
     "text": [
      " 50%|███████████████████▎                   | 1125/2265 [10:11<09:50,  1.93it/s]"
     ]
    },
    {
     "name": "stdout",
     "output_type": "stream",
     "text": [
      "[Ismaili-Moslems]\n",
      "2025-05-10 10:13:28.645 | INFO     | pipeline.correction.correction2:generate_possible_corrections:354 - Konnte Korrekturvorschlag '*' nicht erstellen: list index out of range\n",
      "[Ismaili-Moslems]\n",
      "2025-05-10 10:13:28.654 | INFO     | pipeline.correction.correction2:generate_possible_corrections:462 - Konnte Korrekturvorschlag 'BOTH_FORMS' nicht erstellen: list index out of range\n"
     ]
    },
    {
     "name": "stderr",
     "output_type": "stream",
     "text": [
      " 50%|███████████████████▍                   | 1128/2265 [10:12<08:38,  2.19it/s]"
     ]
    },
    {
     "name": "stdout",
     "output_type": "stream",
     "text": [
      "[Kopfschlenker]\n",
      "2025-05-10 10:13:29.929 | INFO     | pipeline.correction.correction2:generate_possible_corrections:505 - Konnte Korrekturvorschlag '*' nicht erstellen: list index out of range\n",
      "[Kopfschlenker]\n",
      "2025-05-10 10:13:29.939 | INFO     | pipeline.correction.correction2:generate_possible_corrections:524 - Konnte Korrekturvorschlag 'PLURAL_*' nicht erstellen: list index out of range\n"
     ]
    },
    {
     "name": "stderr",
     "output_type": "stream",
     "text": [
      " 50%|███████████████████▍                   | 1131/2265 [10:13<06:03,  3.12it/s]"
     ]
    },
    {
     "name": "stdout",
     "output_type": "stream",
     "text": [
      "[Bundestagsabgeordnete, seine]\n",
      "2025-05-10 10:13:30.644 | INFO     | pipeline.correction.correction2:generate_possible_corrections:505 - Konnte Korrekturvorschlag '*' nicht erstellen: list index out of range\n",
      "[Bundestagsabgeordnete, seine]\n",
      "2025-05-10 10:13:30.645 | INFO     | pipeline.correction.correction2:generate_possible_corrections:524 - Konnte Korrekturvorschlag 'PLURAL_*' nicht erstellen: list index out of range\n"
     ]
    },
    {
     "name": "stderr",
     "output_type": "stream",
     "text": [
      " 50%|███████████████████▌                   | 1136/2265 [10:15<06:29,  2.90it/s]"
     ]
    },
    {
     "name": "stdout",
     "output_type": "stream",
     "text": [
      "[Verrat]\n",
      "2025-05-10 10:13:32.161 | INFO     | pipeline.correction.correction2:generate_possible_corrections:505 - Konnte Korrekturvorschlag '*' nicht erstellen: list index out of range\n",
      "[Verrat]\n",
      "2025-05-10 10:13:32.170 | INFO     | pipeline.correction.correction2:generate_possible_corrections:524 - Konnte Korrekturvorschlag 'PLURAL_*' nicht erstellen: list index out of range\n"
     ]
    },
    {
     "name": "stderr",
     "output_type": "stream",
     "text": [
      " 50%|███████████████████▌                   | 1139/2265 [10:15<04:41,  4.01it/s]"
     ]
    },
    {
     "name": "stdout",
     "output_type": "stream",
     "text": [
      "[IG-Metall-Bevollmächtigte]\n",
      "2025-05-10 10:13:32.654 | INFO     | pipeline.correction.correction2:generate_possible_corrections:505 - Konnte Korrekturvorschlag '*' nicht erstellen: list index out of range\n",
      "[IG-Metall-Bevollmächtigte]\n",
      "2025-05-10 10:13:32.663 | INFO     | pipeline.correction.correction2:generate_possible_corrections:524 - Konnte Korrekturvorschlag 'PLURAL_*' nicht erstellen: list index out of range\n"
     ]
    },
    {
     "name": "stderr",
     "output_type": "stream",
     "text": [
      " 50%|███████████████████▋                   | 1143/2265 [10:17<07:56,  2.35it/s]"
     ]
    },
    {
     "name": "stdout",
     "output_type": "stream",
     "text": [
      "[Innovationsrat, seiner]\n",
      "2025-05-10 10:13:38.236 | INFO     | pipeline.correction.correction2:generate_possible_corrections:354 - Konnte Korrekturvorschlag '*' nicht erstellen: list index out of range\n",
      "[Innovationsrat, seiner]\n",
      "2025-05-10 10:13:38.246 | INFO     | pipeline.correction.correction2:generate_possible_corrections:462 - Konnte Korrekturvorschlag 'BOTH_FORMS' nicht erstellen: list index out of range\n",
      "[Innovationsrat, sich]\n",
      "2025-05-10 10:13:38.379 | INFO     | pipeline.correction.correction2:generate_possible_corrections:505 - Konnte Korrekturvorschlag '*' nicht erstellen: list index out of range\n",
      "[Innovationsrat, sich]\n",
      "2025-05-10 10:13:38.387 | INFO     | pipeline.correction.correction2:generate_possible_corrections:524 - Konnte Korrekturvorschlag 'PLURAL_*' nicht erstellen: list index out of range\n",
      "[Innovationsrat]\n",
      "2025-05-10 10:13:38.492 | INFO     | pipeline.correction.correction2:generate_possible_corrections:505 - Konnte Korrekturvorschlag '*' nicht erstellen: list index out of range\n",
      "[Innovationsrat]\n",
      "2025-05-10 10:13:38.501 | INFO     | pipeline.correction.correction2:generate_possible_corrections:524 - Konnte Korrekturvorschlag 'PLURAL_*' nicht erstellen: list index out of range\n",
      "[Sektor]\n",
      "2025-05-10 10:13:38.599 | INFO     | pipeline.correction.correction2:generate_possible_corrections:505 - Konnte Korrekturvorschlag '*' nicht erstellen: list index out of range\n",
      "[Sektor]\n",
      "2025-05-10 10:13:38.608 | INFO     | pipeline.correction.correction2:generate_possible_corrections:524 - Konnte Korrekturvorschlag 'PLURAL_*' nicht erstellen: list index out of range\n",
      "[Innovationsrat]\n",
      "2025-05-10 10:13:38.889 | INFO     | pipeline.correction.correction2:generate_possible_corrections:505 - Konnte Korrekturvorschlag '*' nicht erstellen: list index out of range\n",
      "[Innovationsrat]\n",
      "2025-05-10 10:13:38.898 | INFO     | pipeline.correction.correction2:generate_possible_corrections:524 - Konnte Korrekturvorschlag 'PLURAL_*' nicht erstellen: list index out of range\n",
      "[Innovationsrat]\n",
      "2025-05-10 10:13:39.035 | INFO     | pipeline.correction.correction2:generate_possible_corrections:505 - Konnte Korrekturvorschlag '*' nicht erstellen: list index out of range\n",
      "[Innovationsrat]\n",
      "2025-05-10 10:13:39.044 | INFO     | pipeline.correction.correction2:generate_possible_corrections:524 - Konnte Korrekturvorschlag 'PLURAL_*' nicht erstellen: list index out of range\n"
     ]
    },
    {
     "name": "stderr",
     "output_type": "stream",
     "text": [
      " 51%|███████████████████▋                   | 1146/2265 [10:23<20:23,  1.09s/it]"
     ]
    },
    {
     "name": "stdout",
     "output_type": "stream",
     "text": [
      "[Sondergouverneur]\n",
      "2025-05-10 10:13:41.555 | INFO     | pipeline.correction.correction2:generate_possible_corrections:505 - Konnte Korrekturvorschlag '*' nicht erstellen: list index out of range\n",
      "[Sondergouverneur]\n",
      "2025-05-10 10:13:41.564 | INFO     | pipeline.correction.correction2:generate_possible_corrections:524 - Konnte Korrekturvorschlag 'PLURAL_*' nicht erstellen: list index out of range\n",
      "[Ex-Parlamentarier]\n",
      "2025-05-10 10:13:41.602 | INFO     | pipeline.correction.correction2:generate_possible_corrections:354 - Konnte Korrekturvorschlag '*' nicht erstellen: list index out of range\n",
      "[Ex-Parlamentarier]\n",
      "2025-05-10 10:13:41.611 | INFO     | pipeline.correction.correction2:generate_possible_corrections:462 - Konnte Korrekturvorschlag 'BOTH_FORMS' nicht erstellen: list index out of range\n"
     ]
    },
    {
     "name": "stderr",
     "output_type": "stream",
     "text": [
      " 51%|███████████████████▊                   | 1149/2265 [10:25<13:45,  1.35it/s]"
     ]
    },
    {
     "name": "stdout",
     "output_type": "stream",
     "text": [
      "[DGB-Arbeitnehmer]\n",
      "2025-05-10 10:13:42.210 | INFO     | pipeline.correction.correction2:generate_possible_corrections:354 - Konnte Korrekturvorschlag '*' nicht erstellen: list index out of range\n",
      "[DGB-Arbeitnehmer]\n",
      "2025-05-10 10:13:42.219 | INFO     | pipeline.correction.correction2:generate_possible_corrections:462 - Konnte Korrekturvorschlag 'BOTH_FORMS' nicht erstellen: list index out of range\n",
      "[DGB-Arbeitnehmer, ihrer]\n",
      "2025-05-10 10:13:42.235 | INFO     | pipeline.correction.correction2:generate_possible_corrections:354 - Konnte Korrekturvorschlag '*' nicht erstellen: list index out of range\n",
      "[DGB-Arbeitnehmer, ihrer]\n",
      "2025-05-10 10:13:42.244 | INFO     | pipeline.correction.correction2:generate_possible_corrections:462 - Konnte Korrekturvorschlag 'BOTH_FORMS' nicht erstellen: list index out of range\n"
     ]
    },
    {
     "name": "stderr",
     "output_type": "stream",
     "text": [
      " 51%|███████████████████▊                   | 1150/2265 [10:25<14:01,  1.32it/s]"
     ]
    },
    {
     "name": "stdout",
     "output_type": "stream",
     "text": [
      "[Musicalförderer]\n",
      "2025-05-10 10:13:43.150 | INFO     | pipeline.correction.correction2:generate_possible_corrections:354 - Konnte Korrekturvorschlag '*' nicht erstellen: list index out of range\n",
      "[Musicalförderer]\n",
      "2025-05-10 10:13:43.159 | INFO     | pipeline.correction.correction2:generate_possible_corrections:462 - Konnte Korrekturvorschlag 'BOTH_FORMS' nicht erstellen: list index out of range\n"
     ]
    },
    {
     "name": "stderr",
     "output_type": "stream",
     "text": [
      " 51%|███████████████████▉                   | 1156/2265 [10:30<11:42,  1.58it/s]"
     ]
    },
    {
     "name": "stdout",
     "output_type": "stream",
     "text": [
      "[Sachverständigenrat]\n",
      "2025-05-10 10:13:47.293 | INFO     | pipeline.correction.correction2:generate_possible_corrections:505 - Konnte Korrekturvorschlag '*' nicht erstellen: list index out of range\n",
      "[Sachverständigenrat]\n",
      "2025-05-10 10:13:47.303 | INFO     | pipeline.correction.correction2:generate_possible_corrections:524 - Konnte Korrekturvorschlag 'PLURAL_*' nicht erstellen: list index out of range\n"
     ]
    },
    {
     "name": "stderr",
     "output_type": "stream",
     "text": [
      " 51%|███████████████████▉                   | 1160/2265 [10:32<11:02,  1.67it/s]"
     ]
    },
    {
     "name": "stdout",
     "output_type": "stream",
     "text": [
      "[Wirtschaftsminister]\n",
      "2025-05-10 10:13:49.285 | INFO     | pipeline.correction.correction2:generate_possible_corrections:462 - Konnte Korrekturvorschlag 'BOTH_FORMS' nicht erstellen: Es darf nur ein Element mit dieser Beziehung geben. (Wirtschaftsminister mit cd, war aber [und, sowie])\n",
      "[EWI-Handwerker]\n",
      "2025-05-10 10:13:49.325 | INFO     | pipeline.correction.correction2:generate_possible_corrections:354 - Konnte Korrekturvorschlag '*' nicht erstellen: list index out of range\n",
      "[EWI-Handwerker]\n",
      "2025-05-10 10:13:49.334 | INFO     | pipeline.correction.correction2:generate_possible_corrections:462 - Konnte Korrekturvorschlag 'BOTH_FORMS' nicht erstellen: list index out of range\n",
      "[Sachverständigenrat]\n",
      "2025-05-10 10:13:49.403 | INFO     | pipeline.correction.correction2:generate_possible_corrections:505 - Konnte Korrekturvorschlag '*' nicht erstellen: list index out of range\n",
      "[Sachverständigenrat]\n",
      "2025-05-10 10:13:49.412 | INFO     | pipeline.correction.correction2:generate_possible_corrections:524 - Konnte Korrekturvorschlag 'PLURAL_*' nicht erstellen: list index out of range\n"
     ]
    },
    {
     "name": "stderr",
     "output_type": "stream",
     "text": [
      " 51%|████████████████████                   | 1162/2265 [10:32<08:16,  2.22it/s]"
     ]
    },
    {
     "name": "stdout",
     "output_type": "stream",
     "text": [
      "[Sachverständigenrates]\n",
      "2025-05-10 10:13:50.646 | INFO     | pipeline.correction.correction2:generate_possible_corrections:505 - Konnte Korrekturvorschlag '*' nicht erstellen: list index out of range\n",
      "[Sachverständigenrates]\n",
      "2025-05-10 10:13:50.655 | INFO     | pipeline.correction.correction2:generate_possible_corrections:524 - Konnte Korrekturvorschlag 'PLURAL_*' nicht erstellen: list index out of range\n"
     ]
    },
    {
     "name": "stderr",
     "output_type": "stream",
     "text": [
      " 51%|████████████████████                   | 1165/2265 [10:34<09:20,  1.96it/s]"
     ]
    },
    {
     "name": "stdout",
     "output_type": "stream",
     "text": [
      "[Sachverständigenrat]\n",
      "2025-05-10 10:13:51.672 | INFO     | pipeline.correction.correction2:generate_possible_corrections:505 - Konnte Korrekturvorschlag '*' nicht erstellen: list index out of range\n",
      "[Sachverständigenrat]\n",
      "2025-05-10 10:13:51.681 | INFO     | pipeline.correction.correction2:generate_possible_corrections:524 - Konnte Korrekturvorschlag 'PLURAL_*' nicht erstellen: list index out of range\n",
      "[Sachverständigenrat]\n",
      "2025-05-10 10:13:51.755 | INFO     | pipeline.correction.correction2:generate_possible_corrections:505 - Konnte Korrekturvorschlag '*' nicht erstellen: list index out of range\n",
      "[Sachverständigenrat]\n",
      "2025-05-10 10:13:51.764 | INFO     | pipeline.correction.correction2:generate_possible_corrections:524 - Konnte Korrekturvorschlag 'PLURAL_*' nicht erstellen: list index out of range\n"
     ]
    },
    {
     "name": "stderr",
     "output_type": "stream",
     "text": [
      " 51%|████████████████████                   | 1166/2265 [10:35<13:10,  1.39it/s]"
     ]
    },
    {
     "name": "stdout",
     "output_type": "stream",
     "text": [
      "[Soldaten]\n",
      "2025-05-10 10:13:52.922 | INFO     | pipeline.correction.correction2:generate_possible_corrections:505 - Konnte Korrekturvorschlag '*' nicht erstellen: object of type 'NoneType' has no len()\n",
      "[Soldaten]\n",
      "2025-05-10 10:13:52.923 | INFO     | pipeline.correction.correction2:generate_possible_corrections:524 - Konnte Korrekturvorschlag 'PLURAL_*' nicht erstellen: object of type 'NoneType' has no len()\n"
     ]
    },
    {
     "name": "stderr",
     "output_type": "stream",
     "text": [
      " 52%|████████████████████                   | 1168/2265 [10:38<16:34,  1.10it/s]"
     ]
    },
    {
     "name": "stdout",
     "output_type": "stream",
     "text": [
      "[Kriegsdienstgegner]\n",
      "2025-05-10 10:13:55.354 | INFO     | pipeline.correction.correction2:generate_possible_corrections:354 - Konnte Korrekturvorschlag '*' nicht erstellen: list index out of range\n",
      "[Kriegsdienstgegner]\n",
      "2025-05-10 10:13:55.363 | INFO     | pipeline.correction.correction2:generate_possible_corrections:462 - Konnte Korrekturvorschlag 'BOTH_FORMS' nicht erstellen: list index out of range\n",
      "[VK-Vorsitzende]\n",
      "2025-05-10 10:13:55.453 | INFO     | pipeline.correction.correction2:generate_possible_corrections:505 - Konnte Korrekturvorschlag '*' nicht erstellen: list index out of range\n",
      "[VK-Vorsitzende]\n",
      "2025-05-10 10:13:55.462 | INFO     | pipeline.correction.correction2:generate_possible_corrections:524 - Konnte Korrekturvorschlag 'PLURAL_*' nicht erstellen: list index out of range\n"
     ]
    },
    {
     "name": "stderr",
     "output_type": "stream",
     "text": [
      " 52%|████████████████████▏                  | 1170/2265 [10:39<11:45,  1.55it/s]"
     ]
    },
    {
     "name": "stdout",
     "output_type": "stream",
     "text": [
      "[UN-Botschafter]\n",
      "2025-05-10 10:13:56.184 | INFO     | pipeline.correction.correction2:generate_possible_corrections:505 - Konnte Korrekturvorschlag '*' nicht erstellen: list index out of range\n",
      "[UN-Botschafter]\n",
      "2025-05-10 10:13:56.193 | INFO     | pipeline.correction.correction2:generate_possible_corrections:524 - Konnte Korrekturvorschlag 'PLURAL_*' nicht erstellen: list index out of range\n"
     ]
    },
    {
     "name": "stderr",
     "output_type": "stream",
     "text": [
      " 52%|████████████████████▎                  | 1177/2265 [10:41<05:21,  3.39it/s]"
     ]
    },
    {
     "name": "stdout",
     "output_type": "stream",
     "text": [
      "[EWI-Rat]\n",
      "2025-05-10 10:13:58.987 | INFO     | pipeline.correction.correction2:generate_possible_corrections:505 - Konnte Korrekturvorschlag '*' nicht erstellen: list index out of range\n",
      "[EWI-Rat]\n",
      "2025-05-10 10:13:58.996 | INFO     | pipeline.correction.correction2:generate_possible_corrections:524 - Konnte Korrekturvorschlag 'PLURAL_*' nicht erstellen: list index out of range\n"
     ]
    },
    {
     "name": "stderr",
     "output_type": "stream",
     "text": [
      " 52%|████████████████████▎                  | 1179/2265 [10:42<08:22,  2.16it/s]"
     ]
    },
    {
     "name": "stdout",
     "output_type": "stream",
     "text": [
      "[Versicherungsfachmann]\n",
      "2025-05-10 10:13:59.809 | INFO     | pipeline.correction.correction2:generate_possible_corrections:505 - Konnte Korrekturvorschlag '*' nicht erstellen: list index out of range\n",
      "[Versicherungsfachmann]\n",
      "2025-05-10 10:13:59.819 | INFO     | pipeline.correction.correction2:generate_possible_corrections:524 - Konnte Korrekturvorschlag 'PLURAL_*' nicht erstellen: list index out of range\n"
     ]
    },
    {
     "name": "stderr",
     "output_type": "stream",
     "text": [
      " 52%|████████████████████▎                  | 1182/2265 [10:44<08:41,  2.08it/s]"
     ]
    },
    {
     "name": "stdout",
     "output_type": "stream",
     "text": [
      "2025-05-10 10:14:01.216 | ERROR    | pipeline.full_pipeline:full_pipeline:38 - Fehler bei needs_to_be_gendered() für 'Erben': 'NN'\n"
     ]
    },
    {
     "name": "stderr",
     "output_type": "stream",
     "text": [
      " 52%|████████████████████▎                  | 1183/2265 [10:45<15:06,  1.19it/s]"
     ]
    },
    {
     "name": "stdout",
     "output_type": "stream",
     "text": [
      "[Nordchinesen]\n",
      "2025-05-10 10:14:02.905 | INFO     | pipeline.correction.correction2:generate_possible_corrections:354 - Konnte Korrekturvorschlag '*' nicht erstellen: list index out of range\n",
      "[Nordchinesen]\n",
      "2025-05-10 10:14:02.914 | INFO     | pipeline.correction.correction2:generate_possible_corrections:462 - Konnte Korrekturvorschlag 'BOTH_FORMS' nicht erstellen: list index out of range\n",
      "2025-05-10 10:14:03.440 | ERROR    | pipeline.full_pipeline:full_pipeline:38 - Fehler bei needs_to_be_gendered() für 'Gewinner': Es darf nur ein Element mit dieser Beziehung geben. (sind mit sb, war aber [WTO, Ostblockstaaten])\n"
     ]
    },
    {
     "name": "stderr",
     "output_type": "stream",
     "text": [
      " 52%|████████████████████▍                  | 1189/2265 [10:48<08:41,  2.06it/s]"
     ]
    },
    {
     "name": "stdout",
     "output_type": "stream",
     "text": [
      "[US-Bürger]\n",
      "2025-05-10 10:14:05.888 | INFO     | pipeline.correction.correction2:generate_possible_corrections:354 - Konnte Korrekturvorschlag '*' nicht erstellen: list index out of range\n",
      "[US-Bürger]\n",
      "2025-05-10 10:14:05.896 | INFO     | pipeline.correction.correction2:generate_possible_corrections:462 - Konnte Korrekturvorschlag 'BOTH_FORMS' nicht erstellen: list index out of range\n",
      "[US-Bürger]\n",
      "2025-05-10 10:14:05.929 | INFO     | pipeline.correction.correction2:generate_possible_corrections:354 - Konnte Korrekturvorschlag '*' nicht erstellen: list index out of range\n",
      "[US-Bürger]\n",
      "2025-05-10 10:14:05.938 | INFO     | pipeline.correction.correction2:generate_possible_corrections:462 - Konnte Korrekturvorschlag 'BOTH_FORMS' nicht erstellen: list index out of range\n"
     ]
    },
    {
     "name": "stderr",
     "output_type": "stream",
     "text": [
      " 53%|████████████████████▌                  | 1196/2265 [10:51<05:35,  3.19it/s]"
     ]
    },
    {
     "name": "stdout",
     "output_type": "stream",
     "text": [
      "[Spitzengenossen]\n",
      "2025-05-10 10:14:10.418 | INFO     | pipeline.correction.correction2:generate_possible_corrections:354 - Konnte Korrekturvorschlag '*' nicht erstellen: list index out of range\n",
      "[Spitzengenossen]\n",
      "2025-05-10 10:14:10.427 | INFO     | pipeline.correction.correction2:generate_possible_corrections:462 - Konnte Korrekturvorschlag 'BOTH_FORMS' nicht erstellen: list index out of range\n"
     ]
    },
    {
     "name": "stderr",
     "output_type": "stream",
     "text": [
      " 53%|████████████████████▋                  | 1205/2265 [10:56<06:51,  2.58it/s]"
     ]
    },
    {
     "name": "stdout",
     "output_type": "stream",
     "text": [
      "[Konsumgüterfabrikanten]\n",
      "2025-05-10 10:14:13.844 | INFO     | pipeline.correction.correction2:generate_possible_corrections:354 - Konnte Korrekturvorschlag '*' nicht erstellen: list index out of range\n",
      "[Konsumgüterfabrikanten]\n",
      "2025-05-10 10:14:13.853 | INFO     | pipeline.correction.correction2:generate_possible_corrections:462 - Konnte Korrekturvorschlag 'BOTH_FORMS' nicht erstellen: list index out of range\n"
     ]
    },
    {
     "name": "stderr",
     "output_type": "stream",
     "text": [
      " 53%|████████████████████▊                  | 1210/2265 [10:58<07:25,  2.37it/s]"
     ]
    },
    {
     "name": "stdout",
     "output_type": "stream",
     "text": [
      "[Schuldigen]\n",
      "2025-05-10 10:14:15.662 | INFO     | pipeline.correction.correction2:generate_possible_corrections:505 - Konnte Korrekturvorschlag '*' nicht erstellen: list index out of range\n",
      "[Schuldigen]\n",
      "2025-05-10 10:14:15.663 | INFO     | pipeline.correction.correction2:generate_possible_corrections:524 - Konnte Korrekturvorschlag 'PLURAL_*' nicht erstellen: list index out of range\n"
     ]
    },
    {
     "name": "stderr",
     "output_type": "stream",
     "text": [
      " 53%|████████████████████▊                  | 1211/2265 [10:58<06:49,  2.57it/s]"
     ]
    },
    {
     "name": "stdout",
     "output_type": "stream",
     "text": [
      "[US-Beamte]\n",
      "2025-05-10 10:14:16.386 | INFO     | pipeline.correction.correction2:generate_possible_corrections:354 - Konnte Korrekturvorschlag '*' nicht erstellen: list index out of range\n",
      "[US-Beamte]\n",
      "2025-05-10 10:14:16.395 | INFO     | pipeline.correction.correction2:generate_possible_corrections:462 - Konnte Korrekturvorschlag 'BOTH_FORMS' nicht erstellen: list index out of range\n",
      "[US-Beamte]\n",
      "2025-05-10 10:14:16.532 | INFO     | pipeline.correction.correction2:generate_possible_corrections:354 - Konnte Korrekturvorschlag '*' nicht erstellen: list index out of range\n",
      "[US-Beamte]\n",
      "2025-05-10 10:14:16.541 | INFO     | pipeline.correction.correction2:generate_possible_corrections:462 - Konnte Korrekturvorschlag 'BOTH_FORMS' nicht erstellen: list index out of range\n"
     ]
    },
    {
     "name": "stderr",
     "output_type": "stream",
     "text": [
      " 54%|█████████████████████                  | 1226/2265 [11:02<05:28,  3.16it/s]"
     ]
    },
    {
     "name": "stdout",
     "output_type": "stream",
     "text": [
      "[US-Kollegen]\n",
      "2025-05-10 10:14:19.906 | INFO     | pipeline.correction.correction2:generate_possible_corrections:354 - Konnte Korrekturvorschlag '*' nicht erstellen: list index out of range\n",
      "[US-Kollegen]\n",
      "2025-05-10 10:14:19.915 | INFO     | pipeline.correction.correction2:generate_possible_corrections:462 - Konnte Korrekturvorschlag 'BOTH_FORMS' nicht erstellen: list index out of range\n"
     ]
    },
    {
     "name": "stderr",
     "output_type": "stream",
     "text": [
      " 55%|█████████████████████▎                 | 1240/2265 [11:07<06:13,  2.75it/s]"
     ]
    },
    {
     "name": "stdout",
     "output_type": "stream",
     "text": [
      "[Faktor]\n",
      "2025-05-10 10:14:29.047 | INFO     | pipeline.correction.correction2:generate_possible_corrections:505 - Konnte Korrekturvorschlag '*' nicht erstellen: list index out of range\n",
      "[Faktor]\n",
      "2025-05-10 10:14:29.056 | INFO     | pipeline.correction.correction2:generate_possible_corrections:524 - Konnte Korrekturvorschlag 'PLURAL_*' nicht erstellen: list index out of range\n",
      "[Bundesrat]\n",
      "2025-05-10 10:14:29.291 | INFO     | pipeline.correction.correction2:generate_possible_corrections:505 - Konnte Korrekturvorschlag '*' nicht erstellen: list index out of range\n",
      "[Bundesrat]\n",
      "2025-05-10 10:14:29.297 | INFO     | pipeline.correction.correction2:generate_possible_corrections:524 - Konnte Korrekturvorschlag 'PLURAL_*' nicht erstellen: list index out of range\n"
     ]
    },
    {
     "name": "stderr",
     "output_type": "stream",
     "text": [
      " 55%|█████████████████████▎                 | 1241/2265 [11:12<30:52,  1.81s/it]"
     ]
    },
    {
     "name": "stdout",
     "output_type": "stream",
     "text": [
      "[Rikschafahrer, sein]\n",
      "2025-05-10 10:14:31.583 | INFO     | pipeline.correction.correction2:generate_possible_corrections:505 - Konnte Korrekturvorschlag '*' nicht erstellen: list index out of range\n",
      "[Rikschafahrer, sein]\n",
      "2025-05-10 10:14:31.591 | INFO     | pipeline.correction.correction2:generate_possible_corrections:524 - Konnte Korrekturvorschlag 'PLURAL_*' nicht erstellen: list index out of range\n",
      "[Rikschadiebe]\n",
      "2025-05-10 10:14:31.658 | INFO     | pipeline.correction.correction2:generate_possible_corrections:505 - Konnte Korrekturvorschlag '*' nicht erstellen: list index out of range\n",
      "[Rikschadiebe]\n",
      "2025-05-10 10:14:31.667 | INFO     | pipeline.correction.correction2:generate_possible_corrections:524 - Konnte Korrekturvorschlag 'PLURAL_*' nicht erstellen: list index out of range\n",
      "[Rikschafahrer, seine, ihn]\n",
      "2025-05-10 10:14:31.813 | INFO     | pipeline.correction.correction2:generate_possible_corrections:505 - Konnte Korrekturvorschlag '*' nicht erstellen: list index out of range\n",
      "[Rikschafahrer, seine, ihn]\n",
      "2025-05-10 10:14:31.822 | INFO     | pipeline.correction.correction2:generate_possible_corrections:524 - Konnte Korrekturvorschlag 'PLURAL_*' nicht erstellen: list index out of range\n",
      "[Rikschafahrer, seine, ihn]\n",
      "2025-05-10 10:14:31.846 | INFO     | pipeline.correction.correction2:generate_possible_corrections:505 - Konnte Korrekturvorschlag '*' nicht erstellen: list index out of range\n",
      "[Rikschafahrer, seine, ihn]\n",
      "2025-05-10 10:14:31.855 | INFO     | pipeline.correction.correction2:generate_possible_corrections:524 - Konnte Korrekturvorschlag 'PLURAL_*' nicht erstellen: list index out of range\n",
      "[Rikschadiebe]\n",
      "2025-05-10 10:14:31.946 | INFO     | pipeline.correction.correction2:generate_possible_corrections:354 - Konnte Korrekturvorschlag '*' nicht erstellen: list index out of range\n",
      "[Rikschadiebe]\n",
      "2025-05-10 10:14:31.955 | INFO     | pipeline.correction.correction2:generate_possible_corrections:462 - Konnte Korrekturvorschlag 'BOTH_FORMS' nicht erstellen: list index out of range\n"
     ]
    },
    {
     "name": "stderr",
     "output_type": "stream",
     "text": [
      " 55%|█████████████████████▍                 | 1244/2265 [11:18<32:58,  1.94s/it]"
     ]
    },
    {
     "name": "stdout",
     "output_type": "stream",
     "text": [
      "[Inhalte]\n",
      "2025-05-10 10:14:35.818 | INFO     | pipeline.correction.correction2:generate_possible_corrections:354 - Konnte Korrekturvorschlag '*' nicht erstellen: list index out of range\n",
      "[Inhalte]\n",
      "2025-05-10 10:14:35.824 | INFO     | pipeline.correction.correction2:generate_possible_corrections:462 - Konnte Korrekturvorschlag 'BOTH_FORMS' nicht erstellen: list index out of range\n"
     ]
    },
    {
     "name": "stderr",
     "output_type": "stream",
     "text": [
      " 55%|█████████████████████▍                 | 1245/2265 [11:19<26:02,  1.53s/it]"
     ]
    },
    {
     "name": "stdout",
     "output_type": "stream",
     "text": [
      "[Faktor]\n",
      "2025-05-10 10:14:36.476 | INFO     | pipeline.correction.correction2:generate_possible_corrections:505 - Konnte Korrekturvorschlag '*' nicht erstellen: list index out of range\n",
      "[Faktor]\n",
      "2025-05-10 10:14:36.485 | INFO     | pipeline.correction.correction2:generate_possible_corrections:524 - Konnte Korrekturvorschlag 'PLURAL_*' nicht erstellen: list index out of range\n"
     ]
    },
    {
     "name": "stderr",
     "output_type": "stream",
     "text": [
      " 55%|█████████████████████▍                 | 1246/2265 [11:20<24:16,  1.43s/it]"
     ]
    },
    {
     "name": "stdout",
     "output_type": "stream",
     "text": [
      "[Rikschafahrers]\n",
      "2025-05-10 10:14:39.312 | INFO     | pipeline.correction.correction2:generate_possible_corrections:505 - Konnte Korrekturvorschlag '*' nicht erstellen: list index out of range\n",
      "[Rikschafahrers]\n",
      "2025-05-10 10:14:39.321 | INFO     | pipeline.correction.correction2:generate_possible_corrections:524 - Konnte Korrekturvorschlag 'PLURAL_*' nicht erstellen: list index out of range\n",
      "[Rikschafahrer]\n",
      "2025-05-10 10:14:39.455 | INFO     | pipeline.correction.correction2:generate_possible_corrections:505 - Konnte Korrekturvorschlag '*' nicht erstellen: list index out of range\n",
      "[Rikschafahrer]\n",
      "2025-05-10 10:14:39.463 | INFO     | pipeline.correction.correction2:generate_possible_corrections:524 - Konnte Korrekturvorschlag 'PLURAL_*' nicht erstellen: list index out of range\n"
     ]
    },
    {
     "name": "stderr",
     "output_type": "stream",
     "text": [
      " 55%|█████████████████████▍                 | 1248/2265 [11:23<25:25,  1.50s/it]"
     ]
    },
    {
     "name": "stdout",
     "output_type": "stream",
     "text": [
      "[Volkshochschuldozenten]\n",
      "2025-05-10 10:14:40.882 | INFO     | pipeline.correction.correction2:generate_possible_corrections:354 - Konnte Korrekturvorschlag '*' nicht erstellen: list index out of range\n",
      "[Volkshochschuldozenten]\n",
      "2025-05-10 10:14:40.888 | INFO     | pipeline.correction.correction2:generate_possible_corrections:462 - Konnte Korrekturvorschlag 'BOTH_FORMS' nicht erstellen: list index out of range\n"
     ]
    },
    {
     "name": "stderr",
     "output_type": "stream",
     "text": [
      " 55%|█████████████████████▌                 | 1250/2265 [11:25<18:25,  1.09s/it]"
     ]
    },
    {
     "name": "stdout",
     "output_type": "stream",
     "text": [
      "[Faktor]\n",
      "2025-05-10 10:14:44.428 | INFO     | pipeline.correction.correction2:generate_possible_corrections:505 - Konnte Korrekturvorschlag '*' nicht erstellen: list index out of range\n",
      "[Faktor]\n",
      "2025-05-10 10:14:44.438 | INFO     | pipeline.correction.correction2:generate_possible_corrections:524 - Konnte Korrekturvorschlag 'PLURAL_*' nicht erstellen: list index out of range\n"
     ]
    },
    {
     "name": "stderr",
     "output_type": "stream",
     "text": [
      " 55%|█████████████████████▌                 | 1251/2265 [11:27<25:43,  1.52s/it]"
     ]
    },
    {
     "name": "stdout",
     "output_type": "stream",
     "text": [
      "[Polen]\n",
      "2025-05-10 10:14:44.715 | INFO     | pipeline.correction.correction2:generate_possible_corrections:354 - Konnte Korrekturvorschlag '*' nicht erstellen: list index out of range\n",
      "[Polen]\n",
      "2025-05-10 10:14:44.721 | INFO     | pipeline.correction.correction2:generate_possible_corrections:462 - Konnte Korrekturvorschlag 'BOTH_FORMS' nicht erstellen: list index out of range\n",
      "2025-05-10 10:14:44.787 | ERROR    | pipeline.full_pipeline:full_pipeline:38 - Fehler bei needs_to_be_gendered() für 'Feind': Es darf nur ein Element mit dieser Beziehung geben. (war mit sb, war aber [s, Furtwängler])\n",
      "2025-05-10 10:14:44.788 | ERROR    | pipeline.full_pipeline:full_pipeline:38 - Fehler bei needs_to_be_gendered() für 'ihm': Es darf nur ein Element mit dieser Beziehung geben. (war mit sb, war aber [s, Furtwängler])\n",
      "2025-05-10 10:14:44.789 | ERROR    | pipeline.full_pipeline:full_pipeline:38 - Fehler bei needs_to_be_gendered() für 'er': Es darf nur ein Element mit dieser Beziehung geben. (war mit sb, war aber [s, Furtwängler])\n"
     ]
    },
    {
     "name": "stderr",
     "output_type": "stream",
     "text": [
      " 55%|█████████████████████▌                 | 1253/2265 [11:30<23:54,  1.42s/it]"
     ]
    },
    {
     "name": "stdout",
     "output_type": "stream",
     "text": [
      "[Bettelmusikanten]\n",
      "2025-05-10 10:14:47.200 | INFO     | pipeline.correction.correction2:generate_possible_corrections:505 - Konnte Korrekturvorschlag '*' nicht erstellen: list index out of range\n",
      "[Bettelmusikanten]\n",
      "2025-05-10 10:14:47.209 | INFO     | pipeline.correction.correction2:generate_possible_corrections:524 - Konnte Korrekturvorschlag 'PLURAL_*' nicht erstellen: list index out of range\n"
     ]
    },
    {
     "name": "stderr",
     "output_type": "stream",
     "text": [
      " 55%|█████████████████████▋                 | 1257/2265 [11:32<13:47,  1.22it/s]"
     ]
    },
    {
     "name": "stdout",
     "output_type": "stream",
     "text": [
      "[Vertretern]\n",
      "2025-05-10 10:14:49.510 | INFO     | pipeline.correction.correction2:generate_possible_corrections:462 - Konnte Korrekturvorschlag 'BOTH_FORMS' nicht erstellen: Es darf nur ein Element mit dieser Beziehung geben. (Vertretern mit cd, war aber [sowohl, als])\n"
     ]
    },
    {
     "name": "stderr",
     "output_type": "stream",
     "text": [
      " 56%|█████████████████████▋                 | 1259/2265 [11:33<12:09,  1.38it/s]"
     ]
    },
    {
     "name": "stdout",
     "output_type": "stream",
     "text": [
      "[Reaktor]\n",
      "2025-05-10 10:14:50.728 | INFO     | pipeline.correction.correction2:generate_possible_corrections:505 - Konnte Korrekturvorschlag '*' nicht erstellen: list index out of range\n",
      "[Reaktor]\n",
      "2025-05-10 10:14:50.737 | INFO     | pipeline.correction.correction2:generate_possible_corrections:524 - Konnte Korrekturvorschlag 'PLURAL_*' nicht erstellen: list index out of range\n",
      "[Reaktor]\n",
      "2025-05-10 10:14:50.860 | INFO     | pipeline.correction.correction2:generate_possible_corrections:505 - Konnte Korrekturvorschlag '*' nicht erstellen: list index out of range\n",
      "[Reaktor]\n",
      "2025-05-10 10:14:50.869 | INFO     | pipeline.correction.correction2:generate_possible_corrections:524 - Konnte Korrekturvorschlag 'PLURAL_*' nicht erstellen: list index out of range\n",
      "[Reaktor]\n",
      "2025-05-10 10:14:50.903 | INFO     | pipeline.correction.correction2:generate_possible_corrections:505 - Konnte Korrekturvorschlag '*' nicht erstellen: list index out of range\n",
      "[Reaktor]\n",
      "2025-05-10 10:14:50.911 | INFO     | pipeline.correction.correction2:generate_possible_corrections:524 - Konnte Korrekturvorschlag 'PLURAL_*' nicht erstellen: list index out of range\n"
     ]
    },
    {
     "name": "stderr",
     "output_type": "stream",
     "text": [
      " 56%|█████████████████████▋                 | 1260/2265 [11:34<11:35,  1.45it/s]"
     ]
    },
    {
     "name": "stdout",
     "output_type": "stream",
     "text": [
      "2025-05-10 10:14:51.499 | ERROR    | pipeline.full_pipeline:full_pipeline:38 - Fehler bei needs_to_be_gendered() für 'Sieger': Es darf nur ein Element mit dieser Beziehung geben. (wurde mit sb, war aber [müssen, GmbH])\n"
     ]
    },
    {
     "name": "stderr",
     "output_type": "stream",
     "text": [
      " 56%|█████████████████████▊                 | 1270/2265 [11:42<13:59,  1.18it/s]"
     ]
    },
    {
     "name": "stdout",
     "output_type": "stream",
     "text": [
      "2025-05-10 10:14:59.175 | ERROR    | pipeline.full_pipeline:full_pipeline:38 - Fehler bei needs_to_be_gendered() für 'keiner': 'NoneType' object is not iterable\n",
      "2025-05-10 10:14:59.192 | ERROR    | pipeline.full_pipeline:full_pipeline:38 - Fehler bei needs_to_be_gendered() für 'ihn': 'NoneType' object is not iterable\n",
      "2025-05-10 10:14:59.192 | ERROR    | pipeline.full_pipeline:full_pipeline:38 - Fehler bei needs_to_be_gendered() für 'Mitstreiter': 'NN'\n"
     ]
    },
    {
     "name": "stderr",
     "output_type": "stream",
     "text": [
      " 57%|██████████████████████                 | 1282/2265 [11:47<07:04,  2.31it/s]"
     ]
    },
    {
     "name": "stdout",
     "output_type": "stream",
     "text": [
      "[UN-Vertreter]\n",
      "2025-05-10 10:15:04.193 | INFO     | pipeline.correction.correction2:generate_possible_corrections:354 - Konnte Korrekturvorschlag '*' nicht erstellen: list index out of range\n",
      "[UN-Vertreter]\n",
      "2025-05-10 10:15:04.202 | INFO     | pipeline.correction.correction2:generate_possible_corrections:462 - Konnte Korrekturvorschlag 'BOTH_FORMS' nicht erstellen: list index out of range\n"
     ]
    },
    {
     "name": "stderr",
     "output_type": "stream",
     "text": [
      " 57%|██████████████████████▏                | 1289/2265 [11:50<08:25,  1.93it/s]"
     ]
    },
    {
     "name": "stdout",
     "output_type": "stream",
     "text": [
      "[Partner, ihrer, ihrer]\n",
      "2025-05-10 10:15:07.407 | INFO     | pipeline.correction.correction2:generate_possible_corrections:354 - Konnte Korrekturvorschlag '*' nicht erstellen: list index out of range\n",
      "[Partner, ihrer, ihrer]\n",
      "2025-05-10 10:15:07.407 | INFO     | pipeline.correction.correction2:generate_possible_corrections:462 - Konnte Korrekturvorschlag 'BOTH_FORMS' nicht erstellen: list index out of range\n"
     ]
    },
    {
     "name": "stderr",
     "output_type": "stream",
     "text": [
      " 57%|██████████████████████▎                | 1293/2265 [11:52<10:15,  1.58it/s]"
     ]
    },
    {
     "name": "stdout",
     "output_type": "stream",
     "text": [
      "[Neurobiologe]\n",
      "2025-05-10 10:15:09.893 | INFO     | pipeline.correction.correction2:generate_possible_corrections:505 - Konnte Korrekturvorschlag '*' nicht erstellen: list index out of range\n",
      "[Neurobiologe]\n",
      "2025-05-10 10:15:09.902 | INFO     | pipeline.correction.correction2:generate_possible_corrections:524 - Konnte Korrekturvorschlag 'PLURAL_*' nicht erstellen: list index out of range\n",
      "[Aufenthalte]\n",
      "2025-05-10 10:15:09.946 | INFO     | pipeline.correction.correction2:generate_possible_corrections:354 - Konnte Korrekturvorschlag '*' nicht erstellen: list index out of range\n",
      "[Aufenthalte]\n",
      "2025-05-10 10:15:09.951 | INFO     | pipeline.correction.correction2:generate_possible_corrections:462 - Konnte Korrekturvorschlag 'BOTH_FORMS' nicht erstellen: list index out of range\n"
     ]
    },
    {
     "name": "stderr",
     "output_type": "stream",
     "text": [
      " 57%|██████████████████████▎                | 1296/2265 [11:54<09:14,  1.75it/s]"
     ]
    },
    {
     "name": "stdout",
     "output_type": "stream",
     "text": [
      "[Aufsichtsrat]\n",
      "2025-05-10 10:15:11.758 | INFO     | pipeline.correction.correction2:generate_possible_corrections:505 - Konnte Korrekturvorschlag '*' nicht erstellen: list index out of range\n",
      "[Aufsichtsrat]\n",
      "2025-05-10 10:15:11.767 | INFO     | pipeline.correction.correction2:generate_possible_corrections:524 - Konnte Korrekturvorschlag 'PLURAL_*' nicht erstellen: list index out of range\n"
     ]
    },
    {
     "name": "stderr",
     "output_type": "stream",
     "text": [
      " 57%|██████████████████████▎                | 1298/2265 [11:56<15:13,  1.06it/s]"
     ]
    },
    {
     "name": "stdout",
     "output_type": "stream",
     "text": [
      "[sich, Ifo-Forscher]\n",
      "2025-05-10 10:15:14.116 | INFO     | pipeline.correction.correction2:generate_possible_corrections:354 - Konnte Korrekturvorschlag '*' nicht erstellen: list index out of range\n",
      "[sich, Ifo-Forscher]\n",
      "2025-05-10 10:15:14.125 | INFO     | pipeline.correction.correction2:generate_possible_corrections:462 - Konnte Korrekturvorschlag 'BOTH_FORMS' nicht erstellen: list index out of range\n"
     ]
    },
    {
     "name": "stderr",
     "output_type": "stream",
     "text": [
      " 58%|██████████████████████▌                | 1311/2265 [12:01<05:01,  3.17it/s]"
     ]
    },
    {
     "name": "stdout",
     "output_type": "stream",
     "text": [
      "[BUND-Umweltschützer, sie]\n",
      "2025-05-10 10:15:18.817 | INFO     | pipeline.correction.correction2:generate_possible_corrections:354 - Konnte Korrekturvorschlag '*' nicht erstellen: list index out of range\n",
      "[BUND-Umweltschützer, sie]\n",
      "2025-05-10 10:15:18.826 | INFO     | pipeline.correction.correction2:generate_possible_corrections:462 - Konnte Korrekturvorschlag 'BOTH_FORMS' nicht erstellen: list index out of range\n"
     ]
    },
    {
     "name": "stderr",
     "output_type": "stream",
     "text": [
      " 58%|██████████████████████▋                | 1318/2265 [12:04<06:55,  2.28it/s]"
     ]
    },
    {
     "name": "stdout",
     "output_type": "stream",
     "text": [
      "[US-Beamten]\n",
      "2025-05-10 10:15:22.052 | INFO     | pipeline.correction.correction2:generate_possible_corrections:354 - Konnte Korrekturvorschlag '*' nicht erstellen: list index out of range\n",
      "[US-Beamten]\n",
      "2025-05-10 10:15:22.061 | INFO     | pipeline.correction.correction2:generate_possible_corrections:462 - Konnte Korrekturvorschlag 'BOTH_FORMS' nicht erstellen: list index out of range\n",
      "2025-05-10 10:15:22.248 | ERROR    | pipeline.full_pipeline:full_pipeline:38 - Fehler bei needs_to_be_gendered() für 'Moslems': 'NoneType' object is not iterable\n",
      "2025-05-10 10:15:22.248 | ERROR    | pipeline.full_pipeline:full_pipeline:38 - Fehler bei needs_to_be_gendered() für 'Kroaten': 'NN'\n"
     ]
    },
    {
     "name": "stderr",
     "output_type": "stream",
     "text": [
      " 58%|██████████████████████▊                | 1325/2265 [12:07<07:44,  2.02it/s]"
     ]
    },
    {
     "name": "stdout",
     "output_type": "stream",
     "text": [
      "[Neonazi-Führer]\n",
      "2025-05-10 10:15:24.480 | INFO     | pipeline.correction.correction2:generate_possible_corrections:505 - Konnte Korrekturvorschlag '*' nicht erstellen: list index out of range\n",
      "[Neonazi-Führer]\n",
      "2025-05-10 10:15:24.489 | INFO     | pipeline.correction.correction2:generate_possible_corrections:524 - Konnte Korrekturvorschlag 'PLURAL_*' nicht erstellen: list index out of range\n"
     ]
    },
    {
     "name": "stderr",
     "output_type": "stream",
     "text": [
      " 59%|██████████████████████▊                | 1328/2265 [12:08<06:33,  2.38it/s]"
     ]
    },
    {
     "name": "stdout",
     "output_type": "stream",
     "text": [
      "[UN-Soldaten]\n",
      "2025-05-10 10:15:25.505 | INFO     | pipeline.correction.correction2:generate_possible_corrections:354 - Konnte Korrekturvorschlag '*' nicht erstellen: list index out of range\n",
      "[UN-Soldaten]\n",
      "2025-05-10 10:15:25.514 | INFO     | pipeline.correction.correction2:generate_possible_corrections:462 - Konnte Korrekturvorschlag 'BOTH_FORMS' nicht erstellen: list index out of range\n"
     ]
    },
    {
     "name": "stderr",
     "output_type": "stream",
     "text": [
      " 60%|███████████████████████▏               | 1348/2265 [12:14<12:22,  1.23it/s]"
     ]
    },
    {
     "name": "stdout",
     "output_type": "stream",
     "text": [
      "[Finanzfachmann]\n",
      "2025-05-10 10:15:34.336 | INFO     | pipeline.correction.correction2:generate_possible_corrections:505 - Konnte Korrekturvorschlag '*' nicht erstellen: list index out of range\n",
      "[Finanzfachmann]\n",
      "2025-05-10 10:15:34.346 | INFO     | pipeline.correction.correction2:generate_possible_corrections:524 - Konnte Korrekturvorschlag 'PLURAL_*' nicht erstellen: list index out of range\n",
      "2025-05-10 10:15:34.365 | INFO     | pipeline.correction.verb.change_verb_form:change_verb_form:13 - lex_target_verb not found: resumiert\n",
      "[Geschäftsführer]\n",
      "2025-05-10 10:15:34.365 | INFO     | pipeline.correction.correction2:generate_possible_corrections:524 - Konnte Korrekturvorschlag 'PLURAL_*' nicht erstellen: Das Verb konnte im Lexikon nicht gefunden werden: resumiert\n",
      "[Traktor]\n",
      "2025-05-10 10:15:34.470 | INFO     | pipeline.correction.correction2:generate_possible_corrections:505 - Konnte Korrekturvorschlag '*' nicht erstellen: list index out of range\n",
      "[Traktor]\n",
      "2025-05-10 10:15:34.478 | INFO     | pipeline.correction.correction2:generate_possible_corrections:524 - Konnte Korrekturvorschlag 'PLURAL_*' nicht erstellen: list index out of range\n"
     ]
    },
    {
     "name": "stderr",
     "output_type": "stream",
     "text": [
      " 60%|███████████████████████▎               | 1351/2265 [12:19<19:42,  1.29s/it]"
     ]
    },
    {
     "name": "stdout",
     "output_type": "stream",
     "text": [
      "[Klavierenthusiasten, ihre]\n",
      "2025-05-10 10:15:37.085 | INFO     | pipeline.correction.correction2:generate_possible_corrections:354 - Konnte Korrekturvorschlag '*' nicht erstellen: list index out of range\n",
      "[Klavierenthusiasten, ihre]\n",
      "2025-05-10 10:15:37.095 | INFO     | pipeline.correction.correction2:generate_possible_corrections:462 - Konnte Korrekturvorschlag 'BOTH_FORMS' nicht erstellen: list index out of range\n",
      "[EU-Gegner]\n",
      "2025-05-10 10:15:39.127 | INFO     | pipeline.correction.correction2:generate_possible_corrections:354 - Konnte Korrekturvorschlag '*' nicht erstellen: list index out of range\n",
      "[EU-Gegner]\n",
      "2025-05-10 10:15:39.135 | INFO     | pipeline.correction.correction2:generate_possible_corrections:462 - Konnte Korrekturvorschlag 'BOTH_FORMS' nicht erstellen: list index out of range\n",
      "[Zeuge]\n",
      "2025-05-10 10:15:39.216 | INFO     | pipeline.correction.correction2:generate_possible_corrections:505 - Konnte Korrekturvorschlag '*' nicht erstellen: list index out of range\n",
      "[Zeuge]\n",
      "2025-05-10 10:15:39.222 | INFO     | pipeline.correction.correction2:generate_possible_corrections:524 - Konnte Korrekturvorschlag 'PLURAL_*' nicht erstellen: list index out of range\n"
     ]
    },
    {
     "name": "stderr",
     "output_type": "stream",
     "text": [
      " 60%|███████████████████████▎               | 1355/2265 [12:24<16:06,  1.06s/it]"
     ]
    },
    {
     "name": "stdout",
     "output_type": "stream",
     "text": [
      "[Langsamfahrer, er, ihn]\n",
      "2025-05-10 10:15:41.740 | INFO     | pipeline.correction.correction2:generate_possible_corrections:505 - Konnte Korrekturvorschlag '*' nicht erstellen: list index out of range\n",
      "[Langsamfahrer, er, ihn]\n",
      "2025-05-10 10:15:41.749 | INFO     | pipeline.correction.correction2:generate_possible_corrections:524 - Konnte Korrekturvorschlag 'PLURAL_*' nicht erstellen: list index out of range\n",
      "[Langsamfahrer, er, ihn]\n",
      "2025-05-10 10:15:41.761 | INFO     | pipeline.correction.correction2:generate_possible_corrections:505 - Konnte Korrekturvorschlag '*' nicht erstellen: list index out of range\n",
      "[Langsamfahrer, er, ihn]\n",
      "2025-05-10 10:15:41.770 | INFO     | pipeline.correction.correction2:generate_possible_corrections:524 - Konnte Korrekturvorschlag 'PLURAL_*' nicht erstellen: list index out of range\n",
      "[Langsamfahrer, er, ihn]\n",
      "2025-05-10 10:15:41.788 | INFO     | pipeline.correction.correction2:generate_possible_corrections:505 - Konnte Korrekturvorschlag '*' nicht erstellen: list index out of range\n",
      "[Langsamfahrer, er, ihn]\n",
      "2025-05-10 10:15:41.797 | INFO     | pipeline.correction.correction2:generate_possible_corrections:524 - Konnte Korrekturvorschlag 'PLURAL_*' nicht erstellen: list index out of range\n",
      "[EU-Partner]\n",
      "2025-05-10 10:15:42.890 | INFO     | pipeline.correction.correction2:generate_possible_corrections:354 - Konnte Korrekturvorschlag '*' nicht erstellen: list index out of range\n",
      "[EU-Partner]\n",
      "2025-05-10 10:15:42.899 | INFO     | pipeline.correction.correction2:generate_possible_corrections:462 - Konnte Korrekturvorschlag 'BOTH_FORMS' nicht erstellen: list index out of range\n"
     ]
    },
    {
     "name": "stderr",
     "output_type": "stream",
     "text": [
      " 60%|███████████████████████▎               | 1356/2265 [12:25<17:07,  1.13s/it]"
     ]
    },
    {
     "name": "stdout",
     "output_type": "stream",
     "text": [
      "[Kunsthandwerker]\n",
      "2025-05-10 10:15:44.375 | INFO     | pipeline.correction.correction2:generate_possible_corrections:354 - Konnte Korrekturvorschlag '*' nicht erstellen: list index out of range\n",
      "[Kunsthandwerker]\n",
      "2025-05-10 10:15:44.384 | INFO     | pipeline.correction.correction2:generate_possible_corrections:462 - Konnte Korrekturvorschlag 'BOTH_FORMS' nicht erstellen: list index out of range\n"
     ]
    },
    {
     "name": "stderr",
     "output_type": "stream",
     "text": [
      " 60%|███████████████████████▍               | 1358/2265 [12:28<18:25,  1.22s/it]"
     ]
    },
    {
     "name": "stdout",
     "output_type": "stream",
     "text": [
      "[Faktor]\n",
      "2025-05-10 10:15:45.751 | INFO     | pipeline.correction.correction2:generate_possible_corrections:505 - Konnte Korrekturvorschlag '*' nicht erstellen: list index out of range\n",
      "[Faktor]\n",
      "2025-05-10 10:15:45.759 | INFO     | pipeline.correction.correction2:generate_possible_corrections:524 - Konnte Korrekturvorschlag 'PLURAL_*' nicht erstellen: list index out of range\n",
      "[Ostasiaten]\n",
      "2025-05-10 10:15:45.861 | INFO     | pipeline.correction.correction2:generate_possible_corrections:354 - Konnte Korrekturvorschlag '*' nicht erstellen: list index out of range\n",
      "[Ostasiaten]\n",
      "2025-05-10 10:15:45.866 | INFO     | pipeline.correction.correction2:generate_possible_corrections:462 - Konnte Korrekturvorschlag 'BOTH_FORMS' nicht erstellen: list index out of range\n",
      "[Taxifahrer]\n",
      "2025-05-10 10:15:48.330 | INFO     | pipeline.correction.correction2:generate_possible_corrections:505 - Konnte Korrekturvorschlag '*' nicht erstellen: list index out of range\n",
      "[Taxifahrer]\n",
      "2025-05-10 10:15:48.336 | INFO     | pipeline.correction.correction2:generate_possible_corrections:524 - Konnte Korrekturvorschlag 'PLURAL_*' nicht erstellen: list index out of range\n"
     ]
    },
    {
     "name": "stderr",
     "output_type": "stream",
     "text": [
      " 60%|███████████████████████▍               | 1360/2265 [12:32<20:24,  1.35s/it]"
     ]
    },
    {
     "name": "stdout",
     "output_type": "stream",
     "text": [
      "[Sektor]\n",
      "2025-05-10 10:15:49.184 | INFO     | pipeline.correction.correction2:generate_possible_corrections:505 - Konnte Korrekturvorschlag '*' nicht erstellen: list index out of range\n",
      "[Sektor]\n",
      "2025-05-10 10:15:49.192 | INFO     | pipeline.correction.correction2:generate_possible_corrections:524 - Konnte Korrekturvorschlag 'PLURAL_*' nicht erstellen: list index out of range\n"
     ]
    },
    {
     "name": "stderr",
     "output_type": "stream",
     "text": [
      " 60%|███████████████████████▍               | 1361/2265 [12:32<17:36,  1.17s/it]"
     ]
    },
    {
     "name": "stdout",
     "output_type": "stream",
     "text": [
      "[Inhalte]\n",
      "2025-05-10 10:15:49.913 | INFO     | pipeline.correction.correction2:generate_possible_corrections:354 - Konnte Korrekturvorschlag '*' nicht erstellen: list index out of range\n",
      "[Inhalte]\n",
      "2025-05-10 10:15:49.919 | INFO     | pipeline.correction.correction2:generate_possible_corrections:462 - Konnte Korrekturvorschlag 'BOTH_FORMS' nicht erstellen: list index out of range\n"
     ]
    },
    {
     "name": "stderr",
     "output_type": "stream",
     "text": [
      " 60%|███████████████████████▍               | 1363/2265 [12:33<09:56,  1.51it/s]"
     ]
    },
    {
     "name": "stdout",
     "output_type": "stream",
     "text": [
      "[Inhalte, sich]\n",
      "2025-05-10 10:15:55.555 | INFO     | pipeline.correction.correction2:generate_possible_corrections:354 - Konnte Korrekturvorschlag '*' nicht erstellen: list index out of range\n",
      "[Inhalte, sich]\n",
      "2025-05-10 10:15:55.561 | INFO     | pipeline.correction.correction2:generate_possible_corrections:462 - Konnte Korrekturvorschlag 'BOTH_FORMS' nicht erstellen: list index out of range\n",
      "2025-05-10 10:15:55.959 | ERROR    | pipeline.full_pipeline:full_pipeline:38 - Fehler bei needs_to_be_gendered() für 'Reformern': 'NN'\n"
     ]
    },
    {
     "name": "stderr",
     "output_type": "stream",
     "text": [
      " 60%|███████████████████████▍               | 1364/2265 [12:39<34:01,  2.27s/it]"
     ]
    },
    {
     "name": "stdout",
     "output_type": "stream",
     "text": [
      "[Ski-Touristen]\n",
      "2025-05-10 10:15:57.786 | INFO     | pipeline.correction.correction2:generate_possible_corrections:354 - Konnte Korrekturvorschlag '*' nicht erstellen: list index out of range\n",
      "[Ski-Touristen]\n",
      "2025-05-10 10:15:57.795 | INFO     | pipeline.correction.correction2:generate_possible_corrections:462 - Konnte Korrekturvorschlag 'BOTH_FORMS' nicht erstellen: list index out of range\n"
     ]
    },
    {
     "name": "stderr",
     "output_type": "stream",
     "text": [
      " 61%|███████████████████████▌               | 1372/2265 [12:45<11:49,  1.26it/s]"
     ]
    },
    {
     "name": "stdout",
     "output_type": "stream",
     "text": [
      "[Notenbank-Experten]\n",
      "2025-05-10 10:16:02.929 | INFO     | pipeline.correction.correction2:generate_possible_corrections:354 - Konnte Korrekturvorschlag '*' nicht erstellen: list index out of range\n",
      "[Notenbank-Experten]\n",
      "2025-05-10 10:16:02.937 | INFO     | pipeline.correction.correction2:generate_possible_corrections:462 - Konnte Korrekturvorschlag 'BOTH_FORMS' nicht erstellen: list index out of range\n",
      "[Sektoren]\n",
      "2025-05-10 10:16:02.956 | INFO     | pipeline.correction.correction2:generate_possible_corrections:354 - Konnte Korrekturvorschlag '*' nicht erstellen: list index out of range\n",
      "[Sektoren]\n",
      "2025-05-10 10:16:02.964 | INFO     | pipeline.correction.correction2:generate_possible_corrections:462 - Konnte Korrekturvorschlag 'BOTH_FORMS' nicht erstellen: list index out of range\n"
     ]
    },
    {
     "name": "stderr",
     "output_type": "stream",
     "text": [
      " 61%|███████████████████████▋               | 1373/2265 [12:46<11:37,  1.28it/s]"
     ]
    },
    {
     "name": "stdout",
     "output_type": "stream",
     "text": [
      "[Inhalte]\n",
      "2025-05-10 10:16:04.593 | INFO     | pipeline.correction.correction2:generate_possible_corrections:354 - Konnte Korrekturvorschlag '*' nicht erstellen: list index out of range\n",
      "[Inhalte]\n",
      "2025-05-10 10:16:04.598 | INFO     | pipeline.correction.correction2:generate_possible_corrections:462 - Konnte Korrekturvorschlag 'BOTH_FORMS' nicht erstellen: list index out of range\n"
     ]
    },
    {
     "name": "stderr",
     "output_type": "stream",
     "text": [
      " 61%|███████████████████████▋               | 1374/2265 [12:47<13:03,  1.14it/s]"
     ]
    },
    {
     "name": "stdout",
     "output_type": "stream",
     "text": [
      "[Inhalte]\n",
      "2025-05-10 10:16:04.826 | INFO     | pipeline.correction.correction2:generate_possible_corrections:354 - Konnte Korrekturvorschlag '*' nicht erstellen: list index out of range\n",
      "[Inhalte]\n",
      "2025-05-10 10:16:04.831 | INFO     | pipeline.correction.correction2:generate_possible_corrections:462 - Konnte Korrekturvorschlag 'BOTH_FORMS' nicht erstellen: list index out of range\n"
     ]
    },
    {
     "name": "stderr",
     "output_type": "stream",
     "text": [
      " 61%|███████████████████████▋               | 1376/2265 [12:48<09:02,  1.64it/s]"
     ]
    },
    {
     "name": "stdout",
     "output_type": "stream",
     "text": [
      "[EDV-Anwender]\n",
      "2025-05-10 10:16:05.508 | INFO     | pipeline.correction.correction2:generate_possible_corrections:354 - Konnte Korrekturvorschlag '*' nicht erstellen: list index out of range\n",
      "[EDV-Anwender]\n",
      "2025-05-10 10:16:05.518 | INFO     | pipeline.correction.correction2:generate_possible_corrections:462 - Konnte Korrekturvorschlag 'BOTH_FORMS' nicht erstellen: list index out of range\n"
     ]
    },
    {
     "name": "stderr",
     "output_type": "stream",
     "text": [
      " 61%|███████████████████████▉               | 1388/2265 [12:54<07:35,  1.93it/s]"
     ]
    },
    {
     "name": "stdout",
     "output_type": "stream",
     "text": [
      "[NS-Juristen]\n",
      "2025-05-10 10:16:12.388 | INFO     | pipeline.correction.correction2:generate_possible_corrections:354 - Konnte Korrekturvorschlag '*' nicht erstellen: list index out of range\n",
      "[NS-Juristen]\n",
      "2025-05-10 10:16:12.397 | INFO     | pipeline.correction.correction2:generate_possible_corrections:462 - Konnte Korrekturvorschlag 'BOTH_FORMS' nicht erstellen: list index out of range\n",
      "[NS-Richtern]\n",
      "2025-05-10 10:16:12.461 | INFO     | pipeline.correction.correction2:generate_possible_corrections:354 - Konnte Korrekturvorschlag '*' nicht erstellen: list index out of range\n",
      "[NS-Richtern]\n",
      "2025-05-10 10:16:12.471 | INFO     | pipeline.correction.correction2:generate_possible_corrections:462 - Konnte Korrekturvorschlag 'BOTH_FORMS' nicht erstellen: list index out of range\n",
      "[NS-Richter]\n",
      "2025-05-10 10:16:12.606 | INFO     | pipeline.correction.correction2:generate_possible_corrections:354 - Konnte Korrekturvorschlag '*' nicht erstellen: list index out of range\n",
      "[NS-Richter]\n",
      "2025-05-10 10:16:12.615 | INFO     | pipeline.correction.correction2:generate_possible_corrections:462 - Konnte Korrekturvorschlag 'BOTH_FORMS' nicht erstellen: list index out of range\n",
      "[NS-Jurist, er]\n",
      "2025-05-10 10:16:12.740 | INFO     | pipeline.correction.correction2:generate_possible_corrections:505 - Konnte Korrekturvorschlag '*' nicht erstellen: list index out of range\n",
      "[NS-Jurist, er]\n",
      "2025-05-10 10:16:12.749 | INFO     | pipeline.correction.correction2:generate_possible_corrections:524 - Konnte Korrekturvorschlag 'PLURAL_*' nicht erstellen: list index out of range\n",
      "[NS-Jurist, er]\n",
      "2025-05-10 10:16:12.763 | INFO     | pipeline.correction.correction2:generate_possible_corrections:505 - Konnte Korrekturvorschlag '*' nicht erstellen: list index out of range\n",
      "[NS-Jurist, er]\n",
      "2025-05-10 10:16:12.772 | INFO     | pipeline.correction.correction2:generate_possible_corrections:524 - Konnte Korrekturvorschlag 'PLURAL_*' nicht erstellen: list index out of range\n"
     ]
    },
    {
     "name": "stderr",
     "output_type": "stream",
     "text": [
      " 61%|███████████████████████▉               | 1390/2265 [12:55<08:37,  1.69it/s]"
     ]
    },
    {
     "name": "stdout",
     "output_type": "stream",
     "text": [
      "[Generikahersteller]\n",
      "2025-05-10 10:16:13.047 | INFO     | pipeline.correction.correction2:generate_possible_corrections:505 - Konnte Korrekturvorschlag '*' nicht erstellen: list index out of range\n",
      "[Generikahersteller]\n",
      "2025-05-10 10:16:13.057 | INFO     | pipeline.correction.correction2:generate_possible_corrections:524 - Konnte Korrekturvorschlag 'PLURAL_*' nicht erstellen: list index out of range\n"
     ]
    },
    {
     "name": "stderr",
     "output_type": "stream",
     "text": [
      " 61%|███████████████████████▉               | 1391/2265 [12:56<07:21,  1.98it/s]"
     ]
    },
    {
     "name": "stdout",
     "output_type": "stream",
     "text": [
      "[Telekom-Kunden]\n",
      "2025-05-10 10:16:13.340 | INFO     | pipeline.correction.correction2:generate_possible_corrections:354 - Konnte Korrekturvorschlag '*' nicht erstellen: list index out of range\n",
      "[Telekom-Kunden]\n",
      "2025-05-10 10:16:13.349 | INFO     | pipeline.correction.correction2:generate_possible_corrections:462 - Konnte Korrekturvorschlag 'BOTH_FORMS' nicht erstellen: list index out of range\n"
     ]
    },
    {
     "name": "stderr",
     "output_type": "stream",
     "text": [
      " 62%|████████████████████████               | 1396/2265 [12:58<06:35,  2.20it/s]"
     ]
    },
    {
     "name": "stdout",
     "output_type": "stream",
     "text": [
      "2025-05-10 10:16:18.262 | INFO     | pipeline.correction.verb.change_verb_form:change_verb_form:13 - lex_target_verb not found: Weiß\n",
      "[er]\n",
      "2025-05-10 10:16:18.262 | INFO     | pipeline.correction.correction2:generate_possible_corrections:524 - Konnte Korrekturvorschlag 'PLURAL_*' nicht erstellen: Das Verb konnte im Lexikon nicht gefunden werden: Weiß\n"
     ]
    },
    {
     "name": "stderr",
     "output_type": "stream",
     "text": [
      " 62%|████████████████████████               | 1397/2265 [13:01<18:49,  1.30s/it]"
     ]
    },
    {
     "name": "stdout",
     "output_type": "stream",
     "text": [
      "[Inhalten]\n",
      "2025-05-10 10:16:18.751 | INFO     | pipeline.correction.correction2:generate_possible_corrections:354 - Konnte Korrekturvorschlag '*' nicht erstellen: list index out of range\n",
      "[Inhalten]\n",
      "2025-05-10 10:16:18.756 | INFO     | pipeline.correction.correction2:generate_possible_corrections:462 - Konnte Korrekturvorschlag 'BOTH_FORMS' nicht erstellen: list index out of range\n"
     ]
    },
    {
     "name": "stderr",
     "output_type": "stream",
     "text": [
      " 62%|████████████████████████▏              | 1404/2265 [13:05<09:42,  1.48it/s]"
     ]
    },
    {
     "name": "stdout",
     "output_type": "stream",
     "text": [
      "[Hauptkunden]\n",
      "2025-05-10 10:16:22.859 | INFO     | pipeline.correction.correction2:generate_possible_corrections:354 - Konnte Korrekturvorschlag '*' nicht erstellen: list index out of range\n",
      "[Hauptkunden]\n",
      "2025-05-10 10:16:22.868 | INFO     | pipeline.correction.correction2:generate_possible_corrections:462 - Konnte Korrekturvorschlag 'BOTH_FORMS' nicht erstellen: list index out of range\n"
     ]
    },
    {
     "name": "stderr",
     "output_type": "stream",
     "text": [
      " 62%|████████████████████████▏              | 1408/2265 [13:07<07:09,  1.99it/s]"
     ]
    },
    {
     "name": "stdout",
     "output_type": "stream",
     "text": [
      "[NS-Juristen]\n",
      "2025-05-10 10:16:25.033 | INFO     | pipeline.correction.correction2:generate_possible_corrections:354 - Konnte Korrekturvorschlag '*' nicht erstellen: list index out of range\n",
      "[NS-Juristen]\n",
      "2025-05-10 10:16:25.043 | INFO     | pipeline.correction.correction2:generate_possible_corrections:462 - Konnte Korrekturvorschlag 'BOTH_FORMS' nicht erstellen: list index out of range\n",
      "[NS-Richtern]\n",
      "2025-05-10 10:16:25.195 | INFO     | pipeline.correction.correction2:generate_possible_corrections:354 - Konnte Korrekturvorschlag '*' nicht erstellen: list index out of range\n",
      "[NS-Richtern]\n",
      "2025-05-10 10:16:25.204 | INFO     | pipeline.correction.correction2:generate_possible_corrections:462 - Konnte Korrekturvorschlag 'BOTH_FORMS' nicht erstellen: list index out of range\n",
      "[NS-Richtern]\n",
      "2025-05-10 10:16:25.222 | INFO     | pipeline.correction.correction2:generate_possible_corrections:354 - Konnte Korrekturvorschlag '*' nicht erstellen: list index out of range\n",
      "[NS-Richtern]\n",
      "2025-05-10 10:16:25.231 | INFO     | pipeline.correction.correction2:generate_possible_corrections:462 - Konnte Korrekturvorschlag 'BOTH_FORMS' nicht erstellen: list index out of range\n"
     ]
    },
    {
     "name": "stderr",
     "output_type": "stream",
     "text": [
      " 62%|████████████████████████▎              | 1411/2265 [13:09<07:33,  1.88it/s]"
     ]
    },
    {
     "name": "stdout",
     "output_type": "stream",
     "text": [
      "2025-05-10 10:16:27.280 | ERROR    | pipeline.full_pipeline:full_pipeline:38 - Fehler bei needs_to_be_gendered() für 'Bundesvorsitzender': Es darf nur ein Element mit dieser Beziehung geben. (war mit sb, war aber [er, Position])\n"
     ]
    },
    {
     "name": "stderr",
     "output_type": "stream",
     "text": [
      " 62%|████████████████████████▎              | 1412/2265 [13:10<10:24,  1.37it/s]"
     ]
    },
    {
     "name": "stdout",
     "output_type": "stream",
     "text": [
      "[Spitzengenosse]\n",
      "2025-05-10 10:16:27.506 | INFO     | pipeline.correction.correction2:generate_possible_corrections:505 - Konnte Korrekturvorschlag '*' nicht erstellen: list index out of range\n",
      "[Spitzengenosse]\n",
      "2025-05-10 10:16:27.514 | INFO     | pipeline.correction.correction2:generate_possible_corrections:524 - Konnte Korrekturvorschlag 'PLURAL_*' nicht erstellen: list index out of range\n"
     ]
    },
    {
     "name": "stderr",
     "output_type": "stream",
     "text": [
      " 63%|████████████████████████▍              | 1416/2265 [13:12<08:16,  1.71it/s]"
     ]
    },
    {
     "name": "stdout",
     "output_type": "stream",
     "text": [
      "[NS-Richter, ihre]\n",
      "2025-05-10 10:16:29.586 | INFO     | pipeline.correction.correction2:generate_possible_corrections:354 - Konnte Korrekturvorschlag '*' nicht erstellen: list index out of range\n",
      "[NS-Richter, ihre]\n",
      "2025-05-10 10:16:29.595 | INFO     | pipeline.correction.correction2:generate_possible_corrections:462 - Konnte Korrekturvorschlag 'BOTH_FORMS' nicht erstellen: list index out of range\n",
      "[NS-Richtern]\n",
      "2025-05-10 10:16:29.627 | INFO     | pipeline.correction.correction2:generate_possible_corrections:354 - Konnte Korrekturvorschlag '*' nicht erstellen: list index out of range\n",
      "[NS-Richtern]\n",
      "2025-05-10 10:16:29.636 | INFO     | pipeline.correction.correction2:generate_possible_corrections:462 - Konnte Korrekturvorschlag 'BOTH_FORMS' nicht erstellen: list index out of range\n"
     ]
    },
    {
     "name": "stderr",
     "output_type": "stream",
     "text": [
      " 63%|████████████████████████▍              | 1419/2265 [13:13<06:00,  2.35it/s]"
     ]
    },
    {
     "name": "stdout",
     "output_type": "stream",
     "text": [
      "[Bundesrat]\n",
      "2025-05-10 10:16:30.749 | INFO     | pipeline.correction.correction2:generate_possible_corrections:505 - Konnte Korrekturvorschlag '*' nicht erstellen: list index out of range\n",
      "[Bundesrat]\n",
      "2025-05-10 10:16:30.755 | INFO     | pipeline.correction.correction2:generate_possible_corrections:524 - Konnte Korrekturvorschlag 'PLURAL_*' nicht erstellen: list index out of range\n"
     ]
    },
    {
     "name": "stderr",
     "output_type": "stream",
     "text": [
      " 63%|████████████████████████▌              | 1424/2265 [13:16<07:22,  1.90it/s]"
     ]
    },
    {
     "name": "stdout",
     "output_type": "stream",
     "text": [
      "[Dichter]\n",
      "2025-05-10 10:16:33.145 | INFO     | pipeline.correction.correction2:generate_possible_corrections:462 - Konnte Korrekturvorschlag 'BOTH_FORMS' nicht erstellen: Es darf nur ein Element mit dieser Beziehung geben. (Dichter mit cd, war aber [und, oder])\n"
     ]
    },
    {
     "name": "stderr",
     "output_type": "stream",
     "text": [
      " 64%|████████████████████████▉              | 1445/2265 [13:22<03:53,  3.51it/s]"
     ]
    },
    {
     "name": "stdout",
     "output_type": "stream",
     "text": [
      "[Fischer-Kunden, ihre]\n",
      "2025-05-10 10:16:40.049 | INFO     | pipeline.correction.correction2:generate_possible_corrections:354 - Konnte Korrekturvorschlag '*' nicht erstellen: list index out of range\n",
      "[Fischer-Kunden, ihre]\n",
      "2025-05-10 10:16:40.057 | INFO     | pipeline.correction.correction2:generate_possible_corrections:462 - Konnte Korrekturvorschlag 'BOTH_FORMS' nicht erstellen: list index out of range\n"
     ]
    },
    {
     "name": "stderr",
     "output_type": "stream",
     "text": [
      " 64%|█████████████████████████              | 1458/2265 [13:26<03:51,  3.49it/s]"
     ]
    },
    {
     "name": "stdout",
     "output_type": "stream",
     "text": [
      "[Ex-GSG-9-Beamter]\n",
      "2025-05-10 10:16:43.130 | INFO     | pipeline.correction.correction2:generate_possible_corrections:505 - Konnte Korrekturvorschlag '*' nicht erstellen: list index out of range\n",
      "[Ex-GSG-9-Beamter]\n",
      "2025-05-10 10:16:43.139 | INFO     | pipeline.correction.correction2:generate_possible_corrections:524 - Konnte Korrekturvorschlag 'PLURAL_*' nicht erstellen: list index out of range\n",
      "[Ex-Beamten]\n",
      "2025-05-10 10:16:43.175 | INFO     | pipeline.correction.correction2:generate_possible_corrections:505 - Konnte Korrekturvorschlag '*' nicht erstellen: list index out of range\n",
      "[Ex-Beamten]\n",
      "2025-05-10 10:16:43.184 | INFO     | pipeline.correction.correction2:generate_possible_corrections:524 - Konnte Korrekturvorschlag 'PLURAL_*' nicht erstellen: list index out of range\n"
     ]
    },
    {
     "name": "stderr",
     "output_type": "stream",
     "text": [
      " 65%|█████████████████████████▏             | 1462/2265 [13:27<05:10,  2.58it/s]"
     ]
    },
    {
     "name": "stdout",
     "output_type": "stream",
     "text": [
      "[US-Richter]\n",
      "2025-05-10 10:16:44.747 | INFO     | pipeline.correction.correction2:generate_possible_corrections:505 - Konnte Korrekturvorschlag '*' nicht erstellen: list index out of range\n",
      "[US-Richter]\n",
      "2025-05-10 10:16:44.756 | INFO     | pipeline.correction.correction2:generate_possible_corrections:524 - Konnte Korrekturvorschlag 'PLURAL_*' nicht erstellen: list index out of range\n"
     ]
    },
    {
     "name": "stderr",
     "output_type": "stream",
     "text": [
      " 65%|█████████████████████████▏             | 1464/2265 [13:28<05:26,  2.45it/s]"
     ]
    },
    {
     "name": "stdout",
     "output_type": "stream",
     "text": [
      "[EU-Partner]\n",
      "2025-05-10 10:16:45.477 | INFO     | pipeline.correction.correction2:generate_possible_corrections:354 - Konnte Korrekturvorschlag '*' nicht erstellen: list index out of range\n",
      "[EU-Partner]\n",
      "2025-05-10 10:16:45.486 | INFO     | pipeline.correction.correction2:generate_possible_corrections:462 - Konnte Korrekturvorschlag 'BOTH_FORMS' nicht erstellen: list index out of range\n",
      "[EU-Partnern]\n",
      "2025-05-10 10:16:45.548 | INFO     | pipeline.correction.correction2:generate_possible_corrections:354 - Konnte Korrekturvorschlag '*' nicht erstellen: list index out of range\n",
      "[EU-Partnern]\n",
      "2025-05-10 10:16:45.557 | INFO     | pipeline.correction.correction2:generate_possible_corrections:462 - Konnte Korrekturvorschlag 'BOTH_FORMS' nicht erstellen: list index out of range\n"
     ]
    },
    {
     "name": "stderr",
     "output_type": "stream",
     "text": [
      " 65%|█████████████████████████▎             | 1468/2265 [13:29<03:50,  3.45it/s]"
     ]
    },
    {
     "name": "stdout",
     "output_type": "stream",
     "text": [
      "[Hauptstädter]\n",
      "2025-05-10 10:16:47.427 | INFO     | pipeline.correction.correction2:generate_possible_corrections:505 - Konnte Korrekturvorschlag '*' nicht erstellen: list index out of range\n",
      "[Hauptstädter]\n",
      "2025-05-10 10:16:47.437 | INFO     | pipeline.correction.correction2:generate_possible_corrections:524 - Konnte Korrekturvorschlag 'PLURAL_*' nicht erstellen: list index out of range\n"
     ]
    },
    {
     "name": "stderr",
     "output_type": "stream",
     "text": [
      " 65%|█████████████████████████▎             | 1469/2265 [13:30<07:05,  1.87it/s]"
     ]
    },
    {
     "name": "stdout",
     "output_type": "stream",
     "text": [
      "[Taxifahrer]\n",
      "2025-05-10 10:16:47.645 | INFO     | pipeline.correction.correction2:generate_possible_corrections:354 - Konnte Korrekturvorschlag '*' nicht erstellen: list index out of range\n",
      "[Taxifahrer]\n",
      "2025-05-10 10:16:47.652 | INFO     | pipeline.correction.correction2:generate_possible_corrections:462 - Konnte Korrekturvorschlag 'BOTH_FORMS' nicht erstellen: list index out of range\n",
      "[sich, Taxifahrer]\n",
      "2025-05-10 10:16:47.672 | INFO     | pipeline.correction.correction2:generate_possible_corrections:354 - Konnte Korrekturvorschlag '*' nicht erstellen: list index out of range\n",
      "[sich, Taxifahrer]\n",
      "2025-05-10 10:16:47.678 | INFO     | pipeline.correction.correction2:generate_possible_corrections:462 - Konnte Korrekturvorschlag 'BOTH_FORMS' nicht erstellen: list index out of range\n",
      "[Taxifahrer]\n",
      "2025-05-10 10:16:47.696 | INFO     | pipeline.correction.correction2:generate_possible_corrections:505 - Konnte Korrekturvorschlag '*' nicht erstellen: list index out of range\n",
      "[Taxifahrer]\n",
      "2025-05-10 10:16:47.702 | INFO     | pipeline.correction.correction2:generate_possible_corrections:524 - Konnte Korrekturvorschlag 'PLURAL_*' nicht erstellen: list index out of range\n",
      "[Taxifahrer, ihm]\n",
      "2025-05-10 10:16:47.719 | INFO     | pipeline.correction.correction2:generate_possible_corrections:505 - Konnte Korrekturvorschlag '*' nicht erstellen: list index out of range\n",
      "[Taxifahrer, ihm]\n",
      "2025-05-10 10:16:47.725 | INFO     | pipeline.correction.correction2:generate_possible_corrections:524 - Konnte Korrekturvorschlag 'PLURAL_*' nicht erstellen: list index out of range\n",
      "[Taxifahrer, ihm]\n",
      "2025-05-10 10:16:47.758 | INFO     | pipeline.correction.correction2:generate_possible_corrections:505 - Konnte Korrekturvorschlag '*' nicht erstellen: list index out of range\n",
      "[Taxifahrer, ihm]\n",
      "2025-05-10 10:16:47.764 | INFO     | pipeline.correction.correction2:generate_possible_corrections:524 - Konnte Korrekturvorschlag 'PLURAL_*' nicht erstellen: list index out of range\n",
      "[Bergbauern]\n",
      "2025-05-10 10:16:49.367 | INFO     | pipeline.correction.correction2:generate_possible_corrections:354 - Konnte Korrekturvorschlag '*' nicht erstellen: list index out of range\n",
      "[Bergbauern]\n",
      "2025-05-10 10:16:49.376 | INFO     | pipeline.correction.correction2:generate_possible_corrections:462 - Konnte Korrekturvorschlag 'BOTH_FORMS' nicht erstellen: list index out of range\n",
      "[Bergbauern, ihren]\n",
      "2025-05-10 10:16:49.509 | INFO     | pipeline.correction.correction2:generate_possible_corrections:354 - Konnte Korrekturvorschlag '*' nicht erstellen: list index out of range\n",
      "[Bergbauern, ihren]\n",
      "2025-05-10 10:16:49.518 | INFO     | pipeline.correction.correction2:generate_possible_corrections:462 - Konnte Korrekturvorschlag 'BOTH_FORMS' nicht erstellen: list index out of range\n",
      "[Bergbauern]\n",
      "2025-05-10 10:16:49.720 | INFO     | pipeline.correction.correction2:generate_possible_corrections:354 - Konnte Korrekturvorschlag '*' nicht erstellen: list index out of range\n",
      "[Bergbauern]\n",
      "2025-05-10 10:16:49.729 | INFO     | pipeline.correction.correction2:generate_possible_corrections:462 - Konnte Korrekturvorschlag 'BOTH_FORMS' nicht erstellen: list index out of range\n",
      "[Bergbauern]\n",
      "2025-05-10 10:16:49.861 | INFO     | pipeline.correction.correction2:generate_possible_corrections:354 - Konnte Korrekturvorschlag '*' nicht erstellen: list index out of range\n",
      "[Bergbauern]\n",
      "2025-05-10 10:16:49.871 | INFO     | pipeline.correction.correction2:generate_possible_corrections:462 - Konnte Korrekturvorschlag 'BOTH_FORMS' nicht erstellen: list index out of range\n"
     ]
    },
    {
     "name": "stderr",
     "output_type": "stream",
     "text": [
      " 65%|█████████████████████████▍             | 1476/2265 [13:39<14:05,  1.07s/it]"
     ]
    },
    {
     "name": "stdout",
     "output_type": "stream",
     "text": [
      "[Portweinhersteller, ihre]\n",
      "2025-05-10 10:16:58.367 | INFO     | pipeline.correction.correction2:generate_possible_corrections:354 - Konnte Korrekturvorschlag '*' nicht erstellen: list index out of range\n",
      "[Portweinhersteller, ihre]\n",
      "2025-05-10 10:16:58.376 | INFO     | pipeline.correction.correction2:generate_possible_corrections:462 - Konnte Korrekturvorschlag 'BOTH_FORMS' nicht erstellen: list index out of range\n"
     ]
    },
    {
     "name": "stderr",
     "output_type": "stream",
     "text": [
      " 65%|█████████████████████████▍             | 1478/2265 [13:43<19:52,  1.52s/it]"
     ]
    },
    {
     "name": "stdout",
     "output_type": "stream",
     "text": [
      "[Küstensegler]\n",
      "2025-05-10 10:17:00.566 | INFO     | pipeline.correction.correction2:generate_possible_corrections:505 - Konnte Korrekturvorschlag '*' nicht erstellen: list index out of range\n",
      "[Küstensegler]\n",
      "2025-05-10 10:17:00.575 | INFO     | pipeline.correction.correction2:generate_possible_corrections:524 - Konnte Korrekturvorschlag 'PLURAL_*' nicht erstellen: list index out of range\n"
     ]
    },
    {
     "name": "stderr",
     "output_type": "stream",
     "text": [
      " 65%|█████████████████████████▍             | 1479/2265 [13:44<16:58,  1.30s/it]"
     ]
    },
    {
     "name": "stdout",
     "output_type": "stream",
     "text": [
      "[KdF-Urlauber]\n",
      "2025-05-10 10:17:02.868 | INFO     | pipeline.correction.correction2:generate_possible_corrections:354 - Konnte Korrekturvorschlag '*' nicht erstellen: list index out of range\n",
      "[KdF-Urlauber]\n",
      "2025-05-10 10:17:02.877 | INFO     | pipeline.correction.correction2:generate_possible_corrections:462 - Konnte Korrekturvorschlag 'BOTH_FORMS' nicht erstellen: list index out of range\n",
      "[Ex-Journalist]\n",
      "2025-05-10 10:17:02.972 | INFO     | pipeline.correction.correction2:generate_possible_corrections:505 - Konnte Korrekturvorschlag '*' nicht erstellen: list index out of range\n",
      "[Ex-Journalist]\n",
      "2025-05-10 10:17:02.982 | INFO     | pipeline.correction.correction2:generate_possible_corrections:524 - Konnte Korrekturvorschlag 'PLURAL_*' nicht erstellen: list index out of range\n",
      "[Ex-Richter]\n",
      "2025-05-10 10:17:03.008 | INFO     | pipeline.correction.correction2:generate_possible_corrections:505 - Konnte Korrekturvorschlag '*' nicht erstellen: list index out of range\n",
      "[Ex-Richter]\n",
      "2025-05-10 10:17:03.017 | INFO     | pipeline.correction.correction2:generate_possible_corrections:524 - Konnte Korrekturvorschlag 'PLURAL_*' nicht erstellen: list index out of range\n"
     ]
    },
    {
     "name": "stderr",
     "output_type": "stream",
     "text": [
      " 66%|█████████████████████████▌             | 1484/2265 [13:50<15:23,  1.18s/it]"
     ]
    },
    {
     "name": "stdout",
     "output_type": "stream",
     "text": [
      "[Patriarch]\n",
      "2025-05-10 10:17:11.723 | INFO     | pipeline.correction.correction2:generate_possible_corrections:505 - Konnte Korrekturvorschlag '*' nicht erstellen: object of type 'NoneType' has no len()\n",
      "[Patriarch]\n",
      "2025-05-10 10:17:11.724 | INFO     | pipeline.correction.correction2:generate_possible_corrections:524 - Konnte Korrekturvorschlag 'PLURAL_*' nicht erstellen: object of type 'NoneType' has no len()\n",
      "[Inhalte]\n",
      "2025-05-10 10:17:12.088 | INFO     | pipeline.correction.correction2:generate_possible_corrections:354 - Konnte Korrekturvorschlag '*' nicht erstellen: list index out of range\n",
      "[Inhalte]\n",
      "2025-05-10 10:17:12.094 | INFO     | pipeline.correction.correction2:generate_possible_corrections:462 - Konnte Korrekturvorschlag 'BOTH_FORMS' nicht erstellen: list index out of range\n"
     ]
    },
    {
     "name": "stderr",
     "output_type": "stream",
     "text": [
      " 66%|█████████████████████████▌             | 1486/2265 [13:55<23:03,  1.78s/it]"
     ]
    },
    {
     "name": "stdout",
     "output_type": "stream",
     "text": [
      "2025-05-10 10:17:16.417 | ERROR    | pipeline.full_pipeline:full_pipeline:38 - Fehler bei needs_to_be_gendered() für 'Fotografenfreund': 'NN'\n",
      "2025-05-10 10:17:16.421 | ERROR    | pipeline.full_pipeline:full_pipeline:38 - Fehler bei needs_to_be_gendered() für 'Piloten': 'NN'\n"
     ]
    },
    {
     "name": "stderr",
     "output_type": "stream",
     "text": [
      " 66%|█████████████████████████▌             | 1488/2265 [14:00<24:02,  1.86s/it]"
     ]
    },
    {
     "name": "stdout",
     "output_type": "stream",
     "text": [
      "[Sektor]\n",
      "2025-05-10 10:17:17.697 | INFO     | pipeline.correction.correction2:generate_possible_corrections:505 - Konnte Korrekturvorschlag '*' nicht erstellen: list index out of range\n",
      "[Sektor]\n",
      "2025-05-10 10:17:17.706 | INFO     | pipeline.correction.correction2:generate_possible_corrections:524 - Konnte Korrekturvorschlag 'PLURAL_*' nicht erstellen: list index out of range\n"
     ]
    },
    {
     "name": "stderr",
     "output_type": "stream",
     "text": [
      " 66%|█████████████████████████▋             | 1489/2265 [14:00<18:03,  1.40s/it]"
     ]
    },
    {
     "name": "stdout",
     "output_type": "stream",
     "text": [
      "[Velo-Urlauber]\n",
      "2025-05-10 10:17:17.955 | INFO     | pipeline.correction.correction2:generate_possible_corrections:354 - Konnte Korrekturvorschlag '*' nicht erstellen: list index out of range\n",
      "[Velo-Urlauber]\n",
      "2025-05-10 10:17:17.966 | INFO     | pipeline.correction.correction2:generate_possible_corrections:462 - Konnte Korrekturvorschlag 'BOTH_FORMS' nicht erstellen: list index out of range\n",
      "[Aufenthalte]\n",
      "2025-05-10 10:17:19.048 | INFO     | pipeline.correction.correction2:generate_possible_corrections:354 - Konnte Korrekturvorschlag '*' nicht erstellen: list index out of range\n",
      "[Aufenthalte]\n",
      "2025-05-10 10:17:19.053 | INFO     | pipeline.correction.correction2:generate_possible_corrections:462 - Konnte Korrekturvorschlag 'BOTH_FORMS' nicht erstellen: list index out of range\n",
      "[Kreuzfahrt-Veranstalter]\n",
      "2025-05-10 10:17:19.174 | INFO     | pipeline.correction.correction2:generate_possible_corrections:354 - Konnte Korrekturvorschlag '*' nicht erstellen: list index out of range\n",
      "[Kreuzfahrt-Veranstalter]\n",
      "2025-05-10 10:17:19.183 | INFO     | pipeline.correction.correction2:generate_possible_corrections:462 - Konnte Korrekturvorschlag 'BOTH_FORMS' nicht erstellen: list index out of range\n"
     ]
    },
    {
     "name": "stderr",
     "output_type": "stream",
     "text": [
      " 66%|█████████████████████████▋             | 1490/2265 [14:02<17:30,  1.36s/it]"
     ]
    },
    {
     "name": "stdout",
     "output_type": "stream",
     "text": [
      "[Kirchenrat]\n",
      "2025-05-10 10:17:19.849 | INFO     | pipeline.correction.correction2:generate_possible_corrections:505 - Konnte Korrekturvorschlag '*' nicht erstellen: list index out of range\n",
      "[Kirchenrat]\n",
      "2025-05-10 10:17:19.858 | INFO     | pipeline.correction.correction2:generate_possible_corrections:524 - Konnte Korrekturvorschlag 'PLURAL_*' nicht erstellen: list index out of range\n",
      "[Kirchenrat]\n",
      "2025-05-10 10:17:19.888 | INFO     | pipeline.correction.correction2:generate_possible_corrections:505 - Konnte Korrekturvorschlag '*' nicht erstellen: list index out of range\n",
      "[Kirchenrat]\n",
      "2025-05-10 10:17:19.897 | INFO     | pipeline.correction.correction2:generate_possible_corrections:524 - Konnte Korrekturvorschlag 'PLURAL_*' nicht erstellen: list index out of range\n"
     ]
    },
    {
     "name": "stderr",
     "output_type": "stream",
     "text": [
      " 66%|█████████████████████████▊             | 1498/2265 [14:12<21:57,  1.72s/it]"
     ]
    },
    {
     "name": "stdout",
     "output_type": "stream",
     "text": [
      "2025-05-10 10:17:29.823 | ERROR    | pipeline.full_pipeline:full_pipeline:38 - Fehler bei needs_to_be_gendered() für 'Rentner': 'NN'\n"
     ]
    },
    {
     "name": "stderr",
     "output_type": "stream",
     "text": [
      " 66%|█████████████████████████▊             | 1502/2265 [14:14<09:37,  1.32it/s]"
     ]
    },
    {
     "name": "stdout",
     "output_type": "stream",
     "text": [
      "[PR-Spezialisten]\n",
      "2025-05-10 10:17:33.337 | INFO     | pipeline.correction.correction2:generate_possible_corrections:354 - Konnte Korrekturvorschlag '*' nicht erstellen: list index out of range\n",
      "[PR-Spezialisten]\n",
      "2025-05-10 10:17:33.346 | INFO     | pipeline.correction.correction2:generate_possible_corrections:462 - Konnte Korrekturvorschlag 'BOTH_FORMS' nicht erstellen: list index out of range\n"
     ]
    },
    {
     "name": "stderr",
     "output_type": "stream",
     "text": [
      " 66%|█████████████████████████▉             | 1504/2265 [14:16<10:23,  1.22it/s]"
     ]
    },
    {
     "name": "stdout",
     "output_type": "stream",
     "text": [
      "[PR-Spezialisten]\n",
      "2025-05-10 10:17:35.377 | INFO     | pipeline.correction.correction2:generate_possible_corrections:354 - Konnte Korrekturvorschlag '*' nicht erstellen: list index out of range\n",
      "[PR-Spezialisten]\n",
      "2025-05-10 10:17:35.386 | INFO     | pipeline.correction.correction2:generate_possible_corrections:462 - Konnte Korrekturvorschlag 'BOTH_FORMS' nicht erstellen: list index out of range\n"
     ]
    },
    {
     "name": "stderr",
     "output_type": "stream",
     "text": [
      " 66%|█████████████████████████▉             | 1505/2265 [14:18<13:39,  1.08s/it]"
     ]
    },
    {
     "name": "stdout",
     "output_type": "stream",
     "text": [
      "[Büstenhalter]\n",
      "2025-05-10 10:17:35.754 | INFO     | pipeline.correction.correction2:generate_possible_corrections:354 - Konnte Korrekturvorschlag '*' nicht erstellen: list index out of range\n",
      "[Büstenhalter]\n",
      "2025-05-10 10:17:35.764 | INFO     | pipeline.correction.correction2:generate_possible_corrections:462 - Konnte Korrekturvorschlag 'BOTH_FORMS' nicht erstellen: list index out of range\n"
     ]
    },
    {
     "name": "stderr",
     "output_type": "stream",
     "text": [
      " 66%|█████████████████████████▉             | 1506/2265 [14:19<11:35,  1.09it/s]"
     ]
    },
    {
     "name": "stdout",
     "output_type": "stream",
     "text": [
      "[Fernsehreporter, ihnen]\n",
      "2025-05-10 10:17:37.300 | INFO     | pipeline.correction.correction2:generate_possible_corrections:354 - Konnte Korrekturvorschlag '*' nicht erstellen: list index out of range\n",
      "[Fernsehreporter, ihnen]\n",
      "2025-05-10 10:17:37.309 | INFO     | pipeline.correction.correction2:generate_possible_corrections:462 - Konnte Korrekturvorschlag 'BOTH_FORMS' nicht erstellen: list index out of range\n",
      "[Putschisten]\n",
      "2025-05-10 10:17:37.355 | INFO     | pipeline.correction.correction2:generate_possible_corrections:505 - Konnte Korrekturvorschlag '*' nicht erstellen: object of type 'NoneType' has no len()\n",
      "[Putschisten]\n",
      "2025-05-10 10:17:37.356 | INFO     | pipeline.correction.correction2:generate_possible_corrections:524 - Konnte Korrekturvorschlag 'PLURAL_*' nicht erstellen: object of type 'NoneType' has no len()\n",
      "2025-05-10 10:17:37.378 | ERROR    | pipeline.full_pipeline:full_pipeline:38 - Fehler bei needs_to_be_gendered() für 'der': 'ADJA'\n"
     ]
    },
    {
     "name": "stderr",
     "output_type": "stream",
     "text": [
      " 67%|██████████████████████████             | 1510/2265 [14:21<07:59,  1.57it/s]"
     ]
    },
    {
     "name": "stdout",
     "output_type": "stream",
     "text": [
      "[Erbringer]\n",
      "2025-05-10 10:17:38.722 | INFO     | pipeline.correction.correction2:generate_possible_corrections:505 - Konnte Korrekturvorschlag '*' nicht erstellen: list index out of range\n",
      "[Erbringer]\n",
      "2025-05-10 10:17:38.731 | INFO     | pipeline.correction.correction2:generate_possible_corrections:524 - Konnte Korrekturvorschlag 'PLURAL_*' nicht erstellen: list index out of range\n"
     ]
    },
    {
     "name": "stderr",
     "output_type": "stream",
     "text": [
      " 67%|██████████████████████████             | 1511/2265 [14:21<06:36,  1.90it/s]"
     ]
    },
    {
     "name": "stdout",
     "output_type": "stream",
     "text": [
      "[Aufsichtsrat]\n",
      "2025-05-10 10:17:39.034 | INFO     | pipeline.correction.correction2:generate_possible_corrections:505 - Konnte Korrekturvorschlag '*' nicht erstellen: list index out of range\n",
      "[Aufsichtsrat]\n",
      "2025-05-10 10:17:39.043 | INFO     | pipeline.correction.correction2:generate_possible_corrections:524 - Konnte Korrekturvorschlag 'PLURAL_*' nicht erstellen: list index out of range\n"
     ]
    },
    {
     "name": "stderr",
     "output_type": "stream",
     "text": [
      " 67%|██████████████████████████             | 1516/2265 [14:24<06:51,  1.82it/s]"
     ]
    },
    {
     "name": "stdout",
     "output_type": "stream",
     "text": [
      "[AEG-Betriebsrat]\n",
      "2025-05-10 10:17:42.376 | INFO     | pipeline.correction.correction2:generate_possible_corrections:505 - Konnte Korrekturvorschlag '*' nicht erstellen: list index out of range\n",
      "[AEG-Betriebsrat]\n",
      "2025-05-10 10:17:42.385 | INFO     | pipeline.correction.correction2:generate_possible_corrections:524 - Konnte Korrekturvorschlag 'PLURAL_*' nicht erstellen: list index out of range\n",
      "[AEG-Betriebsräte]\n",
      "2025-05-10 10:17:42.405 | INFO     | pipeline.correction.correction2:generate_possible_corrections:354 - Konnte Korrekturvorschlag '*' nicht erstellen: list index out of range\n",
      "[AEG-Betriebsräte]\n",
      "2025-05-10 10:17:42.413 | INFO     | pipeline.correction.correction2:generate_possible_corrections:462 - Konnte Korrekturvorschlag 'BOTH_FORMS' nicht erstellen: list index out of range\n"
     ]
    },
    {
     "name": "stderr",
     "output_type": "stream",
     "text": [
      " 67%|██████████████████████████▏            | 1523/2265 [14:28<05:11,  2.38it/s]"
     ]
    },
    {
     "name": "stdout",
     "output_type": "stream",
     "text": [
      "[Ex-Jugoslawen]\n",
      "2025-05-10 10:17:45.474 | INFO     | pipeline.correction.correction2:generate_possible_corrections:354 - Konnte Korrekturvorschlag '*' nicht erstellen: list index out of range\n",
      "[Ex-Jugoslawen]\n",
      "2025-05-10 10:17:45.484 | INFO     | pipeline.correction.correction2:generate_possible_corrections:462 - Konnte Korrekturvorschlag 'BOTH_FORMS' nicht erstellen: list index out of range\n",
      "[SPD-Wähler, sich]\n",
      "2025-05-10 10:17:46.212 | INFO     | pipeline.correction.correction2:generate_possible_corrections:354 - Konnte Korrekturvorschlag '*' nicht erstellen: list index out of range\n",
      "[SPD-Wähler, sich]\n",
      "2025-05-10 10:17:46.221 | INFO     | pipeline.correction.correction2:generate_possible_corrections:462 - Konnte Korrekturvorschlag 'BOTH_FORMS' nicht erstellen: list index out of range\n",
      "[SPD-Wähler, sich]\n",
      "2025-05-10 10:17:46.328 | INFO     | pipeline.correction.correction2:generate_possible_corrections:354 - Konnte Korrekturvorschlag '*' nicht erstellen: list index out of range\n",
      "[SPD-Wähler, sich]\n",
      "2025-05-10 10:17:46.337 | INFO     | pipeline.correction.correction2:generate_possible_corrections:462 - Konnte Korrekturvorschlag 'BOTH_FORMS' nicht erstellen: list index out of range\n"
     ]
    },
    {
     "name": "stderr",
     "output_type": "stream",
     "text": [
      " 67%|██████████████████████████▎            | 1525/2265 [14:30<08:43,  1.41it/s]"
     ]
    },
    {
     "name": "stdout",
     "output_type": "stream",
     "text": [
      "[Ex-Kommunist, seinem]\n",
      "2025-05-10 10:17:47.285 | INFO     | pipeline.correction.correction2:generate_possible_corrections:505 - Konnte Korrekturvorschlag '*' nicht erstellen: list index out of range\n",
      "[Ex-Kommunist, seinem]\n",
      "2025-05-10 10:17:47.294 | INFO     | pipeline.correction.correction2:generate_possible_corrections:524 - Konnte Korrekturvorschlag 'PLURAL_*' nicht erstellen: list index out of range\n"
     ]
    },
    {
     "name": "stderr",
     "output_type": "stream",
     "text": [
      " 68%|██████████████████████████▎            | 1529/2265 [14:32<06:44,  1.82it/s]"
     ]
    },
    {
     "name": "stdout",
     "output_type": "stream",
     "text": [
      "2025-05-10 10:17:50.843 | INFO     | pipeline.correction.verb.change_verb_form:change_verb_form:13 - lex_target_verb not found: Wagt\n",
      "[keiner]\n",
      "2025-05-10 10:17:50.843 | INFO     | pipeline.correction.correction2:generate_possible_corrections:524 - Konnte Korrekturvorschlag 'PLURAL_*' nicht erstellen: Das Verb konnte im Lexikon nicht gefunden werden: Wagt\n"
     ]
    },
    {
     "name": "stderr",
     "output_type": "stream",
     "text": [
      " 68%|██████████████████████████▎            | 1530/2265 [14:34<10:50,  1.13it/s]"
     ]
    },
    {
     "name": "stdout",
     "output_type": "stream",
     "text": [
      "[Klerus]\n",
      "2025-05-10 10:17:51.170 | INFO     | pipeline.correction.correction2:generate_possible_corrections:505 - Konnte Korrekturvorschlag '*' nicht erstellen: list index out of range\n",
      "[Klerus]\n",
      "2025-05-10 10:17:51.180 | INFO     | pipeline.correction.correction2:generate_possible_corrections:524 - Konnte Korrekturvorschlag 'PLURAL_*' nicht erstellen: list index out of range\n"
     ]
    },
    {
     "name": "stderr",
     "output_type": "stream",
     "text": [
      " 68%|██████████████████████████▍            | 1533/2265 [14:35<08:11,  1.49it/s]"
     ]
    },
    {
     "name": "stdout",
     "output_type": "stream",
     "text": [
      "[DDR-Pädagogen]\n",
      "2025-05-10 10:17:52.986 | INFO     | pipeline.correction.correction2:generate_possible_corrections:354 - Konnte Korrekturvorschlag '*' nicht erstellen: list index out of range\n",
      "[DDR-Pädagogen]\n",
      "2025-05-10 10:17:52.994 | INFO     | pipeline.correction.correction2:generate_possible_corrections:462 - Konnte Korrekturvorschlag 'BOTH_FORMS' nicht erstellen: list index out of range\n"
     ]
    },
    {
     "name": "stderr",
     "output_type": "stream",
     "text": [
      " 68%|██████████████████████████▌            | 1543/2265 [14:39<03:53,  3.09it/s]"
     ]
    },
    {
     "name": "stdout",
     "output_type": "stream",
     "text": [
      "[Bundesrates]\n",
      "2025-05-10 10:17:57.307 | INFO     | pipeline.correction.correction2:generate_possible_corrections:505 - Konnte Korrekturvorschlag '*' nicht erstellen: list index out of range\n",
      "[Bundesrates]\n",
      "2025-05-10 10:17:57.313 | INFO     | pipeline.correction.correction2:generate_possible_corrections:524 - Konnte Korrekturvorschlag 'PLURAL_*' nicht erstellen: list index out of range\n"
     ]
    },
    {
     "name": "stderr",
     "output_type": "stream",
     "text": [
      " 68%|██████████████████████████▌            | 1544/2265 [14:40<05:36,  2.14it/s]"
     ]
    },
    {
     "name": "stdout",
     "output_type": "stream",
     "text": [
      "[US-Senatoren]\n",
      "2025-05-10 10:17:57.518 | INFO     | pipeline.correction.correction2:generate_possible_corrections:354 - Konnte Korrekturvorschlag '*' nicht erstellen: list index out of range\n",
      "[US-Senatoren]\n",
      "2025-05-10 10:17:57.527 | INFO     | pipeline.correction.correction2:generate_possible_corrections:462 - Konnte Korrekturvorschlag 'BOTH_FORMS' nicht erstellen: list index out of range\n"
     ]
    },
    {
     "name": "stderr",
     "output_type": "stream",
     "text": [
      " 68%|██████████████████████████▌            | 1545/2265 [14:41<06:20,  1.89it/s]"
     ]
    },
    {
     "name": "stdout",
     "output_type": "stream",
     "text": [
      "[Nicht-EU-Ausländer]\n",
      "2025-05-10 10:17:58.143 | INFO     | pipeline.correction.correction2:generate_possible_corrections:354 - Konnte Korrekturvorschlag '*' nicht erstellen: list index out of range\n",
      "[Nicht-EU-Ausländer]\n",
      "2025-05-10 10:17:58.152 | INFO     | pipeline.correction.correction2:generate_possible_corrections:462 - Konnte Korrekturvorschlag 'BOTH_FORMS' nicht erstellen: list index out of range\n"
     ]
    },
    {
     "name": "stderr",
     "output_type": "stream",
     "text": [
      " 68%|██████████████████████████▌            | 1546/2265 [14:41<07:43,  1.55it/s]"
     ]
    },
    {
     "name": "stdout",
     "output_type": "stream",
     "text": [
      "[Verfassungsrat]\n",
      "2025-05-10 10:17:59.172 | INFO     | pipeline.correction.correction2:generate_possible_corrections:505 - Konnte Korrekturvorschlag '*' nicht erstellen: list index out of range\n",
      "[Verfassungsrat]\n",
      "2025-05-10 10:17:59.180 | INFO     | pipeline.correction.correction2:generate_possible_corrections:524 - Konnte Korrekturvorschlag 'PLURAL_*' nicht erstellen: list index out of range\n"
     ]
    },
    {
     "name": "stderr",
     "output_type": "stream",
     "text": [
      " 68%|██████████████████████████▋            | 1551/2265 [14:43<04:29,  2.65it/s]"
     ]
    },
    {
     "name": "stdout",
     "output_type": "stream",
     "text": [
      "[UN-Rat]\n",
      "2025-05-10 10:18:00.990 | INFO     | pipeline.correction.correction2:generate_possible_corrections:505 - Konnte Korrekturvorschlag '*' nicht erstellen: list index out of range\n",
      "[UN-Rat]\n",
      "2025-05-10 10:18:00.999 | INFO     | pipeline.correction.correction2:generate_possible_corrections:524 - Konnte Korrekturvorschlag 'PLURAL_*' nicht erstellen: list index out of range\n"
     ]
    },
    {
     "name": "stderr",
     "output_type": "stream",
     "text": [
      " 69%|███████████████████████████            | 1571/2265 [14:48<02:28,  4.67it/s]"
     ]
    },
    {
     "name": "stdout",
     "output_type": "stream",
     "text": [
      "[US-Botschafter, sich]\n",
      "2025-05-10 10:18:05.759 | INFO     | pipeline.correction.correction2:generate_possible_corrections:505 - Konnte Korrekturvorschlag '*' nicht erstellen: list index out of range\n",
      "[US-Botschafter, sich]\n",
      "2025-05-10 10:18:05.768 | INFO     | pipeline.correction.correction2:generate_possible_corrections:524 - Konnte Korrekturvorschlag 'PLURAL_*' nicht erstellen: list index out of range\n"
     ]
    },
    {
     "name": "stderr",
     "output_type": "stream",
     "text": [
      " 70%|███████████████████████████▎           | 1583/2265 [14:52<03:54,  2.91it/s]"
     ]
    },
    {
     "name": "stdout",
     "output_type": "stream",
     "text": [
      "[US-Sprecher]\n",
      "2025-05-10 10:18:09.872 | INFO     | pipeline.correction.correction2:generate_possible_corrections:505 - Konnte Korrekturvorschlag '*' nicht erstellen: list index out of range\n",
      "[US-Sprecher]\n",
      "2025-05-10 10:18:09.881 | INFO     | pipeline.correction.correction2:generate_possible_corrections:524 - Konnte Korrekturvorschlag 'PLURAL_*' nicht erstellen: list index out of range\n"
     ]
    },
    {
     "name": "stderr",
     "output_type": "stream",
     "text": [
      " 70%|███████████████████████████▎           | 1584/2265 [14:53<04:17,  2.64it/s]"
     ]
    },
    {
     "name": "stdout",
     "output_type": "stream",
     "text": [
      "[KP-Funktionäre]\n",
      "2025-05-10 10:18:10.420 | INFO     | pipeline.correction.correction2:generate_possible_corrections:354 - Konnte Korrekturvorschlag '*' nicht erstellen: list index out of range\n",
      "[KP-Funktionäre]\n",
      "2025-05-10 10:18:10.431 | INFO     | pipeline.correction.correction2:generate_possible_corrections:462 - Konnte Korrekturvorschlag 'BOTH_FORMS' nicht erstellen: list index out of range\n"
     ]
    },
    {
     "name": "stderr",
     "output_type": "stream",
     "text": [
      " 70%|███████████████████████████▎           | 1586/2265 [14:53<03:09,  3.59it/s]"
     ]
    },
    {
     "name": "stdout",
     "output_type": "stream",
     "text": [
      "[OAU-Beobachter]\n",
      "2025-05-10 10:18:10.752 | INFO     | pipeline.correction.correction2:generate_possible_corrections:354 - Konnte Korrekturvorschlag '*' nicht erstellen: list index out of range\n",
      "[OAU-Beobachter]\n",
      "2025-05-10 10:18:10.761 | INFO     | pipeline.correction.correction2:generate_possible_corrections:462 - Konnte Korrekturvorschlag 'BOTH_FORMS' nicht erstellen: list index out of range\n"
     ]
    },
    {
     "name": "stderr",
     "output_type": "stream",
     "text": [
      " 70%|███████████████████████████▎           | 1588/2265 [14:57<12:51,  1.14s/it]"
     ]
    },
    {
     "name": "stdout",
     "output_type": "stream",
     "text": [
      "[Faktor]\n",
      "2025-05-10 10:18:16.705 | INFO     | pipeline.correction.correction2:generate_possible_corrections:505 - Konnte Korrekturvorschlag '*' nicht erstellen: list index out of range\n",
      "[Faktor]\n",
      "2025-05-10 10:18:16.713 | INFO     | pipeline.correction.correction2:generate_possible_corrections:524 - Konnte Korrekturvorschlag 'PLURAL_*' nicht erstellen: list index out of range\n",
      "2025-05-10 10:18:16.817 | ERROR    | pipeline.full_pipeline:full_pipeline:38 - Fehler bei needs_to_be_gendered() für 'Arbeitnehmern': 'NN'\n",
      "2025-05-10 10:18:16.818 | ERROR    | pipeline.full_pipeline:full_pipeline:38 - Fehler bei needs_to_be_gendered() für 'Steuerzahlern': 'NN'\n",
      "2025-05-10 10:18:16.824 | ERROR    | pipeline.full_pipeline:full_pipeline:38 - Fehler bei needs_to_be_gendered() für 'irgendwem': 'NoneType' object is not iterable\n",
      "[Aufsichtsrat]\n",
      "2025-05-10 10:18:16.852 | INFO     | pipeline.correction.correction2:generate_possible_corrections:505 - Konnte Korrekturvorschlag '*' nicht erstellen: list index out of range\n",
      "[Aufsichtsrat]\n",
      "2025-05-10 10:18:16.861 | INFO     | pipeline.correction.correction2:generate_possible_corrections:524 - Konnte Korrekturvorschlag 'PLURAL_*' nicht erstellen: list index out of range\n"
     ]
    },
    {
     "name": "stderr",
     "output_type": "stream",
     "text": [
      " 70%|███████████████████████████▍           | 1596/2265 [15:11<19:48,  1.78s/it]"
     ]
    },
    {
     "name": "stdout",
     "output_type": "stream",
     "text": [
      "[LTTE-Führers]\n",
      "2025-05-10 10:18:28.217 | INFO     | pipeline.correction.correction2:generate_possible_corrections:505 - Konnte Korrekturvorschlag '*' nicht erstellen: list index out of range\n",
      "[LTTE-Führers]\n",
      "2025-05-10 10:18:28.227 | INFO     | pipeline.correction.correction2:generate_possible_corrections:524 - Konnte Korrekturvorschlag 'PLURAL_*' nicht erstellen: list index out of range\n"
     ]
    },
    {
     "name": "stderr",
     "output_type": "stream",
     "text": [
      " 71%|███████████████████████████▍           | 1597/2265 [15:12<18:16,  1.64s/it]"
     ]
    },
    {
     "name": "stdout",
     "output_type": "stream",
     "text": [
      "[Sektoren]\n",
      "2025-05-10 10:18:29.456 | INFO     | pipeline.correction.correction2:generate_possible_corrections:354 - Konnte Korrekturvorschlag '*' nicht erstellen: list index out of range\n",
      "[Sektoren]\n",
      "2025-05-10 10:18:29.465 | INFO     | pipeline.correction.correction2:generate_possible_corrections:462 - Konnte Korrekturvorschlag 'BOTH_FORMS' nicht erstellen: list index out of range\n"
     ]
    },
    {
     "name": "stderr",
     "output_type": "stream",
     "text": [
      " 71%|███████████████████████████▌           | 1601/2265 [15:16<14:01,  1.27s/it]"
     ]
    },
    {
     "name": "stdout",
     "output_type": "stream",
     "text": [
      "[Risikokapital-Anleger]\n",
      "2025-05-10 10:18:33.580 | INFO     | pipeline.correction.correction2:generate_possible_corrections:354 - Konnte Korrekturvorschlag '*' nicht erstellen: list index out of range\n",
      "[Risikokapital-Anleger]\n",
      "2025-05-10 10:18:33.589 | INFO     | pipeline.correction.correction2:generate_possible_corrections:462 - Konnte Korrekturvorschlag 'BOTH_FORMS' nicht erstellen: list index out of range\n"
     ]
    },
    {
     "name": "stderr",
     "output_type": "stream",
     "text": [
      " 71%|███████████████████████████▌           | 1603/2265 [15:17<11:06,  1.01s/it]"
     ]
    },
    {
     "name": "stdout",
     "output_type": "stream",
     "text": [
      "[Inhalte]\n",
      "2025-05-10 10:18:35.051 | INFO     | pipeline.correction.correction2:generate_possible_corrections:354 - Konnte Korrekturvorschlag '*' nicht erstellen: list index out of range\n",
      "[Inhalte]\n",
      "2025-05-10 10:18:35.057 | INFO     | pipeline.correction.correction2:generate_possible_corrections:462 - Konnte Korrekturvorschlag 'BOTH_FORMS' nicht erstellen: list index out of range\n"
     ]
    },
    {
     "name": "stderr",
     "output_type": "stream",
     "text": [
      " 71%|███████████████████████████▋           | 1610/2265 [15:22<07:40,  1.42it/s]"
     ]
    },
    {
     "name": "stdout",
     "output_type": "stream",
     "text": [
      "[Wochenendausflügler]\n",
      "2025-05-10 10:18:39.254 | INFO     | pipeline.correction.correction2:generate_possible_corrections:354 - Konnte Korrekturvorschlag '*' nicht erstellen: list index out of range\n",
      "[Wochenendausflügler]\n",
      "2025-05-10 10:18:39.264 | INFO     | pipeline.correction.correction2:generate_possible_corrections:462 - Konnte Korrekturvorschlag 'BOTH_FORMS' nicht erstellen: list index out of range\n"
     ]
    },
    {
     "name": "stderr",
     "output_type": "stream",
     "text": [
      " 72%|███████████████████████████▉           | 1625/2265 [15:28<04:25,  2.41it/s]"
     ]
    },
    {
     "name": "stdout",
     "output_type": "stream",
     "text": [
      "[Moslem-Extremisten]\n",
      "2025-05-10 10:18:46.501 | INFO     | pipeline.correction.correction2:generate_possible_corrections:354 - Konnte Korrekturvorschlag '*' nicht erstellen: list index out of range\n",
      "[Moslem-Extremisten]\n",
      "2025-05-10 10:18:46.510 | INFO     | pipeline.correction.correction2:generate_possible_corrections:462 - Konnte Korrekturvorschlag 'BOTH_FORMS' nicht erstellen: list index out of range\n",
      "[Moslem-Extremisten]\n",
      "2025-05-10 10:18:46.529 | INFO     | pipeline.correction.correction2:generate_possible_corrections:354 - Konnte Korrekturvorschlag '*' nicht erstellen: list index out of range\n",
      "[Moslem-Extremisten]\n",
      "2025-05-10 10:18:46.538 | INFO     | pipeline.correction.correction2:generate_possible_corrections:462 - Konnte Korrekturvorschlag 'BOTH_FORMS' nicht erstellen: list index out of range\n"
     ]
    },
    {
     "name": "stderr",
     "output_type": "stream",
     "text": [
      " 72%|████████████████████████████▏          | 1634/2265 [15:34<06:25,  1.64it/s]"
     ]
    },
    {
     "name": "stdout",
     "output_type": "stream",
     "text": [
      "[Rundfunkrat]\n",
      "2025-05-10 10:18:51.477 | INFO     | pipeline.correction.correction2:generate_possible_corrections:505 - Konnte Korrekturvorschlag '*' nicht erstellen: list index out of range\n",
      "[Rundfunkrat]\n",
      "2025-05-10 10:18:51.485 | INFO     | pipeline.correction.correction2:generate_possible_corrections:524 - Konnte Korrekturvorschlag 'PLURAL_*' nicht erstellen: list index out of range\n"
     ]
    },
    {
     "name": "stderr",
     "output_type": "stream",
     "text": [
      " 72%|████████████████████████████▏          | 1635/2265 [15:35<07:52,  1.33it/s]"
     ]
    },
    {
     "name": "stdout",
     "output_type": "stream",
     "text": [
      "[Eisbären]\n",
      "2025-05-10 10:18:52.610 | INFO     | pipeline.correction.correction2:generate_possible_corrections:354 - Konnte Korrekturvorschlag '*' nicht erstellen: list index out of range\n",
      "[Eisbären]\n",
      "2025-05-10 10:18:52.610 | INFO     | pipeline.correction.correction2:generate_possible_corrections:462 - Konnte Korrekturvorschlag 'BOTH_FORMS' nicht erstellen: list index out of range\n"
     ]
    },
    {
     "name": "stderr",
     "output_type": "stream",
     "text": [
      " 72%|████████████████████████████▏          | 1636/2265 [15:35<06:23,  1.64it/s]"
     ]
    },
    {
     "name": "stdout",
     "output_type": "stream",
     "text": [
      "[Aufsichtsrat]\n",
      "2025-05-10 10:18:52.861 | INFO     | pipeline.correction.correction2:generate_possible_corrections:505 - Konnte Korrekturvorschlag '*' nicht erstellen: list index out of range\n",
      "[Aufsichtsrat]\n",
      "2025-05-10 10:18:52.870 | INFO     | pipeline.correction.correction2:generate_possible_corrections:524 - Konnte Korrekturvorschlag 'PLURAL_*' nicht erstellen: list index out of range\n"
     ]
    },
    {
     "name": "stderr",
     "output_type": "stream",
     "text": [
      " 72%|████████████████████████████▏          | 1639/2265 [15:36<04:53,  2.13it/s]"
     ]
    },
    {
     "name": "stdout",
     "output_type": "stream",
     "text": [
      "[Mitarbeiter, sie, ihre]\n",
      "2025-05-10 10:18:53.949 | INFO     | pipeline.correction.correction2:generate_possible_corrections:354 - Konnte Korrekturvorschlag '*' nicht erstellen: list index out of range\n",
      "[Mitarbeiter, sie, ihre]\n",
      "2025-05-10 10:18:53.950 | INFO     | pipeline.correction.correction2:generate_possible_corrections:462 - Konnte Korrekturvorschlag 'BOTH_FORMS' nicht erstellen: list index out of range\n"
     ]
    },
    {
     "name": "stderr",
     "output_type": "stream",
     "text": [
      " 73%|████████████████████████████▎          | 1643/2265 [15:39<05:17,  1.96it/s]"
     ]
    },
    {
     "name": "stdout",
     "output_type": "stream",
     "text": [
      "2025-05-10 10:18:56.989 | INFO     | pipeline.correction.verb.change_verb_form:change_verb_form:13 - lex_target_verb not found: ablehn\n",
      "[der]\n",
      "2025-05-10 10:18:56.989 | INFO     | pipeline.correction.correction2:generate_possible_corrections:524 - Konnte Korrekturvorschlag 'PLURAL_*' nicht erstellen: Das Verb konnte im Lexikon nicht gefunden werden: ablehn\n"
     ]
    },
    {
     "name": "stderr",
     "output_type": "stream",
     "text": [
      " 73%|████████████████████████████▍          | 1650/2265 [15:43<04:02,  2.54it/s]"
     ]
    },
    {
     "name": "stdout",
     "output_type": "stream",
     "text": [
      "[Selbstverwaltungsrates]\n",
      "2025-05-10 10:19:00.497 | INFO     | pipeline.correction.correction2:generate_possible_corrections:505 - Konnte Korrekturvorschlag '*' nicht erstellen: list index out of range\n",
      "[Selbstverwaltungsrates]\n",
      "2025-05-10 10:19:00.503 | INFO     | pipeline.correction.correction2:generate_possible_corrections:524 - Konnte Korrekturvorschlag 'PLURAL_*' nicht erstellen: list index out of range\n"
     ]
    },
    {
     "name": "stderr",
     "output_type": "stream",
     "text": [
      " 73%|████████████████████████████▍          | 1652/2265 [15:44<03:54,  2.62it/s]"
     ]
    },
    {
     "name": "stdout",
     "output_type": "stream",
     "text": [
      "[EU-Partner]\n",
      "2025-05-10 10:19:01.308 | INFO     | pipeline.correction.correction2:generate_possible_corrections:505 - Konnte Korrekturvorschlag '*' nicht erstellen: list index out of range\n",
      "[EU-Partner]\n",
      "2025-05-10 10:19:01.317 | INFO     | pipeline.correction.correction2:generate_possible_corrections:524 - Konnte Korrekturvorschlag 'PLURAL_*' nicht erstellen: list index out of range\n",
      "[EU-Partner]\n",
      "2025-05-10 10:19:01.403 | INFO     | pipeline.correction.correction2:generate_possible_corrections:354 - Konnte Korrekturvorschlag '*' nicht erstellen: list index out of range\n",
      "[EU-Partner]\n",
      "2025-05-10 10:19:01.412 | INFO     | pipeline.correction.correction2:generate_possible_corrections:462 - Konnte Korrekturvorschlag 'BOTH_FORMS' nicht erstellen: list index out of range\n"
     ]
    },
    {
     "name": "stderr",
     "output_type": "stream",
     "text": [
      " 73%|████████████████████████████▍          | 1654/2265 [15:45<04:09,  2.45it/s]"
     ]
    },
    {
     "name": "stdout",
     "output_type": "stream",
     "text": [
      "[Ex-Kommunist]\n",
      "2025-05-10 10:19:02.192 | INFO     | pipeline.correction.correction2:generate_possible_corrections:505 - Konnte Korrekturvorschlag '*' nicht erstellen: list index out of range\n",
      "[Ex-Kommunist]\n",
      "2025-05-10 10:19:02.201 | INFO     | pipeline.correction.correction2:generate_possible_corrections:524 - Konnte Korrekturvorschlag 'PLURAL_*' nicht erstellen: list index out of range\n"
     ]
    },
    {
     "name": "stderr",
     "output_type": "stream",
     "text": [
      " 73%|████████████████████████████▌          | 1656/2265 [15:46<04:58,  2.04it/s]"
     ]
    },
    {
     "name": "stdout",
     "output_type": "stream",
     "text": [
      "[D2-Abonnenten]\n",
      "2025-05-10 10:19:03.465 | INFO     | pipeline.correction.correction2:generate_possible_corrections:354 - Konnte Korrekturvorschlag '*' nicht erstellen: list index out of range\n",
      "[D2-Abonnenten]\n",
      "2025-05-10 10:19:03.474 | INFO     | pipeline.correction.correction2:generate_possible_corrections:462 - Konnte Korrekturvorschlag 'BOTH_FORMS' nicht erstellen: list index out of range\n"
     ]
    },
    {
     "name": "stderr",
     "output_type": "stream",
     "text": [
      " 73%|████████████████████████████▌          | 1657/2265 [15:46<04:15,  2.38it/s]"
     ]
    },
    {
     "name": "stdout",
     "output_type": "stream",
     "text": [
      "[Aufsichtsrat]\n",
      "2025-05-10 10:19:03.702 | INFO     | pipeline.correction.correction2:generate_possible_corrections:505 - Konnte Korrekturvorschlag '*' nicht erstellen: list index out of range\n",
      "[Aufsichtsrat]\n",
      "2025-05-10 10:19:03.711 | INFO     | pipeline.correction.correction2:generate_possible_corrections:524 - Konnte Korrekturvorschlag 'PLURAL_*' nicht erstellen: list index out of range\n"
     ]
    },
    {
     "name": "stderr",
     "output_type": "stream",
     "text": [
      " 73%|████████████████████████████▌          | 1659/2265 [15:47<04:20,  2.32it/s]"
     ]
    },
    {
     "name": "stdout",
     "output_type": "stream",
     "text": [
      "[Südostasiaten]\n",
      "2025-05-10 10:19:04.378 | INFO     | pipeline.correction.correction2:generate_possible_corrections:354 - Konnte Korrekturvorschlag '*' nicht erstellen: list index out of range\n",
      "[Südostasiaten]\n",
      "2025-05-10 10:19:04.384 | INFO     | pipeline.correction.correction2:generate_possible_corrections:462 - Konnte Korrekturvorschlag 'BOTH_FORMS' nicht erstellen: list index out of range\n"
     ]
    },
    {
     "name": "stderr",
     "output_type": "stream",
     "text": [
      " 73%|████████████████████████████▌          | 1660/2265 [15:47<03:56,  2.56it/s]"
     ]
    },
    {
     "name": "stdout",
     "output_type": "stream",
     "text": [
      "[Air-France-Chef]\n",
      "2025-05-10 10:19:04.823 | INFO     | pipeline.correction.correction2:generate_possible_corrections:505 - Konnte Korrekturvorschlag '*' nicht erstellen: list index out of range\n",
      "[Air-France-Chef]\n",
      "2025-05-10 10:19:04.832 | INFO     | pipeline.correction.correction2:generate_possible_corrections:524 - Konnte Korrekturvorschlag 'PLURAL_*' nicht erstellen: list index out of range\n"
     ]
    },
    {
     "name": "stderr",
     "output_type": "stream",
     "text": [
      " 73%|████████████████████████████▋          | 1663/2265 [15:48<03:21,  2.98it/s]"
     ]
    },
    {
     "name": "stdout",
     "output_type": "stream",
     "text": [
      "[Vorbehalten]\n",
      "2025-05-10 10:19:05.675 | INFO     | pipeline.correction.correction2:generate_possible_corrections:354 - Konnte Korrekturvorschlag '*' nicht erstellen: list index out of range\n",
      "[Vorbehalten]\n",
      "2025-05-10 10:19:05.680 | INFO     | pipeline.correction.correction2:generate_possible_corrections:462 - Konnte Korrekturvorschlag 'BOTH_FORMS' nicht erstellen: list index out of range\n"
     ]
    },
    {
     "name": "stderr",
     "output_type": "stream",
     "text": [
      " 73%|████████████████████████████▋          | 1664/2265 [15:48<03:14,  3.09it/s]"
     ]
    },
    {
     "name": "stdout",
     "output_type": "stream",
     "text": [
      "[Aufsichtsrat]\n",
      "2025-05-10 10:19:05.992 | INFO     | pipeline.correction.correction2:generate_possible_corrections:505 - Konnte Korrekturvorschlag '*' nicht erstellen: list index out of range\n",
      "[Aufsichtsrat]\n",
      "2025-05-10 10:19:06.001 | INFO     | pipeline.correction.correction2:generate_possible_corrections:524 - Konnte Korrekturvorschlag 'PLURAL_*' nicht erstellen: list index out of range\n"
     ]
    },
    {
     "name": "stderr",
     "output_type": "stream",
     "text": [
      " 74%|████████████████████████████▊          | 1670/2265 [15:50<03:35,  2.76it/s]"
     ]
    },
    {
     "name": "stdout",
     "output_type": "stream",
     "text": [
      "[Hansa-Sparer]\n",
      "2025-05-10 10:19:07.759 | INFO     | pipeline.correction.correction2:generate_possible_corrections:354 - Konnte Korrekturvorschlag '*' nicht erstellen: list index out of range\n",
      "[Hansa-Sparer]\n",
      "2025-05-10 10:19:07.769 | INFO     | pipeline.correction.correction2:generate_possible_corrections:462 - Konnte Korrekturvorschlag 'BOTH_FORMS' nicht erstellen: list index out of range\n"
     ]
    },
    {
     "name": "stderr",
     "output_type": "stream",
     "text": [
      " 74%|████████████████████████████▊          | 1671/2265 [15:52<07:06,  1.39it/s]"
     ]
    },
    {
     "name": "stdout",
     "output_type": "stream",
     "text": [
      "[Großkunden]\n",
      "2025-05-10 10:19:09.246 | INFO     | pipeline.correction.correction2:generate_possible_corrections:354 - Konnte Korrekturvorschlag '*' nicht erstellen: list index out of range\n",
      "[Großkunden]\n",
      "2025-05-10 10:19:09.252 | INFO     | pipeline.correction.correction2:generate_possible_corrections:462 - Konnte Korrekturvorschlag 'BOTH_FORMS' nicht erstellen: list index out of range\n"
     ]
    },
    {
     "name": "stderr",
     "output_type": "stream",
     "text": [
      " 74%|████████████████████████████▊          | 1673/2265 [15:53<06:53,  1.43it/s]"
     ]
    },
    {
     "name": "stdout",
     "output_type": "stream",
     "text": [
      "[Aufsichtsrat]\n",
      "2025-05-10 10:19:10.576 | INFO     | pipeline.correction.correction2:generate_possible_corrections:505 - Konnte Korrekturvorschlag '*' nicht erstellen: list index out of range\n",
      "[Aufsichtsrat]\n",
      "2025-05-10 10:19:10.584 | INFO     | pipeline.correction.correction2:generate_possible_corrections:524 - Konnte Korrekturvorschlag 'PLURAL_*' nicht erstellen: list index out of range\n"
     ]
    },
    {
     "name": "stderr",
     "output_type": "stream",
     "text": [
      " 74%|████████████████████████████▊          | 1676/2265 [15:54<05:08,  1.91it/s]"
     ]
    },
    {
     "name": "stdout",
     "output_type": "stream",
     "text": [
      "[Erwerben]\n",
      "2025-05-10 10:19:11.834 | INFO     | pipeline.correction.correction2:generate_possible_corrections:354 - Konnte Korrekturvorschlag '*' nicht erstellen: list index out of range\n",
      "[Erwerben]\n",
      "2025-05-10 10:19:11.840 | INFO     | pipeline.correction.correction2:generate_possible_corrections:462 - Konnte Korrekturvorschlag 'BOTH_FORMS' nicht erstellen: list index out of range\n"
     ]
    },
    {
     "name": "stderr",
     "output_type": "stream",
     "text": [
      " 74%|████████████████████████████▉          | 1682/2265 [15:57<03:40,  2.65it/s]"
     ]
    },
    {
     "name": "stdout",
     "output_type": "stream",
     "text": [
      "[Niedersachsen]\n",
      "2025-05-10 10:19:14.234 | INFO     | pipeline.correction.correction2:generate_possible_corrections:354 - Konnte Korrekturvorschlag '*' nicht erstellen: list index out of range\n",
      "[Niedersachsen]\n",
      "2025-05-10 10:19:14.240 | INFO     | pipeline.correction.correction2:generate_possible_corrections:462 - Konnte Korrekturvorschlag 'BOTH_FORMS' nicht erstellen: list index out of range\n"
     ]
    },
    {
     "name": "stderr",
     "output_type": "stream",
     "text": [
      " 74%|████████████████████████████▉          | 1683/2265 [15:57<03:19,  2.91it/s]"
     ]
    },
    {
     "name": "stdout",
     "output_type": "stream",
     "text": [
      "[Niedersachsen]\n",
      "2025-05-10 10:19:14.487 | INFO     | pipeline.correction.correction2:generate_possible_corrections:354 - Konnte Korrekturvorschlag '*' nicht erstellen: list index out of range\n",
      "[Niedersachsen]\n",
      "2025-05-10 10:19:14.496 | INFO     | pipeline.correction.correction2:generate_possible_corrections:462 - Konnte Korrekturvorschlag 'BOTH_FORMS' nicht erstellen: list index out of range\n"
     ]
    },
    {
     "name": "stderr",
     "output_type": "stream",
     "text": [
      " 74%|█████████████████████████████          | 1685/2265 [15:57<02:58,  3.26it/s]"
     ]
    },
    {
     "name": "stdout",
     "output_type": "stream",
     "text": [
      "[Aufsichtsrat]\n",
      "2025-05-10 10:19:14.949 | INFO     | pipeline.correction.correction2:generate_possible_corrections:505 - Konnte Korrekturvorschlag '*' nicht erstellen: list index out of range\n",
      "[Aufsichtsrat]\n",
      "2025-05-10 10:19:14.958 | INFO     | pipeline.correction.correction2:generate_possible_corrections:524 - Konnte Korrekturvorschlag 'PLURAL_*' nicht erstellen: list index out of range\n",
      "[Aufsichtsrat]\n",
      "2025-05-10 10:19:15.004 | INFO     | pipeline.correction.correction2:generate_possible_corrections:505 - Konnte Korrekturvorschlag '*' nicht erstellen: list index out of range\n",
      "[Aufsichtsrat]\n",
      "2025-05-10 10:19:15.013 | INFO     | pipeline.correction.correction2:generate_possible_corrections:524 - Konnte Korrekturvorschlag 'PLURAL_*' nicht erstellen: list index out of range\n"
     ]
    },
    {
     "name": "stderr",
     "output_type": "stream",
     "text": [
      " 74%|█████████████████████████████          | 1686/2265 [15:58<03:00,  3.20it/s]"
     ]
    },
    {
     "name": "stdout",
     "output_type": "stream",
     "text": [
      "[Aufsichtsrat]\n",
      "2025-05-10 10:19:17.677 | INFO     | pipeline.correction.correction2:generate_possible_corrections:505 - Konnte Korrekturvorschlag '*' nicht erstellen: list index out of range\n",
      "[Aufsichtsrat]\n",
      "2025-05-10 10:19:17.686 | INFO     | pipeline.correction.correction2:generate_possible_corrections:524 - Konnte Korrekturvorschlag 'PLURAL_*' nicht erstellen: list index out of range\n",
      "[Aufsichtsrat]\n",
      "2025-05-10 10:19:17.951 | INFO     | pipeline.correction.correction2:generate_possible_corrections:505 - Konnte Korrekturvorschlag '*' nicht erstellen: list index out of range\n",
      "[Aufsichtsrat]\n",
      "2025-05-10 10:19:17.959 | INFO     | pipeline.correction.correction2:generate_possible_corrections:524 - Konnte Korrekturvorschlag 'PLURAL_*' nicht erstellen: list index out of range\n",
      "[Liga-Fachmann]\n",
      "2025-05-10 10:19:18.114 | INFO     | pipeline.correction.correction2:generate_possible_corrections:505 - Konnte Korrekturvorschlag '*' nicht erstellen: list index out of range\n",
      "[Liga-Fachmann]\n",
      "2025-05-10 10:19:18.123 | INFO     | pipeline.correction.correction2:generate_possible_corrections:524 - Konnte Korrekturvorschlag 'PLURAL_*' nicht erstellen: list index out of range\n",
      "[Klinsmann-Arbeitgebers]\n",
      "2025-05-10 10:19:18.182 | INFO     | pipeline.correction.correction2:generate_possible_corrections:505 - Konnte Korrekturvorschlag '*' nicht erstellen: list index out of range\n",
      "[Klinsmann-Arbeitgebers]\n",
      "2025-05-10 10:19:18.192 | INFO     | pipeline.correction.correction2:generate_possible_corrections:524 - Konnte Korrekturvorschlag 'PLURAL_*' nicht erstellen: list index out of range\n"
     ]
    },
    {
     "name": "stderr",
     "output_type": "stream",
     "text": [
      " 75%|█████████████████████████████          | 1691/2265 [16:03<06:34,  1.46it/s]"
     ]
    },
    {
     "name": "stdout",
     "output_type": "stream",
     "text": [
      "[Erwerbe]\n",
      "2025-05-10 10:19:20.595 | INFO     | pipeline.correction.correction2:generate_possible_corrections:354 - Konnte Korrekturvorschlag '*' nicht erstellen: list index out of range\n",
      "[Erwerbe]\n",
      "2025-05-10 10:19:20.601 | INFO     | pipeline.correction.correction2:generate_possible_corrections:462 - Konnte Korrekturvorschlag 'BOTH_FORMS' nicht erstellen: list index out of range\n"
     ]
    },
    {
     "name": "stderr",
     "output_type": "stream",
     "text": [
      " 75%|█████████████████████████████▏         | 1697/2265 [16:06<04:26,  2.13it/s]"
     ]
    },
    {
     "name": "stdout",
     "output_type": "stream",
     "text": [
      "[Kaufinteressenten]\n",
      "2025-05-10 10:19:23.336 | INFO     | pipeline.correction.correction2:generate_possible_corrections:505 - Konnte Korrekturvorschlag '*' nicht erstellen: list index out of range\n",
      "[Kaufinteressenten]\n",
      "2025-05-10 10:19:23.346 | INFO     | pipeline.correction.correction2:generate_possible_corrections:524 - Konnte Korrekturvorschlag 'PLURAL_*' nicht erstellen: list index out of range\n"
     ]
    },
    {
     "name": "stderr",
     "output_type": "stream",
     "text": [
      " 75%|█████████████████████████████▎         | 1700/2265 [16:07<03:23,  2.77it/s]"
     ]
    },
    {
     "name": "stdout",
     "output_type": "stream",
     "text": [
      "[Knabberartikelhersteller]\n",
      "2025-05-10 10:19:24.248 | INFO     | pipeline.correction.correction2:generate_possible_corrections:505 - Konnte Korrekturvorschlag '*' nicht erstellen: list index out of range\n",
      "[Knabberartikelhersteller]\n",
      "2025-05-10 10:19:24.257 | INFO     | pipeline.correction.correction2:generate_possible_corrections:524 - Konnte Korrekturvorschlag 'PLURAL_*' nicht erstellen: list index out of range\n"
     ]
    },
    {
     "name": "stderr",
     "output_type": "stream",
     "text": [
      " 75%|█████████████████████████████▎         | 1703/2265 [16:08<03:13,  2.90it/s]"
     ]
    },
    {
     "name": "stdout",
     "output_type": "stream",
     "text": [
      "[Autokunden]\n",
      "2025-05-10 10:19:25.122 | INFO     | pipeline.correction.correction2:generate_possible_corrections:505 - Konnte Korrekturvorschlag '*' nicht erstellen: list index out of range\n",
      "[Autokunden]\n",
      "2025-05-10 10:19:25.131 | INFO     | pipeline.correction.correction2:generate_possible_corrections:524 - Konnte Korrekturvorschlag 'PLURAL_*' nicht erstellen: list index out of range\n"
     ]
    },
    {
     "name": "stderr",
     "output_type": "stream",
     "text": [
      " 75%|█████████████████████████████▎         | 1704/2265 [16:08<02:57,  3.16it/s]"
     ]
    },
    {
     "name": "stdout",
     "output_type": "stream",
     "text": [
      "[Science-fiction-Romanen]\n",
      "2025-05-10 10:19:28.142 | INFO     | pipeline.correction.correction2:generate_possible_corrections:354 - Konnte Korrekturvorschlag '*' nicht erstellen: list index out of range\n",
      "[Science-fiction-Romanen]\n",
      "2025-05-10 10:19:28.151 | INFO     | pipeline.correction.correction2:generate_possible_corrections:462 - Konnte Korrekturvorschlag 'BOTH_FORMS' nicht erstellen: list index out of range\n",
      "[Monitor]\n",
      "2025-05-10 10:19:28.269 | INFO     | pipeline.correction.correction2:generate_possible_corrections:505 - Konnte Korrekturvorschlag '*' nicht erstellen: list index out of range\n",
      "[Monitor]\n",
      "2025-05-10 10:19:28.278 | INFO     | pipeline.correction.correction2:generate_possible_corrections:524 - Konnte Korrekturvorschlag 'PLURAL_*' nicht erstellen: list index out of range\n"
     ]
    },
    {
     "name": "stderr",
     "output_type": "stream",
     "text": [
      " 75%|█████████████████████████████▍         | 1707/2265 [16:12<07:25,  1.25it/s]"
     ]
    },
    {
     "name": "stdout",
     "output_type": "stream",
     "text": [
      "[Privatanlegern]\n",
      "2025-05-10 10:19:29.509 | INFO     | pipeline.correction.correction2:generate_possible_corrections:354 - Konnte Korrekturvorschlag '*' nicht erstellen: list index out of range\n",
      "[Privatanlegern]\n",
      "2025-05-10 10:19:29.518 | INFO     | pipeline.correction.correction2:generate_possible_corrections:462 - Konnte Korrekturvorschlag 'BOTH_FORMS' nicht erstellen: list index out of range\n"
     ]
    },
    {
     "name": "stderr",
     "output_type": "stream",
     "text": [
      " 75%|█████████████████████████████▍         | 1709/2265 [16:13<06:33,  1.41it/s]"
     ]
    },
    {
     "name": "stdout",
     "output_type": "stream",
     "text": [
      "[Aufsichtsrat]\n",
      "2025-05-10 10:19:30.688 | INFO     | pipeline.correction.correction2:generate_possible_corrections:505 - Konnte Korrekturvorschlag '*' nicht erstellen: list index out of range\n",
      "[Aufsichtsrat]\n",
      "2025-05-10 10:19:30.697 | INFO     | pipeline.correction.correction2:generate_possible_corrections:524 - Konnte Korrekturvorschlag 'PLURAL_*' nicht erstellen: list index out of range\n",
      "[Fokker-Aktionären]\n",
      "2025-05-10 10:19:30.748 | INFO     | pipeline.correction.correction2:generate_possible_corrections:354 - Konnte Korrekturvorschlag '*' nicht erstellen: list index out of range\n",
      "[Fokker-Aktionären]\n",
      "2025-05-10 10:19:30.756 | INFO     | pipeline.correction.correction2:generate_possible_corrections:462 - Konnte Korrekturvorschlag 'BOTH_FORMS' nicht erstellen: list index out of range\n"
     ]
    },
    {
     "name": "stderr",
     "output_type": "stream",
     "text": [
      " 76%|█████████████████████████████▍         | 1711/2265 [16:14<05:02,  1.83it/s]"
     ]
    },
    {
     "name": "stdout",
     "output_type": "stream",
     "text": [
      "[EC-Karten-Besitzer]\n",
      "2025-05-10 10:19:31.549 | INFO     | pipeline.correction.correction2:generate_possible_corrections:354 - Konnte Korrekturvorschlag '*' nicht erstellen: list index out of range\n",
      "[EC-Karten-Besitzer]\n",
      "2025-05-10 10:19:31.557 | INFO     | pipeline.correction.correction2:generate_possible_corrections:462 - Konnte Korrekturvorschlag 'BOTH_FORMS' nicht erstellen: list index out of range\n"
     ]
    },
    {
     "name": "stderr",
     "output_type": "stream",
     "text": [
      " 76%|█████████████████████████████▍         | 1713/2265 [16:15<03:53,  2.36it/s]"
     ]
    },
    {
     "name": "stdout",
     "output_type": "stream",
     "text": [
      "[Büromöbel-Hersteller]\n",
      "2025-05-10 10:19:32.207 | INFO     | pipeline.correction.correction2:generate_possible_corrections:505 - Konnte Korrekturvorschlag '*' nicht erstellen: list index out of range\n",
      "[Büromöbel-Hersteller]\n",
      "2025-05-10 10:19:32.216 | INFO     | pipeline.correction.correction2:generate_possible_corrections:524 - Konnte Korrekturvorschlag 'PLURAL_*' nicht erstellen: list index out of range\n"
     ]
    },
    {
     "name": "stderr",
     "output_type": "stream",
     "text": [
      " 76%|█████████████████████████████▌         | 1715/2265 [16:15<04:14,  2.16it/s]"
     ]
    },
    {
     "name": "stdout",
     "output_type": "stream",
     "text": [
      "[Aufsichtsrat]\n",
      "2025-05-10 10:19:33.084 | INFO     | pipeline.correction.correction2:generate_possible_corrections:505 - Konnte Korrekturvorschlag '*' nicht erstellen: list index out of range\n",
      "[Aufsichtsrat]\n",
      "2025-05-10 10:19:33.093 | INFO     | pipeline.correction.correction2:generate_possible_corrections:524 - Konnte Korrekturvorschlag 'PLURAL_*' nicht erstellen: list index out of range\n",
      "[Aufsichtsrat]\n",
      "2025-05-10 10:19:33.109 | INFO     | pipeline.correction.correction2:generate_possible_corrections:505 - Konnte Korrekturvorschlag '*' nicht erstellen: list index out of range\n",
      "[Aufsichtsrat]\n",
      "2025-05-10 10:19:33.117 | INFO     | pipeline.correction.correction2:generate_possible_corrections:524 - Konnte Korrekturvorschlag 'PLURAL_*' nicht erstellen: list index out of range\n"
     ]
    },
    {
     "name": "stderr",
     "output_type": "stream",
     "text": [
      " 76%|█████████████████████████████▋         | 1723/2265 [16:18<03:05,  2.92it/s]"
     ]
    },
    {
     "name": "stdout",
     "output_type": "stream",
     "text": [
      "[Briefbeförderer]\n",
      "2025-05-10 10:19:35.844 | INFO     | pipeline.correction.correction2:generate_possible_corrections:505 - Konnte Korrekturvorschlag '*' nicht erstellen: list index out of range\n",
      "[Briefbeförderer]\n",
      "2025-05-10 10:19:35.853 | INFO     | pipeline.correction.correction2:generate_possible_corrections:524 - Konnte Korrekturvorschlag 'PLURAL_*' nicht erstellen: list index out of range\n",
      "[Aufsichtsrat]\n",
      "2025-05-10 10:19:35.874 | INFO     | pipeline.correction.correction2:generate_possible_corrections:505 - Konnte Korrekturvorschlag '*' nicht erstellen: list index out of range\n",
      "[Aufsichtsrat]\n",
      "2025-05-10 10:19:35.882 | INFO     | pipeline.correction.correction2:generate_possible_corrections:524 - Konnte Korrekturvorschlag 'PLURAL_*' nicht erstellen: list index out of range\n"
     ]
    },
    {
     "name": "stderr",
     "output_type": "stream",
     "text": [
      " 76%|█████████████████████████████▊         | 1729/2265 [16:20<02:11,  4.06it/s]"
     ]
    },
    {
     "name": "stdout",
     "output_type": "stream",
     "text": [
      "[Hauptstädter]\n",
      "2025-05-10 10:19:37.467 | INFO     | pipeline.correction.correction2:generate_possible_corrections:354 - Konnte Korrekturvorschlag '*' nicht erstellen: list index out of range\n",
      "[Hauptstädter]\n",
      "2025-05-10 10:19:37.477 | INFO     | pipeline.correction.correction2:generate_possible_corrections:462 - Konnte Korrekturvorschlag 'BOTH_FORMS' nicht erstellen: list index out of range\n"
     ]
    },
    {
     "name": "stderr",
     "output_type": "stream",
     "text": [
      " 77%|█████████████████████████████▊         | 1734/2265 [16:24<04:39,  1.90it/s]"
     ]
    },
    {
     "name": "stdout",
     "output_type": "stream",
     "text": [
      "[Bundesrates]\n",
      "2025-05-10 10:19:41.881 | INFO     | pipeline.correction.correction2:generate_possible_corrections:505 - Konnte Korrekturvorschlag '*' nicht erstellen: list index out of range\n",
      "[Bundesrates]\n",
      "2025-05-10 10:19:41.886 | INFO     | pipeline.correction.correction2:generate_possible_corrections:524 - Konnte Korrekturvorschlag 'PLURAL_*' nicht erstellen: list index out of range\n"
     ]
    },
    {
     "name": "stderr",
     "output_type": "stream",
     "text": [
      " 77%|█████████████████████████████▉         | 1738/2265 [16:25<03:34,  2.46it/s]"
     ]
    },
    {
     "name": "stdout",
     "output_type": "stream",
     "text": [
      "[US-Riese]\n",
      "2025-05-10 10:19:42.831 | INFO     | pipeline.correction.correction2:generate_possible_corrections:505 - Konnte Korrekturvorschlag '*' nicht erstellen: list index out of range\n",
      "[US-Riese]\n",
      "2025-05-10 10:19:42.841 | INFO     | pipeline.correction.correction2:generate_possible_corrections:524 - Konnte Korrekturvorschlag 'PLURAL_*' nicht erstellen: list index out of range\n",
      "[Erdgaskunden]\n",
      "2025-05-10 10:19:42.876 | INFO     | pipeline.correction.correction2:generate_possible_corrections:354 - Konnte Korrekturvorschlag '*' nicht erstellen: list index out of range\n",
      "[Erdgaskunden]\n",
      "2025-05-10 10:19:42.885 | INFO     | pipeline.correction.correction2:generate_possible_corrections:462 - Konnte Korrekturvorschlag 'BOTH_FORMS' nicht erstellen: list index out of range\n"
     ]
    },
    {
     "name": "stderr",
     "output_type": "stream",
     "text": [
      " 77%|█████████████████████████████▉         | 1739/2265 [16:26<03:11,  2.75it/s]"
     ]
    },
    {
     "name": "stdout",
     "output_type": "stream",
     "text": [
      "[Aufsichtsrat, seinen]\n",
      "2025-05-10 10:19:43.228 | INFO     | pipeline.correction.correction2:generate_possible_corrections:505 - Konnte Korrekturvorschlag '*' nicht erstellen: list index out of range\n",
      "[Aufsichtsrat, seinen]\n",
      "2025-05-10 10:19:43.237 | INFO     | pipeline.correction.correction2:generate_possible_corrections:524 - Konnte Korrekturvorschlag 'PLURAL_*' nicht erstellen: list index out of range\n"
     ]
    },
    {
     "name": "stderr",
     "output_type": "stream",
     "text": [
      " 77%|█████████████████████████████▉         | 1740/2265 [16:27<06:25,  1.36it/s]"
     ]
    },
    {
     "name": "stdout",
     "output_type": "stream",
     "text": [
      "[Aufsichtsräte]\n",
      "2025-05-10 10:19:45.369 | INFO     | pipeline.correction.correction2:generate_possible_corrections:354 - Konnte Korrekturvorschlag '*' nicht erstellen: list index out of range\n",
      "[Aufsichtsräte]\n",
      "2025-05-10 10:19:45.378 | INFO     | pipeline.correction.correction2:generate_possible_corrections:462 - Konnte Korrekturvorschlag 'BOTH_FORMS' nicht erstellen: list index out of range\n",
      "[Deutsche-Bank-Chef]\n",
      "2025-05-10 10:19:45.390 | INFO     | pipeline.correction.correction2:generate_possible_corrections:505 - Konnte Korrekturvorschlag '*' nicht erstellen: list index out of range\n",
      "[Deutsche-Bank-Chef]\n",
      "2025-05-10 10:19:45.399 | INFO     | pipeline.correction.correction2:generate_possible_corrections:524 - Konnte Korrekturvorschlag 'PLURAL_*' nicht erstellen: list index out of range\n",
      "[Aufsichtsräte]\n",
      "2025-05-10 10:19:45.427 | INFO     | pipeline.correction.correction2:generate_possible_corrections:354 - Konnte Korrekturvorschlag '*' nicht erstellen: list index out of range\n",
      "[Aufsichtsräte]\n",
      "2025-05-10 10:19:45.436 | INFO     | pipeline.correction.correction2:generate_possible_corrections:462 - Konnte Korrekturvorschlag 'BOTH_FORMS' nicht erstellen: list index out of range\n",
      "[Aufsichtsräten]\n",
      "2025-05-10 10:19:45.488 | INFO     | pipeline.correction.correction2:generate_possible_corrections:354 - Konnte Korrekturvorschlag '*' nicht erstellen: list index out of range\n",
      "[Aufsichtsräten]\n",
      "2025-05-10 10:19:45.497 | INFO     | pipeline.correction.correction2:generate_possible_corrections:462 - Konnte Korrekturvorschlag 'BOTH_FORMS' nicht erstellen: list index out of range\n"
     ]
    },
    {
     "name": "stderr",
     "output_type": "stream",
     "text": [
      " 77%|██████████████████████████████         | 1743/2265 [16:31<09:20,  1.07s/it]"
     ]
    },
    {
     "name": "stdout",
     "output_type": "stream",
     "text": [
      "[Stabilitätsrat]\n",
      "2025-05-10 10:19:48.225 | INFO     | pipeline.correction.correction2:generate_possible_corrections:505 - Konnte Korrekturvorschlag '*' nicht erstellen: list index out of range\n",
      "[Stabilitätsrat]\n",
      "2025-05-10 10:19:48.234 | INFO     | pipeline.correction.correction2:generate_possible_corrections:524 - Konnte Korrekturvorschlag 'PLURAL_*' nicht erstellen: list index out of range\n"
     ]
    },
    {
     "name": "stderr",
     "output_type": "stream",
     "text": [
      " 77%|██████████████████████████████         | 1744/2265 [16:31<07:44,  1.12it/s]"
     ]
    },
    {
     "name": "stdout",
     "output_type": "stream",
     "text": [
      "2025-05-10 10:19:48.640 | ERROR    | pipeline.full_pipeline:full_pipeline:38 - Fehler bei needs_to_be_gendered() für 'Chef': Es darf nur ein Element mit dieser Beziehung geben. (ist mit sb, war aber [Gewinn, Driese])\n",
      "2025-05-10 10:19:48.719 | ERROR    | pipeline.full_pipeline:full_pipeline:38 - Fehler bei needs_to_be_gendered() für 'Aktionäre': 'NN'\n"
     ]
    },
    {
     "name": "stderr",
     "output_type": "stream",
     "text": [
      " 77%|██████████████████████████████         | 1746/2265 [16:33<07:36,  1.14it/s]"
     ]
    },
    {
     "name": "stdout",
     "output_type": "stream",
     "text": [
      "[Bundesrates]\n",
      "2025-05-10 10:19:50.297 | INFO     | pipeline.correction.correction2:generate_possible_corrections:505 - Konnte Korrekturvorschlag '*' nicht erstellen: list index out of range\n",
      "[Bundesrates]\n",
      "2025-05-10 10:19:50.303 | INFO     | pipeline.correction.correction2:generate_possible_corrections:524 - Konnte Korrekturvorschlag 'PLURAL_*' nicht erstellen: list index out of range\n"
     ]
    },
    {
     "name": "stderr",
     "output_type": "stream",
     "text": [
      " 77%|██████████████████████████████         | 1747/2265 [16:34<07:14,  1.19it/s]"
     ]
    },
    {
     "name": "stdout",
     "output_type": "stream",
     "text": [
      "[Schuldner, damit, ihrer]\n",
      "2025-05-10 10:19:51.092 | INFO     | pipeline.correction.correction2:generate_possible_corrections:354 - Konnte Korrekturvorschlag '*' nicht erstellen: list index out of range\n",
      "[Schuldner, damit, ihrer]\n",
      "2025-05-10 10:19:51.093 | INFO     | pipeline.correction.correction2:generate_possible_corrections:462 - Konnte Korrekturvorschlag 'BOTH_FORMS' nicht erstellen: list index out of range\n"
     ]
    },
    {
     "name": "stderr",
     "output_type": "stream",
     "text": [
      " 77%|██████████████████████████████         | 1748/2265 [16:34<07:32,  1.14it/s]"
     ]
    },
    {
     "name": "stdout",
     "output_type": "stream",
     "text": [
      "[Bundesrat]\n",
      "2025-05-10 10:19:52.130 | INFO     | pipeline.correction.correction2:generate_possible_corrections:505 - Konnte Korrekturvorschlag '*' nicht erstellen: list index out of range\n",
      "[Bundesrat]\n",
      "2025-05-10 10:19:52.136 | INFO     | pipeline.correction.correction2:generate_possible_corrections:524 - Konnte Korrekturvorschlag 'PLURAL_*' nicht erstellen: list index out of range\n",
      "[Bundesrat]\n",
      "2025-05-10 10:19:52.175 | INFO     | pipeline.correction.correction2:generate_possible_corrections:505 - Konnte Korrekturvorschlag '*' nicht erstellen: list index out of range\n",
      "[Bundesrat]\n",
      "2025-05-10 10:19:52.181 | INFO     | pipeline.correction.correction2:generate_possible_corrections:524 - Konnte Korrekturvorschlag 'PLURAL_*' nicht erstellen: list index out of range\n"
     ]
    },
    {
     "name": "stderr",
     "output_type": "stream",
     "text": [
      " 77%|██████████████████████████████▏        | 1751/2265 [16:36<04:30,  1.90it/s]"
     ]
    },
    {
     "name": "stdout",
     "output_type": "stream",
     "text": [
      "[Kaufinteressenten]\n",
      "2025-05-10 10:19:53.134 | INFO     | pipeline.correction.correction2:generate_possible_corrections:354 - Konnte Korrekturvorschlag '*' nicht erstellen: list index out of range\n",
      "[Kaufinteressenten]\n",
      "2025-05-10 10:19:53.144 | INFO     | pipeline.correction.correction2:generate_possible_corrections:462 - Konnte Korrekturvorschlag 'BOTH_FORMS' nicht erstellen: list index out of range\n",
      "[T-Aktionäre]\n",
      "2025-05-10 10:19:53.161 | INFO     | pipeline.correction.correction2:generate_possible_corrections:354 - Konnte Korrekturvorschlag '*' nicht erstellen: list index out of range\n",
      "[T-Aktionäre]\n",
      "2025-05-10 10:19:53.170 | INFO     | pipeline.correction.correction2:generate_possible_corrections:462 - Konnte Korrekturvorschlag 'BOTH_FORMS' nicht erstellen: list index out of range\n",
      "[Aufsichtsrat]\n",
      "2025-05-10 10:19:53.196 | INFO     | pipeline.correction.correction2:generate_possible_corrections:505 - Konnte Korrekturvorschlag '*' nicht erstellen: list index out of range\n",
      "[Aufsichtsrat]\n",
      "2025-05-10 10:19:53.206 | INFO     | pipeline.correction.correction2:generate_possible_corrections:524 - Konnte Korrekturvorschlag 'PLURAL_*' nicht erstellen: list index out of range\n"
     ]
    },
    {
     "name": "stderr",
     "output_type": "stream",
     "text": [
      " 77%|██████████████████████████████▏        | 1753/2265 [16:36<03:33,  2.40it/s]"
     ]
    },
    {
     "name": "stdout",
     "output_type": "stream",
     "text": [
      "[Aufsichtsrat]\n",
      "2025-05-10 10:19:53.775 | INFO     | pipeline.correction.correction2:generate_possible_corrections:505 - Konnte Korrekturvorschlag '*' nicht erstellen: list index out of range\n",
      "[Aufsichtsrat]\n",
      "2025-05-10 10:19:53.783 | INFO     | pipeline.correction.correction2:generate_possible_corrections:524 - Konnte Korrekturvorschlag 'PLURAL_*' nicht erstellen: list index out of range\n",
      "[Aufsichtsrat]\n",
      "2025-05-10 10:19:53.796 | INFO     | pipeline.correction.correction2:generate_possible_corrections:505 - Konnte Korrekturvorschlag '*' nicht erstellen: list index out of range\n",
      "[Aufsichtsrat]\n",
      "2025-05-10 10:19:53.804 | INFO     | pipeline.correction.correction2:generate_possible_corrections:524 - Konnte Korrekturvorschlag 'PLURAL_*' nicht erstellen: list index out of range\n",
      "[Aufsichtsrat]\n",
      "2025-05-10 10:19:53.859 | INFO     | pipeline.correction.correction2:generate_possible_corrections:505 - Konnte Korrekturvorschlag '*' nicht erstellen: list index out of range\n",
      "[Aufsichtsrat]\n",
      "2025-05-10 10:19:53.868 | INFO     | pipeline.correction.correction2:generate_possible_corrections:524 - Konnte Korrekturvorschlag 'PLURAL_*' nicht erstellen: list index out of range\n"
     ]
    },
    {
     "name": "stderr",
     "output_type": "stream",
     "text": [
      " 77%|██████████████████████████████▏        | 1754/2265 [16:36<03:12,  2.66it/s]"
     ]
    },
    {
     "name": "stdout",
     "output_type": "stream",
     "text": [
      "[Veba-Immobilien-Vorstandschef]\n",
      "2025-05-10 10:19:54.055 | INFO     | pipeline.correction.correction2:generate_possible_corrections:505 - Konnte Korrekturvorschlag '*' nicht erstellen: list index out of range\n",
      "[Veba-Immobilien-Vorstandschef]\n",
      "2025-05-10 10:19:54.065 | INFO     | pipeline.correction.correction2:generate_possible_corrections:524 - Konnte Korrekturvorschlag 'PLURAL_*' nicht erstellen: list index out of range\n",
      "[Aufsichtsrat]\n",
      "2025-05-10 10:19:54.100 | INFO     | pipeline.correction.correction2:generate_possible_corrections:505 - Konnte Korrekturvorschlag '*' nicht erstellen: list index out of range\n",
      "[Aufsichtsrat]\n",
      "2025-05-10 10:19:54.108 | INFO     | pipeline.correction.correction2:generate_possible_corrections:524 - Konnte Korrekturvorschlag 'PLURAL_*' nicht erstellen: list index out of range\n"
     ]
    },
    {
     "name": "stderr",
     "output_type": "stream",
     "text": [
      " 77%|██████████████████████████████▏        | 1755/2265 [16:39<08:54,  1.05s/it]"
     ]
    },
    {
     "name": "stdout",
     "output_type": "stream",
     "text": [
      "2025-05-10 10:19:57.919 | ERROR    | pipeline.full_pipeline:full_pipeline:38 - Fehler bei needs_to_be_gendered() für 'Chef': 'NN'\n",
      "2025-05-10 10:19:57.926 | ERROR    | pipeline.full_pipeline:full_pipeline:38 - Fehler bei needs_to_be_gendered() für 'Kollegen': 'NoneType' object is not iterable\n",
      "[Seinen, Bundesrat]\n",
      "2025-05-10 10:19:58.018 | INFO     | pipeline.correction.correction2:generate_possible_corrections:505 - Konnte Korrekturvorschlag '*' nicht erstellen: list index out of range\n",
      "[Seinen, Bundesrat]\n",
      "2025-05-10 10:19:58.023 | INFO     | pipeline.correction.correction2:generate_possible_corrections:524 - Konnte Korrekturvorschlag 'PLURAL_*' nicht erstellen: list index out of range\n"
     ]
    },
    {
     "name": "stderr",
     "output_type": "stream",
     "text": [
      " 78%|██████████████████████████████▎        | 1759/2265 [16:42<05:41,  1.48it/s]"
     ]
    },
    {
     "name": "stdout",
     "output_type": "stream",
     "text": [
      "[Koordinatoren]\n",
      "2025-05-10 10:19:59.512 | INFO     | pipeline.correction.correction2:generate_possible_corrections:354 - Konnte Korrekturvorschlag '*' nicht erstellen: list index out of range\n",
      "[Koordinatoren]\n",
      "2025-05-10 10:19:59.521 | INFO     | pipeline.correction.correction2:generate_possible_corrections:462 - Konnte Korrekturvorschlag 'BOTH_FORMS' nicht erstellen: list index out of range\n"
     ]
    },
    {
     "name": "stderr",
     "output_type": "stream",
     "text": [
      " 78%|██████████████████████████████▎        | 1760/2265 [16:42<05:12,  1.62it/s]"
     ]
    },
    {
     "name": "stdout",
     "output_type": "stream",
     "text": [
      "[Neckermann-Gästen]\n",
      "2025-05-10 10:19:59.892 | INFO     | pipeline.correction.correction2:generate_possible_corrections:354 - Konnte Korrekturvorschlag '*' nicht erstellen: list index out of range\n",
      "[Neckermann-Gästen]\n",
      "2025-05-10 10:19:59.901 | INFO     | pipeline.correction.correction2:generate_possible_corrections:462 - Konnte Korrekturvorschlag 'BOTH_FORMS' nicht erstellen: list index out of range\n",
      "[Zentralbanker]\n",
      "2025-05-10 10:20:00.794 | INFO     | pipeline.correction.correction2:generate_possible_corrections:505 - Konnte Korrekturvorschlag '*' nicht erstellen: list index out of range\n",
      "[Zentralbanker]\n",
      "2025-05-10 10:20:00.803 | INFO     | pipeline.correction.correction2:generate_possible_corrections:524 - Konnte Korrekturvorschlag 'PLURAL_*' nicht erstellen: list index out of range\n"
     ]
    },
    {
     "name": "stderr",
     "output_type": "stream",
     "text": [
      " 78%|██████████████████████████████▎        | 1763/2265 [16:44<04:46,  1.75it/s]"
     ]
    },
    {
     "name": "stdout",
     "output_type": "stream",
     "text": [
      "[Storebrand-Aktionäre]\n",
      "2025-05-10 10:20:01.713 | INFO     | pipeline.correction.correction2:generate_possible_corrections:354 - Konnte Korrekturvorschlag '*' nicht erstellen: list index out of range\n",
      "[Storebrand-Aktionäre]\n",
      "2025-05-10 10:20:01.722 | INFO     | pipeline.correction.correction2:generate_possible_corrections:462 - Konnte Korrekturvorschlag 'BOTH_FORMS' nicht erstellen: list index out of range\n"
     ]
    },
    {
     "name": "stderr",
     "output_type": "stream",
     "text": [
      " 78%|██████████████████████████████▍        | 1769/2265 [16:47<03:41,  2.24it/s]"
     ]
    },
    {
     "name": "stdout",
     "output_type": "stream",
     "text": [
      "[Auszubildende]\n",
      "2025-05-10 10:20:04.046 | INFO     | pipeline.correction.correction2:generate_possible_corrections:505 - Konnte Korrekturvorschlag '*' nicht erstellen: list index out of range\n",
      "[Auszubildende]\n",
      "2025-05-10 10:20:04.047 | INFO     | pipeline.correction.correction2:generate_possible_corrections:524 - Konnte Korrekturvorschlag 'PLURAL_*' nicht erstellen: list index out of range\n"
     ]
    },
    {
     "name": "stderr",
     "output_type": "stream",
     "text": [
      " 78%|██████████████████████████████▌        | 1774/2265 [16:48<02:44,  2.98it/s]"
     ]
    },
    {
     "name": "stdout",
     "output_type": "stream",
     "text": [
      "[US-Investoren]\n",
      "2025-05-10 10:20:05.545 | INFO     | pipeline.correction.correction2:generate_possible_corrections:354 - Konnte Korrekturvorschlag '*' nicht erstellen: list index out of range\n",
      "[US-Investoren]\n",
      "2025-05-10 10:20:05.554 | INFO     | pipeline.correction.correction2:generate_possible_corrections:462 - Konnte Korrekturvorschlag 'BOTH_FORMS' nicht erstellen: list index out of range\n"
     ]
    },
    {
     "name": "stderr",
     "output_type": "stream",
     "text": [
      " 79%|██████████████████████████████▋        | 1781/2265 [16:53<03:54,  2.06it/s]"
     ]
    },
    {
     "name": "stdout",
     "output_type": "stream",
     "text": [
      "[Truthahn]\n",
      "2025-05-10 10:20:10.628 | INFO     | pipeline.correction.correction2:generate_possible_corrections:505 - Konnte Korrekturvorschlag '*' nicht erstellen: list index out of range\n",
      "[Truthahn]\n",
      "2025-05-10 10:20:10.634 | INFO     | pipeline.correction.correction2:generate_possible_corrections:524 - Konnte Korrekturvorschlag 'PLURAL_*' nicht erstellen: list index out of range\n",
      "[Truthähne]\n",
      "2025-05-10 10:20:10.676 | INFO     | pipeline.correction.correction2:generate_possible_corrections:354 - Konnte Korrekturvorschlag '*' nicht erstellen: list index out of range\n",
      "[Truthähne]\n",
      "2025-05-10 10:20:10.681 | INFO     | pipeline.correction.correction2:generate_possible_corrections:462 - Konnte Korrekturvorschlag 'BOTH_FORMS' nicht erstellen: list index out of range\n"
     ]
    },
    {
     "name": "stderr",
     "output_type": "stream",
     "text": [
      " 79%|██████████████████████████████▋        | 1783/2265 [16:55<05:52,  1.37it/s]"
     ]
    },
    {
     "name": "stdout",
     "output_type": "stream",
     "text": [
      "2025-05-10 10:20:12.279 | ERROR    | pipeline.full_pipeline:full_pipeline:38 - Fehler bei needs_to_be_gendered() für 'er': 'NoneType' object is not iterable\n",
      "2025-05-10 10:20:12.279 | ERROR    | pipeline.full_pipeline:full_pipeline:38 - Fehler bei needs_to_be_gendered() für 'Bruder': 'NN'\n"
     ]
    },
    {
     "name": "stderr",
     "output_type": "stream",
     "text": [
      " 79%|██████████████████████████████▊        | 1791/2265 [16:57<02:14,  3.53it/s]"
     ]
    },
    {
     "name": "stdout",
     "output_type": "stream",
     "text": [
      "[Sektor]\n",
      "2025-05-10 10:20:16.669 | INFO     | pipeline.correction.correction2:generate_possible_corrections:505 - Konnte Korrekturvorschlag '*' nicht erstellen: list index out of range\n",
      "[Sektor]\n",
      "2025-05-10 10:20:16.678 | INFO     | pipeline.correction.correction2:generate_possible_corrections:524 - Konnte Korrekturvorschlag 'PLURAL_*' nicht erstellen: list index out of range\n"
     ]
    },
    {
     "name": "stderr",
     "output_type": "stream",
     "text": [
      " 79%|██████████████████████████████▊        | 1792/2265 [16:59<07:11,  1.10it/s]"
     ]
    },
    {
     "name": "stdout",
     "output_type": "stream",
     "text": [
      "[EU-Partnern]\n",
      "2025-05-10 10:20:17.034 | INFO     | pipeline.correction.correction2:generate_possible_corrections:354 - Konnte Korrekturvorschlag '*' nicht erstellen: list index out of range\n",
      "[EU-Partnern]\n",
      "2025-05-10 10:20:17.042 | INFO     | pipeline.correction.correction2:generate_possible_corrections:462 - Konnte Korrekturvorschlag 'BOTH_FORMS' nicht erstellen: list index out of range\n"
     ]
    },
    {
     "name": "stderr",
     "output_type": "stream",
     "text": [
      " 79%|██████████████████████████████▉        | 1797/2265 [17:02<04:41,  1.66it/s]"
     ]
    },
    {
     "name": "stdout",
     "output_type": "stream",
     "text": [
      "[Fremdkunden]\n",
      "2025-05-10 10:20:19.486 | INFO     | pipeline.correction.correction2:generate_possible_corrections:354 - Konnte Korrekturvorschlag '*' nicht erstellen: list index out of range\n",
      "[Fremdkunden]\n",
      "2025-05-10 10:20:19.495 | INFO     | pipeline.correction.correction2:generate_possible_corrections:462 - Konnte Korrekturvorschlag 'BOTH_FORMS' nicht erstellen: list index out of range\n"
     ]
    },
    {
     "name": "stderr",
     "output_type": "stream",
     "text": [
      " 79%|██████████████████████████████▉        | 1798/2265 [17:02<04:39,  1.67it/s]"
     ]
    },
    {
     "name": "stdout",
     "output_type": "stream",
     "text": [
      "[Schnellschwebers]\n",
      "2025-05-10 10:20:20.109 | INFO     | pipeline.correction.correction2:generate_possible_corrections:505 - Konnte Korrekturvorschlag '*' nicht erstellen: list index out of range\n",
      "[Schnellschwebers]\n",
      "2025-05-10 10:20:20.119 | INFO     | pipeline.correction.correction2:generate_possible_corrections:524 - Konnte Korrekturvorschlag 'PLURAL_*' nicht erstellen: list index out of range\n"
     ]
    },
    {
     "name": "stderr",
     "output_type": "stream",
     "text": [
      " 79%|██████████████████████████████▉        | 1799/2265 [17:03<04:25,  1.76it/s]"
     ]
    },
    {
     "name": "stdout",
     "output_type": "stream",
     "text": [
      "[Wettwerber]\n",
      "2025-05-10 10:20:20.658 | INFO     | pipeline.correction.correction2:generate_possible_corrections:354 - Konnte Korrekturvorschlag '*' nicht erstellen: list index out of range\n",
      "[Wettwerber]\n",
      "2025-05-10 10:20:20.668 | INFO     | pipeline.correction.correction2:generate_possible_corrections:462 - Konnte Korrekturvorschlag 'BOTH_FORMS' nicht erstellen: list index out of range\n"
     ]
    },
    {
     "name": "stderr",
     "output_type": "stream",
     "text": [
      " 80%|███████████████████████████████▏       | 1810/2265 [17:08<04:57,  1.53it/s]"
     ]
    },
    {
     "name": "stdout",
     "output_type": "stream",
     "text": [
      "[Schiffbauer]\n",
      "2025-05-10 10:20:25.342 | INFO     | pipeline.correction.correction2:generate_possible_corrections:354 - Konnte Korrekturvorschlag '*' nicht erstellen: list index out of range\n",
      "[Schiffbauer]\n",
      "2025-05-10 10:20:25.351 | INFO     | pipeline.correction.correction2:generate_possible_corrections:462 - Konnte Korrekturvorschlag 'BOTH_FORMS' nicht erstellen: list index out of range\n"
     ]
    },
    {
     "name": "stderr",
     "output_type": "stream",
     "text": [
      " 80%|███████████████████████████████▏       | 1814/2265 [17:10<03:53,  1.93it/s]"
     ]
    },
    {
     "name": "stdout",
     "output_type": "stream",
     "text": [
      "[Zentralbanker]\n",
      "2025-05-10 10:20:27.225 | INFO     | pipeline.correction.correction2:generate_possible_corrections:354 - Konnte Korrekturvorschlag '*' nicht erstellen: list index out of range\n",
      "[Zentralbanker]\n",
      "2025-05-10 10:20:27.235 | INFO     | pipeline.correction.correction2:generate_possible_corrections:462 - Konnte Korrekturvorschlag 'BOTH_FORMS' nicht erstellen: list index out of range\n"
     ]
    },
    {
     "name": "stderr",
     "output_type": "stream",
     "text": [
      " 80%|███████████████████████████████▎       | 1815/2265 [17:10<03:20,  2.25it/s]"
     ]
    },
    {
     "name": "stdout",
     "output_type": "stream",
     "text": [
      "[2-Anwender]\n",
      "2025-05-10 10:20:27.550 | INFO     | pipeline.correction.correction2:generate_possible_corrections:354 - Konnte Korrekturvorschlag '*' nicht erstellen: list index out of range\n",
      "[2-Anwender]\n",
      "2025-05-10 10:20:27.561 | INFO     | pipeline.correction.correction2:generate_possible_corrections:462 - Konnte Korrekturvorschlag 'BOTH_FORMS' nicht erstellen: list index out of range\n"
     ]
    },
    {
     "name": "stderr",
     "output_type": "stream",
     "text": [
      " 80%|███████████████████████████████▎       | 1821/2265 [17:12<03:06,  2.38it/s]"
     ]
    },
    {
     "name": "stdout",
     "output_type": "stream",
     "text": [
      "[PC-Hersteller]\n",
      "2025-05-10 10:20:29.566 | INFO     | pipeline.correction.correction2:generate_possible_corrections:505 - Konnte Korrekturvorschlag '*' nicht erstellen: list index out of range\n",
      "[PC-Hersteller]\n",
      "2025-05-10 10:20:29.576 | INFO     | pipeline.correction.correction2:generate_possible_corrections:524 - Konnte Korrekturvorschlag 'PLURAL_*' nicht erstellen: list index out of range\n"
     ]
    },
    {
     "name": "stderr",
     "output_type": "stream",
     "text": [
      " 81%|███████████████████████████████▌       | 1831/2265 [17:16<04:14,  1.71it/s]"
     ]
    },
    {
     "name": "stdout",
     "output_type": "stream",
     "text": [
      "[Sozialhilfempfänger]\n",
      "2025-05-10 10:20:33.993 | INFO     | pipeline.correction.correction2:generate_possible_corrections:354 - Konnte Korrekturvorschlag '*' nicht erstellen: list index out of range\n",
      "[Sozialhilfempfänger]\n",
      "2025-05-10 10:20:34.004 | INFO     | pipeline.correction.correction2:generate_possible_corrections:462 - Konnte Korrekturvorschlag 'BOTH_FORMS' nicht erstellen: list index out of range\n"
     ]
    },
    {
     "name": "stderr",
     "output_type": "stream",
     "text": [
      " 81%|███████████████████████████████▋       | 1838/2265 [17:20<03:40,  1.94it/s]"
     ]
    },
    {
     "name": "stdout",
     "output_type": "stream",
     "text": [
      "[DF-1-Abonnenten]\n",
      "2025-05-10 10:20:37.350 | INFO     | pipeline.correction.correction2:generate_possible_corrections:354 - Konnte Korrekturvorschlag '*' nicht erstellen: list index out of range\n",
      "[DF-1-Abonnenten]\n",
      "2025-05-10 10:20:37.359 | INFO     | pipeline.correction.correction2:generate_possible_corrections:462 - Konnte Korrekturvorschlag 'BOTH_FORMS' nicht erstellen: list index out of range\n"
     ]
    },
    {
     "name": "stderr",
     "output_type": "stream",
     "text": [
      " 81%|███████████████████████████████▋       | 1842/2265 [17:21<02:09,  3.27it/s]"
     ]
    },
    {
     "name": "stdout",
     "output_type": "stream",
     "text": [
      "[Niedersachsen]\n",
      "2025-05-10 10:20:38.444 | INFO     | pipeline.correction.correction2:generate_possible_corrections:354 - Konnte Korrekturvorschlag '*' nicht erstellen: list index out of range\n",
      "[Niedersachsen]\n",
      "2025-05-10 10:20:38.450 | INFO     | pipeline.correction.correction2:generate_possible_corrections:462 - Konnte Korrekturvorschlag 'BOTH_FORMS' nicht erstellen: list index out of range\n"
     ]
    },
    {
     "name": "stderr",
     "output_type": "stream",
     "text": [
      " 81%|███████████████████████████████▊       | 1845/2265 [17:22<01:54,  3.67it/s]"
     ]
    },
    {
     "name": "stdout",
     "output_type": "stream",
     "text": [
      "[Computerprogrammherstellers]\n",
      "2025-05-10 10:20:39.748 | INFO     | pipeline.correction.correction2:generate_possible_corrections:505 - Konnte Korrekturvorschlag '*' nicht erstellen: list index out of range\n",
      "[Computerprogrammherstellers]\n",
      "2025-05-10 10:20:39.757 | INFO     | pipeline.correction.correction2:generate_possible_corrections:524 - Konnte Korrekturvorschlag 'PLURAL_*' nicht erstellen: list index out of range\n"
     ]
    },
    {
     "name": "stderr",
     "output_type": "stream",
     "text": [
      " 82%|███████████████████████████████▊       | 1851/2265 [17:25<04:17,  1.61it/s]"
     ]
    },
    {
     "name": "stdout",
     "output_type": "stream",
     "text": [
      "[Kurpfälzer]\n",
      "2025-05-10 10:20:42.811 | INFO     | pipeline.correction.correction2:generate_possible_corrections:354 - Konnte Korrekturvorschlag '*' nicht erstellen: list index out of range\n",
      "[Kurpfälzer]\n",
      "2025-05-10 10:20:42.822 | INFO     | pipeline.correction.correction2:generate_possible_corrections:462 - Konnte Korrekturvorschlag 'BOTH_FORMS' nicht erstellen: list index out of range\n"
     ]
    },
    {
     "name": "stderr",
     "output_type": "stream",
     "text": [
      " 82%|███████████████████████████████▉       | 1852/2265 [17:25<03:31,  1.95it/s]"
     ]
    },
    {
     "name": "stdout",
     "output_type": "stream",
     "text": [
      "[Kaufinteressent]\n",
      "2025-05-10 10:20:43.098 | INFO     | pipeline.correction.correction2:generate_possible_corrections:505 - Konnte Korrekturvorschlag '*' nicht erstellen: list index out of range\n",
      "[Kaufinteressent]\n",
      "2025-05-10 10:20:43.107 | INFO     | pipeline.correction.correction2:generate_possible_corrections:524 - Konnte Korrekturvorschlag 'PLURAL_*' nicht erstellen: list index out of range\n",
      "[Verrat]\n",
      "2025-05-10 10:20:43.169 | INFO     | pipeline.correction.correction2:generate_possible_corrections:505 - Konnte Korrekturvorschlag '*' nicht erstellen: list index out of range\n",
      "[Verrat]\n",
      "2025-05-10 10:20:43.179 | INFO     | pipeline.correction.correction2:generate_possible_corrections:524 - Konnte Korrekturvorschlag 'PLURAL_*' nicht erstellen: list index out of range\n"
     ]
    },
    {
     "name": "stderr",
     "output_type": "stream",
     "text": [
      " 82%|███████████████████████████████▉       | 1853/2265 [17:26<03:44,  1.84it/s]"
     ]
    },
    {
     "name": "stdout",
     "output_type": "stream",
     "text": [
      "[Aufsichtsrat]\n",
      "2025-05-10 10:20:43.684 | INFO     | pipeline.correction.correction2:generate_possible_corrections:505 - Konnte Korrekturvorschlag '*' nicht erstellen: list index out of range\n",
      "[Aufsichtsrat]\n",
      "2025-05-10 10:20:43.692 | INFO     | pipeline.correction.correction2:generate_possible_corrections:524 - Konnte Korrekturvorschlag 'PLURAL_*' nicht erstellen: list index out of range\n"
     ]
    },
    {
     "name": "stderr",
     "output_type": "stream",
     "text": [
      " 82%|███████████████████████████████▉       | 1855/2265 [17:27<02:53,  2.37it/s]"
     ]
    },
    {
     "name": "stdout",
     "output_type": "stream",
     "text": [
      "[Hüter, ihrer]\n",
      "2025-05-10 10:20:44.378 | INFO     | pipeline.correction.correction2:generate_possible_corrections:354 - Konnte Korrekturvorschlag '*' nicht erstellen: list index out of range\n",
      "[Hüter, ihrer]\n",
      "2025-05-10 10:20:44.380 | INFO     | pipeline.correction.correction2:generate_possible_corrections:462 - Konnte Korrekturvorschlag 'BOTH_FORMS' nicht erstellen: list index out of range\n"
     ]
    },
    {
     "name": "stderr",
     "output_type": "stream",
     "text": [
      " 83%|████████████████████████████████▏      | 1871/2265 [17:32<02:17,  2.86it/s]"
     ]
    },
    {
     "name": "stdout",
     "output_type": "stream",
     "text": [
      "[Lufthansa-Stratege]\n",
      "2025-05-10 10:20:49.632 | INFO     | pipeline.correction.correction2:generate_possible_corrections:505 - Konnte Korrekturvorschlag '*' nicht erstellen: list index out of range\n",
      "[Lufthansa-Stratege]\n",
      "2025-05-10 10:20:49.642 | INFO     | pipeline.correction.correction2:generate_possible_corrections:524 - Konnte Korrekturvorschlag 'PLURAL_*' nicht erstellen: list index out of range\n"
     ]
    },
    {
     "name": "stderr",
     "output_type": "stream",
     "text": [
      " 83%|████████████████████████████████▎      | 1873/2265 [17:33<02:01,  3.22it/s]"
     ]
    },
    {
     "name": "stdout",
     "output_type": "stream",
     "text": [
      "[US-Patienten]\n",
      "2025-05-10 10:20:50.127 | INFO     | pipeline.correction.correction2:generate_possible_corrections:354 - Konnte Korrekturvorschlag '*' nicht erstellen: list index out of range\n",
      "[US-Patienten]\n",
      "2025-05-10 10:20:50.137 | INFO     | pipeline.correction.correction2:generate_possible_corrections:462 - Konnte Korrekturvorschlag 'BOTH_FORMS' nicht erstellen: list index out of range\n"
     ]
    },
    {
     "name": "stderr",
     "output_type": "stream",
     "text": [
      " 83%|████████████████████████████████▎      | 1877/2265 [17:34<02:30,  2.57it/s]"
     ]
    },
    {
     "name": "stdout",
     "output_type": "stream",
     "text": [
      "[Zapfhähnen]\n",
      "2025-05-10 10:20:51.580 | INFO     | pipeline.correction.correction2:generate_possible_corrections:354 - Konnte Korrekturvorschlag '*' nicht erstellen: list index out of range\n",
      "[Zapfhähnen]\n",
      "2025-05-10 10:20:51.586 | INFO     | pipeline.correction.correction2:generate_possible_corrections:462 - Konnte Korrekturvorschlag 'BOTH_FORMS' nicht erstellen: list index out of range\n"
     ]
    },
    {
     "name": "stderr",
     "output_type": "stream",
     "text": [
      " 83%|████████████████████████████████▎      | 1878/2265 [17:35<02:55,  2.20it/s]"
     ]
    },
    {
     "name": "stdout",
     "output_type": "stream",
     "text": [
      "[E-Mail-Partnern]\n",
      "2025-05-10 10:20:53.035 | INFO     | pipeline.correction.correction2:generate_possible_corrections:354 - Konnte Korrekturvorschlag '*' nicht erstellen: list index out of range\n",
      "[E-Mail-Partnern]\n",
      "2025-05-10 10:20:53.044 | INFO     | pipeline.correction.correction2:generate_possible_corrections:462 - Konnte Korrekturvorschlag 'BOTH_FORMS' nicht erstellen: list index out of range\n",
      "[PC-Besitzer, seines]\n",
      "2025-05-10 10:20:53.064 | INFO     | pipeline.correction.correction2:generate_possible_corrections:505 - Konnte Korrekturvorschlag '*' nicht erstellen: list index out of range\n",
      "[PC-Besitzer, seines]\n",
      "2025-05-10 10:20:53.074 | INFO     | pipeline.correction.correction2:generate_possible_corrections:524 - Konnte Korrekturvorschlag 'PLURAL_*' nicht erstellen: list index out of range\n"
     ]
    },
    {
     "name": "stderr",
     "output_type": "stream",
     "text": [
      " 83%|████████████████████████████████▍      | 1881/2265 [17:37<03:50,  1.67it/s]"
     ]
    },
    {
     "name": "stdout",
     "output_type": "stream",
     "text": [
      "[Unterhaltungselektronikhersteller]\n",
      "2025-05-10 10:20:54.454 | INFO     | pipeline.correction.correction2:generate_possible_corrections:505 - Konnte Korrekturvorschlag '*' nicht erstellen: list index out of range\n",
      "[Unterhaltungselektronikhersteller]\n",
      "2025-05-10 10:20:54.464 | INFO     | pipeline.correction.correction2:generate_possible_corrections:524 - Konnte Korrekturvorschlag 'PLURAL_*' nicht erstellen: list index out of range\n"
     ]
    },
    {
     "name": "stderr",
     "output_type": "stream",
     "text": [
      " 83%|████████████████████████████████▍      | 1886/2265 [17:39<02:38,  2.39it/s]"
     ]
    },
    {
     "name": "stdout",
     "output_type": "stream",
     "text": [
      "[Aufsichtsrat]\n",
      "2025-05-10 10:20:56.108 | INFO     | pipeline.correction.correction2:generate_possible_corrections:505 - Konnte Korrekturvorschlag '*' nicht erstellen: list index out of range\n",
      "[Aufsichtsrat]\n",
      "2025-05-10 10:20:56.117 | INFO     | pipeline.correction.correction2:generate_possible_corrections:524 - Konnte Korrekturvorschlag 'PLURAL_*' nicht erstellen: list index out of range\n"
     ]
    },
    {
     "name": "stderr",
     "output_type": "stream",
     "text": [
      " 84%|████████████████████████████████▋      | 1895/2265 [17:43<02:50,  2.17it/s]"
     ]
    },
    {
     "name": "stdout",
     "output_type": "stream",
     "text": [
      "[der]\n",
      "2025-05-10 10:21:00.355 | INFO     | pipeline.correction.correction2:generate_possible_corrections:524 - Konnte Korrekturvorschlag 'PLURAL_*' nicht erstellen: list index out of range\n",
      "[Großkunden]\n",
      "2025-05-10 10:21:00.380 | INFO     | pipeline.correction.correction2:generate_possible_corrections:354 - Konnte Korrekturvorschlag '*' nicht erstellen: list index out of range\n",
      "[Großkunden]\n",
      "2025-05-10 10:21:00.386 | INFO     | pipeline.correction.correction2:generate_possible_corrections:462 - Konnte Korrekturvorschlag 'BOTH_FORMS' nicht erstellen: list index out of range\n"
     ]
    },
    {
     "name": "stderr",
     "output_type": "stream",
     "text": [
      " 84%|████████████████████████████████▋      | 1899/2265 [17:44<02:26,  2.50it/s]"
     ]
    },
    {
     "name": "stdout",
     "output_type": "stream",
     "text": [
      "[Konsortialführer]\n",
      "2025-05-10 10:21:01.685 | INFO     | pipeline.correction.correction2:generate_possible_corrections:505 - Konnte Korrekturvorschlag '*' nicht erstellen: list index out of range\n",
      "[Konsortialführer]\n",
      "2025-05-10 10:21:01.694 | INFO     | pipeline.correction.correction2:generate_possible_corrections:524 - Konnte Korrekturvorschlag 'PLURAL_*' nicht erstellen: list index out of range\n"
     ]
    },
    {
     "name": "stderr",
     "output_type": "stream",
     "text": [
      " 84%|████████████████████████████████▋      | 1900/2265 [17:45<02:44,  2.22it/s]"
     ]
    },
    {
     "name": "stdout",
     "output_type": "stream",
     "text": [
      "[Komplettanbieter]\n",
      "2025-05-10 10:21:02.336 | INFO     | pipeline.correction.correction2:generate_possible_corrections:505 - Konnte Korrekturvorschlag '*' nicht erstellen: list index out of range\n",
      "[Komplettanbieter]\n",
      "2025-05-10 10:21:02.345 | INFO     | pipeline.correction.correction2:generate_possible_corrections:524 - Konnte Korrekturvorschlag 'PLURAL_*' nicht erstellen: list index out of range\n",
      "[Anlagenbauer, ihr]\n",
      "2025-05-10 10:21:02.536 | INFO     | pipeline.correction.correction2:generate_possible_corrections:354 - Konnte Korrekturvorschlag '*' nicht erstellen: list index out of range\n"
     ]
    },
    {
     "name": "stderr",
     "output_type": "stream",
     "text": [
      " 84%|████████████████████████████████▋      | 1901/2265 [17:45<02:21,  2.57it/s]"
     ]
    },
    {
     "name": "stdout",
     "output_type": "stream",
     "text": [
      "[Anlagenbauer, ihr]\n",
      "2025-05-10 10:21:02.542 | INFO     | pipeline.correction.correction2:generate_possible_corrections:462 - Konnte Korrekturvorschlag 'BOTH_FORMS' nicht erstellen: list index out of range\n"
     ]
    },
    {
     "name": "stderr",
     "output_type": "stream",
     "text": [
      " 84%|████████████████████████████████▊      | 1907/2265 [17:47<02:12,  2.69it/s]"
     ]
    },
    {
     "name": "stdout",
     "output_type": "stream",
     "text": [
      "[Großkunden]\n",
      "2025-05-10 10:21:04.846 | INFO     | pipeline.correction.correction2:generate_possible_corrections:354 - Konnte Korrekturvorschlag '*' nicht erstellen: list index out of range\n",
      "[Großkunden]\n",
      "2025-05-10 10:21:04.852 | INFO     | pipeline.correction.correction2:generate_possible_corrections:462 - Konnte Korrekturvorschlag 'BOTH_FORMS' nicht erstellen: list index out of range\n"
     ]
    },
    {
     "name": "stderr",
     "output_type": "stream",
     "text": [
      " 84%|████████████████████████████████▉      | 1910/2265 [17:49<02:31,  2.35it/s]"
     ]
    },
    {
     "name": "stdout",
     "output_type": "stream",
     "text": [
      "[US-Experte]\n",
      "2025-05-10 10:21:06.182 | INFO     | pipeline.correction.correction2:generate_possible_corrections:505 - Konnte Korrekturvorschlag '*' nicht erstellen: list index out of range\n",
      "[US-Experte]\n",
      "2025-05-10 10:21:06.191 | INFO     | pipeline.correction.correction2:generate_possible_corrections:524 - Konnte Korrekturvorschlag 'PLURAL_*' nicht erstellen: list index out of range\n"
     ]
    },
    {
     "name": "stderr",
     "output_type": "stream",
     "text": [
      " 85%|████████████████████████████████▉      | 1915/2265 [17:51<03:38,  1.60it/s]"
     ]
    },
    {
     "name": "stdout",
     "output_type": "stream",
     "text": [
      "[Einzelinvestor]\n",
      "2025-05-10 10:21:09.046 | INFO     | pipeline.correction.correction2:generate_possible_corrections:505 - Konnte Korrekturvorschlag '*' nicht erstellen: list index out of range\n",
      "[Einzelinvestor]\n",
      "2025-05-10 10:21:09.055 | INFO     | pipeline.correction.correction2:generate_possible_corrections:524 - Konnte Korrekturvorschlag 'PLURAL_*' nicht erstellen: list index out of range\n",
      "[Aufsichtsrat]\n",
      "2025-05-10 10:21:09.106 | INFO     | pipeline.correction.correction2:generate_possible_corrections:505 - Konnte Korrekturvorschlag '*' nicht erstellen: list index out of range\n",
      "[Aufsichtsrat]\n",
      "2025-05-10 10:21:09.115 | INFO     | pipeline.correction.correction2:generate_possible_corrections:524 - Konnte Korrekturvorschlag 'PLURAL_*' nicht erstellen: list index out of range\n"
     ]
    },
    {
     "name": "stderr",
     "output_type": "stream",
     "text": [
      " 86%|█████████████████████████████████▍     | 1940/2265 [18:01<02:46,  1.95it/s]"
     ]
    },
    {
     "name": "stdout",
     "output_type": "stream",
     "text": [
      "[EU-Sprecher]\n",
      "2025-05-10 10:21:18.747 | INFO     | pipeline.correction.correction2:generate_possible_corrections:505 - Konnte Korrekturvorschlag '*' nicht erstellen: list index out of range\n",
      "[EU-Sprecher]\n",
      "2025-05-10 10:21:18.756 | INFO     | pipeline.correction.correction2:generate_possible_corrections:524 - Konnte Korrekturvorschlag 'PLURAL_*' nicht erstellen: list index out of range\n"
     ]
    },
    {
     "name": "stderr",
     "output_type": "stream",
     "text": [
      " 86%|█████████████████████████████████▍     | 1943/2265 [18:04<03:38,  1.47it/s]"
     ]
    },
    {
     "name": "stdout",
     "output_type": "stream",
     "text": [
      "[Schaumweinhersteller]\n",
      "2025-05-10 10:21:21.353 | INFO     | pipeline.correction.correction2:generate_possible_corrections:354 - Konnte Korrekturvorschlag '*' nicht erstellen: list index out of range\n",
      "[Schaumweinhersteller]\n",
      "2025-05-10 10:21:21.362 | INFO     | pipeline.correction.correction2:generate_possible_corrections:462 - Konnte Korrekturvorschlag 'BOTH_FORMS' nicht erstellen: list index out of range\n"
     ]
    },
    {
     "name": "stderr",
     "output_type": "stream",
     "text": [
      " 86%|█████████████████████████████████▌     | 1947/2265 [18:06<02:43,  1.95it/s]"
     ]
    },
    {
     "name": "stdout",
     "output_type": "stream",
     "text": [
      "[Vorstandsvorsitzenden]\n",
      "2025-05-10 10:21:23.359 | INFO     | pipeline.correction.correction2:generate_possible_corrections:505 - Konnte Korrekturvorschlag '*' nicht erstellen: list index out of range\n",
      "[Vorstandsvorsitzenden]\n",
      "2025-05-10 10:21:23.360 | INFO     | pipeline.correction.correction2:generate_possible_corrections:524 - Konnte Korrekturvorschlag 'PLURAL_*' nicht erstellen: list index out of range\n",
      "[Zuckerfabrikanten]\n",
      "2025-05-10 10:21:23.381 | INFO     | pipeline.correction.correction2:generate_possible_corrections:505 - Konnte Korrekturvorschlag '*' nicht erstellen: list index out of range\n",
      "[Zuckerfabrikanten]\n",
      "2025-05-10 10:21:23.390 | INFO     | pipeline.correction.correction2:generate_possible_corrections:524 - Konnte Korrekturvorschlag 'PLURAL_*' nicht erstellen: list index out of range\n",
      "[Aufsichtsrat, seiner]\n",
      "2025-05-10 10:21:23.419 | INFO     | pipeline.correction.correction2:generate_possible_corrections:505 - Konnte Korrekturvorschlag '*' nicht erstellen: list index out of range\n",
      "[Aufsichtsrat, seiner]\n",
      "2025-05-10 10:21:23.428 | INFO     | pipeline.correction.correction2:generate_possible_corrections:524 - Konnte Korrekturvorschlag 'PLURAL_*' nicht erstellen: list index out of range\n"
     ]
    },
    {
     "name": "stderr",
     "output_type": "stream",
     "text": [
      " 86%|█████████████████████████████████▌     | 1950/2265 [18:07<01:53,  2.77it/s]"
     ]
    },
    {
     "name": "stdout",
     "output_type": "stream",
     "text": [
      "[Großkunden]\n",
      "2025-05-10 10:21:24.238 | INFO     | pipeline.correction.correction2:generate_possible_corrections:354 - Konnte Korrekturvorschlag '*' nicht erstellen: list index out of range\n",
      "[Großkunden]\n",
      "2025-05-10 10:21:24.245 | INFO     | pipeline.correction.correction2:generate_possible_corrections:462 - Konnte Korrekturvorschlag 'BOTH_FORMS' nicht erstellen: list index out of range\n"
     ]
    },
    {
     "name": "stderr",
     "output_type": "stream",
     "text": [
      " 86%|█████████████████████████████████▋     | 1956/2265 [18:09<01:44,  2.95it/s]"
     ]
    },
    {
     "name": "stdout",
     "output_type": "stream",
     "text": [
      "[Aufsichtsrat]\n",
      "2025-05-10 10:21:27.185 | INFO     | pipeline.correction.correction2:generate_possible_corrections:505 - Konnte Korrekturvorschlag '*' nicht erstellen: list index out of range\n",
      "[Aufsichtsrat]\n",
      "2025-05-10 10:21:27.193 | INFO     | pipeline.correction.correction2:generate_possible_corrections:524 - Konnte Korrekturvorschlag 'PLURAL_*' nicht erstellen: list index out of range\n",
      "[Aufsichtsrat]\n",
      "2025-05-10 10:21:27.254 | INFO     | pipeline.correction.correction2:generate_possible_corrections:505 - Konnte Korrekturvorschlag '*' nicht erstellen: list index out of range\n",
      "[Aufsichtsrat]\n",
      "2025-05-10 10:21:27.263 | INFO     | pipeline.correction.correction2:generate_possible_corrections:524 - Konnte Korrekturvorschlag 'PLURAL_*' nicht erstellen: list index out of range\n"
     ]
    },
    {
     "name": "stderr",
     "output_type": "stream",
     "text": [
      " 86%|█████████████████████████████████▋     | 1957/2265 [18:10<02:35,  1.99it/s]"
     ]
    },
    {
     "name": "stdout",
     "output_type": "stream",
     "text": [
      "[Aufsichtsräte]\n",
      "2025-05-10 10:21:27.464 | INFO     | pipeline.correction.correction2:generate_possible_corrections:354 - Konnte Korrekturvorschlag '*' nicht erstellen: list index out of range\n",
      "[Aufsichtsräte]\n",
      "2025-05-10 10:21:27.473 | INFO     | pipeline.correction.correction2:generate_possible_corrections:462 - Konnte Korrekturvorschlag 'BOTH_FORMS' nicht erstellen: list index out of range\n"
     ]
    },
    {
     "name": "stderr",
     "output_type": "stream",
     "text": [
      " 86%|█████████████████████████████████▋     | 1958/2265 [18:10<02:10,  2.36it/s]"
     ]
    },
    {
     "name": "stdout",
     "output_type": "stream",
     "text": [
      "[Niedersachsen]\n",
      "2025-05-10 10:21:27.723 | INFO     | pipeline.correction.correction2:generate_possible_corrections:354 - Konnte Korrekturvorschlag '*' nicht erstellen: list index out of range\n",
      "[Niedersachsen]\n",
      "2025-05-10 10:21:27.728 | INFO     | pipeline.correction.correction2:generate_possible_corrections:462 - Konnte Korrekturvorschlag 'BOTH_FORMS' nicht erstellen: list index out of range\n",
      "[Finanzminister]\n",
      "2025-05-10 10:21:27.892 | INFO     | pipeline.correction.correction2:generate_possible_corrections:462 - Konnte Korrekturvorschlag 'BOTH_FORMS' nicht erstellen: Es darf nur ein Element mit dieser Beziehung geben. (Finanzminister mit cd, war aber [und, sowie])\n"
     ]
    },
    {
     "name": "stderr",
     "output_type": "stream",
     "text": [
      " 87%|█████████████████████████████████▉     | 1968/2265 [18:13<01:51,  2.66it/s]"
     ]
    },
    {
     "name": "stdout",
     "output_type": "stream",
     "text": [
      "2025-05-10 10:21:30.404 | INFO     | pipeline.correction.verb.change_verb_form:change_verb_form:13 - lex_target_verb not found: ausholte\n",
      "[Krupp-Chef, sich, er, seiner]\n",
      "2025-05-10 10:21:30.405 | INFO     | pipeline.correction.correction2:generate_possible_corrections:524 - Konnte Korrekturvorschlag 'PLURAL_*' nicht erstellen: Das Verb konnte im Lexikon nicht gefunden werden: ausholte\n",
      "2025-05-10 10:21:30.434 | INFO     | pipeline.correction.verb.change_verb_form:change_verb_form:13 - lex_target_verb not found: ausholte\n",
      "[Krupp-Chef, sich, er, seiner]\n",
      "2025-05-10 10:21:30.434 | INFO     | pipeline.correction.correction2:generate_possible_corrections:524 - Konnte Korrekturvorschlag 'PLURAL_*' nicht erstellen: Das Verb konnte im Lexikon nicht gefunden werden: ausholte\n"
     ]
    },
    {
     "name": "stderr",
     "output_type": "stream",
     "text": [
      " 87%|██████████████████████████████████     | 1978/2265 [18:18<02:38,  1.81it/s]"
     ]
    },
    {
     "name": "stdout",
     "output_type": "stream",
     "text": [
      "[EU-Vorsitzender]\n",
      "2025-05-10 10:21:35.107 | INFO     | pipeline.correction.correction2:generate_possible_corrections:505 - Konnte Korrekturvorschlag '*' nicht erstellen: list index out of range\n",
      "[EU-Vorsitzender]\n",
      "2025-05-10 10:21:35.117 | INFO     | pipeline.correction.correction2:generate_possible_corrections:524 - Konnte Korrekturvorschlag 'PLURAL_*' nicht erstellen: list index out of range\n"
     ]
    },
    {
     "name": "stderr",
     "output_type": "stream",
     "text": [
      " 87%|██████████████████████████████████     | 1980/2265 [18:19<02:33,  1.85it/s]"
     ]
    },
    {
     "name": "stdout",
     "output_type": "stream",
     "text": [
      "[EU-Kollegen]\n",
      "2025-05-10 10:21:36.124 | INFO     | pipeline.correction.correction2:generate_possible_corrections:354 - Konnte Korrekturvorschlag '*' nicht erstellen: list index out of range\n",
      "[EU-Kollegen]\n",
      "2025-05-10 10:21:36.133 | INFO     | pipeline.correction.correction2:generate_possible_corrections:462 - Konnte Korrekturvorschlag 'BOTH_FORMS' nicht erstellen: list index out of range\n"
     ]
    },
    {
     "name": "stderr",
     "output_type": "stream",
     "text": [
      " 87%|██████████████████████████████████     | 1981/2265 [18:19<02:26,  1.94it/s]"
     ]
    },
    {
     "name": "stdout",
     "output_type": "stream",
     "text": [
      "[Telefonfabrikant]\n",
      "2025-05-10 10:21:36.596 | INFO     | pipeline.correction.correction2:generate_possible_corrections:505 - Konnte Korrekturvorschlag '*' nicht erstellen: list index out of range\n",
      "[Telefonfabrikant]\n",
      "2025-05-10 10:21:36.606 | INFO     | pipeline.correction.correction2:generate_possible_corrections:524 - Konnte Korrekturvorschlag 'PLURAL_*' nicht erstellen: list index out of range\n"
     ]
    },
    {
     "name": "stderr",
     "output_type": "stream",
     "text": [
      " 88%|██████████████████████████████████▏    | 1985/2265 [18:20<01:51,  2.52it/s]"
     ]
    },
    {
     "name": "stdout",
     "output_type": "stream",
     "text": [
      "[IWF-Experten]\n",
      "2025-05-10 10:21:37.944 | INFO     | pipeline.correction.correction2:generate_possible_corrections:354 - Konnte Korrekturvorschlag '*' nicht erstellen: list index out of range\n",
      "[IWF-Experten]\n",
      "2025-05-10 10:21:37.953 | INFO     | pipeline.correction.correction2:generate_possible_corrections:462 - Konnte Korrekturvorschlag 'BOTH_FORMS' nicht erstellen: list index out of range\n",
      "[Flugbegleiter]\n",
      "2025-05-10 10:21:40.495 | INFO     | pipeline.correction.correction2:generate_possible_corrections:354 - Konnte Korrekturvorschlag '*' nicht erstellen: list index out of range\n",
      "[Flugbegleiter]\n",
      "2025-05-10 10:21:40.502 | INFO     | pipeline.correction.correction2:generate_possible_corrections:462 - Konnte Korrekturvorschlag 'BOTH_FORMS' nicht erstellen: list index out of range\n",
      "[Duty-Free-Lobbyisten]\n",
      "2025-05-10 10:21:40.628 | INFO     | pipeline.correction.correction2:generate_possible_corrections:354 - Konnte Korrekturvorschlag '*' nicht erstellen: list index out of range\n",
      "[Duty-Free-Lobbyisten]\n",
      "2025-05-10 10:21:40.638 | INFO     | pipeline.correction.correction2:generate_possible_corrections:462 - Konnte Korrekturvorschlag 'BOTH_FORMS' nicht erstellen: list index out of range\n",
      "[-senatoren]\n",
      "2025-05-10 10:21:40.795 | INFO     | pipeline.correction.correction2:generate_possible_corrections:354 - Konnte Korrekturvorschlag '*' nicht erstellen: list index out of range\n",
      "[-senatoren]\n",
      "2025-05-10 10:21:40.804 | INFO     | pipeline.correction.correction2:generate_possible_corrections:462 - Konnte Korrekturvorschlag 'BOTH_FORMS' nicht erstellen: list index out of range\n",
      "[Bundesrat, sich]\n",
      "2025-05-10 10:21:40.829 | INFO     | pipeline.correction.correction2:generate_possible_corrections:505 - Konnte Korrekturvorschlag '*' nicht erstellen: list index out of range\n",
      "[Bundesrat, sich]\n",
      "2025-05-10 10:21:40.835 | INFO     | pipeline.correction.correction2:generate_possible_corrections:524 - Konnte Korrekturvorschlag 'PLURAL_*' nicht erstellen: list index out of range\n",
      "[Duty-Free-Lobbyisten]\n",
      "2025-05-10 10:21:40.902 | INFO     | pipeline.correction.correction2:generate_possible_corrections:354 - Konnte Korrekturvorschlag '*' nicht erstellen: list index out of range\n",
      "[Duty-Free-Lobbyisten]\n",
      "2025-05-10 10:21:40.911 | INFO     | pipeline.correction.correction2:generate_possible_corrections:462 - Konnte Korrekturvorschlag 'BOTH_FORMS' nicht erstellen: list index out of range\n"
     ]
    },
    {
     "name": "stderr",
     "output_type": "stream",
     "text": [
      " 88%|██████████████████████████████████▏    | 1986/2265 [18:23<05:39,  1.22s/it]"
     ]
    },
    {
     "name": "stdout",
     "output_type": "stream",
     "text": [
      "[Duty-Free-Freunde]\n",
      "2025-05-10 10:21:41.065 | INFO     | pipeline.correction.correction2:generate_possible_corrections:354 - Konnte Korrekturvorschlag '*' nicht erstellen: list index out of range\n",
      "[Duty-Free-Freunde]\n",
      "2025-05-10 10:21:41.074 | INFO     | pipeline.correction.correction2:generate_possible_corrections:462 - Konnte Korrekturvorschlag 'BOTH_FORMS' nicht erstellen: list index out of range\n"
     ]
    },
    {
     "name": "stderr",
     "output_type": "stream",
     "text": [
      " 88%|██████████████████████████████████▏    | 1987/2265 [18:24<04:38,  1.00s/it]"
     ]
    },
    {
     "name": "stdout",
     "output_type": "stream",
     "text": [
      "[MG-Sprecher]\n",
      "2025-05-10 10:21:41.542 | INFO     | pipeline.correction.correction2:generate_possible_corrections:505 - Konnte Korrekturvorschlag '*' nicht erstellen: list index out of range\n",
      "[MG-Sprecher]\n",
      "2025-05-10 10:21:41.551 | INFO     | pipeline.correction.correction2:generate_possible_corrections:524 - Konnte Korrekturvorschlag 'PLURAL_*' nicht erstellen: list index out of range\n"
     ]
    },
    {
     "name": "stderr",
     "output_type": "stream",
     "text": [
      " 88%|██████████████████████████████████▎    | 1990/2265 [18:25<02:30,  1.82it/s]"
     ]
    },
    {
     "name": "stdout",
     "output_type": "stream",
     "text": [
      "[Aufsichtsräten]\n",
      "2025-05-10 10:21:43.184 | INFO     | pipeline.correction.correction2:generate_possible_corrections:354 - Konnte Korrekturvorschlag '*' nicht erstellen: list index out of range\n",
      "[Aufsichtsräten]\n",
      "2025-05-10 10:21:43.192 | INFO     | pipeline.correction.correction2:generate_possible_corrections:462 - Konnte Korrekturvorschlag 'BOTH_FORMS' nicht erstellen: list index out of range\n",
      "[DB-Chef]\n",
      "2025-05-10 10:21:43.258 | INFO     | pipeline.correction.correction2:generate_possible_corrections:505 - Konnte Korrekturvorschlag '*' nicht erstellen: list index out of range\n",
      "[DB-Chef]\n",
      "2025-05-10 10:21:43.267 | INFO     | pipeline.correction.correction2:generate_possible_corrections:524 - Konnte Korrekturvorschlag 'PLURAL_*' nicht erstellen: list index out of range\n"
     ]
    },
    {
     "name": "stderr",
     "output_type": "stream",
     "text": [
      " 88%|██████████████████████████████████▍    | 2000/2265 [18:29<01:40,  2.63it/s]"
     ]
    },
    {
     "name": "stdout",
     "output_type": "stream",
     "text": [
      "[PepsiCo-Aktionäre]\n",
      "2025-05-10 10:21:46.624 | INFO     | pipeline.correction.correction2:generate_possible_corrections:354 - Konnte Korrekturvorschlag '*' nicht erstellen: list index out of range\n",
      "[PepsiCo-Aktionäre]\n",
      "2025-05-10 10:21:46.633 | INFO     | pipeline.correction.correction2:generate_possible_corrections:462 - Konnte Korrekturvorschlag 'BOTH_FORMS' nicht erstellen: list index out of range\n"
     ]
    },
    {
     "name": "stderr",
     "output_type": "stream",
     "text": [
      " 88%|██████████████████████████████████▍    | 2003/2265 [18:30<01:32,  2.83it/s]"
     ]
    },
    {
     "name": "stdout",
     "output_type": "stream",
     "text": [
      "[Sachverständigenrat]\n",
      "2025-05-10 10:21:49.994 | INFO     | pipeline.correction.correction2:generate_possible_corrections:505 - Konnte Korrekturvorschlag '*' nicht erstellen: list index out of range\n",
      "[Sachverständigenrat]\n",
      "2025-05-10 10:21:50.003 | INFO     | pipeline.correction.correction2:generate_possible_corrections:524 - Konnte Korrekturvorschlag 'PLURAL_*' nicht erstellen: list index out of range\n",
      "[Bundesrat]\n",
      "2025-05-10 10:21:50.293 | INFO     | pipeline.correction.correction2:generate_possible_corrections:505 - Konnte Korrekturvorschlag '*' nicht erstellen: list index out of range\n",
      "[Bundesrat]\n",
      "2025-05-10 10:21:50.299 | INFO     | pipeline.correction.correction2:generate_possible_corrections:524 - Konnte Korrekturvorschlag 'PLURAL_*' nicht erstellen: list index out of range\n"
     ]
    },
    {
     "name": "stderr",
     "output_type": "stream",
     "text": [
      " 89%|██████████████████████████████████▌    | 2007/2265 [18:34<02:39,  1.61it/s]"
     ]
    },
    {
     "name": "stdout",
     "output_type": "stream",
     "text": [
      "[Pepsico-Aktionäre]\n",
      "2025-05-10 10:21:51.569 | INFO     | pipeline.correction.correction2:generate_possible_corrections:354 - Konnte Korrekturvorschlag '*' nicht erstellen: list index out of range\n",
      "[Pepsico-Aktionäre]\n",
      "2025-05-10 10:21:51.578 | INFO     | pipeline.correction.correction2:generate_possible_corrections:462 - Konnte Korrekturvorschlag 'BOTH_FORMS' nicht erstellen: list index out of range\n",
      "[Erfrischungsgetränkeherstellern]\n",
      "2025-05-10 10:21:51.658 | INFO     | pipeline.correction.correction2:generate_possible_corrections:354 - Konnte Korrekturvorschlag '*' nicht erstellen: list index out of range\n",
      "[Erfrischungsgetränkeherstellern]\n",
      "2025-05-10 10:21:51.664 | INFO     | pipeline.correction.correction2:generate_possible_corrections:462 - Konnte Korrekturvorschlag 'BOTH_FORMS' nicht erstellen: list index out of range\n"
     ]
    },
    {
     "name": "stderr",
     "output_type": "stream",
     "text": [
      " 89%|██████████████████████████████████▋    | 2011/2265 [18:36<02:05,  2.03it/s]"
     ]
    },
    {
     "name": "stdout",
     "output_type": "stream",
     "text": [
      "[Faktor]\n",
      "2025-05-10 10:21:53.482 | INFO     | pipeline.correction.correction2:generate_possible_corrections:505 - Konnte Korrekturvorschlag '*' nicht erstellen: list index out of range\n",
      "[Faktor]\n",
      "2025-05-10 10:21:53.491 | INFO     | pipeline.correction.correction2:generate_possible_corrections:524 - Konnte Korrekturvorschlag 'PLURAL_*' nicht erstellen: list index out of range\n"
     ]
    },
    {
     "name": "stderr",
     "output_type": "stream",
     "text": [
      " 89%|██████████████████████████████████▋    | 2013/2265 [18:36<01:28,  2.86it/s]"
     ]
    },
    {
     "name": "stdout",
     "output_type": "stream",
     "text": [
      "[TV-Anbietern]\n",
      "2025-05-10 10:21:53.986 | INFO     | pipeline.correction.correction2:generate_possible_corrections:354 - Konnte Korrekturvorschlag '*' nicht erstellen: list index out of range\n",
      "[TV-Anbietern]\n",
      "2025-05-10 10:21:53.995 | INFO     | pipeline.correction.correction2:generate_possible_corrections:462 - Konnte Korrekturvorschlag 'BOTH_FORMS' nicht erstellen: list index out of range\n"
     ]
    },
    {
     "name": "stderr",
     "output_type": "stream",
     "text": [
      " 89%|██████████████████████████████████▋    | 2015/2265 [18:37<01:08,  3.64it/s]"
     ]
    },
    {
     "name": "stdout",
     "output_type": "stream",
     "text": [
      "[Tupac-Amaru-Rebellen]\n",
      "2025-05-10 10:21:54.242 | INFO     | pipeline.correction.correction2:generate_possible_corrections:354 - Konnte Korrekturvorschlag '*' nicht erstellen: list index out of range\n",
      "[Tupac-Amaru-Rebellen]\n",
      "2025-05-10 10:21:54.251 | INFO     | pipeline.correction.correction2:generate_possible_corrections:462 - Konnte Korrekturvorschlag 'BOTH_FORMS' nicht erstellen: list index out of range\n"
     ]
    },
    {
     "name": "stderr",
     "output_type": "stream",
     "text": [
      " 89%|██████████████████████████████████▊    | 2019/2265 [18:37<00:45,  5.40it/s]"
     ]
    },
    {
     "name": "stdout",
     "output_type": "stream",
     "text": [
      "[Flugbegleiter]\n",
      "2025-05-10 10:21:54.894 | INFO     | pipeline.correction.correction2:generate_possible_corrections:354 - Konnte Korrekturvorschlag '*' nicht erstellen: list index out of range\n",
      "[Flugbegleiter]\n",
      "2025-05-10 10:21:54.900 | INFO     | pipeline.correction.correction2:generate_possible_corrections:462 - Konnte Korrekturvorschlag 'BOTH_FORMS' nicht erstellen: list index out of range\n",
      "[Flugbegleiter]\n",
      "2025-05-10 10:21:54.925 | INFO     | pipeline.correction.correction2:generate_possible_corrections:354 - Konnte Korrekturvorschlag '*' nicht erstellen: list index out of range\n",
      "[Flugbegleiter]\n",
      "2025-05-10 10:21:54.931 | INFO     | pipeline.correction.correction2:generate_possible_corrections:462 - Konnte Korrekturvorschlag 'BOTH_FORMS' nicht erstellen: list index out of range\n"
     ]
    },
    {
     "name": "stderr",
     "output_type": "stream",
     "text": [
      " 89%|██████████████████████████████████▊    | 2024/2265 [18:39<01:05,  3.67it/s]"
     ]
    },
    {
     "name": "stdout",
     "output_type": "stream",
     "text": [
      "[-senatoren]\n",
      "2025-05-10 10:21:56.614 | INFO     | pipeline.correction.correction2:generate_possible_corrections:354 - Konnte Korrekturvorschlag '*' nicht erstellen: list index out of range\n",
      "[-senatoren]\n",
      "2025-05-10 10:21:56.619 | INFO     | pipeline.correction.correction2:generate_possible_corrections:462 - Konnte Korrekturvorschlag 'BOTH_FORMS' nicht erstellen: list index out of range\n"
     ]
    },
    {
     "name": "stderr",
     "output_type": "stream",
     "text": [
      " 89%|██████████████████████████████████▊    | 2025/2265 [18:39<01:05,  3.67it/s]"
     ]
    },
    {
     "name": "stdout",
     "output_type": "stream",
     "text": [
      "[Mitentwickler]\n",
      "2025-05-10 10:21:57.867 | INFO     | pipeline.correction.correction2:generate_possible_corrections:505 - Konnte Korrekturvorschlag '*' nicht erstellen: list index out of range\n",
      "[Mitentwickler]\n",
      "2025-05-10 10:21:57.876 | INFO     | pipeline.correction.correction2:generate_possible_corrections:524 - Konnte Korrekturvorschlag 'PLURAL_*' nicht erstellen: list index out of range\n",
      "[SS-Sanitäter]\n",
      "2025-05-10 10:21:58.025 | INFO     | pipeline.correction.correction2:generate_possible_corrections:354 - Konnte Korrekturvorschlag '*' nicht erstellen: list index out of range\n",
      "[SS-Sanitäter]\n",
      "2025-05-10 10:21:58.034 | INFO     | pipeline.correction.correction2:generate_possible_corrections:462 - Konnte Korrekturvorschlag 'BOTH_FORMS' nicht erstellen: list index out of range\n"
     ]
    },
    {
     "name": "stderr",
     "output_type": "stream",
     "text": [
      " 90%|██████████████████████████████████▉    | 2030/2265 [18:42<01:50,  2.13it/s]"
     ]
    },
    {
     "name": "stdout",
     "output_type": "stream",
     "text": [
      "[US-Spione]\n",
      "2025-05-10 10:21:59.839 | INFO     | pipeline.correction.correction2:generate_possible_corrections:354 - Konnte Korrekturvorschlag '*' nicht erstellen: list index out of range\n",
      "[US-Spione]\n",
      "2025-05-10 10:21:59.848 | INFO     | pipeline.correction.correction2:generate_possible_corrections:462 - Konnte Korrekturvorschlag 'BOTH_FORMS' nicht erstellen: list index out of range\n"
     ]
    },
    {
     "name": "stderr",
     "output_type": "stream",
     "text": [
      " 90%|██████████████████████████████████▉    | 2031/2265 [18:42<01:34,  2.48it/s]"
     ]
    },
    {
     "name": "stdout",
     "output_type": "stream",
     "text": [
      "[Zellengenossen]\n",
      "2025-05-10 10:22:00.111 | INFO     | pipeline.correction.correction2:generate_possible_corrections:354 - Konnte Korrekturvorschlag '*' nicht erstellen: list index out of range\n",
      "[Zellengenossen]\n",
      "2025-05-10 10:22:00.120 | INFO     | pipeline.correction.correction2:generate_possible_corrections:462 - Konnte Korrekturvorschlag 'BOTH_FORMS' nicht erstellen: list index out of range\n"
     ]
    },
    {
     "name": "stderr",
     "output_type": "stream",
     "text": [
      " 90%|███████████████████████████████████    | 2039/2265 [18:45<01:33,  2.41it/s]"
     ]
    },
    {
     "name": "stdout",
     "output_type": "stream",
     "text": [
      "[DDR-Experten]\n",
      "2025-05-10 10:22:02.414 | INFO     | pipeline.correction.correction2:generate_possible_corrections:354 - Konnte Korrekturvorschlag '*' nicht erstellen: list index out of range\n",
      "[DDR-Experten]\n",
      "2025-05-10 10:22:02.423 | INFO     | pipeline.correction.correction2:generate_possible_corrections:462 - Konnte Korrekturvorschlag 'BOTH_FORMS' nicht erstellen: list index out of range\n"
     ]
    },
    {
     "name": "stderr",
     "output_type": "stream",
     "text": [
      " 90%|███████████████████████████████████▏   | 2043/2265 [18:46<01:19,  2.78it/s]"
     ]
    },
    {
     "name": "stdout",
     "output_type": "stream",
     "text": [
      "[Bundesrat, seiner]\n",
      "2025-05-10 10:22:03.831 | INFO     | pipeline.correction.correction2:generate_possible_corrections:505 - Konnte Korrekturvorschlag '*' nicht erstellen: list index out of range\n",
      "[Bundesrat, seiner]\n",
      "2025-05-10 10:22:03.837 | INFO     | pipeline.correction.correction2:generate_possible_corrections:524 - Konnte Korrekturvorschlag 'PLURAL_*' nicht erstellen: list index out of range\n"
     ]
    },
    {
     "name": "stderr",
     "output_type": "stream",
     "text": [
      " 90%|███████████████████████████████████▎   | 2048/2265 [18:48<01:37,  2.22it/s]"
     ]
    },
    {
     "name": "stdout",
     "output_type": "stream",
     "text": [
      "[Gerichtsmediziner]\n",
      "2025-05-10 10:22:05.642 | INFO     | pipeline.correction.correction2:generate_possible_corrections:505 - Konnte Korrekturvorschlag '*' nicht erstellen: list index out of range\n",
      "[Gerichtsmediziner]\n",
      "2025-05-10 10:22:05.651 | INFO     | pipeline.correction.correction2:generate_possible_corrections:524 - Konnte Korrekturvorschlag 'PLURAL_*' nicht erstellen: list index out of range\n"
     ]
    },
    {
     "name": "stderr",
     "output_type": "stream",
     "text": [
      " 91%|███████████████████████████████████▌   | 2062/2265 [18:53<01:17,  2.63it/s]"
     ]
    },
    {
     "name": "stdout",
     "output_type": "stream",
     "text": [
      "[Verrat]\n",
      "2025-05-10 10:22:10.469 | INFO     | pipeline.correction.correction2:generate_possible_corrections:505 - Konnte Korrekturvorschlag '*' nicht erstellen: list index out of range\n",
      "[Verrat]\n",
      "2025-05-10 10:22:10.478 | INFO     | pipeline.correction.correction2:generate_possible_corrections:524 - Konnte Korrekturvorschlag 'PLURAL_*' nicht erstellen: list index out of range\n"
     ]
    },
    {
     "name": "stderr",
     "output_type": "stream",
     "text": [
      " 91%|███████████████████████████████████▌   | 2065/2265 [18:55<01:48,  1.84it/s]"
     ]
    },
    {
     "name": "stdout",
     "output_type": "stream",
     "text": [
      "[Faktor]\n",
      "2025-05-10 10:22:12.448 | INFO     | pipeline.correction.correction2:generate_possible_corrections:505 - Konnte Korrekturvorschlag '*' nicht erstellen: list index out of range\n",
      "[Faktor]\n",
      "2025-05-10 10:22:12.457 | INFO     | pipeline.correction.correction2:generate_possible_corrections:524 - Konnte Korrekturvorschlag 'PLURAL_*' nicht erstellen: list index out of range\n"
     ]
    },
    {
     "name": "stderr",
     "output_type": "stream",
     "text": [
      " 91%|███████████████████████████████████▌   | 2067/2265 [18:55<01:23,  2.37it/s]"
     ]
    },
    {
     "name": "stdout",
     "output_type": "stream",
     "text": [
      "[Bundesrat]\n",
      "2025-05-10 10:22:13.016 | INFO     | pipeline.correction.correction2:generate_possible_corrections:505 - Konnte Korrekturvorschlag '*' nicht erstellen: list index out of range\n",
      "[Bundesrat]\n",
      "2025-05-10 10:22:13.022 | INFO     | pipeline.correction.correction2:generate_possible_corrections:524 - Konnte Korrekturvorschlag 'PLURAL_*' nicht erstellen: list index out of range\n"
     ]
    },
    {
     "name": "stderr",
     "output_type": "stream",
     "text": [
      " 91%|███████████████████████████████████▌   | 2068/2265 [18:57<02:16,  1.44it/s]"
     ]
    },
    {
     "name": "stdout",
     "output_type": "stream",
     "text": [
      "[High-Tech-Experten, ihr]\n",
      "2025-05-10 10:22:14.323 | INFO     | pipeline.correction.correction2:generate_possible_corrections:354 - Konnte Korrekturvorschlag '*' nicht erstellen: list index out of range\n",
      "[High-Tech-Experten, ihr]\n",
      "2025-05-10 10:22:14.332 | INFO     | pipeline.correction.correction2:generate_possible_corrections:462 - Konnte Korrekturvorschlag 'BOTH_FORMS' nicht erstellen: list index out of range\n",
      "[Schuldige]\n",
      "2025-05-10 10:22:15.061 | INFO     | pipeline.correction.correction2:generate_possible_corrections:505 - Konnte Korrekturvorschlag '*' nicht erstellen: list index out of range\n",
      "[Schuldige]\n",
      "2025-05-10 10:22:15.062 | INFO     | pipeline.correction.correction2:generate_possible_corrections:524 - Konnte Korrekturvorschlag 'PLURAL_*' nicht erstellen: list index out of range\n"
     ]
    },
    {
     "name": "stderr",
     "output_type": "stream",
     "text": [
      " 91%|███████████████████████████████████▋   | 2071/2265 [18:59<02:24,  1.35it/s]"
     ]
    },
    {
     "name": "stdout",
     "output_type": "stream",
     "text": [
      "[Law-and-Order-Fans]\n",
      "2025-05-10 10:22:16.689 | INFO     | pipeline.correction.correction2:generate_possible_corrections:354 - Konnte Korrekturvorschlag '*' nicht erstellen: list index out of range\n",
      "[Law-and-Order-Fans]\n",
      "2025-05-10 10:22:16.698 | INFO     | pipeline.correction.correction2:generate_possible_corrections:462 - Konnte Korrekturvorschlag 'BOTH_FORMS' nicht erstellen: list index out of range\n"
     ]
    },
    {
     "name": "stderr",
     "output_type": "stream",
     "text": [
      " 91%|███████████████████████████████████▋   | 2072/2265 [19:00<02:31,  1.28it/s]"
     ]
    },
    {
     "name": "stdout",
     "output_type": "stream",
     "text": [
      "[Bundesrat]\n",
      "2025-05-10 10:22:17.548 | INFO     | pipeline.correction.correction2:generate_possible_corrections:505 - Konnte Korrekturvorschlag '*' nicht erstellen: list index out of range\n",
      "[Bundesrat]\n",
      "2025-05-10 10:22:17.554 | INFO     | pipeline.correction.correction2:generate_possible_corrections:524 - Konnte Korrekturvorschlag 'PLURAL_*' nicht erstellen: list index out of range\n"
     ]
    },
    {
     "name": "stderr",
     "output_type": "stream",
     "text": [
      " 92%|███████████████████████████████████▋   | 2073/2265 [19:00<02:06,  1.52it/s]"
     ]
    },
    {
     "name": "stdout",
     "output_type": "stream",
     "text": [
      "[Geostrategen, sich]\n",
      "2025-05-10 10:22:17.955 | INFO     | pipeline.correction.correction2:generate_possible_corrections:354 - Konnte Korrekturvorschlag '*' nicht erstellen: list index out of range\n",
      "[Geostrategen, sich]\n",
      "2025-05-10 10:22:17.961 | INFO     | pipeline.correction.correction2:generate_possible_corrections:462 - Konnte Korrekturvorschlag 'BOTH_FORMS' nicht erstellen: list index out of range\n"
     ]
    },
    {
     "name": "stderr",
     "output_type": "stream",
     "text": [
      " 92%|███████████████████████████████████▊   | 2078/2265 [19:03<01:36,  1.93it/s]"
     ]
    },
    {
     "name": "stdout",
     "output_type": "stream",
     "text": [
      "[Faktor]\n",
      "2025-05-10 10:22:20.758 | INFO     | pipeline.correction.correction2:generate_possible_corrections:505 - Konnte Korrekturvorschlag '*' nicht erstellen: list index out of range\n",
      "[Faktor]\n",
      "2025-05-10 10:22:20.767 | INFO     | pipeline.correction.correction2:generate_possible_corrections:524 - Konnte Korrekturvorschlag 'PLURAL_*' nicht erstellen: list index out of range\n"
     ]
    },
    {
     "name": "stderr",
     "output_type": "stream",
     "text": [
      " 92%|███████████████████████████████████▉   | 2085/2265 [19:06<01:39,  1.81it/s]"
     ]
    },
    {
     "name": "stdout",
     "output_type": "stream",
     "text": [
      "[Orientierungsforscher]\n",
      "2025-05-10 10:22:25.956 | INFO     | pipeline.correction.correction2:generate_possible_corrections:505 - Konnte Korrekturvorschlag '*' nicht erstellen: list index out of range\n",
      "[Orientierungsforscher]\n",
      "2025-05-10 10:22:25.965 | INFO     | pipeline.correction.correction2:generate_possible_corrections:524 - Konnte Korrekturvorschlag 'PLURAL_*' nicht erstellen: list index out of range\n"
     ]
    },
    {
     "name": "stderr",
     "output_type": "stream",
     "text": [
      " 92%|███████████████████████████████████▉   | 2087/2265 [19:10<03:28,  1.17s/it]"
     ]
    },
    {
     "name": "stdout",
     "output_type": "stream",
     "text": [
      "[Sommerurlauber]\n",
      "2025-05-10 10:22:27.720 | INFO     | pipeline.correction.correction2:generate_possible_corrections:354 - Konnte Korrekturvorschlag '*' nicht erstellen: list index out of range\n",
      "[Sommerurlauber]\n",
      "2025-05-10 10:22:27.730 | INFO     | pipeline.correction.correction2:generate_possible_corrections:462 - Konnte Korrekturvorschlag 'BOTH_FORMS' nicht erstellen: list index out of range\n"
     ]
    },
    {
     "name": "stderr",
     "output_type": "stream",
     "text": [
      " 92%|███████████████████████████████████▉   | 2088/2265 [19:12<03:50,  1.30s/it]"
     ]
    },
    {
     "name": "stdout",
     "output_type": "stream",
     "text": [
      "[Vorbehalten]\n",
      "2025-05-10 10:22:33.064 | INFO     | pipeline.correction.correction2:generate_possible_corrections:354 - Konnte Korrekturvorschlag '*' nicht erstellen: list index out of range\n",
      "[Vorbehalten]\n",
      "2025-05-10 10:22:33.069 | INFO     | pipeline.correction.correction2:generate_possible_corrections:462 - Konnte Korrekturvorschlag 'BOTH_FORMS' nicht erstellen: list index out of range\n"
     ]
    },
    {
     "name": "stderr",
     "output_type": "stream",
     "text": [
      " 92%|████████████████████████████████████   | 2091/2265 [19:18<04:32,  1.57s/it]"
     ]
    },
    {
     "name": "stdout",
     "output_type": "stream",
     "text": [
      "2025-05-10 10:22:35.395 | ERROR    | pipeline.full_pipeline:full_pipeline:38 - Fehler bei needs_to_be_gendered() für 'Veranstalter': 'NN'\n"
     ]
    },
    {
     "name": "stderr",
     "output_type": "stream",
     "text": [
      " 92%|████████████████████████████████████   | 2094/2265 [19:19<02:09,  1.32it/s]"
     ]
    },
    {
     "name": "stdout",
     "output_type": "stream",
     "text": [
      "[FR-Kritiker]\n",
      "2025-05-10 10:22:39.480 | INFO     | pipeline.correction.correction2:generate_possible_corrections:354 - Konnte Korrekturvorschlag '*' nicht erstellen: list index out of range\n",
      "[FR-Kritiker]\n",
      "2025-05-10 10:22:39.489 | INFO     | pipeline.correction.correction2:generate_possible_corrections:462 - Konnte Korrekturvorschlag 'BOTH_FORMS' nicht erstellen: list index out of range\n",
      "2025-05-10 10:22:39.804 | INFO     | pipeline.correction.verb.change_verb_form:change_verb_form:13 - lex_target_verb not found: heraufholt\n",
      "[Künstler]\n",
      "2025-05-10 10:22:39.805 | INFO     | pipeline.correction.correction2:generate_possible_corrections:524 - Konnte Korrekturvorschlag 'PLURAL_*' nicht erstellen: Das Verb konnte im Lexikon nicht gefunden werden: heraufholt\n"
     ]
    },
    {
     "name": "stderr",
     "output_type": "stream",
     "text": [
      " 93%|████████████████████████████████████   | 2096/2265 [19:23<03:38,  1.30s/it]"
     ]
    },
    {
     "name": "stdout",
     "output_type": "stream",
     "text": [
      "[airtours-Kunden]\n",
      "2025-05-10 10:22:40.527 | INFO     | pipeline.correction.correction2:generate_possible_corrections:354 - Konnte Korrekturvorschlag '*' nicht erstellen: list index out of range\n",
      "[airtours-Kunden]\n",
      "2025-05-10 10:22:40.535 | INFO     | pipeline.correction.correction2:generate_possible_corrections:462 - Konnte Korrekturvorschlag 'BOTH_FORMS' nicht erstellen: list index out of range\n",
      "[Musical-Fans]\n",
      "2025-05-10 10:22:40.581 | INFO     | pipeline.correction.correction2:generate_possible_corrections:354 - Konnte Korrekturvorschlag '*' nicht erstellen: list index out of range\n",
      "[Musical-Fans]\n",
      "2025-05-10 10:22:40.590 | INFO     | pipeline.correction.correction2:generate_possible_corrections:462 - Konnte Korrekturvorschlag 'BOTH_FORMS' nicht erstellen: list index out of range\n",
      "[Sektor]\n",
      "2025-05-10 10:22:42.665 | INFO     | pipeline.correction.correction2:generate_possible_corrections:505 - Konnte Korrekturvorschlag '*' nicht erstellen: list index out of range\n",
      "[Sektor]\n",
      "2025-05-10 10:22:42.673 | INFO     | pipeline.correction.correction2:generate_possible_corrections:524 - Konnte Korrekturvorschlag 'PLURAL_*' nicht erstellen: list index out of range\n"
     ]
    },
    {
     "name": "stderr",
     "output_type": "stream",
     "text": [
      " 93%|████████████████████████████████████▏  | 2100/2265 [19:29<03:44,  1.36s/it]"
     ]
    },
    {
     "name": "stdout",
     "output_type": "stream",
     "text": [
      "[Rucksack-Touristen]\n",
      "2025-05-10 10:22:49.060 | INFO     | pipeline.correction.correction2:generate_possible_corrections:354 - Konnte Korrekturvorschlag '*' nicht erstellen: list index out of range\n",
      "[Rucksack-Touristen]\n",
      "2025-05-10 10:22:49.070 | INFO     | pipeline.correction.correction2:generate_possible_corrections:462 - Konnte Korrekturvorschlag 'BOTH_FORMS' nicht erstellen: list index out of range\n"
     ]
    },
    {
     "name": "stderr",
     "output_type": "stream",
     "text": [
      " 93%|████████████████████████████████████▍  | 2113/2265 [19:39<00:51,  2.96it/s]"
     ]
    },
    {
     "name": "stdout",
     "output_type": "stream",
     "text": [
      "[UN-Generalsekretär]\n",
      "2025-05-10 10:22:56.942 | INFO     | pipeline.correction.correction2:generate_possible_corrections:505 - Konnte Korrekturvorschlag '*' nicht erstellen: list index out of range\n",
      "[UN-Generalsekretär]\n",
      "2025-05-10 10:22:56.951 | INFO     | pipeline.correction.correction2:generate_possible_corrections:524 - Konnte Korrekturvorschlag 'PLURAL_*' nicht erstellen: list index out of range\n"
     ]
    },
    {
     "name": "stderr",
     "output_type": "stream",
     "text": [
      " 93%|████████████████████████████████████▍  | 2114/2265 [19:40<00:44,  3.41it/s]"
     ]
    },
    {
     "name": "stdout",
     "output_type": "stream",
     "text": [
      "[US-Künstler]\n",
      "2025-05-10 10:22:57.189 | INFO     | pipeline.correction.correction2:generate_possible_corrections:354 - Konnte Korrekturvorschlag '*' nicht erstellen: list index out of range\n",
      "[US-Künstler]\n",
      "2025-05-10 10:22:57.198 | INFO     | pipeline.correction.correction2:generate_possible_corrections:462 - Konnte Korrekturvorschlag 'BOTH_FORMS' nicht erstellen: list index out of range\n"
     ]
    },
    {
     "name": "stderr",
     "output_type": "stream",
     "text": [
      " 93%|████████████████████████████████████▍  | 2117/2265 [19:40<00:40,  3.61it/s]"
     ]
    },
    {
     "name": "stdout",
     "output_type": "stream",
     "text": [
      "[Gehalte]\n",
      "2025-05-10 10:22:58.039 | INFO     | pipeline.correction.correction2:generate_possible_corrections:354 - Konnte Korrekturvorschlag '*' nicht erstellen: list index out of range\n",
      "[Gehalte]\n",
      "2025-05-10 10:22:58.044 | INFO     | pipeline.correction.correction2:generate_possible_corrections:462 - Konnte Korrekturvorschlag 'BOTH_FORMS' nicht erstellen: list index out of range\n"
     ]
    },
    {
     "name": "stderr",
     "output_type": "stream",
     "text": [
      " 94%|████████████████████████████████████▍  | 2119/2265 [19:41<00:46,  3.13it/s]"
     ]
    },
    {
     "name": "stdout",
     "output_type": "stream",
     "text": [
      "[Blumenheiligen]\n",
      "2025-05-10 10:22:58.636 | INFO     | pipeline.correction.correction2:generate_possible_corrections:505 - Konnte Korrekturvorschlag '*' nicht erstellen: list index out of range\n",
      "[Blumenheiligen]\n",
      "2025-05-10 10:22:58.642 | INFO     | pipeline.correction.correction2:generate_possible_corrections:524 - Konnte Korrekturvorschlag 'PLURAL_*' nicht erstellen: list index out of range\n"
     ]
    },
    {
     "name": "stderr",
     "output_type": "stream",
     "text": [
      " 94%|████████████████████████████████████▊  | 2135/2265 [19:46<00:32,  4.01it/s]"
     ]
    },
    {
     "name": "stdout",
     "output_type": "stream",
     "text": [
      "[sich, UN-Vertreter]\n",
      "2025-05-10 10:23:03.299 | INFO     | pipeline.correction.correction2:generate_possible_corrections:354 - Konnte Korrekturvorschlag '*' nicht erstellen: list index out of range\n",
      "[sich, UN-Vertreter]\n",
      "2025-05-10 10:23:03.307 | INFO     | pipeline.correction.correction2:generate_possible_corrections:462 - Konnte Korrekturvorschlag 'BOTH_FORMS' nicht erstellen: list index out of range\n",
      "2025-05-10 10:23:03.323 | INFO     | pipeline.correction.verb.change_verb_form:change_verb_form:13 - lex_target_verb not found: freikam\n",
      "[Österreicher]\n",
      "2025-05-10 10:23:03.323 | INFO     | pipeline.correction.correction2:generate_possible_corrections:524 - Konnte Korrekturvorschlag 'PLURAL_*' nicht erstellen: Das Verb konnte im Lexikon nicht gefunden werden: freikam\n",
      "2025-05-10 10:23:03.338 | INFO     | pipeline.correction.verb.change_verb_form:change_verb_form:13 - lex_target_verb not found: freikam\n",
      "[der]\n",
      "2025-05-10 10:23:03.338 | INFO     | pipeline.correction.correction2:generate_possible_corrections:524 - Konnte Korrekturvorschlag 'PLURAL_*' nicht erstellen: Das Verb konnte im Lexikon nicht gefunden werden: freikam\n",
      "[UN-Vertreters]\n",
      "2025-05-10 10:23:03.359 | INFO     | pipeline.correction.correction2:generate_possible_corrections:505 - Konnte Korrekturvorschlag '*' nicht erstellen: list index out of range\n",
      "[UN-Vertreters]\n",
      "2025-05-10 10:23:03.368 | INFO     | pipeline.correction.correction2:generate_possible_corrections:524 - Konnte Korrekturvorschlag 'PLURAL_*' nicht erstellen: list index out of range\n"
     ]
    },
    {
     "name": "stderr",
     "output_type": "stream",
     "text": [
      " 94%|████████████████████████████████████▊  | 2136/2265 [19:46<00:33,  3.87it/s]"
     ]
    },
    {
     "name": "stdout",
     "output_type": "stream",
     "text": [
      "[US-Bürger]\n",
      "2025-05-10 10:23:03.587 | INFO     | pipeline.correction.correction2:generate_possible_corrections:505 - Konnte Korrekturvorschlag '*' nicht erstellen: list index out of range\n",
      "[US-Bürger]\n",
      "2025-05-10 10:23:03.595 | INFO     | pipeline.correction.correction2:generate_possible_corrections:524 - Konnte Korrekturvorschlag 'PLURAL_*' nicht erstellen: list index out of range\n"
     ]
    },
    {
     "name": "stderr",
     "output_type": "stream",
     "text": [
      " 95%|████████████████████████████████████▊  | 2141/2265 [19:48<00:54,  2.28it/s]"
     ]
    },
    {
     "name": "stdout",
     "output_type": "stream",
     "text": [
      "[Bundesrat]\n",
      "2025-05-10 10:23:05.379 | INFO     | pipeline.correction.correction2:generate_possible_corrections:505 - Konnte Korrekturvorschlag '*' nicht erstellen: list index out of range\n",
      "[Bundesrat]\n",
      "2025-05-10 10:23:05.385 | INFO     | pipeline.correction.correction2:generate_possible_corrections:524 - Konnte Korrekturvorschlag 'PLURAL_*' nicht erstellen: list index out of range\n"
     ]
    },
    {
     "name": "stderr",
     "output_type": "stream",
     "text": [
      " 95%|████████████████████████████████████▉  | 2142/2265 [19:49<01:09,  1.78it/s]"
     ]
    },
    {
     "name": "stdout",
     "output_type": "stream",
     "text": [
      "[EU-Ausländer]\n",
      "2025-05-10 10:23:06.223 | INFO     | pipeline.correction.correction2:generate_possible_corrections:505 - Konnte Korrekturvorschlag '*' nicht erstellen: list index out of range\n",
      "[EU-Ausländer]\n",
      "2025-05-10 10:23:06.232 | INFO     | pipeline.correction.correction2:generate_possible_corrections:524 - Konnte Korrekturvorschlag 'PLURAL_*' nicht erstellen: list index out of range\n"
     ]
    },
    {
     "name": "stderr",
     "output_type": "stream",
     "text": [
      " 95%|████████████████████████████████████▉  | 2143/2265 [19:49<01:19,  1.53it/s]"
     ]
    },
    {
     "name": "stdout",
     "output_type": "stream",
     "text": [
      "[Bundesrates]\n",
      "2025-05-10 10:23:06.990 | INFO     | pipeline.correction.correction2:generate_possible_corrections:505 - Konnte Korrekturvorschlag '*' nicht erstellen: list index out of range\n",
      "[Bundesrates]\n",
      "2025-05-10 10:23:06.996 | INFO     | pipeline.correction.correction2:generate_possible_corrections:524 - Konnte Korrekturvorschlag 'PLURAL_*' nicht erstellen: list index out of range\n"
     ]
    },
    {
     "name": "stderr",
     "output_type": "stream",
     "text": [
      " 95%|████████████████████████████████████▉  | 2145/2265 [19:50<00:59,  2.00it/s]"
     ]
    },
    {
     "name": "stdout",
     "output_type": "stream",
     "text": [
      "[FN-Gegnern]\n",
      "2025-05-10 10:23:07.751 | INFO     | pipeline.correction.correction2:generate_possible_corrections:354 - Konnte Korrekturvorschlag '*' nicht erstellen: list index out of range\n",
      "[FN-Gegnern]\n",
      "2025-05-10 10:23:07.760 | INFO     | pipeline.correction.correction2:generate_possible_corrections:462 - Konnte Korrekturvorschlag 'BOTH_FORMS' nicht erstellen: list index out of range\n",
      "[FN-Vorsitzende, sein]\n",
      "2025-05-10 10:23:07.814 | INFO     | pipeline.correction.correction2:generate_possible_corrections:505 - Konnte Korrekturvorschlag '*' nicht erstellen: list index out of range\n",
      "[FN-Vorsitzende, sein]\n",
      "2025-05-10 10:23:07.823 | INFO     | pipeline.correction.correction2:generate_possible_corrections:524 - Konnte Korrekturvorschlag 'PLURAL_*' nicht erstellen: list index out of range\n"
     ]
    },
    {
     "name": "stderr",
     "output_type": "stream",
     "text": [
      " 95%|████████████████████████████████████▉  | 2146/2265 [19:50<00:54,  2.20it/s]"
     ]
    },
    {
     "name": "stdout",
     "output_type": "stream",
     "text": [
      "[EU-Politikern]\n",
      "2025-05-10 10:23:08.152 | INFO     | pipeline.correction.correction2:generate_possible_corrections:354 - Konnte Korrekturvorschlag '*' nicht erstellen: list index out of range\n",
      "[EU-Politikern]\n",
      "2025-05-10 10:23:08.161 | INFO     | pipeline.correction.correction2:generate_possible_corrections:462 - Konnte Korrekturvorschlag 'BOTH_FORMS' nicht erstellen: list index out of range\n"
     ]
    },
    {
     "name": "stderr",
     "output_type": "stream",
     "text": [
      " 95%|█████████████████████████████████████  | 2153/2265 [19:52<00:37,  3.00it/s]"
     ]
    },
    {
     "name": "stdout",
     "output_type": "stream",
     "text": [
      "[Bundesrat]\n",
      "2025-05-10 10:23:10.172 | INFO     | pipeline.correction.correction2:generate_possible_corrections:505 - Konnte Korrekturvorschlag '*' nicht erstellen: list index out of range\n",
      "[Bundesrat]\n",
      "2025-05-10 10:23:10.178 | INFO     | pipeline.correction.correction2:generate_possible_corrections:524 - Konnte Korrekturvorschlag 'PLURAL_*' nicht erstellen: list index out of range\n"
     ]
    },
    {
     "name": "stderr",
     "output_type": "stream",
     "text": [
      " 95%|█████████████████████████████████████▏ | 2158/2265 [19:54<00:45,  2.34it/s]"
     ]
    },
    {
     "name": "stdout",
     "output_type": "stream",
     "text": [
      "[US-Experten]\n",
      "2025-05-10 10:23:12.040 | INFO     | pipeline.correction.correction2:generate_possible_corrections:354 - Konnte Korrekturvorschlag '*' nicht erstellen: list index out of range\n",
      "[US-Experten]\n",
      "2025-05-10 10:23:12.048 | INFO     | pipeline.correction.correction2:generate_possible_corrections:462 - Konnte Korrekturvorschlag 'BOTH_FORMS' nicht erstellen: list index out of range\n",
      "[Aufenthalten]\n",
      "2025-05-10 10:23:13.865 | INFO     | pipeline.correction.correction2:generate_possible_corrections:354 - Konnte Korrekturvorschlag '*' nicht erstellen: list index out of range\n",
      "[Aufenthalten]\n",
      "2025-05-10 10:23:13.871 | INFO     | pipeline.correction.correction2:generate_possible_corrections:462 - Konnte Korrekturvorschlag 'BOTH_FORMS' nicht erstellen: list index out of range\n"
     ]
    },
    {
     "name": "stderr",
     "output_type": "stream",
     "text": [
      " 95%|█████████████████████████████████████▏ | 2159/2265 [19:56<01:35,  1.11it/s]"
     ]
    },
    {
     "name": "stdout",
     "output_type": "stream",
     "text": [
      "[Aufenthalten]\n",
      "2025-05-10 10:23:14.086 | INFO     | pipeline.correction.correction2:generate_possible_corrections:354 - Konnte Korrekturvorschlag '*' nicht erstellen: list index out of range\n",
      "[Aufenthalten]\n",
      "2025-05-10 10:23:14.092 | INFO     | pipeline.correction.correction2:generate_possible_corrections:462 - Konnte Korrekturvorschlag 'BOTH_FORMS' nicht erstellen: list index out of range\n"
     ]
    },
    {
     "name": "stderr",
     "output_type": "stream",
     "text": [
      " 95%|█████████████████████████████████████▏ | 2162/2265 [20:00<02:05,  1.22s/it]"
     ]
    },
    {
     "name": "stdout",
     "output_type": "stream",
     "text": [
      "[IBM-Forscher]\n",
      "2025-05-10 10:23:18.794 | INFO     | pipeline.correction.correction2:generate_possible_corrections:354 - Konnte Korrekturvorschlag '*' nicht erstellen: list index out of range\n",
      "[IBM-Forscher]\n",
      "2025-05-10 10:23:18.803 | INFO     | pipeline.correction.correction2:generate_possible_corrections:462 - Konnte Korrekturvorschlag 'BOTH_FORMS' nicht erstellen: list index out of range\n",
      "[IBM-Forscher]\n",
      "2025-05-10 10:23:18.915 | INFO     | pipeline.correction.correction2:generate_possible_corrections:354 - Konnte Korrekturvorschlag '*' nicht erstellen: list index out of range\n",
      "[IBM-Forscher]\n",
      "2025-05-10 10:23:18.924 | INFO     | pipeline.correction.correction2:generate_possible_corrections:462 - Konnte Korrekturvorschlag 'BOTH_FORMS' nicht erstellen: list index out of range\n",
      "[Datenfunkempfänger]\n",
      "2025-05-10 10:23:18.954 | INFO     | pipeline.correction.correction2:generate_possible_corrections:505 - Konnte Korrekturvorschlag '*' nicht erstellen: list index out of range\n",
      "[Datenfunkempfänger]\n",
      "2025-05-10 10:23:18.963 | INFO     | pipeline.correction.correction2:generate_possible_corrections:524 - Konnte Korrekturvorschlag 'PLURAL_*' nicht erstellen: list index out of range\n"
     ]
    },
    {
     "name": "stderr",
     "output_type": "stream",
     "text": [
      " 96%|█████████████████████████████████████▎ | 2164/2265 [20:02<01:51,  1.10s/it]"
     ]
    },
    {
     "name": "stdout",
     "output_type": "stream",
     "text": [
      "[Slow-Food-Reiseführer, ihre]\n",
      "2025-05-10 10:23:19.991 | INFO     | pipeline.correction.correction2:generate_possible_corrections:354 - Konnte Korrekturvorschlag '*' nicht erstellen: list index out of range\n",
      "[Slow-Food-Reiseführer, ihre]\n",
      "2025-05-10 10:23:19.999 | INFO     | pipeline.correction.correction2:generate_possible_corrections:462 - Konnte Korrekturvorschlag 'BOTH_FORMS' nicht erstellen: list index out of range\n"
     ]
    },
    {
     "name": "stderr",
     "output_type": "stream",
     "text": [
      " 96%|█████████████████████████████████████▎ | 2166/2265 [20:05<01:53,  1.14s/it]"
     ]
    },
    {
     "name": "stdout",
     "output_type": "stream",
     "text": [
      "[Ex-Pfarrer]\n",
      "2025-05-10 10:23:24.697 | INFO     | pipeline.correction.correction2:generate_possible_corrections:505 - Konnte Korrekturvorschlag '*' nicht erstellen: list index out of range\n",
      "[Ex-Pfarrer]\n",
      "2025-05-10 10:23:24.706 | INFO     | pipeline.correction.correction2:generate_possible_corrections:524 - Konnte Korrekturvorschlag 'PLURAL_*' nicht erstellen: list index out of range\n"
     ]
    },
    {
     "name": "stderr",
     "output_type": "stream",
     "text": [
      " 96%|█████████████████████████████████████▎ | 2169/2265 [20:09<02:03,  1.28s/it]"
     ]
    },
    {
     "name": "stdout",
     "output_type": "stream",
     "text": [
      "[Tour-Vers-Chef]\n",
      "2025-05-10 10:23:26.773 | INFO     | pipeline.correction.correction2:generate_possible_corrections:505 - Konnte Korrekturvorschlag '*' nicht erstellen: list index out of range\n",
      "[Tour-Vers-Chef]\n",
      "2025-05-10 10:23:26.782 | INFO     | pipeline.correction.correction2:generate_possible_corrections:524 - Konnte Korrekturvorschlag 'PLURAL_*' nicht erstellen: list index out of range\n"
     ]
    },
    {
     "name": "stderr",
     "output_type": "stream",
     "text": [
      " 96%|█████████████████████████████████████▎ | 2170/2265 [20:10<01:36,  1.02s/it]"
     ]
    },
    {
     "name": "stdout",
     "output_type": "stream",
     "text": [
      "[Arzneimittelwächter, sich]\n",
      "2025-05-10 10:23:27.228 | INFO     | pipeline.correction.correction2:generate_possible_corrections:354 - Konnte Korrekturvorschlag '*' nicht erstellen: list index out of range\n",
      "[Arzneimittelwächter, sich]\n",
      "2025-05-10 10:23:27.237 | INFO     | pipeline.correction.correction2:generate_possible_corrections:462 - Konnte Korrekturvorschlag 'BOTH_FORMS' nicht erstellen: list index out of range\n",
      "[Unabhängigkeitskämpfer]\n",
      "2025-05-10 10:23:29.962 | INFO     | pipeline.correction.correction2:generate_possible_corrections:505 - Konnte Korrekturvorschlag '*' nicht erstellen: object of type 'NoneType' has no len()\n",
      "[Unabhängigkeitskämpfer]\n",
      "2025-05-10 10:23:29.969 | INFO     | pipeline.correction.correction2:generate_possible_corrections:524 - Konnte Korrekturvorschlag 'PLURAL_*' nicht erstellen: object of type 'NoneType' has no len()\n",
      "[Paradesoldaten]\n",
      "2025-05-10 10:23:30.097 | INFO     | pipeline.correction.correction2:generate_possible_corrections:354 - Konnte Korrekturvorschlag '*' nicht erstellen: list index out of range\n",
      "[Paradesoldaten]\n",
      "2025-05-10 10:23:30.103 | INFO     | pipeline.correction.correction2:generate_possible_corrections:462 - Konnte Korrekturvorschlag 'BOTH_FORMS' nicht erstellen: list index out of range\n"
     ]
    },
    {
     "name": "stderr",
     "output_type": "stream",
     "text": [
      " 96%|█████████████████████████████████████▍ | 2172/2265 [20:15<02:56,  1.90s/it]"
     ]
    },
    {
     "name": "stdout",
     "output_type": "stream",
     "text": [
      "[Gladiatoren]\n",
      "2025-05-10 10:23:32.967 | INFO     | pipeline.correction.correction2:generate_possible_corrections:354 - Konnte Korrekturvorschlag '*' nicht erstellen: list index out of range\n",
      "[Gladiatoren]\n",
      "2025-05-10 10:23:32.973 | INFO     | pipeline.correction.correction2:generate_possible_corrections:462 - Konnte Korrekturvorschlag 'BOTH_FORMS' nicht erstellen: list index out of range\n"
     ]
    },
    {
     "name": "stderr",
     "output_type": "stream",
     "text": [
      " 96%|█████████████████████████████████████▍ | 2174/2265 [20:19<02:46,  1.83s/it]"
     ]
    },
    {
     "name": "stdout",
     "output_type": "stream",
     "text": [
      "[Oberschlesier]\n",
      "2025-05-10 10:23:37.933 | INFO     | pipeline.correction.correction2:generate_possible_corrections:354 - Konnte Korrekturvorschlag '*' nicht erstellen: list index out of range\n",
      "[Oberschlesier]\n",
      "2025-05-10 10:23:37.943 | INFO     | pipeline.correction.correction2:generate_possible_corrections:462 - Konnte Korrekturvorschlag 'BOTH_FORMS' nicht erstellen: list index out of range\n",
      "[Oberschlesier, sich]\n",
      "2025-05-10 10:23:38.035 | INFO     | pipeline.correction.correction2:generate_possible_corrections:354 - Konnte Korrekturvorschlag '*' nicht erstellen: list index out of range\n",
      "[Oberschlesier, sich]\n",
      "2025-05-10 10:23:38.045 | INFO     | pipeline.correction.correction2:generate_possible_corrections:462 - Konnte Korrekturvorschlag 'BOTH_FORMS' nicht erstellen: list index out of range\n"
     ]
    },
    {
     "name": "stderr",
     "output_type": "stream",
     "text": [
      " 96%|█████████████████████████████████████▍ | 2175/2265 [20:21<02:33,  1.70s/it]"
     ]
    },
    {
     "name": "stdout",
     "output_type": "stream",
     "text": [
      "[Oberschlesier]\n",
      "2025-05-10 10:23:38.255 | INFO     | pipeline.correction.correction2:generate_possible_corrections:354 - Konnte Korrekturvorschlag '*' nicht erstellen: list index out of range\n",
      "[Oberschlesier]\n",
      "2025-05-10 10:23:38.265 | INFO     | pipeline.correction.correction2:generate_possible_corrections:462 - Konnte Korrekturvorschlag 'BOTH_FORMS' nicht erstellen: list index out of range\n"
     ]
    },
    {
     "name": "stderr",
     "output_type": "stream",
     "text": [
      " 96%|█████████████████████████████████████▌ | 2178/2265 [20:28<04:01,  2.78s/it]"
     ]
    },
    {
     "name": "stdout",
     "output_type": "stream",
     "text": [
      "[Fürsten]\n",
      "2025-05-10 10:23:46.004 | INFO     | pipeline.correction.correction2:generate_possible_corrections:505 - Konnte Korrekturvorschlag '*' nicht erstellen: list index out of range\n",
      "[Fürsten]\n",
      "2025-05-10 10:23:46.005 | INFO     | pipeline.correction.correction2:generate_possible_corrections:524 - Konnte Korrekturvorschlag 'PLURAL_*' nicht erstellen: list index out of range\n"
     ]
    },
    {
     "name": "stderr",
     "output_type": "stream",
     "text": [
      " 96%|█████████████████████████████████████▌ | 2185/2265 [20:36<01:32,  1.15s/it]"
     ]
    },
    {
     "name": "stdout",
     "output_type": "stream",
     "text": [
      "[Faktor]\n",
      "2025-05-10 10:23:53.369 | INFO     | pipeline.correction.correction2:generate_possible_corrections:505 - Konnte Korrekturvorschlag '*' nicht erstellen: list index out of range\n",
      "[Faktor]\n",
      "2025-05-10 10:23:53.378 | INFO     | pipeline.correction.correction2:generate_possible_corrections:524 - Konnte Korrekturvorschlag 'PLURAL_*' nicht erstellen: list index out of range\n"
     ]
    },
    {
     "name": "stderr",
     "output_type": "stream",
     "text": [
      " 97%|█████████████████████████████████████▋ | 2192/2265 [20:41<00:56,  1.29it/s]"
     ]
    },
    {
     "name": "stdout",
     "output_type": "stream",
     "text": [
      "[Nachfolgetäter]\n",
      "2025-05-10 10:23:58.788 | INFO     | pipeline.correction.correction2:generate_possible_corrections:354 - Konnte Korrekturvorschlag '*' nicht erstellen: list index out of range\n",
      "[Nachfolgetäter]\n",
      "2025-05-10 10:23:58.798 | INFO     | pipeline.correction.correction2:generate_possible_corrections:462 - Konnte Korrekturvorschlag 'BOTH_FORMS' nicht erstellen: list index out of range\n"
     ]
    },
    {
     "name": "stderr",
     "output_type": "stream",
     "text": [
      " 97%|█████████████████████████████████████▊ | 2195/2265 [20:43<00:44,  1.58it/s]"
     ]
    },
    {
     "name": "stdout",
     "output_type": "stream",
     "text": [
      "[Bären]\n",
      "2025-05-10 10:24:00.123 | INFO     | pipeline.correction.correction2:generate_possible_corrections:505 - Konnte Korrekturvorschlag '*' nicht erstellen: list index out of range\n",
      "[Bären]\n",
      "2025-05-10 10:24:00.129 | INFO     | pipeline.correction.correction2:generate_possible_corrections:524 - Konnte Korrekturvorschlag 'PLURAL_*' nicht erstellen: list index out of range\n",
      "[Bären]\n",
      "2025-05-10 10:24:00.216 | INFO     | pipeline.correction.correction2:generate_possible_corrections:505 - Konnte Korrekturvorschlag '*' nicht erstellen: list index out of range\n",
      "[Bären]\n",
      "2025-05-10 10:24:00.222 | INFO     | pipeline.correction.correction2:generate_possible_corrections:524 - Konnte Korrekturvorschlag 'PLURAL_*' nicht erstellen: list index out of range\n",
      "[Anti-AKW-Aktivisten]\n",
      "2025-05-10 10:24:01.110 | INFO     | pipeline.correction.correction2:generate_possible_corrections:354 - Konnte Korrekturvorschlag '*' nicht erstellen: list index out of range\n",
      "[Anti-AKW-Aktivisten]\n",
      "2025-05-10 10:24:01.119 | INFO     | pipeline.correction.correction2:generate_possible_corrections:462 - Konnte Korrekturvorschlag 'BOTH_FORMS' nicht erstellen: list index out of range\n",
      "2025-05-10 10:24:01.234 | ERROR    | pipeline.full_pipeline:full_pipeline:38 - Fehler bei needs_to_be_gendered() für 'er': 'NoneType' object is not iterable\n",
      "2025-05-10 10:24:01.235 | ERROR    | pipeline.full_pipeline:full_pipeline:38 - Fehler bei needs_to_be_gendered() für 'Kollegen': 'NN'\n"
     ]
    },
    {
     "name": "stderr",
     "output_type": "stream",
     "text": [
      " 97%|█████████████████████████████████████▊ | 2198/2265 [20:45<00:42,  1.56it/s]"
     ]
    },
    {
     "name": "stdout",
     "output_type": "stream",
     "text": [
      "2025-05-10 10:24:03.343 | ERROR    | pipeline.full_pipeline:full_pipeline:38 - Fehler bei needs_to_be_gendered() für 'ihn': 'NoneType' object is not iterable\n"
     ]
    },
    {
     "name": "stderr",
     "output_type": "stream",
     "text": [
      " 97%|█████████████████████████████████████▊ | 2199/2265 [20:46<00:55,  1.20it/s]"
     ]
    },
    {
     "name": "stdout",
     "output_type": "stream",
     "text": [
      "[Verrat]\n",
      "2025-05-10 10:24:03.610 | INFO     | pipeline.correction.correction2:generate_possible_corrections:505 - Konnte Korrekturvorschlag '*' nicht erstellen: list index out of range\n",
      "[Verrat]\n",
      "2025-05-10 10:24:03.619 | INFO     | pipeline.correction.correction2:generate_possible_corrections:524 - Konnte Korrekturvorschlag 'PLURAL_*' nicht erstellen: list index out of range\n"
     ]
    },
    {
     "name": "stderr",
     "output_type": "stream",
     "text": [
      " 97%|██████████████████████████████████████ | 2208/2265 [20:51<00:35,  1.59it/s]"
     ]
    },
    {
     "name": "stdout",
     "output_type": "stream",
     "text": [
      "[Ex-Kollegen]\n",
      "2025-05-10 10:24:08.186 | INFO     | pipeline.correction.correction2:generate_possible_corrections:354 - Konnte Korrekturvorschlag '*' nicht erstellen: list index out of range\n",
      "[Ex-Kollegen]\n",
      "2025-05-10 10:24:08.195 | INFO     | pipeline.correction.correction2:generate_possible_corrections:462 - Konnte Korrekturvorschlag 'BOTH_FORMS' nicht erstellen: list index out of range\n"
     ]
    },
    {
     "name": "stderr",
     "output_type": "stream",
     "text": [
      " 98%|██████████████████████████████████████ | 2209/2265 [20:51<00:26,  2.10it/s]"
     ]
    },
    {
     "name": "stdout",
     "output_type": "stream",
     "text": [
      "2025-05-10 10:24:09.787 | INFO     | pipeline.correction.verb.change_verb_form:change_verb_form:13 - lex_target_verb not found: daherkommen\n",
      "[dem]\n",
      "2025-05-10 10:24:09.787 | INFO     | pipeline.correction.correction2:generate_possible_corrections:524 - Konnte Korrekturvorschlag 'PLURAL_*' nicht erstellen: Das Verb konnte im Lexikon nicht gefunden werden: daherkommen\n"
     ]
    },
    {
     "name": "stderr",
     "output_type": "stream",
     "text": [
      " 99%|██████████████████████████████████████▋| 2249/2265 [21:05<00:03,  4.59it/s]"
     ]
    },
    {
     "name": "stdout",
     "output_type": "stream",
     "text": [
      "[EU-Vertreter]\n",
      "2025-05-10 10:24:22.368 | INFO     | pipeline.correction.correction2:generate_possible_corrections:354 - Konnte Korrekturvorschlag '*' nicht erstellen: list index out of range\n",
      "[EU-Vertreter]\n",
      "2025-05-10 10:24:22.377 | INFO     | pipeline.correction.correction2:generate_possible_corrections:462 - Konnte Korrekturvorschlag 'BOTH_FORMS' nicht erstellen: list index out of range\n"
     ]
    },
    {
     "name": "stderr",
     "output_type": "stream",
     "text": [
      " 99%|██████████████████████████████████████▋| 2250/2265 [21:05<00:05,  2.82it/s]"
     ]
    },
    {
     "name": "stdout",
     "output_type": "stream",
     "text": [
      "[Restaurantfachmann]\n",
      "2025-05-10 10:24:22.957 | INFO     | pipeline.correction.correction2:generate_possible_corrections:505 - Konnte Korrekturvorschlag '*' nicht erstellen: list index out of range\n",
      "[Restaurantfachmann]\n",
      "2025-05-10 10:24:22.966 | INFO     | pipeline.correction.correction2:generate_possible_corrections:524 - Konnte Korrekturvorschlag 'PLURAL_*' nicht erstellen: list index out of range\n"
     ]
    },
    {
     "name": "stderr",
     "output_type": "stream",
     "text": [
      " 99%|██████████████████████████████████████▊| 2252/2265 [21:06<00:04,  2.88it/s]"
     ]
    },
    {
     "name": "stdout",
     "output_type": "stream",
     "text": [
      "2025-05-10 10:24:23.644 | ERROR    | pipeline.full_pipeline:full_pipeline:38 - Fehler bei needs_to_be_gendered() für 'er': 'NoneType' object is not iterable\n",
      "2025-05-10 10:24:23.645 | ERROR    | pipeline.full_pipeline:full_pipeline:38 - Fehler bei needs_to_be_gendered() für 'Soldaten': 'NN'\n"
     ]
    },
    {
     "name": "stderr",
     "output_type": "stream",
     "text": [
      "100%|███████████████████████████████████████| 2265/2265 [21:16<00:00,  1.77it/s]\n"
     ]
    }
   ],
   "source": [
    "df['pipeline_result'] = df['Text_unmarked'].progress_apply(full_pipeline)"
   ]
  },
  {
   "cell_type": "code",
   "execution_count": 2,
   "id": "4ef0c3cf-d751-40e4-b427-c0acdd4d1d60",
   "metadata": {
    "scrolled": true
   },
   "outputs": [
    {
     "data": {
      "text/html": [
       "<div>\n",
       "<style scoped>\n",
       "    .dataframe tbody tr th:only-of-type {\n",
       "        vertical-align: middle;\n",
       "    }\n",
       "\n",
       "    .dataframe tbody tr th {\n",
       "        vertical-align: top;\n",
       "    }\n",
       "\n",
       "    .dataframe thead th {\n",
       "        text-align: right;\n",
       "    }\n",
       "</style>\n",
       "<table border=\"1\" class=\"dataframe\">\n",
       "  <thead>\n",
       "    <tr style=\"text-align: right;\">\n",
       "      <th></th>\n",
       "      <th>ArtikelId</th>\n",
       "      <th>Text</th>\n",
       "      <th>Text_unmarked</th>\n",
       "      <th>Sentences_marked</th>\n",
       "      <th>Sentences_unmarked</th>\n",
       "      <th>dependency_distance</th>\n",
       "      <th>marked_word_information</th>\n",
       "      <th>spacified_article</th>\n",
       "      <th>pipeline_result</th>\n",
       "      <th>result_counts</th>\n",
       "    </tr>\n",
       "  </thead>\n",
       "  <tbody>\n",
       "    <tr>\n",
       "      <th>0</th>\n",
       "      <td>ArtikelId: 0001_0001</td>\n",
       "      <td>\"Ross Perot wäre vielleicht ein prächtiger \\--...</td>\n",
       "      <td>\"Ross Perot wäre vielleicht ein prächtiger Dik...</td>\n",
       "      <td>[\"Ross Perot wäre vielleicht ein prächtiger \\-...</td>\n",
       "      <td>[\"Ross Perot wäre vielleicht ein prächtiger Di...</td>\n",
       "      <td>{'dependency_distance_mean': 2.858281125203935...</td>\n",
       "      <td>[{'word': 'Diktator', 'from': 43, 'to': 51, 'n...</td>\n",
       "      <td>(\", Ross, Perot, wäre, vielleicht, ein, prächt...</td>\n",
       "      <td>[{'word': 'Diktator', 'from': 43, 'to': 51, 'p...</td>\n",
       "      <td>{'marks': 108, 'correct': 79, 'not_ntbg': 95, ...</td>\n",
       "    </tr>\n",
       "    <tr>\n",
       "      <th>1</th>\n",
       "      <td>ArtikelId: 0001_0002</td>\n",
       "      <td>IBM und Siemens gelten nicht mehr als Schimpfw...</td>\n",
       "      <td>IBM und Siemens gelten nicht mehr als Schimpfw...</td>\n",
       "      <td>[IBM und Siemens gelten nicht mehr als Schimpf...</td>\n",
       "      <td>[IBM und Siemens gelten nicht mehr als Schimpf...</td>\n",
       "      <td>{'dependency_distance_mean': 2.861873114849146...</td>\n",
       "      <td>[{'word': 'Investoren', 'from': 64, 'to': 74, ...</td>\n",
       "      <td>(IBM, und, Siemens, gelten, nicht, mehr, als, ...</td>\n",
       "      <td>[{'word': 'Investoren', 'from': 64, 'to': 74, ...</td>\n",
       "      <td>{'marks': 83, 'correct': 75, 'ntbg': 8, 'ntbg_...</td>\n",
       "    </tr>\n",
       "    <tr>\n",
       "      <th>2</th>\n",
       "      <td>ArtikelId: 0001_0003</td>\n",
       "      <td>Wechselspiel von Dramatisierung und Ignoranz\\n...</td>\n",
       "      <td>Wechselspiel von Dramatisierung und Ignoranz\\n...</td>\n",
       "      <td>[Wechselspiel von Dramatisierung und Ignoranz,...</td>\n",
       "      <td>[Wechselspiel von Dramatisierung und Ignoranz,...</td>\n",
       "      <td>{'dependency_distance_mean': 3.165174122545213...</td>\n",
       "      <td>[{'word': 'Politologe', 'from': 49, 'to': 59, ...</td>\n",
       "      <td>(Wechselspiel, von, Dramatisierung, und, Ignor...</td>\n",
       "      <td>[{'word': 'Politologe', 'from': 49, 'to': 59, ...</td>\n",
       "      <td>{'marks': 155, 'correct': 139, 'not_ntbg': 137...</td>\n",
       "    </tr>\n",
       "    <tr>\n",
       "      <th>3</th>\n",
       "      <td>ArtikelId: 0001_0004</td>\n",
       "      <td>Im \\--Blickpunkt--:\\nErmittlungen gegen \\--Aut...</td>\n",
       "      <td>Im Blickpunkt:\\nErmittlungen gegen Autonome\\nS...</td>\n",
       "      <td>[Im \\--Blickpunkt--:, Ermittlungen gegen \\--Au...</td>\n",
       "      <td>[Im Blickpunkt:, Ermittlungen gegen Autonome, ...</td>\n",
       "      <td>{'dependency_distance_mean': 3.263254197975927...</td>\n",
       "      <td>[{'word': 'Blickpunkt', 'from': 3, 'to': 13, '...</td>\n",
       "      <td>(Im, Blickpunkt, :, \\n, Ermittlungen, gegen, A...</td>\n",
       "      <td>[{'word': 'Blickpunkt', 'from': 3, 'to': 13, '...</td>\n",
       "      <td>{'marks': 56, 'correct': 50, 'not_ntbg': 47, '...</td>\n",
       "    </tr>\n",
       "    <tr>\n",
       "      <th>4</th>\n",
       "      <td>ArtikelId: 0001_0005</td>\n",
       "      <td>Für ehrliche !--Kunden-- ist es ein \\--Schock-...</td>\n",
       "      <td>Für ehrliche Kunden ist es ein Schock\\nZahl de...</td>\n",
       "      <td>[Für ehrliche !--Kunden-- ist es ein \\--Schock...</td>\n",
       "      <td>[Für ehrliche Kunden ist es ein Schock, Zahl d...</td>\n",
       "      <td>{'dependency_distance_mean': 2.742601663046218...</td>\n",
       "      <td>[{'word': 'Kunden', 'from': 13, 'to': 19, 'ntb...</td>\n",
       "      <td>(Für, ehrliche, Kunden, ist, es, ein, Schock, ...</td>\n",
       "      <td>[{'word': 'Kunden', 'from': 13, 'to': 19, 'pos...</td>\n",
       "      <td>{'marks': 78, 'correct': 76, 'ntbg': 12, 'ntbg...</td>\n",
       "    </tr>\n",
       "  </tbody>\n",
       "</table>\n",
       "</div>"
      ],
      "text/plain": [
       "              ArtikelId                                               Text  \\\n",
       "0  ArtikelId: 0001_0001  \"Ross Perot wäre vielleicht ein prächtiger \\--...   \n",
       "1  ArtikelId: 0001_0002  IBM und Siemens gelten nicht mehr als Schimpfw...   \n",
       "2  ArtikelId: 0001_0003  Wechselspiel von Dramatisierung und Ignoranz\\n...   \n",
       "3  ArtikelId: 0001_0004  Im \\--Blickpunkt--:\\nErmittlungen gegen \\--Aut...   \n",
       "4  ArtikelId: 0001_0005  Für ehrliche !--Kunden-- ist es ein \\--Schock-...   \n",
       "\n",
       "                                       Text_unmarked  \\\n",
       "0  \"Ross Perot wäre vielleicht ein prächtiger Dik...   \n",
       "1  IBM und Siemens gelten nicht mehr als Schimpfw...   \n",
       "2  Wechselspiel von Dramatisierung und Ignoranz\\n...   \n",
       "3  Im Blickpunkt:\\nErmittlungen gegen Autonome\\nS...   \n",
       "4  Für ehrliche Kunden ist es ein Schock\\nZahl de...   \n",
       "\n",
       "                                    Sentences_marked  \\\n",
       "0  [\"Ross Perot wäre vielleicht ein prächtiger \\-...   \n",
       "1  [IBM und Siemens gelten nicht mehr als Schimpf...   \n",
       "2  [Wechselspiel von Dramatisierung und Ignoranz,...   \n",
       "3  [Im \\--Blickpunkt--:, Ermittlungen gegen \\--Au...   \n",
       "4  [Für ehrliche !--Kunden-- ist es ein \\--Schock...   \n",
       "\n",
       "                                  Sentences_unmarked  \\\n",
       "0  [\"Ross Perot wäre vielleicht ein prächtiger Di...   \n",
       "1  [IBM und Siemens gelten nicht mehr als Schimpf...   \n",
       "2  [Wechselspiel von Dramatisierung und Ignoranz,...   \n",
       "3  [Im Blickpunkt:, Ermittlungen gegen Autonome, ...   \n",
       "4  [Für ehrliche Kunden ist es ein Schock, Zahl d...   \n",
       "\n",
       "                                 dependency_distance  \\\n",
       "0  {'dependency_distance_mean': 2.858281125203935...   \n",
       "1  {'dependency_distance_mean': 2.861873114849146...   \n",
       "2  {'dependency_distance_mean': 3.165174122545213...   \n",
       "3  {'dependency_distance_mean': 3.263254197975927...   \n",
       "4  {'dependency_distance_mean': 2.742601663046218...   \n",
       "\n",
       "                             marked_word_information  \\\n",
       "0  [{'word': 'Diktator', 'from': 43, 'to': 51, 'n...   \n",
       "1  [{'word': 'Investoren', 'from': 64, 'to': 74, ...   \n",
       "2  [{'word': 'Politologe', 'from': 49, 'to': 59, ...   \n",
       "3  [{'word': 'Blickpunkt', 'from': 3, 'to': 13, '...   \n",
       "4  [{'word': 'Kunden', 'from': 13, 'to': 19, 'ntb...   \n",
       "\n",
       "                                   spacified_article  \\\n",
       "0  (\", Ross, Perot, wäre, vielleicht, ein, prächt...   \n",
       "1  (IBM, und, Siemens, gelten, nicht, mehr, als, ...   \n",
       "2  (Wechselspiel, von, Dramatisierung, und, Ignor...   \n",
       "3  (Im, Blickpunkt, :, \\n, Ermittlungen, gegen, A...   \n",
       "4  (Für, ehrliche, Kunden, ist, es, ein, Schock, ...   \n",
       "\n",
       "                                     pipeline_result  \\\n",
       "0  [{'word': 'Diktator', 'from': 43, 'to': 51, 'p...   \n",
       "1  [{'word': 'Investoren', 'from': 64, 'to': 74, ...   \n",
       "2  [{'word': 'Politologe', 'from': 49, 'to': 59, ...   \n",
       "3  [{'word': 'Blickpunkt', 'from': 3, 'to': 13, '...   \n",
       "4  [{'word': 'Kunden', 'from': 13, 'to': 19, 'pos...   \n",
       "\n",
       "                                       result_counts  \n",
       "0  {'marks': 108, 'correct': 79, 'not_ntbg': 95, ...  \n",
       "1  {'marks': 83, 'correct': 75, 'ntbg': 8, 'ntbg_...  \n",
       "2  {'marks': 155, 'correct': 139, 'not_ntbg': 137...  \n",
       "3  {'marks': 56, 'correct': 50, 'not_ntbg': 47, '...  \n",
       "4  {'marks': 78, 'correct': 76, 'ntbg': 12, 'ntbg...  "
      ]
     },
     "execution_count": 2,
     "metadata": {},
     "output_type": "execute_result"
    }
   ],
   "source": [
    "#df = pd.read_pickle('local-store/final_data_frame_evaluation_one.pkl')\n",
    "df.head()\n"
   ]
  },
  {
   "cell_type": "code",
   "execution_count": 3,
   "id": "292b6ba2-6208-40c8-824a-7d8d021977f9",
   "metadata": {},
   "outputs": [],
   "source": [
    "#import helperfunctions:\n",
    "from helperfunctions import find_in_result, update_counts, compare_marked_to_pipeline"
   ]
  },
  {
   "cell_type": "code",
   "execution_count": 7,
   "id": "c7a002ff-630c-480e-9750-9364c4e30a37",
   "metadata": {
    "scrolled": true
   },
   "outputs": [
    {
     "name": "stderr",
     "output_type": "stream",
     "text": [
      "  5%|██                                     | 119/2265 [00:00<00:04, 442.64it/s]"
     ]
    },
    {
     "name": "stdout",
     "output_type": "stream",
     "text": [
      "could not find: {'word': 'Monate', 'from': 7049, 'to': 7055, 'ntbg': False}\n"
     ]
    },
    {
     "name": "stderr",
     "output_type": "stream",
     "text": [
      " 11%|████▍                                  | 256/2265 [00:00<00:03, 606.50it/s]"
     ]
    },
    {
     "name": "stdout",
     "output_type": "stream",
     "text": [
      "could not find: {'word': 'Monate', 'from': 347, 'to': 353, 'ntbg': False}\n",
      "could not find: {'word': 'Monate', 'from': 726, 'to': 732, 'ntbg': False}\n",
      "could not find: {'word': 'Monate', 'from': 552, 'to': 558, 'ntbg': False}\n",
      "could not find: {'word': 'Monate', 'from': 319, 'to': 325, 'ntbg': False}\n"
     ]
    },
    {
     "name": "stderr",
     "output_type": "stream",
     "text": [
      " 18%|███████                                | 408/2265 [00:01<00:06, 266.01it/s]"
     ]
    },
    {
     "name": "stdout",
     "output_type": "stream",
     "text": [
      "could not find: {'word': 'Begriff', 'from': 227, 'to': 234, 'ntbg': False}\n",
      "could not find: {'word': 'Dollar', 'from': 1671, 'to': 1677, 'ntbg': False}\n"
     ]
    },
    {
     "name": "stderr",
     "output_type": "stream",
     "text": [
      "100%|██████████████████████████████████████| 2265/2265 [00:07<00:00, 303.86it/s]"
     ]
    },
    {
     "name": "stdout",
     "output_type": "stream",
     "text": [
      "could not find: {'word': 'Rennstreckenbetreiber', 'from': 1091, 'to': 1112, 'ntbg': False}\n"
     ]
    },
    {
     "name": "stderr",
     "output_type": "stream",
     "text": [
      "\n"
     ]
    }
   ],
   "source": [
    "global_counts = defaultdict(int)\n",
    "df['result_counts'] = df.progress_apply(\n",
    "    lambda row: compare_marked_to_pipeline(global_counts,row['marked_word_information'], row['pipeline_result'], row['spacified_article']),\n",
    "    axis=1\n",
    ")\n"
   ]
  },
  {
   "cell_type": "code",
   "execution_count": 6,
   "id": "8f54c393-948d-4dc2-ae7a-12c1cdb2fe17",
   "metadata": {
    "scrolled": true
   },
   "outputs": [
    {
     "data": {
      "text/plain": [
       "[('correct', 75084),\n",
       " ('incorrect', 8956),\n",
       " ('marks', 84002),\n",
       " ('not_marked', 38),\n",
       " ('not_ntbg', 74920),\n",
       " ('not_ntbg_correct', 66986),\n",
       " ('not_ntbg_incorrect', 7934),\n",
       " ('not_ntbg_plural', 21780),\n",
       " ('not_ntbg_singular', 51915),\n",
       " ('nouns', 69143),\n",
       " ('nouns_not_ntbg', 60235),\n",
       " ('nouns_not_ntbg_correct', 53859),\n",
       " ('nouns_not_ntbg_incorrect', 6376),\n",
       " ('nouns_ntbg', 8908),\n",
       " ('nouns_ntbg_correct', 7962),\n",
       " ('nouns_ntbg_incorrect', 946),\n",
       " ('ntbg', 9120),\n",
       " ('ntbg_correct', 8098),\n",
       " ('ntbg_incorrect', 1022),\n",
       " ('ntbg_plural', 7994),\n",
       " ('ntbg_singular', 1072),\n",
       " ('num_undetermined', 1279),\n",
       " ('plural', 29774),\n",
       " ('plural_not_ntbg_correct', 20337),\n",
       " ('plural_not_ntbg_incorrect', 1443),\n",
       " ('plural_ntbg_correct', 7215),\n",
       " ('plural_ntbg_incorrect', 779),\n",
       " ('pronouns', 14897),\n",
       " ('pronouns_not_ntbg', 14685),\n",
       " ('pronouns_not_ntbg_correct', 13127),\n",
       " ('pronouns_not_ntbg_incorrect', 1558),\n",
       " ('pronouns_ntbg', 212),\n",
       " ('pronouns_ntbg_correct', 136),\n",
       " ('pronouns_ntbg_incorrect', 76),\n",
       " ('singular', 52987),\n",
       " ('singular_not_ntbg_correct', 45443),\n",
       " ('singular_not_ntbg_incorrect', 6472),\n",
       " ('singular_ntbg_correct', 846),\n",
       " ('singular_ntbg_incorrect', 226)]"
      ]
     },
     "execution_count": 6,
     "metadata": {},
     "output_type": "execute_result"
    }
   ],
   "source": [
    "#zwischenergebnis speichern\n",
    "df.to_pickle('local-store/final_data_frame_evaluation_one.pkl')\n",
    "with open('initialEvaluationResult.json', 'a', encoding='utf-8') as f:\n",
    "   json.dump(sorted(global_counts.items()), f, ensure_ascii=False, indent=2)\n",
    "\n",
    "sorted(global_counts.items())"
   ]
  },
  {
   "cell_type": "markdown",
   "id": "e836f152-8e80-42bf-a0c1-d20f4ada2033",
   "metadata": {},
   "source": [
    "Die Oben ermittelten Kennzahlen können für die Analyse der Ergebnissgenauigkeit genutzt werden.\n",
    "## Grammatikalische Korrekheit\n",
    "Im folgenden soll die grammatikalische Korrektheit der Vorschläge überprüft werden. Hierfür werden die Changes zunächst angewandt und dann im vorher nachher vergleich überprüft ob neue Fehler dazu gekommen sind."
   ]
  },
  {
   "cell_type": "code",
   "execution_count": 299,
   "id": "463ad401-b8e7-4a84-8be3-1a3ce64d7515",
   "metadata": {
    "scrolled": true
   },
   "outputs": [],
   "source": [
    "# Wenn man in dieser Funktion die Correction an der zweiten Stelle der liste nimmt erhält man entweder die plural vorschläge oder die Vroschläge mit beiden Formen beide sorgen dafür das eine Verbenflexion nötig wird\n",
    "plural_count = 0 \n",
    "\n",
    "\n",
    "def get_changes(result):\n",
    "    global plural_count\n",
    "    changes = []\n",
    "    for item in result:\n",
    "        if item['shouldBeGendered']:\n",
    "            if len(item['possibleCorrections']) > 0:\n",
    "                corrections = item['possibleCorrections'][0]\n",
    "                if corrections['type'] == \"PLURAL_*\":\n",
    "                    plural_count += 1\n",
    "    \n",
    "                for correction in corrections['changes']: \n",
    "                    changes.append((correction['from'], correction['to'], correction['replace_with'].replace(\"?I\", \"*i\").replace('?','*')))\n",
    "    return changes\n",
    "            \n",
    "def apply_changes(text, changes):\n",
    "    changes = sorted(changes, key=lambda x: x[0])\n",
    "    result = \"\"\n",
    "    last_index = 0\n",
    "    \n",
    "    for start, end, new_text in changes:\n",
    "        result += text[last_index:start] \n",
    "        result += new_text               \n",
    "        last_index = end  \n",
    "        \n",
    "    result += text[last_index:] \n",
    "    return result"
   ]
  },
  {
   "cell_type": "code",
   "execution_count": 300,
   "id": "f8f25652-0426-4620-9ad0-4c0cdbc0e691",
   "metadata": {
    "scrolled": true
   },
   "outputs": [
    {
     "name": "stdout",
     "output_type": "stream",
     "text": [
      "[(353, 367, 'Parteisekretär*in'), (495, 500, 'einen*eine'), (524, 527, 'Rät*in'), (1103, 1106, 'dem*der'), (1346, 1361, 'Kpdsuvertreter*innen')]\n",
      "KPdSU wählt Zentralkomitee\n",
      "Russisches Verfassungsgericht eröffnet Prozeß gegen die Partei\n",
      "Die verbotene Kommunistische Partei der Sowjetunion (KPdSU) hat auf ihrem 29. Kongreß in Puschkino unweit von Moskau ein neues Zentralkomitee gewählt.\n",
      "Wie die russische Nachrichtenagentur Itar-Tass meldete, ernannte das ZK-Plenum anschließend Sergej Skworzow zum Parteisekretär*in für Koordinierungsfragen.\n",
      "Der Pressedienst der KPdSU teilte mit, das ZK habe außerdem ein Sekretariat aus neun Mitgliedern und einen*eine 15köpfigen Politischen Rät*in.\n",
      "Vorsitzender der Zentralen Kontrollkommission der Partei wurde Gennadi Filatow.\n",
      "Der 28. Kongreß der KPdSU war im Juli 1990 noch unter der Leitung des damaligen Generalsekretärs Michail Gorbatschow mit 5000 Mitgliedern im großen Kongreßsaal des Kremls abgehalten worden.\n",
      "Die Delegierten des diesjährigen Parteikongresses, der am Samstag hinter verschlossenen Türen im Beisein von rund hundert Delegierten begonnen hatte, hatten Gorbatschow in Abwesenheit aus der Partei ausgeschlossen.\n",
      "Vor dem russischen Verfassungsgericht in Moskau wird am Dienstag ein Prozeß eröffnet, in dem*der über die Verfassungsmäßigkeit der KPdSU und die Rechtmäßigkeit ihres Verbotes entschieden werden soll.\n",
      "Der russische Präsident Boris Jelzin hatte die KPdSU im Herbst 1991 infolge des Putsches verboten und die Parteivermögen beschlagnahmt.\n",
      "Kpdsuvertreter*innen hatten das Verfahren ursprünglich selbst angestrengt, indem sie Beschwerde gegen das Parteiverbot und die Konfiszierung der Vermögen einlegten.\n",
      "Im Mai hatte eine Jelzin nahestehende Gruppe die grundsätzliche Prüfung der \"Verfassungsmäßigkeit \"beantragt.\n",
      "Michail Gorbatschow lehnte ab vor Gericht als \"Angeklagter \"zu erscheinen.\n",
      "Er erinnerte daran, daß auch Jelzin sehr gut \"über die Aktivitäten der KPdSU \"informiert gewesen sei.\n",
      "Präsidentenberater Sergej Tschachraj teilte am Wochenende mit, die russische Führung wolle vor dem Verfassungsgericht nachweisen, daß sich die KPdSU Machtbefugnisse angemaßt hatte, die eindeutig ihren Status als politische Organisation sowie die sowjetische Verfassung verletzt hätte\n"
     ]
    }
   ],
   "source": [
    "#Testing\n",
    "results = df['pipeline_result'].iloc[74]\n",
    "text = df['Text_unmarked'].iloc[74]\n",
    "changes = get_changes(results)\n",
    "text_changed = apply_changes(text, changes)\n",
    "print(changes)\n",
    "print(text_changed)"
   ]
  },
  {
   "cell_type": "code",
   "execution_count": 301,
   "id": "87b8e266-7885-4ead-b43d-4739580de407",
   "metadata": {},
   "outputs": [],
   "source": [
    "def is_not_in_old_matches(match, old_matches):\n",
    "    for old in old_matches:\n",
    "        if match.errorLength == old.errorLength and match.replacements == old.replacements:\n",
    "            return False\n",
    "    return True\n",
    "\n",
    "def apply_changes_and_check_for_new_errors(pipeline_results, text):\n",
    "    result = []\n",
    "    changes = get_changes(pipeline_results)\n",
    "    text_changed = apply_changes(text, changes)\n",
    "    \n",
    "    new_language_errors = tool.check(text_changed)\n",
    "    old_language_errors = tool.check(text)\n",
    "    for error in new_language_errors:\n",
    "        if is_not_in_old_matches(error, old_language_errors):\n",
    "            result.append(error)\n",
    "    return result "
   ]
  },
  {
   "cell_type": "code",
   "execution_count": 302,
   "id": "c33a4ba5-29fc-42a9-b2c1-ee29ddc8c4f2",
   "metadata": {},
   "outputs": [
    {
     "name": "stderr",
     "output_type": "stream",
     "text": [
      "100%|███████████████████████████████████████| 2265/2265 [10:42<00:00,  3.53it/s]\n"
     ]
    }
   ],
   "source": [
    "df['new_language_errors'] = df.progress_apply(\n",
    "    lambda row: apply_changes_and_check_for_new_errors( row['pipeline_result'], row['Text_unmarked']),\n",
    "    axis=1\n",
    ")"
   ]
  },
  {
   "cell_type": "code",
   "execution_count": 296,
   "id": "52ff9f39-d187-4ec0-9daf-da0f72ed712a",
   "metadata": {},
   "outputs": [
    {
     "data": {
      "text/plain": [
       "([],)"
      ]
     },
     "execution_count": 296,
     "metadata": {},
     "output_type": "execute_result"
    }
   ],
   "source": [
    "apply_changes_and_check_for_new_errors( df['pipeline_result'].iloc[74], df['Text_unmarked'].iloc[74]),"
   ]
  },
  {
   "cell_type": "code",
   "execution_count": 303,
   "id": "d28fa008-dc7e-4f61-ae0c-c2574054f328",
   "metadata": {},
   "outputs": [
    {
     "name": "stdout",
     "output_type": "stream",
     "text": [
      "Aggregiertes Verhältnis ntbg_ zu Fehleranzahl: 46.837920489296636\n",
      "total change count 15316\n",
      "total errors 327\n",
      "angwandte Plural Änderungen\n"
     ]
    }
   ],
   "source": [
    "# Fehlerfilter direkt in der Anwendung\n",
    "def count_filtered_errors(error_list):\n",
    "    return sum(\n",
    "        \"Außer am Satzanfang werden nur Nomen und Eigennamen großgeschrieben.\" not in e.message\n",
    "        for e in error_list\n",
    "    )\n",
    "\n",
    "df[\"ntbg_count\"] = df[\"pipeline_result\"].apply(\n",
    "    lambda results: sum(entry.get(\"shouldBeGendered\", False) and len(entry.get(\"possibleCorrections\")) > 0 for entry in results)\n",
    ")\n",
    "\n",
    "df[\"error_count\"] = df[\"new_language_errors\"].apply(count_filtered_errors)\n",
    "\n",
    "df[\"ntbg_to_error_ratio\"] = df.apply(\n",
    "    lambda row: row[\"ntbg_count\"] / row[\"error_count\"] if row[\"error_count\"] != 0 else 0,\n",
    "    axis=1\n",
    ")\n",
    "\n",
    "total_ntbg = df[\"ntbg_count\"].sum()\n",
    "total_errors = df[\"error_count\"].sum()\n",
    "overall_ratio = total_ntbg / total_errors if total_errors != 0 else 0\n",
    "\n",
    "print(\"Aggregiertes Verhältnis ntbg_ zu Fehleranzahl:\", overall_ratio)\n",
    "print(\"total change count\", total_ntbg)\n",
    "print(\"total errors\", total_errors)\n",
    "print(\"angwandte Plural Änderungen\", )"
   ]
  },
  {
   "cell_type": "code",
   "execution_count": 304,
   "id": "c45f84e2-0405-4e13-9a2a-dc90c30c7e26",
   "metadata": {},
   "outputs": [
    {
     "data": {
      "text/plain": [
       "0"
      ]
     },
     "execution_count": 304,
     "metadata": {},
     "output_type": "execute_result"
    }
   ],
   "source": [
    "plural_count"
   ]
  },
  {
   "cell_type": "markdown",
   "id": "e8fe6d0a-3fa7-4506-9f26-3c48a2ec7072",
   "metadata": {},
   "source": [
    "## Korrelationen mit Strukturbeschreibenden Metriken\n"
   ]
  },
  {
   "cell_type": "code",
   "execution_count": 305,
   "id": "0d1bb5b8-5759-4577-897f-ccaf7d379324",
   "metadata": {},
   "outputs": [],
   "source": [
    "def compute_metrics_from_counts(counts):\n",
    "    TP = counts.get('ntbg_correct', 0)\n",
    "    FN = counts.get('ntbg_incorrect', 0)\n",
    "    FP = counts.get('not_ntbg_incorrect', 0)\n",
    "    TN = counts.get('not_ntbg_correct', 0)\n",
    "    \n",
    "    precision = TP / (TP + FP) if (TP + FP) > 0 else 0\n",
    "    recall    = TP / (TP + FN) if (TP + FN) > 0 else 0\n",
    "    f1        = 2 * precision * recall / (precision + recall) if (precision + recall) > 0 else 0\n",
    "    accuracy  = (TP + TN) / (TP + TN + FP + FN) if (TP + TN + FP + FN) > 0 else 0\n",
    "\n",
    "    return {\n",
    "        'precision': precision,\n",
    "        'recall': recall,\n",
    "        'f1_score': f1,\n",
    "        'accuracy': accuracy\n",
    "    }\n",
    "\n",
    "df['metrics']= df['result_counts'].apply(compute_metrics_from_counts)\n",
    "\n"
   ]
  },
  {
   "cell_type": "code",
   "execution_count": 306,
   "id": "08507577-a93f-43ec-9b20-bde455e758e1",
   "metadata": {},
   "outputs": [],
   "source": [
    "df[\"dd_mean\"] = df[\"dependency_distance\"].apply(lambda x: x.get(\"dependency_distance_mean\", None))\n",
    "df['precision'] = df['metrics'].apply(lambda x: x['precision'])\n",
    "df['recall'] = df['metrics'].apply(lambda x: x['recall'])\n",
    "df['f1_score'] = df['metrics'].apply(lambda x: x['f1_score'])\n",
    "df['accuracy'] = df['metrics'].apply(lambda x: x['accuracy'])"
   ]
  },
  {
   "cell_type": "code",
   "execution_count": 307,
   "id": "f406c24a-96a8-4881-974e-bf7d9b3e863c",
   "metadata": {},
   "outputs": [],
   "source": [
    "corr = df[[\"dd_mean\", \"precision\", \"recall\", \"f1_score\", \"accuracy\"]].corr(method= \"pearson\")\n"
   ]
  },
  {
   "cell_type": "code",
   "execution_count": 308,
   "id": "ef979f7a-9970-4d03-9473-e1292574a0de",
   "metadata": {},
   "outputs": [
    {
     "data": {
      "image/png": "[encoded data removed]",
      "text/plain": [
       "<Figure size 640x480 with 2 Axes>"
      ]
     },
     "metadata": {},
     "output_type": "display_data"
    }
   ],
   "source": [
    "# Korrelation berechnen\n",
    "correlations = df[['dd_mean', 'precision', 'recall', 'f1_score', 'accuracy']].corr(method= \"pearson\")\n",
    "\n",
    "# Heatmap zur Darstellung\n",
    "sns.heatmap(correlations, annot=True, cmap='coolwarm')\n",
    "plt.title('Korrelation zwischen Dependency Distance und Metriken')\n",
    "plt.show()\n"
   ]
  },
  {
   "cell_type": "code",
   "execution_count": 309,
   "id": "fb3f1534-98b7-4c6e-b886-96dd97f2ed85",
   "metadata": {
    "scrolled": true
   },
   "outputs": [
    {
     "data": {
      "image/png": "[encoded data removed]",
      "text/plain": [
       "<Figure size 640x480 with 1 Axes>"
      ]
     },
     "metadata": {},
     "output_type": "display_data"
    },
    {
     "data": {
      "image/png": "[encoded data removed]",
      "text/plain": [
       "<Figure size 640x480 with 1 Axes>"
      ]
     },
     "metadata": {},
     "output_type": "display_data"
    },
    {
     "data": {
      "image/png": "[encoded data removed]",
      "text/plain": [
       "<Figure size 640x480 with 1 Axes>"
      ]
     },
     "metadata": {},
     "output_type": "display_data"
    },
    {
     "data": {
      "image/png": "[encoded data removed]",
      "text/plain": [
       "<Figure size 640x480 with 1 Axes>"
      ]
     },
     "metadata": {},
     "output_type": "display_data"
    }
   ],
   "source": [
    "metrics = [\"precision\", \"recall\", \"f1_score\", \"accuracy\"]\n",
    "\n",
    "for metric in metrics:\n",
    "    sns.regplot(data=df, x='dd_mean', y=metric)\n",
    "    plt.title(f\"{metric.capitalize()} in Abhängigkeit der Dependency Distance\")\n",
    "    plt.xlabel(\"Dependency Distance (Mean)\")\n",
    "    plt.ylabel(metric.capitalize())\n",
    "    plt.savefig(f\"dependency_vs_{metric}.png\", dpi=300)\n",
    "    plt.show()\n",
    "    plt.close()\n"
   ]
  },
  {
   "cell_type": "markdown",
   "id": "09af78a9-bf2c-4fe9-8925-1acf53346eac",
   "metadata": {},
   "source": [
    "## Manuelle Evaluation\n",
    "einzelne Fehlerfälle werden im Folgenden genauer analysiert um Verbesserungsansät\n",
    "ze zu entwickeln. Auffällig war die Hohe Zahl der Error messages in generate_possible_corrections sowie bei change Word form. Zunächst mal eine Überprüfung von Wörtern mit Bindestrich."
   ]
  },
  {
   "cell_type": "markdown",
   "id": "06c6e059-0042-49bf-8728-dcc05c5531c9",
   "metadata": {},
   "source": [
    "Es sieht also nach Fehlern in der Vorschlagsgenerierung aus, zum einen mit zusammengesetzten Wörtern (Bergbauern, Taxifahrer, Flugbegleiter) zum Anderen Bei Wörtern mit Bindestrich (Duty-Free-Freunde, Duty-Free-Lobbyisten). "
   ]
  },
  {
   "cell_type": "code",
   "execution_count": 310,
   "id": "2e29b2ca-697e-45bb-ad74-a4f69c24a28a",
   "metadata": {
    "scrolled": true
   },
   "outputs": [
    {
     "name": "stdout",
     "output_type": "stream",
     "text": [
      "['-senatoren', '1600-Tonnen-Segler', '2-Anwender', '500-Dollar-Rechner', 'AA-Chef', 'AEG-Betriebsrat', 'AEG-Betriebsräte', 'Air-France-Chef', 'Amtskirchen-Kritiker', 'Anlagenbauer', 'Anleger', 'Anti-AKW-Aktivisten', 'Anwohner', 'Arbeitnehmer', 'Arzneimittelwächter', 'Asylbewerber', 'Atomkraftgegner', 'Atomtestgegner', 'Atomtestgegnern', 'Aufenthalte', 'Aufenthalten', 'Aufsichtsrat', 'Aufsichtsrates', 'Aufsichtsräte', 'Aufsichtsräten', 'Ausrichter', 'Auszubildende', 'Autofahrer', 'Autokunden', 'BA-Vertreter', 'BKA-Ermittler', 'BKA-Ermittlern', 'BMW-Kunde', 'BUND-Umweltschützer', 'Bafög-Empfängern', 'Beamtenbund-Chef', 'Beaujolais-Winzer', 'Beaujolais-Winzern', 'Belgier', 'Berater', 'Bergbauern', 'Berufskraftfahrer', 'Besitzer', 'Beste', 'Bettelmusikanten', 'Bisamjäger', 'Blumenheiligen', 'Boge-Aktionäre', 'Bonivard-Pilger', 'Briefbeförderer', 'Brummi-Fahrer', 'Bundesgenossen', 'Bundesrat', 'Bundesrates', 'Bundestagsabgeordnete', 'Bären', 'Bündnispartner', 'Büromöbel-Hersteller', 'Büstenhalter', 'CDU-Finanzexperte', 'CDU-Parlamentarier', 'CDU-Vorsitzende', 'CDU-Wähler', 'Chopperfahrer', 'Computerprogrammherstellers', 'Consors-Kunde', 'D2-Abonnenten', 'DB-Chef', 'DDR-Experten', 'DDR-Pädagogen', 'DF-1-Abonnenten', 'DGB-Arbeitnehmer', 'Datenfunkempfänger', 'Deutsche-Bank-Chef', 'Dienstleister', 'Duty-Free-Freunde', 'Duty-Free-Lobbyisten', 'E-Mail-Partnern', 'EC-Karten-Besitzer', 'EDV-Anwender', 'EKD-Rat', 'EU-Ausländer', 'EU-Experte', 'EU-Gegner', 'EU-Kollegen', 'EU-Partner', 'EU-Partnern', 'EU-Politikern', 'EU-Sprecher', 'EU-Vertreter', 'EU-Vorsitzender', 'EWI-Handwerker', 'EWI-Rat', 'Einbrecher', 'Einkäufer', 'Einlagenfabrikanten', 'Einwohner', 'Einzelinvestor', 'Eisbären', 'Elfenbeinschmuggler', 'Erbringer', 'Erdgaskunden', 'Erfrischungsgetränkeherstellern', 'Erwerbe', 'Erwerben', 'Ex-Beamten', 'Ex-Chef', 'Ex-Diktator', 'Ex-GSG-9-Beamter', 'Ex-Journalist', 'Ex-Jugoslawen', 'Ex-Kollege', 'Ex-Kollegen', 'Ex-Kommunist', 'Ex-Kommunisten', 'Ex-Minister', 'Ex-Parlamentarier', 'Ex-Pfarrer', 'Ex-Professoren', 'Ex-Präsident', 'Ex-Präsidenten', 'Ex-Richter', 'Ex-Terroristen', 'FDP-Strategen', 'FN-Gegnern', 'FN-Vorsitzende', 'FR-Kritiker', 'Fachhochschulprofessors', 'Faktor', 'Fernschreiber', 'Fernsehredakteuren', 'Fernsehreporter', 'Fernsehräten', 'Festspielintendant', 'Finanzfachmann', 'Fischer-Kunden', 'Flugbegleiter', 'Flugzeugbauer', 'Flüchtlingsschleuser', 'Fokker-Aktionären', 'Forza-Italia-Politiker', 'Franken', 'Freiherr', 'Freischärler', 'Fremde', 'Fremdkunden', 'Führer', 'Fürsten', 'G-7-Chefs', 'GSG-9-Beamten', 'Gefreiten', 'Gehalte', 'Generator', 'Generatoren', 'Generikahersteller', 'Geostrategen', 'Gerichtsmediziner', 'Gerichtsreporters', 'Gesangsmime', 'Geschäftskunden', 'Getränkedosenhersteller', 'Gewerkschafter', 'Gladiatoren', 'Grenzbeamter', 'Großkunden', 'Halbleiter', 'Hansa-Sparer', 'Hauptkunden', 'Hauptrivalen', 'Hauptstädter', 'Haupttäter', 'Heiligen', 'Helfer', 'High-Tech-Experten', 'Hochzeitsgäste', 'Hongkong-Chinesen', 'Hotelangestellter', 'Hüter', 'IBM-Forscher', 'IG-Metall-Bevollmächtigte', 'IWF-Experten', 'Ifo-Forscher', 'Inhaber', 'Inhalte', 'Inhalten', 'Innovationsrat', 'Ismaili-Moslems', 'Judenhasser', 'KP-Chef', 'KP-Funktionäre', 'KP-Funktionären', 'KP-Führer', 'Kanadier', 'Kandidaten', 'Kantonstierarzt', 'Karossenbauer', 'Kasko-Kunden', 'Katalysator', 'Kaufinteressent', 'Kaufinteressenten', 'KdF-Urlauber', 'Kirchenrat', 'Klavierenthusiasten', 'Kleinstunternehmer', 'Klerus', 'Klimaschutzbeauftragter', 'Klinsmann-Arbeitgebers', 'Knabberartikelhersteller', 'Kommunalrates', 'Komplettanbieter', 'Kompromiß-Gegner', 'Konferenzvorsitzender', 'Konsortialführer', 'Konsumgüterfabrikanten', 'Koordinatoren', 'Kopfschlenker', 'Kreditgenossen', 'Kreuzfahrt-Veranstalter', 'Kriegsdienstgegner', 'Kunsthandwerker', 'Kurpfälzer', 'Käufer', 'Küstensegler', 'LKA-Fahnder', 'LTTE-Führers', 'Landschaftsschützer', 'Langsamfahrer', 'Law-and-Order-Fans', 'Lebensmittelwächter', 'Liga-Fachmann', 'Lufthansa-Stratege', 'MG-Sprecher', 'Manager', 'McKinsey-Forscher', 'Mendez-Fans', 'Mieter', 'Mifa-Arbeitnehmer', 'Minister', 'Mitarbeiter', 'Mitentwickler', 'Moderator', 'Monitor', 'Monitoren', 'Moslem-Extremisten', 'Multiplikatoren', 'Muntermacher', 'Musical-Fans', 'Musicalförderer', 'Mörder', 'NRW-Parlamentarier', 'NS-Jurist', 'NS-Juristen', 'NS-Richter', 'NS-Richtern', 'NS-Täter', 'Nachfolger', 'Nachfolgetäter', 'Nebenerwerbsbauern', 'Neckermann-Gästen', 'Neonazi-Führer', 'Neu-Verleger', 'Neurobiologe', 'Nicht-EU-Ausländer', 'Niedersachse', 'Niedersachsen', 'Nordchinesen', 'Notenbank-Experten', 'Notenbanker', 'OAU-Beobachter', 'OSZE-Beobachtern', 'Oberfranke', 'Oberschlesier', 'Oberstratege', 'Ogoni-Führer', 'Ogoni-Führern', 'Orientierungsforscher', 'Ostasiaten', 'PC-Besitzer', 'PC-Hersteller', 'PDS-Wähler', 'PR-Spezialisten', 'Paradesoldaten', 'Parteivorsitzenden', 'Partner', 'Pasdaran-Sittenwächter', 'Patriarch', 'PepsiCo-Aktionäre', 'Pepsico-Aktionäre', 'Personalräte', 'Polen', 'Portweinhersteller', 'Privatanleger', 'Privatanlegern', 'Präsident', 'Präzeptor', 'Putschisten', 'Raumfahrer', 'Reaktor', 'Reaktoren', 'Regierungsrat', 'Regierungsrates', 'Reisepaketanbieter', 'Restaurantfachmann', 'Revolutionsgardisten', 'Rikschadiebe', 'Rikschafahrer', 'Rikschafahrers', 'Risikokapital-Anleger', 'Robinson-Kunden', 'Rucksack-Touristen', 'Rundfunkrat', 'SLD-Führer', 'SPD-Wähler', 'SS-Sanitäter', 'Sachverständigenrat', 'Sachverständigenrates', 'Schaumweinhersteller', 'Schiffbauer', 'Schleuser', 'Schnellschwebers', 'Schuldige', 'Schuldigen', 'Schuldner', 'Schulräte', 'Schüler', 'Science-fiction-Romanen', 'Scotland-Yard-Sprecher', 'Sektor', 'Sektoren', 'Selbstverwaltungsrates', 'Siemens-Chef', 'Ski-Touristen', 'Slow-Food-Reiseführer', 'Soldaten', 'Sommerurlauber', 'Sondergouverneur', 'Sozialhilfempfänger', 'Spitzengenosse', 'Spitzengenossen', 'Spitzenreiter', 'Stabilitätsrat', 'Storebrand-Aktionäre', 'Streitschlichter', 'Student', 'Studentenrat', 'Südostasiaten', 'T-Aktionäre', 'TUI-Kunden', 'TV-Anbietern', 'TV-Autor', 'TV-Produzenten', 'TV-Redakteure', 'Taxifahrer', 'Techniker', 'Telefonfabrikant', 'Telekom-Kunden', 'Tour-Vers-Chef', 'Tourismuswerber', 'Traktor', 'Truthahn', 'Truthähne', 'Tupac-Amaru-Rebellen', 'Täter', 'U-Bahn-Arbeiter', 'UN-Beauftragte', 'UN-Beobachtern', 'UN-Botschafter', 'UN-Chef', 'UN-Chefs', 'UN-Flüchtlingskommissars', 'UN-Generalsekretär', 'UN-Inspektoren', 'UN-Rat', 'UN-Soldaten', 'UN-Sprecher', 'UN-Vertreter', 'UN-Vertretern', 'UN-Vertreters', 'US-Beamte', 'US-Beamten', 'US-Botschafter', 'US-Bürger', 'US-Drogenfahnder', 'US-Experte', 'US-Experten', 'US-Extremisten', 'US-Investoren', 'US-Kollegen', 'US-Künstler', 'US-Minister', 'US-Patienten', 'US-Politiker', 'US-Regisseure', 'US-Richter', 'US-Riese', 'US-Senatoren', 'US-Spione', 'US-Sprecher', 'US-Wissenschaftler', 'US-Zulieferer', 'Umweltschützer', 'Unabhängigkeitskämpfer', 'Unterhaltungselektronikhersteller', 'Urlauber', 'VK-Vorsitzende', 'VW-Sprecher', 'Veba-Immobilien-Vorstandschef', 'Velo-Urlauber', 'Veranstalter', 'Veranstalters', 'Verfassungsrat', 'Verrat', 'Verräter', 'Versicherungsfachmann', 'Verwaltungsangestellten', 'Volkshochschuldozenten', 'Vorbehalten', 'Vorstandsvorsitzenden', 'Waffenhändler', 'Weltökonom', 'Wettwerber', 'Wintersportmacher', 'Wirtschaftsfachmann', 'Wissenschaftsrat', 'Wissenschaftsrates', 'Wochenendausflügler', 'Zapfhähnen', 'Zellengenossen', 'Zentralbanker', 'Zentralrat', 'Zeuge', 'Zuckerfabrikanten', 'Zustrom', 'airtours-Kunden', 'apo-E-4-Träger', 'dessen', 'dieser', 'er', 'ihm', 'ihn', 'Ältestenrat', 'Öl-Magnaten', 'Übersetzer']\n"
     ]
    }
   ],
   "source": [
    "# Nur die Wörter extrahieren, ohne Position oder Text\n",
    "words_with_issues = list({\n",
    "    entry[\"word\"]\n",
    "    for _, row in df.iterrows()\n",
    "    for entry in (row[\"pipeline_result\"] if isinstance(row[\"pipeline_result\"], list) else [])\n",
    "    if entry.get(\"shouldBeGendered\", False) and not entry.get(\"possibleCorrections\")\n",
    "})\n",
    "print(sorted(words_with_issues))\n",
    "\n"
   ]
  },
  {
   "cell_type": "code",
   "execution_count": 311,
   "id": "336b7287-32e2-4529-a42f-100e5c888f61",
   "metadata": {},
   "outputs": [
    {
     "name": "stdout",
     "output_type": "stream",
     "text": [
      "25 2\n"
     ]
    }
   ],
   "source": [
    "\n",
    "# Zähle für ein bestimmtes Wort (\"Anleger\") wie oft es mit und ohne Korrekturvorschläge vorkam\n",
    "zielwort = \"Anleger\"\n",
    "\n",
    "mit_korrektur = 0\n",
    "ohne_korrektur = 0\n",
    "\n",
    "for _, row in df.iterrows():\n",
    "    result_list = row[\"pipeline_result\"]\n",
    "    if isinstance(result_list, list):\n",
    "        for entry in result_list:\n",
    "            if (entry.get(\"word\") == zielwort and entry.get(\"shouldBeGendered\", False)):\n",
    "                if entry.get(\"possibleCorrections\"):\n",
    "                    mit_korrektur += 1\n",
    "                else:\n",
    "                    ohne_korrektur += 1\n",
    "print(mit_korrektur, ohne_korrektur)"
   ]
  },
  {
   "cell_type": "markdown",
   "id": "bd979bd3-48f6-4108-bdc4-d0104433f0da",
   "metadata": {},
   "source": [
    "Machen weitere Stoppworte Sinn? Andere kollektive Ausdrückeprüfen "
   ]
  },
  {
   "cell_type": "code",
   "execution_count": 312,
   "id": "8581128d-6cb6-43c8-a156-737d9f0043f7",
   "metadata": {},
   "outputs": [
    {
     "name": "stdout",
     "output_type": "stream",
     "text": [
      "etwas []\n",
      "nichts []\n",
      "mehr []\n",
      "viele [822]\n",
      "wenige []\n",
      "mehrere []\n",
      "irgendwer []\n",
      "irgendjemand [1529]\n",
      "alle []\n",
      "einer [2, 23, 140, 163, 222, 282, 311, 326, 329, 370, 389, 391, 442, 446, 492, 493, 544, 575, 614, 617, 709, 747, 781, 811, 821, 836, 845, 849, 856, 861, 898, 909, 940, 979, 1033, 1123, 1134, 1165, 1170, 1181, 1195, 1316, 1346, 1395, 1400, 1407, 1467, 1477, 1485, 1495, 1497, 1586, 1602, 1616, 1645, 1685, 1703, 1773, 1844, 1917, 1934, 2037, 2047, 2055, 2070, 2096, 2099, 2103, 2165, 2170, 2176, 2188, 2202, 2208, 2217, 2239, 2259]\n",
      "keiner [32, 88, 295, 346, 413, 428, 461, 491, 529, 567, 607, 630, 753, 781, 822, 852, 862, 897, 1048, 1131, 1183, 1528, 1602, 1741, 1744, 1750, 1940, 2002, 2103, 2104, 2187]\n",
      "keine []\n",
      "nichts []\n",
      "irgendwas []\n",
      "irgendwen []\n",
      "irgendwem [1706]\n",
      "niemandem []\n",
      "jemandes []\n"
     ]
    }
   ],
   "source": [
    "for word in [  \"etwas\", \"nichts\",\n",
    "    \"mehr\", \"viele\", \"wenige\", \"mehrere\",\n",
    "     \"irgendwer\", \"irgendjemand\", \"alle\", \"einer\",\n",
    "    \"keiner\", \"keine\", \"nichts\",\n",
    "    \"irgendwas\", \"irgendwen\", \"irgendwem\", \"niemandem\", \"jemandes\"]:\n",
    "    liste = df.index[df['pipeline_result'].apply(\n",
    "        lambda result: any(\n",
    "            entry.get(\"word\") == word and entry.get(\"shouldBeGendered\", False)\n",
    "            for entry in (result if isinstance(result, list) else [])\n",
    "        )\n",
    "    )].tolist()\n",
    "    print(word, liste)\n",
    "    "
   ]
  },
  {
   "cell_type": "code",
   "execution_count": 313,
   "id": "2fbf0d6c-b13a-4bbb-8d66-a969680a1ecd",
   "metadata": {},
   "outputs": [
    {
     "data": {
      "text/html": [
       "<div>\n",
       "<style scoped>\n",
       "    .dataframe tbody tr th:only-of-type {\n",
       "        vertical-align: middle;\n",
       "    }\n",
       "\n",
       "    .dataframe tbody tr th {\n",
       "        vertical-align: top;\n",
       "    }\n",
       "\n",
       "    .dataframe thead th {\n",
       "        text-align: right;\n",
       "    }\n",
       "</style>\n",
       "<table border=\"1\" class=\"dataframe\">\n",
       "  <thead>\n",
       "    <tr style=\"text-align: right;\">\n",
       "      <th></th>\n",
       "      <th>ArtikelId</th>\n",
       "      <th>Text</th>\n",
       "      <th>Text_unmarked</th>\n",
       "      <th>Sentences_marked</th>\n",
       "      <th>Sentences_unmarked</th>\n",
       "      <th>dependency_distance</th>\n",
       "      <th>marked_word_information</th>\n",
       "      <th>spacified_article</th>\n",
       "      <th>pipeline_result</th>\n",
       "      <th>result_counts</th>\n",
       "      <th>new_language_errors</th>\n",
       "      <th>ntbg_count</th>\n",
       "      <th>error_count</th>\n",
       "      <th>ntbg_to_error_ratio</th>\n",
       "      <th>metrics</th>\n",
       "      <th>dd_mean</th>\n",
       "      <th>precision</th>\n",
       "      <th>recall</th>\n",
       "      <th>f1_score</th>\n",
       "      <th>accuracy</th>\n",
       "    </tr>\n",
       "  </thead>\n",
       "  <tbody>\n",
       "    <tr>\n",
       "      <th>0</th>\n",
       "      <td>ArtikelId: 0001_0001</td>\n",
       "      <td>\"Ross Perot wäre vielleicht ein prächtiger \\--...</td>\n",
       "      <td>\"Ross Perot wäre vielleicht ein prächtiger Dik...</td>\n",
       "      <td>[\"Ross Perot wäre vielleicht ein prächtiger \\-...</td>\n",
       "      <td>[\"Ross Perot wäre vielleicht ein prächtiger Di...</td>\n",
       "      <td>{'dependency_distance_mean': 2.858281125203935...</td>\n",
       "      <td>[{'word': 'Diktator', 'from': 43, 'to': 51, 'n...</td>\n",
       "      <td>(\", Ross, Perot, wäre, vielleicht, ein, prächt...</td>\n",
       "      <td>[{'word': 'Diktator', 'from': 43, 'to': 51, 'p...</td>\n",
       "      <td>{'marks': 108, 'correct': 79, 'not_ntbg': 95, ...</td>\n",
       "      <td>[Offset 1931, length 4, Rule ID: DE_CASE\\nMess...</td>\n",
       "      <td>40</td>\n",
       "      <td>1</td>\n",
       "      <td>40.0</td>\n",
       "      <td>{'precision': 0.3, 'recall': 0.923076923076923...</td>\n",
       "      <td>2.858281</td>\n",
       "      <td>0.300000</td>\n",
       "      <td>0.923077</td>\n",
       "      <td>0.452830</td>\n",
       "      <td>0.731481</td>\n",
       "    </tr>\n",
       "    <tr>\n",
       "      <th>1</th>\n",
       "      <td>ArtikelId: 0001_0002</td>\n",
       "      <td>IBM und Siemens gelten nicht mehr als Schimpfw...</td>\n",
       "      <td>IBM und Siemens gelten nicht mehr als Schimpfw...</td>\n",
       "      <td>[IBM und Siemens gelten nicht mehr als Schimpf...</td>\n",
       "      <td>[IBM und Siemens gelten nicht mehr als Schimpf...</td>\n",
       "      <td>{'dependency_distance_mean': 2.861873114849146...</td>\n",
       "      <td>[{'word': 'Investoren', 'from': 64, 'to': 74, ...</td>\n",
       "      <td>(IBM, und, Siemens, gelten, nicht, mehr, als, ...</td>\n",
       "      <td>[{'word': 'Investoren', 'from': 64, 'to': 74, ...</td>\n",
       "      <td>{'marks': 83, 'correct': 75, 'ntbg': 8, 'ntbg_...</td>\n",
       "      <td>[]</td>\n",
       "      <td>14</td>\n",
       "      <td>0</td>\n",
       "      <td>0.0</td>\n",
       "      <td>{'precision': 0.5, 'recall': 0.875, 'f1_score'...</td>\n",
       "      <td>2.861873</td>\n",
       "      <td>0.500000</td>\n",
       "      <td>0.875000</td>\n",
       "      <td>0.636364</td>\n",
       "      <td>0.903614</td>\n",
       "    </tr>\n",
       "    <tr>\n",
       "      <th>2</th>\n",
       "      <td>ArtikelId: 0001_0003</td>\n",
       "      <td>Wechselspiel von Dramatisierung und Ignoranz\\n...</td>\n",
       "      <td>Wechselspiel von Dramatisierung und Ignoranz\\n...</td>\n",
       "      <td>[Wechselspiel von Dramatisierung und Ignoranz,...</td>\n",
       "      <td>[Wechselspiel von Dramatisierung und Ignoranz,...</td>\n",
       "      <td>{'dependency_distance_mean': 3.165174122545213...</td>\n",
       "      <td>[{'word': 'Politologe', 'from': 49, 'to': 59, ...</td>\n",
       "      <td>(Wechselspiel, von, Dramatisierung, und, Ignor...</td>\n",
       "      <td>[{'word': 'Politologe', 'from': 49, 'to': 59, ...</td>\n",
       "      <td>{'marks': 155, 'correct': 139, 'not_ntbg': 137...</td>\n",
       "      <td>[]</td>\n",
       "      <td>11</td>\n",
       "      <td>0</td>\n",
       "      <td>0.0</td>\n",
       "      <td>{'precision': 0.5833333333333334, 'recall': 0....</td>\n",
       "      <td>3.165174</td>\n",
       "      <td>0.583333</td>\n",
       "      <td>0.388889</td>\n",
       "      <td>0.466667</td>\n",
       "      <td>0.896774</td>\n",
       "    </tr>\n",
       "    <tr>\n",
       "      <th>3</th>\n",
       "      <td>ArtikelId: 0001_0004</td>\n",
       "      <td>Im \\--Blickpunkt--:\\nErmittlungen gegen \\--Aut...</td>\n",
       "      <td>Im Blickpunkt:\\nErmittlungen gegen Autonome\\nS...</td>\n",
       "      <td>[Im \\--Blickpunkt--:, Ermittlungen gegen \\--Au...</td>\n",
       "      <td>[Im Blickpunkt:, Ermittlungen gegen Autonome, ...</td>\n",
       "      <td>{'dependency_distance_mean': 3.263254197975927...</td>\n",
       "      <td>[{'word': 'Blickpunkt', 'from': 3, 'to': 13, '...</td>\n",
       "      <td>(Im, Blickpunkt, :, \\n, Ermittlungen, gegen, A...</td>\n",
       "      <td>[{'word': 'Blickpunkt', 'from': 3, 'to': 13, '...</td>\n",
       "      <td>{'marks': 56, 'correct': 50, 'not_ntbg': 47, '...</td>\n",
       "      <td>[Offset 985, length 4, Rule ID: DE_CASE\\nMessa...</td>\n",
       "      <td>12</td>\n",
       "      <td>0</td>\n",
       "      <td>0.0</td>\n",
       "      <td>{'precision': 0.6153846153846154, 'recall': 0....</td>\n",
       "      <td>3.263254</td>\n",
       "      <td>0.615385</td>\n",
       "      <td>0.888889</td>\n",
       "      <td>0.727273</td>\n",
       "      <td>0.892857</td>\n",
       "    </tr>\n",
       "    <tr>\n",
       "      <th>4</th>\n",
       "      <td>ArtikelId: 0001_0005</td>\n",
       "      <td>Für ehrliche !--Kunden-- ist es ein \\--Schock-...</td>\n",
       "      <td>Für ehrliche Kunden ist es ein Schock\\nZahl de...</td>\n",
       "      <td>[Für ehrliche !--Kunden-- ist es ein \\--Schock...</td>\n",
       "      <td>[Für ehrliche Kunden ist es ein Schock, Zahl d...</td>\n",
       "      <td>{'dependency_distance_mean': 2.742601663046218...</td>\n",
       "      <td>[{'word': 'Kunden', 'from': 13, 'to': 19, 'ntb...</td>\n",
       "      <td>(Für, ehrliche, Kunden, ist, es, ein, Schock, ...</td>\n",
       "      <td>[{'word': 'Kunden', 'from': 13, 'to': 19, 'pos...</td>\n",
       "      <td>{'marks': 78, 'correct': 76, 'ntbg': 12, 'ntbg...</td>\n",
       "      <td>[]</td>\n",
       "      <td>12</td>\n",
       "      <td>0</td>\n",
       "      <td>0.0</td>\n",
       "      <td>{'precision': 0.9166666666666666, 'recall': 0....</td>\n",
       "      <td>2.742602</td>\n",
       "      <td>0.916667</td>\n",
       "      <td>0.916667</td>\n",
       "      <td>0.916667</td>\n",
       "      <td>0.974359</td>\n",
       "    </tr>\n",
       "  </tbody>\n",
       "</table>\n",
       "</div>"
      ],
      "text/plain": [
       "              ArtikelId                                               Text  \\\n",
       "0  ArtikelId: 0001_0001  \"Ross Perot wäre vielleicht ein prächtiger \\--...   \n",
       "1  ArtikelId: 0001_0002  IBM und Siemens gelten nicht mehr als Schimpfw...   \n",
       "2  ArtikelId: 0001_0003  Wechselspiel von Dramatisierung und Ignoranz\\n...   \n",
       "3  ArtikelId: 0001_0004  Im \\--Blickpunkt--:\\nErmittlungen gegen \\--Aut...   \n",
       "4  ArtikelId: 0001_0005  Für ehrliche !--Kunden-- ist es ein \\--Schock-...   \n",
       "\n",
       "                                       Text_unmarked  \\\n",
       "0  \"Ross Perot wäre vielleicht ein prächtiger Dik...   \n",
       "1  IBM und Siemens gelten nicht mehr als Schimpfw...   \n",
       "2  Wechselspiel von Dramatisierung und Ignoranz\\n...   \n",
       "3  Im Blickpunkt:\\nErmittlungen gegen Autonome\\nS...   \n",
       "4  Für ehrliche Kunden ist es ein Schock\\nZahl de...   \n",
       "\n",
       "                                    Sentences_marked  \\\n",
       "0  [\"Ross Perot wäre vielleicht ein prächtiger \\-...   \n",
       "1  [IBM und Siemens gelten nicht mehr als Schimpf...   \n",
       "2  [Wechselspiel von Dramatisierung und Ignoranz,...   \n",
       "3  [Im \\--Blickpunkt--:, Ermittlungen gegen \\--Au...   \n",
       "4  [Für ehrliche !--Kunden-- ist es ein \\--Schock...   \n",
       "\n",
       "                                  Sentences_unmarked  \\\n",
       "0  [\"Ross Perot wäre vielleicht ein prächtiger Di...   \n",
       "1  [IBM und Siemens gelten nicht mehr als Schimpf...   \n",
       "2  [Wechselspiel von Dramatisierung und Ignoranz,...   \n",
       "3  [Im Blickpunkt:, Ermittlungen gegen Autonome, ...   \n",
       "4  [Für ehrliche Kunden ist es ein Schock, Zahl d...   \n",
       "\n",
       "                                 dependency_distance  \\\n",
       "0  {'dependency_distance_mean': 2.858281125203935...   \n",
       "1  {'dependency_distance_mean': 2.861873114849146...   \n",
       "2  {'dependency_distance_mean': 3.165174122545213...   \n",
       "3  {'dependency_distance_mean': 3.263254197975927...   \n",
       "4  {'dependency_distance_mean': 2.742601663046218...   \n",
       "\n",
       "                             marked_word_information  \\\n",
       "0  [{'word': 'Diktator', 'from': 43, 'to': 51, 'n...   \n",
       "1  [{'word': 'Investoren', 'from': 64, 'to': 74, ...   \n",
       "2  [{'word': 'Politologe', 'from': 49, 'to': 59, ...   \n",
       "3  [{'word': 'Blickpunkt', 'from': 3, 'to': 13, '...   \n",
       "4  [{'word': 'Kunden', 'from': 13, 'to': 19, 'ntb...   \n",
       "\n",
       "                                   spacified_article  \\\n",
       "0  (\", Ross, Perot, wäre, vielleicht, ein, prächt...   \n",
       "1  (IBM, und, Siemens, gelten, nicht, mehr, als, ...   \n",
       "2  (Wechselspiel, von, Dramatisierung, und, Ignor...   \n",
       "3  (Im, Blickpunkt, :, \\n, Ermittlungen, gegen, A...   \n",
       "4  (Für, ehrliche, Kunden, ist, es, ein, Schock, ...   \n",
       "\n",
       "                                     pipeline_result  \\\n",
       "0  [{'word': 'Diktator', 'from': 43, 'to': 51, 'p...   \n",
       "1  [{'word': 'Investoren', 'from': 64, 'to': 74, ...   \n",
       "2  [{'word': 'Politologe', 'from': 49, 'to': 59, ...   \n",
       "3  [{'word': 'Blickpunkt', 'from': 3, 'to': 13, '...   \n",
       "4  [{'word': 'Kunden', 'from': 13, 'to': 19, 'pos...   \n",
       "\n",
       "                                       result_counts  \\\n",
       "0  {'marks': 108, 'correct': 79, 'not_ntbg': 95, ...   \n",
       "1  {'marks': 83, 'correct': 75, 'ntbg': 8, 'ntbg_...   \n",
       "2  {'marks': 155, 'correct': 139, 'not_ntbg': 137...   \n",
       "3  {'marks': 56, 'correct': 50, 'not_ntbg': 47, '...   \n",
       "4  {'marks': 78, 'correct': 76, 'ntbg': 12, 'ntbg...   \n",
       "\n",
       "                                 new_language_errors  ntbg_count  error_count  \\\n",
       "0  [Offset 1931, length 4, Rule ID: DE_CASE\\nMess...          40            1   \n",
       "1                                                 []          14            0   \n",
       "2                                                 []          11            0   \n",
       "3  [Offset 985, length 4, Rule ID: DE_CASE\\nMessa...          12            0   \n",
       "4                                                 []          12            0   \n",
       "\n",
       "   ntbg_to_error_ratio                                            metrics  \\\n",
       "0                 40.0  {'precision': 0.3, 'recall': 0.923076923076923...   \n",
       "1                  0.0  {'precision': 0.5, 'recall': 0.875, 'f1_score'...   \n",
       "2                  0.0  {'precision': 0.5833333333333334, 'recall': 0....   \n",
       "3                  0.0  {'precision': 0.6153846153846154, 'recall': 0....   \n",
       "4                  0.0  {'precision': 0.9166666666666666, 'recall': 0....   \n",
       "\n",
       "    dd_mean  precision    recall  f1_score  accuracy  \n",
       "0  2.858281   0.300000  0.923077  0.452830  0.731481  \n",
       "1  2.861873   0.500000  0.875000  0.636364  0.903614  \n",
       "2  3.165174   0.583333  0.388889  0.466667  0.896774  \n",
       "3  3.263254   0.615385  0.888889  0.727273  0.892857  \n",
       "4  2.742602   0.916667  0.916667  0.916667  0.974359  "
      ]
     },
     "execution_count": 313,
     "metadata": {},
     "output_type": "execute_result"
    }
   ],
   "source": [
    "df.head()\n"
   ]
  },
  {
   "cell_type": "code",
   "execution_count": 314,
   "id": "b9f8854c-e5a9-4da5-a1d6-78eea0e25ebb",
   "metadata": {
    "scrolled": true
   },
   "outputs": [],
   "source": [
    "# Extrahiere \"not_ntbg_incorrect\" aus dem Dictionary in der Spalte \"result_counts\"\n",
    "df[\"not_ntbg_incorrect\"] = df[\"result_counts\"].apply(\n",
    "    lambda d: d.get(\"not_ntbg_incorrect\", 0) if isinstance(d, dict) else 0\n",
    ")\n",
    "df[\"ntbg_incorrect\"] = df[\"result_counts\"].apply(\n",
    "    lambda d: d.get(\"ntbg_incorrect\", 0) if isinstance(d, dict) else 0\n",
    ")\n",
    "\n",
    "\n",
    "\n",
    "# Sortiere den DataFrame nach dieser neuen Spalte und wähle die Top 10\n",
    "top_fp_df = df.sort_values(by=\"not_ntbg_incorrect\", ascending=False).head(10)\n",
    "top_fn_df = df.sort_values(by=\"ntbg_incorrect\", ascending=False).head(10)"
   ]
  },
  {
   "cell_type": "code",
   "execution_count": 315,
   "id": "018c7cb5-b2fb-492e-9df7-503a5219c419",
   "metadata": {
    "scrolled": true
   },
   "outputs": [],
   "source": [
    "# False Positives sind alle die im Pipeline resultat auf True gesetzt sind - alle die als True markiert wurden\n",
    "def finde_false_positives(row):\n",
    "    pipeline_wörter = {\n",
    "        (eintrag[\"word\"], eintrag['from'])\n",
    "        for eintrag in row[\"pipeline_result\"]\n",
    "        if eintrag.get(\"shouldBeGendered\") == True\n",
    "    }\n",
    "\n",
    "    marked_wörter = {\n",
    "        (eintrag[\"word\"],eintrag['from']) for eintrag in row.get(\"marked_word_information\") if eintrag.get(\"ntbg\") == True\n",
    "    }\n",
    "    \n",
    "    return list(pipeline_wörter - marked_wörter)\n",
    "\n",
    "#False Negatives sind alle die in den Markierungen auf True gesetzt wurden aber nicht im Pipeline resultat waren \n",
    "def find_false_negatives_with_explanations(marked, pipeline_result):\n",
    "    false_negatives = []\n",
    "\n",
    "    for m in marked:\n",
    "        if not m.get(\"ntbg\"):\n",
    "            continue  # nur generische Maskulina\n",
    "\n",
    "        # Suche nach passendem Eintrag in der Pipeline\n",
    "        matches = [\n",
    "            p for p in pipeline_result\n",
    "            if p.get(\"from\") == m.get(\"from\") and p.get(\"to\") == m.get(\"to\")\n",
    "        ]\n",
    "\n",
    "        if not matches:\n",
    "            # kein Treffer = komplett übersehen\n",
    "            m[\"fn_type\"] = \"nicht erkannt\"\n",
    "            false_negatives.append(m)\n",
    "        else:\n",
    "            match = matches[0]\n",
    "            if match.get(\"shouldBeGendered\") is not True:\n",
    "                # falsch als nicht generisch eingestuft\n",
    "                m[\"fn_type\"] = \"falsch klassifiziert\"\n",
    "                m[\"explanation\"] = match.get(\"reasonNotGendered\")\n",
    "                false_negatives.append(m)\n",
    "\n",
    "    return false_negatives\n",
    "\n",
    "# Neue Spalte im DataFrame erzeugen (z. B. in top_fp_df oder df)\n",
    "top_fn_df[\"false_negatives\"] = df.apply(\n",
    "    lambda row: find_false_negatives_with_explanations(row[\"marked_word_information\"], row[\"pipeline_result\"]),\n",
    "    axis=1\n",
    ")\n",
    "# Neue Spalte mit False Positives anlegen\n",
    "top_fp_df[\"false_positives\"] = top_fp_df.apply(finde_false_positives, axis=1)"
   ]
  },
  {
   "cell_type": "code",
   "execution_count": 316,
   "id": "c63d5ec8-a9a7-48c2-86f6-5ba40fdd2040",
   "metadata": {
    "scrolled": true
   },
   "outputs": [
    {
     "data": {
      "text/plain": [
       "[{'word': 'Republikaner',\n",
       "  'from': 80,\n",
       "  'to': 92,\n",
       "  'ntbg': True,\n",
       "  'fn_type': 'falsch klassifiziert',\n",
       "  'explanation': [(6, 'Keine feminine Wortform gefunden: Republikaner')]},\n",
       " {'word': 'Republikaner',\n",
       "  'from': 1532,\n",
       "  'to': 1544,\n",
       "  'ntbg': True,\n",
       "  'fn_type': 'falsch klassifiziert',\n",
       "  'explanation': [(6, 'Keine feminine Wortform gefunden: Republikaner')]},\n",
       " {'word': 'Republikaner',\n",
       "  'from': 2093,\n",
       "  'to': 2105,\n",
       "  'ntbg': True,\n",
       "  'fn_type': 'falsch klassifiziert',\n",
       "  'explanation': [(6, 'Keine feminine Wortform gefunden: Republikaner')]},\n",
       " {'word': 'Republikaner',\n",
       "  'from': 2746,\n",
       "  'to': 2758,\n",
       "  'ntbg': True,\n",
       "  'fn_type': 'falsch klassifiziert',\n",
       "  'explanation': [(6, 'Keine feminine Wortform gefunden: Republikaner')]},\n",
       " {'word': 'Republikaner',\n",
       "  'from': 3264,\n",
       "  'to': 3276,\n",
       "  'ntbg': True,\n",
       "  'fn_type': 'falsch klassifiziert',\n",
       "  'explanation': [(6, 'Keine feminine Wortform gefunden: Republikaner')]},\n",
       " {'word': 'Republikaner',\n",
       "  'from': 3439,\n",
       "  'to': 3451,\n",
       "  'ntbg': True,\n",
       "  'fn_type': 'falsch klassifiziert',\n",
       "  'explanation': [(6, 'Keine feminine Wortform gefunden: Republikaner')]},\n",
       " {'word': 'Republikaner',\n",
       "  'from': 3816,\n",
       "  'to': 3828,\n",
       "  'ntbg': True,\n",
       "  'fn_type': 'falsch klassifiziert',\n",
       "  'explanation': [(6, 'Keine feminine Wortform gefunden: Republikaner')]},\n",
       " {'word': 'Republikaner',\n",
       "  'from': 4007,\n",
       "  'to': 4019,\n",
       "  'ntbg': True,\n",
       "  'fn_type': 'falsch klassifiziert',\n",
       "  'explanation': [(6, 'Keine feminine Wortform gefunden: Republikaner')]},\n",
       " {'word': 'Republikaner',\n",
       "  'from': 4234,\n",
       "  'to': 4246,\n",
       "  'ntbg': True,\n",
       "  'fn_type': 'falsch klassifiziert',\n",
       "  'explanation': [(6, 'Keine feminine Wortform gefunden: Republikaner')]},\n",
       " {'word': 'Republikaner',\n",
       "  'from': 4611,\n",
       "  'to': 4623,\n",
       "  'ntbg': True,\n",
       "  'fn_type': 'falsch klassifiziert',\n",
       "  'explanation': [(6, 'Keine feminine Wortform gefunden: Republikaner')]},\n",
       " {'word': 'Republikaner',\n",
       "  'from': 4811,\n",
       "  'to': 4823,\n",
       "  'ntbg': True,\n",
       "  'fn_type': 'falsch klassifiziert',\n",
       "  'explanation': [(6, 'Keine feminine Wortform gefunden: Republikaner')]},\n",
       " {'word': 'Republikaner',\n",
       "  'from': 4924,\n",
       "  'to': 4936,\n",
       "  'ntbg': True,\n",
       "  'fn_type': 'falsch klassifiziert',\n",
       "  'explanation': [(6, 'Keine feminine Wortform gefunden: Republikaner')]},\n",
       " {'word': 'Republikaner',\n",
       "  'from': 5310,\n",
       "  'to': 5322,\n",
       "  'ntbg': True,\n",
       "  'fn_type': 'falsch klassifiziert',\n",
       "  'explanation': [(6, 'Keine feminine Wortform gefunden: Republikaner')]},\n",
       " {'word': 'Republikanern',\n",
       "  'from': 5519,\n",
       "  'to': 5532,\n",
       "  'ntbg': True,\n",
       "  'fn_type': 'falsch klassifiziert',\n",
       "  'explanation': [(6, 'Keine feminine Wortform gefunden: Republikanern')]},\n",
       " {'word': 'Republikaner',\n",
       "  'from': 6590,\n",
       "  'to': 6602,\n",
       "  'ntbg': True,\n",
       "  'fn_type': 'falsch klassifiziert',\n",
       "  'explanation': [(6, 'Keine feminine Wortform gefunden: Republikaner')]}]"
      ]
     },
     "execution_count": 316,
     "metadata": {},
     "output_type": "execute_result"
    }
   ],
   "source": [
    "top_fn_df[\"false_negatives\"].iloc[0] "
   ]
  },
  {
   "cell_type": "code",
   "execution_count": 317,
   "id": "75deb5a0-f976-45b2-b3cc-34c0a9db0a30",
   "metadata": {
    "scrolled": true
   },
   "outputs": [],
   "source": [
    "output_lines = []\n",
    "\n",
    "for _, row in top_fp_df.iterrows():\n",
    "    text = row.get(\"Text_unmarked\", \"\")\n",
    "    articleid = row.get(\"ArtikelId\")\n",
    "    false_positives = sorted(row.get(\"false_positives\", []), key=lambda x: x[1])  # x[1] = from\n",
    "\n",
    "    offset = 0\n",
    "    for word, start in false_positives:\n",
    "        start_adj = start + offset\n",
    "        end_adj = start_adj + len(word)\n",
    "        # Einfügen von --...--\n",
    "        text = text[:start_adj] + \"--\" + word + \"--\" + text[end_adj:]\n",
    "        offset += 4  # zwei Zeichen vorn, zwei hinten\n",
    "\n",
    "    line = f\"{articleid}:\\n{text}\\n\\nFALSE POSITIVES:\\n{[w for w, _ in false_positives]}\\n\"\n",
    "    output_lines.append(line)\n",
    "    output_lines.append(\"\\n\" + \"=\"*80 + \"\\n\")  # Trenner\n",
    "\n",
    "# Speichern als Textdatei\n",
    "output_path = \"false_positive_analysen.txt\"\n",
    "with open(output_path, \"w\", encoding=\"utf-8\") as f:\n",
    "    f.writelines(output_lines)\n",
    "    "
   ]
  },
  {
   "cell_type": "code",
   "execution_count": 320,
   "id": "0f630f97-8947-477a-a464-c80e517bed6a",
   "metadata": {},
   "outputs": [],
   "source": [
    "output_lines = []\n",
    "\n",
    "for _, row in top_fn_df.iterrows():\n",
    "    text = row.get(\"Text_unmarked\", \"\")\n",
    "    articleid = row.get(\"ArtikelId\")\n",
    "    false_positives = sorted(row.get(\"false_negatives\", []), key=lambda x: x['from'])\n",
    "    line = f\"{articleid}:\\n{text}\\n\\nFALSE Negatives:\\n{false_positives}\\n\"\n",
    "    output_lines.append(line)\n",
    "    output_lines.append(\"\\n\" + \"=\"*80 + \"\\n\")  # Trenner zwischen Artikeln\n",
    "\n",
    "# Speichern als Textdatei\n",
    "output_path = \"false_negative_analyse.txt\"\n",
    "with open(output_path, \"w\", encoding=\"utf-8\") as f:\n",
    "    f.writelines(output_lines)"
   ]
  },
  {
   "cell_type": "code",
   "execution_count": null,
   "id": "c9e6858e-97f3-466c-8e14-1ca852f450c4",
   "metadata": {},
   "outputs": [],
   "source": []
  },
  {
   "cell_type": "code",
   "execution_count": null,
   "id": "45c0d42b-35b7-47b5-9fc2-d8191420ad7e",
   "metadata": {},
   "outputs": [],
   "source": []
  }
 ],
 "metadata": {
  "kernelspec": {
   "display_name": "Python 3.10 (spacy310)",
   "language": "python",
   "name": "spacy310"
  },
  "language_info": {
   "codemirror_mode": {
    "name": "ipython",
    "version": 3
   },
   "file_extension": ".py",
   "mimetype": "text/x-python",
   "name": "python",
   "nbconvert_exporter": "python",
   "pygments_lexer": "ipython3",
   "version": "3.10.13"
  }
 },
 "nbformat": 4,
 "nbformat_minor": 5
}
